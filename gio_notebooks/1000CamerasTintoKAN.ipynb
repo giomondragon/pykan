{
 "cells": [
  {
   "cell_type": "code",
   "execution_count": 1,
   "id": "1dea99dd-13b0-4b9f-8497-4b83f72afc4a",
   "metadata": {},
   "outputs": [],
   "source": [
    "import sys\n",
    "import os\n",
    "\n",
    "# Get the root directory\n",
    "root_dir = os.path.abspath(os.path.join(os.getcwd(), '..'))\n",
    "\n",
    "# Add the root directory to the Python path\n",
    "sys.path.append(root_dir)"
   ]
  },
  {
   "cell_type": "code",
   "execution_count": 2,
   "id": "f5dcb076-7843-40fe-a0d5-850312d9f906",
   "metadata": {},
   "outputs": [],
   "source": [
    "from tqdm import tqdm\n",
    "from torch.utils.data import DataLoader, TensorDataset\n",
    "from torch.optim.lr_scheduler import OneCycleLR\n",
    "from sklearn.model_selection import train_test_split\n",
    "from sklearn.preprocessing import MinMaxScaler, StandardScaler\n",
    "from sklearn.datasets import load_diabetes\n",
    "from sklearn.model_selection import train_test_split\n",
    "from sklearn.preprocessing import StandardScaler\n",
    "from sklearn.metrics import mean_squared_error, mean_absolute_error, r2_score\n",
    "from TINTOlib.tinto import TINTO\n",
    "from vit_pytorch.vit import ViT\n",
    "from kan import *\n",
    "\n",
    "\n",
    "import time\n",
    "import gc\n",
    "import copy\n",
    "import traceback\n",
    "import torch.nn as nn\n",
    "import cv2\n",
    "import matplotlib.pyplot as plt\n",
    "import pandas as pd\n",
    "import numpy as np\n",
    "import random\n",
    "import torch.optim as optim\n",
    "import torch"
   ]
  },
  {
   "cell_type": "code",
   "execution_count": 3,
   "id": "6a604e69-efd9-4720-8de5-0da057312df3",
   "metadata": {},
   "outputs": [
    {
     "name": "stdout",
     "output_type": "stream",
     "text": [
      "cuda\n"
     ]
    }
   ],
   "source": [
    "if torch.cuda.is_available():\n",
    "  device = torch.device(\"cuda\")\n",
    "else:\n",
    "  device = torch.device(\"cpu\")\n",
    "\n",
    "print(device)"
   ]
  },
  {
   "cell_type": "code",
   "execution_count": 4,
   "id": "dd4af556-2b79-408e-b782-9f45c1860ba9",
   "metadata": {},
   "outputs": [],
   "source": [
    "SEED = 381\n",
    "# SET RANDOM SEED FOR REPRODUCIBILITY\n",
    "torch.manual_seed(SEED)\n",
    "random.seed(SEED)\n",
    "np.random.seed(SEED)"
   ]
  },
  {
   "cell_type": "code",
   "execution_count": 5,
   "id": "317dfa67-934c-48f1-a237-69f908076e12",
   "metadata": {},
   "outputs": [],
   "source": [
    "folder=\"data/1000-Cameras-Dataset\"\n",
    "x_col=[\"Release_date\", \"Max_resolution\", \"Low_resolution\", \"Effective_pixels\", \"Zoom\", \"Normal_focus_range\", \"Macro_focus_range\", \"Storage_included\",\"Weight\",\"Dimensions\"]\n",
    "target_col=[\"price\"]"
   ]
  },
  {
   "cell_type": "code",
   "execution_count": 6,
   "id": "279ac1c3-cd38-494f-8fcd-2b02e482bdbe",
   "metadata": {},
   "outputs": [],
   "source": [
    "def load_and_clean(npy_filename, y_filename, x_col, target_col):\n",
    "    \"\"\"\n",
    "    Load the feature array (npy_filename) and label array (y_filename),\n",
    "    drop rows in the feature array that contain any NaNs, and apply\n",
    "    the same mask to the label array.\n",
    "    \"\"\"\n",
    "    # Load numpy arrays\n",
    "    X = np.load(os.path.join(folder, npy_filename))\n",
    "    y = np.load(os.path.join(folder, y_filename))\n",
    "    \n",
    "    # Ensure the number of rows matches between X and y\n",
    "    if X.shape[0] != y.shape[0]:\n",
    "        raise ValueError(\"The number of rows in {} and {} do not match.\".format(npy_filename, y_filename))\n",
    "    \n",
    "    # Create a boolean mask for rows that do NOT have any NaN values in X\n",
    "    valid_rows = ~np.isnan(X).any(axis=1)\n",
    "\n",
    "    # Filter both arrays using the valid_rows mask\n",
    "    X_clean = X[valid_rows]\n",
    "    y_clean = y[valid_rows]\n",
    "    \n",
    "    # Convert arrays to DataFrames\n",
    "    df_X = pd.DataFrame(X_clean)\n",
    "    df_y = pd.DataFrame(y_clean)\n",
    "    df_X.columns = x_col\n",
    "    df_y.columns = target_col\n",
    "    return df_X, df_y\n",
    "\n",
    "X_train, y_train = load_and_clean('N_train.npy', 'y_train.npy',x_col, target_col)\n",
    "X_test, y_test   = load_and_clean('N_test.npy',  'y_test.npy', x_col, target_col)\n",
    "X_val, y_val     = load_and_clean('N_val.npy',   'y_val.npy', x_col, target_col)"
   ]
  },
  {
   "cell_type": "code",
   "execution_count": 7,
   "id": "f90af460-8f7b-4cc9-aa1c-0799bab6ede7",
   "metadata": {},
   "outputs": [],
   "source": [
    "X_train = pd.concat([X_train, y_train], axis=1)\n",
    "X_test = pd.concat([X_test, y_test], axis=1)\n",
    "X_val = pd.concat([X_val, y_val], axis=1)"
   ]
  },
  {
   "cell_type": "code",
   "execution_count": 8,
   "id": "8c0cbb5b-9cfc-4e39-bbe9-3e526ada260b",
   "metadata": {},
   "outputs": [],
   "source": [
    "def load_and_preprocess_data(X_train, X_test, X_val, images_folder, image_model, problem_type, batch_size=32, device='cuda'):\n",
    "    \"\"\"Loads, processes, and converts a dataset into PyTorch DataLoaders for a ViT + KAN model.\"\"\"\n",
    "    \n",
    "    # Reset indices\n",
    "    data_splits = {\n",
    "        \"train\": X_train.reset_index(drop=True), \n",
    "        \"val\": X_val.reset_index(drop=True), \n",
    "        \"test\": X_test.reset_index(drop=True)\n",
    "    }\n",
    "    \n",
    "    # Process images and numerical features\n",
    "    num_features, img_paths, targets = {}, {}, {}\n",
    "\n",
    "    for split, X_split in data_splits.items():\n",
    "        split_folder = f\"{images_folder}/{split}\"\n",
    "        os.makedirs(split_folder, exist_ok=True)\n",
    "\n",
    "        # Ensure images and CSV files are generated\n",
    "        image_model.fit_transform(X_split, split_folder) if split == \"train\" else image_model.transform(X_split, split_folder)\n",
    "\n",
    "        # Validate CSV file existence\n",
    "        csv_path = os.path.join(split_folder, f\"{problem_type}.csv\")\n",
    "        if not os.path.exists(csv_path):\n",
    "            print(f\"Error: Missing CSV at {csv_path}. Available files: {os.listdir(split_folder)}\")\n",
    "            raise FileNotFoundError(f\"Expected file {csv_path} not found. Ensure image_model generates it.\")\n",
    "\n",
    "        print(f\"Loading {csv_path}...\")\n",
    "        img_df = pd.read_csv(csv_path)\n",
    "        img_df[\"images\"] = split_folder + \"/\" + img_df[\"images\"]\n",
    "\n",
    "        # Combine numerical data and images\n",
    "        combined_df = pd.concat([img_df, X_split], axis=1)\n",
    "        num_features[split] = combined_df.drop(columns=[\"values\", \"images\", X_train.columns[-1]])\n",
    "        img_paths[split] = img_df[\"images\"]\n",
    "        targets[split] = combined_df[\"values\"]\n",
    "\n",
    "    # Standardize numerical data\n",
    "    scaler = StandardScaler()\n",
    "    for split in [\"train\", \"val\", \"test\"]:\n",
    "        num_features[split] = pd.DataFrame(scaler.fit_transform(num_features[split]) if split == \"train\" \n",
    "                                           else scaler.transform(num_features[split]), \n",
    "                                           columns=num_features[split].columns)\n",
    "\n",
    "    # Convert images to tensors\n",
    "    img_tensors = {split: torch.tensor(np.array([cv2.imread(img) for img in img_paths[split]]), \n",
    "                                       dtype=torch.float32, device=device).permute(0, 3, 1, 2) / 255.0\n",
    "                   for split in [\"train\", \"val\", \"test\"]}\n",
    "    \n",
    "    # Get dataset properties\n",
    "    attributes = num_features[\"train\"].shape[1]\n",
    "    channels, height, width = img_tensors[\"train\"].shape[1:]\n",
    "    imgs_shape = (channels, height, width)\n",
    "\n",
    "    print(\"Images shape:\", imgs_shape)\n",
    "    print(\"Attributes:\", attributes)\n",
    "\n",
    "    # Convert numerical data and targets to tensors\n",
    "    num_tensors = {split: torch.tensor(num_features[split].values, dtype=torch.float32, device=device)\n",
    "                   for split in [\"train\", \"val\", \"test\"]}\n",
    "    \n",
    "    target_tensors = {split: torch.tensor(targets[split].values, dtype=torch.float32, device=device).reshape(-1, 1)\n",
    "                      for split in [\"train\", \"val\", \"test\"]}\n",
    "\n",
    "    # Create DataLoaders\n",
    "    datasets = {split: TensorDataset(num_tensors[split], img_tensors[split], target_tensors[split]) \n",
    "                for split in [\"train\", \"val\", \"test\"]}\n",
    "    \n",
    "    data_loaders = {split: DataLoader(datasets[split], batch_size=batch_size, shuffle=(split == \"train\")) \n",
    "                    for split in [\"train\", \"val\", \"test\"]}\n",
    "\n",
    "    return data_loaders[\"train\"], data_loaders[\"val\"], data_loaders[\"test\"], attributes, imgs_shape\n"
   ]
  },
  {
   "cell_type": "code",
   "execution_count": 10,
   "id": "72c5d850-d142-4680-b4ce-7f3d4173cbc4",
   "metadata": {},
   "outputs": [],
   "source": [
    "from TINTOlib.tinto import TINTO\n",
    "problem_type = \"regression\"\n",
    "image_model = TINTO(problem=problem_type, blur=True, random_seed=SEED)\n",
    "images_folder = \"./HyKANImages/1000Cameras\""
   ]
  },
  {
   "cell_type": "code",
   "execution_count": 11,
   "id": "81e4d4a5-6d27-486a-adb1-040ea011edf5",
   "metadata": {},
   "outputs": [
    {
     "name": "stdout",
     "output_type": "stream",
     "text": [
      "Loading ./HyKANImages/1000Cameras/train\\regression.csv...\n",
      "Loading ./HyKANImages/1000Cameras/val\\regression.csv...\n",
      "Loading ./HyKANImages/1000Cameras/test\\regression.csv...\n",
      "Images shape: (3, 20, 20)\n",
      "Attributes: 10\n"
     ]
    }
   ],
   "source": [
    "train_loader, val_loader, test_loader, attributes, imgs_shape = load_and_preprocess_data(\n",
    "    X_train, X_test, X_val,\n",
    "    images_folder=images_folder,\n",
    "    image_model=image_model,\n",
    "    problem_type=problem_type,\n",
    "    batch_size=32\n",
    ")"
   ]
  },
  {
   "cell_type": "code",
   "execution_count": 13,
   "id": "4417027d-175b-499f-8ed5-daea843d3eb7",
   "metadata": {},
   "outputs": [],
   "source": [
    "class Model1(nn.Module):\n",
    "    def __init__(self, attributes, imgs_shape, patch_size, device):\n",
    "        super(Model1, self).__init__()\n",
    "        self.device = device\n",
    "        # ViT branch\n",
    "        self.vit = ViT(\n",
    "            image_size = imgs_shape,\n",
    "            patch_size = patch_size,\n",
    "            dim = 32,\n",
    "            depth = 2,\n",
    "            heads = 4,\n",
    "            mlp_dim = 64,\n",
    "            dropout = 0.1,\n",
    "            emb_dropout = 0.1\n",
    "        ).to(device)\n",
    "\n",
    "        self.m_kan = KAN(\n",
    "            width=[attributes, 10],\n",
    "            grid=3,\n",
    "            k=3,\n",
    "            seed=SEED,\n",
    "            device=device\n",
    "        )\n",
    "\n",
    "        self.final_kan = KAN(\n",
    "            width=[32+10, 1],\n",
    "            grid=4,\n",
    "            k=3,\n",
    "            seed=SEED,\n",
    "            device=device\n",
    "        )\n",
    "\n",
    "\n",
    "    def forward(self, mlp_input, vit_input):\n",
    "        # Ensure inputs are moved to the correct device\n",
    "        kan_input = mlp_input.to(self.device)\n",
    "        vit_input = vit_input.to(self.device)\n",
    "        \n",
    "        vit_output = self.vit(vit_input)  # Process image input\n",
    "        kan_output = self.m_kan(kan_input)  # Process numerical input\n",
    "        \n",
    "        concat_output = torch.cat((kan_output, vit_output), dim=1)\n",
    "        return self.final_kan(concat_output)"
   ]
  },
  {
   "cell_type": "code",
   "execution_count": 12,
   "id": "3b756eb7-ce9b-465e-a04a-33db3e59a65e",
   "metadata": {},
   "outputs": [],
   "source": [
    "def try_create_model(model_class, patch_size, attributes, imgs_shape, device):\n",
    "    try:\n",
    "        model = model_class(attributes, imgs_shape[1:], patch_size, device)\n",
    "        \n",
    "        # Test the model with a sample input\n",
    "        num_input = torch.randn(4, attributes)\n",
    "        img_input = torch.randn(4, *imgs_shape)\n",
    "        output = model(num_input, img_input)\n",
    "        \n",
    "        print(f\"Successfully created and tested {model_class.__name__}\")\n",
    "        \n",
    "        return model\n",
    "    except Exception as e:\n",
    "        print(f\"Error creating or testing {model_class.__name__}: {str(e)}\")\n",
    "        traceback.print_exc()\n",
    "        return None"
   ]
  },
  {
   "cell_type": "code",
   "execution_count": 14,
   "id": "ae16e667-1905-4eca-bcc6-7934be63846d",
   "metadata": {},
   "outputs": [
    {
     "name": "stdout",
     "output_type": "stream",
     "text": [
      "checkpoint directory created: ./model\n",
      "saving model version 0.0\n",
      "checkpoint directory created: ./model\n",
      "saving model version 0.0\n",
      "Successfully created and tested Model1\n"
     ]
    }
   ],
   "source": [
    "patch_size = 2\n",
    "model1 = try_create_model(Model1, patch_size, attributes, imgs_shape, device)  # Attempt to create Model1"
   ]
  },
  {
   "cell_type": "code",
   "execution_count": 38,
   "id": "b768c0de-22f7-481a-8efd-63d0ca7443ee",
   "metadata": {},
   "outputs": [
    {
     "data": {
      "text/plain": [
       "<torch.utils.data.dataloader.DataLoader at 0x19bd5e26300>"
      ]
     },
     "execution_count": 38,
     "metadata": {},
     "output_type": "execute_result"
    }
   ],
   "source": [
    "train_loader"
   ]
  },
  {
   "cell_type": "code",
   "execution_count": 15,
   "id": "4b91efae-7e62-4b64-bc94-a2606f4cee3b",
   "metadata": {},
   "outputs": [],
   "source": [
    "def compile_and_fit(model, train_loader, val_loader, test_loader, dataset_name, model_name, batch_size=32, epochs=10, min_lr=1e-3, max_lr=1, device='cuda', weight_decay=1e-2):\n",
    "    model = model\n",
    "    loss_fn = nn.MSELoss()\n",
    "    optimizer = optim.AdamW(model.parameters(), lr=min_lr, weight_decay=weight_decay)\n",
    "    \n",
    "    total_steps = epochs * len(train_loader)\n",
    "    scheduler = OneCycleLR(optimizer, max_lr=max_lr, div_factor=max_lr/min_lr, total_steps=total_steps, pct_start=0.3, final_div_factor=1)\n",
    "    \n",
    "    best_val_loss = float('inf')\n",
    "    best_model = None\n",
    "    best_epoch = 0\n",
    "\n",
    "    history = {'train_loss': [], 'val_loss': [], 'train_mse': [], 'val_mse': [], 'train_rmse': [], 'val_rmse': [], 'learning_rate': [], 'epoch_time': []}\n",
    "\n",
    "    start_time = time.time()\n",
    "    \n",
    "    for epoch in range(epochs):\n",
    "        epoch_start_time = time.time()\n",
    "\n",
    "        model.train()\n",
    "        train_loss = 0.0\n",
    "        train_predictions = []\n",
    "        train_targets = []\n",
    "        for num_data, img_data, targets in train_loader:\n",
    "            num_data, img_data, targets = num_data.to(device, non_blocking=True), img_data.to(device, non_blocking=True), targets.to(device, non_blocking=True)\n",
    "            \n",
    "            optimizer.zero_grad()\n",
    "            outputs = model(num_data, img_data)\n",
    "            loss = loss_fn(outputs, targets)\n",
    "            loss.backward()\n",
    "            optimizer.step()\n",
    "            scheduler.step()\n",
    "            \n",
    "            train_loss += loss.item()\n",
    "            train_predictions.extend(outputs.cpu().detach().numpy())\n",
    "            train_targets.extend(targets.cpu().numpy())\n",
    "\n",
    "        model.eval()\n",
    "        val_loss = 0.0\n",
    "        val_predictions = []\n",
    "        val_targets = []\n",
    "        with torch.no_grad():\n",
    "            for num_data, img_data, targets in val_loader:\n",
    "                num_data, img_data, targets = num_data.to(device, non_blocking=True), img_data.to(device, non_blocking=True), targets.to(device, non_blocking=True)\n",
    "                outputs = model(num_data, img_data)\n",
    "                loss = loss_fn(outputs, targets)\n",
    "                \n",
    "                val_loss += loss.item()\n",
    "                val_predictions.extend(outputs.cpu().numpy())\n",
    "                val_targets.extend(targets.cpu().numpy())\n",
    "\n",
    "        train_loss /= len(train_loader)\n",
    "        val_loss /= len(val_loader)\n",
    "        \n",
    "        # Get the current learning rate\n",
    "        current_lr = scheduler.get_last_lr()\n",
    "        \n",
    "        \n",
    "        if val_loss < best_val_loss:\n",
    "            best_val_loss = val_loss\n",
    "            best_model = copy.deepcopy(model.state_dict())\n",
    "            best_epoch = epoch + 1\n",
    "\n",
    "        train_mse = mean_squared_error(train_targets, train_predictions)\n",
    "        train_rmse = np.sqrt(train_mse)\n",
    "        val_mse = mean_squared_error(val_targets, val_predictions)\n",
    "        val_rmse = np.sqrt(val_mse)\n",
    "        train_r2 = r2_score(train_targets, train_predictions)\n",
    "        val_r2 = r2_score(val_targets, val_predictions)\n",
    "\n",
    "        epoch_time = time.time() - epoch_start_time\n",
    "\n",
    "        history['train_loss'].append(train_loss)\n",
    "        history['val_loss'].append(val_loss)\n",
    "        history['train_mse'].append(train_mse)\n",
    "        history['val_mse'].append(val_mse)\n",
    "        history['train_rmse'].append(train_rmse)\n",
    "        history['val_rmse'].append(val_rmse)\n",
    "        history['learning_rate'].append(current_lr)\n",
    "        history['epoch_time'].append(epoch_time)\n",
    "\n",
    "    total_time = time.time() - start_time\n",
    "    model.load_state_dict(best_model)\n",
    "\n",
    "    # Calculate and save metrics\n",
    "    train_metrics = calculate_metrics(model, train_loader, device)\n",
    "    val_metrics = calculate_metrics(model, val_loader, device)\n",
    "    test_metrics = calculate_metrics(model, test_loader, device)\n",
    "\n",
    "    metrics = {\n",
    "        'train_loss': train_metrics['loss'],\n",
    "        'train_mse': train_metrics['mse'],\n",
    "        'train_mae': train_metrics['mae'],\n",
    "        'train_rmse': train_metrics['rmse'],\n",
    "        'train_r2': train_metrics['r2'],\n",
    "        'val_loss': val_metrics['loss'],\n",
    "        'val_mse': val_metrics['mse'],\n",
    "        'val_mae': val_metrics['mae'],\n",
    "        'val_rmse': val_metrics['rmse'],\n",
    "        'val_r2': val_metrics['r2'],\n",
    "        'test_loss': test_metrics['loss'],\n",
    "        'test_mse': test_metrics['mse'],\n",
    "        'test_mae': test_metrics['mae'],\n",
    "        'test_rmse': test_metrics['rmse'],\n",
    "        'test_r2': test_metrics['r2'],\n",
    "        'min_lr': min_lr,\n",
    "        'max_lr': max_lr,\n",
    "        'total_time': total_time,\n",
    "        'average_epoch_time': sum(history['epoch_time']) / len(history['epoch_time'])\n",
    "    }\n",
    "    \n",
    "    print(f\"\\nTraining completed in {total_time:.2f} seconds\")\n",
    "    print(f\"Best model found at epoch {best_epoch}/{epochs}\")\n",
    "    print(f\"Best Train Loss: {history['train_loss'][best_epoch-1]:.4f}, Best Val Loss: {history['val_loss'][best_epoch-1]:.4f}\")\n",
    "    print(f\"Best Train MSE: {history['train_mse'][best_epoch-1]:.4f}, Best Val MSE: {history['val_mse'][best_epoch-1]:.4f}\")\n",
    "    print(f\"Best Train RMSE: {history['train_rmse'][best_epoch-1]:.4f}, Best Val RMSE: {history['val_rmse'][best_epoch-1]:.4f}\")\n",
    "\n",
    "    # Save metrics to a file\n",
    "    os.makedirs(f'logs/Regression/{dataset_name}/ViT+MLP/{model_name}', exist_ok=True)\n",
    "    with open(f'logs/Regression/{dataset_name}/ViT+MLP/{model_name}/metrics.txt', 'w') as f:\n",
    "        for key, value in metrics.items():\n",
    "            f.write(f'{key}: {value}\\n')\n",
    "            \n",
    "    # Save best model\n",
    "    model_save_path = f\"models/Regression/{dataset_name}/ViT+MLP/{model_name}/best_model.pth\"\n",
    "    os.makedirs(os.path.dirname(model_save_path), exist_ok=True)\n",
    "    torch.save(best_model, model_save_path)\n",
    "    print(f\"Best model saved to {model_save_path}\")\n",
    "            \n",
    "    del model\n",
    "    torch.cuda.empty_cache()\n",
    "    gc.collect()\n",
    "\n",
    "    return metrics\n",
    "\n",
    "def calculate_metrics(model, data_loader, device):\n",
    "    model.eval()\n",
    "    loss_fn = nn.MSELoss()\n",
    "    total_loss = 0\n",
    "    all_targets = []\n",
    "    all_predictions = []\n",
    "\n",
    "    with torch.no_grad():\n",
    "        for num_data, img_data, targets in data_loader:\n",
    "            num_data, img_data, targets = num_data.to(device, non_blocking=True), img_data.to(device, non_blocking=True), targets.to(device, non_blocking=True)\n",
    "            outputs = model(num_data, img_data)\n",
    "            loss = loss_fn(outputs, targets)\n",
    "            total_loss += loss.item()\n",
    "            all_targets.extend(targets.cpu().numpy())\n",
    "            all_predictions.extend(outputs.cpu().numpy())\n",
    "\n",
    "    all_targets = np.array(all_targets)\n",
    "    all_predictions = np.array(all_predictions)\n",
    "\n",
    "    mse = mean_squared_error(all_targets, all_predictions)\n",
    "    mae = mean_absolute_error(all_targets, all_predictions)\n",
    "    rmse = np.sqrt(mse)\n",
    "    r2 = r2_score(all_targets, all_predictions)\n",
    "\n",
    "    return {\n",
    "        'loss': total_loss / len(data_loader),\n",
    "        'mse': mse,\n",
    "        'mae': mae,\n",
    "        'rmse': rmse,\n",
    "        'r2': r2\n",
    "    }"
   ]
  },
  {
   "cell_type": "code",
   "execution_count": 16,
   "id": "5fc290ea-d0dd-4167-8cd4-a4f5ba5f4de4",
   "metadata": {},
   "outputs": [
    {
     "name": "stdout",
     "output_type": "stream",
     "text": [
      "\n",
      "Training completed in 298.79 seconds\n",
      "Best model found at epoch 120/120\n",
      "Best Train Loss: 352820.3616, Best Val Loss: 389188.4089\n",
      "Best Train MSE: 355401.2812, Best Val MSE: 446055.0312\n",
      "Best Train RMSE: 596.1554, Best Val RMSE: 667.8735\n",
      "Best model saved to models/Regression/1000cameras/ViT+MLP/1000cameras_Model1/best_model.pth\n"
     ]
    }
   ],
   "source": [
    "dataset_name = '1000cameras'\n",
    "name = f\"TINTO\"\n",
    "metrics = compile_and_fit(model1, train_loader, val_loader, test_loader, dataset_name, f\"{dataset_name}_Model1\", batch_size=32, epochs=120, min_lr=1e-4, max_lr=4e-3 , device='cuda', weight_decay=1e-2)"
   ]
  },
  {
   "cell_type": "code",
   "execution_count": 17,
   "id": "c02afe2a-6528-4518-b265-42d0ce187337",
   "metadata": {},
   "outputs": [
    {
     "data": {
      "text/plain": [
       "tensor([4.7928e-03, 1.6311e-01, 1.5233e-01, 2.9513e-02, 1.6435e-01, 1.6471e-01,\n",
       "        1.5986e-01, 6.0910e-02, 4.2652e-03, 1.5801e-01, 2.0108e-04, 1.5379e-04,\n",
       "        1.6519e-03, 2.6485e-04, 1.3705e-03, 2.7821e-03, 6.8541e-04, 2.0551e-03,\n",
       "        4.5704e-04, 1.4279e-03, 3.4299e-03, 3.1923e-03, 2.6532e-03, 2.4447e-03,\n",
       "        2.7929e-03, 2.8580e-03, 2.1313e-03, 6.8872e-05, 3.5130e-03, 9.1692e-04,\n",
       "        1.9453e-04, 3.0952e-03, 2.3563e-04, 3.2348e-04, 1.5216e-03, 2.4780e-03,\n",
       "        1.2614e-04, 2.5982e-04, 3.0383e-04, 1.6315e-03, 1.4432e-04, 2.5951e-03],\n",
       "       device='cuda:0', grad_fn=<MeanBackward1>)"
      ]
     },
     "execution_count": 17,
     "metadata": {},
     "output_type": "execute_result"
    }
   ],
   "source": [
    "model1.final_kan.feature_score"
   ]
  },
  {
   "cell_type": "code",
   "execution_count": 18,
   "id": "676b6cba-a9a8-4035-8bf7-27b013d4f08c",
   "metadata": {},
   "outputs": [
    {
     "data": {
      "image/png": "[encoded data removed]",
      "text/plain": [
       "<Figure size 500x200 with 44 Axes>"
      ]
     },
     "metadata": {},
     "output_type": "display_data"
    }
   ],
   "source": [
    "model1.final_kan.plot()"
   ]
  },
  {
   "cell_type": "markdown",
   "id": "eabae44f-908d-46ae-b357-710c6a765d24",
   "metadata": {},
   "source": [
    "# Usign IGTD"
   ]
  },
  {
   "cell_type": "code",
   "execution_count": 23,
   "id": "a3bdde30-d371-47a1-90a7-fb733412b205",
   "metadata": {},
   "outputs": [],
   "source": [
    "from TINTOlib.refined import REFINED\n",
    "from TINTOlib.igtd import IGTD"
   ]
  },
  {
   "cell_type": "code",
   "execution_count": 25,
   "id": "6ebb0f11-d2bc-4f05-a6b0-2c83a9ee449c",
   "metadata": {},
   "outputs": [],
   "source": [
    "#Select the model and the parameters\n",
    "problem_type = \"regression\"\n",
    "image_size=16\n",
    "image_model = IGTD(problem= problem_type, scale=[image_size,image_size], random_seed=SEED)\n",
    "name = f\"IGTD_{image_size}x{image_size}\"\n",
    "\n",
    "#Define the dataset path and the folder where the images will be saved\n",
    "images_folder = f\"./HyNNImages/Regression/{dataset_name}/images_{dataset_name}_{name}\""
   ]
  },
  {
   "cell_type": "code",
   "execution_count": 26,
   "id": "d088eb9f-802c-4297-b8ed-acbc4f4f9269",
   "metadata": {},
   "outputs": [
    {
     "name": "stdout",
     "output_type": "stream",
     "text": [
      "Loading ./HyNNImages/Regression/1000cameras/images_1000cameras_IGTD_16x16/train\\regression.csv...\n",
      "Loading ./HyNNImages/Regression/1000cameras/images_1000cameras_IGTD_16x16/val\\regression.csv...\n",
      "Loading ./HyNNImages/Regression/1000cameras/images_1000cameras_IGTD_16x16/test\\regression.csv...\n",
      "Images shape: (3, 16, 16)\n",
      "Attributes: 10\n"
     ]
    },
    {
     "data": {
      "image/png": "[encoded data removed]",
      "text/plain": [
       "<Figure size 16x16 with 1 Axes>"
      ]
     },
     "metadata": {},
     "output_type": "display_data"
    },
    {
     "data": {
      "image/png": "[encoded data removed]",
      "text/plain": [
       "<Figure size 16x16 with 1 Axes>"
      ]
     },
     "metadata": {},
     "output_type": "display_data"
    },
    {
     "data": {
      "image/png": "[encoded data removed]",
      "text/plain": [
       "<Figure size 16x16 with 1 Axes>"
      ]
     },
     "metadata": {},
     "output_type": "display_data"
    }
   ],
   "source": [
    "train_loader, val_loader, test_loader, attributes, imgs_shape = load_and_preprocess_data(\n",
    "    X_train, X_test, X_val,\n",
    "    images_folder=images_folder,\n",
    "    image_model=image_model,\n",
    "    problem_type=problem_type,\n",
    "    batch_size=32\n",
    ")"
   ]
  },
  {
   "cell_type": "code",
   "execution_count": 27,
   "id": "4617d532-9e2d-4e90-99ac-2d355a7cac18",
   "metadata": {},
   "outputs": [
    {
     "name": "stdout",
     "output_type": "stream",
     "text": [
      "\n",
      "Training completed in 246.73 seconds\n",
      "Best model found at epoch 30/60\n",
      "Best Train Loss: 330912.6596, Best Val Loss: 380447.6169\n",
      "Best Train MSE: 332541.7188, Best Val MSE: 434970.5000\n",
      "Best Train RMSE: 576.6643, Best Val RMSE: 659.5229\n",
      "Best model saved to models/Regression/1000cameras/ViT+MLP/1000cameras_Model1/best_model.pth\n"
     ]
    }
   ],
   "source": [
    "dataset_name = '1000cameras'\n",
    "name = f\"IGTD\"\n",
    "metrics = compile_and_fit(model1, train_loader, val_loader, test_loader, dataset_name, f\"{dataset_name}_Model1\", batch_size=32, epochs=60, min_lr=1e-4, max_lr=4e-3 , device='cuda', weight_decay=1e-2)"
   ]
  },
  {
   "cell_type": "code",
   "execution_count": 28,
   "id": "00862739-327b-4f71-99d5-4445ba5ecc5b",
   "metadata": {},
   "outputs": [
    {
     "name": "stdout",
     "output_type": "stream",
     "text": [
      "\n",
      "Training completed in 297.57 seconds\n",
      "Best model found at epoch 99/120\n",
      "Best Train Loss: 252571.6938, Best Val Loss: 367972.1029\n",
      "Best Train MSE: 254601.3125, Best Val MSE: 419688.8750\n",
      "Best Train RMSE: 504.5803, Best Val RMSE: 647.8340\n",
      "Best model saved to models/Regression/1000cameras/ViT+MLP/1000cameras_Model1/best_model.pth\n"
     ]
    }
   ],
   "source": [
    "dataset_name = '1000cameras'\n",
    "name = f\"IGTD\"\n",
    "metrics = compile_and_fit(model1, train_loader, val_loader, test_loader, dataset_name, f\"{dataset_name}_Model1\", batch_size=16, epochs=120, min_lr=1e-4, max_lr=4e-3 , device='cuda', weight_decay=1e-2)"
   ]
  },
  {
   "cell_type": "code",
   "execution_count": 29,
   "id": "1b5b4e4c-e731-4659-8df5-00857b6ca591",
   "metadata": {},
   "outputs": [
    {
     "data": {
      "image/png": "[encoded data removed]",
      "text/plain": [
       "<Figure size 500x200 with 44 Axes>"
      ]
     },
     "metadata": {},
     "output_type": "display_data"
    }
   ],
   "source": [
    "model1.final_kan.plot()"
   ]
  },
  {
   "cell_type": "code",
   "execution_count": 30,
   "id": "65df4ea2-357c-4abf-a832-c1305c8a6c5d",
   "metadata": {},
   "outputs": [
    {
     "data": {
      "text/plain": [
       "tensor([0.0038, 0.1655, 0.1503, 0.0754, 0.1603, 0.1645, 0.1598, 0.1575, 0.0510,\n",
       "        0.1580, 0.0011, 0.0002, 0.0075, 0.0037, 0.0087, 0.0100, 0.0015, 0.0091,\n",
       "        0.0038, 0.0100, 0.0112, 0.0094, 0.0113, 0.0095, 0.0105, 0.0102, 0.0107,\n",
       "        0.0005, 0.0103, 0.0036, 0.0029, 0.0113, 0.0009, 0.0031, 0.0099, 0.0075,\n",
       "        0.0020, 0.0030, 0.0045, 0.0071, 0.0017, 0.0073], device='cuda:0',\n",
       "       grad_fn=<MeanBackward1>)"
      ]
     },
     "execution_count": 30,
     "metadata": {},
     "output_type": "execute_result"
    }
   ],
   "source": [
    "model1.final_kan.feature_score"
   ]
  },
  {
   "cell_type": "code",
   "execution_count": 31,
   "id": "68b14896-2383-4ef1-bb18-354562a428a5",
   "metadata": {},
   "outputs": [
    {
     "name": "stdout",
     "output_type": "stream",
     "text": [
      "\n",
      "Training completed in 467.87 seconds\n",
      "Best model found at epoch 135/240\n",
      "Best Train Loss: 178589.5533, Best Val Loss: 359463.0391\n",
      "Best Train MSE: 178265.0938, Best Val MSE: 409286.5938\n",
      "Best Train RMSE: 422.2145, Best Val RMSE: 639.7551\n",
      "Best model saved to models/Regression/1000cameras/ViT+MLP/1000cameras_Model1/best_model.pth\n"
     ]
    }
   ],
   "source": [
    "dataset_name = '1000cameras'\n",
    "name = f\"IGTD\"\n",
    "metrics = compile_and_fit(model1, train_loader, val_loader, test_loader, dataset_name, f\"{dataset_name}_Model1\", batch_size=16, epochs=240, min_lr=1e-4, max_lr=4e-3 , device='cuda', weight_decay=1e-2)"
   ]
  },
  {
   "cell_type": "code",
   "execution_count": 62,
   "id": "94a96c15-6dd2-4147-87f6-b2e4362db219",
   "metadata": {},
   "outputs": [],
   "source": [
    "def compile_and_fit_2(model, train_loader, val_loader, test_loader, dataset_name, model_name, batch_size=32, epochs=10, min_lr=1e-3, max_lr=1, device='cuda', weight_decay=1e-2):\n",
    "    model = model\n",
    "    loss_fn = nn.MSELoss()\n",
    "    optimizer = optim.AdamW(model.parameters(), lr=min_lr, weight_decay=weight_decay)\n",
    "    \n",
    "    total_steps = epochs * len(train_loader)\n",
    "    scheduler = OneCycleLR(optimizer, max_lr=max_lr, div_factor=max_lr/min_lr, total_steps=total_steps, pct_start=0.3, final_div_factor=1)\n",
    "    \n",
    "    best_val_loss = float('inf')\n",
    "    best_model = None\n",
    "    best_epoch = 0\n",
    "\n",
    "    history = {'train_loss': [], 'val_loss': [], 'train_mse': [], 'val_mse': [], 'train_rmse': [], 'val_rmse': [], 'learning_rate': [], 'epoch_time': []}\n",
    "\n",
    "    start_time = time.time()\n",
    "    pbar = tqdm(range(epochs), desc='description', ncols=100)\n",
    "    #for epoch in range(epochs):\n",
    "    for epoch in pbar:\n",
    "        epoch_start_time = time.time()\n",
    "\n",
    "        model.train()\n",
    "        train_loss = 0.0\n",
    "        train_predictions = []\n",
    "        train_targets = []\n",
    "        for num_data, img_data, targets in train_loader:\n",
    "            num_data, img_data, targets = num_data.to(device, non_blocking=True), img_data.to(device, non_blocking=True), targets.to(device, non_blocking=True)\n",
    "            \n",
    "            optimizer.zero_grad()\n",
    "            outputs = model(num_data, img_data)\n",
    "            loss = loss_fn(outputs, targets)\n",
    "            loss.backward()\n",
    "            optimizer.step()\n",
    "            scheduler.step()\n",
    "            \n",
    "            train_loss += loss.item()\n",
    "            train_predictions.extend(outputs.cpu().detach().numpy())\n",
    "            train_targets.extend(targets.cpu().numpy())\n",
    "\n",
    "        model.eval()\n",
    "        val_loss = 0.0\n",
    "        val_predictions = []\n",
    "        val_targets = []\n",
    "        with torch.no_grad():\n",
    "            for num_data, img_data, targets in val_loader:\n",
    "                num_data, img_data, targets = num_data.to(device, non_blocking=True), img_data.to(device, non_blocking=True), targets.to(device, non_blocking=True)\n",
    "                outputs = model(num_data, img_data)\n",
    "                loss = loss_fn(outputs, targets)\n",
    "                \n",
    "                val_loss += loss.item()\n",
    "                val_predictions.extend(outputs.cpu().numpy())\n",
    "                val_targets.extend(targets.cpu().numpy())\n",
    "\n",
    "        train_loss /= len(train_loader)\n",
    "        val_loss /= len(val_loader)\n",
    "        \n",
    "        # Get the current learning rate\n",
    "        current_lr = scheduler.get_last_lr()\n",
    "        \n",
    "        \n",
    "        if val_loss < best_val_loss:\n",
    "            best_val_loss = val_loss\n",
    "            best_model = copy.deepcopy(model.state_dict())\n",
    "            best_epoch = epoch + 1\n",
    "\n",
    "        train_mse = mean_squared_error(train_targets, train_predictions)\n",
    "        train_rmse = np.sqrt(train_mse)\n",
    "        val_mse = mean_squared_error(val_targets, val_predictions)\n",
    "        val_rmse = np.sqrt(val_mse)\n",
    "        train_r2 = r2_score(train_targets, train_predictions)\n",
    "        val_r2 = r2_score(val_targets, val_predictions)\n",
    "\n",
    "        epoch_time = time.time() - epoch_start_time\n",
    "\n",
    "        history['train_loss'].append(train_loss)\n",
    "        history['val_loss'].append(val_loss)\n",
    "        history['train_mse'].append(train_mse)\n",
    "        history['val_mse'].append(val_mse)\n",
    "        history['train_rmse'].append(train_rmse)\n",
    "        history['val_rmse'].append(val_rmse)\n",
    "        history['learning_rate'].append(current_lr)\n",
    "        history['epoch_time'].append(epoch_time)\n",
    "        pbar.set_description(\"| train_mse: %.2e | val_mse: %.2e | \" % (train_mse, val_mse))\n",
    "    total_time = time.time() - start_time\n",
    "    model.load_state_dict(best_model)\n",
    "\n",
    "    # Calculate and save metrics\n",
    "    train_metrics = calculate_metrics(model, train_loader, device)\n",
    "    val_metrics = calculate_metrics(model, val_loader, device)\n",
    "    test_metrics = calculate_metrics(model, test_loader, device)\n",
    "\n",
    "    metrics = {\n",
    "        'train_loss': train_metrics['loss'],\n",
    "        'train_mse': train_metrics['mse'],\n",
    "        'train_mae': train_metrics['mae'],\n",
    "        'train_rmse': train_metrics['rmse'],\n",
    "        'train_r2': train_metrics['r2'],\n",
    "        'val_loss': val_metrics['loss'],\n",
    "        'val_mse': val_metrics['mse'],\n",
    "        'val_mae': val_metrics['mae'],\n",
    "        'val_rmse': val_metrics['rmse'],\n",
    "        'val_r2': val_metrics['r2'],\n",
    "        'test_loss': test_metrics['loss'],\n",
    "        'test_mse': test_metrics['mse'],\n",
    "        'test_mae': test_metrics['mae'],\n",
    "        'test_rmse': test_metrics['rmse'],\n",
    "        'test_r2': test_metrics['r2'],\n",
    "        'min_lr': min_lr,\n",
    "        'max_lr': max_lr,\n",
    "        'total_time': total_time,\n",
    "        'average_epoch_time': sum(history['epoch_time']) / len(history['epoch_time'])\n",
    "    }\n",
    "    \n",
    "    print(f\"\\nTraining completed in {total_time:.2f} seconds\")\n",
    "    print(f\"Best model found at epoch {best_epoch}/{epochs}\")\n",
    "    print(f\"Best Train Loss: {history['train_loss'][best_epoch-1]:.4f}, Best Val Loss: {history['val_loss'][best_epoch-1]:.4f}\")\n",
    "    print(f\"Best Train MSE: {history['train_mse'][best_epoch-1]:.4f}, Best Val MSE: {history['val_mse'][best_epoch-1]:.4f}\")\n",
    "    print(f\"Best Train RMSE: {history['train_rmse'][best_epoch-1]:.4f}, Best Val RMSE: {history['val_rmse'][best_epoch-1]:.4f}\")\n",
    "\n",
    "    # Save metrics to a file\n",
    "    os.makedirs(f'logs/Regression/{dataset_name}/ViT+MLP/{model_name}', exist_ok=True)\n",
    "    with open(f'logs/Regression/{dataset_name}/ViT+MLP/{model_name}/metrics.txt', 'w') as f:\n",
    "        for key, value in metrics.items():\n",
    "            f.write(f'{key}: {value}\\n')\n",
    "            \n",
    "    # Save best model\n",
    "    model_save_path = f\"models/Regression/{dataset_name}/ViT+MLP/{model_name}/best_model.pth\"\n",
    "    os.makedirs(os.path.dirname(model_save_path), exist_ok=True)\n",
    "    torch.save(best_model, model_save_path)\n",
    "    print(f\"Best model saved to {model_save_path}\")\n",
    "            \n",
    "    del model\n",
    "    torch.cuda.empty_cache()\n",
    "    gc.collect()\n",
    "\n",
    "    return metrics\n",
    "\n",
    "def calculate_metrics(model, data_loader, device):\n",
    "    model.eval()\n",
    "    loss_fn = nn.MSELoss()\n",
    "    total_loss = 0\n",
    "    all_targets = []\n",
    "    all_predictions = []\n",
    "\n",
    "    with torch.no_grad():\n",
    "        for num_data, img_data, targets in data_loader:\n",
    "            num_data, img_data, targets = num_data.to(device, non_blocking=True), img_data.to(device, non_blocking=True), targets.to(device, non_blocking=True)\n",
    "            outputs = model(num_data, img_data)\n",
    "            loss = loss_fn(outputs, targets)\n",
    "            total_loss += loss.item()\n",
    "            all_targets.extend(targets.cpu().numpy())\n",
    "            all_predictions.extend(outputs.cpu().numpy())\n",
    "\n",
    "    all_targets = np.array(all_targets)\n",
    "    all_predictions = np.array(all_predictions)\n",
    "\n",
    "    mse = mean_squared_error(all_targets, all_predictions)\n",
    "    mae = mean_absolute_error(all_targets, all_predictions)\n",
    "    rmse = np.sqrt(mse)\n",
    "    r2 = r2_score(all_targets, all_predictions)\n",
    "\n",
    "    return {\n",
    "        'loss': total_loss / len(data_loader),\n",
    "        'mse': mse,\n",
    "        'mae': mae,\n",
    "        'rmse': rmse,\n",
    "        'r2': r2\n",
    "    }"
   ]
  },
  {
   "cell_type": "code",
   "execution_count": 63,
   "id": "f9cc7155-a53f-4398-82db-80ecc00fa4b6",
   "metadata": {},
   "outputs": [
    {
     "name": "stderr",
     "output_type": "stream",
     "text": [
      "| train_loss: 4.43e+05 | val_loss: 4.35e+05 | val_rmse: 7.07e+02 | : 100%|█| 5/5 [01:07<00:00, 13.43\n"
     ]
    },
    {
     "name": "stdout",
     "output_type": "stream",
     "text": [
      "\n",
      "Training completed in 67.18 seconds\n",
      "Best model found at epoch 5/5\n",
      "Best Train Loss: 443002.1075, Best Val Loss: 434963.9277\n",
      "Best Train MSE: 419667.5000, Best Val MSE: 499989.4375\n",
      "Best Train RMSE: 647.8175, Best Val RMSE: 707.0993\n",
      "Best model saved to models/Regression/1000cameras/ViT+MLP/1000cameras_Model1/best_model.pth\n"
     ]
    }
   ],
   "source": [
    "metrics = compile_and_fit_2(model1, train_loader, val_loader, test_loader, dataset_name, f\"{dataset_name}_Model1\", batch_size=32, epochs=5, min_lr=1e-4, max_lr=4e-3 , device='cuda', weight_decay=1e-2)"
   ]
  }
 ],
 "metadata": {
  "kernelspec": {
   "display_name": "Python 3 (ipykernel)",
   "language": "python",
   "name": "python3"
  },
  "language_info": {
   "codemirror_mode": {
    "name": "ipython",
    "version": 3
   },
   "file_extension": ".py",
   "mimetype": "text/x-python",
   "name": "python",
   "nbconvert_exporter": "python",
   "pygments_lexer": "ipython3",
   "version": "3.12.7"
  }
 },
 "nbformat": 4,
 "nbformat_minor": 5
}
