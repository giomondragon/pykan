{
 "cells": [
  {
   "cell_type": "code",
   "execution_count": 1,
   "id": "c6077b69-495d-4fce-8948-980666d1dd43",
   "metadata": {},
   "outputs": [],
   "source": [
    "import sys\n",
    "import os\n",
    "\n",
    "# Get the root directory\n",
    "root_dir = os.path.abspath(os.path.join(os.getcwd(), '..'))\n",
    "\n",
    "# Add the root directory to the Python path\n",
    "sys.path.append(root_dir)"
   ]
  },
  {
   "cell_type": "code",
   "execution_count": 2,
   "id": "b0aea695-5038-4fe5-a9e9-7753513276be",
   "metadata": {},
   "outputs": [
    {
     "name": "stdout",
     "output_type": "stream",
     "text": [
      "cuda\n"
     ]
    }
   ],
   "source": [
    "from tqdm import tqdm\n",
    "from torch.utils.data import DataLoader, TensorDataset\n",
    "from torch.optim.lr_scheduler import OneCycleLR\n",
    "from sklearn.model_selection import train_test_split\n",
    "from sklearn.preprocessing import MinMaxScaler, StandardScaler\n",
    "from sklearn.datasets import load_diabetes\n",
    "from sklearn.model_selection import train_test_split\n",
    "from sklearn.preprocessing import StandardScaler\n",
    "from sklearn.metrics import mean_squared_error, mean_absolute_error, r2_score\n",
    "from vit_pytorch.vit import ViT\n",
    "from kan import *\n",
    "\n",
    "\n",
    "import time\n",
    "import gc\n",
    "import copy\n",
    "import traceback\n",
    "import torch.nn as nn\n",
    "import cv2\n",
    "import matplotlib.pyplot as plt\n",
    "import pandas as pd\n",
    "import numpy as np\n",
    "import random\n",
    "import torch.optim as optim\n",
    "import torch\n",
    "\n",
    "if torch.cuda.is_available():\n",
    "  device = torch.device(\"cuda\")\n",
    "else:\n",
    "  device = torch.device(\"cpu\")\n",
    "\n",
    "print(device)"
   ]
  },
  {
   "cell_type": "code",
   "execution_count": 3,
   "id": "5368190e-2285-4b8f-ba73-2dd0b02fac1a",
   "metadata": {},
   "outputs": [],
   "source": [
    "SEED = 381\n",
    "# SET RANDOM SEED FOR REPRODUCIBILITY\n",
    "torch.manual_seed(SEED)\n",
    "random.seed(SEED)\n",
    "np.random.seed(SEED)"
   ]
  },
  {
   "cell_type": "code",
   "execution_count": 4,
   "id": "5c164164-9103-4493-a265-d74d0d0d48a9",
   "metadata": {},
   "outputs": [],
   "source": [
    "folder=\"data/puma8NH\"\n",
    "x_col=[\"theta1\", \"theta2\", \"theta3\", \"thetad1\", \"thetad2\", \"thetad3\", \"tau1\",\"tau2\"]\n",
    "target_col=[\"target\"]"
   ]
  },
  {
   "cell_type": "code",
   "execution_count": 5,
   "id": "f165ec76-c063-45b6-b6da-2fb85ecee403",
   "metadata": {},
   "outputs": [],
   "source": [
    "def load_and_clean(npy_filename, y_filename, x_col, target_col):\n",
    "    \"\"\"\n",
    "    Load the feature array (npy_filename) and label array (y_filename),\n",
    "    drop rows in the feature array that contain any NaNs, and apply\n",
    "    the same mask to the label array.\n",
    "    \"\"\"\n",
    "    # Load numpy arrays\n",
    "    X = np.load(os.path.join(folder, npy_filename))\n",
    "    y = np.load(os.path.join(folder, y_filename))\n",
    "    \n",
    "    # Ensure the number of rows matches between X and y\n",
    "    if X.shape[0] != y.shape[0]:\n",
    "        raise ValueError(\"The number of rows in {} and {} do not match.\".format(npy_filename, y_filename))\n",
    "    \n",
    "    # Create a boolean mask for rows that do NOT have any NaN values in X\n",
    "    valid_rows = ~np.isnan(X).any(axis=1)\n",
    "    #print(valid_rows)\n",
    "    # Filter both arrays using the valid_rows mask\n",
    "    X_clean = X[valid_rows]\n",
    "    y_clean = y[valid_rows]\n",
    "    \n",
    "    # Convert arrays to DataFrames\n",
    "    df_X = pd.DataFrame(X_clean)\n",
    "    df_y = pd.DataFrame(y_clean)\n",
    "    df_X.columns = x_col\n",
    "    df_y.columns = target_col\n",
    "    return df_X, df_y\n",
    "\n",
    "X_train, y_train = load_and_clean('N_train.npy', 'y_train.npy',x_col, target_col)\n",
    "X_test, y_test   = load_and_clean('N_test.npy',  'y_test.npy', x_col, target_col)\n",
    "X_val, y_val     = load_and_clean('N_val.npy',   'y_val.npy', x_col, target_col)"
   ]
  },
  {
   "cell_type": "code",
   "execution_count": 6,
   "id": "b819babe-2e88-4c63-a5d9-d22ec77aedf3",
   "metadata": {},
   "outputs": [],
   "source": [
    "def load_and_preprocess_data(X_train, y_train, X_test, y_test, X_val, y_val, image_model, problem_type, batch_size=32):\n",
    "    # Add target column to input for IGTD\n",
    "    X_train_full = X_train.copy()\n",
    "    X_train_full[\"target\"] = y_train.values\n",
    "\n",
    "    X_val_full = X_val.copy()\n",
    "    X_val_full[\"target\"] = y_val.values\n",
    "\n",
    "    X_test_full = X_test.copy()\n",
    "    X_test_full[\"target\"] = y_test.values\n",
    "\n",
    "    # Generate the images if the folder does not exist\n",
    "    if not os.path.exists(f'{images_folder}/train'):\n",
    "        image_model.fit_transform(X_train_full, f'{images_folder}/train')\n",
    "        image_model.saveHyperparameters(f'{images_folder}/model.pkl')\n",
    "    else:\n",
    "        print(\"The images are already generated\")\n",
    "\n",
    "    # Load image paths\n",
    "    imgs_train = pd.read_csv(os.path.join(f'{images_folder}/train', f'{problem_type}.csv'))\n",
    "    imgs_train[\"images\"] = images_folder + \"/train/\" + imgs_train[\"images\"]\n",
    "\n",
    "    if not os.path.exists(f'{images_folder}/val'):\n",
    "        image_model.transform(X_val_full, f'{images_folder}/val')\n",
    "    else:\n",
    "        print(\"The images are already generated\")\n",
    "\n",
    "    imgs_val = pd.read_csv(os.path.join(f'{images_folder}/val', f'{problem_type}.csv'))\n",
    "    imgs_val[\"images\"] = images_folder + \"/val/\" + imgs_val[\"images\"]\n",
    "\n",
    "    if not os.path.exists(f'{images_folder}/test'):\n",
    "        image_model.transform(X_test_full, f'{images_folder}/test')\n",
    "    else:\n",
    "        print(\"The images are already generated\")\n",
    "\n",
    "    imgs_test = pd.read_csv(os.path.join(f'{images_folder}/test', f'{problem_type}.csv'))\n",
    "    imgs_test[\"images\"] = images_folder + \"/test/\" + imgs_test[\"images\"]\n",
    "\n",
    "    # Image data\n",
    "    X_train_img = np.array([cv2.imread(img) for img in imgs_train[\"images\"]])\n",
    "    X_val_img = np.array([cv2.imread(img) for img in imgs_val[\"images\"]])\n",
    "    X_test_img = np.array([cv2.imread(img) for img in imgs_test[\"images\"]])\n",
    "\n",
    "    # Create a MinMaxScaler object\n",
    "    scaler = MinMaxScaler()\n",
    "\n",
    "    # Scale numerical data\n",
    "    X_train_num = pd.DataFrame(scaler.fit_transform(X_train), columns=X_train.columns)\n",
    "    X_val_num = pd.DataFrame(scaler.transform(X_val), columns=X_val.columns)\n",
    "    X_test_num = pd.DataFrame(scaler.transform(X_test), columns=X_test.columns)\n",
    "\n",
    "    attributes = len(X_train_num.columns)\n",
    "    height, width, channels = X_train_img[0].shape\n",
    "    imgs_shape = (channels, height, width)\n",
    "\n",
    "    print(\"Images shape: \", imgs_shape)\n",
    "    print(\"Attributes: \", attributes)\n",
    "\n",
    "    # Convert data to PyTorch tensors\n",
    "    X_train_num_tensor = torch.as_tensor(X_train_num.values, dtype=torch.float32)\n",
    "    X_val_num_tensor = torch.as_tensor(X_val_num.values, dtype=torch.float32)\n",
    "    X_test_num_tensor = torch.as_tensor(X_test_num.values, dtype=torch.float32)\n",
    "    X_train_img_tensor = torch.as_tensor(X_train_img, dtype=torch.float32).permute(0, 3, 1, 2) / 255.0\n",
    "    X_val_img_tensor = torch.as_tensor(X_val_img, dtype=torch.float32).permute(0, 3, 1, 2) / 255.0\n",
    "    X_test_img_tensor = torch.as_tensor(X_test_img, dtype=torch.float32).permute(0, 3, 1, 2) / 255.0\n",
    "    y_train_tensor = torch.as_tensor(y_train.values, dtype=torch.float32).reshape(-1, 1)\n",
    "    y_val_tensor = torch.as_tensor(y_val.values, dtype=torch.float32).reshape(-1, 1)\n",
    "    y_test_tensor = torch.as_tensor(y_test.values, dtype=torch.float32).reshape(-1, 1)\n",
    "\n",
    "    # Create DataLoaders\n",
    "    train_dataset = TensorDataset(X_train_num_tensor, X_train_img_tensor, y_train_tensor)\n",
    "    val_dataset = TensorDataset(X_val_num_tensor, X_val_img_tensor, y_val_tensor)\n",
    "    test_dataset = TensorDataset(X_test_num_tensor, X_test_img_tensor, y_test_tensor)\n",
    "\n",
    "    train_loader = DataLoader(train_dataset, batch_size=batch_size, shuffle=True, pin_memory=True)\n",
    "    val_loader = DataLoader(val_dataset, batch_size=batch_size, shuffle=False, pin_memory=True)\n",
    "    test_loader = DataLoader(test_dataset, batch_size=batch_size, shuffle=False, pin_memory=True)\n",
    "\n",
    "    return train_loader, val_loader, test_loader, attributes, imgs_shape\n"
   ]
  },
  {
   "cell_type": "markdown",
   "id": "4fce5383-91fe-4411-a05e-7cdc3469b9cb",
   "metadata": {},
   "source": [
    "# BEST 3.23"
   ]
  },
  {
   "cell_type": "code",
   "execution_count": 7,
   "id": "4906581c-12a2-4e09-9447-cf1002d4f843",
   "metadata": {},
   "outputs": [
    {
     "name": "stdout",
     "output_type": "stream",
     "text": [
      "3\n"
     ]
    }
   ],
   "source": [
    "# Get the shape of the dataframe\n",
    "num_columns = X_train.shape[1]\n",
    "\n",
    "# Calculate number of columns - 1\n",
    "columns_minus_one = num_columns - 1\n",
    "\n",
    "# Calculate the square root for image size\n",
    "import math\n",
    "image_size = math.ceil(math.sqrt(columns_minus_one))\n",
    "print(image_size)"
   ]
  },
  {
   "cell_type": "code",
   "execution_count": 8,
   "id": "e22f90f4-21e0-4dd4-867b-2450edfab202",
   "metadata": {},
   "outputs": [],
   "source": [
    "from TINTOlib.igtd import IGTD\n",
    "dataset_name = 'puma8NH'\n",
    "#Select the model and the parameters\n",
    "problem_type = \"regression\"\n",
    "image_model = IGTD(problem=problem_type, \n",
    "                   scale=[image_size,image_size],\n",
    "                   fea_dist_method='Euclidean',\n",
    "                   image_dist_method='Euclidean',\n",
    "                   error='abs',\n",
    "                   max_step=30000,\n",
    "                   val_step=300,\n",
    "                   zoom=2,\n",
    "                   random_seed=SEED)\n",
    "\n",
    "name = f\"IGTD_{image_size}x{image_size}_fEuclidean_iEuclidean_abs\"\n",
    "\n",
    "#Define the dataset path and the folder where the images will be saved\n",
    "images_folder = f\"HyNNImages/Regression/{dataset_name}/images_{dataset_name}_{name}\""
   ]
  },
  {
   "cell_type": "code",
   "execution_count": 9,
   "id": "70d098f3-9df3-4d4c-9a8d-31c93a02ed29",
   "metadata": {},
   "outputs": [
    {
     "name": "stdout",
     "output_type": "stream",
     "text": [
      "Images shape:  (3, 6, 6)\n",
      "Attributes:  8\n"
     ]
    },
    {
     "data": {
      "image/png": "[encoded data removed]",
      "text/plain": [
       "<Figure size 6x6 with 1 Axes>"
      ]
     },
     "metadata": {},
     "output_type": "display_data"
    },
    {
     "data": {
      "image/png": "[encoded data removed]",
      "text/plain": [
       "<Figure size 6x6 with 1 Axes>"
      ]
     },
     "metadata": {},
     "output_type": "display_data"
    },
    {
     "data": {
      "image/png": "[encoded data removed]",
      "text/plain": [
       "<Figure size 6x6 with 1 Axes>"
      ]
     },
     "metadata": {},
     "output_type": "display_data"
    }
   ],
   "source": [
    "train_loader, val_loader, test_loader, attributes, imgs_shape = load_and_preprocess_data(\n",
    "    X_train, y_train, X_test, y_test, X_val, y_val,\n",
    "    image_model=image_model,\n",
    "    problem_type=problem_type,\n",
    "    batch_size=16\n",
    ")"
   ]
  },
  {
   "cell_type": "code",
   "execution_count": 31,
   "id": "91e0642d-e97b-4178-8a1c-7898bbe84959",
   "metadata": {},
   "outputs": [
    {
     "data": {
      "text/plain": [
       "(array([0, 0, 0, 1, 1, 1, 2, 2], dtype=int64),\n",
       " array([0, 1, 2, 0, 1, 2, 0, 1], dtype=int64))"
      ]
     },
     "execution_count": 31,
     "metadata": {},
     "output_type": "execute_result"
    }
   ],
   "source": [
    "image_model.coordinate"
   ]
  },
  {
   "cell_type": "code",
   "execution_count": 35,
   "id": "7ac26c4d-5634-448b-929e-4aec450ee209",
   "metadata": {},
   "outputs": [
    {
     "data": {
      "image/png": "[encoded data removed]",
      "text/plain": [
       "<Figure size 600x600 with 1 Axes>"
      ]
     },
     "metadata": {},
     "output_type": "display_data"
    }
   ],
   "source": [
    "import matplotlib.pyplot as plt\n",
    "import numpy as np\n",
    "\n",
    "if image_model.coordinate:\n",
    "    coordinates = image_model.coordinate\n",
    "else:\n",
    "    coordinates = (np.array([0, 0, 0, 1, 1, 1, 2, 2]),\n",
    "                 np.array([0, 1, 2, 0, 1, 2, 0, 1]))\n",
    "\n",
    "def plot_feature_mapping(x_col, coordinate, scale=(4,4)):\n",
    "    grid = np.full(scale, \"\", dtype=object)\n",
    "    rows, cols = coordinate\n",
    "    for i, (r, c) in enumerate(zip(rows, cols)):\n",
    "        if i < len(x_col):\n",
    "            grid[r, c] = x_col[i]\n",
    "        else:\n",
    "            grid[r, c] = \"?\"\n",
    "    \n",
    "    plt.figure(figsize=(scale[1] * 2, scale[0] * 2))\n",
    "    for i in range(scale[0]):\n",
    "        for j in range(scale[1]):\n",
    "            plt.text(j, i, grid[i, j], ha='center', va='center', fontsize=10,\n",
    "                     bbox=dict(facecolor='white', edgecolor='gray'))\n",
    "    \n",
    "    plt.xticks(np.arange(scale[1]))\n",
    "    plt.yticks(np.arange(scale[0]))\n",
    "    plt.grid(True)\n",
    "    plt.title(\"Feature → Pixel Mapping\")\n",
    "    plt.gca().invert_yaxis()  # So row 0 is at the top\n",
    "    plt.show()\n",
    "\n",
    "plot_feature_mapping(x_col, coordinates, scale=[3, 3])"
   ]
  },
  {
   "cell_type": "code",
   "execution_count": 10,
   "id": "d7cbeb30-1b18-40e5-becc-0973891146ca",
   "metadata": {},
   "outputs": [],
   "source": [
    "def combine_loader(loader):\n",
    "    \"\"\"\n",
    "    Combines all batches from a DataLoader into three tensors.\n",
    "    Assumes each batch is a tuple: (mlp_tensor, img_tensor, target_tensor)\n",
    "    \"\"\"\n",
    "    mlp_list, img_list, target_list = [], [], []\n",
    "    for mlp, img, target in loader:\n",
    "        mlp_list.append(mlp)\n",
    "        img_list.append(img)\n",
    "        target_list.append(target)\n",
    "    return torch.cat(mlp_list, dim=0), torch.cat(img_list, dim=0), torch.cat(target_list, dim=0)"
   ]
  },
  {
   "cell_type": "code",
   "execution_count": 11,
   "id": "842e7c5b-7118-4ae6-b304-09854c9c534b",
   "metadata": {},
   "outputs": [],
   "source": [
    "# Combine dataloaders into tensors.\n",
    "train_mlp, train_img, train_target = combine_loader(train_loader)\n",
    "val_mlp, val_img, val_target = combine_loader(val_loader)\n",
    "test_mlp, test_img, test_target = combine_loader(test_loader)\n",
    "\n",
    "dataset = {\n",
    "    \"train_input\": train_mlp.to(device),\n",
    "    \"train_img\": train_img.to(device),\n",
    "    \"train_label\": train_target.to(device),\n",
    "    \"val_input\": val_mlp.to(device),\n",
    "    \"val_img\": val_img.to(device),\n",
    "    \"val_label\": val_target.to(device),\n",
    "    \"test_input\": test_mlp.to(device),\n",
    "    \"test_img\": test_img.to(device),\n",
    "    \"test_label\": test_target.to(device),\n",
    "}"
   ]
  },
  {
   "cell_type": "code",
   "execution_count": 12,
   "id": "41a4bc54-fff8-4428-8af9-716a5a9f8e71",
   "metadata": {},
   "outputs": [
    {
     "name": "stdout",
     "output_type": "stream",
     "text": [
      "Train data shape: torch.Size([5242, 8])\n",
      "Train target shape: torch.Size([5242, 1])\n",
      "Test data shape: torch.Size([1639, 8])\n",
      "Test target shape: torch.Size([1639, 1])\n",
      "Validation data shape: torch.Size([1311, 8])\n",
      "Validation target shape: torch.Size([1311, 1])\n"
     ]
    }
   ],
   "source": [
    "# Print the shapes of the tensors\n",
    "print(\"Train data shape:\", dataset['train_input'].shape)\n",
    "print(\"Train target shape:\", dataset['train_label'].shape)\n",
    "print(\"Test data shape:\", dataset['test_input'].shape)\n",
    "print(\"Test target shape:\", dataset['test_label'].shape)\n",
    "print(\"Validation data shape:\", dataset['val_input'].shape)\n",
    "print(\"Validation target shape:\", dataset['val_label'].shape)"
   ]
  },
  {
   "cell_type": "code",
   "execution_count": 13,
   "id": "aee83e03-5eea-4478-afa8-87473c92bce6",
   "metadata": {},
   "outputs": [],
   "source": [
    "def average_rmse(output, val_target):\n",
    "    \"\"\"\n",
    "    Computes the root mean squared error (RMSE) between output and val_target.\n",
    "\n",
    "    Args:\n",
    "        output (torch.Tensor): The predicted output tensor.\n",
    "        val_target (torch.Tensor): The ground truth tensor.\n",
    "    \n",
    "    Returns:\n",
    "        float: The RMSE value.\n",
    "    \"\"\"\n",
    "    mse = torch.mean((output - val_target) ** 2)\n",
    "    rmse = torch.sqrt(mse)\n",
    "    return rmse.item()  # returns a Python float "
   ]
  },
  {
   "cell_type": "code",
   "execution_count": 14,
   "id": "246608e6-1b42-4495-9270-3913b1a99fdb",
   "metadata": {},
   "outputs": [],
   "source": [
    "import copy\n",
    "\n",
    "def custom_fit(model, dataset, opt=\"LBFGS\", steps=100, log=1, lamb=0., lamb_l1=1., lamb_entropy=2., lamb_coef=0., lamb_coefdiff=0., update_grid=True, \n",
    "               grid_update_num=10, loss_fn=None, lr=1.,start_grid_update_step=-1, stop_grid_update_step=50, batch=-1,\n",
    "            metrics=None, save_fig=False, in_vars=None, out_vars=None, beta=3, save_fig_freq=1, img_folder='./video', \n",
    "               singularity_avoiding=False, y_th=1000., reg_metric='edge_forward_spline_n', display_metrics=None):\n",
    "    '''\n",
    "    training\n",
    "\n",
    "    Args:\n",
    "    -----\n",
    "        dataset : dic\n",
    "            contains dataset['train_input'], dataset['train_label'], dataset['test_input'], dataset['test_label']\n",
    "        opt : str\n",
    "            \"LBFGS\" or \"Adam\"\n",
    "        steps : int\n",
    "            training steps\n",
    "        log : int\n",
    "            logging frequency\n",
    "        lamb : float\n",
    "            overall penalty strength\n",
    "        lamb_l1 : float\n",
    "            l1 penalty strength\n",
    "        lamb_entropy : float\n",
    "            entropy penalty strength\n",
    "        lamb_coef : float\n",
    "            coefficient magnitude penalty strength\n",
    "        lamb_coefdiff : float\n",
    "            difference of nearby coefficits (smoothness) penalty strength\n",
    "        update_grid : bool\n",
    "            If True, update grid regularly before stop_grid_update_step\n",
    "        grid_update_num : int\n",
    "            the number of grid updates before stop_grid_update_step\n",
    "        start_grid_update_step : int\n",
    "            no grid updates before this training step\n",
    "        stop_grid_update_step : int\n",
    "            no grid updates after this training step\n",
    "        loss_fn : function\n",
    "            loss function\n",
    "        lr : float\n",
    "            learning rate\n",
    "        batch : int\n",
    "            batch size, if -1 then full.\n",
    "        save_fig_freq : int\n",
    "            save figure every (save_fig_freq) steps\n",
    "        singularity_avoiding : bool\n",
    "            indicate whether to avoid singularity for the symbolic part\n",
    "        y_th : float\n",
    "            singularity threshold (anything above the threshold is considered singular and is softened in some ways)\n",
    "        reg_metric : str\n",
    "            regularization metric. Choose from {'edge_forward_spline_n', 'edge_forward_spline_u', 'edge_forward_sum', 'edge_backward', 'node_backward'}\n",
    "        metrics : a list of metrics (as functions)\n",
    "            the metrics to be computed in training\n",
    "        display_metrics : a list of functions\n",
    "            the metric to be displayed in tqdm progress bar\n",
    "\n",
    "    Returns:\n",
    "    --------\n",
    "        results : dic\n",
    "            results['train_loss'], 1D array of training losses (RMSE)\n",
    "            results['test_loss'], 1D array of test losses (RMSE)\n",
    "            results['reg'], 1D array of regularization\n",
    "            other metrics specified in metrics\n",
    "        best_model:\n",
    "    '''\n",
    "\n",
    "    if lamb > 0. and not model.save_act:\n",
    "        print('setting lamb=0. If you want to set lamb > 0, set model.save_act=True')\n",
    "        \n",
    "    old_save_act, old_symbolic_enabled = model.disable_symbolic_in_fit(lamb)\n",
    "\n",
    "    pbar = tqdm(range(steps), desc='description', ncols=100)\n",
    "\n",
    "    if loss_fn == None:\n",
    "        loss_fn = loss_fn_eval = lambda x, y: torch.mean((x - y) ** 2)\n",
    "    else:\n",
    "        loss_fn = loss_fn_eval = loss_fn\n",
    "\n",
    "    grid_update_freq = int(stop_grid_update_step / grid_update_num)\n",
    "\n",
    "    if opt == \"Adam\":\n",
    "        optimizer = torch.optim.Adam(model.get_params(), lr=lr)\n",
    "    elif opt == \"LBFGS\":\n",
    "        optimizer = LBFGS(model.get_params(), lr=lr, history_size=10, line_search_fn=\"strong_wolfe\", tolerance_grad=1e-32, tolerance_change=1e-32, tolerance_ys=1e-32)\n",
    "\n",
    "    results = {}\n",
    "    results['train_loss'] = []\n",
    "    results['test_loss'] = []\n",
    "    results['reg'] = []\n",
    "    if metrics != None:\n",
    "        for i in range(len(metrics)):\n",
    "            results[metrics[i].__name__] = []\n",
    "\n",
    "    if batch == -1 or batch > dataset['train_input'].shape[0]:\n",
    "        batch_size = dataset['train_input'].shape[0]\n",
    "        batch_size_test = dataset['test_input'].shape[0]\n",
    "    else:\n",
    "        batch_size = batch\n",
    "        batch_size_test = batch\n",
    "\n",
    "    global train_loss, reg_\n",
    "\n",
    "    def closure():\n",
    "        global train_loss, reg_\n",
    "        optimizer.zero_grad()\n",
    "        pred = model.forward(dataset['train_input'][train_id], singularity_avoiding=singularity_avoiding, y_th=y_th)\n",
    "        train_loss = loss_fn(pred, dataset['train_label'][train_id])\n",
    "        if model.save_act:\n",
    "            if reg_metric == 'edge_backward':\n",
    "                model.attribute()\n",
    "            if reg_metric == 'node_backward':\n",
    "                model.node_attribute()\n",
    "            reg_ = model.get_reg(reg_metric, lamb_l1, lamb_entropy, lamb_coef, lamb_coefdiff)\n",
    "        else:\n",
    "            reg_ = torch.tensor(0.)\n",
    "        objective = train_loss + lamb * reg_\n",
    "        objective.backward()\n",
    "        return objective\n",
    "\n",
    "    if save_fig:\n",
    "        if not os.path.exists(img_folder):\n",
    "            os.makedirs(img_folder)\n",
    "    \n",
    "    best_model_state = None\n",
    "    best_epoch = -1\n",
    "    best_loss = float('inf')\n",
    "    \n",
    "    for epoch in pbar:\n",
    "        \n",
    "        if epoch == steps-1 and old_save_act:\n",
    "            model.save_act = True\n",
    "            \n",
    "        if save_fig and epoch % save_fig_freq == 0:\n",
    "            save_act = model.save_act\n",
    "            model.save_act = True\n",
    "        \n",
    "        train_id = np.random.choice(dataset['train_input'].shape[0], batch_size, replace=False)\n",
    "        test_id = np.random.choice(dataset['test_input'].shape[0], batch_size_test, replace=False)\n",
    "\n",
    "        if epoch % grid_update_freq == 0 and epoch < stop_grid_update_step and update_grid and epoch >= start_grid_update_step:\n",
    "            model.update_grid(dataset['train_input'][train_id])\n",
    "\n",
    "        if opt == \"LBFGS\":\n",
    "            optimizer.step(closure)\n",
    "\n",
    "        if opt == \"Adam\":\n",
    "            pred = model.forward(dataset['train_input'][train_id], singularity_avoiding=singularity_avoiding, y_th=y_th)\n",
    "            train_loss = loss_fn(pred, dataset['train_label'][train_id])\n",
    "            if model.save_act:\n",
    "                if reg_metric == 'edge_backward':\n",
    "                    model.attribute()\n",
    "                if reg_metric == 'node_backward':\n",
    "                    model.node_attribute()\n",
    "                reg_ = model.get_reg(reg_metric, lamb_l1, lamb_entropy, lamb_coef, lamb_coefdiff)\n",
    "            else:\n",
    "                reg_ = torch.tensor(0.)\n",
    "            loss = train_loss + lamb * reg_\n",
    "            optimizer.zero_grad()\n",
    "            loss.backward()\n",
    "            optimizer.step()\n",
    "\n",
    "        test_loss = loss_fn_eval(model.forward(dataset['test_input'][test_id]), dataset['test_label'][test_id])\n",
    "        \n",
    "        \n",
    "        if metrics != None:\n",
    "            for i in range(len(metrics)):\n",
    "                results[metrics[i].__name__].append(metrics[i]().item())\n",
    "\n",
    "        if test_loss < best_loss:\n",
    "            best_epoch = epoch\n",
    "            best_loss = test_loss\n",
    "            best_model_state = copy.deepcopy(model.state_dict())\n",
    "        \n",
    "        results['train_loss'].append(torch.sqrt(train_loss).cpu().detach().numpy())\n",
    "        results['test_loss'].append(torch.sqrt(test_loss).cpu().detach().numpy())\n",
    "        results['reg'].append(reg_.cpu().detach().numpy())\n",
    "\n",
    "        if epoch % log == 0:\n",
    "            if display_metrics == None:\n",
    "                pbar.set_description(\"| train_loss: %.2e | test_loss: %.2e | reg: %.2e | \" % (torch.sqrt(train_loss).cpu().detach().numpy(), torch.sqrt(test_loss).cpu().detach().numpy(), reg_.cpu().detach().numpy()))\n",
    "            else:\n",
    "                string = ''\n",
    "                data = ()\n",
    "                for metric in display_metrics:\n",
    "                    string += f' {metric}: %.2e |'\n",
    "                    try:\n",
    "                        results[metric]\n",
    "                    except:\n",
    "                        raise Exception(f'{metric} not recognized')\n",
    "                    data += (results[metric][-1],)\n",
    "                pbar.set_description(string % data)\n",
    "                \n",
    "        \n",
    "        if save_fig and epoch % save_fig_freq == 0:\n",
    "            model.plot(folder=img_folder, in_vars=in_vars, out_vars=out_vars, title=\"Step {}\".format(_), beta=beta)\n",
    "            plt.savefig(img_folder + '/' + str(_) + '.jpg', bbox_inches='tight', dpi=200)\n",
    "            plt.close()\n",
    "            model.save_act = save_act\n",
    "\n",
    "    model.log_history('fit')\n",
    "    # revert back to original state\n",
    "    model.symbolic_enabled = old_symbolic_enabled\n",
    "    #print(f\"Best epoch: {best_epoch} \")\n",
    "    return results, best_model_state, best_epoch"
   ]
  },
  {
   "cell_type": "code",
   "execution_count": 15,
   "id": "f7fac98d-8e40-4350-905f-e4dd85bd4b1e",
   "metadata": {},
   "outputs": [],
   "source": [
    "import numpy as np\n",
    "import copy\n",
    "\n",
    "output_dim = 1\n",
    "\n",
    "def grid_search_kan(dataset):\n",
    "    hidden_neuron_options = list(range(1, attributes // 2 + 1))\n",
    "    grid_options = list(range(3, 8))\n",
    "    lamb_options = [1., 0.1, 0.01, 0.001, 0.0001, 0.00001]\n",
    "\n",
    "    top_models = []  # list of dicts: each will have 'loss', 'config', 'state_dict'\n",
    "\n",
    "    for hidden in hidden_neuron_options:\n",
    "        for grid in grid_options:\n",
    "            for lamb in lamb_options:\n",
    "                print(f\"Testing width=[{attributes}, {hidden}, {output_dim}], lamb={lamb}, grid={grid}\")\n",
    "                model = KAN(width=[attributes, hidden, output_dim], grid=grid, k=3, seed=381, device=device)\n",
    "                \n",
    "                # Custom training\n",
    "                _, model_state, _ = custom_fit(model, dataset, opt=\"LBFGS\", steps=30, lamb=lamb)\n",
    "                model.load_state_dict(model_state)\n",
    "\n",
    "                # Evaluate\n",
    "                avg_loss = average_rmse(model(dataset['val_input']), dataset['val_label'])\n",
    "\n",
    "                # Save this model info\n",
    "                top_models.append({\n",
    "                    \"loss\": avg_loss,\n",
    "                    \"config\": {\"hidden\": hidden, \"grid\": grid, \"lamb\": lamb},\n",
    "                    \"state_dict\": copy.deepcopy(model_state)\n",
    "                })\n",
    "\n",
    "                # Keep only top 5\n",
    "                top_models = sorted(top_models, key=lambda x: x[\"loss\"])[:5]\n",
    "\n",
    "    print(\"\\n✅ Top 5 Configurations:\")\n",
    "    for i, entry in enumerate(top_models):\n",
    "        cfg = entry[\"config\"]\n",
    "        print(f\"{i+1}. width=[{attributes}, {cfg['hidden']}, {output_dim}], grid={cfg['grid']}, lamb={cfg['lamb']} | loss={entry['loss']:.5f}\")\n",
    "\n",
    "    #return top_models\n"
   ]
  },
  {
   "cell_type": "code",
   "execution_count": 16,
   "id": "dfabe141-87d9-41f6-b7f4-c91df2b4ef6d",
   "metadata": {},
   "outputs": [
    {
     "name": "stdout",
     "output_type": "stream",
     "text": [
      "Testing width=[8, 1, 1], lamb=1.0, grid=3\n",
      "checkpoint directory created: ./model\n",
      "saving model version 0.0\n"
     ]
    },
    {
     "name": "stderr",
     "output_type": "stream",
     "text": [
      "| train_loss: 5.69e+00 | test_loss: 5.69e+00 | reg: 1.23e-01 | : 100%|█| 30/30 [00:03<00:00,  7.52it\n"
     ]
    },
    {
     "name": "stdout",
     "output_type": "stream",
     "text": [
      "saving model version 0.1\n",
      "Testing width=[8, 1, 1], lamb=0.1, grid=3\n",
      "checkpoint directory created: ./model\n",
      "saving model version 0.0\n"
     ]
    },
    {
     "name": "stderr",
     "output_type": "stream",
     "text": [
      "| train_loss: 3.33e+00 | test_loss: 3.46e+00 | reg: 1.33e+01 | : 100%|█| 30/30 [00:07<00:00,  4.13it\n"
     ]
    },
    {
     "name": "stdout",
     "output_type": "stream",
     "text": [
      "saving model version 0.1\n",
      "Testing width=[8, 1, 1], lamb=0.01, grid=3\n",
      "checkpoint directory created: ./model\n",
      "saving model version 0.0\n"
     ]
    },
    {
     "name": "stderr",
     "output_type": "stream",
     "text": [
      "| train_loss: 3.32e+00 | test_loss: 3.47e+00 | reg: 1.42e+01 | : 100%|█| 30/30 [00:08<00:00,  3.66it\n"
     ]
    },
    {
     "name": "stdout",
     "output_type": "stream",
     "text": [
      "saving model version 0.1\n",
      "Testing width=[8, 1, 1], lamb=0.001, grid=3\n",
      "checkpoint directory created: ./model\n",
      "saving model version 0.0\n"
     ]
    },
    {
     "name": "stderr",
     "output_type": "stream",
     "text": [
      "| train_loss: 3.32e+00 | test_loss: 3.47e+00 | reg: 1.46e+01 | : 100%|█| 30/30 [00:07<00:00,  4.07it\n"
     ]
    },
    {
     "name": "stdout",
     "output_type": "stream",
     "text": [
      "saving model version 0.1\n",
      "Testing width=[8, 1, 1], lamb=0.0001, grid=3\n",
      "checkpoint directory created: ./model\n",
      "saving model version 0.0\n"
     ]
    },
    {
     "name": "stderr",
     "output_type": "stream",
     "text": [
      "| train_loss: 3.32e+00 | test_loss: 3.47e+00 | reg: 1.45e+01 | : 100%|█| 30/30 [00:07<00:00,  4.00it\n"
     ]
    },
    {
     "name": "stdout",
     "output_type": "stream",
     "text": [
      "saving model version 0.1\n",
      "Testing width=[8, 1, 1], lamb=1e-05, grid=3\n",
      "checkpoint directory created: ./model\n",
      "saving model version 0.0\n"
     ]
    },
    {
     "name": "stderr",
     "output_type": "stream",
     "text": [
      "| train_loss: 3.32e+00 | test_loss: 3.47e+00 | reg: 1.45e+01 | : 100%|█| 30/30 [00:07<00:00,  3.99it\n"
     ]
    },
    {
     "name": "stdout",
     "output_type": "stream",
     "text": [
      "saving model version 0.1\n",
      "Testing width=[8, 1, 1], lamb=1.0, grid=4\n",
      "checkpoint directory created: ./model\n",
      "saving model version 0.0\n"
     ]
    },
    {
     "name": "stderr",
     "output_type": "stream",
     "text": [
      "| train_loss: 5.60e+00 | test_loss: 5.57e+00 | reg: 1.70e-01 | : 100%|█| 30/30 [00:05<00:00,  5.47it\n"
     ]
    },
    {
     "name": "stdout",
     "output_type": "stream",
     "text": [
      "saving model version 0.1\n",
      "Testing width=[8, 1, 1], lamb=0.1, grid=4\n",
      "checkpoint directory created: ./model\n",
      "saving model version 0.0\n"
     ]
    },
    {
     "name": "stderr",
     "output_type": "stream",
     "text": [
      "| train_loss: 3.32e+00 | test_loss: 3.45e+00 | reg: 1.24e+01 | : 100%|█| 30/30 [00:07<00:00,  3.94it\n"
     ]
    },
    {
     "name": "stdout",
     "output_type": "stream",
     "text": [
      "saving model version 0.1\n",
      "Testing width=[8, 1, 1], lamb=0.01, grid=4\n",
      "checkpoint directory created: ./model\n",
      "saving model version 0.0\n"
     ]
    },
    {
     "name": "stderr",
     "output_type": "stream",
     "text": [
      "| train_loss: 3.32e+00 | test_loss: 3.46e+00 | reg: 1.38e+01 | : 100%|█| 30/30 [00:07<00:00,  4.12it\n"
     ]
    },
    {
     "name": "stdout",
     "output_type": "stream",
     "text": [
      "saving model version 0.1\n",
      "Testing width=[8, 1, 1], lamb=0.001, grid=4\n",
      "checkpoint directory created: ./model\n",
      "saving model version 0.0\n"
     ]
    },
    {
     "name": "stderr",
     "output_type": "stream",
     "text": [
      "| train_loss: 3.32e+00 | test_loss: 3.46e+00 | reg: 1.43e+01 | : 100%|█| 30/30 [00:07<00:00,  3.97it\n"
     ]
    },
    {
     "name": "stdout",
     "output_type": "stream",
     "text": [
      "saving model version 0.1\n",
      "Testing width=[8, 1, 1], lamb=0.0001, grid=4\n",
      "checkpoint directory created: ./model\n",
      "saving model version 0.0\n"
     ]
    },
    {
     "name": "stderr",
     "output_type": "stream",
     "text": [
      "| train_loss: 3.32e+00 | test_loss: 3.46e+00 | reg: 1.43e+01 | : 100%|█| 30/30 [00:08<00:00,  3.58it\n"
     ]
    },
    {
     "name": "stdout",
     "output_type": "stream",
     "text": [
      "saving model version 0.1\n",
      "Testing width=[8, 1, 1], lamb=1e-05, grid=4\n",
      "checkpoint directory created: ./model\n",
      "saving model version 0.0\n"
     ]
    },
    {
     "name": "stderr",
     "output_type": "stream",
     "text": [
      "| train_loss: 3.32e+00 | test_loss: 3.46e+00 | reg: 1.43e+01 | : 100%|█| 30/30 [00:07<00:00,  3.84it\n"
     ]
    },
    {
     "name": "stdout",
     "output_type": "stream",
     "text": [
      "saving model version 0.1\n",
      "Testing width=[8, 1, 1], lamb=1.0, grid=5\n",
      "checkpoint directory created: ./model\n",
      "saving model version 0.0\n"
     ]
    },
    {
     "name": "stderr",
     "output_type": "stream",
     "text": [
      "| train_loss: 5.62e+00 | test_loss: 5.60e+00 | reg: 2.49e-01 | : 100%|█| 30/30 [00:04<00:00,  6.76it\n"
     ]
    },
    {
     "name": "stdout",
     "output_type": "stream",
     "text": [
      "saving model version 0.1\n",
      "Testing width=[8, 1, 1], lamb=0.1, grid=5\n",
      "checkpoint directory created: ./model\n",
      "saving model version 0.0\n"
     ]
    },
    {
     "name": "stderr",
     "output_type": "stream",
     "text": [
      "| train_loss: 3.32e+00 | test_loss: 3.45e+00 | reg: 1.29e+01 | : 100%|█| 30/30 [00:06<00:00,  4.89it\n"
     ]
    },
    {
     "name": "stdout",
     "output_type": "stream",
     "text": [
      "saving model version 0.1\n",
      "Testing width=[8, 1, 1], lamb=0.01, grid=5\n",
      "checkpoint directory created: ./model\n",
      "saving model version 0.0\n"
     ]
    },
    {
     "name": "stderr",
     "output_type": "stream",
     "text": [
      "| train_loss: 3.36e+00 | test_loss: 3.55e+00 | reg: 1.17e+01 | : 100%|█| 30/30 [00:08<00:00,  3.40it\n"
     ]
    },
    {
     "name": "stdout",
     "output_type": "stream",
     "text": [
      "saving model version 0.1\n",
      "Testing width=[8, 1, 1], lamb=0.001, grid=5\n",
      "checkpoint directory created: ./model\n",
      "saving model version 0.0\n"
     ]
    },
    {
     "name": "stderr",
     "output_type": "stream",
     "text": [
      "| train_loss: 3.31e+00 | test_loss: 3.46e+00 | reg: 1.35e+01 | : 100%|█| 30/30 [00:08<00:00,  3.72it\n"
     ]
    },
    {
     "name": "stdout",
     "output_type": "stream",
     "text": [
      "saving model version 0.1\n",
      "Testing width=[8, 1, 1], lamb=0.0001, grid=5\n",
      "checkpoint directory created: ./model\n",
      "saving model version 0.0\n"
     ]
    },
    {
     "name": "stderr",
     "output_type": "stream",
     "text": [
      "| train_loss: 3.31e+00 | test_loss: 3.46e+00 | reg: 1.37e+01 | : 100%|█| 30/30 [00:07<00:00,  3.90it\n"
     ]
    },
    {
     "name": "stdout",
     "output_type": "stream",
     "text": [
      "saving model version 0.1\n",
      "Testing width=[8, 1, 1], lamb=1e-05, grid=5\n",
      "checkpoint directory created: ./model\n",
      "saving model version 0.0\n"
     ]
    },
    {
     "name": "stderr",
     "output_type": "stream",
     "text": [
      "| train_loss: 3.31e+00 | test_loss: 3.46e+00 | reg: 1.25e+01 | : 100%|█| 30/30 [00:07<00:00,  4.11it\n"
     ]
    },
    {
     "name": "stdout",
     "output_type": "stream",
     "text": [
      "saving model version 0.1\n",
      "Testing width=[8, 1, 1], lamb=1.0, grid=6\n",
      "checkpoint directory created: ./model\n",
      "saving model version 0.0\n"
     ]
    },
    {
     "name": "stderr",
     "output_type": "stream",
     "text": [
      "| train_loss: 5.67e+00 | test_loss: 5.67e+00 | reg: 4.54e-02 | : 100%|█| 30/30 [00:03<00:00,  8.48it\n"
     ]
    },
    {
     "name": "stdout",
     "output_type": "stream",
     "text": [
      "saving model version 0.1\n",
      "Testing width=[8, 1, 1], lamb=0.1, grid=6\n",
      "checkpoint directory created: ./model\n",
      "saving model version 0.0\n"
     ]
    },
    {
     "name": "stderr",
     "output_type": "stream",
     "text": [
      "| train_loss: 3.32e+00 | test_loss: 3.45e+00 | reg: 1.27e+01 | : 100%|█| 30/30 [00:07<00:00,  4.27it\n"
     ]
    },
    {
     "name": "stdout",
     "output_type": "stream",
     "text": [
      "saving model version 0.1\n",
      "Testing width=[8, 1, 1], lamb=0.01, grid=6\n",
      "checkpoint directory created: ./model\n",
      "saving model version 0.0\n"
     ]
    },
    {
     "name": "stderr",
     "output_type": "stream",
     "text": [
      "| train_loss: 3.31e+00 | test_loss: 3.45e+00 | reg: 1.41e+01 | : 100%|█| 30/30 [00:07<00:00,  3.95it\n"
     ]
    },
    {
     "name": "stdout",
     "output_type": "stream",
     "text": [
      "saving model version 0.1\n",
      "Testing width=[8, 1, 1], lamb=0.001, grid=6\n",
      "checkpoint directory created: ./model\n",
      "saving model version 0.0\n"
     ]
    },
    {
     "name": "stderr",
     "output_type": "stream",
     "text": [
      "| train_loss: 3.30e+00 | test_loss: 3.46e+00 | reg: 1.31e+01 | : 100%|█| 30/30 [00:08<00:00,  3.68it\n"
     ]
    },
    {
     "name": "stdout",
     "output_type": "stream",
     "text": [
      "saving model version 0.1\n",
      "Testing width=[8, 1, 1], lamb=0.0001, grid=6\n",
      "checkpoint directory created: ./model\n",
      "saving model version 0.0\n"
     ]
    },
    {
     "name": "stderr",
     "output_type": "stream",
     "text": [
      "| train_loss: 3.31e+00 | test_loss: 3.46e+00 | reg: 1.41e+01 | : 100%|█| 30/30 [00:07<00:00,  3.89it\n"
     ]
    },
    {
     "name": "stdout",
     "output_type": "stream",
     "text": [
      "saving model version 0.1\n",
      "Testing width=[8, 1, 1], lamb=1e-05, grid=6\n",
      "checkpoint directory created: ./model\n",
      "saving model version 0.0\n"
     ]
    },
    {
     "name": "stderr",
     "output_type": "stream",
     "text": [
      "| train_loss: 3.31e+00 | test_loss: 3.46e+00 | reg: 1.41e+01 | : 100%|█| 30/30 [00:08<00:00,  3.54it\n"
     ]
    },
    {
     "name": "stdout",
     "output_type": "stream",
     "text": [
      "saving model version 0.1\n",
      "Testing width=[8, 1, 1], lamb=1.0, grid=7\n",
      "checkpoint directory created: ./model\n",
      "saving model version 0.0\n"
     ]
    },
    {
     "name": "stderr",
     "output_type": "stream",
     "text": [
      "| train_loss: 5.70e+00 | test_loss: 5.70e+00 | reg: 9.34e-02 | : 100%|█| 30/30 [00:03<00:00,  8.93it\n"
     ]
    },
    {
     "name": "stdout",
     "output_type": "stream",
     "text": [
      "saving model version 0.1\n",
      "Testing width=[8, 1, 1], lamb=0.1, grid=7\n",
      "checkpoint directory created: ./model\n",
      "saving model version 0.0\n"
     ]
    },
    {
     "name": "stderr",
     "output_type": "stream",
     "text": [
      "| train_loss: 3.33e+00 | test_loss: 3.45e+00 | reg: 1.25e+01 | : 100%|█| 30/30 [00:05<00:00,  5.91it\n"
     ]
    },
    {
     "name": "stdout",
     "output_type": "stream",
     "text": [
      "saving model version 0.1\n",
      "Testing width=[8, 1, 1], lamb=0.01, grid=7\n",
      "checkpoint directory created: ./model\n",
      "saving model version 0.0\n"
     ]
    },
    {
     "name": "stderr",
     "output_type": "stream",
     "text": [
      "| train_loss: 3.31e+00 | test_loss: 3.47e+00 | reg: 1.84e+01 | : 100%|█| 30/30 [00:07<00:00,  4.19it\n"
     ]
    },
    {
     "name": "stdout",
     "output_type": "stream",
     "text": [
      "saving model version 0.1\n",
      "Testing width=[8, 1, 1], lamb=0.001, grid=7\n",
      "checkpoint directory created: ./model\n",
      "saving model version 0.0\n"
     ]
    },
    {
     "name": "stderr",
     "output_type": "stream",
     "text": [
      "| train_loss: 3.30e+00 | test_loss: 3.46e+00 | reg: 1.89e+01 | : 100%|█| 30/30 [00:07<00:00,  4.09it\n"
     ]
    },
    {
     "name": "stdout",
     "output_type": "stream",
     "text": [
      "saving model version 0.1\n",
      "Testing width=[8, 1, 1], lamb=0.0001, grid=7\n",
      "checkpoint directory created: ./model\n",
      "saving model version 0.0\n"
     ]
    },
    {
     "name": "stderr",
     "output_type": "stream",
     "text": [
      "| train_loss: 3.31e+00 | test_loss: 3.47e+00 | reg: 1.89e+01 | : 100%|█| 30/30 [00:07<00:00,  4.08it\n"
     ]
    },
    {
     "name": "stdout",
     "output_type": "stream",
     "text": [
      "saving model version 0.1\n",
      "Testing width=[8, 1, 1], lamb=1e-05, grid=7\n",
      "checkpoint directory created: ./model\n",
      "saving model version 0.0\n"
     ]
    },
    {
     "name": "stderr",
     "output_type": "stream",
     "text": [
      "| train_loss: 3.31e+00 | test_loss: 3.47e+00 | reg: 1.89e+01 | : 100%|█| 30/30 [00:08<00:00,  3.39it\n"
     ]
    },
    {
     "name": "stdout",
     "output_type": "stream",
     "text": [
      "saving model version 0.1\n",
      "Testing width=[8, 2, 1], lamb=1.0, grid=3\n",
      "checkpoint directory created: ./model\n",
      "saving model version 0.0\n"
     ]
    },
    {
     "name": "stderr",
     "output_type": "stream",
     "text": [
      "| train_loss: 5.67e+00 | test_loss: 5.67e+00 | reg: 1.62e-01 | : 100%|█| 30/30 [00:05<00:00,  5.20it\n"
     ]
    },
    {
     "name": "stdout",
     "output_type": "stream",
     "text": [
      "saving model version 0.1\n",
      "Testing width=[8, 2, 1], lamb=0.1, grid=3\n",
      "checkpoint directory created: ./model\n",
      "saving model version 0.0\n"
     ]
    },
    {
     "name": "stderr",
     "output_type": "stream",
     "text": [
      "| train_loss: 3.12e+00 | test_loss: 3.25e+00 | reg: 1.81e+01 | : 100%|█| 30/30 [00:09<00:00,  3.01it\n"
     ]
    },
    {
     "name": "stdout",
     "output_type": "stream",
     "text": [
      "saving model version 0.1\n",
      "Testing width=[8, 2, 1], lamb=0.01, grid=3\n",
      "checkpoint directory created: ./model\n",
      "saving model version 0.0\n"
     ]
    },
    {
     "name": "stderr",
     "output_type": "stream",
     "text": [
      "| train_loss: 3.08e+00 | test_loss: 3.26e+00 | reg: 2.52e+01 | : 100%|█| 30/30 [00:09<00:00,  3.23it\n"
     ]
    },
    {
     "name": "stdout",
     "output_type": "stream",
     "text": [
      "saving model version 0.1\n",
      "Testing width=[8, 2, 1], lamb=0.001, grid=3\n",
      "checkpoint directory created: ./model\n",
      "saving model version 0.0\n"
     ]
    },
    {
     "name": "stderr",
     "output_type": "stream",
     "text": [
      "| train_loss: 3.08e+00 | test_loss: 3.28e+00 | reg: 3.64e+01 | : 100%|█| 30/30 [00:08<00:00,  3.65it\n"
     ]
    },
    {
     "name": "stdout",
     "output_type": "stream",
     "text": [
      "saving model version 0.1\n",
      "Testing width=[8, 2, 1], lamb=0.0001, grid=3\n",
      "checkpoint directory created: ./model\n",
      "saving model version 0.0\n"
     ]
    },
    {
     "name": "stderr",
     "output_type": "stream",
     "text": [
      "| train_loss: 3.08e+00 | test_loss: 3.28e+00 | reg: 4.20e+01 | : 100%|█| 30/30 [00:08<00:00,  3.60it\n"
     ]
    },
    {
     "name": "stdout",
     "output_type": "stream",
     "text": [
      "saving model version 0.1\n",
      "Testing width=[8, 2, 1], lamb=1e-05, grid=3\n",
      "checkpoint directory created: ./model\n",
      "saving model version 0.0\n"
     ]
    },
    {
     "name": "stderr",
     "output_type": "stream",
     "text": [
      "| train_loss: 3.08e+00 | test_loss: 3.26e+00 | reg: 3.51e+01 | : 100%|█| 30/30 [00:08<00:00,  3.61it\n"
     ]
    },
    {
     "name": "stdout",
     "output_type": "stream",
     "text": [
      "saving model version 0.1\n",
      "Testing width=[8, 2, 1], lamb=1.0, grid=4\n",
      "checkpoint directory created: ./model\n",
      "saving model version 0.0\n"
     ]
    },
    {
     "name": "stderr",
     "output_type": "stream",
     "text": [
      "| train_loss: 5.66e+00 | test_loss: 5.66e+00 | reg: 1.62e-01 | : 100%|█| 30/30 [00:07<00:00,  4.02it\n"
     ]
    },
    {
     "name": "stdout",
     "output_type": "stream",
     "text": [
      "saving model version 0.1\n",
      "Testing width=[8, 2, 1], lamb=0.1, grid=4\n",
      "checkpoint directory created: ./model\n",
      "saving model version 0.0\n"
     ]
    },
    {
     "name": "stderr",
     "output_type": "stream",
     "text": [
      "| train_loss: 3.33e+00 | test_loss: 3.46e+00 | reg: 1.22e+01 | : 100%|█| 30/30 [00:08<00:00,  3.57it\n"
     ]
    },
    {
     "name": "stdout",
     "output_type": "stream",
     "text": [
      "saving model version 0.1\n",
      "Testing width=[8, 2, 1], lamb=0.01, grid=4\n",
      "checkpoint directory created: ./model\n",
      "saving model version 0.0\n"
     ]
    },
    {
     "name": "stderr",
     "output_type": "stream",
     "text": [
      "| train_loss: 3.07e+00 | test_loss: 3.26e+00 | reg: 2.30e+01 | : 100%|█| 30/30 [00:08<00:00,  3.43it\n"
     ]
    },
    {
     "name": "stdout",
     "output_type": "stream",
     "text": [
      "saving model version 0.1\n",
      "Testing width=[8, 2, 1], lamb=0.001, grid=4\n",
      "checkpoint directory created: ./model\n",
      "saving model version 0.0\n"
     ]
    },
    {
     "name": "stderr",
     "output_type": "stream",
     "text": [
      "| train_loss: 3.10e+00 | test_loss: 3.24e+00 | reg: 2.97e+01 | : 100%|█| 30/30 [00:08<00:00,  3.55it\n"
     ]
    },
    {
     "name": "stdout",
     "output_type": "stream",
     "text": [
      "saving model version 0.1\n",
      "Testing width=[8, 2, 1], lamb=0.0001, grid=4\n",
      "checkpoint directory created: ./model\n",
      "saving model version 0.0\n"
     ]
    },
    {
     "name": "stderr",
     "output_type": "stream",
     "text": [
      "| train_loss: 3.10e+00 | test_loss: 3.23e+00 | reg: 3.94e+01 | : 100%|█| 30/30 [00:08<00:00,  3.57it\n"
     ]
    },
    {
     "name": "stdout",
     "output_type": "stream",
     "text": [
      "saving model version 0.1\n",
      "Testing width=[8, 2, 1], lamb=1e-05, grid=4\n",
      "checkpoint directory created: ./model\n",
      "saving model version 0.0\n"
     ]
    },
    {
     "name": "stderr",
     "output_type": "stream",
     "text": [
      "| train_loss: 3.10e+00 | test_loss: 3.23e+00 | reg: 2.99e+01 | : 100%|█| 30/30 [00:08<00:00,  3.57it\n"
     ]
    },
    {
     "name": "stdout",
     "output_type": "stream",
     "text": [
      "saving model version 0.1\n",
      "Testing width=[8, 2, 1], lamb=1.0, grid=5\n",
      "checkpoint directory created: ./model\n",
      "saving model version 0.0\n"
     ]
    },
    {
     "name": "stderr",
     "output_type": "stream",
     "text": [
      "| train_loss: 5.69e+00 | test_loss: 5.69e+00 | reg: 1.95e-01 | : 100%|█| 30/30 [00:07<00:00,  4.14it\n"
     ]
    },
    {
     "name": "stdout",
     "output_type": "stream",
     "text": [
      "saving model version 0.1\n",
      "Testing width=[8, 2, 1], lamb=0.1, grid=5\n",
      "checkpoint directory created: ./model\n",
      "saving model version 0.0\n"
     ]
    },
    {
     "name": "stderr",
     "output_type": "stream",
     "text": [
      "| train_loss: 3.15e+00 | test_loss: 3.28e+00 | reg: 2.08e+01 | : 100%|█| 30/30 [00:07<00:00,  3.80it\n"
     ]
    },
    {
     "name": "stdout",
     "output_type": "stream",
     "text": [
      "saving model version 0.1\n",
      "Testing width=[8, 2, 1], lamb=0.01, grid=5\n",
      "checkpoint directory created: ./model\n",
      "saving model version 0.0\n"
     ]
    },
    {
     "name": "stderr",
     "output_type": "stream",
     "text": [
      "| train_loss: 3.11e+00 | test_loss: 3.26e+00 | reg: 2.33e+01 | : 100%|█| 30/30 [00:08<00:00,  3.49it\n"
     ]
    },
    {
     "name": "stdout",
     "output_type": "stream",
     "text": [
      "saving model version 0.1\n",
      "Testing width=[8, 2, 1], lamb=0.001, grid=5\n",
      "checkpoint directory created: ./model\n",
      "saving model version 0.0\n"
     ]
    },
    {
     "name": "stderr",
     "output_type": "stream",
     "text": [
      "| train_loss: 3.12e+00 | test_loss: 3.27e+00 | reg: 5.67e+01 | : 100%|█| 30/30 [00:07<00:00,  3.85it\n"
     ]
    },
    {
     "name": "stdout",
     "output_type": "stream",
     "text": [
      "saving model version 0.1\n",
      "Testing width=[8, 2, 1], lamb=0.0001, grid=5\n",
      "checkpoint directory created: ./model\n",
      "saving model version 0.0\n"
     ]
    },
    {
     "name": "stderr",
     "output_type": "stream",
     "text": [
      "| train_loss: 3.08e+00 | test_loss: 3.25e+00 | reg: 2.78e+01 | : 100%|█| 30/30 [00:07<00:00,  3.99it\n"
     ]
    },
    {
     "name": "stdout",
     "output_type": "stream",
     "text": [
      "saving model version 0.1\n",
      "Testing width=[8, 2, 1], lamb=1e-05, grid=5\n",
      "checkpoint directory created: ./model\n",
      "saving model version 0.0\n"
     ]
    },
    {
     "name": "stderr",
     "output_type": "stream",
     "text": [
      "| train_loss: 3.10e+00 | test_loss: 3.23e+00 | reg: 2.80e+01 | : 100%|█| 30/30 [00:07<00:00,  3.82it\n"
     ]
    },
    {
     "name": "stdout",
     "output_type": "stream",
     "text": [
      "saving model version 0.1\n",
      "Testing width=[8, 2, 1], lamb=1.0, grid=6\n",
      "checkpoint directory created: ./model\n",
      "saving model version 0.0\n"
     ]
    },
    {
     "name": "stderr",
     "output_type": "stream",
     "text": [
      "| train_loss: 5.69e+00 | test_loss: 5.69e+00 | reg: 1.87e-01 | : 100%|█| 30/30 [00:07<00:00,  3.98it\n"
     ]
    },
    {
     "name": "stdout",
     "output_type": "stream",
     "text": [
      "saving model version 0.1\n",
      "Testing width=[8, 2, 1], lamb=0.1, grid=6\n",
      "checkpoint directory created: ./model\n",
      "saving model version 0.0\n"
     ]
    },
    {
     "name": "stderr",
     "output_type": "stream",
     "text": [
      "| train_loss: 3.10e+00 | test_loss: 3.29e+00 | reg: 1.87e+01 | : 100%|█| 30/30 [00:07<00:00,  3.80it\n"
     ]
    },
    {
     "name": "stdout",
     "output_type": "stream",
     "text": [
      "saving model version 0.1\n",
      "Testing width=[8, 2, 1], lamb=0.01, grid=6\n",
      "checkpoint directory created: ./model\n",
      "saving model version 0.0\n"
     ]
    },
    {
     "name": "stderr",
     "output_type": "stream",
     "text": [
      "| train_loss: 3.07e+00 | test_loss: 3.25e+00 | reg: 2.06e+01 | : 100%|█| 30/30 [00:08<00:00,  3.52it\n"
     ]
    },
    {
     "name": "stdout",
     "output_type": "stream",
     "text": [
      "saving model version 0.1\n",
      "Testing width=[8, 2, 1], lamb=0.001, grid=6\n",
      "checkpoint directory created: ./model\n",
      "saving model version 0.0\n"
     ]
    },
    {
     "name": "stderr",
     "output_type": "stream",
     "text": [
      "| train_loss: 3.07e+00 | test_loss: 3.25e+00 | reg: 2.38e+01 | : 100%|█| 30/30 [00:09<00:00,  3.19it\n"
     ]
    },
    {
     "name": "stdout",
     "output_type": "stream",
     "text": [
      "saving model version 0.1\n",
      "Testing width=[8, 2, 1], lamb=0.0001, grid=6\n",
      "checkpoint directory created: ./model\n",
      "saving model version 0.0\n"
     ]
    },
    {
     "name": "stderr",
     "output_type": "stream",
     "text": [
      "| train_loss: 3.07e+00 | test_loss: 3.24e+00 | reg: 2.58e+01 | : 100%|█| 30/30 [00:07<00:00,  3.84it\n"
     ]
    },
    {
     "name": "stdout",
     "output_type": "stream",
     "text": [
      "saving model version 0.1\n",
      "Testing width=[8, 2, 1], lamb=1e-05, grid=6\n",
      "checkpoint directory created: ./model\n",
      "saving model version 0.0\n"
     ]
    },
    {
     "name": "stderr",
     "output_type": "stream",
     "text": [
      "| train_loss: 3.07e+00 | test_loss: 3.24e+00 | reg: 2.82e+01 | : 100%|█| 30/30 [00:07<00:00,  3.93it\n"
     ]
    },
    {
     "name": "stdout",
     "output_type": "stream",
     "text": [
      "saving model version 0.1\n",
      "Testing width=[8, 2, 1], lamb=1.0, grid=7\n",
      "checkpoint directory created: ./model\n",
      "saving model version 0.0\n"
     ]
    },
    {
     "name": "stderr",
     "output_type": "stream",
     "text": [
      "| train_loss: 5.69e+00 | test_loss: 5.70e+00 | reg: 1.08e-01 | : 100%|█| 30/30 [00:04<00:00,  6.97it\n"
     ]
    },
    {
     "name": "stdout",
     "output_type": "stream",
     "text": [
      "saving model version 0.1\n",
      "Testing width=[8, 2, 1], lamb=0.1, grid=7\n",
      "checkpoint directory created: ./model\n",
      "saving model version 0.0\n"
     ]
    },
    {
     "name": "stderr",
     "output_type": "stream",
     "text": [
      "| train_loss: 3.32e+00 | test_loss: 3.46e+00 | reg: 1.76e+01 | : 100%|█| 30/30 [00:07<00:00,  3.81it\n"
     ]
    },
    {
     "name": "stdout",
     "output_type": "stream",
     "text": [
      "saving model version 0.1\n",
      "Testing width=[8, 2, 1], lamb=0.01, grid=7\n",
      "checkpoint directory created: ./model\n",
      "saving model version 0.0\n"
     ]
    },
    {
     "name": "stderr",
     "output_type": "stream",
     "text": [
      "| train_loss: 3.11e+00 | test_loss: 3.32e+00 | reg: 2.94e+01 | : 100%|█| 30/30 [00:07<00:00,  3.99it\n"
     ]
    },
    {
     "name": "stdout",
     "output_type": "stream",
     "text": [
      "saving model version 0.1\n",
      "Testing width=[8, 2, 1], lamb=0.001, grid=7\n",
      "checkpoint directory created: ./model\n",
      "saving model version 0.0\n"
     ]
    },
    {
     "name": "stderr",
     "output_type": "stream",
     "text": [
      "| train_loss: 3.13e+00 | test_loss: 3.30e+00 | reg: 3.11e+01 | : 100%|█| 30/30 [00:07<00:00,  3.81it\n"
     ]
    },
    {
     "name": "stdout",
     "output_type": "stream",
     "text": [
      "saving model version 0.1\n",
      "Testing width=[8, 2, 1], lamb=0.0001, grid=7\n",
      "checkpoint directory created: ./model\n",
      "saving model version 0.0\n"
     ]
    },
    {
     "name": "stderr",
     "output_type": "stream",
     "text": [
      "| train_loss: 3.13e+00 | test_loss: 3.29e+00 | reg: 3.15e+01 | : 100%|█| 30/30 [00:07<00:00,  3.95it\n"
     ]
    },
    {
     "name": "stdout",
     "output_type": "stream",
     "text": [
      "saving model version 0.1\n",
      "Testing width=[8, 2, 1], lamb=1e-05, grid=7\n",
      "checkpoint directory created: ./model\n",
      "saving model version 0.0\n"
     ]
    },
    {
     "name": "stderr",
     "output_type": "stream",
     "text": [
      "| train_loss: 3.13e+00 | test_loss: 3.29e+00 | reg: 3.25e+01 | : 100%|█| 30/30 [00:07<00:00,  4.14it\n"
     ]
    },
    {
     "name": "stdout",
     "output_type": "stream",
     "text": [
      "saving model version 0.1\n",
      "Testing width=[8, 3, 1], lamb=1.0, grid=3\n",
      "checkpoint directory created: ./model\n",
      "saving model version 0.0\n"
     ]
    },
    {
     "name": "stderr",
     "output_type": "stream",
     "text": [
      "| train_loss: 5.61e+00 | test_loss: 5.60e+00 | reg: 1.97e-01 | : 100%|█| 30/30 [00:05<00:00,  5.29it\n"
     ]
    },
    {
     "name": "stdout",
     "output_type": "stream",
     "text": [
      "saving model version 0.1\n",
      "Testing width=[8, 3, 1], lamb=0.1, grid=3\n",
      "checkpoint directory created: ./model\n",
      "saving model version 0.0\n"
     ]
    },
    {
     "name": "stderr",
     "output_type": "stream",
     "text": [
      "| train_loss: 3.11e+00 | test_loss: 3.26e+00 | reg: 1.65e+01 | : 100%|█| 30/30 [00:07<00:00,  3.97it\n"
     ]
    },
    {
     "name": "stdout",
     "output_type": "stream",
     "text": [
      "saving model version 0.1\n",
      "Testing width=[8, 3, 1], lamb=0.01, grid=3\n",
      "checkpoint directory created: ./model\n",
      "saving model version 0.0\n"
     ]
    },
    {
     "name": "stderr",
     "output_type": "stream",
     "text": [
      "| train_loss: 3.05e+00 | test_loss: 3.28e+00 | reg: 2.58e+01 | : 100%|█| 30/30 [00:07<00:00,  3.83it\n"
     ]
    },
    {
     "name": "stdout",
     "output_type": "stream",
     "text": [
      "saving model version 0.1\n",
      "Testing width=[8, 3, 1], lamb=0.001, grid=3\n",
      "checkpoint directory created: ./model\n",
      "saving model version 0.0\n"
     ]
    },
    {
     "name": "stderr",
     "output_type": "stream",
     "text": [
      "| train_loss: 3.06e+00 | test_loss: 3.27e+00 | reg: 3.70e+01 | : 100%|█| 30/30 [00:07<00:00,  4.09it\n"
     ]
    },
    {
     "name": "stdout",
     "output_type": "stream",
     "text": [
      "saving model version 0.1\n",
      "Testing width=[8, 3, 1], lamb=0.0001, grid=3\n",
      "checkpoint directory created: ./model\n",
      "saving model version 0.0\n"
     ]
    },
    {
     "name": "stderr",
     "output_type": "stream",
     "text": [
      "| train_loss: 3.09e+00 | test_loss: 3.25e+00 | reg: 4.57e+01 | : 100%|█| 30/30 [00:07<00:00,  3.81it\n"
     ]
    },
    {
     "name": "stdout",
     "output_type": "stream",
     "text": [
      "saving model version 0.1\n",
      "Testing width=[8, 3, 1], lamb=1e-05, grid=3\n",
      "checkpoint directory created: ./model\n",
      "saving model version 0.0\n"
     ]
    },
    {
     "name": "stderr",
     "output_type": "stream",
     "text": [
      "| train_loss: 3.08e+00 | test_loss: 3.25e+00 | reg: 4.48e+01 | : 100%|█| 30/30 [00:07<00:00,  3.81it\n"
     ]
    },
    {
     "name": "stdout",
     "output_type": "stream",
     "text": [
      "saving model version 0.1\n",
      "Testing width=[8, 3, 1], lamb=1.0, grid=4\n",
      "checkpoint directory created: ./model\n",
      "saving model version 0.0\n"
     ]
    },
    {
     "name": "stderr",
     "output_type": "stream",
     "text": [
      "| train_loss: 5.64e+00 | test_loss: 5.64e+00 | reg: 1.43e-01 | : 100%|█| 30/30 [00:06<00:00,  4.96it\n"
     ]
    },
    {
     "name": "stdout",
     "output_type": "stream",
     "text": [
      "saving model version 0.1\n",
      "Testing width=[8, 3, 1], lamb=0.1, grid=4\n",
      "checkpoint directory created: ./model\n",
      "saving model version 0.0\n"
     ]
    },
    {
     "name": "stderr",
     "output_type": "stream",
     "text": [
      "| train_loss: 3.33e+00 | test_loss: 3.45e+00 | reg: 1.17e+01 | : 100%|█| 30/30 [00:06<00:00,  4.31it\n"
     ]
    },
    {
     "name": "stdout",
     "output_type": "stream",
     "text": [
      "saving model version 0.1\n",
      "Testing width=[8, 3, 1], lamb=0.01, grid=4\n",
      "checkpoint directory created: ./model\n",
      "saving model version 0.0\n"
     ]
    },
    {
     "name": "stderr",
     "output_type": "stream",
     "text": [
      "| train_loss: 3.07e+00 | test_loss: 3.25e+00 | reg: 2.10e+01 | : 100%|█| 30/30 [00:06<00:00,  4.34it\n"
     ]
    },
    {
     "name": "stdout",
     "output_type": "stream",
     "text": [
      "saving model version 0.1\n",
      "Testing width=[8, 3, 1], lamb=0.001, grid=4\n",
      "checkpoint directory created: ./model\n",
      "saving model version 0.0\n"
     ]
    },
    {
     "name": "stderr",
     "output_type": "stream",
     "text": [
      "| train_loss: 3.03e+00 | test_loss: 3.31e+00 | reg: 2.93e+01 | : 100%|█| 30/30 [00:07<00:00,  4.16it\n"
     ]
    },
    {
     "name": "stdout",
     "output_type": "stream",
     "text": [
      "saving model version 0.1\n",
      "Testing width=[8, 3, 1], lamb=0.0001, grid=4\n",
      "checkpoint directory created: ./model\n",
      "saving model version 0.0\n"
     ]
    },
    {
     "name": "stderr",
     "output_type": "stream",
     "text": [
      "| train_loss: 3.04e+00 | test_loss: 3.28e+00 | reg: 2.99e+01 | : 100%|█| 30/30 [00:06<00:00,  4.33it\n"
     ]
    },
    {
     "name": "stdout",
     "output_type": "stream",
     "text": [
      "saving model version 0.1\n",
      "Testing width=[8, 3, 1], lamb=1e-05, grid=4\n",
      "checkpoint directory created: ./model\n",
      "saving model version 0.0\n"
     ]
    },
    {
     "name": "stderr",
     "output_type": "stream",
     "text": [
      "| train_loss: 3.04e+00 | test_loss: 3.30e+00 | reg: 2.93e+01 | : 100%|█| 30/30 [00:07<00:00,  4.25it\n"
     ]
    },
    {
     "name": "stdout",
     "output_type": "stream",
     "text": [
      "saving model version 0.1\n",
      "Testing width=[8, 3, 1], lamb=1.0, grid=5\n",
      "checkpoint directory created: ./model\n",
      "saving model version 0.0\n"
     ]
    },
    {
     "name": "stderr",
     "output_type": "stream",
     "text": [
      "| train_loss: 5.65e+00 | test_loss: 5.64e+00 | reg: 2.61e-01 | : 100%|█| 30/30 [00:04<00:00,  7.00it\n"
     ]
    },
    {
     "name": "stdout",
     "output_type": "stream",
     "text": [
      "saving model version 0.1\n",
      "Testing width=[8, 3, 1], lamb=0.1, grid=5\n",
      "checkpoint directory created: ./model\n",
      "saving model version 0.0\n"
     ]
    },
    {
     "name": "stderr",
     "output_type": "stream",
     "text": [
      "| train_loss: 3.19e+00 | test_loss: 3.32e+00 | reg: 1.81e+01 | : 100%|█| 30/30 [00:06<00:00,  4.32it\n"
     ]
    },
    {
     "name": "stdout",
     "output_type": "stream",
     "text": [
      "saving model version 0.1\n",
      "Testing width=[8, 3, 1], lamb=0.01, grid=5\n",
      "checkpoint directory created: ./model\n",
      "saving model version 0.0\n"
     ]
    },
    {
     "name": "stderr",
     "output_type": "stream",
     "text": [
      "| train_loss: 3.08e+00 | test_loss: 3.25e+00 | reg: 2.10e+01 | : 100%|█| 30/30 [00:07<00:00,  4.22it\n"
     ]
    },
    {
     "name": "stdout",
     "output_type": "stream",
     "text": [
      "saving model version 0.1\n",
      "Testing width=[8, 3, 1], lamb=0.001, grid=5\n",
      "checkpoint directory created: ./model\n",
      "saving model version 0.0\n"
     ]
    },
    {
     "name": "stderr",
     "output_type": "stream",
     "text": [
      "| train_loss: 3.03e+00 | test_loss: 3.34e+00 | reg: 3.80e+01 | : 100%|█| 30/30 [00:06<00:00,  4.32it\n"
     ]
    },
    {
     "name": "stdout",
     "output_type": "stream",
     "text": [
      "saving model version 0.1\n",
      "Testing width=[8, 3, 1], lamb=0.0001, grid=5\n",
      "checkpoint directory created: ./model\n",
      "saving model version 0.0\n"
     ]
    },
    {
     "name": "stderr",
     "output_type": "stream",
     "text": [
      "| train_loss: 3.08e+00 | test_loss: 3.25e+00 | reg: 4.80e+01 | : 100%|█| 30/30 [00:07<00:00,  4.27it\n"
     ]
    },
    {
     "name": "stdout",
     "output_type": "stream",
     "text": [
      "saving model version 0.1\n",
      "Testing width=[8, 3, 1], lamb=1e-05, grid=5\n",
      "checkpoint directory created: ./model\n",
      "saving model version 0.0\n"
     ]
    },
    {
     "name": "stderr",
     "output_type": "stream",
     "text": [
      "| train_loss: 3.05e+00 | test_loss: 3.26e+00 | reg: 3.67e+01 | : 100%|█| 30/30 [00:06<00:00,  4.29it\n"
     ]
    },
    {
     "name": "stdout",
     "output_type": "stream",
     "text": [
      "saving model version 0.1\n",
      "Testing width=[8, 3, 1], lamb=1.0, grid=6\n",
      "checkpoint directory created: ./model\n",
      "saving model version 0.0\n"
     ]
    },
    {
     "name": "stderr",
     "output_type": "stream",
     "text": [
      "| train_loss: 5.67e+00 | test_loss: 5.68e+00 | reg: 1.70e-01 | : 100%|█| 30/30 [00:05<00:00,  5.67it\n"
     ]
    },
    {
     "name": "stdout",
     "output_type": "stream",
     "text": [
      "saving model version 0.1\n",
      "Testing width=[8, 3, 1], lamb=0.1, grid=6\n",
      "checkpoint directory created: ./model\n",
      "saving model version 0.0\n"
     ]
    },
    {
     "name": "stderr",
     "output_type": "stream",
     "text": [
      "| train_loss: 3.19e+00 | test_loss: 3.32e+00 | reg: 2.00e+01 | : 100%|█| 30/30 [00:07<00:00,  4.28it\n"
     ]
    },
    {
     "name": "stdout",
     "output_type": "stream",
     "text": [
      "saving model version 0.1\n",
      "Testing width=[8, 3, 1], lamb=0.01, grid=6\n",
      "checkpoint directory created: ./model\n",
      "saving model version 0.0\n"
     ]
    },
    {
     "name": "stderr",
     "output_type": "stream",
     "text": [
      "| train_loss: 3.02e+00 | test_loss: 3.31e+00 | reg: 2.58e+01 | : 100%|█| 30/30 [00:07<00:00,  4.20it\n"
     ]
    },
    {
     "name": "stdout",
     "output_type": "stream",
     "text": [
      "saving model version 0.1\n",
      "Testing width=[8, 3, 1], lamb=0.001, grid=6\n",
      "checkpoint directory created: ./model\n",
      "saving model version 0.0\n"
     ]
    },
    {
     "name": "stderr",
     "output_type": "stream",
     "text": [
      "| train_loss: 3.01e+00 | test_loss: 3.32e+00 | reg: 3.22e+01 | : 100%|█| 30/30 [00:06<00:00,  4.33it\n"
     ]
    },
    {
     "name": "stdout",
     "output_type": "stream",
     "text": [
      "saving model version 0.1\n",
      "Testing width=[8, 3, 1], lamb=0.0001, grid=6\n",
      "checkpoint directory created: ./model\n",
      "saving model version 0.0\n"
     ]
    },
    {
     "name": "stderr",
     "output_type": "stream",
     "text": [
      "| train_loss: 3.00e+00 | test_loss: 3.31e+00 | reg: 3.13e+01 | : 100%|█| 30/30 [00:06<00:00,  4.54it\n"
     ]
    },
    {
     "name": "stdout",
     "output_type": "stream",
     "text": [
      "saving model version 0.1\n",
      "Testing width=[8, 3, 1], lamb=1e-05, grid=6\n",
      "checkpoint directory created: ./model\n",
      "saving model version 0.0\n"
     ]
    },
    {
     "name": "stderr",
     "output_type": "stream",
     "text": [
      "| train_loss: 2.99e+00 | test_loss: 3.36e+00 | reg: 4.16e+01 | : 100%|█| 30/30 [00:06<00:00,  4.35it\n"
     ]
    },
    {
     "name": "stdout",
     "output_type": "stream",
     "text": [
      "saving model version 0.1\n",
      "Testing width=[8, 3, 1], lamb=1.0, grid=7\n",
      "checkpoint directory created: ./model\n",
      "saving model version 0.0\n"
     ]
    },
    {
     "name": "stderr",
     "output_type": "stream",
     "text": [
      "| train_loss: 5.68e+00 | test_loss: 5.68e+00 | reg: 1.51e-01 | : 100%|█| 30/30 [00:05<00:00,  5.17it\n"
     ]
    },
    {
     "name": "stdout",
     "output_type": "stream",
     "text": [
      "saving model version 0.1\n",
      "Testing width=[8, 3, 1], lamb=0.1, grid=7\n",
      "checkpoint directory created: ./model\n",
      "saving model version 0.0\n"
     ]
    },
    {
     "name": "stderr",
     "output_type": "stream",
     "text": [
      "| train_loss: 3.18e+00 | test_loss: 3.31e+00 | reg: 1.84e+01 | : 100%|█| 30/30 [00:06<00:00,  4.38it\n"
     ]
    },
    {
     "name": "stdout",
     "output_type": "stream",
     "text": [
      "saving model version 0.1\n",
      "Testing width=[8, 3, 1], lamb=0.01, grid=7\n",
      "checkpoint directory created: ./model\n",
      "saving model version 0.0\n"
     ]
    },
    {
     "name": "stderr",
     "output_type": "stream",
     "text": [
      "| train_loss: 3.01e+00 | test_loss: 3.33e+00 | reg: 2.69e+01 | : 100%|█| 30/30 [00:07<00:00,  4.14it\n"
     ]
    },
    {
     "name": "stdout",
     "output_type": "stream",
     "text": [
      "saving model version 0.1\n",
      "Testing width=[8, 3, 1], lamb=0.001, grid=7\n",
      "checkpoint directory created: ./model\n",
      "saving model version 0.0\n"
     ]
    },
    {
     "name": "stderr",
     "output_type": "stream",
     "text": [
      "| train_loss: 3.01e+00 | test_loss: 3.28e+00 | reg: 3.15e+01 | : 100%|█| 30/30 [00:07<00:00,  4.22it\n"
     ]
    },
    {
     "name": "stdout",
     "output_type": "stream",
     "text": [
      "saving model version 0.1\n",
      "Testing width=[8, 3, 1], lamb=0.0001, grid=7\n",
      "checkpoint directory created: ./model\n",
      "saving model version 0.0\n"
     ]
    },
    {
     "name": "stderr",
     "output_type": "stream",
     "text": [
      "| train_loss: 3.02e+00 | test_loss: 3.29e+00 | reg: 4.24e+01 | : 100%|█| 30/30 [00:07<00:00,  4.03it\n"
     ]
    },
    {
     "name": "stdout",
     "output_type": "stream",
     "text": [
      "saving model version 0.1\n",
      "Testing width=[8, 3, 1], lamb=1e-05, grid=7\n",
      "checkpoint directory created: ./model\n",
      "saving model version 0.0\n"
     ]
    },
    {
     "name": "stderr",
     "output_type": "stream",
     "text": [
      "| train_loss: 3.00e+00 | test_loss: 3.36e+00 | reg: 4.06e+01 | : 100%|█| 30/30 [00:07<00:00,  4.13it\n"
     ]
    },
    {
     "name": "stdout",
     "output_type": "stream",
     "text": [
      "saving model version 0.1\n",
      "Testing width=[8, 4, 1], lamb=1.0, grid=3\n",
      "checkpoint directory created: ./model\n",
      "saving model version 0.0\n"
     ]
    },
    {
     "name": "stderr",
     "output_type": "stream",
     "text": [
      "| train_loss: 5.61e+00 | test_loss: 5.59e+00 | reg: 2.02e-01 | : 100%|█| 30/30 [00:06<00:00,  4.69it\n"
     ]
    },
    {
     "name": "stdout",
     "output_type": "stream",
     "text": [
      "saving model version 0.1\n",
      "Testing width=[8, 4, 1], lamb=0.1, grid=3\n",
      "checkpoint directory created: ./model\n",
      "saving model version 0.0\n"
     ]
    },
    {
     "name": "stderr",
     "output_type": "stream",
     "text": [
      "| train_loss: 3.10e+00 | test_loss: 3.29e+00 | reg: 1.86e+01 | : 100%|█| 30/30 [00:07<00:00,  4.25it\n"
     ]
    },
    {
     "name": "stdout",
     "output_type": "stream",
     "text": [
      "saving model version 0.1\n",
      "Testing width=[8, 4, 1], lamb=0.01, grid=3\n",
      "checkpoint directory created: ./model\n",
      "saving model version 0.0\n"
     ]
    },
    {
     "name": "stderr",
     "output_type": "stream",
     "text": [
      "| train_loss: 3.05e+00 | test_loss: 3.30e+00 | reg: 2.54e+01 | : 100%|█| 30/30 [00:07<00:00,  4.16it\n"
     ]
    },
    {
     "name": "stdout",
     "output_type": "stream",
     "text": [
      "saving model version 0.1\n",
      "Testing width=[8, 4, 1], lamb=0.001, grid=3\n",
      "checkpoint directory created: ./model\n",
      "saving model version 0.0\n"
     ]
    },
    {
     "name": "stderr",
     "output_type": "stream",
     "text": [
      "| train_loss: 3.05e+00 | test_loss: 3.28e+00 | reg: 3.64e+01 | : 100%|█| 30/30 [00:06<00:00,  4.42it\n"
     ]
    },
    {
     "name": "stdout",
     "output_type": "stream",
     "text": [
      "saving model version 0.1\n",
      "Testing width=[8, 4, 1], lamb=0.0001, grid=3\n",
      "checkpoint directory created: ./model\n",
      "saving model version 0.0\n"
     ]
    },
    {
     "name": "stderr",
     "output_type": "stream",
     "text": [
      "| train_loss: 3.06e+00 | test_loss: 3.29e+00 | reg: 4.74e+01 | : 100%|█| 30/30 [00:08<00:00,  3.47it\n"
     ]
    },
    {
     "name": "stdout",
     "output_type": "stream",
     "text": [
      "saving model version 0.1\n",
      "Testing width=[8, 4, 1], lamb=1e-05, grid=3\n",
      "checkpoint directory created: ./model\n",
      "saving model version 0.0\n"
     ]
    },
    {
     "name": "stderr",
     "output_type": "stream",
     "text": [
      "| train_loss: 3.06e+00 | test_loss: 3.28e+00 | reg: 3.93e+01 | : 100%|█| 30/30 [00:06<00:00,  4.31it\n"
     ]
    },
    {
     "name": "stdout",
     "output_type": "stream",
     "text": [
      "saving model version 0.1\n",
      "Testing width=[8, 4, 1], lamb=1.0, grid=4\n",
      "checkpoint directory created: ./model\n",
      "saving model version 0.0\n"
     ]
    },
    {
     "name": "stderr",
     "output_type": "stream",
     "text": [
      "| train_loss: 5.62e+00 | test_loss: 5.60e+00 | reg: 3.45e-01 | : 100%|█| 30/30 [00:06<00:00,  4.41it\n"
     ]
    },
    {
     "name": "stdout",
     "output_type": "stream",
     "text": [
      "saving model version 0.1\n",
      "Testing width=[8, 4, 1], lamb=0.1, grid=4\n",
      "checkpoint directory created: ./model\n",
      "saving model version 0.0\n"
     ]
    },
    {
     "name": "stderr",
     "output_type": "stream",
     "text": [
      "| train_loss: 3.33e+00 | test_loss: 3.46e+00 | reg: 1.20e+01 | : 100%|█| 30/30 [00:06<00:00,  4.47it\n"
     ]
    },
    {
     "name": "stdout",
     "output_type": "stream",
     "text": [
      "saving model version 0.1\n",
      "Testing width=[8, 4, 1], lamb=0.01, grid=4\n",
      "checkpoint directory created: ./model\n",
      "saving model version 0.0\n"
     ]
    },
    {
     "name": "stderr",
     "output_type": "stream",
     "text": [
      "| train_loss: 3.03e+00 | test_loss: 3.30e+00 | reg: 3.51e+01 | : 100%|█| 30/30 [00:06<00:00,  4.29it\n"
     ]
    },
    {
     "name": "stdout",
     "output_type": "stream",
     "text": [
      "saving model version 0.1\n",
      "Testing width=[8, 4, 1], lamb=0.001, grid=4\n",
      "checkpoint directory created: ./model\n",
      "saving model version 0.0\n"
     ]
    },
    {
     "name": "stderr",
     "output_type": "stream",
     "text": [
      "| train_loss: 3.06e+00 | test_loss: 3.27e+00 | reg: 6.41e+01 | : 100%|█| 30/30 [00:07<00:00,  4.16it\n"
     ]
    },
    {
     "name": "stdout",
     "output_type": "stream",
     "text": [
      "saving model version 0.1\n",
      "Testing width=[8, 4, 1], lamb=0.0001, grid=4\n",
      "checkpoint directory created: ./model\n",
      "saving model version 0.0\n"
     ]
    },
    {
     "name": "stderr",
     "output_type": "stream",
     "text": [
      "| train_loss: 3.06e+00 | test_loss: 3.27e+00 | reg: 6.26e+01 | : 100%|█| 30/30 [00:06<00:00,  4.43it\n"
     ]
    },
    {
     "name": "stdout",
     "output_type": "stream",
     "text": [
      "saving model version 0.1\n",
      "Testing width=[8, 4, 1], lamb=1e-05, grid=4\n",
      "checkpoint directory created: ./model\n",
      "saving model version 0.0\n"
     ]
    },
    {
     "name": "stderr",
     "output_type": "stream",
     "text": [
      "| train_loss: 3.06e+00 | test_loss: 3.26e+00 | reg: 6.33e+01 | : 100%|█| 30/30 [00:07<00:00,  4.23it\n"
     ]
    },
    {
     "name": "stdout",
     "output_type": "stream",
     "text": [
      "saving model version 0.1\n",
      "Testing width=[8, 4, 1], lamb=1.0, grid=5\n",
      "checkpoint directory created: ./model\n",
      "saving model version 0.0\n"
     ]
    },
    {
     "name": "stderr",
     "output_type": "stream",
     "text": [
      "| train_loss: 5.68e+00 | test_loss: 5.68e+00 | reg: 1.57e-01 | : 100%|█| 30/30 [00:06<00:00,  4.82it\n"
     ]
    },
    {
     "name": "stdout",
     "output_type": "stream",
     "text": [
      "saving model version 0.1\n",
      "Testing width=[8, 4, 1], lamb=0.1, grid=5\n",
      "checkpoint directory created: ./model\n",
      "saving model version 0.0\n"
     ]
    },
    {
     "name": "stderr",
     "output_type": "stream",
     "text": [
      "| train_loss: 3.08e+00 | test_loss: 3.26e+00 | reg: 1.71e+01 | : 100%|█| 30/30 [00:06<00:00,  4.48it\n"
     ]
    },
    {
     "name": "stdout",
     "output_type": "stream",
     "text": [
      "saving model version 0.1\n",
      "Testing width=[8, 4, 1], lamb=0.01, grid=5\n",
      "checkpoint directory created: ./model\n",
      "saving model version 0.0\n"
     ]
    },
    {
     "name": "stderr",
     "output_type": "stream",
     "text": [
      "| train_loss: 3.05e+00 | test_loss: 3.27e+00 | reg: 2.56e+01 | : 100%|█| 30/30 [00:06<00:00,  4.44it\n"
     ]
    },
    {
     "name": "stdout",
     "output_type": "stream",
     "text": [
      "saving model version 0.1\n",
      "Testing width=[8, 4, 1], lamb=0.001, grid=5\n",
      "checkpoint directory created: ./model\n",
      "saving model version 0.0\n"
     ]
    },
    {
     "name": "stderr",
     "output_type": "stream",
     "text": [
      "| train_loss: 2.99e+00 | test_loss: 3.34e+00 | reg: 4.26e+01 | : 100%|█| 30/30 [00:06<00:00,  4.31it\n"
     ]
    },
    {
     "name": "stdout",
     "output_type": "stream",
     "text": [
      "saving model version 0.1\n",
      "Testing width=[8, 4, 1], lamb=0.0001, grid=5\n",
      "checkpoint directory created: ./model\n",
      "saving model version 0.0\n"
     ]
    },
    {
     "name": "stderr",
     "output_type": "stream",
     "text": [
      "| train_loss: 2.99e+00 | test_loss: 3.33e+00 | reg: 5.36e+01 | : 100%|█| 30/30 [00:07<00:00,  4.23it\n"
     ]
    },
    {
     "name": "stdout",
     "output_type": "stream",
     "text": [
      "saving model version 0.1\n",
      "Testing width=[8, 4, 1], lamb=1e-05, grid=5\n",
      "checkpoint directory created: ./model\n",
      "saving model version 0.0\n"
     ]
    },
    {
     "name": "stderr",
     "output_type": "stream",
     "text": [
      "| train_loss: 3.00e+00 | test_loss: 3.36e+00 | reg: 4.40e+01 | : 100%|█| 30/30 [00:06<00:00,  4.41it\n"
     ]
    },
    {
     "name": "stdout",
     "output_type": "stream",
     "text": [
      "saving model version 0.1\n",
      "Testing width=[8, 4, 1], lamb=1.0, grid=6\n",
      "checkpoint directory created: ./model\n",
      "saving model version 0.0\n"
     ]
    },
    {
     "name": "stderr",
     "output_type": "stream",
     "text": [
      "| train_loss: 5.68e+00 | test_loss: 5.68e+00 | reg: 1.50e-01 | : 100%|█| 30/30 [00:05<00:00,  5.76it\n"
     ]
    },
    {
     "name": "stdout",
     "output_type": "stream",
     "text": [
      "saving model version 0.1\n",
      "Testing width=[8, 4, 1], lamb=0.1, grid=6\n",
      "checkpoint directory created: ./model\n",
      "saving model version 0.0\n"
     ]
    },
    {
     "name": "stderr",
     "output_type": "stream",
     "text": [
      "| train_loss: 3.09e+00 | test_loss: 3.25e+00 | reg: 2.31e+01 | : 100%|█| 30/30 [00:06<00:00,  4.30it\n"
     ]
    },
    {
     "name": "stdout",
     "output_type": "stream",
     "text": [
      "saving model version 0.1\n",
      "Testing width=[8, 4, 1], lamb=0.01, grid=6\n",
      "checkpoint directory created: ./model\n",
      "saving model version 0.0\n"
     ]
    },
    {
     "name": "stderr",
     "output_type": "stream",
     "text": [
      "| train_loss: 3.00e+00 | test_loss: 3.32e+00 | reg: 3.52e+01 | : 100%|█| 30/30 [00:06<00:00,  4.35it\n"
     ]
    },
    {
     "name": "stdout",
     "output_type": "stream",
     "text": [
      "saving model version 0.1\n",
      "Testing width=[8, 4, 1], lamb=0.001, grid=6\n",
      "checkpoint directory created: ./model\n",
      "saving model version 0.0\n"
     ]
    },
    {
     "name": "stderr",
     "output_type": "stream",
     "text": [
      "| train_loss: 3.01e+00 | test_loss: 3.32e+00 | reg: 4.46e+01 | : 100%|█| 30/30 [00:07<00:00,  4.05it\n"
     ]
    },
    {
     "name": "stdout",
     "output_type": "stream",
     "text": [
      "saving model version 0.1\n",
      "Testing width=[8, 4, 1], lamb=0.0001, grid=6\n",
      "checkpoint directory created: ./model\n",
      "saving model version 0.0\n"
     ]
    },
    {
     "name": "stderr",
     "output_type": "stream",
     "text": [
      "| train_loss: 3.01e+00 | test_loss: 3.34e+00 | reg: 4.89e+01 | : 100%|█| 30/30 [00:07<00:00,  4.00it\n"
     ]
    },
    {
     "name": "stdout",
     "output_type": "stream",
     "text": [
      "saving model version 0.1\n",
      "Testing width=[8, 4, 1], lamb=1e-05, grid=6\n",
      "checkpoint directory created: ./model\n",
      "saving model version 0.0\n"
     ]
    },
    {
     "name": "stderr",
     "output_type": "stream",
     "text": [
      "| train_loss: 3.00e+00 | test_loss: 3.35e+00 | reg: 4.85e+01 | : 100%|█| 30/30 [00:09<00:00,  3.10it\n"
     ]
    },
    {
     "name": "stdout",
     "output_type": "stream",
     "text": [
      "saving model version 0.1\n",
      "Testing width=[8, 4, 1], lamb=1.0, grid=7\n",
      "checkpoint directory created: ./model\n",
      "saving model version 0.0\n"
     ]
    },
    {
     "name": "stderr",
     "output_type": "stream",
     "text": [
      "| train_loss: 5.67e+00 | test_loss: 5.67e+00 | reg: 1.33e-01 | : 100%|█| 30/30 [00:08<00:00,  3.42it\n"
     ]
    },
    {
     "name": "stdout",
     "output_type": "stream",
     "text": [
      "saving model version 0.1\n",
      "Testing width=[8, 4, 1], lamb=0.1, grid=7\n",
      "checkpoint directory created: ./model\n",
      "saving model version 0.0\n"
     ]
    },
    {
     "name": "stderr",
     "output_type": "stream",
     "text": [
      "| train_loss: 3.07e+00 | test_loss: 3.32e+00 | reg: 2.10e+01 | : 100%|█| 30/30 [00:07<00:00,  4.28it\n"
     ]
    },
    {
     "name": "stdout",
     "output_type": "stream",
     "text": [
      "saving model version 0.1\n",
      "Testing width=[8, 4, 1], lamb=0.01, grid=7\n",
      "checkpoint directory created: ./model\n",
      "saving model version 0.0\n"
     ]
    },
    {
     "name": "stderr",
     "output_type": "stream",
     "text": [
      "| train_loss: 3.01e+00 | test_loss: 3.34e+00 | reg: 3.52e+01 | : 100%|█| 30/30 [00:07<00:00,  3.76it\n"
     ]
    },
    {
     "name": "stdout",
     "output_type": "stream",
     "text": [
      "saving model version 0.1\n",
      "Testing width=[8, 4, 1], lamb=0.001, grid=7\n",
      "checkpoint directory created: ./model\n",
      "saving model version 0.0\n"
     ]
    },
    {
     "name": "stderr",
     "output_type": "stream",
     "text": [
      "| train_loss: 3.01e+00 | test_loss: 3.37e+00 | reg: 4.51e+01 | : 100%|█| 30/30 [00:08<00:00,  3.69it\n"
     ]
    },
    {
     "name": "stdout",
     "output_type": "stream",
     "text": [
      "saving model version 0.1\n",
      "Testing width=[8, 4, 1], lamb=0.0001, grid=7\n",
      "checkpoint directory created: ./model\n",
      "saving model version 0.0\n"
     ]
    },
    {
     "name": "stderr",
     "output_type": "stream",
     "text": [
      "| train_loss: 3.02e+00 | test_loss: 3.32e+00 | reg: 4.91e+01 | : 100%|█| 30/30 [00:08<00:00,  3.41it\n"
     ]
    },
    {
     "name": "stdout",
     "output_type": "stream",
     "text": [
      "saving model version 0.1\n",
      "Testing width=[8, 4, 1], lamb=1e-05, grid=7\n",
      "checkpoint directory created: ./model\n",
      "saving model version 0.0\n"
     ]
    },
    {
     "name": "stderr",
     "output_type": "stream",
     "text": [
      "| train_loss: 3.00e+00 | test_loss: 3.35e+00 | reg: 5.06e+01 | : 100%|█| 30/30 [00:10<00:00,  2.88it"
     ]
    },
    {
     "name": "stdout",
     "output_type": "stream",
     "text": [
      "saving model version 0.1\n",
      "\n",
      "✅ Top 5 Configurations:\n",
      "1. width=[8, 3, 1], grid=4, lamb=0.01 | loss=3.09886\n",
      "2. width=[8, 3, 1], grid=6, lamb=1e-05 | loss=3.09941\n",
      "3. width=[8, 3, 1], grid=4, lamb=0.0001 | loss=3.10144\n",
      "4. width=[8, 2, 1], grid=3, lamb=0.0001 | loss=3.10331\n",
      "5. width=[8, 4, 1], grid=4, lamb=0.001 | loss=3.10388\n"
     ]
    },
    {
     "name": "stderr",
     "output_type": "stream",
     "text": [
      "\n"
     ]
    }
   ],
   "source": [
    "grid_search_kan(dataset)"
   ]
  },
  {
   "cell_type": "markdown",
   "id": "3e23e036-53e7-47ca-9110-1c932e9266e1",
   "metadata": {},
   "source": [
    "# ✅ Top 5 Configurations:\n",
    "1. width=[8, 3, 1], grid=4, lamb=0.01 | loss=3.09886\n",
    "2. width=[8, 3, 1], grid=6, lamb=1e-05 | loss=3.09941\n",
    "3. width=[8, 3, 1], grid=4, lamb=0.0001 | loss=3.10144\n",
    "4. width=[8, 2, 1], grid=3, lamb=0.0001 | loss=3.10331\n",
    "5. width=[8, 4, 1], grid=4, lamb=0.001 | loss=3.10388"
   ]
  },
  {
   "cell_type": "code",
   "execution_count": 17,
   "id": "df0ac483-bac2-459b-ac92-f0748007bdbd",
   "metadata": {},
   "outputs": [
    {
     "name": "stdout",
     "output_type": "stream",
     "text": [
      "checkpoint directory created: ./model\n",
      "saving model version 0.0\n"
     ]
    },
    {
     "name": "stderr",
     "output_type": "stream",
     "text": [
      "| train_loss: 3.07e+00 | test_loss: 3.25e+00 | reg: 2.09e+01 | : 100%|█| 30/30 [00:45<00:00,  1.51s/\n"
     ]
    },
    {
     "name": "stdout",
     "output_type": "stream",
     "text": [
      "saving model version 0.1\n",
      "Best epoch 11\n",
      "3.099560260772705\n"
     ]
    },
    {
     "data": {
      "image/png": "[encoded data removed]",
      "text/plain": [
       "<Figure size 640x480 with 1 Axes>"
      ]
     },
     "metadata": {},
     "output_type": "display_data"
    }
   ],
   "source": [
    "model = KAN(width=[attributes, 3, 1], grid=4, k=3, seed=381, device=device)\n",
    "results, best_model_state, best_epoch  = custom_fit(model, dataset, opt=\"LBFGS\", steps=30, lamb=0.01)\n",
    "print(f'Best epoch {best_epoch}')\n",
    "model.load_state_dict(best_model_state)\n",
    "print(average_rmse(model(dataset['val_input']), dataset['val_label']))\n",
    "plt.plot(results['train_loss'])\n",
    "plt.plot(results['test_loss'])\n",
    "plt.legend(['train', 'test'])\n",
    "plt.ylabel('Accuracy')\n",
    "plt.xlabel('step')\n",
    "plt.yscale('log')"
   ]
  },
  {
   "cell_type": "code",
   "execution_count": 18,
   "id": "7b9a8df5-f29b-41d8-84ab-cf0532aa895e",
   "metadata": {},
   "outputs": [
    {
     "data": {
      "image/png": "[encoded data removed]",
      "text/plain": [
       "<Figure size 500x400 with 32 Axes>"
      ]
     },
     "metadata": {},
     "output_type": "display_data"
    }
   ],
   "source": [
    "model.plot()"
   ]
  },
  {
   "cell_type": "markdown",
   "id": "4debf43a-d01a-4afa-bde4-673f2aa1df9e",
   "metadata": {},
   "source": [
    "# Hibrid"
   ]
  },
  {
   "cell_type": "code",
   "execution_count": 20,
   "id": "88504d37-5a70-493e-a994-366bcb764518",
   "metadata": {},
   "outputs": [],
   "source": [
    "class Model3(nn.Module):\n",
    "    def __init__(self, attributes, imgs_shape, device):\n",
    "        super(Model3, self).__init__()\n",
    "        # CNN branch\n",
    "        self.cnn_branch = nn.Sequential(\n",
    "            nn.Conv2d(imgs_shape[0], 16, kernel_size=2),\n",
    "            nn.LayerNorm([16, 5, 5]),\n",
    "            nn.Sigmoid(),\n",
    "            nn.Flatten()\n",
    "        ).to(device)\n",
    "        # Final KAN layers\n",
    "        self.m_kan = KAN(\n",
    "            width=[attributes, 3],\n",
    "            grid=4,\n",
    "            k=3,\n",
    "            seed=SEED,\n",
    "            device=device\n",
    "        )\n",
    "\n",
    "        # Calculate the size of the flattened output\n",
    "        self.flat_size = self._get_flat_size(imgs_shape)\n",
    "\n",
    "        # Final MLP layers\n",
    "        self.final_kan = KAN(\n",
    "            width=[self.flat_size + 3, 1],\n",
    "            grid=4,\n",
    "            k=3,\n",
    "            seed=SEED,\n",
    "            device=device\n",
    "        )\n",
    "\n",
    "        self.device = device\n",
    "\n",
    "\n",
    "    def _get_flat_size(self, imgs_shape):\n",
    "        # Forward pass with dummy input to calculate flat size\n",
    "        dummy_input = torch.zeros(4, *imgs_shape, device=device)\n",
    "        x = self.cnn_branch(dummy_input)\n",
    "        return x.size(1)\n",
    "\n",
    "    def get_concat_output(self, mlp_input, cnn_input):\n",
    "        # Ensure inputs are moved to the correct device\n",
    "        kan_input = mlp_input.to(self.device)\n",
    "        cnn_input = cnn_input.to(self.device)\n",
    "        \n",
    "        cnn_output = self.cnn_branch(cnn_input)  # Process image input\n",
    "        kan_output = self.m_kan(kan_input)  # Process numerical input\n",
    "        \n",
    "        return torch.cat((kan_output, cnn_output), dim=1)\n",
    "\n",
    "    \n",
    "    def forward(self, mlp_input, cnn_input):\n",
    "        concat_output = self.get_concat_output(mlp_input, cnn_input)\n",
    "        return self.final_kan(concat_output)"
   ]
  },
  {
   "cell_type": "code",
   "execution_count": 19,
   "id": "7ccaa7d0-8aad-4631-9cae-f7d758267b4c",
   "metadata": {},
   "outputs": [],
   "source": [
    "import matplotlib.pyplot as plt\n",
    "import torch.nn.functional as F\n",
    "\n",
    "def grad_cam_side_by_side(model, model_state, num_input, img_input, x_col, coordinate,\n",
    "                          zoom=1, target_index=None, save_path=None, show=True):\n",
    "    model.load_state_dict(model_state)\n",
    "    model.eval()\n",
    "    model.zero_grad()\n",
    "\n",
    "    if num_input.dim() == 1:\n",
    "        num_input = num_input.unsqueeze(0)\n",
    "    if img_input.dim() == 3:\n",
    "        img_input = img_input.unsqueeze(0)\n",
    "\n",
    "    num_input = num_input.to(model.device)\n",
    "    img_input = img_input.to(model.device)\n",
    "\n",
    "    # Store activations and gradients\n",
    "    activations = {}\n",
    "    gradients = {}\n",
    "\n",
    "    def forward_hook(module, input, output):\n",
    "        activations[\"value\"] = output.detach()\n",
    "\n",
    "    def backward_hook(module, grad_input, grad_output):\n",
    "        gradients[\"value\"] = grad_output[0].detach()\n",
    "\n",
    "    conv_layer = model.cnn_branch[0]\n",
    "    h_fwd = conv_layer.register_forward_hook(forward_hook)\n",
    "    h_bwd = conv_layer.register_full_backward_hook(backward_hook)\n",
    "\n",
    "    output = model(num_input, img_input)\n",
    "    target = output if target_index is None else output[:, target_index]\n",
    "    target.backward()\n",
    "\n",
    "    act = activations[\"value\"].squeeze(0)\n",
    "    grad = gradients[\"value\"].squeeze(0)\n",
    "    weights = grad.mean(dim=(1, 2))\n",
    "    cam = torch.zeros_like(act[0])\n",
    "    for i, w in enumerate(weights):\n",
    "        cam += w * act[i]\n",
    "\n",
    "    cam = torch.relu(cam)\n",
    "    if cam.max() > 0:\n",
    "        cam -= cam.min()\n",
    "        cam /= cam.max()\n",
    "    else:\n",
    "        cam[:] = 0.0\n",
    "\n",
    "\n",
    "    cam_resized = F.interpolate(cam.unsqueeze(0).unsqueeze(0), size=img_input.shape[-2:], mode='bilinear', align_corners=False)\n",
    "    #print(cam_resized)\n",
    "    heatmap = cam_resized.squeeze().cpu()\n",
    "\n",
    "    img_disp = img_input.squeeze().detach().cpu()\n",
    "    if img_disp.shape[0] == 1:\n",
    "        img_disp = img_disp[0]\n",
    "        cmap = 'gray'\n",
    "    else:\n",
    "        img_disp = img_disp.permute(1, 2, 0)\n",
    "        cmap = None\n",
    "\n",
    "    h, w = img_disp.shape[:2]\n",
    "\n",
    "    fig, axs = plt.subplots(1, 2, figsize=(12, 5))\n",
    "    axs[0].imshow(img_disp, cmap=cmap)\n",
    "    axs[0].set_title(\"Original Image\")\n",
    "    axs[0].axis('off')\n",
    "\n",
    "    im = axs[1].imshow(img_disp, cmap=cmap)\n",
    "    heatmap_img = axs[1].imshow(heatmap, cmap='jet', alpha=0.5)\n",
    "    axs[1].set_title(\"Grad-CAM\")\n",
    "    axs[1].axis('off')\n",
    "\n",
    "    # Add colorbar (legend)\n",
    "    cbar = fig.colorbar(heatmap_img, ax=axs[1], fraction=0.046, pad=0.04)\n",
    "    cbar.set_label(\"Grad-CAM Intensity\", fontsize=10)\n",
    "\n",
    "    # Overlay abbreviated features\n",
    "    for i, col in enumerate(x_col):\n",
    "        abbrev = col.split(\"-\")[0][:5]\n",
    "        if i < len(coordinate[0]):\n",
    "            r, c = coordinate[0][i], coordinate[1][i]\n",
    "            ry = r * zoom + zoom // 2\n",
    "            cx = c * zoom + zoom // 2\n",
    "            if ry < h and cx < w:\n",
    "                axs[1].text(cx, ry, abbrev,\n",
    "                            color='white', fontsize=9, ha='center', va='center',\n",
    "                            bbox=dict(facecolor='black', edgecolor='none', pad=1.0, alpha=0.4))\n",
    "                axs[0].text(cx, ry, abbrev,\n",
    "                            color='white', fontsize=9, ha='center', va='center',\n",
    "                            bbox=dict(facecolor='black', edgecolor='none', pad=1.0, alpha=0.4))\n",
    "\n",
    "    plt.tight_layout()\n",
    "\n",
    "    if save_path:\n",
    "        plt.savefig(save_path, bbox_inches='tight', dpi=300)\n",
    "\n",
    "    if show:\n",
    "        plt.show()\n",
    "    else:\n",
    "        plt.close()\n",
    "\n",
    "    h_fwd.remove()\n",
    "    h_bwd.remove()\n",
    "\n",
    "    return heatmap"
   ]
  },
  {
   "cell_type": "code",
   "execution_count": 21,
   "id": "b18460b9-0a18-4ada-a4ea-fa10fe299240",
   "metadata": {},
   "outputs": [],
   "source": [
    "import os\n",
    "import time\n",
    "import copy\n",
    "import numpy as np\n",
    "import torch\n",
    "import torch.optim as optim\n",
    "from torch.optim import LBFGS\n",
    "from tqdm import tqdm\n",
    "import matplotlib.pyplot as plt\n",
    "\n",
    "def fit_hybrid_dataloaders(model, \n",
    "                           dataset,\n",
    "                           opt=\"Adam\", \n",
    "                           steps=100, \n",
    "                           log=1, \n",
    "                           lamb=0., \n",
    "                           lamb_l1=1., \n",
    "                           lamb_entropy=2., \n",
    "                           lamb_coef=0., \n",
    "                           lamb_coefdiff=0., \n",
    "                           update_grid=True, \n",
    "                           grid_update_num=10, \n",
    "                           loss_fn=None, \n",
    "                           lr=1., \n",
    "                           start_grid_update_step=-1, \n",
    "                           stop_grid_update_step=50, \n",
    "                           batch=-1,\n",
    "                           metrics=None, \n",
    "                           save_fig=False, \n",
    "                           in_vars=None, \n",
    "                           out_vars=None, \n",
    "                           beta=3, \n",
    "                           save_fig_freq=1, \n",
    "                           img_folder='./video', \n",
    "                           singularity_avoiding=False, \n",
    "                           y_th=1000., \n",
    "                           reg_metric='edge_forward_spline_n', \n",
    "                           display_metrics=None,\n",
    "                           sum_f_reg=True):\n",
    "    \"\"\"\n",
    "    Trains the hybrid model (with a KAN branch and a CNN branch) using a steps-based loop\n",
    "    adapted from KAN.fit(), with grid updates and regularization.\n",
    "    \n",
    "    Instead of a single dataset dict, this function accepts three DataLoaders:\n",
    "        - train_loader: provides (mlp, img, target) for training\n",
    "        - val_loader: provides (mlp, img, target) for validation\n",
    "        - test_loader: provides (mlp, img, target) for evaluation during training\n",
    "\n",
    "    Internally, the function combines each loader into a dataset dictionary.\n",
    "    \n",
    "    Returns:\n",
    "        results: dictionary containing training loss, evaluation loss, regularization values,\n",
    "                 and any additional metrics recorded during training.\n",
    "    \"\"\"\n",
    "    #device = next(model.parameters()).device\n",
    "\n",
    "    # Warn if regularization is requested but model's internal flag isn't enabled.\n",
    "    if lamb > 0. and not getattr(model.m_kan, \"save_act\", False):\n",
    "        print(\"setting lamb=0. If you want to set lamb > 0, set model.m_kan.save_act=True\")\n",
    "    \n",
    "    # Disable symbolic processing for training if applicable (KAN internal logic)\n",
    "    if hasattr(model.m_kan, \"disable_symbolic_in_fit\"):\n",
    "        old_save_act, old_symbolic_enabled = model.m_kan.disable_symbolic_in_fit(lamb)\n",
    "        f_old_save_act, f_old_symbolic_enabled = model.final_kan.disable_symbolic_in_fit(lamb)\n",
    "    else:\n",
    "        old_save_act, old_symbolic_enabled = None, None\n",
    "\n",
    "    pbar = tqdm(range(steps), desc='Training', ncols=100)\n",
    "\n",
    "    # Default loss function (mean squared error) if not provided\n",
    "    if loss_fn is None:\n",
    "        loss_fn = lambda x, y: torch.mean((x - y) ** 2)\n",
    "\n",
    "    # Determine grid update frequency\n",
    "    grid_update_freq = int(stop_grid_update_step / grid_update_num) if grid_update_num > 0 else 1\n",
    "\n",
    "    # Determine total number of training examples\n",
    "    n_train = dataset[\"train_input\"].shape[0]\n",
    "    n_eval  = dataset[\"test_input\"].shape[0]  # using test set for evaluation during training\n",
    "    batch_size = n_train if batch == -1 or batch > n_train else batch\n",
    "\n",
    "    # Set up optimizer: choose between Adam and LBFGS (removed tolerance_ys)\n",
    "    if opt == \"Adam\":\n",
    "        optimizer = optim.Adam(model.parameters(), lr=lr)\n",
    "    elif opt == \"LBFGS\":\n",
    "        optimizer = LBFGS(model.parameters(), lr=lr, history_size=10, \n",
    "                          line_search_fn=\"strong_wolfe\", \n",
    "                          tolerance_grad=1e-32, \n",
    "                          tolerance_change=1e-32)\n",
    "    else:\n",
    "        raise ValueError(\"Optimizer not recognized. Use 'Adam' or 'LBFGS'.\")\n",
    "\n",
    "    # Prepare results dictionary.\n",
    "    results = {\n",
    "        'train_loss': [],\n",
    "        'eval_loss': [],\n",
    "        'val_loss': [],\n",
    "        'reg': []\n",
    "    }\n",
    "\n",
    "    \n",
    "    if metrics is not None:\n",
    "        for metric in metrics:\n",
    "            results[metric.__name__] = []\n",
    "\n",
    "    best_model_state = None\n",
    "    best_epoch = -1\n",
    "    best_loss = float('inf')\n",
    "\n",
    "    for step in pbar:\n",
    "        # Randomly sample indices for a mini-batch from the training set.\n",
    "        train_indices = np.random.choice(n_train, batch_size, replace=False)\n",
    "        # Use full evaluation set for evaluation; you can also sample if desired.\n",
    "        eval_indices = np.arange(n_eval)\n",
    "\n",
    "        # Closure for LBFGS\n",
    "        def closure():\n",
    "            optimizer.zero_grad()\n",
    "            mlp_batch = dataset[\"train_input\"][train_indices]\n",
    "            img_batch = dataset[\"train_img\"][train_indices]\n",
    "            target_batch = dataset[\"train_label\"][train_indices]\n",
    "            outputs = model(mlp_batch, img_batch)\n",
    "            train_loss = loss_fn(outputs, target_batch)\n",
    "            # Compute regularization term if enabled.\n",
    "            if hasattr(model.m_kan, \"save_act\") and model.m_kan.save_act:\n",
    "                if reg_metric == 'edge_backward':\n",
    "                    model.m_kan.attribute()\n",
    "                    model.final_kan.attribute()\n",
    "                if reg_metric == 'node_backward':\n",
    "                    model.m_kan.node_attribute()\n",
    "                    model.final_kan.node_attribute()\n",
    "                reg_val_inner = model.m_kan.get_reg(reg_metric, lamb_l1, lamb_entropy, lamb_coef, lamb_coefdiff)\n",
    "                if sum_f_reg:\n",
    "                    reg_val_inner = reg_val_inner + model.final_kan.get_reg(reg_metric, lamb_l1, lamb_entropy, lamb_coef, lamb_coefdiff)\n",
    "            else:\n",
    "                reg_val_inner = torch.tensor(0., device=device)\n",
    "            loss_val_inner = train_loss + lamb * reg_val_inner\n",
    "            loss_val_inner.backward()\n",
    "            return loss_val_inner\n",
    "\n",
    "        # Perform grid update if applicable.\n",
    "        if (step % grid_update_freq == 0 and step < stop_grid_update_step \n",
    "            and update_grid and step >= start_grid_update_step):\n",
    "            \n",
    "            mlp_batch = dataset['train_input'][train_indices]\n",
    "            cnn_batch = dataset['train_img'][train_indices]\n",
    "            \n",
    "            model.m_kan.update_grid(mlp_batch)\n",
    "            #cnn_output = model.cnn_branch(cnn_batch)  # Process image input\n",
    "            concatenated  = model.get_concat_output(mlp_batch, cnn_batch)\n",
    "            #concatenated = torch.cat((mlp_batch, cnn_output), dim=1)\n",
    "            model.final_kan.update_grid(concatenated)\n",
    "\n",
    "        # Perform an optimizer step.\n",
    "        if opt == \"LBFGS\":\n",
    "            optimizer.step(closure)\n",
    "            loss_val = closure()  # re-evaluate to record loss\n",
    "            # Compute reg_val separately for logging\n",
    "            with torch.no_grad():\n",
    "                mlp_batch = dataset[\"train_input\"][train_indices]\n",
    "                img_batch = dataset[\"train_img\"][train_indices]\n",
    "                target_batch = dataset[\"train_label\"][train_indices]\n",
    "                outputs = model(mlp_batch, img_batch)\n",
    "                train_loss = loss_fn(outputs, target_batch)\n",
    "                if hasattr(model.m_kan, \"save_act\") and model.m_kan.save_act:\n",
    "                    if reg_metric == 'edge_backward':\n",
    "                        model.m_kan.attribute()\n",
    "                        model.final_kan.attribute()\n",
    "                    if reg_metric == 'node_backward':\n",
    "                        model.m_kan.node_attribute()\n",
    "                        model.final_kan.node_attribute()\n",
    "                    reg_val = model.m_kan.get_reg(reg_metric, lamb_l1, lamb_entropy, lamb_coef, lamb_coefdiff)\n",
    "                    if sum_f_reg:\n",
    "                        reg_val = reg_val + model.final_kan.get_reg(reg_metric, lamb_l1, lamb_entropy, lamb_coef, lamb_coefdiff)\n",
    "                else:\n",
    "                    reg_val = torch.tensor(0., device=device)\n",
    "        else:  # Adam branch\n",
    "            optimizer.zero_grad()\n",
    "            mlp_batch = dataset[\"train_input\"][train_indices]\n",
    "            img_batch = dataset[\"train_img\"][train_indices]\n",
    "            target_batch = dataset[\"train_label\"][train_indices]\n",
    "            outputs = model(mlp_batch, img_batch)\n",
    "            train_loss = loss_fn(outputs, target_batch)\n",
    "            if hasattr(model.m_kan, \"save_act\") and model.m_kan.save_act:\n",
    "                if reg_metric == 'edge_backward':\n",
    "                    model.m_kan.attribute()\n",
    "                    model.final_kan.attribute()\n",
    "                if reg_metric == 'node_backward':\n",
    "                    model.m_kan.node_attribute()\n",
    "                    model.final_kan.node_attribute()\n",
    "                reg_val = model.m_kan.get_reg(reg_metric, lamb_l1, lamb_entropy, lamb_coef, lamb_coefdiff)\n",
    "                if sum_f_reg:\n",
    "                    reg_val = reg_val + model.final_kan.get_reg(reg_metric, lamb_l1, lamb_entropy, lamb_coef, lamb_coefdiff)\n",
    "            else:\n",
    "                reg_val = torch.tensor(0., device=device)\n",
    "            loss_val = train_loss + lamb * reg_val\n",
    "            loss_val.backward()\n",
    "            optimizer.step()\n",
    "\n",
    "        # Evaluate on the entire evaluation set (from test_loader)\n",
    "        mlp_eval = dataset[\"test_input\"][eval_indices]\n",
    "        img_eval = dataset[\"test_img\"][eval_indices]\n",
    "        target_eval = dataset[\"test_label\"][eval_indices]\n",
    "        eval_loss = loss_fn(model(mlp_eval, img_eval), target_eval)\n",
    "\n",
    "        # Record results (using square-root of loss similar to KAN.fit)\n",
    "        results['train_loss'].append(torch.sqrt(loss_val.detach()).item())\n",
    "        results['eval_loss'].append(torch.sqrt(eval_loss.detach()).item())\n",
    "        results['reg'].append(reg_val.detach().item())\n",
    "\n",
    "        # New: Compute validation loss if validation data exists in the dataset.\n",
    "        # val_loss = loss_fn(model(dataset['val_input'][eval_indices], dataset['val_img'][eval_indices]), dataset['val_label'][eval_indices])\n",
    "        # results['val_loss'].append(torch.sqrt(val_loss).cpu().detach().numpy())\n",
    "\n",
    "        if metrics is not None:\n",
    "            for metric in metrics:\n",
    "                # Here, we assume each metric returns a tensor.\n",
    "                results[metric.__name__].append(metric().item())\n",
    "\n",
    "        if eval_loss < best_loss:\n",
    "            best_epoch = step\n",
    "            best_loss = eval_loss\n",
    "            best_model_state = copy.deepcopy(model.state_dict())\n",
    "\n",
    "        # Update progress bar.\n",
    "        if display_metrics is None:\n",
    "            pbar.set_description(\"| train_loss: %.2e | eval_loss: %.2e | reg: %.2e |\" %\n",
    "                                 (torch.sqrt(loss_val.detach()).item(),\n",
    "                                  torch.sqrt(eval_loss.detach()).item(),\n",
    "                                  reg_val.detach().item()))\n",
    "        else:\n",
    "            desc = \"\"\n",
    "            data = []\n",
    "            for metric in display_metrics:\n",
    "                desc += f\" {metric}: %.2e |\"\n",
    "                data.append(results[metric.__name__][-1])\n",
    "            pbar.set_description(desc % tuple(data))\n",
    "\n",
    "        # Optionally save a figure snapshot.\n",
    "        if save_fig and step % save_fig_freq == 0:\n",
    "            save_act_backup = getattr(model.m_kan, \"save_act\", False)\n",
    "            model.m_kan.save_act = True\n",
    "            model.plot(folder=img_folder, in_vars=in_vars, out_vars=out_vars, title=f\"Step {step}\", beta=beta)\n",
    "            plt.savefig(os.path.join(img_folder, f\"{step}.jpg\"), bbox_inches='tight', dpi=200)\n",
    "            plt.close()\n",
    "            model.m_kan.save_act = save_act_backup\n",
    "\n",
    "    # Restore original settings if applicable.\n",
    "    if old_symbolic_enabled is not None:\n",
    "        model.m_kan.symbolic_enabled = old_symbolic_enabled\n",
    "    if hasattr(model.m_kan, \"log_history\"):\n",
    "        model.m_kan.log_history('fit')\n",
    "    print(f\"Best epoch {best_epoch}\")\n",
    "    return results, best_model_state"
   ]
  },
  {
   "cell_type": "code",
   "execution_count": 22,
   "id": "a45cb7d4-164c-46cf-9fed-8a9e9d898046",
   "metadata": {},
   "outputs": [],
   "source": [
    "import traceback\n",
    "\n",
    "def try_create_model(model_class, attributes, imgs_shape, device):\n",
    "    try:\n",
    "        model = model_class(attributes, imgs_shape, device)\n",
    "        \n",
    "        # Test the model with a sample input\n",
    "        num_input = torch.randn(4, attributes)\n",
    "        img_input = torch.randn(4, *imgs_shape)\n",
    "        output = model(num_input, img_input)\n",
    "        \n",
    "        print(f\"Successfully created and tested {model_class.__name__}\")\n",
    "        \n",
    "        return model\n",
    "    except Exception as e:\n",
    "        print(f\"Error creating or testing {model_class.__name__}:\")\n",
    "        traceback.print_exc()\n",
    "        return None"
   ]
  },
  {
   "cell_type": "code",
   "execution_count": 23,
   "id": "c7e8e6c9-39bf-4edf-b80a-341770f072fd",
   "metadata": {},
   "outputs": [
    {
     "name": "stdout",
     "output_type": "stream",
     "text": [
      "checkpoint directory created: ./model\n",
      "saving model version 0.0\n",
      "checkpoint directory created: ./model\n",
      "saving model version 0.0\n",
      "Successfully created and tested Model3\n"
     ]
    },
    {
     "name": "stderr",
     "output_type": "stream",
     "text": [
      "| train_loss: 3.14e+00 | eval_loss: 3.26e+00 | reg: 4.26e+01 |: 100%|█| 15/15 [00:37<00:00,  2.51s/i\n"
     ]
    },
    {
     "name": "stdout",
     "output_type": "stream",
     "text": [
      "saving model version 0.1\n",
      "Best epoch 7\n",
      "3.0938570499420166\n"
     ]
    },
    {
     "data": {
      "image/png": "[encoded data removed]",
      "text/plain": [
       "<Figure size 640x480 with 1 Axes>"
      ]
     },
     "metadata": {},
     "output_type": "display_data"
    }
   ],
   "source": [
    "model3 = try_create_model(Model3, attributes, imgs_shape, device)  # Attempt to create Model3\n",
    "metrics3, best_model_state = fit_hybrid_dataloaders(model3, dataset, opt=\"LBFGS\", steps=15, lamb=.01, sum_f_reg=True)\n",
    "model3.load_state_dict(best_model_state)\n",
    "print(average_rmse(model3(dataset['val_input'], dataset['val_img']), dataset['val_label']))\n",
    "plt.plot(metrics3['train_loss'])\n",
    "plt.plot(metrics3['eval_loss'])\n",
    "plt.legend(['train', 'test'])\n",
    "plt.ylabel('Accuracy')\n",
    "plt.xlabel('step')\n",
    "plt.yscale('log')"
   ]
  },
  {
   "cell_type": "code",
   "execution_count": 24,
   "id": "cd1be798-3b29-429f-be28-2debfb24911e",
   "metadata": {},
   "outputs": [
    {
     "data": {
      "image/png": "[encoded data removed]",
      "text/plain": [
       "<Figure size 500x200 with 28 Axes>"
      ]
     },
     "metadata": {},
     "output_type": "display_data"
    }
   ],
   "source": [
    "model3.m_kan.plot()"
   ]
  },
  {
   "cell_type": "code",
   "execution_count": 25,
   "id": "9ae38e92-86e4-45c8-8c9b-4cd861cf1e2e",
   "metadata": {},
   "outputs": [
    {
     "data": {
      "image/png": "[encoded data removed]",
      "text/plain": [
       "<Figure size 500x200 with 405 Axes>"
      ]
     },
     "metadata": {},
     "output_type": "display_data"
    }
   ],
   "source": [
    "model3.final_kan.plot()"
   ]
  },
  {
   "cell_type": "code",
   "execution_count": 27,
   "id": "2caffb44-1e64-463a-b403-8637d6ee9b84",
   "metadata": {},
   "outputs": [],
   "source": [
    "feature_score = model3.final_kan.feature_score"
   ]
  },
  {
   "cell_type": "code",
   "execution_count": 28,
   "id": "dfda8b83-edec-4412-ae15-f1dd10c99506",
   "metadata": {},
   "outputs": [],
   "source": [
    "import torch\n",
    "import matplotlib.pyplot as plt\n",
    "\n",
    "def plot_mkan_vs_cnn_relevance(feature_scores, mkan_len=6, title=\"Feature Relevance Split\"):\n",
    "    \"\"\"\n",
    "    Plots a pie chart comparing the total feature relevance from m_kan output vs CNN output.\n",
    "\n",
    "    Args:\n",
    "        feature_scores (torch.Tensor or list): 1D tensor of relevance values from final_kan.\n",
    "        mkan_len (int): Number of dimensions from m_kan (default: 6).\n",
    "        title (str): Title for the pie chart.\n",
    "    \"\"\"\n",
    "    if isinstance(feature_scores, torch.Tensor):\n",
    "        feature_scores = feature_scores.detach().cpu().numpy()\n",
    "\n",
    "    mkan_relevance = feature_scores[:mkan_len].sum()\n",
    "    cnn_relevance = feature_scores[mkan_len:].sum()\n",
    "\n",
    "    sizes = [mkan_relevance, cnn_relevance]\n",
    "    labels = ['m_kan Output', 'CNN Output']\n",
    "    explode = (0.05, 0)  # Slightly explode m_kan slice for emphasis\n",
    "\n",
    "    plt.figure(figsize=(6, 6))\n",
    "    plt.pie(sizes, labels=labels, explode=explode, autopct='%1.1f%%',\n",
    "            shadow=True, startangle=140, colors=[\"#66c2a5\", \"#fc8d62\"])\n",
    "    plt.title(title)\n",
    "    plt.axis('equal')\n",
    "    plt.tight_layout()\n",
    "    plt.show()\n"
   ]
  },
  {
   "cell_type": "code",
   "execution_count": 29,
   "id": "7fd6c056-2fde-4aea-809a-556c1029b654",
   "metadata": {},
   "outputs": [
    {
     "data": {
      "image/png": "[encoded data removed]",
      "text/plain": [
       "<Figure size 600x600 with 1 Axes>"
      ]
     },
     "metadata": {},
     "output_type": "display_data"
    }
   ],
   "source": [
    "plot_mkan_vs_cnn_relevance(feature_score, mkan_len=3)"
   ]
  },
  {
   "cell_type": "code",
   "execution_count": 37,
   "id": "0662067c-09e4-48e5-bc75-1687d623cf69",
   "metadata": {},
   "outputs": [],
   "source": [
    "def complete_coordinate_and_xcol(coordinate, x_col):\n",
    "    \"\"\"\n",
    "    Given a coordinate (tuple of row, col arrays) and x_col feature list,\n",
    "    return completed coordinate and x_col including empty positions.\n",
    "\n",
    "    Empty positions are filled with labels: 'Ex1', 'Ex2', ...\n",
    "    \"\"\"\n",
    "\n",
    "    row_coords, col_coords = coordinate\n",
    "    max_row = row_coords.max()\n",
    "    max_col = col_coords.max()\n",
    "    \n",
    "    # All possible coordinate slots\n",
    "    full_coords = set((r, c) for r in range(max_row + 1) for c in range(max_col + 1))\n",
    "    current_coords = set(zip(row_coords, col_coords))\n",
    "    missing_coords = sorted(full_coords - current_coords)\n",
    "\n",
    "    # Create updated coordinate arrays\n",
    "    new_row_coords = list(row_coords)\n",
    "    new_col_coords = list(col_coords)\n",
    "    new_x_col = list(x_col)\n",
    "\n",
    "    for idx, (r, c) in enumerate(missing_coords):\n",
    "        new_row_coords.append(r)\n",
    "        new_col_coords.append(c)\n",
    "        new_x_col.append(f\"Ex{idx+1}\")\n",
    "\n",
    "    completed_coordinate = (np.array(new_row_coords), np.array(new_col_coords))\n",
    "    return completed_coordinate, new_x_col\n",
    "\n",
    "completed_coordinate, completed_x_col = complete_coordinate_and_xcol(coordinates, x_col)"
   ]
  },
  {
   "cell_type": "code",
   "execution_count": 40,
   "id": "1e9a50ac-2a94-4314-b76f-6e81633bca1a",
   "metadata": {},
   "outputs": [],
   "source": [
    "import matplotlib.pyplot as plt\n",
    "import torch.nn.functional as F\n",
    "\n",
    "def grad_cam_side_by_side(model, model_state, num_input, img_input, x_col, coordinate,\n",
    "                          zoom=1, target_index=None, save_path=None, show=True):\n",
    "    model.load_state_dict(model_state)\n",
    "    model.eval()\n",
    "    model.zero_grad()\n",
    "\n",
    "    if num_input.dim() == 1:\n",
    "        num_input = num_input.unsqueeze(0)\n",
    "    if img_input.dim() == 3:\n",
    "        img_input = img_input.unsqueeze(0)\n",
    "\n",
    "    num_input = num_input.to(model.device)\n",
    "    img_input = img_input.to(model.device)\n",
    "\n",
    "    # Store activations and gradients\n",
    "    activations = {}\n",
    "    gradients = {}\n",
    "\n",
    "    def forward_hook(module, input, output):\n",
    "        activations[\"value\"] = output.detach()\n",
    "\n",
    "    def backward_hook(module, grad_input, grad_output):\n",
    "        gradients[\"value\"] = grad_output[0].detach()\n",
    "\n",
    "    conv_layer = model.cnn_branch[0]\n",
    "    h_fwd = conv_layer.register_forward_hook(forward_hook)\n",
    "    h_bwd = conv_layer.register_full_backward_hook(backward_hook)\n",
    "\n",
    "    output = model(num_input, img_input)\n",
    "    target = output if target_index is None else output[:, target_index]\n",
    "    target.backward()\n",
    "\n",
    "    act = activations[\"value\"].squeeze(0)\n",
    "    grad = gradients[\"value\"].squeeze(0)\n",
    "    weights = grad.mean(dim=(1, 2))\n",
    "    cam = torch.zeros_like(act[0])\n",
    "    for i, w in enumerate(weights):\n",
    "        cam += w * act[i]\n",
    "\n",
    "    cam = torch.relu(cam)\n",
    "    if cam.max() > 0:\n",
    "        cam -= cam.min()\n",
    "        cam /= cam.max()\n",
    "    else:\n",
    "        cam[:] = 0.0\n",
    "\n",
    "\n",
    "    cam_resized = F.interpolate(cam.unsqueeze(0).unsqueeze(0), size=img_input.shape[-2:], mode='bilinear', align_corners=False)\n",
    "    #print(cam_resized)\n",
    "    heatmap = cam_resized.squeeze().cpu()\n",
    "\n",
    "    img_disp = img_input.squeeze().detach().cpu()\n",
    "    if img_disp.shape[0] == 1:\n",
    "        img_disp = img_disp[0]\n",
    "        cmap = 'gray'\n",
    "    else:\n",
    "        img_disp = img_disp.permute(1, 2, 0)\n",
    "        cmap = None\n",
    "\n",
    "    h, w = img_disp.shape[:2]\n",
    "\n",
    "    fig, axs = plt.subplots(1, 2, figsize=(12, 5))\n",
    "    axs[0].imshow(img_disp, cmap=cmap)\n",
    "    axs[0].set_title(\"Original Image\")\n",
    "    axs[0].axis('off')\n",
    "\n",
    "    im = axs[1].imshow(img_disp, cmap=cmap)\n",
    "    heatmap_img = axs[1].imshow(heatmap, cmap='jet', alpha=0.5)\n",
    "    axs[1].set_title(\"Grad-CAM\")\n",
    "    axs[1].axis('off')\n",
    "\n",
    "    # Add colorbar (legend)\n",
    "    cbar = fig.colorbar(heatmap_img, ax=axs[1], fraction=0.046, pad=0.04)\n",
    "    cbar.set_label(\"Grad-CAM Intensity\", fontsize=10)\n",
    "\n",
    "    # Overlay abbreviated features\n",
    "    for i, col in enumerate(x_col):\n",
    "        abbrev = col.split(\"-\")[0][:5]\n",
    "        if i < len(coordinate[0]):\n",
    "            r, c = coordinate[0][i], coordinate[1][i]\n",
    "            ry = r * zoom + zoom // 2\n",
    "            cx = c * zoom + zoom // 2\n",
    "            if ry < h and cx < w:\n",
    "                axs[1].text(cx, ry, abbrev,\n",
    "                            color='white', fontsize=9, ha='center', va='center',\n",
    "                            bbox=dict(facecolor='black', edgecolor='none', pad=1.0, alpha=0.4))\n",
    "                axs[0].text(cx, ry, abbrev,\n",
    "                            color='white', fontsize=9, ha='center', va='center',\n",
    "                            bbox=dict(facecolor='black', edgecolor='none', pad=1.0, alpha=0.4))\n",
    "\n",
    "    plt.tight_layout()\n",
    "\n",
    "    if save_path:\n",
    "        plt.savefig(save_path, bbox_inches='tight', dpi=300)\n",
    "\n",
    "    if show:\n",
    "        plt.show()\n",
    "    else:\n",
    "        plt.close()\n",
    "\n",
    "    h_fwd.remove()\n",
    "    h_bwd.remove()\n",
    "\n",
    "    return heatmap"
   ]
  },
  {
   "cell_type": "code",
   "execution_count": 44,
   "id": "c964cf3e-ca89-412e-9a6e-885338929022",
   "metadata": {},
   "outputs": [
    {
     "data": {
      "image/png": "[encoded data removed]",
      "text/plain": [
       "<Figure size 1200x500 with 3 Axes>"
      ]
     },
     "metadata": {},
     "output_type": "display_data"
    }
   ],
   "source": [
    "i = 3  # index of the image you want to explain\n",
    "heatmap = grad_cam_side_by_side(\n",
    "    model=model3,\n",
    "    model_state=best_model_state,\n",
    "    num_input=dataset[\"val_input\"][i],\n",
    "    img_input=dataset[\"val_img\"][i],\n",
    "    x_col=completed_x_col,\n",
    "    coordinate=completed_coordinate,\n",
    "    zoom=2\n",
    ")"
   ]
  },
  {
   "cell_type": "code",
   "execution_count": 46,
   "id": "27750943-70a8-4997-9f69-3b129d9fbe37",
   "metadata": {},
   "outputs": [],
   "source": [
    "def heatmap_to_feature_relevance(heatmap, coordinate, x_col, zoom=1):\n",
    "    \"\"\"\n",
    "    Map heatmap pixel intensities to their corresponding features using coordinate and zoom.\n",
    "    Returns a dictionary of {feature_name: relevance_score}.\n",
    "    \"\"\"\n",
    "    feature_scores = {}\n",
    "\n",
    "    for i, col in enumerate(x_col):\n",
    "        if i < len(coordinate[0]):\n",
    "            r, c = coordinate[0][i], coordinate[1][i]\n",
    "            ry = r * zoom + zoom // 2\n",
    "            cx = c * zoom + zoom // 2\n",
    "            if ry < heatmap.shape[0] and cx < heatmap.shape[1]:\n",
    "                feature_scores[col] = heatmap[ry, cx].item()\n",
    "\n",
    "    return feature_scores\n",
    "\n",
    "def plot_feature_relevance_bar(feature_scores):\n",
    "    \"\"\"\n",
    "    Plots a horizontal bar chart of feature relevance from Grad-CAM heatmap.\n",
    "    \"\"\"\n",
    "    sorted_scores = sorted(feature_scores.items(), key=lambda item: item[1], reverse=True)\n",
    "    features, scores = zip(*sorted_scores)\n",
    "\n",
    "    plt.figure(figsize=(12, 6))\n",
    "    plt.barh(features, scores, color='royalblue')\n",
    "    plt.xlabel(\"Grad-CAM Relevance\")\n",
    "    plt.title(\"Feature Relevance from Single Instance\")\n",
    "    plt.gca().invert_yaxis()\n",
    "    plt.tight_layout()\n",
    "    plt.show()"
   ]
  },
  {
   "cell_type": "code",
   "execution_count": 47,
   "id": "07fd8c55-2244-4b3e-b521-8f51d7e43597",
   "metadata": {},
   "outputs": [],
   "source": [
    "def compute_avg_feature_relevance_from_val(model, model_state, val_inputs, val_imgs, coordinate, x_col, zoom=1):\n",
    "    \"\"\"\n",
    "    Computes average Grad-CAM feature relevance over all validation instances with a tqdm progress bar.\n",
    "\n",
    "    Args:\n",
    "        model: Trained model\n",
    "        model_state: Trained weights to be loaded\n",
    "        val_inputs: List or tensor of numerical inputs\n",
    "        val_imgs: List or tensor of image inputs\n",
    "        coordinate: IGTD-style coordinate tuple (row array, col array)\n",
    "        x_col: List of feature names (including extras)\n",
    "        zoom: Zoom level used when generating the images\n",
    "\n",
    "    Returns:\n",
    "        Dictionary of average feature relevance\n",
    "    \"\"\"\n",
    "    accumulated_scores = {feature: [] for feature in x_col}\n",
    "\n",
    "    for num_input, img_input in tqdm(zip(val_inputs, val_imgs), total=len(val_inputs), desc=\"Computing Grad-CAM\"):\n",
    "        heatmap = grad_cam_side_by_side(\n",
    "            model=model,\n",
    "            model_state=model_state,\n",
    "            num_input=num_input,\n",
    "            img_input=img_input,\n",
    "            coordinate=coordinate,\n",
    "            x_col=x_col,\n",
    "            zoom=zoom,\n",
    "            show=False\n",
    "        )\n",
    "        scores = heatmap_to_feature_relevance(heatmap, coordinate, x_col, zoom)\n",
    "        for feature, value in scores.items():\n",
    "            accumulated_scores[feature].append(value)\n",
    "\n",
    "    # Compute average\n",
    "    avg_scores = {feature: float(np.mean(values)) if values else 0.0\n",
    "                  for feature, values in accumulated_scores.items()}\n",
    "\n",
    "    return avg_scores\n",
    "\n",
    "\n",
    "def plot_avg_feature_relevance_from_val(model, val_inputs, val_imgs, coordinate, x_col, zoom=1):\n",
    "    \"\"\"\n",
    "    Combines all steps: compute average relevance and plot.\n",
    "    \"\"\"\n",
    "    avg_scores = compute_avg_feature_relevance_from_val(model, val_inputs, val_imgs, coordinate, x_col, zoom)\n",
    "    plot_feature_relevance_bar(avg_scores)\n",
    "    return avg_scores\n"
   ]
  },
  {
   "cell_type": "code",
   "execution_count": 48,
   "id": "46693c85-7c64-40e3-b165-314ee3ddc306",
   "metadata": {},
   "outputs": [
    {
     "name": "stderr",
     "output_type": "stream",
     "text": [
      "Computing Grad-CAM: 100%|██████████| 1639/1639 [09:11<00:00,  2.97it/s]\n"
     ]
    }
   ],
   "source": [
    "avg_scores = compute_avg_feature_relevance_from_val(\n",
    "    model=model3,\n",
    "    model_state=best_model_state,\n",
    "    val_inputs=dataset[\"test_input\"],\n",
    "    val_imgs=dataset[\"test_img\"],\n",
    "    coordinate=completed_coordinate,\n",
    "    x_col=completed_x_col,\n",
    "    zoom=2\n",
    ")\n"
   ]
  },
  {
   "cell_type": "code",
   "execution_count": 49,
   "id": "32e794d5-b4f8-4091-b224-3801a9f8e3c7",
   "metadata": {},
   "outputs": [
    {
     "data": {
      "image/png": "[encoded data removed]",
      "text/plain": [
       "<Figure size 1200x600 with 1 Axes>"
      ]
     },
     "metadata": {},
     "output_type": "display_data"
    }
   ],
   "source": [
    "plot_feature_relevance_bar(avg_scores)"
   ]
  },
  {
   "cell_type": "code",
   "execution_count": 50,
   "id": "a7120cd2-96c7-468b-9ea3-190cd0a01707",
   "metadata": {},
   "outputs": [
    {
     "name": "stderr",
     "output_type": "stream",
     "text": [
      "Computing Grad-CAM: 100%|██████████| 1311/1311 [07:27<00:00,  2.93it/s] \n"
     ]
    }
   ],
   "source": [
    "avg_scores = compute_avg_feature_relevance_from_val(\n",
    "    model=model3,\n",
    "    model_state=best_model_state,\n",
    "    val_inputs=dataset[\"val_input\"],\n",
    "    val_imgs=dataset[\"val_img\"],\n",
    "    coordinate=completed_coordinate,\n",
    "    x_col=completed_x_col,\n",
    "    zoom=2\n",
    ")"
   ]
  },
  {
   "cell_type": "code",
   "execution_count": 51,
   "id": "c281472a-d403-4a8a-95fe-4e357bf2abe1",
   "metadata": {},
   "outputs": [
    {
     "data": {
      "image/png": "[encoded data removed]",
      "text/plain": [
       "<Figure size 1200x600 with 1 Axes>"
      ]
     },
     "metadata": {},
     "output_type": "display_data"
    }
   ],
   "source": [
    "plot_feature_relevance_bar(avg_scores)"
   ]
  },
  {
   "cell_type": "code",
   "execution_count": 52,
   "id": "cfa6d13e-165a-4397-a122-1aad68e1f12a",
   "metadata": {},
   "outputs": [
    {
     "name": "stdout",
     "output_type": "stream",
     "text": [
      "checkpoint directory created: ./model\n",
      "saving model version 0.0\n",
      "checkpoint directory created: ./model\n",
      "saving model version 0.0\n",
      "Successfully created and tested Model3\n"
     ]
    },
    {
     "name": "stderr",
     "output_type": "stream",
     "text": [
      "| train_loss: 3.16e+00 | eval_loss: 3.23e+00 | reg: 4.88e+01 |: 100%|█| 15/15 [00:35<00:00,  2.38s/i\n"
     ]
    },
    {
     "name": "stdout",
     "output_type": "stream",
     "text": [
      "saving model version 0.1\n",
      "Best epoch 10\n",
      "3.093006134033203\n"
     ]
    },
    {
     "data": {
      "image/png": "[encoded data removed]",
      "text/plain": [
       "<Figure size 640x480 with 1 Axes>"
      ]
     },
     "metadata": {},
     "output_type": "display_data"
    }
   ],
   "source": [
    "model3 = try_create_model(Model3, attributes, imgs_shape, device)  # Attempt to create Model3\n",
    "metrics3, best_model_state = fit_hybrid_dataloaders(model3, dataset, opt=\"LBFGS\", steps=15, lamb=.01, sum_f_reg=True)\n",
    "model3.load_state_dict(best_model_state)\n",
    "print(average_rmse(model3(dataset['val_input'], dataset['val_img']), dataset['val_label']))\n",
    "plt.plot(metrics3['train_loss'])\n",
    "plt.plot(metrics3['eval_loss'])\n",
    "plt.legend(['train', 'test'])\n",
    "plt.ylabel('Accuracy')\n",
    "plt.xlabel('step')\n",
    "plt.yscale('log')"
   ]
  },
  {
   "cell_type": "code",
   "execution_count": 63,
   "id": "270e7d44-2586-4cce-b329-fbce7504e629",
   "metadata": {},
   "outputs": [],
   "source": [
    "class Model4(nn.Module):\n",
    "    def __init__(self, attributes, imgs_shape, device):\n",
    "        super(Model4, self).__init__()\n",
    "\n",
    "        self.cnn_branch = nn.Sequential(\n",
    "            nn.Conv2d(imgs_shape[0], 16, kernel_size=2),\n",
    "            nn.LayerNorm([16, 5, 5]),\n",
    "            nn.ReLU(),\n",
    "            nn.MaxPool2d(2, 2),\n",
    "            nn.Conv2d(16, 32, kernel_size=2, padding=1),\n",
    "            nn.LayerNorm([32, 3, 3]),\n",
    "            nn.Sigmoid(),\n",
    "            #nn.MaxPool2d(2),\n",
    "            nn.Flatten()\n",
    "        ).to(device)\n",
    "\n",
    "        # Middle KAN layers\n",
    "        self.m_kan = KAN(\n",
    "            width=[attributes, 3],\n",
    "            grid=4,\n",
    "            k=3,\n",
    "            seed=SEED,\n",
    "            device=device\n",
    "        )\n",
    "        # Calculate the size of the flattened output\n",
    "        self.flat_size = self._get_flat_size(imgs_shape)\n",
    "        # Final MLP layers\n",
    "        self.final_kan = KAN(\n",
    "            width=[self.flat_size + 3, 1],\n",
    "            grid=4,\n",
    "            k=3,\n",
    "            device=device\n",
    "        )\n",
    "        \n",
    "        self.device = device\n",
    "\n",
    "    def _get_flat_size(self, imgs_shape):\n",
    "        # Forward pass with dummy input to calculate flat size\n",
    "        dummy_input = torch.zeros(4, *imgs_shape, device=device)\n",
    "        x = self.cnn_branch(dummy_input)\n",
    "        return x.size(1)\n",
    "\n",
    "    def get_concat_output(self, mlp_input, cnn_input):\n",
    "        # Ensure inputs are moved to the correct device\n",
    "        kan_input = mlp_input.to(self.device)\n",
    "        cnn_input = cnn_input.to(self.device)\n",
    "        \n",
    "        cnn_output = self.cnn_branch(cnn_input)  # Process image input\n",
    "        kan_output = self.m_kan(kan_input)  # Process numerical input\n",
    "        \n",
    "        return torch.cat((kan_output, cnn_output), dim=1)\n",
    "\n",
    "    \n",
    "    def forward(self, mlp_input, cnn_input):\n",
    "        concat_output = self.get_concat_output(mlp_input, cnn_input)\n",
    "        return self.final_kan(concat_output)"
   ]
  },
  {
   "cell_type": "code",
   "execution_count": 79,
   "id": "e02b15c3-b7d7-491a-a6d5-6b38a824b4b8",
   "metadata": {},
   "outputs": [
    {
     "name": "stdout",
     "output_type": "stream",
     "text": [
      "checkpoint directory created: ./model\n",
      "saving model version 0.0\n",
      "checkpoint directory created: ./model\n",
      "saving model version 0.0\n",
      "Successfully created and tested Model4\n"
     ]
    },
    {
     "name": "stderr",
     "output_type": "stream",
     "text": [
      "| train_loss: 3.09e+00 | eval_loss: 3.23e+00 | reg: 7.51e+01 |: 100%|█| 20/20 [00:25<00:00,  1.30s/i"
     ]
    },
    {
     "name": "stdout",
     "output_type": "stream",
     "text": [
      "saving model version 0.1\n",
      "Best epoch 7\n",
      "3.105973958969116\n"
     ]
    },
    {
     "name": "stderr",
     "output_type": "stream",
     "text": [
      "\n"
     ]
    },
    {
     "data": {
      "image/png": "[encoded data removed]",
      "text/plain": [
       "<Figure size 640x480 with 1 Axes>"
      ]
     },
     "metadata": {},
     "output_type": "display_data"
    }
   ],
   "source": [
    "model4 = try_create_model(Model4, attributes, imgs_shape, device)  # Attempt to create Model3\n",
    "metrics4, best_model_state = fit_hybrid_dataloaders(model4, dataset, opt=\"LBFGS\", steps=20, lamb=.00001, sum_f_reg=True)\n",
    "model4.load_state_dict(best_model_state)\n",
    "print(average_rmse(model4(dataset['val_input'], dataset['val_img']), dataset['val_label']))\n",
    "plt.plot(metrics4['train_loss'])\n",
    "plt.plot(metrics4['eval_loss'])\n",
    "plt.legend(['train', 'test'])\n",
    "plt.ylabel('RMSE')\n",
    "plt.xlabel('step')\n",
    "plt.yscale('log')"
   ]
  },
  {
   "cell_type": "code",
   "execution_count": 80,
   "id": "c490c4b9-5cdc-4052-8132-7c847472ed49",
   "metadata": {},
   "outputs": [
    {
     "data": {
      "image/png": "[encoded data removed]",
      "text/plain": [
       "<Figure size 500x200 with 28 Axes>"
      ]
     },
     "metadata": {},
     "output_type": "display_data"
    }
   ],
   "source": [
    "model4.m_kan.plot()"
   ]
  },
  {
   "cell_type": "code",
   "execution_count": 81,
   "id": "c9aba91b-6cd1-4d1d-917b-1df6d923757d",
   "metadata": {},
   "outputs": [
    {
     "data": {
      "image/png": "[encoded data removed]",
      "text/plain": [
       "<Figure size 500x200 with 293 Axes>"
      ]
     },
     "metadata": {},
     "output_type": "display_data"
    }
   ],
   "source": [
    "model4.final_kan.plot()"
   ]
  },
  {
   "cell_type": "code",
   "execution_count": 82,
   "id": "04f49abb-3afa-49ae-8555-d29a8a6b0832",
   "metadata": {},
   "outputs": [],
   "source": [
    "feature_score=model4.final_kan.feature_score"
   ]
  },
  {
   "cell_type": "code",
   "execution_count": 83,
   "id": "7567be98-206d-44fe-807f-ccdb79af0a48",
   "metadata": {},
   "outputs": [
    {
     "data": {
      "image/png": "[encoded data removed]",
      "text/plain": [
       "<Figure size 600x600 with 1 Axes>"
      ]
     },
     "metadata": {},
     "output_type": "display_data"
    }
   ],
   "source": [
    "plot_mkan_vs_cnn_relevance(feature_score, mkan_len=3)"
   ]
  },
  {
   "cell_type": "code",
   "execution_count": 84,
   "id": "da842b25-e8ce-419d-ad59-2e9b41daf405",
   "metadata": {},
   "outputs": [
    {
     "data": {
      "image/png": "[encoded data removed]",
      "text/plain": [
       "<Figure size 1200x500 with 3 Axes>"
      ]
     },
     "metadata": {},
     "output_type": "display_data"
    }
   ],
   "source": [
    "i = 3  # index of the image you want to explain\n",
    "heatmap = grad_cam_side_by_side(\n",
    "    model=model4,\n",
    "    model_state=best_model_state,\n",
    "    num_input=dataset[\"val_input\"][i],\n",
    "    img_input=dataset[\"val_img\"][i],\n",
    "    x_col=completed_x_col,\n",
    "    coordinate=completed_coordinate,\n",
    "    zoom=2\n",
    ")"
   ]
  },
  {
   "cell_type": "code",
   "execution_count": 85,
   "id": "cfb9c48d-17f4-4609-83f1-17be72de9bcb",
   "metadata": {},
   "outputs": [
    {
     "name": "stderr",
     "output_type": "stream",
     "text": [
      "Computing Grad-CAM: 100%|██████████| 1639/1639 [09:40<00:00,  2.82it/s] \n"
     ]
    }
   ],
   "source": [
    "avg_scores = compute_avg_feature_relevance_from_val(\n",
    "    model=model4,\n",
    "    model_state=best_model_state,\n",
    "    val_inputs=dataset[\"test_input\"],\n",
    "    val_imgs=dataset[\"test_img\"],\n",
    "    coordinate=completed_coordinate,\n",
    "    x_col=completed_x_col,\n",
    "    zoom=2\n",
    ")"
   ]
  },
  {
   "cell_type": "code",
   "execution_count": 86,
   "id": "881e9a1a-a9b4-4cac-b11f-87a6246730b6",
   "metadata": {},
   "outputs": [
    {
     "data": {
      "image/png": "[encoded data removed]",
      "text/plain": [
       "<Figure size 1200x600 with 1 Axes>"
      ]
     },
     "metadata": {},
     "output_type": "display_data"
    }
   ],
   "source": [
    "plot_feature_relevance_bar(avg_scores)"
   ]
  },
  {
   "cell_type": "code",
   "execution_count": 87,
   "id": "37b79cd3-5e6a-4f01-9175-c883fdb4d3d4",
   "metadata": {},
   "outputs": [
    {
     "name": "stderr",
     "output_type": "stream",
     "text": [
      "Computing Grad-CAM: 100%|██████████| 1311/1311 [07:39<00:00,  2.86it/s]\n"
     ]
    }
   ],
   "source": [
    "avg_scores = compute_avg_feature_relevance_from_val(\n",
    "    model=model4,\n",
    "    model_state=best_model_state,\n",
    "    val_inputs=dataset[\"val_input\"],\n",
    "    val_imgs=dataset[\"val_img\"],\n",
    "    coordinate=completed_coordinate,\n",
    "    x_col=completed_x_col,\n",
    "    zoom=2\n",
    ")"
   ]
  },
  {
   "cell_type": "code",
   "execution_count": 88,
   "id": "b894d126-9f25-4915-8499-1b957c03a673",
   "metadata": {},
   "outputs": [
    {
     "data": {
      "image/png": "[encoded data removed]",
      "text/plain": [
       "<Figure size 1200x600 with 1 Axes>"
      ]
     },
     "metadata": {},
     "output_type": "display_data"
    }
   ],
   "source": [
    "plot_feature_relevance_bar(avg_scores)"
   ]
  },
  {
   "cell_type": "code",
   "execution_count": null,
   "id": "65849c5d-723e-44e1-a5fd-d89bca786805",
   "metadata": {},
   "outputs": [],
   "source": []
  },
  {
   "cell_type": "code",
   "execution_count": null,
   "id": "fd4c1fe6-c798-4d10-b602-4be13db6ccff",
   "metadata": {},
   "outputs": [],
   "source": []
  },
  {
   "cell_type": "code",
   "execution_count": null,
   "id": "a99e1212-87d5-4fcc-a0dd-d00e6755521f",
   "metadata": {},
   "outputs": [],
   "source": []
  }
 ],
 "metadata": {
  "kernelspec": {
   "display_name": "Python 3 (ipykernel)",
   "language": "python",
   "name": "python3"
  },
  "language_info": {
   "codemirror_mode": {
    "name": "ipython",
    "version": 3
   },
   "file_extension": ".py",
   "mimetype": "text/x-python",
   "name": "python",
   "nbconvert_exporter": "python",
   "pygments_lexer": "ipython3",
   "version": "3.12.7"
  }
 },
 "nbformat": 4,
 "nbformat_minor": 5
}
