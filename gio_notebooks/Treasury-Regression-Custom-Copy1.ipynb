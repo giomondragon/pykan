{
 "cells": [
  {
   "cell_type": "code",
   "execution_count": 1,
   "id": "8d5668d4-717f-4e0a-a900-f1b70dc8ba0f",
   "metadata": {},
   "outputs": [],
   "source": [
    "import sys\n",
    "import os\n",
    "\n",
    "# Get the root directory\n",
    "root_dir = os.path.abspath(os.path.join(os.getcwd(), '..'))\n",
    "\n",
    "# Add the root directory to the Python path\n",
    "sys.path.append(root_dir)"
   ]
  },
  {
   "cell_type": "code",
   "execution_count": 2,
   "id": "4dace8b6-da36-4ed7-94f9-e7bfde57e588",
   "metadata": {},
   "outputs": [
    {
     "name": "stdout",
     "output_type": "stream",
     "text": [
      "cuda\n"
     ]
    }
   ],
   "source": [
    "from tqdm import tqdm\n",
    "from torch.utils.data import DataLoader, TensorDataset\n",
    "from torch.optim.lr_scheduler import OneCycleLR\n",
    "from sklearn.model_selection import train_test_split\n",
    "from sklearn.preprocessing import MinMaxScaler, StandardScaler\n",
    "from sklearn.datasets import load_diabetes\n",
    "from sklearn.model_selection import train_test_split\n",
    "from sklearn.preprocessing import StandardScaler\n",
    "from sklearn.metrics import mean_squared_error, mean_absolute_error, r2_score\n",
    "from vit_pytorch.vit import ViT\n",
    "from kan import *\n",
    "\n",
    "\n",
    "import time\n",
    "import gc\n",
    "import copy\n",
    "import traceback\n",
    "import torch.nn as nn\n",
    "import cv2\n",
    "import matplotlib.pyplot as plt\n",
    "import pandas as pd\n",
    "import numpy as np\n",
    "import random\n",
    "import torch.optim as optim\n",
    "import torch\n",
    "\n",
    "if torch.cuda.is_available():\n",
    "  device = torch.device(\"cuda\")\n",
    "else:\n",
    "  device = torch.device(\"cpu\")\n",
    "\n",
    "print(device)"
   ]
  },
  {
   "cell_type": "markdown",
   "id": "7b71d2a5-d2ad-4b72-9869-8fdae3a98141",
   "metadata": {},
   "source": [
    "# BESt 0.212"
   ]
  },
  {
   "cell_type": "code",
   "execution_count": 3,
   "id": "787a631d-2f1e-4b05-845e-bb878447f357",
   "metadata": {},
   "outputs": [],
   "source": [
    "SEED = 381\n",
    "# SET RANDOM SEED FOR REPRODUCIBILITY\n",
    "torch.manual_seed(SEED)\n",
    "random.seed(SEED)\n",
    "np.random.seed(SEED)"
   ]
  },
  {
   "cell_type": "code",
   "execution_count": 4,
   "id": "1580c162-4015-4cda-8492-b51350055b36",
   "metadata": {},
   "outputs": [],
   "source": [
    "folder=\"data/treasury\"\n",
    "x_col=[\"1Y-CMaturityRate\", \"30Y-CMortgageRate\", \"3M-Rate-AuctionAverage\", \"3M-Rate-SecondaryMarket\", \"3Y-CMaturityRate\", \n",
    "       \"5Y-CMaturityRate\", \"bankCredit\", \"currency\", \"demandDeposits\", \"federalFunds\", \"moneyStock\", \"checkableDeposits\", \n",
    "       \"loansLeases\", \"savingsDeposits\", \"tradeCurrencies\"]\n",
    "\n",
    "target_col=[\"target\"]"
   ]
  },
  {
   "cell_type": "code",
   "execution_count": 5,
   "id": "c0d46e15-1287-4f1e-ba6a-cc05b3c8915f",
   "metadata": {},
   "outputs": [],
   "source": [
    "def load_and_clean(npy_filename, y_filename, x_col, target_col):\n",
    "    \"\"\"\n",
    "    Load the feature array (npy_filename) and label array (y_filename),\n",
    "    drop rows in the feature array that contain any NaNs, and apply\n",
    "    the same mask to the label array.\n",
    "    \"\"\"\n",
    "    # Load numpy arrays\n",
    "    X = np.load(os.path.join(folder, npy_filename))\n",
    "    y = np.load(os.path.join(folder, y_filename))\n",
    "    \n",
    "    # Ensure the number of rows matches between X and y\n",
    "    if X.shape[0] != y.shape[0]:\n",
    "        raise ValueError(\"The number of rows in {} and {} do not match.\".format(npy_filename, y_filename))\n",
    "    \n",
    "    # Create a boolean mask for rows that do NOT have any NaN values in X\n",
    "    valid_rows = ~np.isnan(X).any(axis=1)\n",
    "    #print(valid_rows)\n",
    "    # Filter both arrays using the valid_rows mask\n",
    "    X_clean = X[valid_rows]\n",
    "    y_clean = y[valid_rows]\n",
    "    \n",
    "    # Convert arrays to DataFrames\n",
    "    df_X = pd.DataFrame(X_clean)\n",
    "    df_y = pd.DataFrame(y_clean)\n",
    "    df_X.columns = x_col\n",
    "    df_y.columns = target_col\n",
    "    return df_X, df_y\n",
    "\n",
    "X_train, y_train = load_and_clean('N_train.npy', 'y_train.npy',x_col, target_col)\n",
    "X_test, y_test   = load_and_clean('N_test.npy',  'y_test.npy', x_col, target_col)\n",
    "X_val, y_val     = load_and_clean('N_val.npy',   'y_val.npy', x_col, target_col)"
   ]
  },
  {
   "cell_type": "code",
   "execution_count": 6,
   "id": "e6443278-0647-432b-86d7-6883cf1aea2b",
   "metadata": {},
   "outputs": [],
   "source": [
    "# Function to load and preprocess data\n",
    "def load_and_preprocess_data(X_train, y_train, X_test, y_test, X_val, y_val, image_model, problem_type, batch_size=32):\n",
    "    # Generate the images if the folder does not exist\n",
    "    if not os.path.exists(f'{images_folder}/train'):\n",
    "        #Generate thet images\n",
    "        image_model.fit_transform(X_train, f'{images_folder}/train')\n",
    "        image_model.saveHyperparameters(f'{images_folder}'+\"/model.pkl\")\n",
    "    else:\n",
    "        print(\"The images are already generated\")\n",
    "\n",
    "    img_paths = os.path.join(f'{images_folder}/train',problem_type+\".csv\")\n",
    "\n",
    "    print(img_paths)\n",
    "    \n",
    "    imgs_train = pd.read_csv(img_paths)\n",
    "    \n",
    "    # Update image paths\n",
    "    imgs_train[\"images\"] = images_folder + \"/train/\" + imgs_train[\"images\"]\n",
    "\n",
    "    # Combine datasets\n",
    "    #combined_dataset = pd.concat([imgs, X_train], axis=1)\n",
    "    \n",
    "    # Split data\n",
    "    #X_train = combined_dataset.drop(target_col, axis=1).drop(\"values\", axis=1)\n",
    "    #y_train = combined_dataset[\"values\"]\n",
    "        \n",
    "    ### X_val\n",
    "    # Generate the images if the folder does not exist\n",
    "    if not os.path.exists(f'{images_folder}/val'):\n",
    "        #Generate thet images\n",
    "        image_model.transform(X_val, f'{images_folder}/val')\n",
    "    else:\n",
    "        print(\"The images are already generated\")\n",
    "\n",
    "    img_paths = os.path.join(f'{images_folder}/val',problem_type+\".csv\")\n",
    "\n",
    "    print(img_paths)\n",
    "    \n",
    "    imgs_val = pd.read_csv(img_paths)\n",
    "\n",
    "    # Update image paths\n",
    "    imgs_val[\"images\"] = images_folder + \"/val/\" + imgs_val[\"images\"]\n",
    "\n",
    "    # Combine datasets\n",
    "    #combined_dataset = pd.concat([imgs, X_val], axis=1)\n",
    "\n",
    "    # Split data\n",
    "    #X_val = combined_dataset.drop(target_col, axis=1).drop(\"values\", axis=1)\n",
    "    #y_val = combined_dataset[\"values\"]\n",
    "    \n",
    "    ### X_test\n",
    "    # Generate the images if the folder does not exist\n",
    "    if not os.path.exists(f'{images_folder}/test'):\n",
    "        #Generate thet images\n",
    "        image_model.transform(X_test, f'{images_folder}/test')\n",
    "    else:\n",
    "        print(\"The images are already generated\")\n",
    "\n",
    "    img_paths = os.path.join(f'{images_folder}/test',problem_type+\".csv\")\n",
    "\n",
    "    print(img_paths)\n",
    "    \n",
    "    imgs_test = pd.read_csv(img_paths)\n",
    "\n",
    "    # Update image paths\n",
    "    imgs_test[\"images\"] = images_folder + \"/test/\" + imgs_test[\"images\"]\n",
    "\n",
    "    # Combine datasets\n",
    "    #combined_dataset = pd.concat([imgs, X_test], axis=1)\n",
    "\n",
    "    # Split data\n",
    "    #X_test = combined_dataset.drop(target_col, axis=1).drop(\"values\", axis=1)\n",
    "    #y_test = combined_dataset[\"values\"]\n",
    "    \n",
    "    # Numerical data\n",
    "    X_train_num = X_train#.drop(\"images\", axis=1)\n",
    "    X_val_num = X_val#.drop(\"images\", axis=1)\n",
    "    X_test_num = X_test#.drop(\"images\", axis=1)\n",
    "\n",
    "    # Image data\n",
    "    X_train_img = np.array([cv2.imread(img) for img in imgs_train[\"images\"]])\n",
    "    X_val_img = np.array([cv2.imread(img) for img in imgs_val[\"images\"]])\n",
    "    X_test_img = np.array([cv2.imread(img) for img in imgs_test[\"images\"]])\n",
    "\n",
    "    ## Create a MinMaxScaler object\n",
    "    scaler = MinMaxScaler()\n",
    "\n",
    "    ## Scale numerical data\n",
    "    X_train_num = pd.DataFrame(scaler.fit_transform(X_train_num), columns=X_train_num.columns)\n",
    "    X_val_num = pd.DataFrame(scaler.transform(X_val_num), columns=X_val_num.columns)\n",
    "    X_test_num = pd.DataFrame(scaler.transform(X_test_num), columns=X_test_num.columns)\n",
    "\n",
    "    attributes = len(X_train_num.columns)\n",
    "    height, width, channels = X_train_img[0].shape\n",
    "    imgs_shape = (channels, height, width)\n",
    "\n",
    "    print(\"Images shape: \", imgs_shape)\n",
    "    print(\"Attributes: \", attributes)\n",
    "    # Convert data to PyTorch tensors\n",
    "    X_train_num_tensor = torch.as_tensor(X_train_num.values, dtype=torch.float32)\n",
    "    X_val_num_tensor = torch.as_tensor(X_val_num.values, dtype=torch.float32)\n",
    "    X_test_num_tensor = torch.as_tensor(X_test_num.values, dtype=torch.float32)\n",
    "    X_train_img_tensor = torch.as_tensor(X_train_img, dtype=torch.float32).permute(0, 3, 1, 2)\n",
    "    X_val_img_tensor = torch.as_tensor(X_val_img, dtype=torch.float32).permute(0, 3, 1, 2)\n",
    "    X_test_img_tensor = torch.as_tensor(X_test_img, dtype=torch.float32).permute(0, 3, 1, 2)\n",
    "    y_train_tensor = torch.as_tensor(y_train.values, dtype=torch.float32).reshape(-1, 1)\n",
    "    y_val_tensor = torch.as_tensor(y_val.values, dtype=torch.float32).reshape(-1, 1)\n",
    "    y_test_tensor = torch.as_tensor(y_test.values, dtype=torch.float32).reshape(-1, 1)\n",
    "\n",
    "    # Normalize to [0, 1]\n",
    "    X_train_img_tensor = X_train_img_tensor / 255.0\n",
    "    X_val_img_tensor = X_val_img_tensor / 255.0\n",
    "    X_test_img_tensor = X_test_img_tensor / 255.0\n",
    "\n",
    "    # Create DataLoaders\n",
    "    train_dataset = TensorDataset(X_train_num_tensor, X_train_img_tensor, y_train_tensor)\n",
    "    val_dataset = TensorDataset(X_val_num_tensor, X_val_img_tensor, y_val_tensor)\n",
    "    test_dataset = TensorDataset(X_test_num_tensor, X_test_img_tensor, y_test_tensor)\n",
    "\n",
    "    train_loader = DataLoader(train_dataset, batch_size=batch_size, shuffle=True, pin_memory=True)\n",
    "    val_loader = DataLoader(val_dataset, batch_size=batch_size, shuffle=False, pin_memory=True)\n",
    "    test_loader = DataLoader(test_dataset, batch_size=batch_size, shuffle=False, pin_memory=True)\n",
    "\n",
    "    return train_loader, val_loader, test_loader, attributes, imgs_shape "
   ]
  },
  {
   "cell_type": "code",
   "execution_count": 7,
   "id": "92613d4f-1cd2-49f8-82a9-620fda68b565",
   "metadata": {},
   "outputs": [
    {
     "name": "stdout",
     "output_type": "stream",
     "text": [
      "4\n"
     ]
    }
   ],
   "source": [
    "# Get the shape of the dataframe\n",
    "num_columns = X_train.shape[1]\n",
    "\n",
    "# Calculate number of columns - 1\n",
    "columns_minus_one = num_columns - 1\n",
    "\n",
    "# Calculate the square root for image size\n",
    "import math\n",
    "image_size = math.ceil(math.sqrt(columns_minus_one))\n",
    "print(image_size)"
   ]
  },
  {
   "cell_type": "code",
   "execution_count": 11,
   "id": "a28853f7-dcee-47de-91eb-8f35177b8913",
   "metadata": {},
   "outputs": [],
   "source": [
    "from TINTOlib.igtd import IGTD\n",
    "dataset_name = 'treasury'\n",
    "#Select the model and the parameters\n",
    "problem_type = \"regression\"\n",
    "image_model = IGTD(problem=problem_type, \n",
    "                   scale=[image_size,image_size],\n",
    "                   fea_dist_method='Euclidean',\n",
    "                   image_dist_method='Euclidean',\n",
    "                   error='abs',\n",
    "                   max_step=30000,\n",
    "                   val_step=300,\n",
    "                   zoom=3,\n",
    "                   random_seed=SEED)\n",
    "\n",
    "name = f\"IGTD_{image_size}x{image_size}_fEuclidean_iEuclidean_abs\"\n",
    "\n",
    "#Define the dataset path and the folder where the images will be saved\n",
    "images_folder = f\"HyNNImages/Regression3/{dataset_name}/images_{dataset_name}_{name}\""
   ]
  },
  {
   "cell_type": "code",
   "execution_count": 12,
   "id": "a01e98f2-1bea-4364-b0bc-3d0412ebba5c",
   "metadata": {},
   "outputs": [
    {
     "name": "stdout",
     "output_type": "stream",
     "text": [
      "HyNNImages/Regression3/treasury/images_treasury_IGTD_4x4_fEuclidean_iEuclidean_abs/train\\regression.csv\n",
      "HyNNImages/Regression3/treasury/images_treasury_IGTD_4x4_fEuclidean_iEuclidean_abs/val\\regression.csv\n",
      "HyNNImages/Regression3/treasury/images_treasury_IGTD_4x4_fEuclidean_iEuclidean_abs/test\\regression.csv\n",
      "Images shape:  (3, 12, 12)\n",
      "Attributes:  15\n"
     ]
    },
    {
     "data": {
      "image/png": "[encoded data removed]",
      "text/plain": [
       "<Figure size 12x12 with 1 Axes>"
      ]
     },
     "metadata": {},
     "output_type": "display_data"
    },
    {
     "data": {
      "image/png": "[encoded data removed]",
      "text/plain": [
       "<Figure size 12x12 with 1 Axes>"
      ]
     },
     "metadata": {},
     "output_type": "display_data"
    },
    {
     "data": {
      "image/png": "[encoded data removed]",
      "text/plain": [
       "<Figure size 12x12 with 1 Axes>"
      ]
     },
     "metadata": {},
     "output_type": "display_data"
    }
   ],
   "source": [
    "train_loader, val_loader, test_loader, attributes, imgs_shape = load_and_preprocess_data(\n",
    "    X_train, y_train, X_test, y_test, X_val, y_val,\n",
    "    image_model=image_model,\n",
    "    problem_type=problem_type,\n",
    "    batch_size=16\n",
    ")"
   ]
  },
  {
   "cell_type": "code",
   "execution_count": 13,
   "id": "af7bc776-0d49-4456-ba5b-861c4005fa73",
   "metadata": {},
   "outputs": [],
   "source": [
    "def combine_loader(loader):\n",
    "    \"\"\"\n",
    "    Combines all batches from a DataLoader into three tensors.\n",
    "    Assumes each batch is a tuple: (mlp_tensor, img_tensor, target_tensor)\n",
    "    \"\"\"\n",
    "    mlp_list, img_list, target_list = [], [], []\n",
    "    for mlp, img, target in loader:\n",
    "        mlp_list.append(mlp)\n",
    "        img_list.append(img)\n",
    "        target_list.append(target)\n",
    "    return torch.cat(mlp_list, dim=0), torch.cat(img_list, dim=0), torch.cat(target_list, dim=0)"
   ]
  },
  {
   "cell_type": "code",
   "execution_count": 14,
   "id": "2c84fd70-94ac-4546-b907-00fe548676ba",
   "metadata": {},
   "outputs": [],
   "source": [
    "# Combine dataloaders into tensors.\n",
    "train_mlp, train_img, train_target = combine_loader(train_loader)\n",
    "val_mlp, val_img, val_target = combine_loader(val_loader)\n",
    "test_mlp, test_img, test_target = combine_loader(test_loader)\n",
    "\n",
    "dataset = {\n",
    "    \"train_input\": train_mlp.to(device),\n",
    "    \"train_img\": train_img.to(device),\n",
    "    \"train_label\": train_target.to(device),\n",
    "    \"val_input\": val_mlp.to(device),\n",
    "    \"val_img\": val_img.to(device),\n",
    "    \"val_label\": val_target.to(device),\n",
    "    \"test_input\": test_mlp.to(device),\n",
    "    \"test_img\": test_img.to(device),\n",
    "    \"test_label\": test_target.to(device),\n",
    "}"
   ]
  },
  {
   "cell_type": "code",
   "execution_count": 15,
   "id": "d8382d81-df3d-4828-90a0-a472f0fb312e",
   "metadata": {},
   "outputs": [
    {
     "name": "stdout",
     "output_type": "stream",
     "text": [
      "Train data shape: torch.Size([671, 15])\n",
      "Train target shape: torch.Size([671, 1])\n",
      "Test data shape: torch.Size([210, 15])\n",
      "Test target shape: torch.Size([210, 1])\n",
      "Validation data shape: torch.Size([168, 15])\n",
      "Validation target shape: torch.Size([168, 1])\n"
     ]
    }
   ],
   "source": [
    "# Print the shapes of the tensors\n",
    "print(\"Train data shape:\", dataset['train_input'].shape)\n",
    "print(\"Train target shape:\", dataset['train_label'].shape)\n",
    "print(\"Test data shape:\", dataset['test_input'].shape)\n",
    "print(\"Test target shape:\", dataset['test_label'].shape)\n",
    "print(\"Validation data shape:\", dataset['val_input'].shape)\n",
    "print(\"Validation target shape:\", dataset['val_label'].shape)"
   ]
  },
  {
   "cell_type": "code",
   "execution_count": 16,
   "id": "583a3474-3236-492a-b1a1-7254264bc7c0",
   "metadata": {},
   "outputs": [],
   "source": [
    "def average_rmse(output, val_target):\n",
    "    \"\"\"\n",
    "    Computes the root mean squared error (RMSE) between output and val_target.\n",
    "\n",
    "    Args:\n",
    "        output (torch.Tensor): The predicted output tensor.\n",
    "        val_target (torch.Tensor): The ground truth tensor.\n",
    "    \n",
    "    Returns:\n",
    "        float: The RMSE value.\n",
    "    \"\"\"\n",
    "    mse = torch.mean((output - val_target) ** 2)\n",
    "    rmse = torch.sqrt(mse)\n",
    "    return rmse.item()  # returns a Python float "
   ]
  },
  {
   "cell_type": "code",
   "execution_count": 17,
   "id": "bbc33172-7df2-48b2-bba8-ce9ad6003892",
   "metadata": {},
   "outputs": [],
   "source": [
    "import copy\n",
    "\n",
    "def custom_fit(model, dataset, opt=\"LBFGS\", steps=100, log=1, lamb=0., lamb_l1=1., lamb_entropy=2., lamb_coef=0., lamb_coefdiff=0., update_grid=True, \n",
    "               grid_update_num=10, loss_fn=None, lr=1.,start_grid_update_step=-1, stop_grid_update_step=50, batch=-1,\n",
    "            metrics=None, save_fig=False, in_vars=None, out_vars=None, beta=3, save_fig_freq=1, img_folder='./video', \n",
    "               singularity_avoiding=False, y_th=1000., reg_metric='edge_forward_spline_n', display_metrics=None):\n",
    "    '''\n",
    "    training\n",
    "\n",
    "    Args:\n",
    "    -----\n",
    "        dataset : dic\n",
    "            contains dataset['train_input'], dataset['train_label'], dataset['test_input'], dataset['test_label']\n",
    "        opt : str\n",
    "            \"LBFGS\" or \"Adam\"\n",
    "        steps : int\n",
    "            training steps\n",
    "        log : int\n",
    "            logging frequency\n",
    "        lamb : float\n",
    "            overall penalty strength\n",
    "        lamb_l1 : float\n",
    "            l1 penalty strength\n",
    "        lamb_entropy : float\n",
    "            entropy penalty strength\n",
    "        lamb_coef : float\n",
    "            coefficient magnitude penalty strength\n",
    "        lamb_coefdiff : float\n",
    "            difference of nearby coefficits (smoothness) penalty strength\n",
    "        update_grid : bool\n",
    "            If True, update grid regularly before stop_grid_update_step\n",
    "        grid_update_num : int\n",
    "            the number of grid updates before stop_grid_update_step\n",
    "        start_grid_update_step : int\n",
    "            no grid updates before this training step\n",
    "        stop_grid_update_step : int\n",
    "            no grid updates after this training step\n",
    "        loss_fn : function\n",
    "            loss function\n",
    "        lr : float\n",
    "            learning rate\n",
    "        batch : int\n",
    "            batch size, if -1 then full.\n",
    "        save_fig_freq : int\n",
    "            save figure every (save_fig_freq) steps\n",
    "        singularity_avoiding : bool\n",
    "            indicate whether to avoid singularity for the symbolic part\n",
    "        y_th : float\n",
    "            singularity threshold (anything above the threshold is considered singular and is softened in some ways)\n",
    "        reg_metric : str\n",
    "            regularization metric. Choose from {'edge_forward_spline_n', 'edge_forward_spline_u', 'edge_forward_sum', 'edge_backward', 'node_backward'}\n",
    "        metrics : a list of metrics (as functions)\n",
    "            the metrics to be computed in training\n",
    "        display_metrics : a list of functions\n",
    "            the metric to be displayed in tqdm progress bar\n",
    "\n",
    "    Returns:\n",
    "    --------\n",
    "        results : dic\n",
    "            results['train_loss'], 1D array of training losses (RMSE)\n",
    "            results['test_loss'], 1D array of test losses (RMSE)\n",
    "            results['reg'], 1D array of regularization\n",
    "            other metrics specified in metrics\n",
    "        best_model:\n",
    "    '''\n",
    "\n",
    "    if lamb > 0. and not model.save_act:\n",
    "        print('setting lamb=0. If you want to set lamb > 0, set model.save_act=True')\n",
    "        \n",
    "    old_save_act, old_symbolic_enabled = model.disable_symbolic_in_fit(lamb)\n",
    "\n",
    "    pbar = tqdm(range(steps), desc='description', ncols=100)\n",
    "\n",
    "    if loss_fn == None:\n",
    "        loss_fn = loss_fn_eval = lambda x, y: torch.mean((x - y) ** 2)\n",
    "    else:\n",
    "        loss_fn = loss_fn_eval = loss_fn\n",
    "\n",
    "    grid_update_freq = int(stop_grid_update_step / grid_update_num)\n",
    "\n",
    "    if opt == \"Adam\":\n",
    "        optimizer = torch.optim.Adam(model.get_params(), lr=lr)\n",
    "    elif opt == \"LBFGS\":\n",
    "        optimizer = LBFGS(model.get_params(), lr=lr, history_size=10, line_search_fn=\"strong_wolfe\", tolerance_grad=1e-32, tolerance_change=1e-32, tolerance_ys=1e-32)\n",
    "\n",
    "    results = {}\n",
    "    results['train_loss'] = []\n",
    "    results['test_loss'] = []\n",
    "    results['reg'] = []\n",
    "    if metrics != None:\n",
    "        for i in range(len(metrics)):\n",
    "            results[metrics[i].__name__] = []\n",
    "\n",
    "    if batch == -1 or batch > dataset['train_input'].shape[0]:\n",
    "        batch_size = dataset['train_input'].shape[0]\n",
    "        batch_size_test = dataset['test_input'].shape[0]\n",
    "    else:\n",
    "        batch_size = batch\n",
    "        batch_size_test = batch\n",
    "\n",
    "    global train_loss, reg_\n",
    "\n",
    "    def closure():\n",
    "        global train_loss, reg_\n",
    "        optimizer.zero_grad()\n",
    "        pred = model.forward(dataset['train_input'][train_id], singularity_avoiding=singularity_avoiding, y_th=y_th)\n",
    "        train_loss = loss_fn(pred, dataset['train_label'][train_id])\n",
    "        if model.save_act:\n",
    "            if reg_metric == 'edge_backward':\n",
    "                model.attribute()\n",
    "            if reg_metric == 'node_backward':\n",
    "                model.node_attribute()\n",
    "            reg_ = model.get_reg(reg_metric, lamb_l1, lamb_entropy, lamb_coef, lamb_coefdiff)\n",
    "        else:\n",
    "            reg_ = torch.tensor(0.)\n",
    "        objective = train_loss + lamb * reg_\n",
    "        objective.backward()\n",
    "        return objective\n",
    "\n",
    "    if save_fig:\n",
    "        if not os.path.exists(img_folder):\n",
    "            os.makedirs(img_folder)\n",
    "    \n",
    "    best_model_state = None\n",
    "    best_epoch = -1\n",
    "    best_loss = float('inf')\n",
    "    \n",
    "    for epoch in pbar:\n",
    "        \n",
    "        if epoch == steps-1 and old_save_act:\n",
    "            model.save_act = True\n",
    "            \n",
    "        if save_fig and epoch % save_fig_freq == 0:\n",
    "            save_act = model.save_act\n",
    "            model.save_act = True\n",
    "        \n",
    "        train_id = np.random.choice(dataset['train_input'].shape[0], batch_size, replace=False)\n",
    "        test_id = np.random.choice(dataset['test_input'].shape[0], batch_size_test, replace=False)\n",
    "\n",
    "        if epoch % grid_update_freq == 0 and epoch < stop_grid_update_step and update_grid and epoch >= start_grid_update_step:\n",
    "            model.update_grid(dataset['train_input'][train_id])\n",
    "\n",
    "        if opt == \"LBFGS\":\n",
    "            optimizer.step(closure)\n",
    "\n",
    "        if opt == \"Adam\":\n",
    "            pred = model.forward(dataset['train_input'][train_id], singularity_avoiding=singularity_avoiding, y_th=y_th)\n",
    "            train_loss = loss_fn(pred, dataset['train_label'][train_id])\n",
    "            if model.save_act:\n",
    "                if reg_metric == 'edge_backward':\n",
    "                    model.attribute()\n",
    "                if reg_metric == 'node_backward':\n",
    "                    model.node_attribute()\n",
    "                reg_ = model.get_reg(reg_metric, lamb_l1, lamb_entropy, lamb_coef, lamb_coefdiff)\n",
    "            else:\n",
    "                reg_ = torch.tensor(0.)\n",
    "            loss = train_loss + lamb * reg_\n",
    "            optimizer.zero_grad()\n",
    "            loss.backward()\n",
    "            optimizer.step()\n",
    "\n",
    "        test_loss = loss_fn_eval(model.forward(dataset['test_input'][test_id]), dataset['test_label'][test_id])\n",
    "        \n",
    "        \n",
    "        if metrics != None:\n",
    "            for i in range(len(metrics)):\n",
    "                results[metrics[i].__name__].append(metrics[i]().item())\n",
    "\n",
    "        if test_loss < best_loss:\n",
    "            best_epoch = epoch\n",
    "            best_loss = test_loss\n",
    "            best_model_state = copy.deepcopy(model.state_dict())\n",
    "        \n",
    "        results['train_loss'].append(torch.sqrt(train_loss).cpu().detach().numpy())\n",
    "        results['test_loss'].append(torch.sqrt(test_loss).cpu().detach().numpy())\n",
    "        results['reg'].append(reg_.cpu().detach().numpy())\n",
    "\n",
    "        if epoch % log == 0:\n",
    "            if display_metrics == None:\n",
    "                pbar.set_description(\"| train_loss: %.2e | test_loss: %.2e | reg: %.2e | \" % (torch.sqrt(train_loss).cpu().detach().numpy(), torch.sqrt(test_loss).cpu().detach().numpy(), reg_.cpu().detach().numpy()))\n",
    "            else:\n",
    "                string = ''\n",
    "                data = ()\n",
    "                for metric in display_metrics:\n",
    "                    string += f' {metric}: %.2e |'\n",
    "                    try:\n",
    "                        results[metric]\n",
    "                    except:\n",
    "                        raise Exception(f'{metric} not recognized')\n",
    "                    data += (results[metric][-1],)\n",
    "                pbar.set_description(string % data)\n",
    "                \n",
    "        \n",
    "        if save_fig and epoch % save_fig_freq == 0:\n",
    "            model.plot(folder=img_folder, in_vars=in_vars, out_vars=out_vars, title=\"Step {}\".format(_), beta=beta)\n",
    "            plt.savefig(img_folder + '/' + str(_) + '.jpg', bbox_inches='tight', dpi=200)\n",
    "            plt.close()\n",
    "            model.save_act = save_act\n",
    "\n",
    "    model.log_history('fit')\n",
    "    # revert back to original state\n",
    "    model.symbolic_enabled = old_symbolic_enabled\n",
    "    #print(f\"Best epoch: {best_epoch} \")\n",
    "    return results, best_model_state, best_epoch"
   ]
  },
  {
   "cell_type": "code",
   "execution_count": 18,
   "id": "22cbfad7-4b5b-471b-b819-056a5507e6f7",
   "metadata": {},
   "outputs": [],
   "source": [
    "import numpy as np\n",
    "import copy\n",
    "\n",
    "output_dim = 1\n",
    "\n",
    "def grid_search_kan(dataset):\n",
    "    hidden_neuron_options = list(range(1, attributes // 2 + 1))\n",
    "    grid_options = list(range(3, 8))\n",
    "    lamb_options = [1., 0.1, 0.01, 0.001, 0.0001, 0.00001]\n",
    "\n",
    "    top_models = []  # list of dicts: each will have 'loss', 'config', 'state_dict'\n",
    "\n",
    "    for hidden in hidden_neuron_options:\n",
    "        for grid in grid_options:\n",
    "            for lamb in lamb_options:\n",
    "                print(f\"Testing width=[{attributes}, {hidden}, {output_dim}], lamb={lamb}, grid={grid}\")\n",
    "                model = KAN(width=[attributes, hidden, output_dim], grid=grid, k=3, seed=381, device=device)\n",
    "                \n",
    "                # Custom training\n",
    "                _, model_state, _ = custom_fit(model, dataset, opt=\"LBFGS\", steps=30, lamb=lamb)\n",
    "                model.load_state_dict(model_state)\n",
    "\n",
    "                # Evaluate\n",
    "                avg_loss = average_rmse(model(dataset['val_input']), dataset['val_label'])\n",
    "\n",
    "                # Save this model info\n",
    "                top_models.append({\n",
    "                    \"loss\": avg_loss,\n",
    "                    \"config\": {\"hidden\": hidden, \"grid\": grid, \"lamb\": lamb},\n",
    "                    \"state_dict\": copy.deepcopy(model_state)\n",
    "                })\n",
    "\n",
    "                # Keep only top 3\n",
    "                top_models = sorted(top_models, key=lambda x: x[\"loss\"])[:3]\n",
    "\n",
    "    print(\"\\n✅ Top 5 Configurations:\")\n",
    "    for i, entry in enumerate(top_models):\n",
    "        cfg = entry[\"config\"]\n",
    "        print(f\"{i+1}. width=[{attributes}, {cfg['hidden']}, {output_dim}], grid={cfg['grid']}, lamb={cfg['lamb']} | loss={entry['loss']:.5f}\")\n",
    "\n",
    "    #return top_models\n"
   ]
  },
  {
   "cell_type": "code",
   "execution_count": 70,
   "id": "6c7a78d5-a403-422d-b6f1-191d9139220b",
   "metadata": {},
   "outputs": [
    {
     "name": "stdout",
     "output_type": "stream",
     "text": [
      "Testing width=[15, 1, 1], lamb=1.0, grid=3\n",
      "checkpoint directory created: ./model\n",
      "saving model version 0.0\n"
     ]
    },
    {
     "name": "stderr",
     "output_type": "stream",
     "text": [
      "| train_loss: 1.01e+00 | test_loss: 1.09e+00 | reg: 7.96e+00 | : 100%|█| 30/30 [00:06<00:00,  4.33it\n"
     ]
    },
    {
     "name": "stdout",
     "output_type": "stream",
     "text": [
      "saving model version 0.1\n",
      "Testing width=[15, 1, 1], lamb=0.1, grid=3\n",
      "checkpoint directory created: ./model\n",
      "saving model version 0.0\n"
     ]
    },
    {
     "name": "stderr",
     "output_type": "stream",
     "text": [
      "| train_loss: 4.62e-01 | test_loss: 5.43e-01 | reg: 1.14e+01 | : 100%|█| 30/30 [00:07<00:00,  4.25it\n"
     ]
    },
    {
     "name": "stdout",
     "output_type": "stream",
     "text": [
      "saving model version 0.1\n",
      "Testing width=[15, 1, 1], lamb=0.01, grid=3\n",
      "checkpoint directory created: ./model\n",
      "saving model version 0.0\n"
     ]
    },
    {
     "name": "stderr",
     "output_type": "stream",
     "text": [
      "| train_loss: 5.75e-01 | test_loss: 6.30e-01 | reg: 2.09e+01 | : 100%|█| 30/30 [00:08<00:00,  3.54it\n"
     ]
    },
    {
     "name": "stdout",
     "output_type": "stream",
     "text": [
      "saving model version 0.1\n",
      "Testing width=[15, 1, 1], lamb=0.001, grid=3\n",
      "checkpoint directory created: ./model\n",
      "saving model version 0.0\n"
     ]
    },
    {
     "name": "stderr",
     "output_type": "stream",
     "text": [
      "| train_loss: 5.64e-01 | test_loss: 6.12e-01 | reg: 2.34e+01 | : 100%|█| 30/30 [00:09<00:00,  3.32it\n"
     ]
    },
    {
     "name": "stdout",
     "output_type": "stream",
     "text": [
      "saving model version 0.1\n",
      "Testing width=[15, 1, 1], lamb=0.0001, grid=3\n",
      "checkpoint directory created: ./model\n",
      "saving model version 0.0\n"
     ]
    },
    {
     "name": "stderr",
     "output_type": "stream",
     "text": [
      "| train_loss: 4.71e-01 | test_loss: 5.91e-01 | reg: 2.33e+01 | : 100%|█| 30/30 [00:09<00:00,  3.27it\n"
     ]
    },
    {
     "name": "stdout",
     "output_type": "stream",
     "text": [
      "saving model version 0.1\n",
      "Testing width=[15, 1, 1], lamb=1e-05, grid=3\n",
      "checkpoint directory created: ./model\n",
      "saving model version 0.0\n"
     ]
    },
    {
     "name": "stderr",
     "output_type": "stream",
     "text": [
      "| train_loss: 5.50e-01 | test_loss: 5.90e-01 | reg: 2.50e+01 | : 100%|█| 30/30 [00:07<00:00,  4.01it\n"
     ]
    },
    {
     "name": "stdout",
     "output_type": "stream",
     "text": [
      "saving model version 0.1\n",
      "Testing width=[15, 1, 1], lamb=1.0, grid=4\n",
      "checkpoint directory created: ./model\n",
      "saving model version 0.0\n"
     ]
    },
    {
     "name": "stderr",
     "output_type": "stream",
     "text": [
      "| train_loss: 1.29e+00 | test_loss: 1.33e+00 | reg: 1.05e+01 | : 100%|█| 30/30 [00:08<00:00,  3.48it\n"
     ]
    },
    {
     "name": "stdout",
     "output_type": "stream",
     "text": [
      "saving model version 0.1\n",
      "Testing width=[15, 1, 1], lamb=0.1, grid=4\n",
      "checkpoint directory created: ./model\n",
      "saving model version 0.0\n"
     ]
    },
    {
     "name": "stderr",
     "output_type": "stream",
     "text": [
      "| train_loss: 1.70e+00 | test_loss: 1.70e+00 | reg: 1.84e+01 | : 100%|█| 30/30 [00:07<00:00,  3.77it\n"
     ]
    },
    {
     "name": "stdout",
     "output_type": "stream",
     "text": [
      "saving model version 0.1\n",
      "Testing width=[15, 1, 1], lamb=0.01, grid=4\n",
      "checkpoint directory created: ./model\n",
      "saving model version 0.0\n"
     ]
    },
    {
     "name": "stderr",
     "output_type": "stream",
     "text": [
      "| train_loss: 1.64e+00 | test_loss: 1.73e+00 | reg: 4.27e+01 | : 100%|█| 30/30 [00:07<00:00,  3.87it\n"
     ]
    },
    {
     "name": "stdout",
     "output_type": "stream",
     "text": [
      "saving model version 0.1\n",
      "Testing width=[15, 1, 1], lamb=0.001, grid=4\n",
      "checkpoint directory created: ./model\n",
      "saving model version 0.0\n"
     ]
    },
    {
     "name": "stderr",
     "output_type": "stream",
     "text": [
      "| train_loss: 1.89e+00 | test_loss: 2.69e+00 | reg: 2.79e+01 | : 100%|█| 30/30 [00:07<00:00,  3.88it\n"
     ]
    },
    {
     "name": "stdout",
     "output_type": "stream",
     "text": [
      "saving model version 0.1\n",
      "Testing width=[15, 1, 1], lamb=0.0001, grid=4\n",
      "checkpoint directory created: ./model\n",
      "saving model version 0.0\n"
     ]
    },
    {
     "name": "stderr",
     "output_type": "stream",
     "text": [
      "| train_loss: 1.58e+00 | test_loss: 2.11e+00 | reg: 2.73e+01 | : 100%|█| 30/30 [00:07<00:00,  4.09it\n"
     ]
    },
    {
     "name": "stdout",
     "output_type": "stream",
     "text": [
      "saving model version 0.1\n",
      "Testing width=[15, 1, 1], lamb=1e-05, grid=4\n",
      "checkpoint directory created: ./model\n",
      "saving model version 0.0\n"
     ]
    },
    {
     "name": "stderr",
     "output_type": "stream",
     "text": [
      "| train_loss: 1.88e+00 | test_loss: 2.28e+00 | reg: 4.89e+01 | : 100%|█| 30/30 [00:07<00:00,  4.06it\n"
     ]
    },
    {
     "name": "stdout",
     "output_type": "stream",
     "text": [
      "saving model version 0.1\n",
      "Testing width=[15, 1, 1], lamb=1.0, grid=5\n",
      "checkpoint directory created: ./model\n",
      "saving model version 0.0\n"
     ]
    },
    {
     "name": "stderr",
     "output_type": "stream",
     "text": [
      "| train_loss: 3.47e+00 | test_loss: 3.41e+00 | reg: 2.24e+00 | : 100%|█| 30/30 [00:06<00:00,  4.30it\n"
     ]
    },
    {
     "name": "stdout",
     "output_type": "stream",
     "text": [
      "saving model version 0.1\n",
      "Testing width=[15, 1, 1], lamb=0.1, grid=5\n",
      "checkpoint directory created: ./model\n",
      "saving model version 0.0\n"
     ]
    },
    {
     "name": "stderr",
     "output_type": "stream",
     "text": [
      "| train_loss: 3.34e-01 | test_loss: 3.83e-01 | reg: 8.36e+00 | : 100%|█| 30/30 [00:07<00:00,  3.90it\n"
     ]
    },
    {
     "name": "stdout",
     "output_type": "stream",
     "text": [
      "saving model version 0.1\n",
      "Testing width=[15, 1, 1], lamb=0.01, grid=5\n",
      "checkpoint directory created: ./model\n",
      "saving model version 0.0\n"
     ]
    },
    {
     "name": "stderr",
     "output_type": "stream",
     "text": [
      "| train_loss: 2.16e-01 | test_loss: 2.55e-01 | reg: 1.11e+01 | : 100%|█| 30/30 [00:07<00:00,  4.27it\n"
     ]
    },
    {
     "name": "stdout",
     "output_type": "stream",
     "text": [
      "saving model version 0.1\n",
      "Testing width=[15, 1, 1], lamb=0.001, grid=5\n",
      "checkpoint directory created: ./model\n",
      "saving model version 0.0\n"
     ]
    },
    {
     "name": "stderr",
     "output_type": "stream",
     "text": [
      "| train_loss: 1.86e-01 | test_loss: 2.36e-01 | reg: 1.50e+01 | : 100%|█| 30/30 [00:06<00:00,  4.32it\n"
     ]
    },
    {
     "name": "stdout",
     "output_type": "stream",
     "text": [
      "saving model version 0.1\n",
      "Testing width=[15, 1, 1], lamb=0.0001, grid=5\n",
      "checkpoint directory created: ./model\n",
      "saving model version 0.0\n"
     ]
    },
    {
     "name": "stderr",
     "output_type": "stream",
     "text": [
      "| train_loss: 1.72e-01 | test_loss: 2.14e-01 | reg: 2.50e+01 | : 100%|█| 30/30 [00:07<00:00,  4.25it\n"
     ]
    },
    {
     "name": "stdout",
     "output_type": "stream",
     "text": [
      "saving model version 0.1\n",
      "Testing width=[15, 1, 1], lamb=1e-05, grid=5\n",
      "checkpoint directory created: ./model\n",
      "saving model version 0.0\n"
     ]
    },
    {
     "name": "stderr",
     "output_type": "stream",
     "text": [
      "| train_loss: 1.74e-01 | test_loss: 2.16e-01 | reg: 2.50e+01 | : 100%|█| 30/30 [00:08<00:00,  3.50it\n"
     ]
    },
    {
     "name": "stdout",
     "output_type": "stream",
     "text": [
      "saving model version 0.1\n",
      "Testing width=[15, 1, 1], lamb=1.0, grid=6\n",
      "checkpoint directory created: ./model\n",
      "saving model version 0.0\n"
     ]
    },
    {
     "name": "stderr",
     "output_type": "stream",
     "text": [
      "| train_loss: 2.74e+00 | test_loss: 2.68e+00 | reg: 6.98e+00 | : 100%|█| 30/30 [00:07<00:00,  4.04it\n"
     ]
    },
    {
     "name": "stdout",
     "output_type": "stream",
     "text": [
      "saving model version 0.1\n",
      "Testing width=[15, 1, 1], lamb=0.1, grid=6\n",
      "checkpoint directory created: ./model\n",
      "saving model version 0.0\n"
     ]
    },
    {
     "name": "stderr",
     "output_type": "stream",
     "text": [
      "| train_loss: 3.36e-01 | test_loss: 3.89e-01 | reg: 8.27e+00 | : 100%|█| 30/30 [00:07<00:00,  3.80it\n"
     ]
    },
    {
     "name": "stdout",
     "output_type": "stream",
     "text": [
      "saving model version 0.1\n",
      "Testing width=[15, 1, 1], lamb=0.01, grid=6\n",
      "checkpoint directory created: ./model\n",
      "saving model version 0.0\n"
     ]
    },
    {
     "name": "stderr",
     "output_type": "stream",
     "text": [
      "| train_loss: 2.26e-01 | test_loss: 2.51e-01 | reg: 1.12e+01 | : 100%|█| 30/30 [00:07<00:00,  3.89it\n"
     ]
    },
    {
     "name": "stdout",
     "output_type": "stream",
     "text": [
      "saving model version 0.1\n",
      "Testing width=[15, 1, 1], lamb=0.001, grid=6\n",
      "checkpoint directory created: ./model\n",
      "saving model version 0.0\n"
     ]
    },
    {
     "name": "stderr",
     "output_type": "stream",
     "text": [
      "| train_loss: 1.69e-01 | test_loss: 2.13e-01 | reg: 1.61e+01 | : 100%|█| 30/30 [00:08<00:00,  3.74it\n"
     ]
    },
    {
     "name": "stdout",
     "output_type": "stream",
     "text": [
      "saving model version 0.1\n",
      "Testing width=[15, 1, 1], lamb=0.0001, grid=6\n",
      "checkpoint directory created: ./model\n",
      "saving model version 0.0\n"
     ]
    },
    {
     "name": "stderr",
     "output_type": "stream",
     "text": [
      "| train_loss: 1.62e-01 | test_loss: 2.16e-01 | reg: 2.74e+01 | : 100%|█| 30/30 [00:07<00:00,  3.93it\n"
     ]
    },
    {
     "name": "stdout",
     "output_type": "stream",
     "text": [
      "saving model version 0.1\n",
      "Testing width=[15, 1, 1], lamb=1e-05, grid=6\n",
      "checkpoint directory created: ./model\n",
      "saving model version 0.0\n"
     ]
    },
    {
     "name": "stderr",
     "output_type": "stream",
     "text": [
      "| train_loss: 1.64e-01 | test_loss: 2.12e-01 | reg: 3.37e+01 | : 100%|█| 30/30 [00:07<00:00,  3.82it\n"
     ]
    },
    {
     "name": "stdout",
     "output_type": "stream",
     "text": [
      "saving model version 0.1\n",
      "Testing width=[15, 1, 1], lamb=1.0, grid=7\n",
      "checkpoint directory created: ./model\n",
      "saving model version 0.0\n"
     ]
    },
    {
     "name": "stderr",
     "output_type": "stream",
     "text": [
      "| train_loss: 3.09e+00 | test_loss: 3.01e+00 | reg: 5.41e+00 | : 100%|█| 30/30 [00:07<00:00,  3.86it\n"
     ]
    },
    {
     "name": "stdout",
     "output_type": "stream",
     "text": [
      "saving model version 0.1\n",
      "Testing width=[15, 1, 1], lamb=0.1, grid=7\n",
      "checkpoint directory created: ./model\n",
      "saving model version 0.0\n"
     ]
    },
    {
     "name": "stderr",
     "output_type": "stream",
     "text": [
      "| train_loss: 2.68e-01 | test_loss: 3.07e-01 | reg: 9.59e+00 | : 100%|█| 30/30 [00:08<00:00,  3.69it\n"
     ]
    },
    {
     "name": "stdout",
     "output_type": "stream",
     "text": [
      "saving model version 0.1\n",
      "Testing width=[15, 1, 1], lamb=0.01, grid=7\n",
      "checkpoint directory created: ./model\n",
      "saving model version 0.0\n"
     ]
    },
    {
     "name": "stderr",
     "output_type": "stream",
     "text": [
      "| train_loss: 2.06e-01 | test_loss: 2.36e-01 | reg: 1.11e+01 | : 100%|█| 30/30 [00:07<00:00,  4.03it\n"
     ]
    },
    {
     "name": "stdout",
     "output_type": "stream",
     "text": [
      "saving model version 0.1\n",
      "Testing width=[15, 1, 1], lamb=0.001, grid=7\n",
      "checkpoint directory created: ./model\n",
      "saving model version 0.0\n"
     ]
    },
    {
     "name": "stderr",
     "output_type": "stream",
     "text": [
      "| train_loss: 1.67e-01 | test_loss: 2.39e-01 | reg: 1.61e+01 | : 100%|█| 30/30 [00:07<00:00,  4.14it\n"
     ]
    },
    {
     "name": "stdout",
     "output_type": "stream",
     "text": [
      "saving model version 0.1\n",
      "Testing width=[15, 1, 1], lamb=0.0001, grid=7\n",
      "checkpoint directory created: ./model\n",
      "saving model version 0.0\n"
     ]
    },
    {
     "name": "stderr",
     "output_type": "stream",
     "text": [
      "| train_loss: 1.61e-01 | test_loss: 2.28e-01 | reg: 2.48e+01 | : 100%|█| 30/30 [00:07<00:00,  4.05it\n"
     ]
    },
    {
     "name": "stdout",
     "output_type": "stream",
     "text": [
      "saving model version 0.1\n",
      "Testing width=[15, 1, 1], lamb=1e-05, grid=7\n",
      "checkpoint directory created: ./model\n",
      "saving model version 0.0\n"
     ]
    },
    {
     "name": "stderr",
     "output_type": "stream",
     "text": [
      "| train_loss: 1.61e-01 | test_loss: 2.18e-01 | reg: 2.75e+01 | : 100%|█| 30/30 [00:07<00:00,  4.16it\n"
     ]
    },
    {
     "name": "stdout",
     "output_type": "stream",
     "text": [
      "saving model version 0.1\n",
      "Testing width=[15, 2, 1], lamb=1.0, grid=3\n",
      "checkpoint directory created: ./model\n",
      "saving model version 0.0\n"
     ]
    },
    {
     "name": "stderr",
     "output_type": "stream",
     "text": [
      "| train_loss: 1.20e+00 | test_loss: 1.29e+00 | reg: 1.02e+01 | : 100%|█| 30/30 [00:05<00:00,  5.71it\n"
     ]
    },
    {
     "name": "stdout",
     "output_type": "stream",
     "text": [
      "saving model version 0.1\n",
      "Testing width=[15, 2, 1], lamb=0.1, grid=3\n",
      "checkpoint directory created: ./model\n",
      "saving model version 0.0\n"
     ]
    },
    {
     "name": "stderr",
     "output_type": "stream",
     "text": [
      "| train_loss: 2.81e-01 | test_loss: 3.09e-01 | reg: 9.54e+00 | : 100%|█| 30/30 [00:07<00:00,  3.92it\n"
     ]
    },
    {
     "name": "stdout",
     "output_type": "stream",
     "text": [
      "saving model version 0.1\n",
      "Testing width=[15, 2, 1], lamb=0.01, grid=3\n",
      "checkpoint directory created: ./model\n",
      "saving model version 0.0\n"
     ]
    },
    {
     "name": "stderr",
     "output_type": "stream",
     "text": [
      "| train_loss: 2.23e-01 | test_loss: 2.58e-01 | reg: 1.01e+01 | : 100%|█| 30/30 [00:06<00:00,  4.68it\n"
     ]
    },
    {
     "name": "stdout",
     "output_type": "stream",
     "text": [
      "saving model version 0.1\n",
      "Testing width=[15, 2, 1], lamb=0.001, grid=3\n",
      "checkpoint directory created: ./model\n",
      "saving model version 0.0\n"
     ]
    },
    {
     "name": "stderr",
     "output_type": "stream",
     "text": [
      "| train_loss: 1.61e-01 | test_loss: 2.10e-01 | reg: 1.94e+01 | : 100%|█| 30/30 [00:07<00:00,  4.18it\n"
     ]
    },
    {
     "name": "stdout",
     "output_type": "stream",
     "text": [
      "saving model version 0.1\n",
      "Testing width=[15, 2, 1], lamb=0.0001, grid=3\n",
      "checkpoint directory created: ./model\n",
      "saving model version 0.0\n"
     ]
    },
    {
     "name": "stderr",
     "output_type": "stream",
     "text": [
      "| train_loss: 1.61e-01 | test_loss: 2.09e-01 | reg: 2.22e+01 | : 100%|█| 30/30 [00:07<00:00,  3.88it\n"
     ]
    },
    {
     "name": "stdout",
     "output_type": "stream",
     "text": [
      "saving model version 0.1\n",
      "Testing width=[15, 2, 1], lamb=1e-05, grid=3\n",
      "checkpoint directory created: ./model\n",
      "saving model version 0.0\n"
     ]
    },
    {
     "name": "stderr",
     "output_type": "stream",
     "text": [
      "| train_loss: 1.61e-01 | test_loss: 2.07e-01 | reg: 2.39e+01 | : 100%|█| 30/30 [00:07<00:00,  3.98it\n"
     ]
    },
    {
     "name": "stdout",
     "output_type": "stream",
     "text": [
      "saving model version 0.1\n",
      "Testing width=[15, 2, 1], lamb=1.0, grid=4\n",
      "checkpoint directory created: ./model\n",
      "saving model version 0.0\n"
     ]
    },
    {
     "name": "stderr",
     "output_type": "stream",
     "text": [
      "| train_loss: 3.07e+00 | test_loss: 2.99e+00 | reg: 5.42e+00 | : 100%|█| 30/30 [00:05<00:00,  5.60it\n"
     ]
    },
    {
     "name": "stdout",
     "output_type": "stream",
     "text": [
      "saving model version 0.1\n",
      "Testing width=[15, 2, 1], lamb=0.1, grid=4\n",
      "checkpoint directory created: ./model\n",
      "saving model version 0.0\n"
     ]
    },
    {
     "name": "stderr",
     "output_type": "stream",
     "text": [
      "| train_loss: 7.58e-01 | test_loss: 8.34e-01 | reg: 1.00e+01 | : 100%|█| 30/30 [00:07<00:00,  4.06it\n"
     ]
    },
    {
     "name": "stdout",
     "output_type": "stream",
     "text": [
      "saving model version 0.1\n",
      "Testing width=[15, 2, 1], lamb=0.01, grid=4\n",
      "checkpoint directory created: ./model\n",
      "saving model version 0.0\n"
     ]
    },
    {
     "name": "stderr",
     "output_type": "stream",
     "text": [
      "| train_loss: 2.18e-01 | test_loss: 3.42e-01 | reg: 1.26e+01 | : 100%|█| 30/30 [00:07<00:00,  4.17it\n"
     ]
    },
    {
     "name": "stdout",
     "output_type": "stream",
     "text": [
      "saving model version 0.1\n",
      "Testing width=[15, 2, 1], lamb=0.001, grid=4\n",
      "checkpoint directory created: ./model\n",
      "saving model version 0.0\n"
     ]
    },
    {
     "name": "stderr",
     "output_type": "stream",
     "text": [
      "| train_loss: 1.79e-01 | test_loss: 2.20e-01 | reg: 2.85e+01 | : 100%|█| 30/30 [00:07<00:00,  4.12it\n"
     ]
    },
    {
     "name": "stdout",
     "output_type": "stream",
     "text": [
      "saving model version 0.1\n",
      "Testing width=[15, 2, 1], lamb=0.0001, grid=4\n",
      "checkpoint directory created: ./model\n",
      "saving model version 0.0\n"
     ]
    },
    {
     "name": "stderr",
     "output_type": "stream",
     "text": [
      "| train_loss: 1.70e-01 | test_loss: 2.00e-01 | reg: 3.45e+01 | : 100%|█| 30/30 [00:07<00:00,  4.17it\n"
     ]
    },
    {
     "name": "stdout",
     "output_type": "stream",
     "text": [
      "saving model version 0.1\n",
      "Testing width=[15, 2, 1], lamb=1e-05, grid=4\n",
      "checkpoint directory created: ./model\n",
      "saving model version 0.0\n"
     ]
    },
    {
     "name": "stderr",
     "output_type": "stream",
     "text": [
      "| train_loss: 1.69e-01 | test_loss: 2.11e-01 | reg: 3.49e+01 | : 100%|█| 30/30 [00:07<00:00,  4.21it\n"
     ]
    },
    {
     "name": "stdout",
     "output_type": "stream",
     "text": [
      "saving model version 0.1\n",
      "Testing width=[15, 2, 1], lamb=1.0, grid=5\n",
      "checkpoint directory created: ./model\n",
      "saving model version 0.0\n"
     ]
    },
    {
     "name": "stderr",
     "output_type": "stream",
     "text": [
      "| train_loss: 1.87e+00 | test_loss: 1.86e+00 | reg: 8.55e+00 | : 100%|█| 30/30 [00:07<00:00,  3.94it\n"
     ]
    },
    {
     "name": "stdout",
     "output_type": "stream",
     "text": [
      "saving model version 0.1\n",
      "Testing width=[15, 2, 1], lamb=0.1, grid=5\n",
      "checkpoint directory created: ./model\n",
      "saving model version 0.0\n"
     ]
    },
    {
     "name": "stderr",
     "output_type": "stream",
     "text": [
      "| train_loss: 8.84e-01 | test_loss: 1.09e+00 | reg: 1.43e+01 | : 100%|█| 30/30 [00:06<00:00,  4.33it\n"
     ]
    },
    {
     "name": "stdout",
     "output_type": "stream",
     "text": [
      "saving model version 0.1\n",
      "Testing width=[15, 2, 1], lamb=0.01, grid=5\n",
      "checkpoint directory created: ./model\n",
      "saving model version 0.0\n"
     ]
    },
    {
     "name": "stderr",
     "output_type": "stream",
     "text": [
      "| train_loss: 4.39e-01 | test_loss: 5.81e-01 | reg: 2.60e+01 | : 100%|█| 30/30 [00:07<00:00,  4.20it\n"
     ]
    },
    {
     "name": "stdout",
     "output_type": "stream",
     "text": [
      "saving model version 0.1\n",
      "Testing width=[15, 2, 1], lamb=0.001, grid=5\n",
      "checkpoint directory created: ./model\n",
      "saving model version 0.0\n"
     ]
    },
    {
     "name": "stderr",
     "output_type": "stream",
     "text": [
      "| train_loss: 5.69e-01 | test_loss: 7.61e-01 | reg: 3.22e+01 | : 100%|█| 30/30 [00:07<00:00,  4.10it\n"
     ]
    },
    {
     "name": "stdout",
     "output_type": "stream",
     "text": [
      "saving model version 0.1\n",
      "Testing width=[15, 2, 1], lamb=0.0001, grid=5\n",
      "checkpoint directory created: ./model\n",
      "saving model version 0.0\n"
     ]
    },
    {
     "name": "stderr",
     "output_type": "stream",
     "text": [
      "| train_loss: 6.15e-01 | test_loss: 8.90e-01 | reg: 3.38e+01 | : 100%|█| 30/30 [00:07<00:00,  4.16it\n"
     ]
    },
    {
     "name": "stdout",
     "output_type": "stream",
     "text": [
      "saving model version 0.1\n",
      "Testing width=[15, 2, 1], lamb=1e-05, grid=5\n",
      "checkpoint directory created: ./model\n",
      "saving model version 0.0\n"
     ]
    },
    {
     "name": "stderr",
     "output_type": "stream",
     "text": [
      "| train_loss: 5.74e-01 | test_loss: 7.67e-01 | reg: 3.28e+01 | : 100%|█| 30/30 [00:07<00:00,  4.22it\n"
     ]
    },
    {
     "name": "stdout",
     "output_type": "stream",
     "text": [
      "saving model version 0.1\n",
      "Testing width=[15, 2, 1], lamb=1.0, grid=6\n",
      "checkpoint directory created: ./model\n",
      "saving model version 0.0\n"
     ]
    },
    {
     "name": "stderr",
     "output_type": "stream",
     "text": [
      "| train_loss: 1.36e+00 | test_loss: 1.43e+00 | reg: 1.01e+01 | : 100%|█| 30/30 [00:06<00:00,  4.60it\n"
     ]
    },
    {
     "name": "stdout",
     "output_type": "stream",
     "text": [
      "saving model version 0.1\n",
      "Testing width=[15, 2, 1], lamb=0.1, grid=6\n",
      "checkpoint directory created: ./model\n",
      "saving model version 0.0\n"
     ]
    },
    {
     "name": "stderr",
     "output_type": "stream",
     "text": [
      "| train_loss: 2.48e-01 | test_loss: 2.82e-01 | reg: 9.40e+00 | : 100%|█| 30/30 [00:06<00:00,  4.38it\n"
     ]
    },
    {
     "name": "stdout",
     "output_type": "stream",
     "text": [
      "saving model version 0.1\n",
      "Testing width=[15, 2, 1], lamb=0.01, grid=6\n",
      "checkpoint directory created: ./model\n",
      "saving model version 0.0\n"
     ]
    },
    {
     "name": "stderr",
     "output_type": "stream",
     "text": [
      "| train_loss: 2.12e-01 | test_loss: 2.42e-01 | reg: 9.97e+00 | : 100%|█| 30/30 [00:07<00:00,  4.01it\n"
     ]
    },
    {
     "name": "stdout",
     "output_type": "stream",
     "text": [
      "saving model version 0.1\n",
      "Testing width=[15, 2, 1], lamb=0.001, grid=6\n",
      "checkpoint directory created: ./model\n",
      "saving model version 0.0\n"
     ]
    },
    {
     "name": "stderr",
     "output_type": "stream",
     "text": [
      "| train_loss: 1.41e-01 | test_loss: 2.12e-01 | reg: 1.87e+01 | : 100%|█| 30/30 [00:07<00:00,  4.16it\n"
     ]
    },
    {
     "name": "stdout",
     "output_type": "stream",
     "text": [
      "saving model version 0.1\n",
      "Testing width=[15, 2, 1], lamb=0.0001, grid=6\n",
      "checkpoint directory created: ./model\n",
      "saving model version 0.0\n"
     ]
    },
    {
     "name": "stderr",
     "output_type": "stream",
     "text": [
      "| train_loss: 1.42e-01 | test_loss: 2.21e-01 | reg: 2.74e+01 | : 100%|█| 30/30 [00:07<00:00,  4.12it\n"
     ]
    },
    {
     "name": "stdout",
     "output_type": "stream",
     "text": [
      "saving model version 0.1\n",
      "Testing width=[15, 2, 1], lamb=1e-05, grid=6\n",
      "checkpoint directory created: ./model\n",
      "saving model version 0.0\n"
     ]
    },
    {
     "name": "stderr",
     "output_type": "stream",
     "text": [
      "| train_loss: 1.43e-01 | test_loss: 2.21e-01 | reg: 2.99e+01 | : 100%|█| 30/30 [00:07<00:00,  4.27it\n"
     ]
    },
    {
     "name": "stdout",
     "output_type": "stream",
     "text": [
      "saving model version 0.1\n",
      "Testing width=[15, 2, 1], lamb=1.0, grid=7\n",
      "checkpoint directory created: ./model\n",
      "saving model version 0.0\n"
     ]
    },
    {
     "name": "stderr",
     "output_type": "stream",
     "text": [
      "| train_loss: 5.31e-01 | test_loss: 5.84e-01 | reg: 8.73e+00 | : 100%|█| 30/30 [00:07<00:00,  3.76it\n"
     ]
    },
    {
     "name": "stdout",
     "output_type": "stream",
     "text": [
      "saving model version 0.1\n",
      "Testing width=[15, 2, 1], lamb=0.1, grid=7\n",
      "checkpoint directory created: ./model\n",
      "saving model version 0.0\n"
     ]
    },
    {
     "name": "stderr",
     "output_type": "stream",
     "text": [
      "| train_loss: 2.46e-01 | test_loss: 2.83e-01 | reg: 9.15e+00 | : 100%|█| 30/30 [00:08<00:00,  3.44it\n"
     ]
    },
    {
     "name": "stdout",
     "output_type": "stream",
     "text": [
      "saving model version 0.1\n",
      "Testing width=[15, 2, 1], lamb=0.01, grid=7\n",
      "checkpoint directory created: ./model\n",
      "saving model version 0.0\n"
     ]
    },
    {
     "name": "stderr",
     "output_type": "stream",
     "text": [
      "| train_loss: 1.98e-01 | test_loss: 2.37e-01 | reg: 1.00e+01 | : 100%|█| 30/30 [00:07<00:00,  3.91it\n"
     ]
    },
    {
     "name": "stdout",
     "output_type": "stream",
     "text": [
      "saving model version 0.1\n",
      "Testing width=[15, 2, 1], lamb=0.001, grid=7\n",
      "checkpoint directory created: ./model\n",
      "saving model version 0.0\n"
     ]
    },
    {
     "name": "stderr",
     "output_type": "stream",
     "text": [
      "| train_loss: 1.43e-01 | test_loss: 2.19e-01 | reg: 1.77e+01 | : 100%|█| 30/30 [00:08<00:00,  3.54it\n"
     ]
    },
    {
     "name": "stdout",
     "output_type": "stream",
     "text": [
      "saving model version 0.1\n",
      "Testing width=[15, 2, 1], lamb=0.0001, grid=7\n",
      "checkpoint directory created: ./model\n",
      "saving model version 0.0\n"
     ]
    },
    {
     "name": "stderr",
     "output_type": "stream",
     "text": [
      "| train_loss: 1.36e-01 | test_loss: 1.98e-01 | reg: 3.19e+01 | : 100%|█| 30/30 [00:07<00:00,  4.14it\n"
     ]
    },
    {
     "name": "stdout",
     "output_type": "stream",
     "text": [
      "saving model version 0.1\n",
      "Testing width=[15, 2, 1], lamb=1e-05, grid=7\n",
      "checkpoint directory created: ./model\n",
      "saving model version 0.0\n"
     ]
    },
    {
     "name": "stderr",
     "output_type": "stream",
     "text": [
      "| train_loss: 1.33e-01 | test_loss: 2.30e-01 | reg: 3.48e+01 | : 100%|█| 30/30 [00:07<00:00,  4.08it\n"
     ]
    },
    {
     "name": "stdout",
     "output_type": "stream",
     "text": [
      "saving model version 0.1\n",
      "Testing width=[15, 3, 1], lamb=1.0, grid=3\n",
      "checkpoint directory created: ./model\n",
      "saving model version 0.0\n"
     ]
    },
    {
     "name": "stderr",
     "output_type": "stream",
     "text": [
      "| train_loss: 7.76e-01 | test_loss: 8.24e-01 | reg: 8.75e+00 | : 100%|█| 30/30 [00:08<00:00,  3.63it\n"
     ]
    },
    {
     "name": "stdout",
     "output_type": "stream",
     "text": [
      "saving model version 0.1\n",
      "Testing width=[15, 3, 1], lamb=0.1, grid=3\n",
      "checkpoint directory created: ./model\n",
      "saving model version 0.0\n"
     ]
    },
    {
     "name": "stderr",
     "output_type": "stream",
     "text": [
      "| train_loss: 2.85e-01 | test_loss: 3.18e-01 | reg: 8.77e+00 | : 100%|█| 30/30 [00:08<00:00,  3.57it\n"
     ]
    },
    {
     "name": "stdout",
     "output_type": "stream",
     "text": [
      "saving model version 0.1\n",
      "Testing width=[15, 3, 1], lamb=0.01, grid=3\n",
      "checkpoint directory created: ./model\n",
      "saving model version 0.0\n"
     ]
    },
    {
     "name": "stderr",
     "output_type": "stream",
     "text": [
      "| train_loss: 2.21e-01 | test_loss: 2.53e-01 | reg: 9.55e+00 | : 100%|█| 30/30 [00:07<00:00,  4.09it\n"
     ]
    },
    {
     "name": "stdout",
     "output_type": "stream",
     "text": [
      "saving model version 0.1\n",
      "Testing width=[15, 3, 1], lamb=0.001, grid=3\n",
      "checkpoint directory created: ./model\n",
      "saving model version 0.0\n"
     ]
    },
    {
     "name": "stderr",
     "output_type": "stream",
     "text": [
      "| train_loss: 1.70e-01 | test_loss: 2.05e-01 | reg: 1.75e+01 | : 100%|█| 30/30 [00:07<00:00,  4.14it\n"
     ]
    },
    {
     "name": "stdout",
     "output_type": "stream",
     "text": [
      "saving model version 0.1\n",
      "Testing width=[15, 3, 1], lamb=0.0001, grid=3\n",
      "checkpoint directory created: ./model\n",
      "saving model version 0.0\n"
     ]
    },
    {
     "name": "stderr",
     "output_type": "stream",
     "text": [
      "| train_loss: 1.57e-01 | test_loss: 2.17e-01 | reg: 3.77e+01 | : 100%|█| 30/30 [00:07<00:00,  4.02it\n"
     ]
    },
    {
     "name": "stdout",
     "output_type": "stream",
     "text": [
      "saving model version 0.1\n",
      "Testing width=[15, 3, 1], lamb=1e-05, grid=3\n",
      "checkpoint directory created: ./model\n",
      "saving model version 0.0\n"
     ]
    },
    {
     "name": "stderr",
     "output_type": "stream",
     "text": [
      "| train_loss: 1.61e-01 | test_loss: 2.24e-01 | reg: 4.07e+01 | : 100%|█| 30/30 [00:07<00:00,  4.00it\n"
     ]
    },
    {
     "name": "stdout",
     "output_type": "stream",
     "text": [
      "saving model version 0.1\n",
      "Testing width=[15, 3, 1], lamb=1.0, grid=4\n",
      "checkpoint directory created: ./model\n",
      "saving model version 0.0\n"
     ]
    },
    {
     "name": "stderr",
     "output_type": "stream",
     "text": [
      "| train_loss: 6.55e-01 | test_loss: 7.08e-01 | reg: 8.59e+00 | : 100%|█| 30/30 [00:07<00:00,  4.15it\n"
     ]
    },
    {
     "name": "stdout",
     "output_type": "stream",
     "text": [
      "saving model version 0.1\n",
      "Testing width=[15, 3, 1], lamb=0.1, grid=4\n",
      "checkpoint directory created: ./model\n",
      "saving model version 0.0\n"
     ]
    },
    {
     "name": "stderr",
     "output_type": "stream",
     "text": [
      "| train_loss: 2.53e-01 | test_loss: 2.89e-01 | reg: 8.74e+00 | : 100%|█| 30/30 [00:08<00:00,  3.36it\n"
     ]
    },
    {
     "name": "stdout",
     "output_type": "stream",
     "text": [
      "saving model version 0.1\n",
      "Testing width=[15, 3, 1], lamb=0.01, grid=4\n",
      "checkpoint directory created: ./model\n",
      "saving model version 0.0\n"
     ]
    },
    {
     "name": "stderr",
     "output_type": "stream",
     "text": [
      "| train_loss: 2.20e-01 | test_loss: 2.53e-01 | reg: 9.34e+00 | : 100%|█| 30/30 [00:07<00:00,  4.08it\n"
     ]
    },
    {
     "name": "stdout",
     "output_type": "stream",
     "text": [
      "saving model version 0.1\n",
      "Testing width=[15, 3, 1], lamb=0.001, grid=4\n",
      "checkpoint directory created: ./model\n",
      "saving model version 0.0\n"
     ]
    },
    {
     "name": "stderr",
     "output_type": "stream",
     "text": [
      "| train_loss: 1.66e-01 | test_loss: 2.23e-01 | reg: 1.75e+01 | : 100%|█| 30/30 [00:07<00:00,  4.03it\n"
     ]
    },
    {
     "name": "stdout",
     "output_type": "stream",
     "text": [
      "saving model version 0.1\n",
      "Testing width=[15, 3, 1], lamb=0.0001, grid=4\n",
      "checkpoint directory created: ./model\n",
      "saving model version 0.0\n"
     ]
    },
    {
     "name": "stderr",
     "output_type": "stream",
     "text": [
      "| train_loss: 1.57e-01 | test_loss: 2.20e-01 | reg: 4.22e+01 | : 100%|█| 30/30 [00:07<00:00,  3.99it\n"
     ]
    },
    {
     "name": "stdout",
     "output_type": "stream",
     "text": [
      "saving model version 0.1\n",
      "Testing width=[15, 3, 1], lamb=1e-05, grid=4\n",
      "checkpoint directory created: ./model\n",
      "saving model version 0.0\n"
     ]
    },
    {
     "name": "stderr",
     "output_type": "stream",
     "text": [
      "| train_loss: 1.50e-01 | test_loss: 2.29e-01 | reg: 4.28e+01 | : 100%|█| 30/30 [00:07<00:00,  4.08it\n"
     ]
    },
    {
     "name": "stdout",
     "output_type": "stream",
     "text": [
      "saving model version 0.1\n",
      "Testing width=[15, 3, 1], lamb=1.0, grid=5\n",
      "checkpoint directory created: ./model\n",
      "saving model version 0.0\n"
     ]
    },
    {
     "name": "stderr",
     "output_type": "stream",
     "text": [
      "| train_loss: 3.47e+00 | test_loss: 3.46e+00 | reg: 3.70e+00 | : 100%|█| 30/30 [00:06<00:00,  4.56it\n"
     ]
    },
    {
     "name": "stdout",
     "output_type": "stream",
     "text": [
      "saving model version 0.1\n",
      "Testing width=[15, 3, 1], lamb=0.1, grid=5\n",
      "checkpoint directory created: ./model\n",
      "saving model version 0.0\n"
     ]
    },
    {
     "name": "stderr",
     "output_type": "stream",
     "text": [
      "| train_loss: 3.50e-01 | test_loss: 4.37e-01 | reg: 1.57e+01 | : 100%|█| 30/30 [00:07<00:00,  4.28it\n"
     ]
    },
    {
     "name": "stdout",
     "output_type": "stream",
     "text": [
      "saving model version 0.1\n",
      "Testing width=[15, 3, 1], lamb=0.01, grid=5\n",
      "checkpoint directory created: ./model\n",
      "saving model version 0.0\n"
     ]
    },
    {
     "name": "stderr",
     "output_type": "stream",
     "text": [
      "| train_loss: 4.56e-01 | test_loss: 6.63e-01 | reg: 4.92e+01 | : 100%|█| 30/30 [00:07<00:00,  3.93it\n"
     ]
    },
    {
     "name": "stdout",
     "output_type": "stream",
     "text": [
      "saving model version 0.1\n",
      "Testing width=[15, 3, 1], lamb=0.001, grid=5\n",
      "checkpoint directory created: ./model\n",
      "saving model version 0.0\n"
     ]
    },
    {
     "name": "stderr",
     "output_type": "stream",
     "text": [
      "| train_loss: 1.04e+00 | test_loss: 1.27e+00 | reg: 6.07e+01 | : 100%|█| 30/30 [00:07<00:00,  3.98it\n"
     ]
    },
    {
     "name": "stdout",
     "output_type": "stream",
     "text": [
      "saving model version 0.1\n",
      "Testing width=[15, 3, 1], lamb=0.0001, grid=5\n",
      "checkpoint directory created: ./model\n",
      "saving model version 0.0\n"
     ]
    },
    {
     "name": "stderr",
     "output_type": "stream",
     "text": [
      "| train_loss: 1.82e-01 | test_loss: 2.88e-01 | reg: 4.91e+01 | : 100%|█| 30/30 [00:07<00:00,  4.05it\n"
     ]
    },
    {
     "name": "stdout",
     "output_type": "stream",
     "text": [
      "saving model version 0.1\n",
      "Testing width=[15, 3, 1], lamb=1e-05, grid=5\n",
      "checkpoint directory created: ./model\n",
      "saving model version 0.0\n"
     ]
    },
    {
     "name": "stderr",
     "output_type": "stream",
     "text": [
      "| train_loss: 1.78e-01 | test_loss: 2.37e-01 | reg: 5.84e+01 | : 100%|█| 30/30 [00:07<00:00,  4.10it\n"
     ]
    },
    {
     "name": "stdout",
     "output_type": "stream",
     "text": [
      "saving model version 0.1\n",
      "Testing width=[15, 3, 1], lamb=1.0, grid=6\n",
      "checkpoint directory created: ./model\n",
      "saving model version 0.0\n"
     ]
    },
    {
     "name": "stderr",
     "output_type": "stream",
     "text": [
      "| train_loss: 1.68e+00 | test_loss: 1.68e+00 | reg: 1.09e+01 | : 100%|█| 30/30 [00:07<00:00,  3.84it\n"
     ]
    },
    {
     "name": "stdout",
     "output_type": "stream",
     "text": [
      "saving model version 0.1\n",
      "Testing width=[15, 3, 1], lamb=0.1, grid=6\n",
      "checkpoint directory created: ./model\n",
      "saving model version 0.0\n"
     ]
    },
    {
     "name": "stderr",
     "output_type": "stream",
     "text": [
      "| train_loss: 5.03e-01 | test_loss: 5.75e-01 | reg: 1.07e+01 | : 100%|█| 30/30 [00:06<00:00,  4.56it\n"
     ]
    },
    {
     "name": "stdout",
     "output_type": "stream",
     "text": [
      "saving model version 0.1\n",
      "Testing width=[15, 3, 1], lamb=0.01, grid=6\n",
      "checkpoint directory created: ./model\n",
      "saving model version 0.0\n"
     ]
    },
    {
     "name": "stderr",
     "output_type": "stream",
     "text": [
      "| train_loss: 2.20e-01 | test_loss: 2.68e-01 | reg: 4.09e+01 | : 100%|█| 30/30 [00:07<00:00,  3.88it\n"
     ]
    },
    {
     "name": "stdout",
     "output_type": "stream",
     "text": [
      "saving model version 0.1\n",
      "Testing width=[15, 3, 1], lamb=0.001, grid=6\n",
      "checkpoint directory created: ./model\n",
      "saving model version 0.0\n"
     ]
    },
    {
     "name": "stderr",
     "output_type": "stream",
     "text": [
      "| train_loss: 1.65e-01 | test_loss: 2.50e-01 | reg: 4.14e+01 | : 100%|█| 30/30 [00:07<00:00,  3.91it\n"
     ]
    },
    {
     "name": "stdout",
     "output_type": "stream",
     "text": [
      "saving model version 0.1\n",
      "Testing width=[15, 3, 1], lamb=0.0001, grid=6\n",
      "checkpoint directory created: ./model\n",
      "saving model version 0.0\n"
     ]
    },
    {
     "name": "stderr",
     "output_type": "stream",
     "text": [
      "| train_loss: 1.93e-01 | test_loss: 3.60e-01 | reg: 4.98e+01 | : 100%|█| 30/30 [00:07<00:00,  3.85it\n"
     ]
    },
    {
     "name": "stdout",
     "output_type": "stream",
     "text": [
      "saving model version 0.1\n",
      "Testing width=[15, 3, 1], lamb=1e-05, grid=6\n",
      "checkpoint directory created: ./model\n",
      "saving model version 0.0\n"
     ]
    },
    {
     "name": "stderr",
     "output_type": "stream",
     "text": [
      "| train_loss: 1.54e-01 | test_loss: 1.99e-01 | reg: 5.03e+01 | : 100%|█| 30/30 [00:07<00:00,  3.99it\n"
     ]
    },
    {
     "name": "stdout",
     "output_type": "stream",
     "text": [
      "saving model version 0.1\n",
      "Testing width=[15, 3, 1], lamb=1.0, grid=7\n",
      "checkpoint directory created: ./model\n",
      "saving model version 0.0\n"
     ]
    },
    {
     "name": "stderr",
     "output_type": "stream",
     "text": [
      "| train_loss: 2.06e+00 | test_loss: 2.08e+00 | reg: 7.68e+00 | : 100%|█| 30/30 [00:07<00:00,  3.93it\n"
     ]
    },
    {
     "name": "stdout",
     "output_type": "stream",
     "text": [
      "saving model version 0.1\n",
      "Testing width=[15, 3, 1], lamb=0.1, grid=7\n",
      "checkpoint directory created: ./model\n",
      "saving model version 0.0\n"
     ]
    },
    {
     "name": "stderr",
     "output_type": "stream",
     "text": [
      "| train_loss: 2.49e-01 | test_loss: 2.87e-01 | reg: 8.90e+00 | : 100%|█| 30/30 [00:07<00:00,  4.20it\n"
     ]
    },
    {
     "name": "stdout",
     "output_type": "stream",
     "text": [
      "saving model version 0.1\n",
      "Testing width=[15, 3, 1], lamb=0.01, grid=7\n",
      "checkpoint directory created: ./model\n",
      "saving model version 0.0\n"
     ]
    },
    {
     "name": "stderr",
     "output_type": "stream",
     "text": [
      "| train_loss: 2.05e-01 | test_loss: 2.34e-01 | reg: 9.31e+00 | : 100%|█| 30/30 [00:07<00:00,  4.27it\n"
     ]
    },
    {
     "name": "stdout",
     "output_type": "stream",
     "text": [
      "saving model version 0.1\n",
      "Testing width=[15, 3, 1], lamb=0.001, grid=7\n",
      "checkpoint directory created: ./model\n",
      "saving model version 0.0\n"
     ]
    },
    {
     "name": "stderr",
     "output_type": "stream",
     "text": [
      "| train_loss: 1.42e-01 | test_loss: 2.38e-01 | reg: 1.66e+01 | : 100%|█| 30/30 [00:07<00:00,  4.24it\n"
     ]
    },
    {
     "name": "stdout",
     "output_type": "stream",
     "text": [
      "saving model version 0.1\n",
      "Testing width=[15, 3, 1], lamb=0.0001, grid=7\n",
      "checkpoint directory created: ./model\n",
      "saving model version 0.0\n"
     ]
    },
    {
     "name": "stderr",
     "output_type": "stream",
     "text": [
      "| train_loss: 1.13e-01 | test_loss: 3.05e-01 | reg: 3.59e+01 | : 100%|█| 30/30 [00:07<00:00,  4.00it\n"
     ]
    },
    {
     "name": "stdout",
     "output_type": "stream",
     "text": [
      "saving model version 0.1\n",
      "Testing width=[15, 3, 1], lamb=1e-05, grid=7\n",
      "checkpoint directory created: ./model\n",
      "saving model version 0.0\n"
     ]
    },
    {
     "name": "stderr",
     "output_type": "stream",
     "text": [
      "| train_loss: 1.22e-01 | test_loss: 2.44e-01 | reg: 4.55e+01 | : 100%|█| 30/30 [00:07<00:00,  4.04it\n"
     ]
    },
    {
     "name": "stdout",
     "output_type": "stream",
     "text": [
      "saving model version 0.1\n",
      "Testing width=[15, 4, 1], lamb=1.0, grid=3\n",
      "checkpoint directory created: ./model\n",
      "saving model version 0.0\n"
     ]
    },
    {
     "name": "stderr",
     "output_type": "stream",
     "text": [
      "| train_loss: 1.43e+00 | test_loss: 1.56e+00 | reg: 7.29e+00 | : 100%|█| 30/30 [00:09<00:00,  3.01it\n"
     ]
    },
    {
     "name": "stdout",
     "output_type": "stream",
     "text": [
      "saving model version 0.1\n",
      "Testing width=[15, 4, 1], lamb=0.1, grid=3\n",
      "checkpoint directory created: ./model\n",
      "saving model version 0.0\n"
     ]
    },
    {
     "name": "stderr",
     "output_type": "stream",
     "text": [
      "| train_loss: 2.77e-01 | test_loss: 3.08e-01 | reg: 8.63e+00 | : 100%|█| 30/30 [00:07<00:00,  4.01it\n"
     ]
    },
    {
     "name": "stdout",
     "output_type": "stream",
     "text": [
      "saving model version 0.1\n",
      "Testing width=[15, 4, 1], lamb=0.01, grid=3\n",
      "checkpoint directory created: ./model\n",
      "saving model version 0.0\n"
     ]
    },
    {
     "name": "stderr",
     "output_type": "stream",
     "text": [
      "| train_loss: 2.22e-01 | test_loss: 2.58e-01 | reg: 9.37e+00 | : 100%|█| 30/30 [00:07<00:00,  3.98it\n"
     ]
    },
    {
     "name": "stdout",
     "output_type": "stream",
     "text": [
      "saving model version 0.1\n",
      "Testing width=[15, 4, 1], lamb=0.001, grid=3\n",
      "checkpoint directory created: ./model\n",
      "saving model version 0.0\n"
     ]
    },
    {
     "name": "stderr",
     "output_type": "stream",
     "text": [
      "| train_loss: 1.58e-01 | test_loss: 2.09e-01 | reg: 2.57e+01 | : 100%|█| 30/30 [00:07<00:00,  4.05it\n"
     ]
    },
    {
     "name": "stdout",
     "output_type": "stream",
     "text": [
      "saving model version 0.1\n",
      "Testing width=[15, 4, 1], lamb=0.0001, grid=3\n",
      "checkpoint directory created: ./model\n",
      "saving model version 0.0\n"
     ]
    },
    {
     "name": "stderr",
     "output_type": "stream",
     "text": [
      "| train_loss: 1.55e-01 | test_loss: 2.14e-01 | reg: 3.52e+01 | : 100%|█| 30/30 [00:07<00:00,  3.98it\n"
     ]
    },
    {
     "name": "stdout",
     "output_type": "stream",
     "text": [
      "saving model version 0.1\n",
      "Testing width=[15, 4, 1], lamb=1e-05, grid=3\n",
      "checkpoint directory created: ./model\n",
      "saving model version 0.0\n"
     ]
    },
    {
     "name": "stderr",
     "output_type": "stream",
     "text": [
      "| train_loss: 1.58e-01 | test_loss: 2.03e-01 | reg: 3.66e+01 | : 100%|█| 30/30 [00:07<00:00,  4.02it\n"
     ]
    },
    {
     "name": "stdout",
     "output_type": "stream",
     "text": [
      "saving model version 0.1\n",
      "Testing width=[15, 4, 1], lamb=1.0, grid=4\n",
      "checkpoint directory created: ./model\n",
      "saving model version 0.0\n"
     ]
    },
    {
     "name": "stderr",
     "output_type": "stream",
     "text": [
      "| train_loss: 2.36e+00 | test_loss: 2.35e+00 | reg: 6.57e+00 | : 100%|█| 30/30 [00:07<00:00,  4.16it\n"
     ]
    },
    {
     "name": "stdout",
     "output_type": "stream",
     "text": [
      "saving model version 0.1\n",
      "Testing width=[15, 4, 1], lamb=0.1, grid=4\n",
      "checkpoint directory created: ./model\n",
      "saving model version 0.0\n"
     ]
    },
    {
     "name": "stderr",
     "output_type": "stream",
     "text": [
      "| train_loss: 3.31e-01 | test_loss: 3.75e-01 | reg: 1.24e+01 | : 100%|█| 30/30 [00:07<00:00,  3.80it\n"
     ]
    },
    {
     "name": "stdout",
     "output_type": "stream",
     "text": [
      "saving model version 0.1\n",
      "Testing width=[15, 4, 1], lamb=0.01, grid=4\n",
      "checkpoint directory created: ./model\n",
      "saving model version 0.0\n"
     ]
    },
    {
     "name": "stderr",
     "output_type": "stream",
     "text": [
      "| train_loss: 1.92e-01 | test_loss: 2.20e-01 | reg: 2.04e+01 | : 100%|█| 30/30 [00:09<00:00,  3.27it\n"
     ]
    },
    {
     "name": "stdout",
     "output_type": "stream",
     "text": [
      "saving model version 0.1\n",
      "Testing width=[15, 4, 1], lamb=0.001, grid=4\n",
      "checkpoint directory created: ./model\n",
      "saving model version 0.0\n"
     ]
    },
    {
     "name": "stderr",
     "output_type": "stream",
     "text": [
      "| train_loss: 1.62e-01 | test_loss: 1.93e-01 | reg: 3.76e+01 | : 100%|█| 30/30 [00:08<00:00,  3.39it\n"
     ]
    },
    {
     "name": "stdout",
     "output_type": "stream",
     "text": [
      "saving model version 0.1\n",
      "Testing width=[15, 4, 1], lamb=0.0001, grid=4\n",
      "checkpoint directory created: ./model\n",
      "saving model version 0.0\n"
     ]
    },
    {
     "name": "stderr",
     "output_type": "stream",
     "text": [
      "| train_loss: 1.59e-01 | test_loss: 1.96e-01 | reg: 4.14e+01 | : 100%|█| 30/30 [00:08<00:00,  3.62it\n"
     ]
    },
    {
     "name": "stdout",
     "output_type": "stream",
     "text": [
      "saving model version 0.1\n",
      "Testing width=[15, 4, 1], lamb=1e-05, grid=4\n",
      "checkpoint directory created: ./model\n",
      "saving model version 0.0\n"
     ]
    },
    {
     "name": "stderr",
     "output_type": "stream",
     "text": [
      "| train_loss: 1.63e-01 | test_loss: 1.98e-01 | reg: 4.23e+01 | : 100%|█| 30/30 [00:08<00:00,  3.47it\n"
     ]
    },
    {
     "name": "stdout",
     "output_type": "stream",
     "text": [
      "saving model version 0.1\n",
      "Testing width=[15, 4, 1], lamb=1.0, grid=5\n",
      "checkpoint directory created: ./model\n",
      "saving model version 0.0\n"
     ]
    },
    {
     "name": "stderr",
     "output_type": "stream",
     "text": [
      "| train_loss: 9.03e-01 | test_loss: 9.61e-01 | reg: 1.01e+01 | : 100%|█| 30/30 [00:08<00:00,  3.50it\n"
     ]
    },
    {
     "name": "stdout",
     "output_type": "stream",
     "text": [
      "saving model version 0.1\n",
      "Testing width=[15, 4, 1], lamb=0.1, grid=5\n",
      "checkpoint directory created: ./model\n",
      "saving model version 0.0\n"
     ]
    },
    {
     "name": "stderr",
     "output_type": "stream",
     "text": [
      "| train_loss: 2.64e-01 | test_loss: 2.96e-01 | reg: 8.55e+00 | : 100%|█| 30/30 [00:08<00:00,  3.57it\n"
     ]
    },
    {
     "name": "stdout",
     "output_type": "stream",
     "text": [
      "saving model version 0.1\n",
      "Testing width=[15, 4, 1], lamb=0.01, grid=5\n",
      "checkpoint directory created: ./model\n",
      "saving model version 0.0\n"
     ]
    },
    {
     "name": "stderr",
     "output_type": "stream",
     "text": [
      "| train_loss: 2.15e-01 | test_loss: 2.48e-01 | reg: 9.22e+00 | : 100%|█| 30/30 [00:08<00:00,  3.44it\n"
     ]
    },
    {
     "name": "stdout",
     "output_type": "stream",
     "text": [
      "saving model version 0.1\n",
      "Testing width=[15, 4, 1], lamb=0.001, grid=5\n",
      "checkpoint directory created: ./model\n",
      "saving model version 0.0\n"
     ]
    },
    {
     "name": "stderr",
     "output_type": "stream",
     "text": [
      "| train_loss: 1.44e-01 | test_loss: 2.25e-01 | reg: 1.89e+01 | : 100%|█| 30/30 [00:07<00:00,  3.99it\n"
     ]
    },
    {
     "name": "stdout",
     "output_type": "stream",
     "text": [
      "saving model version 0.1\n",
      "Testing width=[15, 4, 1], lamb=0.0001, grid=5\n",
      "checkpoint directory created: ./model\n",
      "saving model version 0.0\n"
     ]
    },
    {
     "name": "stderr",
     "output_type": "stream",
     "text": [
      "| train_loss: 1.35e-01 | test_loss: 2.15e-01 | reg: 3.74e+01 | : 100%|█| 30/30 [00:07<00:00,  3.85it\n"
     ]
    },
    {
     "name": "stdout",
     "output_type": "stream",
     "text": [
      "saving model version 0.1\n",
      "Testing width=[15, 4, 1], lamb=1e-05, grid=5\n",
      "checkpoint directory created: ./model\n",
      "saving model version 0.0\n"
     ]
    },
    {
     "name": "stderr",
     "output_type": "stream",
     "text": [
      "| train_loss: 1.32e-01 | test_loss: 2.85e-01 | reg: 4.33e+01 | : 100%|█| 30/30 [00:07<00:00,  3.92it\n"
     ]
    },
    {
     "name": "stdout",
     "output_type": "stream",
     "text": [
      "saving model version 0.1\n",
      "Testing width=[15, 4, 1], lamb=1.0, grid=6\n",
      "checkpoint directory created: ./model\n",
      "saving model version 0.0\n"
     ]
    },
    {
     "name": "stderr",
     "output_type": "stream",
     "text": [
      "| train_loss: 2.55e+00 | test_loss: 2.51e+00 | reg: 6.62e+00 | : 100%|█| 30/30 [00:07<00:00,  3.90it\n"
     ]
    },
    {
     "name": "stdout",
     "output_type": "stream",
     "text": [
      "saving model version 0.1\n",
      "Testing width=[15, 4, 1], lamb=0.1, grid=6\n",
      "checkpoint directory created: ./model\n",
      "saving model version 0.0\n"
     ]
    },
    {
     "name": "stderr",
     "output_type": "stream",
     "text": [
      "| train_loss: 2.50e-01 | test_loss: 2.87e-01 | reg: 8.74e+00 | : 100%|█| 30/30 [00:07<00:00,  4.05it\n"
     ]
    },
    {
     "name": "stdout",
     "output_type": "stream",
     "text": [
      "saving model version 0.1\n",
      "Testing width=[15, 4, 1], lamb=0.01, grid=6\n",
      "checkpoint directory created: ./model\n",
      "saving model version 0.0\n"
     ]
    },
    {
     "name": "stderr",
     "output_type": "stream",
     "text": [
      "| train_loss: 1.98e-01 | test_loss: 2.40e-01 | reg: 9.29e+00 | : 100%|█| 30/30 [00:08<00:00,  3.72it\n"
     ]
    },
    {
     "name": "stdout",
     "output_type": "stream",
     "text": [
      "saving model version 0.1\n",
      "Testing width=[15, 4, 1], lamb=0.001, grid=6\n",
      "checkpoint directory created: ./model\n",
      "saving model version 0.0\n"
     ]
    },
    {
     "name": "stderr",
     "output_type": "stream",
     "text": [
      "| train_loss: 1.35e-01 | test_loss: 2.06e-01 | reg: 2.62e+01 | : 100%|█| 30/30 [00:08<00:00,  3.59it\n"
     ]
    },
    {
     "name": "stdout",
     "output_type": "stream",
     "text": [
      "saving model version 0.1\n",
      "Testing width=[15, 4, 1], lamb=0.0001, grid=6\n",
      "checkpoint directory created: ./model\n",
      "saving model version 0.0\n"
     ]
    },
    {
     "name": "stderr",
     "output_type": "stream",
     "text": [
      "| train_loss: 1.18e-01 | test_loss: 2.42e-01 | reg: 3.48e+01 | : 100%|█| 30/30 [00:07<00:00,  3.76it\n"
     ]
    },
    {
     "name": "stdout",
     "output_type": "stream",
     "text": [
      "saving model version 0.1\n",
      "Testing width=[15, 4, 1], lamb=1e-05, grid=6\n",
      "checkpoint directory created: ./model\n",
      "saving model version 0.0\n"
     ]
    },
    {
     "name": "stderr",
     "output_type": "stream",
     "text": [
      "| train_loss: 1.22e-01 | test_loss: 2.32e-01 | reg: 4.01e+01 | : 100%|█| 30/30 [00:07<00:00,  3.77it\n"
     ]
    },
    {
     "name": "stdout",
     "output_type": "stream",
     "text": [
      "saving model version 0.1\n",
      "Testing width=[15, 4, 1], lamb=1.0, grid=7\n",
      "checkpoint directory created: ./model\n",
      "saving model version 0.0\n"
     ]
    },
    {
     "name": "stderr",
     "output_type": "stream",
     "text": [
      "| train_loss: 2.07e+00 | test_loss: 2.18e+00 | reg: 8.47e+00 | : 100%|█| 30/30 [00:08<00:00,  3.46it\n"
     ]
    },
    {
     "name": "stdout",
     "output_type": "stream",
     "text": [
      "saving model version 0.1\n",
      "Testing width=[15, 4, 1], lamb=0.1, grid=7\n",
      "checkpoint directory created: ./model\n",
      "saving model version 0.0\n"
     ]
    },
    {
     "name": "stderr",
     "output_type": "stream",
     "text": [
      "| train_loss: 2.51e-01 | test_loss: 2.90e-01 | reg: 8.81e+00 | : 100%|█| 30/30 [00:07<00:00,  3.76it\n"
     ]
    },
    {
     "name": "stdout",
     "output_type": "stream",
     "text": [
      "saving model version 0.1\n",
      "Testing width=[15, 4, 1], lamb=0.01, grid=7\n",
      "checkpoint directory created: ./model\n",
      "saving model version 0.0\n"
     ]
    },
    {
     "name": "stderr",
     "output_type": "stream",
     "text": [
      "| train_loss: 1.96e-01 | test_loss: 2.36e-01 | reg: 9.17e+00 | : 100%|█| 30/30 [00:07<00:00,  3.94it\n"
     ]
    },
    {
     "name": "stdout",
     "output_type": "stream",
     "text": [
      "saving model version 0.1\n",
      "Testing width=[15, 4, 1], lamb=0.001, grid=7\n",
      "checkpoint directory created: ./model\n",
      "saving model version 0.0\n"
     ]
    },
    {
     "name": "stderr",
     "output_type": "stream",
     "text": [
      "| train_loss: 1.29e-01 | test_loss: 2.07e-01 | reg: 2.21e+01 | : 100%|█| 30/30 [00:08<00:00,  3.72it\n"
     ]
    },
    {
     "name": "stdout",
     "output_type": "stream",
     "text": [
      "saving model version 0.1\n",
      "Testing width=[15, 4, 1], lamb=0.0001, grid=7\n",
      "checkpoint directory created: ./model\n",
      "saving model version 0.0\n"
     ]
    },
    {
     "name": "stderr",
     "output_type": "stream",
     "text": [
      "| train_loss: 1.20e-01 | test_loss: 2.80e-01 | reg: 3.63e+01 | : 100%|█| 30/30 [00:07<00:00,  3.88it\n"
     ]
    },
    {
     "name": "stdout",
     "output_type": "stream",
     "text": [
      "saving model version 0.1\n",
      "Testing width=[15, 4, 1], lamb=1e-05, grid=7\n",
      "checkpoint directory created: ./model\n",
      "saving model version 0.0\n"
     ]
    },
    {
     "name": "stderr",
     "output_type": "stream",
     "text": [
      "| train_loss: 1.19e-01 | test_loss: 2.53e-01 | reg: 3.69e+01 | : 100%|█| 30/30 [00:07<00:00,  3.96it\n"
     ]
    },
    {
     "name": "stdout",
     "output_type": "stream",
     "text": [
      "saving model version 0.1\n",
      "Testing width=[15, 5, 1], lamb=1.0, grid=3\n",
      "checkpoint directory created: ./model\n",
      "saving model version 0.0\n"
     ]
    },
    {
     "name": "stderr",
     "output_type": "stream",
     "text": [
      "| train_loss: 8.18e-01 | test_loss: 8.73e-01 | reg: 8.22e+00 | : 100%|█| 30/30 [00:07<00:00,  4.07it\n"
     ]
    },
    {
     "name": "stdout",
     "output_type": "stream",
     "text": [
      "saving model version 0.1\n",
      "Testing width=[15, 5, 1], lamb=0.1, grid=3\n",
      "checkpoint directory created: ./model\n",
      "saving model version 0.0\n"
     ]
    },
    {
     "name": "stderr",
     "output_type": "stream",
     "text": [
      "| train_loss: 2.75e-01 | test_loss: 3.06e-01 | reg: 8.34e+00 | : 100%|█| 30/30 [00:07<00:00,  3.91it\n"
     ]
    },
    {
     "name": "stdout",
     "output_type": "stream",
     "text": [
      "saving model version 0.1\n",
      "Testing width=[15, 5, 1], lamb=0.01, grid=3\n",
      "checkpoint directory created: ./model\n",
      "saving model version 0.0\n"
     ]
    },
    {
     "name": "stderr",
     "output_type": "stream",
     "text": [
      "| train_loss: 2.22e-01 | test_loss: 2.54e-01 | reg: 8.90e+00 | : 100%|█| 30/30 [00:07<00:00,  4.14it\n"
     ]
    },
    {
     "name": "stdout",
     "output_type": "stream",
     "text": [
      "saving model version 0.1\n",
      "Testing width=[15, 5, 1], lamb=0.001, grid=3\n",
      "checkpoint directory created: ./model\n",
      "saving model version 0.0\n"
     ]
    },
    {
     "name": "stderr",
     "output_type": "stream",
     "text": [
      "| train_loss: 1.67e-01 | test_loss: 2.69e-01 | reg: 1.65e+01 | : 100%|█| 30/30 [00:08<00:00,  3.68it\n"
     ]
    },
    {
     "name": "stdout",
     "output_type": "stream",
     "text": [
      "saving model version 0.1\n",
      "Testing width=[15, 5, 1], lamb=0.0001, grid=3\n",
      "checkpoint directory created: ./model\n",
      "saving model version 0.0\n"
     ]
    },
    {
     "name": "stderr",
     "output_type": "stream",
     "text": [
      "| train_loss: 1.48e-01 | test_loss: 2.00e-01 | reg: 3.41e+01 | : 100%|█| 30/30 [00:08<00:00,  3.72it\n"
     ]
    },
    {
     "name": "stdout",
     "output_type": "stream",
     "text": [
      "saving model version 0.1\n",
      "Testing width=[15, 5, 1], lamb=1e-05, grid=3\n",
      "checkpoint directory created: ./model\n",
      "saving model version 0.0\n"
     ]
    },
    {
     "name": "stderr",
     "output_type": "stream",
     "text": [
      "| train_loss: 1.38e-01 | test_loss: 2.06e-01 | reg: 4.21e+01 | : 100%|█| 30/30 [00:07<00:00,  3.77it\n"
     ]
    },
    {
     "name": "stdout",
     "output_type": "stream",
     "text": [
      "saving model version 0.1\n",
      "Testing width=[15, 5, 1], lamb=1.0, grid=4\n",
      "checkpoint directory created: ./model\n",
      "saving model version 0.0\n"
     ]
    },
    {
     "name": "stderr",
     "output_type": "stream",
     "text": [
      "| train_loss: 1.29e+00 | test_loss: 1.45e+00 | reg: 8.08e+00 | : 100%|█| 30/30 [00:08<00:00,  3.61it\n"
     ]
    },
    {
     "name": "stdout",
     "output_type": "stream",
     "text": [
      "saving model version 0.1\n",
      "Testing width=[15, 5, 1], lamb=0.1, grid=4\n",
      "checkpoint directory created: ./model\n",
      "saving model version 0.0\n"
     ]
    },
    {
     "name": "stderr",
     "output_type": "stream",
     "text": [
      "| train_loss: 2.79e-01 | test_loss: 3.14e-01 | reg: 8.63e+00 | : 100%|█| 30/30 [00:07<00:00,  3.78it\n"
     ]
    },
    {
     "name": "stdout",
     "output_type": "stream",
     "text": [
      "saving model version 0.1\n",
      "Testing width=[15, 5, 1], lamb=0.01, grid=4\n",
      "checkpoint directory created: ./model\n",
      "saving model version 0.0\n"
     ]
    },
    {
     "name": "stderr",
     "output_type": "stream",
     "text": [
      "| train_loss: 2.20e-01 | test_loss: 2.50e-01 | reg: 9.49e+00 | : 100%|█| 30/30 [00:08<00:00,  3.68it\n"
     ]
    },
    {
     "name": "stdout",
     "output_type": "stream",
     "text": [
      "saving model version 0.1\n",
      "Testing width=[15, 5, 1], lamb=0.001, grid=4\n",
      "checkpoint directory created: ./model\n",
      "saving model version 0.0\n"
     ]
    },
    {
     "name": "stderr",
     "output_type": "stream",
     "text": [
      "| train_loss: 1.51e-01 | test_loss: 2.09e-01 | reg: 2.35e+01 | : 100%|█| 30/30 [00:07<00:00,  3.83it\n"
     ]
    },
    {
     "name": "stdout",
     "output_type": "stream",
     "text": [
      "saving model version 0.1\n",
      "Testing width=[15, 5, 1], lamb=0.0001, grid=4\n",
      "checkpoint directory created: ./model\n",
      "saving model version 0.0\n"
     ]
    },
    {
     "name": "stderr",
     "output_type": "stream",
     "text": [
      "| train_loss: 1.42e-01 | test_loss: 1.96e-01 | reg: 4.80e+01 | : 100%|█| 30/30 [00:07<00:00,  3.92it\n"
     ]
    },
    {
     "name": "stdout",
     "output_type": "stream",
     "text": [
      "saving model version 0.1\n",
      "Testing width=[15, 5, 1], lamb=1e-05, grid=4\n",
      "checkpoint directory created: ./model\n",
      "saving model version 0.0\n"
     ]
    },
    {
     "name": "stderr",
     "output_type": "stream",
     "text": [
      "| train_loss: 1.49e-01 | test_loss: 2.08e-01 | reg: 4.53e+01 | : 100%|█| 30/30 [00:07<00:00,  3.91it\n"
     ]
    },
    {
     "name": "stdout",
     "output_type": "stream",
     "text": [
      "saving model version 0.1\n",
      "Testing width=[15, 5, 1], lamb=1.0, grid=5\n",
      "checkpoint directory created: ./model\n",
      "saving model version 0.0\n"
     ]
    },
    {
     "name": "stderr",
     "output_type": "stream",
     "text": [
      "| train_loss: 2.07e+00 | test_loss: 2.09e+00 | reg: 6.54e+00 | : 100%|█| 30/30 [00:07<00:00,  3.94it\n"
     ]
    },
    {
     "name": "stdout",
     "output_type": "stream",
     "text": [
      "saving model version 0.1\n",
      "Testing width=[15, 5, 1], lamb=0.1, grid=5\n",
      "checkpoint directory created: ./model\n",
      "saving model version 0.0\n"
     ]
    },
    {
     "name": "stderr",
     "output_type": "stream",
     "text": [
      "| train_loss: 2.66e-01 | test_loss: 2.99e-01 | reg: 8.44e+00 | : 100%|█| 30/30 [00:07<00:00,  3.99it\n"
     ]
    },
    {
     "name": "stdout",
     "output_type": "stream",
     "text": [
      "saving model version 0.1\n",
      "Testing width=[15, 5, 1], lamb=0.01, grid=5\n",
      "checkpoint directory created: ./model\n",
      "saving model version 0.0\n"
     ]
    },
    {
     "name": "stderr",
     "output_type": "stream",
     "text": [
      "| train_loss: 2.15e-01 | test_loss: 2.46e-01 | reg: 8.84e+00 | : 100%|█| 30/30 [00:07<00:00,  4.14it\n"
     ]
    },
    {
     "name": "stdout",
     "output_type": "stream",
     "text": [
      "saving model version 0.1\n",
      "Testing width=[15, 5, 1], lamb=0.001, grid=5\n",
      "checkpoint directory created: ./model\n",
      "saving model version 0.0\n"
     ]
    },
    {
     "name": "stderr",
     "output_type": "stream",
     "text": [
      "| train_loss: 1.24e-01 | test_loss: 2.50e-01 | reg: 1.98e+01 | : 100%|█| 30/30 [00:07<00:00,  4.14it\n"
     ]
    },
    {
     "name": "stdout",
     "output_type": "stream",
     "text": [
      "saving model version 0.1\n",
      "Testing width=[15, 5, 1], lamb=0.0001, grid=5\n",
      "checkpoint directory created: ./model\n",
      "saving model version 0.0\n"
     ]
    },
    {
     "name": "stderr",
     "output_type": "stream",
     "text": [
      "| train_loss: 1.03e-01 | test_loss: 2.18e-01 | reg: 3.83e+01 | : 100%|█| 30/30 [00:07<00:00,  4.09it\n"
     ]
    },
    {
     "name": "stdout",
     "output_type": "stream",
     "text": [
      "saving model version 0.1\n",
      "Testing width=[15, 5, 1], lamb=1e-05, grid=5\n",
      "checkpoint directory created: ./model\n",
      "saving model version 0.0\n"
     ]
    },
    {
     "name": "stderr",
     "output_type": "stream",
     "text": [
      "| train_loss: 1.10e-01 | test_loss: 2.87e-01 | reg: 4.18e+01 | : 100%|█| 30/30 [00:07<00:00,  3.94it\n"
     ]
    },
    {
     "name": "stdout",
     "output_type": "stream",
     "text": [
      "saving model version 0.1\n",
      "Testing width=[15, 5, 1], lamb=1.0, grid=6\n",
      "checkpoint directory created: ./model\n",
      "saving model version 0.0\n"
     ]
    },
    {
     "name": "stderr",
     "output_type": "stream",
     "text": [
      "| train_loss: 8.36e-01 | test_loss: 8.98e-01 | reg: 8.29e+00 | : 100%|█| 30/30 [00:07<00:00,  3.87it\n"
     ]
    },
    {
     "name": "stdout",
     "output_type": "stream",
     "text": [
      "saving model version 0.1\n",
      "Testing width=[15, 5, 1], lamb=0.1, grid=6\n",
      "checkpoint directory created: ./model\n",
      "saving model version 0.0\n"
     ]
    },
    {
     "name": "stderr",
     "output_type": "stream",
     "text": [
      "| train_loss: 2.54e-01 | test_loss: 2.92e-01 | reg: 8.40e+00 | : 100%|█| 30/30 [00:07<00:00,  3.84it\n"
     ]
    },
    {
     "name": "stdout",
     "output_type": "stream",
     "text": [
      "saving model version 0.1\n",
      "Testing width=[15, 5, 1], lamb=0.01, grid=6\n",
      "checkpoint directory created: ./model\n",
      "saving model version 0.0\n"
     ]
    },
    {
     "name": "stderr",
     "output_type": "stream",
     "text": [
      "| train_loss: 1.98e-01 | test_loss: 2.39e-01 | reg: 8.94e+00 | : 100%|█| 30/30 [00:07<00:00,  3.77it\n"
     ]
    },
    {
     "name": "stdout",
     "output_type": "stream",
     "text": [
      "saving model version 0.1\n",
      "Testing width=[15, 5, 1], lamb=0.001, grid=6\n",
      "checkpoint directory created: ./model\n",
      "saving model version 0.0\n"
     ]
    },
    {
     "name": "stderr",
     "output_type": "stream",
     "text": [
      "| train_loss: 1.18e-01 | test_loss: 2.14e-01 | reg: 2.12e+01 | : 100%|█| 30/30 [00:08<00:00,  3.73it\n"
     ]
    },
    {
     "name": "stdout",
     "output_type": "stream",
     "text": [
      "saving model version 0.1\n",
      "Testing width=[15, 5, 1], lamb=0.0001, grid=6\n",
      "checkpoint directory created: ./model\n",
      "saving model version 0.0\n"
     ]
    },
    {
     "name": "stderr",
     "output_type": "stream",
     "text": [
      "| train_loss: 1.12e-01 | test_loss: 2.34e-01 | reg: 3.81e+01 | : 100%|█| 30/30 [00:08<00:00,  3.62it\n"
     ]
    },
    {
     "name": "stdout",
     "output_type": "stream",
     "text": [
      "saving model version 0.1\n",
      "Testing width=[15, 5, 1], lamb=1e-05, grid=6\n",
      "checkpoint directory created: ./model\n",
      "saving model version 0.0\n"
     ]
    },
    {
     "name": "stderr",
     "output_type": "stream",
     "text": [
      "| train_loss: 1.16e-01 | test_loss: 2.67e-01 | reg: 4.32e+01 | : 100%|█| 30/30 [00:08<00:00,  3.38it\n"
     ]
    },
    {
     "name": "stdout",
     "output_type": "stream",
     "text": [
      "saving model version 0.1\n",
      "Testing width=[15, 5, 1], lamb=1.0, grid=7\n",
      "checkpoint directory created: ./model\n",
      "saving model version 0.0\n"
     ]
    },
    {
     "name": "stderr",
     "output_type": "stream",
     "text": [
      "| train_loss: 2.99e+00 | test_loss: 2.96e+00 | reg: 4.53e+00 | : 100%|█| 30/30 [00:09<00:00,  3.26it\n"
     ]
    },
    {
     "name": "stdout",
     "output_type": "stream",
     "text": [
      "saving model version 0.1\n",
      "Testing width=[15, 5, 1], lamb=0.1, grid=7\n",
      "checkpoint directory created: ./model\n",
      "saving model version 0.0\n"
     ]
    },
    {
     "name": "stderr",
     "output_type": "stream",
     "text": [
      "| train_loss: 2.95e-01 | test_loss: 3.46e-01 | reg: 9.50e+00 | : 100%|█| 30/30 [00:08<00:00,  3.34it\n"
     ]
    },
    {
     "name": "stdout",
     "output_type": "stream",
     "text": [
      "saving model version 0.1\n",
      "Testing width=[15, 5, 1], lamb=0.01, grid=7\n",
      "checkpoint directory created: ./model\n",
      "saving model version 0.0\n"
     ]
    },
    {
     "name": "stderr",
     "output_type": "stream",
     "text": [
      "| train_loss: 2.15e-01 | test_loss: 2.43e-01 | reg: 9.23e+00 | : 100%|█| 30/30 [00:07<00:00,  3.81it\n"
     ]
    },
    {
     "name": "stdout",
     "output_type": "stream",
     "text": [
      "saving model version 0.1\n",
      "Testing width=[15, 5, 1], lamb=0.001, grid=7\n",
      "checkpoint directory created: ./model\n",
      "saving model version 0.0\n"
     ]
    },
    {
     "name": "stderr",
     "output_type": "stream",
     "text": [
      "| train_loss: 1.28e-01 | test_loss: 2.06e-01 | reg: 1.87e+01 | : 100%|█| 30/30 [00:09<00:00,  3.31it\n"
     ]
    },
    {
     "name": "stdout",
     "output_type": "stream",
     "text": [
      "saving model version 0.1\n",
      "Testing width=[15, 5, 1], lamb=0.0001, grid=7\n",
      "checkpoint directory created: ./model\n",
      "saving model version 0.0\n"
     ]
    },
    {
     "name": "stderr",
     "output_type": "stream",
     "text": [
      "| train_loss: 9.60e-02 | test_loss: 2.52e-01 | reg: 3.76e+01 | : 100%|█| 30/30 [00:08<00:00,  3.35it\n"
     ]
    },
    {
     "name": "stdout",
     "output_type": "stream",
     "text": [
      "saving model version 0.1\n",
      "Testing width=[15, 5, 1], lamb=1e-05, grid=7\n",
      "checkpoint directory created: ./model\n",
      "saving model version 0.0\n"
     ]
    },
    {
     "name": "stderr",
     "output_type": "stream",
     "text": [
      "| train_loss: 1.31e-01 | test_loss: 2.28e-01 | reg: 4.53e+01 | : 100%|█| 30/30 [00:08<00:00,  3.36it\n"
     ]
    },
    {
     "name": "stdout",
     "output_type": "stream",
     "text": [
      "saving model version 0.1\n",
      "Testing width=[15, 6, 1], lamb=1.0, grid=3\n",
      "checkpoint directory created: ./model\n",
      "saving model version 0.0\n"
     ]
    },
    {
     "name": "stderr",
     "output_type": "stream",
     "text": [
      "| train_loss: 1.38e+00 | test_loss: 1.55e+00 | reg: 7.63e+00 | : 100%|█| 30/30 [00:08<00:00,  3.48it\n"
     ]
    },
    {
     "name": "stdout",
     "output_type": "stream",
     "text": [
      "saving model version 0.1\n",
      "Testing width=[15, 6, 1], lamb=0.1, grid=3\n",
      "checkpoint directory created: ./model\n",
      "saving model version 0.0\n"
     ]
    },
    {
     "name": "stderr",
     "output_type": "stream",
     "text": [
      "| train_loss: 2.89e-01 | test_loss: 3.18e-01 | reg: 8.39e+00 | : 100%|█| 30/30 [00:07<00:00,  3.92it\n"
     ]
    },
    {
     "name": "stdout",
     "output_type": "stream",
     "text": [
      "saving model version 0.1\n",
      "Testing width=[15, 6, 1], lamb=0.01, grid=3\n",
      "checkpoint directory created: ./model\n",
      "saving model version 0.0\n"
     ]
    },
    {
     "name": "stderr",
     "output_type": "stream",
     "text": [
      "| train_loss: 2.20e-01 | test_loss: 2.56e-01 | reg: 8.77e+00 | : 100%|█| 30/30 [00:07<00:00,  4.13it\n"
     ]
    },
    {
     "name": "stdout",
     "output_type": "stream",
     "text": [
      "saving model version 0.1\n",
      "Testing width=[15, 6, 1], lamb=0.001, grid=3\n",
      "checkpoint directory created: ./model\n",
      "saving model version 0.0\n"
     ]
    },
    {
     "name": "stderr",
     "output_type": "stream",
     "text": [
      "| train_loss: 1.61e-01 | test_loss: 2.12e-01 | reg: 1.75e+01 | : 100%|█| 30/30 [00:07<00:00,  4.07it\n"
     ]
    },
    {
     "name": "stdout",
     "output_type": "stream",
     "text": [
      "saving model version 0.1\n",
      "Testing width=[15, 6, 1], lamb=0.0001, grid=3\n",
      "checkpoint directory created: ./model\n",
      "saving model version 0.0\n"
     ]
    },
    {
     "name": "stderr",
     "output_type": "stream",
     "text": [
      "| train_loss: 1.45e-01 | test_loss: 2.20e-01 | reg: 3.86e+01 | : 100%|█| 30/30 [00:07<00:00,  3.99it\n"
     ]
    },
    {
     "name": "stdout",
     "output_type": "stream",
     "text": [
      "saving model version 0.1\n",
      "Testing width=[15, 6, 1], lamb=1e-05, grid=3\n",
      "checkpoint directory created: ./model\n",
      "saving model version 0.0\n"
     ]
    },
    {
     "name": "stderr",
     "output_type": "stream",
     "text": [
      "| train_loss: 1.49e-01 | test_loss: 2.25e-01 | reg: 6.01e+01 | : 100%|█| 30/30 [00:07<00:00,  4.14it\n"
     ]
    },
    {
     "name": "stdout",
     "output_type": "stream",
     "text": [
      "saving model version 0.1\n",
      "Testing width=[15, 6, 1], lamb=1.0, grid=4\n",
      "checkpoint directory created: ./model\n",
      "saving model version 0.0\n"
     ]
    },
    {
     "name": "stderr",
     "output_type": "stream",
     "text": [
      "| train_loss: 1.07e+00 | test_loss: 1.29e+00 | reg: 7.33e+00 | : 100%|█| 30/30 [00:07<00:00,  3.92it\n"
     ]
    },
    {
     "name": "stdout",
     "output_type": "stream",
     "text": [
      "saving model version 0.1\n",
      "Testing width=[15, 6, 1], lamb=0.1, grid=4\n",
      "checkpoint directory created: ./model\n",
      "saving model version 0.0\n"
     ]
    },
    {
     "name": "stderr",
     "output_type": "stream",
     "text": [
      "| train_loss: 2.62e-01 | test_loss: 2.93e-01 | reg: 8.33e+00 | : 100%|█| 30/30 [00:07<00:00,  3.82it\n"
     ]
    },
    {
     "name": "stdout",
     "output_type": "stream",
     "text": [
      "saving model version 0.1\n",
      "Testing width=[15, 6, 1], lamb=0.01, grid=4\n",
      "checkpoint directory created: ./model\n",
      "saving model version 0.0\n"
     ]
    },
    {
     "name": "stderr",
     "output_type": "stream",
     "text": [
      "| train_loss: 2.17e-01 | test_loss: 2.51e-01 | reg: 8.77e+00 | : 100%|█| 30/30 [00:07<00:00,  4.14it\n"
     ]
    },
    {
     "name": "stdout",
     "output_type": "stream",
     "text": [
      "saving model version 0.1\n",
      "Testing width=[15, 6, 1], lamb=0.001, grid=4\n",
      "checkpoint directory created: ./model\n",
      "saving model version 0.0\n"
     ]
    },
    {
     "name": "stderr",
     "output_type": "stream",
     "text": [
      "| train_loss: 1.60e-01 | test_loss: 2.14e-01 | reg: 1.55e+01 | : 100%|█| 30/30 [00:07<00:00,  3.90it\n"
     ]
    },
    {
     "name": "stdout",
     "output_type": "stream",
     "text": [
      "saving model version 0.1\n",
      "Testing width=[15, 6, 1], lamb=0.0001, grid=4\n",
      "checkpoint directory created: ./model\n",
      "saving model version 0.0\n"
     ]
    },
    {
     "name": "stderr",
     "output_type": "stream",
     "text": [
      "| train_loss: 1.42e-01 | test_loss: 2.16e-01 | reg: 4.06e+01 | : 100%|█| 30/30 [00:07<00:00,  4.03it\n"
     ]
    },
    {
     "name": "stdout",
     "output_type": "stream",
     "text": [
      "saving model version 0.1\n",
      "Testing width=[15, 6, 1], lamb=1e-05, grid=4\n",
      "checkpoint directory created: ./model\n",
      "saving model version 0.0\n"
     ]
    },
    {
     "name": "stderr",
     "output_type": "stream",
     "text": [
      "| train_loss: 1.41e-01 | test_loss: 2.30e-01 | reg: 4.88e+01 | : 100%|█| 30/30 [00:07<00:00,  3.95it\n"
     ]
    },
    {
     "name": "stdout",
     "output_type": "stream",
     "text": [
      "saving model version 0.1\n",
      "Testing width=[15, 6, 1], lamb=1.0, grid=5\n",
      "checkpoint directory created: ./model\n",
      "saving model version 0.0\n"
     ]
    },
    {
     "name": "stderr",
     "output_type": "stream",
     "text": [
      "| train_loss: 2.24e+00 | test_loss: 2.29e+00 | reg: 7.79e+00 | : 100%|█| 30/30 [00:08<00:00,  3.58it\n"
     ]
    },
    {
     "name": "stdout",
     "output_type": "stream",
     "text": [
      "saving model version 0.1\n",
      "Testing width=[15, 6, 1], lamb=0.1, grid=5\n",
      "checkpoint directory created: ./model\n",
      "saving model version 0.0\n"
     ]
    },
    {
     "name": "stderr",
     "output_type": "stream",
     "text": [
      "| train_loss: 2.80e-01 | test_loss: 3.19e-01 | reg: 9.08e+00 | : 100%|█| 30/30 [00:08<00:00,  3.53it\n"
     ]
    },
    {
     "name": "stdout",
     "output_type": "stream",
     "text": [
      "saving model version 0.1\n",
      "Testing width=[15, 6, 1], lamb=0.01, grid=5\n",
      "checkpoint directory created: ./model\n",
      "saving model version 0.0\n"
     ]
    },
    {
     "name": "stderr",
     "output_type": "stream",
     "text": [
      "| train_loss: 2.17e-01 | test_loss: 2.53e-01 | reg: 9.77e+00 | : 100%|█| 30/30 [00:07<00:00,  4.16it\n"
     ]
    },
    {
     "name": "stdout",
     "output_type": "stream",
     "text": [
      "saving model version 0.1\n",
      "Testing width=[15, 6, 1], lamb=0.001, grid=5\n",
      "checkpoint directory created: ./model\n",
      "saving model version 0.0\n"
     ]
    },
    {
     "name": "stderr",
     "output_type": "stream",
     "text": [
      "| train_loss: 1.35e-01 | test_loss: 2.68e-01 | reg: 2.74e+01 | : 100%|█| 30/30 [00:07<00:00,  3.99it\n"
     ]
    },
    {
     "name": "stdout",
     "output_type": "stream",
     "text": [
      "saving model version 0.1\n",
      "Testing width=[15, 6, 1], lamb=0.0001, grid=5\n",
      "checkpoint directory created: ./model\n",
      "saving model version 0.0\n"
     ]
    },
    {
     "name": "stderr",
     "output_type": "stream",
     "text": [
      "| train_loss: 1.42e-01 | test_loss: 2.10e-01 | reg: 6.16e+01 | : 100%|█| 30/30 [00:07<00:00,  3.83it\n"
     ]
    },
    {
     "name": "stdout",
     "output_type": "stream",
     "text": [
      "saving model version 0.1\n",
      "Testing width=[15, 6, 1], lamb=1e-05, grid=5\n",
      "checkpoint directory created: ./model\n",
      "saving model version 0.0\n"
     ]
    },
    {
     "name": "stderr",
     "output_type": "stream",
     "text": [
      "| train_loss: 1.54e-01 | test_loss: 2.28e-01 | reg: 5.63e+01 | : 100%|█| 30/30 [00:08<00:00,  3.73it\n"
     ]
    },
    {
     "name": "stdout",
     "output_type": "stream",
     "text": [
      "saving model version 0.1\n",
      "Testing width=[15, 6, 1], lamb=1.0, grid=6\n",
      "checkpoint directory created: ./model\n",
      "saving model version 0.0\n"
     ]
    },
    {
     "name": "stderr",
     "output_type": "stream",
     "text": [
      "| train_loss: 1.30e+00 | test_loss: 1.50e+00 | reg: 9.87e+00 | : 100%|█| 30/30 [00:08<00:00,  3.62it\n"
     ]
    },
    {
     "name": "stdout",
     "output_type": "stream",
     "text": [
      "saving model version 0.1\n",
      "Testing width=[15, 6, 1], lamb=0.1, grid=6\n",
      "checkpoint directory created: ./model\n",
      "saving model version 0.0\n"
     ]
    },
    {
     "name": "stderr",
     "output_type": "stream",
     "text": [
      "| train_loss: 2.58e-01 | test_loss: 2.93e-01 | reg: 8.40e+00 | : 100%|█| 30/30 [00:07<00:00,  4.00it\n"
     ]
    },
    {
     "name": "stdout",
     "output_type": "stream",
     "text": [
      "saving model version 0.1\n",
      "Testing width=[15, 6, 1], lamb=0.01, grid=6\n",
      "checkpoint directory created: ./model\n",
      "saving model version 0.0\n"
     ]
    },
    {
     "name": "stderr",
     "output_type": "stream",
     "text": [
      "| train_loss: 2.05e-01 | test_loss: 2.41e-01 | reg: 9.03e+00 | : 100%|█| 30/30 [00:07<00:00,  3.86it\n"
     ]
    },
    {
     "name": "stdout",
     "output_type": "stream",
     "text": [
      "saving model version 0.1\n",
      "Testing width=[15, 6, 1], lamb=0.001, grid=6\n",
      "checkpoint directory created: ./model\n",
      "saving model version 0.0\n"
     ]
    },
    {
     "name": "stderr",
     "output_type": "stream",
     "text": [
      "| train_loss: 1.10e-01 | test_loss: 2.54e-01 | reg: 2.16e+01 | : 100%|█| 30/30 [00:07<00:00,  4.03it\n"
     ]
    },
    {
     "name": "stdout",
     "output_type": "stream",
     "text": [
      "saving model version 0.1\n",
      "Testing width=[15, 6, 1], lamb=0.0001, grid=6\n",
      "checkpoint directory created: ./model\n",
      "saving model version 0.0\n"
     ]
    },
    {
     "name": "stderr",
     "output_type": "stream",
     "text": [
      "| train_loss: 1.08e-01 | test_loss: 2.60e-01 | reg: 4.32e+01 | : 100%|█| 30/30 [00:07<00:00,  3.92it\n"
     ]
    },
    {
     "name": "stdout",
     "output_type": "stream",
     "text": [
      "saving model version 0.1\n",
      "Testing width=[15, 6, 1], lamb=1e-05, grid=6\n",
      "checkpoint directory created: ./model\n",
      "saving model version 0.0\n"
     ]
    },
    {
     "name": "stderr",
     "output_type": "stream",
     "text": [
      "| train_loss: 1.06e-01 | test_loss: 2.49e-01 | reg: 4.48e+01 | : 100%|█| 30/30 [00:07<00:00,  4.01it\n"
     ]
    },
    {
     "name": "stdout",
     "output_type": "stream",
     "text": [
      "saving model version 0.1\n",
      "Testing width=[15, 6, 1], lamb=1.0, grid=7\n",
      "checkpoint directory created: ./model\n",
      "saving model version 0.0\n"
     ]
    },
    {
     "name": "stderr",
     "output_type": "stream",
     "text": [
      "| train_loss: 2.00e+00 | test_loss: 2.09e+00 | reg: 1.04e+01 | : 100%|█| 30/30 [00:08<00:00,  3.45it\n"
     ]
    },
    {
     "name": "stdout",
     "output_type": "stream",
     "text": [
      "saving model version 0.1\n",
      "Testing width=[15, 6, 1], lamb=0.1, grid=7\n",
      "checkpoint directory created: ./model\n",
      "saving model version 0.0\n"
     ]
    },
    {
     "name": "stderr",
     "output_type": "stream",
     "text": [
      "| train_loss: 2.73e-01 | test_loss: 3.25e-01 | reg: 8.70e+00 | : 100%|█| 30/30 [00:07<00:00,  3.95it\n"
     ]
    },
    {
     "name": "stdout",
     "output_type": "stream",
     "text": [
      "saving model version 0.1\n",
      "Testing width=[15, 6, 1], lamb=0.01, grid=7\n",
      "checkpoint directory created: ./model\n",
      "saving model version 0.0\n"
     ]
    },
    {
     "name": "stderr",
     "output_type": "stream",
     "text": [
      "| train_loss: 2.01e-01 | test_loss: 2.30e-01 | reg: 9.02e+00 | : 100%|█| 30/30 [00:07<00:00,  3.98it\n"
     ]
    },
    {
     "name": "stdout",
     "output_type": "stream",
     "text": [
      "saving model version 0.1\n",
      "Testing width=[15, 6, 1], lamb=0.001, grid=7\n",
      "checkpoint directory created: ./model\n",
      "saving model version 0.0\n"
     ]
    },
    {
     "name": "stderr",
     "output_type": "stream",
     "text": [
      "| train_loss: 1.11e-01 | test_loss: 2.36e-01 | reg: 2.02e+01 | : 100%|█| 30/30 [00:07<00:00,  4.20it\n"
     ]
    },
    {
     "name": "stdout",
     "output_type": "stream",
     "text": [
      "saving model version 0.1\n",
      "Testing width=[15, 6, 1], lamb=0.0001, grid=7\n",
      "checkpoint directory created: ./model\n",
      "saving model version 0.0\n"
     ]
    },
    {
     "name": "stderr",
     "output_type": "stream",
     "text": [
      "| train_loss: 9.70e-02 | test_loss: 2.55e-01 | reg: 4.36e+01 | : 100%|█| 30/30 [00:07<00:00,  4.22it\n"
     ]
    },
    {
     "name": "stdout",
     "output_type": "stream",
     "text": [
      "saving model version 0.1\n",
      "Testing width=[15, 6, 1], lamb=1e-05, grid=7\n",
      "checkpoint directory created: ./model\n",
      "saving model version 0.0\n"
     ]
    },
    {
     "name": "stderr",
     "output_type": "stream",
     "text": [
      "| train_loss: 9.23e-02 | test_loss: 2.33e-01 | reg: 4.87e+01 | : 100%|█| 30/30 [00:07<00:00,  4.19it\n"
     ]
    },
    {
     "name": "stdout",
     "output_type": "stream",
     "text": [
      "saving model version 0.1\n",
      "Testing width=[15, 7, 1], lamb=1.0, grid=3\n",
      "checkpoint directory created: ./model\n",
      "saving model version 0.0\n"
     ]
    },
    {
     "name": "stderr",
     "output_type": "stream",
     "text": [
      "| train_loss: 1.22e+00 | test_loss: 1.36e+00 | reg: 1.05e+01 | : 100%|█| 30/30 [00:07<00:00,  3.87it\n"
     ]
    },
    {
     "name": "stdout",
     "output_type": "stream",
     "text": [
      "saving model version 0.1\n",
      "Testing width=[15, 7, 1], lamb=0.1, grid=3\n",
      "checkpoint directory created: ./model\n",
      "saving model version 0.0\n"
     ]
    },
    {
     "name": "stderr",
     "output_type": "stream",
     "text": [
      "| train_loss: 2.83e-01 | test_loss: 3.11e-01 | reg: 8.26e+00 | : 100%|█| 30/30 [00:07<00:00,  3.90it\n"
     ]
    },
    {
     "name": "stdout",
     "output_type": "stream",
     "text": [
      "saving model version 0.1\n",
      "Testing width=[15, 7, 1], lamb=0.01, grid=3\n",
      "checkpoint directory created: ./model\n",
      "saving model version 0.0\n"
     ]
    },
    {
     "name": "stderr",
     "output_type": "stream",
     "text": [
      "| train_loss: 2.17e-01 | test_loss: 2.53e-01 | reg: 8.78e+00 | : 100%|█| 30/30 [00:07<00:00,  4.00it\n"
     ]
    },
    {
     "name": "stdout",
     "output_type": "stream",
     "text": [
      "saving model version 0.1\n",
      "Testing width=[15, 7, 1], lamb=0.001, grid=3\n",
      "checkpoint directory created: ./model\n",
      "saving model version 0.0\n"
     ]
    },
    {
     "name": "stderr",
     "output_type": "stream",
     "text": [
      "| train_loss: 1.62e-01 | test_loss: 2.74e-01 | reg: 1.93e+01 | : 100%|█| 30/30 [00:06<00:00,  4.43it\n"
     ]
    },
    {
     "name": "stdout",
     "output_type": "stream",
     "text": [
      "saving model version 0.1\n",
      "Testing width=[15, 7, 1], lamb=0.0001, grid=3\n",
      "checkpoint directory created: ./model\n",
      "saving model version 0.0\n"
     ]
    },
    {
     "name": "stderr",
     "output_type": "stream",
     "text": [
      "| train_loss: 1.41e-01 | test_loss: 2.25e-01 | reg: 3.52e+01 | : 100%|█| 30/30 [00:07<00:00,  4.15it\n"
     ]
    },
    {
     "name": "stdout",
     "output_type": "stream",
     "text": [
      "saving model version 0.1\n",
      "Testing width=[15, 7, 1], lamb=1e-05, grid=3\n",
      "checkpoint directory created: ./model\n",
      "saving model version 0.0\n"
     ]
    },
    {
     "name": "stderr",
     "output_type": "stream",
     "text": [
      "| train_loss: 1.35e-01 | test_loss: 3.21e-01 | reg: 4.79e+01 | : 100%|█| 30/30 [00:07<00:00,  3.93it\n"
     ]
    },
    {
     "name": "stdout",
     "output_type": "stream",
     "text": [
      "saving model version 0.1\n",
      "Testing width=[15, 7, 1], lamb=1.0, grid=4\n",
      "checkpoint directory created: ./model\n",
      "saving model version 0.0\n"
     ]
    },
    {
     "name": "stderr",
     "output_type": "stream",
     "text": [
      "| train_loss: 2.18e+00 | test_loss: 2.16e+00 | reg: 6.41e+00 | : 100%|█| 30/30 [00:07<00:00,  3.76it\n"
     ]
    },
    {
     "name": "stdout",
     "output_type": "stream",
     "text": [
      "saving model version 0.1\n",
      "Testing width=[15, 7, 1], lamb=0.1, grid=4\n",
      "checkpoint directory created: ./model\n",
      "saving model version 0.0\n"
     ]
    },
    {
     "name": "stderr",
     "output_type": "stream",
     "text": [
      "| train_loss: 3.69e-01 | test_loss: 4.37e-01 | reg: 1.43e+01 | : 100%|█| 30/30 [00:07<00:00,  4.11it\n"
     ]
    },
    {
     "name": "stdout",
     "output_type": "stream",
     "text": [
      "saving model version 0.1\n",
      "Testing width=[15, 7, 1], lamb=0.01, grid=4\n",
      "checkpoint directory created: ./model\n",
      "saving model version 0.0\n"
     ]
    },
    {
     "name": "stderr",
     "output_type": "stream",
     "text": [
      "| train_loss: 2.05e-01 | test_loss: 2.35e-01 | reg: 1.73e+01 | : 100%|█| 30/30 [00:07<00:00,  3.81it\n"
     ]
    },
    {
     "name": "stdout",
     "output_type": "stream",
     "text": [
      "saving model version 0.1\n",
      "Testing width=[15, 7, 1], lamb=0.001, grid=4\n",
      "checkpoint directory created: ./model\n",
      "saving model version 0.0\n"
     ]
    },
    {
     "name": "stderr",
     "output_type": "stream",
     "text": [
      "| train_loss: 1.50e-01 | test_loss: 1.91e-01 | reg: 4.91e+01 | : 100%|█| 30/30 [00:08<00:00,  3.45it\n"
     ]
    },
    {
     "name": "stdout",
     "output_type": "stream",
     "text": [
      "saving model version 0.1\n",
      "Testing width=[15, 7, 1], lamb=0.0001, grid=4\n",
      "checkpoint directory created: ./model\n",
      "saving model version 0.0\n"
     ]
    },
    {
     "name": "stderr",
     "output_type": "stream",
     "text": [
      "| train_loss: 1.47e-01 | test_loss: 2.07e-01 | reg: 5.72e+01 | : 100%|█| 30/30 [00:09<00:00,  3.27it\n"
     ]
    },
    {
     "name": "stdout",
     "output_type": "stream",
     "text": [
      "saving model version 0.1\n",
      "Testing width=[15, 7, 1], lamb=1e-05, grid=4\n",
      "checkpoint directory created: ./model\n",
      "saving model version 0.0\n"
     ]
    },
    {
     "name": "stderr",
     "output_type": "stream",
     "text": [
      "| train_loss: 1.47e-01 | test_loss: 1.89e-01 | reg: 5.86e+01 | : 100%|█| 30/30 [00:08<00:00,  3.57it\n"
     ]
    },
    {
     "name": "stdout",
     "output_type": "stream",
     "text": [
      "saving model version 0.1\n",
      "Testing width=[15, 7, 1], lamb=1.0, grid=5\n",
      "checkpoint directory created: ./model\n",
      "saving model version 0.0\n"
     ]
    },
    {
     "name": "stderr",
     "output_type": "stream",
     "text": [
      "| train_loss: 1.24e+00 | test_loss: 1.35e+00 | reg: 8.02e+00 | : 100%|█| 30/30 [00:08<00:00,  3.63it\n"
     ]
    },
    {
     "name": "stdout",
     "output_type": "stream",
     "text": [
      "saving model version 0.1\n",
      "Testing width=[15, 7, 1], lamb=0.1, grid=5\n",
      "checkpoint directory created: ./model\n",
      "saving model version 0.0\n"
     ]
    },
    {
     "name": "stderr",
     "output_type": "stream",
     "text": [
      "| train_loss: 3.48e-01 | test_loss: 4.06e-01 | reg: 1.30e+01 | : 100%|█| 30/30 [00:09<00:00,  3.20it\n"
     ]
    },
    {
     "name": "stdout",
     "output_type": "stream",
     "text": [
      "saving model version 0.1\n",
      "Testing width=[15, 7, 1], lamb=0.01, grid=5\n",
      "checkpoint directory created: ./model\n",
      "saving model version 0.0\n"
     ]
    },
    {
     "name": "stderr",
     "output_type": "stream",
     "text": [
      "| train_loss: 1.87e-01 | test_loss: 2.55e-01 | reg: 1.76e+01 | : 100%|█| 30/30 [00:07<00:00,  3.89it\n"
     ]
    },
    {
     "name": "stdout",
     "output_type": "stream",
     "text": [
      "saving model version 0.1\n",
      "Testing width=[15, 7, 1], lamb=0.001, grid=5\n",
      "checkpoint directory created: ./model\n",
      "saving model version 0.0\n"
     ]
    },
    {
     "name": "stderr",
     "output_type": "stream",
     "text": [
      "| train_loss: 1.46e-01 | test_loss: 2.61e-01 | reg: 4.50e+01 | : 100%|█| 30/30 [00:08<00:00,  3.65it\n"
     ]
    },
    {
     "name": "stdout",
     "output_type": "stream",
     "text": [
      "saving model version 0.1\n",
      "Testing width=[15, 7, 1], lamb=0.0001, grid=5\n",
      "checkpoint directory created: ./model\n",
      "saving model version 0.0\n"
     ]
    },
    {
     "name": "stderr",
     "output_type": "stream",
     "text": [
      "| train_loss: 1.58e-01 | test_loss: 3.11e-01 | reg: 6.01e+01 | : 100%|█| 30/30 [00:07<00:00,  3.81it\n"
     ]
    },
    {
     "name": "stdout",
     "output_type": "stream",
     "text": [
      "saving model version 0.1\n",
      "Testing width=[15, 7, 1], lamb=1e-05, grid=5\n",
      "checkpoint directory created: ./model\n",
      "saving model version 0.0\n"
     ]
    },
    {
     "name": "stderr",
     "output_type": "stream",
     "text": [
      "| train_loss: 1.39e-01 | test_loss: 2.09e-01 | reg: 5.85e+01 | : 100%|█| 30/30 [00:07<00:00,  3.83it\n"
     ]
    },
    {
     "name": "stdout",
     "output_type": "stream",
     "text": [
      "saving model version 0.1\n",
      "Testing width=[15, 7, 1], lamb=1.0, grid=6\n",
      "checkpoint directory created: ./model\n",
      "saving model version 0.0\n"
     ]
    },
    {
     "name": "stderr",
     "output_type": "stream",
     "text": [
      "| train_loss: 1.66e+00 | test_loss: 1.72e+00 | reg: 1.22e+01 | : 100%|█| 30/30 [00:07<00:00,  3.89it\n"
     ]
    },
    {
     "name": "stdout",
     "output_type": "stream",
     "text": [
      "saving model version 0.1\n",
      "Testing width=[15, 7, 1], lamb=0.1, grid=6\n",
      "checkpoint directory created: ./model\n",
      "saving model version 0.0\n"
     ]
    },
    {
     "name": "stderr",
     "output_type": "stream",
     "text": [
      "| train_loss: 2.50e-01 | test_loss: 2.91e-01 | reg: 1.18e+01 | : 100%|█| 30/30 [00:07<00:00,  4.14it\n"
     ]
    },
    {
     "name": "stdout",
     "output_type": "stream",
     "text": [
      "saving model version 0.1\n",
      "Testing width=[15, 7, 1], lamb=0.01, grid=6\n",
      "checkpoint directory created: ./model\n",
      "saving model version 0.0\n"
     ]
    },
    {
     "name": "stderr",
     "output_type": "stream",
     "text": [
      "| train_loss: 1.98e-01 | test_loss: 2.48e-01 | reg: 1.01e+01 | : 100%|█| 30/30 [00:07<00:00,  4.06it\n"
     ]
    },
    {
     "name": "stdout",
     "output_type": "stream",
     "text": [
      "saving model version 0.1\n",
      "Testing width=[15, 7, 1], lamb=0.001, grid=6\n",
      "checkpoint directory created: ./model\n",
      "saving model version 0.0\n"
     ]
    },
    {
     "name": "stderr",
     "output_type": "stream",
     "text": [
      "| train_loss: 1.15e-01 | test_loss: 2.61e-01 | reg: 2.33e+01 | : 100%|█| 30/30 [00:07<00:00,  4.08it\n"
     ]
    },
    {
     "name": "stdout",
     "output_type": "stream",
     "text": [
      "saving model version 0.1\n",
      "Testing width=[15, 7, 1], lamb=0.0001, grid=6\n",
      "checkpoint directory created: ./model\n",
      "saving model version 0.0\n"
     ]
    },
    {
     "name": "stderr",
     "output_type": "stream",
     "text": [
      "| train_loss: 9.17e-02 | test_loss: 2.15e-01 | reg: 5.06e+01 | : 100%|█| 30/30 [00:07<00:00,  4.13it\n"
     ]
    },
    {
     "name": "stdout",
     "output_type": "stream",
     "text": [
      "saving model version 0.1\n",
      "Testing width=[15, 7, 1], lamb=1e-05, grid=6\n",
      "checkpoint directory created: ./model\n",
      "saving model version 0.0\n"
     ]
    },
    {
     "name": "stderr",
     "output_type": "stream",
     "text": [
      "| train_loss: 1.05e-01 | test_loss: 2.30e-01 | reg: 5.30e+01 | : 100%|█| 30/30 [00:07<00:00,  4.00it\n"
     ]
    },
    {
     "name": "stdout",
     "output_type": "stream",
     "text": [
      "saving model version 0.1\n",
      "Testing width=[15, 7, 1], lamb=1.0, grid=7\n",
      "checkpoint directory created: ./model\n",
      "saving model version 0.0\n"
     ]
    },
    {
     "name": "stderr",
     "output_type": "stream",
     "text": [
      "| train_loss: 8.20e-01 | test_loss: 8.91e-01 | reg: 7.86e+00 | : 100%|█| 30/30 [00:07<00:00,  4.03it\n"
     ]
    },
    {
     "name": "stdout",
     "output_type": "stream",
     "text": [
      "saving model version 0.1\n",
      "Testing width=[15, 7, 1], lamb=0.1, grid=7\n",
      "checkpoint directory created: ./model\n",
      "saving model version 0.0\n"
     ]
    },
    {
     "name": "stderr",
     "output_type": "stream",
     "text": [
      "| train_loss: 2.46e-01 | test_loss: 2.82e-01 | reg: 8.19e+00 | : 100%|█| 30/30 [00:07<00:00,  4.25it\n"
     ]
    },
    {
     "name": "stdout",
     "output_type": "stream",
     "text": [
      "saving model version 0.1\n",
      "Testing width=[15, 7, 1], lamb=0.01, grid=7\n",
      "checkpoint directory created: ./model\n",
      "saving model version 0.0\n"
     ]
    },
    {
     "name": "stderr",
     "output_type": "stream",
     "text": [
      "| train_loss: 2.00e-01 | test_loss: 2.31e-01 | reg: 8.72e+00 | : 100%|█| 30/30 [00:06<00:00,  4.31it\n"
     ]
    },
    {
     "name": "stdout",
     "output_type": "stream",
     "text": [
      "saving model version 0.1\n",
      "Testing width=[15, 7, 1], lamb=0.001, grid=7\n",
      "checkpoint directory created: ./model\n",
      "saving model version 0.0\n"
     ]
    },
    {
     "name": "stderr",
     "output_type": "stream",
     "text": [
      "| train_loss: 9.44e-02 | test_loss: 2.53e-01 | reg: 2.26e+01 | : 100%|█| 30/30 [00:07<00:00,  4.12it\n"
     ]
    },
    {
     "name": "stdout",
     "output_type": "stream",
     "text": [
      "saving model version 0.1\n",
      "Testing width=[15, 7, 1], lamb=0.0001, grid=7\n",
      "checkpoint directory created: ./model\n",
      "saving model version 0.0\n"
     ]
    },
    {
     "name": "stderr",
     "output_type": "stream",
     "text": [
      "| train_loss: 8.36e-02 | test_loss: 2.87e-01 | reg: 5.63e+01 | : 100%|█| 30/30 [00:08<00:00,  3.53it\n"
     ]
    },
    {
     "name": "stdout",
     "output_type": "stream",
     "text": [
      "saving model version 0.1\n",
      "Testing width=[15, 7, 1], lamb=1e-05, grid=7\n",
      "checkpoint directory created: ./model\n",
      "saving model version 0.0\n"
     ]
    },
    {
     "name": "stderr",
     "output_type": "stream",
     "text": [
      "| train_loss: 8.70e-02 | test_loss: 2.64e-01 | reg: 5.95e+01 | : 100%|█| 30/30 [00:07<00:00,  3.78it\n"
     ]
    },
    {
     "name": "stdout",
     "output_type": "stream",
     "text": [
      "saving model version 0.1\n",
      "\n",
      "✅ Top 3 Configurations:\n",
      "1. width=[15, 6, 1], grid=3, lamb=0.0001 | loss=0.16930\n",
      "2. width=[15, 4, 1], grid=5, lamb=0.0001 | loss=0.17080\n",
      "3. width=[15, 2, 1], grid=6, lamb=0.001 | loss=0.17413\n"
     ]
    },
    {
     "data": {
      "text/plain": [
       "[{'loss': 0.1692967265844345,\n",
       "  'config': {'hidden': 6, 'grid': 3, 'lamb': 0.0001},\n",
       "  'state_dict': OrderedDict([('node_bias_0',\n",
       "                tensor([0., 0., 0., 0., 0., 0.], device='cuda:0')),\n",
       "               ('node_scale_0',\n",
       "                tensor([1., 1., 1., 1., 1., 1.], device='cuda:0')),\n",
       "               ('subnode_bias_0',\n",
       "                tensor([0., 0., 0., 0., 0., 0.], device='cuda:0')),\n",
       "               ('subnode_scale_0',\n",
       "                tensor([1., 1., 1., 1., 1., 1.], device='cuda:0')),\n",
       "               ('node_bias_1', tensor([0.], device='cuda:0')),\n",
       "               ('node_scale_1', tensor([1.], device='cuda:0')),\n",
       "               ('subnode_bias_1', tensor([0.], device='cuda:0')),\n",
       "               ('subnode_scale_1', tensor([1.], device='cuda:0')),\n",
       "               ('act_fun.0.grid',\n",
       "                tensor([[-1.0000, -0.6667, -0.3333,  0.0000,  0.1743,  0.3036,  1.0000,  1.3333,\n",
       "                          1.6667,  2.0000],\n",
       "                        [-1.0000, -0.6667, -0.3333,  0.0000,  0.1905,  0.3657,  1.0000,  1.3333,\n",
       "                          1.6667,  2.0000],\n",
       "                        [-1.0000, -0.6667, -0.3333,  0.0000,  0.1560,  0.3392,  1.0000,  1.3333,\n",
       "                          1.6667,  2.0000],\n",
       "                        [-1.0000, -0.6667, -0.3333,  0.0000,  0.1807,  0.3593,  1.0000,  1.3333,\n",
       "                          1.6667,  2.0000],\n",
       "                        [-1.0000, -0.6667, -0.3333,  0.0000,  0.1795,  0.3556,  1.0000,  1.3333,\n",
       "                          1.6667,  2.0000],\n",
       "                        [-1.0000, -0.6667, -0.3333,  0.0000,  0.1872,  0.3703,  1.0000,  1.3333,\n",
       "                          1.6667,  2.0000],\n",
       "                        [-1.0000, -0.6667, -0.3333,  0.0000,  0.2066,  0.3836,  1.0000,  1.3333,\n",
       "                          1.6667,  2.0000],\n",
       "                        [-1.0000, -0.6667, -0.3333,  0.0000,  0.2544,  0.5083,  1.0000,  1.3333,\n",
       "                          1.6667,  2.0000],\n",
       "                        [-1.0000, -0.6667, -0.3333,  0.0000,  0.1737,  0.4601,  1.0000,  1.3333,\n",
       "                          1.6667,  2.0000],\n",
       "                        [-1.0000, -0.6667, -0.3333,  0.0000,  0.2671,  0.6304,  1.0000,  1.3333,\n",
       "                          1.6667,  2.0000],\n",
       "                        [-1.0000, -0.6667, -0.3333,  0.0000,  0.1605,  0.3216,  1.0000,  1.3333,\n",
       "                          1.6667,  2.0000],\n",
       "                        [-1.0000, -0.6667, -0.3333,  0.0000,  0.4093,  0.8551,  1.0000,  1.3333,\n",
       "                          1.6667,  2.0000],\n",
       "                        [-1.0000, -0.6667, -0.3333,  0.0000,  0.4565,  0.6626,  1.0000,  1.3333,\n",
       "                          1.6667,  2.0000],\n",
       "                        [-1.0000, -0.6667, -0.3333,  0.0000,  0.2605,  0.4724,  1.0000,  1.3333,\n",
       "                          1.6667,  2.0000],\n",
       "                        [-1.0000, -0.6667, -0.3333,  0.0000,  0.4355,  0.6028,  1.0000,  1.3333,\n",
       "                          1.6667,  2.0000]], device='cuda:0')),\n",
       "               ('act_fun.0.coef',\n",
       "                tensor([[[ 2.2879e-02, -3.6046e-02, -4.0872e-01, -1.5259e-01,  6.4548e-02,\n",
       "                           1.9562e-02],\n",
       "                         [-1.1522e-02,  1.0523e-01, -6.3952e-01, -1.4029e-01,  3.4005e-01,\n",
       "                           1.5744e-02],\n",
       "                         [-1.4514e-02, -3.7965e-01,  3.9603e-01,  2.4954e-01, -1.0197e-01,\n",
       "                          -2.9860e-02],\n",
       "                         [-9.8065e-04, -5.4422e-02, -2.9937e-01,  1.0697e-01,  7.4507e-02,\n",
       "                           1.3530e-02],\n",
       "                         [ 2.4570e-02, -1.2947e-01,  1.9368e-01,  4.5781e-01, -5.6351e-01,\n",
       "                          -9.0093e-02],\n",
       "                         [ 1.4581e-01,  7.4906e-01,  4.6528e-01,  4.5777e-01, -5.7857e-01,\n",
       "                           3.0066e-02]],\n",
       "                \n",
       "                        [[ 3.6433e-02, -8.5072e-02, -3.1911e-01, -9.6072e-02,  5.0824e-03,\n",
       "                           2.7697e-02],\n",
       "                         [-6.3539e-02, -2.4354e-01, -2.4645e-01,  5.7663e-01, -1.7272e-01,\n",
       "                          -1.5563e-01],\n",
       "                         [-3.0518e-02,  1.0772e-01,  2.6738e-02,  2.4069e-01, -1.5728e-01,\n",
       "                          -4.7790e-02],\n",
       "                         [ 1.0439e-02, -7.1405e-02, -2.0860e-01, -4.4155e-02,  6.5956e-03,\n",
       "                           2.7064e-02],\n",
       "                         [ 2.9518e-02,  8.7764e-02,  3.8944e-02, -1.9804e-01,  2.7656e-01,\n",
       "                          -3.1149e-01],\n",
       "                         [-1.2599e-01, -4.4018e-01, -3.4940e-02,  1.2521e+00,  2.8929e-01,\n",
       "                           1.1464e-01]],\n",
       "                \n",
       "                        [[-4.3359e-02, -1.6211e-01, -3.6557e-01, -1.1501e-01, -2.6209e-02,\n",
       "                          -2.1956e-02],\n",
       "                         [-3.6737e-02, -1.7120e-01, -3.4907e-01,  1.1497e-01,  4.0704e-02,\n",
       "                           1.6040e-02],\n",
       "                         [-1.4522e-02,  3.1779e-01, -1.9915e-02, -3.1774e-01,  1.8008e-01,\n",
       "                          -7.3581e-02],\n",
       "                         [ 5.3858e-02,  6.0620e-02, -5.2654e-01,  6.7614e-02,  1.5197e-01,\n",
       "                          -6.1708e-02],\n",
       "                         [-4.1966e-02, -1.6009e-01,  2.6437e-01, -3.1875e-01,  2.1336e-01,\n",
       "                           1.1316e-02],\n",
       "                         [-7.6513e-02, -5.6946e-02, -8.1536e-02,  4.4470e-01,  7.0146e-01,\n",
       "                          -2.2333e-01]],\n",
       "                \n",
       "                        [[ 3.2411e-02, -6.8601e-02, -3.3841e-01, -1.4921e-01, -5.7327e-02,\n",
       "                          -2.6283e-02],\n",
       "                         [-4.1389e-02, -1.5083e-01, -4.7533e-01, -6.0276e-01,  1.0497e+00,\n",
       "                          -3.8791e-01],\n",
       "                         [ 2.9079e-02,  9.2694e-02,  1.7747e-01,  3.4349e-01, -1.1257e-01,\n",
       "                          -2.9685e-02],\n",
       "                         [ 3.8693e-02, -6.5779e-02, -2.7867e-01, -5.5670e-02,  8.3577e-02,\n",
       "                           4.4755e-02],\n",
       "                         [ 6.7026e-02,  8.7956e-02, -4.4906e-02, -1.7205e-01, -1.9970e-01,\n",
       "                           1.2622e-01],\n",
       "                         [-2.0976e-01,  6.8487e-01,  6.3642e-01,  3.8981e-01,  4.7391e-02,\n",
       "                          -3.2929e-01]],\n",
       "                \n",
       "                        [[ 4.4341e-03, -5.6403e-02, -3.0891e-01, -1.2618e-01, -1.2617e-02,\n",
       "                           2.6869e-02],\n",
       "                         [-2.5359e-02, -8.1446e-02, -2.5019e-01, -1.5682e-01,  9.3705e-02,\n",
       "                           3.5900e-02],\n",
       "                         [-2.0596e-03,  8.0956e-03,  1.5200e-01,  3.8216e-01, -1.3538e-01,\n",
       "                           4.2489e-02],\n",
       "                         [ 1.3938e-02, -8.7953e-02, -1.5355e-01, -8.3763e-02, -3.6720e-02,\n",
       "                           2.2520e-02],\n",
       "                         [ 1.6789e-02,  2.5585e-02, -1.3980e-01, -7.8661e-02,  1.8349e-01,\n",
       "                          -1.9326e-01],\n",
       "                         [-9.6594e-02,  6.3203e-01,  4.0194e-01, -3.6410e-01, -4.1709e-02,\n",
       "                           4.6515e-01]],\n",
       "                \n",
       "                        [[-4.4760e-02, -1.3837e-01, -3.8946e-01, -1.6375e-01,  1.2074e-02,\n",
       "                           4.2554e-02],\n",
       "                         [ 3.0164e-02, -1.1264e-01, -1.1473e-01,  2.2025e-01, -4.0896e-01,\n",
       "                           6.0349e-02],\n",
       "                         [-3.9282e-02,  1.5119e-01, -1.0190e-01,  1.5807e-01,  5.1566e-02,\n",
       "                           3.0079e-02],\n",
       "                         [ 2.1372e-02,  2.0917e-04, -2.2326e-01, -1.6404e-02,  5.8351e-03,\n",
       "                           8.8670e-03],\n",
       "                         [ 3.8483e-02, -6.2341e-02,  9.9582e-02,  3.9148e-02,  3.1977e-01,\n",
       "                          -3.5002e-01],\n",
       "                         [-8.1853e-03,  2.0853e-01,  3.1203e-01,  3.8354e-01,  1.3286e-01,\n",
       "                          -3.0571e-03]],\n",
       "                \n",
       "                        [[-2.9770e-02, -8.1009e-02, -2.9340e-01, -1.4005e-01, -9.1845e-02,\n",
       "                          -2.6543e-02],\n",
       "                         [ 1.8765e-02, -1.1543e-01,  9.6423e-02,  4.4131e-01, -7.9973e-01,\n",
       "                          -2.7754e-02],\n",
       "                         [ 2.2020e-02,  6.7700e-02, -1.6227e-02,  8.0053e-02,  1.2243e-01,\n",
       "                           7.0777e-02],\n",
       "                         [ 8.3307e-03,  5.5572e-02, -2.0813e-01,  1.2052e-02, -8.2445e-02,\n",
       "                          -7.2033e-02],\n",
       "                         [-2.0344e-02, -2.2755e-01,  5.3053e-02,  8.9475e-02,  3.4010e-01,\n",
       "                          -3.9240e-01],\n",
       "                         [-1.2841e-01,  3.2063e-01,  5.3460e-02, -1.4998e-01,  7.5097e-01,\n",
       "                           1.7761e-02]],\n",
       "                \n",
       "                        [[-5.5955e-02, -2.5992e-01, -2.8817e-01, -6.6390e-02,  4.1026e-02,\n",
       "                           3.9384e-02],\n",
       "                         [-1.2243e-02, -5.1736e-02, -6.7221e-02, -2.4094e-01,  2.4755e-02,\n",
       "                           4.6796e-02],\n",
       "                         [ 1.9259e-02,  1.2594e-01, -6.1901e-02,  2.1110e-01,  9.1255e-02,\n",
       "                          -3.3602e-02],\n",
       "                         [-2.1555e-02, -1.0111e-01, -2.6012e-02, -1.0571e-01,  1.6938e-02,\n",
       "                          -2.2217e-02],\n",
       "                         [ 6.2037e-02,  2.2236e-02, -1.0012e-01,  4.8558e-02, -2.9725e-02,\n",
       "                          -2.9344e-02],\n",
       "                         [-3.8570e-02,  8.9555e-01,  3.4871e-02, -3.0202e-01, -2.3814e-01,\n",
       "                           6.2867e-01]],\n",
       "                \n",
       "                        [[-4.0584e-02, -3.0779e-01, -3.6613e-01, -5.7659e-02,  1.1019e-02,\n",
       "                           1.1882e-03],\n",
       "                         [-4.7534e-02, -1.0533e-01, -5.6936e-02, -1.7264e-01, -1.2473e-02,\n",
       "                           2.2864e-02],\n",
       "                         [ 3.2335e-02,  1.8891e-01,  8.5432e-02,  1.1929e-01, -3.2382e-02,\n",
       "                          -1.0570e-01],\n",
       "                         [ 1.2300e-02, -9.2016e-02, -1.2159e-01, -4.7226e-02,  7.6205e-02,\n",
       "                           8.8181e-03],\n",
       "                         [ 4.6333e-02,  1.1018e-01, -3.0830e-02,  4.3711e-03, -1.1187e-02,\n",
       "                           1.4453e-02],\n",
       "                         [-1.7119e-01, -1.5450e-01,  5.9107e-01,  8.1505e-01, -3.0956e-01,\n",
       "                           2.6405e-01]],\n",
       "                \n",
       "                        [[-4.8481e-03, -2.7960e-01, -2.7729e-01, -1.7702e-03,  4.3709e-02,\n",
       "                           1.2634e-02],\n",
       "                         [-7.0790e-03, -7.8443e-01,  4.3375e-01, -1.0748e-01, -5.8182e-02,\n",
       "                           2.9327e-03],\n",
       "                         [ 9.6459e-02,  4.2773e-01, -3.4557e-01,  6.6430e-03,  1.0101e-01,\n",
       "                          -1.1360e-02],\n",
       "                         [-3.0936e-02, -1.3622e-01, -2.4775e-01,  7.6457e-02,  1.5210e-01,\n",
       "                           9.2564e-03],\n",
       "                         [ 1.8621e-03, -9.5289e-02, -8.9070e-02,  8.7586e-02, -8.8045e-02,\n",
       "                           4.3105e-02],\n",
       "                         [-4.9124e-01,  8.8288e-01,  6.3937e-01, -3.3581e-02,  1.6550e-01,\n",
       "                           2.6602e-02]],\n",
       "                \n",
       "                        [[ 2.3880e-02, -8.3197e-02, -3.3814e-01, -1.2259e-01, -4.1455e-02,\n",
       "                          -1.9994e-02],\n",
       "                         [-4.6564e-02, -3.2287e-01, -4.3660e-01, -3.9752e-01,  1.3611e+00,\n",
       "                          -7.3439e-01],\n",
       "                         [ 1.8862e-02,  1.4044e-01,  3.1320e-01, -1.5908e-01,  1.9169e-02,\n",
       "                           1.7908e-02],\n",
       "                         [ 3.4871e-02, -3.3859e-02, -3.6658e-01, -7.3440e-02,  7.2346e-02,\n",
       "                          -9.4388e-04],\n",
       "                         [-1.4329e-02,  1.4983e-01, -2.5864e-02, -2.7286e-01,  1.0407e-01,\n",
       "                          -1.1582e-01],\n",
       "                         [ 4.1710e-02, -1.2228e-01,  2.9259e-01, -5.9516e-01,  6.8532e-01,\n",
       "                           2.9531e-01]],\n",
       "                \n",
       "                        [[-9.1501e-03, -2.3212e-01, -2.0146e-01, -1.0779e-01, -6.1403e-02,\n",
       "                          -3.7521e-02],\n",
       "                         [ 2.6063e-02,  6.0846e-04, -2.4421e-02, -2.3091e-01, -1.3545e-01,\n",
       "                           4.8373e-03],\n",
       "                         [ 6.4138e-02,  1.0574e-01,  8.0313e-03,  2.1125e-01, -8.8039e-02,\n",
       "                          -9.5999e-03],\n",
       "                         [-4.7539e-02, -1.1403e-01, -3.6019e-02, -1.5719e-01,  1.5663e-01,\n",
       "                           4.2013e-02],\n",
       "                         [-2.2347e-02,  3.2628e-02,  3.6215e-03,  1.0846e-01,  2.4763e-02,\n",
       "                          -8.2587e-03],\n",
       "                         [ 3.1576e-02,  4.1284e-01,  5.1479e-01,  2.0338e-01, -4.8877e-01,\n",
       "                           2.9790e-01]],\n",
       "                \n",
       "                        [[ 8.1499e-03, -1.6942e-01, -1.7738e-01, -8.3053e-02,  3.2123e-02,\n",
       "                           4.0679e-02],\n",
       "                         [ 6.0574e-03,  4.7030e-03, -1.5765e-03, -2.5811e-01, -1.9232e-01,\n",
       "                          -4.2095e-02],\n",
       "                         [-1.0225e-02,  1.5668e-01, -1.5485e-01,  4.4681e-01, -1.0099e-01,\n",
       "                          -6.3517e-02],\n",
       "                         [-6.2869e-02, -1.3230e-01, -1.3976e-02, -2.2174e-01,  5.2399e-02,\n",
       "                           9.5314e-03],\n",
       "                         [-8.3504e-02,  6.6773e-04, -2.4968e-02,  1.1593e-01,  1.2009e-02,\n",
       "                          -4.0893e-02],\n",
       "                         [ 2.5362e-01,  4.8612e-01,  2.6881e-01,  2.2417e-01, -6.4929e-01,\n",
       "                           3.5880e-01]],\n",
       "                \n",
       "                        [[-7.4921e-02, -2.4892e-01, -3.1479e-01, -5.3718e-02,  2.9039e-02,\n",
       "                           1.2339e-02],\n",
       "                         [ 6.1583e-03, -3.4333e-02, -7.2578e-02, -2.1388e-01,  4.7667e-02,\n",
       "                           5.8638e-02],\n",
       "                         [-3.9092e-02,  1.4288e-01, -6.7602e-02,  1.6848e-01,  8.2067e-02,\n",
       "                          -2.9642e-02],\n",
       "                         [-4.8077e-02, -1.3329e-01,  4.3034e-02, -1.4673e-01,  2.9399e-02,\n",
       "                           4.0227e-02],\n",
       "                         [-2.5429e-02,  4.8549e-02, -4.8358e-02,  5.1070e-02, -2.3699e-02,\n",
       "                          -1.2331e-03],\n",
       "                         [ 1.4636e-02,  4.7074e-01, -8.3116e-02,  1.6872e-01,  6.0045e-02,\n",
       "                           1.3698e-01]],\n",
       "                \n",
       "                        [[ 3.3060e-02, -2.1778e-01, -3.0902e-01, -8.4121e-02,  6.0332e-02,\n",
       "                           6.0260e-02],\n",
       "                         [-6.6494e-01, -3.2671e-01,  8.0548e-01, -4.8968e-01,  8.2342e-03,\n",
       "                          -3.2339e-02],\n",
       "                         [-7.3230e-02,  2.4138e-01,  3.9710e-03,  3.6072e-01, -9.2623e-02,\n",
       "                          -7.1902e-02],\n",
       "                         [-2.3703e-02, -1.0913e-01, -6.9887e-02, -2.1500e-01,  1.3549e-02,\n",
       "                           1.7397e-02],\n",
       "                         [ 5.6410e-03,  7.5115e-03, -2.5809e-01,  1.1312e-01,  1.0964e-02,\n",
       "                           1.1276e-02],\n",
       "                         [-6.3476e-02,  8.9215e-01,  7.1357e-01,  6.8540e-02, -2.7829e-01,\n",
       "                          -6.4087e-01]]], device='cuda:0')),\n",
       "               ('act_fun.0.mask',\n",
       "                tensor([[1., 1., 1., 1., 1., 1.],\n",
       "                        [1., 1., 1., 1., 1., 1.],\n",
       "                        [1., 1., 1., 1., 1., 1.],\n",
       "                        [1., 1., 1., 1., 1., 1.],\n",
       "                        [1., 1., 1., 1., 1., 1.],\n",
       "                        [1., 1., 1., 1., 1., 1.],\n",
       "                        [1., 1., 1., 1., 1., 1.],\n",
       "                        [1., 1., 1., 1., 1., 1.],\n",
       "                        [1., 1., 1., 1., 1., 1.],\n",
       "                        [1., 1., 1., 1., 1., 1.],\n",
       "                        [1., 1., 1., 1., 1., 1.],\n",
       "                        [1., 1., 1., 1., 1., 1.],\n",
       "                        [1., 1., 1., 1., 1., 1.],\n",
       "                        [1., 1., 1., 1., 1., 1.],\n",
       "                        [1., 1., 1., 1., 1., 1.]], device='cuda:0')),\n",
       "               ('act_fun.0.scale_base',\n",
       "                tensor([[-1.8013e-01,  2.1186e-01,  3.0099e-01,  3.6260e-01, -2.1213e-01,\n",
       "                         -2.3447e-01],\n",
       "                        [-8.6830e-02, -9.6082e-01, -1.8627e-02, -5.0527e-01, -1.4216e-01,\n",
       "                          3.0652e+00],\n",
       "                        [-2.6796e-01,  1.0274e-01, -5.0022e-02, -7.5782e-02, -4.1504e-02,\n",
       "                         -4.2884e-01],\n",
       "                        [-4.4538e-01, -1.5781e-02, -2.7417e-01, -2.2655e-01, -1.5412e-02,\n",
       "                          1.7306e-01],\n",
       "                        [-6.0124e-01,  2.6347e-01,  6.5996e-02, -7.7557e-02, -3.7989e-02,\n",
       "                          1.8739e+00],\n",
       "                        [-5.6395e-01, -5.2328e-01,  6.1253e-01, -3.7880e-01, -1.4973e-01,\n",
       "                          1.2813e+00],\n",
       "                        [-6.8998e-01, -1.6167e+00,  4.1014e-01, -2.8317e-01, -1.4830e-01,\n",
       "                         -1.9226e+00],\n",
       "                        [-1.0255e-01, -1.7617e-01,  9.1244e-02, -5.4861e-02,  1.7672e-02,\n",
       "                          1.0816e+00],\n",
       "                        [-2.0411e-01, -2.5792e-01,  4.4217e-02, -6.5704e-02, -2.3481e-02,\n",
       "                          5.0531e-01],\n",
       "                        [-2.9277e-01,  1.0227e-01, -2.2300e-01,  1.7736e-03,  1.5322e-02,\n",
       "                         -1.5001e-01],\n",
       "                        [-3.6347e-01,  6.5519e-01,  3.0518e-01, -3.2529e-02,  3.5031e-02,\n",
       "                          2.8296e+00],\n",
       "                        [-4.3207e-01, -8.9456e-01,  8.4304e-02, -1.7509e-01, -7.8540e-03,\n",
       "                          2.8054e-01],\n",
       "                        [-7.5023e-02, -1.0074e+00,  1.9841e-01, -4.2085e-02,  3.8368e-01,\n",
       "                          4.8269e-02],\n",
       "                        [-3.7841e-01, -3.3903e-01,  1.5161e-01, -1.1407e-01,  1.1310e-02,\n",
       "                          8.3386e-01],\n",
       "                        [-1.2368e-01, -1.7614e-02, -8.9558e-03, -5.7157e-02,  2.3334e-03,\n",
       "                         -8.4420e-01]], device='cuda:0')),\n",
       "               ('act_fun.0.scale_sp',\n",
       "                tensor([[ 0.3399,  0.5470,  0.3758,  0.3121,  0.6373, -0.1184],\n",
       "                        [ 0.2308,  0.4844,  0.2623,  0.2348,  0.2572,  0.6066],\n",
       "                        [ 0.3473,  0.1279,  0.3761,  0.5095,  0.2931,  0.3296],\n",
       "                        [ 0.2844,  1.0399,  0.3333,  0.3013,  0.1726,  0.2978],\n",
       "                        [ 0.2361,  0.1600,  0.3480,  0.2339,  0.1093,  0.7653],\n",
       "                        [ 0.3731,  0.2652,  0.1768,  0.2372,  0.2797, -0.3443],\n",
       "                        [ 0.2634,  0.7047,  0.0711,  0.2612,  0.3448,  0.3778],\n",
       "                        [ 0.3350,  0.2440,  0.2607,  0.1914,  0.1981,  0.6431],\n",
       "                        [ 0.4156,  0.2105,  0.2482,  0.2144,  0.1992,  0.7467],\n",
       "                        [ 0.3346,  0.7549,  0.3653,  0.3106,  0.0203, -0.5262],\n",
       "                        [ 0.2682,  0.9904,  0.2993,  0.3670,  0.1785,  0.1806],\n",
       "                        [ 0.2676,  0.2126,  0.1868,  0.2722,  0.1895,  0.5272],\n",
       "                        [ 0.1894,  0.2667,  0.1415,  0.2851,  0.2091,  0.3738],\n",
       "                        [ 0.3489,  0.2373,  0.2267,  0.2207,  0.1717,  0.2264],\n",
       "                        [ 0.2991,  1.1475,  0.3666,  0.2486,  0.2544,  0.4923]],\n",
       "                       device='cuda:0')),\n",
       "               ('act_fun.1.grid',\n",
       "                tensor([[-4.3690, -3.8894, -3.4098, -2.9303, -2.1356, -1.9893, -1.4915, -1.0119,\n",
       "                         -0.5324, -0.0528],\n",
       "                        [-6.8929, -5.7730, -4.6532, -3.5334, -2.9603, -1.6308, -0.1740,  0.9458,\n",
       "                          2.0656,  3.1854],\n",
       "                        [-0.0695,  0.1327,  0.3350,  0.5372,  0.7210,  0.8134,  1.1440,  1.3462,\n",
       "                          1.5485,  1.7507],\n",
       "                        [-1.6423, -1.4714, -1.3004, -1.1295, -1.0110, -0.8451, -0.6166, -0.4457,\n",
       "                         -0.2747, -0.1038],\n",
       "                        [-1.5851, -1.2350, -0.8848, -0.5347,  0.1011,  0.3510,  0.5157,  0.8658,\n",
       "                          1.2160,  1.5661],\n",
       "                        [-4.2603, -2.5143, -0.7683,  0.9777,  1.9690,  2.7236,  6.2157,  7.9617,\n",
       "                          9.7077, 11.4537]], device='cuda:0')),\n",
       "               ('act_fun.1.coef',\n",
       "                tensor([[[ 3.2965e-03,  2.2013e-02,  3.7026e-03,  5.6657e-03,  7.0011e-03,\n",
       "                          -2.3429e-02]],\n",
       "                \n",
       "                        [[-6.0760e-01,  3.4518e-01, -6.4915e-01,  5.4666e-01, -5.2729e-01,\n",
       "                           9.1065e+00]],\n",
       "                \n",
       "                        [[-2.7862e+00,  2.2463e-01,  6.5211e-01, -7.2901e-01, -1.4747e-01,\n",
       "                           1.1576e-01]],\n",
       "                \n",
       "                        [[ 1.4096e+00, -4.3745e-01,  1.4394e-02,  2.6728e-01, -2.1958e-01,\n",
       "                           9.3821e-01]],\n",
       "                \n",
       "                        [[-5.8713e-01,  6.1408e-01,  1.8795e-01,  5.9688e-02,  9.6257e-02,\n",
       "                          -6.5830e-01]],\n",
       "                \n",
       "                        [[ 2.8235e+00, -1.3973e-02,  6.5970e-02,  1.3846e-01, -3.5580e-01,\n",
       "                          -4.3518e-02]]], device='cuda:0')),\n",
       "               ('act_fun.1.mask',\n",
       "                tensor([[1.],\n",
       "                        [1.],\n",
       "                        [1.],\n",
       "                        [1.],\n",
       "                        [1.],\n",
       "                        [1.]], device='cuda:0')),\n",
       "               ('act_fun.1.scale_base',\n",
       "                tensor([[-0.6581],\n",
       "                        [-1.5447],\n",
       "                        [ 0.4174],\n",
       "                        [-0.8452],\n",
       "                        [ 0.0725],\n",
       "                        [ 2.8736]], device='cuda:0')),\n",
       "               ('act_fun.1.scale_sp',\n",
       "                tensor([[-0.0174],\n",
       "                        [ 1.3724],\n",
       "                        [ 0.7080],\n",
       "                        [ 0.6538],\n",
       "                        [ 0.2416],\n",
       "                        [ 0.3858]], device='cuda:0')),\n",
       "               ('symbolic_fun.0.mask',\n",
       "                tensor([[0., 0., 0., 0., 0., 0., 0., 0., 0., 0., 0., 0., 0., 0., 0.],\n",
       "                        [0., 0., 0., 0., 0., 0., 0., 0., 0., 0., 0., 0., 0., 0., 0.],\n",
       "                        [0., 0., 0., 0., 0., 0., 0., 0., 0., 0., 0., 0., 0., 0., 0.],\n",
       "                        [0., 0., 0., 0., 0., 0., 0., 0., 0., 0., 0., 0., 0., 0., 0.],\n",
       "                        [0., 0., 0., 0., 0., 0., 0., 0., 0., 0., 0., 0., 0., 0., 0.],\n",
       "                        [0., 0., 0., 0., 0., 0., 0., 0., 0., 0., 0., 0., 0., 0., 0.]],\n",
       "                       device='cuda:0')),\n",
       "               ('symbolic_fun.0.affine',\n",
       "                tensor([[[0., 0., 0., 0.],\n",
       "                         [0., 0., 0., 0.],\n",
       "                         [0., 0., 0., 0.],\n",
       "                         [0., 0., 0., 0.],\n",
       "                         [0., 0., 0., 0.],\n",
       "                         [0., 0., 0., 0.],\n",
       "                         [0., 0., 0., 0.],\n",
       "                         [0., 0., 0., 0.],\n",
       "                         [0., 0., 0., 0.],\n",
       "                         [0., 0., 0., 0.],\n",
       "                         [0., 0., 0., 0.],\n",
       "                         [0., 0., 0., 0.],\n",
       "                         [0., 0., 0., 0.],\n",
       "                         [0., 0., 0., 0.],\n",
       "                         [0., 0., 0., 0.]],\n",
       "                \n",
       "                        [[0., 0., 0., 0.],\n",
       "                         [0., 0., 0., 0.],\n",
       "                         [0., 0., 0., 0.],\n",
       "                         [0., 0., 0., 0.],\n",
       "                         [0., 0., 0., 0.],\n",
       "                         [0., 0., 0., 0.],\n",
       "                         [0., 0., 0., 0.],\n",
       "                         [0., 0., 0., 0.],\n",
       "                         [0., 0., 0., 0.],\n",
       "                         [0., 0., 0., 0.],\n",
       "                         [0., 0., 0., 0.],\n",
       "                         [0., 0., 0., 0.],\n",
       "                         [0., 0., 0., 0.],\n",
       "                         [0., 0., 0., 0.],\n",
       "                         [0., 0., 0., 0.]],\n",
       "                \n",
       "                        [[0., 0., 0., 0.],\n",
       "                         [0., 0., 0., 0.],\n",
       "                         [0., 0., 0., 0.],\n",
       "                         [0., 0., 0., 0.],\n",
       "                         [0., 0., 0., 0.],\n",
       "                         [0., 0., 0., 0.],\n",
       "                         [0., 0., 0., 0.],\n",
       "                         [0., 0., 0., 0.],\n",
       "                         [0., 0., 0., 0.],\n",
       "                         [0., 0., 0., 0.],\n",
       "                         [0., 0., 0., 0.],\n",
       "                         [0., 0., 0., 0.],\n",
       "                         [0., 0., 0., 0.],\n",
       "                         [0., 0., 0., 0.],\n",
       "                         [0., 0., 0., 0.]],\n",
       "                \n",
       "                        [[0., 0., 0., 0.],\n",
       "                         [0., 0., 0., 0.],\n",
       "                         [0., 0., 0., 0.],\n",
       "                         [0., 0., 0., 0.],\n",
       "                         [0., 0., 0., 0.],\n",
       "                         [0., 0., 0., 0.],\n",
       "                         [0., 0., 0., 0.],\n",
       "                         [0., 0., 0., 0.],\n",
       "                         [0., 0., 0., 0.],\n",
       "                         [0., 0., 0., 0.],\n",
       "                         [0., 0., 0., 0.],\n",
       "                         [0., 0., 0., 0.],\n",
       "                         [0., 0., 0., 0.],\n",
       "                         [0., 0., 0., 0.],\n",
       "                         [0., 0., 0., 0.]],\n",
       "                \n",
       "                        [[0., 0., 0., 0.],\n",
       "                         [0., 0., 0., 0.],\n",
       "                         [0., 0., 0., 0.],\n",
       "                         [0., 0., 0., 0.],\n",
       "                         [0., 0., 0., 0.],\n",
       "                         [0., 0., 0., 0.],\n",
       "                         [0., 0., 0., 0.],\n",
       "                         [0., 0., 0., 0.],\n",
       "                         [0., 0., 0., 0.],\n",
       "                         [0., 0., 0., 0.],\n",
       "                         [0., 0., 0., 0.],\n",
       "                         [0., 0., 0., 0.],\n",
       "                         [0., 0., 0., 0.],\n",
       "                         [0., 0., 0., 0.],\n",
       "                         [0., 0., 0., 0.]],\n",
       "                \n",
       "                        [[0., 0., 0., 0.],\n",
       "                         [0., 0., 0., 0.],\n",
       "                         [0., 0., 0., 0.],\n",
       "                         [0., 0., 0., 0.],\n",
       "                         [0., 0., 0., 0.],\n",
       "                         [0., 0., 0., 0.],\n",
       "                         [0., 0., 0., 0.],\n",
       "                         [0., 0., 0., 0.],\n",
       "                         [0., 0., 0., 0.],\n",
       "                         [0., 0., 0., 0.],\n",
       "                         [0., 0., 0., 0.],\n",
       "                         [0., 0., 0., 0.],\n",
       "                         [0., 0., 0., 0.],\n",
       "                         [0., 0., 0., 0.],\n",
       "                         [0., 0., 0., 0.]]], device='cuda:0')),\n",
       "               ('symbolic_fun.1.mask',\n",
       "                tensor([[0., 0., 0., 0., 0., 0.]], device='cuda:0')),\n",
       "               ('symbolic_fun.1.affine',\n",
       "                tensor([[[0., 0., 0., 0.],\n",
       "                         [0., 0., 0., 0.],\n",
       "                         [0., 0., 0., 0.],\n",
       "                         [0., 0., 0., 0.],\n",
       "                         [0., 0., 0., 0.],\n",
       "                         [0., 0., 0., 0.]]], device='cuda:0'))])},\n",
       " {'loss': 0.17079764604568481,\n",
       "  'config': {'hidden': 4, 'grid': 5, 'lamb': 0.0001},\n",
       "  'state_dict': OrderedDict([('node_bias_0',\n",
       "                tensor([0., 0., 0., 0.], device='cuda:0')),\n",
       "               ('node_scale_0', tensor([1., 1., 1., 1.], device='cuda:0')),\n",
       "               ('subnode_bias_0', tensor([0., 0., 0., 0.], device='cuda:0')),\n",
       "               ('subnode_scale_0', tensor([1., 1., 1., 1.], device='cuda:0')),\n",
       "               ('node_bias_1', tensor([0.], device='cuda:0')),\n",
       "               ('node_scale_1', tensor([1.], device='cuda:0')),\n",
       "               ('subnode_bias_1', tensor([0.], device='cuda:0')),\n",
       "               ('subnode_scale_1', tensor([1.], device='cuda:0')),\n",
       "               ('act_fun.0.grid',\n",
       "                tensor([[-0.6000, -0.4000, -0.2000,  0.0000,  0.1304,  0.2049,  0.2791,  0.4839,\n",
       "                          1.0000,  1.2000,  1.4000,  1.6000],\n",
       "                        [-0.6000, -0.4000, -0.2000,  0.0000,  0.1621,  0.2154,  0.3373,  0.4842,\n",
       "                          1.0000,  1.2000,  1.4000,  1.6000],\n",
       "                        [-0.6000, -0.4000, -0.2000,  0.0000,  0.0918,  0.2017,  0.3124,  0.5487,\n",
       "                          1.0000,  1.2000,  1.4000,  1.6000],\n",
       "                        [-0.6000, -0.4000, -0.2000,  0.0000,  0.1564,  0.2022,  0.3176,  0.4329,\n",
       "                          1.0000,  1.2000,  1.4000,  1.6000],\n",
       "                        [-0.6000, -0.4000, -0.2000,  0.0000,  0.1532,  0.1997,  0.3173,  0.4265,\n",
       "                          1.0000,  1.2000,  1.4000,  1.6000],\n",
       "                        [-0.6000, -0.4000, -0.2000,  0.0000,  0.1338,  0.2091,  0.3373,  0.5472,\n",
       "                          1.0000,  1.2000,  1.4000,  1.6000],\n",
       "                        [-0.6000, -0.4000, -0.2000,  0.0000,  0.1488,  0.2326,  0.3543,  0.5862,\n",
       "                          1.0000,  1.2000,  1.4000,  1.6000],\n",
       "                        [-0.6000, -0.4000, -0.2000,  0.0000,  0.1329,  0.3090,  0.4659,  0.6728,\n",
       "                          1.0000,  1.2000,  1.4000,  1.6000],\n",
       "                        [-0.6000, -0.4000, -0.2000,  0.0000,  0.1036,  0.2191,  0.3780,  0.6263,\n",
       "                          1.0000,  1.2000,  1.4000,  1.6000],\n",
       "                        [-0.6000, -0.4000, -0.2000,  0.0000,  0.1124,  0.2833,  0.3893,  0.8493,\n",
       "                          1.0000,  1.2000,  1.4000,  1.6000],\n",
       "                        [-0.6000, -0.4000, -0.2000,  0.0000,  0.1316,  0.1761,  0.2997,  0.3989,\n",
       "                          1.0000,  1.2000,  1.4000,  1.6000],\n",
       "                        [-0.6000, -0.4000, -0.2000,  0.0000,  0.1940,  0.4832,  0.6525,  0.9234,\n",
       "                          1.0000,  1.2000,  1.4000,  1.6000],\n",
       "                        [-0.6000, -0.4000, -0.2000,  0.0000,  0.2021,  0.5273,  0.6107,  0.7773,\n",
       "                          1.0000,  1.2000,  1.4000,  1.6000],\n",
       "                        [-0.6000, -0.4000, -0.2000,  0.0000,  0.1268,  0.3208,  0.4658,  0.6515,\n",
       "                          1.0000,  1.2000,  1.4000,  1.6000],\n",
       "                        [-0.6000, -0.4000, -0.2000,  0.0000,  0.3206,  0.4657,  0.5400,  0.6596,\n",
       "                          1.0000,  1.2000,  1.4000,  1.6000]], device='cuda:0')),\n",
       "               ('act_fun.0.coef',\n",
       "                tensor([[[ 0.0724,  0.1756,  0.0976,  0.0648,  0.6983, -0.3694, -0.4726,\n",
       "                           0.4362],\n",
       "                         [-0.0343,  0.0126, -0.6690,  0.0989,  0.3323,  0.1402, -0.0464,\n",
       "                          -0.0240],\n",
       "                         [ 0.0364,  0.6037,  0.2825,  0.1263,  0.2211,  0.2787, -0.1217,\n",
       "                          -0.1500],\n",
       "                         [ 0.0382,  0.4510,  0.2881,  0.1336, -0.2540, -0.0407,  0.2013,\n",
       "                          -0.0034]],\n",
       "                \n",
       "                        [[ 0.0596,  0.2318,  0.5018,  0.0237,  0.2008, -0.3416,  0.0701,\n",
       "                           0.0937],\n",
       "                         [-0.0061,  0.1293,  0.0418,  0.3401, -0.6363,  0.0809, -0.0863,\n",
       "                          -0.0603],\n",
       "                         [-0.0088, -0.1424, -0.4703,  0.0811,  0.3140,  1.3495,  0.2061,\n",
       "                           0.1549],\n",
       "                         [-0.0435,  0.0920, -0.1900, -0.0652,  0.5584,  0.7378,  0.0652,\n",
       "                          -0.1632]],\n",
       "                \n",
       "                        [[-0.0155,  0.0120,  0.0448,  0.2782,  0.5093, -0.0860, -0.1785,\n",
       "                           0.1425],\n",
       "                         [ 0.1243,  0.3336, -0.4976, -0.1039, -0.1106,  0.2436, -0.1231,\n",
       "                          -0.1019],\n",
       "                         [ 0.1281,  0.3355,  0.5835,  0.1285,  0.0850,  0.4790, -0.0668,\n",
       "                          -0.3766],\n",
       "                         [ 0.0638,  0.1752,  0.2505,  0.1576, -0.2318,  0.1161,  0.2678,\n",
       "                          -0.2083]],\n",
       "                \n",
       "                        [[ 0.0020,  0.0184, -0.0632,  0.1090,  0.0684,  0.2441,  0.0736,\n",
       "                           0.2020],\n",
       "                         [-0.0238,  0.0408, -0.2814,  0.0665,  0.1617,  0.1363, -0.0110,\n",
       "                          -0.1950],\n",
       "                         [ 0.0377,  0.5711,  0.4088,  0.0530,  0.3616, -0.4550,  0.9761,\n",
       "                          -0.5356],\n",
       "                         [-0.0180,  0.3189,  0.2759, -0.1795,  0.5489,  0.1263,  0.0273,\n",
       "                          -0.3080]],\n",
       "                \n",
       "                        [[ 0.0478,  0.0544, -0.2530,  0.0274,  0.2291,  0.4930,  0.4514,\n",
       "                          -0.4160],\n",
       "                         [-0.0446,  0.1896, -0.3140, -0.1460,  0.0377,  0.2020, -0.0575,\n",
       "                          -0.1668],\n",
       "                         [-0.0763,  0.1453,  0.6920,  0.2191,  0.0409, -0.2815, -0.0018,\n",
       "                           0.6555],\n",
       "                         [-0.0178,  0.0871,  0.3157, -0.0706,  0.0738,  0.1270, -0.0291,\n",
       "                           0.1636]],\n",
       "                \n",
       "                        [[-0.0521,  0.0109,  0.1241,  0.2398,  0.3666,  0.2035,  0.0051,\n",
       "                          -0.1945],\n",
       "                         [ 0.0862,  0.0898, -0.1848, -0.1553, -0.1057,  0.1098, -0.1136,\n",
       "                          -0.0020],\n",
       "                         [ 0.1713,  0.4802,  0.1516, -0.0142, -0.1362,  0.3420, -0.1330,\n",
       "                           0.2279],\n",
       "                         [ 0.1122,  0.3220,  0.1136, -0.1009,  0.1085,  0.1739,  0.0430,\n",
       "                           0.0657]],\n",
       "                \n",
       "                        [[-0.1529, -0.1105,  0.1981,  0.0818,  0.2455,  0.1703,  0.3787,\n",
       "                          -0.0883],\n",
       "                         [ 0.1891,  0.1245, -0.3255, -0.1217, -0.0418,  0.0722, -0.1394,\n",
       "                           0.0403],\n",
       "                         [-0.3817, -0.1093, -0.0399,  0.3439,  0.4676,  0.8072,  0.6613,\n",
       "                          -0.5370],\n",
       "                         [ 0.0878,  0.2253,  0.0724,  0.1735,  0.0708,  0.1064, -0.0567,\n",
       "                           0.0039]],\n",
       "                \n",
       "                        [[ 0.0635,  0.1693,  0.1079,  0.2258,  0.0560,  0.0611, -0.0108,\n",
       "                          -0.0251],\n",
       "                         [-0.0726, -0.1299, -0.0020, -0.0754,  0.0633, -0.0269, -0.1701,\n",
       "                           0.0216],\n",
       "                         [-0.0923,  0.2247,  0.7175,  0.5384,  0.0466, -0.1242,  0.0699,\n",
       "                           0.0889],\n",
       "                         [-0.1097,  0.1481,  0.6137, -0.1490,  0.3456, -0.0186,  0.0239,\n",
       "                           0.0127]],\n",
       "                \n",
       "                        [[ 0.0537,  0.1755,  0.2628,  0.4139, -0.1399, -0.0963, -0.0486,\n",
       "                           0.0131],\n",
       "                         [-0.0027, -0.1160, -0.0039, -0.2105,  0.1738,  0.0394, -0.0928,\n",
       "                          -0.0497],\n",
       "                         [-0.0449,  0.1060,  0.7069, -0.0449,  0.9059,  0.2269, -0.1546,\n",
       "                          -0.2429],\n",
       "                         [-0.0419,  0.0252,  0.5038,  0.0352,  0.3053,  0.1171,  0.0072,\n",
       "                          -0.0423]],\n",
       "                \n",
       "                        [[-0.1594,  0.5355,  0.2797, -0.1215,  0.3648, -0.1696, -0.0529,\n",
       "                           0.0798],\n",
       "                         [ 0.0809,  0.1746, -0.1550,  0.0182, -0.3774, -0.2647,  0.3331,\n",
       "                           0.0450],\n",
       "                         [ 0.3893, -0.3941,  0.3457,  0.9807, -0.1490,  0.5951, -0.1058,\n",
       "                          -0.2510],\n",
       "                         [ 0.2153,  0.2065, -0.1960,  0.5084,  0.2519,  0.2342, -0.1560,\n",
       "                          -0.1205]],\n",
       "                \n",
       "                        [[-0.0245,  0.0130,  0.2911,  0.0479,  0.1276,  0.1810,  0.0996,\n",
       "                           0.0126],\n",
       "                         [-0.1065, -0.0740,  0.3208, -0.2463, -0.1518,  0.3043,  0.0594,\n",
       "                          -0.2179],\n",
       "                         [ 0.1141,  0.3020, -0.0821,  0.1775, -0.4793, -0.1135,  0.7309,\n",
       "                           0.8640],\n",
       "                         [ 0.0148,  0.1935,  0.1547,  0.5482, -0.2832, -0.0879,  0.0605,\n",
       "                           0.1246]],\n",
       "                \n",
       "                        [[-0.0283,  0.0380,  0.3342,  0.2158, -0.0149,  0.1007, -0.0225,\n",
       "                          -0.0231],\n",
       "                         [-0.0697, -0.0872, -0.1038,  0.2336,  0.0741, -0.3439,  0.0896,\n",
       "                          -0.0056],\n",
       "                         [ 0.2942,  0.7093, -0.0674,  0.2393,  0.6523, -0.4717, -0.0796,\n",
       "                           0.0308],\n",
       "                         [ 0.0342,  0.4732,  0.0516,  0.5573,  0.0374, -0.3522,  0.1093,\n",
       "                           0.0730]],\n",
       "                \n",
       "                        [[-0.0988, -0.0260,  0.3732,  0.1816,  0.1830, -0.0562, -0.0156,\n",
       "                           0.0371],\n",
       "                         [-0.0167, -0.0865, -0.2256,  0.2825, -0.1759,  0.1433, -0.1344,\n",
       "                           0.1151],\n",
       "                         [ 0.4347,  0.9264, -0.2137,  0.1702,  0.2009,  0.5511, -0.3311,\n",
       "                          -0.2686],\n",
       "                         [ 0.1062,  0.4946, -0.1827,  0.9072, -0.4006,  0.0482,  0.1346,\n",
       "                          -0.0323]],\n",
       "                \n",
       "                        [[ 0.0503,  0.2157,  0.0682,  0.3615,  0.1277, -0.0644, -0.0621,\n",
       "                          -0.0039],\n",
       "                         [-0.0349, -0.1537,  0.0060,  0.0200,  0.0080, -0.0488, -0.0898,\n",
       "                           0.0097],\n",
       "                         [-0.0917,  0.3261,  0.8290,  0.2234,  0.0904,  0.2284,  0.1401,\n",
       "                           0.0271],\n",
       "                         [-0.0886,  0.1225,  0.6225, -0.3499,  0.2544,  0.2155, -0.0125,\n",
       "                          -0.0547]],\n",
       "                \n",
       "                        [[ 0.0880,  0.0050,  0.0964,  0.2158,  0.1193,  0.0233,  0.0963,\n",
       "                           0.1378],\n",
       "                         [-0.1727,  0.1855,  0.1375, -0.1668, -0.0594,  0.1202, -0.1632,\n",
       "                          -0.0865],\n",
       "                         [-0.3904,  0.5744,  0.5758,  1.0108,  0.3838,  0.1314, -0.3956,\n",
       "                          -0.6933],\n",
       "                         [-0.1658,  0.4766,  0.3553,  0.1518,  0.3283, -0.1597, -0.0531,\n",
       "                          -0.1689]]], device='cuda:0')),\n",
       "               ('act_fun.0.mask',\n",
       "                tensor([[1., 1., 1., 1.],\n",
       "                        [1., 1., 1., 1.],\n",
       "                        [1., 1., 1., 1.],\n",
       "                        [1., 1., 1., 1.],\n",
       "                        [1., 1., 1., 1.],\n",
       "                        [1., 1., 1., 1.],\n",
       "                        [1., 1., 1., 1.],\n",
       "                        [1., 1., 1., 1.],\n",
       "                        [1., 1., 1., 1.],\n",
       "                        [1., 1., 1., 1.],\n",
       "                        [1., 1., 1., 1.],\n",
       "                        [1., 1., 1., 1.],\n",
       "                        [1., 1., 1., 1.],\n",
       "                        [1., 1., 1., 1.],\n",
       "                        [1., 1., 1., 1.]], device='cuda:0')),\n",
       "               ('act_fun.0.scale_base',\n",
       "                tensor([[ 0.5821, -0.0066,  0.0683,  0.1979],\n",
       "                        [ 0.4885, -0.5394,  2.5519,  0.9001],\n",
       "                        [ 0.4063, -0.6926,  0.3438,  0.0789],\n",
       "                        [ 1.4991, -0.3428,  0.5894, -0.1202],\n",
       "                        [ 0.3332, -0.2616,  2.2333,  0.8122],\n",
       "                        [ 0.1915, -0.4238,  0.9240,  0.5114],\n",
       "                        [ 1.0086, -0.6474, -1.0183, -0.3924],\n",
       "                        [ 0.0414, -0.2191,  0.7050,  0.4232],\n",
       "                        [ 0.2834, -0.1629,  0.4814,  0.3598],\n",
       "                        [ 0.1554, -0.2479,  0.5416,  0.0449],\n",
       "                        [ 0.4686, -0.2041,  3.0688,  0.6048],\n",
       "                        [ 0.4357, -0.1520,  0.1952,  0.4471],\n",
       "                        [ 0.5789, -0.0778, -0.0615,  0.1840],\n",
       "                        [ 0.0877, -0.2199,  0.8595,  0.5742],\n",
       "                        [ 0.8061, -0.7864, -0.3157,  0.1264]], device='cuda:0')),\n",
       "               ('act_fun.0.scale_sp',\n",
       "                tensor([[ 0.4567,  0.2306,  0.0316, -0.5603],\n",
       "                        [ 0.4618,  0.5071,  0.9371,  0.6296],\n",
       "                        [ 0.3953,  0.4634,  0.2566,  0.0740],\n",
       "                        [ 0.1593,  0.1436,  0.5402,  0.5108],\n",
       "                        [ 0.7694,  0.1413,  0.6003,  0.2347],\n",
       "                        [ 0.2801,  0.1070, -0.2530, -0.1098],\n",
       "                        [ 0.3531,  0.0501, -0.7299,  0.0326],\n",
       "                        [ 0.1803,  0.1195,  0.5371,  0.4191],\n",
       "                        [ 0.4326,  0.1773,  0.2157,  0.3319],\n",
       "                        [ 0.4349,  0.0449,  0.2085,  0.3204],\n",
       "                        [ 0.1299,  0.1560,  0.2473,  0.2893],\n",
       "                        [ 0.3047,  0.1591,  0.6098,  0.5639],\n",
       "                        [ 0.3649,  0.1998,  0.4066,  0.9047],\n",
       "                        [ 0.3059,  0.0864,  0.4944,  0.6054],\n",
       "                        [ 0.1340,  0.2072,  0.5025,  0.3431]], device='cuda:0')),\n",
       "               ('act_fun.1.grid',\n",
       "                tensor([[ 0.1405,  0.6310,  1.1215,  1.6120,  2.0551,  2.2285,  2.5256,  2.8591,\n",
       "                          4.0644,  4.5549,  5.0453,  5.5358],\n",
       "                        [-3.2023, -2.8942, -2.5861, -2.2779, -1.4620, -1.3555, -1.2724, -1.0920,\n",
       "                         -0.7374, -0.4293, -0.1212,  0.1870],\n",
       "                        [-2.1725, -0.9443,  0.2839,  1.5121,  2.4163,  2.6675,  3.3312,  4.0347,\n",
       "                          7.6531,  8.8813, 10.1095, 11.3377],\n",
       "                        [-0.1252,  0.2712,  0.6675,  1.0639,  1.4773,  1.6429,  1.9841,  2.3116,\n",
       "                          3.0456,  3.4420,  3.8383,  4.2347]], device='cuda:0')),\n",
       "               ('act_fun.1.coef',\n",
       "                tensor([[[ -0.7345,  -0.3170,  -0.0295,   0.1101,  -0.0764,   0.9246,   0.0277,\n",
       "                           -0.8713]],\n",
       "                \n",
       "                        [[  3.6813,  -1.3820,   0.8321,  -0.8208,   1.0337,  -0.8155,   1.7542,\n",
       "                          -11.8588]],\n",
       "                \n",
       "                        [[ -0.4037,   0.2219,   0.0632,  -0.4283,   0.2889,  -0.4453,  -0.1968,\n",
       "                            0.7022]],\n",
       "                \n",
       "                        [[ -9.7874,   1.9867,  -0.5885,   0.7957,  -0.3119,  -1.4952,   0.2894,\n",
       "                           -0.6233]]], device='cuda:0')),\n",
       "               ('act_fun.1.mask',\n",
       "                tensor([[1.],\n",
       "                        [1.],\n",
       "                        [1.],\n",
       "                        [1.]], device='cuda:0')),\n",
       "               ('act_fun.1.scale_base',\n",
       "                tensor([[-0.8872],\n",
       "                        [-1.8674],\n",
       "                        [ 2.5296],\n",
       "                        [ 0.8136]], device='cuda:0')),\n",
       "               ('act_fun.1.scale_sp',\n",
       "                tensor([[1.1765],\n",
       "                        [0.3718],\n",
       "                        [0.7972],\n",
       "                        [0.6581]], device='cuda:0')),\n",
       "               ('symbolic_fun.0.mask',\n",
       "                tensor([[0., 0., 0., 0., 0., 0., 0., 0., 0., 0., 0., 0., 0., 0., 0.],\n",
       "                        [0., 0., 0., 0., 0., 0., 0., 0., 0., 0., 0., 0., 0., 0., 0.],\n",
       "                        [0., 0., 0., 0., 0., 0., 0., 0., 0., 0., 0., 0., 0., 0., 0.],\n",
       "                        [0., 0., 0., 0., 0., 0., 0., 0., 0., 0., 0., 0., 0., 0., 0.]],\n",
       "                       device='cuda:0')),\n",
       "               ('symbolic_fun.0.affine',\n",
       "                tensor([[[0., 0., 0., 0.],\n",
       "                         [0., 0., 0., 0.],\n",
       "                         [0., 0., 0., 0.],\n",
       "                         [0., 0., 0., 0.],\n",
       "                         [0., 0., 0., 0.],\n",
       "                         [0., 0., 0., 0.],\n",
       "                         [0., 0., 0., 0.],\n",
       "                         [0., 0., 0., 0.],\n",
       "                         [0., 0., 0., 0.],\n",
       "                         [0., 0., 0., 0.],\n",
       "                         [0., 0., 0., 0.],\n",
       "                         [0., 0., 0., 0.],\n",
       "                         [0., 0., 0., 0.],\n",
       "                         [0., 0., 0., 0.],\n",
       "                         [0., 0., 0., 0.]],\n",
       "                \n",
       "                        [[0., 0., 0., 0.],\n",
       "                         [0., 0., 0., 0.],\n",
       "                         [0., 0., 0., 0.],\n",
       "                         [0., 0., 0., 0.],\n",
       "                         [0., 0., 0., 0.],\n",
       "                         [0., 0., 0., 0.],\n",
       "                         [0., 0., 0., 0.],\n",
       "                         [0., 0., 0., 0.],\n",
       "                         [0., 0., 0., 0.],\n",
       "                         [0., 0., 0., 0.],\n",
       "                         [0., 0., 0., 0.],\n",
       "                         [0., 0., 0., 0.],\n",
       "                         [0., 0., 0., 0.],\n",
       "                         [0., 0., 0., 0.],\n",
       "                         [0., 0., 0., 0.]],\n",
       "                \n",
       "                        [[0., 0., 0., 0.],\n",
       "                         [0., 0., 0., 0.],\n",
       "                         [0., 0., 0., 0.],\n",
       "                         [0., 0., 0., 0.],\n",
       "                         [0., 0., 0., 0.],\n",
       "                         [0., 0., 0., 0.],\n",
       "                         [0., 0., 0., 0.],\n",
       "                         [0., 0., 0., 0.],\n",
       "                         [0., 0., 0., 0.],\n",
       "                         [0., 0., 0., 0.],\n",
       "                         [0., 0., 0., 0.],\n",
       "                         [0., 0., 0., 0.],\n",
       "                         [0., 0., 0., 0.],\n",
       "                         [0., 0., 0., 0.],\n",
       "                         [0., 0., 0., 0.]],\n",
       "                \n",
       "                        [[0., 0., 0., 0.],\n",
       "                         [0., 0., 0., 0.],\n",
       "                         [0., 0., 0., 0.],\n",
       "                         [0., 0., 0., 0.],\n",
       "                         [0., 0., 0., 0.],\n",
       "                         [0., 0., 0., 0.],\n",
       "                         [0., 0., 0., 0.],\n",
       "                         [0., 0., 0., 0.],\n",
       "                         [0., 0., 0., 0.],\n",
       "                         [0., 0., 0., 0.],\n",
       "                         [0., 0., 0., 0.],\n",
       "                         [0., 0., 0., 0.],\n",
       "                         [0., 0., 0., 0.],\n",
       "                         [0., 0., 0., 0.],\n",
       "                         [0., 0., 0., 0.]]], device='cuda:0')),\n",
       "               ('symbolic_fun.1.mask',\n",
       "                tensor([[0., 0., 0., 0.]], device='cuda:0')),\n",
       "               ('symbolic_fun.1.affine',\n",
       "                tensor([[[0., 0., 0., 0.],\n",
       "                         [0., 0., 0., 0.],\n",
       "                         [0., 0., 0., 0.],\n",
       "                         [0., 0., 0., 0.]]], device='cuda:0'))])},\n",
       " {'loss': 0.17412926256656647,\n",
       "  'config': {'hidden': 2, 'grid': 6, 'lamb': 0.001},\n",
       "  'state_dict': OrderedDict([('node_bias_0',\n",
       "                tensor([0., 0.], device='cuda:0')),\n",
       "               ('node_scale_0', tensor([1., 1.], device='cuda:0')),\n",
       "               ('subnode_bias_0', tensor([0., 0.], device='cuda:0')),\n",
       "               ('subnode_scale_0', tensor([1., 1.], device='cuda:0')),\n",
       "               ('node_bias_1', tensor([0.], device='cuda:0')),\n",
       "               ('node_scale_1', tensor([1.], device='cuda:0')),\n",
       "               ('subnode_bias_1', tensor([0.], device='cuda:0')),\n",
       "               ('subnode_scale_1', tensor([1.], device='cuda:0')),\n",
       "               ('act_fun.0.grid',\n",
       "                tensor([[-0.5000, -0.3333, -0.1667,  0.0000,  0.1196,  0.1743,  0.2433,  0.3036,\n",
       "                          0.5548,  1.0000,  1.1667,  1.3333,  1.5000],\n",
       "                        [-0.5000, -0.3333, -0.1667,  0.0000,  0.1476,  0.1905,  0.2694,  0.3657,\n",
       "                          0.5403,  1.0000,  1.1667,  1.3333,  1.5000],\n",
       "                        [-0.5000, -0.3333, -0.1667,  0.0000,  0.0723,  0.1560,  0.2759,  0.3392,\n",
       "                          0.5830,  1.0000,  1.1667,  1.3333,  1.5000],\n",
       "                        [-0.5000, -0.3333, -0.1667,  0.0000,  0.1314,  0.1807,  0.2299,  0.3593,\n",
       "                          0.4719,  1.0000,  1.1667,  1.3333,  1.5000],\n",
       "                        [-0.5000, -0.3333, -0.1667,  0.0000,  0.1288,  0.1795,  0.2268,  0.3556,\n",
       "                          0.4746,  1.0000,  1.1667,  1.3333,  1.5000],\n",
       "                        [-0.5000, -0.3333, -0.1667,  0.0000,  0.1197,  0.1872,  0.2855,  0.3703,\n",
       "                          0.5819,  1.0000,  1.1667,  1.3333,  1.5000],\n",
       "                        [-0.5000, -0.3333, -0.1667,  0.0000,  0.1342,  0.2066,  0.3038,  0.3836,\n",
       "                          0.6190,  1.0000,  1.1667,  1.3333,  1.5000],\n",
       "                        [-0.5000, -0.3333, -0.1667,  0.0000,  0.0917,  0.2544,  0.4007,  0.5083,\n",
       "                          0.7012,  1.0000,  1.1667,  1.3333,  1.5000],\n",
       "                        [-0.5000, -0.3333, -0.1667,  0.0000,  0.0763,  0.1737,  0.2734,  0.4601,\n",
       "                          0.6628,  1.0000,  1.1667,  1.3333,  1.5000],\n",
       "                        [-0.5000, -0.3333, -0.1667,  0.0000,  0.0820,  0.2671,  0.3326,  0.6304,\n",
       "                          0.8596,  1.0000,  1.1667,  1.3333,  1.5000],\n",
       "                        [-0.5000, -0.3333, -0.1667,  0.0000,  0.1110,  0.1605,  0.2311,  0.3216,\n",
       "                          0.4252,  1.0000,  1.1667,  1.3333,  1.5000],\n",
       "                        [-0.5000, -0.3333, -0.1667,  0.0000,  0.1456,  0.4093,  0.5261,  0.8551,\n",
       "                          0.9339,  1.0000,  1.1667,  1.3333,  1.5000],\n",
       "                        [-0.5000, -0.3333, -0.1667,  0.0000,  0.1550,  0.4565,  0.5558,  0.6626,\n",
       "                          0.8585,  1.0000,  1.1667,  1.3333,  1.5000],\n",
       "                        [-0.5000, -0.3333, -0.1667,  0.0000,  0.0857,  0.2605,  0.4295,  0.4724,\n",
       "                          0.6937,  1.0000,  1.1667,  1.3333,  1.5000],\n",
       "                        [-0.5000, -0.3333, -0.1667,  0.0000,  0.3060,  0.4355,  0.4871,  0.6028,\n",
       "                          0.6717,  1.0000,  1.1667,  1.3333,  1.5000]], device='cuda:0')),\n",
       "               ('act_fun.0.coef',\n",
       "                tensor([[[ 0.1171,  0.2188,  0.2659,  0.2823,  0.3511, -0.0366,  0.5663,\n",
       "                          -0.2257, -0.1276],\n",
       "                         [ 0.0973,  0.2625,  0.5721, -0.0516,  0.4348, -0.4191,  0.9257,\n",
       "                          -0.1974, -0.2697]],\n",
       "                \n",
       "                        [[ 0.0048,  0.0889,  0.5987, -0.1797,  0.5874,  0.1716,  0.5310,\n",
       "                          -0.5600,  0.1560],\n",
       "                         [-0.0334, -0.1277,  0.1012,  0.0255,  0.3317,  0.1105,  0.8382,\n",
       "                          -0.1996,  0.1375]],\n",
       "                \n",
       "                        [[ 0.0428,  0.1785,  0.4883,  0.7079, -0.0364,  0.1111,  0.2066,\n",
       "                           0.0473, -0.2052],\n",
       "                         [ 0.1007,  0.4262,  0.2881,  0.2086, -0.4385,  0.3944,  0.4921,\n",
       "                           0.3070, -0.6212]],\n",
       "                \n",
       "                        [[ 0.0602,  0.4870,  0.2827,  0.2630,  0.3085,  0.2627, -0.0807,\n",
       "                           0.3346, -0.4278],\n",
       "                         [-0.0829, -0.0694,  0.3902,  0.2460,  0.1895,  0.3361, -0.2927,\n",
       "                           0.7349, -0.3106]],\n",
       "                \n",
       "                        [[ 0.0330,  0.3463,  0.2140,  0.7208, -0.0517,  0.1613, -0.0946,\n",
       "                          -0.0517,  0.2077],\n",
       "                         [-0.0182, -0.1010,  0.1708,  0.1560,  0.1928,  0.2573,  0.0913,\n",
       "                           0.1822,  0.0764]],\n",
       "                \n",
       "                        [[ 0.1446,  0.4210,  0.2557,  0.3333,  0.1979,  0.1616,  0.2845,\n",
       "                          -0.4839,  0.1068],\n",
       "                         [-0.0465,  0.0655,  0.2711,  0.1745,  0.2361,  0.2905,  0.3661,\n",
       "                          -0.0783, -0.2320]],\n",
       "                \n",
       "                        [[ 0.1663,  0.4056,  0.1985,  0.3016,  0.1352,  0.1021,  0.1745,\n",
       "                          -0.2671, -0.0224],\n",
       "                         [-0.0430,  0.2102,  0.1346,  0.3688,  0.1644,  0.2613,  0.4715,\n",
       "                          -0.1418, -0.1813]],\n",
       "                \n",
       "                        [[ 0.0171,  0.4912,  0.3476,  0.3161,  0.2452,  0.1022, -0.0075,\n",
       "                          -0.1929,  0.0452],\n",
       "                         [-0.0129,  0.3423,  0.3626,  0.2560,  0.3502, -0.1248, -0.1241,\n",
       "                          -0.4380,  0.4335]],\n",
       "                \n",
       "                        [[ 0.0239,  0.3245,  0.3551,  0.2647,  0.2565,  0.1466,  0.0836,\n",
       "                          -0.1120,  0.0596],\n",
       "                         [ 0.0032,  0.1807,  0.3416,  0.1412,  0.2303, -0.0311,  0.0600,\n",
       "                          -0.2392,  0.1151]],\n",
       "                \n",
       "                        [[ 0.0810,  0.2465,  0.4122,  0.7525, -0.0047,  0.0488,  0.0076,\n",
       "                          -0.0573, -0.0482],\n",
       "                         [ 0.1538,  0.3965, -0.2752,  0.8509,  0.3204, -0.1134,  0.2783,\n",
       "                          -0.2812, -0.1678]],\n",
       "                \n",
       "                        [[ 0.1052,  0.4553, -0.0263,  0.3670,  0.5129, -0.1145,  0.2977,\n",
       "                           0.1521, -0.1132],\n",
       "                         [ 0.0042, -0.0709, -0.1757,  0.2515,  0.1619, -0.2305,  0.5792,\n",
       "                           0.3491,  0.2383]],\n",
       "                \n",
       "                        [[ 0.1691,  0.5889,  0.4994,  0.2484,  0.1604,  0.1817, -0.1158,\n",
       "                          -0.1989, -0.0395],\n",
       "                         [ 0.1603,  0.6444, -0.1395,  0.1315,  0.2048,  0.0938, -0.1811,\n",
       "                           0.1903,  0.0023]],\n",
       "                \n",
       "                        [[ 0.2297,  0.8051,  0.4446,  0.1132,  0.1973,  0.0450,  0.3605,\n",
       "                          -0.2933, -0.1830],\n",
       "                         [ 0.2602,  0.5674, -0.1996,  0.0686,  0.2784,  0.0451,  0.3403,\n",
       "                          -0.1249, -0.1060]],\n",
       "                \n",
       "                        [[ 0.0385,  0.4973,  0.4995,  0.2262,  0.0435,  0.2193, -0.0125,\n",
       "                          -0.1451,  0.0458],\n",
       "                         [-0.0158,  0.0311,  0.6228,  0.2020,  0.1324,  0.0666,  0.0468,\n",
       "                          -0.3715,  0.1701]],\n",
       "                \n",
       "                        [[ 0.0404,  0.4723,  0.4620,  0.1739,  0.2983,  0.0214,  0.2313,\n",
       "                          -0.1279, -0.1882],\n",
       "                         [-0.3691,  0.7819,  0.1378,  0.4351,  0.1716,  0.0597,  0.2390,\n",
       "                          -0.2512, -0.2353]]], device='cuda:0')),\n",
       "               ('act_fun.0.mask',\n",
       "                tensor([[1., 1.],\n",
       "                        [1., 1.],\n",
       "                        [1., 1.],\n",
       "                        [1., 1.],\n",
       "                        [1., 1.],\n",
       "                        [1., 1.],\n",
       "                        [1., 1.],\n",
       "                        [1., 1.],\n",
       "                        [1., 1.],\n",
       "                        [1., 1.],\n",
       "                        [1., 1.],\n",
       "                        [1., 1.],\n",
       "                        [1., 1.],\n",
       "                        [1., 1.],\n",
       "                        [1., 1.]], device='cuda:0')),\n",
       "               ('act_fun.0.scale_base',\n",
       "                tensor([[ 3.6093e-02,  4.5226e-02],\n",
       "                        [ 7.1832e-01,  1.5926e+00],\n",
       "                        [ 4.0170e-01,  1.3351e-03],\n",
       "                        [ 3.3866e-01,  1.0092e-01],\n",
       "                        [ 6.7560e-01,  1.4167e+00],\n",
       "                        [ 3.0147e-01, -1.4727e-02],\n",
       "                        [ 5.6077e-02, -4.0274e-01],\n",
       "                        [ 3.8266e-01,  5.9202e-01],\n",
       "                        [ 2.7179e-01,  1.1021e-01],\n",
       "                        [ 3.5923e-01,  2.0288e-01],\n",
       "                        [ 9.8120e-01,  2.4103e+00],\n",
       "                        [ 5.6550e-01,  7.6517e-02],\n",
       "                        [ 4.4762e-01,  4.3539e-02],\n",
       "                        [ 3.7457e-01,  4.0149e-01],\n",
       "                        [ 2.9203e-01,  5.7249e-02]], device='cuda:0')),\n",
       "               ('act_fun.0.scale_sp',\n",
       "                tensor([[ 0.1475,  0.0683],\n",
       "                        [ 0.8106,  0.6463],\n",
       "                        [ 0.3170,  0.1115],\n",
       "                        [ 0.5444,  0.4479],\n",
       "                        [ 0.5460,  0.0266],\n",
       "                        [ 0.4097, -0.2334],\n",
       "                        [ 0.0918, -0.1564],\n",
       "                        [ 0.4455,  0.5230],\n",
       "                        [ 0.4446,  0.1739],\n",
       "                        [ 0.5403,  0.2061],\n",
       "                        [ 0.4635,  0.1859],\n",
       "                        [ 0.6629,  0.2038],\n",
       "                        [ 0.8023,  0.3335],\n",
       "                        [ 0.4438,  0.3516],\n",
       "                        [ 0.4404,  0.4191]], device='cuda:0')),\n",
       "               ('act_fun.1.grid',\n",
       "                tensor([[ 1.5142,  1.8088,  2.1033,  2.3978,  2.7337,  2.8747,  2.9591,  3.0513,\n",
       "                          3.3945,  4.1649,  4.4594,  4.7539,  5.0484],\n",
       "                        [-1.2605, -0.6163,  0.0280,  0.6723,  1.2276,  1.3810,  1.7107,  2.0547,\n",
       "                          2.4614,  4.5378,  5.1821,  5.8263,  6.4706]], device='cuda:0')),\n",
       "               ('act_fun.1.coef',\n",
       "                tensor([[[-0.3857,  0.3348, -0.0184,  0.2038, -0.2415,  0.6052, -0.6241,\n",
       "                          -0.6746,  0.7336]],\n",
       "                \n",
       "                        [[ 0.9177, -0.2584,  0.0666,  0.0709, -0.1053, -0.1699,  0.2039,\n",
       "                           0.0826, -0.0402]]], device='cuda:0')),\n",
       "               ('act_fun.1.mask',\n",
       "                tensor([[1.],\n",
       "                        [1.]], device='cuda:0')),\n",
       "               ('act_fun.1.scale_base',\n",
       "                tensor([[0.4754],\n",
       "                        [3.8566]], device='cuda:0')),\n",
       "               ('act_fun.1.scale_sp',\n",
       "                tensor([[1.5295],\n",
       "                        [0.4579]], device='cuda:0')),\n",
       "               ('symbolic_fun.0.mask',\n",
       "                tensor([[0., 0., 0., 0., 0., 0., 0., 0., 0., 0., 0., 0., 0., 0., 0.],\n",
       "                        [0., 0., 0., 0., 0., 0., 0., 0., 0., 0., 0., 0., 0., 0., 0.]],\n",
       "                       device='cuda:0')),\n",
       "               ('symbolic_fun.0.affine',\n",
       "                tensor([[[0., 0., 0., 0.],\n",
       "                         [0., 0., 0., 0.],\n",
       "                         [0., 0., 0., 0.],\n",
       "                         [0., 0., 0., 0.],\n",
       "                         [0., 0., 0., 0.],\n",
       "                         [0., 0., 0., 0.],\n",
       "                         [0., 0., 0., 0.],\n",
       "                         [0., 0., 0., 0.],\n",
       "                         [0., 0., 0., 0.],\n",
       "                         [0., 0., 0., 0.],\n",
       "                         [0., 0., 0., 0.],\n",
       "                         [0., 0., 0., 0.],\n",
       "                         [0., 0., 0., 0.],\n",
       "                         [0., 0., 0., 0.],\n",
       "                         [0., 0., 0., 0.]],\n",
       "                \n",
       "                        [[0., 0., 0., 0.],\n",
       "                         [0., 0., 0., 0.],\n",
       "                         [0., 0., 0., 0.],\n",
       "                         [0., 0., 0., 0.],\n",
       "                         [0., 0., 0., 0.],\n",
       "                         [0., 0., 0., 0.],\n",
       "                         [0., 0., 0., 0.],\n",
       "                         [0., 0., 0., 0.],\n",
       "                         [0., 0., 0., 0.],\n",
       "                         [0., 0., 0., 0.],\n",
       "                         [0., 0., 0., 0.],\n",
       "                         [0., 0., 0., 0.],\n",
       "                         [0., 0., 0., 0.],\n",
       "                         [0., 0., 0., 0.],\n",
       "                         [0., 0., 0., 0.]]], device='cuda:0')),\n",
       "               ('symbolic_fun.1.mask', tensor([[0., 0.]], device='cuda:0')),\n",
       "               ('symbolic_fun.1.affine',\n",
       "                tensor([[[0., 0., 0., 0.],\n",
       "                         [0., 0., 0., 0.]]], device='cuda:0'))])}]"
      ]
     },
     "execution_count": 70,
     "metadata": {},
     "output_type": "execute_result"
    }
   ],
   "source": [
    "grid_search_kan(dataset)"
   ]
  },
  {
   "cell_type": "markdown",
   "id": "83433c04-9ffe-4417-b568-0d20e9438a66",
   "metadata": {},
   "source": [
    "# ✅ Top 3 Configurations:\r\n",
    "1. width=[15, 6, 1], grid=3, lamb=0.0001 | loss=0.16930\r\n",
    "2. width=[15, 4, 1], grid=5, lamb=0.0001 | loss=0.17080\r\n",
    "3. width=[15, 2, 1], grid=6, lamb=0.001 | loss=0.17413"
   ]
  },
  {
   "cell_type": "code",
   "execution_count": 19,
   "id": "b5cbf4ce-d009-4ecf-a318-47ea20f17ce4",
   "metadata": {},
   "outputs": [
    {
     "name": "stdout",
     "output_type": "stream",
     "text": [
      "checkpoint directory created: ./model\n",
      "saving model version 0.0\n"
     ]
    },
    {
     "name": "stderr",
     "output_type": "stream",
     "text": [
      "| train_loss: 1.03e-01 | test_loss: 2.14e-01 | reg: 4.23e+01 | : 100%|█| 30/30 [00:39<00:00,  1.33s/\n"
     ]
    },
    {
     "name": "stdout",
     "output_type": "stream",
     "text": [
      "saving model version 0.1\n",
      "Best epoch 28\n",
      "0.19566118717193604\n"
     ]
    },
    {
     "data": {
      "image/png": "[encoded data removed]",
      "text/plain": [
       "<Figure size 640x480 with 1 Axes>"
      ]
     },
     "metadata": {},
     "output_type": "display_data"
    }
   ],
   "source": [
    "model = KAN(width=[attributes, 6, 1], grid=6, k=3, seed=381, device=device)\n",
    "results, best_model_state, best_epoch  = custom_fit(model, dataset, opt=\"LBFGS\", steps=30, lamb=0.0001)\n",
    "print(f'Best epoch {best_epoch}')\n",
    "model.load_state_dict(best_model_state)\n",
    "print(average_rmse(model(dataset['val_input']), dataset['val_label']))\n",
    "plt.plot(results['train_loss'])\n",
    "plt.plot(results['test_loss'])\n",
    "plt.legend(['train', 'test'])\n",
    "plt.ylabel('Accuracy')\n",
    "plt.xlabel('step')\n",
    "plt.yscale('log')"
   ]
  },
  {
   "cell_type": "code",
   "execution_count": 20,
   "id": "77aaad23-b694-4133-88ff-7fb32ca76128",
   "metadata": {},
   "outputs": [
    {
     "name": "stdout",
     "output_type": "stream",
     "text": [
      "checkpoint directory created: ./model\n",
      "saving model version 0.0\n"
     ]
    },
    {
     "name": "stderr",
     "output_type": "stream",
     "text": [
      "| train_loss: 1.54e-01 | test_loss: 2.20e-01 | reg: 3.95e+01 | : 100%|█| 30/30 [00:39<00:00,  1.32s/\n"
     ]
    },
    {
     "name": "stdout",
     "output_type": "stream",
     "text": [
      "saving model version 0.1\n",
      "Best epoch 22\n",
      "0.18288713693618774\n"
     ]
    },
    {
     "data": {
      "image/png": "[encoded data removed]",
      "text/plain": [
       "<Figure size 640x480 with 1 Axes>"
      ]
     },
     "metadata": {},
     "output_type": "display_data"
    }
   ],
   "source": [
    "model = KAN(width=[attributes, 6, 1], grid=3, k=3, seed=381, device=device)\n",
    "results, best_model_state, best_epoch  = custom_fit(model, dataset, opt=\"LBFGS\", steps=30, lamb=0.0001)\n",
    "print(f'Best epoch {best_epoch}')\n",
    "model.load_state_dict(best_model_state)\n",
    "print(average_rmse(model(dataset['val_input']), dataset['val_label']))\n",
    "plt.plot(results['train_loss'])\n",
    "plt.plot(results['test_loss'])\n",
    "plt.legend(['train', 'test'])\n",
    "plt.ylabel('Accuracy')\n",
    "plt.xlabel('step')\n",
    "plt.yscale('log')"
   ]
  },
  {
   "cell_type": "code",
   "execution_count": 21,
   "id": "dc748c07-b505-47e9-9476-e84ffbf3b9f8",
   "metadata": {},
   "outputs": [
    {
     "data": {
      "image/png": "[encoded data removed]",
      "text/plain": [
       "<Figure size 500x400 with 104 Axes>"
      ]
     },
     "metadata": {},
     "output_type": "display_data"
    }
   ],
   "source": [
    "model.plot()"
   ]
  },
  {
   "cell_type": "code",
   "execution_count": 22,
   "id": "d535f8d0-1e1c-4ee6-bc04-d86a16bf8d87",
   "metadata": {},
   "outputs": [
    {
     "data": {
      "text/plain": [
       "tensor([0.0814, 0.7814, 0.0527, 0.0330, 0.1639, 0.2613, 0.4990, 0.0796, 0.1084,\n",
       "        0.1260, 0.3850, 0.1089, 0.0963, 0.1493, 0.3243], device='cuda:0',\n",
       "       grad_fn=<MeanBackward1>)"
      ]
     },
     "execution_count": 22,
     "metadata": {},
     "output_type": "execute_result"
    }
   ],
   "source": [
    "model.feature_score"
   ]
  },
  {
   "cell_type": "markdown",
   "id": "7d9db396-7fe4-4043-97ce-b8f5983224af",
   "metadata": {},
   "source": [
    "# Hibrid"
   ]
  },
  {
   "cell_type": "code",
   "execution_count": 67,
   "id": "24658826-eff0-4b3d-b42b-e3d524d00b17",
   "metadata": {},
   "outputs": [],
   "source": [
    "class Model3(nn.Module):\n",
    "    def __init__(self, attributes, imgs_shape, device):\n",
    "        super(Model3, self).__init__()\n",
    "        # CNN branch\n",
    "        # self.cnn_branch = nn.Sequential(\n",
    "        #     nn.Conv2d(imgs_shape[0], 4, kernel_size=3),\n",
    "        #     nn.BatchNorm2d(4),\n",
    "        #     nn.Sigmoid(),\n",
    "        #     nn.MaxPool2d(2, 2),\n",
    "        #     nn.Flatten()\n",
    "        # ).to(device)\n",
    "\n",
    "        self.cnn_branch = nn.Sequential(\n",
    "            nn.Conv2d(imgs_shape[0], 16, kernel_size=3),\n",
    "            nn.LayerNorm([16, 10, 10]),\n",
    "            #nn.BatchNorm2d(16),\n",
    "            nn.Sigmoid(),\n",
    "            #nn.MaxPool2d(2),\n",
    "            nn.Flatten()\n",
    "        ).to(device)\n",
    "        \n",
    "        # Final KAN layers\n",
    "        self.m_kan = KAN(\n",
    "            width=[attributes, 6],\n",
    "            grid=3,\n",
    "            k=3,\n",
    "            seed=SEED,\n",
    "            device=device\n",
    "        )\n",
    "\n",
    "        # Calculate the size of the flattened output\n",
    "        self.flat_size = self._get_flat_size(imgs_shape)\n",
    "\n",
    "        # Final MLP layers\n",
    "        self.final_kan = KAN(\n",
    "            width=[self.flat_size + 6, 1],\n",
    "            grid=3,\n",
    "            k=3,\n",
    "            seed=SEED,\n",
    "            device=device\n",
    "        )\n",
    "\n",
    "        self.device = device\n",
    "\n",
    "\n",
    "    def _get_flat_size(self, imgs_shape):\n",
    "        # Forward pass with dummy input to calculate flat size\n",
    "        dummy_input = torch.zeros(4, *imgs_shape, device=device)\n",
    "        x = self.cnn_branch(dummy_input)\n",
    "        return x.size(1)\n",
    "\n",
    "    def get_concat_output(self, mlp_input, cnn_input):\n",
    "        # Ensure inputs are moved to the correct device\n",
    "        kan_input = mlp_input.to(self.device)\n",
    "        cnn_input = cnn_input.to(self.device)\n",
    "        \n",
    "        cnn_output = self.cnn_branch(cnn_input)  # Process image input\n",
    "        kan_output = self.m_kan(kan_input)  # Process numerical input\n",
    "        \n",
    "        return torch.cat((kan_output, cnn_output), dim=1)\n",
    "\n",
    "    \n",
    "    def forward(self, mlp_input, cnn_input):\n",
    "        concat_output = self.get_concat_output(mlp_input, cnn_input)\n",
    "        return self.final_kan(concat_output)"
   ]
  },
  {
   "cell_type": "code",
   "execution_count": 51,
   "id": "778b3363-4d46-4fd9-a9fb-1d8ea180e713",
   "metadata": {},
   "outputs": [],
   "source": [
    "import os\n",
    "import time\n",
    "import copy\n",
    "import numpy as np\n",
    "import torch\n",
    "import torch.optim as optim\n",
    "from torch.optim import LBFGS\n",
    "from tqdm import tqdm\n",
    "import matplotlib.pyplot as plt\n",
    "\n",
    "def fit_hybrid_dataloaders(model, \n",
    "                           dataset,\n",
    "                           opt=\"Adam\", \n",
    "                           steps=100, \n",
    "                           log=1, \n",
    "                           lamb=0., \n",
    "                           lamb_l1=1., \n",
    "                           lamb_entropy=2., \n",
    "                           lamb_coef=0., \n",
    "                           lamb_coefdiff=0., \n",
    "                           update_grid=True, \n",
    "                           grid_update_num=10, \n",
    "                           loss_fn=None, \n",
    "                           lr=1., \n",
    "                           start_grid_update_step=-1, \n",
    "                           stop_grid_update_step=50, \n",
    "                           batch=-1,\n",
    "                           metrics=None, \n",
    "                           save_fig=False, \n",
    "                           in_vars=None, \n",
    "                           out_vars=None, \n",
    "                           beta=3, \n",
    "                           save_fig_freq=1, \n",
    "                           img_folder='./video', \n",
    "                           singularity_avoiding=False, \n",
    "                           y_th=1000., \n",
    "                           reg_metric='edge_forward_spline_n', \n",
    "                           display_metrics=None,\n",
    "                           sum_f_reg=True):\n",
    "    \"\"\"\n",
    "    Trains the hybrid model (with a KAN branch and a CNN branch) using a steps-based loop\n",
    "    adapted from KAN.fit(), with grid updates and regularization.\n",
    "    \n",
    "    Instead of a single dataset dict, this function accepts three DataLoaders:\n",
    "        - train_loader: provides (mlp, img, target) for training\n",
    "        - val_loader: provides (mlp, img, target) for validation\n",
    "        - test_loader: provides (mlp, img, target) for evaluation during training\n",
    "\n",
    "    Internally, the function combines each loader into a dataset dictionary.\n",
    "    \n",
    "    Returns:\n",
    "        results: dictionary containing training loss, evaluation loss, regularization values,\n",
    "                 and any additional metrics recorded during training.\n",
    "    \"\"\"\n",
    "    #device = next(model.parameters()).device\n",
    "\n",
    "    # Warn if regularization is requested but model's internal flag isn't enabled.\n",
    "    if lamb > 0. and not getattr(model.m_kan, \"save_act\", False):\n",
    "        print(\"setting lamb=0. If you want to set lamb > 0, set model.m_kan.save_act=True\")\n",
    "    \n",
    "    # Disable symbolic processing for training if applicable (KAN internal logic)\n",
    "    if hasattr(model.m_kan, \"disable_symbolic_in_fit\"):\n",
    "        old_save_act, old_symbolic_enabled = model.m_kan.disable_symbolic_in_fit(lamb)\n",
    "        f_old_save_act, f_old_symbolic_enabled = model.final_kan.disable_symbolic_in_fit(lamb)\n",
    "    else:\n",
    "        old_save_act, old_symbolic_enabled = None, None\n",
    "\n",
    "    pbar = tqdm(range(steps), desc='Training', ncols=100)\n",
    "\n",
    "    # Default loss function (mean squared error) if not provided\n",
    "    if loss_fn is None:\n",
    "        loss_fn = lambda x, y: torch.mean((x - y) ** 2)\n",
    "\n",
    "    # Determine grid update frequency\n",
    "    grid_update_freq = int(stop_grid_update_step / grid_update_num) if grid_update_num > 0 else 1\n",
    "\n",
    "    # Determine total number of training examples\n",
    "    n_train = dataset[\"train_input\"].shape[0]\n",
    "    n_eval  = dataset[\"test_input\"].shape[0]  # using test set for evaluation during training\n",
    "    batch_size = n_train if batch == -1 or batch > n_train else batch\n",
    "\n",
    "    # Set up optimizer: choose between Adam and LBFGS (removed tolerance_ys)\n",
    "    if opt == \"Adam\":\n",
    "        optimizer = optim.Adam(model.parameters(), lr=lr)\n",
    "    elif opt == \"LBFGS\":\n",
    "        optimizer = LBFGS(model.parameters(), lr=lr, history_size=10, \n",
    "                          line_search_fn=\"strong_wolfe\", \n",
    "                          tolerance_grad=1e-32, \n",
    "                          tolerance_change=1e-32)\n",
    "    else:\n",
    "        raise ValueError(\"Optimizer not recognized. Use 'Adam' or 'LBFGS'.\")\n",
    "\n",
    "    # Prepare results dictionary.\n",
    "    results = {\n",
    "        'train_loss': [],\n",
    "        'eval_loss': [],\n",
    "        'val_loss': [],\n",
    "        'reg': []\n",
    "    }\n",
    "\n",
    "    \n",
    "    if metrics is not None:\n",
    "        for metric in metrics:\n",
    "            results[metric.__name__] = []\n",
    "\n",
    "    best_model_state = None\n",
    "    best_epoch = -1\n",
    "    best_loss = float('inf')\n",
    "\n",
    "    for step in pbar:\n",
    "        # Randomly sample indices for a mini-batch from the training set.\n",
    "        train_indices = np.random.choice(n_train, batch_size, replace=False)\n",
    "        # Use full evaluation set for evaluation; you can also sample if desired.\n",
    "        eval_indices = np.arange(n_eval)\n",
    "\n",
    "        # Closure for LBFGS\n",
    "        def closure():\n",
    "            optimizer.zero_grad()\n",
    "            mlp_batch = dataset[\"train_input\"][train_indices]\n",
    "            img_batch = dataset[\"train_img\"][train_indices]\n",
    "            target_batch = dataset[\"train_label\"][train_indices]\n",
    "            outputs = model(mlp_batch, img_batch)\n",
    "            train_loss = loss_fn(outputs, target_batch)\n",
    "            # Compute regularization term if enabled.\n",
    "            if hasattr(model.m_kan, \"save_act\") and model.m_kan.save_act:\n",
    "                if reg_metric == 'edge_backward':\n",
    "                    model.m_kan.attribute()\n",
    "                    model.final_kan.attribute()\n",
    "                if reg_metric == 'node_backward':\n",
    "                    model.m_kan.node_attribute()\n",
    "                    model.final_kan.node_attribute()\n",
    "                reg_val_inner = model.m_kan.get_reg(reg_metric, lamb_l1, lamb_entropy, lamb_coef, lamb_coefdiff)\n",
    "                if sum_f_reg:\n",
    "                    reg_val_inner = reg_val_inner + model.final_kan.get_reg(reg_metric, lamb_l1, lamb_entropy, lamb_coef, lamb_coefdiff)\n",
    "            else:\n",
    "                reg_val_inner = torch.tensor(0., device=device)\n",
    "            loss_val_inner = train_loss + lamb * reg_val_inner\n",
    "            loss_val_inner.backward()\n",
    "            return loss_val_inner\n",
    "\n",
    "        # Perform grid update if applicable.\n",
    "        if (step % grid_update_freq == 0 and step < stop_grid_update_step \n",
    "            and update_grid and step >= start_grid_update_step):\n",
    "            \n",
    "            mlp_batch = dataset['train_input'][train_indices]\n",
    "            cnn_batch = dataset['train_img'][train_indices]\n",
    "            \n",
    "            model.m_kan.update_grid(mlp_batch)\n",
    "            #cnn_output = model.cnn_branch(cnn_batch)  # Process image input\n",
    "            concatenated  = model.get_concat_output(mlp_batch, cnn_batch)\n",
    "            #concatenated = torch.cat((mlp_batch, cnn_output), dim=1)\n",
    "            model.final_kan.update_grid(concatenated)\n",
    "\n",
    "        # Perform an optimizer step.\n",
    "        if opt == \"LBFGS\":\n",
    "            optimizer.step(closure)\n",
    "            loss_val = closure()  # re-evaluate to record loss\n",
    "            # Compute reg_val separately for logging\n",
    "            with torch.no_grad():\n",
    "                mlp_batch = dataset[\"train_input\"][train_indices]\n",
    "                img_batch = dataset[\"train_img\"][train_indices]\n",
    "                target_batch = dataset[\"train_label\"][train_indices]\n",
    "                outputs = model(mlp_batch, img_batch)\n",
    "                train_loss = loss_fn(outputs, target_batch)\n",
    "                if hasattr(model.m_kan, \"save_act\") and model.m_kan.save_act:\n",
    "                    if reg_metric == 'edge_backward':\n",
    "                        model.m_kan.attribute()\n",
    "                        model.final_kan.attribute()\n",
    "                    if reg_metric == 'node_backward':\n",
    "                        model.m_kan.node_attribute()\n",
    "                        model.final_kan.node_attribute()\n",
    "                    reg_val = model.m_kan.get_reg(reg_metric, lamb_l1, lamb_entropy, lamb_coef, lamb_coefdiff)\n",
    "                    if sum_f_reg:\n",
    "                        reg_val = reg_val + model.final_kan.get_reg(reg_metric, lamb_l1, lamb_entropy, lamb_coef, lamb_coefdiff)\n",
    "                else:\n",
    "                    reg_val = torch.tensor(0., device=device)\n",
    "        else:  # Adam branch\n",
    "            optimizer.zero_grad()\n",
    "            mlp_batch = dataset[\"train_input\"][train_indices]\n",
    "            img_batch = dataset[\"train_img\"][train_indices]\n",
    "            target_batch = dataset[\"train_label\"][train_indices]\n",
    "            outputs = model(mlp_batch, img_batch)\n",
    "            train_loss = loss_fn(outputs, target_batch)\n",
    "            if hasattr(model.m_kan, \"save_act\") and model.m_kan.save_act:\n",
    "                if reg_metric == 'edge_backward':\n",
    "                    model.m_kan.attribute()\n",
    "                    model.final_kan.attribute()\n",
    "                if reg_metric == 'node_backward':\n",
    "                    model.m_kan.node_attribute()\n",
    "                    model.final_kan.node_attribute()\n",
    "                reg_val = model.m_kan.get_reg(reg_metric, lamb_l1, lamb_entropy, lamb_coef, lamb_coefdiff)\n",
    "                if sum_f_reg:\n",
    "                    reg_val = reg_val + model.final_kan.get_reg(reg_metric, lamb_l1, lamb_entropy, lamb_coef, lamb_coefdiff)\n",
    "            else:\n",
    "                reg_val = torch.tensor(0., device=device)\n",
    "            loss_val = train_loss + lamb * reg_val\n",
    "            loss_val.backward()\n",
    "            optimizer.step()\n",
    "\n",
    "        # Evaluate on the entire evaluation set (from test_loader)\n",
    "        mlp_eval = dataset[\"test_input\"][eval_indices]\n",
    "        img_eval = dataset[\"test_img\"][eval_indices]\n",
    "        target_eval = dataset[\"test_label\"][eval_indices]\n",
    "        eval_loss = loss_fn(model(mlp_eval, img_eval), target_eval)\n",
    "\n",
    "        # Record results (using square-root of loss similar to KAN.fit)\n",
    "        results['train_loss'].append(torch.sqrt(loss_val.detach()).item())\n",
    "        results['eval_loss'].append(torch.sqrt(eval_loss.detach()).item())\n",
    "        results['reg'].append(reg_val.detach().item())\n",
    "\n",
    "        # New: Compute validation loss if validation data exists in the dataset.\n",
    "        # val_loss = loss_fn(model(dataset['val_input'][eval_indices], dataset['val_img'][eval_indices]), dataset['val_label'][eval_indices])\n",
    "        # results['val_loss'].append(torch.sqrt(val_loss).cpu().detach().numpy())\n",
    "\n",
    "        if metrics is not None:\n",
    "            for metric in metrics:\n",
    "                # Here, we assume each metric returns a tensor.\n",
    "                results[metric.__name__].append(metric().item())\n",
    "\n",
    "        if eval_loss < best_loss:\n",
    "            best_epoch = step\n",
    "            best_loss = eval_loss\n",
    "            best_model_state = copy.deepcopy(model.state_dict())\n",
    "\n",
    "        # Update progress bar.\n",
    "        if display_metrics is None:\n",
    "            pbar.set_description(\"| train_loss: %.2e | eval_loss: %.2e | reg: %.2e |\" %\n",
    "                                 (torch.sqrt(loss_val.detach()).item(),\n",
    "                                  torch.sqrt(eval_loss.detach()).item(),\n",
    "                                  reg_val.detach().item()))\n",
    "        else:\n",
    "            desc = \"\"\n",
    "            data = []\n",
    "            for metric in display_metrics:\n",
    "                desc += f\" {metric}: %.2e |\"\n",
    "                data.append(results[metric.__name__][-1])\n",
    "            pbar.set_description(desc % tuple(data))\n",
    "\n",
    "        # Optionally save a figure snapshot.\n",
    "        if save_fig and step % save_fig_freq == 0:\n",
    "            save_act_backup = getattr(model.m_kan, \"save_act\", False)\n",
    "            model.m_kan.save_act = True\n",
    "            model.plot(folder=img_folder, in_vars=in_vars, out_vars=out_vars, title=f\"Step {step}\", beta=beta)\n",
    "            plt.savefig(os.path.join(img_folder, f\"{step}.jpg\"), bbox_inches='tight', dpi=200)\n",
    "            plt.close()\n",
    "            model.m_kan.save_act = save_act_backup\n",
    "\n",
    "    # Restore original settings if applicable.\n",
    "    if old_symbolic_enabled is not None:\n",
    "        model.m_kan.symbolic_enabled = old_symbolic_enabled\n",
    "    if hasattr(model.m_kan, \"log_history\"):\n",
    "        model.m_kan.log_history('fit')\n",
    "    print(f\"Best epoch {best_epoch}\")\n",
    "    return results, best_model_state"
   ]
  },
  {
   "cell_type": "code",
   "execution_count": 55,
   "id": "62b73317-6449-4275-88bc-5b621113a19f",
   "metadata": {},
   "outputs": [],
   "source": [
    "import traceback\n",
    "\n",
    "def try_create_model(model_class, attributes, imgs_shape, device):\n",
    "    try:\n",
    "        model = model_class(attributes, imgs_shape, device)\n",
    "        \n",
    "        # Test the model with a sample input\n",
    "        num_input = torch.randn(4, attributes)\n",
    "        img_input = torch.randn(4, *imgs_shape)\n",
    "        output = model(num_input, img_input)\n",
    "        \n",
    "        print(f\"Successfully created and tested {model_class.__name__}\")\n",
    "        \n",
    "        return model\n",
    "    except Exception as e:\n",
    "        print(f\"Error creating or testing {model_class.__name__}:\")\n",
    "        traceback.print_exc()\n",
    "        return None"
   ]
  },
  {
   "cell_type": "code",
   "execution_count": 71,
   "id": "bb9029e9-a63e-4698-ad92-934943ae165c",
   "metadata": {},
   "outputs": [
    {
     "name": "stdout",
     "output_type": "stream",
     "text": [
      "checkpoint directory created: ./model\n",
      "saving model version 0.0\n",
      "checkpoint directory created: ./model\n",
      "saving model version 0.0\n",
      "Successfully created and tested Model3\n"
     ]
    },
    {
     "name": "stderr",
     "output_type": "stream",
     "text": [
      "| train_loss: 2.66e-01 | eval_loss: 2.61e-01 | reg: 3.74e+01 |: 100%|█| 30/30 [00:27<00:00,  1.10it/"
     ]
    },
    {
     "name": "stdout",
     "output_type": "stream",
     "text": [
      "saving model version 0.1\n",
      "Best epoch 29\n",
      "0.18655365705490112\n"
     ]
    },
    {
     "name": "stderr",
     "output_type": "stream",
     "text": [
      "\n"
     ]
    },
    {
     "data": {
      "image/png": "[encoded data removed]",
      "text/plain": [
       "<Figure size 640x480 with 1 Axes>"
      ]
     },
     "metadata": {},
     "output_type": "display_data"
    }
   ],
   "source": [
    "model3 = try_create_model(Model3, attributes, imgs_shape, device)  # Attempt to create Model3\n",
    "metrics3, best_model_state = fit_hybrid_dataloaders(model3, dataset, opt=\"LBFGS\", steps=15, lamb=.001, sum_f_reg=True)\n",
    "model3.load_state_dict(best_model_state)\n",
    "print(average_rmse(model3(dataset['val_input'], dataset['val_img']), dataset['val_label']))\n",
    "plt.plot(metrics3['train_loss'])\n",
    "plt.plot(metrics3['eval_loss'])\n",
    "plt.legend(['train', 'test'])\n",
    "plt.ylabel('Accuracy')\n",
    "plt.xlabel('step')\n",
    "plt.yscale('log')"
   ]
  },
  {
   "cell_type": "code",
   "execution_count": 52,
   "id": "65e5a926-d66f-43d0-9148-4c795e6eae45",
   "metadata": {},
   "outputs": [
    {
     "name": "stdout",
     "output_type": "stream",
     "text": [
      "checkpoint directory created: ./model\n",
      "saving model version 0.0\n",
      "checkpoint directory created: ./model\n",
      "saving model version 0.0\n",
      "Successfully created and tested Model3\n"
     ]
    },
    {
     "name": "stderr",
     "output_type": "stream",
     "text": [
      "| train_loss: 5.37e-01 | eval_loss: 3.13e-01 | reg: 2.40e+01 |: 100%|█| 30/30 [00:44<00:00,  1.49s/i\n"
     ]
    },
    {
     "name": "stdout",
     "output_type": "stream",
     "text": [
      "saving model version 0.1\n",
      "Best epoch 28\n",
      "0.19295087456703186\n"
     ]
    },
    {
     "data": {
      "image/png": "[encoded data removed]",
      "text/plain": [
       "<Figure size 640x480 with 1 Axes>"
      ]
     },
     "metadata": {},
     "output_type": "display_data"
    }
   ],
   "source": [
    "model3 = try_create_model(Model3, attributes, imgs_shape, device)  # Attempt to create Model3\n",
    "metrics3, best_model_state = fit_hybrid_dataloaders(model3, dataset, opt=\"LBFGS\", steps=30, lamb=.01, sum_f_reg=True)\n",
    "model3.load_state_dict(best_model_state)\n",
    "print(average_rmse(model3(dataset['val_input'], dataset['val_img']), dataset['val_label']))\n",
    "plt.plot(metrics3['train_loss'])\n",
    "plt.plot(metrics3['eval_loss'])\n",
    "plt.legend(['train', 'test'])\n",
    "plt.ylabel('Accuracy')\n",
    "plt.xlabel('step')\n",
    "plt.yscale('log')"
   ]
  },
  {
   "cell_type": "code",
   "execution_count": 53,
   "id": "e4adf25f-6c76-4618-a889-1409805cedc7",
   "metadata": {},
   "outputs": [
    {
     "data": {
      "image/png": "[encoded data removed]",
      "text/plain": [
       "<Figure size 500x200 with 97 Axes>"
      ]
     },
     "metadata": {},
     "output_type": "display_data"
    }
   ],
   "source": [
    "model3.m_kan.plot()"
   ]
  },
  {
   "cell_type": "code",
   "execution_count": 54,
   "id": "5aacbffa-3101-465a-a1ba-9221d170e18a",
   "metadata": {},
   "outputs": [
    {
     "data": {
      "image/png": "[encoded data removed]",
      "text/plain": [
       "<Figure size 500x200 with 584 Axes>"
      ]
     },
     "metadata": {},
     "output_type": "display_data"
    }
   ],
   "source": [
    "model3.final_kan.plot()"
   ]
  },
  {
   "cell_type": "code",
   "execution_count": 55,
   "id": "94becfb2-8da9-4a58-b66c-840d547161e7",
   "metadata": {},
   "outputs": [
    {
     "name": "stdout",
     "output_type": "stream",
     "text": [
      "checkpoint directory created: ./model\n",
      "saving model version 0.0\n",
      "checkpoint directory created: ./model\n",
      "saving model version 0.0\n",
      "Successfully created and tested Model3\n"
     ]
    },
    {
     "name": "stderr",
     "output_type": "stream",
     "text": [
      "| train_loss: 2.34e-01 | eval_loss: 2.75e-01 | reg: 2.81e+01 |: 100%|█| 30/30 [00:46<00:00,  1.56s/i\n"
     ]
    },
    {
     "name": "stdout",
     "output_type": "stream",
     "text": [
      "saving model version 0.1\n",
      "Best epoch 10\n",
      "0.1977934092283249\n"
     ]
    },
    {
     "data": {
      "image/png": "[encoded data removed]",
      "text/plain": [
       "<Figure size 640x480 with 1 Axes>"
      ]
     },
     "metadata": {},
     "output_type": "display_data"
    }
   ],
   "source": [
    "model3 = try_create_model(Model3, attributes, imgs_shape, device)  # Attempt to create Model3\n",
    "metrics3, best_model_state = fit_hybrid_dataloaders(model3, dataset, opt=\"LBFGS\", steps=30, lamb=.001, sum_f_reg=True)\n",
    "model3.load_state_dict(best_model_state)\n",
    "print(average_rmse(model3(dataset['val_input'], dataset['val_img']), dataset['val_label']))\n",
    "plt.plot(metrics3['train_loss'])\n",
    "plt.plot(metrics3['eval_loss'])\n",
    "plt.legend(['train', 'test'])\n",
    "plt.ylabel('Accuracy')\n",
    "plt.xlabel('step')\n",
    "plt.yscale('log')"
   ]
  },
  {
   "cell_type": "code",
   "execution_count": 56,
   "id": "c6032d4d-d41c-4620-a2fa-ddbdc32e0686",
   "metadata": {},
   "outputs": [
    {
     "data": {
      "image/png": "[encoded data removed]",
      "text/plain": [
       "<Figure size 500x200 with 97 Axes>"
      ]
     },
     "metadata": {},
     "output_type": "display_data"
    }
   ],
   "source": [
    "model3.m_kan.plot()"
   ]
  },
  {
   "cell_type": "code",
   "execution_count": 57,
   "id": "4ad1bbfa-4447-4172-9811-fd69abed665c",
   "metadata": {},
   "outputs": [
    {
     "data": {
      "image/png": "[encoded data removed]",
      "text/plain": [
       "<Figure size 500x200 with 584 Axes>"
      ]
     },
     "metadata": {},
     "output_type": "display_data"
    }
   ],
   "source": [
    "model3.final_kan.plot()"
   ]
  },
  {
   "cell_type": "code",
   "execution_count": 105,
   "id": "2451fde5-c58d-44fe-9048-68c3ba7cb706",
   "metadata": {},
   "outputs": [
    {
     "name": "stdout",
     "output_type": "stream",
     "text": [
      "checkpoint directory created: ./model\n",
      "saving model version 0.0\n",
      "checkpoint directory created: ./model\n",
      "saving model version 0.0\n",
      "Successfully created and tested Model3\n"
     ]
    },
    {
     "name": "stderr",
     "output_type": "stream",
     "text": [
      "| train_loss: 1.89e-01 | eval_loss: 2.53e-01 | reg: 5.52e-01 |: 100%|█| 30/30 [00:07<00:00,  4.10it/"
     ]
    },
    {
     "name": "stdout",
     "output_type": "stream",
     "text": [
      "saving model version 0.1\n",
      "Best epoch 24\n",
      "0.22296445071697235\n"
     ]
    },
    {
     "name": "stderr",
     "output_type": "stream",
     "text": [
      "\n"
     ]
    },
    {
     "data": {
      "image/png": "[encoded data removed]",
      "text/plain": [
       "<Figure size 640x480 with 1 Axes>"
      ]
     },
     "metadata": {},
     "output_type": "display_data"
    }
   ],
   "source": [
    "model3 = try_create_model(Model3, attributes, imgs_shape, device)  # Attempt to create Model3\n",
    "metrics3, best_model_state = fit_hybrid_dataloaders(model3, dataset, opt=\"LBFGS\", steps=30, lamb=.01, lamb_l1=0.1, sum_f_reg=False)\n",
    "model3.load_state_dict(best_model_state)\n",
    "print(average_rmse(model3(dataset['val_input'], dataset['val_img']), dataset['val_label']))\n",
    "plt.plot(metrics3['train_loss'])\n",
    "plt.plot(metrics3['eval_loss'])\n",
    "plt.legend(['train', 'test'])\n",
    "plt.ylabel('Accuracy')\n",
    "plt.xlabel('step')\n",
    "plt.yscale('log')"
   ]
  },
  {
   "cell_type": "code",
   "execution_count": 106,
   "id": "101a4d6d-fccb-4a64-8076-8de69668ace1",
   "metadata": {},
   "outputs": [
    {
     "name": "stdout",
     "output_type": "stream",
     "text": [
      "checkpoint directory created: ./model\n",
      "saving model version 0.0\n",
      "checkpoint directory created: ./model\n",
      "saving model version 0.0\n",
      "Successfully created and tested Model3\n"
     ]
    },
    {
     "name": "stderr",
     "output_type": "stream",
     "text": [
      "| train_loss: 1.86e-01 | eval_loss: 3.28e-01 | reg: 4.91e-01 |: 100%|█| 30/30 [00:07<00:00,  4.08it/"
     ]
    },
    {
     "name": "stdout",
     "output_type": "stream",
     "text": [
      "saving model version 0.1\n",
      "Best epoch 17\n",
      "0.22796186804771423\n"
     ]
    },
    {
     "name": "stderr",
     "output_type": "stream",
     "text": [
      "\n"
     ]
    },
    {
     "data": {
      "image/png": "[encoded data removed]",
      "text/plain": [
       "<Figure size 640x480 with 1 Axes>"
      ]
     },
     "metadata": {},
     "output_type": "display_data"
    }
   ],
   "source": [
    "model3 = try_create_model(Model3, attributes, imgs_shape, device)  # Attempt to create Model3\n",
    "metrics3, best_model_state = fit_hybrid_dataloaders(model3, dataset, opt=\"LBFGS\", steps=30, lamb=.01, lamb_l1=0.1, sum_f_reg=False)\n",
    "model3.load_state_dict(best_model_state)\n",
    "print(average_rmse(model3(dataset['val_input'], dataset['val_img']), dataset['val_label']))\n",
    "plt.plot(metrics3['train_loss'])\n",
    "plt.plot(metrics3['eval_loss'])\n",
    "plt.legend(['train', 'test'])\n",
    "plt.ylabel('Accuracy')\n",
    "plt.xlabel('step')\n",
    "plt.yscale('log')"
   ]
  },
  {
   "cell_type": "code",
   "execution_count": 107,
   "id": "e92f4acf-3637-47f3-b93b-9e10130f05e6",
   "metadata": {},
   "outputs": [
    {
     "data": {
      "image/png": "[encoded data removed]",
      "text/plain": [
       "<Figure size 500x200 with 97 Axes>"
      ]
     },
     "metadata": {},
     "output_type": "display_data"
    }
   ],
   "source": [
    "model3.m_kan.plot()"
   ]
  },
  {
   "cell_type": "code",
   "execution_count": 108,
   "id": "a050918d-3b60-4699-b145-fc03b6c22d75",
   "metadata": {},
   "outputs": [
    {
     "data": {
      "image/png": "[encoded data removed]",
      "text/plain": [
       "<Figure size 500x200 with 152 Axes>"
      ]
     },
     "metadata": {},
     "output_type": "display_data"
    }
   ],
   "source": [
    "model3.final_kan.plot()"
   ]
  },
  {
   "cell_type": "code",
   "execution_count": 109,
   "id": "d98d69e2-579c-4bda-9052-525e0f1bf9f0",
   "metadata": {},
   "outputs": [
    {
     "data": {
      "text/plain": [
       "tensor([6.2624e-03, 1.7351e-05, 6.1288e-04, 1.9268e-04, 2.1678e-02, 1.2519e-04,\n",
       "        4.5414e-03, 8.2971e-03, 4.5584e-03, 1.0958e-02, 1.4398e-02, 2.1678e-03,\n",
       "        5.7378e-03, 9.7119e-04, 2.3458e-03, 6.9212e-03, 3.5140e-02, 2.7707e-02,\n",
       "        1.4229e-02, 1.9332e-02, 8.0070e-03, 4.5243e-02, 2.4936e-02, 1.1336e-02,\n",
       "        2.2160e-02, 3.3170e-02, 1.0205e-02, 1.2704e-02, 2.3642e-02, 5.1510e-03,\n",
       "        2.4066e-02, 1.5866e-02, 6.2078e-03, 1.6638e-02, 3.4956e-02, 8.8700e-03,\n",
       "        1.3456e-02, 3.4362e-02, 1.1675e-02, 1.8859e-02, 2.2307e-02, 7.6911e-03,\n",
       "        2.9898e-03, 7.3144e-03, 5.8202e-03, 2.7479e-03, 2.4839e-02, 9.5968e-03,\n",
       "        1.7213e-02, 5.0910e-03, 9.3388e-03, 1.9334e-02, 3.4887e-02, 3.9070e-03,\n",
       "        5.9159e-03, 2.2265e-02, 7.1011e-03, 2.0593e-02, 1.1262e-02, 9.1151e-04,\n",
       "        1.2201e-02, 5.4077e-03, 9.2544e-03, 5.6390e-03, 1.1411e-02, 2.1506e-03,\n",
       "        2.2896e-02, 1.5566e-02, 1.6604e-02, 2.6661e-02, 3.4957e-02, 9.3779e-03,\n",
       "        1.2119e-03, 1.0863e-02, 1.5719e-03, 1.8375e-02, 5.3327e-03, 3.0737e-03,\n",
       "        8.6976e-03, 2.8640e-02, 1.0623e-02, 3.1971e-02, 1.1489e-02, 2.3848e-02,\n",
       "        1.2187e-03, 5.3287e-03, 5.2048e-03, 9.3393e-03, 1.5586e-02, 9.0071e-03,\n",
       "        1.6152e-02, 2.9879e-02, 1.1155e-02, 8.2051e-03, 6.2218e-03, 3.5422e-03,\n",
       "        9.3668e-03, 6.6044e-03, 4.0659e-02, 1.5473e-02, 2.4776e-02, 7.9326e-03,\n",
       "        5.1266e-02, 1.9079e-03, 7.8758e-03, 2.0665e-03, 2.1404e-03, 1.4364e-03,\n",
       "        1.2715e-02, 9.1844e-03, 1.5773e-02, 7.5210e-03, 4.9320e-03, 1.5381e-02,\n",
       "        6.6386e-03, 3.6182e-02, 3.7338e-03, 8.6349e-03, 2.9944e-02, 2.8153e-02,\n",
       "        1.6053e-02, 1.3216e-02, 1.0906e-03, 3.9731e-02, 3.7557e-02, 8.4488e-03,\n",
       "        2.1400e-03, 9.2125e-03, 5.3590e-04, 1.5771e-02, 6.7477e-03, 5.7583e-03,\n",
       "        3.4197e-02, 2.6690e-02, 6.2289e-03, 1.7866e-02, 1.2435e-02, 8.2029e-03,\n",
       "        2.4069e-02, 6.8940e-04, 1.0969e-02, 6.6435e-03, 1.1709e-02, 2.7183e-03,\n",
       "        4.4503e-03, 3.1823e-02, 2.8852e-02, 8.8006e-04, 8.8388e-03, 1.8244e-03],\n",
       "       device='cuda:0', grad_fn=<MeanBackward1>)"
      ]
     },
     "execution_count": 109,
     "metadata": {},
     "output_type": "execute_result"
    }
   ],
   "source": [
    "model3.final_kan.feature_score"
   ]
  },
  {
   "cell_type": "code",
   "execution_count": 37,
   "id": "2b7dc18d-5bec-4fe8-9adc-152a4501f2db",
   "metadata": {},
   "outputs": [],
   "source": [
    "class Model4(nn.Module):\n",
    "    def __init__(self, attributes, imgs_shape, device):\n",
    "        super(Model4, self).__init__()\n",
    "        # CNN branch\n",
    "        self.cnn_branch = nn.Sequential(\n",
    "            nn.Conv2d(imgs_shape[0], out_channels=16, kernel_size=3),\n",
    "            nn.BatchNorm2d(16),\n",
    "            nn.ReLU(),\n",
    "            nn.MaxPool2d(2, 2),\n",
    "            nn.Conv2d(16, 32, kernel_size=3, padding=1),\n",
    "            nn.BatchNorm2d(32),\n",
    "            nn.ReLU(),\n",
    "            nn.Conv2d(32, 16, kernel_size=3, padding=1),\n",
    "            nn.ReLU(),\n",
    "            nn.MaxPool2d(2, 2),\n",
    "            nn.Conv2d(16, 8, kernel_size=3, padding=1),\n",
    "            nn.Sigmoid(),\n",
    "            nn.Flatten()\n",
    "        ).to(device)\n",
    "        # Middle KAN layers\n",
    "        self.m_kan = KAN(\n",
    "            width=[attributes, 6],\n",
    "            grid=3,\n",
    "            k=3,\n",
    "            seed=SEED,\n",
    "            device=device\n",
    "        )\n",
    "        # Calculate the size of the flattened output\n",
    "        self.flat_size = self._get_flat_size(imgs_shape)\n",
    "        # Final MLP layers\n",
    "        self.final_kan = KAN(\n",
    "            width=[self.flat_size + 6, 1],\n",
    "            grid=3,\n",
    "            k=3,\n",
    "            device=device\n",
    "        )\n",
    "        \n",
    "        self.device = device\n",
    "       \n",
    "        # Calculate the size of the flattened output\n",
    "        self.flat_size = self._get_flat_size(imgs_shape)\n",
    "        \n",
    "        # Final MLP layers\n",
    "        self.final_kan = KAN(\n",
    "            width=[self.flat_size + 1, 1],\n",
    "            grid=6,\n",
    "            k=3,\n",
    "            device=device\n",
    "        )\n",
    "\n",
    "    def _get_flat_size(self, imgs_shape):\n",
    "        # Forward pass with dummy input to calculate flat size\n",
    "        dummy_input = torch.zeros(4, *imgs_shape, device=device)\n",
    "        x = self.cnn_branch(dummy_input)\n",
    "        return x.size(1)\n",
    "\n",
    "    def get_concat_output(self, mlp_input, cnn_input):\n",
    "        # Ensure inputs are moved to the correct device\n",
    "        kan_input = mlp_input.to(self.device)\n",
    "        cnn_input = cnn_input.to(self.device)\n",
    "        \n",
    "        cnn_output = self.cnn_branch(cnn_input)  # Process image input\n",
    "        kan_output = self.m_kan(kan_input)  # Process numerical input\n",
    "        \n",
    "        return torch.cat((kan_output, cnn_output), dim=1)\n",
    "\n",
    "    \n",
    "    def forward(self, mlp_input, cnn_input):\n",
    "        concat_output = self.get_concat_output(mlp_input, cnn_input)\n",
    "        return self.final_kan(concat_output)"
   ]
  },
  {
   "cell_type": "code",
   "execution_count": 42,
   "id": "afbead4b-f8f5-474d-b104-a78059819879",
   "metadata": {},
   "outputs": [
    {
     "name": "stdout",
     "output_type": "stream",
     "text": [
      "checkpoint directory created: ./model\n",
      "saving model version 0.0\n",
      "checkpoint directory created: ./model\n",
      "saving model version 0.0\n",
      "checkpoint directory created: ./model\n",
      "saving model version 0.0\n",
      "Successfully created and tested Model4\n"
     ]
    },
    {
     "name": "stderr",
     "output_type": "stream",
     "text": [
      "| train_loss: 1.73e-01 | eval_loss: 4.28e-01 | reg: 3.68e+01 |: 100%|█| 10/10 [00:17<00:00,  1.76s/i\n"
     ]
    },
    {
     "name": "stdout",
     "output_type": "stream",
     "text": [
      "saving model version 0.1\n",
      "Best epoch 4\n",
      "0.21851564943790436\n"
     ]
    },
    {
     "data": {
      "image/png": "[encoded data removed]",
      "text/plain": [
       "<Figure size 640x480 with 1 Axes>"
      ]
     },
     "metadata": {},
     "output_type": "display_data"
    }
   ],
   "source": [
    "model4 = try_create_model(Model4, attributes, imgs_shape, device)  # Attempt to create Model3\n",
    "metrics4, best_model_state = fit_hybrid_dataloaders(model4, dataset, opt=\"LBFGS\", steps=10, lamb=.0001, sum_f_reg=True)\n",
    "model4.load_state_dict(best_model_state)\n",
    "print(average_rmse(model4(dataset['val_input'], dataset['val_img']), dataset['val_label']))\n",
    "plt.plot(metrics4['train_loss'])\n",
    "plt.plot(metrics4['eval_loss'])\n",
    "plt.legend(['train', 'test'])\n",
    "plt.ylabel('Accuracy')\n",
    "plt.xlabel('step')\n",
    "plt.yscale('log')"
   ]
  },
  {
   "cell_type": "code",
   "execution_count": 60,
   "id": "0a75053d-1db9-4829-95a8-779aedcb4b1c",
   "metadata": {},
   "outputs": [
    {
     "data": {
      "image/png": "[encoded data removed]",
      "text/plain": [
       "<Figure size 500x200 with 97 Axes>"
      ]
     },
     "metadata": {},
     "output_type": "display_data"
    }
   ],
   "source": [
    "model4.m_kan.plot()"
   ]
  },
  {
   "cell_type": "code",
   "execution_count": 61,
   "id": "27c9f8ce-07cb-475e-a3e1-b8d4baf1da4a",
   "metadata": {},
   "outputs": [
    {
     "data": {
      "image/png": "[encoded data removed]",
      "text/plain": [
       "<Figure size 500x200 with 11 Axes>"
      ]
     },
     "metadata": {},
     "output_type": "display_data"
    }
   ],
   "source": [
    "model4.final_kan.plot()"
   ]
  },
  {
   "cell_type": "code",
   "execution_count": 62,
   "id": "d3e8de52-6318-400f-8715-721c48aaab19",
   "metadata": {},
   "outputs": [
    {
     "data": {
      "text/plain": [
       "tensor([0.8943, 0.0286, 0.0771, 0.0023, 0.0194, 0.0184, 0.0442, 0.0832, 0.2237],\n",
       "       device='cuda:0', grad_fn=<MeanBackward1>)"
      ]
     },
     "execution_count": 62,
     "metadata": {},
     "output_type": "execute_result"
    }
   ],
   "source": [
    "model4.final_kan.feature_score"
   ]
  },
  {
   "cell_type": "code",
   "execution_count": 47,
   "id": "dcad6374-d29e-4881-8b68-16c5d9ab4f5f",
   "metadata": {},
   "outputs": [
    {
     "name": "stdout",
     "output_type": "stream",
     "text": [
      "checkpoint directory created: ./model\n",
      "saving model version 0.0\n",
      "checkpoint directory created: ./model\n",
      "saving model version 0.0\n",
      "checkpoint directory created: ./model\n",
      "saving model version 0.0\n",
      "Successfully created and tested Model4\n"
     ]
    },
    {
     "name": "stderr",
     "output_type": "stream",
     "text": [
      "| train_loss: 1.62e-01 | eval_loss: 4.36e-01 | reg: 3.72e+01 |: 100%|█| 10/10 [00:17<00:00,  1.74s/i\n"
     ]
    },
    {
     "name": "stdout",
     "output_type": "stream",
     "text": [
      "saving model version 0.1\n",
      "Best epoch 3\n",
      "0.24328617751598358\n"
     ]
    },
    {
     "data": {
      "image/png": "[encoded data removed]",
      "text/plain": [
       "<Figure size 640x480 with 1 Axes>"
      ]
     },
     "metadata": {},
     "output_type": "display_data"
    }
   ],
   "source": [
    "model4 = try_create_model(Model4, attributes, imgs_shape, device)  # Attempt to create Model3\n",
    "metrics4, best_model_state = fit_hybrid_dataloaders(model4, dataset, opt=\"LBFGS\", steps=10, lamb=.000001, sum_f_reg=True)\n",
    "model4.load_state_dict(best_model_state)\n",
    "print(average_rmse(model4(dataset['val_input'], dataset['val_img']), dataset['val_label']))\n",
    "plt.plot(metrics4['train_loss'])\n",
    "plt.plot(metrics4['eval_loss'])\n",
    "plt.legend(['train', 'test'])\n",
    "plt.ylabel('Accuracy')\n",
    "plt.xlabel('step')\n",
    "plt.yscale('log')"
   ]
  },
  {
   "cell_type": "code",
   "execution_count": 70,
   "id": "d3862429-4c75-4785-b14c-dae77e40288b",
   "metadata": {},
   "outputs": [
    {
     "data": {
      "image/png": "[encoded data removed]",
      "text/plain": [
       "<Figure size 500x200 with 97 Axes>"
      ]
     },
     "metadata": {},
     "output_type": "display_data"
    }
   ],
   "source": [
    "model4.m_kan.plot()"
   ]
  },
  {
   "cell_type": "code",
   "execution_count": 71,
   "id": "f47cedae-4fa6-4dc7-96bb-07cbe2e20944",
   "metadata": {},
   "outputs": [
    {
     "data": {
      "image/png": "[encoded data removed]",
      "text/plain": [
       "<Figure size 500x200 with 11 Axes>"
      ]
     },
     "metadata": {},
     "output_type": "display_data"
    }
   ],
   "source": [
    "model4.final_kan.plot()"
   ]
  }
 ],
 "metadata": {
  "kernelspec": {
   "display_name": "Python 3 (ipykernel)",
   "language": "python",
   "name": "python3"
  },
  "language_info": {
   "codemirror_mode": {
    "name": "ipython",
    "version": 3
   },
   "file_extension": ".py",
   "mimetype": "text/x-python",
   "name": "python",
   "nbconvert_exporter": "python",
   "pygments_lexer": "ipython3",
   "version": "3.12.7"
  }
 },
 "nbformat": 4,
 "nbformat_minor": 5
}
