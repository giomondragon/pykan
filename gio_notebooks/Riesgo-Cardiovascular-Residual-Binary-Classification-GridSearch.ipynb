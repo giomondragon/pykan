{
 "cells": [
  {
   "cell_type": "code",
   "execution_count": 1,
   "id": "22f3af01-64c2-48c2-aa59-d435a682fa70",
   "metadata": {},
   "outputs": [],
   "source": [
    "import sys\n",
    "import os\n",
    "\n",
    "# Get the root directory\n",
    "root_dir = os.path.abspath(os.path.join(os.getcwd(), '..'))\n",
    "\n",
    "# Add the root directory to the Python path\n",
    "sys.path.append(root_dir)"
   ]
  },
  {
   "cell_type": "code",
   "execution_count": 2,
   "id": "d1554730-8a07-4794-a666-d5e66e6a668e",
   "metadata": {},
   "outputs": [
    {
     "name": "stdout",
     "output_type": "stream",
     "text": [
      "cuda\n"
     ]
    }
   ],
   "source": [
    "from tqdm import tqdm\n",
    "from torch.utils.data import DataLoader, TensorDataset\n",
    "from torch.optim.lr_scheduler import OneCycleLR\n",
    "from sklearn.model_selection import train_test_split\n",
    "from sklearn.preprocessing import MinMaxScaler, StandardScaler\n",
    "from sklearn.datasets import load_diabetes\n",
    "from sklearn.model_selection import train_test_split\n",
    "from sklearn.preprocessing import StandardScaler\n",
    "from sklearn.metrics import mean_squared_error, mean_absolute_error, r2_score\n",
    "from TINTOlib.igtd import IGTD\n",
    "from kan import *\n",
    "from tqdm import tqdm\n",
    "from sklearn.metrics import confusion_matrix\n",
    "\n",
    "\n",
    "import traceback\n",
    "import time\n",
    "import gc\n",
    "import copy\n",
    "import traceback\n",
    "import torch.nn as nn\n",
    "import cv2\n",
    "import math\n",
    "import matplotlib.pyplot as plt\n",
    "import pandas as pd\n",
    "import numpy as np\n",
    "import random\n",
    "import torch\n",
    "import torch.nn as nn\n",
    "import torch.optim as optim\n",
    "import seaborn as sns\n",
    "#from torch.optim import LBFGS\n",
    "\n",
    "\n",
    "if torch.cuda.is_available():\n",
    "  device = torch.device(\"cuda\")\n",
    "else:\n",
    "  device = torch.device(\"cpu\")\n",
    "\n",
    "print(device)"
   ]
  },
  {
   "cell_type": "code",
   "execution_count": 3,
   "id": "50b40edc-b7fa-4931-ad21-1f28e7adef00",
   "metadata": {},
   "outputs": [],
   "source": [
    "SEED = 381\n",
    "# SET RANDOM SEED FOR REPRODUCIBILITY\n",
    "torch.manual_seed(SEED)\n",
    "random.seed(SEED)\n",
    "np.random.seed(SEED)"
   ]
  },
  {
   "cell_type": "code",
   "execution_count": 4,
   "id": "b9ef2b34-1108-4831-8ec4-b46b32721619",
   "metadata": {},
   "outputs": [],
   "source": [
    "folder=\"data/Riesgo-Cardiovascular-Residual\"\n",
    "filename=\"Dataset_2025-04-03.csv\"\n",
    "x_col=[\"hemoglobin\", \"total_cholesterol\", \"hdl_cholesterol\", \"platelets\", \"waist_to_hip_ratio\", \"creatinine\", \"ldl_cholesterol\", \"triglycerides\", \"glucose\", \"hba1c\", \"systolic_bp\", \"diastolic_bp\", \"age\", \"high_crp_hs\"]\n",
    "target_col=[\"high_crp_hs\"]"
   ]
  },
  {
   "cell_type": "markdown",
   "id": "881deb02-19e6-41b1-8e24-39a340d5c383",
   "metadata": {},
   "source": [
    "# Functions"
   ]
  },
  {
   "cell_type": "markdown",
   "id": "7c39e7f0-78da-42fd-9a72-7c4abeecc881",
   "metadata": {
    "jp-MarkdownHeadingCollapsed": true
   },
   "source": [
    "### Load Dataset and Images"
   ]
  },
  {
   "cell_type": "code",
   "execution_count": 5,
   "id": "2e7fdcf3-62d2-401b-a36b-aefa0a7fe312",
   "metadata": {},
   "outputs": [],
   "source": [
    "import os\n",
    "import pandas as pd\n",
    "import torch\n",
    "from torch.utils.data import TensorDataset, DataLoader\n",
    "from sklearn.preprocessing import MinMaxScaler\n",
    "\n",
    "def load_clean_and_preprocess(folder, file_name, x_col, target_col, batch_size=16, device='cuda'):\n",
    "    # Load CSV\n",
    "    df = pd.read_csv(os.path.join(folder, file_name))\n",
    "\n",
    "    # Map recommended_split to integer codes\n",
    "    split_mapping = {'train': 0, 'val': 1, 'test': 2}\n",
    "    df['split_code'] = df['recommended_split'].map(split_mapping)\n",
    "\n",
    "    # Separate target\n",
    "    y = df[target_col]\n",
    "\n",
    "    # Extract and scale features (including split_code temporarily)\n",
    "    df_X = df[x_col + ['split_code']]\n",
    "    scaler = MinMaxScaler()\n",
    "    X_scaled = pd.DataFrame(scaler.fit_transform(df_X), columns=df_X.columns)\n",
    "\n",
    "    # Prepare final dataset\n",
    "    result = {}\n",
    "\n",
    "    for split_name, split_code in split_mapping.items():\n",
    "        split_mask = df['split_code'] == split_code\n",
    "        X_split = X_scaled[split_mask].drop(columns='split_code').drop(columns=target_col)\n",
    "        y_split = y[split_mask]\n",
    "\n",
    "        X_tensor = torch.tensor(X_split.values, dtype=torch.float32).to(device)\n",
    "        y_tensor = torch.tensor(y_split.values, dtype=torch.float32).reshape(-1, 1).to(device)\n",
    "\n",
    "        result[f\"{split_name}_input\"] = X_tensor\n",
    "        result[f\"{split_name}_label\"] = y_tensor\n",
    "\n",
    "    return result"
   ]
  },
  {
   "cell_type": "markdown",
   "id": "af53ea6a-64f0-467e-8e41-ed988d53483b",
   "metadata": {
    "jp-MarkdownHeadingCollapsed": true
   },
   "source": [
    "### Functions for KAN"
   ]
  },
  {
   "cell_type": "code",
   "execution_count": 6,
   "id": "1d73e296-1d1a-4a6d-9b86-b84aacbd9fb8",
   "metadata": {},
   "outputs": [],
   "source": [
    "def custom_fit(model, dataset, opt=\"LBFGS\", steps=100, log=1, lamb=0., lamb_l1=1., lamb_entropy=2., lamb_coef=0., lamb_coefdiff=0., update_grid=True, \n",
    "               grid_update_num=10, loss_fn=None, lr=1., start_grid_update_step=-1, stop_grid_update_step=50, batch=-1,\n",
    "               metrics=None, save_fig=False, in_vars=None, out_vars=None, beta=3, save_fig_freq=1, img_folder='./video', \n",
    "               singularity_avoiding=False, y_th=1000., reg_metric='edge_forward_spline_n', display_metrics=None):\n",
    "    '''\n",
    "    training\n",
    "\n",
    "    Args:\n",
    "    -----\n",
    "        dataset : dic\n",
    "            contains dataset['train_input'], dataset['train_label'], dataset['val_input'], dataset['val_label']\n",
    "        opt : str\n",
    "            \"LBFGS\" or \"Adam\"\n",
    "        steps : int\n",
    "            training steps\n",
    "        log : int\n",
    "            logging frequency\n",
    "        lamb : float\n",
    "            overall penalty strength\n",
    "        lamb_l1 : float\n",
    "            l1 penalty strength\n",
    "        lamb_entropy : float\n",
    "            entropy penalty strength\n",
    "        lamb_coef : float\n",
    "            coefficient magnitude penalty strength\n",
    "        lamb_coefdiff : float\n",
    "            difference of nearby coefficits (smoothness) penalty strength\n",
    "        update_grid : bool\n",
    "            If True, update grid regularly before stop_grid_update_step\n",
    "        grid_update_num : int\n",
    "            the number of grid updates before stop_grid_update_step\n",
    "        start_grid_update_step : int\n",
    "            no grid updates before this training step\n",
    "        stop_grid_update_step : int\n",
    "            no grid updates after this training step\n",
    "        loss_fn : function\n",
    "            loss function\n",
    "        lr : float\n",
    "            learning rate\n",
    "        batch : int\n",
    "            batch size, if -1 then full.\n",
    "        save_fig_freq : int\n",
    "            save figure every (save_fig_freq) steps\n",
    "        singularity_avoiding : bool\n",
    "            indicate whether to avoid singularity for the symbolic part\n",
    "        y_th : float\n",
    "            singularity threshold (anything above the threshold is considered singular and is softened in some ways)\n",
    "        reg_metric : str\n",
    "            regularization metric. Choose from {'edge_forward_spline_n', 'edge_forward_spline_u', 'edge_forward_sum', 'edge_backward', 'node_backward'}\n",
    "        metrics : a list of metrics (as functions)\n",
    "            the metrics to be computed in training\n",
    "        display_metrics : a list of functions\n",
    "            the metric to be displayed in tqdm progress bar\n",
    "\n",
    "    Returns:\n",
    "    --------\n",
    "        results : dic\n",
    "            results['train_loss'], 1D array of training losses (RMSE)\n",
    "            results['val_loss'], 1D array of val losses (RMSE)\n",
    "            results['reg'], 1D array of regularization\n",
    "            other metrics specified in metrics\n",
    "        best_model:\n",
    "    '''\n",
    "\n",
    "    if lamb > 0. and not model.save_act:\n",
    "        print('setting lamb=0. If you want to set lamb > 0, set model.save_act=True')\n",
    "        \n",
    "    old_save_act, old_symbolic_enabled = model.disable_symbolic_in_fit(lamb)\n",
    "\n",
    "    pbar = tqdm(range(steps), desc='description', ncols=100)\n",
    "\n",
    "    if loss_fn == None:\n",
    "        loss_fn = loss_fn_eval = lambda x, y: torch.mean((x - y) ** 2)\n",
    "    else:\n",
    "        loss_fn = loss_fn_eval = loss_fn\n",
    "\n",
    "    grid_update_freq = int(stop_grid_update_step / grid_update_num)\n",
    "\n",
    "    if opt == \"Adam\":\n",
    "        optimizer = torch.optim.Adam(model.get_params(), lr=lr)\n",
    "    elif opt == \"LBFGS\":\n",
    "        optimizer = LBFGS(model.get_params(), lr=lr, history_size=10, \n",
    "                          line_search_fn=\"strong_wolfe\", \n",
    "                          tolerance_grad=1e-32,\n",
    "                          tolerance_change=1e-32,\n",
    "                          tolerance_ys=1e-32)\n",
    "\n",
    "    results = {}\n",
    "    results['train_loss'] = []\n",
    "    results['val_loss'] = []\n",
    "    results['reg'] = []\n",
    "    if metrics != None:\n",
    "        for i in range(len(metrics)):\n",
    "            results[metrics[i].__name__] = []\n",
    "\n",
    "    if batch == -1 or batch > dataset['train_input'].shape[0]:\n",
    "        batch_size = dataset['train_input'].shape[0]\n",
    "        batch_size_val = dataset['val_input'].shape[0]\n",
    "    else:\n",
    "        batch_size = batch\n",
    "        batch_size_val = batch\n",
    "\n",
    "    global train_loss, reg_\n",
    "\n",
    "    def closure():\n",
    "        global train_loss, reg_\n",
    "        optimizer.zero_grad()\n",
    "        pred = model.forward(dataset['train_input'][train_id], singularity_avoiding=singularity_avoiding, y_th=y_th)\n",
    "        train_loss = loss_fn(pred, dataset['train_label'][train_id])\n",
    "        if model.save_act:\n",
    "            if reg_metric == 'edge_backward':\n",
    "                model.attribute()\n",
    "            if reg_metric == 'node_backward':\n",
    "                model.node_attribute()\n",
    "            reg_ = model.get_reg(reg_metric, lamb_l1, lamb_entropy, lamb_coef, lamb_coefdiff)\n",
    "        else:\n",
    "            reg_ = torch.tensor(0.)\n",
    "        objective = train_loss + lamb * reg_\n",
    "        objective.backward()\n",
    "        return objective\n",
    "\n",
    "    if save_fig:\n",
    "        if not os.path.exists(img_folder):\n",
    "            os.makedirs(img_folder)\n",
    "    \n",
    "    best_model_state = None\n",
    "    best_epoch = -1\n",
    "    best_metric = 0\n",
    "    val_metric = 0\n",
    "    for epoch in pbar:\n",
    "        \n",
    "        if epoch == steps-1 and old_save_act:\n",
    "            model.save_act = True\n",
    "            \n",
    "        if save_fig and epoch % save_fig_freq == 0:\n",
    "            save_act = model.save_act\n",
    "            model.save_act = True\n",
    "        \n",
    "        train_id = np.random.choice(dataset['train_input'].shape[0], batch_size, replace=False)\n",
    "        val_id = np.random.choice(dataset['val_input'].shape[0], batch_size_val, replace=False)\n",
    "\n",
    "        if epoch % grid_update_freq == 0 and epoch < stop_grid_update_step and update_grid and epoch >= start_grid_update_step:\n",
    "            try:\n",
    "                model.update_grid(dataset['train_input'][train_id])\n",
    "            except:\n",
    "                print('Failed update_grid')\n",
    "                return best_model_state, results, best_epoch\n",
    "\n",
    "        if opt == \"LBFGS\":\n",
    "            optimizer.step(closure)\n",
    "\n",
    "        if opt == \"Adam\":\n",
    "            pred = model.forward(dataset['train_input'][train_id], singularity_avoiding=singularity_avoiding, y_th=y_th)\n",
    "            train_loss = loss_fn(pred, dataset['train_label'][train_id])\n",
    "            if model.save_act:\n",
    "                if reg_metric == 'edge_backward':\n",
    "                    model.attribute()\n",
    "                if reg_metric == 'node_backward':\n",
    "                    model.node_attribute()\n",
    "                reg_ = model.get_reg(reg_metric, lamb_l1, lamb_entropy, lamb_coef, lamb_coefdiff)\n",
    "            else:\n",
    "                reg_ = torch.tensor(0.)\n",
    "            loss = train_loss + lamb * reg_\n",
    "            optimizer.zero_grad()\n",
    "            loss.backward()\n",
    "            optimizer.step()\n",
    "\n",
    "        val_loss = loss_fn_eval(model.forward(dataset['val_input'][val_id]), dataset['val_label'][val_id])\n",
    "        \n",
    "        if metrics != None:\n",
    "            for i in range(len(metrics)):\n",
    "                results[metrics[i].__name__].append(metrics[i]().item())\n",
    "        \n",
    "        results['train_loss'].append(torch.sqrt(train_loss).cpu().detach().numpy())\n",
    "        results['val_loss'].append(torch.sqrt(val_loss).cpu().detach().numpy())\n",
    "        results['reg'].append(reg_.cpu().detach().numpy())\n",
    "\n",
    "        if epoch % log == 0:\n",
    "            if display_metrics == None:\n",
    "                pbar.set_description(\"| train_loss: %.2e | val_loss: %.2e | reg: %.2e | \" % (torch.sqrt(train_loss).cpu().detach().numpy(), torch.sqrt(val_loss).cpu().detach().numpy(), reg_.cpu().detach().numpy()))\n",
    "                val_metric = val_loss\n",
    "            else:\n",
    "                string = ''\n",
    "                data = ()\n",
    "                for metric in display_metrics:\n",
    "                    val_metric = results[metric][-1]\n",
    "                    string += f' {metric}: %.2e |'\n",
    "                    try:\n",
    "                        results[metric]\n",
    "                    except:\n",
    "                        raise Exception(f'{metric} not recognized')\n",
    "                    data += (results[metric][-1],)\n",
    "                pbar.set_description(string % data)\n",
    "\n",
    "        if val_metric > best_metric:\n",
    "            best_epoch = epoch\n",
    "            best_metric = val_metric\n",
    "            best_model_state = copy.deepcopy(model.state_dict())\n",
    "\n",
    "        if save_fig and epoch % save_fig_freq == 0:\n",
    "            model.plot(folder=img_folder, in_vars=in_vars, out_vars=out_vars, title=\"Step {}\".format(_), beta=beta)\n",
    "            plt.savefig(img_folder + '/' + str(_) + '.jpg', bbox_inches='tight', dpi=200)\n",
    "            plt.close()\n",
    "            model.save_act = save_act\n",
    "\n",
    "    model.log_history('fit')\n",
    "    # revert back to original state\n",
    "    model.symbolic_enabled = old_symbolic_enabled\n",
    "    print(f\"✅ Best validation Accuracy: {best_metric:.4e} at {best_epoch} epoch\")\n",
    "    return best_model_state, results, best_epoch"
   ]
  },
  {
   "cell_type": "code",
   "execution_count": 39,
   "id": "68e02f62-8c34-4295-a7cd-795f685a68c2",
   "metadata": {},
   "outputs": [],
   "source": [
    "def grid_search_kan(dataset, output_dim=1):\n",
    "    hidden_neuron_options = list(range(1, attributes // 2 + 2))\n",
    "    grid_options = list(range(3, 7))\n",
    "    lamb_options = [0.1, 1e-02, 1e-03, 1e-04, 1e-05, 1e-06, 1e-07]\n",
    "\n",
    "    top_models = []  # list of dicts: each will have 'loss', 'config', 'state_dict'\n",
    "\n",
    "    for hidden in hidden_neuron_options:\n",
    "        for grid in grid_options:\n",
    "            for lamb in lamb_options:\n",
    "                \n",
    "                print(f\"Testing width=[{attributes}, {hidden}, {output_dim}], lamb={lamb}, grid={grid}\")\n",
    "                model = KAN(width=[attributes, hidden, output_dim], grid=grid, k=3, seed=381, device=device)\n",
    "                def train_acc_kan():\n",
    "                    rounded = torch.round(torch.round(model(dataset['train_input'])[:,0]))\n",
    "                    clipped = torch.clamp(rounded, min=min_expected, max=max_expected)\n",
    "                    return torch.mean((clipped == dataset['train_label'][:,0]).type(dtype))\n",
    "                \n",
    "                def val_acc_kan():\n",
    "                    rounded = torch.round(torch.round(model(dataset['val_input'])[:,0]))\n",
    "                    clipped = torch.clamp(rounded, min=min_expected, max=max_expected)\n",
    "                    return torch.mean((clipped == dataset['val_label'][:,0]).type(dtype))\n",
    "                # Custom training\n",
    "                model_state, _, best_epoch = custom_fit(model, dataset, opt=\"LBFGS\", steps=20, lamb=lamb, \n",
    "                                                        metrics=(train_acc_kan, val_acc_kan), display_metrics=['train_acc_kan', 'val_acc_kan'])\n",
    "                if model_state:\n",
    "                    model.load_state_dict(model_state)\n",
    "    \n",
    "                    # Evaluate\n",
    "                    clipped = torch.clamp(torch.round(model(dataset['test_input'])[:,0]), min=min_expected, max=max_expected)\n",
    "                    avg_acc = torch.mean((clipped == dataset['test_label'][:,0]).type(dtype))\n",
    "                    print(avg_acc)\n",
    "                    # Save this model info\n",
    "                    top_models.append({\n",
    "                        \"acc_test\": avg_acc,\n",
    "                        \"config\": {\"hidden\": hidden, \"grid\": grid, \"lamb\": lamb},\n",
    "                        \"state_dict\": copy.deepcopy(model_state),\n",
    "                        \"best_epoch\": best_epoch\n",
    "                    })\n",
    "                \n",
    "                del model\n",
    "                torch.cuda.empty_cache()\n",
    "                gc.collect()\n",
    "\n",
    "                # Keep only top 5\n",
    "                top_models = sorted(top_models, key=lambda x: x[\"acc_test\"], reverse=True)[:5]\n",
    "\n",
    "    print(\"\\n✅ Top 5 Configurations:\")\n",
    "    for i, entry in enumerate(top_models):\n",
    "        cfg = entry[\"config\"]\n",
    "        print(f\"{i+1}. width=[{attributes}, {cfg['hidden']}, {output_dim}], grid={cfg['grid']}, lamb={cfg['lamb']} | best_epoch={entry['best_epoch']} | acc_test={entry['acc_test']:.5f}\")\n",
    "\n",
    "    return top_models"
   ]
  },
  {
   "cell_type": "markdown",
   "id": "a4e12129-a533-4884-b106-d1e5e989f63c",
   "metadata": {
    "jp-MarkdownHeadingCollapsed": true
   },
   "source": [
    "### Plot Functions"
   ]
  },
  {
   "cell_type": "code",
   "execution_count": 88,
   "id": "9a663649-ffd9-4021-9580-b8e0a4fac261",
   "metadata": {},
   "outputs": [],
   "source": [
    "def plot_training_ACC(model, model_state, y_true, y_pred, train_loss, val_loss):\n",
    "    model.load_state_dict(model_state)\n",
    "    clipped = torch.clamp(torch.round(y_pred), min=min_expected, max=max_expected)\n",
    "    acc = torch.mean((clipped == y_true).type(dtype))\n",
    "    print(acc)\n",
    "    plt.plot(train_loss)\n",
    "    plt.plot(val_loss)\n",
    "    plt.legend(['train', 'val'])\n",
    "    plt.ylabel('Accuracy')\n",
    "    plt.xlabel('step')\n",
    "    plt.yscale('log')"
   ]
  },
  {
   "cell_type": "code",
   "execution_count": 9,
   "id": "11be15d1-5d12-4ef4-97d2-ffe50db89a9e",
   "metadata": {},
   "outputs": [],
   "source": [
    "def plot_confusion_matrix(y_true_tensor, y_pred_tensor, title=\"Confusion Matrix\"):\n",
    "    # Move tensors to CPU and detach if necessary\n",
    "    clipped = torch.clamp(torch.round(y_pred_tensor), min=min_expected, max=max_expected)\n",
    "    \n",
    "    \n",
    "    y_true = y_true_tensor.detach().cpu().numpy().flatten()\n",
    "    y_pred = clipped.detach().cpu().numpy().flatten()\n",
    "\n",
    "    # Round predictions if they are float (e.g., from sigmoid or regression)\n",
    "    if y_pred.dtype.kind in {'f'}:\n",
    "        y_pred = y_pred.round()\n",
    "\n",
    "    # Get sorted list of all unique labels\n",
    "    all_labels = sorted(set(y_true) | set(y_pred))\n",
    "\n",
    "    # Compute confusion matrix\n",
    "    cm = confusion_matrix(y_true, y_pred, labels=all_labels)\n",
    "\n",
    "    # Plot\n",
    "    plt.figure(figsize=(8, 6))\n",
    "    sns.heatmap(cm, annot=True, fmt='g', cmap='Blues',\n",
    "                xticklabels=all_labels, yticklabels=all_labels)\n",
    "    plt.xlabel(\"Predicted\")\n",
    "    plt.ylabel(\"True\")\n",
    "    plt.title(title)\n",
    "    plt.tight_layout()\n",
    "    plt.show()"
   ]
  },
  {
   "cell_type": "code",
   "execution_count": 10,
   "id": "7618f9e2-8881-421c-a00d-38ce47f3d0da",
   "metadata": {},
   "outputs": [],
   "source": [
    "def plot_sorted_feature_importance(columns, importances):\n",
    "    # Move to CPU and numpy if it's a GPU tensor\n",
    "    if isinstance(importances, torch.Tensor):\n",
    "        importances = importances.detach().cpu().numpy()\n",
    "\n",
    "    # Pair columns and importances and sort by importance descending\n",
    "    sorted_pairs = sorted(zip(columns, importances), key=lambda x: x[1], reverse=True)\n",
    "    sorted_columns, sorted_importances = zip(*sorted_pairs)\n",
    "\n",
    "    # Create the bar plot\n",
    "    plt.figure(figsize=(12, 6))\n",
    "    plt.barh(sorted_columns, sorted_importances, color='royalblue')\n",
    "    plt.xlabel('Importance')\n",
    "    plt.title('Feature Importances (Sorted)')\n",
    "    plt.gca().invert_yaxis()\n",
    "    plt.tight_layout()\n",
    "    plt.show()"
   ]
  },
  {
   "cell_type": "markdown",
   "id": "c0acdf0e-3925-4337-9062-77fd79e2f5a0",
   "metadata": {
    "jp-MarkdownHeadingCollapsed": true
   },
   "source": [
    "# Load Dataset and Images"
   ]
  },
  {
   "cell_type": "code",
   "execution_count": 11,
   "id": "aeb25f3f-5cd3-4aa9-bfac-963523d0a45f",
   "metadata": {},
   "outputs": [],
   "source": [
    "dataset=load_clean_and_preprocess(folder, filename, x_col, target_col)"
   ]
  },
  {
   "cell_type": "code",
   "execution_count": 12,
   "id": "52d1cad6-79ba-4244-b64f-64ca330ed9fe",
   "metadata": {},
   "outputs": [
    {
     "name": "stdout",
     "output_type": "stream",
     "text": [
      "Train data shape: torch.Size([252, 13])\n",
      "Train target shape: torch.Size([252, 1])\n",
      "Test data shape: torch.Size([70, 13])\n",
      "Test target shape: torch.Size([70, 1])\n",
      "Validation data shape: torch.Size([67, 13])\n",
      "Validation target shape: torch.Size([67, 1])\n"
     ]
    }
   ],
   "source": [
    "print(\"Train data shape:\", dataset['train_input'].shape)\n",
    "print(\"Train target shape:\", dataset['train_label'].shape)\n",
    "print(\"Test data shape:\", dataset['test_input'].shape)\n",
    "print(\"Test target shape:\", dataset['test_label'].shape)\n",
    "print(\"Validation data shape:\", dataset['val_input'].shape)\n",
    "print(\"Validation target shape:\", dataset['val_label'].shape)"
   ]
  },
  {
   "cell_type": "code",
   "execution_count": 13,
   "id": "dbc161e7-252b-44f0-b7d0-d7bcba57429e",
   "metadata": {},
   "outputs": [],
   "source": [
    "attributes = 13\n",
    "dtype = torch.get_default_dtype()\n",
    "min_expected = 0.\n",
    "max_expected = 1."
   ]
  },
  {
   "cell_type": "markdown",
   "id": "98a121ce-3d28-4672-9cc5-567db8972729",
   "metadata": {
    "jp-MarkdownHeadingCollapsed": true
   },
   "source": [
    "# Grid Search KAN"
   ]
  },
  {
   "cell_type": "code",
   "execution_count": 167,
   "id": "78590924-a06e-4108-996d-78df4e21cc25",
   "metadata": {
    "scrolled": true
   },
   "outputs": [
    {
     "name": "stdout",
     "output_type": "stream",
     "text": [
      "Testing width=[13, 1, 1], lamb=0.1, grid=3\n",
      "checkpoint directory created: ./model\n",
      "saving model version 0.0\n"
     ]
    },
    {
     "name": "stderr",
     "output_type": "stream",
     "text": [
      " train_acc_kan: 5.12e-01 | val_acc_kan: 4.48e-01 |: 100%|███████████| 20/20 [00:04<00:00,  4.37it/s]\n"
     ]
    },
    {
     "name": "stdout",
     "output_type": "stream",
     "text": [
      "saving model version 0.1\n",
      "✅ Best validation Accuracy: 5.3731e-01 at 0 epoch\n",
      "tensor(0.6000, device='cuda:0')\n",
      "Testing width=[13, 1, 1], lamb=0.01, grid=3\n",
      "checkpoint directory created: ./model\n",
      "saving model version 0.0\n"
     ]
    },
    {
     "name": "stderr",
     "output_type": "stream",
     "text": [
      " train_acc_kan: 5.12e-01 | val_acc_kan: 4.18e-01 |: 100%|███████████| 20/20 [00:02<00:00,  6.80it/s]\n"
     ]
    },
    {
     "name": "stdout",
     "output_type": "stream",
     "text": [
      "saving model version 0.1\n",
      "✅ Best validation Accuracy: 4.6269e-01 at 0 epoch\n",
      "tensor(0.4000, device='cuda:0')\n",
      "Testing width=[13, 1, 1], lamb=0.001, grid=3\n",
      "checkpoint directory created: ./model\n",
      "saving model version 0.0\n"
     ]
    },
    {
     "name": "stderr",
     "output_type": "stream",
     "text": [
      " train_acc_kan: 8.25e-01 | val_acc_kan: 6.12e-01 |: 100%|███████████| 20/20 [00:04<00:00,  4.12it/s]\n"
     ]
    },
    {
     "name": "stdout",
     "output_type": "stream",
     "text": [
      "saving model version 0.1\n",
      "✅ Best validation Accuracy: 7.1642e-01 at 0 epoch\n",
      "tensor(0.7143, device='cuda:0')\n",
      "Testing width=[13, 1, 1], lamb=0.0001, grid=3\n",
      "checkpoint directory created: ./model\n",
      "saving model version 0.0\n"
     ]
    },
    {
     "name": "stderr",
     "output_type": "stream",
     "text": [
      " train_acc_kan: 8.21e-01 | val_acc_kan: 4.63e-01 |: 100%|███████████| 20/20 [00:04<00:00,  4.13it/s]\n"
     ]
    },
    {
     "name": "stdout",
     "output_type": "stream",
     "text": [
      "saving model version 0.1\n",
      "✅ Best validation Accuracy: 7.0149e-01 at 1 epoch\n",
      "tensor(0.6000, device='cuda:0')\n",
      "Testing width=[13, 1, 1], lamb=1e-05, grid=3\n",
      "checkpoint directory created: ./model\n",
      "saving model version 0.0\n"
     ]
    },
    {
     "name": "stderr",
     "output_type": "stream",
     "text": [
      " train_acc_kan: 8.17e-01 | val_acc_kan: 6.57e-01 |: 100%|███████████| 20/20 [00:05<00:00,  3.50it/s]\n"
     ]
    },
    {
     "name": "stdout",
     "output_type": "stream",
     "text": [
      "saving model version 0.1\n",
      "✅ Best validation Accuracy: 7.0149e-01 at 0 epoch\n",
      "tensor(0.7000, device='cuda:0')\n",
      "Testing width=[13, 1, 1], lamb=1e-06, grid=3\n",
      "checkpoint directory created: ./model\n",
      "saving model version 0.0\n"
     ]
    },
    {
     "name": "stderr",
     "output_type": "stream",
     "text": [
      " train_acc_kan: 8.29e-01 | val_acc_kan: 4.48e-01 |: 100%|███████████| 20/20 [00:05<00:00,  3.92it/s]\n"
     ]
    },
    {
     "name": "stdout",
     "output_type": "stream",
     "text": [
      "saving model version 0.1\n",
      "✅ Best validation Accuracy: 7.0149e-01 at 0 epoch\n",
      "tensor(0.6714, device='cuda:0')\n",
      "Testing width=[13, 1, 1], lamb=1e-07, grid=3\n",
      "checkpoint directory created: ./model\n",
      "saving model version 0.0\n"
     ]
    },
    {
     "name": "stderr",
     "output_type": "stream",
     "text": [
      " train_acc_kan: 8.10e-01 | val_acc_kan: 4.63e-01 |: 100%|███████████| 20/20 [00:04<00:00,  4.00it/s]\n"
     ]
    },
    {
     "name": "stdout",
     "output_type": "stream",
     "text": [
      "saving model version 0.1\n",
      "✅ Best validation Accuracy: 6.8657e-01 at 0 epoch\n",
      "tensor(0.6571, device='cuda:0')\n",
      "Testing width=[13, 1, 1], lamb=0.1, grid=4\n",
      "checkpoint directory created: ./model\n",
      "saving model version 0.0\n"
     ]
    },
    {
     "name": "stderr",
     "output_type": "stream",
     "text": [
      " train_acc_kan: 4.88e-01 | val_acc_kan: 5.37e-01 |: 100%|███████████| 20/20 [00:04<00:00,  4.08it/s]\n"
     ]
    },
    {
     "name": "stdout",
     "output_type": "stream",
     "text": [
      "saving model version 0.1\n",
      "✅ Best validation Accuracy: 5.3731e-01 at 0 epoch\n",
      "tensor(0.6000, device='cuda:0')\n",
      "Testing width=[13, 1, 1], lamb=0.01, grid=4\n",
      "checkpoint directory created: ./model\n",
      "saving model version 0.0\n"
     ]
    },
    {
     "name": "stderr",
     "output_type": "stream",
     "text": [
      " train_acc_kan: 5.12e-01 | val_acc_kan: 4.18e-01 |: 100%|███████████| 20/20 [00:02<00:00,  7.02it/s]\n"
     ]
    },
    {
     "name": "stdout",
     "output_type": "stream",
     "text": [
      "saving model version 0.1\n",
      "✅ Best validation Accuracy: 4.4776e-01 at 1 epoch\n",
      "tensor(0.4000, device='cuda:0')\n",
      "Testing width=[13, 1, 1], lamb=0.001, grid=4\n",
      "checkpoint directory created: ./model\n",
      "saving model version 0.0\n"
     ]
    },
    {
     "name": "stderr",
     "output_type": "stream",
     "text": [
      " train_acc_kan: 8.89e-01 | val_acc_kan: 5.97e-01 |: 100%|███████████| 20/20 [00:05<00:00,  4.00it/s]\n"
     ]
    },
    {
     "name": "stdout",
     "output_type": "stream",
     "text": [
      "saving model version 0.1\n",
      "✅ Best validation Accuracy: 7.0149e-01 at 0 epoch\n",
      "tensor(0.6714, device='cuda:0')\n",
      "Testing width=[13, 1, 1], lamb=0.0001, grid=4\n",
      "checkpoint directory created: ./model\n",
      "saving model version 0.0\n"
     ]
    },
    {
     "name": "stderr",
     "output_type": "stream",
     "text": [
      " train_acc_kan: 8.61e-01 | val_acc_kan: 6.27e-01 |: 100%|███████████| 20/20 [00:05<00:00,  3.61it/s]\n"
     ]
    },
    {
     "name": "stdout",
     "output_type": "stream",
     "text": [
      "saving model version 0.1\n",
      "✅ Best validation Accuracy: 6.8657e-01 at 17 epoch\n",
      "tensor(0.6000, device='cuda:0')\n",
      "Testing width=[13, 1, 1], lamb=1e-05, grid=4\n",
      "checkpoint directory created: ./model\n",
      "saving model version 0.0\n"
     ]
    },
    {
     "name": "stderr",
     "output_type": "stream",
     "text": [
      " train_acc_kan: 8.41e-01 | val_acc_kan: 5.37e-01 |: 100%|███████████| 20/20 [00:05<00:00,  3.94it/s]\n"
     ]
    },
    {
     "name": "stdout",
     "output_type": "stream",
     "text": [
      "saving model version 0.1\n",
      "✅ Best validation Accuracy: 6.7164e-01 at 12 epoch\n",
      "tensor(0.6429, device='cuda:0')\n",
      "Testing width=[13, 1, 1], lamb=1e-06, grid=4\n",
      "checkpoint directory created: ./model\n",
      "saving model version 0.0\n"
     ]
    },
    {
     "name": "stderr",
     "output_type": "stream",
     "text": [
      " train_acc_kan: 8.61e-01 | val_acc_kan: 6.57e-01 |: 100%|███████████| 20/20 [00:05<00:00,  3.44it/s]\n"
     ]
    },
    {
     "name": "stdout",
     "output_type": "stream",
     "text": [
      "saving model version 0.1\n",
      "✅ Best validation Accuracy: 6.5672e-01 at 5 epoch\n",
      "tensor(0.6857, device='cuda:0')\n",
      "Testing width=[13, 1, 1], lamb=1e-07, grid=4\n",
      "checkpoint directory created: ./model\n",
      "saving model version 0.0\n"
     ]
    },
    {
     "name": "stderr",
     "output_type": "stream",
     "text": [
      " train_acc_kan: 8.37e-01 | val_acc_kan: 6.12e-01 |: 100%|███████████| 20/20 [00:05<00:00,  3.68it/s]\n"
     ]
    },
    {
     "name": "stdout",
     "output_type": "stream",
     "text": [
      "saving model version 0.1\n",
      "✅ Best validation Accuracy: 6.5672e-01 at 9 epoch\n",
      "tensor(0.6714, device='cuda:0')\n",
      "Testing width=[13, 1, 1], lamb=0.1, grid=5\n",
      "checkpoint directory created: ./model\n",
      "saving model version 0.0\n"
     ]
    },
    {
     "name": "stderr",
     "output_type": "stream",
     "text": [
      " train_acc_kan: 5.12e-01 | val_acc_kan: 4.63e-01 |: 100%|███████████| 20/20 [00:03<00:00,  5.79it/s]\n"
     ]
    },
    {
     "name": "stdout",
     "output_type": "stream",
     "text": [
      "saving model version 0.1\n",
      "✅ Best validation Accuracy: 5.3731e-01 at 0 epoch\n",
      "tensor(0.6000, device='cuda:0')\n",
      "Testing width=[13, 1, 1], lamb=0.01, grid=5\n",
      "checkpoint directory created: ./model\n",
      "saving model version 0.0\n"
     ]
    },
    {
     "name": "stderr",
     "output_type": "stream",
     "text": [
      " train_acc_kan: 5.12e-01 | val_acc_kan: 4.63e-01 |: 100%|███████████| 20/20 [00:03<00:00,  6.28it/s]\n"
     ]
    },
    {
     "name": "stdout",
     "output_type": "stream",
     "text": [
      "saving model version 0.1\n",
      "✅ Best validation Accuracy: 4.6269e-01 at 1 epoch\n",
      "tensor(0.4000, device='cuda:0')\n",
      "Testing width=[13, 1, 1], lamb=0.001, grid=5\n",
      "checkpoint directory created: ./model\n",
      "saving model version 0.0\n"
     ]
    },
    {
     "name": "stderr",
     "output_type": "stream",
     "text": [
      " train_acc_kan: 8.89e-01 | val_acc_kan: 4.33e-01 |: 100%|███████████| 20/20 [00:05<00:00,  3.43it/s]\n"
     ]
    },
    {
     "name": "stdout",
     "output_type": "stream",
     "text": [
      "saving model version 0.1\n",
      "✅ Best validation Accuracy: 6.7164e-01 at 0 epoch\n",
      "tensor(0.7143, device='cuda:0')\n",
      "Testing width=[13, 1, 1], lamb=0.0001, grid=5\n",
      "checkpoint directory created: ./model\n",
      "saving model version 0.0\n"
     ]
    },
    {
     "name": "stderr",
     "output_type": "stream",
     "text": [
      " train_acc_kan: 9.21e-01 | val_acc_kan: 5.97e-01 |: 100%|███████████| 20/20 [00:06<00:00,  3.04it/s]\n"
     ]
    },
    {
     "name": "stdout",
     "output_type": "stream",
     "text": [
      "saving model version 0.1\n",
      "✅ Best validation Accuracy: 6.8657e-01 at 2 epoch\n",
      "tensor(0.6286, device='cuda:0')\n",
      "Testing width=[13, 1, 1], lamb=1e-05, grid=5\n",
      "checkpoint directory created: ./model\n",
      "saving model version 0.0\n"
     ]
    },
    {
     "name": "stderr",
     "output_type": "stream",
     "text": [
      " train_acc_kan: 9.13e-01 | val_acc_kan: 5.22e-01 |: 100%|███████████| 20/20 [00:06<00:00,  3.28it/s]\n"
     ]
    },
    {
     "name": "stdout",
     "output_type": "stream",
     "text": [
      "saving model version 0.1\n",
      "✅ Best validation Accuracy: 6.4179e-01 at 0 epoch\n",
      "tensor(0.7143, device='cuda:0')\n",
      "Testing width=[13, 1, 1], lamb=1e-06, grid=5\n",
      "checkpoint directory created: ./model\n",
      "saving model version 0.0\n"
     ]
    },
    {
     "name": "stderr",
     "output_type": "stream",
     "text": [
      " train_acc_kan: 9.17e-01 | val_acc_kan: 5.37e-01 |: 100%|███████████| 20/20 [00:05<00:00,  3.69it/s]\n"
     ]
    },
    {
     "name": "stdout",
     "output_type": "stream",
     "text": [
      "saving model version 0.1\n",
      "✅ Best validation Accuracy: 6.2687e-01 at 0 epoch\n",
      "tensor(0.7000, device='cuda:0')\n",
      "Testing width=[13, 1, 1], lamb=1e-07, grid=5\n",
      "checkpoint directory created: ./model\n",
      "saving model version 0.0\n"
     ]
    },
    {
     "name": "stderr",
     "output_type": "stream",
     "text": [
      " train_acc_kan: 9.05e-01 | val_acc_kan: 5.97e-01 |: 100%|███████████| 20/20 [00:05<00:00,  3.46it/s]\n"
     ]
    },
    {
     "name": "stdout",
     "output_type": "stream",
     "text": [
      "saving model version 0.1\n",
      "✅ Best validation Accuracy: 6.5672e-01 at 4 epoch\n",
      "tensor(0.6857, device='cuda:0')\n",
      "Testing width=[13, 1, 1], lamb=0.1, grid=6\n",
      "checkpoint directory created: ./model\n",
      "saving model version 0.0\n"
     ]
    },
    {
     "name": "stderr",
     "output_type": "stream",
     "text": [
      " train_acc_kan: 4.88e-01 | val_acc_kan: 5.37e-01 |: 100%|███████████| 20/20 [00:04<00:00,  4.61it/s]\n"
     ]
    },
    {
     "name": "stdout",
     "output_type": "stream",
     "text": [
      "saving model version 0.1\n",
      "✅ Best validation Accuracy: 5.3731e-01 at 0 epoch\n",
      "tensor(0.6000, device='cuda:0')\n",
      "Testing width=[13, 1, 1], lamb=0.01, grid=6\n",
      "checkpoint directory created: ./model\n",
      "saving model version 0.0\n"
     ]
    },
    {
     "name": "stderr",
     "output_type": "stream",
     "text": [
      " train_acc_kan: 5.12e-01 | val_acc_kan: 4.63e-01 |: 100%|███████████| 20/20 [00:03<00:00,  6.10it/s]\n"
     ]
    },
    {
     "name": "stdout",
     "output_type": "stream",
     "text": [
      "saving model version 0.1\n",
      "✅ Best validation Accuracy: 4.6269e-01 at 0 epoch\n",
      "tensor(0.4143, device='cuda:0')\n",
      "Testing width=[13, 1, 1], lamb=0.001, grid=6\n",
      "checkpoint directory created: ./model\n",
      "saving model version 0.0\n"
     ]
    },
    {
     "name": "stderr",
     "output_type": "stream",
     "text": [
      " train_acc_kan: 9.17e-01 | val_acc_kan: 6.42e-01 |: 100%|███████████| 20/20 [00:05<00:00,  3.97it/s]\n"
     ]
    },
    {
     "name": "stdout",
     "output_type": "stream",
     "text": [
      "saving model version 0.1\n",
      "✅ Best validation Accuracy: 6.4179e-01 at 14 epoch\n",
      "tensor(0.6000, device='cuda:0')\n",
      "Testing width=[13, 1, 1], lamb=0.0001, grid=6\n",
      "checkpoint directory created: ./model\n",
      "saving model version 0.0\n"
     ]
    },
    {
     "name": "stderr",
     "output_type": "stream",
     "text": [
      " train_acc_kan: 9.48e-01 | val_acc_kan: 5.82e-01 |: 100%|███████████| 20/20 [00:05<00:00,  3.79it/s]\n"
     ]
    },
    {
     "name": "stdout",
     "output_type": "stream",
     "text": [
      "saving model version 0.1\n",
      "✅ Best validation Accuracy: 6.7164e-01 at 5 epoch\n",
      "tensor(0.5286, device='cuda:0')\n",
      "Testing width=[13, 1, 1], lamb=1e-05, grid=6\n",
      "checkpoint directory created: ./model\n",
      "saving model version 0.0\n"
     ]
    },
    {
     "name": "stderr",
     "output_type": "stream",
     "text": [
      " train_acc_kan: 9.09e-01 | val_acc_kan: 6.27e-01 |: 100%|███████████| 20/20 [00:05<00:00,  3.92it/s]\n"
     ]
    },
    {
     "name": "stdout",
     "output_type": "stream",
     "text": [
      "saving model version 0.1\n",
      "✅ Best validation Accuracy: 6.7164e-01 at 2 epoch\n",
      "tensor(0.5286, device='cuda:0')\n",
      "Testing width=[13, 1, 1], lamb=1e-06, grid=6\n",
      "checkpoint directory created: ./model\n",
      "saving model version 0.0\n"
     ]
    },
    {
     "name": "stderr",
     "output_type": "stream",
     "text": [
      " train_acc_kan: 9.56e-01 | val_acc_kan: 5.37e-01 |: 100%|███████████| 20/20 [00:05<00:00,  3.86it/s]\n"
     ]
    },
    {
     "name": "stdout",
     "output_type": "stream",
     "text": [
      "saving model version 0.1\n",
      "✅ Best validation Accuracy: 6.8657e-01 at 2 epoch\n",
      "tensor(0.5286, device='cuda:0')\n",
      "Testing width=[13, 1, 1], lamb=1e-07, grid=6\n",
      "checkpoint directory created: ./model\n",
      "saving model version 0.0\n"
     ]
    },
    {
     "name": "stderr",
     "output_type": "stream",
     "text": [
      " train_acc_kan: 9.13e-01 | val_acc_kan: 6.72e-01 |: 100%|███████████| 20/20 [00:05<00:00,  3.99it/s]\n"
     ]
    },
    {
     "name": "stdout",
     "output_type": "stream",
     "text": [
      "saving model version 0.1\n",
      "✅ Best validation Accuracy: 7.0149e-01 at 7 epoch\n",
      "tensor(0.5857, device='cuda:0')\n",
      "Testing width=[13, 2, 1], lamb=0.1, grid=3\n",
      "checkpoint directory created: ./model\n",
      "saving model version 0.0\n"
     ]
    },
    {
     "name": "stderr",
     "output_type": "stream",
     "text": [
      " train_acc_kan: 5.12e-01 | val_acc_kan: 4.48e-01 |: 100%|███████████| 20/20 [00:04<00:00,  4.65it/s]\n"
     ]
    },
    {
     "name": "stdout",
     "output_type": "stream",
     "text": [
      "saving model version 0.1\n",
      "✅ Best validation Accuracy: 5.3731e-01 at 0 epoch\n",
      "tensor(0.6000, device='cuda:0')\n",
      "Testing width=[13, 2, 1], lamb=0.01, grid=3\n",
      "checkpoint directory created: ./model\n",
      "saving model version 0.0\n"
     ]
    },
    {
     "name": "stderr",
     "output_type": "stream",
     "text": [
      " train_acc_kan: 7.26e-01 | val_acc_kan: 6.57e-01 |: 100%|███████████| 20/20 [00:05<00:00,  3.90it/s]\n"
     ]
    },
    {
     "name": "stdout",
     "output_type": "stream",
     "text": [
      "saving model version 0.1\n",
      "✅ Best validation Accuracy: 6.8657e-01 at 1 epoch\n",
      "tensor(0.6000, device='cuda:0')\n",
      "Testing width=[13, 2, 1], lamb=0.001, grid=3\n",
      "checkpoint directory created: ./model\n",
      "saving model version 0.0\n"
     ]
    },
    {
     "name": "stderr",
     "output_type": "stream",
     "text": [
      " train_acc_kan: 9.01e-01 | val_acc_kan: 5.52e-01 |: 100%|███████████| 20/20 [00:05<00:00,  3.97it/s]\n"
     ]
    },
    {
     "name": "stdout",
     "output_type": "stream",
     "text": [
      "saving model version 0.1\n",
      "✅ Best validation Accuracy: 6.2687e-01 at 0 epoch\n",
      "tensor(0.6000, device='cuda:0')\n",
      "Testing width=[13, 2, 1], lamb=0.0001, grid=3\n",
      "checkpoint directory created: ./model\n",
      "saving model version 0.0\n"
     ]
    },
    {
     "name": "stderr",
     "output_type": "stream",
     "text": [
      " train_acc_kan: 8.93e-01 | val_acc_kan: 5.67e-01 |: 100%|███████████| 20/20 [00:05<00:00,  3.97it/s]\n"
     ]
    },
    {
     "name": "stdout",
     "output_type": "stream",
     "text": [
      "saving model version 0.1\n",
      "✅ Best validation Accuracy: 6.2687e-01 at 0 epoch\n",
      "tensor(0.6429, device='cuda:0')\n",
      "Testing width=[13, 2, 1], lamb=1e-05, grid=3\n",
      "checkpoint directory created: ./model\n",
      "saving model version 0.0\n"
     ]
    },
    {
     "name": "stderr",
     "output_type": "stream",
     "text": [
      " train_acc_kan: 8.97e-01 | val_acc_kan: 5.67e-01 |: 100%|███████████| 20/20 [00:05<00:00,  3.94it/s]\n"
     ]
    },
    {
     "name": "stdout",
     "output_type": "stream",
     "text": [
      "saving model version 0.1\n",
      "✅ Best validation Accuracy: 6.1194e-01 at 0 epoch\n",
      "tensor(0.6000, device='cuda:0')\n",
      "Testing width=[13, 2, 1], lamb=1e-06, grid=3\n",
      "checkpoint directory created: ./model\n",
      "saving model version 0.0\n"
     ]
    },
    {
     "name": "stderr",
     "output_type": "stream",
     "text": [
      " train_acc_kan: 9.09e-01 | val_acc_kan: 5.67e-01 |: 100%|███████████| 20/20 [00:04<00:00,  4.01it/s]\n"
     ]
    },
    {
     "name": "stdout",
     "output_type": "stream",
     "text": [
      "saving model version 0.1\n",
      "✅ Best validation Accuracy: 6.5672e-01 at 0 epoch\n",
      "tensor(0.6429, device='cuda:0')\n",
      "Testing width=[13, 2, 1], lamb=1e-07, grid=3\n",
      "checkpoint directory created: ./model\n",
      "saving model version 0.0\n"
     ]
    },
    {
     "name": "stderr",
     "output_type": "stream",
     "text": [
      " train_acc_kan: 8.93e-01 | val_acc_kan: 5.52e-01 |: 100%|███████████| 20/20 [00:05<00:00,  3.99it/s]\n"
     ]
    },
    {
     "name": "stdout",
     "output_type": "stream",
     "text": [
      "saving model version 0.1\n",
      "✅ Best validation Accuracy: 6.5672e-01 at 0 epoch\n",
      "tensor(0.6429, device='cuda:0')\n",
      "Testing width=[13, 2, 1], lamb=0.1, grid=4\n",
      "checkpoint directory created: ./model\n",
      "saving model version 0.0\n"
     ]
    },
    {
     "name": "stderr",
     "output_type": "stream",
     "text": [
      " train_acc_kan: 4.88e-01 | val_acc_kan: 5.37e-01 |: 100%|███████████| 20/20 [00:04<00:00,  4.82it/s]\n"
     ]
    },
    {
     "name": "stdout",
     "output_type": "stream",
     "text": [
      "saving model version 0.1\n",
      "✅ Best validation Accuracy: 5.3731e-01 at 0 epoch\n",
      "tensor(0.6000, device='cuda:0')\n",
      "Testing width=[13, 2, 1], lamb=0.01, grid=4\n",
      "checkpoint directory created: ./model\n",
      "saving model version 0.0\n"
     ]
    },
    {
     "name": "stderr",
     "output_type": "stream",
     "text": [
      " train_acc_kan: 5.12e-01 | val_acc_kan: 4.33e-01 |: 100%|███████████| 20/20 [00:03<00:00,  5.79it/s]\n"
     ]
    },
    {
     "name": "stdout",
     "output_type": "stream",
     "text": [
      "saving model version 0.1\n",
      "✅ Best validation Accuracy: 5.5224e-01 at 0 epoch\n",
      "tensor(0.6000, device='cuda:0')\n",
      "Testing width=[13, 2, 1], lamb=0.001, grid=4\n",
      "checkpoint directory created: ./model\n",
      "saving model version 0.0\n"
     ]
    },
    {
     "name": "stderr",
     "output_type": "stream",
     "text": [
      " train_acc_kan: 9.64e-01 | val_acc_kan: 5.52e-01 |: 100%|███████████| 20/20 [00:05<00:00,  3.88it/s]\n"
     ]
    },
    {
     "name": "stdout",
     "output_type": "stream",
     "text": [
      "saving model version 0.1\n",
      "✅ Best validation Accuracy: 6.8657e-01 at 0 epoch\n",
      "tensor(0.5714, device='cuda:0')\n",
      "Testing width=[13, 2, 1], lamb=0.0001, grid=4\n",
      "checkpoint directory created: ./model\n",
      "saving model version 0.0\n"
     ]
    },
    {
     "name": "stderr",
     "output_type": "stream",
     "text": [
      " train_acc_kan: 9.68e-01 | val_acc_kan: 4.48e-01 |: 100%|███████████| 20/20 [00:05<00:00,  3.87it/s]\n"
     ]
    },
    {
     "name": "stdout",
     "output_type": "stream",
     "text": [
      "saving model version 0.1\n",
      "✅ Best validation Accuracy: 6.5672e-01 at 0 epoch\n",
      "tensor(0.6429, device='cuda:0')\n",
      "Testing width=[13, 2, 1], lamb=1e-05, grid=4\n",
      "checkpoint directory created: ./model\n",
      "saving model version 0.0\n"
     ]
    },
    {
     "name": "stderr",
     "output_type": "stream",
     "text": [
      " train_acc_kan: 9.72e-01 | val_acc_kan: 5.37e-01 |: 100%|███████████| 20/20 [00:04<00:00,  4.11it/s]\n"
     ]
    },
    {
     "name": "stdout",
     "output_type": "stream",
     "text": [
      "saving model version 0.1\n",
      "✅ Best validation Accuracy: 6.4179e-01 at 0 epoch\n",
      "tensor(0.6429, device='cuda:0')\n",
      "Testing width=[13, 2, 1], lamb=1e-06, grid=4\n",
      "checkpoint directory created: ./model\n",
      "saving model version 0.0\n"
     ]
    },
    {
     "name": "stderr",
     "output_type": "stream",
     "text": [
      " train_acc_kan: 9.80e-01 | val_acc_kan: 5.22e-01 |: 100%|███████████| 20/20 [00:04<00:00,  4.01it/s]\n"
     ]
    },
    {
     "name": "stdout",
     "output_type": "stream",
     "text": [
      "saving model version 0.1\n",
      "✅ Best validation Accuracy: 6.4179e-01 at 0 epoch\n",
      "tensor(0.6429, device='cuda:0')\n",
      "Testing width=[13, 2, 1], lamb=1e-07, grid=4\n",
      "checkpoint directory created: ./model\n",
      "saving model version 0.0\n"
     ]
    },
    {
     "name": "stderr",
     "output_type": "stream",
     "text": [
      " train_acc_kan: 9.76e-01 | val_acc_kan: 5.52e-01 |: 100%|███████████| 20/20 [00:05<00:00,  3.87it/s]\n"
     ]
    },
    {
     "name": "stdout",
     "output_type": "stream",
     "text": [
      "saving model version 0.1\n",
      "✅ Best validation Accuracy: 6.4179e-01 at 0 epoch\n",
      "tensor(0.6429, device='cuda:0')\n",
      "Testing width=[13, 2, 1], lamb=0.1, grid=5\n",
      "checkpoint directory created: ./model\n",
      "saving model version 0.0\n"
     ]
    },
    {
     "name": "stderr",
     "output_type": "stream",
     "text": [
      " train_acc_kan: 5.12e-01 | val_acc_kan: 4.18e-01 |: 100%|███████████| 20/20 [00:03<00:00,  5.17it/s]\n"
     ]
    },
    {
     "name": "stdout",
     "output_type": "stream",
     "text": [
      "saving model version 0.1\n",
      "✅ Best validation Accuracy: 5.3731e-01 at 0 epoch\n",
      "tensor(0.6000, device='cuda:0')\n",
      "Testing width=[13, 2, 1], lamb=0.01, grid=5\n",
      "checkpoint directory created: ./model\n",
      "saving model version 0.0\n"
     ]
    },
    {
     "name": "stderr",
     "output_type": "stream",
     "text": [
      " train_acc_kan: 5.12e-01 | val_acc_kan: 4.03e-01 |: 100%|███████████| 20/20 [00:04<00:00,  4.54it/s]\n"
     ]
    },
    {
     "name": "stdout",
     "output_type": "stream",
     "text": [
      "saving model version 0.1\n",
      "✅ Best validation Accuracy: 4.6269e-01 at 1 epoch\n",
      "tensor(0.4000, device='cuda:0')\n",
      "Testing width=[13, 2, 1], lamb=0.001, grid=5\n",
      "checkpoint directory created: ./model\n",
      "saving model version 0.0\n"
     ]
    },
    {
     "name": "stderr",
     "output_type": "stream",
     "text": [
      " train_acc_kan: 9.92e-01 | val_acc_kan: 5.52e-01 |: 100%|███████████| 20/20 [00:05<00:00,  3.40it/s]\n"
     ]
    },
    {
     "name": "stdout",
     "output_type": "stream",
     "text": [
      "saving model version 0.1\n",
      "✅ Best validation Accuracy: 7.0149e-01 at 0 epoch\n",
      "tensor(0.6286, device='cuda:0')\n",
      "Testing width=[13, 2, 1], lamb=0.0001, grid=5\n",
      "checkpoint directory created: ./model\n",
      "saving model version 0.0\n"
     ]
    },
    {
     "name": "stderr",
     "output_type": "stream",
     "text": [
      " train_acc_kan: 9.92e-01 | val_acc_kan: 6.12e-01 |: 100%|███████████| 20/20 [00:06<00:00,  3.20it/s]\n"
     ]
    },
    {
     "name": "stdout",
     "output_type": "stream",
     "text": [
      "saving model version 0.1\n",
      "✅ Best validation Accuracy: 6.7164e-01 at 1 epoch\n",
      "tensor(0.6000, device='cuda:0')\n",
      "Testing width=[13, 2, 1], lamb=1e-05, grid=5\n",
      "checkpoint directory created: ./model\n",
      "saving model version 0.0\n"
     ]
    },
    {
     "name": "stderr",
     "output_type": "stream",
     "text": [
      " train_acc_kan: 9.92e-01 | val_acc_kan: 5.37e-01 |: 100%|███████████| 20/20 [00:06<00:00,  3.30it/s]\n"
     ]
    },
    {
     "name": "stdout",
     "output_type": "stream",
     "text": [
      "saving model version 0.1\n",
      "✅ Best validation Accuracy: 6.5672e-01 at 0 epoch\n",
      "tensor(0.6286, device='cuda:0')\n",
      "Testing width=[13, 2, 1], lamb=1e-06, grid=5\n",
      "checkpoint directory created: ./model\n",
      "saving model version 0.0\n"
     ]
    },
    {
     "name": "stderr",
     "output_type": "stream",
     "text": [
      " train_acc_kan: 9.80e-01 | val_acc_kan: 5.82e-01 |: 100%|███████████| 20/20 [00:06<00:00,  3.29it/s]\n"
     ]
    },
    {
     "name": "stdout",
     "output_type": "stream",
     "text": [
      "saving model version 0.1\n",
      "✅ Best validation Accuracy: 6.5672e-01 at 0 epoch\n",
      "tensor(0.5857, device='cuda:0')\n",
      "Testing width=[13, 2, 1], lamb=1e-07, grid=5\n",
      "checkpoint directory created: ./model\n",
      "saving model version 0.0\n"
     ]
    },
    {
     "name": "stderr",
     "output_type": "stream",
     "text": [
      " train_acc_kan: 9.92e-01 | val_acc_kan: 5.97e-01 |: 100%|███████████| 20/20 [00:05<00:00,  3.48it/s]\n"
     ]
    },
    {
     "name": "stdout",
     "output_type": "stream",
     "text": [
      "saving model version 0.1\n",
      "✅ Best validation Accuracy: 6.8657e-01 at 11 epoch\n",
      "tensor(0.6143, device='cuda:0')\n",
      "Testing width=[13, 2, 1], lamb=0.1, grid=6\n",
      "checkpoint directory created: ./model\n",
      "saving model version 0.0\n"
     ]
    },
    {
     "name": "stderr",
     "output_type": "stream",
     "text": [
      " train_acc_kan: 5.12e-01 | val_acc_kan: 4.48e-01 |: 100%|███████████| 20/20 [00:05<00:00,  3.63it/s]\n"
     ]
    },
    {
     "name": "stdout",
     "output_type": "stream",
     "text": [
      "saving model version 0.1\n",
      "✅ Best validation Accuracy: 5.3731e-01 at 0 epoch\n",
      "tensor(0.6000, device='cuda:0')\n",
      "Testing width=[13, 2, 1], lamb=0.01, grid=6\n",
      "checkpoint directory created: ./model\n",
      "saving model version 0.0\n"
     ]
    },
    {
     "name": "stderr",
     "output_type": "stream",
     "text": [
      " train_acc_kan: 8.89e-01 | val_acc_kan: 5.52e-01 |: 100%|███████████| 20/20 [00:05<00:00,  3.50it/s]\n"
     ]
    },
    {
     "name": "stdout",
     "output_type": "stream",
     "text": [
      "saving model version 0.1\n",
      "✅ Best validation Accuracy: 5.6716e-01 at 2 epoch\n",
      "tensor(0.5429, device='cuda:0')\n",
      "Testing width=[13, 2, 1], lamb=0.001, grid=6\n",
      "checkpoint directory created: ./model\n",
      "saving model version 0.0\n"
     ]
    },
    {
     "name": "stderr",
     "output_type": "stream",
     "text": [
      " train_acc_kan: 9.88e-01 | val_acc_kan: 5.67e-01 |: 100%|███████████| 20/20 [00:05<00:00,  3.49it/s]\n"
     ]
    },
    {
     "name": "stdout",
     "output_type": "stream",
     "text": [
      "saving model version 0.1\n",
      "✅ Best validation Accuracy: 6.7164e-01 at 9 epoch\n",
      "tensor(0.6286, device='cuda:0')\n",
      "Testing width=[13, 2, 1], lamb=0.0001, grid=6\n",
      "checkpoint directory created: ./model\n",
      "saving model version 0.0\n"
     ]
    },
    {
     "name": "stderr",
     "output_type": "stream",
     "text": [
      " train_acc_kan: 9.92e-01 | val_acc_kan: 5.37e-01 |: 100%|███████████| 20/20 [00:05<00:00,  3.48it/s]\n"
     ]
    },
    {
     "name": "stdout",
     "output_type": "stream",
     "text": [
      "saving model version 0.1\n",
      "✅ Best validation Accuracy: 6.5672e-01 at 6 epoch\n",
      "tensor(0.5857, device='cuda:0')\n",
      "Testing width=[13, 2, 1], lamb=1e-05, grid=6\n",
      "checkpoint directory created: ./model\n",
      "saving model version 0.0\n"
     ]
    },
    {
     "name": "stderr",
     "output_type": "stream",
     "text": [
      " train_acc_kan: 1.00e+00 | val_acc_kan: 4.63e-01 |: 100%|███████████| 20/20 [00:05<00:00,  3.43it/s]\n"
     ]
    },
    {
     "name": "stdout",
     "output_type": "stream",
     "text": [
      "saving model version 0.1\n",
      "✅ Best validation Accuracy: 6.2687e-01 at 2 epoch\n",
      "tensor(0.6000, device='cuda:0')\n",
      "Testing width=[13, 2, 1], lamb=1e-06, grid=6\n",
      "checkpoint directory created: ./model\n",
      "saving model version 0.0\n"
     ]
    },
    {
     "name": "stderr",
     "output_type": "stream",
     "text": [
      " train_acc_kan: 9.96e-01 | val_acc_kan: 5.22e-01 |: 100%|███████████| 20/20 [00:05<00:00,  3.36it/s]\n"
     ]
    },
    {
     "name": "stdout",
     "output_type": "stream",
     "text": [
      "saving model version 0.1\n",
      "✅ Best validation Accuracy: 5.9701e-01 at 2 epoch\n",
      "tensor(0.5571, device='cuda:0')\n",
      "Testing width=[13, 2, 1], lamb=1e-07, grid=6\n",
      "checkpoint directory created: ./model\n",
      "saving model version 0.0\n"
     ]
    },
    {
     "name": "stderr",
     "output_type": "stream",
     "text": [
      " train_acc_kan: 9.96e-01 | val_acc_kan: 5.82e-01 |: 100%|███████████| 20/20 [00:05<00:00,  3.51it/s]\n"
     ]
    },
    {
     "name": "stdout",
     "output_type": "stream",
     "text": [
      "saving model version 0.1\n",
      "✅ Best validation Accuracy: 5.9701e-01 at 1 epoch\n",
      "tensor(0.5429, device='cuda:0')\n",
      "Testing width=[13, 3, 1], lamb=0.1, grid=3\n",
      "checkpoint directory created: ./model\n",
      "saving model version 0.0\n"
     ]
    },
    {
     "name": "stderr",
     "output_type": "stream",
     "text": [
      " train_acc_kan: 5.12e-01 | val_acc_kan: 4.18e-01 |: 100%|███████████| 20/20 [00:03<00:00,  5.14it/s]\n"
     ]
    },
    {
     "name": "stdout",
     "output_type": "stream",
     "text": [
      "saving model version 0.1\n",
      "✅ Best validation Accuracy: 5.3731e-01 at 0 epoch\n",
      "tensor(0.6000, device='cuda:0')\n",
      "Testing width=[13, 3, 1], lamb=0.01, grid=3\n",
      "checkpoint directory created: ./model\n",
      "saving model version 0.0\n"
     ]
    },
    {
     "name": "stderr",
     "output_type": "stream",
     "text": [
      " train_acc_kan: 7.30e-01 | val_acc_kan: 6.87e-01 |: 100%|███████████| 20/20 [00:05<00:00,  3.94it/s]\n"
     ]
    },
    {
     "name": "stdout",
     "output_type": "stream",
     "text": [
      "saving model version 0.1\n",
      "✅ Best validation Accuracy: 7.1642e-01 at 12 epoch\n",
      "tensor(0.6143, device='cuda:0')\n",
      "Testing width=[13, 3, 1], lamb=0.001, grid=3\n",
      "checkpoint directory created: ./model\n",
      "saving model version 0.0\n"
     ]
    },
    {
     "name": "stderr",
     "output_type": "stream",
     "text": [
      " train_acc_kan: 9.64e-01 | val_acc_kan: 4.78e-01 |: 100%|███████████| 20/20 [00:06<00:00,  3.25it/s]\n"
     ]
    },
    {
     "name": "stdout",
     "output_type": "stream",
     "text": [
      "saving model version 0.1\n",
      "✅ Best validation Accuracy: 6.5672e-01 at 0 epoch\n",
      "tensor(0.6429, device='cuda:0')\n",
      "Testing width=[13, 3, 1], lamb=0.0001, grid=3\n",
      "checkpoint directory created: ./model\n",
      "saving model version 0.0\n"
     ]
    },
    {
     "name": "stderr",
     "output_type": "stream",
     "text": [
      " train_acc_kan: 9.68e-01 | val_acc_kan: 4.93e-01 |: 100%|███████████| 20/20 [00:06<00:00,  3.29it/s]\n"
     ]
    },
    {
     "name": "stdout",
     "output_type": "stream",
     "text": [
      "saving model version 0.1\n",
      "✅ Best validation Accuracy: 6.8657e-01 at 7 epoch\n",
      "tensor(0.5571, device='cuda:0')\n",
      "Testing width=[13, 3, 1], lamb=1e-05, grid=3\n",
      "checkpoint directory created: ./model\n",
      "saving model version 0.0\n"
     ]
    },
    {
     "name": "stderr",
     "output_type": "stream",
     "text": [
      " train_acc_kan: 9.56e-01 | val_acc_kan: 5.22e-01 |: 100%|███████████| 20/20 [00:05<00:00,  3.35it/s]\n"
     ]
    },
    {
     "name": "stdout",
     "output_type": "stream",
     "text": [
      "saving model version 0.1\n",
      "✅ Best validation Accuracy: 6.4179e-01 at 0 epoch\n",
      "tensor(0.6714, device='cuda:0')\n",
      "Testing width=[13, 3, 1], lamb=1e-06, grid=3\n",
      "checkpoint directory created: ./model\n",
      "saving model version 0.0\n"
     ]
    },
    {
     "name": "stderr",
     "output_type": "stream",
     "text": [
      " train_acc_kan: 9.60e-01 | val_acc_kan: 6.12e-01 |: 100%|███████████| 20/20 [00:05<00:00,  3.62it/s]\n"
     ]
    },
    {
     "name": "stdout",
     "output_type": "stream",
     "text": [
      "saving model version 0.1\n",
      "✅ Best validation Accuracy: 6.8657e-01 at 3 epoch\n",
      "tensor(0.4714, device='cuda:0')\n",
      "Testing width=[13, 3, 1], lamb=1e-07, grid=3\n",
      "checkpoint directory created: ./model\n",
      "saving model version 0.0\n"
     ]
    },
    {
     "name": "stderr",
     "output_type": "stream",
     "text": [
      " train_acc_kan: 9.60e-01 | val_acc_kan: 5.37e-01 |: 100%|███████████| 20/20 [00:06<00:00,  3.24it/s]\n"
     ]
    },
    {
     "name": "stdout",
     "output_type": "stream",
     "text": [
      "saving model version 0.1\n",
      "✅ Best validation Accuracy: 6.7164e-01 at 7 epoch\n",
      "tensor(0.5286, device='cuda:0')\n",
      "Testing width=[13, 3, 1], lamb=0.1, grid=4\n",
      "checkpoint directory created: ./model\n",
      "saving model version 0.0\n"
     ]
    },
    {
     "name": "stderr",
     "output_type": "stream",
     "text": [
      " train_acc_kan: 5.12e-01 | val_acc_kan: 4.63e-01 |: 100%|███████████| 20/20 [00:04<00:00,  4.17it/s]\n"
     ]
    },
    {
     "name": "stdout",
     "output_type": "stream",
     "text": [
      "saving model version 0.1\n",
      "✅ Best validation Accuracy: 5.3731e-01 at 0 epoch\n",
      "tensor(0.6000, device='cuda:0')\n",
      "Testing width=[13, 3, 1], lamb=0.01, grid=4\n",
      "checkpoint directory created: ./model\n",
      "saving model version 0.0\n"
     ]
    },
    {
     "name": "stderr",
     "output_type": "stream",
     "text": [
      " train_acc_kan: 8.10e-01 | val_acc_kan: 6.12e-01 |: 100%|███████████| 20/20 [00:05<00:00,  3.82it/s]\n"
     ]
    },
    {
     "name": "stdout",
     "output_type": "stream",
     "text": [
      "saving model version 0.1\n",
      "✅ Best validation Accuracy: 6.8657e-01 at 14 epoch\n",
      "tensor(0.6143, device='cuda:0')\n",
      "Testing width=[13, 3, 1], lamb=0.001, grid=4\n",
      "checkpoint directory created: ./model\n",
      "saving model version 0.0\n"
     ]
    },
    {
     "name": "stderr",
     "output_type": "stream",
     "text": [
      " train_acc_kan: 9.96e-01 | val_acc_kan: 5.07e-01 |: 100%|███████████| 20/20 [00:05<00:00,  3.35it/s]\n"
     ]
    },
    {
     "name": "stdout",
     "output_type": "stream",
     "text": [
      "saving model version 0.1\n",
      "✅ Best validation Accuracy: 6.4179e-01 at 8 epoch\n",
      "tensor(0.5000, device='cuda:0')\n",
      "Testing width=[13, 3, 1], lamb=0.0001, grid=4\n",
      "checkpoint directory created: ./model\n",
      "saving model version 0.0\n"
     ]
    },
    {
     "name": "stderr",
     "output_type": "stream",
     "text": [
      " train_acc_kan: 9.96e-01 | val_acc_kan: 5.22e-01 |: 100%|███████████| 20/20 [00:05<00:00,  3.57it/s]\n"
     ]
    },
    {
     "name": "stdout",
     "output_type": "stream",
     "text": [
      "saving model version 0.1\n",
      "✅ Best validation Accuracy: 5.9701e-01 at 1 epoch\n",
      "tensor(0.5714, device='cuda:0')\n",
      "Testing width=[13, 3, 1], lamb=1e-05, grid=4\n",
      "checkpoint directory created: ./model\n",
      "saving model version 0.0\n"
     ]
    },
    {
     "name": "stderr",
     "output_type": "stream",
     "text": [
      " train_acc_kan: 9.96e-01 | val_acc_kan: 4.93e-01 |: 100%|███████████| 20/20 [00:06<00:00,  3.30it/s]\n"
     ]
    },
    {
     "name": "stdout",
     "output_type": "stream",
     "text": [
      "saving model version 0.1\n",
      "✅ Best validation Accuracy: 6.2687e-01 at 1 epoch\n",
      "tensor(0.6429, device='cuda:0')\n",
      "Testing width=[13, 3, 1], lamb=1e-06, grid=4\n",
      "checkpoint directory created: ./model\n",
      "saving model version 0.0\n"
     ]
    },
    {
     "name": "stderr",
     "output_type": "stream",
     "text": [
      " train_acc_kan: 9.96e-01 | val_acc_kan: 5.67e-01 |: 100%|███████████| 20/20 [00:06<00:00,  3.33it/s]\n"
     ]
    },
    {
     "name": "stdout",
     "output_type": "stream",
     "text": [
      "saving model version 0.1\n",
      "✅ Best validation Accuracy: 6.5672e-01 at 1 epoch\n",
      "tensor(0.6143, device='cuda:0')\n",
      "Testing width=[13, 3, 1], lamb=1e-07, grid=4\n",
      "checkpoint directory created: ./model\n",
      "saving model version 0.0\n"
     ]
    },
    {
     "name": "stderr",
     "output_type": "stream",
     "text": [
      " train_acc_kan: 9.84e-01 | val_acc_kan: 5.52e-01 |: 100%|███████████| 20/20 [00:05<00:00,  3.96it/s]\n"
     ]
    },
    {
     "name": "stdout",
     "output_type": "stream",
     "text": [
      "saving model version 0.1\n",
      "✅ Best validation Accuracy: 6.7164e-01 at 7 epoch\n",
      "tensor(0.5286, device='cuda:0')\n",
      "Testing width=[13, 3, 1], lamb=0.1, grid=5\n",
      "checkpoint directory created: ./model\n",
      "saving model version 0.0\n"
     ]
    },
    {
     "name": "stderr",
     "output_type": "stream",
     "text": [
      " train_acc_kan: 5.12e-01 | val_acc_kan: 4.33e-01 |: 100%|███████████| 20/20 [00:05<00:00,  3.78it/s]\n"
     ]
    },
    {
     "name": "stdout",
     "output_type": "stream",
     "text": [
      "saving model version 0.1\n",
      "✅ Best validation Accuracy: 5.3731e-01 at 0 epoch\n",
      "tensor(0.6000, device='cuda:0')\n",
      "Testing width=[13, 3, 1], lamb=0.01, grid=5\n",
      "checkpoint directory created: ./model\n",
      "saving model version 0.0\n"
     ]
    },
    {
     "name": "stderr",
     "output_type": "stream",
     "text": [
      " train_acc_kan: 8.85e-01 | val_acc_kan: 6.72e-01 |: 100%|███████████| 20/20 [00:05<00:00,  3.66it/s]\n"
     ]
    },
    {
     "name": "stdout",
     "output_type": "stream",
     "text": [
      "saving model version 0.1\n",
      "✅ Best validation Accuracy: 7.4627e-01 at 1 epoch\n",
      "tensor(0.6000, device='cuda:0')\n",
      "Testing width=[13, 3, 1], lamb=0.001, grid=5\n",
      "checkpoint directory created: ./model\n",
      "saving model version 0.0\n"
     ]
    },
    {
     "name": "stderr",
     "output_type": "stream",
     "text": [
      " train_acc_kan: 1.00e+00 | val_acc_kan: 5.82e-01 |: 100%|███████████| 20/20 [00:05<00:00,  3.53it/s]\n"
     ]
    },
    {
     "name": "stdout",
     "output_type": "stream",
     "text": [
      "saving model version 0.1\n",
      "✅ Best validation Accuracy: 7.0149e-01 at 0 epoch\n",
      "tensor(0.6429, device='cuda:0')\n",
      "Testing width=[13, 3, 1], lamb=0.0001, grid=5\n",
      "checkpoint directory created: ./model\n",
      "saving model version 0.0\n"
     ]
    },
    {
     "name": "stderr",
     "output_type": "stream",
     "text": [
      " train_acc_kan: 1.00e+00 | val_acc_kan: 6.12e-01 |: 100%|███████████| 20/20 [00:05<00:00,  3.54it/s]\n"
     ]
    },
    {
     "name": "stdout",
     "output_type": "stream",
     "text": [
      "saving model version 0.1\n",
      "✅ Best validation Accuracy: 6.7164e-01 at 5 epoch\n",
      "tensor(0.5286, device='cuda:0')\n",
      "Testing width=[13, 3, 1], lamb=1e-05, grid=5\n",
      "checkpoint directory created: ./model\n",
      "saving model version 0.0\n"
     ]
    },
    {
     "name": "stderr",
     "output_type": "stream",
     "text": [
      " train_acc_kan: 1.00e+00 | val_acc_kan: 5.67e-01 |: 100%|███████████| 20/20 [00:05<00:00,  3.68it/s]\n"
     ]
    },
    {
     "name": "stdout",
     "output_type": "stream",
     "text": [
      "saving model version 0.1\n",
      "✅ Best validation Accuracy: 6.8657e-01 at 0 epoch\n",
      "tensor(0.5857, device='cuda:0')\n",
      "Testing width=[13, 3, 1], lamb=1e-06, grid=5\n",
      "checkpoint directory created: ./model\n",
      "saving model version 0.0\n"
     ]
    },
    {
     "name": "stderr",
     "output_type": "stream",
     "text": [
      " train_acc_kan: 9.96e-01 | val_acc_kan: 5.82e-01 |: 100%|███████████| 20/20 [00:05<00:00,  3.76it/s]\n"
     ]
    },
    {
     "name": "stdout",
     "output_type": "stream",
     "text": [
      "saving model version 0.1\n",
      "✅ Best validation Accuracy: 7.0149e-01 at 0 epoch\n",
      "tensor(0.5429, device='cuda:0')\n",
      "Testing width=[13, 3, 1], lamb=1e-07, grid=5\n",
      "checkpoint directory created: ./model\n",
      "saving model version 0.0\n"
     ]
    },
    {
     "name": "stderr",
     "output_type": "stream",
     "text": [
      " train_acc_kan: 1.00e+00 | val_acc_kan: 5.97e-01 |: 100%|███████████| 20/20 [00:05<00:00,  3.90it/s]\n"
     ]
    },
    {
     "name": "stdout",
     "output_type": "stream",
     "text": [
      "saving model version 0.1\n",
      "✅ Best validation Accuracy: 6.8657e-01 at 0 epoch\n",
      "tensor(0.6000, device='cuda:0')\n",
      "Testing width=[13, 3, 1], lamb=0.1, grid=6\n",
      "checkpoint directory created: ./model\n",
      "saving model version 0.0\n"
     ]
    },
    {
     "name": "stderr",
     "output_type": "stream",
     "text": [
      " train_acc_kan: 4.88e-01 | val_acc_kan: 5.37e-01 |: 100%|███████████| 20/20 [00:05<00:00,  3.70it/s]\n"
     ]
    },
    {
     "name": "stdout",
     "output_type": "stream",
     "text": [
      "saving model version 0.1\n",
      "✅ Best validation Accuracy: 5.3731e-01 at 0 epoch\n",
      "tensor(0.6000, device='cuda:0')\n",
      "Testing width=[13, 3, 1], lamb=0.01, grid=6\n",
      "checkpoint directory created: ./model\n",
      "saving model version 0.0\n"
     ]
    },
    {
     "name": "stderr",
     "output_type": "stream",
     "text": [
      " train_acc_kan: 8.97e-01 | val_acc_kan: 7.16e-01 |: 100%|███████████| 20/20 [00:05<00:00,  3.64it/s]\n"
     ]
    },
    {
     "name": "stdout",
     "output_type": "stream",
     "text": [
      "saving model version 0.1\n",
      "✅ Best validation Accuracy: 7.3134e-01 at 3 epoch\n",
      "tensor(0.6143, device='cuda:0')\n",
      "Testing width=[13, 3, 1], lamb=0.001, grid=6\n",
      "checkpoint directory created: ./model\n",
      "saving model version 0.0\n"
     ]
    },
    {
     "name": "stderr",
     "output_type": "stream",
     "text": [
      " train_acc_kan: 1.00e+00 | val_acc_kan: 5.97e-01 |: 100%|███████████| 20/20 [00:05<00:00,  3.95it/s]\n"
     ]
    },
    {
     "name": "stdout",
     "output_type": "stream",
     "text": [
      "saving model version 0.1\n",
      "✅ Best validation Accuracy: 7.3134e-01 at 0 epoch\n",
      "tensor(0.6429, device='cuda:0')\n",
      "Testing width=[13, 3, 1], lamb=0.0001, grid=6\n",
      "checkpoint directory created: ./model\n",
      "saving model version 0.0\n"
     ]
    },
    {
     "name": "stderr",
     "output_type": "stream",
     "text": [
      " train_acc_kan: 1.00e+00 | val_acc_kan: 5.22e-01 |: 100%|███████████| 20/20 [00:04<00:00,  4.04it/s]\n"
     ]
    },
    {
     "name": "stdout",
     "output_type": "stream",
     "text": [
      "saving model version 0.1\n",
      "✅ Best validation Accuracy: 6.5672e-01 at 5 epoch\n",
      "tensor(0.5286, device='cuda:0')\n",
      "Testing width=[13, 3, 1], lamb=1e-05, grid=6\n",
      "checkpoint directory created: ./model\n",
      "saving model version 0.0\n"
     ]
    },
    {
     "name": "stderr",
     "output_type": "stream",
     "text": [
      " train_acc_kan: 1.00e+00 | val_acc_kan: 5.22e-01 |: 100%|███████████| 20/20 [00:05<00:00,  3.98it/s]\n"
     ]
    },
    {
     "name": "stdout",
     "output_type": "stream",
     "text": [
      "saving model version 0.1\n",
      "✅ Best validation Accuracy: 7.1642e-01 at 0 epoch\n",
      "tensor(0.6429, device='cuda:0')\n",
      "Testing width=[13, 3, 1], lamb=1e-06, grid=6\n",
      "checkpoint directory created: ./model\n",
      "saving model version 0.0\n"
     ]
    },
    {
     "name": "stderr",
     "output_type": "stream",
     "text": [
      " train_acc_kan: 1.00e+00 | val_acc_kan: 6.12e-01 |: 100%|███████████| 20/20 [00:04<00:00,  4.09it/s]\n"
     ]
    },
    {
     "name": "stdout",
     "output_type": "stream",
     "text": [
      "saving model version 0.1\n",
      "✅ Best validation Accuracy: 6.7164e-01 at 0 epoch\n",
      "tensor(0.6143, device='cuda:0')\n",
      "Testing width=[13, 3, 1], lamb=1e-07, grid=6\n",
      "checkpoint directory created: ./model\n",
      "saving model version 0.0\n"
     ]
    },
    {
     "name": "stderr",
     "output_type": "stream",
     "text": [
      " train_acc_kan: 1.00e+00 | val_acc_kan: 6.12e-01 |: 100%|███████████| 20/20 [00:04<00:00,  4.06it/s]\n"
     ]
    },
    {
     "name": "stdout",
     "output_type": "stream",
     "text": [
      "saving model version 0.1\n",
      "✅ Best validation Accuracy: 6.8657e-01 at 0 epoch\n",
      "tensor(0.6571, device='cuda:0')\n",
      "Testing width=[13, 4, 1], lamb=0.1, grid=3\n",
      "checkpoint directory created: ./model\n",
      "saving model version 0.0\n"
     ]
    },
    {
     "name": "stderr",
     "output_type": "stream",
     "text": [
      " train_acc_kan: 5.12e-01 | val_acc_kan: 4.48e-01 |: 100%|███████████| 20/20 [00:03<00:00,  5.43it/s]\n"
     ]
    },
    {
     "name": "stdout",
     "output_type": "stream",
     "text": [
      "saving model version 0.1\n",
      "✅ Best validation Accuracy: 5.3731e-01 at 0 epoch\n",
      "tensor(0.6000, device='cuda:0')\n",
      "Testing width=[13, 4, 1], lamb=0.01, grid=3\n",
      "checkpoint directory created: ./model\n",
      "saving model version 0.0\n"
     ]
    },
    {
     "name": "stderr",
     "output_type": "stream",
     "text": [
      " train_acc_kan: 5.12e-01 | val_acc_kan: 4.18e-01 |: 100%|███████████| 20/20 [00:03<00:00,  5.31it/s]\n"
     ]
    },
    {
     "name": "stdout",
     "output_type": "stream",
     "text": [
      "saving model version 0.1\n",
      "✅ Best validation Accuracy: 4.6269e-01 at 0 epoch\n",
      "tensor(0.4000, device='cuda:0')\n",
      "Testing width=[13, 4, 1], lamb=0.001, grid=3\n",
      "checkpoint directory created: ./model\n",
      "saving model version 0.0\n"
     ]
    },
    {
     "name": "stderr",
     "output_type": "stream",
     "text": [
      " train_acc_kan: 9.33e-01 | val_acc_kan: 4.48e-01 |: 100%|███████████| 20/20 [00:05<00:00,  3.89it/s]\n"
     ]
    },
    {
     "name": "stdout",
     "output_type": "stream",
     "text": [
      "saving model version 0.1\n",
      "✅ Best validation Accuracy: 6.7164e-01 at 0 epoch\n",
      "tensor(0.7143, device='cuda:0')\n",
      "Testing width=[13, 4, 1], lamb=0.0001, grid=3\n",
      "checkpoint directory created: ./model\n",
      "saving model version 0.0\n"
     ]
    },
    {
     "name": "stderr",
     "output_type": "stream",
     "text": [
      " train_acc_kan: 9.92e-01 | val_acc_kan: 5.67e-01 |: 100%|███████████| 20/20 [00:05<00:00,  3.98it/s]\n"
     ]
    },
    {
     "name": "stdout",
     "output_type": "stream",
     "text": [
      "saving model version 0.1\n",
      "✅ Best validation Accuracy: 6.7164e-01 at 1 epoch\n",
      "tensor(0.6286, device='cuda:0')\n",
      "Testing width=[13, 4, 1], lamb=1e-05, grid=3\n",
      "checkpoint directory created: ./model\n",
      "saving model version 0.0\n"
     ]
    },
    {
     "name": "stderr",
     "output_type": "stream",
     "text": [
      " train_acc_kan: 9.96e-01 | val_acc_kan: 5.52e-01 |: 100%|███████████| 20/20 [00:05<00:00,  3.82it/s]\n"
     ]
    },
    {
     "name": "stdout",
     "output_type": "stream",
     "text": [
      "saving model version 0.1\n",
      "✅ Best validation Accuracy: 6.7164e-01 at 0 epoch\n",
      "tensor(0.7000, device='cuda:0')\n",
      "Testing width=[13, 4, 1], lamb=1e-06, grid=3\n",
      "checkpoint directory created: ./model\n",
      "saving model version 0.0\n"
     ]
    },
    {
     "name": "stderr",
     "output_type": "stream",
     "text": [
      " train_acc_kan: 9.92e-01 | val_acc_kan: 5.67e-01 |: 100%|███████████| 20/20 [00:05<00:00,  3.93it/s]\n"
     ]
    },
    {
     "name": "stdout",
     "output_type": "stream",
     "text": [
      "saving model version 0.1\n",
      "✅ Best validation Accuracy: 6.8657e-01 at 9 epoch\n",
      "tensor(0.5143, device='cuda:0')\n",
      "Testing width=[13, 4, 1], lamb=1e-07, grid=3\n",
      "checkpoint directory created: ./model\n",
      "saving model version 0.0\n"
     ]
    },
    {
     "name": "stderr",
     "output_type": "stream",
     "text": [
      " train_acc_kan: 9.92e-01 | val_acc_kan: 5.22e-01 |: 100%|███████████| 20/20 [00:05<00:00,  3.83it/s]\n"
     ]
    },
    {
     "name": "stdout",
     "output_type": "stream",
     "text": [
      "saving model version 0.1\n",
      "✅ Best validation Accuracy: 6.5672e-01 at 0 epoch\n",
      "tensor(0.7000, device='cuda:0')\n",
      "Testing width=[13, 4, 1], lamb=0.1, grid=4\n",
      "checkpoint directory created: ./model\n",
      "saving model version 0.0\n"
     ]
    },
    {
     "name": "stderr",
     "output_type": "stream",
     "text": [
      " train_acc_kan: 5.12e-01 | val_acc_kan: 4.33e-01 |: 100%|███████████| 20/20 [00:04<00:00,  4.37it/s]\n"
     ]
    },
    {
     "name": "stdout",
     "output_type": "stream",
     "text": [
      "saving model version 0.1\n",
      "✅ Best validation Accuracy: 5.3731e-01 at 0 epoch\n",
      "tensor(0.6000, device='cuda:0')\n",
      "Testing width=[13, 4, 1], lamb=0.01, grid=4\n",
      "checkpoint directory created: ./model\n",
      "saving model version 0.0\n"
     ]
    },
    {
     "name": "stderr",
     "output_type": "stream",
     "text": [
      " train_acc_kan: 5.12e-01 | val_acc_kan: 4.33e-01 |: 100%|███████████| 20/20 [00:03<00:00,  5.90it/s]\n"
     ]
    },
    {
     "name": "stdout",
     "output_type": "stream",
     "text": [
      "saving model version 0.1\n",
      "✅ Best validation Accuracy: 4.6269e-01 at 0 epoch\n",
      "tensor(0.4000, device='cuda:0')\n",
      "Testing width=[13, 4, 1], lamb=0.001, grid=4\n",
      "checkpoint directory created: ./model\n",
      "saving model version 0.0\n"
     ]
    },
    {
     "name": "stderr",
     "output_type": "stream",
     "text": [
      " train_acc_kan: 1.00e+00 | val_acc_kan: 5.22e-01 |: 100%|███████████| 20/20 [00:04<00:00,  4.09it/s]\n"
     ]
    },
    {
     "name": "stdout",
     "output_type": "stream",
     "text": [
      "saving model version 0.1\n",
      "✅ Best validation Accuracy: 7.0149e-01 at 0 epoch\n",
      "tensor(0.6714, device='cuda:0')\n",
      "Testing width=[13, 4, 1], lamb=0.0001, grid=4\n",
      "checkpoint directory created: ./model\n",
      "saving model version 0.0\n"
     ]
    },
    {
     "name": "stderr",
     "output_type": "stream",
     "text": [
      " train_acc_kan: 1.00e+00 | val_acc_kan: 6.27e-01 |: 100%|███████████| 20/20 [00:05<00:00,  3.94it/s]\n"
     ]
    },
    {
     "name": "stdout",
     "output_type": "stream",
     "text": [
      "saving model version 0.1\n",
      "✅ Best validation Accuracy: 7.3134e-01 at 0 epoch\n",
      "tensor(0.6571, device='cuda:0')\n",
      "Testing width=[13, 4, 1], lamb=1e-05, grid=4\n",
      "checkpoint directory created: ./model\n",
      "saving model version 0.0\n"
     ]
    },
    {
     "name": "stderr",
     "output_type": "stream",
     "text": [
      " train_acc_kan: 1.00e+00 | val_acc_kan: 4.33e-01 |: 100%|███████████| 20/20 [00:04<00:00,  4.05it/s]\n"
     ]
    },
    {
     "name": "stdout",
     "output_type": "stream",
     "text": [
      "saving model version 0.1\n",
      "✅ Best validation Accuracy: 7.1642e-01 at 0 epoch\n",
      "tensor(0.6571, device='cuda:0')\n",
      "Testing width=[13, 4, 1], lamb=1e-06, grid=4\n",
      "checkpoint directory created: ./model\n",
      "saving model version 0.0\n"
     ]
    },
    {
     "name": "stderr",
     "output_type": "stream",
     "text": [
      " train_acc_kan: 1.00e+00 | val_acc_kan: 5.22e-01 |: 100%|███████████| 20/20 [00:05<00:00,  3.96it/s]\n"
     ]
    },
    {
     "name": "stdout",
     "output_type": "stream",
     "text": [
      "saving model version 0.1\n",
      "✅ Best validation Accuracy: 7.3134e-01 at 0 epoch\n",
      "tensor(0.6714, device='cuda:0')\n",
      "Testing width=[13, 4, 1], lamb=1e-07, grid=4\n",
      "checkpoint directory created: ./model\n",
      "saving model version 0.0\n"
     ]
    },
    {
     "name": "stderr",
     "output_type": "stream",
     "text": [
      " train_acc_kan: 1.00e+00 | val_acc_kan: 4.78e-01 |: 100%|███████████| 20/20 [00:04<00:00,  4.03it/s]\n"
     ]
    },
    {
     "name": "stdout",
     "output_type": "stream",
     "text": [
      "saving model version 0.1\n",
      "✅ Best validation Accuracy: 7.3134e-01 at 0 epoch\n",
      "tensor(0.6714, device='cuda:0')\n",
      "Testing width=[13, 4, 1], lamb=0.1, grid=5\n",
      "checkpoint directory created: ./model\n",
      "saving model version 0.0\n"
     ]
    },
    {
     "name": "stderr",
     "output_type": "stream",
     "text": [
      " train_acc_kan: 5.12e-01 | val_acc_kan: 4.03e-01 |: 100%|███████████| 20/20 [00:04<00:00,  4.99it/s]\n"
     ]
    },
    {
     "name": "stdout",
     "output_type": "stream",
     "text": [
      "saving model version 0.1\n",
      "✅ Best validation Accuracy: 5.3731e-01 at 0 epoch\n",
      "tensor(0.6000, device='cuda:0')\n",
      "Testing width=[13, 4, 1], lamb=0.01, grid=5\n",
      "checkpoint directory created: ./model\n",
      "saving model version 0.0\n"
     ]
    },
    {
     "name": "stderr",
     "output_type": "stream",
     "text": [
      " train_acc_kan: 5.12e-01 | val_acc_kan: 4.18e-01 |: 100%|███████████| 20/20 [00:03<00:00,  5.64it/s]\n"
     ]
    },
    {
     "name": "stdout",
     "output_type": "stream",
     "text": [
      "saving model version 0.1\n",
      "✅ Best validation Accuracy: 4.6269e-01 at 0 epoch\n",
      "tensor(0.4143, device='cuda:0')\n",
      "Testing width=[13, 4, 1], lamb=0.001, grid=5\n",
      "checkpoint directory created: ./model\n",
      "saving model version 0.0\n"
     ]
    },
    {
     "name": "stderr",
     "output_type": "stream",
     "text": [
      " train_acc_kan: 1.00e+00 | val_acc_kan: 5.37e-01 |: 100%|███████████| 20/20 [00:05<00:00,  3.95it/s]\n"
     ]
    },
    {
     "name": "stdout",
     "output_type": "stream",
     "text": [
      "saving model version 0.1\n",
      "✅ Best validation Accuracy: 7.3134e-01 at 0 epoch\n",
      "tensor(0.6143, device='cuda:0')\n",
      "Testing width=[13, 4, 1], lamb=0.0001, grid=5\n",
      "checkpoint directory created: ./model\n",
      "saving model version 0.0\n"
     ]
    },
    {
     "name": "stderr",
     "output_type": "stream",
     "text": [
      " train_acc_kan: 1.00e+00 | val_acc_kan: 4.93e-01 |: 100%|███████████| 20/20 [00:04<00:00,  4.00it/s]\n"
     ]
    },
    {
     "name": "stdout",
     "output_type": "stream",
     "text": [
      "saving model version 0.1\n",
      "✅ Best validation Accuracy: 7.4627e-01 at 0 epoch\n",
      "tensor(0.6000, device='cuda:0')\n",
      "Testing width=[13, 4, 1], lamb=1e-05, grid=5\n",
      "checkpoint directory created: ./model\n",
      "saving model version 0.0\n"
     ]
    },
    {
     "name": "stderr",
     "output_type": "stream",
     "text": [
      " train_acc_kan: 1.00e+00 | val_acc_kan: 4.63e-01 |: 100%|███████████| 20/20 [00:05<00:00,  3.99it/s]\n"
     ]
    },
    {
     "name": "stdout",
     "output_type": "stream",
     "text": [
      "saving model version 0.1\n",
      "✅ Best validation Accuracy: 7.1642e-01 at 0 epoch\n",
      "tensor(0.5857, device='cuda:0')\n",
      "Testing width=[13, 4, 1], lamb=1e-06, grid=5\n",
      "checkpoint directory created: ./model\n",
      "saving model version 0.0\n"
     ]
    },
    {
     "name": "stderr",
     "output_type": "stream",
     "text": [
      " train_acc_kan: 1.00e+00 | val_acc_kan: 5.07e-01 |: 100%|███████████| 20/20 [00:05<00:00,  3.92it/s]\n"
     ]
    },
    {
     "name": "stdout",
     "output_type": "stream",
     "text": [
      "saving model version 0.1\n",
      "✅ Best validation Accuracy: 7.3134e-01 at 0 epoch\n",
      "tensor(0.5857, device='cuda:0')\n",
      "Testing width=[13, 4, 1], lamb=1e-07, grid=5\n",
      "checkpoint directory created: ./model\n",
      "saving model version 0.0\n"
     ]
    },
    {
     "name": "stderr",
     "output_type": "stream",
     "text": [
      " train_acc_kan: 0.00e+00 | val_acc_kan: 0.00e+00 |: 100%|███████████| 20/20 [00:05<00:00,  3.98it/s]\n"
     ]
    },
    {
     "name": "stdout",
     "output_type": "stream",
     "text": [
      "saving model version 0.1\n",
      "✅ Best validation Accuracy: 7.3134e-01 at 0 epoch\n",
      "tensor(0.5857, device='cuda:0')\n",
      "Testing width=[13, 4, 1], lamb=0.1, grid=6\n",
      "checkpoint directory created: ./model\n",
      "saving model version 0.0\n"
     ]
    },
    {
     "name": "stderr",
     "output_type": "stream",
     "text": [
      " train_acc_kan: 5.12e-01 | val_acc_kan: 4.18e-01 |: 100%|███████████| 20/20 [00:05<00:00,  3.81it/s]\n"
     ]
    },
    {
     "name": "stdout",
     "output_type": "stream",
     "text": [
      "saving model version 0.1\n",
      "✅ Best validation Accuracy: 5.3731e-01 at 0 epoch\n",
      "tensor(0.6000, device='cuda:0')\n",
      "Testing width=[13, 4, 1], lamb=0.01, grid=6\n",
      "checkpoint directory created: ./model\n",
      "saving model version 0.0\n"
     ]
    },
    {
     "name": "stderr",
     "output_type": "stream",
     "text": [
      " train_acc_kan: 8.93e-01 | val_acc_kan: 5.97e-01 |: 100%|███████████| 20/20 [00:04<00:00,  4.07it/s]\n"
     ]
    },
    {
     "name": "stdout",
     "output_type": "stream",
     "text": [
      "saving model version 0.1\n",
      "✅ Best validation Accuracy: 6.7164e-01 at 6 epoch\n",
      "tensor(0.5429, device='cuda:0')\n",
      "Testing width=[13, 4, 1], lamb=0.001, grid=6\n",
      "checkpoint directory created: ./model\n",
      "saving model version 0.0\n"
     ]
    },
    {
     "name": "stderr",
     "output_type": "stream",
     "text": [
      " train_acc_kan: 1.00e+00 | val_acc_kan: 6.27e-01 |: 100%|███████████| 20/20 [00:05<00:00,  3.78it/s]\n"
     ]
    },
    {
     "name": "stdout",
     "output_type": "stream",
     "text": [
      "saving model version 0.1\n",
      "✅ Best validation Accuracy: 7.1642e-01 at 0 epoch\n",
      "tensor(0.5714, device='cuda:0')\n",
      "Testing width=[13, 4, 1], lamb=0.0001, grid=6\n",
      "checkpoint directory created: ./model\n",
      "saving model version 0.0\n"
     ]
    },
    {
     "name": "stderr",
     "output_type": "stream",
     "text": [
      " train_acc_kan: 1.00e+00 | val_acc_kan: 5.97e-01 |: 100%|███████████| 20/20 [00:05<00:00,  3.91it/s]\n"
     ]
    },
    {
     "name": "stdout",
     "output_type": "stream",
     "text": [
      "saving model version 0.1\n",
      "✅ Best validation Accuracy: 6.4179e-01 at 4 epoch\n",
      "tensor(0.5286, device='cuda:0')\n",
      "Testing width=[13, 4, 1], lamb=1e-05, grid=6\n",
      "checkpoint directory created: ./model\n",
      "saving model version 0.0\n"
     ]
    },
    {
     "name": "stderr",
     "output_type": "stream",
     "text": [
      " train_acc_kan: 1.00e+00 | val_acc_kan: 6.27e-01 |: 100%|███████████| 20/20 [00:05<00:00,  3.93it/s]\n"
     ]
    },
    {
     "name": "stdout",
     "output_type": "stream",
     "text": [
      "saving model version 0.1\n",
      "✅ Best validation Accuracy: 6.7164e-01 at 11 epoch\n",
      "tensor(0.4286, device='cuda:0')\n",
      "Testing width=[13, 4, 1], lamb=1e-06, grid=6\n",
      "checkpoint directory created: ./model\n",
      "saving model version 0.0\n"
     ]
    },
    {
     "name": "stderr",
     "output_type": "stream",
     "text": [
      " train_acc_kan: 1.00e+00 | val_acc_kan: 5.67e-01 |: 100%|███████████| 20/20 [00:05<00:00,  3.92it/s]\n"
     ]
    },
    {
     "name": "stdout",
     "output_type": "stream",
     "text": [
      "saving model version 0.1\n",
      "✅ Best validation Accuracy: 6.2687e-01 at 1 epoch\n",
      "tensor(0.5429, device='cuda:0')\n",
      "Testing width=[13, 4, 1], lamb=1e-07, grid=6\n",
      "checkpoint directory created: ./model\n",
      "saving model version 0.0\n"
     ]
    },
    {
     "name": "stderr",
     "output_type": "stream",
     "text": [
      " train_acc_kan: 1.00e+00 | val_acc_kan: 4.48e-01 |: 100%|███████████| 20/20 [00:06<00:00,  3.14it/s]\n"
     ]
    },
    {
     "name": "stdout",
     "output_type": "stream",
     "text": [
      "saving model version 0.1\n",
      "✅ Best validation Accuracy: 6.4179e-01 at 0 epoch\n",
      "tensor(0.5000, device='cuda:0')\n",
      "Testing width=[13, 5, 1], lamb=0.1, grid=3\n",
      "checkpoint directory created: ./model\n",
      "saving model version 0.0\n"
     ]
    },
    {
     "name": "stderr",
     "output_type": "stream",
     "text": [
      " train_acc_kan: 5.12e-01 | val_acc_kan: 4.33e-01 |: 100%|███████████| 20/20 [00:04<00:00,  4.49it/s]\n"
     ]
    },
    {
     "name": "stdout",
     "output_type": "stream",
     "text": [
      "saving model version 0.1\n",
      "✅ Best validation Accuracy: 5.3731e-01 at 0 epoch\n",
      "tensor(0.6000, device='cuda:0')\n",
      "Testing width=[13, 5, 1], lamb=0.01, grid=3\n",
      "checkpoint directory created: ./model\n",
      "saving model version 0.0\n"
     ]
    },
    {
     "name": "stderr",
     "output_type": "stream",
     "text": [
      " train_acc_kan: 5.12e-01 | val_acc_kan: 4.48e-01 |: 100%|███████████| 20/20 [00:05<00:00,  3.89it/s]\n"
     ]
    },
    {
     "name": "stdout",
     "output_type": "stream",
     "text": [
      "saving model version 0.1\n",
      "✅ Best validation Accuracy: 4.6269e-01 at 0 epoch\n",
      "tensor(0.4000, device='cuda:0')\n",
      "Testing width=[13, 5, 1], lamb=0.001, grid=3\n",
      "checkpoint directory created: ./model\n",
      "saving model version 0.0\n"
     ]
    },
    {
     "name": "stderr",
     "output_type": "stream",
     "text": [
      " train_acc_kan: 9.96e-01 | val_acc_kan: 4.48e-01 |: 100%|███████████| 20/20 [00:05<00:00,  3.39it/s]\n"
     ]
    },
    {
     "name": "stdout",
     "output_type": "stream",
     "text": [
      "saving model version 0.1\n",
      "✅ Best validation Accuracy: 6.5672e-01 at 0 epoch\n",
      "tensor(0.6571, device='cuda:0')\n",
      "Testing width=[13, 5, 1], lamb=0.0001, grid=3\n",
      "checkpoint directory created: ./model\n",
      "saving model version 0.0\n"
     ]
    },
    {
     "name": "stderr",
     "output_type": "stream",
     "text": [
      " train_acc_kan: 1.00e+00 | val_acc_kan: 5.67e-01 |: 100%|███████████| 20/20 [00:05<00:00,  3.49it/s]\n"
     ]
    },
    {
     "name": "stdout",
     "output_type": "stream",
     "text": [
      "saving model version 0.1\n",
      "✅ Best validation Accuracy: 6.8657e-01 at 0 epoch\n",
      "tensor(0.6429, device='cuda:0')\n",
      "Testing width=[13, 5, 1], lamb=1e-05, grid=3\n",
      "checkpoint directory created: ./model\n",
      "saving model version 0.0\n"
     ]
    },
    {
     "name": "stderr",
     "output_type": "stream",
     "text": [
      " train_acc_kan: 9.96e-01 | val_acc_kan: 5.97e-01 |: 100%|███████████| 20/20 [00:05<00:00,  3.62it/s]\n"
     ]
    },
    {
     "name": "stdout",
     "output_type": "stream",
     "text": [
      "saving model version 0.1\n",
      "✅ Best validation Accuracy: 6.5672e-01 at 0 epoch\n",
      "tensor(0.6857, device='cuda:0')\n",
      "Testing width=[13, 5, 1], lamb=1e-06, grid=3\n",
      "checkpoint directory created: ./model\n",
      "saving model version 0.0\n"
     ]
    },
    {
     "name": "stderr",
     "output_type": "stream",
     "text": [
      " train_acc_kan: 9.92e-01 | val_acc_kan: 5.52e-01 |: 100%|███████████| 20/20 [00:05<00:00,  3.79it/s]\n"
     ]
    },
    {
     "name": "stdout",
     "output_type": "stream",
     "text": [
      "saving model version 0.1\n",
      "✅ Best validation Accuracy: 6.8657e-01 at 0 epoch\n",
      "tensor(0.6857, device='cuda:0')\n",
      "Testing width=[13, 5, 1], lamb=1e-07, grid=3\n",
      "checkpoint directory created: ./model\n",
      "saving model version 0.0\n"
     ]
    },
    {
     "name": "stderr",
     "output_type": "stream",
     "text": [
      " train_acc_kan: 9.88e-01 | val_acc_kan: 5.22e-01 |: 100%|███████████| 20/20 [00:05<00:00,  3.51it/s]\n"
     ]
    },
    {
     "name": "stdout",
     "output_type": "stream",
     "text": [
      "saving model version 0.1\n",
      "✅ Best validation Accuracy: 7.0149e-01 at 0 epoch\n",
      "tensor(0.6714, device='cuda:0')\n",
      "Testing width=[13, 5, 1], lamb=0.1, grid=4\n",
      "checkpoint directory created: ./model\n",
      "saving model version 0.0\n"
     ]
    },
    {
     "name": "stderr",
     "output_type": "stream",
     "text": [
      " train_acc_kan: 5.12e-01 | val_acc_kan: 4.18e-01 |: 100%|███████████| 20/20 [00:04<00:00,  4.11it/s]\n"
     ]
    },
    {
     "name": "stdout",
     "output_type": "stream",
     "text": [
      "saving model version 0.1\n",
      "✅ Best validation Accuracy: 5.3731e-01 at 0 epoch\n",
      "tensor(0.6000, device='cuda:0')\n",
      "Testing width=[13, 5, 1], lamb=0.01, grid=4\n",
      "checkpoint directory created: ./model\n",
      "saving model version 0.0\n"
     ]
    },
    {
     "name": "stderr",
     "output_type": "stream",
     "text": [
      " train_acc_kan: 5.12e-01 | val_acc_kan: 4.33e-01 |: 100%|███████████| 20/20 [00:04<00:00,  4.06it/s]\n"
     ]
    },
    {
     "name": "stdout",
     "output_type": "stream",
     "text": [
      "saving model version 0.1\n",
      "✅ Best validation Accuracy: 4.6269e-01 at 0 epoch\n",
      "tensor(0.4000, device='cuda:0')\n",
      "Testing width=[13, 5, 1], lamb=0.001, grid=4\n",
      "checkpoint directory created: ./model\n",
      "saving model version 0.0\n"
     ]
    },
    {
     "name": "stderr",
     "output_type": "stream",
     "text": [
      " train_acc_kan: 1.00e+00 | val_acc_kan: 5.37e-01 |: 100%|███████████| 20/20 [00:05<00:00,  3.58it/s]\n"
     ]
    },
    {
     "name": "stdout",
     "output_type": "stream",
     "text": [
      "saving model version 0.1\n",
      "✅ Best validation Accuracy: 6.1194e-01 at 0 epoch\n",
      "tensor(0.6857, device='cuda:0')\n",
      "Testing width=[13, 5, 1], lamb=0.0001, grid=4\n",
      "checkpoint directory created: ./model\n",
      "saving model version 0.0\n"
     ]
    },
    {
     "name": "stderr",
     "output_type": "stream",
     "text": [
      " train_acc_kan: 1.00e+00 | val_acc_kan: 4.18e-01 |: 100%|███████████| 20/20 [00:05<00:00,  3.57it/s]\n"
     ]
    },
    {
     "name": "stdout",
     "output_type": "stream",
     "text": [
      "saving model version 0.1\n",
      "✅ Best validation Accuracy: 6.5672e-01 at 0 epoch\n",
      "tensor(0.6714, device='cuda:0')\n",
      "Testing width=[13, 5, 1], lamb=1e-05, grid=4\n",
      "checkpoint directory created: ./model\n",
      "saving model version 0.0\n"
     ]
    },
    {
     "name": "stderr",
     "output_type": "stream",
     "text": [
      " train_acc_kan: 1.00e+00 | val_acc_kan: 5.22e-01 |: 100%|███████████| 20/20 [00:05<00:00,  3.54it/s]\n"
     ]
    },
    {
     "name": "stdout",
     "output_type": "stream",
     "text": [
      "saving model version 0.1\n",
      "✅ Best validation Accuracy: 6.7164e-01 at 0 epoch\n",
      "tensor(0.6286, device='cuda:0')\n",
      "Testing width=[13, 5, 1], lamb=1e-06, grid=4\n",
      "checkpoint directory created: ./model\n",
      "saving model version 0.0\n"
     ]
    },
    {
     "name": "stderr",
     "output_type": "stream",
     "text": [
      " train_acc_kan: 1.00e+00 | val_acc_kan: 5.37e-01 |: 100%|███████████| 20/20 [00:05<00:00,  3.57it/s]\n"
     ]
    },
    {
     "name": "stdout",
     "output_type": "stream",
     "text": [
      "saving model version 0.1\n",
      "✅ Best validation Accuracy: 7.4627e-01 at 0 epoch\n",
      "tensor(0.6143, device='cuda:0')\n",
      "Testing width=[13, 5, 1], lamb=1e-07, grid=4\n",
      "checkpoint directory created: ./model\n",
      "saving model version 0.0\n"
     ]
    },
    {
     "name": "stderr",
     "output_type": "stream",
     "text": [
      " train_acc_kan: 1.00e+00 | val_acc_kan: 5.22e-01 |: 100%|███████████| 20/20 [00:06<00:00,  3.32it/s]\n"
     ]
    },
    {
     "name": "stdout",
     "output_type": "stream",
     "text": [
      "saving model version 0.1\n",
      "✅ Best validation Accuracy: 7.4627e-01 at 0 epoch\n",
      "tensor(0.6286, device='cuda:0')\n",
      "Testing width=[13, 5, 1], lamb=0.1, grid=5\n",
      "checkpoint directory created: ./model\n",
      "saving model version 0.0\n"
     ]
    },
    {
     "name": "stderr",
     "output_type": "stream",
     "text": [
      " train_acc_kan: 5.12e-01 | val_acc_kan: 4.48e-01 |: 100%|███████████| 20/20 [00:05<00:00,  3.73it/s]\n"
     ]
    },
    {
     "name": "stdout",
     "output_type": "stream",
     "text": [
      "saving model version 0.1\n",
      "✅ Best validation Accuracy: 5.3731e-01 at 0 epoch\n",
      "tensor(0.6000, device='cuda:0')\n",
      "Testing width=[13, 5, 1], lamb=0.01, grid=5\n",
      "checkpoint directory created: ./model\n",
      "saving model version 0.0\n"
     ]
    },
    {
     "name": "stderr",
     "output_type": "stream",
     "text": [
      " train_acc_kan: 5.12e-01 | val_acc_kan: 4.33e-01 |: 100%|███████████| 20/20 [00:05<00:00,  3.96it/s]\n"
     ]
    },
    {
     "name": "stdout",
     "output_type": "stream",
     "text": [
      "saving model version 0.1\n",
      "✅ Best validation Accuracy: 4.6269e-01 at 0 epoch\n",
      "tensor(0.4000, device='cuda:0')\n",
      "Testing width=[13, 5, 1], lamb=0.001, grid=5\n",
      "checkpoint directory created: ./model\n",
      "saving model version 0.0\n"
     ]
    },
    {
     "name": "stderr",
     "output_type": "stream",
     "text": [
      " train_acc_kan: 1.00e+00 | val_acc_kan: 5.67e-01 |: 100%|███████████| 20/20 [00:05<00:00,  3.79it/s]\n"
     ]
    },
    {
     "name": "stdout",
     "output_type": "stream",
     "text": [
      "saving model version 0.1\n",
      "✅ Best validation Accuracy: 6.8657e-01 at 0 epoch\n",
      "tensor(0.7143, device='cuda:0')\n",
      "Testing width=[13, 5, 1], lamb=0.0001, grid=5\n",
      "checkpoint directory created: ./model\n",
      "saving model version 0.0\n"
     ]
    },
    {
     "name": "stderr",
     "output_type": "stream",
     "text": [
      " train_acc_kan: 1.00e+00 | val_acc_kan: 5.52e-01 |: 100%|███████████| 20/20 [00:05<00:00,  3.52it/s]\n"
     ]
    },
    {
     "name": "stdout",
     "output_type": "stream",
     "text": [
      "saving model version 0.1\n",
      "✅ Best validation Accuracy: 7.1642e-01 at 0 epoch\n",
      "tensor(0.6714, device='cuda:0')\n",
      "Testing width=[13, 5, 1], lamb=1e-05, grid=5\n",
      "checkpoint directory created: ./model\n",
      "saving model version 0.0\n"
     ]
    },
    {
     "name": "stderr",
     "output_type": "stream",
     "text": [
      " train_acc_kan: 1.00e+00 | val_acc_kan: 5.67e-01 |: 100%|███████████| 20/20 [00:05<00:00,  3.66it/s]\n"
     ]
    },
    {
     "name": "stdout",
     "output_type": "stream",
     "text": [
      "saving model version 0.1\n",
      "✅ Best validation Accuracy: 7.1642e-01 at 0 epoch\n",
      "tensor(0.6714, device='cuda:0')\n",
      "Testing width=[13, 5, 1], lamb=1e-06, grid=5\n",
      "checkpoint directory created: ./model\n",
      "saving model version 0.0\n"
     ]
    },
    {
     "name": "stderr",
     "output_type": "stream",
     "text": [
      " train_acc_kan: 1.00e+00 | val_acc_kan: 6.27e-01 |: 100%|███████████| 20/20 [00:05<00:00,  3.66it/s]\n"
     ]
    },
    {
     "name": "stdout",
     "output_type": "stream",
     "text": [
      "saving model version 0.1\n",
      "✅ Best validation Accuracy: 7.1642e-01 at 0 epoch\n",
      "tensor(0.6714, device='cuda:0')\n",
      "Testing width=[13, 5, 1], lamb=1e-07, grid=5\n",
      "checkpoint directory created: ./model\n",
      "saving model version 0.0\n"
     ]
    },
    {
     "name": "stderr",
     "output_type": "stream",
     "text": [
      " train_acc_kan: 1.00e+00 | val_acc_kan: 6.87e-01 |: 100%|███████████| 20/20 [00:05<00:00,  3.75it/s]\n"
     ]
    },
    {
     "name": "stdout",
     "output_type": "stream",
     "text": [
      "saving model version 0.1\n",
      "✅ Best validation Accuracy: 7.1642e-01 at 0 epoch\n",
      "tensor(0.6714, device='cuda:0')\n",
      "Testing width=[13, 5, 1], lamb=0.1, grid=6\n",
      "checkpoint directory created: ./model\n",
      "saving model version 0.0\n"
     ]
    },
    {
     "name": "stderr",
     "output_type": "stream",
     "text": [
      " train_acc_kan: 5.12e-01 | val_acc_kan: 4.33e-01 |: 100%|███████████| 20/20 [00:05<00:00,  3.77it/s]\n"
     ]
    },
    {
     "name": "stdout",
     "output_type": "stream",
     "text": [
      "saving model version 0.1\n",
      "✅ Best validation Accuracy: 5.3731e-01 at 0 epoch\n",
      "tensor(0.6000, device='cuda:0')\n",
      "Testing width=[13, 5, 1], lamb=0.01, grid=6\n",
      "checkpoint directory created: ./model\n",
      "saving model version 0.0\n"
     ]
    },
    {
     "name": "stderr",
     "output_type": "stream",
     "text": [
      " train_acc_kan: 9.13e-01 | val_acc_kan: 5.07e-01 |: 100%|███████████| 20/20 [00:05<00:00,  3.69it/s]\n"
     ]
    },
    {
     "name": "stdout",
     "output_type": "stream",
     "text": [
      "saving model version 0.1\n",
      "✅ Best validation Accuracy: 6.7164e-01 at 0 epoch\n",
      "tensor(0.6143, device='cuda:0')\n",
      "Testing width=[13, 5, 1], lamb=0.001, grid=6\n",
      "checkpoint directory created: ./model\n",
      "saving model version 0.0\n"
     ]
    },
    {
     "name": "stderr",
     "output_type": "stream",
     "text": [
      " train_acc_kan: 1.00e+00 | val_acc_kan: 5.52e-01 |: 100%|███████████| 20/20 [00:05<00:00,  3.96it/s]\n"
     ]
    },
    {
     "name": "stdout",
     "output_type": "stream",
     "text": [
      "saving model version 0.1\n",
      "✅ Best validation Accuracy: 6.8657e-01 at 0 epoch\n",
      "tensor(0.6429, device='cuda:0')\n",
      "Testing width=[13, 5, 1], lamb=0.0001, grid=6\n",
      "checkpoint directory created: ./model\n",
      "saving model version 0.0\n"
     ]
    },
    {
     "name": "stderr",
     "output_type": "stream",
     "text": [
      " train_acc_kan: 1.00e+00 | val_acc_kan: 5.22e-01 |: 100%|███████████| 20/20 [00:04<00:00,  4.08it/s]\n"
     ]
    },
    {
     "name": "stdout",
     "output_type": "stream",
     "text": [
      "saving model version 0.1\n",
      "✅ Best validation Accuracy: 6.8657e-01 at 0 epoch\n",
      "tensor(0.6429, device='cuda:0')\n",
      "Testing width=[13, 5, 1], lamb=1e-05, grid=6\n",
      "checkpoint directory created: ./model\n",
      "saving model version 0.0\n"
     ]
    },
    {
     "name": "stderr",
     "output_type": "stream",
     "text": [
      " train_acc_kan: 1.00e+00 | val_acc_kan: 5.97e-01 |: 100%|███████████| 20/20 [00:05<00:00,  3.82it/s]\n"
     ]
    },
    {
     "name": "stdout",
     "output_type": "stream",
     "text": [
      "saving model version 0.1\n",
      "✅ Best validation Accuracy: 7.3134e-01 at 0 epoch\n",
      "tensor(0.5857, device='cuda:0')\n",
      "Testing width=[13, 5, 1], lamb=1e-06, grid=6\n",
      "checkpoint directory created: ./model\n",
      "saving model version 0.0\n"
     ]
    },
    {
     "name": "stderr",
     "output_type": "stream",
     "text": [
      " train_acc_kan: 1.00e+00 | val_acc_kan: 5.97e-01 |: 100%|███████████| 20/20 [00:05<00:00,  3.93it/s]\n"
     ]
    },
    {
     "name": "stdout",
     "output_type": "stream",
     "text": [
      "saving model version 0.1\n",
      "✅ Best validation Accuracy: 7.3134e-01 at 0 epoch\n",
      "tensor(0.5714, device='cuda:0')\n",
      "Testing width=[13, 5, 1], lamb=1e-07, grid=6\n",
      "checkpoint directory created: ./model\n",
      "saving model version 0.0\n"
     ]
    },
    {
     "name": "stderr",
     "output_type": "stream",
     "text": [
      " train_acc_kan: 1.00e+00 | val_acc_kan: 6.42e-01 |: 100%|███████████| 20/20 [00:05<00:00,  3.70it/s]\n"
     ]
    },
    {
     "name": "stdout",
     "output_type": "stream",
     "text": [
      "saving model version 0.1\n",
      "✅ Best validation Accuracy: 7.3134e-01 at 0 epoch\n",
      "tensor(0.5714, device='cuda:0')\n",
      "Testing width=[13, 6, 1], lamb=0.1, grid=3\n",
      "checkpoint directory created: ./model\n",
      "saving model version 0.0\n"
     ]
    },
    {
     "name": "stderr",
     "output_type": "stream",
     "text": [
      " train_acc_kan: 5.12e-01 | val_acc_kan: 4.18e-01 |: 100%|███████████| 20/20 [00:03<00:00,  5.01it/s]\n"
     ]
    },
    {
     "name": "stdout",
     "output_type": "stream",
     "text": [
      "saving model version 0.1\n",
      "✅ Best validation Accuracy: 5.3731e-01 at 0 epoch\n",
      "tensor(0.6000, device='cuda:0')\n",
      "Testing width=[13, 6, 1], lamb=0.01, grid=3\n",
      "checkpoint directory created: ./model\n",
      "saving model version 0.0\n"
     ]
    },
    {
     "name": "stderr",
     "output_type": "stream",
     "text": [
      " train_acc_kan: 5.12e-01 | val_acc_kan: 4.18e-01 |: 100%|███████████| 20/20 [00:04<00:00,  4.42it/s]\n"
     ]
    },
    {
     "name": "stdout",
     "output_type": "stream",
     "text": [
      "saving model version 0.1\n",
      "✅ Best validation Accuracy: 4.6269e-01 at 0 epoch\n",
      "tensor(0.4000, device='cuda:0')\n",
      "Testing width=[13, 6, 1], lamb=0.001, grid=3\n",
      "checkpoint directory created: ./model\n",
      "saving model version 0.0\n"
     ]
    },
    {
     "name": "stderr",
     "output_type": "stream",
     "text": [
      " train_acc_kan: 1.00e+00 | val_acc_kan: 6.57e-01 |: 100%|███████████| 20/20 [00:05<00:00,  3.88it/s]\n"
     ]
    },
    {
     "name": "stdout",
     "output_type": "stream",
     "text": [
      "saving model version 0.1\n",
      "✅ Best validation Accuracy: 6.8657e-01 at 0 epoch\n",
      "tensor(0.6286, device='cuda:0')\n",
      "Testing width=[13, 6, 1], lamb=0.0001, grid=3\n",
      "checkpoint directory created: ./model\n",
      "saving model version 0.0\n"
     ]
    },
    {
     "name": "stderr",
     "output_type": "stream",
     "text": [
      " train_acc_kan: 1.00e+00 | val_acc_kan: 6.42e-01 |: 100%|███████████| 20/20 [00:05<00:00,  3.89it/s]\n"
     ]
    },
    {
     "name": "stdout",
     "output_type": "stream",
     "text": [
      "saving model version 0.1\n",
      "✅ Best validation Accuracy: 6.5672e-01 at 17 epoch\n",
      "tensor(0.5714, device='cuda:0')\n",
      "Testing width=[13, 6, 1], lamb=1e-05, grid=3\n",
      "checkpoint directory created: ./model\n",
      "saving model version 0.0\n"
     ]
    },
    {
     "name": "stderr",
     "output_type": "stream",
     "text": [
      " train_acc_kan: 1.00e+00 | val_acc_kan: 5.82e-01 |: 100%|███████████| 20/20 [00:05<00:00,  3.75it/s]\n"
     ]
    },
    {
     "name": "stdout",
     "output_type": "stream",
     "text": [
      "saving model version 0.1\n",
      "✅ Best validation Accuracy: 6.4179e-01 at 0 epoch\n",
      "tensor(0.6571, device='cuda:0')\n",
      "Testing width=[13, 6, 1], lamb=1e-06, grid=3\n",
      "checkpoint directory created: ./model\n",
      "saving model version 0.0\n"
     ]
    },
    {
     "name": "stderr",
     "output_type": "stream",
     "text": [
      " train_acc_kan: 1.00e+00 | val_acc_kan: 5.97e-01 |: 100%|███████████| 20/20 [00:05<00:00,  3.78it/s]\n"
     ]
    },
    {
     "name": "stdout",
     "output_type": "stream",
     "text": [
      "saving model version 0.1\n",
      "✅ Best validation Accuracy: 6.5672e-01 at 15 epoch\n",
      "tensor(0.5714, device='cuda:0')\n",
      "Testing width=[13, 6, 1], lamb=1e-07, grid=3\n",
      "checkpoint directory created: ./model\n",
      "saving model version 0.0\n"
     ]
    },
    {
     "name": "stderr",
     "output_type": "stream",
     "text": [
      " train_acc_kan: 1.00e+00 | val_acc_kan: 6.57e-01 |: 100%|███████████| 20/20 [00:05<00:00,  3.81it/s]\n"
     ]
    },
    {
     "name": "stdout",
     "output_type": "stream",
     "text": [
      "saving model version 0.1\n",
      "✅ Best validation Accuracy: 6.5672e-01 at 19 epoch\n",
      "tensor(0.5857, device='cuda:0')\n",
      "Testing width=[13, 6, 1], lamb=0.1, grid=4\n",
      "checkpoint directory created: ./model\n",
      "saving model version 0.0\n"
     ]
    },
    {
     "name": "stderr",
     "output_type": "stream",
     "text": [
      " train_acc_kan: 5.12e-01 | val_acc_kan: 4.18e-01 |: 100%|███████████| 20/20 [00:04<00:00,  4.53it/s]\n"
     ]
    },
    {
     "name": "stdout",
     "output_type": "stream",
     "text": [
      "saving model version 0.1\n",
      "✅ Best validation Accuracy: 5.3731e-01 at 0 epoch\n",
      "tensor(0.6000, device='cuda:0')\n",
      "Testing width=[13, 6, 1], lamb=0.01, grid=4\n",
      "checkpoint directory created: ./model\n",
      "saving model version 0.0\n"
     ]
    },
    {
     "name": "stderr",
     "output_type": "stream",
     "text": [
      " train_acc_kan: 8.45e-01 | val_acc_kan: 5.97e-01 |: 100%|███████████| 20/20 [00:05<00:00,  3.58it/s]\n"
     ]
    },
    {
     "name": "stdout",
     "output_type": "stream",
     "text": [
      "saving model version 0.1\n",
      "✅ Best validation Accuracy: 6.8657e-01 at 0 epoch\n",
      "tensor(0.6000, device='cuda:0')\n",
      "Testing width=[13, 6, 1], lamb=0.001, grid=4\n",
      "checkpoint directory created: ./model\n",
      "saving model version 0.0\n"
     ]
    },
    {
     "name": "stderr",
     "output_type": "stream",
     "text": [
      " train_acc_kan: 1.00e+00 | val_acc_kan: 5.52e-01 |: 100%|███████████| 20/20 [00:04<00:00,  4.30it/s]\n"
     ]
    },
    {
     "name": "stdout",
     "output_type": "stream",
     "text": [
      "saving model version 0.1\n",
      "✅ Best validation Accuracy: 7.1642e-01 at 3 epoch\n",
      "tensor(0.5857, device='cuda:0')\n",
      "Testing width=[13, 6, 1], lamb=0.0001, grid=4\n",
      "checkpoint directory created: ./model\n",
      "saving model version 0.0\n"
     ]
    },
    {
     "name": "stderr",
     "output_type": "stream",
     "text": [
      " train_acc_kan: 1.00e+00 | val_acc_kan: 5.52e-01 |: 100%|███████████| 20/20 [00:04<00:00,  4.35it/s]\n"
     ]
    },
    {
     "name": "stdout",
     "output_type": "stream",
     "text": [
      "saving model version 0.1\n",
      "✅ Best validation Accuracy: 6.5672e-01 at 9 epoch\n",
      "tensor(0.5714, device='cuda:0')\n",
      "Testing width=[13, 6, 1], lamb=1e-05, grid=4\n",
      "checkpoint directory created: ./model\n",
      "saving model version 0.0\n"
     ]
    },
    {
     "name": "stderr",
     "output_type": "stream",
     "text": [
      " train_acc_kan: 1.00e+00 | val_acc_kan: 5.52e-01 |: 100%|███████████| 20/20 [00:04<00:00,  4.23it/s]\n"
     ]
    },
    {
     "name": "stdout",
     "output_type": "stream",
     "text": [
      "saving model version 0.1\n",
      "✅ Best validation Accuracy: 5.9701e-01 at 0 epoch\n",
      "tensor(0.5714, device='cuda:0')\n",
      "Testing width=[13, 6, 1], lamb=1e-06, grid=4\n",
      "checkpoint directory created: ./model\n",
      "saving model version 0.0\n"
     ]
    },
    {
     "name": "stderr",
     "output_type": "stream",
     "text": [
      " train_acc_kan: 1.00e+00 | val_acc_kan: 5.22e-01 |: 100%|███████████| 20/20 [00:04<00:00,  4.29it/s]\n"
     ]
    },
    {
     "name": "stdout",
     "output_type": "stream",
     "text": [
      "saving model version 0.1\n",
      "✅ Best validation Accuracy: 6.4179e-01 at 6 epoch\n",
      "tensor(0.5429, device='cuda:0')\n",
      "Testing width=[13, 6, 1], lamb=1e-07, grid=4\n",
      "checkpoint directory created: ./model\n",
      "saving model version 0.0\n"
     ]
    },
    {
     "name": "stderr",
     "output_type": "stream",
     "text": [
      " train_acc_kan: 1.00e+00 | val_acc_kan: 4.33e-01 |: 100%|███████████| 20/20 [00:04<00:00,  4.36it/s]\n"
     ]
    },
    {
     "name": "stdout",
     "output_type": "stream",
     "text": [
      "saving model version 0.1\n",
      "✅ Best validation Accuracy: 6.1194e-01 at 6 epoch\n",
      "tensor(0.5571, device='cuda:0')\n",
      "Testing width=[13, 6, 1], lamb=0.1, grid=5\n",
      "checkpoint directory created: ./model\n",
      "saving model version 0.0\n"
     ]
    },
    {
     "name": "stderr",
     "output_type": "stream",
     "text": [
      " train_acc_kan: 5.12e-01 | val_acc_kan: 4.48e-01 |: 100%|███████████| 20/20 [00:04<00:00,  4.29it/s]\n"
     ]
    },
    {
     "name": "stdout",
     "output_type": "stream",
     "text": [
      "saving model version 0.1\n",
      "✅ Best validation Accuracy: 5.3731e-01 at 0 epoch\n",
      "tensor(0.6000, device='cuda:0')\n",
      "Testing width=[13, 6, 1], lamb=0.01, grid=5\n",
      "checkpoint directory created: ./model\n",
      "saving model version 0.0\n"
     ]
    },
    {
     "name": "stderr",
     "output_type": "stream",
     "text": [
      " train_acc_kan: 7.06e-01 | val_acc_kan: 6.72e-01 |: 100%|███████████| 20/20 [00:04<00:00,  4.21it/s]\n"
     ]
    },
    {
     "name": "stdout",
     "output_type": "stream",
     "text": [
      "saving model version 0.1\n",
      "✅ Best validation Accuracy: 6.8657e-01 at 4 epoch\n",
      "tensor(0.6000, device='cuda:0')\n",
      "Testing width=[13, 6, 1], lamb=0.001, grid=5\n",
      "checkpoint directory created: ./model\n",
      "saving model version 0.0\n"
     ]
    },
    {
     "name": "stderr",
     "output_type": "stream",
     "text": [
      " train_acc_kan: 1.00e+00 | val_acc_kan: 5.82e-01 |: 100%|███████████| 20/20 [00:04<00:00,  4.04it/s]\n"
     ]
    },
    {
     "name": "stdout",
     "output_type": "stream",
     "text": [
      "saving model version 0.1\n",
      "✅ Best validation Accuracy: 7.6119e-01 at 1 epoch\n",
      "tensor(0.6857, device='cuda:0')\n",
      "Testing width=[13, 6, 1], lamb=0.0001, grid=5\n",
      "checkpoint directory created: ./model\n",
      "saving model version 0.0\n"
     ]
    },
    {
     "name": "stderr",
     "output_type": "stream",
     "text": [
      " train_acc_kan: 1.00e+00 | val_acc_kan: 4.33e-01 |: 100%|███████████| 20/20 [00:04<00:00,  4.10it/s]\n"
     ]
    },
    {
     "name": "stdout",
     "output_type": "stream",
     "text": [
      "saving model version 0.1\n",
      "✅ Best validation Accuracy: 6.4179e-01 at 1 epoch\n",
      "tensor(0.6286, device='cuda:0')\n",
      "Testing width=[13, 6, 1], lamb=1e-05, grid=5\n",
      "checkpoint directory created: ./model\n",
      "saving model version 0.0\n"
     ]
    },
    {
     "name": "stderr",
     "output_type": "stream",
     "text": [
      " train_acc_kan: 1.00e+00 | val_acc_kan: 5.67e-01 |: 100%|███████████| 20/20 [00:05<00:00,  3.98it/s]\n"
     ]
    },
    {
     "name": "stdout",
     "output_type": "stream",
     "text": [
      "saving model version 0.1\n",
      "✅ Best validation Accuracy: 6.5672e-01 at 1 epoch\n",
      "tensor(0.6143, device='cuda:0')\n",
      "Testing width=[13, 6, 1], lamb=1e-06, grid=5\n",
      "checkpoint directory created: ./model\n",
      "saving model version 0.0\n"
     ]
    },
    {
     "name": "stderr",
     "output_type": "stream",
     "text": [
      " train_acc_kan: 1.00e+00 | val_acc_kan: 5.82e-01 |: 100%|███████████| 20/20 [00:04<00:00,  4.08it/s]\n"
     ]
    },
    {
     "name": "stdout",
     "output_type": "stream",
     "text": [
      "saving model version 0.1\n",
      "✅ Best validation Accuracy: 6.4179e-01 at 3 epoch\n",
      "tensor(0.5000, device='cuda:0')\n",
      "Testing width=[13, 6, 1], lamb=1e-07, grid=5\n",
      "checkpoint directory created: ./model\n",
      "saving model version 0.0\n"
     ]
    },
    {
     "name": "stderr",
     "output_type": "stream",
     "text": [
      " train_acc_kan: 1.00e+00 | val_acc_kan: 5.67e-01 |: 100%|███████████| 20/20 [00:04<00:00,  4.09it/s]\n"
     ]
    },
    {
     "name": "stdout",
     "output_type": "stream",
     "text": [
      "saving model version 0.1\n",
      "✅ Best validation Accuracy: 6.4179e-01 at 1 epoch\n",
      "tensor(0.5857, device='cuda:0')\n",
      "Testing width=[13, 6, 1], lamb=0.1, grid=6\n",
      "checkpoint directory created: ./model\n",
      "saving model version 0.0\n"
     ]
    },
    {
     "name": "stderr",
     "output_type": "stream",
     "text": [
      " train_acc_kan: 5.12e-01 | val_acc_kan: 4.33e-01 |: 100%|███████████| 20/20 [00:05<00:00,  3.94it/s]\n"
     ]
    },
    {
     "name": "stdout",
     "output_type": "stream",
     "text": [
      "saving model version 0.1\n",
      "✅ Best validation Accuracy: 5.3731e-01 at 0 epoch\n",
      "tensor(0.6000, device='cuda:0')\n",
      "Testing width=[13, 6, 1], lamb=0.01, grid=6\n",
      "checkpoint directory created: ./model\n",
      "saving model version 0.0\n"
     ]
    },
    {
     "name": "stderr",
     "output_type": "stream",
     "text": [
      " train_acc_kan: 5.12e-01 | val_acc_kan: 4.18e-01 |: 100%|███████████| 20/20 [00:04<00:00,  4.39it/s]\n"
     ]
    },
    {
     "name": "stdout",
     "output_type": "stream",
     "text": [
      "saving model version 0.1\n",
      "✅ Best validation Accuracy: 4.6269e-01 at 0 epoch\n",
      "tensor(0.4000, device='cuda:0')\n",
      "Testing width=[13, 6, 1], lamb=0.001, grid=6\n",
      "checkpoint directory created: ./model\n",
      "saving model version 0.0\n"
     ]
    },
    {
     "name": "stderr",
     "output_type": "stream",
     "text": [
      " train_acc_kan: 1.00e+00 | val_acc_kan: 6.42e-01 |: 100%|███████████| 20/20 [00:04<00:00,  4.17it/s]\n"
     ]
    },
    {
     "name": "stdout",
     "output_type": "stream",
     "text": [
      "saving model version 0.1\n",
      "✅ Best validation Accuracy: 7.4627e-01 at 0 epoch\n",
      "tensor(0.6714, device='cuda:0')\n",
      "Testing width=[13, 6, 1], lamb=0.0001, grid=6\n",
      "checkpoint directory created: ./model\n",
      "saving model version 0.0\n"
     ]
    },
    {
     "name": "stderr",
     "output_type": "stream",
     "text": [
      " train_acc_kan: 1.00e+00 | val_acc_kan: 5.37e-01 |: 100%|███████████| 20/20 [00:04<00:00,  4.28it/s]\n"
     ]
    },
    {
     "name": "stdout",
     "output_type": "stream",
     "text": [
      "saving model version 0.1\n",
      "✅ Best validation Accuracy: 6.7164e-01 at 0 epoch\n",
      "tensor(0.5429, device='cuda:0')\n",
      "Testing width=[13, 6, 1], lamb=1e-05, grid=6\n",
      "checkpoint directory created: ./model\n",
      "saving model version 0.0\n"
     ]
    },
    {
     "name": "stderr",
     "output_type": "stream",
     "text": [
      " train_acc_kan: 1.00e+00 | val_acc_kan: 5.07e-01 |: 100%|███████████| 20/20 [00:04<00:00,  4.09it/s]\n"
     ]
    },
    {
     "name": "stdout",
     "output_type": "stream",
     "text": [
      "saving model version 0.1\n",
      "✅ Best validation Accuracy: 6.7164e-01 at 0 epoch\n",
      "tensor(0.6143, device='cuda:0')\n",
      "Testing width=[13, 6, 1], lamb=1e-06, grid=6\n",
      "checkpoint directory created: ./model\n",
      "saving model version 0.0\n"
     ]
    },
    {
     "name": "stderr",
     "output_type": "stream",
     "text": [
      " train_acc_kan: 1.00e+00 | val_acc_kan: 5.22e-01 |: 100%|███████████| 20/20 [00:04<00:00,  4.00it/s]\n"
     ]
    },
    {
     "name": "stdout",
     "output_type": "stream",
     "text": [
      "saving model version 0.1\n",
      "✅ Best validation Accuracy: 7.1642e-01 at 0 epoch\n",
      "tensor(0.5714, device='cuda:0')\n",
      "Testing width=[13, 6, 1], lamb=1e-07, grid=6\n",
      "checkpoint directory created: ./model\n",
      "saving model version 0.0\n"
     ]
    },
    {
     "name": "stderr",
     "output_type": "stream",
     "text": [
      " train_acc_kan: 1.00e+00 | val_acc_kan: 5.67e-01 |: 100%|███████████| 20/20 [00:04<00:00,  4.21it/s]\n"
     ]
    },
    {
     "name": "stdout",
     "output_type": "stream",
     "text": [
      "saving model version 0.1\n",
      "✅ Best validation Accuracy: 7.1642e-01 at 0 epoch\n",
      "tensor(0.5714, device='cuda:0')\n",
      "Testing width=[13, 7, 1], lamb=0.1, grid=3\n",
      "checkpoint directory created: ./model\n",
      "saving model version 0.0\n"
     ]
    },
    {
     "name": "stderr",
     "output_type": "stream",
     "text": [
      " train_acc_kan: 5.12e-01 | val_acc_kan: 4.48e-01 |: 100%|███████████| 20/20 [00:04<00:00,  4.23it/s]\n"
     ]
    },
    {
     "name": "stdout",
     "output_type": "stream",
     "text": [
      "saving model version 0.1\n",
      "✅ Best validation Accuracy: 5.3731e-01 at 0 epoch\n",
      "tensor(0.6000, device='cuda:0')\n",
      "Testing width=[13, 7, 1], lamb=0.01, grid=3\n",
      "checkpoint directory created: ./model\n",
      "saving model version 0.0\n"
     ]
    },
    {
     "name": "stderr",
     "output_type": "stream",
     "text": [
      " train_acc_kan: 5.12e-01 | val_acc_kan: 4.18e-01 |: 100%|███████████| 20/20 [00:03<00:00,  5.63it/s]\n"
     ]
    },
    {
     "name": "stdout",
     "output_type": "stream",
     "text": [
      "saving model version 0.1\n",
      "✅ Best validation Accuracy: 4.6269e-01 at 1 epoch\n",
      "tensor(0.4000, device='cuda:0')\n",
      "Testing width=[13, 7, 1], lamb=0.001, grid=3\n",
      "checkpoint directory created: ./model\n",
      "saving model version 0.0\n"
     ]
    },
    {
     "name": "stderr",
     "output_type": "stream",
     "text": [
      " train_acc_kan: 9.96e-01 | val_acc_kan: 5.67e-01 |: 100%|███████████| 20/20 [00:04<00:00,  4.27it/s]\n"
     ]
    },
    {
     "name": "stdout",
     "output_type": "stream",
     "text": [
      "saving model version 0.1\n",
      "✅ Best validation Accuracy: 6.5672e-01 at 7 epoch\n",
      "tensor(0.6571, device='cuda:0')\n",
      "Testing width=[13, 7, 1], lamb=0.0001, grid=3\n",
      "checkpoint directory created: ./model\n",
      "saving model version 0.0\n"
     ]
    },
    {
     "name": "stderr",
     "output_type": "stream",
     "text": [
      " train_acc_kan: 1.00e+00 | val_acc_kan: 5.52e-01 |: 100%|███████████| 20/20 [00:04<00:00,  4.19it/s]\n"
     ]
    },
    {
     "name": "stdout",
     "output_type": "stream",
     "text": [
      "saving model version 0.1\n",
      "✅ Best validation Accuracy: 6.4179e-01 at 0 epoch\n",
      "tensor(0.7000, device='cuda:0')\n",
      "Testing width=[13, 7, 1], lamb=1e-05, grid=3\n",
      "checkpoint directory created: ./model\n",
      "saving model version 0.0\n"
     ]
    },
    {
     "name": "stderr",
     "output_type": "stream",
     "text": [
      " train_acc_kan: 1.00e+00 | val_acc_kan: 6.27e-01 |: 100%|███████████| 20/20 [00:04<00:00,  4.14it/s]\n"
     ]
    },
    {
     "name": "stdout",
     "output_type": "stream",
     "text": [
      "saving model version 0.1\n",
      "✅ Best validation Accuracy: 6.5672e-01 at 0 epoch\n",
      "tensor(0.6571, device='cuda:0')\n",
      "Testing width=[13, 7, 1], lamb=1e-06, grid=3\n",
      "checkpoint directory created: ./model\n",
      "saving model version 0.0\n"
     ]
    },
    {
     "name": "stderr",
     "output_type": "stream",
     "text": [
      " train_acc_kan: 1.00e+00 | val_acc_kan: 5.52e-01 |: 100%|███████████| 20/20 [00:04<00:00,  4.16it/s]\n"
     ]
    },
    {
     "name": "stdout",
     "output_type": "stream",
     "text": [
      "saving model version 0.1\n",
      "✅ Best validation Accuracy: 6.2687e-01 at 7 epoch\n",
      "tensor(0.4571, device='cuda:0')\n",
      "Testing width=[13, 7, 1], lamb=1e-07, grid=3\n",
      "checkpoint directory created: ./model\n",
      "saving model version 0.0\n"
     ]
    },
    {
     "name": "stderr",
     "output_type": "stream",
     "text": [
      " train_acc_kan: 1.00e+00 | val_acc_kan: 6.27e-01 |: 100%|███████████| 20/20 [00:04<00:00,  4.16it/s]\n"
     ]
    },
    {
     "name": "stdout",
     "output_type": "stream",
     "text": [
      "saving model version 0.1\n",
      "✅ Best validation Accuracy: 6.5672e-01 at 0 epoch\n",
      "tensor(0.6714, device='cuda:0')\n",
      "Testing width=[13, 7, 1], lamb=0.1, grid=4\n",
      "checkpoint directory created: ./model\n",
      "saving model version 0.0\n"
     ]
    },
    {
     "name": "stderr",
     "output_type": "stream",
     "text": [
      " train_acc_kan: 5.12e-01 | val_acc_kan: 4.33e-01 |: 100%|███████████| 20/20 [00:04<00:00,  4.90it/s]\n"
     ]
    },
    {
     "name": "stdout",
     "output_type": "stream",
     "text": [
      "saving model version 0.1\n",
      "✅ Best validation Accuracy: 5.3731e-01 at 0 epoch\n",
      "tensor(0.6000, device='cuda:0')\n",
      "Testing width=[13, 7, 1], lamb=0.01, grid=4\n",
      "checkpoint directory created: ./model\n",
      "saving model version 0.0\n"
     ]
    },
    {
     "name": "stderr",
     "output_type": "stream",
     "text": [
      " train_acc_kan: 5.12e-01 | val_acc_kan: 4.33e-01 |: 100%|███████████| 20/20 [00:05<00:00,  3.82it/s]\n"
     ]
    },
    {
     "name": "stdout",
     "output_type": "stream",
     "text": [
      "saving model version 0.1\n",
      "✅ Best validation Accuracy: 4.6269e-01 at 0 epoch\n",
      "tensor(0.4000, device='cuda:0')\n",
      "Testing width=[13, 7, 1], lamb=0.001, grid=4\n",
      "checkpoint directory created: ./model\n",
      "saving model version 0.0\n"
     ]
    },
    {
     "name": "stderr",
     "output_type": "stream",
     "text": [
      " train_acc_kan: 1.00e+00 | val_acc_kan: 4.48e-01 |: 100%|███████████| 20/20 [00:04<00:00,  4.16it/s]\n"
     ]
    },
    {
     "name": "stdout",
     "output_type": "stream",
     "text": [
      "saving model version 0.1\n",
      "✅ Best validation Accuracy: 7.1642e-01 at 0 epoch\n",
      "tensor(0.7000, device='cuda:0')\n",
      "Testing width=[13, 7, 1], lamb=0.0001, grid=4\n",
      "checkpoint directory created: ./model\n",
      "saving model version 0.0\n"
     ]
    },
    {
     "name": "stderr",
     "output_type": "stream",
     "text": [
      " train_acc_kan: 1.00e+00 | val_acc_kan: 5.97e-01 |: 100%|███████████| 20/20 [00:04<00:00,  4.10it/s]\n"
     ]
    },
    {
     "name": "stdout",
     "output_type": "stream",
     "text": [
      "saving model version 0.1\n",
      "✅ Best validation Accuracy: 6.7164e-01 at 0 epoch\n",
      "tensor(0.6286, device='cuda:0')\n",
      "Testing width=[13, 7, 1], lamb=1e-05, grid=4\n",
      "checkpoint directory created: ./model\n",
      "saving model version 0.0\n"
     ]
    },
    {
     "name": "stderr",
     "output_type": "stream",
     "text": [
      " train_acc_kan: 1.00e+00 | val_acc_kan: 6.12e-01 |: 100%|███████████| 20/20 [00:04<00:00,  4.15it/s]\n"
     ]
    },
    {
     "name": "stdout",
     "output_type": "stream",
     "text": [
      "saving model version 0.1\n",
      "✅ Best validation Accuracy: 6.5672e-01 at 0 epoch\n",
      "tensor(0.6571, device='cuda:0')\n",
      "Testing width=[13, 7, 1], lamb=1e-06, grid=4\n",
      "checkpoint directory created: ./model\n",
      "saving model version 0.0\n"
     ]
    },
    {
     "name": "stderr",
     "output_type": "stream",
     "text": [
      " train_acc_kan: 1.00e+00 | val_acc_kan: 5.22e-01 |: 100%|███████████| 20/20 [00:06<00:00,  3.24it/s]\n"
     ]
    },
    {
     "name": "stdout",
     "output_type": "stream",
     "text": [
      "saving model version 0.1\n",
      "✅ Best validation Accuracy: 6.8657e-01 at 0 epoch\n",
      "tensor(0.6714, device='cuda:0')\n",
      "Testing width=[13, 7, 1], lamb=1e-07, grid=4\n",
      "checkpoint directory created: ./model\n",
      "saving model version 0.0\n"
     ]
    },
    {
     "name": "stderr",
     "output_type": "stream",
     "text": [
      " train_acc_kan: 1.00e+00 | val_acc_kan: 5.07e-01 |: 100%|███████████| 20/20 [00:05<00:00,  3.47it/s]\n"
     ]
    },
    {
     "name": "stdout",
     "output_type": "stream",
     "text": [
      "saving model version 0.1\n",
      "✅ Best validation Accuracy: 6.5672e-01 at 1 epoch\n",
      "tensor(0.5429, device='cuda:0')\n",
      "Testing width=[13, 7, 1], lamb=0.1, grid=5\n",
      "checkpoint directory created: ./model\n",
      "saving model version 0.0\n"
     ]
    },
    {
     "name": "stderr",
     "output_type": "stream",
     "text": [
      " train_acc_kan: 5.12e-01 | val_acc_kan: 4.18e-01 |: 100%|███████████| 20/20 [00:06<00:00,  3.15it/s]\n"
     ]
    },
    {
     "name": "stdout",
     "output_type": "stream",
     "text": [
      "saving model version 0.1\n",
      "✅ Best validation Accuracy: 5.3731e-01 at 0 epoch\n",
      "tensor(0.6000, device='cuda:0')\n",
      "Testing width=[13, 7, 1], lamb=0.01, grid=5\n",
      "checkpoint directory created: ./model\n",
      "saving model version 0.0\n"
     ]
    },
    {
     "name": "stderr",
     "output_type": "stream",
     "text": [
      " train_acc_kan: 5.12e-01 | val_acc_kan: 4.18e-01 |: 100%|███████████| 20/20 [00:05<00:00,  3.50it/s]\n"
     ]
    },
    {
     "name": "stdout",
     "output_type": "stream",
     "text": [
      "saving model version 0.1\n",
      "✅ Best validation Accuracy: 4.6269e-01 at 1 epoch\n",
      "tensor(0.4000, device='cuda:0')\n",
      "Testing width=[13, 7, 1], lamb=0.001, grid=5\n",
      "checkpoint directory created: ./model\n",
      "saving model version 0.0\n"
     ]
    },
    {
     "name": "stderr",
     "output_type": "stream",
     "text": [
      " train_acc_kan: 1.00e+00 | val_acc_kan: 5.22e-01 |: 100%|███████████| 20/20 [00:05<00:00,  3.37it/s]\n"
     ]
    },
    {
     "name": "stdout",
     "output_type": "stream",
     "text": [
      "saving model version 0.1\n",
      "✅ Best validation Accuracy: 6.4179e-01 at 0 epoch\n",
      "tensor(0.6000, device='cuda:0')\n",
      "Testing width=[13, 7, 1], lamb=0.0001, grid=5\n",
      "checkpoint directory created: ./model\n",
      "saving model version 0.0\n"
     ]
    },
    {
     "name": "stderr",
     "output_type": "stream",
     "text": [
      " train_acc_kan: 1.00e+00 | val_acc_kan: 6.42e-01 |: 100%|███████████| 20/20 [00:05<00:00,  3.51it/s]\n"
     ]
    },
    {
     "name": "stdout",
     "output_type": "stream",
     "text": [
      "saving model version 0.1\n",
      "✅ Best validation Accuracy: 6.4179e-01 at 11 epoch\n",
      "tensor(0.4857, device='cuda:0')\n",
      "Testing width=[13, 7, 1], lamb=1e-05, grid=5\n",
      "checkpoint directory created: ./model\n",
      "saving model version 0.0\n"
     ]
    },
    {
     "name": "stderr",
     "output_type": "stream",
     "text": [
      " train_acc_kan: 1.00e+00 | val_acc_kan: 5.22e-01 |: 100%|███████████| 20/20 [00:05<00:00,  3.68it/s]\n"
     ]
    },
    {
     "name": "stdout",
     "output_type": "stream",
     "text": [
      "saving model version 0.1\n",
      "✅ Best validation Accuracy: 6.4179e-01 at 0 epoch\n",
      "tensor(0.5714, device='cuda:0')\n",
      "Testing width=[13, 7, 1], lamb=1e-06, grid=5\n",
      "checkpoint directory created: ./model\n",
      "saving model version 0.0\n"
     ]
    },
    {
     "name": "stderr",
     "output_type": "stream",
     "text": [
      " train_acc_kan: 1.00e+00 | val_acc_kan: 5.37e-01 |: 100%|███████████| 20/20 [00:05<00:00,  3.37it/s]\n"
     ]
    },
    {
     "name": "stdout",
     "output_type": "stream",
     "text": [
      "saving model version 0.1\n",
      "✅ Best validation Accuracy: 7.1642e-01 at 2 epoch\n",
      "tensor(0.5429, device='cuda:0')\n",
      "Testing width=[13, 7, 1], lamb=1e-07, grid=5\n",
      "checkpoint directory created: ./model\n",
      "saving model version 0.0\n"
     ]
    },
    {
     "name": "stderr",
     "output_type": "stream",
     "text": [
      " train_acc_kan: 1.00e+00 | val_acc_kan: 5.67e-01 |: 100%|███████████| 20/20 [00:05<00:00,  3.51it/s]\n"
     ]
    },
    {
     "name": "stdout",
     "output_type": "stream",
     "text": [
      "saving model version 0.1\n",
      "✅ Best validation Accuracy: 6.1194e-01 at 2 epoch\n",
      "tensor(0.6429, device='cuda:0')\n",
      "Testing width=[13, 7, 1], lamb=0.1, grid=6\n",
      "checkpoint directory created: ./model\n",
      "saving model version 0.0\n"
     ]
    },
    {
     "name": "stderr",
     "output_type": "stream",
     "text": [
      " train_acc_kan: 5.12e-01 | val_acc_kan: 4.33e-01 |: 100%|███████████| 20/20 [00:04<00:00,  4.22it/s]\n"
     ]
    },
    {
     "name": "stdout",
     "output_type": "stream",
     "text": [
      "saving model version 0.1\n",
      "✅ Best validation Accuracy: 5.3731e-01 at 0 epoch\n",
      "tensor(0.6000, device='cuda:0')\n",
      "Testing width=[13, 7, 1], lamb=0.01, grid=6\n",
      "checkpoint directory created: ./model\n",
      "saving model version 0.0\n"
     ]
    },
    {
     "name": "stderr",
     "output_type": "stream",
     "text": [
      " train_acc_kan: 9.13e-01 | val_acc_kan: 5.67e-01 |: 100%|███████████| 20/20 [00:05<00:00,  3.61it/s]\n"
     ]
    },
    {
     "name": "stdout",
     "output_type": "stream",
     "text": [
      "saving model version 0.1\n",
      "✅ Best validation Accuracy: 6.4179e-01 at 0 epoch\n",
      "tensor(0.5571, device='cuda:0')\n",
      "Testing width=[13, 7, 1], lamb=0.001, grid=6\n",
      "checkpoint directory created: ./model\n",
      "saving model version 0.0\n"
     ]
    },
    {
     "name": "stderr",
     "output_type": "stream",
     "text": [
      " train_acc_kan: 1.00e+00 | val_acc_kan: 5.37e-01 |: 100%|███████████| 20/20 [00:05<00:00,  3.51it/s]\n"
     ]
    },
    {
     "name": "stdout",
     "output_type": "stream",
     "text": [
      "saving model version 0.1\n",
      "✅ Best validation Accuracy: 6.1194e-01 at 0 epoch\n",
      "tensor(0.6857, device='cuda:0')\n",
      "Testing width=[13, 7, 1], lamb=0.0001, grid=6\n",
      "checkpoint directory created: ./model\n",
      "saving model version 0.0\n"
     ]
    },
    {
     "name": "stderr",
     "output_type": "stream",
     "text": [
      " train_acc_kan: 1.00e+00 | val_acc_kan: 4.93e-01 |: 100%|███████████| 20/20 [00:05<00:00,  3.75it/s]\n"
     ]
    },
    {
     "name": "stdout",
     "output_type": "stream",
     "text": [
      "saving model version 0.1\n",
      "✅ Best validation Accuracy: 5.6716e-01 at 0 epoch\n",
      "tensor(0.6143, device='cuda:0')\n",
      "Testing width=[13, 7, 1], lamb=1e-05, grid=6\n",
      "checkpoint directory created: ./model\n",
      "saving model version 0.0\n"
     ]
    },
    {
     "name": "stderr",
     "output_type": "stream",
     "text": [
      " train_acc_kan: 1.00e+00 | val_acc_kan: 4.18e-01 |: 100%|███████████| 20/20 [00:05<00:00,  3.46it/s]\n"
     ]
    },
    {
     "name": "stdout",
     "output_type": "stream",
     "text": [
      "saving model version 0.1\n",
      "✅ Best validation Accuracy: 5.5224e-01 at 0 epoch\n",
      "tensor(0.6286, device='cuda:0')\n",
      "Testing width=[13, 7, 1], lamb=1e-06, grid=6\n",
      "checkpoint directory created: ./model\n",
      "saving model version 0.0\n"
     ]
    },
    {
     "name": "stderr",
     "output_type": "stream",
     "text": [
      " train_acc_kan: 1.00e+00 | val_acc_kan: 5.67e-01 |: 100%|███████████| 20/20 [00:05<00:00,  3.55it/s]\n"
     ]
    },
    {
     "name": "stdout",
     "output_type": "stream",
     "text": [
      "saving model version 0.1\n",
      "✅ Best validation Accuracy: 6.1194e-01 at 0 epoch\n",
      "tensor(0.7000, device='cuda:0')\n",
      "Testing width=[13, 7, 1], lamb=1e-07, grid=6\n",
      "checkpoint directory created: ./model\n",
      "saving model version 0.0\n"
     ]
    },
    {
     "name": "stderr",
     "output_type": "stream",
     "text": [
      " train_acc_kan: 1.00e+00 | val_acc_kan: 5.07e-01 |: 100%|███████████| 20/20 [00:05<00:00,  3.57it/s]"
     ]
    },
    {
     "name": "stdout",
     "output_type": "stream",
     "text": [
      "saving model version 0.1\n",
      "✅ Best validation Accuracy: 6.2687e-01 at 0 epoch\n",
      "tensor(0.7000, device='cuda:0')\n",
      "\n",
      "✅ Top 5 Configurations:\n",
      "1. width=[13, 1, 1], grid=3, lamb=0.001 | best_epoch=0 | acc_test=0.71429\n",
      "2. width=[13, 1, 1], grid=5, lamb=0.001 | best_epoch=0 | acc_test=0.71429\n",
      "3. width=[13, 1, 1], grid=5, lamb=1e-05 | best_epoch=0 | acc_test=0.71429\n",
      "4. width=[13, 4, 1], grid=3, lamb=0.001 | best_epoch=0 | acc_test=0.71429\n",
      "5. width=[13, 5, 1], grid=5, lamb=0.001 | best_epoch=0 | acc_test=0.71429\n"
     ]
    },
    {
     "name": "stderr",
     "output_type": "stream",
     "text": [
      "\n"
     ]
    }
   ],
   "source": [
    "_ = grid_search_kan(dataset)"
   ]
  },
  {
   "cell_type": "code",
   "execution_count": 41,
   "id": "b9cdcfa0-3eb9-417f-bf90-79dc905b0d71",
   "metadata": {},
   "outputs": [
    {
     "name": "stdout",
     "output_type": "stream",
     "text": [
      "Testing width=[13, 1, 1], lamb=0.1, grid=3\n",
      "checkpoint directory created: ./model\n",
      "saving model version 0.0\n"
     ]
    },
    {
     "name": "stderr",
     "output_type": "stream",
     "text": [
      " train_acc_kan: 5.12e-01 | val_acc_kan: 4.48e-01 |: 100%|███████████| 20/20 [00:03<00:00,  6.14it/s]\n"
     ]
    },
    {
     "name": "stdout",
     "output_type": "stream",
     "text": [
      "saving model version 0.1\n",
      "✅ Best validation Accuracy: 5.3731e-01 at 0 epoch\n",
      "tensor(0.6000, device='cuda:0')\n",
      "Testing width=[13, 1, 1], lamb=0.01, grid=3\n",
      "checkpoint directory created: ./model\n",
      "saving model version 0.0\n"
     ]
    },
    {
     "name": "stderr",
     "output_type": "stream",
     "text": [
      " train_acc_kan: 5.12e-01 | val_acc_kan: 4.18e-01 |: 100%|███████████| 20/20 [00:02<00:00,  7.73it/s]\n"
     ]
    },
    {
     "name": "stdout",
     "output_type": "stream",
     "text": [
      "saving model version 0.1\n",
      "✅ Best validation Accuracy: 4.6269e-01 at 0 epoch\n",
      "tensor(0.4000, device='cuda:0')\n",
      "Testing width=[13, 1, 1], lamb=0.001, grid=3\n",
      "checkpoint directory created: ./model\n",
      "saving model version 0.0\n"
     ]
    },
    {
     "name": "stderr",
     "output_type": "stream",
     "text": [
      " train_acc_kan: 8.06e-01 | val_acc_kan: 5.37e-01 |: 100%|███████████| 20/20 [00:05<00:00,  3.88it/s]\n"
     ]
    },
    {
     "name": "stdout",
     "output_type": "stream",
     "text": [
      "saving model version 0.1\n",
      "✅ Best validation Accuracy: 7.1642e-01 at 0 epoch\n",
      "tensor(0.7143, device='cuda:0')\n",
      "Testing width=[13, 1, 1], lamb=0.0001, grid=3\n",
      "checkpoint directory created: ./model\n",
      "saving model version 0.0\n"
     ]
    },
    {
     "name": "stderr",
     "output_type": "stream",
     "text": [
      " train_acc_kan: 8.33e-01 | val_acc_kan: 5.37e-01 |: 100%|███████████| 20/20 [00:04<00:00,  4.09it/s]\n"
     ]
    },
    {
     "name": "stdout",
     "output_type": "stream",
     "text": [
      "saving model version 0.1\n",
      "✅ Best validation Accuracy: 7.0149e-01 at 1 epoch\n",
      "tensor(0.6000, device='cuda:0')\n",
      "Testing width=[13, 1, 1], lamb=1e-05, grid=3\n",
      "checkpoint directory created: ./model\n",
      "saving model version 0.0\n"
     ]
    },
    {
     "name": "stderr",
     "output_type": "stream",
     "text": [
      " train_acc_kan: 8.17e-01 | val_acc_kan: 6.72e-01 |: 100%|███████████| 20/20 [00:04<00:00,  4.11it/s]\n"
     ]
    },
    {
     "name": "stdout",
     "output_type": "stream",
     "text": [
      "saving model version 0.1\n",
      "✅ Best validation Accuracy: 7.1642e-01 at 5 epoch\n",
      "tensor(0.6714, device='cuda:0')\n",
      "Testing width=[13, 1, 1], lamb=1e-06, grid=3\n",
      "checkpoint directory created: ./model\n",
      "saving model version 0.0\n"
     ]
    },
    {
     "name": "stderr",
     "output_type": "stream",
     "text": [
      " train_acc_kan: 8.37e-01 | val_acc_kan: 4.78e-01 |: 100%|███████████| 20/20 [00:04<00:00,  4.12it/s]\n"
     ]
    },
    {
     "name": "stdout",
     "output_type": "stream",
     "text": [
      "saving model version 0.1\n",
      "✅ Best validation Accuracy: 7.0149e-01 at 0 epoch\n",
      "tensor(0.6714, device='cuda:0')\n",
      "Testing width=[13, 1, 1], lamb=1e-07, grid=3\n",
      "checkpoint directory created: ./model\n",
      "saving model version 0.0\n"
     ]
    },
    {
     "name": "stderr",
     "output_type": "stream",
     "text": [
      " train_acc_kan: 8.25e-01 | val_acc_kan: 5.07e-01 |: 100%|███████████| 20/20 [00:05<00:00,  3.98it/s]\n"
     ]
    },
    {
     "name": "stdout",
     "output_type": "stream",
     "text": [
      "saving model version 0.1\n",
      "✅ Best validation Accuracy: 6.8657e-01 at 0 epoch\n",
      "tensor(0.6571, device='cuda:0')\n",
      "Testing width=[13, 1, 1], lamb=0.1, grid=4\n",
      "checkpoint directory created: ./model\n",
      "saving model version 0.0\n"
     ]
    },
    {
     "name": "stderr",
     "output_type": "stream",
     "text": [
      " train_acc_kan: 4.88e-01 | val_acc_kan: 5.37e-01 |: 100%|███████████| 20/20 [00:05<00:00,  3.96it/s]\n"
     ]
    },
    {
     "name": "stdout",
     "output_type": "stream",
     "text": [
      "saving model version 0.1\n",
      "✅ Best validation Accuracy: 5.3731e-01 at 0 epoch\n",
      "tensor(0.6000, device='cuda:0')\n",
      "Testing width=[13, 1, 1], lamb=0.01, grid=4\n",
      "checkpoint directory created: ./model\n",
      "saving model version 0.0\n"
     ]
    },
    {
     "name": "stderr",
     "output_type": "stream",
     "text": [
      " train_acc_kan: 5.12e-01 | val_acc_kan: 4.18e-01 |: 100%|███████████| 20/20 [00:03<00:00,  6.34it/s]\n"
     ]
    },
    {
     "name": "stdout",
     "output_type": "stream",
     "text": [
      "saving model version 0.1\n",
      "✅ Best validation Accuracy: 4.4776e-01 at 1 epoch\n",
      "tensor(0.4000, device='cuda:0')\n",
      "Testing width=[13, 1, 1], lamb=0.001, grid=4\n",
      "checkpoint directory created: ./model\n",
      "saving model version 0.0\n"
     ]
    },
    {
     "name": "stderr",
     "output_type": "stream",
     "text": [
      " train_acc_kan: 8.77e-01 | val_acc_kan: 5.67e-01 |: 100%|███████████| 20/20 [00:04<00:00,  4.08it/s]\n"
     ]
    },
    {
     "name": "stdout",
     "output_type": "stream",
     "text": [
      "saving model version 0.1\n",
      "✅ Best validation Accuracy: 7.0149e-01 at 0 epoch\n",
      "tensor(0.6714, device='cuda:0')\n",
      "Testing width=[13, 1, 1], lamb=0.0001, grid=4\n",
      "checkpoint directory created: ./model\n",
      "saving model version 0.0\n"
     ]
    },
    {
     "name": "stderr",
     "output_type": "stream",
     "text": [
      " train_acc_kan: 8.57e-01 | val_acc_kan: 6.72e-01 |: 100%|███████████| 20/20 [00:04<00:00,  4.01it/s]\n"
     ]
    },
    {
     "name": "stdout",
     "output_type": "stream",
     "text": [
      "saving model version 0.1\n",
      "✅ Best validation Accuracy: 6.7164e-01 at 6 epoch\n",
      "tensor(0.6857, device='cuda:0')\n",
      "Testing width=[13, 1, 1], lamb=1e-05, grid=4\n",
      "checkpoint directory created: ./model\n",
      "saving model version 0.0\n"
     ]
    },
    {
     "name": "stderr",
     "output_type": "stream",
     "text": [
      " train_acc_kan: 8.41e-01 | val_acc_kan: 5.37e-01 |: 100%|███████████| 20/20 [00:05<00:00,  3.98it/s]\n"
     ]
    },
    {
     "name": "stdout",
     "output_type": "stream",
     "text": [
      "saving model version 0.1\n",
      "✅ Best validation Accuracy: 6.7164e-01 at 12 epoch\n",
      "tensor(0.6429, device='cuda:0')\n",
      "Testing width=[13, 1, 1], lamb=1e-06, grid=4\n",
      "checkpoint directory created: ./model\n",
      "saving model version 0.0\n"
     ]
    },
    {
     "name": "stderr",
     "output_type": "stream",
     "text": [
      " train_acc_kan: 8.61e-01 | val_acc_kan: 6.57e-01 |: 100%|███████████| 20/20 [00:04<00:00,  4.01it/s]\n"
     ]
    },
    {
     "name": "stdout",
     "output_type": "stream",
     "text": [
      "saving model version 0.1\n",
      "✅ Best validation Accuracy: 6.5672e-01 at 5 epoch\n",
      "tensor(0.6857, device='cuda:0')\n",
      "Testing width=[13, 1, 1], lamb=1e-07, grid=4\n",
      "checkpoint directory created: ./model\n",
      "saving model version 0.0\n"
     ]
    },
    {
     "name": "stderr",
     "output_type": "stream",
     "text": [
      " train_acc_kan: 8.37e-01 | val_acc_kan: 6.12e-01 |: 100%|███████████| 20/20 [00:05<00:00,  3.95it/s]\n"
     ]
    },
    {
     "name": "stdout",
     "output_type": "stream",
     "text": [
      "saving model version 0.1\n",
      "✅ Best validation Accuracy: 6.5672e-01 at 9 epoch\n",
      "tensor(0.6714, device='cuda:0')\n",
      "Testing width=[13, 1, 1], lamb=0.1, grid=5\n",
      "checkpoint directory created: ./model\n",
      "saving model version 0.0\n"
     ]
    },
    {
     "name": "stderr",
     "output_type": "stream",
     "text": [
      " train_acc_kan: 4.88e-01 | val_acc_kan: 5.37e-01 |: 100%|███████████| 20/20 [00:02<00:00,  6.68it/s]\n"
     ]
    },
    {
     "name": "stdout",
     "output_type": "stream",
     "text": [
      "saving model version 0.1\n",
      "✅ Best validation Accuracy: 5.3731e-01 at 0 epoch\n",
      "tensor(0.6000, device='cuda:0')\n",
      "Testing width=[13, 1, 1], lamb=0.01, grid=5\n",
      "checkpoint directory created: ./model\n",
      "saving model version 0.0\n"
     ]
    },
    {
     "name": "stderr",
     "output_type": "stream",
     "text": [
      " train_acc_kan: 5.12e-01 | val_acc_kan: 4.63e-01 |: 100%|███████████| 20/20 [00:02<00:00,  6.69it/s]\n"
     ]
    },
    {
     "name": "stdout",
     "output_type": "stream",
     "text": [
      "saving model version 0.1\n",
      "✅ Best validation Accuracy: 4.6269e-01 at 1 epoch\n",
      "tensor(0.4000, device='cuda:0')\n",
      "Testing width=[13, 1, 1], lamb=0.001, grid=5\n",
      "checkpoint directory created: ./model\n",
      "saving model version 0.0\n"
     ]
    },
    {
     "name": "stderr",
     "output_type": "stream",
     "text": [
      " train_acc_kan: 9.01e-01 | val_acc_kan: 4.63e-01 |: 100%|███████████| 20/20 [00:05<00:00,  4.00it/s]\n"
     ]
    },
    {
     "name": "stdout",
     "output_type": "stream",
     "text": [
      "saving model version 0.1\n",
      "✅ Best validation Accuracy: 6.7164e-01 at 0 epoch\n",
      "tensor(0.7143, device='cuda:0')\n",
      "Testing width=[13, 1, 1], lamb=0.0001, grid=5\n",
      "checkpoint directory created: ./model\n",
      "saving model version 0.0\n"
     ]
    },
    {
     "name": "stderr",
     "output_type": "stream",
     "text": [
      " train_acc_kan: 9.21e-01 | val_acc_kan: 5.97e-01 |: 100%|███████████| 20/20 [00:05<00:00,  3.97it/s]\n"
     ]
    },
    {
     "name": "stdout",
     "output_type": "stream",
     "text": [
      "saving model version 0.1\n",
      "✅ Best validation Accuracy: 6.8657e-01 at 2 epoch\n",
      "tensor(0.6286, device='cuda:0')\n",
      "Testing width=[13, 1, 1], lamb=1e-05, grid=5\n",
      "checkpoint directory created: ./model\n",
      "saving model version 0.0\n"
     ]
    },
    {
     "name": "stderr",
     "output_type": "stream",
     "text": [
      " train_acc_kan: 9.13e-01 | val_acc_kan: 5.22e-01 |: 100%|███████████| 20/20 [00:04<00:00,  4.05it/s]\n"
     ]
    },
    {
     "name": "stdout",
     "output_type": "stream",
     "text": [
      "saving model version 0.1\n",
      "✅ Best validation Accuracy: 6.4179e-01 at 0 epoch\n",
      "tensor(0.7143, device='cuda:0')\n",
      "Testing width=[13, 1, 1], lamb=1e-06, grid=5\n",
      "checkpoint directory created: ./model\n",
      "saving model version 0.0\n"
     ]
    },
    {
     "name": "stderr",
     "output_type": "stream",
     "text": [
      " train_acc_kan: 9.05e-01 | val_acc_kan: 5.52e-01 |: 100%|███████████| 20/20 [00:04<00:00,  4.12it/s]\n"
     ]
    },
    {
     "name": "stdout",
     "output_type": "stream",
     "text": [
      "saving model version 0.1\n",
      "✅ Best validation Accuracy: 6.2687e-01 at 0 epoch\n",
      "tensor(0.7000, device='cuda:0')\n",
      "Testing width=[13, 1, 1], lamb=1e-07, grid=5\n",
      "checkpoint directory created: ./model\n",
      "saving model version 0.0\n"
     ]
    },
    {
     "name": "stderr",
     "output_type": "stream",
     "text": [
      " train_acc_kan: 9.05e-01 | val_acc_kan: 5.97e-01 |: 100%|███████████| 20/20 [00:04<00:00,  4.11it/s]\n"
     ]
    },
    {
     "name": "stdout",
     "output_type": "stream",
     "text": [
      "saving model version 0.1\n",
      "✅ Best validation Accuracy: 6.5672e-01 at 4 epoch\n",
      "tensor(0.6857, device='cuda:0')\n",
      "Testing width=[13, 1, 1], lamb=0.1, grid=6\n",
      "checkpoint directory created: ./model\n",
      "saving model version 0.0\n"
     ]
    },
    {
     "name": "stderr",
     "output_type": "stream",
     "text": [
      " train_acc_kan: 5.12e-01 | val_acc_kan: 4.33e-01 |: 100%|███████████| 20/20 [00:04<00:00,  4.63it/s]\n"
     ]
    },
    {
     "name": "stdout",
     "output_type": "stream",
     "text": [
      "saving model version 0.1\n",
      "✅ Best validation Accuracy: 5.3731e-01 at 0 epoch\n",
      "tensor(0.6000, device='cuda:0')\n",
      "Testing width=[13, 1, 1], lamb=0.01, grid=6\n",
      "checkpoint directory created: ./model\n",
      "saving model version 0.0\n"
     ]
    },
    {
     "name": "stderr",
     "output_type": "stream",
     "text": [
      " train_acc_kan: 5.12e-01 | val_acc_kan: 4.63e-01 |: 100%|███████████| 20/20 [00:02<00:00,  7.15it/s]\n"
     ]
    },
    {
     "name": "stdout",
     "output_type": "stream",
     "text": [
      "saving model version 0.1\n",
      "✅ Best validation Accuracy: 4.6269e-01 at 0 epoch\n",
      "tensor(0.4143, device='cuda:0')\n",
      "Testing width=[13, 1, 1], lamb=0.001, grid=6\n",
      "checkpoint directory created: ./model\n",
      "saving model version 0.0\n"
     ]
    },
    {
     "name": "stderr",
     "output_type": "stream",
     "text": [
      " train_acc_kan: 9.13e-01 | val_acc_kan: 6.42e-01 |: 100%|███████████| 20/20 [00:04<00:00,  4.06it/s]\n"
     ]
    },
    {
     "name": "stdout",
     "output_type": "stream",
     "text": [
      "saving model version 0.1\n",
      "✅ Best validation Accuracy: 6.7164e-01 at 10 epoch\n",
      "tensor(0.6143, device='cuda:0')\n",
      "Testing width=[13, 1, 1], lamb=0.0001, grid=6\n",
      "checkpoint directory created: ./model\n",
      "saving model version 0.0\n"
     ]
    },
    {
     "name": "stderr",
     "output_type": "stream",
     "text": [
      " train_acc_kan: 9.40e-01 | val_acc_kan: 5.67e-01 |: 100%|███████████| 20/20 [00:05<00:00,  3.92it/s]\n"
     ]
    },
    {
     "name": "stdout",
     "output_type": "stream",
     "text": [
      "saving model version 0.1\n",
      "✅ Best validation Accuracy: 6.7164e-01 at 1 epoch\n",
      "tensor(0.5429, device='cuda:0')\n",
      "Testing width=[13, 1, 1], lamb=1e-05, grid=6\n",
      "checkpoint directory created: ./model\n",
      "saving model version 0.0\n"
     ]
    },
    {
     "name": "stderr",
     "output_type": "stream",
     "text": [
      " train_acc_kan: 9.25e-01 | val_acc_kan: 6.27e-01 |: 100%|███████████| 20/20 [00:05<00:00,  3.89it/s]\n"
     ]
    },
    {
     "name": "stdout",
     "output_type": "stream",
     "text": [
      "saving model version 0.1\n",
      "✅ Best validation Accuracy: 6.7164e-01 at 2 epoch\n",
      "tensor(0.5571, device='cuda:0')\n",
      "Testing width=[13, 1, 1], lamb=1e-06, grid=6\n",
      "checkpoint directory created: ./model\n",
      "saving model version 0.0\n"
     ]
    },
    {
     "name": "stderr",
     "output_type": "stream",
     "text": [
      " train_acc_kan: 9.52e-01 | val_acc_kan: 4.78e-01 |: 100%|███████████| 20/20 [00:05<00:00,  3.62it/s]\n"
     ]
    },
    {
     "name": "stdout",
     "output_type": "stream",
     "text": [
      "saving model version 0.1\n",
      "✅ Best validation Accuracy: 6.5672e-01 at 0 epoch\n",
      "tensor(0.6000, device='cuda:0')\n",
      "Testing width=[13, 1, 1], lamb=1e-07, grid=6\n",
      "checkpoint directory created: ./model\n",
      "saving model version 0.0\n"
     ]
    },
    {
     "name": "stderr",
     "output_type": "stream",
     "text": [
      " train_acc_kan: 9.09e-01 | val_acc_kan: 6.42e-01 |: 100%|███████████| 20/20 [00:06<00:00,  3.29it/s]\n"
     ]
    },
    {
     "name": "stdout",
     "output_type": "stream",
     "text": [
      "saving model version 0.1\n",
      "✅ Best validation Accuracy: 6.7164e-01 at 9 epoch\n",
      "tensor(0.5000, device='cuda:0')\n",
      "Testing width=[13, 2, 1], lamb=0.1, grid=3\n",
      "checkpoint directory created: ./model\n",
      "saving model version 0.0\n"
     ]
    },
    {
     "name": "stderr",
     "output_type": "stream",
     "text": [
      " train_acc_kan: 5.12e-01 | val_acc_kan: 4.48e-01 |: 100%|███████████| 20/20 [00:04<00:00,  4.02it/s]\n"
     ]
    },
    {
     "name": "stdout",
     "output_type": "stream",
     "text": [
      "saving model version 0.1\n",
      "✅ Best validation Accuracy: 5.3731e-01 at 0 epoch\n",
      "tensor(0.6000, device='cuda:0')\n",
      "Testing width=[13, 2, 1], lamb=0.01, grid=3\n",
      "checkpoint directory created: ./model\n",
      "saving model version 0.0\n"
     ]
    },
    {
     "name": "stderr",
     "output_type": "stream",
     "text": [
      " train_acc_kan: 7.42e-01 | val_acc_kan: 6.12e-01 |: 100%|███████████| 20/20 [00:06<00:00,  3.16it/s]\n"
     ]
    },
    {
     "name": "stdout",
     "output_type": "stream",
     "text": [
      "saving model version 0.1\n",
      "✅ Best validation Accuracy: 7.0149e-01 at 1 epoch\n",
      "tensor(0.5857, device='cuda:0')\n",
      "Testing width=[13, 2, 1], lamb=0.001, grid=3\n",
      "checkpoint directory created: ./model\n",
      "saving model version 0.0\n"
     ]
    },
    {
     "name": "stderr",
     "output_type": "stream",
     "text": [
      " train_acc_kan: 8.89e-01 | val_acc_kan: 5.97e-01 |: 100%|███████████| 20/20 [00:05<00:00,  3.61it/s]\n"
     ]
    },
    {
     "name": "stdout",
     "output_type": "stream",
     "text": [
      "saving model version 0.1\n",
      "✅ Best validation Accuracy: 6.2687e-01 at 0 epoch\n",
      "tensor(0.6000, device='cuda:0')\n",
      "Testing width=[13, 2, 1], lamb=0.0001, grid=3\n",
      "checkpoint directory created: ./model\n",
      "saving model version 0.0\n"
     ]
    },
    {
     "name": "stderr",
     "output_type": "stream",
     "text": [
      " train_acc_kan: 9.09e-01 | val_acc_kan: 5.67e-01 |: 100%|███████████| 20/20 [00:05<00:00,  3.34it/s]\n"
     ]
    },
    {
     "name": "stdout",
     "output_type": "stream",
     "text": [
      "saving model version 0.1\n",
      "✅ Best validation Accuracy: 6.2687e-01 at 0 epoch\n",
      "tensor(0.6429, device='cuda:0')\n",
      "Testing width=[13, 2, 1], lamb=1e-05, grid=3\n",
      "checkpoint directory created: ./model\n",
      "saving model version 0.0\n"
     ]
    },
    {
     "name": "stderr",
     "output_type": "stream",
     "text": [
      " train_acc_kan: 9.01e-01 | val_acc_kan: 5.22e-01 |: 100%|███████████| 20/20 [00:05<00:00,  3.36it/s]\n"
     ]
    },
    {
     "name": "stdout",
     "output_type": "stream",
     "text": [
      "saving model version 0.1\n",
      "✅ Best validation Accuracy: 6.1194e-01 at 0 epoch\n",
      "tensor(0.6000, device='cuda:0')\n",
      "Testing width=[13, 2, 1], lamb=1e-06, grid=3\n",
      "checkpoint directory created: ./model\n",
      "saving model version 0.0\n"
     ]
    },
    {
     "name": "stderr",
     "output_type": "stream",
     "text": [
      " train_acc_kan: 8.97e-01 | val_acc_kan: 5.22e-01 |: 100%|███████████| 20/20 [00:05<00:00,  3.54it/s]\n"
     ]
    },
    {
     "name": "stdout",
     "output_type": "stream",
     "text": [
      "saving model version 0.1\n",
      "✅ Best validation Accuracy: 6.5672e-01 at 0 epoch\n",
      "tensor(0.6429, device='cuda:0')\n",
      "Testing width=[13, 2, 1], lamb=1e-07, grid=3\n",
      "checkpoint directory created: ./model\n",
      "saving model version 0.0\n"
     ]
    },
    {
     "name": "stderr",
     "output_type": "stream",
     "text": [
      " train_acc_kan: 9.09e-01 | val_acc_kan: 5.52e-01 |: 100%|███████████| 20/20 [00:06<00:00,  3.32it/s]\n"
     ]
    },
    {
     "name": "stdout",
     "output_type": "stream",
     "text": [
      "saving model version 0.1\n",
      "✅ Best validation Accuracy: 6.5672e-01 at 0 epoch\n",
      "tensor(0.6429, device='cuda:0')\n",
      "Testing width=[13, 2, 1], lamb=0.1, grid=4\n",
      "checkpoint directory created: ./model\n",
      "saving model version 0.0\n"
     ]
    },
    {
     "name": "stderr",
     "output_type": "stream",
     "text": [
      " train_acc_kan: 5.12e-01 | val_acc_kan: 4.18e-01 |: 100%|███████████| 20/20 [00:05<00:00,  3.52it/s]\n"
     ]
    },
    {
     "name": "stdout",
     "output_type": "stream",
     "text": [
      "saving model version 0.1\n",
      "✅ Best validation Accuracy: 5.3731e-01 at 0 epoch\n",
      "tensor(0.6000, device='cuda:0')\n",
      "Testing width=[13, 2, 1], lamb=0.01, grid=4\n",
      "checkpoint directory created: ./model\n",
      "saving model version 0.0\n"
     ]
    },
    {
     "name": "stderr",
     "output_type": "stream",
     "text": [
      " train_acc_kan: 5.12e-01 | val_acc_kan: 4.33e-01 |: 100%|███████████| 20/20 [00:05<00:00,  3.87it/s]\n"
     ]
    },
    {
     "name": "stdout",
     "output_type": "stream",
     "text": [
      "saving model version 0.1\n",
      "✅ Best validation Accuracy: 5.5224e-01 at 0 epoch\n",
      "tensor(0.6000, device='cuda:0')\n",
      "Testing width=[13, 2, 1], lamb=0.001, grid=4\n",
      "checkpoint directory created: ./model\n",
      "saving model version 0.0\n"
     ]
    },
    {
     "name": "stderr",
     "output_type": "stream",
     "text": [
      " train_acc_kan: 9.60e-01 | val_acc_kan: 5.82e-01 |: 100%|███████████| 20/20 [00:05<00:00,  3.58it/s]\n"
     ]
    },
    {
     "name": "stdout",
     "output_type": "stream",
     "text": [
      "saving model version 0.1\n",
      "✅ Best validation Accuracy: 6.8657e-01 at 0 epoch\n",
      "tensor(0.5714, device='cuda:0')\n",
      "Testing width=[13, 2, 1], lamb=0.0001, grid=4\n",
      "checkpoint directory created: ./model\n",
      "saving model version 0.0\n"
     ]
    },
    {
     "name": "stderr",
     "output_type": "stream",
     "text": [
      " train_acc_kan: 9.72e-01 | val_acc_kan: 4.33e-01 |: 100%|███████████| 20/20 [00:05<00:00,  3.53it/s]\n"
     ]
    },
    {
     "name": "stdout",
     "output_type": "stream",
     "text": [
      "saving model version 0.1\n",
      "✅ Best validation Accuracy: 6.5672e-01 at 0 epoch\n",
      "tensor(0.6429, device='cuda:0')\n",
      "Testing width=[13, 2, 1], lamb=1e-05, grid=4\n",
      "checkpoint directory created: ./model\n",
      "saving model version 0.0\n"
     ]
    },
    {
     "name": "stderr",
     "output_type": "stream",
     "text": [
      " train_acc_kan: 9.72e-01 | val_acc_kan: 5.22e-01 |: 100%|███████████| 20/20 [00:05<00:00,  3.86it/s]\n"
     ]
    },
    {
     "name": "stdout",
     "output_type": "stream",
     "text": [
      "saving model version 0.1\n",
      "✅ Best validation Accuracy: 6.4179e-01 at 0 epoch\n",
      "tensor(0.6429, device='cuda:0')\n",
      "Testing width=[13, 2, 1], lamb=1e-06, grid=4\n",
      "checkpoint directory created: ./model\n",
      "saving model version 0.0\n"
     ]
    },
    {
     "name": "stderr",
     "output_type": "stream",
     "text": [
      " train_acc_kan: 9.80e-01 | val_acc_kan: 5.22e-01 |: 100%|███████████| 20/20 [00:05<00:00,  3.62it/s]\n"
     ]
    },
    {
     "name": "stdout",
     "output_type": "stream",
     "text": [
      "saving model version 0.1\n",
      "✅ Best validation Accuracy: 6.4179e-01 at 0 epoch\n",
      "tensor(0.6429, device='cuda:0')\n",
      "Testing width=[13, 2, 1], lamb=1e-07, grid=4\n",
      "checkpoint directory created: ./model\n",
      "saving model version 0.0\n"
     ]
    },
    {
     "name": "stderr",
     "output_type": "stream",
     "text": [
      " train_acc_kan: 9.76e-01 | val_acc_kan: 5.82e-01 |: 100%|███████████| 20/20 [00:05<00:00,  3.80it/s]\n"
     ]
    },
    {
     "name": "stdout",
     "output_type": "stream",
     "text": [
      "saving model version 0.1\n",
      "✅ Best validation Accuracy: 6.4179e-01 at 0 epoch\n",
      "tensor(0.6429, device='cuda:0')\n",
      "Testing width=[13, 2, 1], lamb=0.1, grid=5\n",
      "checkpoint directory created: ./model\n",
      "saving model version 0.0\n"
     ]
    },
    {
     "name": "stderr",
     "output_type": "stream",
     "text": [
      " train_acc_kan: 5.12e-01 | val_acc_kan: 4.18e-01 |: 100%|███████████| 20/20 [00:03<00:00,  5.12it/s]\n"
     ]
    },
    {
     "name": "stdout",
     "output_type": "stream",
     "text": [
      "saving model version 0.1\n",
      "✅ Best validation Accuracy: 5.3731e-01 at 0 epoch\n",
      "tensor(0.6000, device='cuda:0')\n",
      "Testing width=[13, 2, 1], lamb=0.01, grid=5\n",
      "checkpoint directory created: ./model\n",
      "saving model version 0.0\n"
     ]
    },
    {
     "name": "stderr",
     "output_type": "stream",
     "text": [
      " train_acc_kan: 5.12e-01 | val_acc_kan: 4.03e-01 |: 100%|███████████| 20/20 [00:03<00:00,  5.64it/s]\n"
     ]
    },
    {
     "name": "stdout",
     "output_type": "stream",
     "text": [
      "saving model version 0.1\n",
      "✅ Best validation Accuracy: 4.6269e-01 at 1 epoch\n",
      "tensor(0.4000, device='cuda:0')\n",
      "Testing width=[13, 2, 1], lamb=0.001, grid=5\n",
      "checkpoint directory created: ./model\n",
      "saving model version 0.0\n"
     ]
    },
    {
     "name": "stderr",
     "output_type": "stream",
     "text": [
      " train_acc_kan: 9.92e-01 | val_acc_kan: 5.67e-01 |: 100%|███████████| 20/20 [00:04<00:00,  4.04it/s]\n"
     ]
    },
    {
     "name": "stdout",
     "output_type": "stream",
     "text": [
      "saving model version 0.1\n",
      "✅ Best validation Accuracy: 7.0149e-01 at 0 epoch\n",
      "tensor(0.6286, device='cuda:0')\n",
      "Testing width=[13, 2, 1], lamb=0.0001, grid=5\n",
      "checkpoint directory created: ./model\n",
      "saving model version 0.0\n"
     ]
    },
    {
     "name": "stderr",
     "output_type": "stream",
     "text": [
      " train_acc_kan: 9.92e-01 | val_acc_kan: 5.07e-01 |: 100%|███████████| 20/20 [00:05<00:00,  3.98it/s]\n"
     ]
    },
    {
     "name": "stdout",
     "output_type": "stream",
     "text": [
      "saving model version 0.1\n",
      "✅ Best validation Accuracy: 6.7164e-01 at 1 epoch\n",
      "tensor(0.6000, device='cuda:0')\n",
      "Testing width=[13, 2, 1], lamb=1e-05, grid=5\n",
      "checkpoint directory created: ./model\n",
      "saving model version 0.0\n"
     ]
    },
    {
     "name": "stderr",
     "output_type": "stream",
     "text": [
      " train_acc_kan: 9.92e-01 | val_acc_kan: 5.37e-01 |: 100%|███████████| 20/20 [00:04<00:00,  4.12it/s]\n"
     ]
    },
    {
     "name": "stdout",
     "output_type": "stream",
     "text": [
      "saving model version 0.1\n",
      "✅ Best validation Accuracy: 6.5672e-01 at 0 epoch\n",
      "tensor(0.6286, device='cuda:0')\n",
      "Testing width=[13, 2, 1], lamb=1e-06, grid=5\n",
      "checkpoint directory created: ./model\n",
      "saving model version 0.0\n"
     ]
    },
    {
     "name": "stderr",
     "output_type": "stream",
     "text": [
      " train_acc_kan: 9.88e-01 | val_acc_kan: 5.67e-01 |: 100%|███████████| 20/20 [00:04<00:00,  4.20it/s]\n"
     ]
    },
    {
     "name": "stdout",
     "output_type": "stream",
     "text": [
      "saving model version 0.1\n",
      "✅ Best validation Accuracy: 6.5672e-01 at 0 epoch\n",
      "tensor(0.5857, device='cuda:0')\n",
      "Testing width=[13, 2, 1], lamb=1e-07, grid=5\n",
      "checkpoint directory created: ./model\n",
      "saving model version 0.0\n"
     ]
    },
    {
     "name": "stderr",
     "output_type": "stream",
     "text": [
      " train_acc_kan: 9.92e-01 | val_acc_kan: 5.97e-01 |: 100%|███████████| 20/20 [00:04<00:00,  4.05it/s]\n"
     ]
    },
    {
     "name": "stdout",
     "output_type": "stream",
     "text": [
      "saving model version 0.1\n",
      "✅ Best validation Accuracy: 6.8657e-01 at 11 epoch\n",
      "tensor(0.6143, device='cuda:0')\n",
      "Testing width=[13, 2, 1], lamb=0.1, grid=6\n",
      "checkpoint directory created: ./model\n",
      "saving model version 0.0\n"
     ]
    },
    {
     "name": "stderr",
     "output_type": "stream",
     "text": [
      " train_acc_kan: 5.12e-01 | val_acc_kan: 4.48e-01 |: 100%|███████████| 20/20 [00:04<00:00,  4.16it/s]\n"
     ]
    },
    {
     "name": "stdout",
     "output_type": "stream",
     "text": [
      "saving model version 0.1\n",
      "✅ Best validation Accuracy: 5.3731e-01 at 0 epoch\n",
      "tensor(0.6000, device='cuda:0')\n",
      "Testing width=[13, 2, 1], lamb=0.01, grid=6\n",
      "checkpoint directory created: ./model\n",
      "saving model version 0.0\n"
     ]
    },
    {
     "name": "stderr",
     "output_type": "stream",
     "text": [
      " train_acc_kan: 8.89e-01 | val_acc_kan: 5.22e-01 |: 100%|███████████| 20/20 [00:04<00:00,  4.26it/s]\n"
     ]
    },
    {
     "name": "stdout",
     "output_type": "stream",
     "text": [
      "saving model version 0.1\n",
      "✅ Best validation Accuracy: 5.9701e-01 at 6 epoch\n",
      "tensor(0.4857, device='cuda:0')\n",
      "Testing width=[13, 2, 1], lamb=0.001, grid=6\n",
      "checkpoint directory created: ./model\n",
      "saving model version 0.0\n"
     ]
    },
    {
     "name": "stderr",
     "output_type": "stream",
     "text": [
      " train_acc_kan: 9.92e-01 | val_acc_kan: 5.67e-01 |: 100%|███████████| 20/20 [00:04<00:00,  4.03it/s]\n"
     ]
    },
    {
     "name": "stdout",
     "output_type": "stream",
     "text": [
      "saving model version 0.1\n",
      "✅ Best validation Accuracy: 6.4179e-01 at 7 epoch\n",
      "tensor(0.6000, device='cuda:0')\n",
      "Testing width=[13, 2, 1], lamb=0.0001, grid=6\n",
      "checkpoint directory created: ./model\n",
      "saving model version 0.0\n"
     ]
    },
    {
     "name": "stderr",
     "output_type": "stream",
     "text": [
      " train_acc_kan: 9.96e-01 | val_acc_kan: 4.78e-01 |: 100%|███████████| 20/20 [00:05<00:00,  3.85it/s]\n"
     ]
    },
    {
     "name": "stdout",
     "output_type": "stream",
     "text": [
      "saving model version 0.1\n",
      "✅ Best validation Accuracy: 6.1194e-01 at 1 epoch\n",
      "tensor(0.6286, device='cuda:0')\n",
      "Testing width=[13, 2, 1], lamb=1e-05, grid=6\n",
      "checkpoint directory created: ./model\n",
      "saving model version 0.0\n"
     ]
    },
    {
     "name": "stderr",
     "output_type": "stream",
     "text": [
      " train_acc_kan: 9.80e-01 | val_acc_kan: 5.37e-01 |: 100%|███████████| 20/20 [00:05<00:00,  3.68it/s]\n"
     ]
    },
    {
     "name": "stdout",
     "output_type": "stream",
     "text": [
      "saving model version 0.1\n",
      "✅ Best validation Accuracy: 6.1194e-01 at 3 epoch\n",
      "tensor(0.6000, device='cuda:0')\n",
      "Testing width=[13, 2, 1], lamb=1e-06, grid=6\n",
      "checkpoint directory created: ./model\n",
      "saving model version 0.0\n"
     ]
    },
    {
     "name": "stderr",
     "output_type": "stream",
     "text": [
      " train_acc_kan: 9.96e-01 | val_acc_kan: 5.22e-01 |: 100%|███████████| 20/20 [00:04<00:00,  4.05it/s]\n"
     ]
    },
    {
     "name": "stdout",
     "output_type": "stream",
     "text": [
      "saving model version 0.1\n",
      "✅ Best validation Accuracy: 5.9701e-01 at 2 epoch\n",
      "tensor(0.5571, device='cuda:0')\n",
      "Testing width=[13, 2, 1], lamb=1e-07, grid=6\n",
      "checkpoint directory created: ./model\n",
      "saving model version 0.0\n"
     ]
    },
    {
     "name": "stderr",
     "output_type": "stream",
     "text": [
      " train_acc_kan: 9.84e-01 | val_acc_kan: 6.12e-01 |: 100%|███████████| 20/20 [00:04<00:00,  4.14it/s]\n"
     ]
    },
    {
     "name": "stdout",
     "output_type": "stream",
     "text": [
      "saving model version 0.1\n",
      "✅ Best validation Accuracy: 6.2687e-01 at 9 epoch\n",
      "tensor(0.5143, device='cuda:0')\n",
      "Testing width=[13, 3, 1], lamb=0.1, grid=3\n",
      "checkpoint directory created: ./model\n",
      "saving model version 0.0\n"
     ]
    },
    {
     "name": "stderr",
     "output_type": "stream",
     "text": [
      " train_acc_kan: 5.12e-01 | val_acc_kan: 4.18e-01 |: 100%|███████████| 20/20 [00:03<00:00,  6.07it/s]\n"
     ]
    },
    {
     "name": "stdout",
     "output_type": "stream",
     "text": [
      "saving model version 0.1\n",
      "✅ Best validation Accuracy: 5.3731e-01 at 0 epoch\n",
      "tensor(0.6000, device='cuda:0')\n",
      "Testing width=[13, 3, 1], lamb=0.01, grid=3\n",
      "checkpoint directory created: ./model\n",
      "saving model version 0.0\n"
     ]
    },
    {
     "name": "stderr",
     "output_type": "stream",
     "text": [
      " train_acc_kan: 7.46e-01 | val_acc_kan: 6.87e-01 |: 100%|███████████| 20/20 [00:04<00:00,  4.13it/s]\n"
     ]
    },
    {
     "name": "stdout",
     "output_type": "stream",
     "text": [
      "saving model version 0.1\n",
      "✅ Best validation Accuracy: 7.1642e-01 at 17 epoch\n",
      "tensor(0.5714, device='cuda:0')\n",
      "Testing width=[13, 3, 1], lamb=0.001, grid=3\n",
      "checkpoint directory created: ./model\n",
      "saving model version 0.0\n"
     ]
    },
    {
     "name": "stderr",
     "output_type": "stream",
     "text": [
      " train_acc_kan: 9.68e-01 | val_acc_kan: 5.97e-01 |: 100%|███████████| 20/20 [00:04<00:00,  4.09it/s]\n"
     ]
    },
    {
     "name": "stdout",
     "output_type": "stream",
     "text": [
      "saving model version 0.1\n",
      "✅ Best validation Accuracy: 6.5672e-01 at 0 epoch\n",
      "tensor(0.6429, device='cuda:0')\n",
      "Testing width=[13, 3, 1], lamb=0.0001, grid=3\n",
      "checkpoint directory created: ./model\n",
      "saving model version 0.0\n"
     ]
    },
    {
     "name": "stderr",
     "output_type": "stream",
     "text": [
      " train_acc_kan: 9.56e-01 | val_acc_kan: 5.22e-01 |: 100%|███████████| 20/20 [00:05<00:00,  3.57it/s]\n"
     ]
    },
    {
     "name": "stdout",
     "output_type": "stream",
     "text": [
      "saving model version 0.1\n",
      "✅ Best validation Accuracy: 6.8657e-01 at 5 epoch\n",
      "tensor(0.5429, device='cuda:0')\n",
      "Testing width=[13, 3, 1], lamb=1e-05, grid=3\n",
      "checkpoint directory created: ./model\n",
      "saving model version 0.0\n"
     ]
    },
    {
     "name": "stderr",
     "output_type": "stream",
     "text": [
      " train_acc_kan: 9.64e-01 | val_acc_kan: 5.37e-01 |: 100%|███████████| 20/20 [00:05<00:00,  3.76it/s]\n"
     ]
    },
    {
     "name": "stdout",
     "output_type": "stream",
     "text": [
      "saving model version 0.1\n",
      "✅ Best validation Accuracy: 6.5672e-01 at 4 epoch\n",
      "tensor(0.4714, device='cuda:0')\n",
      "Testing width=[13, 3, 1], lamb=1e-06, grid=3\n",
      "checkpoint directory created: ./model\n",
      "saving model version 0.0\n"
     ]
    },
    {
     "name": "stderr",
     "output_type": "stream",
     "text": [
      " train_acc_kan: 9.48e-01 | val_acc_kan: 5.52e-01 |: 100%|███████████| 20/20 [00:05<00:00,  3.84it/s]\n"
     ]
    },
    {
     "name": "stdout",
     "output_type": "stream",
     "text": [
      "saving model version 0.1\n",
      "✅ Best validation Accuracy: 6.7164e-01 at 3 epoch\n",
      "tensor(0.4571, device='cuda:0')\n",
      "Testing width=[13, 3, 1], lamb=1e-07, grid=3\n",
      "checkpoint directory created: ./model\n",
      "saving model version 0.0\n"
     ]
    },
    {
     "name": "stderr",
     "output_type": "stream",
     "text": [
      " train_acc_kan: 9.40e-01 | val_acc_kan: 4.48e-01 |: 100%|███████████| 20/20 [00:05<00:00,  3.95it/s]\n"
     ]
    },
    {
     "name": "stdout",
     "output_type": "stream",
     "text": [
      "saving model version 0.1\n",
      "✅ Best validation Accuracy: 6.8657e-01 at 5 epoch\n",
      "tensor(0.5143, device='cuda:0')\n",
      "Testing width=[13, 3, 1], lamb=0.1, grid=4\n",
      "checkpoint directory created: ./model\n",
      "saving model version 0.0\n"
     ]
    },
    {
     "name": "stderr",
     "output_type": "stream",
     "text": [
      " train_acc_kan: 5.12e-01 | val_acc_kan: 4.63e-01 |: 100%|███████████| 20/20 [00:03<00:00,  5.28it/s]\n"
     ]
    },
    {
     "name": "stdout",
     "output_type": "stream",
     "text": [
      "saving model version 0.1\n",
      "✅ Best validation Accuracy: 5.3731e-01 at 0 epoch\n",
      "tensor(0.6000, device='cuda:0')\n",
      "Testing width=[13, 3, 1], lamb=0.01, grid=4\n",
      "checkpoint directory created: ./model\n",
      "saving model version 0.0\n"
     ]
    },
    {
     "name": "stderr",
     "output_type": "stream",
     "text": [
      " train_acc_kan: 8.10e-01 | val_acc_kan: 6.12e-01 |: 100%|███████████| 20/20 [00:05<00:00,  3.72it/s]\n"
     ]
    },
    {
     "name": "stdout",
     "output_type": "stream",
     "text": [
      "saving model version 0.1\n",
      "✅ Best validation Accuracy: 6.8657e-01 at 14 epoch\n",
      "tensor(0.6143, device='cuda:0')\n",
      "Testing width=[13, 3, 1], lamb=0.001, grid=4\n",
      "checkpoint directory created: ./model\n",
      "saving model version 0.0\n"
     ]
    },
    {
     "name": "stderr",
     "output_type": "stream",
     "text": [
      " train_acc_kan: 9.96e-01 | val_acc_kan: 4.78e-01 |: 100%|███████████| 20/20 [00:04<00:00,  4.06it/s]\n"
     ]
    },
    {
     "name": "stdout",
     "output_type": "stream",
     "text": [
      "saving model version 0.1\n",
      "✅ Best validation Accuracy: 6.1194e-01 at 6 epoch\n",
      "tensor(0.5286, device='cuda:0')\n",
      "Testing width=[13, 3, 1], lamb=0.0001, grid=4\n",
      "checkpoint directory created: ./model\n",
      "saving model version 0.0\n"
     ]
    },
    {
     "name": "stderr",
     "output_type": "stream",
     "text": [
      " train_acc_kan: 9.96e-01 | val_acc_kan: 5.52e-01 |: 100%|███████████| 20/20 [00:05<00:00,  3.78it/s]\n"
     ]
    },
    {
     "name": "stdout",
     "output_type": "stream",
     "text": [
      "saving model version 0.1\n",
      "✅ Best validation Accuracy: 5.9701e-01 at 1 epoch\n",
      "tensor(0.5714, device='cuda:0')\n",
      "Testing width=[13, 3, 1], lamb=1e-05, grid=4\n",
      "checkpoint directory created: ./model\n",
      "saving model version 0.0\n"
     ]
    },
    {
     "name": "stderr",
     "output_type": "stream",
     "text": [
      " train_acc_kan: 9.96e-01 | val_acc_kan: 4.78e-01 |: 100%|███████████| 20/20 [00:04<00:00,  4.08it/s]\n"
     ]
    },
    {
     "name": "stdout",
     "output_type": "stream",
     "text": [
      "saving model version 0.1\n",
      "✅ Best validation Accuracy: 6.2687e-01 at 1 epoch\n",
      "tensor(0.6286, device='cuda:0')\n",
      "Testing width=[13, 3, 1], lamb=1e-06, grid=4\n",
      "checkpoint directory created: ./model\n",
      "saving model version 0.0\n"
     ]
    },
    {
     "name": "stderr",
     "output_type": "stream",
     "text": [
      " train_acc_kan: 9.96e-01 | val_acc_kan: 5.67e-01 |: 100%|███████████| 20/20 [00:04<00:00,  4.14it/s]\n"
     ]
    },
    {
     "name": "stdout",
     "output_type": "stream",
     "text": [
      "saving model version 0.1\n",
      "✅ Best validation Accuracy: 6.5672e-01 at 1 epoch\n",
      "tensor(0.6143, device='cuda:0')\n",
      "Testing width=[13, 3, 1], lamb=1e-07, grid=4\n",
      "checkpoint directory created: ./model\n",
      "saving model version 0.0\n"
     ]
    },
    {
     "name": "stderr",
     "output_type": "stream",
     "text": [
      " train_acc_kan: 9.96e-01 | val_acc_kan: 6.12e-01 |: 100%|███████████| 20/20 [00:04<00:00,  4.20it/s]\n"
     ]
    },
    {
     "name": "stdout",
     "output_type": "stream",
     "text": [
      "saving model version 0.1\n",
      "✅ Best validation Accuracy: 7.1642e-01 at 7 epoch\n",
      "tensor(0.5000, device='cuda:0')\n",
      "Testing width=[13, 3, 1], lamb=0.1, grid=5\n",
      "checkpoint directory created: ./model\n",
      "saving model version 0.0\n"
     ]
    },
    {
     "name": "stderr",
     "output_type": "stream",
     "text": [
      " train_acc_kan: 5.12e-01 | val_acc_kan: 4.33e-01 |: 100%|███████████| 20/20 [00:04<00:00,  4.95it/s]\n"
     ]
    },
    {
     "name": "stdout",
     "output_type": "stream",
     "text": [
      "saving model version 0.1\n",
      "✅ Best validation Accuracy: 5.3731e-01 at 0 epoch\n",
      "tensor(0.6000, device='cuda:0')\n",
      "Testing width=[13, 3, 1], lamb=0.01, grid=5\n",
      "checkpoint directory created: ./model\n",
      "saving model version 0.0\n"
     ]
    },
    {
     "name": "stderr",
     "output_type": "stream",
     "text": [
      " train_acc_kan: 8.69e-01 | val_acc_kan: 6.72e-01 |: 100%|███████████| 20/20 [00:04<00:00,  4.16it/s]\n"
     ]
    },
    {
     "name": "stdout",
     "output_type": "stream",
     "text": [
      "saving model version 0.1\n",
      "✅ Best validation Accuracy: 7.4627e-01 at 1 epoch\n",
      "tensor(0.5857, device='cuda:0')\n",
      "Testing width=[13, 3, 1], lamb=0.001, grid=5\n",
      "checkpoint directory created: ./model\n",
      "saving model version 0.0\n"
     ]
    },
    {
     "name": "stderr",
     "output_type": "stream",
     "text": [
      " train_acc_kan: 1.00e+00 | val_acc_kan: 5.82e-01 |: 100%|███████████| 20/20 [00:05<00:00,  3.99it/s]\n"
     ]
    },
    {
     "name": "stdout",
     "output_type": "stream",
     "text": [
      "saving model version 0.1\n",
      "✅ Best validation Accuracy: 7.0149e-01 at 0 epoch\n",
      "tensor(0.6429, device='cuda:0')\n",
      "Testing width=[13, 3, 1], lamb=0.0001, grid=5\n",
      "checkpoint directory created: ./model\n",
      "saving model version 0.0\n"
     ]
    },
    {
     "name": "stderr",
     "output_type": "stream",
     "text": [
      " train_acc_kan: 1.00e+00 | val_acc_kan: 5.22e-01 |: 100%|███████████| 20/20 [00:04<00:00,  4.18it/s]\n"
     ]
    },
    {
     "name": "stdout",
     "output_type": "stream",
     "text": [
      "saving model version 0.1\n",
      "✅ Best validation Accuracy: 6.5672e-01 at 4 epoch\n",
      "tensor(0.6286, device='cuda:0')\n",
      "Testing width=[13, 3, 1], lamb=1e-05, grid=5\n",
      "checkpoint directory created: ./model\n",
      "saving model version 0.0\n"
     ]
    },
    {
     "name": "stderr",
     "output_type": "stream",
     "text": [
      " train_acc_kan: 9.96e-01 | val_acc_kan: 5.52e-01 |: 100%|███████████| 20/20 [00:05<00:00,  3.99it/s]\n"
     ]
    },
    {
     "name": "stdout",
     "output_type": "stream",
     "text": [
      "saving model version 0.1\n",
      "✅ Best validation Accuracy: 6.8657e-01 at 0 epoch\n",
      "tensor(0.5857, device='cuda:0')\n",
      "Testing width=[13, 3, 1], lamb=1e-06, grid=5\n",
      "checkpoint directory created: ./model\n",
      "saving model version 0.0\n"
     ]
    },
    {
     "name": "stderr",
     "output_type": "stream",
     "text": [
      " train_acc_kan: 1.00e+00 | val_acc_kan: 5.37e-01 |: 100%|███████████| 20/20 [00:04<00:00,  4.00it/s]\n"
     ]
    },
    {
     "name": "stdout",
     "output_type": "stream",
     "text": [
      "saving model version 0.1\n",
      "✅ Best validation Accuracy: 7.0149e-01 at 0 epoch\n",
      "tensor(0.5429, device='cuda:0')\n",
      "Testing width=[13, 3, 1], lamb=1e-07, grid=5\n",
      "checkpoint directory created: ./model\n",
      "saving model version 0.0\n"
     ]
    },
    {
     "name": "stderr",
     "output_type": "stream",
     "text": [
      " train_acc_kan: 9.96e-01 | val_acc_kan: 5.67e-01 |: 100%|███████████| 20/20 [00:04<00:00,  4.12it/s]\n"
     ]
    },
    {
     "name": "stdout",
     "output_type": "stream",
     "text": [
      "saving model version 0.1\n",
      "✅ Best validation Accuracy: 6.8657e-01 at 0 epoch\n",
      "tensor(0.6000, device='cuda:0')\n",
      "Testing width=[13, 3, 1], lamb=0.1, grid=6\n",
      "checkpoint directory created: ./model\n",
      "saving model version 0.0\n"
     ]
    },
    {
     "name": "stderr",
     "output_type": "stream",
     "text": [
      " train_acc_kan: 4.88e-01 | val_acc_kan: 5.37e-01 |: 100%|███████████| 20/20 [00:04<00:00,  4.23it/s]\n"
     ]
    },
    {
     "name": "stdout",
     "output_type": "stream",
     "text": [
      "saving model version 0.1\n",
      "✅ Best validation Accuracy: 5.3731e-01 at 0 epoch\n",
      "tensor(0.6000, device='cuda:0')\n",
      "Testing width=[13, 3, 1], lamb=0.01, grid=6\n",
      "checkpoint directory created: ./model\n",
      "saving model version 0.0\n"
     ]
    },
    {
     "name": "stderr",
     "output_type": "stream",
     "text": [
      " train_acc_kan: 9.09e-01 | val_acc_kan: 7.46e-01 |: 100%|███████████| 20/20 [00:05<00:00,  3.90it/s]\n"
     ]
    },
    {
     "name": "stdout",
     "output_type": "stream",
     "text": [
      "saving model version 0.1\n",
      "✅ Best validation Accuracy: 7.9104e-01 at 18 epoch\n",
      "tensor(0.6000, device='cuda:0')\n",
      "Testing width=[13, 3, 1], lamb=0.001, grid=6\n",
      "checkpoint directory created: ./model\n",
      "saving model version 0.0\n"
     ]
    },
    {
     "name": "stderr",
     "output_type": "stream",
     "text": [
      " train_acc_kan: 1.00e+00 | val_acc_kan: 5.67e-01 |: 100%|███████████| 20/20 [00:04<00:00,  4.23it/s]\n"
     ]
    },
    {
     "name": "stdout",
     "output_type": "stream",
     "text": [
      "saving model version 0.1\n",
      "✅ Best validation Accuracy: 7.3134e-01 at 0 epoch\n",
      "tensor(0.6429, device='cuda:0')\n",
      "Testing width=[13, 3, 1], lamb=0.0001, grid=6\n",
      "checkpoint directory created: ./model\n",
      "saving model version 0.0\n"
     ]
    },
    {
     "name": "stderr",
     "output_type": "stream",
     "text": [
      " train_acc_kan: 1.00e+00 | val_acc_kan: 5.37e-01 |: 100%|███████████| 20/20 [00:04<00:00,  4.25it/s]\n"
     ]
    },
    {
     "name": "stdout",
     "output_type": "stream",
     "text": [
      "saving model version 0.1\n",
      "✅ Best validation Accuracy: 6.4179e-01 at 5 epoch\n",
      "tensor(0.5143, device='cuda:0')\n",
      "Testing width=[13, 3, 1], lamb=1e-05, grid=6\n",
      "checkpoint directory created: ./model\n",
      "saving model version 0.0\n"
     ]
    },
    {
     "name": "stderr",
     "output_type": "stream",
     "text": [
      " train_acc_kan: 1.00e+00 | val_acc_kan: 5.07e-01 |: 100%|███████████| 20/20 [00:04<00:00,  4.16it/s]\n"
     ]
    },
    {
     "name": "stdout",
     "output_type": "stream",
     "text": [
      "saving model version 0.1\n",
      "✅ Best validation Accuracy: 7.1642e-01 at 0 epoch\n",
      "tensor(0.6429, device='cuda:0')\n",
      "Testing width=[13, 3, 1], lamb=1e-06, grid=6\n",
      "checkpoint directory created: ./model\n",
      "saving model version 0.0\n"
     ]
    },
    {
     "name": "stderr",
     "output_type": "stream",
     "text": [
      " train_acc_kan: 1.00e+00 | val_acc_kan: 5.97e-01 |: 100%|███████████| 20/20 [00:05<00:00,  3.98it/s]\n"
     ]
    },
    {
     "name": "stdout",
     "output_type": "stream",
     "text": [
      "saving model version 0.1\n",
      "✅ Best validation Accuracy: 7.0149e-01 at 7 epoch\n",
      "tensor(0.5571, device='cuda:0')\n",
      "Testing width=[13, 3, 1], lamb=1e-07, grid=6\n",
      "checkpoint directory created: ./model\n",
      "saving model version 0.0\n"
     ]
    },
    {
     "name": "stderr",
     "output_type": "stream",
     "text": [
      " train_acc_kan: 1.00e+00 | val_acc_kan: 5.37e-01 |: 100%|███████████| 20/20 [00:05<00:00,  3.90it/s]\n"
     ]
    },
    {
     "name": "stdout",
     "output_type": "stream",
     "text": [
      "saving model version 0.1\n",
      "✅ Best validation Accuracy: 6.8657e-01 at 0 epoch\n",
      "tensor(0.6571, device='cuda:0')\n",
      "Testing width=[13, 4, 1], lamb=0.1, grid=3\n",
      "checkpoint directory created: ./model\n",
      "saving model version 0.0\n"
     ]
    },
    {
     "name": "stderr",
     "output_type": "stream",
     "text": [
      " train_acc_kan: 5.12e-01 | val_acc_kan: 4.48e-01 |: 100%|███████████| 20/20 [00:04<00:00,  4.12it/s]\n"
     ]
    },
    {
     "name": "stdout",
     "output_type": "stream",
     "text": [
      "saving model version 0.1\n",
      "✅ Best validation Accuracy: 5.3731e-01 at 0 epoch\n",
      "tensor(0.6000, device='cuda:0')\n",
      "Testing width=[13, 4, 1], lamb=0.01, grid=3\n",
      "checkpoint directory created: ./model\n",
      "saving model version 0.0\n"
     ]
    },
    {
     "name": "stderr",
     "output_type": "stream",
     "text": [
      " train_acc_kan: 5.12e-01 | val_acc_kan: 4.18e-01 |: 100%|███████████| 20/20 [00:03<00:00,  6.08it/s]\n"
     ]
    },
    {
     "name": "stdout",
     "output_type": "stream",
     "text": [
      "saving model version 0.1\n",
      "✅ Best validation Accuracy: 4.6269e-01 at 0 epoch\n",
      "tensor(0.4000, device='cuda:0')\n",
      "Testing width=[13, 4, 1], lamb=0.001, grid=3\n",
      "checkpoint directory created: ./model\n",
      "saving model version 0.0\n"
     ]
    },
    {
     "name": "stderr",
     "output_type": "stream",
     "text": [
      " train_acc_kan: 9.48e-01 | val_acc_kan: 5.37e-01 |: 100%|███████████| 20/20 [00:04<00:00,  4.22it/s]\n"
     ]
    },
    {
     "name": "stdout",
     "output_type": "stream",
     "text": [
      "saving model version 0.1\n",
      "✅ Best validation Accuracy: 6.7164e-01 at 0 epoch\n",
      "tensor(0.7143, device='cuda:0')\n",
      "Testing width=[13, 4, 1], lamb=0.0001, grid=3\n",
      "checkpoint directory created: ./model\n",
      "saving model version 0.0\n"
     ]
    },
    {
     "name": "stderr",
     "output_type": "stream",
     "text": [
      " train_acc_kan: 9.88e-01 | val_acc_kan: 5.07e-01 |: 100%|███████████| 20/20 [00:04<00:00,  4.18it/s]\n"
     ]
    },
    {
     "name": "stdout",
     "output_type": "stream",
     "text": [
      "saving model version 0.1\n",
      "✅ Best validation Accuracy: 6.5672e-01 at 1 epoch\n",
      "tensor(0.6286, device='cuda:0')\n",
      "Testing width=[13, 4, 1], lamb=1e-05, grid=3\n",
      "checkpoint directory created: ./model\n",
      "saving model version 0.0\n"
     ]
    },
    {
     "name": "stderr",
     "output_type": "stream",
     "text": [
      " train_acc_kan: 9.92e-01 | val_acc_kan: 5.52e-01 |: 100%|███████████| 20/20 [00:04<00:00,  4.15it/s]\n"
     ]
    },
    {
     "name": "stdout",
     "output_type": "stream",
     "text": [
      "saving model version 0.1\n",
      "✅ Best validation Accuracy: 6.7164e-01 at 0 epoch\n",
      "tensor(0.7000, device='cuda:0')\n",
      "Testing width=[13, 4, 1], lamb=1e-06, grid=3\n",
      "checkpoint directory created: ./model\n",
      "saving model version 0.0\n"
     ]
    },
    {
     "name": "stderr",
     "output_type": "stream",
     "text": [
      " train_acc_kan: 9.92e-01 | val_acc_kan: 5.52e-01 |: 100%|███████████| 20/20 [00:04<00:00,  4.20it/s]\n"
     ]
    },
    {
     "name": "stdout",
     "output_type": "stream",
     "text": [
      "saving model version 0.1\n",
      "✅ Best validation Accuracy: 6.5672e-01 at 0 epoch\n",
      "tensor(0.7000, device='cuda:0')\n",
      "Testing width=[13, 4, 1], lamb=1e-07, grid=3\n",
      "checkpoint directory created: ./model\n",
      "saving model version 0.0\n"
     ]
    },
    {
     "name": "stderr",
     "output_type": "stream",
     "text": [
      " train_acc_kan: 9.84e-01 | val_acc_kan: 5.22e-01 |: 100%|███████████| 20/20 [00:04<00:00,  4.18it/s]\n"
     ]
    },
    {
     "name": "stdout",
     "output_type": "stream",
     "text": [
      "saving model version 0.1\n",
      "✅ Best validation Accuracy: 6.5672e-01 at 0 epoch\n",
      "tensor(0.7000, device='cuda:0')\n",
      "Testing width=[13, 4, 1], lamb=0.1, grid=4\n",
      "checkpoint directory created: ./model\n",
      "saving model version 0.0\n"
     ]
    },
    {
     "name": "stderr",
     "output_type": "stream",
     "text": [
      " train_acc_kan: 5.12e-01 | val_acc_kan: 4.33e-01 |: 100%|███████████| 20/20 [00:04<00:00,  4.28it/s]\n"
     ]
    },
    {
     "name": "stdout",
     "output_type": "stream",
     "text": [
      "saving model version 0.1\n",
      "✅ Best validation Accuracy: 5.3731e-01 at 0 epoch\n",
      "tensor(0.6000, device='cuda:0')\n",
      "Testing width=[13, 4, 1], lamb=0.01, grid=4\n",
      "checkpoint directory created: ./model\n",
      "saving model version 0.0\n"
     ]
    },
    {
     "name": "stderr",
     "output_type": "stream",
     "text": [
      " train_acc_kan: 5.12e-01 | val_acc_kan: 4.33e-01 |: 100%|███████████| 20/20 [00:03<00:00,  6.32it/s]\n"
     ]
    },
    {
     "name": "stdout",
     "output_type": "stream",
     "text": [
      "saving model version 0.1\n",
      "✅ Best validation Accuracy: 4.6269e-01 at 0 epoch\n",
      "tensor(0.4000, device='cuda:0')\n",
      "Testing width=[13, 4, 1], lamb=0.001, grid=4\n",
      "checkpoint directory created: ./model\n",
      "saving model version 0.0\n"
     ]
    },
    {
     "name": "stderr",
     "output_type": "stream",
     "text": [
      " train_acc_kan: 1.00e+00 | val_acc_kan: 5.97e-01 |: 100%|███████████| 20/20 [00:04<00:00,  4.31it/s]\n"
     ]
    },
    {
     "name": "stdout",
     "output_type": "stream",
     "text": [
      "saving model version 0.1\n",
      "✅ Best validation Accuracy: 7.0149e-01 at 0 epoch\n",
      "tensor(0.6714, device='cuda:0')\n",
      "Testing width=[13, 4, 1], lamb=0.0001, grid=4\n",
      "checkpoint directory created: ./model\n",
      "saving model version 0.0\n"
     ]
    },
    {
     "name": "stderr",
     "output_type": "stream",
     "text": [
      " train_acc_kan: 1.00e+00 | val_acc_kan: 5.97e-01 |: 100%|███████████| 20/20 [00:04<00:00,  4.20it/s]\n"
     ]
    },
    {
     "name": "stdout",
     "output_type": "stream",
     "text": [
      "saving model version 0.1\n",
      "✅ Best validation Accuracy: 7.3134e-01 at 0 epoch\n",
      "tensor(0.6571, device='cuda:0')\n",
      "Testing width=[13, 4, 1], lamb=1e-05, grid=4\n",
      "checkpoint directory created: ./model\n",
      "saving model version 0.0\n"
     ]
    },
    {
     "name": "stderr",
     "output_type": "stream",
     "text": [
      " train_acc_kan: 1.00e+00 | val_acc_kan: 4.33e-01 |: 100%|███████████| 20/20 [00:05<00:00,  3.79it/s]\n"
     ]
    },
    {
     "name": "stdout",
     "output_type": "stream",
     "text": [
      "saving model version 0.1\n",
      "✅ Best validation Accuracy: 7.1642e-01 at 0 epoch\n",
      "tensor(0.6571, device='cuda:0')\n",
      "Testing width=[13, 4, 1], lamb=1e-06, grid=4\n",
      "checkpoint directory created: ./model\n",
      "saving model version 0.0\n"
     ]
    },
    {
     "name": "stderr",
     "output_type": "stream",
     "text": [
      " train_acc_kan: 1.00e+00 | val_acc_kan: 5.37e-01 |: 100%|███████████| 20/20 [00:04<00:00,  4.07it/s]\n"
     ]
    },
    {
     "name": "stdout",
     "output_type": "stream",
     "text": [
      "saving model version 0.1\n",
      "✅ Best validation Accuracy: 7.3134e-01 at 0 epoch\n",
      "tensor(0.6714, device='cuda:0')\n",
      "Testing width=[13, 4, 1], lamb=1e-07, grid=4\n",
      "checkpoint directory created: ./model\n",
      "saving model version 0.0\n"
     ]
    },
    {
     "name": "stderr",
     "output_type": "stream",
     "text": [
      " train_acc_kan: 1.00e+00 | val_acc_kan: 4.03e-01 |: 100%|███████████| 20/20 [00:05<00:00,  3.94it/s]\n"
     ]
    },
    {
     "name": "stdout",
     "output_type": "stream",
     "text": [
      "saving model version 0.1\n",
      "✅ Best validation Accuracy: 7.4627e-01 at 1 epoch\n",
      "tensor(0.6286, device='cuda:0')\n",
      "Testing width=[13, 4, 1], lamb=0.1, grid=5\n",
      "checkpoint directory created: ./model\n",
      "saving model version 0.0\n"
     ]
    },
    {
     "name": "stderr",
     "output_type": "stream",
     "text": [
      " train_acc_kan: 5.12e-01 | val_acc_kan: 4.03e-01 |: 100%|███████████| 20/20 [00:04<00:00,  4.33it/s]\n"
     ]
    },
    {
     "name": "stdout",
     "output_type": "stream",
     "text": [
      "saving model version 0.1\n",
      "✅ Best validation Accuracy: 5.3731e-01 at 0 epoch\n",
      "tensor(0.6000, device='cuda:0')\n",
      "Testing width=[13, 4, 1], lamb=0.01, grid=5\n",
      "checkpoint directory created: ./model\n",
      "saving model version 0.0\n"
     ]
    },
    {
     "name": "stderr",
     "output_type": "stream",
     "text": [
      " train_acc_kan: 5.12e-01 | val_acc_kan: 4.18e-01 |: 100%|███████████| 20/20 [00:04<00:00,  4.11it/s]\n"
     ]
    },
    {
     "name": "stdout",
     "output_type": "stream",
     "text": [
      "saving model version 0.1\n",
      "✅ Best validation Accuracy: 4.6269e-01 at 0 epoch\n",
      "tensor(0.4143, device='cuda:0')\n",
      "Testing width=[13, 4, 1], lamb=0.001, grid=5\n",
      "checkpoint directory created: ./model\n",
      "saving model version 0.0\n"
     ]
    },
    {
     "name": "stderr",
     "output_type": "stream",
     "text": [
      " train_acc_kan: 1.00e+00 | val_acc_kan: 5.22e-01 |: 100%|███████████| 20/20 [00:06<00:00,  3.14it/s]\n"
     ]
    },
    {
     "name": "stdout",
     "output_type": "stream",
     "text": [
      "saving model version 0.1\n",
      "✅ Best validation Accuracy: 7.3134e-01 at 0 epoch\n",
      "tensor(0.6143, device='cuda:0')\n",
      "Testing width=[13, 4, 1], lamb=0.0001, grid=5\n",
      "checkpoint directory created: ./model\n",
      "saving model version 0.0\n"
     ]
    },
    {
     "name": "stderr",
     "output_type": "stream",
     "text": [
      " train_acc_kan: 1.00e+00 | val_acc_kan: 4.33e-01 |: 100%|███████████| 20/20 [00:06<00:00,  3.21it/s]\n"
     ]
    },
    {
     "name": "stdout",
     "output_type": "stream",
     "text": [
      "saving model version 0.1\n",
      "✅ Best validation Accuracy: 7.4627e-01 at 0 epoch\n",
      "tensor(0.6000, device='cuda:0')\n",
      "Testing width=[13, 4, 1], lamb=1e-05, grid=5\n",
      "checkpoint directory created: ./model\n",
      "saving model version 0.0\n"
     ]
    },
    {
     "name": "stderr",
     "output_type": "stream",
     "text": [
      " train_acc_kan: 1.00e+00 | val_acc_kan: 4.78e-01 |: 100%|███████████| 20/20 [00:05<00:00,  3.56it/s]\n"
     ]
    },
    {
     "name": "stdout",
     "output_type": "stream",
     "text": [
      "saving model version 0.1\n",
      "✅ Best validation Accuracy: 7.1642e-01 at 0 epoch\n",
      "tensor(0.5857, device='cuda:0')\n",
      "Testing width=[13, 4, 1], lamb=1e-06, grid=5\n",
      "checkpoint directory created: ./model\n",
      "saving model version 0.0\n"
     ]
    },
    {
     "name": "stderr",
     "output_type": "stream",
     "text": [
      " train_acc_kan: 1.00e+00 | val_acc_kan: 4.63e-01 |: 100%|███████████| 20/20 [00:05<00:00,  3.60it/s]\n"
     ]
    },
    {
     "name": "stdout",
     "output_type": "stream",
     "text": [
      "saving model version 0.1\n",
      "✅ Best validation Accuracy: 7.3134e-01 at 0 epoch\n",
      "tensor(0.5857, device='cuda:0')\n",
      "Testing width=[13, 4, 1], lamb=1e-07, grid=5\n",
      "checkpoint directory created: ./model\n",
      "saving model version 0.0\n"
     ]
    },
    {
     "name": "stderr",
     "output_type": "stream",
     "text": [
      " train_acc_kan: 1.00e+00 | val_acc_kan: 5.07e-01 |: 100%|███████████| 20/20 [00:05<00:00,  3.68it/s]\n"
     ]
    },
    {
     "name": "stdout",
     "output_type": "stream",
     "text": [
      "saving model version 0.1\n",
      "✅ Best validation Accuracy: 7.3134e-01 at 0 epoch\n",
      "tensor(0.5857, device='cuda:0')\n",
      "Testing width=[13, 4, 1], lamb=0.1, grid=6\n",
      "checkpoint directory created: ./model\n",
      "saving model version 0.0\n"
     ]
    },
    {
     "name": "stderr",
     "output_type": "stream",
     "text": [
      " train_acc_kan: 5.12e-01 | val_acc_kan: 4.18e-01 |: 100%|███████████| 20/20 [00:05<00:00,  3.64it/s]\n"
     ]
    },
    {
     "name": "stdout",
     "output_type": "stream",
     "text": [
      "saving model version 0.1\n",
      "✅ Best validation Accuracy: 5.3731e-01 at 0 epoch\n",
      "tensor(0.6000, device='cuda:0')\n",
      "Testing width=[13, 4, 1], lamb=0.01, grid=6\n",
      "checkpoint directory created: ./model\n",
      "saving model version 0.0\n"
     ]
    },
    {
     "name": "stderr",
     "output_type": "stream",
     "text": [
      " train_acc_kan: 8.93e-01 | val_acc_kan: 5.97e-01 |: 100%|███████████| 20/20 [00:04<00:00,  4.17it/s]\n"
     ]
    },
    {
     "name": "stdout",
     "output_type": "stream",
     "text": [
      "saving model version 0.1\n",
      "✅ Best validation Accuracy: 6.7164e-01 at 6 epoch\n",
      "tensor(0.5429, device='cuda:0')\n",
      "Testing width=[13, 4, 1], lamb=0.001, grid=6\n",
      "checkpoint directory created: ./model\n",
      "saving model version 0.0\n"
     ]
    },
    {
     "name": "stderr",
     "output_type": "stream",
     "text": [
      " train_acc_kan: 1.00e+00 | val_acc_kan: 5.37e-01 |: 100%|███████████| 20/20 [00:05<00:00,  3.81it/s]\n"
     ]
    },
    {
     "name": "stdout",
     "output_type": "stream",
     "text": [
      "saving model version 0.1\n",
      "✅ Best validation Accuracy: 7.0149e-01 at 3 epoch\n",
      "tensor(0.6000, device='cuda:0')\n",
      "Testing width=[13, 4, 1], lamb=0.0001, grid=6\n",
      "checkpoint directory created: ./model\n",
      "saving model version 0.0\n"
     ]
    },
    {
     "name": "stderr",
     "output_type": "stream",
     "text": [
      " train_acc_kan: 1.00e+00 | val_acc_kan: 6.12e-01 |: 100%|███████████| 20/20 [00:05<00:00,  3.91it/s]\n"
     ]
    },
    {
     "name": "stdout",
     "output_type": "stream",
     "text": [
      "saving model version 0.1\n",
      "✅ Best validation Accuracy: 6.4179e-01 at 10 epoch\n",
      "tensor(0.5143, device='cuda:0')\n",
      "Testing width=[13, 4, 1], lamb=1e-05, grid=6\n",
      "checkpoint directory created: ./model\n",
      "saving model version 0.0\n"
     ]
    },
    {
     "name": "stderr",
     "output_type": "stream",
     "text": [
      " train_acc_kan: 1.00e+00 | val_acc_kan: 5.37e-01 |: 100%|███████████| 20/20 [00:05<00:00,  4.00it/s]\n"
     ]
    },
    {
     "name": "stdout",
     "output_type": "stream",
     "text": [
      "saving model version 0.1\n",
      "✅ Best validation Accuracy: 6.2687e-01 at 0 epoch\n",
      "tensor(0.4714, device='cuda:0')\n",
      "Testing width=[13, 4, 1], lamb=1e-06, grid=6\n",
      "checkpoint directory created: ./model\n",
      "saving model version 0.0\n"
     ]
    },
    {
     "name": "stderr",
     "output_type": "stream",
     "text": [
      " train_acc_kan: 1.00e+00 | val_acc_kan: 6.12e-01 |: 100%|███████████| 20/20 [00:05<00:00,  3.38it/s]\n"
     ]
    },
    {
     "name": "stdout",
     "output_type": "stream",
     "text": [
      "saving model version 0.1\n",
      "✅ Best validation Accuracy: 6.5672e-01 at 18 epoch\n",
      "tensor(0.4143, device='cuda:0')\n",
      "Testing width=[13, 4, 1], lamb=1e-07, grid=6\n",
      "checkpoint directory created: ./model\n",
      "saving model version 0.0\n"
     ]
    },
    {
     "name": "stderr",
     "output_type": "stream",
     "text": [
      " train_acc_kan: 1.00e+00 | val_acc_kan: 4.48e-01 |: 100%|███████████| 20/20 [00:05<00:00,  3.84it/s]\n"
     ]
    },
    {
     "name": "stdout",
     "output_type": "stream",
     "text": [
      "saving model version 0.1\n",
      "✅ Best validation Accuracy: 6.4179e-01 at 0 epoch\n",
      "tensor(0.5000, device='cuda:0')\n",
      "Testing width=[13, 5, 1], lamb=0.1, grid=3\n",
      "checkpoint directory created: ./model\n",
      "saving model version 0.0\n"
     ]
    },
    {
     "name": "stderr",
     "output_type": "stream",
     "text": [
      " train_acc_kan: 5.12e-01 | val_acc_kan: 4.33e-01 |: 100%|███████████| 20/20 [00:04<00:00,  4.14it/s]\n"
     ]
    },
    {
     "name": "stdout",
     "output_type": "stream",
     "text": [
      "saving model version 0.1\n",
      "✅ Best validation Accuracy: 5.3731e-01 at 0 epoch\n",
      "tensor(0.6000, device='cuda:0')\n",
      "Testing width=[13, 5, 1], lamb=0.01, grid=3\n",
      "checkpoint directory created: ./model\n",
      "saving model version 0.0\n"
     ]
    },
    {
     "name": "stderr",
     "output_type": "stream",
     "text": [
      " train_acc_kan: 5.12e-01 | val_acc_kan: 4.48e-01 |: 100%|███████████| 20/20 [00:04<00:00,  4.53it/s]\n"
     ]
    },
    {
     "name": "stdout",
     "output_type": "stream",
     "text": [
      "saving model version 0.1\n",
      "✅ Best validation Accuracy: 4.6269e-01 at 0 epoch\n",
      "tensor(0.4000, device='cuda:0')\n",
      "Testing width=[13, 5, 1], lamb=0.001, grid=3\n",
      "checkpoint directory created: ./model\n",
      "saving model version 0.0\n"
     ]
    },
    {
     "name": "stderr",
     "output_type": "stream",
     "text": [
      " train_acc_kan: 9.88e-01 | val_acc_kan: 5.07e-01 |: 100%|███████████| 20/20 [00:05<00:00,  3.40it/s]\n"
     ]
    },
    {
     "name": "stdout",
     "output_type": "stream",
     "text": [
      "saving model version 0.1\n",
      "✅ Best validation Accuracy: 6.5672e-01 at 0 epoch\n",
      "tensor(0.6571, device='cuda:0')\n",
      "Testing width=[13, 5, 1], lamb=0.0001, grid=3\n",
      "checkpoint directory created: ./model\n",
      "saving model version 0.0\n"
     ]
    },
    {
     "name": "stderr",
     "output_type": "stream",
     "text": [
      " train_acc_kan: 1.00e+00 | val_acc_kan: 5.97e-01 |: 100%|███████████| 20/20 [00:04<00:00,  4.02it/s]\n"
     ]
    },
    {
     "name": "stdout",
     "output_type": "stream",
     "text": [
      "saving model version 0.1\n",
      "✅ Best validation Accuracy: 6.8657e-01 at 0 epoch\n",
      "tensor(0.6429, device='cuda:0')\n",
      "Testing width=[13, 5, 1], lamb=1e-05, grid=3\n",
      "checkpoint directory created: ./model\n",
      "saving model version 0.0\n"
     ]
    },
    {
     "name": "stderr",
     "output_type": "stream",
     "text": [
      " train_acc_kan: 9.96e-01 | val_acc_kan: 6.12e-01 |: 100%|███████████| 20/20 [00:05<00:00,  3.63it/s]\n"
     ]
    },
    {
     "name": "stdout",
     "output_type": "stream",
     "text": [
      "saving model version 0.1\n",
      "✅ Best validation Accuracy: 6.7164e-01 at 1 epoch\n",
      "tensor(0.5571, device='cuda:0')\n",
      "Testing width=[13, 5, 1], lamb=1e-06, grid=3\n",
      "checkpoint directory created: ./model\n",
      "saving model version 0.0\n"
     ]
    },
    {
     "name": "stderr",
     "output_type": "stream",
     "text": [
      " train_acc_kan: 9.92e-01 | val_acc_kan: 5.52e-01 |: 100%|███████████| 20/20 [00:06<00:00,  3.26it/s]\n"
     ]
    },
    {
     "name": "stdout",
     "output_type": "stream",
     "text": [
      "saving model version 0.1\n",
      "✅ Best validation Accuracy: 6.8657e-01 at 0 epoch\n",
      "tensor(0.6857, device='cuda:0')\n",
      "Testing width=[13, 5, 1], lamb=1e-07, grid=3\n",
      "checkpoint directory created: ./model\n",
      "saving model version 0.0\n"
     ]
    },
    {
     "name": "stderr",
     "output_type": "stream",
     "text": [
      " train_acc_kan: 9.96e-01 | val_acc_kan: 5.82e-01 |: 100%|███████████| 20/20 [00:05<00:00,  3.55it/s]\n"
     ]
    },
    {
     "name": "stdout",
     "output_type": "stream",
     "text": [
      "saving model version 0.1\n",
      "✅ Best validation Accuracy: 7.1642e-01 at 6 epoch\n",
      "tensor(0.5714, device='cuda:0')\n",
      "Testing width=[13, 5, 1], lamb=0.1, grid=4\n",
      "checkpoint directory created: ./model\n",
      "saving model version 0.0\n"
     ]
    },
    {
     "name": "stderr",
     "output_type": "stream",
     "text": [
      " train_acc_kan: 5.12e-01 | val_acc_kan: 4.18e-01 |: 100%|███████████| 20/20 [00:06<00:00,  3.26it/s]\n"
     ]
    },
    {
     "name": "stdout",
     "output_type": "stream",
     "text": [
      "saving model version 0.1\n",
      "✅ Best validation Accuracy: 5.3731e-01 at 0 epoch\n",
      "tensor(0.6000, device='cuda:0')\n",
      "Testing width=[13, 5, 1], lamb=0.01, grid=4\n",
      "checkpoint directory created: ./model\n",
      "saving model version 0.0\n"
     ]
    },
    {
     "name": "stderr",
     "output_type": "stream",
     "text": [
      " train_acc_kan: 5.12e-01 | val_acc_kan: 4.48e-01 |: 100%|███████████| 20/20 [00:03<00:00,  5.07it/s]\n"
     ]
    },
    {
     "name": "stdout",
     "output_type": "stream",
     "text": [
      "saving model version 0.1\n",
      "✅ Best validation Accuracy: 4.6269e-01 at 0 epoch\n",
      "tensor(0.4000, device='cuda:0')\n",
      "Testing width=[13, 5, 1], lamb=0.001, grid=4\n",
      "checkpoint directory created: ./model\n",
      "saving model version 0.0\n"
     ]
    },
    {
     "name": "stderr",
     "output_type": "stream",
     "text": [
      " train_acc_kan: 1.00e+00 | val_acc_kan: 5.37e-01 |: 100%|███████████| 20/20 [00:04<00:00,  4.21it/s]\n"
     ]
    },
    {
     "name": "stdout",
     "output_type": "stream",
     "text": [
      "saving model version 0.1\n",
      "✅ Best validation Accuracy: 6.1194e-01 at 0 epoch\n",
      "tensor(0.6857, device='cuda:0')\n",
      "Testing width=[13, 5, 1], lamb=0.0001, grid=4\n",
      "checkpoint directory created: ./model\n",
      "saving model version 0.0\n"
     ]
    },
    {
     "name": "stderr",
     "output_type": "stream",
     "text": [
      " train_acc_kan: 1.00e+00 | val_acc_kan: 4.18e-01 |: 100%|███████████| 20/20 [00:05<00:00,  3.85it/s]\n"
     ]
    },
    {
     "name": "stdout",
     "output_type": "stream",
     "text": [
      "saving model version 0.1\n",
      "✅ Best validation Accuracy: 6.5672e-01 at 0 epoch\n",
      "tensor(0.6714, device='cuda:0')\n",
      "Testing width=[13, 5, 1], lamb=1e-05, grid=4\n",
      "checkpoint directory created: ./model\n",
      "saving model version 0.0\n"
     ]
    },
    {
     "name": "stderr",
     "output_type": "stream",
     "text": [
      " train_acc_kan: 1.00e+00 | val_acc_kan: 5.22e-01 |: 100%|███████████| 20/20 [00:04<00:00,  4.11it/s]\n"
     ]
    },
    {
     "name": "stdout",
     "output_type": "stream",
     "text": [
      "saving model version 0.1\n",
      "✅ Best validation Accuracy: 6.7164e-01 at 0 epoch\n",
      "tensor(0.6286, device='cuda:0')\n",
      "Testing width=[13, 5, 1], lamb=1e-06, grid=4\n",
      "checkpoint directory created: ./model\n",
      "saving model version 0.0\n"
     ]
    },
    {
     "name": "stderr",
     "output_type": "stream",
     "text": [
      " train_acc_kan: 1.00e+00 | val_acc_kan: 5.82e-01 |: 100%|███████████| 20/20 [00:05<00:00,  3.90it/s]\n"
     ]
    },
    {
     "name": "stdout",
     "output_type": "stream",
     "text": [
      "saving model version 0.1\n",
      "✅ Best validation Accuracy: 7.4627e-01 at 0 epoch\n",
      "tensor(0.6143, device='cuda:0')\n",
      "Testing width=[13, 5, 1], lamb=1e-07, grid=4\n",
      "checkpoint directory created: ./model\n",
      "saving model version 0.0\n"
     ]
    },
    {
     "name": "stderr",
     "output_type": "stream",
     "text": [
      " train_acc_kan: 1.00e+00 | val_acc_kan: 5.07e-01 |: 100%|███████████| 20/20 [00:05<00:00,  3.71it/s]\n"
     ]
    },
    {
     "name": "stdout",
     "output_type": "stream",
     "text": [
      "saving model version 0.1\n",
      "✅ Best validation Accuracy: 7.4627e-01 at 0 epoch\n",
      "tensor(0.6286, device='cuda:0')\n",
      "Testing width=[13, 5, 1], lamb=0.1, grid=5\n",
      "checkpoint directory created: ./model\n",
      "saving model version 0.0\n"
     ]
    },
    {
     "name": "stderr",
     "output_type": "stream",
     "text": [
      " train_acc_kan: 5.12e-01 | val_acc_kan: 4.48e-01 |: 100%|███████████| 20/20 [00:04<00:00,  4.76it/s]\n"
     ]
    },
    {
     "name": "stdout",
     "output_type": "stream",
     "text": [
      "saving model version 0.1\n",
      "✅ Best validation Accuracy: 5.3731e-01 at 0 epoch\n",
      "tensor(0.6000, device='cuda:0')\n",
      "Testing width=[13, 5, 1], lamb=0.01, grid=5\n",
      "checkpoint directory created: ./model\n",
      "saving model version 0.0\n"
     ]
    },
    {
     "name": "stderr",
     "output_type": "stream",
     "text": [
      " train_acc_kan: 5.12e-01 | val_acc_kan: 4.33e-01 |: 100%|███████████| 20/20 [00:04<00:00,  4.02it/s]\n"
     ]
    },
    {
     "name": "stdout",
     "output_type": "stream",
     "text": [
      "saving model version 0.1\n",
      "✅ Best validation Accuracy: 4.6269e-01 at 0 epoch\n",
      "tensor(0.4000, device='cuda:0')\n",
      "Testing width=[13, 5, 1], lamb=0.001, grid=5\n",
      "checkpoint directory created: ./model\n",
      "saving model version 0.0\n"
     ]
    },
    {
     "name": "stderr",
     "output_type": "stream",
     "text": [
      " train_acc_kan: 1.00e+00 | val_acc_kan: 5.82e-01 |: 100%|███████████| 20/20 [00:05<00:00,  3.87it/s]\n"
     ]
    },
    {
     "name": "stdout",
     "output_type": "stream",
     "text": [
      "saving model version 0.1\n",
      "✅ Best validation Accuracy: 6.8657e-01 at 0 epoch\n",
      "tensor(0.7143, device='cuda:0')\n",
      "Testing width=[13, 5, 1], lamb=0.0001, grid=5\n",
      "checkpoint directory created: ./model\n",
      "saving model version 0.0\n"
     ]
    },
    {
     "name": "stderr",
     "output_type": "stream",
     "text": [
      " train_acc_kan: 1.00e+00 | val_acc_kan: 5.07e-01 |: 100%|███████████| 20/20 [00:06<00:00,  3.24it/s]\n"
     ]
    },
    {
     "name": "stdout",
     "output_type": "stream",
     "text": [
      "saving model version 0.1\n",
      "✅ Best validation Accuracy: 7.1642e-01 at 0 epoch\n",
      "tensor(0.6714, device='cuda:0')\n",
      "Testing width=[13, 5, 1], lamb=1e-05, grid=5\n",
      "checkpoint directory created: ./model\n",
      "saving model version 0.0\n"
     ]
    },
    {
     "name": "stderr",
     "output_type": "stream",
     "text": [
      " train_acc_kan: 1.00e+00 | val_acc_kan: 5.82e-01 |: 100%|███████████| 20/20 [00:04<00:00,  4.24it/s]\n"
     ]
    },
    {
     "name": "stdout",
     "output_type": "stream",
     "text": [
      "saving model version 0.1\n",
      "✅ Best validation Accuracy: 7.1642e-01 at 0 epoch\n",
      "tensor(0.6714, device='cuda:0')\n",
      "Testing width=[13, 5, 1], lamb=1e-06, grid=5\n",
      "checkpoint directory created: ./model\n",
      "saving model version 0.0\n"
     ]
    },
    {
     "name": "stderr",
     "output_type": "stream",
     "text": [
      " train_acc_kan: 1.00e+00 | val_acc_kan: 5.52e-01 |: 100%|███████████| 20/20 [00:04<00:00,  4.26it/s]\n"
     ]
    },
    {
     "name": "stdout",
     "output_type": "stream",
     "text": [
      "saving model version 0.1\n",
      "✅ Best validation Accuracy: 7.1642e-01 at 0 epoch\n",
      "tensor(0.6714, device='cuda:0')\n",
      "Testing width=[13, 5, 1], lamb=1e-07, grid=5\n",
      "checkpoint directory created: ./model\n",
      "saving model version 0.0\n"
     ]
    },
    {
     "name": "stderr",
     "output_type": "stream",
     "text": [
      " train_acc_kan: 1.00e+00 | val_acc_kan: 6.72e-01 |: 100%|███████████| 20/20 [00:04<00:00,  4.22it/s]\n"
     ]
    },
    {
     "name": "stdout",
     "output_type": "stream",
     "text": [
      "saving model version 0.1\n",
      "✅ Best validation Accuracy: 7.1642e-01 at 0 epoch\n",
      "tensor(0.6714, device='cuda:0')\n",
      "Testing width=[13, 5, 1], lamb=0.1, grid=6\n",
      "checkpoint directory created: ./model\n",
      "saving model version 0.0\n"
     ]
    },
    {
     "name": "stderr",
     "output_type": "stream",
     "text": [
      " train_acc_kan: 5.12e-01 | val_acc_kan: 4.33e-01 |: 100%|███████████| 20/20 [00:05<00:00,  3.72it/s]\n"
     ]
    },
    {
     "name": "stdout",
     "output_type": "stream",
     "text": [
      "saving model version 0.1\n",
      "✅ Best validation Accuracy: 5.3731e-01 at 0 epoch\n",
      "tensor(0.6000, device='cuda:0')\n",
      "Testing width=[13, 5, 1], lamb=0.01, grid=6\n",
      "checkpoint directory created: ./model\n",
      "saving model version 0.0\n"
     ]
    },
    {
     "name": "stderr",
     "output_type": "stream",
     "text": [
      " train_acc_kan: 9.13e-01 | val_acc_kan: 5.07e-01 |: 100%|███████████| 20/20 [00:04<00:00,  4.01it/s]\n"
     ]
    },
    {
     "name": "stdout",
     "output_type": "stream",
     "text": [
      "saving model version 0.1\n",
      "✅ Best validation Accuracy: 6.7164e-01 at 0 epoch\n",
      "tensor(0.6143, device='cuda:0')\n",
      "Testing width=[13, 5, 1], lamb=0.001, grid=6\n",
      "checkpoint directory created: ./model\n",
      "saving model version 0.0\n"
     ]
    },
    {
     "name": "stderr",
     "output_type": "stream",
     "text": [
      " train_acc_kan: 1.00e+00 | val_acc_kan: 5.82e-01 |: 100%|███████████| 20/20 [00:04<00:00,  4.26it/s]\n"
     ]
    },
    {
     "name": "stdout",
     "output_type": "stream",
     "text": [
      "saving model version 0.1\n",
      "✅ Best validation Accuracy: 6.8657e-01 at 0 epoch\n",
      "tensor(0.6429, device='cuda:0')\n",
      "Testing width=[13, 5, 1], lamb=0.0001, grid=6\n",
      "checkpoint directory created: ./model\n",
      "saving model version 0.0\n"
     ]
    },
    {
     "name": "stderr",
     "output_type": "stream",
     "text": [
      " train_acc_kan: 1.00e+00 | val_acc_kan: 5.22e-01 |: 100%|███████████| 20/20 [00:05<00:00,  3.94it/s]\n"
     ]
    },
    {
     "name": "stdout",
     "output_type": "stream",
     "text": [
      "saving model version 0.1\n",
      "✅ Best validation Accuracy: 6.8657e-01 at 0 epoch\n",
      "tensor(0.6429, device='cuda:0')\n",
      "Testing width=[13, 5, 1], lamb=1e-05, grid=6\n",
      "checkpoint directory created: ./model\n",
      "saving model version 0.0\n"
     ]
    },
    {
     "name": "stderr",
     "output_type": "stream",
     "text": [
      " train_acc_kan: 1.00e+00 | val_acc_kan: 5.52e-01 |: 100%|███████████| 20/20 [00:04<00:00,  4.18it/s]\n"
     ]
    },
    {
     "name": "stdout",
     "output_type": "stream",
     "text": [
      "saving model version 0.1\n",
      "✅ Best validation Accuracy: 7.3134e-01 at 0 epoch\n",
      "tensor(0.5857, device='cuda:0')\n",
      "Testing width=[13, 5, 1], lamb=1e-06, grid=6\n",
      "checkpoint directory created: ./model\n",
      "saving model version 0.0\n"
     ]
    },
    {
     "name": "stderr",
     "output_type": "stream",
     "text": [
      " train_acc_kan: 1.00e+00 | val_acc_kan: 6.42e-01 |: 100%|███████████| 20/20 [00:05<00:00,  3.93it/s]\n"
     ]
    },
    {
     "name": "stdout",
     "output_type": "stream",
     "text": [
      "saving model version 0.1\n",
      "✅ Best validation Accuracy: 7.3134e-01 at 0 epoch\n",
      "tensor(0.5714, device='cuda:0')\n",
      "Testing width=[13, 5, 1], lamb=1e-07, grid=6\n",
      "checkpoint directory created: ./model\n",
      "saving model version 0.0\n"
     ]
    },
    {
     "name": "stderr",
     "output_type": "stream",
     "text": [
      " train_acc_kan: 1.00e+00 | val_acc_kan: 5.97e-01 |: 100%|███████████| 20/20 [00:04<00:00,  4.16it/s]\n"
     ]
    },
    {
     "name": "stdout",
     "output_type": "stream",
     "text": [
      "saving model version 0.1\n",
      "✅ Best validation Accuracy: 7.3134e-01 at 0 epoch\n",
      "tensor(0.5714, device='cuda:0')\n",
      "Testing width=[13, 6, 1], lamb=0.1, grid=3\n",
      "checkpoint directory created: ./model\n",
      "saving model version 0.0\n"
     ]
    },
    {
     "name": "stderr",
     "output_type": "stream",
     "text": [
      " train_acc_kan: 5.12e-01 | val_acc_kan: 4.18e-01 |: 100%|███████████| 20/20 [00:03<00:00,  5.55it/s]\n"
     ]
    },
    {
     "name": "stdout",
     "output_type": "stream",
     "text": [
      "saving model version 0.1\n",
      "✅ Best validation Accuracy: 5.3731e-01 at 0 epoch\n",
      "tensor(0.6000, device='cuda:0')\n",
      "Testing width=[13, 6, 1], lamb=0.01, grid=3\n",
      "checkpoint directory created: ./model\n",
      "saving model version 0.0\n"
     ]
    },
    {
     "name": "stderr",
     "output_type": "stream",
     "text": [
      " train_acc_kan: 5.12e-01 | val_acc_kan: 4.18e-01 |: 100%|███████████| 20/20 [00:03<00:00,  6.37it/s]\n"
     ]
    },
    {
     "name": "stdout",
     "output_type": "stream",
     "text": [
      "saving model version 0.1\n",
      "✅ Best validation Accuracy: 4.6269e-01 at 0 epoch\n",
      "tensor(0.4000, device='cuda:0')\n",
      "Testing width=[13, 6, 1], lamb=0.001, grid=3\n",
      "checkpoint directory created: ./model\n",
      "saving model version 0.0\n"
     ]
    },
    {
     "name": "stderr",
     "output_type": "stream",
     "text": [
      " train_acc_kan: 1.00e+00 | val_acc_kan: 6.42e-01 |: 100%|███████████| 20/20 [00:04<00:00,  4.35it/s]\n"
     ]
    },
    {
     "name": "stdout",
     "output_type": "stream",
     "text": [
      "saving model version 0.1\n",
      "✅ Best validation Accuracy: 6.8657e-01 at 0 epoch\n",
      "tensor(0.6286, device='cuda:0')\n",
      "Testing width=[13, 6, 1], lamb=0.0001, grid=3\n",
      "checkpoint directory created: ./model\n",
      "saving model version 0.0\n"
     ]
    },
    {
     "name": "stderr",
     "output_type": "stream",
     "text": [
      " train_acc_kan: 1.00e+00 | val_acc_kan: 5.97e-01 |: 100%|███████████| 20/20 [00:04<00:00,  4.28it/s]\n"
     ]
    },
    {
     "name": "stdout",
     "output_type": "stream",
     "text": [
      "saving model version 0.1\n",
      "✅ Best validation Accuracy: 6.2687e-01 at 0 epoch\n",
      "tensor(0.6286, device='cuda:0')\n",
      "Testing width=[13, 6, 1], lamb=1e-05, grid=3\n",
      "checkpoint directory created: ./model\n",
      "saving model version 0.0\n"
     ]
    },
    {
     "name": "stderr",
     "output_type": "stream",
     "text": [
      " train_acc_kan: 1.00e+00 | val_acc_kan: 6.12e-01 |: 100%|███████████| 20/20 [00:04<00:00,  4.29it/s]\n"
     ]
    },
    {
     "name": "stdout",
     "output_type": "stream",
     "text": [
      "saving model version 0.1\n",
      "✅ Best validation Accuracy: 6.5672e-01 at 4 epoch\n",
      "tensor(0.5571, device='cuda:0')\n",
      "Testing width=[13, 6, 1], lamb=1e-06, grid=3\n",
      "checkpoint directory created: ./model\n",
      "saving model version 0.0\n"
     ]
    },
    {
     "name": "stderr",
     "output_type": "stream",
     "text": [
      " train_acc_kan: 1.00e+00 | val_acc_kan: 6.42e-01 |: 100%|███████████| 20/20 [00:04<00:00,  4.23it/s]\n"
     ]
    },
    {
     "name": "stdout",
     "output_type": "stream",
     "text": [
      "saving model version 0.1\n",
      "✅ Best validation Accuracy: 6.7164e-01 at 17 epoch\n",
      "tensor(0.6000, device='cuda:0')\n",
      "Testing width=[13, 6, 1], lamb=1e-07, grid=3\n",
      "checkpoint directory created: ./model\n",
      "saving model version 0.0\n"
     ]
    },
    {
     "name": "stderr",
     "output_type": "stream",
     "text": [
      " train_acc_kan: 1.00e+00 | val_acc_kan: 6.42e-01 |: 100%|███████████| 20/20 [00:05<00:00,  3.90it/s]\n"
     ]
    },
    {
     "name": "stdout",
     "output_type": "stream",
     "text": [
      "saving model version 0.1\n",
      "✅ Best validation Accuracy: 7.1642e-01 at 13 epoch\n",
      "tensor(0.6429, device='cuda:0')\n",
      "Testing width=[13, 6, 1], lamb=0.1, grid=4\n",
      "checkpoint directory created: ./model\n",
      "saving model version 0.0\n"
     ]
    },
    {
     "name": "stderr",
     "output_type": "stream",
     "text": [
      " train_acc_kan: 5.12e-01 | val_acc_kan: 4.18e-01 |: 100%|███████████| 20/20 [00:04<00:00,  4.71it/s]\n"
     ]
    },
    {
     "name": "stdout",
     "output_type": "stream",
     "text": [
      "saving model version 0.1\n",
      "✅ Best validation Accuracy: 5.3731e-01 at 0 epoch\n",
      "tensor(0.6000, device='cuda:0')\n",
      "Testing width=[13, 6, 1], lamb=0.01, grid=4\n",
      "checkpoint directory created: ./model\n",
      "saving model version 0.0\n"
     ]
    },
    {
     "name": "stderr",
     "output_type": "stream",
     "text": [
      " train_acc_kan: 8.53e-01 | val_acc_kan: 5.52e-01 |: 100%|███████████| 20/20 [00:05<00:00,  3.94it/s]\n"
     ]
    },
    {
     "name": "stdout",
     "output_type": "stream",
     "text": [
      "saving model version 0.1\n",
      "✅ Best validation Accuracy: 6.8657e-01 at 0 epoch\n",
      "tensor(0.6000, device='cuda:0')\n",
      "Testing width=[13, 6, 1], lamb=0.001, grid=4\n",
      "checkpoint directory created: ./model\n",
      "saving model version 0.0\n"
     ]
    },
    {
     "name": "stderr",
     "output_type": "stream",
     "text": [
      " train_acc_kan: 1.00e+00 | val_acc_kan: 5.97e-01 |: 100%|███████████| 20/20 [00:05<00:00,  3.87it/s]\n"
     ]
    },
    {
     "name": "stdout",
     "output_type": "stream",
     "text": [
      "saving model version 0.1\n",
      "✅ Best validation Accuracy: 7.0149e-01 at 3 epoch\n",
      "tensor(0.5857, device='cuda:0')\n",
      "Testing width=[13, 6, 1], lamb=0.0001, grid=4\n",
      "checkpoint directory created: ./model\n",
      "saving model version 0.0\n"
     ]
    },
    {
     "name": "stderr",
     "output_type": "stream",
     "text": [
      " train_acc_kan: 1.00e+00 | val_acc_kan: 4.78e-01 |: 100%|███████████| 20/20 [00:04<00:00,  4.24it/s]\n"
     ]
    },
    {
     "name": "stdout",
     "output_type": "stream",
     "text": [
      "saving model version 0.1\n",
      "✅ Best validation Accuracy: 6.2687e-01 at 5 epoch\n",
      "tensor(0.5286, device='cuda:0')\n",
      "Testing width=[13, 6, 1], lamb=1e-05, grid=4\n",
      "checkpoint directory created: ./model\n",
      "saving model version 0.0\n"
     ]
    },
    {
     "name": "stderr",
     "output_type": "stream",
     "text": [
      " train_acc_kan: 1.00e+00 | val_acc_kan: 4.63e-01 |: 100%|███████████| 20/20 [00:04<00:00,  4.21it/s]\n"
     ]
    },
    {
     "name": "stdout",
     "output_type": "stream",
     "text": [
      "saving model version 0.1\n",
      "✅ Best validation Accuracy: 5.9701e-01 at 0 epoch\n",
      "tensor(0.5714, device='cuda:0')\n",
      "Testing width=[13, 6, 1], lamb=1e-06, grid=4\n",
      "checkpoint directory created: ./model\n",
      "saving model version 0.0\n"
     ]
    },
    {
     "name": "stderr",
     "output_type": "stream",
     "text": [
      " train_acc_kan: 1.00e+00 | val_acc_kan: 5.22e-01 |: 100%|███████████| 20/20 [00:04<00:00,  4.25it/s]\n"
     ]
    },
    {
     "name": "stdout",
     "output_type": "stream",
     "text": [
      "saving model version 0.1\n",
      "✅ Best validation Accuracy: 6.4179e-01 at 6 epoch\n",
      "tensor(0.5429, device='cuda:0')\n",
      "Testing width=[13, 6, 1], lamb=1e-07, grid=4\n",
      "checkpoint directory created: ./model\n",
      "saving model version 0.0\n"
     ]
    },
    {
     "name": "stderr",
     "output_type": "stream",
     "text": [
      " train_acc_kan: 1.00e+00 | val_acc_kan: 5.22e-01 |: 100%|███████████| 20/20 [00:04<00:00,  4.24it/s]\n"
     ]
    },
    {
     "name": "stdout",
     "output_type": "stream",
     "text": [
      "saving model version 0.1\n",
      "✅ Best validation Accuracy: 6.1194e-01 at 5 epoch\n",
      "tensor(0.5714, device='cuda:0')\n",
      "Testing width=[13, 6, 1], lamb=0.1, grid=5\n",
      "checkpoint directory created: ./model\n",
      "saving model version 0.0\n"
     ]
    },
    {
     "name": "stderr",
     "output_type": "stream",
     "text": [
      " train_acc_kan: 5.12e-01 | val_acc_kan: 4.48e-01 |: 100%|███████████| 20/20 [00:04<00:00,  4.24it/s]\n"
     ]
    },
    {
     "name": "stdout",
     "output_type": "stream",
     "text": [
      "saving model version 0.1\n",
      "✅ Best validation Accuracy: 5.3731e-01 at 0 epoch\n",
      "tensor(0.6000, device='cuda:0')\n",
      "Testing width=[13, 6, 1], lamb=0.01, grid=5\n",
      "checkpoint directory created: ./model\n",
      "saving model version 0.0\n"
     ]
    },
    {
     "name": "stderr",
     "output_type": "stream",
     "text": [
      " train_acc_kan: 7.30e-01 | val_acc_kan: 7.01e-01 |: 100%|███████████| 20/20 [00:04<00:00,  4.26it/s]\n"
     ]
    },
    {
     "name": "stdout",
     "output_type": "stream",
     "text": [
      "saving model version 0.1\n",
      "✅ Best validation Accuracy: 7.0149e-01 at 19 epoch\n",
      "tensor(0.5714, device='cuda:0')\n",
      "Testing width=[13, 6, 1], lamb=0.001, grid=5\n",
      "checkpoint directory created: ./model\n",
      "saving model version 0.0\n"
     ]
    },
    {
     "name": "stderr",
     "output_type": "stream",
     "text": [
      " train_acc_kan: 1.00e+00 | val_acc_kan: 5.82e-01 |: 100%|███████████| 20/20 [00:04<00:00,  4.21it/s]\n"
     ]
    },
    {
     "name": "stdout",
     "output_type": "stream",
     "text": [
      "saving model version 0.1\n",
      "✅ Best validation Accuracy: 7.6119e-01 at 1 epoch\n",
      "tensor(0.6857, device='cuda:0')\n",
      "Testing width=[13, 6, 1], lamb=0.0001, grid=5\n",
      "checkpoint directory created: ./model\n",
      "saving model version 0.0\n"
     ]
    },
    {
     "name": "stderr",
     "output_type": "stream",
     "text": [
      " train_acc_kan: 1.00e+00 | val_acc_kan: 4.33e-01 |: 100%|███████████| 20/20 [00:04<00:00,  4.23it/s]\n"
     ]
    },
    {
     "name": "stdout",
     "output_type": "stream",
     "text": [
      "saving model version 0.1\n",
      "✅ Best validation Accuracy: 6.4179e-01 at 1 epoch\n",
      "tensor(0.6286, device='cuda:0')\n",
      "Testing width=[13, 6, 1], lamb=1e-05, grid=5\n",
      "checkpoint directory created: ./model\n",
      "saving model version 0.0\n"
     ]
    },
    {
     "name": "stderr",
     "output_type": "stream",
     "text": [
      " train_acc_kan: 1.00e+00 | val_acc_kan: 5.97e-01 |: 100%|███████████| 20/20 [00:04<00:00,  4.15it/s]\n"
     ]
    },
    {
     "name": "stdout",
     "output_type": "stream",
     "text": [
      "saving model version 0.1\n",
      "✅ Best validation Accuracy: 6.8657e-01 at 2 epoch\n",
      "tensor(0.5429, device='cuda:0')\n",
      "Testing width=[13, 6, 1], lamb=1e-06, grid=5\n",
      "checkpoint directory created: ./model\n",
      "saving model version 0.0\n"
     ]
    },
    {
     "name": "stderr",
     "output_type": "stream",
     "text": [
      " train_acc_kan: 1.00e+00 | val_acc_kan: 5.82e-01 |: 100%|███████████| 20/20 [00:05<00:00,  3.96it/s]\n"
     ]
    },
    {
     "name": "stdout",
     "output_type": "stream",
     "text": [
      "saving model version 0.1\n",
      "✅ Best validation Accuracy: 6.4179e-01 at 3 epoch\n",
      "tensor(0.5000, device='cuda:0')\n",
      "Testing width=[13, 6, 1], lamb=1e-07, grid=5\n",
      "checkpoint directory created: ./model\n",
      "saving model version 0.0\n"
     ]
    },
    {
     "name": "stderr",
     "output_type": "stream",
     "text": [
      " train_acc_kan: 1.00e+00 | val_acc_kan: 5.07e-01 |: 100%|███████████| 20/20 [00:04<00:00,  4.03it/s]\n"
     ]
    },
    {
     "name": "stdout",
     "output_type": "stream",
     "text": [
      "saving model version 0.1\n",
      "✅ Best validation Accuracy: 6.5672e-01 at 4 epoch\n",
      "tensor(0.5286, device='cuda:0')\n",
      "Testing width=[13, 6, 1], lamb=0.1, grid=6\n",
      "checkpoint directory created: ./model\n",
      "saving model version 0.0\n"
     ]
    },
    {
     "name": "stderr",
     "output_type": "stream",
     "text": [
      " train_acc_kan: 5.12e-01 | val_acc_kan: 4.33e-01 |: 100%|███████████| 20/20 [00:05<00:00,  3.98it/s]\n"
     ]
    },
    {
     "name": "stdout",
     "output_type": "stream",
     "text": [
      "saving model version 0.1\n",
      "✅ Best validation Accuracy: 5.3731e-01 at 0 epoch\n",
      "tensor(0.6000, device='cuda:0')\n",
      "Testing width=[13, 6, 1], lamb=0.01, grid=6\n",
      "checkpoint directory created: ./model\n",
      "saving model version 0.0\n"
     ]
    },
    {
     "name": "stderr",
     "output_type": "stream",
     "text": [
      " train_acc_kan: 5.12e-01 | val_acc_kan: 4.18e-01 |: 100%|███████████| 20/20 [00:04<00:00,  4.29it/s]\n"
     ]
    },
    {
     "name": "stdout",
     "output_type": "stream",
     "text": [
      "saving model version 0.1\n",
      "✅ Best validation Accuracy: 4.6269e-01 at 0 epoch\n",
      "tensor(0.4000, device='cuda:0')\n",
      "Testing width=[13, 6, 1], lamb=0.001, grid=6\n",
      "checkpoint directory created: ./model\n",
      "saving model version 0.0\n"
     ]
    },
    {
     "name": "stderr",
     "output_type": "stream",
     "text": [
      " train_acc_kan: 1.00e+00 | val_acc_kan: 5.52e-01 |: 100%|███████████| 20/20 [00:06<00:00,  3.27it/s]\n"
     ]
    },
    {
     "name": "stdout",
     "output_type": "stream",
     "text": [
      "saving model version 0.1\n",
      "✅ Best validation Accuracy: 7.4627e-01 at 0 epoch\n",
      "tensor(0.6714, device='cuda:0')\n",
      "Testing width=[13, 6, 1], lamb=0.0001, grid=6\n",
      "checkpoint directory created: ./model\n",
      "saving model version 0.0\n"
     ]
    },
    {
     "name": "stderr",
     "output_type": "stream",
     "text": [
      " train_acc_kan: 1.00e+00 | val_acc_kan: 5.37e-01 |: 100%|███████████| 20/20 [00:06<00:00,  3.28it/s]\n"
     ]
    },
    {
     "name": "stdout",
     "output_type": "stream",
     "text": [
      "saving model version 0.1\n",
      "✅ Best validation Accuracy: 6.7164e-01 at 0 epoch\n",
      "tensor(0.5429, device='cuda:0')\n",
      "Testing width=[13, 6, 1], lamb=1e-05, grid=6\n",
      "checkpoint directory created: ./model\n",
      "saving model version 0.0\n"
     ]
    },
    {
     "name": "stderr",
     "output_type": "stream",
     "text": [
      " train_acc_kan: 1.00e+00 | val_acc_kan: 5.52e-01 |: 100%|███████████| 20/20 [00:06<00:00,  3.31it/s]\n"
     ]
    },
    {
     "name": "stdout",
     "output_type": "stream",
     "text": [
      "saving model version 0.1\n",
      "✅ Best validation Accuracy: 6.7164e-01 at 0 epoch\n",
      "tensor(0.6143, device='cuda:0')\n",
      "Testing width=[13, 6, 1], lamb=1e-06, grid=6\n",
      "checkpoint directory created: ./model\n",
      "saving model version 0.0\n"
     ]
    },
    {
     "name": "stderr",
     "output_type": "stream",
     "text": [
      " train_acc_kan: 1.00e+00 | val_acc_kan: 5.52e-01 |: 100%|███████████| 20/20 [00:06<00:00,  3.22it/s]\n"
     ]
    },
    {
     "name": "stdout",
     "output_type": "stream",
     "text": [
      "saving model version 0.1\n",
      "✅ Best validation Accuracy: 7.1642e-01 at 0 epoch\n",
      "tensor(0.5714, device='cuda:0')\n",
      "Testing width=[13, 6, 1], lamb=1e-07, grid=6\n",
      "checkpoint directory created: ./model\n",
      "saving model version 0.0\n"
     ]
    },
    {
     "name": "stderr",
     "output_type": "stream",
     "text": [
      " train_acc_kan: 1.00e+00 | val_acc_kan: 6.12e-01 |: 100%|███████████| 20/20 [00:05<00:00,  3.36it/s]\n"
     ]
    },
    {
     "name": "stdout",
     "output_type": "stream",
     "text": [
      "saving model version 0.1\n",
      "✅ Best validation Accuracy: 7.1642e-01 at 0 epoch\n",
      "tensor(0.5714, device='cuda:0')\n",
      "Testing width=[13, 7, 1], lamb=0.1, grid=3\n",
      "checkpoint directory created: ./model\n",
      "saving model version 0.0\n"
     ]
    },
    {
     "name": "stderr",
     "output_type": "stream",
     "text": [
      " train_acc_kan: 5.12e-01 | val_acc_kan: 4.48e-01 |: 100%|███████████| 20/20 [00:05<00:00,  3.67it/s]\n"
     ]
    },
    {
     "name": "stdout",
     "output_type": "stream",
     "text": [
      "saving model version 0.1\n",
      "✅ Best validation Accuracy: 5.3731e-01 at 0 epoch\n",
      "tensor(0.6000, device='cuda:0')\n",
      "Testing width=[13, 7, 1], lamb=0.01, grid=3\n",
      "checkpoint directory created: ./model\n",
      "saving model version 0.0\n"
     ]
    },
    {
     "name": "stderr",
     "output_type": "stream",
     "text": [
      " train_acc_kan: 5.12e-01 | val_acc_kan: 4.33e-01 |: 100%|███████████| 20/20 [00:03<00:00,  5.38it/s]\n"
     ]
    },
    {
     "name": "stdout",
     "output_type": "stream",
     "text": [
      "saving model version 0.1\n",
      "✅ Best validation Accuracy: 4.6269e-01 at 1 epoch\n",
      "tensor(0.4000, device='cuda:0')\n",
      "Testing width=[13, 7, 1], lamb=0.001, grid=3\n",
      "checkpoint directory created: ./model\n",
      "saving model version 0.0\n"
     ]
    },
    {
     "name": "stderr",
     "output_type": "stream",
     "text": [
      " train_acc_kan: 1.00e+00 | val_acc_kan: 5.82e-01 |: 100%|███████████| 20/20 [00:06<00:00,  3.30it/s]\n"
     ]
    },
    {
     "name": "stdout",
     "output_type": "stream",
     "text": [
      "saving model version 0.1\n",
      "✅ Best validation Accuracy: 6.4179e-01 at 7 epoch\n",
      "tensor(0.6143, device='cuda:0')\n",
      "Testing width=[13, 7, 1], lamb=0.0001, grid=3\n",
      "checkpoint directory created: ./model\n",
      "saving model version 0.0\n"
     ]
    },
    {
     "name": "stderr",
     "output_type": "stream",
     "text": [
      " train_acc_kan: 1.00e+00 | val_acc_kan: 5.82e-01 |: 100%|███████████| 20/20 [00:05<00:00,  3.43it/s]\n"
     ]
    },
    {
     "name": "stdout",
     "output_type": "stream",
     "text": [
      "saving model version 0.1\n",
      "✅ Best validation Accuracy: 6.4179e-01 at 0 epoch\n",
      "tensor(0.7000, device='cuda:0')\n",
      "Testing width=[13, 7, 1], lamb=1e-05, grid=3\n",
      "checkpoint directory created: ./model\n",
      "saving model version 0.0\n"
     ]
    },
    {
     "name": "stderr",
     "output_type": "stream",
     "text": [
      " train_acc_kan: 1.00e+00 | val_acc_kan: 6.27e-01 |: 100%|███████████| 20/20 [00:05<00:00,  3.97it/s]\n"
     ]
    },
    {
     "name": "stdout",
     "output_type": "stream",
     "text": [
      "saving model version 0.1\n",
      "✅ Best validation Accuracy: 6.5672e-01 at 0 epoch\n",
      "tensor(0.6571, device='cuda:0')\n",
      "Testing width=[13, 7, 1], lamb=1e-06, grid=3\n",
      "checkpoint directory created: ./model\n",
      "saving model version 0.0\n"
     ]
    },
    {
     "name": "stderr",
     "output_type": "stream",
     "text": [
      " train_acc_kan: 1.00e+00 | val_acc_kan: 6.72e-01 |: 100%|███████████| 20/20 [00:05<00:00,  3.59it/s]\n"
     ]
    },
    {
     "name": "stdout",
     "output_type": "stream",
     "text": [
      "saving model version 0.1\n",
      "✅ Best validation Accuracy: 6.7164e-01 at 19 epoch\n",
      "tensor(0.4714, device='cuda:0')\n",
      "Testing width=[13, 7, 1], lamb=1e-07, grid=3\n",
      "checkpoint directory created: ./model\n",
      "saving model version 0.0\n"
     ]
    },
    {
     "name": "stderr",
     "output_type": "stream",
     "text": [
      " train_acc_kan: 1.00e+00 | val_acc_kan: 5.97e-01 |: 100%|███████████| 20/20 [00:05<00:00,  3.88it/s]\n"
     ]
    },
    {
     "name": "stdout",
     "output_type": "stream",
     "text": [
      "saving model version 0.1\n",
      "✅ Best validation Accuracy: 6.5672e-01 at 0 epoch\n",
      "tensor(0.6714, device='cuda:0')\n",
      "Testing width=[13, 7, 1], lamb=0.1, grid=4\n",
      "checkpoint directory created: ./model\n",
      "saving model version 0.0\n"
     ]
    },
    {
     "name": "stderr",
     "output_type": "stream",
     "text": [
      " train_acc_kan: 5.12e-01 | val_acc_kan: 4.33e-01 |: 100%|███████████| 20/20 [00:04<00:00,  4.38it/s]\n"
     ]
    },
    {
     "name": "stdout",
     "output_type": "stream",
     "text": [
      "saving model version 0.1\n",
      "✅ Best validation Accuracy: 5.3731e-01 at 0 epoch\n",
      "tensor(0.6000, device='cuda:0')\n",
      "Testing width=[13, 7, 1], lamb=0.01, grid=4\n",
      "checkpoint directory created: ./model\n",
      "saving model version 0.0\n"
     ]
    },
    {
     "name": "stderr",
     "output_type": "stream",
     "text": [
      " train_acc_kan: 5.12e-01 | val_acc_kan: 4.33e-01 |: 100%|███████████| 20/20 [00:04<00:00,  4.12it/s]\n"
     ]
    },
    {
     "name": "stdout",
     "output_type": "stream",
     "text": [
      "saving model version 0.1\n",
      "✅ Best validation Accuracy: 4.6269e-01 at 0 epoch\n",
      "tensor(0.4000, device='cuda:0')\n",
      "Testing width=[13, 7, 1], lamb=0.001, grid=4\n",
      "checkpoint directory created: ./model\n",
      "saving model version 0.0\n"
     ]
    },
    {
     "name": "stderr",
     "output_type": "stream",
     "text": [
      " train_acc_kan: 1.00e+00 | val_acc_kan: 4.48e-01 |: 100%|███████████| 20/20 [00:05<00:00,  3.75it/s]\n"
     ]
    },
    {
     "name": "stdout",
     "output_type": "stream",
     "text": [
      "saving model version 0.1\n",
      "✅ Best validation Accuracy: 7.1642e-01 at 0 epoch\n",
      "tensor(0.7000, device='cuda:0')\n",
      "Testing width=[13, 7, 1], lamb=0.0001, grid=4\n",
      "checkpoint directory created: ./model\n",
      "saving model version 0.0\n"
     ]
    },
    {
     "name": "stderr",
     "output_type": "stream",
     "text": [
      " train_acc_kan: 1.00e+00 | val_acc_kan: 6.42e-01 |: 100%|███████████| 20/20 [00:05<00:00,  3.36it/s]\n"
     ]
    },
    {
     "name": "stdout",
     "output_type": "stream",
     "text": [
      "saving model version 0.1\n",
      "✅ Best validation Accuracy: 6.7164e-01 at 0 epoch\n",
      "tensor(0.6286, device='cuda:0')\n",
      "Testing width=[13, 7, 1], lamb=1e-05, grid=4\n",
      "checkpoint directory created: ./model\n",
      "saving model version 0.0\n"
     ]
    },
    {
     "name": "stderr",
     "output_type": "stream",
     "text": [
      " train_acc_kan: 1.00e+00 | val_acc_kan: 5.67e-01 |: 100%|███████████| 20/20 [00:04<00:00,  4.03it/s]\n"
     ]
    },
    {
     "name": "stdout",
     "output_type": "stream",
     "text": [
      "saving model version 0.1\n",
      "✅ Best validation Accuracy: 6.5672e-01 at 0 epoch\n",
      "tensor(0.6571, device='cuda:0')\n",
      "Testing width=[13, 7, 1], lamb=1e-06, grid=4\n",
      "checkpoint directory created: ./model\n",
      "saving model version 0.0\n"
     ]
    },
    {
     "name": "stderr",
     "output_type": "stream",
     "text": [
      " train_acc_kan: 1.00e+00 | val_acc_kan: 5.22e-01 |: 100%|███████████| 20/20 [00:04<00:00,  4.15it/s]\n"
     ]
    },
    {
     "name": "stdout",
     "output_type": "stream",
     "text": [
      "saving model version 0.1\n",
      "✅ Best validation Accuracy: 6.8657e-01 at 0 epoch\n",
      "tensor(0.6714, device='cuda:0')\n",
      "Testing width=[13, 7, 1], lamb=1e-07, grid=4\n",
      "checkpoint directory created: ./model\n",
      "saving model version 0.0\n"
     ]
    },
    {
     "name": "stderr",
     "output_type": "stream",
     "text": [
      " train_acc_kan: 1.00e+00 | val_acc_kan: 6.57e-01 |: 100%|███████████| 20/20 [00:05<00:00,  3.81it/s]\n"
     ]
    },
    {
     "name": "stdout",
     "output_type": "stream",
     "text": [
      "saving model version 0.1\n",
      "✅ Best validation Accuracy: 6.7164e-01 at 9 epoch\n",
      "tensor(0.5571, device='cuda:0')\n",
      "Testing width=[13, 7, 1], lamb=0.1, grid=5\n",
      "checkpoint directory created: ./model\n",
      "saving model version 0.0\n"
     ]
    },
    {
     "name": "stderr",
     "output_type": "stream",
     "text": [
      " train_acc_kan: 5.12e-01 | val_acc_kan: 4.18e-01 |: 100%|███████████| 20/20 [00:05<00:00,  3.85it/s]\n"
     ]
    },
    {
     "name": "stdout",
     "output_type": "stream",
     "text": [
      "saving model version 0.1\n",
      "✅ Best validation Accuracy: 5.3731e-01 at 0 epoch\n",
      "tensor(0.6000, device='cuda:0')\n",
      "Testing width=[13, 7, 1], lamb=0.01, grid=5\n",
      "checkpoint directory created: ./model\n",
      "saving model version 0.0\n"
     ]
    },
    {
     "name": "stderr",
     "output_type": "stream",
     "text": [
      " train_acc_kan: 5.12e-01 | val_acc_kan: 4.18e-01 |: 100%|███████████| 20/20 [00:05<00:00,  3.69it/s]\n"
     ]
    },
    {
     "name": "stdout",
     "output_type": "stream",
     "text": [
      "saving model version 0.1\n",
      "✅ Best validation Accuracy: 4.6269e-01 at 1 epoch\n",
      "tensor(0.4000, device='cuda:0')\n",
      "Testing width=[13, 7, 1], lamb=0.001, grid=5\n",
      "checkpoint directory created: ./model\n",
      "saving model version 0.0\n"
     ]
    },
    {
     "name": "stderr",
     "output_type": "stream",
     "text": [
      " train_acc_kan: 1.00e+00 | val_acc_kan: 5.22e-01 |: 100%|███████████| 20/20 [00:04<00:00,  4.30it/s]\n"
     ]
    },
    {
     "name": "stdout",
     "output_type": "stream",
     "text": [
      "saving model version 0.1\n",
      "✅ Best validation Accuracy: 6.4179e-01 at 0 epoch\n",
      "tensor(0.6000, device='cuda:0')\n",
      "Testing width=[13, 7, 1], lamb=0.0001, grid=5\n",
      "checkpoint directory created: ./model\n",
      "saving model version 0.0\n"
     ]
    },
    {
     "name": "stderr",
     "output_type": "stream",
     "text": [
      " train_acc_kan: 1.00e+00 | val_acc_kan: 5.37e-01 |: 100%|███████████| 20/20 [00:04<00:00,  4.13it/s]\n"
     ]
    },
    {
     "name": "stdout",
     "output_type": "stream",
     "text": [
      "saving model version 0.1\n",
      "✅ Best validation Accuracy: 6.1194e-01 at 0 epoch\n",
      "tensor(0.5429, device='cuda:0')\n",
      "Testing width=[13, 7, 1], lamb=1e-05, grid=5\n",
      "checkpoint directory created: ./model\n",
      "saving model version 0.0\n"
     ]
    },
    {
     "name": "stderr",
     "output_type": "stream",
     "text": [
      " train_acc_kan: 1.00e+00 | val_acc_kan: 5.22e-01 |: 100%|███████████| 20/20 [00:04<00:00,  4.24it/s]\n"
     ]
    },
    {
     "name": "stdout",
     "output_type": "stream",
     "text": [
      "saving model version 0.1\n",
      "✅ Best validation Accuracy: 6.4179e-01 at 0 epoch\n",
      "tensor(0.5714, device='cuda:0')\n",
      "Testing width=[13, 7, 1], lamb=1e-06, grid=5\n",
      "checkpoint directory created: ./model\n",
      "saving model version 0.0\n"
     ]
    },
    {
     "name": "stderr",
     "output_type": "stream",
     "text": [
      " train_acc_kan: 1.00e+00 | val_acc_kan: 5.37e-01 |: 100%|███████████| 20/20 [00:04<00:00,  4.10it/s]\n"
     ]
    },
    {
     "name": "stdout",
     "output_type": "stream",
     "text": [
      "saving model version 0.1\n",
      "✅ Best validation Accuracy: 7.1642e-01 at 2 epoch\n",
      "tensor(0.5429, device='cuda:0')\n",
      "Testing width=[13, 7, 1], lamb=1e-07, grid=5\n",
      "checkpoint directory created: ./model\n",
      "saving model version 0.0\n"
     ]
    },
    {
     "name": "stderr",
     "output_type": "stream",
     "text": [
      " train_acc_kan: 1.00e+00 | val_acc_kan: 5.67e-01 |: 100%|███████████| 20/20 [00:04<00:00,  4.12it/s]\n"
     ]
    },
    {
     "name": "stdout",
     "output_type": "stream",
     "text": [
      "saving model version 0.1\n",
      "✅ Best validation Accuracy: 6.1194e-01 at 2 epoch\n",
      "tensor(0.6429, device='cuda:0')\n",
      "Testing width=[13, 7, 1], lamb=0.1, grid=6\n",
      "checkpoint directory created: ./model\n",
      "saving model version 0.0\n"
     ]
    },
    {
     "name": "stderr",
     "output_type": "stream",
     "text": [
      " train_acc_kan: 5.12e-01 | val_acc_kan: 4.33e-01 |: 100%|███████████| 20/20 [00:04<00:00,  4.62it/s]\n"
     ]
    },
    {
     "name": "stdout",
     "output_type": "stream",
     "text": [
      "saving model version 0.1\n",
      "✅ Best validation Accuracy: 5.3731e-01 at 0 epoch\n",
      "tensor(0.6000, device='cuda:0')\n",
      "Testing width=[13, 7, 1], lamb=0.01, grid=6\n",
      "checkpoint directory created: ./model\n",
      "saving model version 0.0\n"
     ]
    },
    {
     "name": "stderr",
     "output_type": "stream",
     "text": [
      " train_acc_kan: 9.13e-01 | val_acc_kan: 5.67e-01 |: 100%|███████████| 20/20 [00:04<00:00,  4.17it/s]\n"
     ]
    },
    {
     "name": "stdout",
     "output_type": "stream",
     "text": [
      "saving model version 0.1\n",
      "✅ Best validation Accuracy: 6.4179e-01 at 0 epoch\n",
      "tensor(0.5571, device='cuda:0')\n",
      "Testing width=[13, 7, 1], lamb=0.001, grid=6\n",
      "checkpoint directory created: ./model\n",
      "saving model version 0.0\n"
     ]
    },
    {
     "name": "stderr",
     "output_type": "stream",
     "text": [
      " train_acc_kan: 1.00e+00 | val_acc_kan: 5.37e-01 |: 100%|███████████| 20/20 [00:05<00:00,  3.90it/s]\n"
     ]
    },
    {
     "name": "stdout",
     "output_type": "stream",
     "text": [
      "saving model version 0.1\n",
      "✅ Best validation Accuracy: 6.1194e-01 at 0 epoch\n",
      "tensor(0.6857, device='cuda:0')\n",
      "Testing width=[13, 7, 1], lamb=0.0001, grid=6\n",
      "checkpoint directory created: ./model\n",
      "saving model version 0.0\n"
     ]
    },
    {
     "name": "stderr",
     "output_type": "stream",
     "text": [
      " train_acc_kan: 1.00e+00 | val_acc_kan: 5.37e-01 |: 100%|███████████| 20/20 [00:05<00:00,  3.98it/s]\n"
     ]
    },
    {
     "name": "stdout",
     "output_type": "stream",
     "text": [
      "saving model version 0.1\n",
      "✅ Best validation Accuracy: 6.1194e-01 at 13 epoch\n",
      "tensor(0.4429, device='cuda:0')\n",
      "Testing width=[13, 7, 1], lamb=1e-05, grid=6\n",
      "checkpoint directory created: ./model\n",
      "saving model version 0.0\n"
     ]
    },
    {
     "name": "stderr",
     "output_type": "stream",
     "text": [
      " train_acc_kan: 1.00e+00 | val_acc_kan: 4.18e-01 |: 100%|███████████| 20/20 [00:04<00:00,  4.16it/s]\n"
     ]
    },
    {
     "name": "stdout",
     "output_type": "stream",
     "text": [
      "saving model version 0.1\n",
      "✅ Best validation Accuracy: 5.5224e-01 at 0 epoch\n",
      "tensor(0.6286, device='cuda:0')\n",
      "Testing width=[13, 7, 1], lamb=1e-06, grid=6\n",
      "checkpoint directory created: ./model\n",
      "saving model version 0.0\n"
     ]
    },
    {
     "name": "stderr",
     "output_type": "stream",
     "text": [
      " train_acc_kan: 1.00e+00 | val_acc_kan: 5.67e-01 |: 100%|███████████| 20/20 [00:05<00:00,  3.82it/s]\n"
     ]
    },
    {
     "name": "stdout",
     "output_type": "stream",
     "text": [
      "saving model version 0.1\n",
      "✅ Best validation Accuracy: 6.1194e-01 at 0 epoch\n",
      "tensor(0.7000, device='cuda:0')\n",
      "Testing width=[13, 7, 1], lamb=1e-07, grid=6\n",
      "checkpoint directory created: ./model\n",
      "saving model version 0.0\n"
     ]
    },
    {
     "name": "stderr",
     "output_type": "stream",
     "text": [
      " train_acc_kan: 1.00e+00 | val_acc_kan: 4.93e-01 |: 100%|███████████| 20/20 [00:05<00:00,  3.70it/s]"
     ]
    },
    {
     "name": "stdout",
     "output_type": "stream",
     "text": [
      "saving model version 0.1\n",
      "✅ Best validation Accuracy: 6.2687e-01 at 0 epoch\n",
      "tensor(0.7000, device='cuda:0')\n",
      "\n",
      "✅ Top 5 Configurations:\n",
      "1. width=[13, 1, 1], grid=3, lamb=0.001 | best_epoch=0 | acc_test=0.71429\n",
      "2. width=[13, 1, 1], grid=5, lamb=0.001 | best_epoch=0 | acc_test=0.71429\n",
      "3. width=[13, 1, 1], grid=5, lamb=1e-05 | best_epoch=0 | acc_test=0.71429\n",
      "4. width=[13, 4, 1], grid=3, lamb=0.001 | best_epoch=0 | acc_test=0.71429\n",
      "5. width=[13, 5, 1], grid=5, lamb=0.001 | best_epoch=0 | acc_test=0.71429\n"
     ]
    },
    {
     "name": "stderr",
     "output_type": "stream",
     "text": [
      "\n"
     ]
    }
   ],
   "source": [
    "top_models=grid_search_kan(dataset)"
   ]
  },
  {
   "cell_type": "markdown",
   "id": "8991146c-1b1e-4216-9e17-cf5c50ffe2b6",
   "metadata": {
    "jp-MarkdownHeadingCollapsed": true
   },
   "source": [
    "# Best KAN"
   ]
  },
  {
   "cell_type": "code",
   "execution_count": 148,
   "id": "cd7a9c12-4aa4-4310-8938-55207e4eddbe",
   "metadata": {},
   "outputs": [
    {
     "data": {
      "text/plain": [
       "218819"
      ]
     },
     "execution_count": 148,
     "metadata": {},
     "output_type": "execute_result"
    }
   ],
   "source": [
    "del model\n",
    "torch.cuda.empty_cache()\n",
    "gc.collect()"
   ]
  },
  {
   "cell_type": "code",
   "execution_count": 149,
   "id": "f89cd02f-9f4e-42ef-9702-0c71dba86d39",
   "metadata": {},
   "outputs": [],
   "source": [
    "def train_acc_kan():\n",
    "    rounded = torch.round(torch.round(model(dataset['train_input'])[:,0]))\n",
    "    clipped = torch.clamp(rounded, min=min_expected, max=max_expected)\n",
    "    return torch.mean((clipped == dataset['train_label'][:,0]).type(dtype))\n",
    "\n",
    "def val_acc_kan():\n",
    "    rounded = torch.round(torch.round(model(dataset['val_input'])[:,0]))\n",
    "    clipped = torch.clamp(rounded, min=min_expected, max=max_expected)\n",
    "    return torch.mean((clipped == dataset['val_label'][:,0]).type(dtype))"
   ]
  },
  {
   "cell_type": "markdown",
   "id": "86610540-a625-45c8-9592-e05e25ec838a",
   "metadata": {},
   "source": [
    "### 1. width=[13, 1, 1], grid=3, lamb=0.001 | best_epoch=0 | acc_test=0.71429"
   ]
  },
  {
   "cell_type": "code",
   "execution_count": 150,
   "id": "8eb57055-e824-40e8-9912-9251f9e9c119",
   "metadata": {},
   "outputs": [
    {
     "name": "stdout",
     "output_type": "stream",
     "text": [
      "checkpoint directory created: ./model\n",
      "saving model version 0.0\n"
     ]
    },
    {
     "name": "stderr",
     "output_type": "stream",
     "text": [
      " train_acc_kan: 8.21e-01 | val_acc_kan: 5.22e-01 |: 100%|███████████| 20/20 [00:05<00:00,  3.92it/s]"
     ]
    },
    {
     "name": "stdout",
     "output_type": "stream",
     "text": [
      "saving model version 0.1\n",
      "✅ Best validation Accuracy: 7.1642e-01 at 0 epoch\n",
      "tensor(0.6000, device='cuda:0')\n"
     ]
    },
    {
     "name": "stderr",
     "output_type": "stream",
     "text": [
      "\n"
     ]
    },
    {
     "data": {
      "image/png": "[encoded data removed]",
      "text/plain": [
       "<Figure size 640x480 with 1 Axes>"
      ]
     },
     "metadata": {},
     "output_type": "display_data"
    }
   ],
   "source": [
    "model = KAN(width=[attributes, 1, 1], grid=3, k=3, seed=381, device=device)\n",
    "best_model_state, results, _ = custom_fit(model, dataset, opt=\"LBFGS\", steps=20, lamb=0.001,\n",
    "                                          metrics=(train_acc_kan, val_acc_kan), display_metrics=['train_acc_kan', 'val_acc_kan'])\n",
    "plot_training_ACC(model, best_model_state, dataset['test_label'][:,0], model(dataset['test_input'])[:,0],\n",
    "                  results['train_acc_kan'], results['val_acc_kan'])"
   ]
  },
  {
   "cell_type": "code",
   "execution_count": 151,
   "id": "68e6f06c-1514-45da-b530-d33b76433d3c",
   "metadata": {},
   "outputs": [
    {
     "data": {
      "image/png": "[encoded data removed]",
      "text/plain": [
       "<Figure size 800x600 with 2 Axes>"
      ]
     },
     "metadata": {},
     "output_type": "display_data"
    }
   ],
   "source": [
    "plot_confusion_matrix(dataset['test_label'][:,0], model(dataset['test_input'])[:,0], title=\"Confusion Matrix\")"
   ]
  },
  {
   "cell_type": "code",
   "execution_count": 152,
   "id": "b0b9e761-39e4-49c4-b737-fc5671e7454e",
   "metadata": {},
   "outputs": [
    {
     "data": {
      "image/png": "[encoded data removed]",
      "text/plain": [
       "<Figure size 500x400 with 17 Axes>"
      ]
     },
     "metadata": {},
     "output_type": "display_data"
    }
   ],
   "source": [
    "model.plot()"
   ]
  },
  {
   "cell_type": "code",
   "execution_count": 153,
   "id": "88a6ccfa-3401-4445-9671-db6609d2ed4a",
   "metadata": {},
   "outputs": [
    {
     "data": {
      "image/png": "[encoded data removed]",
      "text/plain": [
       "<Figure size 1200x600 with 1 Axes>"
      ]
     },
     "metadata": {},
     "output_type": "display_data"
    }
   ],
   "source": [
    "plot_sorted_feature_importance(x_col, model.feature_score)"
   ]
  },
  {
   "cell_type": "markdown",
   "id": "de20fae3-d27d-45a4-a8fa-6692a824f373",
   "metadata": {},
   "source": [
    "### 2. width=[13, 1, 1], grid=5, lamb=0.001 | best_epoch=0 | acc_test=0.71429"
   ]
  },
  {
   "cell_type": "code",
   "execution_count": 154,
   "id": "4938cb72-d94a-4d22-ac81-8bb351c234a3",
   "metadata": {},
   "outputs": [
    {
     "data": {
      "text/plain": [
       "72175"
      ]
     },
     "execution_count": 154,
     "metadata": {},
     "output_type": "execute_result"
    }
   ],
   "source": [
    "del model\n",
    "torch.cuda.empty_cache()\n",
    "gc.collect()"
   ]
  },
  {
   "cell_type": "code",
   "execution_count": 155,
   "id": "928cd2a9-aaff-4a9a-a6d4-5a546ea6c2c4",
   "metadata": {},
   "outputs": [
    {
     "name": "stdout",
     "output_type": "stream",
     "text": [
      "checkpoint directory created: ./model\n",
      "saving model version 0.0\n"
     ]
    },
    {
     "name": "stderr",
     "output_type": "stream",
     "text": [
      " train_acc_kan: 8.93e-01 | val_acc_kan: 4.33e-01 |: 100%|███████████| 20/20 [00:05<00:00,  3.60it/s]"
     ]
    },
    {
     "name": "stdout",
     "output_type": "stream",
     "text": [
      "saving model version 0.1\n",
      "✅ Best validation Accuracy: 6.7164e-01 at 0 epoch\n",
      "tensor(0.4857, device='cuda:0')\n"
     ]
    },
    {
     "name": "stderr",
     "output_type": "stream",
     "text": [
      "\n"
     ]
    },
    {
     "data": {
      "image/png": "[encoded data removed]",
      "text/plain": [
       "<Figure size 640x480 with 1 Axes>"
      ]
     },
     "metadata": {},
     "output_type": "display_data"
    }
   ],
   "source": [
    "model = KAN(width=[attributes, 1, 1], grid=5, k=3, seed=381, device=device)\n",
    "best_model_state, results, _ = custom_fit(model, dataset, opt=\"LBFGS\", steps=20, lamb=0.001,\n",
    "                                          metrics=(train_acc_kan, val_acc_kan), display_metrics=['train_acc_kan', 'val_acc_kan'])\n",
    "plot_training_ACC(model, best_model_state, dataset['test_label'][:,0], model(dataset['test_input'])[:,0],\n",
    "                  results['train_acc_kan'], results['val_acc_kan'])"
   ]
  },
  {
   "cell_type": "code",
   "execution_count": 156,
   "id": "ba3675de-8abe-4fa6-a6ce-2fe5a911965a",
   "metadata": {},
   "outputs": [
    {
     "data": {
      "image/png": "[encoded data removed]",
      "text/plain": [
       "<Figure size 800x600 with 2 Axes>"
      ]
     },
     "metadata": {},
     "output_type": "display_data"
    }
   ],
   "source": [
    "plot_confusion_matrix(dataset['test_label'][:,0], model(dataset['test_input'])[:,0], title=\"Confusion Matrix\")"
   ]
  },
  {
   "cell_type": "code",
   "execution_count": 157,
   "id": "f9daf297-aee2-4af3-b92d-2a9f652e200c",
   "metadata": {},
   "outputs": [
    {
     "data": {
      "image/png": "[encoded data removed]",
      "text/plain": [
       "<Figure size 500x400 with 17 Axes>"
      ]
     },
     "metadata": {},
     "output_type": "display_data"
    }
   ],
   "source": [
    "model.plot()"
   ]
  },
  {
   "cell_type": "code",
   "execution_count": 158,
   "id": "8a458288-1a17-4c25-a522-aac2f1d3b91a",
   "metadata": {},
   "outputs": [
    {
     "data": {
      "image/png": "[encoded data removed]",
      "text/plain": [
       "<Figure size 1200x600 with 1 Axes>"
      ]
     },
     "metadata": {},
     "output_type": "display_data"
    }
   ],
   "source": [
    "plot_sorted_feature_importance(x_col, model.feature_score)"
   ]
  },
  {
   "cell_type": "markdown",
   "id": "2fce4f99-9c45-4e95-9800-cf8817abdb0c",
   "metadata": {},
   "source": [
    "# Best model from Grid Search"
   ]
  },
  {
   "cell_type": "code",
   "execution_count": 160,
   "id": "c940b176-0d5f-4e0f-abba-081137ef9f0d",
   "metadata": {},
   "outputs": [
    {
     "data": {
      "text/plain": [
       "71157"
      ]
     },
     "execution_count": 160,
     "metadata": {},
     "output_type": "execute_result"
    }
   ],
   "source": [
    "del model\n",
    "torch.cuda.empty_cache()\n",
    "gc.collect()"
   ]
  },
  {
   "cell_type": "code",
   "execution_count": 161,
   "id": "0f3c387c-c259-4ab6-94e1-a46b720a927d",
   "metadata": {},
   "outputs": [],
   "source": [
    "def get_best_model(top_models):\n",
    "    for i, entry in enumerate(top_models):\n",
    "        cfg = entry[\"config\"]\n",
    "        print(f\"{i+1}. width=[{attributes}, {cfg['hidden']}, {1}], grid={cfg['grid']}, lamb={cfg['lamb']} | best_epoch={entry['best_epoch']} | acc_test={entry['acc_test']:.5f}\")\n",
    "        model = KAN(width=[attributes, cfg['hidden'], 1], grid=cfg['grid'], k=3, seed=381, device=device)\n",
    "        model.load_state_dict(entry['state_dict'])\n",
    "        return model"
   ]
  },
  {
   "cell_type": "code",
   "execution_count": 162,
   "id": "be75abee-01dd-457c-a4fc-26d3004a51bc",
   "metadata": {},
   "outputs": [
    {
     "name": "stdout",
     "output_type": "stream",
     "text": [
      "1. width=[13, 1, 1], grid=3, lamb=0.001 | best_epoch=0 | acc_test=0.71429\n",
      "checkpoint directory created: ./model\n",
      "saving model version 0.0\n"
     ]
    }
   ],
   "source": [
    "model = get_best_model(top_models)"
   ]
  },
  {
   "cell_type": "code",
   "execution_count": 163,
   "id": "e1ff5b64-acb0-4490-9a1f-653700f74206",
   "metadata": {},
   "outputs": [
    {
     "name": "stdout",
     "output_type": "stream",
     "text": [
      "tensor(0.7143, device='cuda:0')\n"
     ]
    }
   ],
   "source": [
    "clipped = torch.clamp(torch.round(model(dataset['test_input'])[:,0]), min=min_expected, max=max_expected)\n",
    "acc = torch.mean((clipped == dataset['test_label'][:,0]).type(dtype))\n",
    "print(acc)"
   ]
  },
  {
   "cell_type": "code",
   "execution_count": 164,
   "id": "6340d940-b9fd-4599-b066-de2590a14793",
   "metadata": {},
   "outputs": [
    {
     "data": {
      "image/png": "[encoded data removed]",
      "text/plain": [
       "<Figure size 800x600 with 2 Axes>"
      ]
     },
     "metadata": {},
     "output_type": "display_data"
    }
   ],
   "source": [
    "plot_confusion_matrix(dataset['test_label'][:,0], model(dataset['test_input'])[:,0], title=\"Confusion Matrix\")"
   ]
  },
  {
   "cell_type": "code",
   "execution_count": 165,
   "id": "35309798-2f9e-4269-844e-4d9aa2236413",
   "metadata": {},
   "outputs": [
    {
     "data": {
      "image/png": "[encoded data removed]",
      "text/plain": [
       "<Figure size 500x400 with 17 Axes>"
      ]
     },
     "metadata": {},
     "output_type": "display_data"
    }
   ],
   "source": [
    "model.plot()"
   ]
  },
  {
   "cell_type": "code",
   "execution_count": 166,
   "id": "84801d39-66e8-41bd-a939-1e6ac4421d33",
   "metadata": {},
   "outputs": [
    {
     "data": {
      "image/png": "[encoded data removed]",
      "text/plain": [
       "<Figure size 1200x600 with 1 Axes>"
      ]
     },
     "metadata": {},
     "output_type": "display_data"
    }
   ],
   "source": [
    "plot_sorted_feature_importance(x_col, model.feature_score)"
   ]
  }
 ],
 "metadata": {
  "kernelspec": {
   "display_name": "Python 3 (ipykernel)",
   "language": "python",
   "name": "python3"
  },
  "language_info": {
   "codemirror_mode": {
    "name": "ipython",
    "version": 3
   },
   "file_extension": ".py",
   "mimetype": "text/x-python",
   "name": "python",
   "nbconvert_exporter": "python",
   "pygments_lexer": "ipython3",
   "version": "3.12.7"
  }
 },
 "nbformat": 4,
 "nbformat_minor": 5
}
