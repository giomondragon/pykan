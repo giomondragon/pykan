{
 "cells": [
  {
   "cell_type": "code",
   "execution_count": 1,
   "id": "50af9ebd-58e4-4364-a210-b9b52eeab3df",
   "metadata": {},
   "outputs": [],
   "source": [
    "import sys\n",
    "import os\n",
    "\n",
    "# Get the root directory\n",
    "root_dir = os.path.abspath(os.path.join(os.getcwd(), '..'))\n",
    "\n",
    "# Add the root directory to the Python path\n",
    "sys.path.append(root_dir)"
   ]
  },
  {
   "cell_type": "code",
   "execution_count": 2,
   "id": "538f7a38-1c85-449e-8f66-d6e370a5cf9f",
   "metadata": {},
   "outputs": [
    {
     "name": "stdout",
     "output_type": "stream",
     "text": [
      "cuda\n"
     ]
    }
   ],
   "source": [
    "import torch\n",
    "from kan import *\n",
    "import matplotlib.pyplot as plt\n",
    "from sklearn.datasets import fetch_california_housing\n",
    "from sklearn.model_selection import train_test_split\n",
    "from tqdm import tqdm\n",
    "from sklearn.preprocessing import StandardScaler\n",
    "\n",
    "if torch.cuda.is_available():\n",
    "  device = torch.device(\"cuda\")\n",
    "else:\n",
    "  device = torch.device(\"cpu\")\n",
    "\n",
    "print(device)"
   ]
  },
  {
   "cell_type": "code",
   "execution_count": 3,
   "id": "3ec43085-e1af-44a1-b518-d46921ccda02",
   "metadata": {},
   "outputs": [],
   "source": [
    "import torch\n",
    "from kan import *\n",
    "import matplotlib.pyplot as plt\n",
    "from sklearn.datasets import fetch_california_housing\n",
    "from sklearn.model_selection import train_test_split\n",
    "from tqdm import tqdm\n",
    "from sklearn.preprocessing import StandardScaler, MinMaxScaler\n",
    "from torch.utils.data import DataLoader, TensorDataset\n",
    "import cv2\n",
    "import gc\n",
    "import torch.optim as optim\n",
    "from torch.optim.lr_scheduler import OneCycleLR\n",
    "import time\n",
    "from sklearn.metrics import mean_squared_error, mean_absolute_error, r2_score\n",
    "from tqdm import tqdm"
   ]
  },
  {
   "cell_type": "code",
   "execution_count": 4,
   "id": "3583ae98-c5eb-48b2-8c6b-6f0cce301ed5",
   "metadata": {},
   "outputs": [
    {
     "name": "stdout",
     "output_type": "stream",
     "text": [
      "cuda\n"
     ]
    }
   ],
   "source": [
    "if torch.cuda.is_available():\n",
    "  device = torch.device(\"cuda\")\n",
    "else:\n",
    "  device = torch.device(\"cpu\")\n",
    "\n",
    "print(device)"
   ]
  },
  {
   "cell_type": "code",
   "execution_count": 5,
   "id": "6594975d-2c2d-40e5-9884-b5a555a074e7",
   "metadata": {},
   "outputs": [],
   "source": [
    "SEED = 381\n",
    "# SET RANDOM SEED FOR REPRODUCIBILITY\n",
    "torch.manual_seed(SEED)\n",
    "random.seed(SEED)\n",
    "np.random.seed(SEED)"
   ]
  },
  {
   "cell_type": "code",
   "execution_count": 6,
   "id": "bf3193ca-06da-4736-a5fb-9f60eb9a999d",
   "metadata": {},
   "outputs": [],
   "source": [
    "df = pd.read_csv(f\"data/california_housing.csv\")"
   ]
  },
  {
   "cell_type": "code",
   "execution_count": 7,
   "id": "ec109e4d-df8c-4ad4-8369-5d848a039070",
   "metadata": {},
   "outputs": [],
   "source": [
    "# Function to load and preprocess data\n",
    "def load_and_preprocess_data(images_folder, image_model, problem_type, batch_size=32):\n",
    "    \n",
    "    X_train, X_val = train_test_split(df, test_size=0.20, random_state=SEED)\n",
    "    X_val, X_test = train_test_split(X_val, test_size=0.50, random_state=SEED)\n",
    "    X_train = X_train.reset_index(drop=True)\n",
    "    X_val = X_val.reset_index(drop=True)\n",
    "    X_test = X_test.reset_index(drop=True)\n",
    "    \n",
    "    ### X_train\n",
    "    # Generate the images if the folder does not exist\n",
    "    if not os.path.exists(f'{images_folder}/train'):\n",
    "        #Generate thet images\n",
    "        image_model.fit_transform(X_train, f'{images_folder}/train')\n",
    "        image_model.saveHyperparameters(f'{images_folder}'+\"/model.pkl\")\n",
    "    else:\n",
    "        print(\"The images are already generated\")\n",
    "\n",
    "    img_paths = os.path.join(f'{images_folder}/train',problem_type+\".csv\")\n",
    "\n",
    "    print(img_paths)\n",
    "    \n",
    "    imgs = pd.read_csv(img_paths)\n",
    "    \n",
    "    # Update image paths\n",
    "    imgs[\"images\"] = images_folder + \"/train/\" + imgs[\"images\"]\n",
    "\n",
    "    # Combine datasets\n",
    "    combined_dataset = pd.concat([imgs, X_train], axis=1)\n",
    "\n",
    "    # Split data\n",
    "    X_train = combined_dataset.drop(df.columns[-1], axis=1).drop(\"values\", axis=1)\n",
    "    y_train = combined_dataset[\"values\"]\n",
    "        \n",
    "    ### X_val\n",
    "    # Generate the images if the folder does not exist\n",
    "    if not os.path.exists(f'{images_folder}/val'):\n",
    "        #Generate thet images\n",
    "        image_model.transform(X_val, f'{images_folder}/val')\n",
    "    else:\n",
    "        print(\"The images are already generated\")\n",
    "\n",
    "    img_paths = os.path.join(f'{images_folder}/val',problem_type+\".csv\")\n",
    "\n",
    "    print(img_paths)\n",
    "    \n",
    "    imgs = pd.read_csv(img_paths)\n",
    "\n",
    "    # Update image paths\n",
    "    imgs[\"images\"] = images_folder + \"/val/\" + imgs[\"images\"]\n",
    "\n",
    "    # Combine datasets\n",
    "    combined_dataset = pd.concat([imgs, X_val], axis=1)\n",
    "\n",
    "    # Split data\n",
    "    X_val = combined_dataset.drop(df.columns[-1], axis=1).drop(\"values\", axis=1)\n",
    "    y_val = combined_dataset[\"values\"]\n",
    "    \n",
    "    ### X_test\n",
    "    # Generate the images if the folder does not exist\n",
    "    if not os.path.exists(f'{images_folder}/test'):\n",
    "        #Generate thet images\n",
    "        image_model.transform(X_test, f'{images_folder}/test')\n",
    "    else:\n",
    "        print(\"The images are already generated\")\n",
    "\n",
    "    img_paths = os.path.join(f'{images_folder}/test',problem_type+\".csv\")\n",
    "\n",
    "    print(img_paths)\n",
    "    \n",
    "    imgs = pd.read_csv(img_paths)\n",
    "\n",
    "    # Update image paths\n",
    "    imgs[\"images\"] = images_folder + \"/test/\" + imgs[\"images\"]\n",
    "\n",
    "    # Combine datasets\n",
    "    combined_dataset = pd.concat([imgs, X_test], axis=1)\n",
    "\n",
    "    # Split data\n",
    "    X_test = combined_dataset.drop(df.columns[-1], axis=1).drop(\"values\", axis=1)\n",
    "    y_test = combined_dataset[\"values\"]\n",
    "    \n",
    "    # Numerical data\n",
    "    X_train_num = X_train.drop(\"images\", axis=1)\n",
    "    X_val_num = X_val.drop(\"images\", axis=1)\n",
    "    X_test_num = X_test.drop(\"images\", axis=1)\n",
    "\n",
    "    # Image data\n",
    "    X_train_img = np.array([cv2.imread(img) for img in X_train[\"images\"]])\n",
    "    X_val_img = np.array([cv2.imread(img) for img in X_val[\"images\"]])\n",
    "    X_test_img = np.array([cv2.imread(img) for img in X_test[\"images\"]])\n",
    "\n",
    "    ## Create a MinMaxScaler object\n",
    "    scaler = MinMaxScaler()\n",
    "\n",
    "    ## Scale numerical data\n",
    "    X_train_num = pd.DataFrame(scaler.fit_transform(X_train_num), columns=X_train_num.columns)\n",
    "    X_val_num = pd.DataFrame(scaler.transform(X_val_num), columns=X_val_num.columns)\n",
    "    X_test_num = pd.DataFrame(scaler.transform(X_test_num), columns=X_test_num.columns)\n",
    "\n",
    "    attributes = len(X_train_num.columns)\n",
    "    height, width, channels = X_train_img[0].shape\n",
    "    imgs_shape = (channels, height, width)\n",
    "\n",
    "    print(\"Images shape: \", imgs_shape)\n",
    "    print(\"Attributes: \", attributes)\n",
    "    # Convert data to PyTorch tensors\n",
    "    X_train_num_tensor = torch.as_tensor(X_train_num.values, dtype=torch.float32)\n",
    "    X_val_num_tensor = torch.as_tensor(X_val_num.values, dtype=torch.float32)\n",
    "    X_test_num_tensor = torch.as_tensor(X_test_num.values, dtype=torch.float32)\n",
    "    X_train_img_tensor = torch.as_tensor(X_train_img, dtype=torch.float32).permute(0, 3, 1, 2)\n",
    "    X_val_img_tensor = torch.as_tensor(X_val_img, dtype=torch.float32).permute(0, 3, 1, 2)\n",
    "    X_test_img_tensor = torch.as_tensor(X_test_img, dtype=torch.float32).permute(0, 3, 1, 2)\n",
    "    y_train_tensor = torch.as_tensor(y_train.values, dtype=torch.float32).reshape(-1, 1)\n",
    "    y_val_tensor = torch.as_tensor(y_val.values, dtype=torch.float32).reshape(-1, 1)\n",
    "    y_test_tensor = torch.as_tensor(y_test.values, dtype=torch.float32).reshape(-1, 1)\n",
    "\n",
    "    # Normalize to [0, 1]\n",
    "    X_train_img_tensor = X_train_img_tensor / 255.0\n",
    "    X_val_img_tensor = X_val_img_tensor / 255.0\n",
    "    X_test_img_tensor = X_test_img_tensor / 255.0\n",
    "\n",
    "    # Create DataLoaders\n",
    "    train_dataset = TensorDataset(X_train_num_tensor, X_train_img_tensor, y_train_tensor)\n",
    "    val_dataset = TensorDataset(X_val_num_tensor, X_val_img_tensor, y_val_tensor)\n",
    "    test_dataset = TensorDataset(X_test_num_tensor, X_test_img_tensor, y_test_tensor)\n",
    "\n",
    "    train_loader = DataLoader(train_dataset, batch_size=batch_size, shuffle=True, pin_memory=True)\n",
    "    val_loader = DataLoader(val_dataset, batch_size=batch_size, shuffle=False, pin_memory=True)\n",
    "    test_loader = DataLoader(test_dataset, batch_size=batch_size, shuffle=False, pin_memory=True)\n",
    "\n",
    "    return train_loader, val_loader, test_loader, attributes, imgs_shape \n"
   ]
  },
  {
   "cell_type": "code",
   "execution_count": 8,
   "id": "c7c7dc17-6918-4f8e-a7c8-264a6b44e158",
   "metadata": {},
   "outputs": [
    {
     "name": "stdout",
     "output_type": "stream",
     "text": [
      "3\n"
     ]
    }
   ],
   "source": [
    "batch_size = 32\n",
    "# Get the shape of the dataframe\n",
    "num_columns = df.shape[1]\n",
    "\n",
    "# Calculate number of columns - 1\n",
    "columns_minus_one = num_columns - 1\n",
    "\n",
    "# Calculate the square root for image size\n",
    "import math\n",
    "image_size = math.ceil(math.sqrt(columns_minus_one))\n",
    "print(image_size)"
   ]
  },
  {
   "cell_type": "code",
   "execution_count": 9,
   "id": "08ff0c69-2146-490c-9c76-488701951845",
   "metadata": {},
   "outputs": [],
   "source": [
    "from TINTOlib.igtd import IGTD\n",
    "dataset_name = 'california_housing'\n",
    "#Select the model and the parameters\n",
    "problem_type = \"regression\"\n",
    "image_model = IGTD(problem= problem_type, scale=[image_size,image_size], fea_dist_method='Euclidean', image_dist_method='Euclidean', error='abs', max_step=30000, val_step=300, random_seed=SEED)\n",
    "\n",
    "name = f\"IGTD_{image_size}x{image_size}_fEuclidean_iEuclidean_abs\"\n",
    "\n",
    "#Define the dataset path and the folder where the images will be saved\n",
    "images_folder = f\"HyNNImages/Regression/{dataset_name}/images_{dataset_name}_{name}\""
   ]
  },
  {
   "cell_type": "code",
   "execution_count": 10,
   "id": "64588af5-817c-45b2-873b-e68ca7eb731c",
   "metadata": {},
   "outputs": [
    {
     "name": "stdout",
     "output_type": "stream",
     "text": [
      "The images are already generated\n",
      "HyNNImages/Regression/california_housing/images_california_housing_IGTD_3x3_fEuclidean_iEuclidean_abs/train\\regression.csv\n",
      "The images are already generated\n",
      "HyNNImages/Regression/california_housing/images_california_housing_IGTD_3x3_fEuclidean_iEuclidean_abs/val\\regression.csv\n",
      "The images are already generated\n",
      "HyNNImages/Regression/california_housing/images_california_housing_IGTD_3x3_fEuclidean_iEuclidean_abs/test\\regression.csv\n",
      "Images shape:  (3, 3, 3)\n",
      "Attributes:  8\n"
     ]
    }
   ],
   "source": [
    "train_loader, val_loader, test_loader, attributes, imgs_shape  = load_and_preprocess_data(images_folder, image_model, problem_type, batch_size=batch_size)"
   ]
  },
  {
   "cell_type": "code",
   "execution_count": 14,
   "id": "9ed9ee49-4805-494c-92de-f0242b430924",
   "metadata": {},
   "outputs": [],
   "source": [
    "class Model5(nn.Module):\n",
    "    def __init__(self, attributes, imgs_shape, device):\n",
    "        super(Model5, self).__init__()\n",
    "        # CNN branch\n",
    "        self.cnn_branch = nn.Sequential(\n",
    "            nn.Conv2d(imgs_shape[0], 16, kernel_size=2),\n",
    "            nn.BatchNorm2d(16),\n",
    "            nn.ReLU(),\n",
    "            nn.Flatten()\n",
    "        ).to(device)\n",
    "\n",
    "        # Calculate the size of the flattened CNN output\n",
    "        self.cnn_output_size = 16 * (imgs_shape[1] - 1) * (imgs_shape[2] - 1)\n",
    "\n",
    "        # Final MLP layers\n",
    "        self.m_kan = KAN(\n",
    "            width=[self.cnn_output_size + attributes, 1],\n",
    "            grid=8,\n",
    "            k=3,\n",
    "            seed=SEED,\n",
    "            device=device\n",
    "        )\n",
    "\n",
    "        self.device = device\n",
    "\n",
    "    def get_concat_output(self, mlp_input, cnn_input):\n",
    "        kan_input = mlp_input.to(self.device)\n",
    "        cnn_input = cnn_input.to(self.device)\n",
    "        \n",
    "        cnn_output = self.cnn_branch(cnn_input)  # Process image input\n",
    "        \n",
    "        return torch.cat((kan_input, cnn_output), dim=1)\n",
    "\n",
    "    \n",
    "    def forward(self, mlp_input, cnn_input):\n",
    "        concat_output = self.get_concat_output(mlp_input, cnn_input)\n",
    "        return self.m_kan(concat_output) "
   ]
  },
  {
   "cell_type": "code",
   "execution_count": 15,
   "id": "e8f143cf-d658-4e72-867c-0a3de2466859",
   "metadata": {},
   "outputs": [],
   "source": [
    "import traceback\n",
    "\n",
    "def try_create_model(model_class, attributes, imgs_shape, device):\n",
    "    try:\n",
    "        model = model_class(attributes, imgs_shape, device)\n",
    "        \n",
    "        # Test the model with a sample input\n",
    "        num_input = torch.randn(4, attributes)\n",
    "        img_input = torch.randn(4, *imgs_shape)\n",
    "        output = model(num_input, img_input)\n",
    "        \n",
    "        print(f\"Successfully created and tested {model_class.__name__}\")\n",
    "        \n",
    "        return model\n",
    "    except Exception as e:\n",
    "        print(f\"Error creating or testing {model_class.__name__}:\")\n",
    "        traceback.print_exc()\n",
    "        return None"
   ]
  },
  {
   "cell_type": "code",
   "execution_count": 16,
   "id": "24a1de26-ffbc-4dec-8c8c-1f5dce427081",
   "metadata": {},
   "outputs": [],
   "source": [
    "def combine_loader(loader):\n",
    "    \"\"\"\n",
    "    Combines all batches from a DataLoader into three tensors.\n",
    "    Assumes each batch is a tuple: (mlp_tensor, img_tensor, target_tensor)\n",
    "    \"\"\"\n",
    "    mlp_list, img_list, target_list = [], [], []\n",
    "    for mlp, img, target in loader:\n",
    "        mlp_list.append(mlp)\n",
    "        img_list.append(img)\n",
    "        target_list.append(target)\n",
    "    return torch.cat(mlp_list, dim=0), torch.cat(img_list, dim=0), torch.cat(target_list, dim=0)"
   ]
  },
  {
   "cell_type": "code",
   "execution_count": 17,
   "id": "5a14d0dd-897d-4186-b152-bf1eceed39c5",
   "metadata": {},
   "outputs": [],
   "source": [
    "# Combine dataloaders into tensors.\n",
    "train_mlp, train_img, train_target = combine_loader(train_loader)\n",
    "val_mlp, val_img, val_target = combine_loader(val_loader)\n",
    "test_mlp, test_img, test_target = combine_loader(test_loader)\n",
    "\n",
    "dataset = {\n",
    "    \"train_mlp\": train_mlp.to(device),\n",
    "    \"train_img\": train_img.to(device),\n",
    "    \"train_target\": train_target.to(device),\n",
    "    \"val_mlp\": val_mlp.to(device),\n",
    "    \"val_img\": val_img.to(device),\n",
    "    \"val_target\": val_target.to(device),\n",
    "    \"test_mlp\": test_mlp.to(device),\n",
    "    \"test_img\": test_img.to(device),\n",
    "    \"test_target\": test_target.to(device),\n",
    "}"
   ]
  },
  {
   "cell_type": "code",
   "execution_count": 59,
   "id": "5e0980e6-33ae-4841-a113-dcd289bc1244",
   "metadata": {},
   "outputs": [
    {
     "ename": "IndentationError",
     "evalue": "unexpected indent (918324401.py, line 2)",
     "output_type": "error",
     "traceback": [
      "\u001b[1;36m  Cell \u001b[1;32mIn[59], line 2\u001b[1;36m\u001b[0m\n\u001b[1;33m    n_eval  = dataset[\"test_mlp\"].shape[0]  # using test set for evaluation during training\u001b[0m\n\u001b[1;37m    ^\u001b[0m\n\u001b[1;31mIndentationError\u001b[0m\u001b[1;31m:\u001b[0m unexpected indent\n"
     ]
    }
   ],
   "source": [
    "n_train = dataset[\"train_mlp\"].shape[0]\n",
    "    n_eval  = dataset[\"test_mlp\"].shape[0]  # using test set for evaluation during training\n",
    "    batch_size = n_train if batch == -1 or batch > n_train else batch"
   ]
  },
  {
   "cell_type": "code",
   "execution_count": 57,
   "id": "4c1c2fec-bd63-4111-bf24-c625b9f5a2bc",
   "metadata": {},
   "outputs": [
    {
     "name": "stdout",
     "output_type": "stream",
     "text": [
      "checkpoint directory created: ./model\n",
      "saving model version 0.0\n",
      "Successfully created and tested Model5\n"
     ]
    }
   ],
   "source": [
    "model5 = try_create_model(Model5, attributes, imgs_shape, device)"
   ]
  },
  {
   "cell_type": "code",
   "execution_count": 58,
   "id": "f6a948d3-a0dd-4f97-94ae-30f9c959d1e0",
   "metadata": {},
   "outputs": [],
   "source": [
    "grid_update_freq = int(stop_grid_update_step / grid_update_num) if grid_update_num > 0 else 1"
   ]
  },
  {
   "cell_type": "code",
   "execution_count": 28,
   "id": "72faae72-fb32-45da-9b42-c605bb80b932",
   "metadata": {},
   "outputs": [
    {
     "data": {
      "text/plain": [
       "16512"
      ]
     },
     "execution_count": 28,
     "metadata": {},
     "output_type": "execute_result"
    }
   ],
   "source": [
    "dataset[\"train_mlp\"].shape[0]"
   ]
  },
  {
   "cell_type": "code",
   "execution_count": 32,
   "id": "bcbb799a-a918-40cf-8436-f61bf01df4da",
   "metadata": {},
   "outputs": [],
   "source": [
    "n_train = dataset[\"train_mlp\"].shape[0]"
   ]
  },
  {
   "cell_type": "code",
   "execution_count": 33,
   "id": "5cfc5277-9c07-4f3b-a109-5d13b4e135b2",
   "metadata": {},
   "outputs": [],
   "source": [
    "\n",
    "train_indices = np.random.choice(n_train, batch_size, replace=False)"
   ]
  },
  {
   "cell_type": "code",
   "execution_count": 34,
   "id": "016e4648-ced5-4fce-bd73-ececfcd2ffe9",
   "metadata": {},
   "outputs": [
    {
     "data": {
      "text/plain": [
       "array([ 5198, 13219, 15719,  2533,  5301,  6406,  7895,  2335,  2843,\n",
       "        6126, 14189, 13477,  5611, 14107, 10437, 12043, 12065,  7886,\n",
       "        8625,  9004,  2126, 10172, 15410,   816,  5160,  6834,  6008,\n",
       "       12085,   220, 13597,  3482, 15709])"
      ]
     },
     "execution_count": 34,
     "metadata": {},
     "output_type": "execute_result"
    }
   ],
   "source": [
    "train_indices"
   ]
  },
  {
   "cell_type": "code",
   "execution_count": 35,
   "id": "247eadcb-4e13-46c5-8b0a-89595cf1d212",
   "metadata": {},
   "outputs": [],
   "source": [
    "mlp_batch = dataset['train_mlp'][train_indices]"
   ]
  },
  {
   "cell_type": "code",
   "execution_count": 36,
   "id": "226b2b2e-f3ff-4cd2-8993-c9b523613435",
   "metadata": {},
   "outputs": [
    {
     "data": {
      "text/plain": [
       "tensor([[9.6861e-02, 3.3333e-01, 2.1501e-02, 2.1089e-02, 2.1862e-02, 8.5252e-04,\n",
       "         6.3868e-01, 2.9960e-01],\n",
       "        [4.1013e-01, 8.2353e-01, 3.6169e-02, 1.7560e-02, 2.8252e-02, 1.2753e-03,\n",
       "         1.3709e-01, 6.2348e-01],\n",
       "        [1.8596e-01, 2.3529e-01, 2.7684e-02, 2.0142e-02, 7.6712e-02, 1.7961e-03,\n",
       "         5.6111e-01, 3.1680e-01],\n",
       "        [4.2552e-01, 1.9608e-01, 4.0045e-02, 1.9726e-02, 1.2349e-01, 1.6304e-03,\n",
       "         1.3390e-01, 6.6397e-01],\n",
       "        [1.7385e-01, 1.0000e+00, 3.0213e-02, 1.7359e-02, 3.3073e-03, 2.0746e-03,\n",
       "         7.2795e-01, 2.9960e-01],\n",
       "        [3.3357e-01, 5.2941e-01, 4.5337e-02, 1.8608e-02, 3.1867e-02, 1.8257e-03,\n",
       "         1.6684e-01, 6.7814e-01],\n",
       "        [1.4656e-01, 1.9608e-01, 1.9522e-02, 1.3834e-02, 4.1201e-03, 5.4784e-03,\n",
       "         1.5728e-01, 5.9413e-01],\n",
       "        [2.8736e-01, 1.7647e-01, 3.8763e-02, 2.0432e-02, 3.8258e-02, 1.7034e-03,\n",
       "         5.1328e-01, 3.7955e-01],\n",
       "        [1.0022e-01, 5.4902e-01, 2.3712e-02, 2.1101e-02, 2.2450e-02, 1.6894e-03,\n",
       "         3.1881e-02, 8.8866e-01],\n",
       "        [2.7089e-01, 6.0784e-01, 2.7121e-02, 1.9495e-02, 3.0046e-02, 1.4001e-03,\n",
       "         1.4772e-01, 6.2854e-01],\n",
       "        [1.4395e-01, 5.8824e-01, 2.1194e-02, 2.2051e-02, 3.3157e-02, 1.0101e-03,\n",
       "         2.2317e-02, 7.3077e-01],\n",
       "        [2.9526e-01, 7.4510e-01, 2.7386e-02, 2.0639e-02, 2.7103e-02, 1.3655e-03,\n",
       "         5.5154e-01, 1.9332e-01],\n",
       "        [2.3276e-01, 6.2745e-01, 2.5967e-02, 2.2256e-02, 4.9357e-02, 2.6691e-03,\n",
       "         1.3390e-01, 6.2045e-01],\n",
       "        [4.5552e-01, 2.3529e-01, 3.6131e-02, 1.9974e-02, 6.2698e-02, 2.6561e-03,\n",
       "         5.1541e-01, 2.5000e-01],\n",
       "        [2.2820e-01, 5.0980e-01, 2.4806e-02, 2.3468e-02, 7.4610e-02, 8.5381e-04,\n",
       "         1.6366e-01, 6.0324e-01],\n",
       "        [6.9614e-01, 3.3333e-01, 4.7432e-02, 1.8226e-02, 4.4200e-02, 1.7975e-03,\n",
       "         2.9756e-01, 5.3340e-01],\n",
       "        [2.4959e-01, 3.3333e-01, 3.5427e-02, 2.3903e-02, 1.3537e-02, 1.6278e-03,\n",
       "         7.2157e-01, 4.2308e-01],\n",
       "        [1.7720e-01, 8.4314e-01, 3.2182e-02, 2.0335e-02, 2.2506e-02, 1.5285e-03,\n",
       "         5.7492e-01, 2.0344e-01],\n",
       "        [1.1738e-01, 2.3529e-01, 2.4721e-02, 2.4223e-02, 5.3925e-02, 3.0325e-03,\n",
       "         1.8172e-01, 6.0223e-01],\n",
       "        [3.5742e-01, 8.4314e-01, 2.7663e-02, 1.6416e-02, 2.2899e-02, 1.5715e-03,\n",
       "         5.5260e-01, 1.8826e-01],\n",
       "        [9.8833e-02, 1.0000e+00, 2.2533e-02, 1.7860e-02, 3.9519e-02, 2.2505e-03,\n",
       "         1.5515e-01, 6.1134e-01],\n",
       "        [3.4715e-01, 1.0000e+00, 3.0786e-02, 1.6621e-02, 2.8869e-02, 1.3583e-03,\n",
       "         5.5579e-01, 2.1053e-01],\n",
       "        [1.4656e-01, 5.6863e-01, 2.1818e-02, 2.1235e-02, 4.1005e-02, 3.3493e-03,\n",
       "         1.6047e-01, 6.6903e-01],\n",
       "        [1.8461e-01, 5.6863e-01, 3.2765e-02, 2.1196e-02, 5.1963e-02, 2.0239e-03,\n",
       "         6.3443e-01, 2.8947e-01],\n",
       "        [2.5360e-01, 8.4314e-01, 2.8885e-02, 2.0938e-02, 3.9043e-02, 1.4670e-03,\n",
       "         1.3815e-01, 6.2348e-01],\n",
       "        [3.3040e-01, 6.4706e-01, 4.0131e-02, 1.8497e-02, 4.2322e-02, 1.6094e-03,\n",
       "         2.7630e-02, 7.4494e-01],\n",
       "        [3.5121e-01, 2.3529e-01, 3.4820e-02, 2.1045e-02, 8.9268e-02, 2.0850e-03,\n",
       "         1.8704e-01, 5.5162e-01],\n",
       "        [2.6907e-01, 6.8627e-01, 2.9292e-02, 2.1060e-02, 3.9911e-02, 3.0315e-03,\n",
       "         1.3603e-01, 6.1538e-01],\n",
       "        [1.1315e-01, 8.6275e-01, 1.6678e-02, 1.9406e-02, 2.0152e-02, 2.9430e-03,\n",
       "         1.6153e-01, 6.3765e-01],\n",
       "        [3.8755e-01, 2.9412e-01, 4.8959e-02, 2.2387e-02, 4.8292e-02, 2.2376e-03,\n",
       "         1.6791e-01, 6.7713e-01],\n",
       "        [3.1827e-01, 7.4510e-01, 3.5671e-02, 2.0582e-02, 4.3947e-02, 1.4986e-03,\n",
       "         5.4942e-01, 1.8927e-01],\n",
       "        [2.1681e-01, 1.9608e-02, 1.7534e-02, 2.8338e-02, 1.6088e-02, 7.2203e-04,\n",
       "         5.5685e-01, 1.9433e-01]], device='cuda:0')"
      ]
     },
     "execution_count": 36,
     "metadata": {},
     "output_type": "execute_result"
    }
   ],
   "source": [
    "mlp_batch"
   ]
  },
  {
   "cell_type": "code",
   "execution_count": 37,
   "id": "ddd77867-227c-4183-97a1-52993502d094",
   "metadata": {},
   "outputs": [],
   "source": [
    "cnn_batch = dataset['train_img'][train_indices]"
   ]
  },
  {
   "cell_type": "code",
   "execution_count": 38,
   "id": "ddb30b65-7ad7-450d-a832-afcb5084fe49",
   "metadata": {},
   "outputs": [
    {
     "data": {
      "text/plain": [
       "tensor([[[[0.9804, 0.3608, 0.6667],\n",
       "          [0.9804, 0.9059, 0.7020],\n",
       "          [1.0000, 0.9804, 1.0000]],\n",
       "\n",
       "         [[0.9804, 0.3608, 0.6667],\n",
       "          [0.9804, 0.9059, 0.7020],\n",
       "          [1.0000, 0.9804, 1.0000]],\n",
       "\n",
       "         [[0.9804, 0.3608, 0.6667],\n",
       "          [0.9804, 0.9059, 0.7020],\n",
       "          [1.0000, 0.9804, 1.0000]]],\n",
       "\n",
       "\n",
       "        [[[0.9843, 0.8627, 0.1725],\n",
       "          [0.9725, 0.5922, 0.3765],\n",
       "          [1.0000, 0.9647, 1.0000]],\n",
       "\n",
       "         [[0.9843, 0.8627, 0.1725],\n",
       "          [0.9725, 0.5922, 0.3765],\n",
       "          [1.0000, 0.9647, 1.0000]],\n",
       "\n",
       "         [[0.9843, 0.8627, 0.1725],\n",
       "          [0.9725, 0.5922, 0.3765],\n",
       "          [1.0000, 0.9647, 1.0000]]],\n",
       "\n",
       "\n",
       "        [[[0.9804, 0.4392, 0.7647],\n",
       "          [0.9255, 0.8157, 0.6824],\n",
       "          [1.0000, 0.9725, 1.0000]],\n",
       "\n",
       "         [[0.9804, 0.4392, 0.7647],\n",
       "          [0.9255, 0.8157, 0.6824],\n",
       "          [1.0000, 0.9725, 1.0000]],\n",
       "\n",
       "         [[0.9804, 0.4392, 0.7647],\n",
       "          [0.9255, 0.8157, 0.6824],\n",
       "          [1.0000, 0.9725, 1.0000]]],\n",
       "\n",
       "\n",
       "        [[[0.9804, 0.8667, 0.8039],\n",
       "          [0.8784, 0.5765, 0.3373],\n",
       "          [1.0000, 0.9608, 1.0000]],\n",
       "\n",
       "         [[0.9804, 0.8667, 0.8039],\n",
       "          [0.8784, 0.5765, 0.3373],\n",
       "          [1.0000, 0.9608, 1.0000]],\n",
       "\n",
       "         [[0.9804, 0.8667, 0.8039],\n",
       "          [0.8784, 0.5765, 0.3373],\n",
       "          [1.0000, 0.9608, 1.0000]]],\n",
       "\n",
       "\n",
       "        [[[0.9843, 0.2706, 0.0000],\n",
       "          [1.0000, 0.8275, 0.7020],\n",
       "          [1.0000, 0.9725, 1.0000]],\n",
       "\n",
       "         [[0.9843, 0.2706, 0.0000],\n",
       "          [1.0000, 0.8275, 0.7020],\n",
       "          [1.0000, 0.9725, 1.0000]],\n",
       "\n",
       "         [[0.9843, 0.2706, 0.0000],\n",
       "          [1.0000, 0.8275, 0.7020],\n",
       "          [1.0000, 0.9725, 1.0000]]],\n",
       "\n",
       "\n",
       "        [[[0.9843, 0.8353, 0.4706],\n",
       "          [0.9686, 0.6667, 0.3176],\n",
       "          [1.0000, 0.9529, 1.0000]],\n",
       "\n",
       "         [[0.9843, 0.8353, 0.4706],\n",
       "          [0.9686, 0.6667, 0.3176],\n",
       "          [1.0000, 0.9529, 1.0000]],\n",
       "\n",
       "         [[0.9843, 0.8353, 0.4706],\n",
       "          [0.9686, 0.6667, 0.3176],\n",
       "          [1.0000, 0.9529, 1.0000]]],\n",
       "\n",
       "\n",
       "        [[[0.9882, 0.8431, 0.8039],\n",
       "          [0.9961, 0.8549, 0.4039],\n",
       "          [0.9961, 0.9843, 1.0000]],\n",
       "\n",
       "         [[0.9882, 0.8431, 0.8039],\n",
       "          [0.9961, 0.8549, 0.4039],\n",
       "          [0.9961, 0.9843, 1.0000]],\n",
       "\n",
       "         [[0.9882, 0.8431, 0.8039],\n",
       "          [0.9961, 0.8549, 0.4039],\n",
       "          [0.9961, 0.9843, 1.0000]]],\n",
       "\n",
       "\n",
       "        [[[0.9804, 0.4863, 0.8235],\n",
       "          [0.9647, 0.7137, 0.6196],\n",
       "          [1.0000, 0.9647, 1.0000]],\n",
       "\n",
       "         [[0.9804, 0.4863, 0.8235],\n",
       "          [0.9647, 0.7137, 0.6196],\n",
       "          [1.0000, 0.9647, 1.0000]],\n",
       "\n",
       "         [[0.9804, 0.4863, 0.8235],\n",
       "          [0.9647, 0.7137, 0.6196],\n",
       "          [1.0000, 0.9647, 1.0000]]],\n",
       "\n",
       "\n",
       "        [[[0.9804, 0.9686, 0.4510],\n",
       "          [0.9804, 0.9020, 0.1098],\n",
       "          [1.0000, 0.9765, 1.0000]],\n",
       "\n",
       "         [[0.9804, 0.9686, 0.4510],\n",
       "          [0.9804, 0.9020, 0.1098],\n",
       "          [1.0000, 0.9765, 1.0000]],\n",
       "\n",
       "         [[0.9804, 0.9686, 0.4510],\n",
       "          [0.9804, 0.9020, 0.1098],\n",
       "          [1.0000, 0.9765, 1.0000]]],\n",
       "\n",
       "\n",
       "        [[[0.9843, 0.8549, 0.3922],\n",
       "          [0.9725, 0.7294, 0.3725],\n",
       "          [1.0000, 0.9765, 1.0000]],\n",
       "\n",
       "         [[0.9843, 0.8549, 0.3922],\n",
       "          [0.9725, 0.7294, 0.3725],\n",
       "          [1.0000, 0.9765, 1.0000]],\n",
       "\n",
       "         [[0.9843, 0.8549, 0.3922],\n",
       "          [0.9725, 0.7294, 0.3725],\n",
       "          [1.0000, 0.9765, 1.0000]]],\n",
       "\n",
       "\n",
       "        [[[0.9804, 0.9804, 0.4118],\n",
       "          [0.9686, 0.8588, 0.2667],\n",
       "          [1.0000, 0.9804, 1.0000]],\n",
       "\n",
       "         [[0.9804, 0.9804, 0.4118],\n",
       "          [0.9686, 0.8588, 0.2667],\n",
       "          [1.0000, 0.9804, 1.0000]],\n",
       "\n",
       "         [[0.9804, 0.9804, 0.4118],\n",
       "          [0.9686, 0.8588, 0.2667],\n",
       "          [1.0000, 0.9804, 1.0000]]],\n",
       "\n",
       "\n",
       "        [[[0.9804, 0.4431, 0.2549],\n",
       "          [0.9765, 0.7020, 0.8078],\n",
       "          [1.0000, 0.9725, 1.0000]],\n",
       "\n",
       "         [[0.9804, 0.4431, 0.2549],\n",
       "          [0.9765, 0.7020, 0.8078],\n",
       "          [1.0000, 0.9725, 1.0000]],\n",
       "\n",
       "         [[0.9804, 0.4431, 0.2549],\n",
       "          [0.9765, 0.7020, 0.8078],\n",
       "          [1.0000, 0.9725, 1.0000]]],\n",
       "\n",
       "\n",
       "        [[[0.9804, 0.8667, 0.3725],\n",
       "          [0.9529, 0.7647, 0.3804],\n",
       "          [1.0000, 0.9765, 1.0000]],\n",
       "\n",
       "         [[0.9804, 0.8667, 0.3725],\n",
       "          [0.9529, 0.7647, 0.3804],\n",
       "          [1.0000, 0.9765, 1.0000]],\n",
       "\n",
       "         [[0.9804, 0.8667, 0.3725],\n",
       "          [0.9529, 0.7647, 0.3804],\n",
       "          [1.0000, 0.9765, 1.0000]]],\n",
       "\n",
       "\n",
       "        [[[0.9804, 0.4863, 0.7647],\n",
       "          [0.9373, 0.5451, 0.7529],\n",
       "          [1.0000, 0.9647, 1.0000]],\n",
       "\n",
       "         [[0.9804, 0.4863, 0.7647],\n",
       "          [0.9373, 0.5451, 0.7529],\n",
       "          [1.0000, 0.9647, 1.0000]],\n",
       "\n",
       "         [[0.9804, 0.4863, 0.7647],\n",
       "          [0.9373, 0.5451, 0.7529],\n",
       "          [1.0000, 0.9647, 1.0000]]],\n",
       "\n",
       "\n",
       "        [[[0.9765, 0.8392, 0.4902],\n",
       "          [0.9255, 0.7725, 0.3961],\n",
       "          [1.0000, 0.9765, 1.0000]],\n",
       "\n",
       "         [[0.9765, 0.8392, 0.4902],\n",
       "          [0.9255, 0.7725, 0.3961],\n",
       "          [1.0000, 0.9765, 1.0000]],\n",
       "\n",
       "         [[0.9765, 0.8392, 0.4902],\n",
       "          [0.9255, 0.7725, 0.3961],\n",
       "          [1.0000, 0.9765, 1.0000]]],\n",
       "\n",
       "\n",
       "        [[[0.9843, 0.7020, 0.6667],\n",
       "          [0.9529, 0.3020, 0.4667],\n",
       "          [1.0000, 0.9529, 1.0000]],\n",
       "\n",
       "         [[0.9843, 0.7020, 0.6667],\n",
       "          [0.9529, 0.3020, 0.4667],\n",
       "          [1.0000, 0.9529, 1.0000]],\n",
       "\n",
       "         [[0.9843, 0.7020, 0.6667],\n",
       "          [0.9529, 0.3020, 0.4667],\n",
       "          [1.0000, 0.9529, 1.0000]]],\n",
       "\n",
       "\n",
       "        [[[0.9765, 0.2784, 0.6667],\n",
       "          [0.9882, 0.7529, 0.5765],\n",
       "          [1.0000, 0.9647, 1.0000]],\n",
       "\n",
       "         [[0.9765, 0.2784, 0.6667],\n",
       "          [0.9882, 0.7529, 0.5765],\n",
       "          [1.0000, 0.9647, 1.0000]],\n",
       "\n",
       "         [[0.9765, 0.2784, 0.6667],\n",
       "          [0.9882, 0.7529, 0.5765],\n",
       "          [1.0000, 0.9647, 1.0000]]],\n",
       "\n",
       "\n",
       "        [[[0.9804, 0.4235, 0.1569],\n",
       "          [0.9804, 0.8235, 0.7961],\n",
       "          [1.0000, 0.9686, 1.0000]],\n",
       "\n",
       "         [[0.9804, 0.4235, 0.1569],\n",
       "          [0.9804, 0.8235, 0.7961],\n",
       "          [1.0000, 0.9686, 1.0000]],\n",
       "\n",
       "         [[0.9804, 0.4235, 0.1569],\n",
       "          [0.9804, 0.8235, 0.7961],\n",
       "          [1.0000, 0.9686, 1.0000]]],\n",
       "\n",
       "\n",
       "        [[[0.9765, 0.8196, 0.7647],\n",
       "          [0.9490, 0.8824, 0.3961],\n",
       "          [1.0000, 0.9765, 1.0000]],\n",
       "\n",
       "         [[0.9765, 0.8196, 0.7647],\n",
       "          [0.9490, 0.8824, 0.3961],\n",
       "          [1.0000, 0.9765, 1.0000]],\n",
       "\n",
       "         [[0.9765, 0.8196, 0.7647],\n",
       "          [0.9490, 0.8824, 0.3961],\n",
       "          [1.0000, 0.9765, 1.0000]]],\n",
       "\n",
       "\n",
       "        [[[0.9843, 0.4431, 0.1569],\n",
       "          [0.9804, 0.6392, 0.8118],\n",
       "          [1.0000, 0.9725, 1.0000]],\n",
       "\n",
       "         [[0.9843, 0.4431, 0.1569],\n",
       "          [0.9804, 0.6392, 0.8118],\n",
       "          [1.0000, 0.9725, 1.0000]],\n",
       "\n",
       "         [[0.9843, 0.4431, 0.1569],\n",
       "          [0.9804, 0.6392, 0.8118],\n",
       "          [1.0000, 0.9725, 1.0000]]],\n",
       "\n",
       "\n",
       "        [[[0.9843, 0.8471, 0.0000],\n",
       "          [0.9608, 0.9020, 0.3882],\n",
       "          [1.0000, 0.9804, 1.0000]],\n",
       "\n",
       "         [[0.9843, 0.8471, 0.0000],\n",
       "          [0.9608, 0.9020, 0.3882],\n",
       "          [1.0000, 0.9804, 1.0000]],\n",
       "\n",
       "         [[0.9843, 0.8471, 0.0000],\n",
       "          [0.9608, 0.9020, 0.3882],\n",
       "          [1.0000, 0.9804, 1.0000]]],\n",
       "\n",
       "\n",
       "        [[[0.9843, 0.4431, 0.0000],\n",
       "          [0.9725, 0.6549, 0.7922],\n",
       "          [1.0000, 0.9725, 1.0000]],\n",
       "\n",
       "         [[0.9843, 0.4431, 0.0000],\n",
       "          [0.9725, 0.6549, 0.7922],\n",
       "          [1.0000, 0.9725, 1.0000]],\n",
       "\n",
       "         [[0.9843, 0.4431, 0.0000],\n",
       "          [0.9725, 0.6549, 0.7922],\n",
       "          [1.0000, 0.9725, 1.0000]]],\n",
       "\n",
       "\n",
       "        [[[0.9804, 0.8392, 0.4314],\n",
       "          [0.9608, 0.8549, 0.3294],\n",
       "          [1.0000, 0.9804, 1.0000]],\n",
       "\n",
       "         [[0.9804, 0.8392, 0.4314],\n",
       "          [0.9608, 0.8549, 0.3294],\n",
       "          [1.0000, 0.9804, 1.0000]],\n",
       "\n",
       "         [[0.9804, 0.8392, 0.4314],\n",
       "          [0.9608, 0.8549, 0.3294],\n",
       "          [1.0000, 0.9804, 1.0000]]],\n",
       "\n",
       "\n",
       "        [[[0.9804, 0.3647, 0.4314],\n",
       "          [0.9490, 0.8157, 0.7098],\n",
       "          [1.0000, 0.9686, 1.0000]],\n",
       "\n",
       "         [[0.9804, 0.3647, 0.4314],\n",
       "          [0.9490, 0.8157, 0.7098],\n",
       "          [1.0000, 0.9686, 1.0000]],\n",
       "\n",
       "         [[0.9804, 0.3647, 0.4314],\n",
       "          [0.9490, 0.8157, 0.7098],\n",
       "          [1.0000, 0.9686, 1.0000]]],\n",
       "\n",
       "\n",
       "        [[[0.9804, 0.8627, 0.1569],\n",
       "          [0.9647, 0.7490, 0.3765],\n",
       "          [1.0000, 0.9725, 1.0000]],\n",
       "\n",
       "         [[0.9804, 0.8627, 0.1569],\n",
       "          [0.9647, 0.7490, 0.3765],\n",
       "          [1.0000, 0.9725, 1.0000]],\n",
       "\n",
       "         [[0.9804, 0.8627, 0.1569],\n",
       "          [0.9647, 0.7490, 0.3765],\n",
       "          [1.0000, 0.9725, 1.0000]]],\n",
       "\n",
       "\n",
       "        [[[0.9843, 0.9725, 0.3490],\n",
       "          [0.9608, 0.6706, 0.2549],\n",
       "          [1.0000, 0.9608, 1.0000]],\n",
       "\n",
       "         [[0.9843, 0.9725, 0.3490],\n",
       "          [0.9608, 0.6706, 0.2549],\n",
       "          [1.0000, 0.9608, 1.0000]],\n",
       "\n",
       "         [[0.9843, 0.9725, 0.3490],\n",
       "          [0.9608, 0.6706, 0.2549],\n",
       "          [1.0000, 0.9608, 1.0000]]],\n",
       "\n",
       "\n",
       "        [[[0.9804, 0.8157, 0.7647],\n",
       "          [0.9137, 0.6510, 0.4431],\n",
       "          [1.0000, 0.9686, 1.0000]],\n",
       "\n",
       "         [[0.9804, 0.8157, 0.7647],\n",
       "          [0.9137, 0.6510, 0.4431],\n",
       "          [1.0000, 0.9686, 1.0000]],\n",
       "\n",
       "         [[0.9804, 0.8157, 0.7647],\n",
       "          [0.9137, 0.6510, 0.4431],\n",
       "          [1.0000, 0.9686, 1.0000]]],\n",
       "\n",
       "\n",
       "        [[[0.9804, 0.8667, 0.3137],\n",
       "          [0.9608, 0.7333, 0.3804],\n",
       "          [1.0000, 0.9725, 1.0000]],\n",
       "\n",
       "         [[0.9804, 0.8667, 0.3137],\n",
       "          [0.9608, 0.7333, 0.3804],\n",
       "          [1.0000, 0.9725, 1.0000]],\n",
       "\n",
       "         [[0.9804, 0.8667, 0.3137],\n",
       "          [0.9608, 0.7333, 0.3804],\n",
       "          [1.0000, 0.9725, 1.0000]]],\n",
       "\n",
       "\n",
       "        [[[0.9843, 0.8392, 0.1373],\n",
       "          [0.9804, 0.8902, 0.3608],\n",
       "          [1.0000, 0.9843, 1.0000]],\n",
       "\n",
       "         [[0.9843, 0.8392, 0.1373],\n",
       "          [0.9804, 0.8902, 0.3608],\n",
       "          [1.0000, 0.9843, 1.0000]],\n",
       "\n",
       "         [[0.9843, 0.8392, 0.1373],\n",
       "          [0.9804, 0.8902, 0.3608],\n",
       "          [1.0000, 0.9843, 1.0000]]],\n",
       "\n",
       "\n",
       "        [[[0.9804, 0.8353, 0.7020],\n",
       "          [0.9529, 0.6118, 0.3176],\n",
       "          [1.0000, 0.9529, 1.0000]],\n",
       "\n",
       "         [[0.9804, 0.8353, 0.7020],\n",
       "          [0.9529, 0.6118, 0.3176],\n",
       "          [1.0000, 0.9529, 1.0000]],\n",
       "\n",
       "         [[0.9804, 0.8353, 0.7020],\n",
       "          [0.9529, 0.6118, 0.3176],\n",
       "          [1.0000, 0.9529, 1.0000]]],\n",
       "\n",
       "\n",
       "        [[[0.9804, 0.4510, 0.2549],\n",
       "          [0.9529, 0.6824, 0.8118],\n",
       "          [1.0000, 0.9647, 1.0000]],\n",
       "\n",
       "         [[0.9804, 0.4510, 0.2549],\n",
       "          [0.9529, 0.6824, 0.8118],\n",
       "          [1.0000, 0.9647, 1.0000]],\n",
       "\n",
       "         [[0.9804, 0.4510, 0.2549],\n",
       "          [0.9529, 0.6824, 0.8118],\n",
       "          [1.0000, 0.9647, 1.0000]]],\n",
       "\n",
       "\n",
       "        [[[0.9725, 0.4431, 0.9804],\n",
       "          [0.9843, 0.7843, 0.8078],\n",
       "          [1.0000, 0.9843, 1.0000]],\n",
       "\n",
       "         [[0.9725, 0.4431, 0.9804],\n",
       "          [0.9843, 0.7843, 0.8078],\n",
       "          [1.0000, 0.9843, 1.0000]],\n",
       "\n",
       "         [[0.9725, 0.4431, 0.9804],\n",
       "          [0.9843, 0.7843, 0.8078],\n",
       "          [1.0000, 0.9843, 1.0000]]]], device='cuda:0')"
      ]
     },
     "execution_count": 38,
     "metadata": {},
     "output_type": "execute_result"
    }
   ],
   "source": [
    "cnn_batch"
   ]
  },
  {
   "cell_type": "code",
   "execution_count": 40,
   "id": "ad3687a6-8ddf-491b-af77-b292adec9835",
   "metadata": {},
   "outputs": [],
   "source": [
    "cnn_output = model5.cnn_branch(cnn_batch)"
   ]
  },
  {
   "cell_type": "code",
   "execution_count": 41,
   "id": "e3629f0c-7916-47ab-8bdf-0d27f4906ea0",
   "metadata": {},
   "outputs": [
    {
     "data": {
      "text/plain": [
       "tensor([[0.0000, 0.9768, 0.5233,  ..., 0.0000, 0.0000, 0.0000],\n",
       "        [0.0000, 0.0000, 0.0960,  ..., 2.4245, 0.0000, 0.0000],\n",
       "        [0.0000, 0.9984, 0.5258,  ..., 0.2121, 0.0000, 0.0000],\n",
       "        ...,\n",
       "        [0.0000, 0.0000, 0.1267,  ..., 2.3033, 0.0000, 0.0000],\n",
       "        [0.0000, 1.0997, 0.2589,  ..., 0.3736, 0.0000, 0.0000],\n",
       "        [0.0000, 1.7976, 0.3777,  ..., 0.0000, 0.0000, 0.0000]],\n",
       "       device='cuda:0', grad_fn=<ViewBackward0>)"
      ]
     },
     "execution_count": 41,
     "metadata": {},
     "output_type": "execute_result"
    }
   ],
   "source": [
    "cnn_output"
   ]
  },
  {
   "cell_type": "code",
   "execution_count": 42,
   "id": "7fa87d7d-e5c2-4189-bde1-27c4a3519025",
   "metadata": {},
   "outputs": [],
   "source": [
    "concatenated = torch.cat((mlp_batch, cnn_output), dim=1)"
   ]
  },
  {
   "cell_type": "code",
   "execution_count": 43,
   "id": "653abb49-adf5-4261-9f10-63fda859fe86",
   "metadata": {},
   "outputs": [
    {
     "data": {
      "text/plain": [
       "tensor([[0.0969, 0.3333, 0.0215,  ..., 0.0000, 0.0000, 0.0000],\n",
       "        [0.4101, 0.8235, 0.0362,  ..., 2.4245, 0.0000, 0.0000],\n",
       "        [0.1860, 0.2353, 0.0277,  ..., 0.2121, 0.0000, 0.0000],\n",
       "        ...,\n",
       "        [0.3876, 0.2941, 0.0490,  ..., 2.3033, 0.0000, 0.0000],\n",
       "        [0.3183, 0.7451, 0.0357,  ..., 0.3736, 0.0000, 0.0000],\n",
       "        [0.2168, 0.0196, 0.0175,  ..., 0.0000, 0.0000, 0.0000]],\n",
       "       device='cuda:0', grad_fn=<CatBackward0>)"
      ]
     },
     "execution_count": 43,
     "metadata": {},
     "output_type": "execute_result"
    }
   ],
   "source": [
    "concatenated"
   ]
  },
  {
   "cell_type": "code",
   "execution_count": 44,
   "id": "175fc0ee-9b22-4952-ad4e-34ccbab9ba46",
   "metadata": {},
   "outputs": [
    {
     "name": "stdout",
     "output_type": "stream",
     "text": [
      "lstsq failed\n"
     ]
    },
    {
     "ename": "UnboundLocalError",
     "evalue": "cannot access local variable 'coef' where it is not associated with a value",
     "output_type": "error",
     "traceback": [
      "\u001b[1;31m---------------------------------------------------------------------------\u001b[0m",
      "\u001b[1;31mUnboundLocalError\u001b[0m                         Traceback (most recent call last)",
      "Cell \u001b[1;32mIn[44], line 1\u001b[0m\n\u001b[1;32m----> 1\u001b[0m model5\u001b[38;5;241m.\u001b[39mm_kan\u001b[38;5;241m.\u001b[39mupdate_grid(concatenated)\n",
      "File \u001b[1;32m~\\OneDrive\\Documents\\Master Data Science\\Thesis\\pykan\\kan\\MultKAN.py:723\u001b[0m, in \u001b[0;36mMultKAN.update_grid\u001b[1;34m(self, x)\u001b[0m\n\u001b[0;32m    719\u001b[0m \u001b[38;5;28;01mdef\u001b[39;00m \u001b[38;5;21mupdate_grid\u001b[39m(\u001b[38;5;28mself\u001b[39m, x):\n\u001b[0;32m    720\u001b[0m \u001b[38;5;250m    \u001b[39m\u001b[38;5;124;03m'''\u001b[39;00m\n\u001b[0;32m    721\u001b[0m \u001b[38;5;124;03m    call update_grid_from_samples. This seems unnecessary but we retain it for the sake of classes that might inherit from MultKAN\u001b[39;00m\n\u001b[0;32m    722\u001b[0m \u001b[38;5;124;03m    '''\u001b[39;00m\n\u001b[1;32m--> 723\u001b[0m     \u001b[38;5;28mself\u001b[39m\u001b[38;5;241m.\u001b[39mupdate_grid_from_samples(x)\n",
      "File \u001b[1;32m~\\OneDrive\\Documents\\Master Data Science\\Thesis\\pykan\\kan\\MultKAN.py:717\u001b[0m, in \u001b[0;36mMultKAN.update_grid_from_samples\u001b[1;34m(self, x)\u001b[0m\n\u001b[0;32m    715\u001b[0m \u001b[38;5;28;01mfor\u001b[39;00m l \u001b[38;5;129;01min\u001b[39;00m \u001b[38;5;28mrange\u001b[39m(\u001b[38;5;28mself\u001b[39m\u001b[38;5;241m.\u001b[39mdepth):\n\u001b[0;32m    716\u001b[0m     \u001b[38;5;28mself\u001b[39m\u001b[38;5;241m.\u001b[39mget_act(x)\n\u001b[1;32m--> 717\u001b[0m     \u001b[38;5;28mself\u001b[39m\u001b[38;5;241m.\u001b[39mact_fun[l]\u001b[38;5;241m.\u001b[39mupdate_grid_from_samples(\u001b[38;5;28mself\u001b[39m\u001b[38;5;241m.\u001b[39macts[l])\n",
      "File \u001b[1;32m~\\OneDrive\\Documents\\Master Data Science\\Thesis\\pykan\\kan\\KANLayer.py:223\u001b[0m, in \u001b[0;36mKANLayer.update_grid_from_samples\u001b[1;34m(self, x, mode)\u001b[0m\n\u001b[0;32m    220\u001b[0m \u001b[38;5;28mself\u001b[39m\u001b[38;5;241m.\u001b[39mgrid\u001b[38;5;241m.\u001b[39mdata \u001b[38;5;241m=\u001b[39m extend_grid(grid, k_extend\u001b[38;5;241m=\u001b[39m\u001b[38;5;28mself\u001b[39m\u001b[38;5;241m.\u001b[39mk)\n\u001b[0;32m    221\u001b[0m \u001b[38;5;66;03m#print('x_pos 2', x_pos.shape)\u001b[39;00m\n\u001b[0;32m    222\u001b[0m \u001b[38;5;66;03m#print('y_eval 2', y_eval.shape)\u001b[39;00m\n\u001b[1;32m--> 223\u001b[0m \u001b[38;5;28mself\u001b[39m\u001b[38;5;241m.\u001b[39mcoef\u001b[38;5;241m.\u001b[39mdata \u001b[38;5;241m=\u001b[39m curve2coef(x_pos, y_eval, \u001b[38;5;28mself\u001b[39m\u001b[38;5;241m.\u001b[39mgrid, \u001b[38;5;28mself\u001b[39m\u001b[38;5;241m.\u001b[39mk)\n",
      "File \u001b[1;32m~\\OneDrive\\Documents\\Master Data Science\\Thesis\\pykan\\kan\\spline.py:131\u001b[0m, in \u001b[0;36mcurve2coef\u001b[1;34m(x_eval, y_eval, grid, k)\u001b[0m\n\u001b[0;32m    121\u001b[0m \u001b[38;5;66;03m# manual psuedo-inverse\u001b[39;00m\n\u001b[0;32m    122\u001b[0m \u001b[38;5;250m\u001b[39m\u001b[38;5;124;03m'''lamb=1e-8\u001b[39;00m\n\u001b[0;32m    123\u001b[0m \u001b[38;5;124;03mXtX = torch.einsum('ijmn,ijnp->ijmp', mat.permute(0,1,3,2), mat)\u001b[39;00m\n\u001b[0;32m    124\u001b[0m \u001b[38;5;124;03mXty = torch.einsum('ijmn,ijnp->ijmp', mat.permute(0,1,3,2), y_eval)\u001b[39;00m\n\u001b[1;32m   (...)\u001b[0m\n\u001b[0;32m    128\u001b[0m \u001b[38;5;124;03mB = Xty\u001b[39;00m\n\u001b[0;32m    129\u001b[0m \u001b[38;5;124;03mcoef = (A.pinverse() @ B)[:,:,:,0]'''\u001b[39;00m\n\u001b[1;32m--> 131\u001b[0m \u001b[38;5;28;01mreturn\u001b[39;00m coef\n",
      "\u001b[1;31mUnboundLocalError\u001b[0m: cannot access local variable 'coef' where it is not associated with a value"
     ]
    }
   ],
   "source": [
    "model5.m_kan.update_grid(concatenated)"
   ]
  },
  {
   "cell_type": "code",
   "execution_count": 52,
   "id": "3d988628-e7e0-46f3-ac90-8e54aada4f41",
   "metadata": {},
   "outputs": [],
   "source": [
    "grid_update_num=10\n",
    "stop_grid_update_step=50\n",
    "grid_update_freq = int(stop_grid_update_step / grid_update_num) if grid_update_num > 0 else 1"
   ]
  },
  {
   "cell_type": "code",
   "execution_count": 53,
   "id": "7da6cbb7-895e-4fcc-aba1-52b6d485e0d3",
   "metadata": {},
   "outputs": [
    {
     "data": {
      "text/plain": [
       "5"
      ]
     },
     "execution_count": 53,
     "metadata": {},
     "output_type": "execute_result"
    }
   ],
   "source": [
    "grid_update_freq"
   ]
  },
  {
   "cell_type": "code",
   "execution_count": 26,
   "id": "f60a2a0b-9f82-45eb-a207-7aeccebdb935",
   "metadata": {},
   "outputs": [],
   "source": [
    "import os\n",
    "import time\n",
    "import copy\n",
    "import numpy as np\n",
    "import torch\n",
    "import torch.optim as optim\n",
    "from torch.optim import LBFGS\n",
    "from tqdm import tqdm\n",
    "import matplotlib.pyplot as plt\n",
    "\n",
    "def fit_hybrid_dataloaders(model, \n",
    "                           dataset,\n",
    "                           opt=\"Adam\", \n",
    "                           steps=100, \n",
    "                           log=1, \n",
    "                           lamb=0., \n",
    "                           lamb_l1=1., \n",
    "                           lamb_entropy=2., \n",
    "                           lamb_coef=0., \n",
    "                           lamb_coefdiff=0., \n",
    "                           update_grid=True, \n",
    "                           grid_update_num=10, \n",
    "                           loss_fn=None, \n",
    "                           lr=1., \n",
    "                           start_grid_update_step=-1, \n",
    "                           stop_grid_update_step=50, \n",
    "                           batch=-1,\n",
    "                           metrics=None, \n",
    "                           save_fig=False, \n",
    "                           in_vars=None, \n",
    "                           out_vars=None, \n",
    "                           beta=3, \n",
    "                           save_fig_freq=1, \n",
    "                           img_folder='./video', \n",
    "                           singularity_avoiding=False, \n",
    "                           y_th=1000., \n",
    "                           reg_metric='edge_forward_spline_n', \n",
    "                           display_metrics=None):\n",
    "    \"\"\"\n",
    "    Trains the hybrid model (with a KAN branch and a CNN branch) using a steps-based loop\n",
    "    adapted from KAN.fit(), with grid updates and regularization.\n",
    "    \n",
    "    Instead of a single dataset dict, this function accepts three DataLoaders:\n",
    "        - train_loader: provides (mlp, img, target) for training\n",
    "        - val_loader: provides (mlp, img, target) for validation\n",
    "        - test_loader: provides (mlp, img, target) for evaluation during training\n",
    "\n",
    "    Internally, the function combines each loader into a dataset dictionary.\n",
    "    \n",
    "    Returns:\n",
    "        results: dictionary containing training loss, evaluation loss, regularization values,\n",
    "                 and any additional metrics recorded during training.\n",
    "    \"\"\"\n",
    "    #device = next(model.parameters()).device\n",
    "\n",
    "    # Warn if regularization is requested but model's internal flag isn't enabled.\n",
    "    if lamb > 0. and not getattr(model.m_kan, \"save_act\", False):\n",
    "        print(\"setting lamb=0. If you want to set lamb > 0, set model.m_kan.save_act=True\")\n",
    "    \n",
    "    # Disable symbolic processing for training if applicable (KAN internal logic)\n",
    "    if hasattr(model.m_kan, \"disable_symbolic_in_fit\"):\n",
    "        old_save_act, old_symbolic_enabled = model.m_kan.disable_symbolic_in_fit(lamb)\n",
    "    else:\n",
    "        old_save_act, old_symbolic_enabled = None, None\n",
    "\n",
    "    pbar = tqdm(range(steps), desc='Training', ncols=100)\n",
    "\n",
    "    # Default loss function (mean squared error) if not provided\n",
    "    if loss_fn is None:\n",
    "        loss_fn = lambda x, y: torch.mean((x - y) ** 2)\n",
    "\n",
    "    # Determine grid update frequency\n",
    "    grid_update_freq = int(stop_grid_update_step / grid_update_num) if grid_update_num > 0 else 1\n",
    "\n",
    "    # Determine total number of training examples\n",
    "    n_train = dataset[\"train_mlp\"].shape[0]\n",
    "    n_eval  = dataset[\"test_mlp\"].shape[0]  # using test set for evaluation during training\n",
    "    batch_size = n_train if batch == -1 or batch > n_train else batch\n",
    "\n",
    "    # Set up optimizer: choose between Adam and LBFGS (removed tolerance_ys)\n",
    "    if opt == \"Adam\":\n",
    "        optimizer = optim.Adam(model.parameters(), lr=lr)\n",
    "    elif opt == \"LBFGS\":\n",
    "        optimizer = LBFGS(model.parameters(), lr=lr, history_size=10, \n",
    "                          line_search_fn=\"strong_wolfe\", \n",
    "                          tolerance_grad=1e-32, \n",
    "                          tolerance_change=1e-32)\n",
    "    else:\n",
    "        raise ValueError(\"Optimizer not recognized. Use 'Adam' or 'LBFGS'.\")\n",
    "\n",
    "    # Prepare results dictionary.\n",
    "    results = {\n",
    "        'train_loss': [],\n",
    "        'eval_loss': [],\n",
    "        'val_loss': [],\n",
    "        'reg': []\n",
    "    }\n",
    "\n",
    "    \n",
    "    if metrics is not None:\n",
    "        for metric in metrics:\n",
    "            results[metric.__name__] = []\n",
    "\n",
    "    for step in pbar:\n",
    "        # Randomly sample indices for a mini-batch from the training set.\n",
    "        train_indices = np.random.choice(n_train, batch_size, replace=False)\n",
    "        # Use full evaluation set for evaluation; you can also sample if desired.\n",
    "        eval_indices = np.arange(n_eval)\n",
    "\n",
    "        # Closure for LBFGS\n",
    "        def closure():\n",
    "            optimizer.zero_grad()\n",
    "            mlp_batch = dataset[\"train_mlp\"][train_indices]\n",
    "            img_batch = dataset[\"train_img\"][train_indices]\n",
    "            target_batch = dataset[\"train_target\"][train_indices]\n",
    "            outputs = model(mlp_batch, img_batch)\n",
    "            train_loss = loss_fn(outputs, target_batch)\n",
    "            # Compute regularization term if enabled.\n",
    "            if hasattr(model.m_kan, \"save_act\") and model.m_kan.save_act:\n",
    "                if reg_metric == 'edge_backward':\n",
    "                    model.m_kan.attribute()\n",
    "                    #model.final_kan.attribute()\n",
    "                if reg_metric == 'node_backward':\n",
    "                    model.m_kan.node_attribute()\n",
    "                    #model.final_kan.node_attribute()\n",
    "                reg_val_inner = model.m_kan.get_reg(reg_metric, lamb_l1, lamb_entropy, lamb_coef, lamb_coefdiff)\n",
    "            else:\n",
    "                reg_val_inner = torch.tensor(0., device=device)\n",
    "            loss_val_inner = train_loss + lamb * reg_val_inner\n",
    "            loss_val_inner.backward()\n",
    "            return loss_val_inner\n",
    "\n",
    "        # Perform grid update if applicable.\n",
    "        if (step % grid_update_freq == 0 and step < stop_grid_update_step \n",
    "            and update_grid and step >= start_grid_update_step):\n",
    "            mlp_batch = dataset['train_mlp'][train_indices]\n",
    "            cnn_batch = dataset['train_img'][train_indices]\n",
    "            cnn_output = model.cnn_branch(cnn_batch)  # Process image input\n",
    "            #concatenated  = model.get_concat_output(mlp_batch, cnn_output)\n",
    "            concatenated = torch.cat((mlp_batch, cnn_output), dim=1)\n",
    "            model.m_kan.update_grid(concatenated)\n",
    "\n",
    "        # Perform an optimizer step.\n",
    "        if opt == \"LBFGS\":\n",
    "            optimizer.step(closure)\n",
    "            loss_val = closure()  # re-evaluate to record loss\n",
    "            # Compute reg_val separately for logging\n",
    "            with torch.no_grad():\n",
    "                mlp_batch = dataset[\"train_mlp\"][train_indices]\n",
    "                img_batch = dataset[\"train_img\"][train_indices]\n",
    "                target_batch = dataset[\"train_target\"][train_indices]\n",
    "                outputs = model(mlp_batch, img_batch)\n",
    "                train_loss = loss_fn(outputs, target_batch)\n",
    "                if hasattr(model.m_kan, \"save_act\") and model.m_kan.save_act:\n",
    "                    if reg_metric == 'edge_backward':\n",
    "                        model.m_kan.attribute()\n",
    "                        #model.final_kan.attribute()\n",
    "                    if reg_metric == 'node_backward':\n",
    "                        model.m_kan.node_attribute()\n",
    "                        #model.final_kan.node_attribute()\n",
    "                    reg_val = model.m_kan.get_reg(reg_metric, lamb_l1, lamb_entropy, lamb_coef, lamb_coefdiff)\n",
    "                    #reg_val = (reg_val + model.final_kan.get_reg(reg_metric, lamb_l1, lamb_entropy, lamb_coef, lamb_coefdiff))/2\n",
    "                else:\n",
    "                    reg_val = torch.tensor(0., device=device)\n",
    "        else:  # Adam branch\n",
    "            optimizer.zero_grad()\n",
    "            mlp_batch = dataset[\"train_mlp\"][train_indices]\n",
    "            img_batch = dataset[\"train_img\"][train_indices]\n",
    "            target_batch = dataset[\"train_target\"][train_indices]\n",
    "            outputs = model(mlp_batch, img_batch)\n",
    "            train_loss = loss_fn(outputs, target_batch)\n",
    "            if hasattr(model.m_kan, \"save_act\") and model.m_kan.save_act:\n",
    "                if reg_metric == 'edge_backward':\n",
    "                    model.m_kan.attribute()\n",
    "                    #model.final_kan.attribute()\n",
    "                if reg_metric == 'node_backward':\n",
    "                    model.m_kan.node_attribute()\n",
    "                    #model.final_kan.node_attribute()\n",
    "                reg_val = model.m_kan.get_reg(reg_metric, lamb_l1, lamb_entropy, lamb_coef, lamb_coefdiff)\n",
    "                #reg_val = (reg_val + model.final_kan.get_reg(reg_metric, lamb_l1, lamb_entropy, lamb_coef, lamb_coefdiff))/2\n",
    "            else:\n",
    "                reg_val = torch.tensor(0., device=device)\n",
    "            loss_val = train_loss + lamb * reg_val\n",
    "            loss_val.backward()\n",
    "            optimizer.step()\n",
    "\n",
    "        # Evaluate on the entire evaluation set (from test_loader)\n",
    "        mlp_eval = dataset[\"test_mlp\"][eval_indices]\n",
    "        img_eval = dataset[\"test_img\"][eval_indices]\n",
    "        target_eval = dataset[\"test_target\"][eval_indices]\n",
    "        eval_loss = loss_fn(model(mlp_eval, img_eval), target_eval)\n",
    "\n",
    "        # Record results (using square-root of loss similar to KAN.fit)\n",
    "        results['train_loss'].append(torch.sqrt(loss_val.detach()).item())\n",
    "        results['eval_loss'].append(torch.sqrt(eval_loss.detach()).item())\n",
    "        results['reg'].append(reg_val.detach().item())\n",
    "\n",
    "        # New: Compute validation loss if validation data exists in the dataset.\n",
    "        # val_loss = loss_fn(model(dataset['val_mlp'][eval_indices], dataset['val_img'][eval_indices]), dataset['val_target'][eval_indices])\n",
    "        # results['val_loss'].append(torch.sqrt(val_loss).cpu().detach().numpy())\n",
    "\n",
    "        if metrics is not None:\n",
    "            for metric in metrics:\n",
    "                # Here, we assume each metric returns a tensor.\n",
    "                results[metric.__name__].append(metric().item())\n",
    "\n",
    "        # Update progress bar.\n",
    "        if display_metrics is None:\n",
    "            pbar.set_description(\"| train_loss: %.2e | eval_loss: %.2e | reg: %.2e |\" %\n",
    "                                 (torch.sqrt(loss_val.detach()).item(),\n",
    "                                  torch.sqrt(eval_loss.detach()).item(),\n",
    "                                  reg_val.detach().item()))\n",
    "        else:\n",
    "            desc = \"\"\n",
    "            data = []\n",
    "            for metric in display_metrics:\n",
    "                desc += f\" {metric}: %.2e |\"\n",
    "                data.append(results[metric.__name__][-1])\n",
    "            pbar.set_description(desc % tuple(data))\n",
    "\n",
    "        # Optionally save a figure snapshot.\n",
    "        if save_fig and step % save_fig_freq == 0:\n",
    "            save_act_backup = getattr(model.m_kan, \"save_act\", False)\n",
    "            model.m_kan.save_act = True\n",
    "            model.plot(folder=img_folder, in_vars=in_vars, out_vars=out_vars, title=f\"Step {step}\", beta=beta)\n",
    "            plt.savefig(os.path.join(img_folder, f\"{step}.jpg\"), bbox_inches='tight', dpi=200)\n",
    "            plt.close()\n",
    "            model.m_kan.save_act = save_act_backup\n",
    "\n",
    "    # Restore original settings if applicable.\n",
    "    if old_symbolic_enabled is not None:\n",
    "        model.m_kan.symbolic_enabled = old_symbolic_enabled\n",
    "    if hasattr(model.m_kan, \"log_history\"):\n",
    "        model.m_kan.log_history('fit')\n",
    "\n",
    "    return results\n"
   ]
  },
  {
   "cell_type": "code",
   "execution_count": 56,
   "id": "69067320-88a3-4bf5-96c8-9d177c1668aa",
   "metadata": {},
   "outputs": [
    {
     "name": "stdout",
     "output_type": "stream",
     "text": [
      "checkpoint directory created: ./model\n",
      "saving model version 0.0\n",
      "Successfully created and tested Model5\n"
     ]
    },
    {
     "name": "stderr",
     "output_type": "stream",
     "text": [
      "\n",
      "Training:   0%|                                                              | 0/10 [00:00<?, ?it/s]\u001b[A\n",
      "| train_loss: nan | eval_loss: nan | reg: 0.00e+00 |:   0%|                  | 0/10 [00:00<?, ?it/s]\u001b[A\n",
      "| train_loss: nan | eval_loss: nan | reg: 0.00e+00 |:  10%|█         | 1/10 [00:00<00:03,  2.81it/s]\u001b[A\n",
      "| train_loss: nan | eval_loss: nan | reg: 0.00e+00 |:  10%|█         | 1/10 [00:00<00:03,  2.81it/s]\u001b[A\n",
      "| train_loss: nan | eval_loss: nan | reg: 0.00e+00 |:  20%|██        | 2/10 [00:00<00:01,  4.65it/s]\u001b[A\n",
      "| train_loss: nan | eval_loss: nan | reg: 0.00e+00 |:  20%|██        | 2/10 [00:00<00:01,  4.65it/s]\u001b[A\n",
      "| train_loss: nan | eval_loss: nan | reg: 0.00e+00 |:  20%|██        | 2/10 [00:00<00:01,  4.65it/s]\u001b[A\n",
      "| train_loss: nan | eval_loss: nan | reg: 0.00e+00 |:  40%|████      | 4/10 [00:00<00:00,  8.75it/s]\u001b[A\n",
      "| train_loss: nan | eval_loss: nan | reg: 0.00e+00 |:  40%|████      | 4/10 [00:00<00:00,  8.75it/s]\u001b[A\n",
      "| train_loss: nan | eval_loss: nan | reg: 0.00e+00 |:  40%|████      | 4/10 [00:00<00:00,  8.75it/s]\u001b[A\n",
      "| train_loss: nan | eval_loss: nan | reg: 0.00e+00 |:  60%|██████    | 6/10 [00:00<00:00, 11.60it/s]\u001b[A\n",
      "| train_loss: nan | eval_loss: nan | reg: 0.00e+00 |:  60%|██████    | 6/10 [00:00<00:00, 11.60it/s]\u001b[A\n",
      "| train_loss: nan | eval_loss: nan | reg: 0.00e+00 |:  60%|██████    | 6/10 [00:00<00:00, 11.60it/s]\u001b[A\n",
      "| train_loss: nan | eval_loss: nan | reg: 0.00e+00 |:  80%|████████  | 8/10 [00:00<00:00, 13.66it/s]\u001b[A\n",
      "| train_loss: nan | eval_loss: nan | reg: 0.00e+00 |:  80%|████████  | 8/10 [00:00<00:00, 13.66it/s]\u001b[A\n",
      "| train_loss: nan | eval_loss: nan | reg: 0.00e+00 |:  80%|████████  | 8/10 [00:00<00:00, 13.66it/s]\u001b[A\n",
      "| train_loss: nan | eval_loss: nan | reg: 0.00e+00 |: 100%|█████████| 10/10 [00:00<00:00, 11.05it/s]\u001b[A"
     ]
    },
    {
     "name": "stdout",
     "output_type": "stream",
     "text": [
      "saving model version 0.1\n"
     ]
    },
    {
     "name": "stderr",
     "output_type": "stream",
     "text": [
      "\n"
     ]
    }
   ],
   "source": [
    "model5 = try_create_model(Model5, attributes, imgs_shape, device)\n",
    "metrics5 = fit_hybrid_dataloaders(model5, dataset, opt=\"Adam\", steps=10, stop_grid_update_step=2, grid_update_num=2)"
   ]
  },
  {
   "cell_type": "code",
   "execution_count": 19,
   "id": "601aa025-47d6-4ed9-981f-b82a83392641",
   "metadata": {},
   "outputs": [
    {
     "name": "stdout",
     "output_type": "stream",
     "text": [
      "checkpoint directory created: ./model\n",
      "saving model version 0.0\n",
      "Successfully created and tested Model5\n"
     ]
    },
    {
     "name": "stderr",
     "output_type": "stream",
     "text": [
      "| train_loss: 1.15e+00 | eval_loss: 1.18e+00 | reg: 0.00e+00 |: 100%|█| 100/100 [00:04<00:00, 22.02i"
     ]
    },
    {
     "name": "stdout",
     "output_type": "stream",
     "text": [
      "saving model version 0.1\n"
     ]
    },
    {
     "name": "stderr",
     "output_type": "stream",
     "text": [
      "\n"
     ]
    }
   ],
   "source": [
    "model5 = try_create_model(Model5, attributes, imgs_shape, device)\n",
    "metrics5 = fit_hybrid_dataloaders(model5, dataset, opt=\"Adam\", steps=100, update_grid=False)"
   ]
  },
  {
   "cell_type": "code",
   "execution_count": 20,
   "id": "83ed981f-d955-4271-b3e9-82ec9df62d04",
   "metadata": {},
   "outputs": [
    {
     "data": {
      "image/png": "[encoded data removed]",
      "text/plain": [
       "<Figure size 640x480 with 1 Axes>"
      ]
     },
     "metadata": {},
     "output_type": "display_data"
    }
   ],
   "source": [
    "plt.plot(metrics5['train_loss'])\n",
    "plt.plot(metrics5['eval_loss'])\n",
    "plt.legend(['train', 'test'])\n",
    "plt.ylabel('RMSE')\n",
    "plt.xlabel('step')\n",
    "plt.yscale('log')"
   ]
  },
  {
   "cell_type": "code",
   "execution_count": 36,
   "id": "c1e414f4-fff5-418a-87f5-3a085e855926",
   "metadata": {},
   "outputs": [
    {
     "name": "stdout",
     "output_type": "stream",
     "text": [
      "checkpoint directory created: ./model\n",
      "saving model version 0.0\n",
      "Successfully created and tested Model5\n"
     ]
    },
    {
     "name": "stderr",
     "output_type": "stream",
     "text": [
      "\n",
      "Training:   0%|                                                              | 0/30 [00:00<?, ?it/s]\u001b[A\n",
      "| train_loss: 7.08e-01 | eval_loss: 7.44e-01 | reg: 0.00e+00 |:   0%|        | 0/30 [00:01<?, ?it/s]\u001b[A\n",
      "| train_loss: 7.08e-01 | eval_loss: 7.44e-01 | reg: 0.00e+00 |:   3%| | 1/30 [00:01<00:52,  1.80s/it\u001b[A\n",
      "| train_loss: 6.79e-01 | eval_loss: 7.11e-01 | reg: 0.00e+00 |:   3%| | 1/30 [00:03<00:52,  1.80s/it\u001b[A\n",
      "| train_loss: 6.79e-01 | eval_loss: 7.11e-01 | reg: 0.00e+00 |:   7%| | 2/30 [00:03<00:49,  1.75s/it\u001b[A\n",
      "| train_loss: 6.57e-01 | eval_loss: 6.92e-01 | reg: 0.00e+00 |:   7%| | 2/30 [00:05<00:49,  1.75s/it\u001b[A\n",
      "| train_loss: 6.57e-01 | eval_loss: 6.92e-01 | reg: 0.00e+00 |:  10%| | 3/30 [00:05<00:44,  1.67s/it\u001b[A\n",
      "| train_loss: 6.46e-01 | eval_loss: 6.85e-01 | reg: 0.00e+00 |:  10%| | 3/30 [00:06<00:44,  1.67s/it\u001b[A\n",
      "| train_loss: 6.46e-01 | eval_loss: 6.85e-01 | reg: 0.00e+00 |:  13%|▏| 4/30 [00:06<00:42,  1.62s/it\u001b[A\n",
      "| train_loss: 6.33e-01 | eval_loss: 6.67e-01 | reg: 0.00e+00 |:  13%|▏| 4/30 [00:08<00:42,  1.62s/it\u001b[A\n",
      "| train_loss: 6.33e-01 | eval_loss: 6.67e-01 | reg: 0.00e+00 |:  17%|▏| 5/30 [00:08<00:40,  1.62s/it\u001b[A\n",
      "| train_loss: 6.22e-01 | eval_loss: 6.58e-01 | reg: 0.00e+00 |:  17%|▏| 5/30 [00:09<00:40,  1.62s/it\u001b[A\n",
      "| train_loss: 6.22e-01 | eval_loss: 6.58e-01 | reg: 0.00e+00 |:  20%|▏| 6/30 [00:09<00:38,  1.61s/it\u001b[A\n",
      "| train_loss: 6.13e-01 | eval_loss: 6.52e-01 | reg: 0.00e+00 |:  20%|▏| 6/30 [00:11<00:38,  1.61s/it\u001b[A\n",
      "| train_loss: 6.13e-01 | eval_loss: 6.52e-01 | reg: 0.00e+00 |:  23%|▏| 7/30 [00:11<00:36,  1.60s/it\u001b[A\n",
      "| train_loss: 6.07e-01 | eval_loss: 6.45e-01 | reg: 0.00e+00 |:  23%|▏| 7/30 [00:13<00:36,  1.60s/it\u001b[A\n",
      "| train_loss: 6.07e-01 | eval_loss: 6.45e-01 | reg: 0.00e+00 |:  27%|▎| 8/30 [00:13<00:35,  1.62s/it\u001b[A\n",
      "| train_loss: 6.02e-01 | eval_loss: 6.40e-01 | reg: 0.00e+00 |:  27%|▎| 8/30 [00:14<00:35,  1.62s/it\u001b[A\n",
      "| train_loss: 6.02e-01 | eval_loss: 6.40e-01 | reg: 0.00e+00 |:  30%|▎| 9/30 [00:14<00:33,  1.58s/it\u001b[A\n",
      "| train_loss: 5.99e-01 | eval_loss: 6.39e-01 | reg: 0.00e+00 |:  30%|▎| 9/30 [00:16<00:33,  1.58s/it\u001b[A\n",
      "| train_loss: 5.99e-01 | eval_loss: 6.39e-01 | reg: 0.00e+00 |:  33%|▎| 10/30 [00:16<00:31,  1.55s/i\u001b[A\n",
      "| train_loss: 5.97e-01 | eval_loss: 6.35e-01 | reg: 0.00e+00 |:  33%|▎| 10/30 [00:17<00:31,  1.55s/i\u001b[A\n",
      "| train_loss: 5.97e-01 | eval_loss: 6.35e-01 | reg: 0.00e+00 |:  37%|▎| 11/30 [00:17<00:29,  1.56s/i\u001b[A\n",
      "| train_loss: 5.94e-01 | eval_loss: 6.31e-01 | reg: 0.00e+00 |:  37%|▎| 11/30 [00:19<00:29,  1.56s/i\u001b[A\n",
      "| train_loss: 5.94e-01 | eval_loss: 6.31e-01 | reg: 0.00e+00 |:  40%|▍| 12/30 [00:19<00:28,  1.57s/i\u001b[A\n",
      "| train_loss: 5.92e-01 | eval_loss: 6.28e-01 | reg: 0.00e+00 |:  40%|▍| 12/30 [00:20<00:28,  1.57s/i\u001b[A\n",
      "| train_loss: 5.92e-01 | eval_loss: 6.28e-01 | reg: 0.00e+00 |:  43%|▍| 13/30 [00:20<00:26,  1.58s/i\u001b[A\n",
      "| train_loss: 5.90e-01 | eval_loss: 6.25e-01 | reg: 0.00e+00 |:  43%|▍| 13/30 [00:22<00:26,  1.58s/i\u001b[A\n",
      "| train_loss: 5.90e-01 | eval_loss: 6.25e-01 | reg: 0.00e+00 |:  47%|▍| 14/30 [00:22<00:25,  1.56s/i\u001b[A\n",
      "| train_loss: 5.89e-01 | eval_loss: 6.23e-01 | reg: 0.00e+00 |:  47%|▍| 14/30 [00:23<00:25,  1.56s/i\u001b[A\n",
      "| train_loss: 5.89e-01 | eval_loss: 6.23e-01 | reg: 0.00e+00 |:  50%|▌| 15/30 [00:23<00:23,  1.57s/i\u001b[A\n",
      "| train_loss: 5.87e-01 | eval_loss: 6.22e-01 | reg: 0.00e+00 |:  50%|▌| 15/30 [00:25<00:23,  1.57s/i\u001b[A\n",
      "| train_loss: 5.87e-01 | eval_loss: 6.22e-01 | reg: 0.00e+00 |:  53%|▌| 16/30 [00:25<00:22,  1.57s/i\u001b[A\n",
      "| train_loss: 5.86e-01 | eval_loss: 6.22e-01 | reg: 0.00e+00 |:  53%|▌| 16/30 [00:27<00:22,  1.57s/i\u001b[A\n",
      "| train_loss: 5.86e-01 | eval_loss: 6.22e-01 | reg: 0.00e+00 |:  57%|▌| 17/30 [00:27<00:20,  1.59s/i\u001b[A\n",
      "| train_loss: 5.85e-01 | eval_loss: 6.21e-01 | reg: 0.00e+00 |:  57%|▌| 17/30 [00:28<00:20,  1.59s/i\u001b[A\n",
      "| train_loss: 5.85e-01 | eval_loss: 6.21e-01 | reg: 0.00e+00 |:  60%|▌| 18/30 [00:28<00:19,  1.59s/i\u001b[A\n",
      "| train_loss: 5.84e-01 | eval_loss: 6.20e-01 | reg: 0.00e+00 |:  60%|▌| 18/30 [00:30<00:19,  1.59s/i\u001b[A\n",
      "| train_loss: 5.84e-01 | eval_loss: 6.20e-01 | reg: 0.00e+00 |:  63%|▋| 19/30 [00:30<00:17,  1.58s/i\u001b[A\n",
      "| train_loss: 5.83e-01 | eval_loss: 6.18e-01 | reg: 0.00e+00 |:  63%|▋| 19/30 [00:31<00:17,  1.58s/i\u001b[A\n",
      "| train_loss: 5.83e-01 | eval_loss: 6.18e-01 | reg: 0.00e+00 |:  67%|▋| 20/30 [00:31<00:15,  1.57s/i\u001b[A\n",
      "| train_loss: 5.82e-01 | eval_loss: 6.16e-01 | reg: 0.00e+00 |:  67%|▋| 20/30 [00:33<00:15,  1.57s/i\u001b[A\n",
      "| train_loss: 5.82e-01 | eval_loss: 6.16e-01 | reg: 0.00e+00 |:  70%|▋| 21/30 [00:33<00:14,  1.57s/i\u001b[A\n",
      "| train_loss: 5.81e-01 | eval_loss: 6.15e-01 | reg: 0.00e+00 |:  70%|▋| 21/30 [00:35<00:14,  1.57s/i\u001b[A\n",
      "| train_loss: 5.81e-01 | eval_loss: 6.15e-01 | reg: 0.00e+00 |:  73%|▋| 22/30 [00:35<00:12,  1.58s/i\u001b[A\n",
      "| train_loss: 5.80e-01 | eval_loss: 6.13e-01 | reg: 0.00e+00 |:  73%|▋| 22/30 [00:36<00:12,  1.58s/i\u001b[A\n",
      "| train_loss: 5.80e-01 | eval_loss: 6.13e-01 | reg: 0.00e+00 |:  77%|▊| 23/30 [00:36<00:10,  1.57s/i\u001b[A\n",
      "| train_loss: 5.78e-01 | eval_loss: 6.11e-01 | reg: 0.00e+00 |:  77%|▊| 23/30 [00:38<00:10,  1.57s/i\u001b[A\n",
      "| train_loss: 5.78e-01 | eval_loss: 6.11e-01 | reg: 0.00e+00 |:  80%|▊| 24/30 [00:38<00:09,  1.58s/i\u001b[A\n",
      "| train_loss: 5.77e-01 | eval_loss: 6.09e-01 | reg: 0.00e+00 |:  80%|▊| 24/30 [00:39<00:09,  1.58s/i\u001b[A\n",
      "| train_loss: 5.77e-01 | eval_loss: 6.09e-01 | reg: 0.00e+00 |:  83%|▊| 25/30 [00:39<00:07,  1.56s/i\u001b[A\n",
      "| train_loss: 5.76e-01 | eval_loss: 6.08e-01 | reg: 0.00e+00 |:  83%|▊| 25/30 [00:41<00:07,  1.56s/i\u001b[A\n",
      "| train_loss: 5.76e-01 | eval_loss: 6.08e-01 | reg: 0.00e+00 |:  87%|▊| 26/30 [00:41<00:06,  1.55s/i\u001b[A\n",
      "| train_loss: 5.74e-01 | eval_loss: 6.05e-01 | reg: 0.00e+00 |:  87%|▊| 26/30 [00:42<00:06,  1.55s/i\u001b[A\n",
      "| train_loss: 5.74e-01 | eval_loss: 6.05e-01 | reg: 0.00e+00 |:  90%|▉| 27/30 [00:42<00:04,  1.54s/i\u001b[A\n",
      "| train_loss: 5.74e-01 | eval_loss: 6.04e-01 | reg: 0.00e+00 |:  90%|▉| 27/30 [00:44<00:04,  1.54s/i\u001b[A\n",
      "| train_loss: 5.74e-01 | eval_loss: 6.04e-01 | reg: 0.00e+00 |:  93%|▉| 28/30 [00:44<00:03,  1.56s/i\u001b[A\n",
      "| train_loss: 5.73e-01 | eval_loss: 6.03e-01 | reg: 0.00e+00 |:  93%|▉| 28/30 [00:45<00:03,  1.56s/i\u001b[A\n",
      "| train_loss: 5.73e-01 | eval_loss: 6.03e-01 | reg: 0.00e+00 |:  97%|▉| 29/30 [00:45<00:01,  1.56s/i\u001b[A\n",
      "| train_loss: 5.72e-01 | eval_loss: 6.02e-01 | reg: 0.00e+00 |:  97%|▉| 29/30 [00:47<00:01,  1.56s/i\u001b[A\n",
      "| train_loss: 5.72e-01 | eval_loss: 6.02e-01 | reg: 0.00e+00 |: 100%|█| 30/30 [00:47<00:00,  1.58s/i\u001b[A"
     ]
    },
    {
     "name": "stdout",
     "output_type": "stream",
     "text": [
      "saving model version 0.1\n"
     ]
    },
    {
     "name": "stderr",
     "output_type": "stream",
     "text": [
      "\n"
     ]
    }
   ],
   "source": [
    "model5 = try_create_model(Model5, attributes, imgs_shape, device)\n",
    "metrics5 = fit_hybrid_dataloaders(model5, dataset, opt=\"LBFGS\", steps=30, update_grid=False)"
   ]
  },
  {
   "cell_type": "code",
   "execution_count": 37,
   "id": "f8ca326a-e367-4c6a-97f1-fdb330f730ec",
   "metadata": {},
   "outputs": [
    {
     "data": {
      "image/png": "[encoded data removed]",
      "text/plain": [
       "<Figure size 640x480 with 1 Axes>"
      ]
     },
     "metadata": {},
     "output_type": "display_data"
    }
   ],
   "source": [
    "plt.plot(metrics5['train_loss'])\n",
    "plt.plot(metrics5['eval_loss'])\n",
    "plt.legend(['train', 'test'])\n",
    "plt.ylabel('RMSE')\n",
    "plt.xlabel('step')\n",
    "plt.yscale('log')"
   ]
  },
  {
   "cell_type": "code",
   "execution_count": 26,
   "id": "86e973a4-5b1e-4919-a570-76e31b785066",
   "metadata": {},
   "outputs": [
    {
     "name": "stdout",
     "output_type": "stream",
     "text": [
      "checkpoint directory created: ./model\n",
      "saving model version 0.0\n",
      "Successfully created and tested Model5\n"
     ]
    },
    {
     "name": "stderr",
     "output_type": "stream",
     "text": [
      "| train_loss: nan | eval_loss: nan | reg: 0.00e+00 |: 100%|███████| 100/100 [00:05<00:00, 19.66it/s]"
     ]
    },
    {
     "name": "stdout",
     "output_type": "stream",
     "text": [
      "saving model version 0.1\n"
     ]
    },
    {
     "name": "stderr",
     "output_type": "stream",
     "text": [
      "\n"
     ]
    }
   ],
   "source": [
    "model5 = try_create_model(Model5, attributes, imgs_shape, device)\n",
    "metrics5 = fit_hybrid_dataloaders(model5, dataset, opt=\"Adam\", steps=100, update_grid=True)"
   ]
  },
  {
   "cell_type": "code",
   "execution_count": 28,
   "id": "89bc5cbf-b737-4af5-884c-00b4ab3e98a5",
   "metadata": {},
   "outputs": [
    {
     "name": "stdout",
     "output_type": "stream",
     "text": [
      "checkpoint directory created: ./model\n",
      "saving model version 0.0\n",
      "Successfully created and tested Model5\n"
     ]
    },
    {
     "name": "stderr",
     "output_type": "stream",
     "text": [
      "| train_loss: nan | eval_loss: nan | reg: 0.00e+00 |: 100%|█████████| 30/30 [00:33<00:00,  1.12s/it]"
     ]
    },
    {
     "name": "stdout",
     "output_type": "stream",
     "text": [
      "saving model version 0.1\n"
     ]
    },
    {
     "name": "stderr",
     "output_type": "stream",
     "text": [
      "\n"
     ]
    }
   ],
   "source": [
    "model5 = try_create_model(Model5, attributes, imgs_shape, device)\n",
    "metrics5 = fit_hybrid_dataloaders(model5, dataset, opt=\"LBFGS\", steps=30, update_grid=True)"
   ]
  },
  {
   "cell_type": "code",
   "execution_count": 35,
   "id": "007253f7-1d69-463b-aede-9e131d5166c1",
   "metadata": {},
   "outputs": [
    {
     "name": "stdout",
     "output_type": "stream",
     "text": [
      "checkpoint directory created: ./model\n",
      "saving model version 0.0\n",
      "Successfully created and tested Model5\n"
     ]
    },
    {
     "name": "stderr",
     "output_type": "stream",
     "text": [
      "\n",
      "Training:   0%|                                                              | 0/10 [00:00<?, ?it/s]\u001b[A\n",
      "| train_loss: nan | test_loss: nan | reg: 0.00e+00 | :   0%|                 | 0/10 [00:02<?, ?it/s]\u001b[A\n",
      "| train_loss: nan | test_loss: nan | reg: 0.00e+00 | :  10%|▉        | 1/10 [00:02<00:18,  2.11s/it]\u001b[A\n",
      "| train_loss: nan | test_loss: nan | reg: 0.00e+00 | :  10%|▉        | 1/10 [00:03<00:18,  2.11s/it]\u001b[A\n",
      "| train_loss: nan | test_loss: nan | reg: 0.00e+00 | :  20%|█▊       | 2/10 [00:03<00:15,  1.88s/it]\u001b[A\n",
      "| train_loss: nan | test_loss: nan | reg: 0.00e+00 | :  20%|█▊       | 2/10 [00:05<00:15,  1.88s/it]\u001b[A\n",
      "| train_loss: nan | test_loss: nan | reg: 0.00e+00 | :  30%|██▋      | 3/10 [00:05<00:12,  1.83s/it]\u001b[A\n",
      "| train_loss: nan | test_loss: nan | reg: 0.00e+00 | :  30%|██▋      | 3/10 [00:07<00:12,  1.83s/it]\u001b[A\n",
      "| train_loss: nan | test_loss: nan | reg: 0.00e+00 | :  40%|███▌     | 4/10 [00:07<00:10,  1.80s/it]\u001b[A\n",
      "| train_loss: nan | test_loss: nan | reg: 0.00e+00 | :  40%|███▌     | 4/10 [00:09<00:10,  1.80s/it]\u001b[A\n",
      "| train_loss: nan | test_loss: nan | reg: 0.00e+00 | :  50%|████▌    | 5/10 [00:09<00:08,  1.77s/it]\u001b[A\n",
      "| train_loss: nan | test_loss: nan | reg: 0.00e+00 | :  50%|████▌    | 5/10 [00:10<00:08,  1.77s/it]\u001b[A\n",
      "| train_loss: nan | test_loss: nan | reg: 0.00e+00 | :  60%|█████▍   | 6/10 [00:10<00:07,  1.82s/it]\u001b[A\n",
      "| train_loss: nan | test_loss: nan | reg: 0.00e+00 | :  60%|█████▍   | 6/10 [00:12<00:07,  1.82s/it]\u001b[A\n",
      "| train_loss: nan | test_loss: nan | reg: 0.00e+00 | :  70%|██████▎  | 7/10 [00:12<00:05,  1.81s/it]\u001b[A\n",
      "| train_loss: nan | test_loss: nan | reg: 0.00e+00 | :  70%|██████▎  | 7/10 [00:14<00:05,  1.81s/it]\u001b[A\n",
      "| train_loss: nan | test_loss: nan | reg: 0.00e+00 | :  80%|███████▏ | 8/10 [00:14<00:03,  1.80s/it]\u001b[A\n",
      "| train_loss: nan | test_loss: nan | reg: 0.00e+00 | :  80%|███████▏ | 8/10 [00:16<00:03,  1.80s/it]\u001b[A\n",
      "| train_loss: nan | test_loss: nan | reg: 0.00e+00 | :  90%|████████ | 9/10 [00:16<00:01,  1.79s/it]\u001b[A\n",
      "| train_loss: nan | test_loss: nan | reg: nan | :  90%|████████████▌ | 9/10 [00:18<00:01,  1.79s/it]\u001b[A\n",
      "| train_loss: nan | test_loss: nan | reg: nan | : 100%|█████████████| 10/10 [00:18<00:00,  1.81s/it]\u001b[A"
     ]
    },
    {
     "name": "stdout",
     "output_type": "stream",
     "text": [
      "saving model version 0.1\n"
     ]
    },
    {
     "name": "stderr",
     "output_type": "stream",
     "text": [
      "\n"
     ]
    }
   ],
   "source": [
    "model5 = try_create_model(Model5, attributes, imgs_shape, device)\n",
    "metrics5 = hybrid_fit(model5, dataset, opt=\"LBFGS\", steps=10, update_grid=True)"
   ]
  }
 ],
 "metadata": {
  "kernelspec": {
   "display_name": "Python 3 (ipykernel)",
   "language": "python",
   "name": "python3"
  },
  "language_info": {
   "codemirror_mode": {
    "name": "ipython",
    "version": 3
   },
   "file_extension": ".py",
   "mimetype": "text/x-python",
   "name": "python",
   "nbconvert_exporter": "python",
   "pygments_lexer": "ipython3",
   "version": "3.12.7"
  }
 },
 "nbformat": 4,
 "nbformat_minor": 5
}
