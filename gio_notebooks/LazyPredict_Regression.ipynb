{
 "cells": [
  {
   "cell_type": "markdown",
   "metadata": {},
   "source": [
    "# LazyPredict for Regression"
   ]
  },
  {
   "cell_type": "code",
   "execution_count": 21,
   "metadata": {
    "scrolled": true
   },
   "outputs": [
    {
     "name": "stdout",
     "output_type": "stream",
     "text": [
      "Requirement already satisfied: lazypredict in c:\\users\\vgiov\\anaconda3\\envs\\env_torch_12\\lib\\site-packages (0.2.13)\n",
      "Requirement already satisfied: click in c:\\users\\vgiov\\anaconda3\\envs\\env_torch_12\\lib\\site-packages (from lazypredict) (8.1.8)\n",
      "Requirement already satisfied: scikit-learn in c:\\users\\vgiov\\anaconda3\\envs\\env_torch_12\\lib\\site-packages (from lazypredict) (1.5.2)\n",
      "Requirement already satisfied: pandas in c:\\users\\vgiov\\anaconda3\\envs\\env_torch_12\\lib\\site-packages (from lazypredict) (2.2.3)\n",
      "Requirement already satisfied: tqdm in c:\\users\\vgiov\\anaconda3\\envs\\env_torch_12\\lib\\site-packages (from lazypredict) (4.67.1)\n",
      "Requirement already satisfied: joblib in c:\\users\\vgiov\\anaconda3\\envs\\env_torch_12\\lib\\site-packages (from lazypredict) (1.4.2)\n",
      "Requirement already satisfied: lightgbm in c:\\users\\vgiov\\anaconda3\\envs\\env_torch_12\\lib\\site-packages (from lazypredict) (4.5.0)\n",
      "Requirement already satisfied: xgboost in c:\\users\\vgiov\\anaconda3\\envs\\env_torch_12\\lib\\site-packages (from lazypredict) (2.1.3)\n",
      "Requirement already satisfied: colorama in c:\\users\\vgiov\\anaconda3\\envs\\env_torch_12\\lib\\site-packages (from click->lazypredict) (0.4.6)\n",
      "Requirement already satisfied: numpy>=1.17.0 in c:\\users\\vgiov\\anaconda3\\envs\\env_torch_12\\lib\\site-packages (from lightgbm->lazypredict) (1.26.4)\n",
      "Requirement already satisfied: scipy in c:\\users\\vgiov\\anaconda3\\envs\\env_torch_12\\lib\\site-packages (from lightgbm->lazypredict) (1.14.1)\n",
      "Requirement already satisfied: python-dateutil>=2.8.2 in c:\\users\\vgiov\\anaconda3\\envs\\env_torch_12\\lib\\site-packages (from pandas->lazypredict) (2.9.0.post0)\n",
      "Requirement already satisfied: pytz>=2020.1 in c:\\users\\vgiov\\anaconda3\\envs\\env_torch_12\\lib\\site-packages (from pandas->lazypredict) (2024.1)\n",
      "Requirement already satisfied: tzdata>=2022.7 in c:\\users\\vgiov\\anaconda3\\envs\\env_torch_12\\lib\\site-packages (from pandas->lazypredict) (2024.2)\n",
      "Requirement already satisfied: threadpoolctl>=3.1.0 in c:\\users\\vgiov\\anaconda3\\envs\\env_torch_12\\lib\\site-packages (from scikit-learn->lazypredict) (3.5.0)\n",
      "Requirement already satisfied: six>=1.5 in c:\\users\\vgiov\\anaconda3\\envs\\env_torch_12\\lib\\site-packages (from python-dateutil>=2.8.2->pandas->lazypredict) (1.16.0)\n"
     ]
    }
   ],
   "source": [
    "!pip install lazypredict"
   ]
  },
  {
   "cell_type": "code",
   "execution_count": 22,
   "metadata": {},
   "outputs": [],
   "source": [
    "# Imports\n",
    "import os\n",
    "import numpy as np\n",
    "import random\n",
    "import pandas as pd\n",
    "import matplotlib.pyplot as plt\n",
    "from sklearn.model_selection import train_test_split\n",
    "from lazypredict.Supervised import LazyRegressor\n",
    "from sklearn.datasets import load_diabetes\n",
    "import numpy as np\n",
    "import lazypredict"
   ]
  },
  {
   "cell_type": "markdown",
   "metadata": {},
   "source": [
    "## Set random seed for reproducibility"
   ]
  },
  {
   "cell_type": "code",
   "execution_count": 23,
   "metadata": {},
   "outputs": [],
   "source": [
    "SEED = 64\n",
    "\n",
    "#torch.backends.cudnn.deterministic = True\n",
    "#torch.backends.cudnn.benchmark = False\n",
    "os.environ['PYTHONHASHSEED']=str(SEED)\n",
    "random.seed(SEED)\n",
    "np.random.seed(SEED)"
   ]
  },
  {
   "cell_type": "markdown",
   "metadata": {},
   "source": [
    "## Data Loading"
   ]
  },
  {
   "cell_type": "code",
   "execution_count": 24,
   "metadata": {},
   "outputs": [],
   "source": [
    "diabetes = load_diabetes()\n",
    "df = pd.DataFrame(data=diabetes.data, columns=diabetes.feature_names)\n",
    "df['target'] = diabetes.target  # Add the target variable"
   ]
  },
  {
   "cell_type": "code",
   "execution_count": 25,
   "metadata": {},
   "outputs": [
    {
     "data": {
      "text/plain": [
       "(442, 11)"
      ]
     },
     "execution_count": 25,
     "metadata": {},
     "output_type": "execute_result"
    }
   ],
   "source": [
    "df.shape"
   ]
  },
  {
   "cell_type": "code",
   "execution_count": 26,
   "metadata": {},
   "outputs": [
    {
     "name": "stdout",
     "output_type": "stream",
     "text": [
      "    age   sex   bmi    bp    s1    s2    s3    s4    s5    s6  target\n",
      "0  0.04  0.05  0.06  0.02 -0.04 -0.03 -0.04 -0.00  0.02 -0.02  151.00\n",
      "1 -0.00 -0.04 -0.05 -0.03 -0.01 -0.02  0.07 -0.04 -0.07 -0.09   75.00\n",
      "2  0.09  0.05  0.04 -0.01 -0.05 -0.03 -0.03 -0.00  0.00 -0.03  141.00\n",
      "3 -0.09 -0.04 -0.01 -0.04  0.01  0.02 -0.04  0.03  0.02 -0.01  206.00\n",
      "4  0.01 -0.04 -0.04  0.02  0.00  0.02  0.01 -0.00 -0.03 -0.05  135.00\n",
      "<class 'pandas.core.frame.DataFrame'>\n",
      "RangeIndex: 442 entries, 0 to 441\n",
      "Data columns (total 11 columns):\n",
      " #   Column  Non-Null Count  Dtype  \n",
      "---  ------  --------------  -----  \n",
      " 0   age     442 non-null    float64\n",
      " 1   sex     442 non-null    float64\n",
      " 2   bmi     442 non-null    float64\n",
      " 3   bp      442 non-null    float64\n",
      " 4   s1      442 non-null    float64\n",
      " 5   s2      442 non-null    float64\n",
      " 6   s3      442 non-null    float64\n",
      " 7   s4      442 non-null    float64\n",
      " 8   s5      442 non-null    float64\n",
      " 9   s6      442 non-null    float64\n",
      " 10  target  442 non-null    float64\n",
      "dtypes: float64(11)\n",
      "memory usage: 38.1 KB\n",
      "None\n",
      "Number of rows: 442\n",
      "Number of columns: 11\n"
     ]
    }
   ],
   "source": [
    "# Display the first few rows of the dataframe\n",
    "print(df.head())\n",
    "\n",
    "# Display the dataframe's information (column types, non-null values, etc.)\n",
    "print(df.info())\n",
    "\n",
    "# Get the number of rows and columns\n",
    "print(\"Number of rows:\", df.shape[0])\n",
    "print(\"Number of columns:\", df.shape[1])"
   ]
  },
  {
   "cell_type": "code",
   "execution_count": 27,
   "metadata": {},
   "outputs": [
    {
     "name": "stdout",
     "output_type": "stream",
     "text": [
      "         age    sex    bmi     bp     s1     s2     s3     s4     s5     s6  \\\n",
      "count 442.00 442.00 442.00 442.00 442.00 442.00 442.00 442.00 442.00 442.00   \n",
      "mean   -0.00   0.00  -0.00  -0.00  -0.00   0.00  -0.00  -0.00   0.00   0.00   \n",
      "std     0.05   0.05   0.05   0.05   0.05   0.05   0.05   0.05   0.05   0.05   \n",
      "min    -0.11  -0.04  -0.09  -0.11  -0.13  -0.12  -0.10  -0.08  -0.13  -0.14   \n",
      "25%    -0.04  -0.04  -0.03  -0.04  -0.03  -0.03  -0.04  -0.04  -0.03  -0.03   \n",
      "50%     0.01  -0.04  -0.01  -0.01  -0.00  -0.00  -0.01  -0.00  -0.00  -0.00   \n",
      "75%     0.04   0.05   0.03   0.04   0.03   0.03   0.03   0.03   0.03   0.03   \n",
      "max     0.11   0.05   0.17   0.13   0.15   0.20   0.18   0.19   0.13   0.14   \n",
      "\n",
      "       target  \n",
      "count  442.00  \n",
      "mean   152.13  \n",
      "std     77.09  \n",
      "min     25.00  \n",
      "25%     87.00  \n",
      "50%    140.50  \n",
      "75%    211.50  \n",
      "max    346.00  \n"
     ]
    }
   ],
   "source": [
    "# Summary statistics for numerical columns\n",
    "print(df.describe())\n",
    "\n",
    "# For categorical columns if any\n",
    "#print(df.describe(include='object'))"
   ]
  },
  {
   "cell_type": "code",
   "execution_count": 28,
   "metadata": {},
   "outputs": [
    {
     "name": "stdout",
     "output_type": "stream",
     "text": [
      "age       0\n",
      "sex       0\n",
      "bmi       0\n",
      "bp        0\n",
      "s1        0\n",
      "s2        0\n",
      "s3        0\n",
      "s4        0\n",
      "s5        0\n",
      "s6        0\n",
      "target    0\n",
      "dtype: int64\n"
     ]
    }
   ],
   "source": [
    "# Check for missing values\n",
    "print(df.isnull().sum())"
   ]
  },
  {
   "cell_type": "code",
   "execution_count": 29,
   "metadata": {},
   "outputs": [
    {
     "data": {
      "image/png": "[encoded data removed]",
      "text/plain": [
       "<Figure size 1500x1000 with 12 Axes>"
      ]
     },
     "metadata": {},
     "output_type": "display_data"
    }
   ],
   "source": [
    "# Histograms for numerical data\n",
    "df.hist(bins=15, figsize=(15, 10))\n",
    "plt.tight_layout()  # Adjusts subplot params so that subplots are nicely fit in the figure.\n",
    "plt.show()"
   ]
  },
  {
   "cell_type": "markdown",
   "metadata": {},
   "source": [
    "## Data Preprocessing"
   ]
  },
  {
   "cell_type": "code",
   "execution_count": 30,
   "metadata": {},
   "outputs": [
    {
     "data": {
      "text/plain": [
       "array([151.,  75., 141., 206., 135.,  97., 138.,  63., 110., 310., 101.,\n",
       "        69., 179., 185., 118., 171., 166., 144.,  97., 168.,  68.,  49.,\n",
       "        68., 245., 184., 202., 137.,  85., 131., 283., 129.,  59., 341.,\n",
       "        87.,  65., 102., 265., 276., 252.,  90., 100.,  55.,  61.,  92.,\n",
       "       259.,  53., 190., 142.,  75., 142., 155., 225.,  59., 104., 182.,\n",
       "       128.,  52.,  37., 170., 170.,  61., 144.,  52., 128.,  71., 163.,\n",
       "       150.,  97., 160., 178.,  48., 270., 202., 111.,  85.,  42., 170.,\n",
       "       200., 252., 113., 143.,  51.,  52., 210.,  65., 141.,  55., 134.,\n",
       "        42., 111.,  98., 164.,  48.,  96.,  90., 162., 150., 279.,  92.,\n",
       "        83., 128., 102., 302., 198.,  95.,  53., 134., 144., 232.,  81.,\n",
       "       104.,  59., 246., 297., 258., 229., 275., 281., 179., 200., 200.,\n",
       "       173., 180.,  84., 121., 161.,  99., 109., 115., 268., 274., 158.,\n",
       "       107.,  83., 103., 272.,  85., 280., 336., 281., 118., 317., 235.,\n",
       "        60., 174., 259., 178., 128.,  96., 126., 288.,  88., 292.,  71.,\n",
       "       197., 186.,  25.,  84.,  96., 195.,  53., 217., 172., 131., 214.,\n",
       "        59.,  70., 220., 268., 152.,  47.,  74., 295., 101., 151., 127.,\n",
       "       237., 225.,  81., 151., 107.,  64., 138., 185., 265., 101., 137.,\n",
       "       143., 141.,  79., 292., 178.,  91., 116.,  86., 122.,  72., 129.,\n",
       "       142.,  90., 158.,  39., 196., 222., 277.,  99., 196., 202., 155.,\n",
       "        77., 191.,  70.,  73.,  49.,  65., 263., 248., 296., 214., 185.,\n",
       "        78.,  93., 252., 150.,  77., 208.,  77., 108., 160.,  53., 220.,\n",
       "       154., 259.,  90., 246., 124.,  67.,  72., 257., 262., 275., 177.,\n",
       "        71.,  47., 187., 125.,  78.,  51., 258., 215., 303., 243.,  91.,\n",
       "       150., 310., 153., 346.,  63.,  89.,  50.,  39., 103., 308., 116.,\n",
       "       145.,  74.,  45., 115., 264.,  87., 202., 127., 182., 241.,  66.,\n",
       "        94., 283.,  64., 102., 200., 265.,  94., 230., 181., 156., 233.,\n",
       "        60., 219.,  80.,  68., 332., 248.,  84., 200.,  55.,  85.,  89.,\n",
       "        31., 129.,  83., 275.,  65., 198., 236., 253., 124.,  44., 172.,\n",
       "       114., 142., 109., 180., 144., 163., 147.,  97., 220., 190., 109.,\n",
       "       191., 122., 230., 242., 248., 249., 192., 131., 237.,  78., 135.,\n",
       "       244., 199., 270., 164.,  72.,  96., 306.,  91., 214.,  95., 216.,\n",
       "       263., 178., 113., 200., 139., 139.,  88., 148.,  88., 243.,  71.,\n",
       "        77., 109., 272.,  60.,  54., 221.,  90., 311., 281., 182., 321.,\n",
       "        58., 262., 206., 233., 242., 123., 167.,  63., 197.,  71., 168.,\n",
       "       140., 217., 121., 235., 245.,  40.,  52., 104., 132.,  88.,  69.,\n",
       "       219.,  72., 201., 110.,  51., 277.,  63., 118.,  69., 273., 258.,\n",
       "        43., 198., 242., 232., 175.,  93., 168., 275., 293., 281.,  72.,\n",
       "       140., 189., 181., 209., 136., 261., 113., 131., 174., 257.,  55.,\n",
       "        84.,  42., 146., 212., 233.,  91., 111., 152., 120.,  67., 310.,\n",
       "        94., 183.,  66., 173.,  72.,  49.,  64.,  48., 178., 104., 132.,\n",
       "       220.,  57.])"
      ]
     },
     "execution_count": 30,
     "metadata": {},
     "output_type": "execute_result"
    }
   ],
   "source": [
    "df_x = df.iloc[:,:-1].values\n",
    "df_y = df.iloc[:,-1].values\n",
    "df_y"
   ]
  },
  {
   "cell_type": "code",
   "execution_count": 31,
   "metadata": {},
   "outputs": [],
   "source": [
    "from sklearn.preprocessing import MinMaxScaler\n",
    "X_train, X_val, y_train, y_val = train_test_split(df_x, df_y, test_size=0.20, random_state=SEED)\n",
    "X_val, X_test, y_val, y_test = train_test_split(X_val, y_val, test_size=0.50, random_state=SEED)\n",
    "X_train\n",
    "\n",
    "# Create a MinMaxScaler object\n",
    "scaler = MinMaxScaler()\n",
    "\n",
    "# Scale numerical data\n",
    "X_train = scaler.fit_transform(X_train)\n",
    "X_val = scaler.transform(X_val)\n",
    "X_test = scaler.transform(X_test)"
   ]
  },
  {
   "cell_type": "code",
   "execution_count": 32,
   "metadata": {},
   "outputs": [
    {
     "data": {
      "text/plain": [
       "array([170., 242.,  49., 257., 246., 141., 104., 214.,  60., 154.,  31.,\n",
       "       142., 168., 229.,  51.,  69.,  73.,  95., 310., 125., 101., 158.,\n",
       "       129.,  97., 220., 109., 246.,  37., 142., 245., 214., 262.,  59.,\n",
       "       221.,  74., 122., 141., 272., 163., 142., 245., 317., 144., 109.,\n",
       "       168.])"
      ]
     },
     "execution_count": 32,
     "metadata": {},
     "output_type": "execute_result"
    }
   ],
   "source": [
    "y_test"
   ]
  },
  {
   "cell_type": "markdown",
   "metadata": {},
   "source": [
    "## Model Architecture (Lazy Predict)"
   ]
  },
  {
   "cell_type": "code",
   "execution_count": 33,
   "metadata": {},
   "outputs": [
    {
     "data": {
      "text/plain": [
       "[('AdaBoostRegressor', sklearn.ensemble._weight_boosting.AdaBoostRegressor),\n",
       " ('BaggingRegressor', sklearn.ensemble._bagging.BaggingRegressor),\n",
       " ('BayesianRidge', sklearn.linear_model._bayes.BayesianRidge),\n",
       " ('DecisionTreeRegressor', sklearn.tree._classes.DecisionTreeRegressor),\n",
       " ('DummyRegressor', sklearn.dummy.DummyRegressor),\n",
       " ('ElasticNet', sklearn.linear_model._coordinate_descent.ElasticNet),\n",
       " ('ElasticNetCV', sklearn.linear_model._coordinate_descent.ElasticNetCV),\n",
       " ('ExtraTreeRegressor', sklearn.tree._classes.ExtraTreeRegressor),\n",
       " ('ExtraTreesRegressor', sklearn.ensemble._forest.ExtraTreesRegressor),\n",
       " ('GammaRegressor', sklearn.linear_model._glm.glm.GammaRegressor),\n",
       " ('GaussianProcessRegressor',\n",
       "  sklearn.gaussian_process._gpr.GaussianProcessRegressor),\n",
       " ('GradientBoostingRegressor', sklearn.ensemble._gb.GradientBoostingRegressor),\n",
       " ('HistGradientBoostingRegressor',\n",
       "  sklearn.ensemble._hist_gradient_boosting.gradient_boosting.HistGradientBoostingRegressor),\n",
       " ('HuberRegressor', sklearn.linear_model._huber.HuberRegressor),\n",
       " ('KNeighborsRegressor', sklearn.neighbors._regression.KNeighborsRegressor),\n",
       " ('KernelRidge', sklearn.kernel_ridge.KernelRidge),\n",
       " ('Lars', sklearn.linear_model._least_angle.Lars),\n",
       " ('LarsCV', sklearn.linear_model._least_angle.LarsCV),\n",
       " ('Lasso', sklearn.linear_model._coordinate_descent.Lasso),\n",
       " ('LassoCV', sklearn.linear_model._coordinate_descent.LassoCV),\n",
       " ('LassoLars', sklearn.linear_model._least_angle.LassoLars),\n",
       " ('LassoLarsCV', sklearn.linear_model._least_angle.LassoLarsCV),\n",
       " ('LassoLarsIC', sklearn.linear_model._least_angle.LassoLarsIC),\n",
       " ('LinearRegression', sklearn.linear_model._base.LinearRegression),\n",
       " ('LinearSVR', sklearn.svm._classes.LinearSVR),\n",
       " ('MLPRegressor', sklearn.neural_network._multilayer_perceptron.MLPRegressor),\n",
       " ('NuSVR', sklearn.svm._classes.NuSVR),\n",
       " ('OrthogonalMatchingPursuit',\n",
       "  sklearn.linear_model._omp.OrthogonalMatchingPursuit),\n",
       " ('OrthogonalMatchingPursuitCV',\n",
       "  sklearn.linear_model._omp.OrthogonalMatchingPursuitCV),\n",
       " ('PassiveAggressiveRegressor',\n",
       "  sklearn.linear_model._passive_aggressive.PassiveAggressiveRegressor),\n",
       " ('PoissonRegressor', sklearn.linear_model._glm.glm.PoissonRegressor),\n",
       " ('QuantileRegressor', sklearn.linear_model._quantile.QuantileRegressor),\n",
       " ('RANSACRegressor', sklearn.linear_model._ransac.RANSACRegressor),\n",
       " ('RandomForestRegressor', sklearn.ensemble._forest.RandomForestRegressor),\n",
       " ('Ridge', sklearn.linear_model._ridge.Ridge),\n",
       " ('RidgeCV', sklearn.linear_model._ridge.RidgeCV),\n",
       " ('SGDRegressor', sklearn.linear_model._stochastic_gradient.SGDRegressor),\n",
       " ('SVR', sklearn.svm._classes.SVR),\n",
       " ('TransformedTargetRegressor',\n",
       "  sklearn.compose._target.TransformedTargetRegressor),\n",
       " ('TweedieRegressor', sklearn.linear_model._glm.glm.TweedieRegressor),\n",
       " ('XGBRegressor', xgboost.sklearn.XGBRegressor),\n",
       " ('LGBMRegressor', lightgbm.sklearn.LGBMRegressor)]"
      ]
     },
     "execution_count": 33,
     "metadata": {},
     "output_type": "execute_result"
    }
   ],
   "source": [
    "# All the different regressors\n",
    "lazypredict.Supervised.REGRESSORS"
   ]
  },
  {
   "cell_type": "code",
   "execution_count": 34,
   "metadata": {},
   "outputs": [],
   "source": [
    "# Choose regressors\n",
    "#lazypredict.supervised.REGRESSORS = lazypredict.supervised.REGRESSORS[33:36]\n",
    "#lazypredict.supervised.REGRESSORS"
   ]
  },
  {
   "cell_type": "code",
   "execution_count": 35,
   "metadata": {},
   "outputs": [],
   "source": [
    "#regressor=['RandomForestRegressor', 'XGBRegressor', 'GradientBoostingRegressor', 'HistGradientBoostingRegressor']\n",
    "reg = LazyRegressor(verbose=2, ignore_warnings=True, custom_metric=None)"
   ]
  },
  {
   "cell_type": "markdown",
   "metadata": {},
   "source": [
    "## Model Training"
   ]
  },
  {
   "cell_type": "code",
   "execution_count": 36,
   "metadata": {},
   "outputs": [
    {
     "name": "stderr",
     "output_type": "stream",
     "text": [
      "  5%|▍         | 2/42 [00:00<00:05,  6.88it/s]"
     ]
    },
    {
     "name": "stdout",
     "output_type": "stream",
     "text": [
      "{'Model': 'AdaBoostRegressor', 'R-Squared': 0.5080299398048433, 'Adjusted R-Squared': 0.3589481033820686, 'RMSE': 46.536044251310045, 'Time taken': 0.16999197006225586}\n",
      "{'Model': 'BaggingRegressor', 'R-Squared': 0.34388706043594974, 'Adjusted R-Squared': 0.14506495753775273, 'RMSE': 53.74145598054719, 'Time taken': 0.1270768642425537}\n",
      "{'Model': 'BayesianRidge', 'R-Squared': 0.5081459322788754, 'Adjusted R-Squared': 0.3590992450906558, 'RMSE': 46.53055799356572, 'Time taken': 0.01999044418334961}\n",
      "{'Model': 'DecisionTreeRegressor', 'R-Squared': -0.07208850421493374, 'Adjusted R-Squared': -0.39696380852248936, 'RMSE': 68.69663217893053, 'Time taken': 0.01467752456665039}\n",
      "{'Model': 'DummyRegressor', 'R-Squared': -0.008647485268810096, 'Adjusted R-Squared': -0.3142982383805706, 'RMSE': 66.63307136098213, 'Time taken': 0.008581876754760742}\n",
      "{'Model': 'ElasticNet', 'R-Squared': 0.4953730743760004, 'Adjusted R-Squared': 0.3424558241869097, 'RMSE': 47.13085699360165, 'Time taken': 0.014286279678344727}\n"
     ]
    },
    {
     "name": "stderr",
     "output_type": "stream",
     "text": [
      " 17%|█▋        | 7/42 [00:00<00:02, 15.72it/s]"
     ]
    },
    {
     "name": "stdout",
     "output_type": "stream",
     "text": [
      "{'Model': 'ElasticNetCV', 'R-Squared': 0.5091864507385195, 'Adjusted R-Squared': 0.3604550721744346, 'RMSE': 46.481314182423276, 'Time taken': 0.1582167148590088}\n",
      "{'Model': 'ExtraTreeRegressor', 'R-Squared': -0.21904980943619412, 'Adjusted R-Squared': -0.5884588425986772, 'RMSE': 73.25391705319494, 'Time taken': 0.01363992691040039}\n"
     ]
    },
    {
     "name": "stderr",
     "output_type": "stream",
     "text": [
      " 21%|██▏       | 9/42 [00:00<00:03,  9.70it/s]"
     ]
    },
    {
     "name": "stdout",
     "output_type": "stream",
     "text": [
      "{'Model': 'ExtraTreesRegressor', 'R-Squared': 0.4242930890111333, 'Adjusted R-Squared': 0.24983644931753735, 'RMSE': 50.34088524522316, 'Time taken': 0.3633699417114258}\n",
      "{'Model': 'GammaRegressor', 'R-Squared': 0.46670049599559915, 'Adjusted R-Squared': 0.30509458569123526, 'RMSE': 48.4513315340287, 'Time taken': 0.1621546745300293}\n"
     ]
    },
    {
     "name": "stderr",
     "output_type": "stream",
     "text": [
      " 26%|██▌       | 11/42 [00:01<00:03,  8.82it/s]"
     ]
    },
    {
     "name": "stdout",
     "output_type": "stream",
     "text": [
      "{'Model': 'GaussianProcessRegressor', 'R-Squared': -0.3127742879044584, 'Adjusted R-Squared': -0.7105846781785365, 'RMSE': 76.0177757032134, 'Time taken': 0.10850214958190918}\n"
     ]
    },
    {
     "name": "stderr",
     "output_type": "stream",
     "text": [
      " 29%|██▊       | 12/42 [00:01<00:04,  6.58it/s]"
     ]
    },
    {
     "name": "stdout",
     "output_type": "stream",
     "text": [
      "{'Model': 'GradientBoostingRegressor', 'R-Squared': 0.3854121853725512, 'Adjusted R-Squared': 0.1991734536672637, 'RMSE': 52.01302345694182, 'Time taken': 0.32538318634033203}\n"
     ]
    },
    {
     "name": "stderr",
     "output_type": "stream",
     "text": [
      " 38%|███▊      | 16/42 [00:02<00:05,  4.80it/s]"
     ]
    },
    {
     "name": "stdout",
     "output_type": "stream",
     "text": [
      "{'Model': 'HistGradientBoostingRegressor', 'R-Squared': 0.32000067785329833, 'Adjusted R-Squared': 0.11394027720278266, 'RMSE': 54.71096396647089, 'Time taken': 1.1629385948181152}\n",
      "{'Model': 'HuberRegressor', 'R-Squared': 0.4901772844901313, 'Adjusted R-Squared': 0.3356855525174438, 'RMSE': 47.37287232946697, 'Time taken': 0.034557342529296875}\n",
      "{'Model': 'KNeighborsRegressor', 'R-Squared': 0.4334210052006082, 'Adjusted R-Squared': 0.2617304007159441, 'RMSE': 49.94020970575259, 'Time taken': 0.021701812744140625}\n",
      "{'Model': 'KernelRidge', 'R-Squared': -4.870199175974915, 'Adjusted R-Squared': -6.649047411118828, 'RMSE': 160.74835801378578, 'Time taken': 0.05026650428771973}\n",
      "{'Model': 'Lars', 'R-Squared': 0.4896850573947773, 'Adjusted R-Squared': 0.33504416569622497, 'RMSE': 47.3957357533546, 'Time taken': 0.02547764778137207}\n",
      "{'Model': 'LarsCV', 'R-Squared': 0.5022567580869619, 'Adjusted R-Squared': 0.35142547265876856, 'RMSE': 46.8082940079539, 'Time taken': 0.040910959243774414}\n",
      "{'Model': 'Lasso', 'R-Squared': 0.5024229275716503, 'Adjusted R-Squared': 0.3516419965327565, 'RMSE': 46.80047997983646, 'Time taken': 0.01787543296813965}\n"
     ]
    },
    {
     "name": "stderr",
     "output_type": "stream",
     "text": [
      " 55%|█████▍    | 23/42 [00:03<00:01,  9.57it/s]"
     ]
    },
    {
     "name": "stdout",
     "output_type": "stream",
     "text": [
      "{'Model': 'LassoCV', 'R-Squared': 0.5010960685754453, 'Adjusted R-Squared': 0.34991305905285297, 'RMSE': 46.86283845495326, 'Time taken': 0.1629486083984375}\n",
      "{'Model': 'LassoLars', 'R-Squared': 0.5024214164318705, 'Adjusted R-Squared': 0.3516400274718313, 'RMSE': 46.800551046227206, 'Time taken': 0.02167820930480957}\n",
      "{'Model': 'LassoLarsCV', 'R-Squared': 0.5001001181059808, 'Adjusted R-Squared': 0.3486153054108234, 'RMSE': 46.909590738458604, 'Time taken': 0.048508405685424805}\n",
      "{'Model': 'LassoLarsIC', 'R-Squared': 0.5026543238071075, 'Adjusted R-Squared': 0.3519435128395644, 'RMSE': 46.78959652596908, 'Time taken': 0.029679536819458008}\n",
      "{'Model': 'LinearRegression', 'R-Squared': 0.4896850573947762, 'Adjusted R-Squared': 0.33504416569622353, 'RMSE': 47.39573575335465, 'Time taken': 0.016127586364746094}\n",
      "{'Model': 'LinearSVR', 'R-Squared': 0.3045758454528078, 'Adjusted R-Squared': 0.09384125316577985, 'RMSE': 55.32800521103206, 'Time taken': 0.02342963218688965}\n"
     ]
    },
    {
     "name": "stderr",
     "output_type": "stream",
     "text": [
      " 74%|███████▍  | 31/42 [00:04<00:01,  7.90it/s]"
     ]
    },
    {
     "name": "stdout",
     "output_type": "stream",
     "text": [
      "{'Model': 'MLPRegressor', 'R-Squared': -1.2783645290461814, 'Adjusted R-Squared': -1.9687780226965392, 'RMSE': 100.1455675671883, 'Time taken': 1.213986873626709}\n",
      "{'Model': 'NuSVR', 'R-Squared': 0.2117324322457459, 'Adjusted R-Squared': -0.027136527679785694, 'RMSE': 58.90565047563986, 'Time taken': 0.02851271629333496}\n",
      "{'Model': 'OrthogonalMatchingPursuit', 'R-Squared': 0.414930728283895, 'Adjusted R-Squared': 0.23763700958204503, 'RMSE': 50.74856560234433, 'Time taken': 0.01791691780090332}\n",
      "{'Model': 'OrthogonalMatchingPursuitCV', 'R-Squared': 0.43781918708075496, 'Adjusted R-Squared': 0.26746136498401407, 'RMSE': 49.74599667311397, 'Time taken': 0.019678592681884766}\n",
      "{'Model': 'PassiveAggressiveRegressor', 'R-Squared': 0.5010701273119524, 'Adjusted R-Squared': 0.34987925680042287, 'RMSE': 46.8640567911513, 'Time taken': 0.02137899398803711}\n",
      "{'Model': 'PoissonRegressor', 'R-Squared': 0.5327965919183926, 'Adjusted R-Squared': 0.39121980159063274, 'RMSE': 45.349565247672956, 'Time taken': 0.02675938606262207}\n",
      "{'Model': 'QuantileRegressor', 'R-Squared': -0.014871486773182285, 'Adjusted R-Squared': -0.3224083009468739, 'RMSE': 66.8383395691697, 'Time taken': 0.07079696655273438}\n",
      "{'Model': 'RANSACRegressor', 'R-Squared': 0.1489561961935134, 'Adjusted R-Squared': -0.10893586556602797, 'RMSE': 61.20629398450587, 'Time taken': 0.1932849884033203}\n"
     ]
    },
    {
     "name": "stderr",
     "output_type": "stream",
     "text": [
      " 93%|█████████▎| 39/42 [00:05<00:00,  8.50it/s]"
     ]
    },
    {
     "name": "stdout",
     "output_type": "stream",
     "text": [
      "{'Model': 'RandomForestRegressor', 'R-Squared': 0.4286764469237556, 'Adjusted R-Squared': 0.2555480975067119, 'RMSE': 50.14887456817496, 'Time taken': 0.7085292339324951}\n",
      "{'Model': 'Ridge', 'R-Squared': 0.49528288341181115, 'Adjusted R-Squared': 0.3423383026275115, 'RMSE': 47.13506860747242, 'Time taken': 0.018694400787353516}\n",
      "{'Model': 'RidgeCV', 'R-Squared': 0.49528288341194426, 'Adjusted R-Squared': 0.34233830262768494, 'RMSE': 47.13506860746621, 'Time taken': 0.015985965728759766}\n",
      "{'Model': 'SGDRegressor', 'R-Squared': 0.5075205005936959, 'Adjusted R-Squared': 0.3582842886523917, 'RMSE': 46.560132253296494, 'Time taken': 0.01079106330871582}\n",
      "{'Model': 'SVR', 'R-Squared': 0.2258190986415325, 'Adjusted R-Squared': -0.008781174497397126, 'RMSE': 58.37694364651823, 'Time taken': 0.03338885307312012}\n",
      "{'Model': 'TransformedTargetRegressor', 'R-Squared': 0.4896850573947762, 'Adjusted R-Squared': 0.33504416569622353, 'RMSE': 47.39573575335465, 'Time taken': 0.02066636085510254}\n",
      "{'Model': 'TweedieRegressor', 'R-Squared': 0.47047559324399046, 'Adjusted R-Squared': 0.3100136518027755, 'RMSE': 48.27953939012627, 'Time taken': 0.025046348571777344}\n",
      "{'Model': 'XGBRegressor', 'R-Squared': 0.3576339500435083, 'Adjusted R-Squared': 0.16297757126881385, 'RMSE': 53.17547974569212, 'Time taken': 0.734351396560669}\n",
      "[LightGBM] [Info] Auto-choosing row-wise multi-threading, the overhead of testing was 0.000477 seconds.\n",
      "You can set `force_row_wise=true` to remove the overhead.\n",
      "And if memory is not enough, you can set `force_col_wise=true`.\n",
      "[LightGBM] [Info] Total Bins 591\n",
      "[LightGBM] [Info] Number of data points in the train set: 353, number of used features: 10\n",
      "[LightGBM] [Info] Start training from score 152.260623\n",
      "[LightGBM] [Warning] No further splits with positive gain, best gain: -inf\n",
      "[LightGBM] [Warning] No further splits with positive gain, best gain: -inf\n",
      "[LightGBM] [Warning] No further splits with positive gain, best gain: -inf\n",
      "[LightGBM] [Warning] No further splits with positive gain, best gain: -inf\n",
      "[LightGBM] [Warning] No further splits with positive gain, best gain: -inf\n",
      "[LightGBM] [Warning] No further splits with positive gain, best gain: -inf\n",
      "[LightGBM] [Warning] No further splits with positive gain, best gain: -inf\n",
      "[LightGBM] [Warning] No further splits with positive gain, best gain: -inf\n",
      "[LightGBM] [Warning] No further splits with positive gain, best gain: -inf\n",
      "[LightGBM] [Warning] No further splits with positive gain, best gain: -inf\n",
      "[LightGBM] [Warning] No further splits with positive gain, best gain: -inf\n",
      "[LightGBM] [Warning] No further splits with positive gain, best gain: -inf\n",
      "[LightGBM] [Warning] No further splits with positive gain, best gain: -inf\n",
      "[LightGBM] [Warning] No further splits with positive gain, best gain: -inf\n",
      "[LightGBM] [Warning] No further splits with positive gain, best gain: -inf\n",
      "[LightGBM] [Warning] No further splits with positive gain, best gain: -inf\n",
      "[LightGBM] [Warning] No further splits with positive gain, best gain: -inf\n",
      "[LightGBM] [Warning] No further splits with positive gain, best gain: -inf\n",
      "[LightGBM] [Warning] No further splits with positive gain, best gain: -inf\n",
      "[LightGBM] [Warning] No further splits with positive gain, best gain: -inf\n",
      "[LightGBM] [Warning] No further splits with positive gain, best gain: -inf\n",
      "[LightGBM] [Warning] No further splits with positive gain, best gain: -inf\n",
      "[LightGBM] [Warning] No further splits with positive gain, best gain: -inf\n",
      "[LightGBM] [Warning] No further splits with positive gain, best gain: -inf\n",
      "[LightGBM] [Warning] No further splits with positive gain, best gain: -inf\n",
      "[LightGBM] [Warning] No further splits with positive gain, best gain: -inf\n",
      "[LightGBM] [Warning] No further splits with positive gain, best gain: -inf\n",
      "[LightGBM] [Warning] No further splits with positive gain, best gain: -inf\n",
      "[LightGBM] [Warning] No further splits with positive gain, best gain: -inf\n",
      "[LightGBM] [Warning] No further splits with positive gain, best gain: -inf\n",
      "[LightGBM] [Warning] No further splits with positive gain, best gain: -inf\n",
      "[LightGBM] [Warning] No further splits with positive gain, best gain: -inf\n",
      "[LightGBM] [Warning] No further splits with positive gain, best gain: -inf\n",
      "[LightGBM] [Warning] No further splits with positive gain, best gain: -inf\n",
      "[LightGBM] [Warning] No further splits with positive gain, best gain: -inf\n",
      "[LightGBM] [Warning] No further splits with positive gain, best gain: -inf\n",
      "[LightGBM] [Warning] No further splits with positive gain, best gain: -inf\n",
      "[LightGBM] [Warning] No further splits with positive gain, best gain: -inf\n",
      "[LightGBM] [Warning] No further splits with positive gain, best gain: -inf\n",
      "[LightGBM] [Warning] No further splits with positive gain, best gain: -inf\n",
      "[LightGBM] [Warning] No further splits with positive gain, best gain: -inf\n",
      "[LightGBM] [Warning] No further splits with positive gain, best gain: -inf\n",
      "[LightGBM] [Warning] No further splits with positive gain, best gain: -inf\n",
      "[LightGBM] [Warning] No further splits with positive gain, best gain: -inf\n",
      "[LightGBM] [Warning] No further splits with positive gain, best gain: -inf\n",
      "[LightGBM] [Warning] No further splits with positive gain, best gain: -inf\n",
      "[LightGBM] [Warning] No further splits with positive gain, best gain: -inf\n",
      "[LightGBM] [Warning] No further splits with positive gain, best gain: -inf\n",
      "[LightGBM] [Warning] No further splits with positive gain, best gain: -inf\n",
      "[LightGBM] [Warning] No further splits with positive gain, best gain: -inf\n",
      "[LightGBM] [Warning] No further splits with positive gain, best gain: -inf\n",
      "[LightGBM] [Warning] No further splits with positive gain, best gain: -inf\n",
      "[LightGBM] [Warning] No further splits with positive gain, best gain: -inf\n",
      "[LightGBM] [Warning] No further splits with positive gain, best gain: -inf\n",
      "[LightGBM] [Warning] No further splits with positive gain, best gain: -inf\n",
      "[LightGBM] [Warning] No further splits with positive gain, best gain: -inf\n",
      "[LightGBM] [Warning] No further splits with positive gain, best gain: -inf\n",
      "[LightGBM] [Warning] No further splits with positive gain, best gain: -inf\n",
      "[LightGBM] [Warning] No further splits with positive gain, best gain: -inf\n",
      "[LightGBM] [Warning] No further splits with positive gain, best gain: -inf\n",
      "[LightGBM] [Warning] No further splits with positive gain, best gain: -inf\n",
      "[LightGBM] [Warning] No further splits with positive gain, best gain: -inf\n",
      "[LightGBM] [Warning] No further splits with positive gain, best gain: -inf\n",
      "[LightGBM] [Warning] No further splits with positive gain, best gain: -inf\n",
      "[LightGBM] [Warning] No further splits with positive gain, best gain: -inf\n",
      "[LightGBM] [Warning] No further splits with positive gain, best gain: -inf\n",
      "[LightGBM] [Warning] No further splits with positive gain, best gain: -inf\n",
      "[LightGBM] [Warning] No further splits with positive gain, best gain: -inf\n",
      "[LightGBM] [Warning] No further splits with positive gain, best gain: -inf\n",
      "[LightGBM] [Warning] No further splits with positive gain, best gain: -inf\n",
      "[LightGBM] [Warning] No further splits with positive gain, best gain: -inf\n",
      "[LightGBM] [Warning] No further splits with positive gain, best gain: -inf\n",
      "[LightGBM] [Warning] No further splits with positive gain, best gain: -inf\n",
      "[LightGBM] [Warning] No further splits with positive gain, best gain: -inf\n",
      "[LightGBM] [Warning] No further splits with positive gain, best gain: -inf\n",
      "[LightGBM] [Warning] No further splits with positive gain, best gain: -inf\n",
      "[LightGBM] [Warning] No further splits with positive gain, best gain: -inf\n",
      "[LightGBM] [Warning] No further splits with positive gain, best gain: -inf\n",
      "[LightGBM] [Warning] No further splits with positive gain, best gain: -inf\n",
      "[LightGBM] [Warning] No further splits with positive gain, best gain: -inf\n",
      "[LightGBM] [Warning] No further splits with positive gain, best gain: -inf\n",
      "[LightGBM] [Warning] No further splits with positive gain, best gain: -inf\n",
      "[LightGBM] [Warning] No further splits with positive gain, best gain: -inf\n",
      "[LightGBM] [Warning] No further splits with positive gain, best gain: -inf\n",
      "[LightGBM] [Warning] No further splits with positive gain, best gain: -inf\n",
      "[LightGBM] [Warning] No further splits with positive gain, best gain: -inf\n",
      "[LightGBM] [Warning] No further splits with positive gain, best gain: -inf\n",
      "[LightGBM] [Warning] No further splits with positive gain, best gain: -inf\n",
      "[LightGBM] [Warning] No further splits with positive gain, best gain: -inf\n",
      "[LightGBM] [Warning] No further splits with positive gain, best gain: -inf\n",
      "[LightGBM] [Warning] No further splits with positive gain, best gain: -inf\n",
      "[LightGBM] [Warning] No further splits with positive gain, best gain: -inf\n",
      "[LightGBM] [Warning] No further splits with positive gain, best gain: -inf\n",
      "[LightGBM] [Warning] No further splits with positive gain, best gain: -inf\n"
     ]
    },
    {
     "name": "stderr",
     "output_type": "stream",
     "text": [
      "100%|██████████| 42/42 [00:06<00:00,  6.20it/s]"
     ]
    },
    {
     "name": "stdout",
     "output_type": "stream",
     "text": [
      "[LightGBM] [Warning] No further splits with positive gain, best gain: -inf\n",
      "[LightGBM] [Warning] No further splits with positive gain, best gain: -inf\n",
      "[LightGBM] [Warning] No further splits with positive gain, best gain: -inf\n",
      "[LightGBM] [Warning] No further splits with positive gain, best gain: -inf\n",
      "[LightGBM] [Warning] No further splits with positive gain, best gain: -inf\n",
      "[LightGBM] [Warning] No further splits with positive gain, best gain: -inf\n",
      "{'Model': 'LGBMRegressor', 'R-Squared': 0.3236746912290692, 'Adjusted R-Squared': 0.1187276279651508, 'RMSE': 54.562963039275054, 'Time taken': 0.43538570404052734}\n"
     ]
    },
    {
     "name": "stderr",
     "output_type": "stream",
     "text": [
      "\n"
     ]
    }
   ],
   "source": [
    "models, predictions = reg.fit(X_train, X_val, y_train, y_val)"
   ]
  },
  {
   "cell_type": "code",
   "execution_count": 37,
   "metadata": {},
   "outputs": [
    {
     "data": {
      "text/html": [
       "<div>\n",
       "<style scoped>\n",
       "    .dataframe tbody tr th:only-of-type {\n",
       "        vertical-align: middle;\n",
       "    }\n",
       "\n",
       "    .dataframe tbody tr th {\n",
       "        vertical-align: top;\n",
       "    }\n",
       "\n",
       "    .dataframe thead th {\n",
       "        text-align: right;\n",
       "    }\n",
       "</style>\n",
       "<table border=\"1\" class=\"dataframe\">\n",
       "  <thead>\n",
       "    <tr style=\"text-align: right;\">\n",
       "      <th></th>\n",
       "      <th>Adjusted R-Squared</th>\n",
       "      <th>R-Squared</th>\n",
       "      <th>RMSE</th>\n",
       "      <th>Time Taken</th>\n",
       "    </tr>\n",
       "    <tr>\n",
       "      <th>Model</th>\n",
       "      <th></th>\n",
       "      <th></th>\n",
       "      <th></th>\n",
       "      <th></th>\n",
       "    </tr>\n",
       "  </thead>\n",
       "  <tbody>\n",
       "    <tr>\n",
       "      <th>PoissonRegressor</th>\n",
       "      <td>0.39</td>\n",
       "      <td>0.53</td>\n",
       "      <td>45.35</td>\n",
       "      <td>0.03</td>\n",
       "    </tr>\n",
       "    <tr>\n",
       "      <th>ElasticNetCV</th>\n",
       "      <td>0.36</td>\n",
       "      <td>0.51</td>\n",
       "      <td>46.48</td>\n",
       "      <td>0.16</td>\n",
       "    </tr>\n",
       "    <tr>\n",
       "      <th>BayesianRidge</th>\n",
       "      <td>0.36</td>\n",
       "      <td>0.51</td>\n",
       "      <td>46.53</td>\n",
       "      <td>0.02</td>\n",
       "    </tr>\n",
       "    <tr>\n",
       "      <th>AdaBoostRegressor</th>\n",
       "      <td>0.36</td>\n",
       "      <td>0.51</td>\n",
       "      <td>46.54</td>\n",
       "      <td>0.17</td>\n",
       "    </tr>\n",
       "    <tr>\n",
       "      <th>SGDRegressor</th>\n",
       "      <td>0.36</td>\n",
       "      <td>0.51</td>\n",
       "      <td>46.56</td>\n",
       "      <td>0.01</td>\n",
       "    </tr>\n",
       "    <tr>\n",
       "      <th>LassoLarsIC</th>\n",
       "      <td>0.35</td>\n",
       "      <td>0.50</td>\n",
       "      <td>46.79</td>\n",
       "      <td>0.03</td>\n",
       "    </tr>\n",
       "    <tr>\n",
       "      <th>Lasso</th>\n",
       "      <td>0.35</td>\n",
       "      <td>0.50</td>\n",
       "      <td>46.80</td>\n",
       "      <td>0.02</td>\n",
       "    </tr>\n",
       "    <tr>\n",
       "      <th>LassoLars</th>\n",
       "      <td>0.35</td>\n",
       "      <td>0.50</td>\n",
       "      <td>46.80</td>\n",
       "      <td>0.02</td>\n",
       "    </tr>\n",
       "    <tr>\n",
       "      <th>LarsCV</th>\n",
       "      <td>0.35</td>\n",
       "      <td>0.50</td>\n",
       "      <td>46.81</td>\n",
       "      <td>0.04</td>\n",
       "    </tr>\n",
       "    <tr>\n",
       "      <th>LassoCV</th>\n",
       "      <td>0.35</td>\n",
       "      <td>0.50</td>\n",
       "      <td>46.86</td>\n",
       "      <td>0.16</td>\n",
       "    </tr>\n",
       "    <tr>\n",
       "      <th>PassiveAggressiveRegressor</th>\n",
       "      <td>0.35</td>\n",
       "      <td>0.50</td>\n",
       "      <td>46.86</td>\n",
       "      <td>0.02</td>\n",
       "    </tr>\n",
       "    <tr>\n",
       "      <th>LassoLarsCV</th>\n",
       "      <td>0.35</td>\n",
       "      <td>0.50</td>\n",
       "      <td>46.91</td>\n",
       "      <td>0.05</td>\n",
       "    </tr>\n",
       "    <tr>\n",
       "      <th>ElasticNet</th>\n",
       "      <td>0.34</td>\n",
       "      <td>0.50</td>\n",
       "      <td>47.13</td>\n",
       "      <td>0.01</td>\n",
       "    </tr>\n",
       "    <tr>\n",
       "      <th>RidgeCV</th>\n",
       "      <td>0.34</td>\n",
       "      <td>0.50</td>\n",
       "      <td>47.14</td>\n",
       "      <td>0.02</td>\n",
       "    </tr>\n",
       "    <tr>\n",
       "      <th>Ridge</th>\n",
       "      <td>0.34</td>\n",
       "      <td>0.50</td>\n",
       "      <td>47.14</td>\n",
       "      <td>0.02</td>\n",
       "    </tr>\n",
       "    <tr>\n",
       "      <th>HuberRegressor</th>\n",
       "      <td>0.34</td>\n",
       "      <td>0.49</td>\n",
       "      <td>47.37</td>\n",
       "      <td>0.03</td>\n",
       "    </tr>\n",
       "    <tr>\n",
       "      <th>Lars</th>\n",
       "      <td>0.34</td>\n",
       "      <td>0.49</td>\n",
       "      <td>47.40</td>\n",
       "      <td>0.03</td>\n",
       "    </tr>\n",
       "    <tr>\n",
       "      <th>TransformedTargetRegressor</th>\n",
       "      <td>0.34</td>\n",
       "      <td>0.49</td>\n",
       "      <td>47.40</td>\n",
       "      <td>0.02</td>\n",
       "    </tr>\n",
       "    <tr>\n",
       "      <th>LinearRegression</th>\n",
       "      <td>0.34</td>\n",
       "      <td>0.49</td>\n",
       "      <td>47.40</td>\n",
       "      <td>0.02</td>\n",
       "    </tr>\n",
       "    <tr>\n",
       "      <th>TweedieRegressor</th>\n",
       "      <td>0.31</td>\n",
       "      <td>0.47</td>\n",
       "      <td>48.28</td>\n",
       "      <td>0.03</td>\n",
       "    </tr>\n",
       "    <tr>\n",
       "      <th>GammaRegressor</th>\n",
       "      <td>0.31</td>\n",
       "      <td>0.47</td>\n",
       "      <td>48.45</td>\n",
       "      <td>0.16</td>\n",
       "    </tr>\n",
       "    <tr>\n",
       "      <th>OrthogonalMatchingPursuitCV</th>\n",
       "      <td>0.27</td>\n",
       "      <td>0.44</td>\n",
       "      <td>49.75</td>\n",
       "      <td>0.02</td>\n",
       "    </tr>\n",
       "    <tr>\n",
       "      <th>KNeighborsRegressor</th>\n",
       "      <td>0.26</td>\n",
       "      <td>0.43</td>\n",
       "      <td>49.94</td>\n",
       "      <td>0.02</td>\n",
       "    </tr>\n",
       "    <tr>\n",
       "      <th>RandomForestRegressor</th>\n",
       "      <td>0.26</td>\n",
       "      <td>0.43</td>\n",
       "      <td>50.15</td>\n",
       "      <td>0.71</td>\n",
       "    </tr>\n",
       "    <tr>\n",
       "      <th>ExtraTreesRegressor</th>\n",
       "      <td>0.25</td>\n",
       "      <td>0.42</td>\n",
       "      <td>50.34</td>\n",
       "      <td>0.36</td>\n",
       "    </tr>\n",
       "    <tr>\n",
       "      <th>OrthogonalMatchingPursuit</th>\n",
       "      <td>0.24</td>\n",
       "      <td>0.41</td>\n",
       "      <td>50.75</td>\n",
       "      <td>0.02</td>\n",
       "    </tr>\n",
       "    <tr>\n",
       "      <th>GradientBoostingRegressor</th>\n",
       "      <td>0.20</td>\n",
       "      <td>0.39</td>\n",
       "      <td>52.01</td>\n",
       "      <td>0.33</td>\n",
       "    </tr>\n",
       "    <tr>\n",
       "      <th>XGBRegressor</th>\n",
       "      <td>0.16</td>\n",
       "      <td>0.36</td>\n",
       "      <td>53.18</td>\n",
       "      <td>0.73</td>\n",
       "    </tr>\n",
       "    <tr>\n",
       "      <th>BaggingRegressor</th>\n",
       "      <td>0.15</td>\n",
       "      <td>0.34</td>\n",
       "      <td>53.74</td>\n",
       "      <td>0.13</td>\n",
       "    </tr>\n",
       "    <tr>\n",
       "      <th>LGBMRegressor</th>\n",
       "      <td>0.12</td>\n",
       "      <td>0.32</td>\n",
       "      <td>54.56</td>\n",
       "      <td>0.44</td>\n",
       "    </tr>\n",
       "    <tr>\n",
       "      <th>HistGradientBoostingRegressor</th>\n",
       "      <td>0.11</td>\n",
       "      <td>0.32</td>\n",
       "      <td>54.71</td>\n",
       "      <td>1.16</td>\n",
       "    </tr>\n",
       "    <tr>\n",
       "      <th>LinearSVR</th>\n",
       "      <td>0.09</td>\n",
       "      <td>0.30</td>\n",
       "      <td>55.33</td>\n",
       "      <td>0.02</td>\n",
       "    </tr>\n",
       "    <tr>\n",
       "      <th>SVR</th>\n",
       "      <td>-0.01</td>\n",
       "      <td>0.23</td>\n",
       "      <td>58.38</td>\n",
       "      <td>0.03</td>\n",
       "    </tr>\n",
       "    <tr>\n",
       "      <th>NuSVR</th>\n",
       "      <td>-0.03</td>\n",
       "      <td>0.21</td>\n",
       "      <td>58.91</td>\n",
       "      <td>0.03</td>\n",
       "    </tr>\n",
       "    <tr>\n",
       "      <th>RANSACRegressor</th>\n",
       "      <td>-0.11</td>\n",
       "      <td>0.15</td>\n",
       "      <td>61.21</td>\n",
       "      <td>0.19</td>\n",
       "    </tr>\n",
       "    <tr>\n",
       "      <th>DummyRegressor</th>\n",
       "      <td>-0.31</td>\n",
       "      <td>-0.01</td>\n",
       "      <td>66.63</td>\n",
       "      <td>0.01</td>\n",
       "    </tr>\n",
       "    <tr>\n",
       "      <th>QuantileRegressor</th>\n",
       "      <td>-0.32</td>\n",
       "      <td>-0.01</td>\n",
       "      <td>66.84</td>\n",
       "      <td>0.07</td>\n",
       "    </tr>\n",
       "    <tr>\n",
       "      <th>DecisionTreeRegressor</th>\n",
       "      <td>-0.40</td>\n",
       "      <td>-0.07</td>\n",
       "      <td>68.70</td>\n",
       "      <td>0.01</td>\n",
       "    </tr>\n",
       "    <tr>\n",
       "      <th>ExtraTreeRegressor</th>\n",
       "      <td>-0.59</td>\n",
       "      <td>-0.22</td>\n",
       "      <td>73.25</td>\n",
       "      <td>0.01</td>\n",
       "    </tr>\n",
       "    <tr>\n",
       "      <th>GaussianProcessRegressor</th>\n",
       "      <td>-0.71</td>\n",
       "      <td>-0.31</td>\n",
       "      <td>76.02</td>\n",
       "      <td>0.11</td>\n",
       "    </tr>\n",
       "    <tr>\n",
       "      <th>MLPRegressor</th>\n",
       "      <td>-1.97</td>\n",
       "      <td>-1.28</td>\n",
       "      <td>100.15</td>\n",
       "      <td>1.21</td>\n",
       "    </tr>\n",
       "    <tr>\n",
       "      <th>KernelRidge</th>\n",
       "      <td>-6.65</td>\n",
       "      <td>-4.87</td>\n",
       "      <td>160.75</td>\n",
       "      <td>0.05</td>\n",
       "    </tr>\n",
       "  </tbody>\n",
       "</table>\n",
       "</div>"
      ],
      "text/plain": [
       "                               Adjusted R-Squared  R-Squared   RMSE  \\\n",
       "Model                                                                 \n",
       "PoissonRegressor                             0.39       0.53  45.35   \n",
       "ElasticNetCV                                 0.36       0.51  46.48   \n",
       "BayesianRidge                                0.36       0.51  46.53   \n",
       "AdaBoostRegressor                            0.36       0.51  46.54   \n",
       "SGDRegressor                                 0.36       0.51  46.56   \n",
       "LassoLarsIC                                  0.35       0.50  46.79   \n",
       "Lasso                                        0.35       0.50  46.80   \n",
       "LassoLars                                    0.35       0.50  46.80   \n",
       "LarsCV                                       0.35       0.50  46.81   \n",
       "LassoCV                                      0.35       0.50  46.86   \n",
       "PassiveAggressiveRegressor                   0.35       0.50  46.86   \n",
       "LassoLarsCV                                  0.35       0.50  46.91   \n",
       "ElasticNet                                   0.34       0.50  47.13   \n",
       "RidgeCV                                      0.34       0.50  47.14   \n",
       "Ridge                                        0.34       0.50  47.14   \n",
       "HuberRegressor                               0.34       0.49  47.37   \n",
       "Lars                                         0.34       0.49  47.40   \n",
       "TransformedTargetRegressor                   0.34       0.49  47.40   \n",
       "LinearRegression                             0.34       0.49  47.40   \n",
       "TweedieRegressor                             0.31       0.47  48.28   \n",
       "GammaRegressor                               0.31       0.47  48.45   \n",
       "OrthogonalMatchingPursuitCV                  0.27       0.44  49.75   \n",
       "KNeighborsRegressor                          0.26       0.43  49.94   \n",
       "RandomForestRegressor                        0.26       0.43  50.15   \n",
       "ExtraTreesRegressor                          0.25       0.42  50.34   \n",
       "OrthogonalMatchingPursuit                    0.24       0.41  50.75   \n",
       "GradientBoostingRegressor                    0.20       0.39  52.01   \n",
       "XGBRegressor                                 0.16       0.36  53.18   \n",
       "BaggingRegressor                             0.15       0.34  53.74   \n",
       "LGBMRegressor                                0.12       0.32  54.56   \n",
       "HistGradientBoostingRegressor                0.11       0.32  54.71   \n",
       "LinearSVR                                    0.09       0.30  55.33   \n",
       "SVR                                         -0.01       0.23  58.38   \n",
       "NuSVR                                       -0.03       0.21  58.91   \n",
       "RANSACRegressor                             -0.11       0.15  61.21   \n",
       "DummyRegressor                              -0.31      -0.01  66.63   \n",
       "QuantileRegressor                           -0.32      -0.01  66.84   \n",
       "DecisionTreeRegressor                       -0.40      -0.07  68.70   \n",
       "ExtraTreeRegressor                          -0.59      -0.22  73.25   \n",
       "GaussianProcessRegressor                    -0.71      -0.31  76.02   \n",
       "MLPRegressor                                -1.97      -1.28 100.15   \n",
       "KernelRidge                                 -6.65      -4.87 160.75   \n",
       "\n",
       "                               Time Taken  \n",
       "Model                                      \n",
       "PoissonRegressor                     0.03  \n",
       "ElasticNetCV                         0.16  \n",
       "BayesianRidge                        0.02  \n",
       "AdaBoostRegressor                    0.17  \n",
       "SGDRegressor                         0.01  \n",
       "LassoLarsIC                          0.03  \n",
       "Lasso                                0.02  \n",
       "LassoLars                            0.02  \n",
       "LarsCV                               0.04  \n",
       "LassoCV                              0.16  \n",
       "PassiveAggressiveRegressor           0.02  \n",
       "LassoLarsCV                          0.05  \n",
       "ElasticNet                           0.01  \n",
       "RidgeCV                              0.02  \n",
       "Ridge                                0.02  \n",
       "HuberRegressor                       0.03  \n",
       "Lars                                 0.03  \n",
       "TransformedTargetRegressor           0.02  \n",
       "LinearRegression                     0.02  \n",
       "TweedieRegressor                     0.03  \n",
       "GammaRegressor                       0.16  \n",
       "OrthogonalMatchingPursuitCV          0.02  \n",
       "KNeighborsRegressor                  0.02  \n",
       "RandomForestRegressor                0.71  \n",
       "ExtraTreesRegressor                  0.36  \n",
       "OrthogonalMatchingPursuit            0.02  \n",
       "GradientBoostingRegressor            0.33  \n",
       "XGBRegressor                         0.73  \n",
       "BaggingRegressor                     0.13  \n",
       "LGBMRegressor                        0.44  \n",
       "HistGradientBoostingRegressor        1.16  \n",
       "LinearSVR                            0.02  \n",
       "SVR                                  0.03  \n",
       "NuSVR                                0.03  \n",
       "RANSACRegressor                      0.19  \n",
       "DummyRegressor                       0.01  \n",
       "QuantileRegressor                    0.07  \n",
       "DecisionTreeRegressor                0.01  \n",
       "ExtraTreeRegressor                   0.01  \n",
       "GaussianProcessRegressor             0.11  \n",
       "MLPRegressor                         1.21  \n",
       "KernelRidge                          0.05  "
      ]
     },
     "execution_count": 37,
     "metadata": {},
     "output_type": "execute_result"
    }
   ],
   "source": [
    "models"
   ]
  },
  {
   "cell_type": "markdown",
   "metadata": {},
   "source": [
    "## Results"
   ]
  },
  {
   "cell_type": "code",
   "execution_count": 38,
   "metadata": {},
   "outputs": [
    {
     "name": "stdout",
     "output_type": "stream",
     "text": [
      "                                   MSE   RMSE    MAE    R2\n",
      "ExtraTreesRegressor            2850.04  53.39  46.58  0.50\n",
      "PoissonRegressor               2991.08  54.69  46.48  0.48\n",
      "AdaBoostRegressor              3064.49  55.36  47.95  0.47\n",
      "HuberRegressor                 3090.09  55.59  47.95  0.46\n",
      "PassiveAggressiveRegressor     3104.54  55.72  49.04  0.46\n",
      "TransformedTargetRegressor     3147.86  56.11  48.43  0.45\n",
      "LinearRegression               3147.86  56.11  48.43  0.45\n",
      "Lars                           3147.86  56.11  48.43  0.45\n",
      "RidgeCV                        3160.75  56.22  48.64  0.45\n",
      "Ridge                          3160.75  56.22  48.64  0.45\n",
      "RandomForestRegressor          3205.78  56.62  48.89  0.44\n",
      "BayesianRidge                  3208.57  56.64  49.28  0.44\n",
      "ElasticNetCV                   3213.19  56.68  49.34  0.44\n",
      "LassoLarsIC                    3227.66  56.81  49.43  0.44\n",
      "Lasso                          3231.37  56.85  49.45  0.44\n",
      "LassoLars                      3231.38  56.85  49.45  0.44\n",
      "LarsCV                         3233.86  56.87  49.47  0.44\n",
      "SGDRegressor                   3236.66  56.89  49.48  0.44\n",
      "LassoCV                        3249.14  57.00  49.56  0.43\n",
      "LassoLarsCV                    3260.58  57.10  49.65  0.43\n",
      "ElasticNet                     3303.77  57.48  49.74  0.42\n",
      "GammaRegressor                 3321.18  57.63  49.72  0.42\n",
      "LGBMRegressor                  3379.29  58.13  49.45  0.41\n",
      "KNeighborsRegressor            3388.75  58.21  46.50  0.41\n",
      "GradientBoostingRegressor      3422.25  58.50  51.92  0.40\n",
      "TweedieRegressor               3422.37  58.50  50.06  0.40\n",
      "HistGradientBoostingRegressor  3443.40  58.68  50.08  0.40\n",
      "OrthogonalMatchingPursuitCV    3697.47  60.81  52.30  0.36\n",
      "LinearSVR                      3827.33  61.87  50.26  0.33\n",
      "OrthogonalMatchingPursuit      4162.23  64.52  56.90  0.27\n",
      "BaggingRegressor               4177.56  64.63  53.53  0.27\n",
      "XGBRegressor                   4396.14  66.30  57.09  0.23\n",
      "NuSVR                          5049.70  71.06  59.20  0.12\n",
      "SVR                            5168.97  71.90  58.46  0.10\n",
      "DecisionTreeRegressor          5473.47  73.98  60.49  0.05\n",
      "RANSACRegressor                5707.26  75.55  65.34  0.01\n",
      "DummyRegressor                 5762.48  75.91  62.93 -0.00\n",
      "QuantileRegressor              6102.29  78.12  63.04 -0.06\n",
      "ExtraTreeRegressor             6548.18  80.92  67.56 -0.14\n",
      "MLPRegressor                  11335.36 106.47  87.01 -0.97\n",
      "GaussianProcessRegressor      11898.56 109.08  83.33 -1.07\n",
      "KernelRidge                   25166.25 158.64 148.39 -3.38\n"
     ]
    }
   ],
   "source": [
    "from sklearn.metrics import mean_squared_error, mean_absolute_error, r2_score\n",
    "import numpy as np\n",
    "\n",
    "# Extract models from the LazyRegressor/Classifier\n",
    "fitted_models = reg.models\n",
    "\n",
    "# Dictionary to store test performance metrics\n",
    "test_results = {}\n",
    "\n",
    "# Loop through the models and evaluate them on the test set\n",
    "for model_name, model in fitted_models.items():\n",
    "    # Predict on the test set\n",
    "    y_pred = model.predict(X_test)\n",
    "    \n",
    "    # Calculate performance metrics\n",
    "    mse = mean_squared_error(y_test, y_pred)\n",
    "    mae = mean_absolute_error(y_test, y_pred)\n",
    "    rmse = np.sqrt(mse)  # Calculate RMSE\n",
    "    r2 = r2_score(y_test, y_pred)\n",
    "    \n",
    "    # Store the results in the dictionary\n",
    "    test_results[model_name] = {\n",
    "        'MSE': mse,\n",
    "        'RMSE': rmse,\n",
    "        'MAE': mae,\n",
    "        'R2': r2\n",
    "    }\n",
    "\n",
    "# Convert to a DataFrame for easier viewing\n",
    "import pandas as pd\n",
    "test_results_df = pd.DataFrame(test_results).T\n",
    "test_results_df.sort_values(by='R2', ascending=False, inplace=True)\n",
    "\n",
    "# Display the test results\n",
    "print(test_results_df)"
   ]
  },
  {
   "cell_type": "code",
   "execution_count": null,
   "metadata": {},
   "outputs": [],
   "source": []
  }
 ],
 "metadata": {
  "kernelspec": {
   "display_name": "Python 3 (ipykernel)",
   "language": "python",
   "name": "python3"
  },
  "language_info": {
   "codemirror_mode": {
    "name": "ipython",
    "version": 3
   },
   "file_extension": ".py",
   "mimetype": "text/x-python",
   "name": "python",
   "nbconvert_exporter": "python",
   "pygments_lexer": "ipython3",
   "version": "3.12.7"
  }
 },
 "nbformat": 4,
 "nbformat_minor": 4
}
