{
 "cells": [
  {
   "cell_type": "code",
   "execution_count": 1,
   "id": "8d5668d4-717f-4e0a-a900-f1b70dc8ba0f",
   "metadata": {},
   "outputs": [],
   "source": [
    "import sys\n",
    "import os\n",
    "\n",
    "# Get the root directory\n",
    "root_dir = os.path.abspath(os.path.join(os.getcwd(), '..'))\n",
    "\n",
    "# Add the root directory to the Python path\n",
    "sys.path.append(root_dir)"
   ]
  },
  {
   "cell_type": "code",
   "execution_count": 2,
   "id": "4dace8b6-da36-4ed7-94f9-e7bfde57e588",
   "metadata": {},
   "outputs": [
    {
     "name": "stdout",
     "output_type": "stream",
     "text": [
      "cuda\n"
     ]
    }
   ],
   "source": [
    "from tqdm import tqdm\n",
    "from torch.utils.data import DataLoader, TensorDataset\n",
    "from torch.optim.lr_scheduler import OneCycleLR\n",
    "from sklearn.model_selection import train_test_split\n",
    "from sklearn.preprocessing import MinMaxScaler, StandardScaler\n",
    "from sklearn.datasets import load_diabetes\n",
    "from sklearn.model_selection import train_test_split\n",
    "from sklearn.preprocessing import StandardScaler\n",
    "from sklearn.metrics import mean_squared_error, mean_absolute_error, r2_score\n",
    "from TINTOlib.igtd import IGTD\n",
    "from kan import *\n",
    "from tqdm import tqdm\n",
    "\n",
    "\n",
    "import traceback\n",
    "import time\n",
    "import gc\n",
    "import copy\n",
    "import traceback\n",
    "import torch.nn as nn\n",
    "import cv2\n",
    "import math\n",
    "import matplotlib.pyplot as plt\n",
    "import pandas as pd\n",
    "import numpy as np\n",
    "import random\n",
    "import torch\n",
    "import torch.nn as nn\n",
    "import torch.optim as optim\n",
    "#from torch.optim import LBFGS\n",
    "\n",
    "\n",
    "if torch.cuda.is_available():\n",
    "  device = torch.device(\"cuda\")\n",
    "else:\n",
    "  device = torch.device(\"cpu\")\n",
    "\n",
    "print(device)"
   ]
  },
  {
   "cell_type": "code",
   "execution_count": 3,
   "id": "787a631d-2f1e-4b05-845e-bb878447f357",
   "metadata": {},
   "outputs": [],
   "source": [
    "SEED = 381\n",
    "# SET RANDOM SEED FOR REPRODUCIBILITY\n",
    "torch.manual_seed(SEED)\n",
    "random.seed(SEED)\n",
    "np.random.seed(SEED)"
   ]
  },
  {
   "cell_type": "markdown",
   "id": "7b71d2a5-d2ad-4b72-9869-8fdae3a98141",
   "metadata": {},
   "source": [
    "# Best 0.212"
   ]
  },
  {
   "cell_type": "code",
   "execution_count": 4,
   "id": "1580c162-4015-4cda-8492-b51350055b36",
   "metadata": {},
   "outputs": [],
   "source": [
    "folder=\"data/treasury\"\n",
    "x_col=[\"1Y-CMaturityRate\", \"30Y-CMortgageRate\", \"3M-Rate-AuctionAverage\", \"3M-Rate-SecondaryMarket\", \"3Y-CMaturityRate\", \n",
    "       \"5Y-CMaturityRate\", \"bankCredit\", \"currency\", \"demandDeposits\", \"federalFunds\", \"moneyStock\", \"checkableDeposits\", \n",
    "       \"loansLeases\", \"savingsDeposits\", \"tradeCurrencies\"]\n",
    "\n",
    "target_col=[\"target\"]"
   ]
  },
  {
   "cell_type": "markdown",
   "id": "3a7cff8d-bcac-4223-819a-5e152d3e3b57",
   "metadata": {},
   "source": [
    "# Functions"
   ]
  },
  {
   "cell_type": "markdown",
   "id": "e503d65b-47e8-4c00-a84f-cec61e51ba9d",
   "metadata": {},
   "source": [
    "### Load Dataset and Images"
   ]
  },
  {
   "cell_type": "code",
   "execution_count": 5,
   "id": "c0d46e15-1287-4f1e-ba6a-cc05b3c8915f",
   "metadata": {},
   "outputs": [],
   "source": [
    "def load_and_clean(npy_filename, y_filename, x_col, target_col):\n",
    "    \"\"\"\n",
    "    Load the feature array (npy_filename) and label array (y_filename),\n",
    "    drop rows in the feature array that contain any NaNs, and apply\n",
    "    the same mask to the label array.\n",
    "    \"\"\"\n",
    "    # Load numpy arrays\n",
    "    X = np.load(os.path.join(folder, npy_filename))\n",
    "    y = np.load(os.path.join(folder, y_filename))\n",
    "    \n",
    "    # Ensure the number of rows matches between X and y\n",
    "    if X.shape[0] != y.shape[0]:\n",
    "        raise ValueError(\"The number of rows in {} and {} do not match.\".format(npy_filename, y_filename))\n",
    "    \n",
    "    # Create a boolean mask for rows that do NOT have any NaN values in X\n",
    "    valid_rows = ~np.isnan(X).any(axis=1)\n",
    "    #print(valid_rows)\n",
    "    # Filter both arrays using the valid_rows mask\n",
    "    X_clean = X[valid_rows]\n",
    "    y_clean = y[valid_rows]\n",
    "    \n",
    "    # Convert arrays to DataFrames\n",
    "    df_X = pd.DataFrame(X_clean)\n",
    "    df_y = pd.DataFrame(y_clean)\n",
    "    df_X.columns = x_col\n",
    "    df_y.columns = target_col\n",
    "\n",
    "    return df_X, df_y"
   ]
  },
  {
   "cell_type": "code",
   "execution_count": 6,
   "id": "e6443278-0647-432b-86d7-6883cf1aea2b",
   "metadata": {},
   "outputs": [],
   "source": [
    "def load_and_preprocess_data(X_train, y_train, X_test, y_test, X_val, y_val, image_model, problem_type, batch_size=32):\n",
    "    # Add target column to input for IGTD\n",
    "    X_train_full = X_train.copy()\n",
    "    X_train_full[\"target\"] = y_train.values\n",
    "\n",
    "    X_val_full = X_val.copy()\n",
    "    X_val_full[\"target\"] = y_val.values\n",
    "\n",
    "    X_test_full = X_test.copy()\n",
    "    X_test_full[\"target\"] = y_test.values\n",
    "\n",
    "    # Generate the images if the folder does not exist\n",
    "    if not os.path.exists(f'{images_folder}/train'):\n",
    "        image_model.fit_transform(X_train_full, f'{images_folder}/train')\n",
    "        image_model.saveHyperparameters(f'{images_folder}/model.pkl')\n",
    "    else:\n",
    "        print(\"The images are already generated\")\n",
    "\n",
    "    # Load image paths\n",
    "    imgs_train = pd.read_csv(os.path.join(f'{images_folder}/train', f'{problem_type}.csv'))\n",
    "    imgs_train[\"images\"] = images_folder + \"/train/\" + imgs_train[\"images\"]\n",
    "\n",
    "    if not os.path.exists(f'{images_folder}/val'):\n",
    "        image_model.transform(X_val_full, f'{images_folder}/val')\n",
    "    else:\n",
    "        print(\"The images are already generated\")\n",
    "\n",
    "    imgs_val = pd.read_csv(os.path.join(f'{images_folder}/val', f'{problem_type}.csv'))\n",
    "    imgs_val[\"images\"] = images_folder + \"/val/\" + imgs_val[\"images\"]\n",
    "\n",
    "    if not os.path.exists(f'{images_folder}/test'):\n",
    "        image_model.transform(X_test_full, f'{images_folder}/test')\n",
    "    else:\n",
    "        print(\"The images are already generated\")\n",
    "\n",
    "    imgs_test = pd.read_csv(os.path.join(f'{images_folder}/test', f'{problem_type}.csv'))\n",
    "    imgs_test[\"images\"] = images_folder + \"/test/\" + imgs_test[\"images\"]\n",
    "\n",
    "    # Image data\n",
    "    X_train_img = np.array([cv2.imread(img) for img in imgs_train[\"images\"]])\n",
    "    X_val_img = np.array([cv2.imread(img) for img in imgs_val[\"images\"]])\n",
    "    X_test_img = np.array([cv2.imread(img) for img in imgs_test[\"images\"]])\n",
    "\n",
    "    # Create a MinMaxScaler object\n",
    "    scaler = MinMaxScaler()\n",
    "\n",
    "    # Scale numerical data\n",
    "    X_train_num = pd.DataFrame(scaler.fit_transform(X_train), columns=X_train.columns)\n",
    "    X_val_num = pd.DataFrame(scaler.transform(X_val), columns=X_val.columns)\n",
    "    X_test_num = pd.DataFrame(scaler.transform(X_test), columns=X_test.columns)\n",
    "\n",
    "    attributes = len(X_train_num.columns)\n",
    "    height, width, channels = X_train_img[0].shape\n",
    "    imgs_shape = (channels, height, width)\n",
    "\n",
    "    print(\"Images shape: \", imgs_shape)\n",
    "    print(\"Attributes: \", attributes)\n",
    "\n",
    "    # Convert data to PyTorch tensors\n",
    "    X_train_num_tensor = torch.as_tensor(X_train_num.values, dtype=torch.float32)\n",
    "    X_val_num_tensor = torch.as_tensor(X_val_num.values, dtype=torch.float32)\n",
    "    X_test_num_tensor = torch.as_tensor(X_test_num.values, dtype=torch.float32)\n",
    "    X_train_img_tensor = torch.as_tensor(X_train_img, dtype=torch.float32).permute(0, 3, 1, 2) / 255.0\n",
    "    X_val_img_tensor = torch.as_tensor(X_val_img, dtype=torch.float32).permute(0, 3, 1, 2) / 255.0\n",
    "    X_test_img_tensor = torch.as_tensor(X_test_img, dtype=torch.float32).permute(0, 3, 1, 2) / 255.0\n",
    "    y_train_tensor = torch.as_tensor(y_train.values, dtype=torch.float32).reshape(-1, 1)\n",
    "    y_val_tensor = torch.as_tensor(y_val.values, dtype=torch.float32).reshape(-1, 1)\n",
    "    y_test_tensor = torch.as_tensor(y_test.values, dtype=torch.float32).reshape(-1, 1)\n",
    "\n",
    "    # Create DataLoaders\n",
    "    train_dataset = TensorDataset(X_train_num_tensor, X_train_img_tensor, y_train_tensor)\n",
    "    val_dataset = TensorDataset(X_val_num_tensor, X_val_img_tensor, y_val_tensor)\n",
    "    test_dataset = TensorDataset(X_test_num_tensor, X_test_img_tensor, y_test_tensor)\n",
    "\n",
    "    train_loader = DataLoader(train_dataset, batch_size=batch_size, shuffle=True, pin_memory=True)\n",
    "    val_loader = DataLoader(val_dataset, batch_size=batch_size, shuffle=False, pin_memory=True)\n",
    "    test_loader = DataLoader(test_dataset, batch_size=batch_size, shuffle=False, pin_memory=True)\n",
    "\n",
    "    return train_loader, val_loader, test_loader, attributes, imgs_shape"
   ]
  },
  {
   "cell_type": "code",
   "execution_count": 7,
   "id": "af7bc776-0d49-4456-ba5b-861c4005fa73",
   "metadata": {},
   "outputs": [],
   "source": [
    "def combine_loader(loader):\n",
    "    \"\"\"\n",
    "    Combines all batches from a DataLoader into three tensors.\n",
    "    Assumes each batch is a tuple: (mlp_tensor, img_tensor, target_tensor)\n",
    "    \"\"\"\n",
    "    mlp_list, img_list, target_list = [], [], []\n",
    "    for mlp, img, target in loader:\n",
    "        mlp_list.append(mlp)\n",
    "        img_list.append(img)\n",
    "        target_list.append(target)\n",
    "    return torch.cat(mlp_list, dim=0), torch.cat(img_list, dim=0), torch.cat(target_list, dim=0)"
   ]
  },
  {
   "cell_type": "markdown",
   "id": "160cfa72-7608-46b8-8780-a2e20697670c",
   "metadata": {},
   "source": [
    "### Functions for KAN"
   ]
  },
  {
   "cell_type": "code",
   "execution_count": 8,
   "id": "bc5342ba-e55a-4209-b142-94f3f06f752a",
   "metadata": {},
   "outputs": [],
   "source": [
    "def average_rmse(output, val_target):\n",
    "    \"\"\"\n",
    "    Computes the root mean squared error (RMSE) between output and val_target.\n",
    "\n",
    "    Args:\n",
    "        output (torch.Tensor): The predicted output tensor.\n",
    "        val_target (torch.Tensor): The ground truth tensor.\n",
    "    \n",
    "    Returns:\n",
    "        float: The RMSE value.\n",
    "    \"\"\"\n",
    "    mse = torch.mean((output - val_target) ** 2)\n",
    "    rmse = torch.sqrt(mse)\n",
    "    return rmse.item()"
   ]
  },
  {
   "cell_type": "code",
   "execution_count": 9,
   "id": "a338fc3d-987c-45f1-9820-a61e40ba1ca8",
   "metadata": {},
   "outputs": [],
   "source": [
    "def custom_fit(model, dataset, opt=\"LBFGS\", steps=100, log=1, lamb=0., lamb_l1=1., lamb_entropy=2., lamb_coef=0., lamb_coefdiff=0., update_grid=True, \n",
    "               grid_update_num=10, loss_fn=None, lr=1.,start_grid_update_step=-1, stop_grid_update_step=50, batch=-1,\n",
    "            metrics=None, save_fig=False, in_vars=None, out_vars=None, beta=3, save_fig_freq=1, img_folder='./video', \n",
    "               singularity_avoiding=False, y_th=1000., reg_metric='edge_forward_spline_n', display_metrics=None):\n",
    "    '''\n",
    "    training\n",
    "\n",
    "    Args:\n",
    "    -----\n",
    "        dataset : dic\n",
    "            contains dataset['train_input'], dataset['train_label'], dataset['val_input'], dataset['val_label']\n",
    "        opt : str\n",
    "            \"LBFGS\" or \"Adam\"\n",
    "        steps : int\n",
    "            training steps\n",
    "        log : int\n",
    "            logging frequency\n",
    "        lamb : float\n",
    "            overall penalty strength\n",
    "        lamb_l1 : float\n",
    "            l1 penalty strength\n",
    "        lamb_entropy : float\n",
    "            entropy penalty strength\n",
    "        lamb_coef : float\n",
    "            coefficient magnitude penalty strength\n",
    "        lamb_coefdiff : float\n",
    "            difference of nearby coefficits (smoothness) penalty strength\n",
    "        update_grid : bool\n",
    "            If True, update grid regularly before stop_grid_update_step\n",
    "        grid_update_num : int\n",
    "            the number of grid updates before stop_grid_update_step\n",
    "        start_grid_update_step : int\n",
    "            no grid updates before this training step\n",
    "        stop_grid_update_step : int\n",
    "            no grid updates after this training step\n",
    "        loss_fn : function\n",
    "            loss function\n",
    "        lr : float\n",
    "            learning rate\n",
    "        batch : int\n",
    "            batch size, if -1 then full.\n",
    "        save_fig_freq : int\n",
    "            save figure every (save_fig_freq) steps\n",
    "        singularity_avoiding : bool\n",
    "            indicate whether to avoid singularity for the symbolic part\n",
    "        y_th : float\n",
    "            singularity threshold (anything above the threshold is considered singular and is softened in some ways)\n",
    "        reg_metric : str\n",
    "            regularization metric. Choose from {'edge_forward_spline_n', 'edge_forward_spline_u', 'edge_forward_sum', 'edge_backward', 'node_backward'}\n",
    "        metrics : a list of metrics (as functions)\n",
    "            the metrics to be computed in training\n",
    "        display_metrics : a list of functions\n",
    "            the metric to be displayed in tqdm progress bar\n",
    "\n",
    "    Returns:\n",
    "    --------\n",
    "        results : dic\n",
    "            results['train_loss'], 1D array of training losses (RMSE)\n",
    "            results['val_loss'], 1D array of val losses (RMSE)\n",
    "            results['reg'], 1D array of regularization\n",
    "            other metrics specified in metrics\n",
    "        best_model:\n",
    "    '''\n",
    "\n",
    "    if lamb > 0. and not model.save_act:\n",
    "        print('setting lamb=0. If you want to set lamb > 0, set model.save_act=True')\n",
    "        \n",
    "    old_save_act, old_symbolic_enabled = model.disable_symbolic_in_fit(lamb)\n",
    "\n",
    "    pbar = tqdm(range(steps), desc='description', ncols=100)\n",
    "\n",
    "    if loss_fn == None:\n",
    "        loss_fn = loss_fn_eval = lambda x, y: torch.mean((x - y) ** 2)\n",
    "    else:\n",
    "        loss_fn = loss_fn_eval = loss_fn\n",
    "\n",
    "    grid_update_freq = int(stop_grid_update_step / grid_update_num)\n",
    "\n",
    "    if opt == \"Adam\":\n",
    "        optimizer = torch.optim.Adam(model.get_params(), lr=lr)\n",
    "    elif opt == \"LBFGS\":\n",
    "        optimizer = LBFGS(model.get_params(), lr=lr, history_size=10, \n",
    "                          line_search_fn=\"strong_wolfe\", \n",
    "                          tolerance_grad=1e-32,\n",
    "                          tolerance_change=1e-32,\n",
    "                          tolerance_ys=1e-32)\n",
    "\n",
    "    results = {}\n",
    "    results['train_loss'] = []\n",
    "    results['val_loss'] = []\n",
    "    results['reg'] = []\n",
    "    if metrics != None:\n",
    "        for i in range(len(metrics)):\n",
    "            results[metrics[i].__name__] = []\n",
    "\n",
    "    if batch == -1 or batch > dataset['train_input'].shape[0]:\n",
    "        batch_size = dataset['train_input'].shape[0]\n",
    "        batch_size_val = dataset['val_input'].shape[0]\n",
    "    else:\n",
    "        batch_size = batch\n",
    "        batch_size_val = batch\n",
    "\n",
    "    global train_loss, reg_\n",
    "\n",
    "    def closure():\n",
    "        global train_loss, reg_\n",
    "        optimizer.zero_grad()\n",
    "        pred = model.forward(dataset['train_input'][train_id], singularity_avoiding=singularity_avoiding, y_th=y_th)\n",
    "        train_loss = loss_fn(pred, dataset['train_label'][train_id])\n",
    "        if model.save_act:\n",
    "            if reg_metric == 'edge_backward':\n",
    "                model.attribute()\n",
    "            if reg_metric == 'node_backward':\n",
    "                model.node_attribute()\n",
    "            reg_ = model.get_reg(reg_metric, lamb_l1, lamb_entropy, lamb_coef, lamb_coefdiff)\n",
    "        else:\n",
    "            reg_ = torch.tensor(0.)\n",
    "        objective = train_loss + lamb * reg_\n",
    "        objective.backward()\n",
    "        return objective\n",
    "\n",
    "    if save_fig:\n",
    "        if not os.path.exists(img_folder):\n",
    "            os.makedirs(img_folder)\n",
    "    \n",
    "    best_model_state = None\n",
    "    best_epoch = -1\n",
    "    best_loss = float('inf')\n",
    "    \n",
    "    for epoch in pbar:\n",
    "        \n",
    "        if epoch == steps-1 and old_save_act:\n",
    "            model.save_act = True\n",
    "            \n",
    "        if save_fig and epoch % save_fig_freq == 0:\n",
    "            save_act = model.save_act\n",
    "            model.save_act = True\n",
    "        \n",
    "        train_id = np.random.choice(dataset['train_input'].shape[0], batch_size, replace=False)\n",
    "        val_id = np.random.choice(dataset['val_input'].shape[0], batch_size_val, replace=False)\n",
    "\n",
    "        if epoch % grid_update_freq == 0 and epoch < stop_grid_update_step and update_grid and epoch >= start_grid_update_step:\n",
    "            model.update_grid(dataset['train_input'][train_id])\n",
    "\n",
    "        if opt == \"LBFGS\":\n",
    "            optimizer.step(closure)\n",
    "\n",
    "        if opt == \"Adam\":\n",
    "            pred = model.forward(dataset['train_input'][train_id], singularity_avoiding=singularity_avoiding, y_th=y_th)\n",
    "            train_loss = loss_fn(pred, dataset['train_label'][train_id])\n",
    "            if model.save_act:\n",
    "                if reg_metric == 'edge_backward':\n",
    "                    model.attribute()\n",
    "                if reg_metric == 'node_backward':\n",
    "                    model.node_attribute()\n",
    "                reg_ = model.get_reg(reg_metric, lamb_l1, lamb_entropy, lamb_coef, lamb_coefdiff)\n",
    "            else:\n",
    "                reg_ = torch.tensor(0.)\n",
    "            loss = train_loss + lamb * reg_\n",
    "            optimizer.zero_grad()\n",
    "            loss.backward()\n",
    "            optimizer.step()\n",
    "\n",
    "        val_loss = loss_fn_eval(model.forward(dataset['val_input'][val_id]), dataset['val_label'][val_id])\n",
    "        \n",
    "        \n",
    "        if metrics != None:\n",
    "            for i in range(len(metrics)):\n",
    "                results[metrics[i].__name__].append(metrics[i]().item())\n",
    "\n",
    "        if val_loss < best_loss:\n",
    "            best_epoch = epoch\n",
    "            best_loss = val_loss\n",
    "            best_model_state = copy.deepcopy(model.state_dict())\n",
    "        \n",
    "        results['train_loss'].append(torch.sqrt(train_loss).cpu().detach().numpy())\n",
    "        results['val_loss'].append(torch.sqrt(val_loss).cpu().detach().numpy())\n",
    "        results['reg'].append(reg_.cpu().detach().numpy())\n",
    "\n",
    "        if epoch % log == 0:\n",
    "            if display_metrics == None:\n",
    "                pbar.set_description(\"| train_loss: %.2e | val_loss: %.2e | reg: %.2e | \" % (torch.sqrt(train_loss).cpu().detach().numpy(), torch.sqrt(val_loss).cpu().detach().numpy(), reg_.cpu().detach().numpy()))\n",
    "            else:\n",
    "                string = ''\n",
    "                data = ()\n",
    "                for metric in display_metrics:\n",
    "                    string += f' {metric}: %.2e |'\n",
    "                    try:\n",
    "                        results[metric]\n",
    "                    except:\n",
    "                        raise Exception(f'{metric} not recognized')\n",
    "                    data += (results[metric][-1],)\n",
    "                pbar.set_description(string % data)\n",
    "                \n",
    "        \n",
    "        if save_fig and epoch % save_fig_freq == 0:\n",
    "            model.plot(folder=img_folder, in_vars=in_vars, out_vars=out_vars, title=\"Step {}\".format(_), beta=beta)\n",
    "            plt.savefig(img_folder + '/' + str(_) + '.jpg', bbox_inches='tight', dpi=200)\n",
    "            plt.close()\n",
    "            model.save_act = save_act\n",
    "\n",
    "    model.log_history('fit')\n",
    "    # revert back to original state\n",
    "    model.symbolic_enabled = old_symbolic_enabled\n",
    "    #print(f\"Best epoch: {best_epoch} \")\n",
    "    return best_model_state, results, best_epoch"
   ]
  },
  {
   "cell_type": "code",
   "execution_count": 10,
   "id": "c208fde1-e5f6-4cf6-b03e-5cc745275287",
   "metadata": {},
   "outputs": [],
   "source": [
    "def grid_search_kan(dataset, output_dim=1):\n",
    "    hidden_neuron_options = list(range(1, attributes // 2 + 1))\n",
    "    grid_options = list(range(3, 8))\n",
    "    lamb_options = [1., 0.1, 0.01, 0.001, 0.0001, 0.00001]\n",
    "\n",
    "    top_models = []  # list of dicts: each will have 'loss', 'config', 'state_dict'\n",
    "\n",
    "    for hidden in hidden_neuron_options:\n",
    "        for grid in grid_options:\n",
    "            for lamb in lamb_options:\n",
    "                print(f\"Testing width=[{attributes}, {hidden}, {output_dim}], lamb={lamb}, grid={grid}\")\n",
    "                model = KAN(width=[attributes, hidden, output_dim], grid=grid, k=3, seed=381, device=device)\n",
    "                \n",
    "                # Custom training\n",
    "                model_state, _, best_epoch = custom_fit(model, dataset, opt=\"LBFGS\", steps=40, lamb=lamb)\n",
    "                model.load_state_dict(model_state)\n",
    "\n",
    "                # Evaluate\n",
    "                avg_loss = average_rmse(model(dataset['test_input']), dataset['test_label'])\n",
    "\n",
    "                # Save this model info\n",
    "                top_models.append({\n",
    "                    \"loss\": avg_loss,\n",
    "                    \"config\": {\"hidden\": hidden, \"grid\": grid, \"lamb\": lamb},\n",
    "                    \"state_dict\": copy.deepcopy(model_state),\n",
    "                    \"best_epoch\": best_epoch\n",
    "                })\n",
    "\n",
    "                # Keep only top 5\n",
    "                top_models = sorted(top_models, key=lambda x: x[\"loss\"])[:5]\n",
    "\n",
    "    print(\"\\n✅ Top 5 Configurations:\")\n",
    "    for i, entry in enumerate(top_models):\n",
    "        cfg = entry[\"config\"]\n",
    "        print(f\"{i+1}. width=[{attributes}, {cfg['hidden']}, {output_dim}], grid={cfg['grid']}, lamb={cfg['lamb']} | best_epoch={entry['best_epoch']} | loss={entry['loss']:.5f}\")\n",
    "\n",
    "    #return top_models"
   ]
  },
  {
   "cell_type": "markdown",
   "id": "5d6156b8-be64-4d87-9e22-6f1d49ff8f17",
   "metadata": {},
   "source": [
    "### Functions for CNN"
   ]
  },
  {
   "cell_type": "code",
   "execution_count": 11,
   "id": "da417b99-76ba-43e9-8661-cf8b872b63b0",
   "metadata": {},
   "outputs": [],
   "source": [
    "def fit_cnn_only_model(model, dataset, steps=100, lr=1.0, loss_fn=None, batch=-1, opt=\"LBFGS\"):\n",
    "    \"\"\"\n",
    "    Trains a CNN-only model using LBFGS.\n",
    "\n",
    "    Args:\n",
    "        model: CNN-only PyTorch model.\n",
    "        dataset: Dictionary with keys: 'train_img', 'train_label', 'val_img', 'val_label'.\n",
    "        steps: Number of training iterations.\n",
    "        lr: Learning rate.\n",
    "        loss_fn: Loss function. Defaults to MSE.\n",
    "\n",
    "    Returns:\n",
    "        results: Dict with lists of train/val losses.\n",
    "        best_model_state: Best weights based on val loss.\n",
    "    \"\"\"\n",
    "    device = model.device\n",
    "    if loss_fn is None:\n",
    "        loss_fn = nn.MSELoss()\n",
    "\n",
    "    # Optimizer selection\n",
    "    if opt == \"LBFGS\":\n",
    "        optimizer = LBFGS(model.parameters(), lr=lr, history_size=10, \n",
    "                          line_search_fn=\"strong_wolfe\", \n",
    "                          tolerance_grad=1e-32, \n",
    "                          tolerance_change=1e-32, \n",
    "                          tolerance_ys=1e-32)\n",
    "    elif opt == \"AdamW\":\n",
    "        optimizer = optim.AdamW(model.parameters(), lr=lr)\n",
    "    else:\n",
    "        raise ValueError(f\"Unsupported optimizer '{opt}'\")\n",
    "\n",
    "    n_train = dataset[\"train_img\"].shape[0]\n",
    "    n_val = dataset[\"val_img\"].shape[0]\n",
    "    batch_size = n_train if batch == -1 or batch > n_train else batch\n",
    "\n",
    "    results = {'train_loss': [], 'val_loss': []}\n",
    "    best_model_state = None\n",
    "    best_loss = float(\"inf\")\n",
    "    best_epoch = -1\n",
    "\n",
    "    pbar = tqdm(range(steps), desc=\"Training CNN Only ({opt})\", ncols=100)\n",
    "\n",
    "    for step in pbar:\n",
    "        train_idx = np.random.choice(n_train, batch_size, replace=False)\n",
    "        #train_idx = torch.randperm(n_train)[:min(32, n_train)]  # small batch\n",
    "        x_train = dataset[\"train_img\"][train_idx].to(device)\n",
    "        y_train = dataset[\"train_label\"][train_idx].to(device)\n",
    "        if opt == \"LBFGS\":\n",
    "            def closure():\n",
    "                optimizer.zero_grad()\n",
    "                output = model(0, x_train)\n",
    "                loss = loss_fn(output, y_train)\n",
    "                loss.backward()\n",
    "                return loss\n",
    "            optimizer.step(closure)\n",
    "            train_loss = closure().item()\n",
    "\n",
    "        else:  # AdamW\n",
    "            optimizer.zero_grad()\n",
    "            output = model(0, x_train)\n",
    "            loss = loss_fn(output, y_train)\n",
    "            loss.backward()\n",
    "            optimizer.step()\n",
    "            train_loss = loss.item()\n",
    "\n",
    "        with torch.no_grad():\n",
    "            val_output = model(0, dataset[\"val_img\"].to(device))\n",
    "            val_loss = loss_fn(val_output, dataset[\"val_label\"].to(device)).item()\n",
    "\n",
    "        results[\"train_loss\"].append(train_loss)\n",
    "        results[\"val_loss\"].append(val_loss)\n",
    "\n",
    "        if val_loss < best_loss:\n",
    "            best_loss = val_loss\n",
    "            best_epoch = step\n",
    "            best_model_state = copy.deepcopy(model.state_dict())\n",
    "\n",
    "        pbar.set_description(f\"| Train: {train_loss:.4e} | Val: {val_loss:.4e} |\")\n",
    "\n",
    "    print(f\"✅ Best validation loss: {best_loss:.4e} at {best_epoch} epoch\")\n",
    "    return best_model_state, results, best_epoch"
   ]
  },
  {
   "cell_type": "code",
   "execution_count": 12,
   "id": "3f03e210-ae50-4df4-8d4f-7ad5fe53499e",
   "metadata": {},
   "outputs": [],
   "source": [
    "def build_custom_cnn_model(cnn_blocks, dense_layers, imgs_shape, device='cuda'):\n",
    "    class CustomCNNModel(nn.Module):\n",
    "        def __init__(self):\n",
    "            super(CustomCNNModel, self).__init__()\n",
    "            self.device = device\n",
    "\n",
    "            cnn_layers = []\n",
    "            in_channels = imgs_shape[0]\n",
    "            out_channels = 16\n",
    "            cnn_blocks_list = [10, 7 , 5]\n",
    "            size_layer_norm = cnn_blocks_list[cnn_blocks-1]\n",
    "            \n",
    "            f_layer_size = 10 - cnn_blocks*2\n",
    "            for i in range(cnn_blocks):\n",
    "                cnn_layers.append(nn.Conv2d(in_channels, out_channels, kernel_size=3, padding=2))\n",
    "                \n",
    "                if i < cnn_blocks - 1:\n",
    "                    cnn_layers.append(nn.BatchNorm2d(out_channels))\n",
    "                    cnn_layers.append(nn.ReLU())\n",
    "                    cnn_layers.append(nn.MaxPool2d(2))\n",
    "                else:\n",
    "                    # Last block: LayerNorm + Sigmoid + Flatten\n",
    "                    cnn_layers.append(nn.LayerNorm([out_channels, size_layer_norm, size_layer_norm]))\n",
    "                    cnn_layers.append(nn.Sigmoid())\n",
    "                    cnn_layers.append(nn.Flatten())\n",
    "                in_channels = out_channels\n",
    "                out_channels *= 2\n",
    "\n",
    "            self.cnn_branch = nn.Sequential(*cnn_layers).to(device)\n",
    "            self.flat_size = self._get_flat_size(imgs_shape)\n",
    "\n",
    "            # Dense (FC) layers\n",
    "            fc_layers = []\n",
    "            input_dim = self.flat_size\n",
    "            for i in range(dense_layers - 1):\n",
    "                fc_layers.append(nn.Linear(int(input_dim), int(input_dim // 2)))\n",
    "                fc_layers.append(nn.ReLU())\n",
    "                input_dim = input_dim // 2\n",
    "            fc_layers.append(nn.Linear(int(input_dim), 1))\n",
    "\n",
    "            self.fc = nn.Sequential(*fc_layers).to(device)\n",
    "\n",
    "        def _get_flat_size(self, imgs_shape):\n",
    "            dummy_input = torch.zeros(1, *imgs_shape, device=self.device)\n",
    "            x = self.cnn_branch(dummy_input)\n",
    "            return x.shape[1]\n",
    "\n",
    "        def forward(self, num_input, img_input):\n",
    "            img_input = img_input.to(self.device)\n",
    "            features = self.cnn_branch(img_input)\n",
    "            output = self.fc(features)\n",
    "            return output\n",
    "\n",
    "    return CustomCNNModel()"
   ]
  },
  {
   "cell_type": "code",
   "execution_count": 13,
   "id": "829a540d-6902-42f4-aa54-de5ae937aa47",
   "metadata": {},
   "outputs": [],
   "source": [
    "def grid_search_cnn(dataset, steps=110, opt='LBFGS', batch=-1):\n",
    "    cnn_blocks_options = list(range(1, 4))\n",
    "    dense_layers_options = list(range(1, 4))\n",
    "\n",
    "    top_models = []  # list of dicts: each will have 'loss', 'config', 'state_dict'\n",
    "\n",
    "    for cnn_blocks in cnn_blocks_options:\n",
    "        for dense_layers in dense_layers_options:\n",
    "            print(f\"Testing cnn_blocks={cnn_blocks}, dense_layers={dense_layers}\")\n",
    "            model = build_custom_cnn_model(cnn_blocks, dense_layers, imgs_shape)\n",
    "            \n",
    "            # Custom training\n",
    "            model_state, _, best_epoch = fit_cnn_only_model(model, dataset, steps=steps, opt=opt, batch=batch)\n",
    "            model.load_state_dict(model_state)\n",
    "\n",
    "            # Evaluate\n",
    "            avg_loss = average_rmse(model(0, dataset['test_img']), dataset['test_label'])\n",
    "\n",
    "            # Save this model info\n",
    "            top_models.append({\n",
    "                \"loss\": avg_loss,\n",
    "                \"config\": {\"cnn_blocks\": cnn_blocks, \"dense_layers\": dense_layers},\n",
    "                \"state_dict\": copy.deepcopy(model_state),\n",
    "                \"best_epoch\": best_epoch\n",
    "            })\n",
    "\n",
    "            # Keep only top 5\n",
    "            top_models = sorted(top_models, key=lambda x: x[\"loss\"])[:5]\n",
    "\n",
    "    print(\"\\n✅ Top 5 Configurations:\")\n",
    "    for i, entry in enumerate(top_models):\n",
    "        cfg = entry[\"config\"]\n",
    "        print(f\"{i+1}. cnn_blocks={cfg['cnn_blocks']}, dense_layers={cfg['dense_layers']} | best_epoch={entry['best_epoch']} | loss={entry['loss']:.5f}\")\n",
    "\n",
    "    #return top_models"
   ]
  },
  {
   "cell_type": "markdown",
   "id": "544e35af-5b0e-47d9-8b67-87f94c232889",
   "metadata": {},
   "source": [
    "### Hybrid Functions"
   ]
  },
  {
   "cell_type": "code",
   "execution_count": 15,
   "id": "c71ff182-786c-449f-ab2b-fe87d5b25c05",
   "metadata": {},
   "outputs": [],
   "source": [
    "def fit_hybrid_dataloaders(model, \n",
    "                           dataset,\n",
    "                           opt=\"AdamW\", \n",
    "                           steps=100, \n",
    "                           log=1, \n",
    "                           lamb=0., \n",
    "                           lamb_l1=1., \n",
    "                           lamb_entropy=2., \n",
    "                           lamb_coef=0., \n",
    "                           lamb_coefdiff=0., \n",
    "                           update_grid=True, \n",
    "                           grid_update_num=10, \n",
    "                           loss_fn=None, \n",
    "                           lr=1., \n",
    "                           start_grid_update_step=-1, \n",
    "                           stop_grid_update_step=50, \n",
    "                           batch=-1,\n",
    "                           metrics=None, \n",
    "                           save_fig=False, \n",
    "                           in_vars=None, \n",
    "                           out_vars=None, \n",
    "                           beta=3, \n",
    "                           save_fig_freq=1, \n",
    "                           img_folder='./video', \n",
    "                           singularity_avoiding=False, \n",
    "                           y_th=1000., \n",
    "                           reg_metric='edge_forward_spline_n', \n",
    "                           display_metrics=None,\n",
    "                           sum_f_reg=True):\n",
    "    \"\"\"\n",
    "    Trains the hybrid model (with a KAN branch and a CNN branch) using a steps-based loop\n",
    "    adapted from KAN.fit(), with grid updates and regularization.\n",
    "    \n",
    "    Instead of a single dataset dict, this function accepts three DataLoaders:\n",
    "        - train_loader: provides (mlp, img, target) for training\n",
    "        - val_loader: provides (mlp, img, target) for evaluation during training\n",
    "        - test_loader: provides (mlp, img, target) for validation\n",
    "\n",
    "    Internally, the function combines each loader into a dataset dictionary.\n",
    "    \n",
    "    Returns:\n",
    "        results: dictionary containing training loss, evaluation loss, regularization values,\n",
    "                 and any additional metrics recorded during training.\n",
    "    \"\"\"\n",
    "    #device = next(model.parameters()).device\n",
    "\n",
    "    # Warn if regularization is requested but model's internal flag isn't enabled.\n",
    "    if lamb > 0. and not getattr(model.m_kan, \"save_act\", False):\n",
    "        print(\"setting lamb=0. If you want to set lamb > 0, set model.m_kan.save_act=True\")\n",
    "    \n",
    "    # Disable symbolic processing for training if applicable (KAN internal logic)\n",
    "    if hasattr(model.m_kan, \"disable_symbolic_in_fit\"):\n",
    "        old_save_act, old_symbolic_enabled = model.m_kan.disable_symbolic_in_fit(lamb)\n",
    "        f_old_save_act, f_old_symbolic_enabled = model.final_kan.disable_symbolic_in_fit(lamb)\n",
    "    else:\n",
    "        old_save_act, old_symbolic_enabled = None, None\n",
    "\n",
    "    pbar = tqdm(range(steps), desc='Training', ncols=100)\n",
    "\n",
    "    # Default loss function (mean squared error) if not provided\n",
    "    if loss_fn is None:\n",
    "        loss_fn = lambda x, y: torch.mean((x - y) ** 2)\n",
    "\n",
    "    # Determine grid update frequency\n",
    "    grid_update_freq = int(stop_grid_update_step / grid_update_num) if grid_update_num > 0 else 1\n",
    "\n",
    "    # Determine total number of training examples\n",
    "    n_train = dataset[\"train_input\"].shape[0]\n",
    "    n_eval  = dataset[\"val_input\"].shape[0]  # using val set for evaluation during training\n",
    "    batch_size = n_train if batch == -1 or batch > n_train else batch\n",
    "\n",
    "    # Set up optimizer: choose between Adam and LBFGS (removed tolerance_ys)\n",
    "    if opt == \"AdamW\":\n",
    "        optimizer = optim.AdamW(model.parameters(), lr=lr)\n",
    "    elif opt == \"LBFGS\":        \n",
    "        optimizer = LBFGS(model.parameters(), lr=lr, history_size=10, \n",
    "                          line_search_fn=\"strong_wolfe\", \n",
    "                          tolerance_grad=1e-32, \n",
    "                          tolerance_change=1e-32, \n",
    "                          tolerance_ys=1e-32)\n",
    "    else:\n",
    "        raise ValueError(\"Optimizer not recognized. Use 'Adam' or 'LBFGS'.\")\n",
    "\n",
    "    # Prepare results dictionary.\n",
    "    results = {'train_loss': [], 'eval_loss': [], 'reg': []}\n",
    "    \n",
    "    if metrics is not None:\n",
    "        for metric in metrics:\n",
    "            results[metric.__name__] = []\n",
    "\n",
    "    best_model_state = None\n",
    "    best_epoch = -1\n",
    "    best_loss = float('inf')\n",
    "\n",
    "    for step in pbar:\n",
    "        # Randomly sample indices for a mini-batch from the training set.\n",
    "        train_indices = np.random.choice(n_train, batch_size, replace=False)\n",
    "        # Use full evaluation set for evaluation; you can also sample if desired.\n",
    "        eval_indices = np.arange(n_eval)\n",
    "        \n",
    "        cached_loss = {}\n",
    "        # Closure for LBFGS\n",
    "        def closure():\n",
    "            optimizer.zero_grad()\n",
    "            mlp_batch = dataset[\"train_input\"][train_indices]\n",
    "            img_batch = dataset[\"train_img\"][train_indices]\n",
    "            target_batch = dataset[\"train_label\"][train_indices]\n",
    "            outputs = model(mlp_batch, img_batch)\n",
    "            train_loss = loss_fn(outputs, target_batch)\n",
    "            # Compute regularization term if enabled.\n",
    "            if hasattr(model.m_kan, \"save_act\") and model.m_kan.save_act:\n",
    "                if reg_metric == 'edge_backward':\n",
    "                    model.m_kan.attribute()\n",
    "                    model.final_kan.attribute()\n",
    "                if reg_metric == 'node_backward':\n",
    "                    model.m_kan.node_attribute()\n",
    "                    model.final_kan.node_attribute()\n",
    "                reg_val_inner = model.m_kan.get_reg(reg_metric, lamb_l1, lamb_entropy, lamb_coef, lamb_coefdiff)\n",
    "                if sum_f_reg:\n",
    "                    reg_val_inner += model.final_kan.get_reg(reg_metric, lamb_l1, lamb_entropy, lamb_coef, lamb_coefdiff)\n",
    "            else:\n",
    "                reg_val_inner = torch.tensor(0., device=device)\n",
    "            loss_val_inner = train_loss + lamb * reg_val_inner\n",
    "            loss_val_inner.backward()\n",
    "            cached_loss['loss'] = loss_val_inner.detach()\n",
    "            cached_loss['reg'] = reg_val_inner.detach()\n",
    "            return loss_val_inner\n",
    "\n",
    "        # Perform grid update if applicable.\n",
    "        if (step % grid_update_freq == 0 and step < stop_grid_update_step \n",
    "            and update_grid and step >= start_grid_update_step):\n",
    "            \n",
    "            mlp_batch = dataset['train_input'][train_indices]\n",
    "            cnn_batch = dataset['train_img'][train_indices]\n",
    "            \n",
    "            model.m_kan.update_grid(mlp_batch)\n",
    "            #cnn_output = model.cnn_branch(cnn_batch)  # Process image input\n",
    "            concatenated = model.get_concat_output(mlp_batch, cnn_batch)\n",
    "\n",
    "            model.final_kan.update_grid(concatenated)\n",
    "\n",
    "        # Perform an optimizer step.\n",
    "        if opt == \"LBFGS\":\n",
    "            optimizer.step(closure)\n",
    "            loss_val = cached_loss['loss']\n",
    "            reg_val = cached_loss['reg']\n",
    "        else:  # AdamW branch\n",
    "            optimizer.zero_grad()\n",
    "            mlp_batch = dataset[\"train_input\"][train_indices]\n",
    "            img_batch = dataset[\"train_img\"][train_indices]\n",
    "            target_batch = dataset[\"train_label\"][train_indices]\n",
    "            outputs = model(mlp_batch, img_batch)\n",
    "            train_loss = loss_fn(outputs, target_batch)\n",
    "            if hasattr(model.m_kan, \"save_act\") and model.m_kan.save_act:\n",
    "                if reg_metric == 'edge_backward':\n",
    "                    model.m_kan.attribute()\n",
    "                    model.final_kan.attribute()\n",
    "                if reg_metric == 'node_backward':\n",
    "                    model.m_kan.node_attribute()\n",
    "                    model.final_kan.node_attribute()\n",
    "                reg_val = model.m_kan.get_reg(reg_metric, lamb_l1, lamb_entropy, lamb_coef, lamb_coefdiff)\n",
    "                if sum_f_reg:\n",
    "                    reg_val = reg_val + model.final_kan.get_reg(reg_metric, lamb_l1, lamb_entropy, lamb_coef, lamb_coefdiff)\n",
    "            else:\n",
    "                reg_val = torch.tensor(0., device=device)\n",
    "            loss_val = train_loss + lamb * reg_val\n",
    "            loss_val.backward()\n",
    "            optimizer.step()\n",
    "\n",
    "\n",
    "        with torch.no_grad():\n",
    "            mlp_eval = dataset[\"val_input\"][eval_indices]\n",
    "            img_eval = dataset[\"val_img\"][eval_indices]\n",
    "            target_eval = dataset[\"val_label\"][eval_indices]\n",
    "            eval_loss = loss_fn(model(mlp_eval, img_eval), target_eval)\n",
    "\n",
    "        # Record results (using square-root of loss similar to KAN.fit)\n",
    "        results['train_loss'].append(torch.sqrt(loss_val.detach()).item())\n",
    "        results['eval_loss'].append(torch.sqrt(eval_loss.detach()).item())\n",
    "        results['reg'].append(reg_val.detach().item())\n",
    "\n",
    "        if metrics is not None:\n",
    "            for metric in metrics:\n",
    "                # Here, we assume each metric returns a tensor.\n",
    "                results[metric.__name__].append(metric().item())\n",
    "\n",
    "        if eval_loss < best_loss:\n",
    "            best_epoch = step\n",
    "            best_loss = eval_loss\n",
    "            best_model_state = copy.deepcopy(model.state_dict())\n",
    "\n",
    "        # Update progress bar.\n",
    "        if display_metrics is None:\n",
    "            pbar.set_description(\"| train_loss: %.2e | eval_loss: %.2e | reg: %.2e |\" %\n",
    "                                 (torch.sqrt(loss_val.detach()).item(),\n",
    "                                  torch.sqrt(eval_loss.detach()).item(),\n",
    "                                  reg_val.detach().item()))\n",
    "        else:\n",
    "            string = ''\n",
    "            data = ()\n",
    "            for metric in display_metrics:\n",
    "                string += f' {metric}: %.2e |'\n",
    "                try:\n",
    "                    results[metric]\n",
    "                except:\n",
    "                    raise Exception(f'{metric} not recognized')\n",
    "                data += (results[metric][-1],)\n",
    "            pbar.set_description(string % data)\n",
    "        # Optionally save a figure snapshot.\n",
    "        if save_fig and step % save_fig_freq == 0:\n",
    "            save_act_backup = getattr(model.m_kan, \"save_act\", False)\n",
    "            model.m_kan.save_act = True\n",
    "            model.plot(folder=img_folder, in_vars=in_vars, out_vars=out_vars, title=f\"Step {step}\", beta=beta)\n",
    "            plt.savefig(os.path.join(img_folder, f\"{step}.jpg\"), bbox_inches='tight', dpi=200)\n",
    "            plt.close()\n",
    "            model.m_kan.save_act = save_act_backup\n",
    "\n",
    "    # Restore original settings if applicable.\n",
    "    if old_symbolic_enabled is not None:\n",
    "        model.m_kan.symbolic_enabled = old_symbolic_enabled\n",
    "    if hasattr(model.m_kan, \"log_history\"):\n",
    "        model.m_kan.log_history('fit')\n",
    "    print(f\"Best epoch {best_epoch}\")\n",
    "    return best_model_state, results, best_epoch"
   ]
  },
  {
   "cell_type": "code",
   "execution_count": 16,
   "id": "204160d7-e91a-45ea-a63d-1dd64300f2c6",
   "metadata": {},
   "outputs": [],
   "source": [
    "def try_create_model(model_class, attributes, imgs_shape, kan_neurons, kan_grid):\n",
    "    try:\n",
    "        model = model_class(attributes, imgs_shape, kan_neurons, kan_grid)\n",
    "        \n",
    "        # Test the model with a sample input\n",
    "        num_input = torch.randn(4, attributes)\n",
    "        img_input = torch.randn(4, *imgs_shape)\n",
    "        output = model(num_input, img_input)\n",
    "        \n",
    "        print(f\"Successfully created and tested {model_class.__name__}\")\n",
    "        \n",
    "        return model\n",
    "    except Exception as e:\n",
    "        print(f\"Error creating or testing {model_class.__name__}:\")\n",
    "        traceback.print_exc()\n",
    "        return None"
   ]
  },
  {
   "cell_type": "code",
   "execution_count": 17,
   "id": "4a7c1813-9b74-4e8f-af50-e0862b2d0ee7",
   "metadata": {},
   "outputs": [],
   "source": [
    "def grid_search_kan_hybrid(dataset, model_class, max_steps=30, output_dim=1):\n",
    "    hidden_neuron_options = list(range(1, attributes // 2 + 1))\n",
    "    grid_options = list(range(3, 9))\n",
    "    lamb_options = [1., 0.1, 0.01, 0.001, 0.0001, 0.00001]\n",
    "\n",
    "    top_models = []  # list of dicts: each will have 'loss', 'config', 'state_dict'\n",
    "\n",
    "    for hidden in hidden_neuron_options:\n",
    "        for grid in grid_options:\n",
    "            for lamb in lamb_options:\n",
    "                print(f\"Testing {hidden} hidden neurons, lamb={lamb}, grid={grid}\")\n",
    "                model = try_create_model(model_class, attributes, imgs_shape, kan_neurons=hidden, kan_grid=grid)  # Attempt to create Model3\n",
    "                \n",
    "                # Custom training\n",
    "                model_state, _, best_epoch = fit_hybrid_dataloaders(model, dataset, opt=\"LBFGS\", steps=max_steps, lamb=lamb)\n",
    "                model.load_state_dict(model_state)\n",
    "\n",
    "                # Evaluate\n",
    "                avg_loss = average_rmse(model(dataset['test_input'], dataset['test_img']), dataset['test_label'])\n",
    "                print(avg_loss)\n",
    "                # Save this model info\n",
    "                top_models.append({\n",
    "                    \"loss\": avg_loss,\n",
    "                    \"config\": {\"hidden\": hidden, \"grid\": grid, \"lamb\": lamb},\n",
    "                    #\"state_dict\": copy.deepcopy(model_state),\n",
    "                    \"best_epoch\": best_epoch\n",
    "                })\n",
    "\n",
    "                # Keep only top 5\n",
    "                top_models = sorted(top_models, key=lambda x: x[\"loss\"])[:5]\n",
    "\n",
    "    print(\"\\n✅ Top 5 Configurations:\")\n",
    "    for i, entry in enumerate(top_models):\n",
    "        cfg = entry[\"config\"]\n",
    "        print(f\"{i+1}. width=[{attributes}, {cfg['hidden']}, {output_dim}], grid={cfg['grid']}, lamb={cfg['lamb']}| best_epoch={entry['best_epoch']} | loss={entry['loss']:.5f}\")"
   ]
  },
  {
   "cell_type": "markdown",
   "id": "9768f8c1-6d2f-4141-b2e1-0b2bc4ac708a",
   "metadata": {},
   "source": [
    "# Load Data and Images"
   ]
  },
  {
   "cell_type": "code",
   "execution_count": 18,
   "id": "59900915-58b5-442f-bda6-d9ec4d503f4e",
   "metadata": {},
   "outputs": [],
   "source": [
    "X_train, y_train = load_and_clean('N_train.npy', 'y_train.npy',x_col, target_col)\n",
    "X_test, y_test   = load_and_clean('N_test.npy',  'y_test.npy', x_col, target_col)\n",
    "X_val, y_val     = load_and_clean('N_val.npy',   'y_val.npy', x_col, target_col)"
   ]
  },
  {
   "cell_type": "code",
   "execution_count": 19,
   "id": "92613d4f-1cd2-49f8-82a9-620fda68b565",
   "metadata": {},
   "outputs": [
    {
     "name": "stdout",
     "output_type": "stream",
     "text": [
      "4\n"
     ]
    }
   ],
   "source": [
    "# Get the shape of the dataframe\n",
    "num_columns = X_train.shape[1]\n",
    "\n",
    "# Calculate number of columns - 1\n",
    "columns_minus_one = num_columns - 1\n",
    "\n",
    "# Calculate the square root for image size\n",
    "\n",
    "image_size = math.ceil(math.sqrt(columns_minus_one))\n",
    "print(image_size)"
   ]
  },
  {
   "cell_type": "code",
   "execution_count": 20,
   "id": "a28853f7-dcee-47de-91eb-8f35177b8913",
   "metadata": {},
   "outputs": [],
   "source": [
    "dataset_name = 'treasury'\n",
    "#Select the model and the parameters\n",
    "problem_type = \"regression\"\n",
    "image_model = IGTD(problem=problem_type, \n",
    "                   scale=[image_size,image_size],\n",
    "                   fea_dist_method='Euclidean',\n",
    "                   image_dist_method='Euclidean',\n",
    "                   error='abs',\n",
    "                   max_step=30000,\n",
    "                   val_step=300,\n",
    "                   zoom=2,\n",
    "                   random_seed=SEED)\n",
    "\n",
    "name = f\"IGTD_{image_size}x{image_size}_fEuclidean_iEuclidean_abs\"\n",
    "\n",
    "#Define the dataset path and the folder where the images will be saved\n",
    "images_folder = f\"HyNNImages/Regression2/{dataset_name}/images_{dataset_name}_{name}\""
   ]
  },
  {
   "cell_type": "code",
   "execution_count": 21,
   "id": "a01e98f2-1bea-4364-b0bc-3d0412ebba5c",
   "metadata": {
    "scrolled": true
   },
   "outputs": [
    {
     "name": "stdout",
     "output_type": "stream",
     "text": [
      "The images are already generated\n",
      "The images are already generated\n",
      "The images are already generated\n",
      "Images shape:  (3, 8, 8)\n",
      "Attributes:  15\n"
     ]
    }
   ],
   "source": [
    "train_loader, val_loader, test_loader, attributes, imgs_shape = load_and_preprocess_data(\n",
    "    X_train, y_train, X_test, y_test, X_val, y_val,\n",
    "    image_model=image_model,\n",
    "    problem_type=problem_type,\n",
    "    batch_size=16\n",
    ")"
   ]
  },
  {
   "cell_type": "code",
   "execution_count": 22,
   "id": "2c84fd70-94ac-4546-b907-00fe548676ba",
   "metadata": {},
   "outputs": [],
   "source": [
    "# Combine dataloaders into tensors.\n",
    "train_mlp, train_img, train_target = combine_loader(train_loader)\n",
    "val_mlp, val_img, val_target = combine_loader(val_loader)\n",
    "test_mlp, test_img, test_target = combine_loader(test_loader)\n",
    "\n",
    "dataset = {\n",
    "    \"train_input\": train_mlp.to(device),\n",
    "    \"train_img\": train_img.to(device),\n",
    "    \"train_label\": train_target.to(device),\n",
    "    \"val_input\": val_mlp.to(device),\n",
    "    \"val_img\": val_img.to(device),\n",
    "    \"val_label\": val_target.to(device),\n",
    "    \"test_input\": test_mlp.to(device),\n",
    "    \"test_img\": test_img.to(device),\n",
    "    \"test_label\": test_target.to(device),\n",
    "}"
   ]
  },
  {
   "cell_type": "code",
   "execution_count": 23,
   "id": "d8382d81-df3d-4828-90a0-a472f0fb312e",
   "metadata": {},
   "outputs": [
    {
     "name": "stdout",
     "output_type": "stream",
     "text": [
      "Train data shape: torch.Size([671, 15])\n",
      "Train target shape: torch.Size([671, 1])\n",
      "Test data shape: torch.Size([210, 15])\n",
      "Test target shape: torch.Size([210, 1])\n",
      "Validation data shape: torch.Size([168, 15])\n",
      "Validation target shape: torch.Size([168, 1])\n"
     ]
    }
   ],
   "source": [
    "# Print the shapes of the tensors\n",
    "print(\"Train data shape:\", dataset['train_input'].shape)\n",
    "print(\"Train target shape:\", dataset['train_label'].shape)\n",
    "print(\"Test data shape:\", dataset['test_input'].shape)\n",
    "print(\"Test target shape:\", dataset['test_label'].shape)\n",
    "print(\"Validation data shape:\", dataset['val_input'].shape)\n",
    "print(\"Validation target shape:\", dataset['val_label'].shape)"
   ]
  },
  {
   "cell_type": "markdown",
   "id": "a226b922-a823-49b6-ada1-6fae898ef239",
   "metadata": {
    "jp-MarkdownHeadingCollapsed": true
   },
   "source": [
    "# Grid Search for KAN"
   ]
  },
  {
   "cell_type": "code",
   "execution_count": 18,
   "id": "6c7a78d5-a403-422d-b6f1-191d9139220b",
   "metadata": {
    "scrolled": true
   },
   "outputs": [
    {
     "name": "stdout",
     "output_type": "stream",
     "text": [
      "Testing width=[15, 1, 1], lamb=1.0, grid=3\n",
      "checkpoint directory created: ./model\n",
      "saving model version 0.0\n"
     ]
    },
    {
     "name": "stderr",
     "output_type": "stream",
     "text": [
      "| train_loss: 1.04e+00 | val_loss: 9.43e-01 | reg: 8.06e+00 | : 100%|█| 40/40 [00:07<00:00,  5.01it/\n"
     ]
    },
    {
     "name": "stdout",
     "output_type": "stream",
     "text": [
      "saving model version 0.1\n",
      "Testing width=[15, 1, 1], lamb=0.1, grid=3\n",
      "checkpoint directory created: ./model\n",
      "saving model version 0.0\n"
     ]
    },
    {
     "name": "stderr",
     "output_type": "stream",
     "text": [
      "| train_loss: 4.38e-01 | val_loss: 3.88e-01 | reg: 1.14e+01 | : 100%|█| 40/40 [00:10<00:00,  3.90it/\n"
     ]
    },
    {
     "name": "stdout",
     "output_type": "stream",
     "text": [
      "saving model version 0.1\n",
      "Testing width=[15, 1, 1], lamb=0.01, grid=3\n",
      "checkpoint directory created: ./model\n",
      "saving model version 0.0\n"
     ]
    },
    {
     "name": "stderr",
     "output_type": "stream",
     "text": [
      "| train_loss: 5.80e-01 | val_loss: 5.82e-01 | reg: 1.95e+01 | : 100%|█| 40/40 [00:10<00:00,  3.83it/\n"
     ]
    },
    {
     "name": "stdout",
     "output_type": "stream",
     "text": [
      "saving model version 0.1\n",
      "Testing width=[15, 1, 1], lamb=0.001, grid=3\n",
      "checkpoint directory created: ./model\n",
      "saving model version 0.0\n"
     ]
    },
    {
     "name": "stderr",
     "output_type": "stream",
     "text": [
      "| train_loss: 4.71e-01 | val_loss: 4.60e-01 | reg: 2.24e+01 | : 100%|█| 40/40 [00:10<00:00,  3.88it/\n"
     ]
    },
    {
     "name": "stdout",
     "output_type": "stream",
     "text": [
      "saving model version 0.1\n",
      "Testing width=[15, 1, 1], lamb=0.0001, grid=3\n",
      "checkpoint directory created: ./model\n",
      "saving model version 0.0\n"
     ]
    },
    {
     "name": "stderr",
     "output_type": "stream",
     "text": [
      "| train_loss: 4.65e-01 | val_loss: 4.39e-01 | reg: 2.29e+01 | : 100%|█| 40/40 [00:10<00:00,  3.94it/\n"
     ]
    },
    {
     "name": "stdout",
     "output_type": "stream",
     "text": [
      "saving model version 0.1\n",
      "Testing width=[15, 1, 1], lamb=1e-05, grid=3\n",
      "checkpoint directory created: ./model\n",
      "saving model version 0.0\n"
     ]
    },
    {
     "name": "stderr",
     "output_type": "stream",
     "text": [
      "| train_loss: 4.57e-01 | val_loss: 5.26e-01 | reg: 2.48e+01 | : 100%|█| 40/40 [00:10<00:00,  3.78it/\n"
     ]
    },
    {
     "name": "stdout",
     "output_type": "stream",
     "text": [
      "saving model version 0.1\n",
      "Testing width=[15, 1, 1], lamb=1.0, grid=4\n",
      "checkpoint directory created: ./model\n",
      "saving model version 0.0\n"
     ]
    },
    {
     "name": "stderr",
     "output_type": "stream",
     "text": [
      "| train_loss: 2.68e+00 | val_loss: 2.35e+00 | reg: 9.80e+00 | : 100%|█| 40/40 [00:10<00:00,  3.75it/\n"
     ]
    },
    {
     "name": "stdout",
     "output_type": "stream",
     "text": [
      "saving model version 0.1\n",
      "Testing width=[15, 1, 1], lamb=0.1, grid=4\n",
      "checkpoint directory created: ./model\n",
      "saving model version 0.0\n"
     ]
    },
    {
     "name": "stderr",
     "output_type": "stream",
     "text": [
      "| train_loss: 1.60e+00 | val_loss: 1.52e+00 | reg: 1.67e+01 | : 100%|█| 40/40 [00:10<00:00,  3.83it/\n"
     ]
    },
    {
     "name": "stdout",
     "output_type": "stream",
     "text": [
      "saving model version 0.1\n",
      "Testing width=[15, 1, 1], lamb=0.01, grid=4\n",
      "checkpoint directory created: ./model\n",
      "saving model version 0.0\n"
     ]
    },
    {
     "name": "stderr",
     "output_type": "stream",
     "text": [
      "| train_loss: 1.56e+00 | val_loss: 1.90e+00 | reg: 6.78e+01 | : 100%|█| 40/40 [00:10<00:00,  3.89it/\n"
     ]
    },
    {
     "name": "stdout",
     "output_type": "stream",
     "text": [
      "saving model version 0.1\n",
      "Testing width=[15, 1, 1], lamb=0.001, grid=4\n",
      "checkpoint directory created: ./model\n",
      "saving model version 0.0\n"
     ]
    },
    {
     "name": "stderr",
     "output_type": "stream",
     "text": [
      "| train_loss: 1.44e+00 | val_loss: 2.00e+00 | reg: 3.15e+01 | : 100%|█| 40/40 [00:10<00:00,  3.93it/\n"
     ]
    },
    {
     "name": "stdout",
     "output_type": "stream",
     "text": [
      "saving model version 0.1\n",
      "Testing width=[15, 1, 1], lamb=0.0001, grid=4\n",
      "checkpoint directory created: ./model\n",
      "saving model version 0.0\n"
     ]
    },
    {
     "name": "stderr",
     "output_type": "stream",
     "text": [
      "| train_loss: 1.57e+00 | val_loss: 1.87e+00 | reg: 2.74e+01 | : 100%|█| 40/40 [00:10<00:00,  3.83it/\n"
     ]
    },
    {
     "name": "stdout",
     "output_type": "stream",
     "text": [
      "saving model version 0.1\n",
      "Testing width=[15, 1, 1], lamb=1e-05, grid=4\n",
      "checkpoint directory created: ./model\n",
      "saving model version 0.0\n"
     ]
    },
    {
     "name": "stderr",
     "output_type": "stream",
     "text": [
      "| train_loss: 1.74e+00 | val_loss: 2.07e+00 | reg: 7.30e+01 | : 100%|█| 40/40 [00:09<00:00,  4.03it/\n"
     ]
    },
    {
     "name": "stdout",
     "output_type": "stream",
     "text": [
      "saving model version 0.1\n",
      "Testing width=[15, 1, 1], lamb=1.0, grid=5\n",
      "checkpoint directory created: ./model\n",
      "saving model version 0.0\n"
     ]
    },
    {
     "name": "stderr",
     "output_type": "stream",
     "text": [
      "| train_loss: 3.47e+00 | val_loss: 2.98e+00 | reg: 1.66e+00 | : 100%|█| 40/40 [00:09<00:00,  4.01it/\n"
     ]
    },
    {
     "name": "stdout",
     "output_type": "stream",
     "text": [
      "saving model version 0.1\n",
      "Testing width=[15, 1, 1], lamb=0.1, grid=5\n",
      "checkpoint directory created: ./model\n",
      "saving model version 0.0\n"
     ]
    },
    {
     "name": "stderr",
     "output_type": "stream",
     "text": [
      "| train_loss: 3.32e-01 | val_loss: 2.94e-01 | reg: 8.39e+00 | : 100%|█| 40/40 [00:10<00:00,  3.88it/\n"
     ]
    },
    {
     "name": "stdout",
     "output_type": "stream",
     "text": [
      "saving model version 0.1\n",
      "Testing width=[15, 1, 1], lamb=0.01, grid=5\n",
      "checkpoint directory created: ./model\n",
      "saving model version 0.0\n"
     ]
    },
    {
     "name": "stderr",
     "output_type": "stream",
     "text": [
      "| train_loss: 2.15e-01 | val_loss: 1.91e-01 | reg: 1.11e+01 | : 100%|█| 40/40 [00:09<00:00,  4.12it/\n"
     ]
    },
    {
     "name": "stdout",
     "output_type": "stream",
     "text": [
      "saving model version 0.1\n",
      "Testing width=[15, 1, 1], lamb=0.001, grid=5\n",
      "checkpoint directory created: ./model\n",
      "saving model version 0.0\n"
     ]
    },
    {
     "name": "stderr",
     "output_type": "stream",
     "text": [
      "| train_loss: 1.83e-01 | val_loss: 1.98e-01 | reg: 1.48e+01 | : 100%|█| 40/40 [00:09<00:00,  4.04it/\n"
     ]
    },
    {
     "name": "stdout",
     "output_type": "stream",
     "text": [
      "saving model version 0.1\n",
      "Testing width=[15, 1, 1], lamb=0.0001, grid=5\n",
      "checkpoint directory created: ./model\n",
      "saving model version 0.0\n"
     ]
    },
    {
     "name": "stderr",
     "output_type": "stream",
     "text": [
      "| train_loss: 1.71e-01 | val_loss: 2.00e-01 | reg: 2.42e+01 | : 100%|█| 40/40 [00:10<00:00,  3.99it/\n"
     ]
    },
    {
     "name": "stdout",
     "output_type": "stream",
     "text": [
      "saving model version 0.1\n",
      "Testing width=[15, 1, 1], lamb=1e-05, grid=5\n",
      "checkpoint directory created: ./model\n",
      "saving model version 0.0\n"
     ]
    },
    {
     "name": "stderr",
     "output_type": "stream",
     "text": [
      "| train_loss: 1.69e-01 | val_loss: 2.05e-01 | reg: 3.11e+01 | : 100%|█| 40/40 [00:10<00:00,  3.91it/\n"
     ]
    },
    {
     "name": "stdout",
     "output_type": "stream",
     "text": [
      "saving model version 0.1\n",
      "Testing width=[15, 1, 1], lamb=1.0, grid=6\n",
      "checkpoint directory created: ./model\n",
      "saving model version 0.0\n"
     ]
    },
    {
     "name": "stderr",
     "output_type": "stream",
     "text": [
      "| train_loss: 2.67e+00 | val_loss: 2.27e+00 | reg: 7.36e+00 | : 100%|█| 40/40 [00:09<00:00,  4.01it/\n"
     ]
    },
    {
     "name": "stdout",
     "output_type": "stream",
     "text": [
      "saving model version 0.1\n",
      "Testing width=[15, 1, 1], lamb=0.1, grid=6\n",
      "checkpoint directory created: ./model\n",
      "saving model version 0.0\n"
     ]
    },
    {
     "name": "stderr",
     "output_type": "stream",
     "text": [
      "| train_loss: 3.39e-01 | val_loss: 2.98e-01 | reg: 8.28e+00 | : 100%|█| 40/40 [00:07<00:00,  5.09it/\n"
     ]
    },
    {
     "name": "stdout",
     "output_type": "stream",
     "text": [
      "saving model version 0.1\n",
      "Testing width=[15, 1, 1], lamb=0.01, grid=6\n",
      "checkpoint directory created: ./model\n",
      "saving model version 0.0\n"
     ]
    },
    {
     "name": "stderr",
     "output_type": "stream",
     "text": [
      "| train_loss: 2.15e-01 | val_loss: 1.96e-01 | reg: 1.08e+01 | : 100%|█| 40/40 [00:10<00:00,  3.90it/\n"
     ]
    },
    {
     "name": "stdout",
     "output_type": "stream",
     "text": [
      "saving model version 0.1\n",
      "Testing width=[15, 1, 1], lamb=0.001, grid=6\n",
      "checkpoint directory created: ./model\n",
      "saving model version 0.0\n"
     ]
    },
    {
     "name": "stderr",
     "output_type": "stream",
     "text": [
      "| train_loss: 1.67e-01 | val_loss: 1.88e-01 | reg: 1.52e+01 | : 100%|█| 40/40 [00:10<00:00,  3.96it/\n"
     ]
    },
    {
     "name": "stdout",
     "output_type": "stream",
     "text": [
      "saving model version 0.1\n",
      "Testing width=[15, 1, 1], lamb=0.0001, grid=6\n",
      "checkpoint directory created: ./model\n",
      "saving model version 0.0\n"
     ]
    },
    {
     "name": "stderr",
     "output_type": "stream",
     "text": [
      "| train_loss: 1.57e-01 | val_loss: 1.95e-01 | reg: 2.91e+01 | : 100%|█| 40/40 [00:09<00:00,  4.11it/\n"
     ]
    },
    {
     "name": "stdout",
     "output_type": "stream",
     "text": [
      "saving model version 0.1\n",
      "Testing width=[15, 1, 1], lamb=1e-05, grid=6\n",
      "checkpoint directory created: ./model\n",
      "saving model version 0.0\n"
     ]
    },
    {
     "name": "stderr",
     "output_type": "stream",
     "text": [
      "| train_loss: 1.59e-01 | val_loss: 2.00e-01 | reg: 3.78e+01 | : 100%|█| 40/40 [00:09<00:00,  4.01it/\n"
     ]
    },
    {
     "name": "stdout",
     "output_type": "stream",
     "text": [
      "saving model version 0.1\n",
      "Testing width=[15, 1, 1], lamb=1.0, grid=7\n",
      "checkpoint directory created: ./model\n",
      "saving model version 0.0\n"
     ]
    },
    {
     "name": "stderr",
     "output_type": "stream",
     "text": [
      "| train_loss: 3.46e+00 | val_loss: 2.98e+00 | reg: 7.37e-01 | : 100%|█| 40/40 [00:06<00:00,  5.76it/\n"
     ]
    },
    {
     "name": "stdout",
     "output_type": "stream",
     "text": [
      "saving model version 0.1\n",
      "Testing width=[15, 1, 1], lamb=0.1, grid=7\n",
      "checkpoint directory created: ./model\n",
      "saving model version 0.0\n"
     ]
    },
    {
     "name": "stderr",
     "output_type": "stream",
     "text": [
      "| train_loss: 2.68e-01 | val_loss: 2.33e-01 | reg: 9.55e+00 | : 100%|█| 40/40 [00:09<00:00,  4.08it/\n"
     ]
    },
    {
     "name": "stdout",
     "output_type": "stream",
     "text": [
      "saving model version 0.1\n",
      "Testing width=[15, 1, 1], lamb=0.01, grid=7\n",
      "checkpoint directory created: ./model\n",
      "saving model version 0.0\n"
     ]
    },
    {
     "name": "stderr",
     "output_type": "stream",
     "text": [
      "| train_loss: 2.07e-01 | val_loss: 1.93e-01 | reg: 1.11e+01 | : 100%|█| 40/40 [00:08<00:00,  4.88it/\n"
     ]
    },
    {
     "name": "stdout",
     "output_type": "stream",
     "text": [
      "saving model version 0.1\n",
      "Testing width=[15, 1, 1], lamb=0.001, grid=7\n",
      "checkpoint directory created: ./model\n",
      "saving model version 0.0\n"
     ]
    },
    {
     "name": "stderr",
     "output_type": "stream",
     "text": [
      "| train_loss: 1.63e-01 | val_loss: 1.90e-01 | reg: 1.59e+01 | : 100%|█| 40/40 [00:10<00:00,  3.83it/\n"
     ]
    },
    {
     "name": "stdout",
     "output_type": "stream",
     "text": [
      "saving model version 0.1\n",
      "Testing width=[15, 1, 1], lamb=0.0001, grid=7\n",
      "checkpoint directory created: ./model\n",
      "saving model version 0.0\n"
     ]
    },
    {
     "name": "stderr",
     "output_type": "stream",
     "text": [
      "| train_loss: 1.57e-01 | val_loss: 1.92e-01 | reg: 2.51e+01 | : 100%|█| 40/40 [00:10<00:00,  3.76it/\n"
     ]
    },
    {
     "name": "stdout",
     "output_type": "stream",
     "text": [
      "saving model version 0.1\n",
      "Testing width=[15, 1, 1], lamb=1e-05, grid=7\n",
      "checkpoint directory created: ./model\n",
      "saving model version 0.0\n"
     ]
    },
    {
     "name": "stderr",
     "output_type": "stream",
     "text": [
      "| train_loss: 1.58e-01 | val_loss: 1.96e-01 | reg: 2.92e+01 | : 100%|█| 40/40 [00:11<00:00,  3.49it/\n"
     ]
    },
    {
     "name": "stdout",
     "output_type": "stream",
     "text": [
      "saving model version 0.1\n",
      "Testing width=[15, 2, 1], lamb=1.0, grid=3\n",
      "checkpoint directory created: ./model\n",
      "saving model version 0.0\n"
     ]
    },
    {
     "name": "stderr",
     "output_type": "stream",
     "text": [
      "| train_loss: 1.18e+00 | val_loss: 9.54e-01 | reg: 1.03e+01 | : 100%|█| 40/40 [00:07<00:00,  5.30it/\n"
     ]
    },
    {
     "name": "stdout",
     "output_type": "stream",
     "text": [
      "saving model version 0.1\n",
      "Testing width=[15, 2, 1], lamb=0.1, grid=3\n",
      "checkpoint directory created: ./model\n",
      "saving model version 0.0\n"
     ]
    },
    {
     "name": "stderr",
     "output_type": "stream",
     "text": [
      "| train_loss: 2.81e-01 | val_loss: 2.48e-01 | reg: 9.44e+00 | : 100%|█| 40/40 [00:11<00:00,  3.61it/\n"
     ]
    },
    {
     "name": "stdout",
     "output_type": "stream",
     "text": [
      "saving model version 0.1\n",
      "Testing width=[15, 2, 1], lamb=0.01, grid=3\n",
      "checkpoint directory created: ./model\n",
      "saving model version 0.0\n"
     ]
    },
    {
     "name": "stderr",
     "output_type": "stream",
     "text": [
      "| train_loss: 2.24e-01 | val_loss: 1.91e-01 | reg: 9.96e+00 | : 100%|█| 40/40 [00:11<00:00,  3.52it/\n"
     ]
    },
    {
     "name": "stdout",
     "output_type": "stream",
     "text": [
      "saving model version 0.1\n",
      "Testing width=[15, 2, 1], lamb=0.001, grid=3\n",
      "checkpoint directory created: ./model\n",
      "saving model version 0.0\n"
     ]
    },
    {
     "name": "stderr",
     "output_type": "stream",
     "text": [
      "| train_loss: 1.57e-01 | val_loss: 1.85e-01 | reg: 1.88e+01 | : 100%|█| 40/40 [00:10<00:00,  3.95it/\n"
     ]
    },
    {
     "name": "stdout",
     "output_type": "stream",
     "text": [
      "saving model version 0.1\n",
      "Testing width=[15, 2, 1], lamb=0.0001, grid=3\n",
      "checkpoint directory created: ./model\n",
      "saving model version 0.0\n"
     ]
    },
    {
     "name": "stderr",
     "output_type": "stream",
     "text": [
      "| train_loss: 1.57e-01 | val_loss: 1.94e-01 | reg: 2.29e+01 | : 100%|█| 40/40 [00:10<00:00,  3.94it/\n"
     ]
    },
    {
     "name": "stdout",
     "output_type": "stream",
     "text": [
      "saving model version 0.1\n",
      "Testing width=[15, 2, 1], lamb=1e-05, grid=3\n",
      "checkpoint directory created: ./model\n",
      "saving model version 0.0\n"
     ]
    },
    {
     "name": "stderr",
     "output_type": "stream",
     "text": [
      "| train_loss: 1.55e-01 | val_loss: 2.00e-01 | reg: 2.41e+01 | : 100%|█| 40/40 [00:10<00:00,  3.79it/\n"
     ]
    },
    {
     "name": "stdout",
     "output_type": "stream",
     "text": [
      "saving model version 0.1\n",
      "Testing width=[15, 2, 1], lamb=1.0, grid=4\n",
      "checkpoint directory created: ./model\n",
      "saving model version 0.0\n"
     ]
    },
    {
     "name": "stderr",
     "output_type": "stream",
     "text": [
      "| train_loss: 2.98e+00 | val_loss: 2.52e+00 | reg: 5.53e+00 | : 100%|█| 40/40 [00:07<00:00,  5.68it/\n"
     ]
    },
    {
     "name": "stdout",
     "output_type": "stream",
     "text": [
      "saving model version 0.1\n",
      "Testing width=[15, 2, 1], lamb=0.1, grid=4\n",
      "checkpoint directory created: ./model\n",
      "saving model version 0.0\n"
     ]
    },
    {
     "name": "stderr",
     "output_type": "stream",
     "text": [
      "| train_loss: 7.01e-01 | val_loss: 6.54e-01 | reg: 1.00e+01 | : 100%|█| 40/40 [00:10<00:00,  3.89it/\n"
     ]
    },
    {
     "name": "stdout",
     "output_type": "stream",
     "text": [
      "saving model version 0.1\n",
      "Testing width=[15, 2, 1], lamb=0.01, grid=4\n",
      "checkpoint directory created: ./model\n",
      "saving model version 0.0\n"
     ]
    },
    {
     "name": "stderr",
     "output_type": "stream",
     "text": [
      "| train_loss: 2.15e-01 | val_loss: 2.20e-01 | reg: 1.26e+01 | : 100%|█| 40/40 [00:10<00:00,  3.96it/\n"
     ]
    },
    {
     "name": "stdout",
     "output_type": "stream",
     "text": [
      "saving model version 0.1\n",
      "Testing width=[15, 2, 1], lamb=0.001, grid=4\n",
      "checkpoint directory created: ./model\n",
      "saving model version 0.0\n"
     ]
    },
    {
     "name": "stderr",
     "output_type": "stream",
     "text": [
      "| train_loss: 1.74e-01 | val_loss: 1.95e-01 | reg: 2.76e+01 | : 100%|█| 40/40 [00:10<00:00,  3.88it/\n"
     ]
    },
    {
     "name": "stdout",
     "output_type": "stream",
     "text": [
      "saving model version 0.1\n",
      "Testing width=[15, 2, 1], lamb=0.0001, grid=4\n",
      "checkpoint directory created: ./model\n",
      "saving model version 0.0\n"
     ]
    },
    {
     "name": "stderr",
     "output_type": "stream",
     "text": [
      "| train_loss: 1.65e-01 | val_loss: 1.98e-01 | reg: 3.56e+01 | : 100%|█| 40/40 [00:10<00:00,  3.86it/\n"
     ]
    },
    {
     "name": "stdout",
     "output_type": "stream",
     "text": [
      "saving model version 0.1\n",
      "Testing width=[15, 2, 1], lamb=1e-05, grid=4\n",
      "checkpoint directory created: ./model\n",
      "saving model version 0.0\n"
     ]
    },
    {
     "name": "stderr",
     "output_type": "stream",
     "text": [
      "| train_loss: 1.63e-01 | val_loss: 2.04e-01 | reg: 3.61e+01 | : 100%|█| 40/40 [00:10<00:00,  3.93it/\n"
     ]
    },
    {
     "name": "stdout",
     "output_type": "stream",
     "text": [
      "saving model version 0.1\n",
      "Testing width=[15, 2, 1], lamb=1.0, grid=5\n",
      "checkpoint directory created: ./model\n",
      "saving model version 0.0\n"
     ]
    },
    {
     "name": "stderr",
     "output_type": "stream",
     "text": [
      "| train_loss: 1.96e+00 | val_loss: 1.67e+00 | reg: 8.57e+00 | : 100%|█| 40/40 [00:09<00:00,  4.44it/\n"
     ]
    },
    {
     "name": "stdout",
     "output_type": "stream",
     "text": [
      "saving model version 0.1\n",
      "Testing width=[15, 2, 1], lamb=0.1, grid=5\n",
      "checkpoint directory created: ./model\n",
      "saving model version 0.0\n"
     ]
    },
    {
     "name": "stderr",
     "output_type": "stream",
     "text": [
      "| train_loss: 8.94e-01 | val_loss: 8.04e-01 | reg: 1.42e+01 | : 100%|█| 40/40 [00:10<00:00,  3.90it/\n"
     ]
    },
    {
     "name": "stdout",
     "output_type": "stream",
     "text": [
      "saving model version 0.1\n",
      "Testing width=[15, 2, 1], lamb=0.01, grid=5\n",
      "checkpoint directory created: ./model\n",
      "saving model version 0.0\n"
     ]
    },
    {
     "name": "stderr",
     "output_type": "stream",
     "text": [
      "| train_loss: 3.31e-01 | val_loss: 4.00e-01 | reg: 2.22e+01 | : 100%|█| 40/40 [00:10<00:00,  3.78it/\n"
     ]
    },
    {
     "name": "stdout",
     "output_type": "stream",
     "text": [
      "saving model version 0.1\n",
      "Testing width=[15, 2, 1], lamb=0.001, grid=5\n",
      "checkpoint directory created: ./model\n",
      "saving model version 0.0\n"
     ]
    },
    {
     "name": "stderr",
     "output_type": "stream",
     "text": [
      "| train_loss: 3.59e-01 | val_loss: 3.82e-01 | reg: 2.99e+01 | : 100%|█| 40/40 [00:10<00:00,  3.98it/\n"
     ]
    },
    {
     "name": "stdout",
     "output_type": "stream",
     "text": [
      "saving model version 0.1\n",
      "Testing width=[15, 2, 1], lamb=0.0001, grid=5\n",
      "checkpoint directory created: ./model\n",
      "saving model version 0.0\n"
     ]
    },
    {
     "name": "stderr",
     "output_type": "stream",
     "text": [
      "| train_loss: 4.46e-01 | val_loss: 4.01e-01 | reg: 3.11e+01 | : 100%|█| 40/40 [00:10<00:00,  3.71it/\n"
     ]
    },
    {
     "name": "stdout",
     "output_type": "stream",
     "text": [
      "saving model version 0.1\n",
      "Testing width=[15, 2, 1], lamb=1e-05, grid=5\n",
      "checkpoint directory created: ./model\n",
      "saving model version 0.0\n"
     ]
    },
    {
     "name": "stderr",
     "output_type": "stream",
     "text": [
      "| train_loss: 4.01e-01 | val_loss: 3.63e-01 | reg: 3.11e+01 | : 100%|█| 40/40 [00:10<00:00,  3.94it/\n"
     ]
    },
    {
     "name": "stdout",
     "output_type": "stream",
     "text": [
      "saving model version 0.1\n",
      "Testing width=[15, 2, 1], lamb=1.0, grid=6\n",
      "checkpoint directory created: ./model\n",
      "saving model version 0.0\n"
     ]
    },
    {
     "name": "stderr",
     "output_type": "stream",
     "text": [
      "| train_loss: 1.40e+00 | val_loss: 1.12e+00 | reg: 1.01e+01 | : 100%|█| 40/40 [00:06<00:00,  6.44it/\n"
     ]
    },
    {
     "name": "stdout",
     "output_type": "stream",
     "text": [
      "saving model version 0.1\n",
      "Testing width=[15, 2, 1], lamb=0.1, grid=6\n",
      "checkpoint directory created: ./model\n",
      "saving model version 0.0\n"
     ]
    },
    {
     "name": "stderr",
     "output_type": "stream",
     "text": [
      "| train_loss: 2.50e-01 | val_loss: 2.25e-01 | reg: 9.43e+00 | : 100%|█| 40/40 [00:06<00:00,  6.61it/\n"
     ]
    },
    {
     "name": "stdout",
     "output_type": "stream",
     "text": [
      "saving model version 0.1\n",
      "Testing width=[15, 2, 1], lamb=0.01, grid=6\n",
      "checkpoint directory created: ./model\n",
      "saving model version 0.0\n"
     ]
    },
    {
     "name": "stderr",
     "output_type": "stream",
     "text": [
      "| train_loss: 2.13e-01 | val_loss: 1.95e-01 | reg: 1.01e+01 | : 100%|█| 40/40 [00:08<00:00,  4.86it/\n"
     ]
    },
    {
     "name": "stdout",
     "output_type": "stream",
     "text": [
      "saving model version 0.1\n",
      "Testing width=[15, 2, 1], lamb=0.001, grid=6\n",
      "checkpoint directory created: ./model\n",
      "saving model version 0.0\n"
     ]
    },
    {
     "name": "stderr",
     "output_type": "stream",
     "text": [
      "| train_loss: 1.35e-01 | val_loss: 1.85e-01 | reg: 1.92e+01 | : 100%|█| 40/40 [00:09<00:00,  4.17it/\n"
     ]
    },
    {
     "name": "stdout",
     "output_type": "stream",
     "text": [
      "saving model version 0.1\n",
      "Testing width=[15, 2, 1], lamb=0.0001, grid=6\n",
      "checkpoint directory created: ./model\n",
      "saving model version 0.0\n"
     ]
    },
    {
     "name": "stderr",
     "output_type": "stream",
     "text": [
      "| train_loss: 1.36e-01 | val_loss: 1.92e-01 | reg: 2.88e+01 | : 100%|█| 40/40 [00:09<00:00,  4.15it/\n"
     ]
    },
    {
     "name": "stdout",
     "output_type": "stream",
     "text": [
      "saving model version 0.1\n",
      "Testing width=[15, 2, 1], lamb=1e-05, grid=6\n",
      "checkpoint directory created: ./model\n",
      "saving model version 0.0\n"
     ]
    },
    {
     "name": "stderr",
     "output_type": "stream",
     "text": [
      "| train_loss: 1.35e-01 | val_loss: 1.90e-01 | reg: 3.38e+01 | : 100%|█| 40/40 [00:09<00:00,  4.05it/\n"
     ]
    },
    {
     "name": "stdout",
     "output_type": "stream",
     "text": [
      "saving model version 0.1\n",
      "Testing width=[15, 2, 1], lamb=1.0, grid=7\n",
      "checkpoint directory created: ./model\n",
      "saving model version 0.0\n"
     ]
    },
    {
     "name": "stderr",
     "output_type": "stream",
     "text": [
      "| train_loss: 5.78e-01 | val_loss: 4.69e-01 | reg: 8.56e+00 | : 100%|█| 40/40 [00:09<00:00,  4.05it/\n"
     ]
    },
    {
     "name": "stdout",
     "output_type": "stream",
     "text": [
      "saving model version 0.1\n",
      "Testing width=[15, 2, 1], lamb=0.1, grid=7\n",
      "checkpoint directory created: ./model\n",
      "saving model version 0.0\n"
     ]
    },
    {
     "name": "stderr",
     "output_type": "stream",
     "text": [
      "| train_loss: 2.49e-01 | val_loss: 2.28e-01 | reg: 9.11e+00 | : 100%|█| 40/40 [00:10<00:00,  4.00it/\n"
     ]
    },
    {
     "name": "stdout",
     "output_type": "stream",
     "text": [
      "saving model version 0.1\n",
      "Testing width=[15, 2, 1], lamb=0.01, grid=7\n",
      "checkpoint directory created: ./model\n",
      "saving model version 0.0\n"
     ]
    },
    {
     "name": "stderr",
     "output_type": "stream",
     "text": [
      "| train_loss: 2.01e-01 | val_loss: 1.86e-01 | reg: 9.77e+00 | : 100%|█| 40/40 [00:09<00:00,  4.06it/\n"
     ]
    },
    {
     "name": "stdout",
     "output_type": "stream",
     "text": [
      "saving model version 0.1\n",
      "Testing width=[15, 2, 1], lamb=0.001, grid=7\n",
      "checkpoint directory created: ./model\n",
      "saving model version 0.0\n"
     ]
    },
    {
     "name": "stderr",
     "output_type": "stream",
     "text": [
      "| train_loss: 1.34e-01 | val_loss: 2.28e-01 | reg: 1.79e+01 | : 100%|█| 40/40 [00:09<00:00,  4.05it/\n"
     ]
    },
    {
     "name": "stdout",
     "output_type": "stream",
     "text": [
      "saving model version 0.1\n",
      "Testing width=[15, 2, 1], lamb=0.0001, grid=7\n",
      "checkpoint directory created: ./model\n",
      "saving model version 0.0\n"
     ]
    },
    {
     "name": "stderr",
     "output_type": "stream",
     "text": [
      "| train_loss: 1.27e-01 | val_loss: 2.06e-01 | reg: 3.61e+01 | : 100%|█| 40/40 [00:10<00:00,  3.98it/\n"
     ]
    },
    {
     "name": "stdout",
     "output_type": "stream",
     "text": [
      "saving model version 0.1\n",
      "Testing width=[15, 2, 1], lamb=1e-05, grid=7\n",
      "checkpoint directory created: ./model\n",
      "saving model version 0.0\n"
     ]
    },
    {
     "name": "stderr",
     "output_type": "stream",
     "text": [
      "| train_loss: 1.24e-01 | val_loss: 2.05e-01 | reg: 3.64e+01 | : 100%|█| 40/40 [00:09<00:00,  4.00it/\n"
     ]
    },
    {
     "name": "stdout",
     "output_type": "stream",
     "text": [
      "saving model version 0.1\n",
      "Testing width=[15, 3, 1], lamb=1.0, grid=3\n",
      "checkpoint directory created: ./model\n",
      "saving model version 0.0\n"
     ]
    },
    {
     "name": "stderr",
     "output_type": "stream",
     "text": [
      "| train_loss: 7.65e-01 | val_loss: 5.94e-01 | reg: 8.73e+00 | : 100%|█| 40/40 [00:09<00:00,  4.10it/\n"
     ]
    },
    {
     "name": "stdout",
     "output_type": "stream",
     "text": [
      "saving model version 0.1\n",
      "Testing width=[15, 3, 1], lamb=0.1, grid=3\n",
      "checkpoint directory created: ./model\n",
      "saving model version 0.0\n"
     ]
    },
    {
     "name": "stderr",
     "output_type": "stream",
     "text": [
      "| train_loss: 2.83e-01 | val_loss: 2.49e-01 | reg: 8.75e+00 | : 100%|█| 40/40 [00:09<00:00,  4.07it/\n"
     ]
    },
    {
     "name": "stdout",
     "output_type": "stream",
     "text": [
      "saving model version 0.1\n",
      "Testing width=[15, 3, 1], lamb=0.01, grid=3\n",
      "checkpoint directory created: ./model\n",
      "saving model version 0.0\n"
     ]
    },
    {
     "name": "stderr",
     "output_type": "stream",
     "text": [
      "| train_loss: 2.21e-01 | val_loss: 1.91e-01 | reg: 9.40e+00 | : 100%|█| 40/40 [00:10<00:00,  3.92it/\n"
     ]
    },
    {
     "name": "stdout",
     "output_type": "stream",
     "text": [
      "saving model version 0.1\n",
      "Testing width=[15, 3, 1], lamb=0.001, grid=3\n",
      "checkpoint directory created: ./model\n",
      "saving model version 0.0\n"
     ]
    },
    {
     "name": "stderr",
     "output_type": "stream",
     "text": [
      "| train_loss: 1.69e-01 | val_loss: 1.93e-01 | reg: 1.69e+01 | : 100%|█| 40/40 [00:09<00:00,  4.01it/\n"
     ]
    },
    {
     "name": "stdout",
     "output_type": "stream",
     "text": [
      "saving model version 0.1\n",
      "Testing width=[15, 3, 1], lamb=0.0001, grid=3\n",
      "checkpoint directory created: ./model\n",
      "saving model version 0.0\n"
     ]
    },
    {
     "name": "stderr",
     "output_type": "stream",
     "text": [
      "| train_loss: 1.54e-01 | val_loss: 1.94e-01 | reg: 4.09e+01 | : 100%|█| 40/40 [00:09<00:00,  4.15it/\n"
     ]
    },
    {
     "name": "stdout",
     "output_type": "stream",
     "text": [
      "saving model version 0.1\n",
      "Testing width=[15, 3, 1], lamb=1e-05, grid=3\n",
      "checkpoint directory created: ./model\n",
      "saving model version 0.0\n"
     ]
    },
    {
     "name": "stderr",
     "output_type": "stream",
     "text": [
      "| train_loss: 1.52e-01 | val_loss: 1.93e-01 | reg: 4.32e+01 | : 100%|█| 40/40 [00:09<00:00,  4.05it/\n"
     ]
    },
    {
     "name": "stdout",
     "output_type": "stream",
     "text": [
      "saving model version 0.1\n",
      "Testing width=[15, 3, 1], lamb=1.0, grid=4\n",
      "checkpoint directory created: ./model\n",
      "saving model version 0.0\n"
     ]
    },
    {
     "name": "stderr",
     "output_type": "stream",
     "text": [
      "| train_loss: 7.56e-01 | val_loss: 5.93e-01 | reg: 8.75e+00 | : 100%|█| 40/40 [00:09<00:00,  4.09it/\n"
     ]
    },
    {
     "name": "stdout",
     "output_type": "stream",
     "text": [
      "saving model version 0.1\n",
      "Testing width=[15, 3, 1], lamb=0.1, grid=4\n",
      "checkpoint directory created: ./model\n",
      "saving model version 0.0\n"
     ]
    },
    {
     "name": "stderr",
     "output_type": "stream",
     "text": [
      "| train_loss: 2.56e-01 | val_loss: 2.28e-01 | reg: 8.73e+00 | : 100%|█| 40/40 [00:10<00:00,  3.87it/\n"
     ]
    },
    {
     "name": "stdout",
     "output_type": "stream",
     "text": [
      "saving model version 0.1\n",
      "Testing width=[15, 3, 1], lamb=0.01, grid=4\n",
      "checkpoint directory created: ./model\n",
      "saving model version 0.0\n"
     ]
    },
    {
     "name": "stderr",
     "output_type": "stream",
     "text": [
      "| train_loss: 2.19e-01 | val_loss: 1.96e-01 | reg: 9.19e+00 | : 100%|█| 40/40 [00:09<00:00,  4.42it/\n"
     ]
    },
    {
     "name": "stdout",
     "output_type": "stream",
     "text": [
      "saving model version 0.1\n",
      "Testing width=[15, 3, 1], lamb=0.001, grid=4\n",
      "checkpoint directory created: ./model\n",
      "saving model version 0.0\n"
     ]
    },
    {
     "name": "stderr",
     "output_type": "stream",
     "text": [
      "| train_loss: 1.57e-01 | val_loss: 1.84e-01 | reg: 1.74e+01 | : 100%|█| 40/40 [00:09<00:00,  4.11it/\n"
     ]
    },
    {
     "name": "stdout",
     "output_type": "stream",
     "text": [
      "saving model version 0.1\n",
      "Testing width=[15, 3, 1], lamb=0.0001, grid=4\n",
      "checkpoint directory created: ./model\n",
      "saving model version 0.0\n"
     ]
    },
    {
     "name": "stderr",
     "output_type": "stream",
     "text": [
      "| train_loss: 1.49e-01 | val_loss: 1.84e-01 | reg: 4.03e+01 | : 100%|█| 40/40 [00:10<00:00,  3.83it/\n"
     ]
    },
    {
     "name": "stdout",
     "output_type": "stream",
     "text": [
      "saving model version 0.1\n",
      "Testing width=[15, 3, 1], lamb=1e-05, grid=4\n",
      "checkpoint directory created: ./model\n",
      "saving model version 0.0\n"
     ]
    },
    {
     "name": "stderr",
     "output_type": "stream",
     "text": [
      "| train_loss: 1.43e-01 | val_loss: 1.83e-01 | reg: 4.52e+01 | : 100%|█| 40/40 [00:10<00:00,  3.69it/\n"
     ]
    },
    {
     "name": "stdout",
     "output_type": "stream",
     "text": [
      "saving model version 0.1\n",
      "Testing width=[15, 3, 1], lamb=1.0, grid=5\n",
      "checkpoint directory created: ./model\n",
      "saving model version 0.0\n"
     ]
    },
    {
     "name": "stderr",
     "output_type": "stream",
     "text": [
      "| train_loss: 3.50e+00 | val_loss: 3.02e+00 | reg: 3.19e+00 | : 100%|█| 40/40 [00:08<00:00,  4.87it/\n"
     ]
    },
    {
     "name": "stdout",
     "output_type": "stream",
     "text": [
      "saving model version 0.1\n",
      "Testing width=[15, 3, 1], lamb=0.1, grid=5\n",
      "checkpoint directory created: ./model\n",
      "saving model version 0.0\n"
     ]
    },
    {
     "name": "stderr",
     "output_type": "stream",
     "text": [
      "| train_loss: 3.46e-01 | val_loss: 3.09e-01 | reg: 1.57e+01 | : 100%|█| 40/40 [00:09<00:00,  4.18it/\n"
     ]
    },
    {
     "name": "stdout",
     "output_type": "stream",
     "text": [
      "saving model version 0.1\n",
      "Testing width=[15, 3, 1], lamb=0.01, grid=5\n",
      "checkpoint directory created: ./model\n",
      "saving model version 0.0\n"
     ]
    },
    {
     "name": "stderr",
     "output_type": "stream",
     "text": [
      "| train_loss: 2.17e-01 | val_loss: 2.06e-01 | reg: 2.67e+01 | : 100%|█| 40/40 [00:09<00:00,  4.13it/\n"
     ]
    },
    {
     "name": "stdout",
     "output_type": "stream",
     "text": [
      "saving model version 0.1\n",
      "Testing width=[15, 3, 1], lamb=0.001, grid=5\n",
      "checkpoint directory created: ./model\n",
      "saving model version 0.0\n"
     ]
    },
    {
     "name": "stderr",
     "output_type": "stream",
     "text": [
      "| train_loss: 2.03e-01 | val_loss: 2.10e-01 | reg: 6.09e+01 | : 100%|█| 40/40 [00:10<00:00,  3.85it/\n"
     ]
    },
    {
     "name": "stdout",
     "output_type": "stream",
     "text": [
      "saving model version 0.1\n",
      "Testing width=[15, 3, 1], lamb=0.0001, grid=5\n",
      "checkpoint directory created: ./model\n",
      "saving model version 0.0\n"
     ]
    },
    {
     "name": "stderr",
     "output_type": "stream",
     "text": [
      "| train_loss: 1.49e-01 | val_loss: 2.70e-01 | reg: 4.62e+01 | : 100%|█| 40/40 [00:10<00:00,  3.98it/\n"
     ]
    },
    {
     "name": "stdout",
     "output_type": "stream",
     "text": [
      "saving model version 0.1\n",
      "Testing width=[15, 3, 1], lamb=1e-05, grid=5\n",
      "checkpoint directory created: ./model\n",
      "saving model version 0.0\n"
     ]
    },
    {
     "name": "stderr",
     "output_type": "stream",
     "text": [
      "| train_loss: 1.50e-01 | val_loss: 2.03e-01 | reg: 4.88e+01 | : 100%|█| 40/40 [00:10<00:00,  3.95it/\n"
     ]
    },
    {
     "name": "stdout",
     "output_type": "stream",
     "text": [
      "saving model version 0.1\n",
      "Testing width=[15, 3, 1], lamb=1.0, grid=6\n",
      "checkpoint directory created: ./model\n",
      "saving model version 0.0\n"
     ]
    },
    {
     "name": "stderr",
     "output_type": "stream",
     "text": [
      "| train_loss: 2.35e+00 | val_loss: 1.95e+00 | reg: 6.76e+00 | : 100%|█| 40/40 [00:10<00:00,  3.89it/\n"
     ]
    },
    {
     "name": "stdout",
     "output_type": "stream",
     "text": [
      "saving model version 0.1\n",
      "Testing width=[15, 3, 1], lamb=0.1, grid=6\n",
      "checkpoint directory created: ./model\n",
      "saving model version 0.0\n"
     ]
    },
    {
     "name": "stderr",
     "output_type": "stream",
     "text": [
      "| train_loss: 5.02e-01 | val_loss: 4.77e-01 | reg: 1.05e+01 | : 100%|█| 40/40 [00:10<00:00,  3.99it/\n"
     ]
    },
    {
     "name": "stdout",
     "output_type": "stream",
     "text": [
      "saving model version 0.1\n",
      "Testing width=[15, 3, 1], lamb=0.01, grid=6\n",
      "checkpoint directory created: ./model\n",
      "saving model version 0.0\n"
     ]
    },
    {
     "name": "stderr",
     "output_type": "stream",
     "text": [
      "| train_loss: 2.22e-01 | val_loss: 2.59e-01 | reg: 3.90e+01 | : 100%|█| 40/40 [00:10<00:00,  3.93it/\n"
     ]
    },
    {
     "name": "stdout",
     "output_type": "stream",
     "text": [
      "saving model version 0.1\n",
      "Testing width=[15, 3, 1], lamb=0.001, grid=6\n",
      "checkpoint directory created: ./model\n",
      "saving model version 0.0\n"
     ]
    },
    {
     "name": "stderr",
     "output_type": "stream",
     "text": [
      "| train_loss: 1.63e-01 | val_loss: 2.07e-01 | reg: 3.93e+01 | : 100%|█| 40/40 [00:10<00:00,  3.92it/\n"
     ]
    },
    {
     "name": "stdout",
     "output_type": "stream",
     "text": [
      "saving model version 0.1\n",
      "Testing width=[15, 3, 1], lamb=0.0001, grid=6\n",
      "checkpoint directory created: ./model\n",
      "saving model version 0.0\n"
     ]
    },
    {
     "name": "stderr",
     "output_type": "stream",
     "text": [
      "| train_loss: 1.45e-01 | val_loss: 1.78e-01 | reg: 4.99e+01 | : 100%|█| 40/40 [00:10<00:00,  4.00it/\n"
     ]
    },
    {
     "name": "stdout",
     "output_type": "stream",
     "text": [
      "saving model version 0.1\n",
      "Testing width=[15, 3, 1], lamb=1e-05, grid=6\n",
      "checkpoint directory created: ./model\n",
      "saving model version 0.0\n"
     ]
    },
    {
     "name": "stderr",
     "output_type": "stream",
     "text": [
      "| train_loss: 1.52e-01 | val_loss: 1.85e-01 | reg: 5.07e+01 | : 100%|█| 40/40 [00:10<00:00,  3.98it/\n"
     ]
    },
    {
     "name": "stdout",
     "output_type": "stream",
     "text": [
      "saving model version 0.1\n",
      "Testing width=[15, 3, 1], lamb=1.0, grid=7\n",
      "checkpoint directory created: ./model\n",
      "saving model version 0.0\n"
     ]
    },
    {
     "name": "stderr",
     "output_type": "stream",
     "text": [
      "| train_loss: 2.55e+00 | val_loss: 2.11e+00 | reg: 9.43e+00 | : 100%|█| 40/40 [00:10<00:00,  3.84it/\n"
     ]
    },
    {
     "name": "stdout",
     "output_type": "stream",
     "text": [
      "saving model version 0.1\n",
      "Testing width=[15, 3, 1], lamb=0.1, grid=7\n",
      "checkpoint directory created: ./model\n",
      "saving model version 0.0\n"
     ]
    },
    {
     "name": "stderr",
     "output_type": "stream",
     "text": [
      "| train_loss: 2.46e-01 | val_loss: 2.17e-01 | reg: 8.83e+00 | : 100%|█| 40/40 [00:09<00:00,  4.15it/\n"
     ]
    },
    {
     "name": "stdout",
     "output_type": "stream",
     "text": [
      "saving model version 0.1\n",
      "Testing width=[15, 3, 1], lamb=0.01, grid=7\n",
      "checkpoint directory created: ./model\n",
      "saving model version 0.0\n"
     ]
    },
    {
     "name": "stderr",
     "output_type": "stream",
     "text": [
      "| train_loss: 2.04e-01 | val_loss: 1.88e-01 | reg: 9.32e+00 | : 100%|█| 40/40 [00:09<00:00,  4.16it/\n"
     ]
    },
    {
     "name": "stdout",
     "output_type": "stream",
     "text": [
      "saving model version 0.1\n",
      "Testing width=[15, 3, 1], lamb=0.001, grid=7\n",
      "checkpoint directory created: ./model\n",
      "saving model version 0.0\n"
     ]
    },
    {
     "name": "stderr",
     "output_type": "stream",
     "text": [
      "| train_loss: 1.26e-01 | val_loss: 1.96e-01 | reg: 2.03e+01 | : 100%|█| 40/40 [00:09<00:00,  4.02it/\n"
     ]
    },
    {
     "name": "stdout",
     "output_type": "stream",
     "text": [
      "saving model version 0.1\n",
      "Testing width=[15, 3, 1], lamb=0.0001, grid=7\n",
      "checkpoint directory created: ./model\n",
      "saving model version 0.0\n"
     ]
    },
    {
     "name": "stderr",
     "output_type": "stream",
     "text": [
      "| train_loss: 1.17e-01 | val_loss: 1.87e-01 | reg: 3.40e+01 | : 100%|█| 40/40 [00:09<00:00,  4.09it/\n"
     ]
    },
    {
     "name": "stdout",
     "output_type": "stream",
     "text": [
      "saving model version 0.1\n",
      "Testing width=[15, 3, 1], lamb=1e-05, grid=7\n",
      "checkpoint directory created: ./model\n",
      "saving model version 0.0\n"
     ]
    },
    {
     "name": "stderr",
     "output_type": "stream",
     "text": [
      "| train_loss: 1.17e-01 | val_loss: 1.85e-01 | reg: 4.31e+01 | : 100%|█| 40/40 [00:10<00:00,  3.95it/\n"
     ]
    },
    {
     "name": "stdout",
     "output_type": "stream",
     "text": [
      "saving model version 0.1\n",
      "Testing width=[15, 4, 1], lamb=1.0, grid=3\n",
      "checkpoint directory created: ./model\n",
      "saving model version 0.0\n"
     ]
    },
    {
     "name": "stderr",
     "output_type": "stream",
     "text": [
      "| train_loss: 1.39e+00 | val_loss: 1.23e+00 | reg: 7.22e+00 | : 100%|█| 40/40 [00:09<00:00,  4.24it/\n"
     ]
    },
    {
     "name": "stdout",
     "output_type": "stream",
     "text": [
      "saving model version 0.1\n",
      "Testing width=[15, 4, 1], lamb=0.1, grid=3\n",
      "checkpoint directory created: ./model\n",
      "saving model version 0.0\n"
     ]
    },
    {
     "name": "stderr",
     "output_type": "stream",
     "text": [
      "| train_loss: 2.74e-01 | val_loss: 2.46e-01 | reg: 8.61e+00 | : 100%|█| 40/40 [00:09<00:00,  4.22it/\n"
     ]
    },
    {
     "name": "stdout",
     "output_type": "stream",
     "text": [
      "saving model version 0.1\n",
      "Testing width=[15, 4, 1], lamb=0.01, grid=3\n",
      "checkpoint directory created: ./model\n",
      "saving model version 0.0\n"
     ]
    },
    {
     "name": "stderr",
     "output_type": "stream",
     "text": [
      "| train_loss: 2.20e-01 | val_loss: 1.90e-01 | reg: 9.36e+00 | : 100%|█| 40/40 [00:09<00:00,  4.07it/\n"
     ]
    },
    {
     "name": "stdout",
     "output_type": "stream",
     "text": [
      "saving model version 0.1\n",
      "Testing width=[15, 4, 1], lamb=0.001, grid=3\n",
      "checkpoint directory created: ./model\n",
      "saving model version 0.0\n"
     ]
    },
    {
     "name": "stderr",
     "output_type": "stream",
     "text": [
      "| train_loss: 1.52e-01 | val_loss: 1.89e-01 | reg: 2.35e+01 | : 100%|█| 40/40 [00:09<00:00,  4.08it/\n"
     ]
    },
    {
     "name": "stdout",
     "output_type": "stream",
     "text": [
      "saving model version 0.1\n",
      "Testing width=[15, 4, 1], lamb=0.0001, grid=3\n",
      "checkpoint directory created: ./model\n",
      "saving model version 0.0\n"
     ]
    },
    {
     "name": "stderr",
     "output_type": "stream",
     "text": [
      "| train_loss: 1.49e-01 | val_loss: 1.92e-01 | reg: 3.70e+01 | : 100%|█| 40/40 [00:09<00:00,  4.06it/\n"
     ]
    },
    {
     "name": "stdout",
     "output_type": "stream",
     "text": [
      "saving model version 0.1\n",
      "Testing width=[15, 4, 1], lamb=1e-05, grid=3\n",
      "checkpoint directory created: ./model\n",
      "saving model version 0.0\n"
     ]
    },
    {
     "name": "stderr",
     "output_type": "stream",
     "text": [
      "| train_loss: 1.46e-01 | val_loss: 1.76e-01 | reg: 3.76e+01 | : 100%|█| 40/40 [00:09<00:00,  4.02it/\n"
     ]
    },
    {
     "name": "stdout",
     "output_type": "stream",
     "text": [
      "saving model version 0.1\n",
      "Testing width=[15, 4, 1], lamb=1.0, grid=4\n",
      "checkpoint directory created: ./model\n",
      "saving model version 0.0\n"
     ]
    },
    {
     "name": "stderr",
     "output_type": "stream",
     "text": [
      "| train_loss: 1.91e+00 | val_loss: 1.57e+00 | reg: 1.12e+01 | : 100%|█| 40/40 [00:09<00:00,  4.12it/\n"
     ]
    },
    {
     "name": "stdout",
     "output_type": "stream",
     "text": [
      "saving model version 0.1\n",
      "Testing width=[15, 4, 1], lamb=0.1, grid=4\n",
      "checkpoint directory created: ./model\n",
      "saving model version 0.0\n"
     ]
    },
    {
     "name": "stderr",
     "output_type": "stream",
     "text": [
      "| train_loss: 3.11e-01 | val_loss: 3.07e-01 | reg: 1.26e+01 | : 100%|█| 40/40 [00:10<00:00,  3.71it/\n"
     ]
    },
    {
     "name": "stdout",
     "output_type": "stream",
     "text": [
      "saving model version 0.1\n",
      "Testing width=[15, 4, 1], lamb=0.01, grid=4\n",
      "checkpoint directory created: ./model\n",
      "saving model version 0.0\n"
     ]
    },
    {
     "name": "stderr",
     "output_type": "stream",
     "text": [
      "| train_loss: 1.95e-01 | val_loss: 2.08e-01 | reg: 1.86e+01 | : 100%|█| 40/40 [00:09<00:00,  4.04it/\n"
     ]
    },
    {
     "name": "stdout",
     "output_type": "stream",
     "text": [
      "saving model version 0.1\n",
      "Testing width=[15, 4, 1], lamb=0.001, grid=4\n",
      "checkpoint directory created: ./model\n",
      "saving model version 0.0\n"
     ]
    },
    {
     "name": "stderr",
     "output_type": "stream",
     "text": [
      "| train_loss: 1.56e-01 | val_loss: 1.92e-01 | reg: 3.61e+01 | : 100%|█| 40/40 [00:11<00:00,  3.58it/\n"
     ]
    },
    {
     "name": "stdout",
     "output_type": "stream",
     "text": [
      "saving model version 0.1\n",
      "Testing width=[15, 4, 1], lamb=0.0001, grid=4\n",
      "checkpoint directory created: ./model\n",
      "saving model version 0.0\n"
     ]
    },
    {
     "name": "stderr",
     "output_type": "stream",
     "text": [
      "| train_loss: 1.53e-01 | val_loss: 1.87e-01 | reg: 4.29e+01 | : 100%|█| 40/40 [00:12<00:00,  3.28it/\n"
     ]
    },
    {
     "name": "stdout",
     "output_type": "stream",
     "text": [
      "saving model version 0.1\n",
      "Testing width=[15, 4, 1], lamb=1e-05, grid=4\n",
      "checkpoint directory created: ./model\n",
      "saving model version 0.0\n"
     ]
    },
    {
     "name": "stderr",
     "output_type": "stream",
     "text": [
      "| train_loss: 1.53e-01 | val_loss: 1.88e-01 | reg: 4.23e+01 | : 100%|█| 40/40 [00:12<00:00,  3.27it/\n"
     ]
    },
    {
     "name": "stdout",
     "output_type": "stream",
     "text": [
      "saving model version 0.1\n",
      "Testing width=[15, 4, 1], lamb=1.0, grid=5\n",
      "checkpoint directory created: ./model\n",
      "saving model version 0.0\n"
     ]
    },
    {
     "name": "stderr",
     "output_type": "stream",
     "text": [
      "| train_loss: 8.51e-01 | val_loss: 7.01e-01 | reg: 1.04e+01 | : 100%|█| 40/40 [00:10<00:00,  3.99it/\n"
     ]
    },
    {
     "name": "stdout",
     "output_type": "stream",
     "text": [
      "saving model version 0.1\n",
      "Testing width=[15, 4, 1], lamb=0.1, grid=5\n",
      "checkpoint directory created: ./model\n",
      "saving model version 0.0\n"
     ]
    },
    {
     "name": "stderr",
     "output_type": "stream",
     "text": [
      "| train_loss: 2.65e-01 | val_loss: 2.39e-01 | reg: 8.56e+00 | : 100%|█| 40/40 [00:12<00:00,  3.27it/\n"
     ]
    },
    {
     "name": "stdout",
     "output_type": "stream",
     "text": [
      "saving model version 0.1\n",
      "Testing width=[15, 4, 1], lamb=0.01, grid=5\n",
      "checkpoint directory created: ./model\n",
      "saving model version 0.0\n"
     ]
    },
    {
     "name": "stderr",
     "output_type": "stream",
     "text": [
      "| train_loss: 2.14e-01 | val_loss: 1.95e-01 | reg: 8.99e+00 | : 100%|█| 40/40 [00:10<00:00,  3.76it/\n"
     ]
    },
    {
     "name": "stdout",
     "output_type": "stream",
     "text": [
      "saving model version 0.1\n",
      "Testing width=[15, 4, 1], lamb=0.001, grid=5\n",
      "checkpoint directory created: ./model\n",
      "saving model version 0.0\n"
     ]
    },
    {
     "name": "stderr",
     "output_type": "stream",
     "text": [
      "| train_loss: 1.45e-01 | val_loss: 1.93e-01 | reg: 1.67e+01 | : 100%|█| 40/40 [00:09<00:00,  4.00it/\n"
     ]
    },
    {
     "name": "stdout",
     "output_type": "stream",
     "text": [
      "saving model version 0.1\n",
      "Testing width=[15, 4, 1], lamb=0.0001, grid=5\n",
      "checkpoint directory created: ./model\n",
      "saving model version 0.0\n"
     ]
    },
    {
     "name": "stderr",
     "output_type": "stream",
     "text": [
      "| train_loss: 1.20e-01 | val_loss: 1.86e-01 | reg: 3.79e+01 | : 100%|█| 40/40 [00:10<00:00,  3.99it/\n"
     ]
    },
    {
     "name": "stdout",
     "output_type": "stream",
     "text": [
      "saving model version 0.1\n",
      "Testing width=[15, 4, 1], lamb=1e-05, grid=5\n",
      "checkpoint directory created: ./model\n",
      "saving model version 0.0\n"
     ]
    },
    {
     "name": "stderr",
     "output_type": "stream",
     "text": [
      "| train_loss: 1.13e-01 | val_loss: 2.82e-01 | reg: 4.87e+01 | : 100%|█| 40/40 [00:10<00:00,  3.98it/\n"
     ]
    },
    {
     "name": "stdout",
     "output_type": "stream",
     "text": [
      "saving model version 0.1\n",
      "Testing width=[15, 4, 1], lamb=1.0, grid=6\n",
      "checkpoint directory created: ./model\n",
      "saving model version 0.0\n"
     ]
    },
    {
     "name": "stderr",
     "output_type": "stream",
     "text": [
      "| train_loss: 2.46e+00 | val_loss: 2.02e+00 | reg: 6.15e+00 | : 100%|█| 40/40 [00:11<00:00,  3.42it/\n"
     ]
    },
    {
     "name": "stdout",
     "output_type": "stream",
     "text": [
      "saving model version 0.1\n",
      "Testing width=[15, 4, 1], lamb=0.1, grid=6\n",
      "checkpoint directory created: ./model\n",
      "saving model version 0.0\n"
     ]
    },
    {
     "name": "stderr",
     "output_type": "stream",
     "text": [
      "| train_loss: 2.50e-01 | val_loss: 2.30e-01 | reg: 8.78e+00 | : 100%|█| 40/40 [00:10<00:00,  3.91it/\n"
     ]
    },
    {
     "name": "stdout",
     "output_type": "stream",
     "text": [
      "saving model version 0.1\n",
      "Testing width=[15, 4, 1], lamb=0.01, grid=6\n",
      "checkpoint directory created: ./model\n",
      "saving model version 0.0\n"
     ]
    },
    {
     "name": "stderr",
     "output_type": "stream",
     "text": [
      "| train_loss: 1.99e-01 | val_loss: 1.89e-01 | reg: 9.23e+00 | : 100%|█| 40/40 [00:10<00:00,  3.73it/\n"
     ]
    },
    {
     "name": "stdout",
     "output_type": "stream",
     "text": [
      "saving model version 0.1\n",
      "Testing width=[15, 4, 1], lamb=0.001, grid=6\n",
      "checkpoint directory created: ./model\n",
      "saving model version 0.0\n"
     ]
    },
    {
     "name": "stderr",
     "output_type": "stream",
     "text": [
      "| train_loss: 1.27e-01 | val_loss: 1.84e-01 | reg: 2.45e+01 | : 100%|█| 40/40 [00:09<00:00,  4.08it/\n"
     ]
    },
    {
     "name": "stdout",
     "output_type": "stream",
     "text": [
      "saving model version 0.1\n",
      "Testing width=[15, 4, 1], lamb=0.0001, grid=6\n",
      "checkpoint directory created: ./model\n",
      "saving model version 0.0\n"
     ]
    },
    {
     "name": "stderr",
     "output_type": "stream",
     "text": [
      "| train_loss: 1.08e-01 | val_loss: 2.09e-01 | reg: 3.54e+01 | : 100%|█| 40/40 [00:10<00:00,  4.00it/\n"
     ]
    },
    {
     "name": "stdout",
     "output_type": "stream",
     "text": [
      "saving model version 0.1\n",
      "Testing width=[15, 4, 1], lamb=1e-05, grid=6\n",
      "checkpoint directory created: ./model\n",
      "saving model version 0.0\n"
     ]
    },
    {
     "name": "stderr",
     "output_type": "stream",
     "text": [
      "| train_loss: 1.07e-01 | val_loss: 1.97e-01 | reg: 4.11e+01 | : 100%|█| 40/40 [00:09<00:00,  4.10it/\n"
     ]
    },
    {
     "name": "stdout",
     "output_type": "stream",
     "text": [
      "saving model version 0.1\n",
      "Testing width=[15, 4, 1], lamb=1.0, grid=7\n",
      "checkpoint directory created: ./model\n",
      "saving model version 0.0\n"
     ]
    },
    {
     "name": "stderr",
     "output_type": "stream",
     "text": [
      "| train_loss: 1.90e+00 | val_loss: 1.55e+00 | reg: 7.76e+00 | : 100%|█| 40/40 [00:12<00:00,  3.31it/\n"
     ]
    },
    {
     "name": "stdout",
     "output_type": "stream",
     "text": [
      "saving model version 0.1\n",
      "Testing width=[15, 4, 1], lamb=0.1, grid=7\n",
      "checkpoint directory created: ./model\n",
      "saving model version 0.0\n"
     ]
    },
    {
     "name": "stderr",
     "output_type": "stream",
     "text": [
      "| train_loss: 2.45e-01 | val_loss: 2.21e-01 | reg: 8.76e+00 | : 100%|█| 40/40 [00:10<00:00,  3.87it/\n"
     ]
    },
    {
     "name": "stdout",
     "output_type": "stream",
     "text": [
      "saving model version 0.1\n",
      "Testing width=[15, 4, 1], lamb=0.01, grid=7\n",
      "checkpoint directory created: ./model\n",
      "saving model version 0.0\n"
     ]
    },
    {
     "name": "stderr",
     "output_type": "stream",
     "text": [
      "| train_loss: 1.96e-01 | val_loss: 1.87e-01 | reg: 9.18e+00 | : 100%|█| 40/40 [00:10<00:00,  3.98it/\n"
     ]
    },
    {
     "name": "stdout",
     "output_type": "stream",
     "text": [
      "saving model version 0.1\n",
      "Testing width=[15, 4, 1], lamb=0.001, grid=7\n",
      "checkpoint directory created: ./model\n",
      "saving model version 0.0\n"
     ]
    },
    {
     "name": "stderr",
     "output_type": "stream",
     "text": [
      "| train_loss: 1.25e-01 | val_loss: 1.92e-01 | reg: 2.08e+01 | : 100%|█| 40/40 [00:10<00:00,  3.97it/\n"
     ]
    },
    {
     "name": "stdout",
     "output_type": "stream",
     "text": [
      "saving model version 0.1\n",
      "Testing width=[15, 4, 1], lamb=0.0001, grid=7\n",
      "checkpoint directory created: ./model\n",
      "saving model version 0.0\n"
     ]
    },
    {
     "name": "stderr",
     "output_type": "stream",
     "text": [
      "| train_loss: 1.14e-01 | val_loss: 2.08e-01 | reg: 3.54e+01 | : 100%|█| 40/40 [00:09<00:00,  4.06it/\n"
     ]
    },
    {
     "name": "stdout",
     "output_type": "stream",
     "text": [
      "saving model version 0.1\n",
      "Testing width=[15, 4, 1], lamb=1e-05, grid=7\n",
      "checkpoint directory created: ./model\n",
      "saving model version 0.0\n"
     ]
    },
    {
     "name": "stderr",
     "output_type": "stream",
     "text": [
      "| train_loss: 1.13e-01 | val_loss: 2.12e-01 | reg: 3.68e+01 | : 100%|█| 40/40 [00:09<00:00,  4.01it/\n"
     ]
    },
    {
     "name": "stdout",
     "output_type": "stream",
     "text": [
      "saving model version 0.1\n",
      "Testing width=[15, 5, 1], lamb=1.0, grid=3\n",
      "checkpoint directory created: ./model\n",
      "saving model version 0.0\n"
     ]
    },
    {
     "name": "stderr",
     "output_type": "stream",
     "text": [
      "| train_loss: 8.07e-01 | val_loss: 6.33e-01 | reg: 8.13e+00 | : 100%|█| 40/40 [00:09<00:00,  4.09it/\n"
     ]
    },
    {
     "name": "stdout",
     "output_type": "stream",
     "text": [
      "saving model version 0.1\n",
      "Testing width=[15, 5, 1], lamb=0.1, grid=3\n",
      "checkpoint directory created: ./model\n",
      "saving model version 0.0\n"
     ]
    },
    {
     "name": "stderr",
     "output_type": "stream",
     "text": [
      "| train_loss: 2.74e-01 | val_loss: 2.45e-01 | reg: 8.32e+00 | : 100%|█| 40/40 [00:09<00:00,  4.15it/\n"
     ]
    },
    {
     "name": "stdout",
     "output_type": "stream",
     "text": [
      "saving model version 0.1\n",
      "Testing width=[15, 5, 1], lamb=0.01, grid=3\n",
      "checkpoint directory created: ./model\n",
      "saving model version 0.0\n"
     ]
    },
    {
     "name": "stderr",
     "output_type": "stream",
     "text": [
      "| train_loss: 2.19e-01 | val_loss: 1.88e-01 | reg: 8.73e+00 | : 100%|█| 40/40 [00:09<00:00,  4.12it/\n"
     ]
    },
    {
     "name": "stdout",
     "output_type": "stream",
     "text": [
      "saving model version 0.1\n",
      "Testing width=[15, 5, 1], lamb=0.001, grid=3\n",
      "checkpoint directory created: ./model\n",
      "saving model version 0.0\n"
     ]
    },
    {
     "name": "stderr",
     "output_type": "stream",
     "text": [
      "| train_loss: 1.64e-01 | val_loss: 1.85e-01 | reg: 1.65e+01 | : 100%|█| 40/40 [00:09<00:00,  4.12it/\n"
     ]
    },
    {
     "name": "stdout",
     "output_type": "stream",
     "text": [
      "saving model version 0.1\n",
      "Testing width=[15, 5, 1], lamb=0.0001, grid=3\n",
      "checkpoint directory created: ./model\n",
      "saving model version 0.0\n"
     ]
    },
    {
     "name": "stderr",
     "output_type": "stream",
     "text": [
      "| train_loss: 1.42e-01 | val_loss: 1.80e-01 | reg: 3.33e+01 | : 100%|█| 40/40 [00:09<00:00,  4.07it/\n"
     ]
    },
    {
     "name": "stdout",
     "output_type": "stream",
     "text": [
      "saving model version 0.1\n",
      "Testing width=[15, 5, 1], lamb=1e-05, grid=3\n",
      "checkpoint directory created: ./model\n",
      "saving model version 0.0\n"
     ]
    },
    {
     "name": "stderr",
     "output_type": "stream",
     "text": [
      "| train_loss: 1.27e-01 | val_loss: 1.82e-01 | reg: 4.76e+01 | : 100%|█| 40/40 [00:09<00:00,  4.08it/\n"
     ]
    },
    {
     "name": "stdout",
     "output_type": "stream",
     "text": [
      "saving model version 0.1\n",
      "Testing width=[15, 5, 1], lamb=1.0, grid=4\n",
      "checkpoint directory created: ./model\n",
      "saving model version 0.0\n"
     ]
    },
    {
     "name": "stderr",
     "output_type": "stream",
     "text": [
      "| train_loss: 1.37e+00 | val_loss: 1.21e+00 | reg: 7.99e+00 | : 100%|█| 40/40 [00:10<00:00,  3.94it/\n"
     ]
    },
    {
     "name": "stdout",
     "output_type": "stream",
     "text": [
      "saving model version 0.1\n",
      "Testing width=[15, 5, 1], lamb=0.1, grid=4\n",
      "checkpoint directory created: ./model\n",
      "saving model version 0.0\n"
     ]
    },
    {
     "name": "stderr",
     "output_type": "stream",
     "text": [
      "| train_loss: 2.87e-01 | val_loss: 2.67e-01 | reg: 8.71e+00 | : 100%|█| 40/40 [00:10<00:00,  3.66it/\n"
     ]
    },
    {
     "name": "stdout",
     "output_type": "stream",
     "text": [
      "saving model version 0.1\n",
      "Testing width=[15, 5, 1], lamb=0.01, grid=4\n",
      "checkpoint directory created: ./model\n",
      "saving model version 0.0\n"
     ]
    },
    {
     "name": "stderr",
     "output_type": "stream",
     "text": [
      "| train_loss: 2.18e-01 | val_loss: 1.94e-01 | reg: 9.45e+00 | : 100%|█| 40/40 [00:10<00:00,  3.93it/\n"
     ]
    },
    {
     "name": "stdout",
     "output_type": "stream",
     "text": [
      "saving model version 0.1\n",
      "Testing width=[15, 5, 1], lamb=0.001, grid=4\n",
      "checkpoint directory created: ./model\n",
      "saving model version 0.0\n"
     ]
    },
    {
     "name": "stderr",
     "output_type": "stream",
     "text": [
      "| train_loss: 1.40e-01 | val_loss: 1.81e-01 | reg: 2.41e+01 | : 100%|█| 40/40 [00:10<00:00,  3.89it/\n"
     ]
    },
    {
     "name": "stdout",
     "output_type": "stream",
     "text": [
      "saving model version 0.1\n",
      "Testing width=[15, 5, 1], lamb=0.0001, grid=4\n",
      "checkpoint directory created: ./model\n",
      "saving model version 0.0\n"
     ]
    },
    {
     "name": "stderr",
     "output_type": "stream",
     "text": [
      "| train_loss: 1.36e-01 | val_loss: 1.81e-01 | reg: 4.61e+01 | : 100%|█| 40/40 [00:10<00:00,  3.66it/\n"
     ]
    },
    {
     "name": "stdout",
     "output_type": "stream",
     "text": [
      "saving model version 0.1\n",
      "Testing width=[15, 5, 1], lamb=1e-05, grid=4\n",
      "checkpoint directory created: ./model\n",
      "saving model version 0.0\n"
     ]
    },
    {
     "name": "stderr",
     "output_type": "stream",
     "text": [
      "| train_loss: 1.43e-01 | val_loss: 1.81e-01 | reg: 4.71e+01 | : 100%|█| 40/40 [00:10<00:00,  3.69it/\n"
     ]
    },
    {
     "name": "stdout",
     "output_type": "stream",
     "text": [
      "saving model version 0.1\n",
      "Testing width=[15, 5, 1], lamb=1.0, grid=5\n",
      "checkpoint directory created: ./model\n",
      "saving model version 0.0\n"
     ]
    },
    {
     "name": "stderr",
     "output_type": "stream",
     "text": [
      "| train_loss: 2.19e+00 | val_loss: 1.79e+00 | reg: 6.31e+00 | : 100%|█| 40/40 [00:09<00:00,  4.02it/\n"
     ]
    },
    {
     "name": "stdout",
     "output_type": "stream",
     "text": [
      "saving model version 0.1\n",
      "Testing width=[15, 5, 1], lamb=0.1, grid=5\n",
      "checkpoint directory created: ./model\n",
      "saving model version 0.0\n"
     ]
    },
    {
     "name": "stderr",
     "output_type": "stream",
     "text": [
      "| train_loss: 2.57e-01 | val_loss: 2.31e-01 | reg: 8.29e+00 | : 100%|█| 40/40 [00:09<00:00,  4.01it/\n"
     ]
    },
    {
     "name": "stdout",
     "output_type": "stream",
     "text": [
      "saving model version 0.1\n",
      "Testing width=[15, 5, 1], lamb=0.01, grid=5\n",
      "checkpoint directory created: ./model\n",
      "saving model version 0.0\n"
     ]
    },
    {
     "name": "stderr",
     "output_type": "stream",
     "text": [
      "| train_loss: 2.15e-01 | val_loss: 1.95e-01 | reg: 8.72e+00 | : 100%|█| 40/40 [00:09<00:00,  4.13it/\n"
     ]
    },
    {
     "name": "stdout",
     "output_type": "stream",
     "text": [
      "saving model version 0.1\n",
      "Testing width=[15, 5, 1], lamb=0.001, grid=5\n",
      "checkpoint directory created: ./model\n",
      "saving model version 0.0\n"
     ]
    },
    {
     "name": "stderr",
     "output_type": "stream",
     "text": [
      "| train_loss: 1.22e-01 | val_loss: 1.88e-01 | reg: 1.93e+01 | : 100%|█| 40/40 [00:09<00:00,  4.26it/\n"
     ]
    },
    {
     "name": "stdout",
     "output_type": "stream",
     "text": [
      "saving model version 0.1\n",
      "Testing width=[15, 5, 1], lamb=0.0001, grid=5\n",
      "checkpoint directory created: ./model\n",
      "saving model version 0.0\n"
     ]
    },
    {
     "name": "stderr",
     "output_type": "stream",
     "text": [
      "| train_loss: 9.49e-02 | val_loss: 1.79e-01 | reg: 3.79e+01 | : 100%|█| 40/40 [00:09<00:00,  4.10it/\n"
     ]
    },
    {
     "name": "stdout",
     "output_type": "stream",
     "text": [
      "saving model version 0.1\n",
      "Testing width=[15, 5, 1], lamb=1e-05, grid=5\n",
      "checkpoint directory created: ./model\n",
      "saving model version 0.0\n"
     ]
    },
    {
     "name": "stderr",
     "output_type": "stream",
     "text": [
      "| train_loss: 9.98e-02 | val_loss: 1.99e-01 | reg: 4.32e+01 | : 100%|█| 40/40 [00:09<00:00,  4.10it/\n"
     ]
    },
    {
     "name": "stdout",
     "output_type": "stream",
     "text": [
      "saving model version 0.1\n",
      "Testing width=[15, 5, 1], lamb=1.0, grid=6\n",
      "checkpoint directory created: ./model\n",
      "saving model version 0.0\n"
     ]
    },
    {
     "name": "stderr",
     "output_type": "stream",
     "text": [
      "| train_loss: 8.37e-01 | val_loss: 6.51e-01 | reg: 8.21e+00 | : 100%|█| 40/40 [00:11<00:00,  3.58it/\n"
     ]
    },
    {
     "name": "stdout",
     "output_type": "stream",
     "text": [
      "saving model version 0.1\n",
      "Testing width=[15, 5, 1], lamb=0.1, grid=6\n",
      "checkpoint directory created: ./model\n",
      "saving model version 0.0\n"
     ]
    },
    {
     "name": "stderr",
     "output_type": "stream",
     "text": [
      "| train_loss: 2.52e-01 | val_loss: 2.29e-01 | reg: 8.39e+00 | : 100%|█| 40/40 [00:10<00:00,  3.85it/\n"
     ]
    },
    {
     "name": "stdout",
     "output_type": "stream",
     "text": [
      "saving model version 0.1\n",
      "Testing width=[15, 5, 1], lamb=0.01, grid=6\n",
      "checkpoint directory created: ./model\n",
      "saving model version 0.0\n"
     ]
    },
    {
     "name": "stderr",
     "output_type": "stream",
     "text": [
      "| train_loss: 1.97e-01 | val_loss: 1.86e-01 | reg: 8.59e+00 | : 100%|█| 40/40 [00:10<00:00,  3.85it/\n"
     ]
    },
    {
     "name": "stdout",
     "output_type": "stream",
     "text": [
      "saving model version 0.1\n",
      "Testing width=[15, 5, 1], lamb=0.001, grid=6\n",
      "checkpoint directory created: ./model\n",
      "saving model version 0.0\n"
     ]
    },
    {
     "name": "stderr",
     "output_type": "stream",
     "text": [
      "| train_loss: 1.15e-01 | val_loss: 1.85e-01 | reg: 2.04e+01 | : 100%|█| 40/40 [00:09<00:00,  4.11it/\n"
     ]
    },
    {
     "name": "stdout",
     "output_type": "stream",
     "text": [
      "saving model version 0.1\n",
      "Testing width=[15, 5, 1], lamb=0.0001, grid=6\n",
      "checkpoint directory created: ./model\n",
      "saving model version 0.0\n"
     ]
    },
    {
     "name": "stderr",
     "output_type": "stream",
     "text": [
      "| train_loss: 1.01e-01 | val_loss: 2.04e-01 | reg: 3.79e+01 | : 100%|█| 40/40 [00:09<00:00,  4.01it/\n"
     ]
    },
    {
     "name": "stdout",
     "output_type": "stream",
     "text": [
      "saving model version 0.1\n",
      "Testing width=[15, 5, 1], lamb=1e-05, grid=6\n",
      "checkpoint directory created: ./model\n",
      "saving model version 0.0\n"
     ]
    },
    {
     "name": "stderr",
     "output_type": "stream",
     "text": [
      "| train_loss: 1.01e-01 | val_loss: 1.97e-01 | reg: 4.53e+01 | : 100%|█| 40/40 [00:10<00:00,  3.98it/\n"
     ]
    },
    {
     "name": "stdout",
     "output_type": "stream",
     "text": [
      "saving model version 0.1\n",
      "Testing width=[15, 5, 1], lamb=1.0, grid=7\n",
      "checkpoint directory created: ./model\n",
      "saving model version 0.0\n"
     ]
    },
    {
     "name": "stderr",
     "output_type": "stream",
     "text": [
      "| train_loss: 3.18e+00 | val_loss: 2.70e+00 | reg: 4.17e+00 | : 100%|█| 40/40 [00:07<00:00,  5.07it/\n"
     ]
    },
    {
     "name": "stdout",
     "output_type": "stream",
     "text": [
      "saving model version 0.1\n",
      "Testing width=[15, 5, 1], lamb=0.1, grid=7\n",
      "checkpoint directory created: ./model\n",
      "saving model version 0.0\n"
     ]
    },
    {
     "name": "stderr",
     "output_type": "stream",
     "text": [
      "| train_loss: 2.82e-01 | val_loss: 2.66e-01 | reg: 9.43e+00 | : 100%|█| 40/40 [00:09<00:00,  4.00it/\n"
     ]
    },
    {
     "name": "stdout",
     "output_type": "stream",
     "text": [
      "saving model version 0.1\n",
      "Testing width=[15, 5, 1], lamb=0.01, grid=7\n",
      "checkpoint directory created: ./model\n",
      "saving model version 0.0\n"
     ]
    },
    {
     "name": "stderr",
     "output_type": "stream",
     "text": [
      "| train_loss: 2.14e-01 | val_loss: 2.00e-01 | reg: 8.94e+00 | : 100%|█| 40/40 [00:09<00:00,  4.10it/\n"
     ]
    },
    {
     "name": "stdout",
     "output_type": "stream",
     "text": [
      "saving model version 0.1\n",
      "Testing width=[15, 5, 1], lamb=0.001, grid=7\n",
      "checkpoint directory created: ./model\n",
      "saving model version 0.0\n"
     ]
    },
    {
     "name": "stderr",
     "output_type": "stream",
     "text": [
      "| train_loss: 1.22e-01 | val_loss: 1.93e-01 | reg: 1.88e+01 | : 100%|█| 40/40 [00:10<00:00,  3.99it/\n"
     ]
    },
    {
     "name": "stdout",
     "output_type": "stream",
     "text": [
      "saving model version 0.1\n",
      "Testing width=[15, 5, 1], lamb=0.0001, grid=7\n",
      "checkpoint directory created: ./model\n",
      "saving model version 0.0\n"
     ]
    },
    {
     "name": "stderr",
     "output_type": "stream",
     "text": [
      "| train_loss: 8.83e-02 | val_loss: 2.13e-01 | reg: 3.93e+01 | : 100%|█| 40/40 [00:09<00:00,  4.15it/\n"
     ]
    },
    {
     "name": "stdout",
     "output_type": "stream",
     "text": [
      "saving model version 0.1\n",
      "Testing width=[15, 5, 1], lamb=1e-05, grid=7\n",
      "checkpoint directory created: ./model\n",
      "saving model version 0.0\n"
     ]
    },
    {
     "name": "stderr",
     "output_type": "stream",
     "text": [
      "| train_loss: 1.16e-01 | val_loss: 2.67e-01 | reg: 4.85e+01 | : 100%|█| 40/40 [00:10<00:00,  3.84it/\n"
     ]
    },
    {
     "name": "stdout",
     "output_type": "stream",
     "text": [
      "saving model version 0.1\n",
      "Testing width=[15, 6, 1], lamb=1.0, grid=3\n",
      "checkpoint directory created: ./model\n",
      "saving model version 0.0\n"
     ]
    },
    {
     "name": "stderr",
     "output_type": "stream",
     "text": [
      "| train_loss: 1.30e+00 | val_loss: 1.15e+00 | reg: 7.60e+00 | : 100%|█| 40/40 [00:10<00:00,  3.86it/\n"
     ]
    },
    {
     "name": "stdout",
     "output_type": "stream",
     "text": [
      "saving model version 0.1\n",
      "Testing width=[15, 6, 1], lamb=0.1, grid=3\n",
      "checkpoint directory created: ./model\n",
      "saving model version 0.0\n"
     ]
    },
    {
     "name": "stderr",
     "output_type": "stream",
     "text": [
      "| train_loss: 2.89e-01 | val_loss: 2.61e-01 | reg: 8.39e+00 | : 100%|█| 40/40 [00:09<00:00,  4.00it/\n"
     ]
    },
    {
     "name": "stdout",
     "output_type": "stream",
     "text": [
      "saving model version 0.1\n",
      "Testing width=[15, 6, 1], lamb=0.01, grid=3\n",
      "checkpoint directory created: ./model\n",
      "saving model version 0.0\n"
     ]
    },
    {
     "name": "stderr",
     "output_type": "stream",
     "text": [
      "| train_loss: 2.21e-01 | val_loss: 1.91e-01 | reg: 8.79e+00 | : 100%|█| 40/40 [00:09<00:00,  4.22it/\n"
     ]
    },
    {
     "name": "stdout",
     "output_type": "stream",
     "text": [
      "saving model version 0.1\n",
      "Testing width=[15, 6, 1], lamb=0.001, grid=3\n",
      "checkpoint directory created: ./model\n",
      "saving model version 0.0\n"
     ]
    },
    {
     "name": "stderr",
     "output_type": "stream",
     "text": [
      "| train_loss: 1.55e-01 | val_loss: 1.69e-01 | reg: 1.79e+01 | : 100%|█| 40/40 [00:09<00:00,  4.16it/\n"
     ]
    },
    {
     "name": "stdout",
     "output_type": "stream",
     "text": [
      "saving model version 0.1\n",
      "Testing width=[15, 6, 1], lamb=0.0001, grid=3\n",
      "checkpoint directory created: ./model\n",
      "saving model version 0.0\n"
     ]
    },
    {
     "name": "stderr",
     "output_type": "stream",
     "text": [
      "| train_loss: 1.43e-01 | val_loss: 1.86e-01 | reg: 4.34e+01 | : 100%|█| 40/40 [00:09<00:00,  4.11it/\n"
     ]
    },
    {
     "name": "stdout",
     "output_type": "stream",
     "text": [
      "saving model version 0.1\n",
      "Testing width=[15, 6, 1], lamb=1e-05, grid=3\n",
      "checkpoint directory created: ./model\n",
      "saving model version 0.0\n"
     ]
    },
    {
     "name": "stderr",
     "output_type": "stream",
     "text": [
      "| train_loss: 1.40e-01 | val_loss: 1.97e-01 | reg: 5.82e+01 | : 100%|█| 40/40 [00:09<00:00,  4.03it/\n"
     ]
    },
    {
     "name": "stdout",
     "output_type": "stream",
     "text": [
      "saving model version 0.1\n",
      "Testing width=[15, 6, 1], lamb=1.0, grid=4\n",
      "checkpoint directory created: ./model\n",
      "saving model version 0.0\n"
     ]
    },
    {
     "name": "stderr",
     "output_type": "stream",
     "text": [
      "| train_loss: 1.19e+00 | val_loss: 1.10e+00 | reg: 7.53e+00 | : 100%|█| 40/40 [00:10<00:00,  3.80it/\n"
     ]
    },
    {
     "name": "stdout",
     "output_type": "stream",
     "text": [
      "saving model version 0.1\n",
      "Testing width=[15, 6, 1], lamb=0.1, grid=4\n",
      "checkpoint directory created: ./model\n",
      "saving model version 0.0\n"
     ]
    },
    {
     "name": "stderr",
     "output_type": "stream",
     "text": [
      "| train_loss: 2.63e-01 | val_loss: 2.39e-01 | reg: 8.32e+00 | : 100%|█| 40/40 [00:09<00:00,  4.15it/\n"
     ]
    },
    {
     "name": "stdout",
     "output_type": "stream",
     "text": [
      "saving model version 0.1\n",
      "Testing width=[15, 6, 1], lamb=0.01, grid=4\n",
      "checkpoint directory created: ./model\n",
      "saving model version 0.0\n"
     ]
    },
    {
     "name": "stderr",
     "output_type": "stream",
     "text": [
      "| train_loss: 2.16e-01 | val_loss: 1.92e-01 | reg: 8.69e+00 | : 100%|█| 40/40 [00:09<00:00,  4.01it/\n"
     ]
    },
    {
     "name": "stdout",
     "output_type": "stream",
     "text": [
      "saving model version 0.1\n",
      "Testing width=[15, 6, 1], lamb=0.001, grid=4\n",
      "checkpoint directory created: ./model\n",
      "saving model version 0.0\n"
     ]
    },
    {
     "name": "stderr",
     "output_type": "stream",
     "text": [
      "| train_loss: 1.40e-01 | val_loss: 1.92e-01 | reg: 1.81e+01 | : 100%|█| 40/40 [00:09<00:00,  4.21it/\n"
     ]
    },
    {
     "name": "stdout",
     "output_type": "stream",
     "text": [
      "saving model version 0.1\n",
      "Testing width=[15, 6, 1], lamb=0.0001, grid=4\n",
      "checkpoint directory created: ./model\n",
      "saving model version 0.0\n"
     ]
    },
    {
     "name": "stderr",
     "output_type": "stream",
     "text": [
      "| train_loss: 1.24e-01 | val_loss: 2.03e-01 | reg: 4.30e+01 | : 100%|█| 40/40 [00:09<00:00,  4.12it/\n"
     ]
    },
    {
     "name": "stdout",
     "output_type": "stream",
     "text": [
      "saving model version 0.1\n",
      "Testing width=[15, 6, 1], lamb=1e-05, grid=4\n",
      "checkpoint directory created: ./model\n",
      "saving model version 0.0\n"
     ]
    },
    {
     "name": "stderr",
     "output_type": "stream",
     "text": [
      "| train_loss: 1.35e-01 | val_loss: 2.05e-01 | reg: 5.01e+01 | : 100%|█| 40/40 [00:10<00:00,  3.98it/\n"
     ]
    },
    {
     "name": "stdout",
     "output_type": "stream",
     "text": [
      "saving model version 0.1\n",
      "Testing width=[15, 6, 1], lamb=1.0, grid=5\n",
      "checkpoint directory created: ./model\n",
      "saving model version 0.0\n"
     ]
    },
    {
     "name": "stderr",
     "output_type": "stream",
     "text": [
      "| train_loss: 2.23e+00 | val_loss: 1.81e+00 | reg: 9.80e+00 | : 100%|█| 40/40 [00:11<00:00,  3.46it/\n"
     ]
    },
    {
     "name": "stdout",
     "output_type": "stream",
     "text": [
      "saving model version 0.1\n",
      "Testing width=[15, 6, 1], lamb=0.1, grid=5\n",
      "checkpoint directory created: ./model\n",
      "saving model version 0.0\n"
     ]
    },
    {
     "name": "stderr",
     "output_type": "stream",
     "text": [
      "| train_loss: 2.72e-01 | val_loss: 2.45e-01 | reg: 8.73e+00 | : 100%|█| 40/40 [00:09<00:00,  4.08it/\n"
     ]
    },
    {
     "name": "stdout",
     "output_type": "stream",
     "text": [
      "saving model version 0.1\n",
      "Testing width=[15, 6, 1], lamb=0.01, grid=5\n",
      "checkpoint directory created: ./model\n",
      "saving model version 0.0\n"
     ]
    },
    {
     "name": "stderr",
     "output_type": "stream",
     "text": [
      "| train_loss: 2.16e-01 | val_loss: 1.93e-01 | reg: 9.16e+00 | : 100%|█| 40/40 [00:10<00:00,  3.86it/\n"
     ]
    },
    {
     "name": "stdout",
     "output_type": "stream",
     "text": [
      "saving model version 0.1\n",
      "Testing width=[15, 6, 1], lamb=0.001, grid=5\n",
      "checkpoint directory created: ./model\n",
      "saving model version 0.0\n"
     ]
    },
    {
     "name": "stderr",
     "output_type": "stream",
     "text": [
      "| train_loss: 1.23e-01 | val_loss: 1.95e-01 | reg: 2.58e+01 | : 100%|█| 40/40 [00:10<00:00,  3.93it/\n"
     ]
    },
    {
     "name": "stdout",
     "output_type": "stream",
     "text": [
      "saving model version 0.1\n",
      "Testing width=[15, 6, 1], lamb=0.0001, grid=5\n",
      "checkpoint directory created: ./model\n",
      "saving model version 0.0\n"
     ]
    },
    {
     "name": "stderr",
     "output_type": "stream",
     "text": [
      "| train_loss: 1.32e-01 | val_loss: 2.52e-01 | reg: 6.20e+01 | : 100%|█| 40/40 [00:10<00:00,  3.86it/\n"
     ]
    },
    {
     "name": "stdout",
     "output_type": "stream",
     "text": [
      "saving model version 0.1\n",
      "Testing width=[15, 6, 1], lamb=1e-05, grid=5\n",
      "checkpoint directory created: ./model\n",
      "saving model version 0.0\n"
     ]
    },
    {
     "name": "stderr",
     "output_type": "stream",
     "text": [
      "| train_loss: 1.38e-01 | val_loss: 2.29e-01 | reg: 5.82e+01 | : 100%|█| 40/40 [00:10<00:00,  3.89it/\n"
     ]
    },
    {
     "name": "stdout",
     "output_type": "stream",
     "text": [
      "saving model version 0.1\n",
      "Testing width=[15, 6, 1], lamb=1.0, grid=6\n",
      "checkpoint directory created: ./model\n",
      "saving model version 0.0\n"
     ]
    },
    {
     "name": "stderr",
     "output_type": "stream",
     "text": [
      "| train_loss: 1.42e+00 | val_loss: 1.22e+00 | reg: 8.81e+00 | : 100%|█| 40/40 [00:10<00:00,  3.76it/\n"
     ]
    },
    {
     "name": "stdout",
     "output_type": "stream",
     "text": [
      "saving model version 0.1\n",
      "Testing width=[15, 6, 1], lamb=0.1, grid=6\n",
      "checkpoint directory created: ./model\n",
      "saving model version 0.0\n"
     ]
    },
    {
     "name": "stderr",
     "output_type": "stream",
     "text": [
      "| train_loss: 2.58e-01 | val_loss: 2.35e-01 | reg: 8.37e+00 | : 100%|█| 40/40 [00:10<00:00,  3.95it/\n"
     ]
    },
    {
     "name": "stdout",
     "output_type": "stream",
     "text": [
      "saving model version 0.1\n",
      "Testing width=[15, 6, 1], lamb=0.01, grid=6\n",
      "checkpoint directory created: ./model\n",
      "saving model version 0.0\n"
     ]
    },
    {
     "name": "stderr",
     "output_type": "stream",
     "text": [
      "| train_loss: 2.04e-01 | val_loss: 1.91e-01 | reg: 9.01e+00 | : 100%|█| 40/40 [00:10<00:00,  3.96it/\n"
     ]
    },
    {
     "name": "stdout",
     "output_type": "stream",
     "text": [
      "saving model version 0.1\n",
      "Testing width=[15, 6, 1], lamb=0.001, grid=6\n",
      "checkpoint directory created: ./model\n",
      "saving model version 0.0\n"
     ]
    },
    {
     "name": "stderr",
     "output_type": "stream",
     "text": [
      "| train_loss: 1.09e-01 | val_loss: 1.85e-01 | reg: 2.00e+01 | : 100%|█| 40/40 [00:09<00:00,  4.10it/\n"
     ]
    },
    {
     "name": "stdout",
     "output_type": "stream",
     "text": [
      "saving model version 0.1\n",
      "Testing width=[15, 6, 1], lamb=0.0001, grid=6\n",
      "checkpoint directory created: ./model\n",
      "saving model version 0.0\n"
     ]
    },
    {
     "name": "stderr",
     "output_type": "stream",
     "text": [
      "| train_loss: 8.73e-02 | val_loss: 2.24e-01 | reg: 4.40e+01 | : 100%|█| 40/40 [00:10<00:00,  3.95it/\n"
     ]
    },
    {
     "name": "stdout",
     "output_type": "stream",
     "text": [
      "saving model version 0.1\n",
      "Testing width=[15, 6, 1], lamb=1e-05, grid=6\n",
      "checkpoint directory created: ./model\n",
      "saving model version 0.0\n"
     ]
    },
    {
     "name": "stderr",
     "output_type": "stream",
     "text": [
      "| train_loss: 9.24e-02 | val_loss: 2.03e-01 | reg: 4.72e+01 | : 100%|█| 40/40 [00:10<00:00,  3.96it/\n"
     ]
    },
    {
     "name": "stdout",
     "output_type": "stream",
     "text": [
      "saving model version 0.1\n",
      "Testing width=[15, 6, 1], lamb=1.0, grid=7\n",
      "checkpoint directory created: ./model\n",
      "saving model version 0.0\n"
     ]
    },
    {
     "name": "stderr",
     "output_type": "stream",
     "text": [
      "| train_loss: 2.10e+00 | val_loss: 1.73e+00 | reg: 8.81e+00 | : 100%|█| 40/40 [00:11<00:00,  3.49it/\n"
     ]
    },
    {
     "name": "stdout",
     "output_type": "stream",
     "text": [
      "saving model version 0.1\n",
      "Testing width=[15, 6, 1], lamb=0.1, grid=7\n",
      "checkpoint directory created: ./model\n",
      "saving model version 0.0\n"
     ]
    },
    {
     "name": "stderr",
     "output_type": "stream",
     "text": [
      "| train_loss: 2.68e-01 | val_loss: 2.42e-01 | reg: 8.61e+00 | : 100%|█| 40/40 [00:10<00:00,  3.95it/\n"
     ]
    },
    {
     "name": "stdout",
     "output_type": "stream",
     "text": [
      "saving model version 0.1\n",
      "Testing width=[15, 6, 1], lamb=0.01, grid=7\n",
      "checkpoint directory created: ./model\n",
      "saving model version 0.0\n"
     ]
    },
    {
     "name": "stderr",
     "output_type": "stream",
     "text": [
      "| train_loss: 2.00e-01 | val_loss: 1.90e-01 | reg: 8.74e+00 | : 100%|█| 40/40 [00:09<00:00,  4.13it/\n"
     ]
    },
    {
     "name": "stdout",
     "output_type": "stream",
     "text": [
      "saving model version 0.1\n",
      "Testing width=[15, 6, 1], lamb=0.001, grid=7\n",
      "checkpoint directory created: ./model\n",
      "saving model version 0.0\n"
     ]
    },
    {
     "name": "stderr",
     "output_type": "stream",
     "text": [
      "| train_loss: 8.97e-02 | val_loss: 1.65e-01 | reg: 2.24e+01 | : 100%|█| 40/40 [00:09<00:00,  4.11it/\n"
     ]
    },
    {
     "name": "stdout",
     "output_type": "stream",
     "text": [
      "saving model version 0.1\n",
      "Testing width=[15, 6, 1], lamb=0.0001, grid=7\n",
      "checkpoint directory created: ./model\n",
      "saving model version 0.0\n"
     ]
    },
    {
     "name": "stderr",
     "output_type": "stream",
     "text": [
      "| train_loss: 7.88e-02 | val_loss: 1.92e-01 | reg: 4.53e+01 | : 100%|█| 40/40 [00:10<00:00,  3.81it/\n"
     ]
    },
    {
     "name": "stdout",
     "output_type": "stream",
     "text": [
      "saving model version 0.1\n",
      "Testing width=[15, 6, 1], lamb=1e-05, grid=7\n",
      "checkpoint directory created: ./model\n",
      "saving model version 0.0\n"
     ]
    },
    {
     "name": "stderr",
     "output_type": "stream",
     "text": [
      "| train_loss: 7.85e-02 | val_loss: 2.19e-01 | reg: 5.29e+01 | : 100%|█| 40/40 [00:10<00:00,  3.92it/\n"
     ]
    },
    {
     "name": "stdout",
     "output_type": "stream",
     "text": [
      "saving model version 0.1\n",
      "Testing width=[15, 7, 1], lamb=1.0, grid=3\n",
      "checkpoint directory created: ./model\n",
      "saving model version 0.0\n"
     ]
    },
    {
     "name": "stderr",
     "output_type": "stream",
     "text": [
      "| train_loss: 1.13e+00 | val_loss: 9.57e-01 | reg: 9.26e+00 | : 100%|█| 40/40 [00:10<00:00,  3.88it/\n"
     ]
    },
    {
     "name": "stdout",
     "output_type": "stream",
     "text": [
      "saving model version 0.1\n",
      "Testing width=[15, 7, 1], lamb=0.1, grid=3\n",
      "checkpoint directory created: ./model\n",
      "saving model version 0.0\n"
     ]
    },
    {
     "name": "stderr",
     "output_type": "stream",
     "text": [
      "| train_loss: 2.82e-01 | val_loss: 2.59e-01 | reg: 8.26e+00 | : 100%|█| 40/40 [00:09<00:00,  4.04it/\n"
     ]
    },
    {
     "name": "stdout",
     "output_type": "stream",
     "text": [
      "saving model version 0.1\n",
      "Testing width=[15, 7, 1], lamb=0.01, grid=3\n",
      "checkpoint directory created: ./model\n",
      "saving model version 0.0\n"
     ]
    },
    {
     "name": "stderr",
     "output_type": "stream",
     "text": [
      "| train_loss: 2.16e-01 | val_loss: 1.87e-01 | reg: 8.75e+00 | : 100%|█| 40/40 [00:09<00:00,  4.03it/\n"
     ]
    },
    {
     "name": "stdout",
     "output_type": "stream",
     "text": [
      "saving model version 0.1\n",
      "Testing width=[15, 7, 1], lamb=0.001, grid=3\n",
      "checkpoint directory created: ./model\n",
      "saving model version 0.0\n"
     ]
    },
    {
     "name": "stderr",
     "output_type": "stream",
     "text": [
      "| train_loss: 1.57e-01 | val_loss: 2.01e-01 | reg: 1.79e+01 | : 100%|█| 40/40 [00:09<00:00,  4.12it/\n"
     ]
    },
    {
     "name": "stdout",
     "output_type": "stream",
     "text": [
      "saving model version 0.1\n",
      "Testing width=[15, 7, 1], lamb=0.0001, grid=3\n",
      "checkpoint directory created: ./model\n",
      "saving model version 0.0\n"
     ]
    },
    {
     "name": "stderr",
     "output_type": "stream",
     "text": [
      "| train_loss: 1.31e-01 | val_loss: 2.11e-01 | reg: 3.46e+01 | : 100%|█| 40/40 [00:09<00:00,  4.00it/\n"
     ]
    },
    {
     "name": "stdout",
     "output_type": "stream",
     "text": [
      "saving model version 0.1\n",
      "Testing width=[15, 7, 1], lamb=1e-05, grid=3\n",
      "checkpoint directory created: ./model\n",
      "saving model version 0.0\n"
     ]
    },
    {
     "name": "stderr",
     "output_type": "stream",
     "text": [
      "| train_loss: 1.18e-01 | val_loss: 2.00e-01 | reg: 4.94e+01 | : 100%|█| 40/40 [00:10<00:00,  3.84it/\n"
     ]
    },
    {
     "name": "stdout",
     "output_type": "stream",
     "text": [
      "saving model version 0.1\n",
      "Testing width=[15, 7, 1], lamb=1.0, grid=4\n",
      "checkpoint directory created: ./model\n",
      "saving model version 0.0\n"
     ]
    },
    {
     "name": "stderr",
     "output_type": "stream",
     "text": [
      "| train_loss: 2.05e+00 | val_loss: 1.68e+00 | reg: 6.45e+00 | : 100%|█| 40/40 [00:10<00:00,  3.73it/\n"
     ]
    },
    {
     "name": "stdout",
     "output_type": "stream",
     "text": [
      "saving model version 0.1\n",
      "Testing width=[15, 7, 1], lamb=0.1, grid=4\n",
      "checkpoint directory created: ./model\n",
      "saving model version 0.0\n"
     ]
    },
    {
     "name": "stderr",
     "output_type": "stream",
     "text": [
      "| train_loss: 3.63e-01 | val_loss: 3.30e-01 | reg: 1.44e+01 | : 100%|█| 40/40 [00:10<00:00,  3.85it/\n"
     ]
    },
    {
     "name": "stdout",
     "output_type": "stream",
     "text": [
      "saving model version 0.1\n",
      "Testing width=[15, 7, 1], lamb=0.01, grid=4\n",
      "checkpoint directory created: ./model\n",
      "saving model version 0.0\n"
     ]
    },
    {
     "name": "stderr",
     "output_type": "stream",
     "text": [
      "| train_loss: 2.11e-01 | val_loss: 2.43e-01 | reg: 1.46e+01 | : 100%|█| 40/40 [00:10<00:00,  3.95it/\n"
     ]
    },
    {
     "name": "stdout",
     "output_type": "stream",
     "text": [
      "saving model version 0.1\n",
      "Testing width=[15, 7, 1], lamb=0.001, grid=4\n",
      "checkpoint directory created: ./model\n",
      "saving model version 0.0\n"
     ]
    },
    {
     "name": "stderr",
     "output_type": "stream",
     "text": [
      "| train_loss: 1.41e-01 | val_loss: 1.90e-01 | reg: 4.68e+01 | : 100%|█| 40/40 [00:10<00:00,  3.95it/\n"
     ]
    },
    {
     "name": "stdout",
     "output_type": "stream",
     "text": [
      "saving model version 0.1\n",
      "Testing width=[15, 7, 1], lamb=0.0001, grid=4\n",
      "checkpoint directory created: ./model\n",
      "saving model version 0.0\n"
     ]
    },
    {
     "name": "stderr",
     "output_type": "stream",
     "text": [
      "| train_loss: 1.40e-01 | val_loss: 1.86e-01 | reg: 5.49e+01 | : 100%|█| 40/40 [00:09<00:00,  4.21it/\n"
     ]
    },
    {
     "name": "stdout",
     "output_type": "stream",
     "text": [
      "saving model version 0.1\n",
      "Testing width=[15, 7, 1], lamb=1e-05, grid=4\n",
      "checkpoint directory created: ./model\n",
      "saving model version 0.0\n"
     ]
    },
    {
     "name": "stderr",
     "output_type": "stream",
     "text": [
      "| train_loss: 1.41e-01 | val_loss: 1.77e-01 | reg: 6.20e+01 | : 100%|█| 40/40 [00:09<00:00,  4.04it/\n"
     ]
    },
    {
     "name": "stdout",
     "output_type": "stream",
     "text": [
      "saving model version 0.1\n",
      "Testing width=[15, 7, 1], lamb=1.0, grid=5\n",
      "checkpoint directory created: ./model\n",
      "saving model version 0.0\n"
     ]
    },
    {
     "name": "stderr",
     "output_type": "stream",
     "text": [
      "| train_loss: 2.03e+00 | val_loss: 1.65e+00 | reg: 6.70e+00 | : 100%|█| 40/40 [00:10<00:00,  3.95it/\n"
     ]
    },
    {
     "name": "stdout",
     "output_type": "stream",
     "text": [
      "saving model version 0.1\n",
      "Testing width=[15, 7, 1], lamb=0.1, grid=5\n",
      "checkpoint directory created: ./model\n",
      "saving model version 0.0\n"
     ]
    },
    {
     "name": "stderr",
     "output_type": "stream",
     "text": [
      "| train_loss: 3.43e-01 | val_loss: 3.01e-01 | reg: 1.31e+01 | : 100%|█| 40/40 [00:10<00:00,  3.72it/\n"
     ]
    },
    {
     "name": "stdout",
     "output_type": "stream",
     "text": [
      "saving model version 0.1\n",
      "Testing width=[15, 7, 1], lamb=0.01, grid=5\n",
      "checkpoint directory created: ./model\n",
      "saving model version 0.0\n"
     ]
    },
    {
     "name": "stderr",
     "output_type": "stream",
     "text": [
      "| train_loss: 2.02e-01 | val_loss: 1.98e-01 | reg: 1.49e+01 | : 100%|█| 40/40 [00:10<00:00,  3.64it/\n"
     ]
    },
    {
     "name": "stdout",
     "output_type": "stream",
     "text": [
      "saving model version 0.1\n",
      "Testing width=[15, 7, 1], lamb=0.001, grid=5\n",
      "checkpoint directory created: ./model\n",
      "saving model version 0.0\n"
     ]
    },
    {
     "name": "stderr",
     "output_type": "stream",
     "text": [
      "| train_loss: 1.36e-01 | val_loss: 1.74e-01 | reg: 3.81e+01 | : 100%|█| 40/40 [00:10<00:00,  3.92it/\n"
     ]
    },
    {
     "name": "stdout",
     "output_type": "stream",
     "text": [
      "saving model version 0.1\n",
      "Testing width=[15, 7, 1], lamb=0.0001, grid=5\n",
      "checkpoint directory created: ./model\n",
      "saving model version 0.0\n"
     ]
    },
    {
     "name": "stderr",
     "output_type": "stream",
     "text": [
      "| train_loss: 1.48e-01 | val_loss: 3.00e-01 | reg: 6.00e+01 | : 100%|█| 40/40 [00:10<00:00,  3.90it/\n"
     ]
    },
    {
     "name": "stdout",
     "output_type": "stream",
     "text": [
      "saving model version 0.1\n",
      "Testing width=[15, 7, 1], lamb=1e-05, grid=5\n",
      "checkpoint directory created: ./model\n",
      "saving model version 0.0\n"
     ]
    },
    {
     "name": "stderr",
     "output_type": "stream",
     "text": [
      "| train_loss: 1.32e-01 | val_loss: 2.71e-01 | reg: 5.82e+01 | : 100%|█| 40/40 [00:11<00:00,  3.35it/\n"
     ]
    },
    {
     "name": "stdout",
     "output_type": "stream",
     "text": [
      "saving model version 0.1\n",
      "Testing width=[15, 7, 1], lamb=1.0, grid=6\n",
      "checkpoint directory created: ./model\n",
      "saving model version 0.0\n"
     ]
    },
    {
     "name": "stderr",
     "output_type": "stream",
     "text": [
      "| train_loss: 1.49e+00 | val_loss: 1.20e+00 | reg: 1.20e+01 | : 100%|█| 40/40 [00:12<00:00,  3.21it/\n"
     ]
    },
    {
     "name": "stdout",
     "output_type": "stream",
     "text": [
      "saving model version 0.1\n",
      "Testing width=[15, 7, 1], lamb=0.1, grid=6\n",
      "checkpoint directory created: ./model\n",
      "saving model version 0.0\n"
     ]
    },
    {
     "name": "stderr",
     "output_type": "stream",
     "text": [
      "| train_loss: 2.38e-01 | val_loss: 2.19e-01 | reg: 1.02e+01 | : 100%|█| 40/40 [00:10<00:00,  3.80it/\n"
     ]
    },
    {
     "name": "stdout",
     "output_type": "stream",
     "text": [
      "saving model version 0.1\n",
      "Testing width=[15, 7, 1], lamb=0.01, grid=6\n",
      "checkpoint directory created: ./model\n",
      "saving model version 0.0\n"
     ]
    },
    {
     "name": "stderr",
     "output_type": "stream",
     "text": [
      "| train_loss: 1.96e-01 | val_loss: 1.89e-01 | reg: 9.02e+00 | : 100%|█| 40/40 [00:10<00:00,  3.90it/\n"
     ]
    },
    {
     "name": "stdout",
     "output_type": "stream",
     "text": [
      "saving model version 0.1\n",
      "Testing width=[15, 7, 1], lamb=0.001, grid=6\n",
      "checkpoint directory created: ./model\n",
      "saving model version 0.0\n"
     ]
    },
    {
     "name": "stderr",
     "output_type": "stream",
     "text": [
      "| train_loss: 1.27e-01 | val_loss: 1.83e-01 | reg: 2.14e+01 | : 100%|█| 40/40 [00:10<00:00,  3.68it/\n"
     ]
    },
    {
     "name": "stdout",
     "output_type": "stream",
     "text": [
      "saving model version 0.1\n",
      "Testing width=[15, 7, 1], lamb=0.0001, grid=6\n",
      "checkpoint directory created: ./model\n",
      "saving model version 0.0\n"
     ]
    },
    {
     "name": "stderr",
     "output_type": "stream",
     "text": [
      "| train_loss: 8.87e-02 | val_loss: 2.93e-01 | reg: 4.83e+01 | : 100%|█| 40/40 [00:10<00:00,  3.98it/\n"
     ]
    },
    {
     "name": "stdout",
     "output_type": "stream",
     "text": [
      "saving model version 0.1\n",
      "Testing width=[15, 7, 1], lamb=1e-05, grid=6\n",
      "checkpoint directory created: ./model\n",
      "saving model version 0.0\n"
     ]
    },
    {
     "name": "stderr",
     "output_type": "stream",
     "text": [
      "| train_loss: 9.36e-02 | val_loss: 1.88e-01 | reg: 5.62e+01 | : 100%|█| 40/40 [00:10<00:00,  3.95it/\n"
     ]
    },
    {
     "name": "stdout",
     "output_type": "stream",
     "text": [
      "saving model version 0.1\n",
      "Testing width=[15, 7, 1], lamb=1.0, grid=7\n",
      "checkpoint directory created: ./model\n",
      "saving model version 0.0\n"
     ]
    },
    {
     "name": "stderr",
     "output_type": "stream",
     "text": [
      "| train_loss: 8.21e-01 | val_loss: 6.33e-01 | reg: 7.84e+00 | : 100%|█| 40/40 [00:09<00:00,  4.01it/\n"
     ]
    },
    {
     "name": "stdout",
     "output_type": "stream",
     "text": [
      "saving model version 0.1\n",
      "Testing width=[15, 7, 1], lamb=0.1, grid=7\n",
      "checkpoint directory created: ./model\n",
      "saving model version 0.0\n"
     ]
    },
    {
     "name": "stderr",
     "output_type": "stream",
     "text": [
      "| train_loss: 2.48e-01 | val_loss: 2.26e-01 | reg: 8.17e+00 | : 100%|█| 40/40 [00:11<00:00,  3.39it/\n"
     ]
    },
    {
     "name": "stdout",
     "output_type": "stream",
     "text": [
      "saving model version 0.1\n",
      "Testing width=[15, 7, 1], lamb=0.01, grid=7\n",
      "checkpoint directory created: ./model\n",
      "saving model version 0.0\n"
     ]
    },
    {
     "name": "stderr",
     "output_type": "stream",
     "text": [
      "| train_loss: 2.00e-01 | val_loss: 1.93e-01 | reg: 8.71e+00 | : 100%|█| 40/40 [00:11<00:00,  3.45it/\n"
     ]
    },
    {
     "name": "stdout",
     "output_type": "stream",
     "text": [
      "saving model version 0.1\n",
      "Testing width=[15, 7, 1], lamb=0.001, grid=7\n",
      "checkpoint directory created: ./model\n",
      "saving model version 0.0\n"
     ]
    },
    {
     "name": "stderr",
     "output_type": "stream",
     "text": [
      "| train_loss: 1.03e-01 | val_loss: 1.85e-01 | reg: 2.10e+01 | : 100%|█| 40/40 [00:12<00:00,  3.27it/\n"
     ]
    },
    {
     "name": "stdout",
     "output_type": "stream",
     "text": [
      "saving model version 0.1\n",
      "Testing width=[15, 7, 1], lamb=0.0001, grid=7\n",
      "checkpoint directory created: ./model\n",
      "saving model version 0.0\n"
     ]
    },
    {
     "name": "stderr",
     "output_type": "stream",
     "text": [
      "| train_loss: 6.31e-02 | val_loss: 2.15e-01 | reg: 5.35e+01 | : 100%|█| 40/40 [00:10<00:00,  3.95it/\n"
     ]
    },
    {
     "name": "stdout",
     "output_type": "stream",
     "text": [
      "saving model version 0.1\n",
      "Testing width=[15, 7, 1], lamb=1e-05, grid=7\n",
      "checkpoint directory created: ./model\n",
      "saving model version 0.0\n"
     ]
    },
    {
     "name": "stderr",
     "output_type": "stream",
     "text": [
      "| train_loss: 7.05e-02 | val_loss: 1.85e-01 | reg: 6.14e+01 | : 100%|█| 40/40 [00:10<00:00,  3.85it/"
     ]
    },
    {
     "name": "stdout",
     "output_type": "stream",
     "text": [
      "saving model version 0.1\n",
      "\n",
      "✅ Top 5 Configurations:\n",
      "1. width=[15, 7, 1], grid=4, lamb=0.001 | loss=0.18885\n",
      "2. width=[15, 5, 1], grid=4, lamb=0.0001 | loss=0.19097\n",
      "3. width=[15, 5, 1], grid=5, lamb=0.0001 | loss=0.19372\n",
      "4. width=[15, 5, 1], grid=4, lamb=1e-05 | loss=0.19793\n",
      "5. width=[15, 4, 1], grid=6, lamb=0.001 | loss=0.19893\n"
     ]
    },
    {
     "name": "stderr",
     "output_type": "stream",
     "text": [
      "\n"
     ]
    }
   ],
   "source": [
    "grid_search_kan(dataset)"
   ]
  },
  {
   "cell_type": "markdown",
   "id": "83433c04-9ffe-4417-b568-0d20e9438a66",
   "metadata": {},
   "source": [
    "## ✅ Top 5 Configurations for KAN:\n",
    "1. width=[15, 7, 1], grid=4, lamb=0.001 | loss=0.18885\n",
    "2. width=[15, 5, 1], grid=4, lamb=0.0001 | loss=0.19097\n",
    "3. width=[15, 5, 1], grid=5, lamb=0.0001 | loss=0.19372\n",
    "4. width=[15, 5, 1], grid=4, lamb=1e-05 | loss=0.19793\n",
    "5. width=[15, 4, 1], grid=6, lamb=0.001 | loss=0.19893413"
   ]
  },
  {
   "cell_type": "code",
   "execution_count": 32,
   "id": "7158e717-e3e0-4fff-9add-726b504f5a6f",
   "metadata": {},
   "outputs": [
    {
     "name": "stdout",
     "output_type": "stream",
     "text": [
      "checkpoint directory created: ./model\n",
      "saving model version 0.0\n"
     ]
    },
    {
     "name": "stderr",
     "output_type": "stream",
     "text": [
      "| train_loss: 1.50e-01 | val_loss: 1.87e-01 | reg: 4.85e+01 | : 100%|█| 30/30 [00:07<00:00,  3.96it/"
     ]
    },
    {
     "name": "stdout",
     "output_type": "stream",
     "text": [
      "saving model version 0.1\n",
      "Best epoch 22\n",
      "0.1912766695022583\n"
     ]
    },
    {
     "name": "stderr",
     "output_type": "stream",
     "text": [
      "\n"
     ]
    },
    {
     "data": {
      "image/png": "[encoded data removed]",
      "text/plain": [
       "<Figure size 640x480 with 1 Axes>"
      ]
     },
     "metadata": {},
     "output_type": "display_data"
    }
   ],
   "source": [
    "model = KAN(width=[attributes, 7, 1], grid=4, k=3, seed=381, device=device)\n",
    "best_model_state, results, best_epoch  = custom_fit(model, dataset, opt=\"LBFGS\", steps=30, lamb=0.001)\n",
    "print(f'Best epoch {best_epoch}')\n",
    "model.load_state_dict(best_model_state)\n",
    "print(average_rmse(model(dataset['test_input']), dataset['test_label']))\n",
    "plt.plot(results['train_loss'])\n",
    "plt.plot(results['val_loss'])\n",
    "plt.legend(['train', 'val'])\n",
    "plt.ylabel('RMSE')\n",
    "plt.xlabel('step')\n",
    "plt.yscale('log')"
   ]
  },
  {
   "cell_type": "markdown",
   "id": "16745534-695d-44df-a61b-187a86e86579",
   "metadata": {
    "jp-MarkdownHeadingCollapsed": true
   },
   "source": [
    "# Grid Search for CNN"
   ]
  },
  {
   "cell_type": "code",
   "execution_count": 33,
   "id": "cd8fbd74-7bc9-4cff-b7fb-7e0b11b849ef",
   "metadata": {
    "scrolled": true
   },
   "outputs": [
    {
     "name": "stdout",
     "output_type": "stream",
     "text": [
      "Testing cnn_blocks=1, dense_layers=1\n"
     ]
    },
    {
     "name": "stderr",
     "output_type": "stream",
     "text": [
      "| Train: 3.2993e-02 | Val: 4.1288e-02 |: 100%|████████████████████| 110/110 [00:39<00:00,  2.80it/s]\n"
     ]
    },
    {
     "name": "stdout",
     "output_type": "stream",
     "text": [
      "✅ Best validation loss: 3.5382e-02 at 59 epoch\n",
      "Testing cnn_blocks=1, dense_layers=2\n"
     ]
    },
    {
     "name": "stderr",
     "output_type": "stream",
     "text": [
      "| Train: 3.4478e-02 | Val: 3.7311e-02 |: 100%|████████████████████| 110/110 [00:42<00:00,  2.59it/s]\n"
     ]
    },
    {
     "name": "stdout",
     "output_type": "stream",
     "text": [
      "✅ Best validation loss: 3.6314e-02 at 21 epoch\n",
      "Testing cnn_blocks=1, dense_layers=3\n"
     ]
    },
    {
     "name": "stderr",
     "output_type": "stream",
     "text": [
      "| Train: 4.2882e-02 | Val: 3.7688e-02 |: 100%|████████████████████| 110/110 [00:27<00:00,  3.97it/s]\n"
     ]
    },
    {
     "name": "stdout",
     "output_type": "stream",
     "text": [
      "✅ Best validation loss: 3.7508e-02 at 51 epoch\n",
      "Testing cnn_blocks=2, dense_layers=1\n"
     ]
    },
    {
     "name": "stderr",
     "output_type": "stream",
     "text": [
      "| Train: 1.4148e-02 | Val: 5.4010e-02 |: 100%|████████████████████| 110/110 [00:47<00:00,  2.29it/s]\n"
     ]
    },
    {
     "name": "stdout",
     "output_type": "stream",
     "text": [
      "✅ Best validation loss: 3.5957e-02 at 29 epoch\n",
      "Testing cnn_blocks=2, dense_layers=2\n"
     ]
    },
    {
     "name": "stderr",
     "output_type": "stream",
     "text": [
      "| Train: 1.5092e-02 | Val: 3.6514e-02 |: 100%|████████████████████| 110/110 [00:53<00:00,  2.06it/s]\n"
     ]
    },
    {
     "name": "stdout",
     "output_type": "stream",
     "text": [
      "✅ Best validation loss: 3.3131e-02 at 70 epoch\n",
      "Testing cnn_blocks=2, dense_layers=3\n"
     ]
    },
    {
     "name": "stderr",
     "output_type": "stream",
     "text": [
      "| Train: 2.0192e-02 | Val: 4.4046e-02 |: 100%|████████████████████| 110/110 [00:55<00:00,  1.98it/s]\n"
     ]
    },
    {
     "name": "stdout",
     "output_type": "stream",
     "text": [
      "✅ Best validation loss: 3.7776e-02 at 21 epoch\n",
      "Testing cnn_blocks=3, dense_layers=1\n"
     ]
    },
    {
     "name": "stderr",
     "output_type": "stream",
     "text": [
      "| Train: 4.5006e-03 | Val: 4.1945e-02 |: 100%|████████████████████| 110/110 [00:56<00:00,  1.95it/s]\n"
     ]
    },
    {
     "name": "stdout",
     "output_type": "stream",
     "text": [
      "✅ Best validation loss: 3.1164e-02 at 23 epoch\n",
      "Testing cnn_blocks=3, dense_layers=2\n"
     ]
    },
    {
     "name": "stderr",
     "output_type": "stream",
     "text": [
      "| Train: 5.1458e-03 | Val: 3.5636e-02 |: 100%|████████████████████| 110/110 [01:00<00:00,  1.81it/s]\n"
     ]
    },
    {
     "name": "stdout",
     "output_type": "stream",
     "text": [
      "✅ Best validation loss: 3.3005e-02 at 28 epoch\n",
      "Testing cnn_blocks=3, dense_layers=3\n"
     ]
    },
    {
     "name": "stderr",
     "output_type": "stream",
     "text": [
      "| Train: 3.1348e-02 | Val: 3.7474e-02 |: 100%|████████████████████| 110/110 [00:54<00:00,  2.01it/s]"
     ]
    },
    {
     "name": "stdout",
     "output_type": "stream",
     "text": [
      "✅ Best validation loss: 3.6896e-02 at 35 epoch\n",
      "\n",
      "✅ Top 5 Configurations:\n",
      "1. cnn_blocks=2, dense_layers=3 | best_epoch=21 | loss=0.24021\n",
      "2. cnn_blocks=2, dense_layers=2 | best_epoch=70 | loss=0.24137\n",
      "3. cnn_blocks=3, dense_layers=3 | best_epoch=35 | loss=0.24607\n",
      "4. cnn_blocks=3, dense_layers=1 | best_epoch=23 | loss=0.24712\n",
      "5. cnn_blocks=2, dense_layers=1 | best_epoch=29 | loss=0.24810\n"
     ]
    },
    {
     "name": "stderr",
     "output_type": "stream",
     "text": [
      "\n"
     ]
    }
   ],
   "source": [
    "grid_search_cnn(dataset)"
   ]
  },
  {
   "cell_type": "code",
   "execution_count": 34,
   "id": "6de250fe-da38-4db0-954a-bddb0b43137a",
   "metadata": {
    "scrolled": true
   },
   "outputs": [
    {
     "name": "stdout",
     "output_type": "stream",
     "text": [
      "Testing cnn_blocks=1, dense_layers=1\n"
     ]
    },
    {
     "name": "stderr",
     "output_type": "stream",
     "text": [
      "| Train: 3.2307e-02 | Val: 3.7762e-02 |: 100%|████████████████████| 110/110 [00:39<00:00,  2.82it/s]\n"
     ]
    },
    {
     "name": "stdout",
     "output_type": "stream",
     "text": [
      "✅ Best validation loss: 3.5784e-02 at 64 epoch\n",
      "Testing cnn_blocks=1, dense_layers=2\n"
     ]
    },
    {
     "name": "stderr",
     "output_type": "stream",
     "text": [
      "| Train: 3.2531e-02 | Val: 3.3572e-02 |: 100%|████████████████████| 110/110 [00:44<00:00,  2.49it/s]\n"
     ]
    },
    {
     "name": "stdout",
     "output_type": "stream",
     "text": [
      "✅ Best validation loss: 3.2790e-02 at 98 epoch\n",
      "Testing cnn_blocks=1, dense_layers=3\n"
     ]
    },
    {
     "name": "stderr",
     "output_type": "stream",
     "text": [
      "| Train: 4.4558e-02 | Val: 3.9682e-02 |: 100%|████████████████████| 110/110 [00:21<00:00,  5.09it/s]\n"
     ]
    },
    {
     "name": "stdout",
     "output_type": "stream",
     "text": [
      "✅ Best validation loss: 3.8894e-02 at 29 epoch\n",
      "Testing cnn_blocks=2, dense_layers=1\n"
     ]
    },
    {
     "name": "stderr",
     "output_type": "stream",
     "text": [
      "| Train: 1.6109e-02 | Val: 5.7294e-02 |: 100%|████████████████████| 110/110 [00:47<00:00,  2.33it/s]\n"
     ]
    },
    {
     "name": "stdout",
     "output_type": "stream",
     "text": [
      "✅ Best validation loss: 3.6935e-02 at 46 epoch\n",
      "Testing cnn_blocks=2, dense_layers=2\n"
     ]
    },
    {
     "name": "stderr",
     "output_type": "stream",
     "text": [
      "| Train: 1.6951e-02 | Val: 4.3216e-02 |: 100%|████████████████████| 110/110 [00:43<00:00,  2.50it/s]\n"
     ]
    },
    {
     "name": "stdout",
     "output_type": "stream",
     "text": [
      "✅ Best validation loss: 3.8969e-02 at 14 epoch\n",
      "Testing cnn_blocks=2, dense_layers=3\n"
     ]
    },
    {
     "name": "stderr",
     "output_type": "stream",
     "text": [
      "| Train: 3.2372e-02 | Val: 3.9066e-02 |: 100%|████████████████████| 110/110 [00:13<00:00,  7.90it/s]\n"
     ]
    },
    {
     "name": "stdout",
     "output_type": "stream",
     "text": [
      "✅ Best validation loss: 3.7464e-02 at 88 epoch\n",
      "Testing cnn_blocks=3, dense_layers=1\n"
     ]
    },
    {
     "name": "stderr",
     "output_type": "stream",
     "text": [
      "| Train: 5.7168e-03 | Val: 4.9340e-02 |: 100%|████████████████████| 110/110 [00:12<00:00,  9.08it/s]\n"
     ]
    },
    {
     "name": "stdout",
     "output_type": "stream",
     "text": [
      "✅ Best validation loss: 3.6456e-02 at 15 epoch\n",
      "Testing cnn_blocks=3, dense_layers=2\n"
     ]
    },
    {
     "name": "stderr",
     "output_type": "stream",
     "text": [
      "| Train: 8.2892e-03 | Val: 4.3909e-02 |: 100%|████████████████████| 110/110 [00:15<00:00,  7.09it/s]\n"
     ]
    },
    {
     "name": "stdout",
     "output_type": "stream",
     "text": [
      "✅ Best validation loss: 3.2070e-02 at 37 epoch\n",
      "Testing cnn_blocks=3, dense_layers=3\n"
     ]
    },
    {
     "name": "stderr",
     "output_type": "stream",
     "text": [
      "| Train: 5.5360e-03 | Val: 4.0641e-02 |: 100%|████████████████████| 110/110 [00:16<00:00,  6.53it/s]"
     ]
    },
    {
     "name": "stdout",
     "output_type": "stream",
     "text": [
      "✅ Best validation loss: 3.3493e-02 at 39 epoch\n",
      "\n",
      "✅ Top 5 Configurations:\n",
      "1. cnn_blocks=2, dense_layers=2 | best_epoch=14 | loss=0.24152\n",
      "2. cnn_blocks=2, dense_layers=1 | best_epoch=46 | loss=0.24273\n",
      "3. cnn_blocks=3, dense_layers=1 | best_epoch=15 | loss=0.24286\n",
      "4. cnn_blocks=2, dense_layers=3 | best_epoch=88 | loss=0.24750\n",
      "5. cnn_blocks=3, dense_layers=3 | best_epoch=39 | loss=0.24943\n"
     ]
    },
    {
     "name": "stderr",
     "output_type": "stream",
     "text": [
      "\n"
     ]
    }
   ],
   "source": [
    "grid_search_cnn(dataset)"
   ]
  },
  {
   "cell_type": "markdown",
   "id": "d805c9d0-53d8-46c0-90f7-517b76616fca",
   "metadata": {
    "jp-MarkdownHeadingCollapsed": true
   },
   "source": [
    "## ✅ Top 5 Configurations for CNN with opt=LBFGS:\n",
    "1. cnn_blocks=2, dense_layers=2 | best_epoch=14 | loss=0.24152\n",
    "2. cnn_blocks=2, dense_layers=1 | best_epoch=46 | loss=0.24273\n",
    "3. cnn_blocks=3, dense_layers=1 | best_epoch=15 | loss=0.24286\n",
    "4. cnn_blocks=2, dense_layers=3 | best_epoch=88 | loss=0.24750\n",
    "5. cnn_blocks=3, dense_layers=3 | best_epoch=39 | loss=0.24943"
   ]
  },
  {
   "cell_type": "code",
   "execution_count": 36,
   "id": "a1a62670-becd-4898-942d-a84c383c9357",
   "metadata": {},
   "outputs": [
    {
     "name": "stderr",
     "output_type": "stream",
     "text": [
      "| Train: 1.7114e-02 | Val: 3.4100e-02 |: 100%|████████████████████| 100/100 [00:46<00:00,  2.16it/s]\n"
     ]
    },
    {
     "name": "stdout",
     "output_type": "stream",
     "text": [
      "✅ Best validation loss: 3.3958e-02 at 93 epoch\n",
      "0.20813524723052979\n"
     ]
    },
    {
     "data": {
      "image/png": "[encoded data removed]",
      "text/plain": [
       "<Figure size 640x480 with 1 Axes>"
      ]
     },
     "metadata": {},
     "output_type": "display_data"
    }
   ],
   "source": [
    "model0 = build_custom_cnn_model(cnn_blocks=2, dense_layers=2, imgs_shape=imgs_shape)\n",
    "model_state, results, _ = fit_cnn_only_model(model0, dataset, steps=100)\n",
    "model0.load_state_dict(model_state)\n",
    "print(average_rmse(model0(0, dataset['test_img']), dataset['test_label']))\n",
    "plt.plot(results['train_loss'])\n",
    "plt.plot(results['val_loss'])\n",
    "plt.legend(['train', 'val'])\n",
    "plt.ylabel('RMSE')\n",
    "plt.xlabel('step')\n",
    "plt.yscale('log')"
   ]
  },
  {
   "cell_type": "code",
   "execution_count": 37,
   "id": "9d503e06-6816-4268-a066-42fc0000d379",
   "metadata": {},
   "outputs": [
    {
     "name": "stderr",
     "output_type": "stream",
     "text": [
      "| Train: 2.0031e-02 | Val: 4.0847e-02 |: 100%|████████████████████| 100/100 [00:47<00:00,  2.09it/s]\n"
     ]
    },
    {
     "name": "stdout",
     "output_type": "stream",
     "text": [
      "✅ Best validation loss: 3.4506e-02 at 30 epoch\n",
      "0.24176405370235443\n"
     ]
    },
    {
     "data": {
      "image/png": "[encoded data removed]",
      "text/plain": [
       "<Figure size 640x480 with 1 Axes>"
      ]
     },
     "metadata": {},
     "output_type": "display_data"
    }
   ],
   "source": [
    "model0 = build_custom_cnn_model(cnn_blocks=2, dense_layers=2, imgs_shape=imgs_shape)\n",
    "model_state, results, _ = fit_cnn_only_model(model0, dataset, steps=100)\n",
    "model0.load_state_dict(model_state)\n",
    "print(average_rmse(model0(0, dataset['test_img']), dataset['test_label']))\n",
    "plt.plot(results['train_loss'])\n",
    "plt.plot(results['val_loss'])\n",
    "plt.legend(['train', 'val'])\n",
    "plt.ylabel('RMSE')\n",
    "plt.xlabel('step')\n",
    "plt.yscale('log')"
   ]
  },
  {
   "cell_type": "code",
   "execution_count": 55,
   "id": "9c785e25-7512-4f7c-a783-ab08e3cd25d4",
   "metadata": {
    "scrolled": true
   },
   "outputs": [
    {
     "name": "stdout",
     "output_type": "stream",
     "text": [
      "Testing cnn_blocks=1, dense_layers=1\n"
     ]
    },
    {
     "name": "stderr",
     "output_type": "stream",
     "text": [
      "| Train: 8.7191e-01 | Val: 9.8407e-01 |: 100%|████████████████████| 500/500 [00:05<00:00, 95.53it/s]\n"
     ]
    },
    {
     "name": "stdout",
     "output_type": "stream",
     "text": [
      "✅ Best validation loss: 4.6698e-01 at 437 epoch\n",
      "Testing cnn_blocks=1, dense_layers=2\n"
     ]
    },
    {
     "name": "stderr",
     "output_type": "stream",
     "text": [
      "| Train: 1.1943e+01 | Val: 8.8508e+00 |: 100%|████████████████████| 500/500 [00:05<00:00, 94.96it/s]\n"
     ]
    },
    {
     "name": "stdout",
     "output_type": "stream",
     "text": [
      "✅ Best validation loss: 3.4843e-01 at 242 epoch\n",
      "Testing cnn_blocks=1, dense_layers=3\n"
     ]
    },
    {
     "name": "stderr",
     "output_type": "stream",
     "text": [
      "| Train: 1.1320e+01 | Val: 8.3809e+00 |: 100%|████████████████████| 500/500 [00:05<00:00, 92.06it/s]\n"
     ]
    },
    {
     "name": "stdout",
     "output_type": "stream",
     "text": [
      "✅ Best validation loss: 1.8981e+00 at 256 epoch\n",
      "Testing cnn_blocks=2, dense_layers=1\n"
     ]
    },
    {
     "name": "stderr",
     "output_type": "stream",
     "text": [
      "| Train: 1.3512e+00 | Val: 4.4788e+00 |: 100%|████████████████████| 500/500 [00:06<00:00, 78.88it/s]\n"
     ]
    },
    {
     "name": "stdout",
     "output_type": "stream",
     "text": [
      "✅ Best validation loss: 1.6773e-01 at 245 epoch\n",
      "Testing cnn_blocks=2, dense_layers=2\n"
     ]
    },
    {
     "name": "stderr",
     "output_type": "stream",
     "text": [
      "| Train: 6.9258e+01 | Val: 6.5784e+01 |: 100%|████████████████████| 500/500 [00:06<00:00, 77.07it/s]\n"
     ]
    },
    {
     "name": "stdout",
     "output_type": "stream",
     "text": [
      "✅ Best validation loss: 7.3670e-01 at 122 epoch\n",
      "Testing cnn_blocks=2, dense_layers=3\n"
     ]
    },
    {
     "name": "stderr",
     "output_type": "stream",
     "text": [
      "| Train: 7.0460e+01 | Val: 6.6985e+01 |: 100%|████████████████████| 500/500 [00:07<00:00, 71.29it/s]\n"
     ]
    },
    {
     "name": "stdout",
     "output_type": "stream",
     "text": [
      "✅ Best validation loss: 9.9523e+00 at 296 epoch\n",
      "Testing cnn_blocks=3, dense_layers=1\n"
     ]
    },
    {
     "name": "stderr",
     "output_type": "stream",
     "text": [
      "| Train: 3.9741e-01 | Val: 2.7043e-01 |: 100%|████████████████████| 500/500 [00:07<00:00, 66.75it/s]\n"
     ]
    },
    {
     "name": "stdout",
     "output_type": "stream",
     "text": [
      "✅ Best validation loss: 2.0316e-01 at 383 epoch\n",
      "Testing cnn_blocks=3, dense_layers=2\n"
     ]
    },
    {
     "name": "stderr",
     "output_type": "stream",
     "text": [
      "| Train: 1.1547e+01 | Val: 8.5090e+00 |: 100%|████████████████████| 500/500 [00:07<00:00, 66.06it/s]\n"
     ]
    },
    {
     "name": "stdout",
     "output_type": "stream",
     "text": [
      "✅ Best validation loss: 2.8890e+00 at 212 epoch\n",
      "Testing cnn_blocks=3, dense_layers=3\n"
     ]
    },
    {
     "name": "stderr",
     "output_type": "stream",
     "text": [
      "| Train: 1.2489e+01 | Val: 9.3498e+00 |: 100%|████████████████████| 500/500 [00:08<00:00, 57.62it/s]"
     ]
    },
    {
     "name": "stdout",
     "output_type": "stream",
     "text": [
      "✅ Best validation loss: 8.7217e+00 at 45 epoch\n",
      "\n",
      "✅ Top 5 Configurations:\n",
      "1. cnn_blocks=2, dense_layers=1 | best_epoch=245 | loss=0.55694\n",
      "2. cnn_blocks=3, dense_layers=1 | best_epoch=383 | loss=0.56895\n",
      "3. cnn_blocks=1, dense_layers=2 | best_epoch=242 | loss=0.76437\n",
      "4. cnn_blocks=1, dense_layers=1 | best_epoch=437 | loss=0.86496\n",
      "5. cnn_blocks=2, dense_layers=2 | best_epoch=122 | loss=0.99447\n"
     ]
    },
    {
     "name": "stderr",
     "output_type": "stream",
     "text": [
      "\n"
     ]
    }
   ],
   "source": [
    "grid_search_cnn(dataset, steps=500, opt='AdamW', batch=-1)"
   ]
  },
  {
   "cell_type": "code",
   "execution_count": 52,
   "id": "97d2dbcb-0db8-4192-a9a8-9306e73304cf",
   "metadata": {
    "scrolled": true
   },
   "outputs": [
    {
     "name": "stdout",
     "output_type": "stream",
     "text": [
      "Testing cnn_blocks=1, dense_layers=1\n"
     ]
    },
    {
     "name": "stderr",
     "output_type": "stream",
     "text": [
      "| Train: 1.2741e+01 | Val: 3.1798e+00 |: 100%|███████████████████| 500/500 [00:04<00:00, 106.63it/s]\n"
     ]
    },
    {
     "name": "stdout",
     "output_type": "stream",
     "text": [
      "✅ Best validation loss: 3.8615e-01 at 487 epoch\n",
      "Testing cnn_blocks=1, dense_layers=2\n"
     ]
    },
    {
     "name": "stderr",
     "output_type": "stream",
     "text": [
      "| Train: 8.6403e+00 | Val: 9.4239e+00 |: 100%|████████████████████| 500/500 [00:05<00:00, 91.13it/s]\n"
     ]
    },
    {
     "name": "stdout",
     "output_type": "stream",
     "text": [
      "✅ Best validation loss: 4.5604e+00 at 41 epoch\n",
      "Testing cnn_blocks=1, dense_layers=3\n"
     ]
    },
    {
     "name": "stderr",
     "output_type": "stream",
     "text": [
      "| Train: 1.0781e+01 | Val: 8.8935e+00 |: 100%|████████████████████| 500/500 [00:06<00:00, 75.16it/s]\n"
     ]
    },
    {
     "name": "stdout",
     "output_type": "stream",
     "text": [
      "✅ Best validation loss: 4.4140e+00 at 192 epoch\n",
      "Testing cnn_blocks=2, dense_layers=1\n"
     ]
    },
    {
     "name": "stderr",
     "output_type": "stream",
     "text": [
      "| Train: 4.2502e+01 | Val: 9.2398e+00 |: 100%|████████████████████| 500/500 [00:06<00:00, 77.92it/s]\n"
     ]
    },
    {
     "name": "stdout",
     "output_type": "stream",
     "text": [
      "✅ Best validation loss: 1.9458e-01 at 267 epoch\n",
      "Testing cnn_blocks=2, dense_layers=2\n"
     ]
    },
    {
     "name": "stderr",
     "output_type": "stream",
     "text": [
      "| Train: 7.3034e+01 | Val: 6.5740e+01 |: 100%|████████████████████| 500/500 [00:07<00:00, 69.55it/s]\n"
     ]
    },
    {
     "name": "stdout",
     "output_type": "stream",
     "text": [
      "✅ Best validation loss: 1.2644e+00 at 200 epoch\n",
      "Testing cnn_blocks=2, dense_layers=3\n"
     ]
    },
    {
     "name": "stderr",
     "output_type": "stream",
     "text": [
      "| Train: 6.4224e+01 | Val: 6.6965e+01 |: 100%|████████████████████| 500/500 [00:08<00:00, 59.27it/s]\n"
     ]
    },
    {
     "name": "stdout",
     "output_type": "stream",
     "text": [
      "✅ Best validation loss: 5.7320e+01 at 267 epoch\n",
      "Testing cnn_blocks=3, dense_layers=1\n"
     ]
    },
    {
     "name": "stderr",
     "output_type": "stream",
     "text": [
      "| Train: 7.1168e-01 | Val: 4.8857e-01 |: 100%|████████████████████| 500/500 [00:07<00:00, 64.68it/s]\n"
     ]
    },
    {
     "name": "stdout",
     "output_type": "stream",
     "text": [
      "✅ Best validation loss: 2.4748e-01 at 382 epoch\n",
      "Testing cnn_blocks=3, dense_layers=2\n"
     ]
    },
    {
     "name": "stderr",
     "output_type": "stream",
     "text": [
      "| Train: 6.6342e+01 | Val: 6.5161e+01 |: 100%|████████████████████| 500/500 [00:08<00:00, 57.84it/s]\n"
     ]
    },
    {
     "name": "stdout",
     "output_type": "stream",
     "text": [
      "✅ Best validation loss: 1.0096e+00 at 175 epoch\n",
      "Testing cnn_blocks=3, dense_layers=3\n"
     ]
    },
    {
     "name": "stderr",
     "output_type": "stream",
     "text": [
      "| Train: 7.9336e+01 | Val: 6.6770e+01 |: 100%|████████████████████| 500/500 [00:09<00:00, 52.51it/s]"
     ]
    },
    {
     "name": "stdout",
     "output_type": "stream",
     "text": [
      "✅ Best validation loss: 8.8980e+00 at 138 epoch\n",
      "\n",
      "✅ Top 5 Configurations:\n",
      "1. cnn_blocks=2, dense_layers=1 | best_epoch=267 | loss=0.59095\n",
      "2. cnn_blocks=3, dense_layers=1 | best_epoch=382 | loss=0.61400\n",
      "3. cnn_blocks=1, dense_layers=1 | best_epoch=487 | loss=0.72442\n",
      "4. cnn_blocks=3, dense_layers=2 | best_epoch=175 | loss=1.21525\n",
      "5. cnn_blocks=2, dense_layers=2 | best_epoch=200 | loss=1.35100\n"
     ]
    },
    {
     "name": "stderr",
     "output_type": "stream",
     "text": [
      "\n"
     ]
    }
   ],
   "source": [
    "grid_search_cnn(dataset, steps=500, opt='AdamW', batch=32)"
   ]
  },
  {
   "cell_type": "markdown",
   "id": "8e20928e-ad9c-4f2d-823d-d2c50aee0d3b",
   "metadata": {
    "jp-MarkdownHeadingCollapsed": true
   },
   "source": [
    "## ✅ Top 5 Configurations for CNN with opt='AdamW':\n",
    "1. cnn_blocks=2, dense_layers=1 | best_epoch=267 | loss=0.59095\n",
    "2. cnn_blocks=3, dense_layers=1 | best_epoch=382 | loss=0.61400\n",
    "3. cnn_blocks=1, dense_layers=1 | best_epoch=487 | loss=0.72442\n",
    "4. cnn_blocks=3, dense_layers=2 | best_epoch=175 | loss=1.21525\n",
    "5. cnn_blocks=2, dense_layers=2 | best_epoch=200 | loss=1.35100"
   ]
  },
  {
   "cell_type": "code",
   "execution_count": 53,
   "id": "bad806bd-bbc0-40e8-aa1c-c7f91e8f3f6a",
   "metadata": {},
   "outputs": [
    {
     "name": "stderr",
     "output_type": "stream",
     "text": [
      "| Train: 2.8664e+00 | Val: 1.3955e+00 |: 100%|████████████████████| 500/500 [00:07<00:00, 71.02it/s]\n"
     ]
    },
    {
     "name": "stdout",
     "output_type": "stream",
     "text": [
      "✅ Best validation loss: 2.7948e-01 at 310 epoch\n",
      "0.672490656375885\n"
     ]
    },
    {
     "data": {
      "image/png": "[encoded data removed]",
      "text/plain": [
       "<Figure size 640x480 with 1 Axes>"
      ]
     },
     "metadata": {},
     "output_type": "display_data"
    }
   ],
   "source": [
    "model0 = build_custom_cnn_model(cnn_blocks=2, dense_layers=1, imgs_shape=imgs_shape)\n",
    "model_state, results, _ = fit_cnn_only_model(model0, dataset, steps=500, opt='AdamW', batch=32)\n",
    "model0.load_state_dict(model_state)\n",
    "print(average_rmse(model0(0, dataset['test_img']), dataset['test_label']))\n",
    "plt.plot(results['train_loss'])\n",
    "plt.plot(results['val_loss'])\n",
    "plt.legend(['train', 'val'])\n",
    "plt.ylabel('RMSE')\n",
    "plt.xlabel('step')\n",
    "plt.yscale('log')"
   ]
  },
  {
   "cell_type": "code",
   "execution_count": 54,
   "id": "308dedfb-1404-4027-8b6e-9d243bab2336",
   "metadata": {},
   "outputs": [
    {
     "name": "stderr",
     "output_type": "stream",
     "text": [
      "| Train: 4.9167e+00 | Val: 7.7040e+00 |: 100%|████████████████████| 500/500 [00:06<00:00, 74.55it/s]\n"
     ]
    },
    {
     "name": "stdout",
     "output_type": "stream",
     "text": [
      "✅ Best validation loss: 1.0114e-01 at 470 epoch\n",
      "0.4170120656490326\n"
     ]
    },
    {
     "data": {
      "image/png": "[encoded data removed]",
      "text/plain": [
       "<Figure size 640x480 with 1 Axes>"
      ]
     },
     "metadata": {},
     "output_type": "display_data"
    }
   ],
   "source": [
    "model0 = build_custom_cnn_model(cnn_blocks=2, dense_layers=1, imgs_shape=imgs_shape)\n",
    "model_state, results, _ = fit_cnn_only_model(model0, dataset, steps=500, opt='AdamW', batch=-1)\n",
    "model0.load_state_dict(model_state)\n",
    "print(average_rmse(model0(0, dataset['test_img']), dataset['test_label']))\n",
    "plt.plot(results['train_loss'])\n",
    "plt.plot(results['val_loss'])\n",
    "plt.legend(['train', 'val'])\n",
    "plt.ylabel('RMSE')\n",
    "plt.xlabel('step')\n",
    "plt.yscale('log')"
   ]
  },
  {
   "cell_type": "markdown",
   "id": "7d9db396-7fe4-4043-97ce-b8f5983224af",
   "metadata": {},
   "source": [
    "# Grid Search for Hibrid Model3"
   ]
  },
  {
   "cell_type": "code",
   "execution_count": 27,
   "id": "24658826-eff0-4b3d-b42b-e3d524d00b17",
   "metadata": {},
   "outputs": [],
   "source": [
    "class Model3(nn.Module):\n",
    "    def __init__(self, attributes, imgs_shape, kan_neurons, kan_grid, device=device):\n",
    "        super(Model3, self).__init__()\n",
    "        # CNN branch\n",
    "        self.cnn_branch = nn.Sequential(\n",
    "            nn.Conv2d(imgs_shape[0], 16, kernel_size=3, padding=2),     # out: 16 x 9 x 9\n",
    "            nn.BatchNorm2d(16),\n",
    "            nn.ReLU(),\n",
    "            nn.MaxPool2d(2),                                            # out: 16 x 4 x 4\n",
    "            \n",
    "            nn.Conv2d(16, 32, kernel_size=3, padding=2),                # out: 32 x 5 x 5\n",
    "            nn.LayerNorm([32, 7, 7]),\n",
    "            nn.Sigmoid(),\n",
    "            nn.Flatten()\n",
    "        ).to(device)\n",
    "        # Final KAN layers\n",
    "        self.m_kan = KAN(\n",
    "            width=[attributes, kan_neurons],\n",
    "            grid=kan_grid,\n",
    "            k=3,\n",
    "            seed=SEED,\n",
    "            device=device\n",
    "        )\n",
    "\n",
    "        # Calculate the size of the flattened output\n",
    "        self.flat_size = self._get_flat_size(imgs_shape)\n",
    "\n",
    "        # Final MLP layers\n",
    "        self.final_kan = KAN(\n",
    "            width=[self.flat_size + kan_neurons, 1],\n",
    "            grid=kan_grid,\n",
    "            k=3,\n",
    "            seed=SEED,\n",
    "            device=device\n",
    "        )\n",
    "\n",
    "        self.device = device\n",
    "\n",
    "\n",
    "    def _get_flat_size(self, imgs_shape):\n",
    "        # Forward pass with dummy input to calculate flat size\n",
    "        dummy_input = torch.zeros(4, *imgs_shape, device=device)\n",
    "        x = self.cnn_branch(dummy_input)\n",
    "        return x.size(1)\n",
    "\n",
    "    def get_concat_output(self, mlp_input, cnn_input):\n",
    "        # Ensure inputs are moved to the correct device\n",
    "        kan_input = mlp_input.to(self.device)\n",
    "        cnn_input = cnn_input.to(self.device)\n",
    "        \n",
    "        cnn_output = self.cnn_branch(cnn_input)  # Process image input\n",
    "        kan_output = self.m_kan(kan_input)  # Process numerical input\n",
    "        \n",
    "        return torch.cat((kan_output, cnn_output), dim=1)\n",
    "\n",
    "    \n",
    "    def forward(self, mlp_input, cnn_input):\n",
    "        concat_output = self.get_concat_output(mlp_input, cnn_input)\n",
    "        return self.final_kan(concat_output)"
   ]
  },
  {
   "cell_type": "code",
   "execution_count": 28,
   "id": "1cb5d881-c64b-40b2-bce3-f00d50871fc1",
   "metadata": {
    "scrolled": true
   },
   "outputs": [
    {
     "name": "stdout",
     "output_type": "stream",
     "text": [
      "Testing 1 hidden neurons, lamb=1.0, grid=3\n",
      "checkpoint directory created: ./model\n",
      "saving model version 0.0\n",
      "checkpoint directory created: ./model\n",
      "saving model version 0.0\n",
      "Successfully created and tested Model3\n"
     ]
    },
    {
     "name": "stderr",
     "output_type": "stream",
     "text": [
      "| train_loss: 3.82e+00 | eval_loss: 2.83e+00 | reg: 3.65e+00 |: 100%|█| 40/40 [01:14<00:00,  1.87s/i\n"
     ]
    },
    {
     "name": "stdout",
     "output_type": "stream",
     "text": [
      "saving model version 0.1\n",
      "Best epoch 0\n",
      "3.0182387828826904\n",
      "Testing 1 hidden neurons, lamb=0.1, grid=3\n",
      "checkpoint directory created: ./model\n",
      "saving model version 0.0\n",
      "checkpoint directory created: ./model\n",
      "saving model version 0.0\n",
      "Successfully created and tested Model3\n"
     ]
    },
    {
     "name": "stderr",
     "output_type": "stream",
     "text": [
      "| train_loss: 1.55e+00 | eval_loss: 3.63e-01 | reg: 2.21e+01 |: 100%|█| 40/40 [01:13<00:00,  1.84s/i\n"
     ]
    },
    {
     "name": "stdout",
     "output_type": "stream",
     "text": [
      "saving model version 0.1\n",
      "Best epoch 13\n",
      "0.5103750824928284\n",
      "Testing 1 hidden neurons, lamb=0.01, grid=3\n",
      "checkpoint directory created: ./model\n",
      "saving model version 0.0\n",
      "checkpoint directory created: ./model\n",
      "saving model version 0.0\n",
      "Successfully created and tested Model3\n"
     ]
    },
    {
     "name": "stderr",
     "output_type": "stream",
     "text": [
      "| train_loss: 5.39e-01 | eval_loss: 2.04e-01 | reg: 2.47e+01 |: 100%|█| 40/40 [01:14<00:00,  1.85s/i\n"
     ]
    },
    {
     "name": "stdout",
     "output_type": "stream",
     "text": [
      "saving model version 0.1\n",
      "Best epoch 37\n",
      "0.29194995760917664\n",
      "Testing 1 hidden neurons, lamb=0.001, grid=3\n",
      "checkpoint directory created: ./model\n",
      "saving model version 0.0\n",
      "checkpoint directory created: ./model\n",
      "saving model version 0.0\n",
      "Successfully created and tested Model3\n"
     ]
    },
    {
     "name": "stderr",
     "output_type": "stream",
     "text": [
      "| train_loss: 2.37e-01 | eval_loss: 1.87e-01 | reg: 2.95e+01 |: 100%|█| 40/40 [01:17<00:00,  1.93s/i\n"
     ]
    },
    {
     "name": "stdout",
     "output_type": "stream",
     "text": [
      "saving model version 0.1\n",
      "Best epoch 39\n",
      "0.2526634931564331\n",
      "Testing 1 hidden neurons, lamb=0.0001, grid=3\n",
      "checkpoint directory created: ./model\n",
      "saving model version 0.0\n",
      "checkpoint directory created: ./model\n",
      "saving model version 0.0\n",
      "Successfully created and tested Model3\n"
     ]
    },
    {
     "name": "stderr",
     "output_type": "stream",
     "text": [
      "| train_loss: 1.69e-01 | eval_loss: 1.87e-01 | reg: 8.29e+01 |: 100%|█| 40/40 [01:18<00:00,  1.97s/i\n"
     ]
    },
    {
     "name": "stdout",
     "output_type": "stream",
     "text": [
      "saving model version 0.1\n",
      "Best epoch 39\n",
      "0.23753900825977325\n",
      "Testing 1 hidden neurons, lamb=1e-05, grid=3\n",
      "checkpoint directory created: ./model\n",
      "saving model version 0.0\n",
      "checkpoint directory created: ./model\n",
      "saving model version 0.0\n",
      "Successfully created and tested Model3\n"
     ]
    },
    {
     "name": "stderr",
     "output_type": "stream",
     "text": [
      "| train_loss: 1.57e-01 | eval_loss: 1.85e-01 | reg: 1.06e+02 |: 100%|█| 40/40 [01:17<00:00,  1.95s/i\n"
     ]
    },
    {
     "name": "stdout",
     "output_type": "stream",
     "text": [
      "saving model version 0.1\n",
      "Best epoch 39\n",
      "0.22614799439907074\n",
      "Testing 1 hidden neurons, lamb=1.0, grid=4\n",
      "checkpoint directory created: ./model\n",
      "saving model version 0.0\n",
      "checkpoint directory created: ./model\n",
      "saving model version 0.0\n",
      "Successfully created and tested Model3\n"
     ]
    },
    {
     "name": "stderr",
     "output_type": "stream",
     "text": [
      "| train_loss: 3.65e+00 | eval_loss: 2.91e+00 | reg: 1.88e+00 |: 100%|█| 40/40 [01:14<00:00,  1.87s/i\n"
     ]
    },
    {
     "name": "stdout",
     "output_type": "stream",
     "text": [
      "saving model version 0.1\n",
      "Best epoch 0\n",
      "3.103954553604126\n",
      "Testing 1 hidden neurons, lamb=0.1, grid=4\n",
      "checkpoint directory created: ./model\n",
      "saving model version 0.0\n",
      "checkpoint directory created: ./model\n",
      "saving model version 0.0\n",
      "Successfully created and tested Model3\n"
     ]
    },
    {
     "name": "stderr",
     "output_type": "stream",
     "text": [
      "| train_loss: 1.57e+00 | eval_loss: 3.72e-01 | reg: 2.29e+01 |: 100%|█| 40/40 [01:15<00:00,  1.89s/i\n"
     ]
    },
    {
     "name": "stdout",
     "output_type": "stream",
     "text": [
      "saving model version 0.1\n",
      "Best epoch 22\n",
      "0.5249603986740112\n",
      "Testing 1 hidden neurons, lamb=0.01, grid=4\n",
      "checkpoint directory created: ./model\n",
      "saving model version 0.0\n",
      "checkpoint directory created: ./model\n",
      "saving model version 0.0\n",
      "Successfully created and tested Model3\n"
     ]
    },
    {
     "name": "stderr",
     "output_type": "stream",
     "text": [
      "| train_loss: 5.38e-01 | eval_loss: 2.05e-01 | reg: 2.49e+01 |: 100%|█| 40/40 [01:16<00:00,  1.92s/i\n"
     ]
    },
    {
     "name": "stdout",
     "output_type": "stream",
     "text": [
      "saving model version 0.1\n",
      "Best epoch 39\n",
      "0.2850266396999359\n",
      "Testing 1 hidden neurons, lamb=0.001, grid=4\n",
      "checkpoint directory created: ./model\n",
      "saving model version 0.0\n",
      "checkpoint directory created: ./model\n",
      "saving model version 0.0\n",
      "Successfully created and tested Model3\n"
     ]
    },
    {
     "name": "stderr",
     "output_type": "stream",
     "text": [
      "| train_loss: 2.29e-01 | eval_loss: 1.95e-01 | reg: 3.20e+01 |: 100%|█| 40/40 [01:21<00:00,  2.04s/i\n"
     ]
    },
    {
     "name": "stdout",
     "output_type": "stream",
     "text": [
      "saving model version 0.1\n",
      "Best epoch 36\n",
      "0.2522721588611603\n",
      "Testing 1 hidden neurons, lamb=0.0001, grid=4\n",
      "checkpoint directory created: ./model\n",
      "saving model version 0.0\n",
      "checkpoint directory created: ./model\n",
      "saving model version 0.0\n",
      "Successfully created and tested Model3\n"
     ]
    },
    {
     "name": "stderr",
     "output_type": "stream",
     "text": [
      "| train_loss: 1.63e-01 | eval_loss: 1.81e-01 | reg: 8.23e+01 |: 100%|█| 40/40 [01:20<00:00,  2.02s/i\n"
     ]
    },
    {
     "name": "stdout",
     "output_type": "stream",
     "text": [
      "saving model version 0.1\n",
      "Best epoch 39\n",
      "0.2526945173740387\n",
      "Testing 1 hidden neurons, lamb=1e-05, grid=4\n",
      "checkpoint directory created: ./model\n",
      "saving model version 0.0\n",
      "checkpoint directory created: ./model\n",
      "saving model version 0.0\n",
      "Successfully created and tested Model3\n"
     ]
    },
    {
     "name": "stderr",
     "output_type": "stream",
     "text": [
      "| train_loss: 1.44e-01 | eval_loss: 2.00e-01 | reg: 1.29e+02 |: 100%|█| 40/40 [01:21<00:00,  2.04s/i\n"
     ]
    },
    {
     "name": "stdout",
     "output_type": "stream",
     "text": [
      "saving model version 0.1\n",
      "Best epoch 32\n",
      "0.2312689870595932\n",
      "Testing 1 hidden neurons, lamb=1.0, grid=5\n",
      "checkpoint directory created: ./model\n",
      "saving model version 0.0\n",
      "checkpoint directory created: ./model\n",
      "saving model version 0.0\n",
      "Successfully created and tested Model3\n"
     ]
    },
    {
     "name": "stderr",
     "output_type": "stream",
     "text": [
      "| train_loss: 3.69e+00 | eval_loss: 2.90e+00 | reg: 2.19e+00 |: 100%|█| 40/40 [01:17<00:00,  1.94s/i\n"
     ]
    },
    {
     "name": "stdout",
     "output_type": "stream",
     "text": [
      "saving model version 0.1\n",
      "Best epoch 0\n",
      "3.0857467651367188\n",
      "Testing 1 hidden neurons, lamb=0.1, grid=5\n",
      "checkpoint directory created: ./model\n",
      "saving model version 0.0\n",
      "checkpoint directory created: ./model\n",
      "saving model version 0.0\n",
      "Successfully created and tested Model3\n"
     ]
    },
    {
     "name": "stderr",
     "output_type": "stream",
     "text": [
      "| train_loss: 1.57e+00 | eval_loss: 3.58e-01 | reg: 2.28e+01 |: 100%|█| 40/40 [01:17<00:00,  1.95s/i\n"
     ]
    },
    {
     "name": "stdout",
     "output_type": "stream",
     "text": [
      "saving model version 0.1\n",
      "Best epoch 39\n",
      "0.5175555348396301\n",
      "Testing 1 hidden neurons, lamb=0.01, grid=5\n",
      "checkpoint directory created: ./model\n",
      "saving model version 0.0\n",
      "checkpoint directory created: ./model\n",
      "saving model version 0.0\n",
      "Successfully created and tested Model3\n"
     ]
    },
    {
     "name": "stderr",
     "output_type": "stream",
     "text": [
      "| train_loss: 5.41e-01 | eval_loss: 2.01e-01 | reg: 2.51e+01 |: 100%|█| 40/40 [01:18<00:00,  1.96s/i\n"
     ]
    },
    {
     "name": "stdout",
     "output_type": "stream",
     "text": [
      "saving model version 0.1\n",
      "Best epoch 37\n",
      "0.28350111842155457\n",
      "Testing 1 hidden neurons, lamb=0.001, grid=5\n",
      "checkpoint directory created: ./model\n",
      "saving model version 0.0\n",
      "checkpoint directory created: ./model\n",
      "saving model version 0.0\n",
      "Successfully created and tested Model3\n"
     ]
    },
    {
     "name": "stderr",
     "output_type": "stream",
     "text": [
      "| train_loss: 2.26e-01 | eval_loss: 1.81e-01 | reg: 3.22e+01 |: 100%|█| 40/40 [01:24<00:00,  2.10s/i\n"
     ]
    },
    {
     "name": "stdout",
     "output_type": "stream",
     "text": [
      "saving model version 0.1\n",
      "Best epoch 39\n",
      "0.26543670892715454\n",
      "Testing 1 hidden neurons, lamb=0.0001, grid=5\n",
      "checkpoint directory created: ./model\n",
      "saving model version 0.0\n",
      "checkpoint directory created: ./model\n",
      "saving model version 0.0\n",
      "Successfully created and tested Model3\n"
     ]
    },
    {
     "name": "stderr",
     "output_type": "stream",
     "text": [
      "| train_loss: 1.54e-01 | eval_loss: 1.87e-01 | reg: 8.83e+01 |: 100%|█| 40/40 [01:23<00:00,  2.08s/i\n"
     ]
    },
    {
     "name": "stdout",
     "output_type": "stream",
     "text": [
      "saving model version 0.1\n",
      "Best epoch 32\n",
      "0.2585146725177765\n",
      "Testing 1 hidden neurons, lamb=1e-05, grid=5\n",
      "checkpoint directory created: ./model\n",
      "saving model version 0.0\n",
      "checkpoint directory created: ./model\n",
      "saving model version 0.0\n",
      "Successfully created and tested Model3\n"
     ]
    },
    {
     "name": "stderr",
     "output_type": "stream",
     "text": [
      "| train_loss: 1.28e-01 | eval_loss: 1.90e-01 | reg: 1.37e+02 |: 100%|█| 40/40 [01:24<00:00,  2.11s/i\n"
     ]
    },
    {
     "name": "stdout",
     "output_type": "stream",
     "text": [
      "saving model version 0.1\n",
      "Best epoch 30\n",
      "0.21210351586341858\n",
      "Testing 1 hidden neurons, lamb=1.0, grid=6\n",
      "checkpoint directory created: ./model\n",
      "saving model version 0.0\n",
      "checkpoint directory created: ./model\n",
      "saving model version 0.0\n",
      "Successfully created and tested Model3\n"
     ]
    },
    {
     "name": "stderr",
     "output_type": "stream",
     "text": [
      "| train_loss: 3.70e+00 | eval_loss: 2.89e+00 | reg: 2.33e+00 |: 100%|█| 40/40 [01:20<00:00,  2.00s/i\n"
     ]
    },
    {
     "name": "stdout",
     "output_type": "stream",
     "text": [
      "saving model version 0.1\n",
      "Best epoch 0\n",
      "3.056384563446045\n",
      "Testing 1 hidden neurons, lamb=0.1, grid=6\n",
      "checkpoint directory created: ./model\n",
      "saving model version 0.0\n",
      "checkpoint directory created: ./model\n",
      "saving model version 0.0\n",
      "Successfully created and tested Model3\n"
     ]
    },
    {
     "name": "stderr",
     "output_type": "stream",
     "text": [
      "| train_loss: 1.56e+00 | eval_loss: 3.68e-01 | reg: 2.26e+01 |: 100%|█| 40/40 [01:19<00:00,  1.99s/i\n"
     ]
    },
    {
     "name": "stdout",
     "output_type": "stream",
     "text": [
      "saving model version 0.1\n",
      "Best epoch 14\n",
      "0.5259497165679932\n",
      "Testing 1 hidden neurons, lamb=0.01, grid=6\n",
      "checkpoint directory created: ./model\n",
      "saving model version 0.0\n",
      "checkpoint directory created: ./model\n",
      "saving model version 0.0\n",
      "Successfully created and tested Model3\n"
     ]
    },
    {
     "name": "stderr",
     "output_type": "stream",
     "text": [
      "| train_loss: 5.31e-01 | eval_loss: 2.03e-01 | reg: 2.42e+01 |: 100%|█| 40/40 [01:20<00:00,  2.02s/i\n"
     ]
    },
    {
     "name": "stdout",
     "output_type": "stream",
     "text": [
      "saving model version 0.1\n",
      "Best epoch 37\n",
      "0.28907787799835205\n",
      "Testing 1 hidden neurons, lamb=0.001, grid=6\n",
      "checkpoint directory created: ./model\n",
      "saving model version 0.0\n",
      "checkpoint directory created: ./model\n",
      "saving model version 0.0\n",
      "Successfully created and tested Model3\n"
     ]
    },
    {
     "name": "stderr",
     "output_type": "stream",
     "text": [
      "| train_loss: 2.18e-01 | eval_loss: 1.92e-01 | reg: 3.26e+01 |: 100%|█| 40/40 [01:25<00:00,  2.13s/i\n"
     ]
    },
    {
     "name": "stdout",
     "output_type": "stream",
     "text": [
      "saving model version 0.1\n",
      "Best epoch 24\n",
      "0.24709144234657288\n",
      "Testing 1 hidden neurons, lamb=0.0001, grid=6\n",
      "checkpoint directory created: ./model\n",
      "saving model version 0.0\n",
      "checkpoint directory created: ./model\n",
      "saving model version 0.0\n",
      "Successfully created and tested Model3\n"
     ]
    },
    {
     "name": "stderr",
     "output_type": "stream",
     "text": [
      "| train_loss: 1.43e-01 | eval_loss: 1.75e-01 | reg: 7.14e+01 |: 100%|█| 40/40 [01:24<00:00,  2.11s/i\n"
     ]
    },
    {
     "name": "stdout",
     "output_type": "stream",
     "text": [
      "saving model version 0.1\n",
      "Best epoch 33\n",
      "0.22014334797859192\n",
      "Testing 1 hidden neurons, lamb=1e-05, grid=6\n",
      "checkpoint directory created: ./model\n",
      "saving model version 0.0\n",
      "checkpoint directory created: ./model\n",
      "saving model version 0.0\n",
      "Successfully created and tested Model3\n"
     ]
    },
    {
     "name": "stderr",
     "output_type": "stream",
     "text": [
      "| train_loss: 1.20e-01 | eval_loss: 1.90e-01 | reg: 9.40e+01 |: 100%|█| 40/40 [01:24<00:00,  2.11s/i\n"
     ]
    },
    {
     "name": "stdout",
     "output_type": "stream",
     "text": [
      "saving model version 0.1\n",
      "Best epoch 26\n",
      "0.22597526013851166\n",
      "Testing 1 hidden neurons, lamb=1.0, grid=7\n",
      "checkpoint directory created: ./model\n",
      "saving model version 0.0\n",
      "checkpoint directory created: ./model\n",
      "saving model version 0.0\n",
      "Successfully created and tested Model3\n"
     ]
    },
    {
     "name": "stderr",
     "output_type": "stream",
     "text": [
      "| train_loss: 3.76e+00 | eval_loss: 2.65e+00 | reg: 4.33e+00 |: 100%|█| 40/40 [01:21<00:00,  2.04s/i\n"
     ]
    },
    {
     "name": "stdout",
     "output_type": "stream",
     "text": [
      "saving model version 0.1\n",
      "Best epoch 16\n",
      "3.0563573837280273\n",
      "Testing 1 hidden neurons, lamb=0.1, grid=7\n",
      "checkpoint directory created: ./model\n",
      "saving model version 0.0\n",
      "checkpoint directory created: ./model\n",
      "saving model version 0.0\n",
      "Successfully created and tested Model3\n"
     ]
    },
    {
     "name": "stderr",
     "output_type": "stream",
     "text": [
      "| train_loss: 1.56e+00 | eval_loss: 3.55e-01 | reg: 2.27e+01 |: 100%|█| 40/40 [01:21<00:00,  2.04s/i\n"
     ]
    },
    {
     "name": "stdout",
     "output_type": "stream",
     "text": [
      "saving model version 0.1\n",
      "Best epoch 39\n",
      "0.5188037157058716\n",
      "Testing 1 hidden neurons, lamb=0.01, grid=7\n",
      "checkpoint directory created: ./model\n",
      "saving model version 0.0\n",
      "checkpoint directory created: ./model\n",
      "saving model version 0.0\n",
      "Successfully created and tested Model3\n"
     ]
    },
    {
     "name": "stderr",
     "output_type": "stream",
     "text": [
      "| train_loss: 5.34e-01 | eval_loss: 2.00e-01 | reg: 2.46e+01 |: 100%|█| 40/40 [01:22<00:00,  2.07s/i\n"
     ]
    },
    {
     "name": "stdout",
     "output_type": "stream",
     "text": [
      "saving model version 0.1\n",
      "Best epoch 39\n",
      "0.28507792949676514\n",
      "Testing 1 hidden neurons, lamb=0.001, grid=7\n",
      "checkpoint directory created: ./model\n",
      "saving model version 0.0\n",
      "checkpoint directory created: ./model\n",
      "saving model version 0.0\n",
      "Successfully created and tested Model3\n"
     ]
    },
    {
     "name": "stderr",
     "output_type": "stream",
     "text": [
      "| train_loss: 2.15e-01 | eval_loss: 1.71e-01 | reg: 3.23e+01 |: 100%|█| 40/40 [01:27<00:00,  2.18s/i\n"
     ]
    },
    {
     "name": "stdout",
     "output_type": "stream",
     "text": [
      "saving model version 0.1\n",
      "Best epoch 38\n",
      "0.2618795931339264\n",
      "Testing 1 hidden neurons, lamb=0.0001, grid=7\n",
      "checkpoint directory created: ./model\n",
      "saving model version 0.0\n",
      "checkpoint directory created: ./model\n",
      "saving model version 0.0\n",
      "Successfully created and tested Model3\n"
     ]
    },
    {
     "name": "stderr",
     "output_type": "stream",
     "text": [
      "| train_loss: 1.38e-01 | eval_loss: 1.65e-01 | reg: 8.48e+01 |: 100%|█| 40/40 [01:25<00:00,  2.14s/i\n"
     ]
    },
    {
     "name": "stdout",
     "output_type": "stream",
     "text": [
      "saving model version 0.1\n",
      "Best epoch 38\n",
      "0.2426527887582779\n",
      "Testing 1 hidden neurons, lamb=1e-05, grid=7\n",
      "checkpoint directory created: ./model\n",
      "saving model version 0.0\n",
      "checkpoint directory created: ./model\n",
      "saving model version 0.0\n",
      "Successfully created and tested Model3\n"
     ]
    },
    {
     "name": "stderr",
     "output_type": "stream",
     "text": [
      "| train_loss: 1.15e-01 | eval_loss: 1.86e-01 | reg: 9.88e+01 |: 100%|█| 40/40 [01:24<00:00,  2.12s/i\n"
     ]
    },
    {
     "name": "stdout",
     "output_type": "stream",
     "text": [
      "saving model version 0.1\n",
      "Best epoch 27\n",
      "0.23800905048847198\n",
      "Testing 1 hidden neurons, lamb=1.0, grid=8\n",
      "checkpoint directory created: ./model\n",
      "saving model version 0.0\n",
      "checkpoint directory created: ./model\n",
      "saving model version 0.0\n",
      "Successfully created and tested Model3\n"
     ]
    },
    {
     "name": "stderr",
     "output_type": "stream",
     "text": [
      "| train_loss: 3.68e+00 | eval_loss: 2.80e+00 | reg: 2.81e+00 |: 100%|█| 40/40 [01:24<00:00,  2.12s/i\n"
     ]
    },
    {
     "name": "stdout",
     "output_type": "stream",
     "text": [
      "saving model version 0.1\n",
      "Best epoch 0\n",
      "3.080634117126465\n",
      "Testing 1 hidden neurons, lamb=0.1, grid=8\n",
      "checkpoint directory created: ./model\n",
      "saving model version 0.0\n",
      "checkpoint directory created: ./model\n",
      "saving model version 0.0\n",
      "Successfully created and tested Model3\n"
     ]
    },
    {
     "name": "stderr",
     "output_type": "stream",
     "text": [
      "| train_loss: 1.58e+00 | eval_loss: 3.58e-01 | reg: 2.32e+01 |: 100%|█| 40/40 [01:25<00:00,  2.14s/i\n"
     ]
    },
    {
     "name": "stdout",
     "output_type": "stream",
     "text": [
      "saving model version 0.1\n",
      "Best epoch 39\n",
      "0.5171948671340942\n",
      "Testing 1 hidden neurons, lamb=0.01, grid=8\n",
      "checkpoint directory created: ./model\n",
      "saving model version 0.0\n",
      "checkpoint directory created: ./model\n",
      "saving model version 0.0\n",
      "Successfully created and tested Model3\n"
     ]
    },
    {
     "name": "stderr",
     "output_type": "stream",
     "text": [
      "| train_loss: 5.40e-01 | eval_loss: 2.08e-01 | reg: 2.49e+01 |: 100%|█| 40/40 [01:25<00:00,  2.13s/i\n"
     ]
    },
    {
     "name": "stdout",
     "output_type": "stream",
     "text": [
      "saving model version 0.1\n",
      "Best epoch 39\n",
      "0.2876339256763458\n",
      "Testing 1 hidden neurons, lamb=0.001, grid=8\n",
      "checkpoint directory created: ./model\n",
      "saving model version 0.0\n",
      "checkpoint directory created: ./model\n",
      "saving model version 0.0\n",
      "Successfully created and tested Model3\n"
     ]
    },
    {
     "name": "stderr",
     "output_type": "stream",
     "text": [
      "| train_loss: 2.17e-01 | eval_loss: 1.80e-01 | reg: 3.31e+01 |: 100%|█| 40/40 [01:29<00:00,  2.23s/i\n"
     ]
    },
    {
     "name": "stdout",
     "output_type": "stream",
     "text": [
      "saving model version 0.1\n",
      "Best epoch 26\n",
      "0.2542000710964203\n",
      "Testing 1 hidden neurons, lamb=0.0001, grid=8\n",
      "checkpoint directory created: ./model\n",
      "saving model version 0.0\n",
      "checkpoint directory created: ./model\n",
      "saving model version 0.0\n",
      "Successfully created and tested Model3\n"
     ]
    },
    {
     "name": "stderr",
     "output_type": "stream",
     "text": [
      "| train_loss: 1.32e-01 | eval_loss: 1.87e-01 | reg: 8.89e+01 |: 100%|█| 40/40 [01:28<00:00,  2.22s/i\n"
     ]
    },
    {
     "name": "stdout",
     "output_type": "stream",
     "text": [
      "saving model version 0.1\n",
      "Best epoch 34\n",
      "0.23603874444961548\n",
      "Testing 1 hidden neurons, lamb=1e-05, grid=8\n",
      "checkpoint directory created: ./model\n",
      "saving model version 0.0\n",
      "checkpoint directory created: ./model\n",
      "saving model version 0.0\n",
      "Successfully created and tested Model3\n"
     ]
    },
    {
     "name": "stderr",
     "output_type": "stream",
     "text": [
      "| train_loss: 9.38e-02 | eval_loss: 2.01e-01 | reg: 9.93e+01 |: 100%|█| 40/40 [01:29<00:00,  2.23s/i\n"
     ]
    },
    {
     "name": "stdout",
     "output_type": "stream",
     "text": [
      "saving model version 0.1\n",
      "Best epoch 22\n",
      "0.23505041003227234\n",
      "Testing 2 hidden neurons, lamb=1.0, grid=3\n",
      "checkpoint directory created: ./model\n",
      "saving model version 0.0\n",
      "checkpoint directory created: ./model\n",
      "saving model version 0.0\n",
      "Successfully created and tested Model3\n"
     ]
    },
    {
     "name": "stderr",
     "output_type": "stream",
     "text": [
      "| train_loss: 3.72e+00 | eval_loss: 2.60e+00 | reg: 4.39e+00 |: 100%|█| 40/40 [01:13<00:00,  1.84s/i\n"
     ]
    },
    {
     "name": "stdout",
     "output_type": "stream",
     "text": [
      "saving model version 0.1\n",
      "Best epoch 21\n",
      "3.007385492324829\n",
      "Testing 2 hidden neurons, lamb=0.1, grid=3\n",
      "checkpoint directory created: ./model\n",
      "saving model version 0.0\n",
      "checkpoint directory created: ./model\n",
      "saving model version 0.0\n",
      "Successfully created and tested Model3\n"
     ]
    },
    {
     "name": "stderr",
     "output_type": "stream",
     "text": [
      "| train_loss: 1.53e+00 | eval_loss: 3.62e-01 | reg: 2.18e+01 |: 100%|█| 40/40 [01:13<00:00,  1.83s/i\n"
     ]
    },
    {
     "name": "stdout",
     "output_type": "stream",
     "text": [
      "saving model version 0.1\n",
      "Best epoch 21\n",
      "0.5122784376144409\n",
      "Testing 2 hidden neurons, lamb=0.01, grid=3\n",
      "checkpoint directory created: ./model\n",
      "saving model version 0.0\n",
      "checkpoint directory created: ./model\n",
      "saving model version 0.0\n",
      "Successfully created and tested Model3\n"
     ]
    },
    {
     "name": "stderr",
     "output_type": "stream",
     "text": [
      "| train_loss: 5.36e-01 | eval_loss: 2.10e-01 | reg: 2.43e+01 |: 100%|█| 40/40 [01:14<00:00,  1.86s/i\n"
     ]
    },
    {
     "name": "stdout",
     "output_type": "stream",
     "text": [
      "saving model version 0.1\n",
      "Best epoch 39\n",
      "0.29224488139152527\n",
      "Testing 2 hidden neurons, lamb=0.001, grid=3\n",
      "checkpoint directory created: ./model\n",
      "saving model version 0.0\n",
      "checkpoint directory created: ./model\n",
      "saving model version 0.0\n",
      "Successfully created and tested Model3\n"
     ]
    },
    {
     "name": "stderr",
     "output_type": "stream",
     "text": [
      "| train_loss: 2.30e-01 | eval_loss: 1.78e-01 | reg: 3.00e+01 |: 100%|█| 40/40 [01:18<00:00,  1.96s/i\n"
     ]
    },
    {
     "name": "stdout",
     "output_type": "stream",
     "text": [
      "saving model version 0.1\n",
      "Best epoch 39\n",
      "0.2511485815048218\n",
      "Testing 2 hidden neurons, lamb=0.0001, grid=3\n",
      "checkpoint directory created: ./model\n",
      "saving model version 0.0\n",
      "checkpoint directory created: ./model\n",
      "saving model version 0.0\n",
      "Successfully created and tested Model3\n"
     ]
    },
    {
     "name": "stderr",
     "output_type": "stream",
     "text": [
      "| train_loss: 1.75e-01 | eval_loss: 1.89e-01 | reg: 6.75e+01 |: 100%|█| 40/40 [01:20<00:00,  2.00s/i\n"
     ]
    },
    {
     "name": "stdout",
     "output_type": "stream",
     "text": [
      "saving model version 0.1\n",
      "Best epoch 34\n",
      "0.2550356090068817\n",
      "Testing 2 hidden neurons, lamb=1e-05, grid=3\n",
      "checkpoint directory created: ./model\n",
      "saving model version 0.0\n",
      "checkpoint directory created: ./model\n",
      "saving model version 0.0\n",
      "Successfully created and tested Model3\n"
     ]
    },
    {
     "name": "stderr",
     "output_type": "stream",
     "text": [
      "| train_loss: 1.57e-01 | eval_loss: 1.86e-01 | reg: 1.00e+02 |: 100%|█| 40/40 [01:19<00:00,  1.99s/i\n"
     ]
    },
    {
     "name": "stdout",
     "output_type": "stream",
     "text": [
      "saving model version 0.1\n",
      "Best epoch 38\n",
      "0.23781849443912506\n",
      "Testing 2 hidden neurons, lamb=1.0, grid=4\n",
      "checkpoint directory created: ./model\n",
      "saving model version 0.0\n",
      "checkpoint directory created: ./model\n",
      "saving model version 0.0\n",
      "Successfully created and tested Model3\n"
     ]
    },
    {
     "name": "stderr",
     "output_type": "stream",
     "text": [
      "| train_loss: 3.78e+00 | eval_loss: 2.80e+00 | reg: 3.57e+00 |: 100%|█| 40/40 [01:16<00:00,  1.90s/i\n"
     ]
    },
    {
     "name": "stdout",
     "output_type": "stream",
     "text": [
      "saving model version 0.1\n",
      "Best epoch 0\n",
      "3.0793826580047607\n",
      "Testing 2 hidden neurons, lamb=0.1, grid=4\n",
      "checkpoint directory created: ./model\n",
      "saving model version 0.0\n",
      "checkpoint directory created: ./model\n",
      "saving model version 0.0\n",
      "Successfully created and tested Model3\n"
     ]
    },
    {
     "name": "stderr",
     "output_type": "stream",
     "text": [
      "| train_loss: 1.54e+00 | eval_loss: 3.49e-01 | reg: 2.21e+01 |: 100%|█| 40/40 [01:16<00:00,  1.92s/i\n"
     ]
    },
    {
     "name": "stdout",
     "output_type": "stream",
     "text": [
      "saving model version 0.1\n",
      "Best epoch 39\n",
      "0.5108949542045593\n",
      "Testing 2 hidden neurons, lamb=0.01, grid=4\n",
      "checkpoint directory created: ./model\n",
      "saving model version 0.0\n",
      "checkpoint directory created: ./model\n",
      "saving model version 0.0\n",
      "Successfully created and tested Model3\n"
     ]
    },
    {
     "name": "stderr",
     "output_type": "stream",
     "text": [
      "| train_loss: 5.25e-01 | eval_loss: 2.02e-01 | reg: 2.35e+01 |: 100%|█| 40/40 [01:16<00:00,  1.92s/i\n"
     ]
    },
    {
     "name": "stdout",
     "output_type": "stream",
     "text": [
      "saving model version 0.1\n",
      "Best epoch 37\n",
      "0.28063732385635376\n",
      "Testing 2 hidden neurons, lamb=0.001, grid=4\n",
      "checkpoint directory created: ./model\n",
      "saving model version 0.0\n",
      "checkpoint directory created: ./model\n",
      "saving model version 0.0\n",
      "Successfully created and tested Model3\n"
     ]
    },
    {
     "name": "stderr",
     "output_type": "stream",
     "text": [
      "| train_loss: 2.27e-01 | eval_loss: 1.74e-01 | reg: 3.24e+01 |: 100%|█| 40/40 [01:21<00:00,  2.05s/i\n"
     ]
    },
    {
     "name": "stdout",
     "output_type": "stream",
     "text": [
      "saving model version 0.1\n",
      "Best epoch 36\n",
      "0.24347025156021118\n",
      "Testing 2 hidden neurons, lamb=0.0001, grid=4\n",
      "checkpoint directory created: ./model\n",
      "saving model version 0.0\n",
      "checkpoint directory created: ./model\n",
      "saving model version 0.0\n",
      "Successfully created and tested Model3\n"
     ]
    },
    {
     "name": "stderr",
     "output_type": "stream",
     "text": [
      "| train_loss: 1.62e-01 | eval_loss: 1.86e-01 | reg: 8.30e+01 |: 100%|█| 40/40 [01:20<00:00,  2.02s/i\n"
     ]
    },
    {
     "name": "stdout",
     "output_type": "stream",
     "text": [
      "saving model version 0.1\n",
      "Best epoch 39\n",
      "0.2523078918457031\n",
      "Testing 2 hidden neurons, lamb=1e-05, grid=4\n",
      "checkpoint directory created: ./model\n",
      "saving model version 0.0\n",
      "checkpoint directory created: ./model\n",
      "saving model version 0.0\n",
      "Successfully created and tested Model3\n"
     ]
    },
    {
     "name": "stderr",
     "output_type": "stream",
     "text": [
      "| train_loss: 1.40e-01 | eval_loss: 1.83e-01 | reg: 1.19e+02 |: 100%|█| 40/40 [01:21<00:00,  2.03s/i\n"
     ]
    },
    {
     "name": "stdout",
     "output_type": "stream",
     "text": [
      "saving model version 0.1\n",
      "Best epoch 34\n",
      "0.2526470720767975\n",
      "Testing 2 hidden neurons, lamb=1.0, grid=5\n",
      "checkpoint directory created: ./model\n",
      "saving model version 0.0\n",
      "checkpoint directory created: ./model\n",
      "saving model version 0.0\n",
      "Successfully created and tested Model3\n"
     ]
    },
    {
     "name": "stderr",
     "output_type": "stream",
     "text": [
      "| train_loss: 3.77e+00 | eval_loss: 2.69e+00 | reg: 4.19e+00 |: 100%|█| 40/40 [01:18<00:00,  1.97s/i\n"
     ]
    },
    {
     "name": "stdout",
     "output_type": "stream",
     "text": [
      "saving model version 0.1\n",
      "Best epoch 0\n",
      "3.024312734603882\n",
      "Testing 2 hidden neurons, lamb=0.1, grid=5\n",
      "checkpoint directory created: ./model\n",
      "saving model version 0.0\n",
      "checkpoint directory created: ./model\n",
      "saving model version 0.0\n",
      "Successfully created and tested Model3\n"
     ]
    },
    {
     "name": "stderr",
     "output_type": "stream",
     "text": [
      "| train_loss: 1.52e+00 | eval_loss: 3.52e-01 | reg: 2.15e+01 |: 100%|█| 40/40 [01:18<00:00,  1.97s/i\n"
     ]
    },
    {
     "name": "stdout",
     "output_type": "stream",
     "text": [
      "saving model version 0.1\n",
      "Best epoch 39\n",
      "0.5149192214012146\n",
      "Testing 2 hidden neurons, lamb=0.01, grid=5\n",
      "checkpoint directory created: ./model\n",
      "saving model version 0.0\n",
      "checkpoint directory created: ./model\n",
      "saving model version 0.0\n",
      "Successfully created and tested Model3\n"
     ]
    },
    {
     "name": "stderr",
     "output_type": "stream",
     "text": [
      "| train_loss: 5.18e-01 | eval_loss: 1.96e-01 | reg: 2.29e+01 |: 100%|█| 40/40 [01:19<00:00,  1.98s/i\n"
     ]
    },
    {
     "name": "stdout",
     "output_type": "stream",
     "text": [
      "saving model version 0.1\n",
      "Best epoch 39\n",
      "0.2816965878009796\n",
      "Testing 2 hidden neurons, lamb=0.001, grid=5\n",
      "checkpoint directory created: ./model\n",
      "saving model version 0.0\n",
      "checkpoint directory created: ./model\n",
      "saving model version 0.0\n",
      "Successfully created and tested Model3\n"
     ]
    },
    {
     "name": "stderr",
     "output_type": "stream",
     "text": [
      "| train_loss: 2.32e-01 | eval_loss: 1.71e-01 | reg: 3.34e+01 |: 100%|█| 40/40 [01:24<00:00,  2.12s/i\n"
     ]
    },
    {
     "name": "stdout",
     "output_type": "stream",
     "text": [
      "saving model version 0.1\n",
      "Best epoch 39\n",
      "0.24396657943725586\n",
      "Testing 2 hidden neurons, lamb=0.0001, grid=5\n",
      "checkpoint directory created: ./model\n",
      "saving model version 0.0\n",
      "checkpoint directory created: ./model\n",
      "saving model version 0.0\n",
      "Successfully created and tested Model3\n"
     ]
    },
    {
     "name": "stderr",
     "output_type": "stream",
     "text": [
      "| train_loss: 1.57e-01 | eval_loss: 1.73e-01 | reg: 8.95e+01 |: 100%|█| 40/40 [01:24<00:00,  2.11s/i\n"
     ]
    },
    {
     "name": "stdout",
     "output_type": "stream",
     "text": [
      "saving model version 0.1\n",
      "Best epoch 39\n",
      "0.25351855158805847\n",
      "Testing 2 hidden neurons, lamb=1e-05, grid=5\n",
      "checkpoint directory created: ./model\n",
      "saving model version 0.0\n",
      "checkpoint directory created: ./model\n",
      "saving model version 0.0\n",
      "Successfully created and tested Model3\n"
     ]
    },
    {
     "name": "stderr",
     "output_type": "stream",
     "text": [
      "| train_loss: 1.37e-01 | eval_loss: 1.75e-01 | reg: 1.06e+02 |: 100%|█| 40/40 [01:23<00:00,  2.10s/i\n"
     ]
    },
    {
     "name": "stdout",
     "output_type": "stream",
     "text": [
      "saving model version 0.1\n",
      "Best epoch 39\n",
      "0.23162870109081268\n",
      "Testing 2 hidden neurons, lamb=1.0, grid=6\n",
      "checkpoint directory created: ./model\n",
      "saving model version 0.0\n",
      "checkpoint directory created: ./model\n",
      "saving model version 0.0\n",
      "Successfully created and tested Model3\n"
     ]
    },
    {
     "name": "stderr",
     "output_type": "stream",
     "text": [
      "| train_loss: 3.78e+00 | eval_loss: 2.76e+00 | reg: 3.84e+00 |: 100%|█| 40/40 [01:17<00:00,  1.93s/i\n"
     ]
    },
    {
     "name": "stdout",
     "output_type": "stream",
     "text": [
      "saving model version 0.1\n",
      "Best epoch 0\n",
      "3.066338539123535\n",
      "Testing 2 hidden neurons, lamb=0.1, grid=6\n",
      "checkpoint directory created: ./model\n",
      "saving model version 0.0\n",
      "checkpoint directory created: ./model\n",
      "saving model version 0.0\n",
      "Successfully created and tested Model3\n"
     ]
    },
    {
     "name": "stderr",
     "output_type": "stream",
     "text": [
      "| train_loss: 1.51e+00 | eval_loss: 3.36e-01 | reg: 2.13e+01 |: 100%|█| 40/40 [01:20<00:00,  2.00s/i\n"
     ]
    },
    {
     "name": "stdout",
     "output_type": "stream",
     "text": [
      "saving model version 0.1\n",
      "Best epoch 39\n",
      "0.5026146173477173\n",
      "Testing 2 hidden neurons, lamb=0.01, grid=6\n",
      "checkpoint directory created: ./model\n",
      "saving model version 0.0\n",
      "checkpoint directory created: ./model\n",
      "saving model version 0.0\n",
      "Successfully created and tested Model3\n"
     ]
    },
    {
     "name": "stderr",
     "output_type": "stream",
     "text": [
      "| train_loss: 5.20e-01 | eval_loss: 2.01e-01 | reg: 2.32e+01 |: 100%|█| 40/40 [01:21<00:00,  2.03s/i\n"
     ]
    },
    {
     "name": "stdout",
     "output_type": "stream",
     "text": [
      "saving model version 0.1\n",
      "Best epoch 34\n",
      "0.2796619236469269\n",
      "Testing 2 hidden neurons, lamb=0.001, grid=6\n",
      "checkpoint directory created: ./model\n",
      "saving model version 0.0\n",
      "checkpoint directory created: ./model\n",
      "saving model version 0.0\n",
      "Successfully created and tested Model3\n"
     ]
    },
    {
     "name": "stderr",
     "output_type": "stream",
     "text": [
      "| train_loss: 2.16e-01 | eval_loss: 1.64e-01 | reg: 3.39e+01 |: 100%|█| 40/40 [01:24<00:00,  2.12s/i\n"
     ]
    },
    {
     "name": "stdout",
     "output_type": "stream",
     "text": [
      "saving model version 0.1\n",
      "Best epoch 37\n",
      "0.26116645336151123\n",
      "Testing 2 hidden neurons, lamb=0.0001, grid=6\n",
      "checkpoint directory created: ./model\n",
      "saving model version 0.0\n",
      "checkpoint directory created: ./model\n",
      "saving model version 0.0\n",
      "Successfully created and tested Model3\n"
     ]
    },
    {
     "name": "stderr",
     "output_type": "stream",
     "text": [
      "| train_loss: 1.41e-01 | eval_loss: 1.70e-01 | reg: 8.17e+01 |: 100%|█| 40/40 [01:24<00:00,  2.12s/i\n"
     ]
    },
    {
     "name": "stdout",
     "output_type": "stream",
     "text": [
      "saving model version 0.1\n",
      "Best epoch 35\n",
      "0.24631188809871674\n",
      "Testing 2 hidden neurons, lamb=1e-05, grid=6\n",
      "checkpoint directory created: ./model\n",
      "saving model version 0.0\n",
      "checkpoint directory created: ./model\n",
      "saving model version 0.0\n",
      "Successfully created and tested Model3\n"
     ]
    },
    {
     "name": "stderr",
     "output_type": "stream",
     "text": [
      "| train_loss: 1.20e-01 | eval_loss: 1.92e-01 | reg: 1.10e+02 |: 100%|█| 40/40 [01:25<00:00,  2.14s/i\n"
     ]
    },
    {
     "name": "stdout",
     "output_type": "stream",
     "text": [
      "saving model version 0.1\n",
      "Best epoch 24\n",
      "0.2264695018529892\n",
      "Testing 2 hidden neurons, lamb=1.0, grid=7\n",
      "checkpoint directory created: ./model\n",
      "saving model version 0.0\n",
      "checkpoint directory created: ./model\n",
      "saving model version 0.0\n",
      "Successfully created and tested Model3\n"
     ]
    },
    {
     "name": "stderr",
     "output_type": "stream",
     "text": [
      "| train_loss: 3.71e+00 | eval_loss: 2.76e+00 | reg: 3.29e+00 |: 100%|█| 40/40 [01:24<00:00,  2.12s/i\n"
     ]
    },
    {
     "name": "stdout",
     "output_type": "stream",
     "text": [
      "saving model version 0.1\n",
      "Best epoch 0\n",
      "3.0834128856658936\n",
      "Testing 2 hidden neurons, lamb=0.1, grid=7\n",
      "checkpoint directory created: ./model\n",
      "saving model version 0.0\n",
      "checkpoint directory created: ./model\n",
      "saving model version 0.0\n",
      "Successfully created and tested Model3\n"
     ]
    },
    {
     "name": "stderr",
     "output_type": "stream",
     "text": [
      "| train_loss: 1.53e+00 | eval_loss: 3.46e-01 | reg: 2.19e+01 |: 100%|█| 40/40 [01:21<00:00,  2.04s/i\n"
     ]
    },
    {
     "name": "stdout",
     "output_type": "stream",
     "text": [
      "saving model version 0.1\n",
      "Best epoch 39\n",
      "0.5131946802139282\n",
      "Testing 2 hidden neurons, lamb=0.01, grid=7\n",
      "checkpoint directory created: ./model\n",
      "saving model version 0.0\n",
      "checkpoint directory created: ./model\n",
      "saving model version 0.0\n",
      "Successfully created and tested Model3\n"
     ]
    },
    {
     "name": "stderr",
     "output_type": "stream",
     "text": [
      "| train_loss: 5.25e-01 | eval_loss: 2.04e-01 | reg: 2.36e+01 |: 100%|█| 40/40 [01:22<00:00,  2.07s/i\n"
     ]
    },
    {
     "name": "stdout",
     "output_type": "stream",
     "text": [
      "saving model version 0.1\n",
      "Best epoch 37\n",
      "0.29159051179885864\n",
      "Testing 2 hidden neurons, lamb=0.001, grid=7\n",
      "checkpoint directory created: ./model\n",
      "saving model version 0.0\n",
      "checkpoint directory created: ./model\n",
      "saving model version 0.0\n",
      "Successfully created and tested Model3\n"
     ]
    },
    {
     "name": "stderr",
     "output_type": "stream",
     "text": [
      "| train_loss: 2.16e-01 | eval_loss: 1.74e-01 | reg: 3.29e+01 |: 100%|█| 40/40 [01:28<00:00,  2.20s/i\n"
     ]
    },
    {
     "name": "stdout",
     "output_type": "stream",
     "text": [
      "saving model version 0.1\n",
      "Best epoch 29\n",
      "0.24319221079349518\n",
      "Testing 2 hidden neurons, lamb=0.0001, grid=7\n",
      "checkpoint directory created: ./model\n",
      "saving model version 0.0\n",
      "checkpoint directory created: ./model\n",
      "saving model version 0.0\n",
      "Successfully created and tested Model3\n"
     ]
    },
    {
     "name": "stderr",
     "output_type": "stream",
     "text": [
      "| train_loss: 1.44e-01 | eval_loss: 1.83e-01 | reg: 7.47e+01 |: 100%|█| 40/40 [01:27<00:00,  2.19s/i\n"
     ]
    },
    {
     "name": "stdout",
     "output_type": "stream",
     "text": [
      "saving model version 0.1\n",
      "Best epoch 35\n",
      "0.24193622171878815\n",
      "Testing 2 hidden neurons, lamb=1e-05, grid=7\n",
      "checkpoint directory created: ./model\n",
      "saving model version 0.0\n",
      "checkpoint directory created: ./model\n",
      "saving model version 0.0\n",
      "Successfully created and tested Model3\n"
     ]
    },
    {
     "name": "stderr",
     "output_type": "stream",
     "text": [
      "| train_loss: 1.13e-01 | eval_loss: 1.89e-01 | reg: 1.11e+02 |: 100%|█| 40/40 [01:28<00:00,  2.20s/i\n"
     ]
    },
    {
     "name": "stdout",
     "output_type": "stream",
     "text": [
      "saving model version 0.1\n",
      "Best epoch 39\n",
      "0.23763994872570038\n",
      "Testing 2 hidden neurons, lamb=1.0, grid=8\n",
      "checkpoint directory created: ./model\n",
      "saving model version 0.0\n",
      "checkpoint directory created: ./model\n",
      "saving model version 0.0\n",
      "Successfully created and tested Model3\n"
     ]
    },
    {
     "name": "stderr",
     "output_type": "stream",
     "text": [
      "| train_loss: 3.76e+00 | eval_loss: 2.79e+00 | reg: 3.45e+00 |: 100%|█| 40/40 [01:24<00:00,  2.11s/i\n"
     ]
    },
    {
     "name": "stdout",
     "output_type": "stream",
     "text": [
      "saving model version 0.1\n",
      "Best epoch 0\n",
      "3.067426919937134\n",
      "Testing 2 hidden neurons, lamb=0.1, grid=8\n",
      "checkpoint directory created: ./model\n",
      "saving model version 0.0\n",
      "checkpoint directory created: ./model\n",
      "saving model version 0.0\n",
      "Successfully created and tested Model3\n"
     ]
    },
    {
     "name": "stderr",
     "output_type": "stream",
     "text": [
      "| train_loss: 1.52e+00 | eval_loss: 3.61e-01 | reg: 2.14e+01 |: 100%|█| 40/40 [01:24<00:00,  2.11s/i\n"
     ]
    },
    {
     "name": "stdout",
     "output_type": "stream",
     "text": [
      "saving model version 0.1\n",
      "Best epoch 29\n",
      "0.5132119059562683\n",
      "Testing 2 hidden neurons, lamb=0.01, grid=8\n",
      "checkpoint directory created: ./model\n",
      "saving model version 0.0\n",
      "checkpoint directory created: ./model\n",
      "saving model version 0.0\n",
      "Successfully created and tested Model3\n"
     ]
    },
    {
     "name": "stderr",
     "output_type": "stream",
     "text": [
      "| train_loss: 5.22e-01 | eval_loss: 1.92e-01 | reg: 2.35e+01 |: 100%|█| 40/40 [01:24<00:00,  2.11s/i\n"
     ]
    },
    {
     "name": "stdout",
     "output_type": "stream",
     "text": [
      "saving model version 0.1\n",
      "Best epoch 39\n",
      "0.28275159001350403\n",
      "Testing 2 hidden neurons, lamb=0.001, grid=8\n",
      "checkpoint directory created: ./model\n",
      "saving model version 0.0\n",
      "checkpoint directory created: ./model\n",
      "saving model version 0.0\n",
      "Successfully created and tested Model3\n"
     ]
    },
    {
     "name": "stderr",
     "output_type": "stream",
     "text": [
      "| train_loss: 2.07e-01 | eval_loss: 1.66e-01 | reg: 3.40e+01 |: 100%|█| 40/40 [01:31<00:00,  2.29s/i\n"
     ]
    },
    {
     "name": "stdout",
     "output_type": "stream",
     "text": [
      "saving model version 0.1\n",
      "Best epoch 39\n",
      "0.26348331570625305\n",
      "Testing 2 hidden neurons, lamb=0.0001, grid=8\n",
      "checkpoint directory created: ./model\n",
      "saving model version 0.0\n",
      "checkpoint directory created: ./model\n",
      "saving model version 0.0\n",
      "Successfully created and tested Model3\n"
     ]
    },
    {
     "name": "stderr",
     "output_type": "stream",
     "text": [
      "| train_loss: 1.25e-01 | eval_loss: 1.87e-01 | reg: 6.89e+01 |: 100%|█| 40/40 [01:31<00:00,  2.30s/i\n"
     ]
    },
    {
     "name": "stdout",
     "output_type": "stream",
     "text": [
      "saving model version 0.1\n",
      "Best epoch 24\n",
      "0.23081430792808533\n",
      "Testing 2 hidden neurons, lamb=1e-05, grid=8\n",
      "checkpoint directory created: ./model\n",
      "saving model version 0.0\n",
      "checkpoint directory created: ./model\n",
      "saving model version 0.0\n",
      "Successfully created and tested Model3\n"
     ]
    },
    {
     "name": "stderr",
     "output_type": "stream",
     "text": [
      "| train_loss: 1.04e-01 | eval_loss: 1.96e-01 | reg: 1.27e+02 |: 100%|█| 40/40 [01:30<00:00,  2.27s/i\n"
     ]
    },
    {
     "name": "stdout",
     "output_type": "stream",
     "text": [
      "saving model version 0.1\n",
      "Best epoch 26\n",
      "0.2473825365304947\n",
      "Testing 3 hidden neurons, lamb=1.0, grid=3\n",
      "checkpoint directory created: ./model\n",
      "saving model version 0.0\n",
      "checkpoint directory created: ./model\n",
      "saving model version 0.0\n",
      "Successfully created and tested Model3\n"
     ]
    },
    {
     "name": "stderr",
     "output_type": "stream",
     "text": [
      "| train_loss: 3.73e+00 | eval_loss: 2.75e+00 | reg: 3.53e+00 |: 100%|█| 40/40 [01:12<00:00,  1.80s/i\n"
     ]
    },
    {
     "name": "stdout",
     "output_type": "stream",
     "text": [
      "saving model version 0.1\n",
      "Best epoch 0\n",
      "3.0920543670654297\n",
      "Testing 3 hidden neurons, lamb=0.1, grid=3\n",
      "checkpoint directory created: ./model\n",
      "saving model version 0.0\n",
      "checkpoint directory created: ./model\n",
      "saving model version 0.0\n",
      "Successfully created and tested Model3\n"
     ]
    },
    {
     "name": "stderr",
     "output_type": "stream",
     "text": [
      "| train_loss: 1.54e+00 | eval_loss: 3.40e-01 | reg: 2.20e+01 |: 100%|█| 40/40 [01:13<00:00,  1.83s/i\n"
     ]
    },
    {
     "name": "stdout",
     "output_type": "stream",
     "text": [
      "saving model version 0.1\n",
      "Best epoch 23\n",
      "0.5050898194313049\n",
      "Testing 3 hidden neurons, lamb=0.01, grid=3\n",
      "checkpoint directory created: ./model\n",
      "saving model version 0.0\n",
      "checkpoint directory created: ./model\n",
      "saving model version 0.0\n",
      "Successfully created and tested Model3\n"
     ]
    },
    {
     "name": "stderr",
     "output_type": "stream",
     "text": [
      "| train_loss: 5.28e-01 | eval_loss: 2.03e-01 | reg: 2.36e+01 |: 100%|█| 40/40 [01:13<00:00,  1.85s/i\n"
     ]
    },
    {
     "name": "stdout",
     "output_type": "stream",
     "text": [
      "saving model version 0.1\n",
      "Best epoch 34\n",
      "0.2913414239883423\n",
      "Testing 3 hidden neurons, lamb=0.001, grid=3\n",
      "checkpoint directory created: ./model\n",
      "saving model version 0.0\n",
      "checkpoint directory created: ./model\n",
      "saving model version 0.0\n",
      "Successfully created and tested Model3\n"
     ]
    },
    {
     "name": "stderr",
     "output_type": "stream",
     "text": [
      "| train_loss: 2.32e-01 | eval_loss: 1.89e-01 | reg: 2.98e+01 |: 100%|█| 40/40 [01:17<00:00,  1.95s/i\n"
     ]
    },
    {
     "name": "stdout",
     "output_type": "stream",
     "text": [
      "saving model version 0.1\n",
      "Best epoch 33\n",
      "0.25422203540802\n",
      "Testing 3 hidden neurons, lamb=0.0001, grid=3\n",
      "checkpoint directory created: ./model\n",
      "saving model version 0.0\n",
      "checkpoint directory created: ./model\n",
      "saving model version 0.0\n",
      "Successfully created and tested Model3\n"
     ]
    },
    {
     "name": "stderr",
     "output_type": "stream",
     "text": [
      "| train_loss: 1.71e-01 | eval_loss: 2.04e-01 | reg: 7.29e+01 |: 100%|█| 40/40 [01:19<00:00,  1.99s/i\n"
     ]
    },
    {
     "name": "stdout",
     "output_type": "stream",
     "text": [
      "saving model version 0.1\n",
      "Best epoch 32\n",
      "0.22858290374279022\n",
      "Testing 3 hidden neurons, lamb=1e-05, grid=3\n",
      "checkpoint directory created: ./model\n",
      "saving model version 0.0\n",
      "checkpoint directory created: ./model\n",
      "saving model version 0.0\n",
      "Successfully created and tested Model3\n"
     ]
    },
    {
     "name": "stderr",
     "output_type": "stream",
     "text": [
      "| train_loss: 1.55e-01 | eval_loss: 1.90e-01 | reg: 1.20e+02 |: 100%|█| 40/40 [01:20<00:00,  2.02s/i\n"
     ]
    },
    {
     "name": "stdout",
     "output_type": "stream",
     "text": [
      "saving model version 0.1\n",
      "Best epoch 34\n",
      "0.2396799921989441\n",
      "Testing 3 hidden neurons, lamb=1.0, grid=4\n",
      "checkpoint directory created: ./model\n",
      "saving model version 0.0\n",
      "checkpoint directory created: ./model\n",
      "saving model version 0.0\n",
      "Successfully created and tested Model3\n"
     ]
    },
    {
     "name": "stderr",
     "output_type": "stream",
     "text": [
      "| train_loss: 3.75e+00 | eval_loss: 2.41e+00 | reg: 5.77e+00 |: 100%|█| 40/40 [01:16<00:00,  1.91s/i\n"
     ]
    },
    {
     "name": "stdout",
     "output_type": "stream",
     "text": [
      "saving model version 0.1\n",
      "Best epoch 29\n",
      "2.8196394443511963\n",
      "Testing 3 hidden neurons, lamb=0.1, grid=4\n",
      "checkpoint directory created: ./model\n",
      "saving model version 0.0\n",
      "checkpoint directory created: ./model\n",
      "saving model version 0.0\n",
      "Successfully created and tested Model3\n"
     ]
    },
    {
     "name": "stderr",
     "output_type": "stream",
     "text": [
      "| train_loss: 1.51e+00 | eval_loss: 3.48e-01 | reg: 2.12e+01 |: 100%|█| 40/40 [01:16<00:00,  1.90s/i\n"
     ]
    },
    {
     "name": "stdout",
     "output_type": "stream",
     "text": [
      "saving model version 0.1\n",
      "Best epoch 39\n",
      "0.5111916065216064\n",
      "Testing 3 hidden neurons, lamb=0.01, grid=4\n",
      "checkpoint directory created: ./model\n",
      "saving model version 0.0\n",
      "checkpoint directory created: ./model\n",
      "saving model version 0.0\n",
      "Successfully created and tested Model3\n"
     ]
    },
    {
     "name": "stderr",
     "output_type": "stream",
     "text": [
      "| train_loss: 5.25e-01 | eval_loss: 2.03e-01 | reg: 2.33e+01 |: 100%|█| 40/40 [01:16<00:00,  1.92s/i\n"
     ]
    },
    {
     "name": "stdout",
     "output_type": "stream",
     "text": [
      "saving model version 0.1\n",
      "Best epoch 36\n",
      "0.28951603174209595\n",
      "Testing 3 hidden neurons, lamb=0.001, grid=4\n",
      "checkpoint directory created: ./model\n",
      "saving model version 0.0\n",
      "checkpoint directory created: ./model\n",
      "saving model version 0.0\n",
      "Successfully created and tested Model3\n"
     ]
    },
    {
     "name": "stderr",
     "output_type": "stream",
     "text": [
      "| train_loss: 2.26e-01 | eval_loss: 1.92e-01 | reg: 3.44e+01 |: 100%|█| 40/40 [01:22<00:00,  2.06s/i\n"
     ]
    },
    {
     "name": "stdout",
     "output_type": "stream",
     "text": [
      "saving model version 0.1\n",
      "Best epoch 34\n",
      "0.25492751598358154\n",
      "Testing 3 hidden neurons, lamb=0.0001, grid=4\n",
      "checkpoint directory created: ./model\n",
      "saving model version 0.0\n",
      "checkpoint directory created: ./model\n",
      "saving model version 0.0\n",
      "Successfully created and tested Model3\n"
     ]
    },
    {
     "name": "stderr",
     "output_type": "stream",
     "text": [
      "| train_loss: 1.63e-01 | eval_loss: 2.00e-01 | reg: 9.37e+01 |: 100%|█| 40/40 [01:23<00:00,  2.10s/i\n"
     ]
    },
    {
     "name": "stdout",
     "output_type": "stream",
     "text": [
      "saving model version 0.1\n",
      "Best epoch 26\n",
      "0.2378515899181366\n",
      "Testing 3 hidden neurons, lamb=1e-05, grid=4\n",
      "checkpoint directory created: ./model\n",
      "saving model version 0.0\n",
      "checkpoint directory created: ./model\n",
      "saving model version 0.0\n",
      "Successfully created and tested Model3\n"
     ]
    },
    {
     "name": "stderr",
     "output_type": "stream",
     "text": [
      "| train_loss: 1.29e-01 | eval_loss: 2.14e-01 | reg: 1.17e+02 |: 100%|█| 40/40 [01:23<00:00,  2.09s/i\n"
     ]
    },
    {
     "name": "stdout",
     "output_type": "stream",
     "text": [
      "saving model version 0.1\n",
      "Best epoch 18\n",
      "0.23290961980819702\n",
      "Testing 3 hidden neurons, lamb=1.0, grid=5\n",
      "checkpoint directory created: ./model\n",
      "saving model version 0.0\n",
      "checkpoint directory created: ./model\n",
      "saving model version 0.0\n",
      "Successfully created and tested Model3\n"
     ]
    },
    {
     "name": "stderr",
     "output_type": "stream",
     "text": [
      "| train_loss: 3.67e+00 | eval_loss: 2.74e+00 | reg: 3.10e+00 |: 100%|█| 40/40 [01:18<00:00,  1.97s/i\n"
     ]
    },
    {
     "name": "stdout",
     "output_type": "stream",
     "text": [
      "saving model version 0.1\n",
      "Best epoch 0\n",
      "3.0372517108917236\n",
      "Testing 3 hidden neurons, lamb=0.1, grid=5\n",
      "checkpoint directory created: ./model\n",
      "saving model version 0.0\n",
      "checkpoint directory created: ./model\n",
      "saving model version 0.0\n",
      "Successfully created and tested Model3\n"
     ]
    },
    {
     "name": "stderr",
     "output_type": "stream",
     "text": [
      "| train_loss: 1.50e+00 | eval_loss: 3.44e-01 | reg: 2.09e+01 |: 100%|█| 40/40 [01:19<00:00,  1.99s/i\n"
     ]
    },
    {
     "name": "stdout",
     "output_type": "stream",
     "text": [
      "saving model version 0.1\n",
      "Best epoch 35\n",
      "0.512556791305542\n",
      "Testing 3 hidden neurons, lamb=0.01, grid=5\n",
      "checkpoint directory created: ./model\n",
      "saving model version 0.0\n",
      "checkpoint directory created: ./model\n",
      "saving model version 0.0\n",
      "Successfully created and tested Model3\n"
     ]
    },
    {
     "name": "stderr",
     "output_type": "stream",
     "text": [
      "| train_loss: 5.18e-01 | eval_loss: 1.95e-01 | reg: 2.30e+01 |: 100%|█| 40/40 [01:19<00:00,  1.98s/i\n"
     ]
    },
    {
     "name": "stdout",
     "output_type": "stream",
     "text": [
      "saving model version 0.1\n",
      "Best epoch 38\n",
      "0.2841237783432007\n",
      "Testing 3 hidden neurons, lamb=0.001, grid=5\n",
      "checkpoint directory created: ./model\n",
      "saving model version 0.0\n",
      "checkpoint directory created: ./model\n",
      "saving model version 0.0\n",
      "Successfully created and tested Model3\n"
     ]
    },
    {
     "name": "stderr",
     "output_type": "stream",
     "text": [
      "| train_loss: 2.24e-01 | eval_loss: 1.73e-01 | reg: 3.23e+01 |: 100%|█| 40/40 [01:25<00:00,  2.14s/i\n"
     ]
    },
    {
     "name": "stdout",
     "output_type": "stream",
     "text": [
      "saving model version 0.1\n",
      "Best epoch 39\n",
      "0.2451305091381073\n",
      "Testing 3 hidden neurons, lamb=0.0001, grid=5\n",
      "checkpoint directory created: ./model\n",
      "saving model version 0.0\n",
      "checkpoint directory created: ./model\n",
      "saving model version 0.0\n",
      "Successfully created and tested Model3\n"
     ]
    },
    {
     "name": "stderr",
     "output_type": "stream",
     "text": [
      "| train_loss: 1.59e-01 | eval_loss: 1.84e-01 | reg: 7.57e+01 |: 100%|█| 40/40 [01:25<00:00,  2.13s/i\n"
     ]
    },
    {
     "name": "stdout",
     "output_type": "stream",
     "text": [
      "saving model version 0.1\n",
      "Best epoch 39\n",
      "0.23764687776565552\n",
      "Testing 3 hidden neurons, lamb=1e-05, grid=5\n",
      "checkpoint directory created: ./model\n",
      "saving model version 0.0\n",
      "checkpoint directory created: ./model\n",
      "saving model version 0.0\n",
      "Successfully created and tested Model3\n"
     ]
    },
    {
     "name": "stderr",
     "output_type": "stream",
     "text": [
      "| train_loss: 1.29e-01 | eval_loss: 1.91e-01 | reg: 1.25e+02 |: 100%|█| 40/40 [01:24<00:00,  2.12s/i\n"
     ]
    },
    {
     "name": "stdout",
     "output_type": "stream",
     "text": [
      "saving model version 0.1\n",
      "Best epoch 24\n",
      "0.22775664925575256\n",
      "Testing 3 hidden neurons, lamb=1.0, grid=6\n",
      "checkpoint directory created: ./model\n",
      "saving model version 0.0\n",
      "checkpoint directory created: ./model\n",
      "saving model version 0.0\n",
      "Successfully created and tested Model3\n"
     ]
    },
    {
     "name": "stderr",
     "output_type": "stream",
     "text": [
      "| train_loss: 3.68e+00 | eval_loss: 2.71e+00 | reg: 3.32e+00 |: 100%|█| 40/40 [01:21<00:00,  2.03s/i\n"
     ]
    },
    {
     "name": "stdout",
     "output_type": "stream",
     "text": [
      "saving model version 0.1\n",
      "Best epoch 0\n",
      "3.0473482608795166\n",
      "Testing 3 hidden neurons, lamb=0.1, grid=6\n",
      "checkpoint directory created: ./model\n",
      "saving model version 0.0\n",
      "checkpoint directory created: ./model\n",
      "saving model version 0.0\n",
      "Successfully created and tested Model3\n"
     ]
    },
    {
     "name": "stderr",
     "output_type": "stream",
     "text": [
      "| train_loss: 1.49e+00 | eval_loss: 3.40e-01 | reg: 2.06e+01 |: 100%|█| 40/40 [01:19<00:00,  1.99s/i\n"
     ]
    },
    {
     "name": "stdout",
     "output_type": "stream",
     "text": [
      "saving model version 0.1\n",
      "Best epoch 28\n",
      "0.49907776713371277\n",
      "Testing 3 hidden neurons, lamb=0.01, grid=6\n",
      "checkpoint directory created: ./model\n",
      "saving model version 0.0\n",
      "checkpoint directory created: ./model\n",
      "saving model version 0.0\n",
      "Successfully created and tested Model3\n"
     ]
    },
    {
     "name": "stderr",
     "output_type": "stream",
     "text": [
      "| train_loss: 5.19e-01 | eval_loss: 2.00e-01 | reg: 2.31e+01 |: 100%|█| 40/40 [01:20<00:00,  2.02s/i\n"
     ]
    },
    {
     "name": "stdout",
     "output_type": "stream",
     "text": [
      "saving model version 0.1\n",
      "Best epoch 39\n",
      "0.2836068272590637\n",
      "Testing 3 hidden neurons, lamb=0.001, grid=6\n",
      "checkpoint directory created: ./model\n",
      "saving model version 0.0\n",
      "checkpoint directory created: ./model\n",
      "saving model version 0.0\n",
      "Successfully created and tested Model3\n"
     ]
    },
    {
     "name": "stderr",
     "output_type": "stream",
     "text": [
      "| train_loss: 2.20e-01 | eval_loss: 1.89e-01 | reg: 3.15e+01 |: 100%|█| 40/40 [01:26<00:00,  2.17s/i\n"
     ]
    },
    {
     "name": "stdout",
     "output_type": "stream",
     "text": [
      "saving model version 0.1\n",
      "Best epoch 39\n",
      "0.24035002291202545\n",
      "Testing 3 hidden neurons, lamb=0.0001, grid=6\n",
      "checkpoint directory created: ./model\n",
      "saving model version 0.0\n",
      "checkpoint directory created: ./model\n",
      "saving model version 0.0\n",
      "Successfully created and tested Model3\n"
     ]
    },
    {
     "name": "stderr",
     "output_type": "stream",
     "text": [
      "| train_loss: 1.37e-01 | eval_loss: 2.18e-01 | reg: 8.72e+01 |: 100%|█| 40/40 [01:27<00:00,  2.19s/i\n"
     ]
    },
    {
     "name": "stdout",
     "output_type": "stream",
     "text": [
      "saving model version 0.1\n",
      "Best epoch 21\n",
      "0.24601782858371735\n",
      "Testing 3 hidden neurons, lamb=1e-05, grid=6\n",
      "checkpoint directory created: ./model\n",
      "saving model version 0.0\n",
      "checkpoint directory created: ./model\n",
      "saving model version 0.0\n",
      "Successfully created and tested Model3\n"
     ]
    },
    {
     "name": "stderr",
     "output_type": "stream",
     "text": [
      "| train_loss: 1.10e-01 | eval_loss: 1.84e-01 | reg: 1.20e+02 |: 100%|█| 40/40 [01:27<00:00,  2.18s/i\n"
     ]
    },
    {
     "name": "stdout",
     "output_type": "stream",
     "text": [
      "saving model version 0.1\n",
      "Best epoch 38\n",
      "0.27603214979171753\n",
      "Testing 3 hidden neurons, lamb=1.0, grid=7\n",
      "checkpoint directory created: ./model\n",
      "saving model version 0.0\n",
      "checkpoint directory created: ./model\n",
      "saving model version 0.0\n",
      "Successfully created and tested Model3\n"
     ]
    },
    {
     "name": "stderr",
     "output_type": "stream",
     "text": [
      "| train_loss: 3.70e+00 | eval_loss: 2.75e+00 | reg: 3.27e+00 |: 100%|█| 40/40 [01:22<00:00,  2.06s/i\n"
     ]
    },
    {
     "name": "stdout",
     "output_type": "stream",
     "text": [
      "saving model version 0.1\n",
      "Best epoch 0\n",
      "3.0606234073638916\n",
      "Testing 3 hidden neurons, lamb=0.1, grid=7\n",
      "checkpoint directory created: ./model\n",
      "saving model version 0.0\n",
      "checkpoint directory created: ./model\n",
      "saving model version 0.0\n",
      "Successfully created and tested Model3\n"
     ]
    },
    {
     "name": "stderr",
     "output_type": "stream",
     "text": [
      "| train_loss: 1.51e+00 | eval_loss: 3.40e-01 | reg: 2.12e+01 |: 100%|█| 40/40 [01:22<00:00,  2.06s/i\n"
     ]
    },
    {
     "name": "stdout",
     "output_type": "stream",
     "text": [
      "saving model version 0.1\n",
      "Best epoch 39\n",
      "0.5021644830703735\n",
      "Testing 3 hidden neurons, lamb=0.01, grid=7\n",
      "checkpoint directory created: ./model\n",
      "saving model version 0.0\n",
      "checkpoint directory created: ./model\n",
      "saving model version 0.0\n",
      "Successfully created and tested Model3\n"
     ]
    },
    {
     "name": "stderr",
     "output_type": "stream",
     "text": [
      "| train_loss: 5.13e-01 | eval_loss: 1.96e-01 | reg: 2.25e+01 |: 100%|█| 40/40 [01:22<00:00,  2.05s/i\n"
     ]
    },
    {
     "name": "stdout",
     "output_type": "stream",
     "text": [
      "saving model version 0.1\n",
      "Best epoch 39\n",
      "0.2788717448711395\n",
      "Testing 3 hidden neurons, lamb=0.001, grid=7\n",
      "checkpoint directory created: ./model\n",
      "saving model version 0.0\n",
      "checkpoint directory created: ./model\n",
      "saving model version 0.0\n",
      "Successfully created and tested Model3\n"
     ]
    },
    {
     "name": "stderr",
     "output_type": "stream",
     "text": [
      "| train_loss: 2.12e-01 | eval_loss: 1.78e-01 | reg: 3.38e+01 |: 100%|█| 40/40 [01:28<00:00,  2.22s/i\n"
     ]
    },
    {
     "name": "stdout",
     "output_type": "stream",
     "text": [
      "saving model version 0.1\n",
      "Best epoch 32\n",
      "0.23849330842494965\n",
      "Testing 3 hidden neurons, lamb=0.0001, grid=7\n",
      "checkpoint directory created: ./model\n",
      "saving model version 0.0\n",
      "checkpoint directory created: ./model\n",
      "saving model version 0.0\n",
      "Successfully created and tested Model3\n"
     ]
    },
    {
     "name": "stderr",
     "output_type": "stream",
     "text": [
      "| train_loss: 1.40e-01 | eval_loss: 1.80e-01 | reg: 8.82e+01 |: 100%|█| 40/40 [01:26<00:00,  2.16s/i\n"
     ]
    },
    {
     "name": "stdout",
     "output_type": "stream",
     "text": [
      "saving model version 0.1\n",
      "Best epoch 39\n",
      "0.24717551469802856\n",
      "Testing 3 hidden neurons, lamb=1e-05, grid=7\n",
      "checkpoint directory created: ./model\n",
      "saving model version 0.0\n",
      "checkpoint directory created: ./model\n",
      "saving model version 0.0\n",
      "Successfully created and tested Model3\n"
     ]
    },
    {
     "name": "stderr",
     "output_type": "stream",
     "text": [
      "| train_loss: 9.67e-02 | eval_loss: 1.81e-01 | reg: 1.28e+02 |: 100%|█| 40/40 [01:28<00:00,  2.20s/i\n"
     ]
    },
    {
     "name": "stdout",
     "output_type": "stream",
     "text": [
      "saving model version 0.1\n",
      "Best epoch 32\n",
      "0.2383413016796112\n",
      "Testing 3 hidden neurons, lamb=1.0, grid=8\n",
      "checkpoint directory created: ./model\n",
      "saving model version 0.0\n",
      "checkpoint directory created: ./model\n",
      "saving model version 0.0\n",
      "Successfully created and tested Model3\n"
     ]
    },
    {
     "name": "stderr",
     "output_type": "stream",
     "text": [
      "| train_loss: 3.76e+00 | eval_loss: 2.81e+00 | reg: 3.31e+00 |: 100%|█| 40/40 [01:21<00:00,  2.03s/i\n"
     ]
    },
    {
     "name": "stdout",
     "output_type": "stream",
     "text": [
      "saving model version 0.1\n",
      "Best epoch 0\n",
      "3.085167646408081\n",
      "Testing 3 hidden neurons, lamb=0.1, grid=8\n",
      "checkpoint directory created: ./model\n",
      "saving model version 0.0\n",
      "checkpoint directory created: ./model\n",
      "saving model version 0.0\n",
      "Successfully created and tested Model3\n"
     ]
    },
    {
     "name": "stderr",
     "output_type": "stream",
     "text": [
      "| train_loss: 1.51e+00 | eval_loss: 3.49e-01 | reg: 2.12e+01 |: 100%|█| 40/40 [01:24<00:00,  2.11s/i\n"
     ]
    },
    {
     "name": "stdout",
     "output_type": "stream",
     "text": [
      "saving model version 0.1\n",
      "Best epoch 39\n",
      "0.5141092538833618\n",
      "Testing 3 hidden neurons, lamb=0.01, grid=8\n",
      "checkpoint directory created: ./model\n",
      "saving model version 0.0\n",
      "checkpoint directory created: ./model\n",
      "saving model version 0.0\n",
      "Successfully created and tested Model3\n"
     ]
    },
    {
     "name": "stderr",
     "output_type": "stream",
     "text": [
      "| train_loss: 5.19e-01 | eval_loss: 1.99e-01 | reg: 2.30e+01 |: 100%|█| 40/40 [01:26<00:00,  2.17s/i\n"
     ]
    },
    {
     "name": "stdout",
     "output_type": "stream",
     "text": [
      "saving model version 0.1\n",
      "Best epoch 39\n",
      "0.2867611050605774\n",
      "Testing 3 hidden neurons, lamb=0.001, grid=8\n",
      "checkpoint directory created: ./model\n",
      "saving model version 0.0\n",
      "checkpoint directory created: ./model\n",
      "saving model version 0.0\n",
      "Successfully created and tested Model3\n"
     ]
    },
    {
     "name": "stderr",
     "output_type": "stream",
     "text": [
      "| train_loss: 2.15e-01 | eval_loss: 1.77e-01 | reg: 3.66e+01 |: 100%|█| 40/40 [01:29<00:00,  2.25s/i\n"
     ]
    },
    {
     "name": "stdout",
     "output_type": "stream",
     "text": [
      "saving model version 0.1\n",
      "Best epoch 28\n",
      "0.2494843453168869\n",
      "Testing 3 hidden neurons, lamb=0.0001, grid=8\n",
      "checkpoint directory created: ./model\n",
      "saving model version 0.0\n",
      "checkpoint directory created: ./model\n",
      "saving model version 0.0\n",
      "Successfully created and tested Model3\n"
     ]
    },
    {
     "name": "stderr",
     "output_type": "stream",
     "text": [
      "| train_loss: 1.36e-01 | eval_loss: 1.85e-01 | reg: 8.74e+01 |: 100%|█| 40/40 [01:31<00:00,  2.30s/i\n"
     ]
    },
    {
     "name": "stdout",
     "output_type": "stream",
     "text": [
      "saving model version 0.1\n",
      "Best epoch 36\n",
      "0.24543164670467377\n",
      "Testing 3 hidden neurons, lamb=1e-05, grid=8\n",
      "checkpoint directory created: ./model\n",
      "saving model version 0.0\n",
      "checkpoint directory created: ./model\n",
      "saving model version 0.0\n",
      "Successfully created and tested Model3\n"
     ]
    },
    {
     "name": "stderr",
     "output_type": "stream",
     "text": [
      "| train_loss: 8.99e-02 | eval_loss: 1.90e-01 | reg: 1.04e+02 |: 100%|█| 40/40 [01:30<00:00,  2.27s/i\n"
     ]
    },
    {
     "name": "stdout",
     "output_type": "stream",
     "text": [
      "saving model version 0.1\n",
      "Best epoch 26\n",
      "0.25939348340034485\n",
      "Testing 4 hidden neurons, lamb=1.0, grid=3\n",
      "checkpoint directory created: ./model\n",
      "saving model version 0.0\n",
      "checkpoint directory created: ./model\n",
      "saving model version 0.0\n",
      "Successfully created and tested Model3\n"
     ]
    },
    {
     "name": "stderr",
     "output_type": "stream",
     "text": [
      "| train_loss: 3.77e+00 | eval_loss: 2.54e+00 | reg: 5.11e+00 |: 100%|█| 40/40 [01:14<00:00,  1.85s/i\n"
     ]
    },
    {
     "name": "stdout",
     "output_type": "stream",
     "text": [
      "saving model version 0.1\n",
      "Best epoch 39\n",
      "2.9568042755126953\n",
      "Testing 4 hidden neurons, lamb=0.1, grid=3\n",
      "checkpoint directory created: ./model\n",
      "saving model version 0.0\n",
      "checkpoint directory created: ./model\n",
      "saving model version 0.0\n",
      "Successfully created and tested Model3\n"
     ]
    },
    {
     "name": "stderr",
     "output_type": "stream",
     "text": [
      "| train_loss: 1.50e+00 | eval_loss: 3.55e-01 | reg: 2.08e+01 |: 100%|█| 40/40 [01:13<00:00,  1.83s/i\n"
     ]
    },
    {
     "name": "stdout",
     "output_type": "stream",
     "text": [
      "saving model version 0.1\n",
      "Best epoch 39\n",
      "0.5124614238739014\n",
      "Testing 4 hidden neurons, lamb=0.01, grid=3\n",
      "checkpoint directory created: ./model\n",
      "saving model version 0.0\n",
      "checkpoint directory created: ./model\n",
      "saving model version 0.0\n",
      "Successfully created and tested Model3\n"
     ]
    },
    {
     "name": "stderr",
     "output_type": "stream",
     "text": [
      "| train_loss: 5.18e-01 | eval_loss: 2.03e-01 | reg: 2.28e+01 |: 100%|█| 40/40 [01:13<00:00,  1.85s/i\n"
     ]
    },
    {
     "name": "stdout",
     "output_type": "stream",
     "text": [
      "saving model version 0.1\n",
      "Best epoch 39\n",
      "0.2813211977481842\n",
      "Testing 4 hidden neurons, lamb=0.001, grid=3\n",
      "checkpoint directory created: ./model\n",
      "saving model version 0.0\n",
      "checkpoint directory created: ./model\n",
      "saving model version 0.0\n",
      "Successfully created and tested Model3\n"
     ]
    },
    {
     "name": "stderr",
     "output_type": "stream",
     "text": [
      "| train_loss: 2.28e-01 | eval_loss: 1.80e-01 | reg: 2.95e+01 |: 100%|█| 40/40 [01:19<00:00,  1.99s/i\n"
     ]
    },
    {
     "name": "stdout",
     "output_type": "stream",
     "text": [
      "saving model version 0.1\n",
      "Best epoch 39\n",
      "0.23005932569503784\n",
      "Testing 4 hidden neurons, lamb=0.0001, grid=3\n",
      "checkpoint directory created: ./model\n",
      "saving model version 0.0\n",
      "checkpoint directory created: ./model\n",
      "saving model version 0.0\n",
      "Successfully created and tested Model3\n"
     ]
    },
    {
     "name": "stderr",
     "output_type": "stream",
     "text": [
      "| train_loss: 1.76e-01 | eval_loss: 1.85e-01 | reg: 7.38e+01 |: 100%|█| 40/40 [01:20<00:00,  2.00s/i\n"
     ]
    },
    {
     "name": "stdout",
     "output_type": "stream",
     "text": [
      "saving model version 0.1\n",
      "Best epoch 26\n",
      "0.2411552518606186\n",
      "Testing 4 hidden neurons, lamb=1e-05, grid=3\n",
      "checkpoint directory created: ./model\n",
      "saving model version 0.0\n",
      "checkpoint directory created: ./model\n",
      "saving model version 0.0\n",
      "Successfully created and tested Model3\n"
     ]
    },
    {
     "name": "stderr",
     "output_type": "stream",
     "text": [
      "| train_loss: 1.58e-01 | eval_loss: 2.00e-01 | reg: 1.30e+02 |: 100%|█| 40/40 [01:20<00:00,  2.01s/i\n"
     ]
    },
    {
     "name": "stdout",
     "output_type": "stream",
     "text": [
      "saving model version 0.1\n",
      "Best epoch 26\n",
      "0.23854266107082367\n",
      "Testing 4 hidden neurons, lamb=1.0, grid=4\n",
      "checkpoint directory created: ./model\n",
      "saving model version 0.0\n",
      "checkpoint directory created: ./model\n",
      "saving model version 0.0\n",
      "Successfully created and tested Model3\n"
     ]
    },
    {
     "name": "stderr",
     "output_type": "stream",
     "text": [
      "| train_loss: 3.77e+00 | eval_loss: 2.63e+00 | reg: 4.62e+00 |: 100%|█| 40/40 [01:19<00:00,  1.99s/i\n"
     ]
    },
    {
     "name": "stdout",
     "output_type": "stream",
     "text": [
      "saving model version 0.1\n",
      "Best epoch 39\n",
      "3.0486578941345215\n",
      "Testing 4 hidden neurons, lamb=0.1, grid=4\n",
      "checkpoint directory created: ./model\n",
      "saving model version 0.0\n",
      "checkpoint directory created: ./model\n",
      "saving model version 0.0\n",
      "Successfully created and tested Model3\n"
     ]
    },
    {
     "name": "stderr",
     "output_type": "stream",
     "text": [
      "| train_loss: 1.49e+00 | eval_loss: 3.36e-01 | reg: 2.05e+01 |: 100%|█| 40/40 [01:15<00:00,  1.89s/i\n"
     ]
    },
    {
     "name": "stdout",
     "output_type": "stream",
     "text": [
      "saving model version 0.1\n",
      "Best epoch 39\n",
      "0.5021058320999146\n",
      "Testing 4 hidden neurons, lamb=0.01, grid=4\n",
      "checkpoint directory created: ./model\n",
      "saving model version 0.0\n",
      "checkpoint directory created: ./model\n",
      "saving model version 0.0\n",
      "Successfully created and tested Model3\n"
     ]
    },
    {
     "name": "stderr",
     "output_type": "stream",
     "text": [
      "| train_loss: 5.26e-01 | eval_loss: 2.07e-01 | reg: 2.35e+01 |: 100%|█| 40/40 [01:17<00:00,  1.93s/i\n"
     ]
    },
    {
     "name": "stdout",
     "output_type": "stream",
     "text": [
      "saving model version 0.1\n",
      "Best epoch 39\n",
      "0.28759250044822693\n",
      "Testing 4 hidden neurons, lamb=0.001, grid=4\n",
      "checkpoint directory created: ./model\n",
      "saving model version 0.0\n",
      "checkpoint directory created: ./model\n",
      "saving model version 0.0\n",
      "Successfully created and tested Model3\n"
     ]
    },
    {
     "name": "stderr",
     "output_type": "stream",
     "text": [
      "| train_loss: 2.25e-01 | eval_loss: 1.81e-01 | reg: 3.19e+01 |: 100%|█| 40/40 [01:22<00:00,  2.07s/i\n"
     ]
    },
    {
     "name": "stdout",
     "output_type": "stream",
     "text": [
      "saving model version 0.1\n",
      "Best epoch 39\n",
      "0.25411099195480347\n",
      "Testing 4 hidden neurons, lamb=0.0001, grid=4\n",
      "checkpoint directory created: ./model\n",
      "saving model version 0.0\n",
      "checkpoint directory created: ./model\n",
      "saving model version 0.0\n",
      "Successfully created and tested Model3\n"
     ]
    },
    {
     "name": "stderr",
     "output_type": "stream",
     "text": [
      "| train_loss: 1.68e-01 | eval_loss: 1.93e-01 | reg: 7.14e+01 |: 100%|█| 40/40 [01:21<00:00,  2.05s/i\n"
     ]
    },
    {
     "name": "stdout",
     "output_type": "stream",
     "text": [
      "saving model version 0.1\n",
      "Best epoch 23\n",
      "0.23948317766189575\n",
      "Testing 4 hidden neurons, lamb=1e-05, grid=4\n",
      "checkpoint directory created: ./model\n",
      "saving model version 0.0\n",
      "checkpoint directory created: ./model\n",
      "saving model version 0.0\n",
      "Successfully created and tested Model3\n"
     ]
    },
    {
     "name": "stderr",
     "output_type": "stream",
     "text": [
      "| train_loss: 1.40e-01 | eval_loss: 1.92e-01 | reg: 1.38e+02 |: 100%|█| 40/40 [01:22<00:00,  2.06s/i\n"
     ]
    },
    {
     "name": "stdout",
     "output_type": "stream",
     "text": [
      "saving model version 0.1\n",
      "Best epoch 31\n",
      "0.24750317633152008\n",
      "Testing 4 hidden neurons, lamb=1.0, grid=5\n",
      "checkpoint directory created: ./model\n",
      "saving model version 0.0\n",
      "checkpoint directory created: ./model\n",
      "saving model version 0.0\n",
      "Successfully created and tested Model3\n"
     ]
    },
    {
     "name": "stderr",
     "output_type": "stream",
     "text": [
      "| train_loss: 3.68e+00 | eval_loss: 2.36e+00 | reg: 5.52e+00 |: 100%|█| 40/40 [01:18<00:00,  1.97s/i\n"
     ]
    },
    {
     "name": "stdout",
     "output_type": "stream",
     "text": [
      "saving model version 0.1\n",
      "Best epoch 39\n",
      "2.788886070251465\n",
      "Testing 4 hidden neurons, lamb=0.1, grid=5\n",
      "checkpoint directory created: ./model\n",
      "saving model version 0.0\n",
      "checkpoint directory created: ./model\n",
      "saving model version 0.0\n",
      "Successfully created and tested Model3\n"
     ]
    },
    {
     "name": "stderr",
     "output_type": "stream",
     "text": [
      "| train_loss: 1.50e+00 | eval_loss: 3.50e-01 | reg: 2.08e+01 |: 100%|█| 40/40 [01:17<00:00,  1.95s/i\n"
     ]
    },
    {
     "name": "stdout",
     "output_type": "stream",
     "text": [
      "saving model version 0.1\n",
      "Best epoch 35\n",
      "0.512150764465332\n",
      "Testing 4 hidden neurons, lamb=0.01, grid=5\n",
      "checkpoint directory created: ./model\n",
      "saving model version 0.0\n",
      "checkpoint directory created: ./model\n",
      "saving model version 0.0\n",
      "Successfully created and tested Model3\n"
     ]
    },
    {
     "name": "stderr",
     "output_type": "stream",
     "text": [
      "| train_loss: 5.13e-01 | eval_loss: 1.96e-01 | reg: 2.25e+01 |: 100%|█| 40/40 [01:19<00:00,  1.99s/i\n"
     ]
    },
    {
     "name": "stdout",
     "output_type": "stream",
     "text": [
      "saving model version 0.1\n",
      "Best epoch 39\n",
      "0.28098347783088684\n",
      "Testing 4 hidden neurons, lamb=0.001, grid=5\n",
      "checkpoint directory created: ./model\n",
      "saving model version 0.0\n",
      "checkpoint directory created: ./model\n",
      "saving model version 0.0\n",
      "Successfully created and tested Model3\n"
     ]
    },
    {
     "name": "stderr",
     "output_type": "stream",
     "text": [
      "| train_loss: 2.19e-01 | eval_loss: 1.76e-01 | reg: 3.30e+01 |: 100%|█| 40/40 [01:24<00:00,  2.11s/i\n"
     ]
    },
    {
     "name": "stdout",
     "output_type": "stream",
     "text": [
      "saving model version 0.1\n",
      "Best epoch 38\n",
      "0.2395363599061966\n",
      "Testing 4 hidden neurons, lamb=0.0001, grid=5\n",
      "checkpoint directory created: ./model\n",
      "saving model version 0.0\n",
      "checkpoint directory created: ./model\n",
      "saving model version 0.0\n",
      "Successfully created and tested Model3\n"
     ]
    },
    {
     "name": "stderr",
     "output_type": "stream",
     "text": [
      "| train_loss: 1.40e-01 | eval_loss: 1.82e-01 | reg: 7.13e+01 |: 100%|█| 40/40 [01:25<00:00,  2.15s/i\n"
     ]
    },
    {
     "name": "stdout",
     "output_type": "stream",
     "text": [
      "saving model version 0.1\n",
      "Best epoch 29\n",
      "0.21360576152801514\n",
      "Testing 4 hidden neurons, lamb=1e-05, grid=5\n",
      "checkpoint directory created: ./model\n",
      "saving model version 0.0\n",
      "checkpoint directory created: ./model\n",
      "saving model version 0.0\n",
      "Successfully created and tested Model3\n"
     ]
    },
    {
     "name": "stderr",
     "output_type": "stream",
     "text": [
      "| train_loss: 1.26e-01 | eval_loss: 1.92e-01 | reg: 1.07e+02 |: 100%|█| 40/40 [01:24<00:00,  2.10s/i\n"
     ]
    },
    {
     "name": "stdout",
     "output_type": "stream",
     "text": [
      "saving model version 0.1\n",
      "Best epoch 22\n",
      "0.22797568142414093\n",
      "Testing 4 hidden neurons, lamb=1.0, grid=6\n",
      "checkpoint directory created: ./model\n",
      "saving model version 0.0\n",
      "checkpoint directory created: ./model\n",
      "saving model version 0.0\n",
      "Successfully created and tested Model3\n"
     ]
    },
    {
     "name": "stderr",
     "output_type": "stream",
     "text": [
      "| train_loss: 3.70e+00 | eval_loss: 2.65e+00 | reg: 3.96e+00 |: 100%|█| 40/40 [01:20<00:00,  2.01s/i\n"
     ]
    },
    {
     "name": "stdout",
     "output_type": "stream",
     "text": [
      "saving model version 0.1\n",
      "Best epoch 17\n",
      "3.023942232131958\n",
      "Testing 4 hidden neurons, lamb=0.1, grid=6\n",
      "checkpoint directory created: ./model\n",
      "saving model version 0.0\n",
      "checkpoint directory created: ./model\n",
      "saving model version 0.0\n",
      "Successfully created and tested Model3\n"
     ]
    },
    {
     "name": "stderr",
     "output_type": "stream",
     "text": [
      "| train_loss: 1.50e+00 | eval_loss: 3.47e-01 | reg: 2.10e+01 |: 100%|█| 40/40 [01:20<00:00,  2.00s/i\n"
     ]
    },
    {
     "name": "stdout",
     "output_type": "stream",
     "text": [
      "saving model version 0.1\n",
      "Best epoch 39\n",
      "0.5131281018257141\n",
      "Testing 4 hidden neurons, lamb=0.01, grid=6\n",
      "checkpoint directory created: ./model\n",
      "saving model version 0.0\n",
      "checkpoint directory created: ./model\n",
      "saving model version 0.0\n",
      "Successfully created and tested Model3\n"
     ]
    },
    {
     "name": "stderr",
     "output_type": "stream",
     "text": [
      "| train_loss: 5.16e-01 | eval_loss: 2.00e-01 | reg: 2.28e+01 |: 100%|█| 40/40 [01:20<00:00,  2.02s/i\n"
     ]
    },
    {
     "name": "stdout",
     "output_type": "stream",
     "text": [
      "saving model version 0.1\n",
      "Best epoch 39\n",
      "0.28342440724372864\n",
      "Testing 4 hidden neurons, lamb=0.001, grid=6\n",
      "checkpoint directory created: ./model\n",
      "saving model version 0.0\n",
      "checkpoint directory created: ./model\n",
      "saving model version 0.0\n",
      "Successfully created and tested Model3\n"
     ]
    },
    {
     "name": "stderr",
     "output_type": "stream",
     "text": [
      "| train_loss: 2.14e-01 | eval_loss: 1.78e-01 | reg: 3.31e+01 |: 100%|█| 40/40 [01:25<00:00,  2.14s/i\n"
     ]
    },
    {
     "name": "stdout",
     "output_type": "stream",
     "text": [
      "saving model version 0.1\n",
      "Best epoch 29\n",
      "0.25718045234680176\n",
      "Testing 4 hidden neurons, lamb=0.0001, grid=6\n",
      "checkpoint directory created: ./model\n",
      "saving model version 0.0\n",
      "checkpoint directory created: ./model\n",
      "saving model version 0.0\n",
      "Successfully created and tested Model3\n"
     ]
    },
    {
     "name": "stderr",
     "output_type": "stream",
     "text": [
      "| train_loss: 1.42e-01 | eval_loss: 1.86e-01 | reg: 7.18e+01 |: 100%|█| 40/40 [01:25<00:00,  2.14s/i\n"
     ]
    },
    {
     "name": "stdout",
     "output_type": "stream",
     "text": [
      "saving model version 0.1\n",
      "Best epoch 24\n",
      "0.23897124826908112\n",
      "Testing 4 hidden neurons, lamb=1e-05, grid=6\n",
      "checkpoint directory created: ./model\n",
      "saving model version 0.0\n",
      "checkpoint directory created: ./model\n",
      "saving model version 0.0\n",
      "Successfully created and tested Model3\n"
     ]
    },
    {
     "name": "stderr",
     "output_type": "stream",
     "text": [
      "| train_loss: 1.08e-01 | eval_loss: 1.96e-01 | reg: 1.22e+02 |: 100%|█| 40/40 [01:25<00:00,  2.15s/i\n"
     ]
    },
    {
     "name": "stdout",
     "output_type": "stream",
     "text": [
      "saving model version 0.1\n",
      "Best epoch 27\n",
      "0.2590189576148987\n",
      "Testing 4 hidden neurons, lamb=1.0, grid=7\n",
      "checkpoint directory created: ./model\n",
      "saving model version 0.0\n",
      "checkpoint directory created: ./model\n",
      "saving model version 0.0\n",
      "Successfully created and tested Model3\n"
     ]
    },
    {
     "name": "stderr",
     "output_type": "stream",
     "text": [
      "| train_loss: 3.68e+00 | eval_loss: 2.80e+00 | reg: 2.78e+00 |: 100%|█| 40/40 [01:10<00:00,  1.77s/i\n"
     ]
    },
    {
     "name": "stdout",
     "output_type": "stream",
     "text": [
      "saving model version 0.1\n",
      "Best epoch 0\n",
      "3.099539279937744\n",
      "Testing 4 hidden neurons, lamb=0.1, grid=7\n",
      "checkpoint directory created: ./model\n",
      "saving model version 0.0\n",
      "checkpoint directory created: ./model\n",
      "saving model version 0.0\n",
      "Successfully created and tested Model3\n"
     ]
    },
    {
     "name": "stderr",
     "output_type": "stream",
     "text": [
      "| train_loss: 1.49e+00 | eval_loss: 3.35e-01 | reg: 2.06e+01 |: 100%|█| 40/40 [01:21<00:00,  2.04s/i\n"
     ]
    },
    {
     "name": "stdout",
     "output_type": "stream",
     "text": [
      "saving model version 0.1\n",
      "Best epoch 39\n",
      "0.5041255354881287\n",
      "Testing 4 hidden neurons, lamb=0.01, grid=7\n",
      "checkpoint directory created: ./model\n",
      "saving model version 0.0\n",
      "checkpoint directory created: ./model\n",
      "saving model version 0.0\n",
      "Successfully created and tested Model3\n"
     ]
    },
    {
     "name": "stderr",
     "output_type": "stream",
     "text": [
      "| train_loss: 5.13e-01 | eval_loss: 2.00e-01 | reg: 2.25e+01 |: 100%|█| 40/40 [01:23<00:00,  2.08s/i\n"
     ]
    },
    {
     "name": "stdout",
     "output_type": "stream",
     "text": [
      "saving model version 0.1\n",
      "Best epoch 29\n",
      "0.2911404073238373\n",
      "Testing 4 hidden neurons, lamb=0.001, grid=7\n",
      "checkpoint directory created: ./model\n",
      "saving model version 0.0\n",
      "checkpoint directory created: ./model\n",
      "saving model version 0.0\n",
      "Successfully created and tested Model3\n"
     ]
    },
    {
     "name": "stderr",
     "output_type": "stream",
     "text": [
      "| train_loss: 2.18e-01 | eval_loss: 1.91e-01 | reg: 3.45e+01 |: 100%|█| 40/40 [01:28<00:00,  2.20s/i\n"
     ]
    },
    {
     "name": "stdout",
     "output_type": "stream",
     "text": [
      "saving model version 0.1\n",
      "Best epoch 19\n",
      "0.24781107902526855\n",
      "Testing 4 hidden neurons, lamb=0.0001, grid=7\n",
      "checkpoint directory created: ./model\n",
      "saving model version 0.0\n",
      "checkpoint directory created: ./model\n",
      "saving model version 0.0\n",
      "Successfully created and tested Model3\n"
     ]
    },
    {
     "name": "stderr",
     "output_type": "stream",
     "text": [
      "| train_loss: 1.49e-01 | eval_loss: 1.98e-01 | reg: 8.04e+01 |: 100%|█| 40/40 [01:28<00:00,  2.20s/i\n"
     ]
    },
    {
     "name": "stdout",
     "output_type": "stream",
     "text": [
      "saving model version 0.1\n",
      "Best epoch 20\n",
      "0.26823267340660095\n",
      "Testing 4 hidden neurons, lamb=1e-05, grid=7\n",
      "checkpoint directory created: ./model\n",
      "saving model version 0.0\n",
      "checkpoint directory created: ./model\n",
      "saving model version 0.0\n",
      "Successfully created and tested Model3\n"
     ]
    },
    {
     "name": "stderr",
     "output_type": "stream",
     "text": [
      "| train_loss: 1.02e-01 | eval_loss: 1.78e-01 | reg: 1.18e+02 |: 100%|█| 40/40 [01:28<00:00,  2.21s/i\n"
     ]
    },
    {
     "name": "stdout",
     "output_type": "stream",
     "text": [
      "saving model version 0.1\n",
      "Best epoch 32\n",
      "0.2514961063861847\n",
      "Testing 4 hidden neurons, lamb=1.0, grid=8\n",
      "checkpoint directory created: ./model\n",
      "saving model version 0.0\n",
      "checkpoint directory created: ./model\n",
      "saving model version 0.0\n",
      "Successfully created and tested Model3\n"
     ]
    },
    {
     "name": "stderr",
     "output_type": "stream",
     "text": [
      "| train_loss: 3.74e+00 | eval_loss: 2.72e+00 | reg: 3.71e+00 |: 100%|█| 40/40 [01:25<00:00,  2.14s/i\n"
     ]
    },
    {
     "name": "stdout",
     "output_type": "stream",
     "text": [
      "saving model version 0.1\n",
      "Best epoch 0\n",
      "3.093687057495117\n",
      "Testing 4 hidden neurons, lamb=0.1, grid=8\n",
      "checkpoint directory created: ./model\n",
      "saving model version 0.0\n",
      "checkpoint directory created: ./model\n",
      "saving model version 0.0\n",
      "Successfully created and tested Model3\n"
     ]
    },
    {
     "name": "stderr",
     "output_type": "stream",
     "text": [
      "| train_loss: 1.50e+00 | eval_loss: 3.47e-01 | reg: 2.09e+01 |: 100%|█| 40/40 [01:25<00:00,  2.13s/i\n"
     ]
    },
    {
     "name": "stdout",
     "output_type": "stream",
     "text": [
      "saving model version 0.1\n",
      "Best epoch 30\n",
      "0.5147867798805237\n",
      "Testing 4 hidden neurons, lamb=0.01, grid=8\n",
      "checkpoint directory created: ./model\n",
      "saving model version 0.0\n",
      "checkpoint directory created: ./model\n",
      "saving model version 0.0\n",
      "Successfully created and tested Model3\n"
     ]
    },
    {
     "name": "stderr",
     "output_type": "stream",
     "text": [
      "| train_loss: 5.17e-01 | eval_loss: 2.03e-01 | reg: 2.30e+01 |: 100%|█| 40/40 [01:25<00:00,  2.14s/i\n"
     ]
    },
    {
     "name": "stdout",
     "output_type": "stream",
     "text": [
      "saving model version 0.1\n",
      "Best epoch 39\n",
      "0.2879009544849396\n",
      "Testing 4 hidden neurons, lamb=0.001, grid=8\n",
      "checkpoint directory created: ./model\n",
      "saving model version 0.0\n",
      "checkpoint directory created: ./model\n",
      "saving model version 0.0\n",
      "Successfully created and tested Model3\n"
     ]
    },
    {
     "name": "stderr",
     "output_type": "stream",
     "text": [
      "| train_loss: 2.09e-01 | eval_loss: 1.74e-01 | reg: 3.31e+01 |: 100%|█| 40/40 [01:31<00:00,  2.30s/i\n"
     ]
    },
    {
     "name": "stdout",
     "output_type": "stream",
     "text": [
      "saving model version 0.1\n",
      "Best epoch 34\n",
      "0.27761712670326233\n",
      "Testing 4 hidden neurons, lamb=0.0001, grid=8\n",
      "checkpoint directory created: ./model\n",
      "saving model version 0.0\n",
      "checkpoint directory created: ./model\n",
      "saving model version 0.0\n",
      "Successfully created and tested Model3\n"
     ]
    },
    {
     "name": "stderr",
     "output_type": "stream",
     "text": [
      "| train_loss: 1.26e-01 | eval_loss: 1.83e-01 | reg: 7.78e+01 |: 100%|█| 40/40 [01:30<00:00,  2.27s/i\n"
     ]
    },
    {
     "name": "stdout",
     "output_type": "stream",
     "text": [
      "saving model version 0.1\n",
      "Best epoch 23\n",
      "0.2437228262424469\n",
      "Testing 4 hidden neurons, lamb=1e-05, grid=8\n",
      "checkpoint directory created: ./model\n",
      "saving model version 0.0\n",
      "checkpoint directory created: ./model\n",
      "saving model version 0.0\n",
      "Successfully created and tested Model3\n"
     ]
    },
    {
     "name": "stderr",
     "output_type": "stream",
     "text": [
      "| train_loss: 1.03e-01 | eval_loss: 1.79e-01 | reg: 1.21e+02 |: 100%|█| 40/40 [01:29<00:00,  2.25s/i\n"
     ]
    },
    {
     "name": "stdout",
     "output_type": "stream",
     "text": [
      "saving model version 0.1\n",
      "Best epoch 38\n",
      "0.3240533173084259\n",
      "Testing 5 hidden neurons, lamb=1.0, grid=3\n",
      "checkpoint directory created: ./model\n",
      "saving model version 0.0\n",
      "checkpoint directory created: ./model\n",
      "saving model version 0.0\n",
      "Successfully created and tested Model3\n"
     ]
    },
    {
     "name": "stderr",
     "output_type": "stream",
     "text": [
      "| train_loss: 3.77e+00 | eval_loss: 2.43e+00 | reg: 5.79e+00 |: 100%|█| 40/40 [01:14<00:00,  1.87s/i\n"
     ]
    },
    {
     "name": "stdout",
     "output_type": "stream",
     "text": [
      "saving model version 0.1\n",
      "Best epoch 39\n",
      "2.870060443878174\n",
      "Testing 5 hidden neurons, lamb=0.1, grid=3\n",
      "checkpoint directory created: ./model\n",
      "saving model version 0.0\n",
      "checkpoint directory created: ./model\n",
      "saving model version 0.0\n",
      "Successfully created and tested Model3\n"
     ]
    },
    {
     "name": "stderr",
     "output_type": "stream",
     "text": [
      "| train_loss: 1.48e+00 | eval_loss: 3.28e-01 | reg: 2.04e+01 |: 100%|█| 40/40 [01:13<00:00,  1.83s/i\n"
     ]
    },
    {
     "name": "stdout",
     "output_type": "stream",
     "text": [
      "saving model version 0.1\n",
      "Best epoch 32\n",
      "0.4991879463195801\n",
      "Testing 5 hidden neurons, lamb=0.01, grid=3\n",
      "checkpoint directory created: ./model\n",
      "saving model version 0.0\n",
      "checkpoint directory created: ./model\n",
      "saving model version 0.0\n",
      "Successfully created and tested Model3\n"
     ]
    },
    {
     "name": "stderr",
     "output_type": "stream",
     "text": [
      "| train_loss: 5.12e-01 | eval_loss: 2.01e-01 | reg: 2.21e+01 |: 100%|█| 40/40 [01:13<00:00,  1.84s/i\n"
     ]
    },
    {
     "name": "stdout",
     "output_type": "stream",
     "text": [
      "saving model version 0.1\n",
      "Best epoch 38\n",
      "0.29591986536979675\n",
      "Testing 5 hidden neurons, lamb=0.001, grid=3\n",
      "checkpoint directory created: ./model\n",
      "saving model version 0.0\n",
      "checkpoint directory created: ./model\n",
      "saving model version 0.0\n",
      "Successfully created and tested Model3\n"
     ]
    },
    {
     "name": "stderr",
     "output_type": "stream",
     "text": [
      "| train_loss: 2.31e-01 | eval_loss: 1.94e-01 | reg: 2.91e+01 |: 100%|█| 40/40 [01:19<00:00,  1.98s/i\n"
     ]
    },
    {
     "name": "stdout",
     "output_type": "stream",
     "text": [
      "saving model version 0.1\n",
      "Best epoch 30\n",
      "0.2517658770084381\n",
      "Testing 5 hidden neurons, lamb=0.0001, grid=3\n",
      "checkpoint directory created: ./model\n",
      "saving model version 0.0\n",
      "checkpoint directory created: ./model\n",
      "saving model version 0.0\n",
      "Successfully created and tested Model3\n"
     ]
    },
    {
     "name": "stderr",
     "output_type": "stream",
     "text": [
      "| train_loss: 1.73e-01 | eval_loss: 2.02e-01 | reg: 7.35e+01 |: 100%|█| 40/40 [01:19<00:00,  1.99s/i\n"
     ]
    },
    {
     "name": "stdout",
     "output_type": "stream",
     "text": [
      "saving model version 0.1\n",
      "Best epoch 27\n",
      "0.23998281359672546\n",
      "Testing 5 hidden neurons, lamb=1e-05, grid=3\n",
      "checkpoint directory created: ./model\n",
      "saving model version 0.0\n",
      "checkpoint directory created: ./model\n",
      "saving model version 0.0\n",
      "Successfully created and tested Model3\n"
     ]
    },
    {
     "name": "stderr",
     "output_type": "stream",
     "text": [
      "| train_loss: 1.58e-01 | eval_loss: 1.84e-01 | reg: 1.22e+02 |: 100%|█| 40/40 [01:19<00:00,  1.98s/i\n"
     ]
    },
    {
     "name": "stdout",
     "output_type": "stream",
     "text": [
      "saving model version 0.1\n",
      "Best epoch 28\n",
      "0.23587492108345032\n",
      "Testing 5 hidden neurons, lamb=1.0, grid=4\n",
      "checkpoint directory created: ./model\n",
      "saving model version 0.0\n",
      "checkpoint directory created: ./model\n",
      "saving model version 0.0\n",
      "Successfully created and tested Model3\n"
     ]
    },
    {
     "name": "stderr",
     "output_type": "stream",
     "text": [
      "| train_loss: 3.76e+00 | eval_loss: 2.59e+00 | reg: 4.77e+00 |: 100%|█| 40/40 [01:17<00:00,  1.93s/i\n"
     ]
    },
    {
     "name": "stdout",
     "output_type": "stream",
     "text": [
      "saving model version 0.1\n",
      "Best epoch 12\n",
      "2.9833486080169678\n",
      "Testing 5 hidden neurons, lamb=0.1, grid=4\n",
      "checkpoint directory created: ./model\n",
      "saving model version 0.0\n",
      "checkpoint directory created: ./model\n",
      "saving model version 0.0\n",
      "Successfully created and tested Model3\n"
     ]
    },
    {
     "name": "stderr",
     "output_type": "stream",
     "text": [
      "| train_loss: 1.50e+00 | eval_loss: 3.48e-01 | reg: 2.09e+01 |: 100%|█| 40/40 [01:16<00:00,  1.91s/i\n"
     ]
    },
    {
     "name": "stdout",
     "output_type": "stream",
     "text": [
      "saving model version 0.1\n",
      "Best epoch 39\n",
      "0.5099123120307922\n",
      "Testing 5 hidden neurons, lamb=0.01, grid=4\n",
      "checkpoint directory created: ./model\n",
      "saving model version 0.0\n",
      "checkpoint directory created: ./model\n",
      "saving model version 0.0\n",
      "Successfully created and tested Model3\n"
     ]
    },
    {
     "name": "stderr",
     "output_type": "stream",
     "text": [
      "| train_loss: 5.21e-01 | eval_loss: 2.05e-01 | reg: 2.30e+01 |: 100%|█| 40/40 [01:17<00:00,  1.93s/i\n"
     ]
    },
    {
     "name": "stdout",
     "output_type": "stream",
     "text": [
      "saving model version 0.1\n",
      "Best epoch 29\n",
      "0.2879795432090759\n",
      "Testing 5 hidden neurons, lamb=0.001, grid=4\n",
      "checkpoint directory created: ./model\n",
      "saving model version 0.0\n",
      "checkpoint directory created: ./model\n",
      "saving model version 0.0\n",
      "Successfully created and tested Model3\n"
     ]
    },
    {
     "name": "stderr",
     "output_type": "stream",
     "text": [
      "| train_loss: 2.20e-01 | eval_loss: 1.91e-01 | reg: 2.90e+01 |: 100%|█| 40/40 [01:22<00:00,  2.07s/i\n"
     ]
    },
    {
     "name": "stdout",
     "output_type": "stream",
     "text": [
      "saving model version 0.1\n",
      "Best epoch 29\n",
      "0.2500762939453125\n",
      "Testing 5 hidden neurons, lamb=0.0001, grid=4\n",
      "checkpoint directory created: ./model\n",
      "saving model version 0.0\n",
      "checkpoint directory created: ./model\n",
      "saving model version 0.0\n",
      "Successfully created and tested Model3\n"
     ]
    },
    {
     "name": "stderr",
     "output_type": "stream",
     "text": [
      "| train_loss: 1.58e-01 | eval_loss: 1.86e-01 | reg: 7.94e+01 |: 100%|█| 40/40 [01:23<00:00,  2.08s/i\n"
     ]
    },
    {
     "name": "stdout",
     "output_type": "stream",
     "text": [
      "saving model version 0.1\n",
      "Best epoch 30\n",
      "0.25368237495422363\n",
      "Testing 5 hidden neurons, lamb=1e-05, grid=4\n",
      "checkpoint directory created: ./model\n",
      "saving model version 0.0\n",
      "checkpoint directory created: ./model\n",
      "saving model version 0.0\n",
      "Successfully created and tested Model3\n"
     ]
    },
    {
     "name": "stderr",
     "output_type": "stream",
     "text": [
      "| train_loss: 1.40e-01 | eval_loss: 1.91e-01 | reg: 1.19e+02 |: 100%|█| 40/40 [01:22<00:00,  2.06s/i\n"
     ]
    },
    {
     "name": "stdout",
     "output_type": "stream",
     "text": [
      "saving model version 0.1\n",
      "Best epoch 21\n",
      "0.23284882307052612\n",
      "Testing 5 hidden neurons, lamb=1.0, grid=5\n",
      "checkpoint directory created: ./model\n",
      "saving model version 0.0\n",
      "checkpoint directory created: ./model\n",
      "saving model version 0.0\n",
      "Successfully created and tested Model3\n"
     ]
    },
    {
     "name": "stderr",
     "output_type": "stream",
     "text": [
      "| train_loss: 3.74e+00 | eval_loss: 2.52e+00 | reg: 4.99e+00 |: 100%|█| 40/40 [01:20<00:00,  2.01s/i\n"
     ]
    },
    {
     "name": "stdout",
     "output_type": "stream",
     "text": [
      "saving model version 0.1\n",
      "Best epoch 38\n",
      "2.9374239444732666\n",
      "Testing 5 hidden neurons, lamb=0.1, grid=5\n",
      "checkpoint directory created: ./model\n",
      "saving model version 0.0\n",
      "checkpoint directory created: ./model\n",
      "saving model version 0.0\n",
      "Successfully created and tested Model3\n"
     ]
    },
    {
     "name": "stderr",
     "output_type": "stream",
     "text": [
      "| train_loss: 1.49e+00 | eval_loss: 3.35e-01 | reg: 2.06e+01 |: 100%|█| 40/40 [01:19<00:00,  1.98s/i\n"
     ]
    },
    {
     "name": "stdout",
     "output_type": "stream",
     "text": [
      "saving model version 0.1\n",
      "Best epoch 33\n",
      "0.4969673156738281\n",
      "Testing 5 hidden neurons, lamb=0.01, grid=5\n",
      "checkpoint directory created: ./model\n",
      "saving model version 0.0\n",
      "checkpoint directory created: ./model\n",
      "saving model version 0.0\n",
      "Successfully created and tested Model3\n"
     ]
    },
    {
     "name": "stderr",
     "output_type": "stream",
     "text": [
      "| train_loss: 5.09e-01 | eval_loss: 1.95e-01 | reg: 2.22e+01 |: 100%|█| 40/40 [01:19<00:00,  1.99s/i\n"
     ]
    },
    {
     "name": "stdout",
     "output_type": "stream",
     "text": [
      "saving model version 0.1\n",
      "Best epoch 39\n",
      "0.2841935157775879\n",
      "Testing 5 hidden neurons, lamb=0.001, grid=5\n",
      "checkpoint directory created: ./model\n",
      "saving model version 0.0\n",
      "checkpoint directory created: ./model\n",
      "saving model version 0.0\n",
      "Successfully created and tested Model3\n"
     ]
    },
    {
     "name": "stderr",
     "output_type": "stream",
     "text": [
      "| train_loss: 2.24e-01 | eval_loss: 1.86e-01 | reg: 3.13e+01 |: 100%|█| 40/40 [01:25<00:00,  2.13s/i\n"
     ]
    },
    {
     "name": "stdout",
     "output_type": "stream",
     "text": [
      "saving model version 0.1\n",
      "Best epoch 39\n",
      "0.23448848724365234\n",
      "Testing 5 hidden neurons, lamb=0.0001, grid=5\n",
      "checkpoint directory created: ./model\n",
      "saving model version 0.0\n",
      "checkpoint directory created: ./model\n",
      "saving model version 0.0\n",
      "Successfully created and tested Model3\n"
     ]
    },
    {
     "name": "stderr",
     "output_type": "stream",
     "text": [
      "| train_loss: 1.54e-01 | eval_loss: 1.98e-01 | reg: 8.12e+01 |: 100%|█| 40/40 [01:25<00:00,  2.13s/i\n"
     ]
    },
    {
     "name": "stdout",
     "output_type": "stream",
     "text": [
      "saving model version 0.1\n",
      "Best epoch 28\n",
      "0.2419620156288147\n",
      "Testing 5 hidden neurons, lamb=1e-05, grid=5\n",
      "checkpoint directory created: ./model\n",
      "saving model version 0.0\n",
      "checkpoint directory created: ./model\n",
      "saving model version 0.0\n",
      "Successfully created and tested Model3\n"
     ]
    },
    {
     "name": "stderr",
     "output_type": "stream",
     "text": [
      "| train_loss: 1.39e-01 | eval_loss: 1.89e-01 | reg: 1.02e+02 |: 100%|█| 40/40 [01:24<00:00,  2.12s/i\n"
     ]
    },
    {
     "name": "stdout",
     "output_type": "stream",
     "text": [
      "saving model version 0.1\n",
      "Best epoch 28\n",
      "0.23693275451660156\n",
      "Testing 5 hidden neurons, lamb=1.0, grid=6\n",
      "checkpoint directory created: ./model\n",
      "saving model version 0.0\n",
      "checkpoint directory created: ./model\n",
      "saving model version 0.0\n",
      "Successfully created and tested Model3\n"
     ]
    },
    {
     "name": "stderr",
     "output_type": "stream",
     "text": [
      "| train_loss: 3.65e+00 | eval_loss: 2.83e+00 | reg: 2.41e+00 |: 100%|█| 40/40 [01:20<00:00,  2.02s/i\n"
     ]
    },
    {
     "name": "stdout",
     "output_type": "stream",
     "text": [
      "saving model version 0.1\n",
      "Best epoch 0\n",
      "3.068063497543335\n",
      "Testing 5 hidden neurons, lamb=0.1, grid=6\n",
      "checkpoint directory created: ./model\n",
      "saving model version 0.0\n",
      "checkpoint directory created: ./model\n",
      "saving model version 0.0\n",
      "Successfully created and tested Model3\n"
     ]
    },
    {
     "name": "stderr",
     "output_type": "stream",
     "text": [
      "| train_loss: 1.48e+00 | eval_loss: 3.36e-01 | reg: 2.05e+01 |: 100%|█| 40/40 [01:20<00:00,  2.02s/i\n"
     ]
    },
    {
     "name": "stdout",
     "output_type": "stream",
     "text": [
      "saving model version 0.1\n",
      "Best epoch 39\n",
      "0.4982682168483734\n",
      "Testing 5 hidden neurons, lamb=0.01, grid=6\n",
      "checkpoint directory created: ./model\n",
      "saving model version 0.0\n",
      "checkpoint directory created: ./model\n",
      "saving model version 0.0\n",
      "Successfully created and tested Model3\n"
     ]
    },
    {
     "name": "stderr",
     "output_type": "stream",
     "text": [
      "| train_loss: 5.06e-01 | eval_loss: 1.93e-01 | reg: 2.20e+01 |: 100%|█| 40/40 [01:21<00:00,  2.03s/i\n"
     ]
    },
    {
     "name": "stdout",
     "output_type": "stream",
     "text": [
      "saving model version 0.1\n",
      "Best epoch 39\n",
      "0.28879597783088684\n",
      "Testing 5 hidden neurons, lamb=0.001, grid=6\n",
      "checkpoint directory created: ./model\n",
      "saving model version 0.0\n",
      "checkpoint directory created: ./model\n",
      "saving model version 0.0\n",
      "Successfully created and tested Model3\n"
     ]
    },
    {
     "name": "stderr",
     "output_type": "stream",
     "text": [
      "| train_loss: 2.21e-01 | eval_loss: 1.80e-01 | reg: 3.33e+01 |: 100%|█| 40/40 [01:27<00:00,  2.19s/i\n"
     ]
    },
    {
     "name": "stdout",
     "output_type": "stream",
     "text": [
      "saving model version 0.1\n",
      "Best epoch 27\n",
      "0.2515307366847992\n",
      "Testing 5 hidden neurons, lamb=0.0001, grid=6\n",
      "checkpoint directory created: ./model\n",
      "saving model version 0.0\n",
      "checkpoint directory created: ./model\n",
      "saving model version 0.0\n",
      "Successfully created and tested Model3\n"
     ]
    },
    {
     "name": "stderr",
     "output_type": "stream",
     "text": [
      "| train_loss: 1.46e-01 | eval_loss: 2.05e-01 | reg: 7.35e+01 |: 100%|█| 40/40 [01:29<00:00,  2.24s/i\n"
     ]
    },
    {
     "name": "stdout",
     "output_type": "stream",
     "text": [
      "saving model version 0.1\n",
      "Best epoch 26\n",
      "0.2549249827861786\n",
      "Testing 5 hidden neurons, lamb=1e-05, grid=6\n",
      "checkpoint directory created: ./model\n",
      "saving model version 0.0\n",
      "checkpoint directory created: ./model\n",
      "saving model version 0.0\n",
      "Successfully created and tested Model3\n"
     ]
    },
    {
     "name": "stderr",
     "output_type": "stream",
     "text": [
      "| train_loss: 1.20e-01 | eval_loss: 1.90e-01 | reg: 1.13e+02 |: 100%|█| 40/40 [01:27<00:00,  2.18s/i\n"
     ]
    },
    {
     "name": "stdout",
     "output_type": "stream",
     "text": [
      "saving model version 0.1\n",
      "Best epoch 17\n",
      "0.23921115696430206\n",
      "Testing 5 hidden neurons, lamb=1.0, grid=7\n",
      "checkpoint directory created: ./model\n",
      "saving model version 0.0\n",
      "checkpoint directory created: ./model\n",
      "saving model version 0.0\n",
      "Successfully created and tested Model3\n"
     ]
    },
    {
     "name": "stderr",
     "output_type": "stream",
     "text": [
      "| train_loss: 3.70e+00 | eval_loss: 2.42e+00 | reg: 5.32e+00 |: 100%|█| 40/40 [01:23<00:00,  2.10s/i\n"
     ]
    },
    {
     "name": "stdout",
     "output_type": "stream",
     "text": [
      "saving model version 0.1\n",
      "Best epoch 39\n",
      "2.8436288833618164\n",
      "Testing 5 hidden neurons, lamb=0.1, grid=7\n",
      "checkpoint directory created: ./model\n",
      "saving model version 0.0\n",
      "checkpoint directory created: ./model\n",
      "saving model version 0.0\n",
      "Successfully created and tested Model3\n"
     ]
    },
    {
     "name": "stderr",
     "output_type": "stream",
     "text": [
      "| train_loss: 1.50e+00 | eval_loss: 3.46e-01 | reg: 2.07e+01 |: 100%|█| 40/40 [01:21<00:00,  2.05s/i\n"
     ]
    },
    {
     "name": "stdout",
     "output_type": "stream",
     "text": [
      "saving model version 0.1\n",
      "Best epoch 37\n",
      "0.5109756588935852\n",
      "Testing 5 hidden neurons, lamb=0.01, grid=7\n",
      "checkpoint directory created: ./model\n",
      "saving model version 0.0\n",
      "checkpoint directory created: ./model\n",
      "saving model version 0.0\n",
      "Successfully created and tested Model3\n"
     ]
    },
    {
     "name": "stderr",
     "output_type": "stream",
     "text": [
      "| train_loss: 5.11e-01 | eval_loss: 2.01e-01 | reg: 2.24e+01 |: 100%|█| 40/40 [01:23<00:00,  2.09s/i\n"
     ]
    },
    {
     "name": "stdout",
     "output_type": "stream",
     "text": [
      "saving model version 0.1\n",
      "Best epoch 35\n",
      "0.2839038074016571\n",
      "Testing 5 hidden neurons, lamb=0.001, grid=7\n",
      "checkpoint directory created: ./model\n",
      "saving model version 0.0\n",
      "checkpoint directory created: ./model\n",
      "saving model version 0.0\n",
      "Successfully created and tested Model3\n"
     ]
    },
    {
     "name": "stderr",
     "output_type": "stream",
     "text": [
      "| train_loss: 2.14e-01 | eval_loss: 1.70e-01 | reg: 3.24e+01 |: 100%|█| 40/40 [01:28<00:00,  2.21s/i\n"
     ]
    },
    {
     "name": "stdout",
     "output_type": "stream",
     "text": [
      "saving model version 0.1\n",
      "Best epoch 37\n",
      "0.250726580619812\n",
      "Testing 5 hidden neurons, lamb=0.0001, grid=7\n",
      "checkpoint directory created: ./model\n",
      "saving model version 0.0\n",
      "checkpoint directory created: ./model\n",
      "saving model version 0.0\n",
      "Successfully created and tested Model3\n"
     ]
    },
    {
     "name": "stderr",
     "output_type": "stream",
     "text": [
      "| train_loss: 1.22e-01 | eval_loss: 2.01e-01 | reg: 6.82e+01 |: 100%|█| 40/40 [01:29<00:00,  2.25s/i\n"
     ]
    },
    {
     "name": "stdout",
     "output_type": "stream",
     "text": [
      "saving model version 0.1\n",
      "Best epoch 29\n",
      "0.2371821403503418\n",
      "Testing 5 hidden neurons, lamb=1e-05, grid=7\n",
      "checkpoint directory created: ./model\n",
      "saving model version 0.0\n",
      "checkpoint directory created: ./model\n",
      "saving model version 0.0\n",
      "Successfully created and tested Model3\n"
     ]
    },
    {
     "name": "stderr",
     "output_type": "stream",
     "text": [
      "| train_loss: 9.80e-02 | eval_loss: 1.78e-01 | reg: 1.17e+02 |: 100%|█| 40/40 [01:29<00:00,  2.25s/i\n"
     ]
    },
    {
     "name": "stdout",
     "output_type": "stream",
     "text": [
      "saving model version 0.1\n",
      "Best epoch 30\n",
      "0.2592470347881317\n",
      "Testing 5 hidden neurons, lamb=1.0, grid=8\n",
      "checkpoint directory created: ./model\n",
      "saving model version 0.0\n",
      "checkpoint directory created: ./model\n",
      "saving model version 0.0\n",
      "Successfully created and tested Model3\n"
     ]
    },
    {
     "name": "stderr",
     "output_type": "stream",
     "text": [
      "| train_loss: 3.72e+00 | eval_loss: 2.72e+00 | reg: 3.55e+00 |: 100%|█| 40/40 [01:22<00:00,  2.07s/i\n"
     ]
    },
    {
     "name": "stdout",
     "output_type": "stream",
     "text": [
      "saving model version 0.1\n",
      "Best epoch 8\n",
      "3.1277830600738525\n",
      "Testing 5 hidden neurons, lamb=0.1, grid=8\n",
      "checkpoint directory created: ./model\n",
      "saving model version 0.0\n",
      "checkpoint directory created: ./model\n",
      "saving model version 0.0\n",
      "Successfully created and tested Model3\n"
     ]
    },
    {
     "name": "stderr",
     "output_type": "stream",
     "text": [
      "| train_loss: 1.50e+00 | eval_loss: 3.38e-01 | reg: 2.09e+01 |: 100%|█| 40/40 [01:25<00:00,  2.14s/i\n"
     ]
    },
    {
     "name": "stdout",
     "output_type": "stream",
     "text": [
      "saving model version 0.1\n",
      "Best epoch 39\n",
      "0.5065115690231323\n",
      "Testing 5 hidden neurons, lamb=0.01, grid=8\n",
      "checkpoint directory created: ./model\n",
      "saving model version 0.0\n",
      "checkpoint directory created: ./model\n",
      "saving model version 0.0\n",
      "Successfully created and tested Model3\n"
     ]
    },
    {
     "name": "stderr",
     "output_type": "stream",
     "text": [
      "| train_loss: 5.10e-01 | eval_loss: 1.98e-01 | reg: 2.23e+01 |: 100%|█| 40/40 [01:25<00:00,  2.14s/i\n"
     ]
    },
    {
     "name": "stdout",
     "output_type": "stream",
     "text": [
      "saving model version 0.1\n",
      "Best epoch 39\n",
      "0.28634464740753174\n",
      "Testing 5 hidden neurons, lamb=0.001, grid=8\n",
      "checkpoint directory created: ./model\n",
      "saving model version 0.0\n",
      "checkpoint directory created: ./model\n",
      "saving model version 0.0\n",
      "Successfully created and tested Model3\n"
     ]
    },
    {
     "name": "stderr",
     "output_type": "stream",
     "text": [
      "| train_loss: 2.16e-01 | eval_loss: 1.74e-01 | reg: 3.61e+01 |: 100%|█| 40/40 [01:29<00:00,  2.23s/i\n"
     ]
    },
    {
     "name": "stdout",
     "output_type": "stream",
     "text": [
      "saving model version 0.1\n",
      "Best epoch 29\n",
      "0.23973049223423004\n",
      "Testing 5 hidden neurons, lamb=0.0001, grid=8\n",
      "checkpoint directory created: ./model\n",
      "saving model version 0.0\n",
      "checkpoint directory created: ./model\n",
      "saving model version 0.0\n",
      "Successfully created and tested Model3\n"
     ]
    },
    {
     "name": "stderr",
     "output_type": "stream",
     "text": [
      "| train_loss: 1.21e-01 | eval_loss: 1.91e-01 | reg: 8.15e+01 |: 100%|█| 40/40 [01:29<00:00,  2.23s/i\n"
     ]
    },
    {
     "name": "stdout",
     "output_type": "stream",
     "text": [
      "saving model version 0.1\n",
      "Best epoch 29\n",
      "0.23222149908542633\n",
      "Testing 5 hidden neurons, lamb=1e-05, grid=8\n",
      "checkpoint directory created: ./model\n",
      "saving model version 0.0\n",
      "checkpoint directory created: ./model\n",
      "saving model version 0.0\n",
      "Successfully created and tested Model3\n"
     ]
    },
    {
     "name": "stderr",
     "output_type": "stream",
     "text": [
      "| train_loss: 9.33e-02 | eval_loss: 1.99e-01 | reg: 1.40e+02 |: 100%|█| 40/40 [01:29<00:00,  2.24s/i\n"
     ]
    },
    {
     "name": "stdout",
     "output_type": "stream",
     "text": [
      "saving model version 0.1\n",
      "Best epoch 13\n",
      "0.24166500568389893\n",
      "Testing 6 hidden neurons, lamb=1.0, grid=3\n",
      "checkpoint directory created: ./model\n",
      "saving model version 0.0\n",
      "checkpoint directory created: ./model\n",
      "saving model version 0.0\n",
      "Successfully created and tested Model3\n"
     ]
    },
    {
     "name": "stderr",
     "output_type": "stream",
     "text": [
      "| train_loss: 3.64e+00 | eval_loss: 2.38e+00 | reg: 5.09e+00 |: 100%|█| 40/40 [01:14<00:00,  1.86s/i\n"
     ]
    },
    {
     "name": "stdout",
     "output_type": "stream",
     "text": [
      "saving model version 0.1\n",
      "Best epoch 39\n",
      "2.8179802894592285\n",
      "Testing 6 hidden neurons, lamb=0.1, grid=3\n",
      "checkpoint directory created: ./model\n",
      "saving model version 0.0\n",
      "checkpoint directory created: ./model\n",
      "saving model version 0.0\n",
      "Successfully created and tested Model3\n"
     ]
    },
    {
     "name": "stderr",
     "output_type": "stream",
     "text": [
      "| train_loss: 1.47e+00 | eval_loss: 3.33e-01 | reg: 2.01e+01 |: 100%|█| 40/40 [01:13<00:00,  1.83s/i\n"
     ]
    },
    {
     "name": "stdout",
     "output_type": "stream",
     "text": [
      "saving model version 0.1\n",
      "Best epoch 23\n",
      "0.48874449729919434\n",
      "Testing 6 hidden neurons, lamb=0.01, grid=3\n",
      "checkpoint directory created: ./model\n",
      "saving model version 0.0\n",
      "checkpoint directory created: ./model\n",
      "saving model version 0.0\n",
      "Successfully created and tested Model3\n"
     ]
    },
    {
     "name": "stderr",
     "output_type": "stream",
     "text": [
      "| train_loss: 5.14e-01 | eval_loss: 2.05e-01 | reg: 2.24e+01 |: 100%|█| 40/40 [01:14<00:00,  1.85s/i\n"
     ]
    },
    {
     "name": "stdout",
     "output_type": "stream",
     "text": [
      "saving model version 0.1\n",
      "Best epoch 38\n",
      "0.2832966446876526\n",
      "Testing 6 hidden neurons, lamb=0.001, grid=3\n",
      "checkpoint directory created: ./model\n",
      "saving model version 0.0\n",
      "checkpoint directory created: ./model\n",
      "saving model version 0.0\n",
      "Successfully created and tested Model3\n"
     ]
    },
    {
     "name": "stderr",
     "output_type": "stream",
     "text": [
      "| train_loss: 2.25e-01 | eval_loss: 1.81e-01 | reg: 2.90e+01 |: 100%|█| 40/40 [01:19<00:00,  1.99s/i\n"
     ]
    },
    {
     "name": "stdout",
     "output_type": "stream",
     "text": [
      "saving model version 0.1\n",
      "Best epoch 39\n",
      "0.24178852140903473\n",
      "Testing 6 hidden neurons, lamb=0.0001, grid=3\n",
      "checkpoint directory created: ./model\n",
      "saving model version 0.0\n",
      "checkpoint directory created: ./model\n",
      "saving model version 0.0\n",
      "Successfully created and tested Model3\n"
     ]
    },
    {
     "name": "stderr",
     "output_type": "stream",
     "text": [
      "| train_loss: 1.77e-01 | eval_loss: 1.92e-01 | reg: 7.36e+01 |: 100%|█| 40/40 [01:20<00:00,  2.01s/i\n"
     ]
    },
    {
     "name": "stdout",
     "output_type": "stream",
     "text": [
      "saving model version 0.1\n",
      "Best epoch 20\n",
      "0.2448618859052658\n",
      "Testing 6 hidden neurons, lamb=1e-05, grid=3\n",
      "checkpoint directory created: ./model\n",
      "saving model version 0.0\n",
      "checkpoint directory created: ./model\n",
      "saving model version 0.0\n",
      "Successfully created and tested Model3\n"
     ]
    },
    {
     "name": "stderr",
     "output_type": "stream",
     "text": [
      "| train_loss: 1.56e-01 | eval_loss: 1.92e-01 | reg: 1.14e+02 |: 100%|█| 40/40 [01:19<00:00,  1.98s/i\n"
     ]
    },
    {
     "name": "stdout",
     "output_type": "stream",
     "text": [
      "saving model version 0.1\n",
      "Best epoch 21\n",
      "0.24308085441589355\n",
      "Testing 6 hidden neurons, lamb=1.0, grid=4\n",
      "checkpoint directory created: ./model\n",
      "saving model version 0.0\n",
      "checkpoint directory created: ./model\n",
      "saving model version 0.0\n",
      "Successfully created and tested Model3\n"
     ]
    },
    {
     "name": "stderr",
     "output_type": "stream",
     "text": [
      "| train_loss: 3.73e+00 | eval_loss: 2.75e+00 | reg: 3.53e+00 |: 100%|█| 40/40 [01:17<00:00,  1.95s/i\n"
     ]
    },
    {
     "name": "stdout",
     "output_type": "stream",
     "text": [
      "saving model version 0.1\n",
      "Best epoch 0\n",
      "3.0891201496124268\n",
      "Testing 6 hidden neurons, lamb=0.1, grid=4\n",
      "checkpoint directory created: ./model\n",
      "saving model version 0.0\n",
      "checkpoint directory created: ./model\n",
      "saving model version 0.0\n",
      "Successfully created and tested Model3\n"
     ]
    },
    {
     "name": "stderr",
     "output_type": "stream",
     "text": [
      "| train_loss: 1.51e+00 | eval_loss: 3.42e-01 | reg: 2.10e+01 |: 100%|█| 40/40 [01:16<00:00,  1.92s/i\n"
     ]
    },
    {
     "name": "stdout",
     "output_type": "stream",
     "text": [
      "saving model version 0.1\n",
      "Best epoch 39\n",
      "0.5115834474563599\n",
      "Testing 6 hidden neurons, lamb=0.01, grid=4\n",
      "checkpoint directory created: ./model\n",
      "saving model version 0.0\n",
      "checkpoint directory created: ./model\n",
      "saving model version 0.0\n",
      "Successfully created and tested Model3\n"
     ]
    },
    {
     "name": "stderr",
     "output_type": "stream",
     "text": [
      "| train_loss: 5.10e-01 | eval_loss: 1.99e-01 | reg: 2.22e+01 |: 100%|█| 40/40 [01:17<00:00,  1.94s/i\n"
     ]
    },
    {
     "name": "stdout",
     "output_type": "stream",
     "text": [
      "saving model version 0.1\n",
      "Best epoch 38\n",
      "0.28743594884872437\n",
      "Testing 6 hidden neurons, lamb=0.001, grid=4\n",
      "checkpoint directory created: ./model\n",
      "saving model version 0.0\n",
      "checkpoint directory created: ./model\n",
      "saving model version 0.0\n",
      "Successfully created and tested Model3\n"
     ]
    },
    {
     "name": "stderr",
     "output_type": "stream",
     "text": [
      "| train_loss: 2.28e-01 | eval_loss: 1.79e-01 | reg: 3.12e+01 |: 100%|█| 40/40 [01:23<00:00,  2.08s/i\n"
     ]
    },
    {
     "name": "stdout",
     "output_type": "stream",
     "text": [
      "saving model version 0.1\n",
      "Best epoch 39\n",
      "0.2612241208553314\n",
      "Testing 6 hidden neurons, lamb=0.0001, grid=4\n",
      "checkpoint directory created: ./model\n",
      "saving model version 0.0\n",
      "checkpoint directory created: ./model\n",
      "saving model version 0.0\n",
      "Successfully created and tested Model3\n"
     ]
    },
    {
     "name": "stderr",
     "output_type": "stream",
     "text": [
      "| train_loss: 1.54e-01 | eval_loss: 1.90e-01 | reg: 8.05e+01 |: 100%|█| 40/40 [01:22<00:00,  2.07s/i\n"
     ]
    },
    {
     "name": "stdout",
     "output_type": "stream",
     "text": [
      "saving model version 0.1\n",
      "Best epoch 32\n",
      "0.2439112514257431\n",
      "Testing 6 hidden neurons, lamb=1e-05, grid=4\n",
      "checkpoint directory created: ./model\n",
      "saving model version 0.0\n",
      "checkpoint directory created: ./model\n",
      "saving model version 0.0\n",
      "Successfully created and tested Model3\n"
     ]
    },
    {
     "name": "stderr",
     "output_type": "stream",
     "text": [
      "| train_loss: 1.25e-01 | eval_loss: 1.91e-01 | reg: 1.26e+02 |: 100%|█| 40/40 [01:23<00:00,  2.08s/i\n"
     ]
    },
    {
     "name": "stdout",
     "output_type": "stream",
     "text": [
      "saving model version 0.1\n",
      "Best epoch 28\n",
      "0.2530207931995392\n",
      "Testing 6 hidden neurons, lamb=1.0, grid=5\n",
      "checkpoint directory created: ./model\n",
      "saving model version 0.0\n",
      "checkpoint directory created: ./model\n",
      "saving model version 0.0\n",
      "Successfully created and tested Model3\n"
     ]
    },
    {
     "name": "stderr",
     "output_type": "stream",
     "text": [
      "| train_loss: 3.68e+00 | eval_loss: 2.30e+00 | reg: 5.88e+00 |: 100%|█| 40/40 [01:19<00:00,  1.99s/i\n"
     ]
    },
    {
     "name": "stdout",
     "output_type": "stream",
     "text": [
      "saving model version 0.1\n",
      "Best epoch 39\n",
      "2.7259511947631836\n",
      "Testing 6 hidden neurons, lamb=0.1, grid=5\n",
      "checkpoint directory created: ./model\n",
      "saving model version 0.0\n",
      "checkpoint directory created: ./model\n",
      "saving model version 0.0\n",
      "Successfully created and tested Model3\n"
     ]
    },
    {
     "name": "stderr",
     "output_type": "stream",
     "text": [
      "| train_loss: 1.48e+00 | eval_loss: 3.35e-01 | reg: 2.04e+01 |: 100%|█| 40/40 [01:18<00:00,  1.95s/i\n"
     ]
    },
    {
     "name": "stdout",
     "output_type": "stream",
     "text": [
      "saving model version 0.1\n",
      "Best epoch 36\n",
      "0.4945031404495239\n",
      "Testing 6 hidden neurons, lamb=0.01, grid=5\n",
      "checkpoint directory created: ./model\n",
      "saving model version 0.0\n",
      "checkpoint directory created: ./model\n",
      "saving model version 0.0\n",
      "Successfully created and tested Model3\n"
     ]
    },
    {
     "name": "stderr",
     "output_type": "stream",
     "text": [
      "| train_loss: 5.05e-01 | eval_loss: 2.02e-01 | reg: 2.18e+01 |: 100%|█| 40/40 [01:19<00:00,  2.00s/i\n"
     ]
    },
    {
     "name": "stdout",
     "output_type": "stream",
     "text": [
      "saving model version 0.1\n",
      "Best epoch 39\n",
      "0.2855563759803772\n",
      "Testing 6 hidden neurons, lamb=0.001, grid=5\n",
      "checkpoint directory created: ./model\n",
      "saving model version 0.0\n",
      "checkpoint directory created: ./model\n",
      "saving model version 0.0\n",
      "Successfully created and tested Model3\n"
     ]
    },
    {
     "name": "stderr",
     "output_type": "stream",
     "text": [
      "| train_loss: 2.27e-01 | eval_loss: 2.14e-01 | reg: 3.37e+01 |: 100%|█| 40/40 [01:25<00:00,  2.13s/i\n"
     ]
    },
    {
     "name": "stdout",
     "output_type": "stream",
     "text": [
      "saving model version 0.1\n",
      "Best epoch 25\n",
      "0.25035569071769714\n",
      "Testing 6 hidden neurons, lamb=0.0001, grid=5\n",
      "checkpoint directory created: ./model\n",
      "saving model version 0.0\n",
      "checkpoint directory created: ./model\n",
      "saving model version 0.0\n",
      "Successfully created and tested Model3\n"
     ]
    },
    {
     "name": "stderr",
     "output_type": "stream",
     "text": [
      "| train_loss: 1.48e-01 | eval_loss: 2.01e-01 | reg: 9.13e+01 |: 100%|█| 40/40 [01:25<00:00,  2.13s/i\n"
     ]
    },
    {
     "name": "stdout",
     "output_type": "stream",
     "text": [
      "saving model version 0.1\n",
      "Best epoch 29\n",
      "0.2383376806974411\n",
      "Testing 6 hidden neurons, lamb=1e-05, grid=5\n",
      "checkpoint directory created: ./model\n",
      "saving model version 0.0\n",
      "checkpoint directory created: ./model\n",
      "saving model version 0.0\n",
      "Successfully created and tested Model3\n"
     ]
    },
    {
     "name": "stderr",
     "output_type": "stream",
     "text": [
      "| train_loss: 1.26e-01 | eval_loss: 3.40e-01 | reg: 1.55e+02 |: 100%|█| 40/40 [01:25<00:00,  2.15s/i\n"
     ]
    },
    {
     "name": "stdout",
     "output_type": "stream",
     "text": [
      "saving model version 0.1\n",
      "Best epoch 23\n",
      "0.23181673884391785\n",
      "Testing 6 hidden neurons, lamb=1.0, grid=6\n",
      "checkpoint directory created: ./model\n",
      "saving model version 0.0\n",
      "checkpoint directory created: ./model\n",
      "saving model version 0.0\n",
      "Successfully created and tested Model3\n"
     ]
    },
    {
     "name": "stderr",
     "output_type": "stream",
     "text": [
      "| train_loss: 3.79e+00 | eval_loss: 2.40e+00 | reg: 6.14e+00 |: 100%|█| 40/40 [01:21<00:00,  2.03s/i\n"
     ]
    },
    {
     "name": "stdout",
     "output_type": "stream",
     "text": [
      "saving model version 0.1\n",
      "Best epoch 39\n",
      "2.820910692214966\n",
      "Testing 6 hidden neurons, lamb=0.1, grid=6\n",
      "checkpoint directory created: ./model\n",
      "saving model version 0.0\n",
      "checkpoint directory created: ./model\n",
      "saving model version 0.0\n",
      "Successfully created and tested Model3\n"
     ]
    },
    {
     "name": "stderr",
     "output_type": "stream",
     "text": [
      "| train_loss: 1.48e+00 | eval_loss: 3.39e-01 | reg: 2.04e+01 |: 100%|█| 40/40 [01:20<00:00,  2.00s/i\n"
     ]
    },
    {
     "name": "stdout",
     "output_type": "stream",
     "text": [
      "saving model version 0.1\n",
      "Best epoch 39\n",
      "0.5030317306518555\n",
      "Testing 6 hidden neurons, lamb=0.01, grid=6\n",
      "checkpoint directory created: ./model\n",
      "saving model version 0.0\n",
      "checkpoint directory created: ./model\n",
      "saving model version 0.0\n",
      "Successfully created and tested Model3\n"
     ]
    },
    {
     "name": "stderr",
     "output_type": "stream",
     "text": [
      "| train_loss: 5.12e-01 | eval_loss: 1.92e-01 | reg: 2.25e+01 |: 100%|█| 40/40 [01:20<00:00,  2.00s/i\n"
     ]
    },
    {
     "name": "stdout",
     "output_type": "stream",
     "text": [
      "saving model version 0.1\n",
      "Best epoch 38\n",
      "0.2785987854003906\n",
      "Testing 6 hidden neurons, lamb=0.001, grid=6\n",
      "checkpoint directory created: ./model\n",
      "saving model version 0.0\n",
      "checkpoint directory created: ./model\n",
      "saving model version 0.0\n",
      "Successfully created and tested Model3\n"
     ]
    },
    {
     "name": "stderr",
     "output_type": "stream",
     "text": [
      "| train_loss: 2.16e-01 | eval_loss: 1.69e-01 | reg: 3.49e+01 |: 100%|█| 40/40 [01:24<00:00,  2.11s/i\n"
     ]
    },
    {
     "name": "stdout",
     "output_type": "stream",
     "text": [
      "saving model version 0.1\n",
      "Best epoch 39\n",
      "0.2458307445049286\n",
      "Testing 6 hidden neurons, lamb=0.0001, grid=6\n",
      "checkpoint directory created: ./model\n",
      "saving model version 0.0\n",
      "checkpoint directory created: ./model\n",
      "saving model version 0.0\n",
      "Successfully created and tested Model3\n"
     ]
    },
    {
     "name": "stderr",
     "output_type": "stream",
     "text": [
      "| train_loss: 1.32e-01 | eval_loss: 1.77e-01 | reg: 7.31e+01 |: 100%|█| 40/40 [01:25<00:00,  2.15s/i\n"
     ]
    },
    {
     "name": "stdout",
     "output_type": "stream",
     "text": [
      "saving model version 0.1\n",
      "Best epoch 38\n",
      "0.25155335664749146\n",
      "Testing 6 hidden neurons, lamb=1e-05, grid=6\n",
      "checkpoint directory created: ./model\n",
      "saving model version 0.0\n",
      "checkpoint directory created: ./model\n",
      "saving model version 0.0\n",
      "Successfully created and tested Model3\n"
     ]
    },
    {
     "name": "stderr",
     "output_type": "stream",
     "text": [
      "| train_loss: 1.10e-01 | eval_loss: 1.93e-01 | reg: 1.03e+02 |: 100%|█| 40/40 [01:26<00:00,  2.17s/i\n"
     ]
    },
    {
     "name": "stdout",
     "output_type": "stream",
     "text": [
      "saving model version 0.1\n",
      "Best epoch 33\n",
      "0.25503823161125183\n",
      "Testing 6 hidden neurons, lamb=1.0, grid=7\n",
      "checkpoint directory created: ./model\n",
      "saving model version 0.0\n",
      "checkpoint directory created: ./model\n",
      "saving model version 0.0\n",
      "Successfully created and tested Model3\n"
     ]
    },
    {
     "name": "stderr",
     "output_type": "stream",
     "text": [
      "| train_loss: 3.79e+00 | eval_loss: 2.69e+00 | reg: 4.35e+00 |: 100%|█| 40/40 [01:21<00:00,  2.05s/i\n"
     ]
    },
    {
     "name": "stdout",
     "output_type": "stream",
     "text": [
      "saving model version 0.1\n",
      "Best epoch 8\n",
      "3.0707693099975586\n",
      "Testing 6 hidden neurons, lamb=0.1, grid=7\n",
      "checkpoint directory created: ./model\n",
      "saving model version 0.0\n",
      "checkpoint directory created: ./model\n",
      "saving model version 0.0\n",
      "Successfully created and tested Model3\n"
     ]
    },
    {
     "name": "stderr",
     "output_type": "stream",
     "text": [
      "| train_loss: 1.48e+00 | eval_loss: 3.33e-01 | reg: 2.04e+01 |: 100%|█| 40/40 [01:21<00:00,  2.04s/i\n"
     ]
    },
    {
     "name": "stdout",
     "output_type": "stream",
     "text": [
      "saving model version 0.1\n",
      "Best epoch 39\n",
      "0.500055193901062\n",
      "Testing 6 hidden neurons, lamb=0.01, grid=7\n",
      "checkpoint directory created: ./model\n",
      "saving model version 0.0\n",
      "checkpoint directory created: ./model\n",
      "saving model version 0.0\n",
      "Successfully created and tested Model3\n"
     ]
    },
    {
     "name": "stderr",
     "output_type": "stream",
     "text": [
      "| train_loss: 5.10e-01 | eval_loss: 1.88e-01 | reg: 2.24e+01 |: 100%|█| 40/40 [01:23<00:00,  2.08s/i\n"
     ]
    },
    {
     "name": "stdout",
     "output_type": "stream",
     "text": [
      "saving model version 0.1\n",
      "Best epoch 39\n",
      "0.2801932692527771\n",
      "Testing 6 hidden neurons, lamb=0.001, grid=7\n",
      "checkpoint directory created: ./model\n",
      "saving model version 0.0\n",
      "checkpoint directory created: ./model\n",
      "saving model version 0.0\n",
      "Successfully created and tested Model3\n"
     ]
    },
    {
     "name": "stderr",
     "output_type": "stream",
     "text": [
      "| train_loss: 2.20e-01 | eval_loss: 1.81e-01 | reg: 3.45e+01 |: 100%|█| 40/40 [01:27<00:00,  2.19s/i\n"
     ]
    },
    {
     "name": "stdout",
     "output_type": "stream",
     "text": [
      "saving model version 0.1\n",
      "Best epoch 24\n",
      "0.24838955700397491\n",
      "Testing 6 hidden neurons, lamb=0.0001, grid=7\n",
      "checkpoint directory created: ./model\n",
      "saving model version 0.0\n",
      "checkpoint directory created: ./model\n",
      "saving model version 0.0\n",
      "Successfully created and tested Model3\n"
     ]
    },
    {
     "name": "stderr",
     "output_type": "stream",
     "text": [
      "| train_loss: 1.20e-01 | eval_loss: 1.83e-01 | reg: 6.73e+01 |: 100%|█| 40/40 [01:27<00:00,  2.20s/i\n"
     ]
    },
    {
     "name": "stdout",
     "output_type": "stream",
     "text": [
      "saving model version 0.1\n",
      "Best epoch 33\n",
      "0.23832562565803528\n",
      "Testing 6 hidden neurons, lamb=1e-05, grid=7\n",
      "checkpoint directory created: ./model\n",
      "saving model version 0.0\n",
      "checkpoint directory created: ./model\n",
      "saving model version 0.0\n",
      "Successfully created and tested Model3\n"
     ]
    },
    {
     "name": "stderr",
     "output_type": "stream",
     "text": [
      "| train_loss: 8.67e-02 | eval_loss: 1.86e-01 | reg: 9.65e+01 |: 100%|█| 40/40 [01:28<00:00,  2.20s/i\n"
     ]
    },
    {
     "name": "stdout",
     "output_type": "stream",
     "text": [
      "saving model version 0.1\n",
      "Best epoch 21\n",
      "0.2129114270210266\n",
      "Testing 6 hidden neurons, lamb=1.0, grid=8\n",
      "checkpoint directory created: ./model\n",
      "saving model version 0.0\n",
      "checkpoint directory created: ./model\n",
      "saving model version 0.0\n",
      "Successfully created and tested Model3\n"
     ]
    },
    {
     "name": "stderr",
     "output_type": "stream",
     "text": [
      "| train_loss: 3.69e+00 | eval_loss: 2.68e+00 | reg: 3.64e+00 |: 100%|█| 40/40 [01:25<00:00,  2.13s/i\n"
     ]
    },
    {
     "name": "stdout",
     "output_type": "stream",
     "text": [
      "saving model version 0.1\n",
      "Best epoch 25\n",
      "3.096611976623535\n",
      "Testing 6 hidden neurons, lamb=0.1, grid=8\n",
      "checkpoint directory created: ./model\n",
      "saving model version 0.0\n",
      "checkpoint directory created: ./model\n",
      "saving model version 0.0\n",
      "Successfully created and tested Model3\n"
     ]
    },
    {
     "name": "stderr",
     "output_type": "stream",
     "text": [
      "| train_loss: 1.50e+00 | eval_loss: 3.24e-01 | reg: 2.11e+01 |: 100%|█| 40/40 [01:24<00:00,  2.10s/i\n"
     ]
    },
    {
     "name": "stdout",
     "output_type": "stream",
     "text": [
      "saving model version 0.1\n",
      "Best epoch 39\n",
      "0.4978148341178894\n",
      "Testing 6 hidden neurons, lamb=0.01, grid=8\n",
      "checkpoint directory created: ./model\n",
      "saving model version 0.0\n",
      "checkpoint directory created: ./model\n",
      "saving model version 0.0\n",
      "Successfully created and tested Model3\n"
     ]
    },
    {
     "name": "stderr",
     "output_type": "stream",
     "text": [
      "| train_loss: 5.05e-01 | eval_loss: 1.88e-01 | reg: 2.21e+01 |: 100%|█| 40/40 [01:25<00:00,  2.14s/i\n"
     ]
    },
    {
     "name": "stdout",
     "output_type": "stream",
     "text": [
      "saving model version 0.1\n",
      "Best epoch 39\n",
      "0.27588731050491333\n",
      "Testing 6 hidden neurons, lamb=0.001, grid=8\n",
      "checkpoint directory created: ./model\n",
      "saving model version 0.0\n",
      "checkpoint directory created: ./model\n",
      "saving model version 0.0\n",
      "Successfully created and tested Model3\n"
     ]
    },
    {
     "name": "stderr",
     "output_type": "stream",
     "text": [
      "| train_loss: 2.12e-01 | eval_loss: 1.87e-01 | reg: 3.48e+01 |: 100%|█| 40/40 [01:31<00:00,  2.28s/i\n"
     ]
    },
    {
     "name": "stdout",
     "output_type": "stream",
     "text": [
      "saving model version 0.1\n",
      "Best epoch 26\n",
      "0.2476193904876709\n",
      "Testing 6 hidden neurons, lamb=0.0001, grid=8\n",
      "checkpoint directory created: ./model\n",
      "saving model version 0.0\n",
      "checkpoint directory created: ./model\n",
      "saving model version 0.0\n",
      "Successfully created and tested Model3\n"
     ]
    },
    {
     "name": "stderr",
     "output_type": "stream",
     "text": [
      "| train_loss: 1.15e-01 | eval_loss: 1.81e-01 | reg: 7.58e+01 |: 100%|█| 40/40 [01:29<00:00,  2.25s/i\n"
     ]
    },
    {
     "name": "stdout",
     "output_type": "stream",
     "text": [
      "saving model version 0.1\n",
      "Best epoch 32\n",
      "0.2766837477684021\n",
      "Testing 6 hidden neurons, lamb=1e-05, grid=8\n",
      "checkpoint directory created: ./model\n",
      "saving model version 0.0\n",
      "checkpoint directory created: ./model\n",
      "saving model version 0.0\n",
      "Successfully created and tested Model3\n"
     ]
    },
    {
     "name": "stderr",
     "output_type": "stream",
     "text": [
      "| train_loss: 8.30e-02 | eval_loss: 2.01e-01 | reg: 1.04e+02 |: 100%|█| 40/40 [01:30<00:00,  2.27s/i\n"
     ]
    },
    {
     "name": "stdout",
     "output_type": "stream",
     "text": [
      "saving model version 0.1\n",
      "Best epoch 23\n",
      "0.2428288608789444\n",
      "Testing 7 hidden neurons, lamb=1.0, grid=3\n",
      "checkpoint directory created: ./model\n",
      "saving model version 0.0\n",
      "checkpoint directory created: ./model\n",
      "saving model version 0.0\n",
      "Successfully created and tested Model3\n"
     ]
    },
    {
     "name": "stderr",
     "output_type": "stream",
     "text": [
      "| train_loss: 3.65e+00 | eval_loss: 2.10e+00 | reg: 6.71e+00 |: 100%|█| 40/40 [01:13<00:00,  1.84s/i\n"
     ]
    },
    {
     "name": "stdout",
     "output_type": "stream",
     "text": [
      "saving model version 0.1\n",
      "Best epoch 39\n",
      "2.5273468494415283\n",
      "Testing 7 hidden neurons, lamb=0.1, grid=3\n",
      "checkpoint directory created: ./model\n",
      "saving model version 0.0\n",
      "checkpoint directory created: ./model\n",
      "saving model version 0.0\n",
      "Successfully created and tested Model3\n"
     ]
    },
    {
     "name": "stderr",
     "output_type": "stream",
     "text": [
      "| train_loss: 1.48e+00 | eval_loss: 3.33e-01 | reg: 2.04e+01 |: 100%|█| 40/40 [01:12<00:00,  1.82s/i\n"
     ]
    },
    {
     "name": "stdout",
     "output_type": "stream",
     "text": [
      "saving model version 0.1\n",
      "Best epoch 39\n",
      "0.5042538642883301\n",
      "Testing 7 hidden neurons, lamb=0.01, grid=3\n",
      "checkpoint directory created: ./model\n",
      "saving model version 0.0\n",
      "checkpoint directory created: ./model\n",
      "saving model version 0.0\n",
      "Successfully created and tested Model3\n"
     ]
    },
    {
     "name": "stderr",
     "output_type": "stream",
     "text": [
      "| train_loss: 5.04e-01 | eval_loss: 2.05e-01 | reg: 2.14e+01 |: 100%|█| 40/40 [01:14<00:00,  1.86s/i\n"
     ]
    },
    {
     "name": "stdout",
     "output_type": "stream",
     "text": [
      "saving model version 0.1\n",
      "Best epoch 38\n",
      "0.28879252076148987\n",
      "Testing 7 hidden neurons, lamb=0.001, grid=3\n",
      "checkpoint directory created: ./model\n",
      "saving model version 0.0\n",
      "checkpoint directory created: ./model\n",
      "saving model version 0.0\n",
      "Successfully created and tested Model3\n"
     ]
    },
    {
     "name": "stderr",
     "output_type": "stream",
     "text": [
      "| train_loss: 2.31e-01 | eval_loss: 1.86e-01 | reg: 2.93e+01 |: 100%|█| 40/40 [01:20<00:00,  2.01s/i\n"
     ]
    },
    {
     "name": "stdout",
     "output_type": "stream",
     "text": [
      "saving model version 0.1\n",
      "Best epoch 39\n",
      "0.24353310465812683\n",
      "Testing 7 hidden neurons, lamb=0.0001, grid=3\n",
      "checkpoint directory created: ./model\n",
      "saving model version 0.0\n",
      "checkpoint directory created: ./model\n",
      "saving model version 0.0\n",
      "Successfully created and tested Model3\n"
     ]
    },
    {
     "name": "stderr",
     "output_type": "stream",
     "text": [
      "| train_loss: 1.78e-01 | eval_loss: 1.94e-01 | reg: 6.70e+01 |: 100%|█| 40/40 [01:21<00:00,  2.03s/i\n"
     ]
    },
    {
     "name": "stdout",
     "output_type": "stream",
     "text": [
      "saving model version 0.1\n",
      "Best epoch 27\n",
      "0.260555237531662\n",
      "Testing 7 hidden neurons, lamb=1e-05, grid=3\n",
      "checkpoint directory created: ./model\n",
      "saving model version 0.0\n",
      "checkpoint directory created: ./model\n",
      "saving model version 0.0\n",
      "Successfully created and tested Model3\n"
     ]
    },
    {
     "name": "stderr",
     "output_type": "stream",
     "text": [
      "| train_loss: 1.58e-01 | eval_loss: 1.97e-01 | reg: 9.47e+01 |: 100%|█| 40/40 [01:19<00:00,  1.99s/i\n"
     ]
    },
    {
     "name": "stdout",
     "output_type": "stream",
     "text": [
      "saving model version 0.1\n",
      "Best epoch 30\n",
      "0.242073193192482\n",
      "Testing 7 hidden neurons, lamb=1.0, grid=4\n",
      "checkpoint directory created: ./model\n",
      "saving model version 0.0\n",
      "checkpoint directory created: ./model\n",
      "saving model version 0.0\n",
      "Successfully created and tested Model3\n"
     ]
    },
    {
     "name": "stderr",
     "output_type": "stream",
     "text": [
      "| train_loss: 3.62e+00 | eval_loss: 2.56e+00 | reg: 3.92e+00 |: 100%|█| 40/40 [01:17<00:00,  1.95s/i\n"
     ]
    },
    {
     "name": "stdout",
     "output_type": "stream",
     "text": [
      "saving model version 0.1\n",
      "Best epoch 39\n",
      "2.976983070373535\n",
      "Testing 7 hidden neurons, lamb=0.1, grid=4\n",
      "checkpoint directory created: ./model\n",
      "saving model version 0.0\n",
      "checkpoint directory created: ./model\n",
      "saving model version 0.0\n",
      "Successfully created and tested Model3\n"
     ]
    },
    {
     "name": "stderr",
     "output_type": "stream",
     "text": [
      "| train_loss: 1.48e+00 | eval_loss: 3.32e-01 | reg: 2.04e+01 |: 100%|█| 40/40 [01:15<00:00,  1.90s/i\n"
     ]
    },
    {
     "name": "stdout",
     "output_type": "stream",
     "text": [
      "saving model version 0.1\n",
      "Best epoch 32\n",
      "0.4979231059551239\n",
      "Testing 7 hidden neurons, lamb=0.01, grid=4\n",
      "checkpoint directory created: ./model\n",
      "saving model version 0.0\n",
      "checkpoint directory created: ./model\n",
      "saving model version 0.0\n",
      "Successfully created and tested Model3\n"
     ]
    },
    {
     "name": "stderr",
     "output_type": "stream",
     "text": [
      "| train_loss: 5.14e-01 | eval_loss: 2.00e-01 | reg: 2.25e+01 |: 100%|█| 40/40 [01:17<00:00,  1.93s/i\n"
     ]
    },
    {
     "name": "stdout",
     "output_type": "stream",
     "text": [
      "saving model version 0.1\n",
      "Best epoch 39\n",
      "0.2855061888694763\n",
      "Testing 7 hidden neurons, lamb=0.001, grid=4\n",
      "checkpoint directory created: ./model\n",
      "saving model version 0.0\n",
      "checkpoint directory created: ./model\n",
      "saving model version 0.0\n",
      "Successfully created and tested Model3\n"
     ]
    },
    {
     "name": "stderr",
     "output_type": "stream",
     "text": [
      "| train_loss: 2.26e-01 | eval_loss: 1.85e-01 | reg: 3.13e+01 |: 100%|█| 40/40 [01:22<00:00,  2.06s/i\n"
     ]
    },
    {
     "name": "stdout",
     "output_type": "stream",
     "text": [
      "saving model version 0.1\n",
      "Best epoch 28\n",
      "0.2518441677093506\n",
      "Testing 7 hidden neurons, lamb=0.0001, grid=4\n",
      "checkpoint directory created: ./model\n",
      "saving model version 0.0\n",
      "checkpoint directory created: ./model\n",
      "saving model version 0.0\n",
      "Successfully created and tested Model3\n"
     ]
    },
    {
     "name": "stderr",
     "output_type": "stream",
     "text": [
      "| train_loss: 1.54e-01 | eval_loss: 2.10e-01 | reg: 7.98e+01 |: 100%|█| 40/40 [01:22<00:00,  2.06s/i\n"
     ]
    },
    {
     "name": "stdout",
     "output_type": "stream",
     "text": [
      "saving model version 0.1\n",
      "Best epoch 16\n",
      "0.24382160604000092\n",
      "Testing 7 hidden neurons, lamb=1e-05, grid=4\n",
      "checkpoint directory created: ./model\n",
      "saving model version 0.0\n",
      "checkpoint directory created: ./model\n",
      "saving model version 0.0\n",
      "Successfully created and tested Model3\n"
     ]
    },
    {
     "name": "stderr",
     "output_type": "stream",
     "text": [
      "| train_loss: 1.47e-01 | eval_loss: 2.03e-01 | reg: 1.05e+02 |: 100%|█| 40/40 [01:23<00:00,  2.09s/i\n"
     ]
    },
    {
     "name": "stdout",
     "output_type": "stream",
     "text": [
      "saving model version 0.1\n",
      "Best epoch 18\n",
      "0.23744332790374756\n",
      "Testing 7 hidden neurons, lamb=1.0, grid=5\n",
      "checkpoint directory created: ./model\n",
      "saving model version 0.0\n",
      "checkpoint directory created: ./model\n",
      "saving model version 0.0\n",
      "Successfully created and tested Model3\n"
     ]
    },
    {
     "name": "stderr",
     "output_type": "stream",
     "text": [
      "| train_loss: 3.77e+00 | eval_loss: 2.73e+00 | reg: 4.02e+00 |: 100%|█| 40/40 [01:18<00:00,  1.97s/i\n"
     ]
    },
    {
     "name": "stdout",
     "output_type": "stream",
     "text": [
      "saving model version 0.1\n",
      "Best epoch 0\n",
      "3.0721275806427\n",
      "Testing 7 hidden neurons, lamb=0.1, grid=5\n",
      "checkpoint directory created: ./model\n",
      "saving model version 0.0\n",
      "checkpoint directory created: ./model\n",
      "saving model version 0.0\n",
      "Successfully created and tested Model3\n"
     ]
    },
    {
     "name": "stderr",
     "output_type": "stream",
     "text": [
      "| train_loss: 1.48e+00 | eval_loss: 3.37e-01 | reg: 2.04e+01 |: 100%|█| 40/40 [01:18<00:00,  1.96s/i\n"
     ]
    },
    {
     "name": "stdout",
     "output_type": "stream",
     "text": [
      "saving model version 0.1\n",
      "Best epoch 39\n",
      "0.5083073973655701\n",
      "Testing 7 hidden neurons, lamb=0.01, grid=5\n",
      "checkpoint directory created: ./model\n",
      "saving model version 0.0\n",
      "checkpoint directory created: ./model\n",
      "saving model version 0.0\n",
      "Successfully created and tested Model3\n"
     ]
    },
    {
     "name": "stderr",
     "output_type": "stream",
     "text": [
      "| train_loss: 5.04e-01 | eval_loss: 2.04e-01 | reg: 2.15e+01 |: 100%|█| 40/40 [01:20<00:00,  2.01s/i\n"
     ]
    },
    {
     "name": "stdout",
     "output_type": "stream",
     "text": [
      "saving model version 0.1\n",
      "Best epoch 39\n",
      "0.2877315878868103\n",
      "Testing 7 hidden neurons, lamb=0.001, grid=5\n",
      "checkpoint directory created: ./model\n",
      "saving model version 0.0\n",
      "checkpoint directory created: ./model\n",
      "saving model version 0.0\n",
      "Successfully created and tested Model3\n"
     ]
    },
    {
     "name": "stderr",
     "output_type": "stream",
     "text": [
      "| train_loss: 2.23e-01 | eval_loss: 1.79e-01 | reg: 3.23e+01 |: 100%|█| 40/40 [01:26<00:00,  2.17s/i\n"
     ]
    },
    {
     "name": "stdout",
     "output_type": "stream",
     "text": [
      "saving model version 0.1\n",
      "Best epoch 39\n",
      "0.26993775367736816\n",
      "Testing 7 hidden neurons, lamb=0.0001, grid=5\n",
      "checkpoint directory created: ./model\n",
      "saving model version 0.0\n",
      "checkpoint directory created: ./model\n",
      "saving model version 0.0\n",
      "Successfully created and tested Model3\n"
     ]
    },
    {
     "name": "stderr",
     "output_type": "stream",
     "text": [
      "| train_loss: 1.52e-01 | eval_loss: 1.93e-01 | reg: 8.28e+01 |: 100%|█| 40/40 [01:24<00:00,  2.12s/i\n"
     ]
    },
    {
     "name": "stdout",
     "output_type": "stream",
     "text": [
      "saving model version 0.1\n",
      "Best epoch 25\n",
      "0.24755185842514038\n",
      "Testing 7 hidden neurons, lamb=1e-05, grid=5\n",
      "checkpoint directory created: ./model\n",
      "saving model version 0.0\n",
      "checkpoint directory created: ./model\n",
      "saving model version 0.0\n",
      "Successfully created and tested Model3\n"
     ]
    },
    {
     "name": "stderr",
     "output_type": "stream",
     "text": [
      "| train_loss: 1.19e-01 | eval_loss: 2.02e-01 | reg: 1.22e+02 |: 100%|█| 40/40 [01:24<00:00,  2.10s/i\n"
     ]
    },
    {
     "name": "stdout",
     "output_type": "stream",
     "text": [
      "saving model version 0.1\n",
      "Best epoch 32\n",
      "0.2340555191040039\n",
      "Testing 7 hidden neurons, lamb=1.0, grid=6\n",
      "checkpoint directory created: ./model\n",
      "saving model version 0.0\n",
      "checkpoint directory created: ./model\n",
      "saving model version 0.0\n",
      "Successfully created and tested Model3\n"
     ]
    },
    {
     "name": "stderr",
     "output_type": "stream",
     "text": [
      "| train_loss: 3.76e+00 | eval_loss: 2.69e+00 | reg: 4.11e+00 |: 100%|█| 40/40 [01:24<00:00,  2.12s/i\n"
     ]
    },
    {
     "name": "stdout",
     "output_type": "stream",
     "text": [
      "saving model version 0.1\n",
      "Best epoch 21\n",
      "3.0988664627075195\n",
      "Testing 7 hidden neurons, lamb=0.1, grid=6\n",
      "checkpoint directory created: ./model\n",
      "saving model version 0.0\n",
      "checkpoint directory created: ./model\n",
      "saving model version 0.0\n",
      "Successfully created and tested Model3\n"
     ]
    },
    {
     "name": "stderr",
     "output_type": "stream",
     "text": [
      "| train_loss: 1.50e+00 | eval_loss: 3.49e-01 | reg: 2.10e+01 |: 100%|█| 40/40 [01:21<00:00,  2.03s/i\n"
     ]
    },
    {
     "name": "stdout",
     "output_type": "stream",
     "text": [
      "saving model version 0.1\n",
      "Best epoch 23\n",
      "0.5025423169136047\n",
      "Testing 7 hidden neurons, lamb=0.01, grid=6\n",
      "checkpoint directory created: ./model\n",
      "saving model version 0.0\n",
      "checkpoint directory created: ./model\n",
      "saving model version 0.0\n",
      "Successfully created and tested Model3\n"
     ]
    },
    {
     "name": "stderr",
     "output_type": "stream",
     "text": [
      "| train_loss: 5.09e-01 | eval_loss: 2.05e-01 | reg: 2.21e+01 |: 100%|█| 40/40 [01:21<00:00,  2.04s/i\n"
     ]
    },
    {
     "name": "stdout",
     "output_type": "stream",
     "text": [
      "saving model version 0.1\n",
      "Best epoch 29\n",
      "0.28823280334472656\n",
      "Testing 7 hidden neurons, lamb=0.001, grid=6\n",
      "checkpoint directory created: ./model\n",
      "saving model version 0.0\n",
      "checkpoint directory created: ./model\n",
      "saving model version 0.0\n",
      "Successfully created and tested Model3\n"
     ]
    },
    {
     "name": "stderr",
     "output_type": "stream",
     "text": [
      "| train_loss: 2.20e-01 | eval_loss: 1.74e-01 | reg: 3.54e+01 |: 100%|█| 40/40 [01:26<00:00,  2.16s/i\n"
     ]
    },
    {
     "name": "stdout",
     "output_type": "stream",
     "text": [
      "saving model version 0.1\n",
      "Best epoch 33\n",
      "0.25734323263168335\n",
      "Testing 7 hidden neurons, lamb=0.0001, grid=6\n",
      "checkpoint directory created: ./model\n",
      "saving model version 0.0\n",
      "checkpoint directory created: ./model\n",
      "saving model version 0.0\n",
      "Successfully created and tested Model3\n"
     ]
    },
    {
     "name": "stderr",
     "output_type": "stream",
     "text": [
      "| train_loss: 1.44e-01 | eval_loss: 1.98e-01 | reg: 8.64e+01 |: 100%|█| 40/40 [01:32<00:00,  2.32s/i\n"
     ]
    },
    {
     "name": "stdout",
     "output_type": "stream",
     "text": [
      "saving model version 0.1\n",
      "Best epoch 21\n",
      "0.2546636760234833\n",
      "Testing 7 hidden neurons, lamb=1e-05, grid=6\n",
      "checkpoint directory created: ./model\n",
      "saving model version 0.0\n",
      "checkpoint directory created: ./model\n",
      "saving model version 0.0\n",
      "Successfully created and tested Model3\n"
     ]
    },
    {
     "name": "stderr",
     "output_type": "stream",
     "text": [
      "| train_loss: 1.14e-01 | eval_loss: 1.90e-01 | reg: 1.21e+02 |: 100%|█| 40/40 [01:26<00:00,  2.17s/i\n"
     ]
    },
    {
     "name": "stdout",
     "output_type": "stream",
     "text": [
      "saving model version 0.1\n",
      "Best epoch 38\n",
      "0.2397737056016922\n",
      "Testing 7 hidden neurons, lamb=1.0, grid=7\n",
      "checkpoint directory created: ./model\n",
      "saving model version 0.0\n",
      "checkpoint directory created: ./model\n",
      "saving model version 0.0\n",
      "Successfully created and tested Model3\n"
     ]
    },
    {
     "name": "stderr",
     "output_type": "stream",
     "text": [
      "| train_loss: 3.68e+00 | eval_loss: 2.64e+00 | reg: 3.82e+00 |: 100%|█| 40/40 [01:13<00:00,  1.83s/i\n"
     ]
    },
    {
     "name": "stdout",
     "output_type": "stream",
     "text": [
      "saving model version 0.1\n",
      "Best epoch 7\n",
      "3.0210816860198975\n",
      "Testing 7 hidden neurons, lamb=0.1, grid=7\n",
      "checkpoint directory created: ./model\n",
      "saving model version 0.0\n",
      "checkpoint directory created: ./model\n",
      "saving model version 0.0\n",
      "Successfully created and tested Model3\n"
     ]
    },
    {
     "name": "stderr",
     "output_type": "stream",
     "text": [
      "| train_loss: 1.49e+00 | eval_loss: 3.21e-01 | reg: 2.06e+01 |: 100%|█| 40/40 [01:27<00:00,  2.18s/i\n"
     ]
    },
    {
     "name": "stdout",
     "output_type": "stream",
     "text": [
      "saving model version 0.1\n",
      "Best epoch 39\n",
      "0.48636069893836975\n",
      "Testing 7 hidden neurons, lamb=0.01, grid=7\n",
      "checkpoint directory created: ./model\n",
      "saving model version 0.0\n",
      "checkpoint directory created: ./model\n",
      "saving model version 0.0\n",
      "Successfully created and tested Model3\n"
     ]
    },
    {
     "name": "stderr",
     "output_type": "stream",
     "text": [
      "| train_loss: 5.04e-01 | eval_loss: 1.94e-01 | reg: 2.18e+01 |: 100%|█| 40/40 [01:24<00:00,  2.11s/i\n"
     ]
    },
    {
     "name": "stdout",
     "output_type": "stream",
     "text": [
      "saving model version 0.1\n",
      "Best epoch 37\n",
      "0.2790301740169525\n",
      "Testing 7 hidden neurons, lamb=0.001, grid=7\n",
      "checkpoint directory created: ./model\n",
      "saving model version 0.0\n",
      "checkpoint directory created: ./model\n",
      "saving model version 0.0\n",
      "Successfully created and tested Model3\n"
     ]
    },
    {
     "name": "stderr",
     "output_type": "stream",
     "text": [
      "| train_loss: 2.09e-01 | eval_loss: 1.58e-01 | reg: 3.37e+01 |: 100%|█| 40/40 [01:28<00:00,  2.22s/i\n"
     ]
    },
    {
     "name": "stdout",
     "output_type": "stream",
     "text": [
      "saving model version 0.1\n",
      "Best epoch 38\n",
      "0.2541278004646301\n",
      "Testing 7 hidden neurons, lamb=0.0001, grid=7\n",
      "checkpoint directory created: ./model\n",
      "saving model version 0.0\n",
      "checkpoint directory created: ./model\n",
      "saving model version 0.0\n",
      "Successfully created and tested Model3\n"
     ]
    },
    {
     "name": "stderr",
     "output_type": "stream",
     "text": [
      "| train_loss: 1.23e-01 | eval_loss: 1.78e-01 | reg: 7.19e+01 |: 100%|█| 40/40 [01:28<00:00,  2.21s/i\n"
     ]
    },
    {
     "name": "stdout",
     "output_type": "stream",
     "text": [
      "saving model version 0.1\n",
      "Best epoch 32\n",
      "0.2428319752216339\n",
      "Testing 7 hidden neurons, lamb=1e-05, grid=7\n",
      "checkpoint directory created: ./model\n",
      "saving model version 0.0\n",
      "checkpoint directory created: ./model\n",
      "saving model version 0.0\n",
      "Successfully created and tested Model3\n"
     ]
    },
    {
     "name": "stderr",
     "output_type": "stream",
     "text": [
      "| train_loss: 9.57e-02 | eval_loss: 1.92e-01 | reg: 9.97e+01 |: 100%|█| 40/40 [01:27<00:00,  2.19s/i\n"
     ]
    },
    {
     "name": "stdout",
     "output_type": "stream",
     "text": [
      "saving model version 0.1\n",
      "Best epoch 31\n",
      "0.2574554681777954\n",
      "Testing 7 hidden neurons, lamb=1.0, grid=8\n",
      "checkpoint directory created: ./model\n",
      "saving model version 0.0\n",
      "checkpoint directory created: ./model\n",
      "saving model version 0.0\n",
      "Successfully created and tested Model3\n"
     ]
    },
    {
     "name": "stderr",
     "output_type": "stream",
     "text": [
      "| train_loss: 3.72e+00 | eval_loss: 2.60e+00 | reg: 4.37e+00 |: 100%|█| 40/40 [01:28<00:00,  2.22s/i\n"
     ]
    },
    {
     "name": "stdout",
     "output_type": "stream",
     "text": [
      "saving model version 0.1\n",
      "Best epoch 39\n",
      "3.028148889541626\n",
      "Testing 7 hidden neurons, lamb=0.1, grid=8\n",
      "checkpoint directory created: ./model\n",
      "saving model version 0.0\n",
      "checkpoint directory created: ./model\n",
      "saving model version 0.0\n",
      "Successfully created and tested Model3\n"
     ]
    },
    {
     "name": "stderr",
     "output_type": "stream",
     "text": [
      "| train_loss: 1.49e+00 | eval_loss: 3.45e-01 | reg: 2.06e+01 |: 100%|█| 40/40 [01:25<00:00,  2.14s/i\n"
     ]
    },
    {
     "name": "stdout",
     "output_type": "stream",
     "text": [
      "saving model version 0.1\n",
      "Best epoch 36\n",
      "0.5098813772201538\n",
      "Testing 7 hidden neurons, lamb=0.01, grid=8\n",
      "checkpoint directory created: ./model\n",
      "saving model version 0.0\n",
      "checkpoint directory created: ./model\n",
      "saving model version 0.0\n",
      "Successfully created and tested Model3\n"
     ]
    },
    {
     "name": "stderr",
     "output_type": "stream",
     "text": [
      "| train_loss: 5.01e-01 | eval_loss: 1.83e-01 | reg: 2.18e+01 |: 100%|█| 40/40 [01:25<00:00,  2.15s/i\n"
     ]
    },
    {
     "name": "stdout",
     "output_type": "stream",
     "text": [
      "saving model version 0.1\n",
      "Best epoch 39\n",
      "0.28470608592033386\n",
      "Testing 7 hidden neurons, lamb=0.001, grid=8\n",
      "checkpoint directory created: ./model\n",
      "saving model version 0.0\n",
      "checkpoint directory created: ./model\n",
      "saving model version 0.0\n",
      "Successfully created and tested Model3\n"
     ]
    },
    {
     "name": "stderr",
     "output_type": "stream",
     "text": [
      "| train_loss: 2.14e-01 | eval_loss: 1.76e-01 | reg: 3.45e+01 |: 100%|█| 40/40 [01:30<00:00,  2.25s/i\n"
     ]
    },
    {
     "name": "stdout",
     "output_type": "stream",
     "text": [
      "saving model version 0.1\n",
      "Best epoch 25\n",
      "0.2554795742034912\n",
      "Testing 7 hidden neurons, lamb=0.0001, grid=8\n",
      "checkpoint directory created: ./model\n",
      "saving model version 0.0\n",
      "checkpoint directory created: ./model\n",
      "saving model version 0.0\n",
      "Successfully created and tested Model3\n"
     ]
    },
    {
     "name": "stderr",
     "output_type": "stream",
     "text": [
      "| train_loss: 1.29e-01 | eval_loss: 1.89e-01 | reg: 7.27e+01 |: 100%|█| 40/40 [01:31<00:00,  2.28s/i\n"
     ]
    },
    {
     "name": "stdout",
     "output_type": "stream",
     "text": [
      "saving model version 0.1\n",
      "Best epoch 11\n",
      "0.2530447244644165\n",
      "Testing 7 hidden neurons, lamb=1e-05, grid=8\n",
      "checkpoint directory created: ./model\n",
      "saving model version 0.0\n",
      "checkpoint directory created: ./model\n",
      "saving model version 0.0\n",
      "Successfully created and tested Model3\n"
     ]
    },
    {
     "name": "stderr",
     "output_type": "stream",
     "text": [
      "| train_loss: 9.96e-02 | eval_loss: 1.88e-01 | reg: 1.07e+02 |: 100%|█| 40/40 [01:30<00:00,  2.25s/i"
     ]
    },
    {
     "name": "stdout",
     "output_type": "stream",
     "text": [
      "saving model version 0.1\n",
      "Best epoch 10\n",
      "0.2589361071586609\n",
      "\n",
      "✅ Top 5 Configurations:\n",
      "1. width=[15, 1, 1], grid=5, lamb=1e-05| best_epoch=30 | loss=0.21210\n",
      "2. width=[15, 6, 1], grid=7, lamb=1e-05| best_epoch=21 | loss=0.21291\n",
      "3. width=[15, 4, 1], grid=5, lamb=0.0001| best_epoch=29 | loss=0.21361\n",
      "4. width=[15, 1, 1], grid=6, lamb=0.0001| best_epoch=33 | loss=0.22014\n",
      "5. width=[15, 1, 1], grid=6, lamb=1e-05| best_epoch=26 | loss=0.22598\n"
     ]
    },
    {
     "name": "stderr",
     "output_type": "stream",
     "text": [
      "\n"
     ]
    }
   ],
   "source": [
    "grid_search_kan_hybrid(dataset, Model3, max_steps=40)"
   ]
  },
  {
   "cell_type": "markdown",
   "id": "745cd737-0c92-4dcb-a0c0-dadef6665cbd",
   "metadata": {},
   "source": [
    "## ✅ Top 5 Configurations:\n",
    "1. width=[15, 7, 1], grid=4, lamb=1e-05 | loss=0.21412\n",
    "2. width=[15, 6, 1], grid=4, lamb=0.001 | loss=0.21556\n",
    "3. width=[15, 5, 1], grid=5, lamb=1e-05 | loss=0.21705\n",
    "4. width=[15, 2, 1], grid=8, lamb=0.001 | loss=0.22572\n",
    "5. width=[15, 6, 1], grid=4, lamb=0.0001 | loss=0.22918"
   ]
  },
  {
   "cell_type": "markdown",
   "id": "29f796f1-39bc-4636-bdb4-3e5d616e80cb",
   "metadata": {},
   "source": [
    "# Grid Search for Hibrid Model4"
   ]
  },
  {
   "cell_type": "code",
   "execution_count": 24,
   "id": "2b7dc18d-5bec-4fe8-9adc-152a4501f2db",
   "metadata": {},
   "outputs": [],
   "source": [
    "class Model4(nn.Module):\n",
    "    def __init__(self, attributes, imgs_shape, kan_neurons, kan_grid, device=device):\n",
    "        super(Model4, self).__init__()\n",
    "\n",
    "        self.cnn_branch = nn.Sequential(\n",
    "            nn.Conv2d(imgs_shape[0], 16, kernel_size=3, padding=2),     # out: 16 x 9 x 9\n",
    "            nn.BatchNorm2d(16),\n",
    "            nn.ReLU(),\n",
    "            nn.MaxPool2d(2),                                            # out: 16 x 4 x 4\n",
    "            \n",
    "            nn.Conv2d(16, 32, kernel_size=3, padding=2),                # out: 32 x 5 x 5\n",
    "            nn.BatchNorm2d(32),\n",
    "            nn.ReLU(),\n",
    "            nn.MaxPool2d(2),                                            # 32 x 2 x 2\n",
    "            \n",
    "            nn.Conv2d(32, 64, kernel_size=3, padding=2),\n",
    "            nn.LayerNorm([64, 5, 5]),\n",
    "            nn.Sigmoid(),\n",
    "            nn.Flatten()\n",
    "        ).to(device)\n",
    "\n",
    "        # Middle KAN layers\n",
    "        self.m_kan = KAN(\n",
    "            width=[attributes, kan_neurons],\n",
    "            grid=kan_grid,\n",
    "            k=3,\n",
    "            seed=SEED,\n",
    "            device=device\n",
    "        )\n",
    "        # Calculate the size of the flattened output\n",
    "        self.flat_size = self._get_flat_size(imgs_shape)\n",
    "        # Final MLP layers\n",
    "        self.final_kan = KAN(\n",
    "            width=[self.flat_size + kan_neurons, 1],\n",
    "            grid=kan_grid,\n",
    "            k=3,\n",
    "            device=device\n",
    "        )\n",
    "        \n",
    "        self.device = device\n",
    "\n",
    "    def _get_flat_size(self, imgs_shape):\n",
    "        # Forward pass with dummy input to calculate flat size\n",
    "        dummy_input = torch.zeros(4, *imgs_shape, device=device)\n",
    "        x = self.cnn_branch(dummy_input)\n",
    "        return x.size(1)\n",
    "\n",
    "    def get_concat_output(self, mlp_input, cnn_input):\n",
    "        # Ensure inputs are moved to the correct device\n",
    "        kan_input = mlp_input.to(self.device)\n",
    "        cnn_input = cnn_input.to(self.device)\n",
    "        \n",
    "        cnn_output = self.cnn_branch(cnn_input)  # Process image input\n",
    "        kan_output = self.m_kan(kan_input)  # Process numerical input\n",
    "        \n",
    "        return torch.cat((kan_output, cnn_output), dim=1)\n",
    "\n",
    "    \n",
    "    def forward(self, mlp_input, cnn_input):\n",
    "        concat_output = self.get_concat_output(mlp_input, cnn_input)\n",
    "        return self.final_kan(concat_output)"
   ]
  },
  {
   "cell_type": "code",
   "execution_count": 25,
   "id": "6797fb32-392a-4191-851d-501a47cc3498",
   "metadata": {
    "scrolled": true
   },
   "outputs": [
    {
     "name": "stdout",
     "output_type": "stream",
     "text": [
      "Testing 1 hidden neurons, lamb=1.0, grid=3\n",
      "checkpoint directory created: ./model\n",
      "saving model version 0.0\n",
      "checkpoint directory created: ./model\n",
      "saving model version 0.0\n",
      "Successfully created and tested Model4\n"
     ]
    },
    {
     "name": "stderr",
     "output_type": "stream",
     "text": [
      "| train_loss: 3.49e+00 | eval_loss: 2.99e+00 | reg: 1.97e-01 |: 100%|█| 50/50 [00:53<00:00,  1.06s/i\n"
     ]
    },
    {
     "name": "stdout",
     "output_type": "stream",
     "text": [
      "saving model version 0.1\n",
      "Best epoch 0\n",
      "3.309527635574341\n",
      "Testing 1 hidden neurons, lamb=0.1, grid=3\n",
      "checkpoint directory created: ./model\n",
      "saving model version 0.0\n",
      "checkpoint directory created: ./model\n",
      "saving model version 0.0\n",
      "Successfully created and tested Model4\n"
     ]
    },
    {
     "name": "stderr",
     "output_type": "stream",
     "text": [
      "| train_loss: 1.52e+00 | eval_loss: 3.03e-01 | reg: 2.18e+01 |: 100%|█| 50/50 [00:55<00:00,  1.10s/i\n"
     ]
    },
    {
     "name": "stdout",
     "output_type": "stream",
     "text": [
      "saving model version 0.1\n",
      "Best epoch 36\n",
      "0.4823254346847534\n",
      "Testing 1 hidden neurons, lamb=0.01, grid=3\n",
      "checkpoint directory created: ./model\n",
      "saving model version 0.0\n",
      "checkpoint directory created: ./model\n",
      "saving model version 0.0\n",
      "Successfully created and tested Model4\n"
     ]
    },
    {
     "name": "stderr",
     "output_type": "stream",
     "text": [
      "| train_loss: 5.05e-01 | eval_loss: 1.99e-01 | reg: 2.27e+01 |: 100%|█| 50/50 [00:54<00:00,  1.10s/i\n"
     ]
    },
    {
     "name": "stdout",
     "output_type": "stream",
     "text": [
      "saving model version 0.1\n",
      "Best epoch 49\n",
      "0.3108844757080078\n",
      "Testing 1 hidden neurons, lamb=0.001, grid=3\n",
      "checkpoint directory created: ./model\n",
      "saving model version 0.0\n",
      "checkpoint directory created: ./model\n",
      "saving model version 0.0\n",
      "Successfully created and tested Model4\n"
     ]
    },
    {
     "name": "stderr",
     "output_type": "stream",
     "text": [
      "| train_loss: 2.05e-01 | eval_loss: 1.89e-01 | reg: 2.99e+01 |: 100%|█| 50/50 [00:58<00:00,  1.17s/i\n"
     ]
    },
    {
     "name": "stdout",
     "output_type": "stream",
     "text": [
      "saving model version 0.1\n",
      "Best epoch 30\n",
      "0.2670741081237793\n",
      "Testing 1 hidden neurons, lamb=0.0001, grid=3\n",
      "checkpoint directory created: ./model\n",
      "saving model version 0.0\n",
      "checkpoint directory created: ./model\n",
      "saving model version 0.0\n",
      "Successfully created and tested Model4\n"
     ]
    },
    {
     "name": "stderr",
     "output_type": "stream",
     "text": [
      "| train_loss: 1.25e-01 | eval_loss: 1.95e-01 | reg: 5.83e+01 |: 100%|█| 50/50 [00:57<00:00,  1.14s/i\n"
     ]
    },
    {
     "name": "stdout",
     "output_type": "stream",
     "text": [
      "saving model version 0.1\n",
      "Best epoch 49\n",
      "0.24077104032039642\n",
      "Testing 1 hidden neurons, lamb=1e-05, grid=3\n",
      "checkpoint directory created: ./model\n",
      "saving model version 0.0\n",
      "checkpoint directory created: ./model\n",
      "saving model version 0.0\n",
      "Successfully created and tested Model4\n"
     ]
    },
    {
     "name": "stderr",
     "output_type": "stream",
     "text": [
      "| train_loss: 1.04e-01 | eval_loss: 1.79e-01 | reg: 8.34e+01 |: 100%|█| 50/50 [00:57<00:00,  1.16s/i\n"
     ]
    },
    {
     "name": "stdout",
     "output_type": "stream",
     "text": [
      "saving model version 0.1\n",
      "Best epoch 48\n",
      "0.22293391823768616\n",
      "Testing 1 hidden neurons, lamb=1.0, grid=4\n",
      "checkpoint directory created: ./model\n",
      "saving model version 0.0\n",
      "checkpoint directory created: ./model\n",
      "saving model version 0.0\n",
      "Successfully created and tested Model4\n"
     ]
    },
    {
     "name": "stderr",
     "output_type": "stream",
     "text": [
      "| train_loss: 3.49e+00 | eval_loss: 2.99e+00 | reg: 1.70e-01 |: 100%|█| 50/50 [00:49<00:00,  1.01it/\n"
     ]
    },
    {
     "name": "stdout",
     "output_type": "stream",
     "text": [
      "saving model version 0.1\n",
      "Best epoch 0\n",
      "3.354829788208008\n",
      "Testing 1 hidden neurons, lamb=0.1, grid=4\n",
      "checkpoint directory created: ./model\n",
      "saving model version 0.0\n",
      "checkpoint directory created: ./model\n",
      "saving model version 0.0\n",
      "Successfully created and tested Model4\n"
     ]
    },
    {
     "name": "stderr",
     "output_type": "stream",
     "text": [
      "| train_loss: 1.52e+00 | eval_loss: 3.01e-01 | reg: 2.20e+01 |: 100%|█| 50/50 [00:58<00:00,  1.16s/i\n"
     ]
    },
    {
     "name": "stdout",
     "output_type": "stream",
     "text": [
      "saving model version 0.1\n",
      "Best epoch 49\n",
      "0.4730590581893921\n",
      "Testing 1 hidden neurons, lamb=0.01, grid=4\n",
      "checkpoint directory created: ./model\n",
      "saving model version 0.0\n",
      "checkpoint directory created: ./model\n",
      "saving model version 0.0\n",
      "Successfully created and tested Model4\n"
     ]
    },
    {
     "name": "stderr",
     "output_type": "stream",
     "text": [
      "| train_loss: 5.01e-01 | eval_loss: 1.98e-01 | reg: 2.24e+01 |: 100%|█| 50/50 [00:58<00:00,  1.17s/i\n"
     ]
    },
    {
     "name": "stdout",
     "output_type": "stream",
     "text": [
      "saving model version 0.1\n",
      "Best epoch 14\n",
      "0.2908843159675598\n",
      "Testing 1 hidden neurons, lamb=0.001, grid=4\n",
      "checkpoint directory created: ./model\n",
      "saving model version 0.0\n",
      "checkpoint directory created: ./model\n",
      "saving model version 0.0\n",
      "Successfully created and tested Model4\n"
     ]
    },
    {
     "name": "stderr",
     "output_type": "stream",
     "text": [
      "| train_loss: 1.97e-01 | eval_loss: 1.94e-01 | reg: 2.83e+01 |: 100%|█| 50/50 [01:01<00:00,  1.24s/i\n"
     ]
    },
    {
     "name": "stdout",
     "output_type": "stream",
     "text": [
      "saving model version 0.1\n",
      "Best epoch 21\n",
      "0.26197466254234314\n",
      "Testing 1 hidden neurons, lamb=0.0001, grid=4\n",
      "checkpoint directory created: ./model\n",
      "saving model version 0.0\n",
      "checkpoint directory created: ./model\n",
      "saving model version 0.0\n",
      "Successfully created and tested Model4\n"
     ]
    },
    {
     "name": "stderr",
     "output_type": "stream",
     "text": [
      "| train_loss: 1.23e-01 | eval_loss: 1.92e-01 | reg: 5.43e+01 |: 100%|█| 50/50 [01:02<00:00,  1.25s/i\n"
     ]
    },
    {
     "name": "stdout",
     "output_type": "stream",
     "text": [
      "saving model version 0.1\n",
      "Best epoch 18\n",
      "0.2606702148914337\n",
      "Testing 1 hidden neurons, lamb=1e-05, grid=4\n",
      "checkpoint directory created: ./model\n",
      "saving model version 0.0\n",
      "checkpoint directory created: ./model\n",
      "saving model version 0.0\n",
      "Successfully created and tested Model4\n"
     ]
    },
    {
     "name": "stderr",
     "output_type": "stream",
     "text": [
      "| train_loss: 1.02e-01 | eval_loss: 2.09e-01 | reg: 7.40e+01 |: 100%|█| 50/50 [01:02<00:00,  1.26s/i\n"
     ]
    },
    {
     "name": "stdout",
     "output_type": "stream",
     "text": [
      "saving model version 0.1\n",
      "Best epoch 25\n",
      "0.2660409212112427\n",
      "Testing 1 hidden neurons, lamb=1.0, grid=5\n",
      "checkpoint directory created: ./model\n",
      "saving model version 0.0\n",
      "checkpoint directory created: ./model\n",
      "saving model version 0.0\n",
      "Successfully created and tested Model4\n"
     ]
    },
    {
     "name": "stderr",
     "output_type": "stream",
     "text": [
      "| train_loss: 3.49e+00 | eval_loss: 2.99e+00 | reg: 1.79e-01 |: 100%|█| 50/50 [00:56<00:00,  1.13s/i\n"
     ]
    },
    {
     "name": "stdout",
     "output_type": "stream",
     "text": [
      "saving model version 0.1\n",
      "Best epoch 1\n",
      "3.382932662963867\n",
      "Testing 1 hidden neurons, lamb=0.1, grid=5\n",
      "checkpoint directory created: ./model\n",
      "saving model version 0.0\n",
      "checkpoint directory created: ./model\n",
      "saving model version 0.0\n",
      "Successfully created and tested Model4\n"
     ]
    },
    {
     "name": "stderr",
     "output_type": "stream",
     "text": [
      "| train_loss: 1.53e+00 | eval_loss: 2.98e-01 | reg: 2.21e+01 |: 100%|█| 50/50 [01:04<00:00,  1.28s/i\n"
     ]
    },
    {
     "name": "stdout",
     "output_type": "stream",
     "text": [
      "saving model version 0.1\n",
      "Best epoch 49\n",
      "0.473615825176239\n",
      "Testing 1 hidden neurons, lamb=0.01, grid=5\n",
      "checkpoint directory created: ./model\n",
      "saving model version 0.0\n",
      "checkpoint directory created: ./model\n",
      "saving model version 0.0\n",
      "Successfully created and tested Model4\n"
     ]
    },
    {
     "name": "stderr",
     "output_type": "stream",
     "text": [
      "| train_loss: 5.09e-01 | eval_loss: 1.84e-01 | reg: 2.33e+01 |: 100%|█| 50/50 [01:04<00:00,  1.29s/i\n"
     ]
    },
    {
     "name": "stdout",
     "output_type": "stream",
     "text": [
      "saving model version 0.1\n",
      "Best epoch 49\n",
      "0.2999529540538788\n",
      "Testing 1 hidden neurons, lamb=0.001, grid=5\n",
      "checkpoint directory created: ./model\n",
      "saving model version 0.0\n",
      "checkpoint directory created: ./model\n",
      "saving model version 0.0\n",
      "Successfully created and tested Model4\n"
     ]
    },
    {
     "name": "stderr",
     "output_type": "stream",
     "text": [
      "| train_loss: 1.94e-01 | eval_loss: 2.13e-01 | reg: 2.82e+01 |: 100%|█| 50/50 [01:08<00:00,  1.37s/i\n"
     ]
    },
    {
     "name": "stdout",
     "output_type": "stream",
     "text": [
      "saving model version 0.1\n",
      "Best epoch 4\n",
      "0.25895214080810547\n",
      "Testing 1 hidden neurons, lamb=0.0001, grid=5\n",
      "checkpoint directory created: ./model\n",
      "saving model version 0.0\n",
      "checkpoint directory created: ./model\n",
      "saving model version 0.0\n",
      "Successfully created and tested Model4\n"
     ]
    },
    {
     "name": "stderr",
     "output_type": "stream",
     "text": [
      "| train_loss: 1.23e-01 | eval_loss: 2.01e-01 | reg: 5.74e+01 |: 100%|█| 50/50 [01:08<00:00,  1.36s/i\n"
     ]
    },
    {
     "name": "stdout",
     "output_type": "stream",
     "text": [
      "saving model version 0.1\n",
      "Best epoch 20\n",
      "0.2730351984500885\n",
      "Testing 1 hidden neurons, lamb=1e-05, grid=5\n",
      "checkpoint directory created: ./model\n",
      "saving model version 0.0\n",
      "checkpoint directory created: ./model\n",
      "saving model version 0.0\n",
      "Successfully created and tested Model4\n"
     ]
    },
    {
     "name": "stderr",
     "output_type": "stream",
     "text": [
      "| train_loss: 1.09e-01 | eval_loss: 2.04e-01 | reg: 8.50e+01 |: 100%|█| 50/50 [01:09<00:00,  1.39s/i\n"
     ]
    },
    {
     "name": "stdout",
     "output_type": "stream",
     "text": [
      "saving model version 0.1\n",
      "Best epoch 17\n",
      "0.2524537444114685\n",
      "Testing 1 hidden neurons, lamb=1.0, grid=6\n",
      "checkpoint directory created: ./model\n",
      "saving model version 0.0\n",
      "checkpoint directory created: ./model\n",
      "saving model version 0.0\n",
      "Successfully created and tested Model4\n"
     ]
    },
    {
     "name": "stderr",
     "output_type": "stream",
     "text": [
      "| train_loss: 3.49e+00 | eval_loss: 2.98e+00 | reg: 2.05e-01 |: 100%|█| 50/50 [00:54<00:00,  1.08s/i\n"
     ]
    },
    {
     "name": "stdout",
     "output_type": "stream",
     "text": [
      "saving model version 0.1\n",
      "Best epoch 1\n",
      "3.3886425495147705\n",
      "Testing 1 hidden neurons, lamb=0.1, grid=6\n",
      "checkpoint directory created: ./model\n",
      "saving model version 0.0\n",
      "checkpoint directory created: ./model\n",
      "saving model version 0.0\n",
      "Successfully created and tested Model4\n"
     ]
    },
    {
     "name": "stderr",
     "output_type": "stream",
     "text": [
      "| train_loss: 1.52e+00 | eval_loss: 3.06e-01 | reg: 2.17e+01 |: 100%|█| 50/50 [01:09<00:00,  1.38s/i\n"
     ]
    },
    {
     "name": "stdout",
     "output_type": "stream",
     "text": [
      "saving model version 0.1\n",
      "Best epoch 6\n",
      "0.47546523809432983\n",
      "Testing 1 hidden neurons, lamb=0.01, grid=6\n",
      "checkpoint directory created: ./model\n",
      "saving model version 0.0\n",
      "checkpoint directory created: ./model\n",
      "saving model version 0.0\n",
      "Successfully created and tested Model4\n"
     ]
    },
    {
     "name": "stderr",
     "output_type": "stream",
     "text": [
      "| train_loss: 5.08e-01 | eval_loss: 1.87e-01 | reg: 2.29e+01 |: 100%|█| 50/50 [01:09<00:00,  1.39s/i\n"
     ]
    },
    {
     "name": "stdout",
     "output_type": "stream",
     "text": [
      "saving model version 0.1\n",
      "Best epoch 49\n",
      "0.3082226812839508\n",
      "Testing 1 hidden neurons, lamb=0.001, grid=6\n",
      "checkpoint directory created: ./model\n",
      "saving model version 0.0\n",
      "checkpoint directory created: ./model\n",
      "saving model version 0.0\n",
      "Successfully created and tested Model4\n"
     ]
    },
    {
     "name": "stderr",
     "output_type": "stream",
     "text": [
      "| train_loss: 2.04e-01 | eval_loss: 1.89e-01 | reg: 3.02e+01 |: 100%|█| 50/50 [01:12<00:00,  1.45s/i\n"
     ]
    },
    {
     "name": "stdout",
     "output_type": "stream",
     "text": [
      "saving model version 0.1\n",
      "Best epoch 28\n",
      "0.2669004499912262\n",
      "Testing 1 hidden neurons, lamb=0.0001, grid=6\n",
      "checkpoint directory created: ./model\n",
      "saving model version 0.0\n",
      "checkpoint directory created: ./model\n",
      "saving model version 0.0\n",
      "Successfully created and tested Model4\n"
     ]
    },
    {
     "name": "stderr",
     "output_type": "stream",
     "text": [
      "| train_loss: 1.25e-01 | eval_loss: 1.86e-01 | reg: 6.03e+01 |: 100%|█| 50/50 [01:13<00:00,  1.47s/i\n"
     ]
    },
    {
     "name": "stdout",
     "output_type": "stream",
     "text": [
      "saving model version 0.1\n",
      "Best epoch 14\n",
      "0.2315918654203415\n",
      "Testing 1 hidden neurons, lamb=1e-05, grid=6\n",
      "checkpoint directory created: ./model\n",
      "saving model version 0.0\n",
      "checkpoint directory created: ./model\n",
      "saving model version 0.0\n",
      "Successfully created and tested Model4\n"
     ]
    },
    {
     "name": "stderr",
     "output_type": "stream",
     "text": [
      "| train_loss: 9.40e-02 | eval_loss: 2.30e-01 | reg: 8.13e+01 |: 100%|█| 50/50 [01:11<00:00,  1.43s/i\n"
     ]
    },
    {
     "name": "stdout",
     "output_type": "stream",
     "text": [
      "saving model version 0.1\n",
      "Best epoch 16\n",
      "0.23600530624389648\n",
      "Testing 1 hidden neurons, lamb=1.0, grid=7\n",
      "checkpoint directory created: ./model\n",
      "saving model version 0.0\n",
      "checkpoint directory created: ./model\n",
      "saving model version 0.0\n",
      "Successfully created and tested Model4\n"
     ]
    },
    {
     "name": "stderr",
     "output_type": "stream",
     "text": [
      "| train_loss: 3.49e+00 | eval_loss: 2.99e+00 | reg: 1.54e-01 |: 100%|█| 50/50 [01:04<00:00,  1.30s/i\n"
     ]
    },
    {
     "name": "stdout",
     "output_type": "stream",
     "text": [
      "saving model version 0.1\n",
      "Best epoch 0\n",
      "3.359649419784546\n",
      "Testing 1 hidden neurons, lamb=0.1, grid=7\n",
      "checkpoint directory created: ./model\n",
      "saving model version 0.0\n",
      "checkpoint directory created: ./model\n",
      "saving model version 0.0\n",
      "Successfully created and tested Model4\n"
     ]
    },
    {
     "name": "stderr",
     "output_type": "stream",
     "text": [
      "| train_loss: 1.51e+00 | eval_loss: 3.09e-01 | reg: 2.14e+01 |: 100%|█| 50/50 [01:12<00:00,  1.44s/i\n"
     ]
    },
    {
     "name": "stdout",
     "output_type": "stream",
     "text": [
      "saving model version 0.1\n",
      "Best epoch 49\n",
      "0.482116162776947\n",
      "Testing 1 hidden neurons, lamb=0.01, grid=7\n",
      "checkpoint directory created: ./model\n",
      "saving model version 0.0\n",
      "checkpoint directory created: ./model\n",
      "saving model version 0.0\n",
      "Successfully created and tested Model4\n"
     ]
    },
    {
     "name": "stderr",
     "output_type": "stream",
     "text": [
      "| train_loss: 5.10e-01 | eval_loss: 1.96e-01 | reg: 2.29e+01 |: 100%|█| 50/50 [01:12<00:00,  1.46s/i\n"
     ]
    },
    {
     "name": "stdout",
     "output_type": "stream",
     "text": [
      "saving model version 0.1\n",
      "Best epoch 48\n",
      "0.30029281973838806\n",
      "Testing 1 hidden neurons, lamb=0.001, grid=7\n",
      "checkpoint directory created: ./model\n",
      "saving model version 0.0\n",
      "checkpoint directory created: ./model\n",
      "saving model version 0.0\n",
      "Successfully created and tested Model4\n"
     ]
    },
    {
     "name": "stderr",
     "output_type": "stream",
     "text": [
      "| train_loss: 1.97e-01 | eval_loss: 2.06e-01 | reg: 2.94e+01 |: 100%|█| 50/50 [01:15<00:00,  1.51s/i\n"
     ]
    },
    {
     "name": "stdout",
     "output_type": "stream",
     "text": [
      "saving model version 0.1\n",
      "Best epoch 17\n",
      "0.2629224359989166\n",
      "Testing 1 hidden neurons, lamb=0.0001, grid=7\n",
      "checkpoint directory created: ./model\n",
      "saving model version 0.0\n",
      "checkpoint directory created: ./model\n",
      "saving model version 0.0\n",
      "Successfully created and tested Model4\n"
     ]
    },
    {
     "name": "stderr",
     "output_type": "stream",
     "text": [
      "| train_loss: 1.16e-01 | eval_loss: 1.95e-01 | reg: 6.65e+01 |: 100%|█| 50/50 [01:16<00:00,  1.53s/i\n"
     ]
    },
    {
     "name": "stdout",
     "output_type": "stream",
     "text": [
      "saving model version 0.1\n",
      "Best epoch 14\n",
      "0.25716283917427063\n",
      "Testing 1 hidden neurons, lamb=1e-05, grid=7\n",
      "checkpoint directory created: ./model\n",
      "saving model version 0.0\n",
      "checkpoint directory created: ./model\n",
      "saving model version 0.0\n",
      "Successfully created and tested Model4\n"
     ]
    },
    {
     "name": "stderr",
     "output_type": "stream",
     "text": [
      "| train_loss: 1.04e-01 | eval_loss: 2.07e-01 | reg: 1.06e+02 |: 100%|█| 50/50 [01:18<00:00,  1.56s/i\n"
     ]
    },
    {
     "name": "stdout",
     "output_type": "stream",
     "text": [
      "saving model version 0.1\n",
      "Best epoch 26\n",
      "0.25224849581718445\n",
      "Testing 1 hidden neurons, lamb=1.0, grid=8\n",
      "checkpoint directory created: ./model\n",
      "saving model version 0.0\n",
      "checkpoint directory created: ./model\n",
      "saving model version 0.0\n",
      "Successfully created and tested Model4\n"
     ]
    },
    {
     "name": "stderr",
     "output_type": "stream",
     "text": [
      "| train_loss: 3.49e+00 | eval_loss: 2.99e+00 | reg: 1.57e-01 |: 100%|█| 50/50 [01:07<00:00,  1.35s/i\n"
     ]
    },
    {
     "name": "stdout",
     "output_type": "stream",
     "text": [
      "saving model version 0.1\n",
      "Best epoch 1\n",
      "3.3833394050598145\n",
      "Testing 1 hidden neurons, lamb=0.1, grid=8\n",
      "checkpoint directory created: ./model\n",
      "saving model version 0.0\n",
      "checkpoint directory created: ./model\n",
      "saving model version 0.0\n",
      "Successfully created and tested Model4\n"
     ]
    },
    {
     "name": "stderr",
     "output_type": "stream",
     "text": [
      "| train_loss: 1.51e+00 | eval_loss: 2.88e-01 | reg: 2.17e+01 |: 100%|█| 50/50 [01:18<00:00,  1.56s/i\n"
     ]
    },
    {
     "name": "stdout",
     "output_type": "stream",
     "text": [
      "saving model version 0.1\n",
      "Best epoch 46\n",
      "0.4687703847885132\n",
      "Testing 1 hidden neurons, lamb=0.01, grid=8\n",
      "checkpoint directory created: ./model\n",
      "saving model version 0.0\n",
      "checkpoint directory created: ./model\n",
      "saving model version 0.0\n",
      "Successfully created and tested Model4\n"
     ]
    },
    {
     "name": "stderr",
     "output_type": "stream",
     "text": [
      "| train_loss: 5.05e-01 | eval_loss: 1.87e-01 | reg: 2.27e+01 |: 100%|█| 50/50 [01:18<00:00,  1.57s/i\n"
     ]
    },
    {
     "name": "stdout",
     "output_type": "stream",
     "text": [
      "saving model version 0.1\n",
      "Best epoch 39\n",
      "0.308671772480011\n",
      "Testing 1 hidden neurons, lamb=0.001, grid=8\n",
      "checkpoint directory created: ./model\n",
      "saving model version 0.0\n",
      "checkpoint directory created: ./model\n",
      "saving model version 0.0\n",
      "Successfully created and tested Model4\n"
     ]
    },
    {
     "name": "stderr",
     "output_type": "stream",
     "text": [
      "| train_loss: 1.98e-01 | eval_loss: 1.90e-01 | reg: 3.03e+01 |: 100%|█| 50/50 [01:20<00:00,  1.61s/i\n"
     ]
    },
    {
     "name": "stdout",
     "output_type": "stream",
     "text": [
      "saving model version 0.1\n",
      "Best epoch 26\n",
      "0.28681856393814087\n",
      "Testing 1 hidden neurons, lamb=0.0001, grid=8\n",
      "checkpoint directory created: ./model\n",
      "saving model version 0.0\n",
      "checkpoint directory created: ./model\n",
      "saving model version 0.0\n",
      "Successfully created and tested Model4\n"
     ]
    },
    {
     "name": "stderr",
     "output_type": "stream",
     "text": [
      "| train_loss: 1.24e-01 | eval_loss: 1.91e-01 | reg: 5.73e+01 |: 100%|█| 50/50 [01:21<00:00,  1.63s/i\n"
     ]
    },
    {
     "name": "stdout",
     "output_type": "stream",
     "text": [
      "saving model version 0.1\n",
      "Best epoch 18\n",
      "0.2639360725879669\n",
      "Testing 1 hidden neurons, lamb=1e-05, grid=8\n",
      "checkpoint directory created: ./model\n",
      "saving model version 0.0\n",
      "checkpoint directory created: ./model\n",
      "saving model version 0.0\n",
      "Successfully created and tested Model4\n"
     ]
    },
    {
     "name": "stderr",
     "output_type": "stream",
     "text": [
      "| train_loss: 9.65e-02 | eval_loss: 2.00e-01 | reg: 7.10e+01 |: 100%|█| 50/50 [01:22<00:00,  1.65s/i\n"
     ]
    },
    {
     "name": "stdout",
     "output_type": "stream",
     "text": [
      "saving model version 0.1\n",
      "Best epoch 35\n",
      "0.26802584528923035\n",
      "Testing 2 hidden neurons, lamb=1.0, grid=3\n",
      "checkpoint directory created: ./model\n",
      "saving model version 0.0\n",
      "checkpoint directory created: ./model\n",
      "saving model version 0.0\n",
      "Successfully created and tested Model4\n"
     ]
    },
    {
     "name": "stderr",
     "output_type": "stream",
     "text": [
      "| train_loss: 3.50e+00 | eval_loss: 2.98e+00 | reg: 2.21e-01 |: 100%|█| 50/50 [00:40<00:00,  1.23it/\n"
     ]
    },
    {
     "name": "stdout",
     "output_type": "stream",
     "text": [
      "saving model version 0.1\n",
      "Best epoch 1\n",
      "3.3846492767333984\n",
      "Testing 2 hidden neurons, lamb=0.1, grid=3\n",
      "checkpoint directory created: ./model\n",
      "saving model version 0.0\n",
      "checkpoint directory created: ./model\n",
      "saving model version 0.0\n",
      "Successfully created and tested Model4\n"
     ]
    },
    {
     "name": "stderr",
     "output_type": "stream",
     "text": [
      "| train_loss: 1.50e+00 | eval_loss: 2.94e-01 | reg: 2.13e+01 |: 100%|█| 50/50 [00:54<00:00,  1.08s/i\n"
     ]
    },
    {
     "name": "stdout",
     "output_type": "stream",
     "text": [
      "saving model version 0.1\n",
      "Best epoch 49\n",
      "0.4716927409172058\n",
      "Testing 2 hidden neurons, lamb=0.01, grid=3\n",
      "checkpoint directory created: ./model\n",
      "saving model version 0.0\n",
      "checkpoint directory created: ./model\n",
      "saving model version 0.0\n",
      "Successfully created and tested Model4\n"
     ]
    },
    {
     "name": "stderr",
     "output_type": "stream",
     "text": [
      "| train_loss: 5.05e-01 | eval_loss: 1.91e-01 | reg: 2.27e+01 |: 100%|█| 50/50 [00:54<00:00,  1.08s/i\n"
     ]
    },
    {
     "name": "stdout",
     "output_type": "stream",
     "text": [
      "saving model version 0.1\n",
      "Best epoch 49\n",
      "0.3049435615539551\n",
      "Testing 2 hidden neurons, lamb=0.001, grid=3\n",
      "checkpoint directory created: ./model\n",
      "saving model version 0.0\n",
      "checkpoint directory created: ./model\n",
      "saving model version 0.0\n",
      "Successfully created and tested Model4\n"
     ]
    },
    {
     "name": "stderr",
     "output_type": "stream",
     "text": [
      "| train_loss: 1.98e-01 | eval_loss: 1.84e-01 | reg: 2.84e+01 |: 100%|█| 50/50 [00:57<00:00,  1.14s/i\n"
     ]
    },
    {
     "name": "stdout",
     "output_type": "stream",
     "text": [
      "saving model version 0.1\n",
      "Best epoch 42\n",
      "0.253299355506897\n",
      "Testing 2 hidden neurons, lamb=0.0001, grid=3\n",
      "checkpoint directory created: ./model\n",
      "saving model version 0.0\n",
      "checkpoint directory created: ./model\n",
      "saving model version 0.0\n",
      "Successfully created and tested Model4\n"
     ]
    },
    {
     "name": "stderr",
     "output_type": "stream",
     "text": [
      "| train_loss: 1.29e-01 | eval_loss: 1.88e-01 | reg: 5.88e+01 |: 100%|█| 50/50 [00:58<00:00,  1.17s/i\n"
     ]
    },
    {
     "name": "stdout",
     "output_type": "stream",
     "text": [
      "saving model version 0.1\n",
      "Best epoch 28\n",
      "0.23070695996284485\n",
      "Testing 2 hidden neurons, lamb=1e-05, grid=3\n",
      "checkpoint directory created: ./model\n",
      "saving model version 0.0\n",
      "checkpoint directory created: ./model\n",
      "saving model version 0.0\n",
      "Successfully created and tested Model4\n"
     ]
    },
    {
     "name": "stderr",
     "output_type": "stream",
     "text": [
      "| train_loss: 1.02e-01 | eval_loss: 1.89e-01 | reg: 8.76e+01 |: 100%|█| 50/50 [00:58<00:00,  1.18s/i\n"
     ]
    },
    {
     "name": "stdout",
     "output_type": "stream",
     "text": [
      "saving model version 0.1\n",
      "Best epoch 15\n",
      "0.2341252565383911\n",
      "Testing 2 hidden neurons, lamb=1.0, grid=4\n",
      "checkpoint directory created: ./model\n",
      "saving model version 0.0\n",
      "checkpoint directory created: ./model\n",
      "saving model version 0.0\n",
      "Successfully created and tested Model4\n"
     ]
    },
    {
     "name": "stderr",
     "output_type": "stream",
     "text": [
      "| train_loss: 3.50e+00 | eval_loss: 2.98e+00 | reg: 2.36e-01 |: 100%|█| 50/50 [00:49<00:00,  1.01it/\n"
     ]
    },
    {
     "name": "stdout",
     "output_type": "stream",
     "text": [
      "saving model version 0.1\n",
      "Best epoch 1\n",
      "3.3852076530456543\n",
      "Testing 2 hidden neurons, lamb=0.1, grid=4\n",
      "checkpoint directory created: ./model\n",
      "saving model version 0.0\n",
      "checkpoint directory created: ./model\n",
      "saving model version 0.0\n",
      "Successfully created and tested Model4\n"
     ]
    },
    {
     "name": "stderr",
     "output_type": "stream",
     "text": [
      "| train_loss: 1.49e+00 | eval_loss: 3.02e-01 | reg: 2.11e+01 |: 100%|█| 50/50 [00:58<00:00,  1.17s/i\n"
     ]
    },
    {
     "name": "stdout",
     "output_type": "stream",
     "text": [
      "saving model version 0.1\n",
      "Best epoch 34\n",
      "0.47652801871299744\n",
      "Testing 2 hidden neurons, lamb=0.01, grid=4\n",
      "checkpoint directory created: ./model\n",
      "saving model version 0.0\n",
      "checkpoint directory created: ./model\n",
      "saving model version 0.0\n",
      "Successfully created and tested Model4\n"
     ]
    },
    {
     "name": "stderr",
     "output_type": "stream",
     "text": [
      "| train_loss: 4.97e-01 | eval_loss: 1.89e-01 | reg: 2.20e+01 |: 100%|█| 50/50 [00:59<00:00,  1.19s/i\n"
     ]
    },
    {
     "name": "stdout",
     "output_type": "stream",
     "text": [
      "saving model version 0.1\n",
      "Best epoch 33\n",
      "0.2947749197483063\n",
      "Testing 2 hidden neurons, lamb=0.001, grid=4\n",
      "checkpoint directory created: ./model\n",
      "saving model version 0.0\n",
      "checkpoint directory created: ./model\n",
      "saving model version 0.0\n",
      "Successfully created and tested Model4\n"
     ]
    },
    {
     "name": "stderr",
     "output_type": "stream",
     "text": [
      "| train_loss: 2.01e-01 | eval_loss: 1.69e-01 | reg: 2.96e+01 |: 100%|█| 50/50 [01:01<00:00,  1.24s/i\n"
     ]
    },
    {
     "name": "stdout",
     "output_type": "stream",
     "text": [
      "saving model version 0.1\n",
      "Best epoch 42\n",
      "0.2732853591442108\n",
      "Testing 2 hidden neurons, lamb=0.0001, grid=4\n",
      "checkpoint directory created: ./model\n",
      "saving model version 0.0\n",
      "checkpoint directory created: ./model\n",
      "saving model version 0.0\n",
      "Successfully created and tested Model4\n"
     ]
    },
    {
     "name": "stderr",
     "output_type": "stream",
     "text": [
      "| train_loss: 1.27e-01 | eval_loss: 2.03e-01 | reg: 6.20e+01 |: 100%|█| 50/50 [01:03<00:00,  1.28s/i\n"
     ]
    },
    {
     "name": "stdout",
     "output_type": "stream",
     "text": [
      "saving model version 0.1\n",
      "Best epoch 19\n",
      "0.24705927073955536\n",
      "Testing 2 hidden neurons, lamb=1e-05, grid=4\n",
      "checkpoint directory created: ./model\n",
      "saving model version 0.0\n",
      "checkpoint directory created: ./model\n",
      "saving model version 0.0\n",
      "Successfully created and tested Model4\n"
     ]
    },
    {
     "name": "stderr",
     "output_type": "stream",
     "text": [
      "| train_loss: 1.10e-01 | eval_loss: 2.04e-01 | reg: 8.01e+01 |: 100%|█| 50/50 [01:04<00:00,  1.28s/i\n"
     ]
    },
    {
     "name": "stdout",
     "output_type": "stream",
     "text": [
      "saving model version 0.1\n",
      "Best epoch 8\n",
      "0.24808314442634583\n",
      "Testing 2 hidden neurons, lamb=1.0, grid=5\n",
      "checkpoint directory created: ./model\n",
      "saving model version 0.0\n",
      "checkpoint directory created: ./model\n",
      "saving model version 0.0\n",
      "Successfully created and tested Model4\n"
     ]
    },
    {
     "name": "stderr",
     "output_type": "stream",
     "text": [
      "| train_loss: 3.50e+00 | eval_loss: 2.98e+00 | reg: 2.50e-01 |: 100%|█| 50/50 [00:57<00:00,  1.15s/i\n"
     ]
    },
    {
     "name": "stdout",
     "output_type": "stream",
     "text": [
      "saving model version 0.1\n",
      "Best epoch 1\n",
      "3.3890902996063232\n",
      "Testing 2 hidden neurons, lamb=0.1, grid=5\n",
      "checkpoint directory created: ./model\n",
      "saving model version 0.0\n",
      "checkpoint directory created: ./model\n",
      "saving model version 0.0\n",
      "Successfully created and tested Model4\n"
     ]
    },
    {
     "name": "stderr",
     "output_type": "stream",
     "text": [
      "| train_loss: 1.50e+00 | eval_loss: 2.89e-01 | reg: 2.14e+01 |: 100%|█| 50/50 [01:03<00:00,  1.27s/i\n"
     ]
    },
    {
     "name": "stdout",
     "output_type": "stream",
     "text": [
      "saving model version 0.1\n",
      "Best epoch 49\n",
      "0.4581778347492218\n",
      "Testing 2 hidden neurons, lamb=0.01, grid=5\n",
      "checkpoint directory created: ./model\n",
      "saving model version 0.0\n",
      "checkpoint directory created: ./model\n",
      "saving model version 0.0\n",
      "Successfully created and tested Model4\n"
     ]
    },
    {
     "name": "stderr",
     "output_type": "stream",
     "text": [
      "| train_loss: 5.01e-01 | eval_loss: 1.94e-01 | reg: 2.23e+01 |: 100%|█| 50/50 [01:03<00:00,  1.27s/i\n"
     ]
    },
    {
     "name": "stdout",
     "output_type": "stream",
     "text": [
      "saving model version 0.1\n",
      "Best epoch 49\n",
      "0.30716919898986816\n",
      "Testing 2 hidden neurons, lamb=0.001, grid=5\n",
      "checkpoint directory created: ./model\n",
      "saving model version 0.0\n",
      "checkpoint directory created: ./model\n",
      "saving model version 0.0\n",
      "Successfully created and tested Model4\n"
     ]
    },
    {
     "name": "stderr",
     "output_type": "stream",
     "text": [
      "| train_loss: 2.01e-01 | eval_loss: 2.13e-01 | reg: 2.87e+01 |: 100%|█| 50/50 [01:09<00:00,  1.38s/i\n"
     ]
    },
    {
     "name": "stdout",
     "output_type": "stream",
     "text": [
      "saving model version 0.1\n",
      "Best epoch 21\n",
      "0.2658827602863312\n",
      "Testing 2 hidden neurons, lamb=0.0001, grid=5\n",
      "checkpoint directory created: ./model\n",
      "saving model version 0.0\n",
      "checkpoint directory created: ./model\n",
      "saving model version 0.0\n",
      "Successfully created and tested Model4\n"
     ]
    },
    {
     "name": "stderr",
     "output_type": "stream",
     "text": [
      "| train_loss: 1.27e-01 | eval_loss: 2.01e-01 | reg: 6.41e+01 |: 100%|█| 50/50 [01:09<00:00,  1.38s/i\n"
     ]
    },
    {
     "name": "stdout",
     "output_type": "stream",
     "text": [
      "saving model version 0.1\n",
      "Best epoch 49\n",
      "0.26164138317108154\n",
      "Testing 2 hidden neurons, lamb=1e-05, grid=5\n",
      "checkpoint directory created: ./model\n",
      "saving model version 0.0\n",
      "checkpoint directory created: ./model\n",
      "saving model version 0.0\n",
      "Successfully created and tested Model4\n"
     ]
    },
    {
     "name": "stderr",
     "output_type": "stream",
     "text": [
      "| train_loss: 1.03e-01 | eval_loss: 1.93e-01 | reg: 7.96e+01 |: 100%|█| 50/50 [01:10<00:00,  1.42s/i\n"
     ]
    },
    {
     "name": "stdout",
     "output_type": "stream",
     "text": [
      "saving model version 0.1\n",
      "Best epoch 22\n",
      "0.25599750876426697\n",
      "Testing 2 hidden neurons, lamb=1.0, grid=6\n",
      "checkpoint directory created: ./model\n",
      "saving model version 0.0\n",
      "checkpoint directory created: ./model\n",
      "saving model version 0.0\n",
      "Successfully created and tested Model4\n"
     ]
    },
    {
     "name": "stderr",
     "output_type": "stream",
     "text": [
      "| train_loss: 3.50e+00 | eval_loss: 2.98e+00 | reg: 2.48e-01 |: 100%|█| 50/50 [00:58<00:00,  1.17s/i\n"
     ]
    },
    {
     "name": "stdout",
     "output_type": "stream",
     "text": [
      "saving model version 0.1\n",
      "Best epoch 1\n",
      "3.386286973953247\n",
      "Testing 2 hidden neurons, lamb=0.1, grid=6\n",
      "checkpoint directory created: ./model\n",
      "saving model version 0.0\n",
      "checkpoint directory created: ./model\n",
      "saving model version 0.0\n",
      "Successfully created and tested Model4\n"
     ]
    },
    {
     "name": "stderr",
     "output_type": "stream",
     "text": [
      "| train_loss: 1.50e+00 | eval_loss: 3.03e-01 | reg: 2.12e+01 |: 100%|█| 50/50 [01:09<00:00,  1.38s/i\n"
     ]
    },
    {
     "name": "stdout",
     "output_type": "stream",
     "text": [
      "saving model version 0.1\n",
      "Best epoch 49\n",
      "0.47567862272262573\n",
      "Testing 2 hidden neurons, lamb=0.01, grid=6\n",
      "checkpoint directory created: ./model\n",
      "saving model version 0.0\n",
      "checkpoint directory created: ./model\n",
      "saving model version 0.0\n",
      "Successfully created and tested Model4\n"
     ]
    },
    {
     "name": "stderr",
     "output_type": "stream",
     "text": [
      "| train_loss: 5.08e-01 | eval_loss: 1.86e-01 | reg: 2.28e+01 |: 100%|█| 50/50 [01:08<00:00,  1.37s/i\n"
     ]
    },
    {
     "name": "stdout",
     "output_type": "stream",
     "text": [
      "saving model version 0.1\n",
      "Best epoch 34\n",
      "0.30741336941719055\n",
      "Testing 2 hidden neurons, lamb=0.001, grid=6\n",
      "checkpoint directory created: ./model\n",
      "saving model version 0.0\n",
      "checkpoint directory created: ./model\n",
      "saving model version 0.0\n",
      "Successfully created and tested Model4\n"
     ]
    },
    {
     "name": "stderr",
     "output_type": "stream",
     "text": [
      "| train_loss: 1.99e-01 | eval_loss: 1.77e-01 | reg: 2.94e+01 |: 100%|█| 50/50 [01:12<00:00,  1.44s/i\n"
     ]
    },
    {
     "name": "stdout",
     "output_type": "stream",
     "text": [
      "saving model version 0.1\n",
      "Best epoch 48\n",
      "0.2676521837711334\n",
      "Testing 2 hidden neurons, lamb=0.0001, grid=6\n",
      "checkpoint directory created: ./model\n",
      "saving model version 0.0\n",
      "checkpoint directory created: ./model\n",
      "saving model version 0.0\n",
      "Successfully created and tested Model4\n"
     ]
    },
    {
     "name": "stderr",
     "output_type": "stream",
     "text": [
      "| train_loss: 1.27e-01 | eval_loss: 1.85e-01 | reg: 5.98e+01 |: 100%|█| 50/50 [01:14<00:00,  1.50s/i\n"
     ]
    },
    {
     "name": "stdout",
     "output_type": "stream",
     "text": [
      "saving model version 0.1\n",
      "Best epoch 19\n",
      "0.2651405334472656\n",
      "Testing 2 hidden neurons, lamb=1e-05, grid=6\n",
      "checkpoint directory created: ./model\n",
      "saving model version 0.0\n",
      "checkpoint directory created: ./model\n",
      "saving model version 0.0\n",
      "Successfully created and tested Model4\n"
     ]
    },
    {
     "name": "stderr",
     "output_type": "stream",
     "text": [
      "| train_loss: 9.52e-02 | eval_loss: 1.98e-01 | reg: 9.14e+01 |: 100%|█| 50/50 [01:14<00:00,  1.48s/i\n"
     ]
    },
    {
     "name": "stdout",
     "output_type": "stream",
     "text": [
      "saving model version 0.1\n",
      "Best epoch 15\n",
      "0.25788599252700806\n",
      "Testing 2 hidden neurons, lamb=1.0, grid=7\n",
      "checkpoint directory created: ./model\n",
      "saving model version 0.0\n",
      "checkpoint directory created: ./model\n",
      "saving model version 0.0\n",
      "Successfully created and tested Model4\n"
     ]
    },
    {
     "name": "stderr",
     "output_type": "stream",
     "text": [
      "| train_loss: 3.49e+00 | eval_loss: 2.98e+00 | reg: 2.04e-01 |: 100%|█| 50/50 [00:58<00:00,  1.17s/i\n"
     ]
    },
    {
     "name": "stdout",
     "output_type": "stream",
     "text": [
      "saving model version 0.1\n",
      "Best epoch 1\n",
      "3.3872528076171875\n",
      "Testing 2 hidden neurons, lamb=0.1, grid=7\n",
      "checkpoint directory created: ./model\n",
      "saving model version 0.0\n",
      "checkpoint directory created: ./model\n",
      "saving model version 0.0\n",
      "Successfully created and tested Model4\n"
     ]
    },
    {
     "name": "stderr",
     "output_type": "stream",
     "text": [
      "| train_loss: 1.49e+00 | eval_loss: 3.05e-01 | reg: 2.08e+01 |: 100%|█| 50/50 [01:11<00:00,  1.43s/i\n"
     ]
    },
    {
     "name": "stdout",
     "output_type": "stream",
     "text": [
      "saving model version 0.1\n",
      "Best epoch 41\n",
      "0.4850423038005829\n",
      "Testing 2 hidden neurons, lamb=0.01, grid=7\n",
      "checkpoint directory created: ./model\n",
      "saving model version 0.0\n",
      "checkpoint directory created: ./model\n",
      "saving model version 0.0\n",
      "Successfully created and tested Model4\n"
     ]
    },
    {
     "name": "stderr",
     "output_type": "stream",
     "text": [
      "| train_loss: 4.96e-01 | eval_loss: 1.86e-01 | reg: 2.18e+01 |: 100%|█| 50/50 [01:13<00:00,  1.48s/i\n"
     ]
    },
    {
     "name": "stdout",
     "output_type": "stream",
     "text": [
      "saving model version 0.1\n",
      "Best epoch 37\n",
      "0.3050438463687897\n",
      "Testing 2 hidden neurons, lamb=0.001, grid=7\n",
      "checkpoint directory created: ./model\n",
      "saving model version 0.0\n",
      "checkpoint directory created: ./model\n",
      "saving model version 0.0\n",
      "Successfully created and tested Model4\n"
     ]
    },
    {
     "name": "stderr",
     "output_type": "stream",
     "text": [
      "| train_loss: 1.97e-01 | eval_loss: 1.85e-01 | reg: 2.97e+01 |: 100%|█| 50/50 [01:20<00:00,  1.61s/i\n"
     ]
    },
    {
     "name": "stdout",
     "output_type": "stream",
     "text": [
      "saving model version 0.1\n",
      "Best epoch 27\n",
      "0.26648250222206116\n",
      "Testing 2 hidden neurons, lamb=0.0001, grid=7\n",
      "checkpoint directory created: ./model\n",
      "saving model version 0.0\n",
      "checkpoint directory created: ./model\n",
      "saving model version 0.0\n",
      "Successfully created and tested Model4\n"
     ]
    },
    {
     "name": "stderr",
     "output_type": "stream",
     "text": [
      "| train_loss: 1.24e-01 | eval_loss: 1.87e-01 | reg: 6.12e+01 |: 100%|█| 50/50 [01:18<00:00,  1.56s/i\n"
     ]
    },
    {
     "name": "stdout",
     "output_type": "stream",
     "text": [
      "saving model version 0.1\n",
      "Best epoch 25\n",
      "0.24613793194293976\n",
      "Testing 2 hidden neurons, lamb=1e-05, grid=7\n",
      "checkpoint directory created: ./model\n",
      "saving model version 0.0\n",
      "checkpoint directory created: ./model\n",
      "saving model version 0.0\n",
      "Successfully created and tested Model4\n"
     ]
    },
    {
     "name": "stderr",
     "output_type": "stream",
     "text": [
      "| train_loss: 9.85e-02 | eval_loss: 2.01e-01 | reg: 8.47e+01 |: 100%|█| 50/50 [01:17<00:00,  1.55s/i\n"
     ]
    },
    {
     "name": "stdout",
     "output_type": "stream",
     "text": [
      "saving model version 0.1\n",
      "Best epoch 28\n",
      "0.24077646434307098\n",
      "Testing 2 hidden neurons, lamb=1.0, grid=8\n",
      "checkpoint directory created: ./model\n",
      "saving model version 0.0\n",
      "checkpoint directory created: ./model\n",
      "saving model version 0.0\n",
      "Successfully created and tested Model4\n"
     ]
    },
    {
     "name": "stderr",
     "output_type": "stream",
     "text": [
      "| train_loss: 3.50e+00 | eval_loss: 2.98e+00 | reg: 2.17e-01 |: 100%|█| 50/50 [01:11<00:00,  1.44s/i\n"
     ]
    },
    {
     "name": "stdout",
     "output_type": "stream",
     "text": [
      "saving model version 0.1\n",
      "Best epoch 1\n",
      "3.386979579925537\n",
      "Testing 2 hidden neurons, lamb=0.1, grid=8\n",
      "checkpoint directory created: ./model\n",
      "saving model version 0.0\n",
      "checkpoint directory created: ./model\n",
      "saving model version 0.0\n",
      "Successfully created and tested Model4\n"
     ]
    },
    {
     "name": "stderr",
     "output_type": "stream",
     "text": [
      "| train_loss: 1.50e+00 | eval_loss: 2.90e-01 | reg: 2.14e+01 |: 100%|█| 50/50 [01:17<00:00,  1.55s/i\n"
     ]
    },
    {
     "name": "stdout",
     "output_type": "stream",
     "text": [
      "saving model version 0.1\n",
      "Best epoch 49\n",
      "0.4669366180896759\n",
      "Testing 2 hidden neurons, lamb=0.01, grid=8\n",
      "checkpoint directory created: ./model\n",
      "saving model version 0.0\n",
      "checkpoint directory created: ./model\n",
      "saving model version 0.0\n",
      "Successfully created and tested Model4\n"
     ]
    },
    {
     "name": "stderr",
     "output_type": "stream",
     "text": [
      "| train_loss: 5.01e-01 | eval_loss: 1.93e-01 | reg: 2.22e+01 |: 100%|█| 50/50 [01:19<00:00,  1.59s/i\n"
     ]
    },
    {
     "name": "stdout",
     "output_type": "stream",
     "text": [
      "saving model version 0.1\n",
      "Best epoch 45\n",
      "0.30494123697280884\n",
      "Testing 2 hidden neurons, lamb=0.001, grid=8\n",
      "checkpoint directory created: ./model\n",
      "saving model version 0.0\n",
      "checkpoint directory created: ./model\n",
      "saving model version 0.0\n",
      "Successfully created and tested Model4\n"
     ]
    },
    {
     "name": "stderr",
     "output_type": "stream",
     "text": [
      "| train_loss: 1.97e-01 | eval_loss: 1.84e-01 | reg: 2.99e+01 |: 100%|█| 50/50 [01:22<00:00,  1.65s/i\n"
     ]
    },
    {
     "name": "stdout",
     "output_type": "stream",
     "text": [
      "saving model version 0.1\n",
      "Best epoch 21\n",
      "0.26806268095970154\n",
      "Testing 2 hidden neurons, lamb=0.0001, grid=8\n",
      "checkpoint directory created: ./model\n",
      "saving model version 0.0\n",
      "checkpoint directory created: ./model\n",
      "saving model version 0.0\n",
      "Successfully created and tested Model4\n"
     ]
    },
    {
     "name": "stderr",
     "output_type": "stream",
     "text": [
      "| train_loss: 1.21e-01 | eval_loss: 1.98e-01 | reg: 6.17e+01 |: 100%|█| 50/50 [01:21<00:00,  1.64s/i\n"
     ]
    },
    {
     "name": "stdout",
     "output_type": "stream",
     "text": [
      "saving model version 0.1\n",
      "Best epoch 16\n",
      "0.24864539504051208\n",
      "Testing 2 hidden neurons, lamb=1e-05, grid=8\n",
      "checkpoint directory created: ./model\n",
      "saving model version 0.0\n",
      "checkpoint directory created: ./model\n",
      "saving model version 0.0\n",
      "Successfully created and tested Model4\n"
     ]
    },
    {
     "name": "stderr",
     "output_type": "stream",
     "text": [
      "| train_loss: 9.51e-02 | eval_loss: 1.88e-01 | reg: 7.81e+01 |: 100%|█| 50/50 [01:21<00:00,  1.63s/i\n"
     ]
    },
    {
     "name": "stdout",
     "output_type": "stream",
     "text": [
      "saving model version 0.1\n",
      "Best epoch 28\n",
      "0.25998201966285706\n",
      "Testing 3 hidden neurons, lamb=1.0, grid=3\n",
      "checkpoint directory created: ./model\n",
      "saving model version 0.0\n",
      "checkpoint directory created: ./model\n",
      "saving model version 0.0\n",
      "Successfully created and tested Model4\n"
     ]
    },
    {
     "name": "stderr",
     "output_type": "stream",
     "text": [
      "| train_loss: 3.50e+00 | eval_loss: 2.99e+00 | reg: 2.41e-01 |: 100%|█| 50/50 [00:47<00:00,  1.06it/\n"
     ]
    },
    {
     "name": "stdout",
     "output_type": "stream",
     "text": [
      "saving model version 0.1\n",
      "Best epoch 1\n",
      "3.3937764167785645\n",
      "Testing 3 hidden neurons, lamb=0.1, grid=3\n",
      "checkpoint directory created: ./model\n",
      "saving model version 0.0\n",
      "checkpoint directory created: ./model\n",
      "saving model version 0.0\n",
      "Successfully created and tested Model4\n"
     ]
    },
    {
     "name": "stderr",
     "output_type": "stream",
     "text": [
      "| train_loss: 1.49e+00 | eval_loss: 2.95e-01 | reg: 2.10e+01 |: 100%|█| 50/50 [00:55<00:00,  1.10s/i\n"
     ]
    },
    {
     "name": "stdout",
     "output_type": "stream",
     "text": [
      "saving model version 0.1\n",
      "Best epoch 49\n",
      "0.4759683310985565\n",
      "Testing 3 hidden neurons, lamb=0.01, grid=3\n",
      "checkpoint directory created: ./model\n",
      "saving model version 0.0\n",
      "checkpoint directory created: ./model\n",
      "saving model version 0.0\n",
      "Successfully created and tested Model4\n"
     ]
    },
    {
     "name": "stderr",
     "output_type": "stream",
     "text": [
      "| train_loss: 4.99e-01 | eval_loss: 1.93e-01 | reg: 2.22e+01 |: 100%|█| 50/50 [00:54<00:00,  1.08s/i\n"
     ]
    },
    {
     "name": "stdout",
     "output_type": "stream",
     "text": [
      "saving model version 0.1\n",
      "Best epoch 49\n",
      "0.3073652684688568\n",
      "Testing 3 hidden neurons, lamb=0.001, grid=3\n",
      "checkpoint directory created: ./model\n",
      "saving model version 0.0\n",
      "checkpoint directory created: ./model\n",
      "saving model version 0.0\n",
      "Successfully created and tested Model4\n"
     ]
    },
    {
     "name": "stderr",
     "output_type": "stream",
     "text": [
      "| train_loss: 2.04e-01 | eval_loss: 1.83e-01 | reg: 3.01e+01 |: 100%|█| 50/50 [00:56<00:00,  1.14s/i\n"
     ]
    },
    {
     "name": "stdout",
     "output_type": "stream",
     "text": [
      "saving model version 0.1\n",
      "Best epoch 20\n",
      "0.2533262372016907\n",
      "Testing 3 hidden neurons, lamb=0.0001, grid=3\n",
      "checkpoint directory created: ./model\n",
      "saving model version 0.0\n",
      "checkpoint directory created: ./model\n",
      "saving model version 0.0\n",
      "Successfully created and tested Model4\n"
     ]
    },
    {
     "name": "stderr",
     "output_type": "stream",
     "text": [
      "| train_loss: 1.28e-01 | eval_loss: 2.00e-01 | reg: 6.37e+01 |: 100%|█| 50/50 [00:57<00:00,  1.15s/i\n"
     ]
    },
    {
     "name": "stdout",
     "output_type": "stream",
     "text": [
      "saving model version 0.1\n",
      "Best epoch 29\n",
      "0.24361048638820648\n",
      "Testing 3 hidden neurons, lamb=1e-05, grid=3\n",
      "checkpoint directory created: ./model\n",
      "saving model version 0.0\n",
      "checkpoint directory created: ./model\n",
      "saving model version 0.0\n",
      "Successfully created and tested Model4\n"
     ]
    },
    {
     "name": "stderr",
     "output_type": "stream",
     "text": [
      "| train_loss: 9.87e-02 | eval_loss: 2.00e-01 | reg: 8.91e+01 |: 100%|█| 50/50 [00:58<00:00,  1.16s/i\n"
     ]
    },
    {
     "name": "stdout",
     "output_type": "stream",
     "text": [
      "saving model version 0.1\n",
      "Best epoch 27\n",
      "0.23733167350292206\n",
      "Testing 3 hidden neurons, lamb=1.0, grid=4\n",
      "checkpoint directory created: ./model\n",
      "saving model version 0.0\n",
      "checkpoint directory created: ./model\n",
      "saving model version 0.0\n",
      "Successfully created and tested Model4\n"
     ]
    },
    {
     "name": "stderr",
     "output_type": "stream",
     "text": [
      "| train_loss: 3.50e+00 | eval_loss: 2.98e+00 | reg: 2.75e-01 |: 100%|█| 50/50 [00:50<00:00,  1.02s/i\n"
     ]
    },
    {
     "name": "stdout",
     "output_type": "stream",
     "text": [
      "saving model version 0.1\n",
      "Best epoch 1\n",
      "3.387028694152832\n",
      "Testing 3 hidden neurons, lamb=0.1, grid=4\n",
      "checkpoint directory created: ./model\n",
      "saving model version 0.0\n",
      "checkpoint directory created: ./model\n",
      "saving model version 0.0\n",
      "Successfully created and tested Model4\n"
     ]
    },
    {
     "name": "stderr",
     "output_type": "stream",
     "text": [
      "| train_loss: 1.49e+00 | eval_loss: 2.90e-01 | reg: 2.09e+01 |: 100%|█| 50/50 [01:01<00:00,  1.22s/i\n"
     ]
    },
    {
     "name": "stdout",
     "output_type": "stream",
     "text": [
      "saving model version 0.1\n",
      "Best epoch 39\n",
      "0.4691077768802643\n",
      "Testing 3 hidden neurons, lamb=0.01, grid=4\n",
      "checkpoint directory created: ./model\n",
      "saving model version 0.0\n",
      "checkpoint directory created: ./model\n",
      "saving model version 0.0\n",
      "Successfully created and tested Model4\n"
     ]
    },
    {
     "name": "stderr",
     "output_type": "stream",
     "text": [
      "| train_loss: 5.00e-01 | eval_loss: 1.90e-01 | reg: 2.22e+01 |: 100%|█| 50/50 [00:59<00:00,  1.20s/i\n"
     ]
    },
    {
     "name": "stdout",
     "output_type": "stream",
     "text": [
      "saving model version 0.1\n",
      "Best epoch 11\n",
      "0.2904955744743347\n",
      "Testing 3 hidden neurons, lamb=0.001, grid=4\n",
      "checkpoint directory created: ./model\n",
      "saving model version 0.0\n",
      "checkpoint directory created: ./model\n",
      "saving model version 0.0\n",
      "Successfully created and tested Model4\n"
     ]
    },
    {
     "name": "stderr",
     "output_type": "stream",
     "text": [
      "| train_loss: 2.01e-01 | eval_loss: 1.93e-01 | reg: 2.90e+01 |: 100%|█| 50/50 [01:03<00:00,  1.27s/i\n"
     ]
    },
    {
     "name": "stdout",
     "output_type": "stream",
     "text": [
      "saving model version 0.1\n",
      "Best epoch 23\n",
      "0.2627445459365845\n",
      "Testing 3 hidden neurons, lamb=0.0001, grid=4\n",
      "checkpoint directory created: ./model\n",
      "saving model version 0.0\n",
      "checkpoint directory created: ./model\n",
      "saving model version 0.0\n",
      "Successfully created and tested Model4\n"
     ]
    },
    {
     "name": "stderr",
     "output_type": "stream",
     "text": [
      "| train_loss: 1.28e-01 | eval_loss: 1.97e-01 | reg: 6.43e+01 |: 100%|█| 50/50 [01:02<00:00,  1.26s/i\n"
     ]
    },
    {
     "name": "stdout",
     "output_type": "stream",
     "text": [
      "saving model version 0.1\n",
      "Best epoch 18\n",
      "0.27554214000701904\n",
      "Testing 3 hidden neurons, lamb=1e-05, grid=4\n",
      "checkpoint directory created: ./model\n",
      "saving model version 0.0\n",
      "checkpoint directory created: ./model\n",
      "saving model version 0.0\n",
      "Successfully created and tested Model4\n"
     ]
    },
    {
     "name": "stderr",
     "output_type": "stream",
     "text": [
      "| train_loss: 9.28e-02 | eval_loss: 2.25e-01 | reg: 8.62e+01 |: 100%|█| 50/50 [01:04<00:00,  1.29s/i\n"
     ]
    },
    {
     "name": "stdout",
     "output_type": "stream",
     "text": [
      "saving model version 0.1\n",
      "Best epoch 11\n",
      "0.2543466091156006\n",
      "Testing 3 hidden neurons, lamb=1.0, grid=5\n",
      "checkpoint directory created: ./model\n",
      "saving model version 0.0\n",
      "checkpoint directory created: ./model\n",
      "saving model version 0.0\n",
      "Successfully created and tested Model4\n"
     ]
    },
    {
     "name": "stderr",
     "output_type": "stream",
     "text": [
      "| train_loss: 3.50e+00 | eval_loss: 2.98e+00 | reg: 2.72e-01 |: 100%|█| 50/50 [00:58<00:00,  1.18s/i\n"
     ]
    },
    {
     "name": "stdout",
     "output_type": "stream",
     "text": [
      "saving model version 0.1\n",
      "Best epoch 1\n",
      "3.386315107345581\n",
      "Testing 3 hidden neurons, lamb=0.1, grid=5\n",
      "checkpoint directory created: ./model\n",
      "saving model version 0.0\n",
      "checkpoint directory created: ./model\n",
      "saving model version 0.0\n",
      "Successfully created and tested Model4\n"
     ]
    },
    {
     "name": "stderr",
     "output_type": "stream",
     "text": [
      "| train_loss: 1.48e+00 | eval_loss: 2.99e-01 | reg: 2.08e+01 |: 100%|█| 50/50 [01:05<00:00,  1.32s/i\n"
     ]
    },
    {
     "name": "stdout",
     "output_type": "stream",
     "text": [
      "saving model version 0.1\n",
      "Best epoch 33\n",
      "0.4710216820240021\n",
      "Testing 3 hidden neurons, lamb=0.01, grid=5\n",
      "checkpoint directory created: ./model\n",
      "saving model version 0.0\n",
      "checkpoint directory created: ./model\n",
      "saving model version 0.0\n",
      "Successfully created and tested Model4\n"
     ]
    },
    {
     "name": "stderr",
     "output_type": "stream",
     "text": [
      "| train_loss: 4.96e-01 | eval_loss: 1.85e-01 | reg: 2.19e+01 |: 100%|█| 50/50 [01:04<00:00,  1.28s/i\n"
     ]
    },
    {
     "name": "stdout",
     "output_type": "stream",
     "text": [
      "saving model version 0.1\n",
      "Best epoch 45\n",
      "0.31303727626800537\n",
      "Testing 3 hidden neurons, lamb=0.001, grid=5\n",
      "checkpoint directory created: ./model\n",
      "saving model version 0.0\n",
      "checkpoint directory created: ./model\n",
      "saving model version 0.0\n",
      "Successfully created and tested Model4\n"
     ]
    },
    {
     "name": "stderr",
     "output_type": "stream",
     "text": [
      "| train_loss: 1.95e-01 | eval_loss: 1.89e-01 | reg: 2.84e+01 |: 100%|█| 50/50 [01:08<00:00,  1.37s/i\n"
     ]
    },
    {
     "name": "stdout",
     "output_type": "stream",
     "text": [
      "saving model version 0.1\n",
      "Best epoch 25\n",
      "0.27549710869789124\n",
      "Testing 3 hidden neurons, lamb=0.0001, grid=5\n",
      "checkpoint directory created: ./model\n",
      "saving model version 0.0\n",
      "checkpoint directory created: ./model\n",
      "saving model version 0.0\n",
      "Successfully created and tested Model4\n"
     ]
    },
    {
     "name": "stderr",
     "output_type": "stream",
     "text": [
      "| train_loss: 1.24e-01 | eval_loss: 1.97e-01 | reg: 6.41e+01 |: 100%|█| 50/50 [01:08<00:00,  1.37s/i\n"
     ]
    },
    {
     "name": "stdout",
     "output_type": "stream",
     "text": [
      "saving model version 0.1\n",
      "Best epoch 28\n",
      "0.2695102393627167\n",
      "Testing 3 hidden neurons, lamb=1e-05, grid=5\n",
      "checkpoint directory created: ./model\n",
      "saving model version 0.0\n",
      "checkpoint directory created: ./model\n",
      "saving model version 0.0\n",
      "Successfully created and tested Model4\n"
     ]
    },
    {
     "name": "stderr",
     "output_type": "stream",
     "text": [
      "| train_loss: 9.76e-02 | eval_loss: 2.02e-01 | reg: 9.05e+01 |: 100%|█| 50/50 [01:08<00:00,  1.38s/i\n"
     ]
    },
    {
     "name": "stdout",
     "output_type": "stream",
     "text": [
      "saving model version 0.1\n",
      "Best epoch 16\n",
      "0.26360660791397095\n",
      "Testing 3 hidden neurons, lamb=1.0, grid=6\n",
      "checkpoint directory created: ./model\n",
      "saving model version 0.0\n",
      "checkpoint directory created: ./model\n",
      "saving model version 0.0\n",
      "Successfully created and tested Model4\n"
     ]
    },
    {
     "name": "stderr",
     "output_type": "stream",
     "text": [
      "| train_loss: 3.50e+00 | eval_loss: 2.98e+00 | reg: 2.53e-01 |: 100%|█| 50/50 [01:01<00:00,  1.23s/i\n"
     ]
    },
    {
     "name": "stdout",
     "output_type": "stream",
     "text": [
      "saving model version 0.1\n",
      "Best epoch 1\n",
      "3.3897509574890137\n",
      "Testing 3 hidden neurons, lamb=0.1, grid=6\n",
      "checkpoint directory created: ./model\n",
      "saving model version 0.0\n",
      "checkpoint directory created: ./model\n",
      "saving model version 0.0\n",
      "Successfully created and tested Model4\n"
     ]
    },
    {
     "name": "stderr",
     "output_type": "stream",
     "text": [
      "| train_loss: 1.47e+00 | eval_loss: 2.89e-01 | reg: 2.05e+01 |: 100%|█| 50/50 [01:08<00:00,  1.38s/i\n"
     ]
    },
    {
     "name": "stdout",
     "output_type": "stream",
     "text": [
      "saving model version 0.1\n",
      "Best epoch 29\n",
      "0.4707379937171936\n",
      "Testing 3 hidden neurons, lamb=0.01, grid=6\n",
      "checkpoint directory created: ./model\n",
      "saving model version 0.0\n",
      "checkpoint directory created: ./model\n",
      "saving model version 0.0\n",
      "Successfully created and tested Model4\n"
     ]
    },
    {
     "name": "stderr",
     "output_type": "stream",
     "text": [
      "| train_loss: 4.97e-01 | eval_loss: 1.91e-01 | reg: 2.20e+01 |: 100%|█| 50/50 [01:09<00:00,  1.40s/i\n"
     ]
    },
    {
     "name": "stdout",
     "output_type": "stream",
     "text": [
      "saving model version 0.1\n",
      "Best epoch 19\n",
      "0.30123984813690186\n",
      "Testing 3 hidden neurons, lamb=0.001, grid=6\n",
      "checkpoint directory created: ./model\n",
      "saving model version 0.0\n",
      "checkpoint directory created: ./model\n",
      "saving model version 0.0\n",
      "Successfully created and tested Model4\n"
     ]
    },
    {
     "name": "stderr",
     "output_type": "stream",
     "text": [
      "| train_loss: 2.02e-01 | eval_loss: 1.95e-01 | reg: 3.05e+01 |: 100%|█| 50/50 [01:12<00:00,  1.45s/i\n"
     ]
    },
    {
     "name": "stdout",
     "output_type": "stream",
     "text": [
      "saving model version 0.1\n",
      "Best epoch 27\n",
      "0.2556729316711426\n",
      "Testing 3 hidden neurons, lamb=0.0001, grid=6\n",
      "checkpoint directory created: ./model\n",
      "saving model version 0.0\n",
      "checkpoint directory created: ./model\n",
      "saving model version 0.0\n",
      "Successfully created and tested Model4\n"
     ]
    },
    {
     "name": "stderr",
     "output_type": "stream",
     "text": [
      "| train_loss: 1.27e-01 | eval_loss: 1.93e-01 | reg: 6.27e+01 |: 100%|█| 50/50 [01:13<00:00,  1.47s/i\n"
     ]
    },
    {
     "name": "stdout",
     "output_type": "stream",
     "text": [
      "saving model version 0.1\n",
      "Best epoch 44\n",
      "0.25826266407966614\n",
      "Testing 3 hidden neurons, lamb=1e-05, grid=6\n",
      "checkpoint directory created: ./model\n",
      "saving model version 0.0\n",
      "checkpoint directory created: ./model\n",
      "saving model version 0.0\n",
      "Successfully created and tested Model4\n"
     ]
    },
    {
     "name": "stderr",
     "output_type": "stream",
     "text": [
      "| train_loss: 1.02e-01 | eval_loss: 2.02e-01 | reg: 8.52e+01 |: 100%|█| 50/50 [01:14<00:00,  1.50s/i\n"
     ]
    },
    {
     "name": "stdout",
     "output_type": "stream",
     "text": [
      "saving model version 0.1\n",
      "Best epoch 21\n",
      "0.2333485335111618\n",
      "Testing 3 hidden neurons, lamb=1.0, grid=7\n",
      "checkpoint directory created: ./model\n",
      "saving model version 0.0\n",
      "checkpoint directory created: ./model\n",
      "saving model version 0.0\n",
      "Successfully created and tested Model4\n"
     ]
    },
    {
     "name": "stderr",
     "output_type": "stream",
     "text": [
      "| train_loss: 3.50e+00 | eval_loss: 2.98e+00 | reg: 2.22e-01 |: 100%|█| 50/50 [01:05<00:00,  1.30s/i\n"
     ]
    },
    {
     "name": "stdout",
     "output_type": "stream",
     "text": [
      "saving model version 0.1\n",
      "Best epoch 1\n",
      "3.3883605003356934\n",
      "Testing 3 hidden neurons, lamb=0.1, grid=7\n",
      "checkpoint directory created: ./model\n",
      "saving model version 0.0\n",
      "checkpoint directory created: ./model\n",
      "saving model version 0.0\n",
      "Successfully created and tested Model4\n"
     ]
    },
    {
     "name": "stderr",
     "output_type": "stream",
     "text": [
      "| train_loss: 1.48e+00 | eval_loss: 2.93e-01 | reg: 2.06e+01 |: 100%|█| 50/50 [01:14<00:00,  1.48s/i\n"
     ]
    },
    {
     "name": "stdout",
     "output_type": "stream",
     "text": [
      "saving model version 0.1\n",
      "Best epoch 39\n",
      "0.47902435064315796\n",
      "Testing 3 hidden neurons, lamb=0.01, grid=7\n",
      "checkpoint directory created: ./model\n",
      "saving model version 0.0\n",
      "checkpoint directory created: ./model\n",
      "saving model version 0.0\n",
      "Successfully created and tested Model4\n"
     ]
    },
    {
     "name": "stderr",
     "output_type": "stream",
     "text": [
      "| train_loss: 4.91e-01 | eval_loss: 1.95e-01 | reg: 2.16e+01 |: 100%|█| 50/50 [01:12<00:00,  1.46s/i\n"
     ]
    },
    {
     "name": "stdout",
     "output_type": "stream",
     "text": [
      "saving model version 0.1\n",
      "Best epoch 49\n",
      "0.31273332238197327\n",
      "Testing 3 hidden neurons, lamb=0.001, grid=7\n",
      "checkpoint directory created: ./model\n",
      "saving model version 0.0\n",
      "checkpoint directory created: ./model\n",
      "saving model version 0.0\n",
      "Successfully created and tested Model4\n"
     ]
    },
    {
     "name": "stderr",
     "output_type": "stream",
     "text": [
      "| train_loss: 2.03e-01 | eval_loss: 1.87e-01 | reg: 3.05e+01 |: 100%|█| 50/50 [01:17<00:00,  1.54s/i\n"
     ]
    },
    {
     "name": "stdout",
     "output_type": "stream",
     "text": [
      "saving model version 0.1\n",
      "Best epoch 25\n",
      "0.2630208134651184\n",
      "Testing 3 hidden neurons, lamb=0.0001, grid=7\n",
      "checkpoint directory created: ./model\n",
      "saving model version 0.0\n",
      "checkpoint directory created: ./model\n",
      "saving model version 0.0\n",
      "Successfully created and tested Model4\n"
     ]
    },
    {
     "name": "stderr",
     "output_type": "stream",
     "text": [
      "| train_loss: 1.23e-01 | eval_loss: 1.98e-01 | reg: 6.45e+01 |: 100%|█| 50/50 [01:17<00:00,  1.55s/i\n"
     ]
    },
    {
     "name": "stdout",
     "output_type": "stream",
     "text": [
      "saving model version 0.1\n",
      "Best epoch 17\n",
      "0.26433634757995605\n",
      "Testing 3 hidden neurons, lamb=1e-05, grid=7\n",
      "checkpoint directory created: ./model\n",
      "saving model version 0.0\n",
      "checkpoint directory created: ./model\n",
      "saving model version 0.0\n",
      "Successfully created and tested Model4\n"
     ]
    },
    {
     "name": "stderr",
     "output_type": "stream",
     "text": [
      "| train_loss: 9.72e-02 | eval_loss: 1.95e-01 | reg: 9.34e+01 |: 100%|█| 50/50 [01:18<00:00,  1.57s/i\n"
     ]
    },
    {
     "name": "stdout",
     "output_type": "stream",
     "text": [
      "saving model version 0.1\n",
      "Best epoch 20\n",
      "0.24633143842220306\n",
      "Testing 3 hidden neurons, lamb=1.0, grid=8\n",
      "checkpoint directory created: ./model\n",
      "saving model version 0.0\n",
      "checkpoint directory created: ./model\n",
      "saving model version 0.0\n",
      "Successfully created and tested Model4\n"
     ]
    },
    {
     "name": "stderr",
     "output_type": "stream",
     "text": [
      "| train_loss: 3.49e+00 | eval_loss: 2.98e+00 | reg: 2.08e-01 |: 100%|█| 50/50 [01:05<00:00,  1.31s/i\n"
     ]
    },
    {
     "name": "stdout",
     "output_type": "stream",
     "text": [
      "saving model version 0.1\n",
      "Best epoch 1\n",
      "3.388054609298706\n",
      "Testing 3 hidden neurons, lamb=0.1, grid=8\n",
      "checkpoint directory created: ./model\n",
      "saving model version 0.0\n",
      "checkpoint directory created: ./model\n",
      "saving model version 0.0\n",
      "Successfully created and tested Model4\n"
     ]
    },
    {
     "name": "stderr",
     "output_type": "stream",
     "text": [
      "| train_loss: 1.50e+00 | eval_loss: 3.04e-01 | reg: 2.13e+01 |: 100%|█| 50/50 [01:17<00:00,  1.55s/i\n"
     ]
    },
    {
     "name": "stdout",
     "output_type": "stream",
     "text": [
      "saving model version 0.1\n",
      "Best epoch 41\n",
      "0.48799529671669006\n",
      "Testing 3 hidden neurons, lamb=0.01, grid=8\n",
      "checkpoint directory created: ./model\n",
      "saving model version 0.0\n",
      "checkpoint directory created: ./model\n",
      "saving model version 0.0\n",
      "Successfully created and tested Model4\n"
     ]
    },
    {
     "name": "stderr",
     "output_type": "stream",
     "text": [
      "| train_loss: 4.99e-01 | eval_loss: 1.85e-01 | reg: 2.19e+01 |: 100%|█| 50/50 [01:18<00:00,  1.58s/i\n"
     ]
    },
    {
     "name": "stdout",
     "output_type": "stream",
     "text": [
      "saving model version 0.1\n",
      "Best epoch 48\n",
      "0.2996487319469452\n",
      "Testing 3 hidden neurons, lamb=0.001, grid=8\n",
      "checkpoint directory created: ./model\n",
      "saving model version 0.0\n",
      "checkpoint directory created: ./model\n",
      "saving model version 0.0\n",
      "Successfully created and tested Model4\n"
     ]
    },
    {
     "name": "stderr",
     "output_type": "stream",
     "text": [
      "| train_loss: 1.94e-01 | eval_loss: 1.85e-01 | reg: 2.95e+01 |: 100%|█| 50/50 [01:23<00:00,  1.67s/i\n"
     ]
    },
    {
     "name": "stdout",
     "output_type": "stream",
     "text": [
      "saving model version 0.1\n",
      "Best epoch 40\n",
      "0.25825202465057373\n",
      "Testing 3 hidden neurons, lamb=0.0001, grid=8\n",
      "checkpoint directory created: ./model\n",
      "saving model version 0.0\n",
      "checkpoint directory created: ./model\n",
      "saving model version 0.0\n",
      "Successfully created and tested Model4\n"
     ]
    },
    {
     "name": "stderr",
     "output_type": "stream",
     "text": [
      "| train_loss: 1.23e-01 | eval_loss: 1.76e-01 | reg: 6.59e+01 |: 100%|█| 50/50 [01:22<00:00,  1.65s/i\n"
     ]
    },
    {
     "name": "stdout",
     "output_type": "stream",
     "text": [
      "saving model version 0.1\n",
      "Best epoch 49\n",
      "0.2597370445728302\n",
      "Testing 3 hidden neurons, lamb=1e-05, grid=8\n",
      "checkpoint directory created: ./model\n",
      "saving model version 0.0\n",
      "checkpoint directory created: ./model\n",
      "saving model version 0.0\n",
      "Successfully created and tested Model4\n"
     ]
    },
    {
     "name": "stderr",
     "output_type": "stream",
     "text": [
      "| train_loss: 9.52e-02 | eval_loss: 1.94e-01 | reg: 9.84e+01 |: 100%|█| 50/50 [01:20<00:00,  1.62s/i\n"
     ]
    },
    {
     "name": "stdout",
     "output_type": "stream",
     "text": [
      "saving model version 0.1\n",
      "Best epoch 13\n",
      "0.23959171772003174\n",
      "Testing 4 hidden neurons, lamb=1.0, grid=3\n",
      "checkpoint directory created: ./model\n",
      "saving model version 0.0\n",
      "checkpoint directory created: ./model\n",
      "saving model version 0.0\n",
      "Successfully created and tested Model4\n"
     ]
    },
    {
     "name": "stderr",
     "output_type": "stream",
     "text": [
      "| train_loss: 3.51e+00 | eval_loss: 2.98e+00 | reg: 3.22e-01 |: 100%|█| 50/50 [00:55<00:00,  1.11s/i\n"
     ]
    },
    {
     "name": "stdout",
     "output_type": "stream",
     "text": [
      "saving model version 0.1\n",
      "Best epoch 1\n",
      "3.3815531730651855\n",
      "Testing 4 hidden neurons, lamb=0.1, grid=3\n",
      "checkpoint directory created: ./model\n",
      "saving model version 0.0\n",
      "checkpoint directory created: ./model\n",
      "saving model version 0.0\n",
      "Successfully created and tested Model4\n"
     ]
    },
    {
     "name": "stderr",
     "output_type": "stream",
     "text": [
      "| train_loss: 1.48e+00 | eval_loss: 2.98e-01 | reg: 2.07e+01 |: 100%|█| 50/50 [00:54<00:00,  1.09s/i\n"
     ]
    },
    {
     "name": "stdout",
     "output_type": "stream",
     "text": [
      "saving model version 0.1\n",
      "Best epoch 32\n",
      "0.4724190831184387\n",
      "Testing 4 hidden neurons, lamb=0.01, grid=3\n",
      "checkpoint directory created: ./model\n",
      "saving model version 0.0\n",
      "checkpoint directory created: ./model\n",
      "saving model version 0.0\n",
      "Successfully created and tested Model4\n"
     ]
    },
    {
     "name": "stderr",
     "output_type": "stream",
     "text": [
      "| train_loss: 4.91e-01 | eval_loss: 1.84e-01 | reg: 2.19e+01 |: 100%|█| 50/50 [00:56<00:00,  1.12s/i\n"
     ]
    },
    {
     "name": "stdout",
     "output_type": "stream",
     "text": [
      "saving model version 0.1\n",
      "Best epoch 45\n",
      "0.32205891609191895\n",
      "Testing 4 hidden neurons, lamb=0.001, grid=3\n",
      "checkpoint directory created: ./model\n",
      "saving model version 0.0\n",
      "checkpoint directory created: ./model\n",
      "saving model version 0.0\n",
      "Successfully created and tested Model4\n"
     ]
    },
    {
     "name": "stderr",
     "output_type": "stream",
     "text": [
      "| train_loss: 2.01e-01 | eval_loss: 1.76e-01 | reg: 3.01e+01 |: 100%|█| 50/50 [00:59<00:00,  1.18s/i\n"
     ]
    },
    {
     "name": "stdout",
     "output_type": "stream",
     "text": [
      "saving model version 0.1\n",
      "Best epoch 46\n",
      "0.2820964753627777\n",
      "Testing 4 hidden neurons, lamb=0.0001, grid=3\n",
      "checkpoint directory created: ./model\n",
      "saving model version 0.0\n",
      "checkpoint directory created: ./model\n",
      "saving model version 0.0\n",
      "Successfully created and tested Model4\n"
     ]
    },
    {
     "name": "stderr",
     "output_type": "stream",
     "text": [
      "| train_loss: 1.21e-01 | eval_loss: 2.01e-01 | reg: 6.43e+01 |: 100%|█| 50/50 [00:58<00:00,  1.18s/i\n"
     ]
    },
    {
     "name": "stdout",
     "output_type": "stream",
     "text": [
      "saving model version 0.1\n",
      "Best epoch 26\n",
      "0.2794875502586365\n",
      "Testing 4 hidden neurons, lamb=1e-05, grid=3\n",
      "checkpoint directory created: ./model\n",
      "saving model version 0.0\n",
      "checkpoint directory created: ./model\n",
      "saving model version 0.0\n",
      "Successfully created and tested Model4\n"
     ]
    },
    {
     "name": "stderr",
     "output_type": "stream",
     "text": [
      "| train_loss: 9.62e-02 | eval_loss: 1.99e-01 | reg: 8.36e+01 |: 100%|█| 50/50 [00:56<00:00,  1.14s/i\n"
     ]
    },
    {
     "name": "stdout",
     "output_type": "stream",
     "text": [
      "saving model version 0.1\n",
      "Best epoch 18\n",
      "0.23681819438934326\n",
      "Testing 4 hidden neurons, lamb=1.0, grid=4\n",
      "checkpoint directory created: ./model\n",
      "saving model version 0.0\n",
      "checkpoint directory created: ./model\n",
      "saving model version 0.0\n",
      "Successfully created and tested Model4\n"
     ]
    },
    {
     "name": "stderr",
     "output_type": "stream",
     "text": [
      "| train_loss: 3.51e+00 | eval_loss: 2.98e+00 | reg: 3.10e-01 |: 100%|█| 50/50 [00:51<00:00,  1.04s/i\n"
     ]
    },
    {
     "name": "stdout",
     "output_type": "stream",
     "text": [
      "saving model version 0.1\n",
      "Best epoch 1\n",
      "3.3928256034851074\n",
      "Testing 4 hidden neurons, lamb=0.1, grid=4\n",
      "checkpoint directory created: ./model\n",
      "saving model version 0.0\n",
      "checkpoint directory created: ./model\n",
      "saving model version 0.0\n",
      "Successfully created and tested Model4\n"
     ]
    },
    {
     "name": "stderr",
     "output_type": "stream",
     "text": [
      "| train_loss: 1.47e+00 | eval_loss: 2.64e-01 | reg: 2.08e+01 |: 100%|█| 50/50 [01:00<00:00,  1.21s/i\n"
     ]
    },
    {
     "name": "stdout",
     "output_type": "stream",
     "text": [
      "saving model version 0.1\n",
      "Best epoch 49\n",
      "0.4435785114765167\n",
      "Testing 4 hidden neurons, lamb=0.01, grid=4\n",
      "checkpoint directory created: ./model\n",
      "saving model version 0.0\n",
      "checkpoint directory created: ./model\n",
      "saving model version 0.0\n",
      "Successfully created and tested Model4\n"
     ]
    },
    {
     "name": "stderr",
     "output_type": "stream",
     "text": [
      "| train_loss: 4.89e-01 | eval_loss: 1.93e-01 | reg: 2.12e+01 |: 100%|█| 50/50 [01:00<00:00,  1.21s/i\n"
     ]
    },
    {
     "name": "stdout",
     "output_type": "stream",
     "text": [
      "saving model version 0.1\n",
      "Best epoch 48\n",
      "0.305120050907135\n",
      "Testing 4 hidden neurons, lamb=0.001, grid=4\n",
      "checkpoint directory created: ./model\n",
      "saving model version 0.0\n",
      "checkpoint directory created: ./model\n",
      "saving model version 0.0\n",
      "Successfully created and tested Model4\n"
     ]
    },
    {
     "name": "stderr",
     "output_type": "stream",
     "text": [
      "| train_loss: 1.99e-01 | eval_loss: 2.11e-01 | reg: 2.94e+01 |: 100%|█| 50/50 [01:04<00:00,  1.28s/i\n"
     ]
    },
    {
     "name": "stdout",
     "output_type": "stream",
     "text": [
      "saving model version 0.1\n",
      "Best epoch 29\n",
      "0.2819220721721649\n",
      "Testing 4 hidden neurons, lamb=0.0001, grid=4\n",
      "checkpoint directory created: ./model\n",
      "saving model version 0.0\n",
      "checkpoint directory created: ./model\n",
      "saving model version 0.0\n",
      "Successfully created and tested Model4\n"
     ]
    },
    {
     "name": "stderr",
     "output_type": "stream",
     "text": [
      "| train_loss: 1.36e-01 | eval_loss: 2.07e-01 | reg: 6.65e+01 |: 100%|█| 50/50 [01:04<00:00,  1.29s/i\n"
     ]
    },
    {
     "name": "stdout",
     "output_type": "stream",
     "text": [
      "saving model version 0.1\n",
      "Best epoch 24\n",
      "0.25166401267051697\n",
      "Testing 4 hidden neurons, lamb=1e-05, grid=4\n",
      "checkpoint directory created: ./model\n",
      "saving model version 0.0\n",
      "checkpoint directory created: ./model\n",
      "saving model version 0.0\n",
      "Successfully created and tested Model4\n"
     ]
    },
    {
     "name": "stderr",
     "output_type": "stream",
     "text": [
      "| train_loss: 1.09e-01 | eval_loss: 1.93e-01 | reg: 9.79e+01 |: 100%|█| 50/50 [01:04<00:00,  1.29s/i\n"
     ]
    },
    {
     "name": "stdout",
     "output_type": "stream",
     "text": [
      "saving model version 0.1\n",
      "Best epoch 28\n",
      "0.25071045756340027\n",
      "Testing 4 hidden neurons, lamb=1.0, grid=5\n",
      "checkpoint directory created: ./model\n",
      "saving model version 0.0\n",
      "checkpoint directory created: ./model\n",
      "saving model version 0.0\n",
      "Successfully created and tested Model4\n"
     ]
    },
    {
     "name": "stderr",
     "output_type": "stream",
     "text": [
      "| train_loss: 3.50e+00 | eval_loss: 2.98e+00 | reg: 2.76e-01 |: 100%|█| 50/50 [00:59<00:00,  1.19s/i\n"
     ]
    },
    {
     "name": "stdout",
     "output_type": "stream",
     "text": [
      "saving model version 0.1\n",
      "Best epoch 1\n",
      "3.390601873397827\n",
      "Testing 4 hidden neurons, lamb=0.1, grid=5\n",
      "checkpoint directory created: ./model\n",
      "saving model version 0.0\n",
      "checkpoint directory created: ./model\n",
      "saving model version 0.0\n",
      "Successfully created and tested Model4\n"
     ]
    },
    {
     "name": "stderr",
     "output_type": "stream",
     "text": [
      "| train_loss: 1.47e+00 | eval_loss: 2.90e-01 | reg: 2.06e+01 |: 100%|█| 50/50 [01:04<00:00,  1.29s/i\n"
     ]
    },
    {
     "name": "stdout",
     "output_type": "stream",
     "text": [
      "saving model version 0.1\n",
      "Best epoch 43\n",
      "0.46506014466285706\n",
      "Testing 4 hidden neurons, lamb=0.01, grid=5\n",
      "checkpoint directory created: ./model\n",
      "saving model version 0.0\n",
      "checkpoint directory created: ./model\n",
      "saving model version 0.0\n",
      "Successfully created and tested Model4\n"
     ]
    },
    {
     "name": "stderr",
     "output_type": "stream",
     "text": [
      "| train_loss: 4.97e-01 | eval_loss: 1.85e-01 | reg: 2.19e+01 |: 100%|█| 50/50 [01:06<00:00,  1.33s/i\n"
     ]
    },
    {
     "name": "stdout",
     "output_type": "stream",
     "text": [
      "saving model version 0.1\n",
      "Best epoch 49\n",
      "0.3022316098213196\n",
      "Testing 4 hidden neurons, lamb=0.001, grid=5\n",
      "checkpoint directory created: ./model\n",
      "saving model version 0.0\n",
      "checkpoint directory created: ./model\n",
      "saving model version 0.0\n",
      "Successfully created and tested Model4\n"
     ]
    },
    {
     "name": "stderr",
     "output_type": "stream",
     "text": [
      "| train_loss: 1.98e-01 | eval_loss: 2.01e-01 | reg: 2.82e+01 |: 100%|█| 50/50 [01:08<00:00,  1.38s/i\n"
     ]
    },
    {
     "name": "stdout",
     "output_type": "stream",
     "text": [
      "saving model version 0.1\n",
      "Best epoch 28\n",
      "0.2596350610256195\n",
      "Testing 4 hidden neurons, lamb=0.0001, grid=5\n",
      "checkpoint directory created: ./model\n",
      "saving model version 0.0\n",
      "checkpoint directory created: ./model\n",
      "saving model version 0.0\n",
      "Successfully created and tested Model4\n"
     ]
    },
    {
     "name": "stderr",
     "output_type": "stream",
     "text": [
      "| train_loss: 1.31e-01 | eval_loss: 2.14e-01 | reg: 6.50e+01 |: 100%|█| 50/50 [01:09<00:00,  1.38s/i\n"
     ]
    },
    {
     "name": "stdout",
     "output_type": "stream",
     "text": [
      "saving model version 0.1\n",
      "Best epoch 14\n",
      "0.23841099441051483\n",
      "Testing 4 hidden neurons, lamb=1e-05, grid=5\n",
      "checkpoint directory created: ./model\n",
      "saving model version 0.0\n",
      "checkpoint directory created: ./model\n",
      "saving model version 0.0\n",
      "Successfully created and tested Model4\n"
     ]
    },
    {
     "name": "stderr",
     "output_type": "stream",
     "text": [
      "| train_loss: 1.05e-01 | eval_loss: 1.98e-01 | reg: 9.47e+01 |: 100%|█| 50/50 [01:09<00:00,  1.38s/i\n"
     ]
    },
    {
     "name": "stdout",
     "output_type": "stream",
     "text": [
      "saving model version 0.1\n",
      "Best epoch 10\n",
      "0.24094213545322418\n",
      "Testing 4 hidden neurons, lamb=1.0, grid=6\n",
      "checkpoint directory created: ./model\n",
      "saving model version 0.0\n",
      "checkpoint directory created: ./model\n",
      "saving model version 0.0\n",
      "Successfully created and tested Model4\n"
     ]
    },
    {
     "name": "stderr",
     "output_type": "stream",
     "text": [
      "| train_loss: 3.51e+00 | eval_loss: 2.98e+00 | reg: 3.20e-01 |: 100%|█| 50/50 [00:56<00:00,  1.12s/i\n"
     ]
    },
    {
     "name": "stdout",
     "output_type": "stream",
     "text": [
      "saving model version 0.1\n",
      "Best epoch 1\n",
      "3.3880207538604736\n",
      "Testing 4 hidden neurons, lamb=0.1, grid=6\n",
      "checkpoint directory created: ./model\n",
      "saving model version 0.0\n",
      "checkpoint directory created: ./model\n",
      "saving model version 0.0\n",
      "Successfully created and tested Model4\n"
     ]
    },
    {
     "name": "stderr",
     "output_type": "stream",
     "text": [
      "| train_loss: 1.49e+00 | eval_loss: 2.85e-01 | reg: 2.09e+01 |: 100%|█| 50/50 [01:09<00:00,  1.39s/i\n"
     ]
    },
    {
     "name": "stdout",
     "output_type": "stream",
     "text": [
      "saving model version 0.1\n",
      "Best epoch 49\n",
      "0.4676847755908966\n",
      "Testing 4 hidden neurons, lamb=0.01, grid=6\n",
      "checkpoint directory created: ./model\n",
      "saving model version 0.0\n",
      "checkpoint directory created: ./model\n",
      "saving model version 0.0\n",
      "Successfully created and tested Model4\n"
     ]
    },
    {
     "name": "stderr",
     "output_type": "stream",
     "text": [
      "| train_loss: 4.90e-01 | eval_loss: 1.93e-01 | reg: 2.13e+01 |: 100%|█| 50/50 [01:09<00:00,  1.38s/i\n"
     ]
    },
    {
     "name": "stdout",
     "output_type": "stream",
     "text": [
      "saving model version 0.1\n",
      "Best epoch 29\n",
      "0.30806925892829895\n",
      "Testing 4 hidden neurons, lamb=0.001, grid=6\n",
      "checkpoint directory created: ./model\n",
      "saving model version 0.0\n",
      "checkpoint directory created: ./model\n",
      "saving model version 0.0\n",
      "Successfully created and tested Model4\n"
     ]
    },
    {
     "name": "stderr",
     "output_type": "stream",
     "text": [
      "| train_loss: 2.01e-01 | eval_loss: 1.82e-01 | reg: 3.07e+01 |: 100%|█| 50/50 [01:13<00:00,  1.48s/i\n"
     ]
    },
    {
     "name": "stdout",
     "output_type": "stream",
     "text": [
      "saving model version 0.1\n",
      "Best epoch 43\n",
      "0.2665087878704071\n",
      "Testing 4 hidden neurons, lamb=0.0001, grid=6\n",
      "checkpoint directory created: ./model\n",
      "saving model version 0.0\n",
      "checkpoint directory created: ./model\n",
      "saving model version 0.0\n",
      "Successfully created and tested Model4\n"
     ]
    },
    {
     "name": "stderr",
     "output_type": "stream",
     "text": [
      "| train_loss: 1.25e-01 | eval_loss: 1.80e-01 | reg: 6.35e+01 |: 100%|█| 50/50 [01:13<00:00,  1.46s/i\n"
     ]
    },
    {
     "name": "stdout",
     "output_type": "stream",
     "text": [
      "saving model version 0.1\n",
      "Best epoch 26\n",
      "0.2587839961051941\n",
      "Testing 4 hidden neurons, lamb=1e-05, grid=6\n",
      "checkpoint directory created: ./model\n",
      "saving model version 0.0\n",
      "checkpoint directory created: ./model\n",
      "saving model version 0.0\n",
      "Successfully created and tested Model4\n"
     ]
    },
    {
     "name": "stderr",
     "output_type": "stream",
     "text": [
      "| train_loss: 1.09e-01 | eval_loss: 2.10e-01 | reg: 9.45e+01 |: 100%|█| 50/50 [01:13<00:00,  1.47s/i\n"
     ]
    },
    {
     "name": "stdout",
     "output_type": "stream",
     "text": [
      "saving model version 0.1\n",
      "Best epoch 31\n",
      "0.2662425935268402\n",
      "Testing 4 hidden neurons, lamb=1.0, grid=7\n",
      "checkpoint directory created: ./model\n",
      "saving model version 0.0\n",
      "checkpoint directory created: ./model\n",
      "saving model version 0.0\n",
      "Successfully created and tested Model4\n"
     ]
    },
    {
     "name": "stderr",
     "output_type": "stream",
     "text": [
      "| train_loss: 3.51e+00 | eval_loss: 2.98e+00 | reg: 2.86e-01 |: 100%|█| 50/50 [01:00<00:00,  1.22s/i\n"
     ]
    },
    {
     "name": "stdout",
     "output_type": "stream",
     "text": [
      "saving model version 0.1\n",
      "Best epoch 1\n",
      "3.389755964279175\n",
      "Testing 4 hidden neurons, lamb=0.1, grid=7\n",
      "checkpoint directory created: ./model\n",
      "saving model version 0.0\n",
      "checkpoint directory created: ./model\n",
      "saving model version 0.0\n",
      "Successfully created and tested Model4\n"
     ]
    },
    {
     "name": "stderr",
     "output_type": "stream",
     "text": [
      "| train_loss: 1.48e+00 | eval_loss: 2.96e-01 | reg: 2.06e+01 |: 100%|█| 50/50 [01:13<00:00,  1.46s/i\n"
     ]
    },
    {
     "name": "stdout",
     "output_type": "stream",
     "text": [
      "saving model version 0.1\n",
      "Best epoch 49\n",
      "0.4740366041660309\n",
      "Testing 4 hidden neurons, lamb=0.01, grid=7\n",
      "checkpoint directory created: ./model\n",
      "saving model version 0.0\n",
      "checkpoint directory created: ./model\n",
      "saving model version 0.0\n",
      "Successfully created and tested Model4\n"
     ]
    },
    {
     "name": "stderr",
     "output_type": "stream",
     "text": [
      "| train_loss: 4.94e-01 | eval_loss: 1.87e-01 | reg: 2.18e+01 |: 100%|█| 50/50 [01:15<00:00,  1.50s/i\n"
     ]
    },
    {
     "name": "stdout",
     "output_type": "stream",
     "text": [
      "saving model version 0.1\n",
      "Best epoch 15\n",
      "0.2932332158088684\n",
      "Testing 4 hidden neurons, lamb=0.001, grid=7\n",
      "checkpoint directory created: ./model\n",
      "saving model version 0.0\n",
      "checkpoint directory created: ./model\n",
      "saving model version 0.0\n",
      "Successfully created and tested Model4\n"
     ]
    },
    {
     "name": "stderr",
     "output_type": "stream",
     "text": [
      "| train_loss: 1.97e-01 | eval_loss: 1.89e-01 | reg: 2.96e+01 |: 100%|█| 50/50 [01:16<00:00,  1.53s/i\n"
     ]
    },
    {
     "name": "stdout",
     "output_type": "stream",
     "text": [
      "saving model version 0.1\n",
      "Best epoch 14\n",
      "0.2506698668003082\n",
      "Testing 4 hidden neurons, lamb=0.0001, grid=7\n",
      "checkpoint directory created: ./model\n",
      "saving model version 0.0\n",
      "checkpoint directory created: ./model\n",
      "saving model version 0.0\n",
      "Successfully created and tested Model4\n"
     ]
    },
    {
     "name": "stderr",
     "output_type": "stream",
     "text": [
      "| train_loss: 1.27e-01 | eval_loss: 1.90e-01 | reg: 6.16e+01 |: 100%|█| 50/50 [01:17<00:00,  1.55s/i\n"
     ]
    },
    {
     "name": "stdout",
     "output_type": "stream",
     "text": [
      "saving model version 0.1\n",
      "Best epoch 38\n",
      "0.2240471988916397\n",
      "Testing 4 hidden neurons, lamb=1e-05, grid=7\n",
      "checkpoint directory created: ./model\n",
      "saving model version 0.0\n",
      "checkpoint directory created: ./model\n",
      "saving model version 0.0\n",
      "Successfully created and tested Model4\n"
     ]
    },
    {
     "name": "stderr",
     "output_type": "stream",
     "text": [
      "| train_loss: 9.60e-02 | eval_loss: 2.07e-01 | reg: 9.03e+01 |: 100%|█| 50/50 [01:19<00:00,  1.60s/i\n"
     ]
    },
    {
     "name": "stdout",
     "output_type": "stream",
     "text": [
      "saving model version 0.1\n",
      "Best epoch 3\n",
      "0.24760515987873077\n",
      "Testing 4 hidden neurons, lamb=1.0, grid=8\n",
      "checkpoint directory created: ./model\n",
      "saving model version 0.0\n",
      "checkpoint directory created: ./model\n",
      "saving model version 0.0\n",
      "Successfully created and tested Model4\n"
     ]
    },
    {
     "name": "stderr",
     "output_type": "stream",
     "text": [
      "| train_loss: 3.52e+00 | eval_loss: 2.98e+00 | reg: 3.58e-01 |: 100%|█| 50/50 [00:55<00:00,  1.10s/i\n"
     ]
    },
    {
     "name": "stdout",
     "output_type": "stream",
     "text": [
      "saving model version 0.1\n",
      "Best epoch 0\n",
      "3.367048740386963\n",
      "Testing 4 hidden neurons, lamb=0.1, grid=8\n",
      "checkpoint directory created: ./model\n",
      "saving model version 0.0\n",
      "checkpoint directory created: ./model\n",
      "saving model version 0.0\n",
      "Successfully created and tested Model4\n"
     ]
    },
    {
     "name": "stderr",
     "output_type": "stream",
     "text": [
      "| train_loss: 1.49e+00 | eval_loss: 3.00e-01 | reg: 2.10e+01 |: 100%|█| 50/50 [01:18<00:00,  1.57s/i\n"
     ]
    },
    {
     "name": "stdout",
     "output_type": "stream",
     "text": [
      "saving model version 0.1\n",
      "Best epoch 38\n",
      "0.47769591212272644\n",
      "Testing 4 hidden neurons, lamb=0.01, grid=8\n",
      "checkpoint directory created: ./model\n",
      "saving model version 0.0\n",
      "checkpoint directory created: ./model\n",
      "saving model version 0.0\n",
      "Successfully created and tested Model4\n"
     ]
    },
    {
     "name": "stderr",
     "output_type": "stream",
     "text": [
      "| train_loss: 4.97e-01 | eval_loss: 1.91e-01 | reg: 2.21e+01 |: 100%|█| 50/50 [01:18<00:00,  1.56s/i\n"
     ]
    },
    {
     "name": "stdout",
     "output_type": "stream",
     "text": [
      "saving model version 0.1\n",
      "Best epoch 24\n",
      "0.29624104499816895\n",
      "Testing 4 hidden neurons, lamb=0.001, grid=8\n",
      "checkpoint directory created: ./model\n",
      "saving model version 0.0\n",
      "checkpoint directory created: ./model\n",
      "saving model version 0.0\n",
      "Successfully created and tested Model4\n"
     ]
    },
    {
     "name": "stderr",
     "output_type": "stream",
     "text": [
      "| train_loss: 1.96e-01 | eval_loss: 1.74e-01 | reg: 3.11e+01 |: 100%|█| 50/50 [01:22<00:00,  1.65s/i\n"
     ]
    },
    {
     "name": "stdout",
     "output_type": "stream",
     "text": [
      "saving model version 0.1\n",
      "Best epoch 39\n",
      "0.2671704590320587\n",
      "Testing 4 hidden neurons, lamb=0.0001, grid=8\n",
      "checkpoint directory created: ./model\n",
      "saving model version 0.0\n",
      "checkpoint directory created: ./model\n",
      "saving model version 0.0\n",
      "Successfully created and tested Model4\n"
     ]
    },
    {
     "name": "stderr",
     "output_type": "stream",
     "text": [
      "| train_loss: 1.24e-01 | eval_loss: 2.05e-01 | reg: 6.39e+01 |: 100%|█| 50/50 [01:24<00:00,  1.68s/i\n"
     ]
    },
    {
     "name": "stdout",
     "output_type": "stream",
     "text": [
      "saving model version 0.1\n",
      "Best epoch 15\n",
      "0.2547246217727661\n",
      "Testing 4 hidden neurons, lamb=1e-05, grid=8\n",
      "checkpoint directory created: ./model\n",
      "saving model version 0.0\n",
      "checkpoint directory created: ./model\n",
      "saving model version 0.0\n",
      "Successfully created and tested Model4\n"
     ]
    },
    {
     "name": "stderr",
     "output_type": "stream",
     "text": [
      "| train_loss: 9.65e-02 | eval_loss: 1.94e-01 | reg: 8.53e+01 |: 100%|█| 50/50 [01:22<00:00,  1.65s/i\n"
     ]
    },
    {
     "name": "stdout",
     "output_type": "stream",
     "text": [
      "saving model version 0.1\n",
      "Best epoch 18\n",
      "0.2538764476776123\n",
      "Testing 5 hidden neurons, lamb=1.0, grid=3\n",
      "checkpoint directory created: ./model\n",
      "saving model version 0.0\n",
      "checkpoint directory created: ./model\n",
      "saving model version 0.0\n",
      "Successfully created and tested Model4\n"
     ]
    },
    {
     "name": "stderr",
     "output_type": "stream",
     "text": [
      "| train_loss: 3.51e+00 | eval_loss: 2.98e+00 | reg: 3.26e-01 |: 100%|█| 50/50 [00:47<00:00,  1.06it/\n"
     ]
    },
    {
     "name": "stdout",
     "output_type": "stream",
     "text": [
      "saving model version 0.1\n",
      "Best epoch 5\n",
      "3.3902156352996826\n",
      "Testing 5 hidden neurons, lamb=0.1, grid=3\n",
      "checkpoint directory created: ./model\n",
      "saving model version 0.0\n",
      "checkpoint directory created: ./model\n",
      "saving model version 0.0\n",
      "Successfully created and tested Model4\n"
     ]
    },
    {
     "name": "stderr",
     "output_type": "stream",
     "text": [
      "| train_loss: 1.47e+00 | eval_loss: 2.91e-01 | reg: 2.05e+01 |: 100%|█| 50/50 [00:53<00:00,  1.07s/i\n"
     ]
    },
    {
     "name": "stdout",
     "output_type": "stream",
     "text": [
      "saving model version 0.1\n",
      "Best epoch 49\n",
      "0.47166094183921814\n",
      "Testing 5 hidden neurons, lamb=0.01, grid=3\n",
      "checkpoint directory created: ./model\n",
      "saving model version 0.0\n",
      "checkpoint directory created: ./model\n",
      "saving model version 0.0\n",
      "Successfully created and tested Model4\n"
     ]
    },
    {
     "name": "stderr",
     "output_type": "stream",
     "text": [
      "| train_loss: 4.95e-01 | eval_loss: 1.88e-01 | reg: 2.19e+01 |: 100%|█| 50/50 [00:55<00:00,  1.12s/i\n"
     ]
    },
    {
     "name": "stdout",
     "output_type": "stream",
     "text": [
      "saving model version 0.1\n",
      "Best epoch 40\n",
      "0.30710145831108093\n",
      "Testing 5 hidden neurons, lamb=0.001, grid=3\n",
      "checkpoint directory created: ./model\n",
      "saving model version 0.0\n",
      "checkpoint directory created: ./model\n",
      "saving model version 0.0\n",
      "Successfully created and tested Model4\n"
     ]
    },
    {
     "name": "stderr",
     "output_type": "stream",
     "text": [
      "| train_loss: 2.01e-01 | eval_loss: 1.90e-01 | reg: 2.88e+01 |: 100%|█| 50/50 [00:59<00:00,  1.18s/i\n"
     ]
    },
    {
     "name": "stdout",
     "output_type": "stream",
     "text": [
      "saving model version 0.1\n",
      "Best epoch 23\n",
      "0.26144522428512573\n",
      "Testing 5 hidden neurons, lamb=0.0001, grid=3\n",
      "checkpoint directory created: ./model\n",
      "saving model version 0.0\n",
      "checkpoint directory created: ./model\n",
      "saving model version 0.0\n",
      "Successfully created and tested Model4\n"
     ]
    },
    {
     "name": "stderr",
     "output_type": "stream",
     "text": [
      "| train_loss: 1.29e-01 | eval_loss: 2.00e-01 | reg: 6.84e+01 |: 100%|█| 50/50 [00:59<00:00,  1.18s/i\n"
     ]
    },
    {
     "name": "stdout",
     "output_type": "stream",
     "text": [
      "saving model version 0.1\n",
      "Best epoch 15\n",
      "0.24221549928188324\n",
      "Testing 5 hidden neurons, lamb=1e-05, grid=3\n",
      "checkpoint directory created: ./model\n",
      "saving model version 0.0\n",
      "checkpoint directory created: ./model\n",
      "saving model version 0.0\n",
      "Successfully created and tested Model4\n"
     ]
    },
    {
     "name": "stderr",
     "output_type": "stream",
     "text": [
      "| train_loss: 9.88e-02 | eval_loss: 1.89e-01 | reg: 8.96e+01 |: 100%|█| 50/50 [00:58<00:00,  1.17s/i\n"
     ]
    },
    {
     "name": "stdout",
     "output_type": "stream",
     "text": [
      "saving model version 0.1\n",
      "Best epoch 35\n",
      "0.26457348465919495\n",
      "Testing 5 hidden neurons, lamb=1.0, grid=4\n",
      "checkpoint directory created: ./model\n",
      "saving model version 0.0\n",
      "checkpoint directory created: ./model\n",
      "saving model version 0.0\n",
      "Successfully created and tested Model4\n"
     ]
    },
    {
     "name": "stderr",
     "output_type": "stream",
     "text": [
      "| train_loss: 3.51e+00 | eval_loss: 2.98e+00 | reg: 2.99e-01 |: 100%|█| 50/50 [00:47<00:00,  1.05it/\n"
     ]
    },
    {
     "name": "stdout",
     "output_type": "stream",
     "text": [
      "saving model version 0.1\n",
      "Best epoch 1\n",
      "3.38560152053833\n",
      "Testing 5 hidden neurons, lamb=0.1, grid=4\n",
      "checkpoint directory created: ./model\n",
      "saving model version 0.0\n",
      "checkpoint directory created: ./model\n",
      "saving model version 0.0\n",
      "Successfully created and tested Model4\n"
     ]
    },
    {
     "name": "stderr",
     "output_type": "stream",
     "text": [
      "| train_loss: 1.46e+00 | eval_loss: 2.92e-01 | reg: 2.01e+01 |: 100%|█| 50/50 [00:58<00:00,  1.18s/i\n"
     ]
    },
    {
     "name": "stdout",
     "output_type": "stream",
     "text": [
      "saving model version 0.1\n",
      "Best epoch 46\n",
      "0.47792378067970276\n",
      "Testing 5 hidden neurons, lamb=0.01, grid=4\n",
      "checkpoint directory created: ./model\n",
      "saving model version 0.0\n",
      "checkpoint directory created: ./model\n",
      "saving model version 0.0\n",
      "Successfully created and tested Model4\n"
     ]
    },
    {
     "name": "stderr",
     "output_type": "stream",
     "text": [
      "| train_loss: 4.92e-01 | eval_loss: 1.87e-01 | reg: 2.14e+01 |: 100%|█| 50/50 [01:00<00:00,  1.21s/i\n"
     ]
    },
    {
     "name": "stdout",
     "output_type": "stream",
     "text": [
      "saving model version 0.1\n",
      "Best epoch 38\n",
      "0.303191214799881\n",
      "Testing 5 hidden neurons, lamb=0.001, grid=4\n",
      "checkpoint directory created: ./model\n",
      "saving model version 0.0\n",
      "checkpoint directory created: ./model\n",
      "saving model version 0.0\n",
      "Successfully created and tested Model4\n"
     ]
    },
    {
     "name": "stderr",
     "output_type": "stream",
     "text": [
      "| train_loss: 2.01e-01 | eval_loss: 2.00e-01 | reg: 2.81e+01 |: 100%|█| 50/50 [01:04<00:00,  1.29s/i\n"
     ]
    },
    {
     "name": "stdout",
     "output_type": "stream",
     "text": [
      "saving model version 0.1\n",
      "Best epoch 18\n",
      "0.24807260930538177\n",
      "Testing 5 hidden neurons, lamb=0.0001, grid=4\n",
      "checkpoint directory created: ./model\n",
      "saving model version 0.0\n",
      "checkpoint directory created: ./model\n",
      "saving model version 0.0\n",
      "Successfully created and tested Model4\n"
     ]
    },
    {
     "name": "stderr",
     "output_type": "stream",
     "text": [
      "| train_loss: 1.30e-01 | eval_loss: 2.17e-01 | reg: 6.36e+01 |: 100%|█| 50/50 [01:04<00:00,  1.29s/i\n"
     ]
    },
    {
     "name": "stdout",
     "output_type": "stream",
     "text": [
      "saving model version 0.1\n",
      "Best epoch 27\n",
      "0.252975732088089\n",
      "Testing 5 hidden neurons, lamb=1e-05, grid=4\n",
      "checkpoint directory created: ./model\n",
      "saving model version 0.0\n",
      "checkpoint directory created: ./model\n",
      "saving model version 0.0\n",
      "Successfully created and tested Model4\n"
     ]
    },
    {
     "name": "stderr",
     "output_type": "stream",
     "text": [
      "| train_loss: 1.17e-01 | eval_loss: 2.46e-01 | reg: 8.11e+01 |: 100%|█| 50/50 [01:05<00:00,  1.32s/i\n"
     ]
    },
    {
     "name": "stdout",
     "output_type": "stream",
     "text": [
      "saving model version 0.1\n",
      "Best epoch 11\n",
      "0.25229570269584656\n",
      "Testing 5 hidden neurons, lamb=1.0, grid=5\n",
      "checkpoint directory created: ./model\n",
      "saving model version 0.0\n",
      "checkpoint directory created: ./model\n",
      "saving model version 0.0\n",
      "Successfully created and tested Model4\n"
     ]
    },
    {
     "name": "stderr",
     "output_type": "stream",
     "text": [
      "| train_loss: 3.51e+00 | eval_loss: 2.98e+00 | reg: 2.90e-01 |: 100%|█| 50/50 [00:53<00:00,  1.07s/i\n"
     ]
    },
    {
     "name": "stdout",
     "output_type": "stream",
     "text": [
      "saving model version 0.1\n",
      "Best epoch 1\n",
      "3.384098529815674\n",
      "Testing 5 hidden neurons, lamb=0.1, grid=5\n",
      "checkpoint directory created: ./model\n",
      "saving model version 0.0\n",
      "checkpoint directory created: ./model\n",
      "saving model version 0.0\n",
      "Successfully created and tested Model4\n"
     ]
    },
    {
     "name": "stderr",
     "output_type": "stream",
     "text": [
      "| train_loss: 1.47e+00 | eval_loss: 2.88e-01 | reg: 2.05e+01 |: 100%|█| 50/50 [01:03<00:00,  1.27s/i\n"
     ]
    },
    {
     "name": "stdout",
     "output_type": "stream",
     "text": [
      "saving model version 0.1\n",
      "Best epoch 49\n",
      "0.4770760238170624\n",
      "Testing 5 hidden neurons, lamb=0.01, grid=5\n",
      "checkpoint directory created: ./model\n",
      "saving model version 0.0\n",
      "checkpoint directory created: ./model\n",
      "saving model version 0.0\n",
      "Successfully created and tested Model4\n"
     ]
    },
    {
     "name": "stderr",
     "output_type": "stream",
     "text": [
      "| train_loss: 4.96e-01 | eval_loss: 1.90e-01 | reg: 2.19e+01 |: 100%|█| 50/50 [01:05<00:00,  1.31s/i\n"
     ]
    },
    {
     "name": "stdout",
     "output_type": "stream",
     "text": [
      "saving model version 0.1\n",
      "Best epoch 47\n",
      "0.29929253458976746\n",
      "Testing 5 hidden neurons, lamb=0.001, grid=5\n",
      "checkpoint directory created: ./model\n",
      "saving model version 0.0\n",
      "checkpoint directory created: ./model\n",
      "saving model version 0.0\n",
      "Successfully created and tested Model4\n"
     ]
    },
    {
     "name": "stderr",
     "output_type": "stream",
     "text": [
      "| train_loss: 1.97e-01 | eval_loss: 2.05e-01 | reg: 2.93e+01 |: 100%|█| 50/50 [01:09<00:00,  1.39s/i\n"
     ]
    },
    {
     "name": "stdout",
     "output_type": "stream",
     "text": [
      "saving model version 0.1\n",
      "Best epoch 14\n",
      "0.2593775689601898\n",
      "Testing 5 hidden neurons, lamb=0.0001, grid=5\n",
      "checkpoint directory created: ./model\n",
      "saving model version 0.0\n",
      "checkpoint directory created: ./model\n",
      "saving model version 0.0\n",
      "Successfully created and tested Model4\n"
     ]
    },
    {
     "name": "stderr",
     "output_type": "stream",
     "text": [
      "| train_loss: 1.27e-01 | eval_loss: 1.96e-01 | reg: 6.69e+01 |: 100%|█| 50/50 [01:09<00:00,  1.38s/i\n"
     ]
    },
    {
     "name": "stdout",
     "output_type": "stream",
     "text": [
      "saving model version 0.1\n",
      "Best epoch 16\n",
      "0.25921377539634705\n",
      "Testing 5 hidden neurons, lamb=1e-05, grid=5\n",
      "checkpoint directory created: ./model\n",
      "saving model version 0.0\n",
      "checkpoint directory created: ./model\n",
      "saving model version 0.0\n",
      "Successfully created and tested Model4\n"
     ]
    },
    {
     "name": "stderr",
     "output_type": "stream",
     "text": [
      "| train_loss: 1.01e-01 | eval_loss: 2.06e-01 | reg: 9.69e+01 |: 100%|█| 50/50 [01:09<00:00,  1.38s/i\n"
     ]
    },
    {
     "name": "stdout",
     "output_type": "stream",
     "text": [
      "saving model version 0.1\n",
      "Best epoch 32\n",
      "0.2678269147872925\n",
      "Testing 5 hidden neurons, lamb=1.0, grid=6\n",
      "checkpoint directory created: ./model\n",
      "saving model version 0.0\n",
      "checkpoint directory created: ./model\n",
      "saving model version 0.0\n",
      "Successfully created and tested Model4\n"
     ]
    },
    {
     "name": "stderr",
     "output_type": "stream",
     "text": [
      "| train_loss: 3.50e+00 | eval_loss: 2.98e+00 | reg: 2.68e-01 |: 100%|█| 50/50 [00:55<00:00,  1.11s/i\n"
     ]
    },
    {
     "name": "stdout",
     "output_type": "stream",
     "text": [
      "saving model version 0.1\n",
      "Best epoch 1\n",
      "3.386714458465576\n",
      "Testing 5 hidden neurons, lamb=0.1, grid=6\n",
      "checkpoint directory created: ./model\n",
      "saving model version 0.0\n",
      "checkpoint directory created: ./model\n",
      "saving model version 0.0\n",
      "Successfully created and tested Model4\n"
     ]
    },
    {
     "name": "stderr",
     "output_type": "stream",
     "text": [
      "| train_loss: 1.49e+00 | eval_loss: 2.95e-01 | reg: 2.09e+01 |: 100%|█| 50/50 [01:09<00:00,  1.39s/i\n"
     ]
    },
    {
     "name": "stdout",
     "output_type": "stream",
     "text": [
      "saving model version 0.1\n",
      "Best epoch 49\n",
      "0.46900683641433716\n",
      "Testing 5 hidden neurons, lamb=0.01, grid=6\n",
      "checkpoint directory created: ./model\n",
      "saving model version 0.0\n",
      "checkpoint directory created: ./model\n",
      "saving model version 0.0\n",
      "Successfully created and tested Model4\n"
     ]
    },
    {
     "name": "stderr",
     "output_type": "stream",
     "text": [
      "| train_loss: 4.90e-01 | eval_loss: 1.87e-01 | reg: 2.15e+01 |: 100%|█| 50/50 [01:10<00:00,  1.42s/i\n"
     ]
    },
    {
     "name": "stdout",
     "output_type": "stream",
     "text": [
      "saving model version 0.1\n",
      "Best epoch 45\n",
      "0.3073621690273285\n",
      "Testing 5 hidden neurons, lamb=0.001, grid=6\n",
      "checkpoint directory created: ./model\n",
      "saving model version 0.0\n",
      "checkpoint directory created: ./model\n",
      "saving model version 0.0\n",
      "Successfully created and tested Model4\n"
     ]
    },
    {
     "name": "stderr",
     "output_type": "stream",
     "text": [
      "| train_loss: 2.00e-01 | eval_loss: 1.92e-01 | reg: 2.93e+01 |: 100%|█| 50/50 [01:15<00:00,  1.50s/i\n"
     ]
    },
    {
     "name": "stdout",
     "output_type": "stream",
     "text": [
      "saving model version 0.1\n",
      "Best epoch 36\n",
      "0.2562602758407593\n",
      "Testing 5 hidden neurons, lamb=0.0001, grid=6\n",
      "checkpoint directory created: ./model\n",
      "saving model version 0.0\n",
      "checkpoint directory created: ./model\n",
      "saving model version 0.0\n",
      "Successfully created and tested Model4\n"
     ]
    },
    {
     "name": "stderr",
     "output_type": "stream",
     "text": [
      "| train_loss: 1.31e-01 | eval_loss: 1.93e-01 | reg: 6.66e+01 |: 100%|█| 50/50 [01:13<00:00,  1.47s/i\n"
     ]
    },
    {
     "name": "stdout",
     "output_type": "stream",
     "text": [
      "saving model version 0.1\n",
      "Best epoch 19\n",
      "0.23801341652870178\n",
      "Testing 5 hidden neurons, lamb=1e-05, grid=6\n",
      "checkpoint directory created: ./model\n",
      "saving model version 0.0\n",
      "checkpoint directory created: ./model\n",
      "saving model version 0.0\n",
      "Successfully created and tested Model4\n"
     ]
    },
    {
     "name": "stderr",
     "output_type": "stream",
     "text": [
      "| train_loss: 1.01e-01 | eval_loss: 1.87e-01 | reg: 9.35e+01 |: 100%|█| 50/50 [01:13<00:00,  1.48s/i\n"
     ]
    },
    {
     "name": "stdout",
     "output_type": "stream",
     "text": [
      "saving model version 0.1\n",
      "Best epoch 26\n",
      "0.25105980038642883\n",
      "Testing 5 hidden neurons, lamb=1.0, grid=7\n",
      "checkpoint directory created: ./model\n",
      "saving model version 0.0\n",
      "checkpoint directory created: ./model\n",
      "saving model version 0.0\n",
      "Successfully created and tested Model4\n"
     ]
    },
    {
     "name": "stderr",
     "output_type": "stream",
     "text": [
      "| train_loss: 3.51e+00 | eval_loss: 2.98e+00 | reg: 3.00e-01 |: 100%|█| 50/50 [00:58<00:00,  1.17s/i\n"
     ]
    },
    {
     "name": "stdout",
     "output_type": "stream",
     "text": [
      "saving model version 0.1\n",
      "Best epoch 0\n",
      "3.364474296569824\n",
      "Testing 5 hidden neurons, lamb=0.1, grid=7\n",
      "checkpoint directory created: ./model\n",
      "saving model version 0.0\n",
      "checkpoint directory created: ./model\n",
      "saving model version 0.0\n",
      "Successfully created and tested Model4\n"
     ]
    },
    {
     "name": "stderr",
     "output_type": "stream",
     "text": [
      "| train_loss: 1.46e+00 | eval_loss: 2.69e-01 | reg: 2.04e+01 |: 100%|█| 50/50 [01:13<00:00,  1.47s/i\n"
     ]
    },
    {
     "name": "stdout",
     "output_type": "stream",
     "text": [
      "saving model version 0.1\n",
      "Best epoch 48\n",
      "0.4407360255718231\n",
      "Testing 5 hidden neurons, lamb=0.01, grid=7\n",
      "checkpoint directory created: ./model\n",
      "saving model version 0.0\n",
      "checkpoint directory created: ./model\n",
      "saving model version 0.0\n",
      "Successfully created and tested Model4\n"
     ]
    },
    {
     "name": "stderr",
     "output_type": "stream",
     "text": [
      "| train_loss: 4.89e-01 | eval_loss: 1.90e-01 | reg: 2.15e+01 |: 100%|█| 50/50 [01:14<00:00,  1.50s/i\n"
     ]
    },
    {
     "name": "stdout",
     "output_type": "stream",
     "text": [
      "saving model version 0.1\n",
      "Best epoch 48\n",
      "0.31645309925079346\n",
      "Testing 5 hidden neurons, lamb=0.001, grid=7\n",
      "checkpoint directory created: ./model\n",
      "saving model version 0.0\n",
      "checkpoint directory created: ./model\n",
      "saving model version 0.0\n",
      "Successfully created and tested Model4\n"
     ]
    },
    {
     "name": "stderr",
     "output_type": "stream",
     "text": [
      "| train_loss: 2.03e-01 | eval_loss: 1.86e-01 | reg: 3.00e+01 |: 100%|█| 50/50 [01:18<00:00,  1.57s/i\n"
     ]
    },
    {
     "name": "stdout",
     "output_type": "stream",
     "text": [
      "saving model version 0.1\n",
      "Best epoch 29\n",
      "0.2506088316440582\n",
      "Testing 5 hidden neurons, lamb=0.0001, grid=7\n",
      "checkpoint directory created: ./model\n",
      "saving model version 0.0\n",
      "checkpoint directory created: ./model\n",
      "saving model version 0.0\n",
      "Successfully created and tested Model4\n"
     ]
    },
    {
     "name": "stderr",
     "output_type": "stream",
     "text": [
      "| train_loss: 1.29e-01 | eval_loss: 2.09e-01 | reg: 6.40e+01 |: 100%|█| 50/50 [01:16<00:00,  1.54s/i\n"
     ]
    },
    {
     "name": "stdout",
     "output_type": "stream",
     "text": [
      "saving model version 0.1\n",
      "Best epoch 17\n",
      "0.23905788362026215\n",
      "Testing 5 hidden neurons, lamb=1e-05, grid=7\n",
      "checkpoint directory created: ./model\n",
      "saving model version 0.0\n",
      "checkpoint directory created: ./model\n",
      "saving model version 0.0\n",
      "Successfully created and tested Model4\n"
     ]
    },
    {
     "name": "stderr",
     "output_type": "stream",
     "text": [
      "| train_loss: 1.02e-01 | eval_loss: 2.33e-01 | reg: 8.52e+01 |: 100%|█| 50/50 [01:19<00:00,  1.58s/i\n"
     ]
    },
    {
     "name": "stdout",
     "output_type": "stream",
     "text": [
      "saving model version 0.1\n",
      "Best epoch 13\n",
      "0.2372606247663498\n",
      "Testing 5 hidden neurons, lamb=1.0, grid=8\n",
      "checkpoint directory created: ./model\n",
      "saving model version 0.0\n",
      "checkpoint directory created: ./model\n",
      "saving model version 0.0\n",
      "Successfully created and tested Model4\n"
     ]
    },
    {
     "name": "stderr",
     "output_type": "stream",
     "text": [
      "| train_loss: 3.50e+00 | eval_loss: 2.98e+00 | reg: 2.56e-01 |: 100%|█| 50/50 [01:01<00:00,  1.23s/i\n"
     ]
    },
    {
     "name": "stdout",
     "output_type": "stream",
     "text": [
      "saving model version 0.1\n",
      "Best epoch 1\n",
      "3.3861145973205566\n",
      "Testing 5 hidden neurons, lamb=0.1, grid=8\n",
      "checkpoint directory created: ./model\n",
      "saving model version 0.0\n",
      "checkpoint directory created: ./model\n",
      "saving model version 0.0\n",
      "Successfully created and tested Model4\n"
     ]
    },
    {
     "name": "stderr",
     "output_type": "stream",
     "text": [
      "| train_loss: 1.47e+00 | eval_loss: 2.93e-01 | reg: 2.05e+01 |: 100%|█| 50/50 [01:18<00:00,  1.56s/i\n"
     ]
    },
    {
     "name": "stdout",
     "output_type": "stream",
     "text": [
      "saving model version 0.1\n",
      "Best epoch 49\n",
      "0.4732695519924164\n",
      "Testing 5 hidden neurons, lamb=0.01, grid=8\n",
      "checkpoint directory created: ./model\n",
      "saving model version 0.0\n",
      "checkpoint directory created: ./model\n",
      "saving model version 0.0\n",
      "Successfully created and tested Model4\n"
     ]
    },
    {
     "name": "stderr",
     "output_type": "stream",
     "text": [
      "| train_loss: 4.94e-01 | eval_loss: 1.86e-01 | reg: 2.17e+01 |: 100%|█| 50/50 [01:18<00:00,  1.57s/i\n"
     ]
    },
    {
     "name": "stdout",
     "output_type": "stream",
     "text": [
      "saving model version 0.1\n",
      "Best epoch 42\n",
      "0.30876389145851135\n",
      "Testing 5 hidden neurons, lamb=0.001, grid=8\n",
      "checkpoint directory created: ./model\n",
      "saving model version 0.0\n",
      "checkpoint directory created: ./model\n",
      "saving model version 0.0\n",
      "Successfully created and tested Model4\n"
     ]
    },
    {
     "name": "stderr",
     "output_type": "stream",
     "text": [
      "| train_loss: 2.04e-01 | eval_loss: 1.92e-01 | reg: 3.16e+01 |: 100%|█| 50/50 [01:21<00:00,  1.63s/i\n"
     ]
    },
    {
     "name": "stdout",
     "output_type": "stream",
     "text": [
      "saving model version 0.1\n",
      "Best epoch 5\n",
      "0.2658172845840454\n",
      "Testing 5 hidden neurons, lamb=0.0001, grid=8\n",
      "checkpoint directory created: ./model\n",
      "saving model version 0.0\n",
      "checkpoint directory created: ./model\n",
      "saving model version 0.0\n",
      "Successfully created and tested Model4\n"
     ]
    },
    {
     "name": "stderr",
     "output_type": "stream",
     "text": [
      "| train_loss: 1.18e-01 | eval_loss: 1.95e-01 | reg: 6.35e+01 |: 100%|█| 50/50 [01:21<00:00,  1.62s/i\n"
     ]
    },
    {
     "name": "stdout",
     "output_type": "stream",
     "text": [
      "saving model version 0.1\n",
      "Best epoch 21\n",
      "0.2615012526512146\n",
      "Testing 5 hidden neurons, lamb=1e-05, grid=8\n",
      "checkpoint directory created: ./model\n",
      "saving model version 0.0\n",
      "checkpoint directory created: ./model\n",
      "saving model version 0.0\n",
      "Successfully created and tested Model4\n"
     ]
    },
    {
     "name": "stderr",
     "output_type": "stream",
     "text": [
      "| train_loss: 9.94e-02 | eval_loss: 1.81e-01 | reg: 8.46e+01 |: 100%|█| 50/50 [01:23<00:00,  1.68s/i\n"
     ]
    },
    {
     "name": "stdout",
     "output_type": "stream",
     "text": [
      "saving model version 0.1\n",
      "Best epoch 49\n",
      "0.2506914734840393\n",
      "Testing 6 hidden neurons, lamb=1.0, grid=3\n",
      "checkpoint directory created: ./model\n",
      "saving model version 0.0\n",
      "checkpoint directory created: ./model\n",
      "saving model version 0.0\n",
      "Successfully created and tested Model4\n"
     ]
    },
    {
     "name": "stderr",
     "output_type": "stream",
     "text": [
      "| train_loss: 3.52e+00 | eval_loss: 2.98e+00 | reg: 3.67e-01 |: 100%|█| 50/50 [00:47<00:00,  1.06it/\n"
     ]
    },
    {
     "name": "stdout",
     "output_type": "stream",
     "text": [
      "saving model version 0.1\n",
      "Best epoch 1\n",
      "3.391078472137451\n",
      "Testing 6 hidden neurons, lamb=0.1, grid=3\n",
      "checkpoint directory created: ./model\n",
      "saving model version 0.0\n",
      "checkpoint directory created: ./model\n",
      "saving model version 0.0\n",
      "Successfully created and tested Model4\n"
     ]
    },
    {
     "name": "stderr",
     "output_type": "stream",
     "text": [
      "| train_loss: 1.46e+00 | eval_loss: 2.91e-01 | reg: 2.01e+01 |: 100%|█| 50/50 [00:55<00:00,  1.10s/i\n"
     ]
    },
    {
     "name": "stdout",
     "output_type": "stream",
     "text": [
      "saving model version 0.1\n",
      "Best epoch 27\n",
      "0.474118709564209\n",
      "Testing 6 hidden neurons, lamb=0.01, grid=3\n",
      "checkpoint directory created: ./model\n",
      "saving model version 0.0\n",
      "checkpoint directory created: ./model\n",
      "saving model version 0.0\n",
      "Successfully created and tested Model4\n"
     ]
    },
    {
     "name": "stderr",
     "output_type": "stream",
     "text": [
      "| train_loss: 4.90e-01 | eval_loss: 1.94e-01 | reg: 2.15e+01 |: 100%|█| 50/50 [00:54<00:00,  1.09s/i\n"
     ]
    },
    {
     "name": "stdout",
     "output_type": "stream",
     "text": [
      "saving model version 0.1\n",
      "Best epoch 25\n",
      "0.302193820476532\n",
      "Testing 6 hidden neurons, lamb=0.001, grid=3\n",
      "checkpoint directory created: ./model\n",
      "saving model version 0.0\n",
      "checkpoint directory created: ./model\n",
      "saving model version 0.0\n",
      "Successfully created and tested Model4\n"
     ]
    },
    {
     "name": "stderr",
     "output_type": "stream",
     "text": [
      "| train_loss: 2.03e-01 | eval_loss: 1.91e-01 | reg: 2.82e+01 |: 100%|█| 50/50 [00:58<00:00,  1.17s/i\n"
     ]
    },
    {
     "name": "stdout",
     "output_type": "stream",
     "text": [
      "saving model version 0.1\n",
      "Best epoch 31\n",
      "0.26505962014198303\n",
      "Testing 6 hidden neurons, lamb=0.0001, grid=3\n",
      "checkpoint directory created: ./model\n",
      "saving model version 0.0\n",
      "checkpoint directory created: ./model\n",
      "saving model version 0.0\n",
      "Successfully created and tested Model4\n"
     ]
    },
    {
     "name": "stderr",
     "output_type": "stream",
     "text": [
      "| train_loss: 1.32e-01 | eval_loss: 2.10e-01 | reg: 6.53e+01 |: 100%|█| 50/50 [00:58<00:00,  1.16s/i\n"
     ]
    },
    {
     "name": "stdout",
     "output_type": "stream",
     "text": [
      "saving model version 0.1\n",
      "Best epoch 28\n",
      "0.26771143078804016\n",
      "Testing 6 hidden neurons, lamb=1e-05, grid=3\n",
      "checkpoint directory created: ./model\n",
      "saving model version 0.0\n",
      "checkpoint directory created: ./model\n",
      "saving model version 0.0\n",
      "Successfully created and tested Model4\n"
     ]
    },
    {
     "name": "stderr",
     "output_type": "stream",
     "text": [
      "| train_loss: 1.12e-01 | eval_loss: 1.92e-01 | reg: 8.95e+01 |: 100%|█| 50/50 [00:58<00:00,  1.16s/i\n"
     ]
    },
    {
     "name": "stdout",
     "output_type": "stream",
     "text": [
      "saving model version 0.1\n",
      "Best epoch 28\n",
      "0.2545827627182007\n",
      "Testing 6 hidden neurons, lamb=1.0, grid=4\n",
      "checkpoint directory created: ./model\n",
      "saving model version 0.0\n",
      "checkpoint directory created: ./model\n",
      "saving model version 0.0\n",
      "Successfully created and tested Model4\n"
     ]
    },
    {
     "name": "stderr",
     "output_type": "stream",
     "text": [
      "| train_loss: 3.52e+00 | eval_loss: 2.98e+00 | reg: 3.91e-01 |: 100%|█| 50/50 [00:49<00:00,  1.01it/\n"
     ]
    },
    {
     "name": "stdout",
     "output_type": "stream",
     "text": [
      "saving model version 0.1\n",
      "Best epoch 1\n",
      "3.3860630989074707\n",
      "Testing 6 hidden neurons, lamb=0.1, grid=4\n",
      "checkpoint directory created: ./model\n",
      "saving model version 0.0\n",
      "checkpoint directory created: ./model\n",
      "saving model version 0.0\n",
      "Successfully created and tested Model4\n"
     ]
    },
    {
     "name": "stderr",
     "output_type": "stream",
     "text": [
      "| train_loss: 1.46e+00 | eval_loss: 2.81e-01 | reg: 2.02e+01 |: 100%|█| 50/50 [00:59<00:00,  1.19s/i\n"
     ]
    },
    {
     "name": "stdout",
     "output_type": "stream",
     "text": [
      "saving model version 0.1\n",
      "Best epoch 38\n",
      "0.46173855662345886\n",
      "Testing 6 hidden neurons, lamb=0.01, grid=4\n",
      "checkpoint directory created: ./model\n",
      "saving model version 0.0\n",
      "checkpoint directory created: ./model\n",
      "saving model version 0.0\n",
      "Successfully created and tested Model4\n"
     ]
    },
    {
     "name": "stderr",
     "output_type": "stream",
     "text": [
      "| train_loss: 4.83e-01 | eval_loss: 1.83e-01 | reg: 2.08e+01 |: 100%|█| 50/50 [00:59<00:00,  1.20s/i\n"
     ]
    },
    {
     "name": "stdout",
     "output_type": "stream",
     "text": [
      "saving model version 0.1\n",
      "Best epoch 38\n",
      "0.3004290461540222\n",
      "Testing 6 hidden neurons, lamb=0.001, grid=4\n",
      "checkpoint directory created: ./model\n",
      "saving model version 0.0\n",
      "checkpoint directory created: ./model\n",
      "saving model version 0.0\n",
      "Successfully created and tested Model4\n"
     ]
    },
    {
     "name": "stderr",
     "output_type": "stream",
     "text": [
      "| train_loss: 2.04e-01 | eval_loss: 1.92e-01 | reg: 3.08e+01 |: 100%|█| 50/50 [01:03<00:00,  1.27s/i\n"
     ]
    },
    {
     "name": "stdout",
     "output_type": "stream",
     "text": [
      "saving model version 0.1\n",
      "Best epoch 28\n",
      "0.26221099495887756\n",
      "Testing 6 hidden neurons, lamb=0.0001, grid=4\n",
      "checkpoint directory created: ./model\n",
      "saving model version 0.0\n",
      "checkpoint directory created: ./model\n",
      "saving model version 0.0\n",
      "Successfully created and tested Model4\n"
     ]
    },
    {
     "name": "stderr",
     "output_type": "stream",
     "text": [
      "| train_loss: 1.31e-01 | eval_loss: 2.03e-01 | reg: 6.85e+01 |: 100%|█| 50/50 [01:04<00:00,  1.30s/i\n"
     ]
    },
    {
     "name": "stdout",
     "output_type": "stream",
     "text": [
      "saving model version 0.1\n",
      "Best epoch 18\n",
      "0.26266613602638245\n",
      "Testing 6 hidden neurons, lamb=1e-05, grid=4\n",
      "checkpoint directory created: ./model\n",
      "saving model version 0.0\n",
      "checkpoint directory created: ./model\n",
      "saving model version 0.0\n",
      "Successfully created and tested Model4\n"
     ]
    },
    {
     "name": "stderr",
     "output_type": "stream",
     "text": [
      "| train_loss: 1.07e-01 | eval_loss: 1.94e-01 | reg: 9.37e+01 |: 100%|█| 50/50 [01:05<00:00,  1.31s/i\n"
     ]
    },
    {
     "name": "stdout",
     "output_type": "stream",
     "text": [
      "saving model version 0.1\n",
      "Best epoch 33\n",
      "0.25629550218582153\n",
      "Testing 6 hidden neurons, lamb=1.0, grid=5\n",
      "checkpoint directory created: ./model\n",
      "saving model version 0.0\n",
      "checkpoint directory created: ./model\n",
      "saving model version 0.0\n",
      "Successfully created and tested Model4\n"
     ]
    },
    {
     "name": "stderr",
     "output_type": "stream",
     "text": [
      "| train_loss: 3.51e+00 | eval_loss: 2.98e+00 | reg: 3.35e-01 |: 100%|█| 50/50 [00:53<00:00,  1.08s/i\n"
     ]
    },
    {
     "name": "stdout",
     "output_type": "stream",
     "text": [
      "saving model version 0.1\n",
      "Best epoch 2\n",
      "3.390170097351074\n",
      "Testing 6 hidden neurons, lamb=0.1, grid=5\n",
      "checkpoint directory created: ./model\n",
      "saving model version 0.0\n",
      "checkpoint directory created: ./model\n",
      "saving model version 0.0\n",
      "Successfully created and tested Model4\n"
     ]
    },
    {
     "name": "stderr",
     "output_type": "stream",
     "text": [
      "| train_loss: 1.45e+00 | eval_loss: 2.77e-01 | reg: 2.01e+01 |: 100%|█| 50/50 [01:04<00:00,  1.28s/i\n"
     ]
    },
    {
     "name": "stdout",
     "output_type": "stream",
     "text": [
      "saving model version 0.1\n",
      "Best epoch 49\n",
      "0.4653588533401489\n",
      "Testing 6 hidden neurons, lamb=0.01, grid=5\n",
      "checkpoint directory created: ./model\n",
      "saving model version 0.0\n",
      "checkpoint directory created: ./model\n",
      "saving model version 0.0\n",
      "Successfully created and tested Model4\n"
     ]
    },
    {
     "name": "stderr",
     "output_type": "stream",
     "text": [
      "| train_loss: 4.86e-01 | eval_loss: 1.92e-01 | reg: 2.13e+01 |: 100%|█| 50/50 [01:05<00:00,  1.30s/i\n"
     ]
    },
    {
     "name": "stdout",
     "output_type": "stream",
     "text": [
      "saving model version 0.1\n",
      "Best epoch 32\n",
      "0.30587267875671387\n",
      "Testing 6 hidden neurons, lamb=0.001, grid=5\n",
      "checkpoint directory created: ./model\n",
      "saving model version 0.0\n",
      "checkpoint directory created: ./model\n",
      "saving model version 0.0\n",
      "Successfully created and tested Model4\n"
     ]
    },
    {
     "name": "stderr",
     "output_type": "stream",
     "text": [
      "| train_loss: 2.02e-01 | eval_loss: 1.87e-01 | reg: 2.95e+01 |: 100%|█| 50/50 [01:09<00:00,  1.39s/i\n"
     ]
    },
    {
     "name": "stdout",
     "output_type": "stream",
     "text": [
      "saving model version 0.1\n",
      "Best epoch 26\n",
      "0.26100292801856995\n",
      "Testing 6 hidden neurons, lamb=0.0001, grid=5\n",
      "checkpoint directory created: ./model\n",
      "saving model version 0.0\n",
      "checkpoint directory created: ./model\n",
      "saving model version 0.0\n",
      "Successfully created and tested Model4\n"
     ]
    },
    {
     "name": "stderr",
     "output_type": "stream",
     "text": [
      "| train_loss: 1.30e-01 | eval_loss: 2.06e-01 | reg: 6.60e+01 |: 100%|█| 50/50 [01:09<00:00,  1.38s/i\n"
     ]
    },
    {
     "name": "stdout",
     "output_type": "stream",
     "text": [
      "saving model version 0.1\n",
      "Best epoch 22\n",
      "0.266376256942749\n",
      "Testing 6 hidden neurons, lamb=1e-05, grid=5\n",
      "checkpoint directory created: ./model\n",
      "saving model version 0.0\n",
      "checkpoint directory created: ./model\n",
      "saving model version 0.0\n",
      "Successfully created and tested Model4\n"
     ]
    },
    {
     "name": "stderr",
     "output_type": "stream",
     "text": [
      "| train_loss: 9.89e-02 | eval_loss: 2.14e-01 | reg: 8.84e+01 |: 100%|█| 50/50 [01:09<00:00,  1.39s/i\n"
     ]
    },
    {
     "name": "stdout",
     "output_type": "stream",
     "text": [
      "saving model version 0.1\n",
      "Best epoch 14\n",
      "0.25797978043556213\n",
      "Testing 6 hidden neurons, lamb=1.0, grid=6\n",
      "checkpoint directory created: ./model\n",
      "saving model version 0.0\n",
      "checkpoint directory created: ./model\n",
      "saving model version 0.0\n",
      "Successfully created and tested Model4\n"
     ]
    },
    {
     "name": "stderr",
     "output_type": "stream",
     "text": [
      "| train_loss: 3.51e+00 | eval_loss: 2.98e+00 | reg: 3.20e-01 |: 100%|█| 50/50 [00:56<00:00,  1.13s/i\n"
     ]
    },
    {
     "name": "stdout",
     "output_type": "stream",
     "text": [
      "saving model version 0.1\n",
      "Best epoch 1\n",
      "3.3864705562591553\n",
      "Testing 6 hidden neurons, lamb=0.1, grid=6\n",
      "checkpoint directory created: ./model\n",
      "saving model version 0.0\n",
      "checkpoint directory created: ./model\n",
      "saving model version 0.0\n",
      "Successfully created and tested Model4\n"
     ]
    },
    {
     "name": "stderr",
     "output_type": "stream",
     "text": [
      "| train_loss: 1.45e+00 | eval_loss: 2.89e-01 | reg: 2.00e+01 |: 100%|█| 50/50 [01:08<00:00,  1.36s/i\n"
     ]
    },
    {
     "name": "stdout",
     "output_type": "stream",
     "text": [
      "saving model version 0.1\n",
      "Best epoch 48\n",
      "0.471914678812027\n",
      "Testing 6 hidden neurons, lamb=0.01, grid=6\n",
      "checkpoint directory created: ./model\n",
      "saving model version 0.0\n",
      "checkpoint directory created: ./model\n",
      "saving model version 0.0\n",
      "Successfully created and tested Model4\n"
     ]
    },
    {
     "name": "stderr",
     "output_type": "stream",
     "text": [
      "| train_loss: 4.88e-01 | eval_loss: 1.99e-01 | reg: 2.13e+01 |: 100%|█| 50/50 [01:09<00:00,  1.38s/i\n"
     ]
    },
    {
     "name": "stdout",
     "output_type": "stream",
     "text": [
      "saving model version 0.1\n",
      "Best epoch 29\n",
      "0.2997475266456604\n",
      "Testing 6 hidden neurons, lamb=0.001, grid=6\n",
      "checkpoint directory created: ./model\n",
      "saving model version 0.0\n",
      "checkpoint directory created: ./model\n",
      "saving model version 0.0\n",
      "Successfully created and tested Model4\n"
     ]
    },
    {
     "name": "stderr",
     "output_type": "stream",
     "text": [
      "| train_loss: 2.02e-01 | eval_loss: 1.79e-01 | reg: 3.09e+01 |: 100%|█| 50/50 [01:13<00:00,  1.47s/i\n"
     ]
    },
    {
     "name": "stdout",
     "output_type": "stream",
     "text": [
      "saving model version 0.1\n",
      "Best epoch 46\n",
      "0.24770894646644592\n",
      "Testing 6 hidden neurons, lamb=0.0001, grid=6\n",
      "checkpoint directory created: ./model\n",
      "saving model version 0.0\n",
      "checkpoint directory created: ./model\n",
      "saving model version 0.0\n",
      "Successfully created and tested Model4\n"
     ]
    },
    {
     "name": "stderr",
     "output_type": "stream",
     "text": [
      "| train_loss: 1.26e-01 | eval_loss: 1.92e-01 | reg: 6.50e+01 |: 100%|█| 50/50 [01:14<00:00,  1.49s/i\n"
     ]
    },
    {
     "name": "stdout",
     "output_type": "stream",
     "text": [
      "saving model version 0.1\n",
      "Best epoch 11\n",
      "0.24423201382160187\n",
      "Testing 6 hidden neurons, lamb=1e-05, grid=6\n",
      "checkpoint directory created: ./model\n",
      "saving model version 0.0\n",
      "checkpoint directory created: ./model\n",
      "saving model version 0.0\n",
      "Successfully created and tested Model4\n"
     ]
    },
    {
     "name": "stderr",
     "output_type": "stream",
     "text": [
      "| train_loss: 1.01e-01 | eval_loss: 2.15e-01 | reg: 8.87e+01 |: 100%|█| 50/50 [01:13<00:00,  1.47s/i\n"
     ]
    },
    {
     "name": "stdout",
     "output_type": "stream",
     "text": [
      "saving model version 0.1\n",
      "Best epoch 9\n",
      "0.24391528964042664\n",
      "Testing 6 hidden neurons, lamb=1.0, grid=7\n",
      "checkpoint directory created: ./model\n",
      "saving model version 0.0\n",
      "checkpoint directory created: ./model\n",
      "saving model version 0.0\n",
      "Successfully created and tested Model4\n"
     ]
    },
    {
     "name": "stderr",
     "output_type": "stream",
     "text": [
      "| train_loss: 3.51e+00 | eval_loss: 2.98e+00 | reg: 2.89e-01 |: 100%|█| 50/50 [01:08<00:00,  1.37s/i\n"
     ]
    },
    {
     "name": "stdout",
     "output_type": "stream",
     "text": [
      "saving model version 0.1\n",
      "Best epoch 1\n",
      "3.3861706256866455\n",
      "Testing 6 hidden neurons, lamb=0.1, grid=7\n",
      "checkpoint directory created: ./model\n",
      "saving model version 0.0\n",
      "checkpoint directory created: ./model\n",
      "saving model version 0.0\n",
      "Successfully created and tested Model4\n"
     ]
    },
    {
     "name": "stderr",
     "output_type": "stream",
     "text": [
      "| train_loss: 1.46e+00 | eval_loss: 2.92e-01 | reg: 2.02e+01 |: 100%|█| 50/50 [01:12<00:00,  1.44s/i\n"
     ]
    },
    {
     "name": "stdout",
     "output_type": "stream",
     "text": [
      "saving model version 0.1\n",
      "Best epoch 49\n",
      "0.4738362431526184\n",
      "Testing 6 hidden neurons, lamb=0.01, grid=7\n",
      "checkpoint directory created: ./model\n",
      "saving model version 0.0\n",
      "checkpoint directory created: ./model\n",
      "saving model version 0.0\n",
      "Successfully created and tested Model4\n"
     ]
    },
    {
     "name": "stderr",
     "output_type": "stream",
     "text": [
      "| train_loss: 4.91e-01 | eval_loss: 1.87e-01 | reg: 2.14e+01 |: 100%|█| 50/50 [01:13<00:00,  1.48s/i\n"
     ]
    },
    {
     "name": "stdout",
     "output_type": "stream",
     "text": [
      "saving model version 0.1\n",
      "Best epoch 49\n",
      "0.3096342980861664\n",
      "Testing 6 hidden neurons, lamb=0.001, grid=7\n",
      "checkpoint directory created: ./model\n",
      "saving model version 0.0\n",
      "checkpoint directory created: ./model\n",
      "saving model version 0.0\n",
      "Successfully created and tested Model4\n"
     ]
    },
    {
     "name": "stderr",
     "output_type": "stream",
     "text": [
      "| train_loss: 2.00e-01 | eval_loss: 1.83e-01 | reg: 3.06e+01 |: 100%|█| 50/50 [01:19<00:00,  1.58s/i\n"
     ]
    },
    {
     "name": "stdout",
     "output_type": "stream",
     "text": [
      "saving model version 0.1\n",
      "Best epoch 21\n",
      "0.26801565289497375\n",
      "Testing 6 hidden neurons, lamb=0.0001, grid=7\n",
      "checkpoint directory created: ./model\n",
      "saving model version 0.0\n",
      "checkpoint directory created: ./model\n",
      "saving model version 0.0\n",
      "Successfully created and tested Model4\n"
     ]
    },
    {
     "name": "stderr",
     "output_type": "stream",
     "text": [
      "| train_loss: 1.24e-01 | eval_loss: 1.86e-01 | reg: 6.58e+01 |: 100%|█| 50/50 [01:17<00:00,  1.55s/i\n"
     ]
    },
    {
     "name": "stdout",
     "output_type": "stream",
     "text": [
      "saving model version 0.1\n",
      "Best epoch 34\n",
      "0.2588953375816345\n",
      "Testing 6 hidden neurons, lamb=1e-05, grid=7\n",
      "checkpoint directory created: ./model\n",
      "saving model version 0.0\n",
      "checkpoint directory created: ./model\n",
      "saving model version 0.0\n",
      "Successfully created and tested Model4\n"
     ]
    },
    {
     "name": "stderr",
     "output_type": "stream",
     "text": [
      "| train_loss: 1.01e-01 | eval_loss: 1.87e-01 | reg: 9.34e+01 |: 100%|█| 50/50 [01:16<00:00,  1.53s/i\n"
     ]
    },
    {
     "name": "stdout",
     "output_type": "stream",
     "text": [
      "saving model version 0.1\n",
      "Best epoch 30\n",
      "0.2708154022693634\n",
      "Testing 6 hidden neurons, lamb=1.0, grid=8\n",
      "checkpoint directory created: ./model\n",
      "saving model version 0.0\n",
      "checkpoint directory created: ./model\n",
      "saving model version 0.0\n",
      "Successfully created and tested Model4\n"
     ]
    },
    {
     "name": "stderr",
     "output_type": "stream",
     "text": [
      "| train_loss: 3.51e+00 | eval_loss: 2.98e+00 | reg: 3.38e-01 |: 100%|█| 50/50 [01:01<00:00,  1.24s/i\n"
     ]
    },
    {
     "name": "stdout",
     "output_type": "stream",
     "text": [
      "saving model version 0.1\n",
      "Best epoch 1\n",
      "3.386070489883423\n",
      "Testing 6 hidden neurons, lamb=0.1, grid=8\n",
      "checkpoint directory created: ./model\n",
      "saving model version 0.0\n",
      "checkpoint directory created: ./model\n",
      "saving model version 0.0\n",
      "Successfully created and tested Model4\n"
     ]
    },
    {
     "name": "stderr",
     "output_type": "stream",
     "text": [
      "| train_loss: 1.46e+00 | eval_loss: 2.85e-01 | reg: 2.01e+01 |: 100%|█| 50/50 [01:18<00:00,  1.56s/i\n"
     ]
    },
    {
     "name": "stdout",
     "output_type": "stream",
     "text": [
      "saving model version 0.1\n",
      "Best epoch 49\n",
      "0.4664073586463928\n",
      "Testing 6 hidden neurons, lamb=0.01, grid=8\n",
      "checkpoint directory created: ./model\n",
      "saving model version 0.0\n",
      "checkpoint directory created: ./model\n",
      "saving model version 0.0\n",
      "Successfully created and tested Model4\n"
     ]
    },
    {
     "name": "stderr",
     "output_type": "stream",
     "text": [
      "| train_loss: 4.89e-01 | eval_loss: 1.90e-01 | reg: 2.15e+01 |: 100%|█| 50/50 [01:19<00:00,  1.59s/i\n"
     ]
    },
    {
     "name": "stdout",
     "output_type": "stream",
     "text": [
      "saving model version 0.1\n",
      "Best epoch 18\n",
      "0.2961571514606476\n",
      "Testing 6 hidden neurons, lamb=0.001, grid=8\n",
      "checkpoint directory created: ./model\n",
      "saving model version 0.0\n",
      "checkpoint directory created: ./model\n",
      "saving model version 0.0\n",
      "Successfully created and tested Model4\n"
     ]
    },
    {
     "name": "stderr",
     "output_type": "stream",
     "text": [
      "| train_loss: 1.98e-01 | eval_loss: 1.81e-01 | reg: 3.00e+01 |: 100%|█| 50/50 [01:21<00:00,  1.64s/i\n"
     ]
    },
    {
     "name": "stdout",
     "output_type": "stream",
     "text": [
      "saving model version 0.1\n",
      "Best epoch 48\n",
      "0.2558309733867645\n",
      "Testing 6 hidden neurons, lamb=0.0001, grid=8\n",
      "checkpoint directory created: ./model\n",
      "saving model version 0.0\n",
      "checkpoint directory created: ./model\n",
      "saving model version 0.0\n",
      "Successfully created and tested Model4\n"
     ]
    },
    {
     "name": "stderr",
     "output_type": "stream",
     "text": [
      "| train_loss: 1.25e-01 | eval_loss: 1.87e-01 | reg: 6.47e+01 |: 100%|█| 50/50 [01:22<00:00,  1.64s/i\n"
     ]
    },
    {
     "name": "stdout",
     "output_type": "stream",
     "text": [
      "saving model version 0.1\n",
      "Best epoch 48\n",
      "0.23626260459423065\n",
      "Testing 6 hidden neurons, lamb=1e-05, grid=8\n",
      "checkpoint directory created: ./model\n",
      "saving model version 0.0\n",
      "checkpoint directory created: ./model\n",
      "saving model version 0.0\n",
      "Successfully created and tested Model4\n"
     ]
    },
    {
     "name": "stderr",
     "output_type": "stream",
     "text": [
      "| train_loss: 1.00e-01 | eval_loss: 2.23e-01 | reg: 8.47e+01 |: 100%|█| 50/50 [01:22<00:00,  1.66s/i\n"
     ]
    },
    {
     "name": "stdout",
     "output_type": "stream",
     "text": [
      "saving model version 0.1\n",
      "Best epoch 7\n",
      "0.2475523203611374\n",
      "Testing 7 hidden neurons, lamb=1.0, grid=3\n",
      "checkpoint directory created: ./model\n",
      "saving model version 0.0\n",
      "checkpoint directory created: ./model\n",
      "saving model version 0.0\n",
      "Successfully created and tested Model4\n"
     ]
    },
    {
     "name": "stderr",
     "output_type": "stream",
     "text": [
      "| train_loss: 3.52e+00 | eval_loss: 2.99e+00 | reg: 3.76e-01 |: 100%|█| 50/50 [00:48<00:00,  1.02it/\n"
     ]
    },
    {
     "name": "stdout",
     "output_type": "stream",
     "text": [
      "saving model version 0.1\n",
      "Best epoch 1\n",
      "3.3824715614318848\n",
      "Testing 7 hidden neurons, lamb=0.1, grid=3\n",
      "checkpoint directory created: ./model\n",
      "saving model version 0.0\n",
      "checkpoint directory created: ./model\n",
      "saving model version 0.0\n",
      "Successfully created and tested Model4\n"
     ]
    },
    {
     "name": "stderr",
     "output_type": "stream",
     "text": [
      "| train_loss: 1.46e+00 | eval_loss: 3.01e-01 | reg: 2.01e+01 |: 100%|█| 50/50 [00:55<00:00,  1.11s/i\n"
     ]
    },
    {
     "name": "stdout",
     "output_type": "stream",
     "text": [
      "saving model version 0.1\n",
      "Best epoch 32\n",
      "0.4733456075191498\n",
      "Testing 7 hidden neurons, lamb=0.01, grid=3\n",
      "checkpoint directory created: ./model\n",
      "saving model version 0.0\n",
      "checkpoint directory created: ./model\n",
      "saving model version 0.0\n",
      "Successfully created and tested Model4\n"
     ]
    },
    {
     "name": "stderr",
     "output_type": "stream",
     "text": [
      "| train_loss: 4.84e-01 | eval_loss: 1.88e-01 | reg: 2.10e+01 |: 100%|█| 50/50 [00:55<00:00,  1.11s/i\n"
     ]
    },
    {
     "name": "stdout",
     "output_type": "stream",
     "text": [
      "saving model version 0.1\n",
      "Best epoch 46\n",
      "0.31457972526550293\n",
      "Testing 7 hidden neurons, lamb=0.001, grid=3\n",
      "checkpoint directory created: ./model\n",
      "saving model version 0.0\n",
      "checkpoint directory created: ./model\n",
      "saving model version 0.0\n",
      "Successfully created and tested Model4\n"
     ]
    },
    {
     "name": "stderr",
     "output_type": "stream",
     "text": [
      "| train_loss: 2.00e-01 | eval_loss: 1.98e-01 | reg: 2.86e+01 |: 100%|█| 50/50 [00:58<00:00,  1.17s/i\n"
     ]
    },
    {
     "name": "stdout",
     "output_type": "stream",
     "text": [
      "saving model version 0.1\n",
      "Best epoch 19\n",
      "0.2516424357891083\n",
      "Testing 7 hidden neurons, lamb=0.0001, grid=3\n",
      "checkpoint directory created: ./model\n",
      "saving model version 0.0\n",
      "checkpoint directory created: ./model\n",
      "saving model version 0.0\n",
      "Successfully created and tested Model4\n"
     ]
    },
    {
     "name": "stderr",
     "output_type": "stream",
     "text": [
      "| train_loss: 1.27e-01 | eval_loss: 1.95e-01 | reg: 6.51e+01 |: 100%|█| 50/50 [00:57<00:00,  1.15s/i\n"
     ]
    },
    {
     "name": "stdout",
     "output_type": "stream",
     "text": [
      "saving model version 0.1\n",
      "Best epoch 18\n",
      "0.24143116176128387\n",
      "Testing 7 hidden neurons, lamb=1e-05, grid=3\n",
      "checkpoint directory created: ./model\n",
      "saving model version 0.0\n",
      "checkpoint directory created: ./model\n",
      "saving model version 0.0\n",
      "Successfully created and tested Model4\n"
     ]
    },
    {
     "name": "stderr",
     "output_type": "stream",
     "text": [
      "| train_loss: 1.01e-01 | eval_loss: 1.90e-01 | reg: 8.56e+01 |: 100%|█| 50/50 [00:58<00:00,  1.18s/i\n"
     ]
    },
    {
     "name": "stdout",
     "output_type": "stream",
     "text": [
      "saving model version 0.1\n",
      "Best epoch 29\n",
      "0.24141211807727814\n",
      "Testing 7 hidden neurons, lamb=1.0, grid=4\n",
      "checkpoint directory created: ./model\n",
      "saving model version 0.0\n",
      "checkpoint directory created: ./model\n",
      "saving model version 0.0\n",
      "Successfully created and tested Model4\n"
     ]
    },
    {
     "name": "stderr",
     "output_type": "stream",
     "text": [
      "| train_loss: 3.52e+00 | eval_loss: 2.98e+00 | reg: 3.71e-01 |: 100%|█| 50/50 [00:50<00:00,  1.00s/i\n"
     ]
    },
    {
     "name": "stdout",
     "output_type": "stream",
     "text": [
      "saving model version 0.1\n",
      "Best epoch 1\n",
      "3.383204460144043\n",
      "Testing 7 hidden neurons, lamb=0.1, grid=4\n",
      "checkpoint directory created: ./model\n",
      "saving model version 0.0\n",
      "checkpoint directory created: ./model\n",
      "saving model version 0.0\n",
      "Successfully created and tested Model4\n"
     ]
    },
    {
     "name": "stderr",
     "output_type": "stream",
     "text": [
      "| train_loss: 1.47e+00 | eval_loss: 2.82e-01 | reg: 2.04e+01 |: 100%|█| 50/50 [01:00<00:00,  1.21s/i\n"
     ]
    },
    {
     "name": "stdout",
     "output_type": "stream",
     "text": [
      "saving model version 0.1\n",
      "Best epoch 39\n",
      "0.4609161913394928\n",
      "Testing 7 hidden neurons, lamb=0.01, grid=4\n",
      "checkpoint directory created: ./model\n",
      "saving model version 0.0\n",
      "checkpoint directory created: ./model\n",
      "saving model version 0.0\n",
      "Successfully created and tested Model4\n"
     ]
    },
    {
     "name": "stderr",
     "output_type": "stream",
     "text": [
      "| train_loss: 4.87e-01 | eval_loss: 1.96e-01 | reg: 2.12e+01 |: 100%|█| 50/50 [00:59<00:00,  1.19s/i\n"
     ]
    },
    {
     "name": "stdout",
     "output_type": "stream",
     "text": [
      "saving model version 0.1\n",
      "Best epoch 40\n",
      "0.3161936104297638\n",
      "Testing 7 hidden neurons, lamb=0.001, grid=4\n",
      "checkpoint directory created: ./model\n",
      "saving model version 0.0\n",
      "checkpoint directory created: ./model\n",
      "saving model version 0.0\n",
      "Successfully created and tested Model4\n"
     ]
    },
    {
     "name": "stderr",
     "output_type": "stream",
     "text": [
      "| train_loss: 2.00e-01 | eval_loss: 2.01e-01 | reg: 2.79e+01 |: 100%|█| 50/50 [01:02<00:00,  1.25s/i\n"
     ]
    },
    {
     "name": "stdout",
     "output_type": "stream",
     "text": [
      "saving model version 0.1\n",
      "Best epoch 26\n",
      "0.2606838643550873\n",
      "Testing 7 hidden neurons, lamb=0.0001, grid=4\n",
      "checkpoint directory created: ./model\n",
      "saving model version 0.0\n",
      "checkpoint directory created: ./model\n",
      "saving model version 0.0\n",
      "Successfully created and tested Model4\n"
     ]
    },
    {
     "name": "stderr",
     "output_type": "stream",
     "text": [
      "| train_loss: 1.31e-01 | eval_loss: 1.98e-01 | reg: 6.46e+01 |: 100%|█| 50/50 [01:03<00:00,  1.27s/i\n"
     ]
    },
    {
     "name": "stdout",
     "output_type": "stream",
     "text": [
      "saving model version 0.1\n",
      "Best epoch 4\n",
      "0.2413923442363739\n",
      "Testing 7 hidden neurons, lamb=1e-05, grid=4\n",
      "checkpoint directory created: ./model\n",
      "saving model version 0.0\n",
      "checkpoint directory created: ./model\n",
      "saving model version 0.0\n",
      "Successfully created and tested Model4\n"
     ]
    },
    {
     "name": "stderr",
     "output_type": "stream",
     "text": [
      "| train_loss: 1.02e-01 | eval_loss: 2.07e-01 | reg: 9.47e+01 |: 100%|█| 50/50 [01:03<00:00,  1.28s/i\n"
     ]
    },
    {
     "name": "stdout",
     "output_type": "stream",
     "text": [
      "saving model version 0.1\n",
      "Best epoch 13\n",
      "0.2375611811876297\n",
      "Testing 7 hidden neurons, lamb=1.0, grid=5\n",
      "checkpoint directory created: ./model\n",
      "saving model version 0.0\n",
      "checkpoint directory created: ./model\n",
      "saving model version 0.0\n",
      "Successfully created and tested Model4\n"
     ]
    },
    {
     "name": "stderr",
     "output_type": "stream",
     "text": [
      "| train_loss: 3.51e+00 | eval_loss: 2.98e+00 | reg: 3.36e-01 |: 100%|█| 50/50 [00:56<00:00,  1.12s/i\n"
     ]
    },
    {
     "name": "stdout",
     "output_type": "stream",
     "text": [
      "saving model version 0.1\n",
      "Best epoch 1\n",
      "3.389376163482666\n",
      "Testing 7 hidden neurons, lamb=0.1, grid=5\n",
      "checkpoint directory created: ./model\n",
      "saving model version 0.0\n",
      "checkpoint directory created: ./model\n",
      "saving model version 0.0\n",
      "Successfully created and tested Model4\n"
     ]
    },
    {
     "name": "stderr",
     "output_type": "stream",
     "text": [
      "| train_loss: 1.46e+00 | eval_loss: 2.80e-01 | reg: 2.02e+01 |: 100%|█| 50/50 [01:05<00:00,  1.32s/i\n"
     ]
    },
    {
     "name": "stdout",
     "output_type": "stream",
     "text": [
      "saving model version 0.1\n",
      "Best epoch 25\n",
      "0.46025437116622925\n",
      "Testing 7 hidden neurons, lamb=0.01, grid=5\n",
      "checkpoint directory created: ./model\n",
      "saving model version 0.0\n",
      "checkpoint directory created: ./model\n",
      "saving model version 0.0\n",
      "Successfully created and tested Model4\n"
     ]
    },
    {
     "name": "stderr",
     "output_type": "stream",
     "text": [
      "| train_loss: 4.90e-01 | eval_loss: 1.84e-01 | reg: 2.14e+01 |: 100%|█| 50/50 [01:06<00:00,  1.32s/i\n"
     ]
    },
    {
     "name": "stdout",
     "output_type": "stream",
     "text": [
      "saving model version 0.1\n",
      "Best epoch 49\n",
      "0.30476972460746765\n",
      "Testing 7 hidden neurons, lamb=0.001, grid=5\n",
      "checkpoint directory created: ./model\n",
      "saving model version 0.0\n",
      "checkpoint directory created: ./model\n",
      "saving model version 0.0\n",
      "Successfully created and tested Model4\n"
     ]
    },
    {
     "name": "stderr",
     "output_type": "stream",
     "text": [
      "| train_loss: 2.07e-01 | eval_loss: 1.88e-01 | reg: 3.04e+01 |: 100%|█| 50/50 [01:09<00:00,  1.38s/i\n"
     ]
    },
    {
     "name": "stdout",
     "output_type": "stream",
     "text": [
      "saving model version 0.1\n",
      "Best epoch 30\n",
      "0.24369744956493378\n",
      "Testing 7 hidden neurons, lamb=0.0001, grid=5\n",
      "checkpoint directory created: ./model\n",
      "saving model version 0.0\n",
      "checkpoint directory created: ./model\n",
      "saving model version 0.0\n",
      "Successfully created and tested Model4\n"
     ]
    },
    {
     "name": "stderr",
     "output_type": "stream",
     "text": [
      "| train_loss: 1.27e-01 | eval_loss: 2.25e-01 | reg: 6.91e+01 |: 100%|█| 50/50 [01:08<00:00,  1.38s/i\n"
     ]
    },
    {
     "name": "stdout",
     "output_type": "stream",
     "text": [
      "saving model version 0.1\n",
      "Best epoch 9\n",
      "0.24644550681114197\n",
      "Testing 7 hidden neurons, lamb=1e-05, grid=5\n",
      "checkpoint directory created: ./model\n",
      "saving model version 0.0\n",
      "checkpoint directory created: ./model\n",
      "saving model version 0.0\n",
      "Successfully created and tested Model4\n"
     ]
    },
    {
     "name": "stderr",
     "output_type": "stream",
     "text": [
      "| train_loss: 1.03e-01 | eval_loss: 2.10e-01 | reg: 9.25e+01 |: 100%|█| 50/50 [01:08<00:00,  1.38s/i\n"
     ]
    },
    {
     "name": "stdout",
     "output_type": "stream",
     "text": [
      "saving model version 0.1\n",
      "Best epoch 20\n",
      "0.24445857107639313\n",
      "Testing 7 hidden neurons, lamb=1.0, grid=6\n",
      "checkpoint directory created: ./model\n",
      "saving model version 0.0\n",
      "checkpoint directory created: ./model\n",
      "saving model version 0.0\n",
      "Successfully created and tested Model4\n"
     ]
    },
    {
     "name": "stderr",
     "output_type": "stream",
     "text": [
      "| train_loss: 3.51e+00 | eval_loss: 2.98e+00 | reg: 3.34e-01 |: 100%|█| 50/50 [01:03<00:00,  1.27s/i\n"
     ]
    },
    {
     "name": "stdout",
     "output_type": "stream",
     "text": [
      "saving model version 0.1\n",
      "Best epoch 1\n",
      "3.3919243812561035\n",
      "Testing 7 hidden neurons, lamb=0.1, grid=6\n",
      "checkpoint directory created: ./model\n",
      "saving model version 0.0\n",
      "checkpoint directory created: ./model\n",
      "saving model version 0.0\n",
      "Successfully created and tested Model4\n"
     ]
    },
    {
     "name": "stderr",
     "output_type": "stream",
     "text": [
      "| train_loss: 1.46e+00 | eval_loss: 2.77e-01 | reg: 2.03e+01 |: 100%|█| 50/50 [01:09<00:00,  1.39s/i\n"
     ]
    },
    {
     "name": "stdout",
     "output_type": "stream",
     "text": [
      "saving model version 0.1\n",
      "Best epoch 44\n",
      "0.4704953134059906\n",
      "Testing 7 hidden neurons, lamb=0.01, grid=6\n",
      "checkpoint directory created: ./model\n",
      "saving model version 0.0\n",
      "checkpoint directory created: ./model\n",
      "saving model version 0.0\n",
      "Successfully created and tested Model4\n"
     ]
    },
    {
     "name": "stderr",
     "output_type": "stream",
     "text": [
      "| train_loss: 4.89e-01 | eval_loss: 1.88e-01 | reg: 2.14e+01 |: 100%|█| 50/50 [01:10<00:00,  1.41s/i\n"
     ]
    },
    {
     "name": "stdout",
     "output_type": "stream",
     "text": [
      "saving model version 0.1\n",
      "Best epoch 49\n",
      "0.29877740144729614\n",
      "Testing 7 hidden neurons, lamb=0.001, grid=6\n",
      "checkpoint directory created: ./model\n",
      "saving model version 0.0\n",
      "checkpoint directory created: ./model\n",
      "saving model version 0.0\n",
      "Successfully created and tested Model4\n"
     ]
    },
    {
     "name": "stderr",
     "output_type": "stream",
     "text": [
      "| train_loss: 2.00e-01 | eval_loss: 1.77e-01 | reg: 3.02e+01 |: 100%|█| 50/50 [01:12<00:00,  1.46s/i\n"
     ]
    },
    {
     "name": "stdout",
     "output_type": "stream",
     "text": [
      "saving model version 0.1\n",
      "Best epoch 45\n",
      "0.25102126598358154\n",
      "Testing 7 hidden neurons, lamb=0.0001, grid=6\n",
      "checkpoint directory created: ./model\n",
      "saving model version 0.0\n",
      "checkpoint directory created: ./model\n",
      "saving model version 0.0\n",
      "Successfully created and tested Model4\n"
     ]
    },
    {
     "name": "stderr",
     "output_type": "stream",
     "text": [
      "| train_loss: 1.24e-01 | eval_loss: 1.87e-01 | reg: 6.66e+01 |: 100%|█| 50/50 [01:14<00:00,  1.49s/i\n"
     ]
    },
    {
     "name": "stdout",
     "output_type": "stream",
     "text": [
      "saving model version 0.1\n",
      "Best epoch 33\n",
      "0.23537014424800873\n",
      "Testing 7 hidden neurons, lamb=1e-05, grid=6\n",
      "checkpoint directory created: ./model\n",
      "saving model version 0.0\n",
      "checkpoint directory created: ./model\n",
      "saving model version 0.0\n",
      "Successfully created and tested Model4\n"
     ]
    },
    {
     "name": "stderr",
     "output_type": "stream",
     "text": [
      "| train_loss: 1.08e-01 | eval_loss: 2.23e-01 | reg: 8.84e+01 |: 100%|█| 50/50 [01:15<00:00,  1.51s/i\n"
     ]
    },
    {
     "name": "stdout",
     "output_type": "stream",
     "text": [
      "saving model version 0.1\n",
      "Best epoch 8\n",
      "0.2503190040588379\n",
      "Testing 7 hidden neurons, lamb=1.0, grid=7\n",
      "checkpoint directory created: ./model\n",
      "saving model version 0.0\n",
      "checkpoint directory created: ./model\n",
      "saving model version 0.0\n",
      "Successfully created and tested Model4\n"
     ]
    },
    {
     "name": "stderr",
     "output_type": "stream",
     "text": [
      "| train_loss: 3.51e+00 | eval_loss: 2.98e+00 | reg: 3.11e-01 |: 100%|█| 50/50 [00:59<00:00,  1.19s/i\n"
     ]
    },
    {
     "name": "stdout",
     "output_type": "stream",
     "text": [
      "saving model version 0.1\n",
      "Best epoch 1\n",
      "3.3876264095306396\n",
      "Testing 7 hidden neurons, lamb=0.1, grid=7\n",
      "checkpoint directory created: ./model\n",
      "saving model version 0.0\n",
      "checkpoint directory created: ./model\n",
      "saving model version 0.0\n",
      "Successfully created and tested Model4\n"
     ]
    },
    {
     "name": "stderr",
     "output_type": "stream",
     "text": [
      "| train_loss: 1.47e+00 | eval_loss: 2.95e-01 | reg: 2.04e+01 |: 100%|█| 50/50 [01:13<00:00,  1.47s/i\n"
     ]
    },
    {
     "name": "stdout",
     "output_type": "stream",
     "text": [
      "saving model version 0.1\n",
      "Best epoch 49\n",
      "0.4782105088233948\n",
      "Testing 7 hidden neurons, lamb=0.01, grid=7\n",
      "checkpoint directory created: ./model\n",
      "saving model version 0.0\n",
      "checkpoint directory created: ./model\n",
      "saving model version 0.0\n",
      "Successfully created and tested Model4\n"
     ]
    },
    {
     "name": "stderr",
     "output_type": "stream",
     "text": [
      "| train_loss: 4.84e-01 | eval_loss: 1.92e-01 | reg: 2.11e+01 |: 100%|█| 50/50 [01:14<00:00,  1.48s/i\n"
     ]
    },
    {
     "name": "stdout",
     "output_type": "stream",
     "text": [
      "saving model version 0.1\n",
      "Best epoch 43\n",
      "0.3019031882286072\n",
      "Testing 7 hidden neurons, lamb=0.001, grid=7\n",
      "checkpoint directory created: ./model\n",
      "saving model version 0.0\n",
      "checkpoint directory created: ./model\n",
      "saving model version 0.0\n",
      "Successfully created and tested Model4\n"
     ]
    },
    {
     "name": "stderr",
     "output_type": "stream",
     "text": [
      "| train_loss: 2.07e-01 | eval_loss: 1.97e-01 | reg: 3.11e+01 |: 100%|█| 50/50 [01:18<00:00,  1.57s/i\n"
     ]
    },
    {
     "name": "stdout",
     "output_type": "stream",
     "text": [
      "saving model version 0.1\n",
      "Best epoch 25\n",
      "0.2665903568267822\n",
      "Testing 7 hidden neurons, lamb=0.0001, grid=7\n",
      "checkpoint directory created: ./model\n",
      "saving model version 0.0\n",
      "checkpoint directory created: ./model\n",
      "saving model version 0.0\n",
      "Successfully created and tested Model4\n"
     ]
    },
    {
     "name": "stderr",
     "output_type": "stream",
     "text": [
      "| train_loss: 1.26e-01 | eval_loss: 1.97e-01 | reg: 6.31e+01 |: 100%|█| 50/50 [01:19<00:00,  1.59s/i\n"
     ]
    },
    {
     "name": "stdout",
     "output_type": "stream",
     "text": [
      "saving model version 0.1\n",
      "Best epoch 14\n",
      "0.2544591426849365\n",
      "Testing 7 hidden neurons, lamb=1e-05, grid=7\n",
      "checkpoint directory created: ./model\n",
      "saving model version 0.0\n",
      "checkpoint directory created: ./model\n",
      "saving model version 0.0\n",
      "Successfully created and tested Model4\n"
     ]
    },
    {
     "name": "stderr",
     "output_type": "stream",
     "text": [
      "| train_loss: 9.52e-02 | eval_loss: 2.13e-01 | reg: 9.41e+01 |: 100%|█| 50/50 [01:18<00:00,  1.56s/i\n"
     ]
    },
    {
     "name": "stdout",
     "output_type": "stream",
     "text": [
      "saving model version 0.1\n",
      "Best epoch 16\n",
      "0.25373953580856323\n",
      "Testing 7 hidden neurons, lamb=1.0, grid=8\n",
      "checkpoint directory created: ./model\n",
      "saving model version 0.0\n",
      "checkpoint directory created: ./model\n",
      "saving model version 0.0\n",
      "Successfully created and tested Model4\n"
     ]
    },
    {
     "name": "stderr",
     "output_type": "stream",
     "text": [
      "| train_loss: 3.51e+00 | eval_loss: 2.98e+00 | reg: 2.98e-01 |: 100%|█| 50/50 [01:09<00:00,  1.38s/i\n"
     ]
    },
    {
     "name": "stdout",
     "output_type": "stream",
     "text": [
      "saving model version 0.1\n",
      "Best epoch 1\n",
      "3.3826427459716797\n",
      "Testing 7 hidden neurons, lamb=0.1, grid=8\n",
      "checkpoint directory created: ./model\n",
      "saving model version 0.0\n",
      "checkpoint directory created: ./model\n",
      "saving model version 0.0\n",
      "Successfully created and tested Model4\n"
     ]
    },
    {
     "name": "stderr",
     "output_type": "stream",
     "text": [
      "| train_loss: 1.45e+00 | eval_loss: 2.84e-01 | reg: 2.00e+01 |: 100%|█| 50/50 [01:17<00:00,  1.55s/i\n"
     ]
    },
    {
     "name": "stdout",
     "output_type": "stream",
     "text": [
      "saving model version 0.1\n",
      "Best epoch 49\n",
      "0.4683128595352173\n",
      "Testing 7 hidden neurons, lamb=0.01, grid=8\n",
      "checkpoint directory created: ./model\n",
      "saving model version 0.0\n",
      "checkpoint directory created: ./model\n",
      "saving model version 0.0\n",
      "Successfully created and tested Model4\n"
     ]
    },
    {
     "name": "stderr",
     "output_type": "stream",
     "text": [
      "| train_loss: 4.87e-01 | eval_loss: 2.07e-01 | reg: 2.11e+01 |: 100%|█| 50/50 [01:19<00:00,  1.59s/i\n"
     ]
    },
    {
     "name": "stdout",
     "output_type": "stream",
     "text": [
      "saving model version 0.1\n",
      "Best epoch 8\n",
      "0.28972479701042175\n",
      "Testing 7 hidden neurons, lamb=0.001, grid=8\n",
      "checkpoint directory created: ./model\n",
      "saving model version 0.0\n",
      "checkpoint directory created: ./model\n",
      "saving model version 0.0\n",
      "Successfully created and tested Model4\n"
     ]
    },
    {
     "name": "stderr",
     "output_type": "stream",
     "text": [
      "| train_loss: 2.01e-01 | eval_loss: 1.83e-01 | reg: 2.99e+01 |: 100%|█| 50/50 [01:24<00:00,  1.68s/i\n"
     ]
    },
    {
     "name": "stdout",
     "output_type": "stream",
     "text": [
      "saving model version 0.1\n",
      "Best epoch 18\n",
      "0.25558987259864807\n",
      "Testing 7 hidden neurons, lamb=0.0001, grid=8\n",
      "checkpoint directory created: ./model\n",
      "saving model version 0.0\n",
      "checkpoint directory created: ./model\n",
      "saving model version 0.0\n",
      "Successfully created and tested Model4\n"
     ]
    },
    {
     "name": "stderr",
     "output_type": "stream",
     "text": [
      "| train_loss: 1.20e-01 | eval_loss: 1.70e-01 | reg: 7.09e+01 |: 100%|█| 50/50 [01:22<00:00,  1.64s/i\n"
     ]
    },
    {
     "name": "stdout",
     "output_type": "stream",
     "text": [
      "saving model version 0.1\n",
      "Best epoch 49\n",
      "0.23696298897266388\n",
      "Testing 7 hidden neurons, lamb=1e-05, grid=8\n",
      "checkpoint directory created: ./model\n",
      "saving model version 0.0\n",
      "checkpoint directory created: ./model\n",
      "saving model version 0.0\n",
      "Successfully created and tested Model4\n"
     ]
    },
    {
     "name": "stderr",
     "output_type": "stream",
     "text": [
      "| train_loss: 9.48e-02 | eval_loss: 1.94e-01 | reg: 1.12e+02 |: 100%|█| 50/50 [01:22<00:00,  1.66s/i"
     ]
    },
    {
     "name": "stdout",
     "output_type": "stream",
     "text": [
      "saving model version 0.1\n",
      "Best epoch 13\n",
      "0.25291645526885986\n",
      "\n",
      "✅ Top 5 Configurations:\n",
      "1. width=[15, 1, 1], grid=3, lamb=1e-05| best_epoch=48 | loss=0.22293\n",
      "2. width=[15, 4, 1], grid=7, lamb=0.0001| best_epoch=38 | loss=0.22405\n",
      "3. width=[15, 2, 1], grid=3, lamb=0.0001| best_epoch=28 | loss=0.23071\n",
      "4. width=[15, 1, 1], grid=6, lamb=0.0001| best_epoch=14 | loss=0.23159\n",
      "5. width=[15, 3, 1], grid=6, lamb=1e-05| best_epoch=21 | loss=0.23335\n"
     ]
    },
    {
     "name": "stderr",
     "output_type": "stream",
     "text": [
      "\n"
     ]
    }
   ],
   "source": [
    "grid_search_kan_hybrid(dataset, Model4, max_steps=50)"
   ]
  },
  {
   "cell_type": "markdown",
   "id": "a4b1e7a0-b8ba-4b90-857f-00bb5e989131",
   "metadata": {},
   "source": [
    "## ✅ Top 5 Configurations:\n",
    "1. width=[15, 1, 1], grid=8, lamb=1e-05| best_epoch=20 | loss=0.21007\n",
    "2. width=[15, 1, 1], grid=6, lamb=0.0001| best_epoch=32 | loss=0.22072\n",
    "3. width=[15, 1, 1], grid=8, lamb=0.0001| best_epoch=25 | loss=0.22304\n",
    "4. width=[15, 3, 1], grid=6, lamb=1e-05| best_epoch=27 | loss=0.22518\n",
    "5. width=[15, 6, 1], grid=7, lamb=1e-05| best_epoch=17 | loss=0.22613"
   ]
  },
  {
   "cell_type": "markdown",
   "id": "9629993c-fa4a-4dc5-bbd9-d58bbfafebcb",
   "metadata": {},
   "source": [
    "# Bonus Hybrid"
   ]
  },
  {
   "cell_type": "code",
   "execution_count": 35,
   "id": "5a7c1ae6-65c5-48a1-985b-4ea08cf660c6",
   "metadata": {},
   "outputs": [],
   "source": [
    "class Model5(nn.Module):\n",
    "    def __init__(self, imgs_shape, kan_grid=kan_grid, device=device):\n",
    "        super(Model5, self).__init__()\n",
    "        # CNN branch\n",
    "        self.cnn_branch = nn.Sequential(\n",
    "            nn.Conv2d(imgs_shape[0], 16, kernel_size=2, padding=1),\n",
    "            nn.LayerNorm([16, 9, 9]),\n",
    "            nn.ReLU(),\n",
    "            nn.MaxPool2d(2, 2),\n",
    "            nn.Conv2d(16, 32, kernel_size=2, padding=1),\n",
    "            nn.LayerNorm([32, 5, 5]),\n",
    "            nn.Sigmoid(),\n",
    "            #nn.MaxPool2d(2),\n",
    "            nn.Flatten()\n",
    "        ).to(device)\n",
    "\n",
    "        # Calculate the size of the flattened output\n",
    "        self.flat_size = self._get_flat_size(imgs_shape)\n",
    "\n",
    "        # Final MLP layers\n",
    "        self.final_kan = KAN(\n",
    "            width=[self.flat_size, 1],\n",
    "            grid=kan_grid,\n",
    "            k=3,\n",
    "            seed=SEED,\n",
    "            device=device\n",
    "        )\n",
    "\n",
    "        self.device = device\n",
    "\n",
    "\n",
    "    def _get_flat_size(self, imgs_shape):\n",
    "        # Forward pass with dummy input to calculate flat size\n",
    "        dummy_input = torch.zeros(4, *imgs_shape, device=device)\n",
    "        x = self.cnn_branch(dummy_input)\n",
    "        return x.size(1)\n",
    "\n",
    "    def get_concat_output(self, mlp_input, cnn_input):\n",
    "        # Ensure inputs are moved to the correct device\n",
    "        kan_input = mlp_input.to(self.device)\n",
    "        cnn_input = cnn_input.to(self.device)\n",
    "        \n",
    "        cnn_output = self.cnn_branch(cnn_input)  # Process image input\n",
    "        kan_output = self.m_kan(kan_input)  # Process numerical input\n",
    "        \n",
    "        return torch.cat((kan_output, cnn_output), dim=1)\n",
    "\n",
    "    \n",
    "    def forward(self, cnn_input):\n",
    "        cnn_input = cnn_input.to(self.device)\n",
    "        cnn_output = self.cnn_branch(cnn_input)  # Process image input\n",
    "        \n",
    "        #concat_output = self.get_concat_output(mlp_input, cnn_input)\n",
    "        return self.final_kan(cnn_output)"
   ]
  },
  {
   "cell_type": "code",
   "execution_count": 31,
   "id": "49e3415c-614a-4d20-bb45-f3afa4a0e984",
   "metadata": {},
   "outputs": [],
   "source": [
    "def fit_hybrid_dataloaders2(model, \n",
    "                           dataset,\n",
    "                           opt=\"Adam\", \n",
    "                           steps=100, \n",
    "                           log=1, \n",
    "                           lamb=0., \n",
    "                           lamb_l1=1., \n",
    "                           lamb_entropy=2., \n",
    "                           lamb_coef=0., \n",
    "                           lamb_coefdiff=0., \n",
    "                           update_grid=True, \n",
    "                           grid_update_num=10, \n",
    "                           loss_fn=None, \n",
    "                           lr=1., \n",
    "                           start_grid_update_step=-1, \n",
    "                           stop_grid_update_step=50, \n",
    "                           batch=-1,\n",
    "                           metrics=None, \n",
    "                           save_fig=False, \n",
    "                           in_vars=None, \n",
    "                           out_vars=None, \n",
    "                           beta=3, \n",
    "                           save_fig_freq=1, \n",
    "                           img_folder='./video', \n",
    "                           singularity_avoiding=False, \n",
    "                           y_th=1000., \n",
    "                           reg_metric='edge_forward_spline_n', \n",
    "                           display_metrics=None,\n",
    "                           sum_f_reg=True):\n",
    "    \"\"\"\n",
    "    Trains the hybrid model (with a KAN branch and a CNN branch) using a steps-based loop\n",
    "    adapted from KAN.fit(), with grid updates and regularization.\n",
    "    \n",
    "    Instead of a single dataset dict, this function accepts three DataLoaders:\n",
    "        - train_loader: provides (mlp, img, target) for training\n",
    "        - val_loader: provides (mlp, img, target) for evaluation during training\n",
    "        - test_loader: provides (mlp, img, target) for validation\n",
    "\n",
    "    Internally, the function combines each loader into a dataset dictionary.\n",
    "    \n",
    "    Returns:\n",
    "        results: dictionary containing training loss, evaluation loss, regularization values,\n",
    "                 and any additional metrics recorded during training.\n",
    "    \"\"\"\n",
    "    #device = next(model.parameters()).device\n",
    "\n",
    "    # Warn if regularization is requested but model's internal flag isn't enabled.\n",
    "    if lamb > 0. and not getattr(model.final_kan, \"save_act\", False):\n",
    "        print(\"setting lamb=0. If you want to set lamb > 0, set model.final_kan.save_act=True\")\n",
    "    \n",
    "    # Disable symbolic processing for training if applicable (KAN internal logic)\n",
    "    if hasattr(model.final_kan, \"disable_symbolic_in_fit\"):\n",
    "        #old_save_act, old_symbolic_enabled = model.m_kan.disable_symbolic_in_fit(lamb)\n",
    "        old_save_act, old_symbolic_enabled = model.final_kan.disable_symbolic_in_fit(lamb)\n",
    "    else:\n",
    "        old_save_act, old_symbolic_enabled = None, None\n",
    "\n",
    "    pbar = tqdm(range(steps), desc='Training', ncols=100)\n",
    "\n",
    "    # Default loss function (mean squared error) if not provided\n",
    "    if loss_fn is None:\n",
    "        loss_fn = lambda x, y: torch.mean((x - y) ** 2)\n",
    "\n",
    "    # Determine grid update frequency\n",
    "    grid_update_freq = int(stop_grid_update_step / grid_update_num) if grid_update_num > 0 else 1\n",
    "\n",
    "    # Determine total number of training examples\n",
    "    n_train = dataset[\"train_img\"].shape[0]\n",
    "    n_eval  = dataset[\"val_img\"].shape[0]  # using val set for evaluation during training\n",
    "    batch_size = n_train if batch == -1 or batch > n_train else batch\n",
    "\n",
    "    # Set up optimizer: choose between Adam and LBFGS (removed tolerance_ys)\n",
    "    if opt == \"Adam\":\n",
    "        optimizer = optim.Adam(model.parameters(), lr=lr)\n",
    "    elif opt == \"LBFGS\":\n",
    "        optimizer = LBFGS(model.parameters(), lr=lr, history_size=10, \n",
    "                          line_search_fn=\"strong_wolfe\", \n",
    "                          tolerance_grad=1e-32, \n",
    "                          tolerance_change=1e-32)\n",
    "    else:\n",
    "        raise ValueError(\"Optimizer not recognized. Use 'Adam' or 'LBFGS'.\")\n",
    "\n",
    "    # Prepare results dictionary.\n",
    "    results = {\n",
    "        'train_loss': [],\n",
    "        'eval_loss': [],\n",
    "        'reg': []\n",
    "    }\n",
    "\n",
    "    \n",
    "    if metrics is not None:\n",
    "        for metric in metrics:\n",
    "            results[metric.__name__] = []\n",
    "\n",
    "    best_model_state = None\n",
    "    best_epoch = -1\n",
    "    best_loss = float('inf')\n",
    "\n",
    "    for step in pbar:\n",
    "        # Randomly sample indices for a mini-batch from the training set.\n",
    "        train_indices = np.random.choice(n_train, batch_size, replace=False)\n",
    "        # Use full evaluation set for evaluation; you can also sample if desired.\n",
    "        eval_indices = np.arange(n_eval)\n",
    "\n",
    "        # Closure for LBFGS\n",
    "        def closure():\n",
    "            optimizer.zero_grad()\n",
    "            #mlp_batch = dataset[\"train_input\"][train_indices]\n",
    "            img_batch = dataset[\"train_img\"][train_indices]\n",
    "            target_batch = dataset[\"train_label\"][train_indices]\n",
    "            outputs = model(img_batch)\n",
    "            train_loss = loss_fn(outputs, target_batch)\n",
    "            # Compute regularization term if enabled.\n",
    "            if hasattr(model.final_kan, \"save_act\") and model.final_kan.save_act:\n",
    "                if reg_metric == 'edge_backward':\n",
    "                    #model.m_kan.attribute()\n",
    "                    model.final_kan.attribute()\n",
    "                if reg_metric == 'node_backward':\n",
    "                    #model.m_kan.node_attribute()\n",
    "                    model.final_kan.node_attribute()\n",
    "                reg_val_inner = model.final_kan.get_reg(reg_metric, lamb_l1, lamb_entropy, lamb_coef, lamb_coefdiff)\n",
    "                # if sum_f_reg:\n",
    "                #     reg_val_inner = reg_val_inner + model.final_kan.get_reg(reg_metric, lamb_l1, lamb_entropy, lamb_coef, lamb_coefdiff)\n",
    "            else:\n",
    "                reg_val_inner = torch.tensor(0., device=device)\n",
    "            loss_val_inner = train_loss + lamb * reg_val_inner\n",
    "            loss_val_inner.backward()\n",
    "            return loss_val_inner\n",
    "\n",
    "        # Perform grid update if applicable.\n",
    "        if (step % grid_update_freq == 0 and step < stop_grid_update_step \n",
    "            and update_grid and step >= start_grid_update_step):\n",
    "            \n",
    "            #mlp_batch = dataset['train_input'][train_indices]\n",
    "            cnn_batch = dataset['train_img'][train_indices]\n",
    "            \n",
    "            # model.final_kan.update_grid(mlp_batch)\n",
    "            cnn_output = model.cnn_branch(cnn_batch)  # Process image input\n",
    "            # concatenated  = model.get_concat_output(cnn_batch)\n",
    "            #concatenated = torch.cat((mlp_batch, cnn_output), dim=1)\n",
    "            model.final_kan.update_grid(cnn_output)\n",
    "\n",
    "        # Perform an optimizer step.\n",
    "        if opt == \"LBFGS\":\n",
    "            optimizer.step(closure)\n",
    "            loss_val = closure()  # re-evaluate to record loss\n",
    "            # Compute reg_val separately for logging\n",
    "            with torch.no_grad():\n",
    "                #mlp_batch = dataset[\"train_input\"][train_indices]\n",
    "                img_batch = dataset[\"train_img\"][train_indices]\n",
    "                target_batch = dataset[\"train_label\"][train_indices]\n",
    "                outputs = model(img_batch)\n",
    "                train_loss = loss_fn(outputs, target_batch)\n",
    "                if hasattr(model.final_kan, \"save_act\") and model.final_kan.save_act:\n",
    "                    if reg_metric == 'edge_backward':\n",
    "                        #model.m_kan.attribute()\n",
    "                        model.final_kan.attribute()\n",
    "                    if reg_metric == 'node_backward':\n",
    "                        #model.m_kan.node_attribute()\n",
    "                        model.final_kan.node_attribute()\n",
    "                    reg_val = model.final_kan.get_reg(reg_metric, lamb_l1, lamb_entropy, lamb_coef, lamb_coefdiff)\n",
    "                    # if sum_f_reg:\n",
    "                    #     reg_val = reg_val + model.final_kan.get_reg(reg_metric, lamb_l1, lamb_entropy, lamb_coef, lamb_coefdiff)\n",
    "                else:\n",
    "                    reg_val = torch.tensor(0., device=device)\n",
    "        else:  # Adam branch\n",
    "            optimizer.zero_grad()\n",
    "            #mlp_batch = dataset[\"train_input\"][train_indices]\n",
    "            img_batch = dataset[\"train_img\"][train_indices]\n",
    "            target_batch = dataset[\"train_label\"][train_indices]\n",
    "            outputs = model(img_batch)\n",
    "            train_loss = loss_fn(outputs, target_batch)\n",
    "            if hasattr(model.final_kan, \"save_act\") and model.final_kan.save_act:\n",
    "                if reg_metric == 'edge_backward':\n",
    "                    #model.m_kan.attribute()\n",
    "                    model.final_kan.attribute()\n",
    "                if reg_metric == 'node_backward':\n",
    "                    #model.m_kan.node_attribute()\n",
    "                    model.final_kan.node_attribute()\n",
    "                reg_val = model.final_kan.get_reg(reg_metric, lamb_l1, lamb_entropy, lamb_coef, lamb_coefdiff)\n",
    "                # if sum_f_reg:\n",
    "                #     reg_val = reg_val + model.final_kan.get_reg(reg_metric, lamb_l1, lamb_entropy, lamb_coef, lamb_coefdiff)\n",
    "            else:\n",
    "                reg_val = torch.tensor(0., device=device)\n",
    "            loss_val = train_loss + lamb * reg_val\n",
    "            loss_val.backward()\n",
    "            optimizer.step()\n",
    "\n",
    "        # Evaluate on the entire evaluation set (from val_loader)\n",
    "        #mlp_eval = dataset[\"val_input\"][eval_indices]\n",
    "        img_eval = dataset[\"val_img\"][eval_indices]\n",
    "        target_eval = dataset[\"val_label\"][eval_indices]\n",
    "        eval_loss = loss_fn(model(img_eval), target_eval)\n",
    "\n",
    "        # Record results (using square-root of loss similar to KAN.fit)\n",
    "        results['train_loss'].append(torch.sqrt(loss_val.detach()).item())\n",
    "        results['eval_loss'].append(torch.sqrt(eval_loss.detach()).item())\n",
    "        results['reg'].append(reg_val.detach().item())\n",
    "\n",
    "        # New: Compute validation loss if validation data exists in the dataset.\n",
    "        # val_loss = loss_fn(model(dataset['val_input'][eval_indices], dataset['val_img'][eval_indices]), dataset['val_label'][eval_indices])\n",
    "        # results['val_loss'].append(torch.sqrt(val_loss).cpu().detach().numpy())\n",
    "\n",
    "        if metrics is not None:\n",
    "            for metric in metrics:\n",
    "                # Here, we assume each metric returns a tensor.\n",
    "                results[metric.__name__].append(metric().item())\n",
    "\n",
    "        if eval_loss < best_loss:\n",
    "            best_epoch = step\n",
    "            best_loss = eval_loss\n",
    "            best_model_state = copy.deepcopy(model.state_dict())\n",
    "\n",
    "        # Update progress bar.\n",
    "        if display_metrics is None:\n",
    "            pbar.set_description(\"| train_loss: %.2e | eval_loss: %.2e | reg: %.2e |\" %\n",
    "                                 (torch.sqrt(loss_val.detach()).item(),\n",
    "                                  torch.sqrt(eval_loss.detach()).item(),\n",
    "                                  reg_val.detach().item()))\n",
    "        else:\n",
    "            desc = \"\"\n",
    "            data = []\n",
    "            for metric in display_metrics:\n",
    "                desc += f\" {metric}: %.2e |\"\n",
    "                data.append(results[metric.__name__][-1])\n",
    "            pbar.set_description(desc % tuple(data))\n",
    "\n",
    "        # Optionally save a figure snapshot.\n",
    "        if save_fig and step % save_fig_freq == 0:\n",
    "            save_act_backup = getattr(model.final_kan, \"save_act\", False)\n",
    "            model.final_kan.save_act = True\n",
    "            model.plot(folder=img_folder, in_vars=in_vars, out_vars=out_vars, title=f\"Step {step}\", beta=beta)\n",
    "            plt.savefig(os.path.join(img_folder, f\"{step}.jpg\"), bbox_inches='tight', dpi=200)\n",
    "            plt.close()\n",
    "            model.final_kan.save_act = save_act_backup\n",
    "\n",
    "    # Restore original settings if applicable.\n",
    "    if old_symbolic_enabled is not None:\n",
    "        model.final_kan.symbolic_enabled = old_symbolic_enabled\n",
    "    if hasattr(model.final_kan, \"log_history\"):\n",
    "        model.final_kan.log_history('fit')\n",
    "    print(f\"Best epoch {best_epoch}\")\n",
    "    return results, best_model_state"
   ]
  },
  {
   "cell_type": "code",
   "execution_count": 28,
   "id": "c3b3b391-14eb-4647-962d-75accd4df9a9",
   "metadata": {},
   "outputs": [],
   "source": [
    "def try_create_model2(model_class, attributes, imgs_shape):\n",
    "    try:\n",
    "        model = model_class(imgs_shape)\n",
    "        \n",
    "        # Test the model with a sample input\n",
    "        num_input = torch.randn(4, attributes)\n",
    "        img_input = torch.randn(4, *imgs_shape)\n",
    "        output = model(img_input)\n",
    "        \n",
    "        print(f\"Successfully created and tested {model_class.__name__}\")\n",
    "        \n",
    "        return model\n",
    "    except Exception as e:\n",
    "        print(f\"Error creating or testing {model_class.__name__}:\")\n",
    "        traceback.print_exc()\n",
    "        return None"
   ]
  },
  {
   "cell_type": "code",
   "execution_count": 39,
   "id": "84126752-0c8b-4028-9892-785d5112e71a",
   "metadata": {},
   "outputs": [
    {
     "name": "stdout",
     "output_type": "stream",
     "text": [
      "checkpoint directory created: ./model\n",
      "saving model version 0.0\n",
      "Successfully created and tested Model5\n"
     ]
    },
    {
     "name": "stderr",
     "output_type": "stream",
     "text": [
      "| train_loss: 1.79e-01 | eval_loss: 1.93e-01 | reg: 1.21e+02 |: 100%|█| 30/30 [00:11<00:00,  2.71it/\n"
     ]
    },
    {
     "name": "stdout",
     "output_type": "stream",
     "text": [
      "saving model version 0.1\n",
      "Best epoch 11\n",
      "0.2864829897880554\n"
     ]
    },
    {
     "data": {
      "image/png": "[encoded data removed]",
      "text/plain": [
       "<Figure size 640x480 with 1 Axes>"
      ]
     },
     "metadata": {},
     "output_type": "display_data"
    }
   ],
   "source": [
    "model5 = try_create_model2(Model5, attributes, imgs_shape)  # Attempt to create Model4\n",
    "metrics5, best_model_state = fit_hybrid_dataloaders2(model5, dataset, opt=\"LBFGS\", steps=30, lamb=.00000001)\n",
    "model5.load_state_dict(best_model_state)\n",
    "print(average_rmse(model5(dataset['test_img']), dataset['test_label']))\n",
    "plt.plot(metrics5['train_loss'])\n",
    "plt.plot(metrics5['eval_loss'])\n",
    "plt.legend(['train', 'val'])\n",
    "plt.ylabel('RMSE')\n",
    "plt.xlabel('step')\n",
    "plt.yscale('log')"
   ]
  }
 ],
 "metadata": {
  "kernelspec": {
   "display_name": "Python 3 (ipykernel)",
   "language": "python",
   "name": "python3"
  },
  "language_info": {
   "codemirror_mode": {
    "name": "ipython",
    "version": 3
   },
   "file_extension": ".py",
   "mimetype": "text/x-python",
   "name": "python",
   "nbconvert_exporter": "python",
   "pygments_lexer": "ipython3",
   "version": "3.12.7"
  }
 },
 "nbformat": 4,
 "nbformat_minor": 5
}
