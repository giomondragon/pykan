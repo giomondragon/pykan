{
 "cells": [
  {
   "cell_type": "code",
   "execution_count": 1,
   "id": "c610ec6f-d201-4992-a024-29668496ded5",
   "metadata": {},
   "outputs": [],
   "source": [
    "import sys\n",
    "import os\n",
    "\n",
    "# Get the root directory\n",
    "root_dir = os.path.abspath(os.path.join(os.getcwd(), '..'))\n",
    "\n",
    "# Add the root directory to the Python path\n",
    "sys.path.append(root_dir)"
   ]
  },
  {
   "cell_type": "code",
   "execution_count": 2,
   "id": "e80c00c0-30c2-428a-ba42-f6502d4e7322",
   "metadata": {},
   "outputs": [],
   "source": [
    "from tqdm import tqdm\n",
    "from torch.utils.data import DataLoader, TensorDataset\n",
    "from torch.optim.lr_scheduler import OneCycleLR\n",
    "from sklearn.datasets import load_diabetes\n",
    "from sklearn.model_selection import train_test_split\n",
    "from sklearn.preprocessing import MinMaxScaler, StandardScaler\n",
    "from sklearn.datasets import load_diabetes\n",
    "from sklearn.model_selection import train_test_split\n",
    "from sklearn.preprocessing import StandardScaler\n",
    "from sklearn.metrics import mean_squared_error, mean_absolute_error, r2_score\n",
    "from TINTOlib.tinto import TINTO\n",
    "from vit_pytorch.vit import ViT\n",
    "from kan import *\n",
    "\n",
    "\n",
    "import time\n",
    "import gc\n",
    "import copy\n",
    "import traceback\n",
    "import torch.nn as nn\n",
    "import cv2\n",
    "import matplotlib.pyplot as plt\n",
    "import pandas as pd\n",
    "import numpy as np\n",
    "import random\n",
    "import torch.optim as optim\n",
    "import torch\n"
   ]
  },
  {
   "cell_type": "markdown",
   "id": "5abccec8-ddfc-48ff-b23c-27c80b033bb5",
   "metadata": {},
   "source": [
    "# 0. Set Device Cuda or CPU"
   ]
  },
  {
   "cell_type": "code",
   "execution_count": 3,
   "id": "14e1cecf-11db-4b6b-a5f3-00495d9ae846",
   "metadata": {},
   "outputs": [
    {
     "name": "stdout",
     "output_type": "stream",
     "text": [
      "cuda\n"
     ]
    }
   ],
   "source": [
    "if torch.cuda.is_available():\n",
    "  device = torch.device(\"cuda\")\n",
    "else:\n",
    "  device = torch.device(\"cpu\")\n",
    "\n",
    "print(device)"
   ]
  },
  {
   "cell_type": "markdown",
   "id": "57e53f22-1989-4ecf-a026-c1719514e039",
   "metadata": {},
   "source": [
    "## 0.1 Set Seeds"
   ]
  },
  {
   "cell_type": "code",
   "execution_count": 4,
   "id": "fedd1b52-0e60-4f02-a3a5-d6169a67bf42",
   "metadata": {},
   "outputs": [],
   "source": [
    "SEED = 381\n",
    "# SET RANDOM SEED FOR REPRODUCIBILITY\n",
    "torch.manual_seed(SEED)\n",
    "random.seed(SEED)\n",
    "np.random.seed(SEED)"
   ]
  },
  {
   "cell_type": "markdown",
   "id": "12234035-fce2-4817-8ab6-1ba1a8473462",
   "metadata": {},
   "source": [
    "# 1. Load Dataframe"
   ]
  },
  {
   "cell_type": "code",
   "execution_count": 5,
   "id": "55f4e3b4-ef38-45fa-b6ad-0c25a5513034",
   "metadata": {},
   "outputs": [],
   "source": [
    "diabetes = load_diabetes()\n",
    "data = pd.DataFrame(data=diabetes.data, columns=diabetes.feature_names)\n",
    "data['target'] = diabetes.target  # Add the target variable"
   ]
  },
  {
   "cell_type": "markdown",
   "id": "35a5b50c-f795-4a23-b88e-92320d1ae157",
   "metadata": {},
   "source": [
    "## 2. Pre Process"
   ]
  },
  {
   "cell_type": "code",
   "execution_count": 6,
   "id": "aedf5f90-f6f8-4915-ac2e-5877c74cff7a",
   "metadata": {},
   "outputs": [],
   "source": [
    "def load_data_numerical_only(df, batch_size=32, device='cuda'):\n",
    "    \"\"\"Loads and converts a numerical dataset into PyTorch DataLoaders for a KAN model.\"\"\"\n",
    "\n",
    "    # Split dataset\n",
    "    X_train, X_temp = train_test_split(df, test_size=0.2, random_state=SEED)\n",
    "    X_val, X_test = train_test_split(X_temp, test_size=0.5, random_state=SEED)\n",
    "    \n",
    "    # Reset indices\n",
    "    data_splits = {\n",
    "        \"train\": X_train.reset_index(drop=True),\n",
    "        \"val\": X_val.reset_index(drop=True),\n",
    "        \"test\": X_test.reset_index(drop=True)\n",
    "    }\n",
    "\n",
    "    # Separate features and targets\n",
    "    num_features = {split: data_splits[split].drop(columns=[df.columns[-1]]) for split in data_splits}\n",
    "    targets = {split: data_splits[split][df.columns[-1]] for split in data_splits}\n",
    "\n",
    "    # Standardize numerical data\n",
    "    scaler = StandardScaler()\n",
    "    num_features[\"train\"] = pd.DataFrame(scaler.fit_transform(num_features[\"train\"]), columns=num_features[\"train\"].columns)\n",
    "    for split in [\"val\", \"test\"]:\n",
    "        num_features[split] = pd.DataFrame(scaler.transform(num_features[split]), columns=num_features[split].columns)\n",
    "\n",
    "    # Convert numerical data and targets to PyTorch tensors\n",
    "    num_tensors = {split: torch.tensor(num_features[split].values, dtype=torch.float32, device=device)\n",
    "                   for split in [\"train\", \"val\", \"test\"]}\n",
    "\n",
    "    target_tensors = {split: torch.tensor(targets[split].values, dtype=torch.float32, device=device).reshape(-1, 1)\n",
    "                      for split in [\"train\", \"val\", \"test\"]}\n",
    "\n",
    "    # Create DataLoaders\n",
    "    datasets = {split: TensorDataset(num_tensors[split], target_tensors[split]) for split in [\"train\", \"val\", \"test\"]}\n",
    "    data_loaders = {split: DataLoader(datasets[split], batch_size=batch_size, shuffle=(split == \"train\")) \n",
    "                    for split in [\"train\", \"val\", \"test\"]}\n",
    "\n",
    "    attributes = num_features[\"train\"].shape[1]  # Number of numerical features\n",
    "\n",
    "    print(\"Attributes:\", attributes)\n",
    "    \n",
    "    return data_loaders[\"train\"], data_loaders[\"val\"], data_loaders[\"test\"], attributes\n"
   ]
  },
  {
   "cell_type": "code",
   "execution_count": 7,
   "id": "8d56c27b-02cd-43e0-b053-a6f071ade1fb",
   "metadata": {},
   "outputs": [
    {
     "name": "stdout",
     "output_type": "stream",
     "text": [
      "Attributes: 10\n"
     ]
    }
   ],
   "source": [
    "train_loader, val_loader, test_loader, attributes = load_data_numerical_only(\n",
    "    data,\n",
    "    batch_size=16\n",
    ")"
   ]
  },
  {
   "cell_type": "markdown",
   "id": "60f19126-4e53-4ceb-a415-57b7788ea4bd",
   "metadata": {},
   "source": [
    "# 3. Create KAN Model"
   ]
  },
  {
   "cell_type": "code",
   "execution_count": 11,
   "id": "0eae6d85-88bd-487f-9b33-e83a67cd17c3",
   "metadata": {},
   "outputs": [
    {
     "name": "stdout",
     "output_type": "stream",
     "text": [
      "checkpoint directory created: ./model\n",
      "saving model version 0.0\n"
     ]
    }
   ],
   "source": [
    "model = KAN(width=[10, 6, 3, 1], grid=3, k=3, seed=381, device=device)"
   ]
  },
  {
   "cell_type": "markdown",
   "id": "8d3c3af2-dd9e-4ae7-80c5-00cef4822551",
   "metadata": {},
   "source": [
    "# 4. Compile and Train model"
   ]
  },
  {
   "cell_type": "code",
   "execution_count": 9,
   "id": "a649afa2-38a9-4661-be82-ea1427496fa2",
   "metadata": {},
   "outputs": [],
   "source": [
    "def compile_and_fit(model, train_loader, val_loader, test_loader, dataset_name, model_name, batch_size=32, epochs=10, min_lr=1e-3, max_lr=1, device='cuda', weight_decay=1e-2):\n",
    "    model = model\n",
    "    loss_fn = nn.MSELoss()\n",
    "    optimizer = optim.AdamW(model.parameters(), lr=min_lr, weight_decay=weight_decay)\n",
    "\n",
    "    total_steps = epochs * len(train_loader)\n",
    "    scheduler = OneCycleLR(optimizer, max_lr=max_lr, div_factor=max_lr/min_lr, total_steps=total_steps, pct_start=0.3, final_div_factor=1)\n",
    "    \n",
    "    best_val_loss = float('inf')\n",
    "    best_model = None\n",
    "    best_epoch = 0\n",
    "\n",
    "    history = {'train_loss': [], 'val_loss': [], 'train_mse': [], 'val_mse': [], 'train_rmse': [], 'val_rmse': [], 'learning_rate': [], 'epoch_time': []}\n",
    "\n",
    "    start_time = time.time()\n",
    "    \n",
    "    for epoch in range(epochs):\n",
    "        epoch_start_time = time.time()\n",
    "\n",
    "        model.train()\n",
    "        train_loss = 0.0\n",
    "        train_predictions = []\n",
    "        train_targets = []\n",
    "        for num_data, targets in train_loader:\n",
    "            num_data, targets = num_data.to(device, non_blocking=True),  targets.to(device, non_blocking=True)\n",
    "            \n",
    "            optimizer.zero_grad()\n",
    "            outputs = model(num_data)\n",
    "            loss = loss_fn(outputs, targets)\n",
    "            loss.backward()\n",
    "            optimizer.step()\n",
    "            scheduler.step()\n",
    "            \n",
    "            train_loss += loss.item()\n",
    "            train_predictions.extend(outputs.cpu().detach().numpy())\n",
    "            train_targets.extend(targets.cpu().numpy())\n",
    "\n",
    "        model.eval()\n",
    "        val_loss = 0.0\n",
    "        val_predictions = []\n",
    "        val_targets = []\n",
    "        with torch.no_grad():\n",
    "            for num_data, targets in val_loader:\n",
    "                num_data, targets = num_data.to(device, non_blocking=True), targets.to(device, non_blocking=True)\n",
    "                outputs = model(num_data)\n",
    "                loss = loss_fn(outputs, targets)\n",
    "                \n",
    "                val_loss += loss.item()\n",
    "                val_predictions.extend(outputs.cpu().numpy())\n",
    "                val_targets.extend(targets.cpu().numpy())\n",
    "\n",
    "        train_loss /= len(train_loader)\n",
    "        val_loss /= len(val_loader)\n",
    "        \n",
    "        # Get the current learning rate\n",
    "        current_lr = scheduler.get_last_lr()\n",
    "        \n",
    "        \n",
    "        if val_loss < best_val_loss:\n",
    "            best_val_loss = val_loss\n",
    "            best_model = copy.deepcopy(model.state_dict())\n",
    "            best_epoch = epoch + 1\n",
    "\n",
    "        train_mse = mean_squared_error(train_targets, train_predictions)\n",
    "        train_rmse = np.sqrt(train_mse)\n",
    "        val_mse = mean_squared_error(val_targets, val_predictions)\n",
    "        val_rmse = np.sqrt(val_mse)\n",
    "        train_r2 = r2_score(train_targets, train_predictions)\n",
    "        val_r2 = r2_score(val_targets, val_predictions)\n",
    "\n",
    "        epoch_time = time.time() - epoch_start_time\n",
    "\n",
    "        history['train_loss'].append(train_loss)\n",
    "        history['val_loss'].append(val_loss)\n",
    "        history['train_mse'].append(train_mse)\n",
    "        history['val_mse'].append(val_mse)\n",
    "        history['train_rmse'].append(train_rmse)\n",
    "        history['val_rmse'].append(val_rmse)\n",
    "        history['learning_rate'].append(current_lr)\n",
    "        history['epoch_time'].append(epoch_time)\n",
    "\n",
    "    total_time = time.time() - start_time\n",
    "    model.load_state_dict(best_model)\n",
    "\n",
    "    # Calculate and save metrics\n",
    "    train_metrics = calculate_metrics(model, train_loader, device)\n",
    "    val_metrics = calculate_metrics(model, val_loader, device)\n",
    "    test_metrics = calculate_metrics(model, test_loader, device)\n",
    "\n",
    "    metrics = {\n",
    "        'train_loss': train_metrics['loss'],\n",
    "        'train_mse': train_metrics['mse'],\n",
    "        'train_mae': train_metrics['mae'],\n",
    "        'train_rmse': train_metrics['rmse'],\n",
    "        'train_r2': train_metrics['r2'],\n",
    "        'val_loss': val_metrics['loss'],\n",
    "        'val_mse': val_metrics['mse'],\n",
    "        'val_mae': val_metrics['mae'],\n",
    "        'val_rmse': val_metrics['rmse'],\n",
    "        'val_r2': val_metrics['r2'],\n",
    "        'test_loss': test_metrics['loss'],\n",
    "        'test_mse': test_metrics['mse'],\n",
    "        'test_mae': test_metrics['mae'],\n",
    "        'test_rmse': test_metrics['rmse'],\n",
    "        'test_r2': test_metrics['r2'],\n",
    "        'min_lr': min_lr,\n",
    "        'max_lr': max_lr,\n",
    "        'total_time': total_time,\n",
    "        'average_epoch_time': sum(history['epoch_time']) / len(history['epoch_time'])\n",
    "    }\n",
    "    \n",
    "    print(f\"\\nTraining completed in {total_time:.2f} seconds\")\n",
    "    print(f\"Best model found at epoch {best_epoch}/{epochs}\")\n",
    "    print(f\"Best Train Loss: {history['train_loss'][best_epoch-1]:.4f}, Best Val Loss: {history['val_loss'][best_epoch-1]:.4f}\")\n",
    "    print(f\"Best Train MSE: {history['train_mse'][best_epoch-1]:.4f}, Best Val MSE: {history['val_mse'][best_epoch-1]:.4f}\")\n",
    "    print(f\"Best Train RMSE: {history['train_rmse'][best_epoch-1]:.4f}, Best Val RMSE: {history['val_rmse'][best_epoch-1]:.4f}\")\n",
    "\n",
    "    # Save metrics to a file\n",
    "    os.makedirs(f'logs/Regression/{dataset_name}/KAN/{model_name}', exist_ok=True)\n",
    "    with open(f'logs/Regression/{dataset_name}/KAN/{model_name}/metrics.txt', 'w') as f:\n",
    "        for key, value in metrics.items():\n",
    "            f.write(f'{key}: {value}\\n')\n",
    "            \n",
    "    # Save best model\n",
    "    model_save_path = f\"models/Regression/{dataset_name}/KAN/{model_name}/best_model.pth\"\n",
    "    os.makedirs(os.path.dirname(model_save_path), exist_ok=True)\n",
    "    torch.save(best_model, model_save_path)\n",
    "    print(f\"Best model saved to {model_save_path}\")\n",
    "            \n",
    "    del model\n",
    "    torch.cuda.empty_cache()\n",
    "    gc.collect()\n",
    "\n",
    "    return metrics\n",
    "\n",
    "def calculate_metrics(model, data_loader, device):\n",
    "    model.eval()\n",
    "    loss_fn = nn.MSELoss()\n",
    "    total_loss = 0\n",
    "    all_targets = []\n",
    "    all_predictions = []\n",
    "\n",
    "    with torch.no_grad():\n",
    "        for num_data, targets in data_loader:\n",
    "            num_data, targets = num_data.to(device, non_blocking=True), targets.to(device, non_blocking=True)\n",
    "            outputs = model(num_data)\n",
    "            loss = loss_fn(outputs, targets)\n",
    "            total_loss += loss.item()\n",
    "            all_targets.extend(targets.cpu().numpy())\n",
    "            all_predictions.extend(outputs.cpu().numpy())\n",
    "\n",
    "    all_targets = np.array(all_targets)\n",
    "    all_predictions = np.array(all_predictions)\n",
    "\n",
    "    mse = mean_squared_error(all_targets, all_predictions)\n",
    "    mae = mean_absolute_error(all_targets, all_predictions)\n",
    "    rmse = np.sqrt(mse)\n",
    "    r2 = r2_score(all_targets, all_predictions)\n",
    "\n",
    "    return {\n",
    "        'loss': total_loss / len(data_loader),\n",
    "        'mse': mse,\n",
    "        'mae': mae,\n",
    "        'rmse': rmse,\n",
    "        'r2': r2\n",
    "    }"
   ]
  },
  {
   "cell_type": "code",
   "execution_count": 12,
   "id": "eccfb964-fb89-4c48-8677-b78447cc517c",
   "metadata": {
    "scrolled": true
   },
   "outputs": [
    {
     "name": "stderr",
     "output_type": "stream",
     "text": [
      "C:\\Users\\vgiov\\OneDrive\\Documents\\Master Data Science\\Thesis\\pykan\\kan\\MultKAN.py:816: UserWarning: std(): degrees of freedom is <= 0. Correction should be strictly less than the reduction factor (input numel divided by output numel). (Triggered internally at C:\\cb\\pytorch_1000000000000\\work\\aten\\src\\ATen\\native\\ReduceOps.cpp:1823.)\n",
      "  self.subnode_actscale.append(torch.std(x, dim=0).detach())\n",
      "C:\\Users\\vgiov\\OneDrive\\Documents\\Master Data Science\\Thesis\\pykan\\kan\\MultKAN.py:826: UserWarning: std(): degrees of freedom is <= 0. Correction should be strictly less than the reduction factor (input numel divided by output numel). (Triggered internally at C:\\cb\\pytorch_1000000000000\\work\\aten\\src\\ATen\\native\\ReduceOps.cpp:1823.)\n",
      "  input_range = torch.std(preacts, dim=0) + 0.1\n",
      "C:\\Users\\vgiov\\OneDrive\\Documents\\Master Data Science\\Thesis\\pykan\\kan\\MultKAN.py:827: UserWarning: std(): degrees of freedom is <= 0. Correction should be strictly less than the reduction factor (input numel divided by output numel). (Triggered internally at C:\\cb\\pytorch_1000000000000\\work\\aten\\src\\ATen\\native\\ReduceOps.cpp:1823.)\n",
      "  output_range_spline = torch.std(postacts_numerical, dim=0) # for training, only penalize the spline part\n",
      "C:\\Users\\vgiov\\OneDrive\\Documents\\Master Data Science\\Thesis\\pykan\\kan\\MultKAN.py:828: UserWarning: std(): degrees of freedom is <= 0. Correction should be strictly less than the reduction factor (input numel divided by output numel). (Triggered internally at C:\\cb\\pytorch_1000000000000\\work\\aten\\src\\ATen\\native\\ReduceOps.cpp:1823.)\n",
      "  output_range = torch.std(postacts, dim=0) # for visualization, include the contribution from both spline + symbolic\n",
      "C:\\Users\\vgiov\\OneDrive\\Documents\\Master Data Science\\Thesis\\pykan\\kan\\MultKAN.py:816: UserWarning: std(): degrees of freedom is <= 0. Correction should be strictly less than the reduction factor (input numel divided by output numel). (Triggered internally at C:\\cb\\pytorch_1000000000000\\work\\aten\\src\\ATen\\native\\ReduceOps.cpp:1823.)\n",
      "  self.subnode_actscale.append(torch.std(x, dim=0).detach())\n",
      "C:\\Users\\vgiov\\OneDrive\\Documents\\Master Data Science\\Thesis\\pykan\\kan\\MultKAN.py:826: UserWarning: std(): degrees of freedom is <= 0. Correction should be strictly less than the reduction factor (input numel divided by output numel). (Triggered internally at C:\\cb\\pytorch_1000000000000\\work\\aten\\src\\ATen\\native\\ReduceOps.cpp:1823.)\n",
      "  input_range = torch.std(preacts, dim=0) + 0.1\n",
      "C:\\Users\\vgiov\\OneDrive\\Documents\\Master Data Science\\Thesis\\pykan\\kan\\MultKAN.py:827: UserWarning: std(): degrees of freedom is <= 0. Correction should be strictly less than the reduction factor (input numel divided by output numel). (Triggered internally at C:\\cb\\pytorch_1000000000000\\work\\aten\\src\\ATen\\native\\ReduceOps.cpp:1823.)\n",
      "  output_range_spline = torch.std(postacts_numerical, dim=0) # for training, only penalize the spline part\n",
      "C:\\Users\\vgiov\\OneDrive\\Documents\\Master Data Science\\Thesis\\pykan\\kan\\MultKAN.py:828: UserWarning: std(): degrees of freedom is <= 0. Correction should be strictly less than the reduction factor (input numel divided by output numel). (Triggered internally at C:\\cb\\pytorch_1000000000000\\work\\aten\\src\\ATen\\native\\ReduceOps.cpp:1823.)\n",
      "  output_range = torch.std(postacts, dim=0) # for visualization, include the contribution from both spline + symbolic\n",
      "C:\\Users\\vgiov\\OneDrive\\Documents\\Master Data Science\\Thesis\\pykan\\kan\\MultKAN.py:816: UserWarning: std(): degrees of freedom is <= 0. Correction should be strictly less than the reduction factor (input numel divided by output numel). (Triggered internally at C:\\cb\\pytorch_1000000000000\\work\\aten\\src\\ATen\\native\\ReduceOps.cpp:1823.)\n",
      "  self.subnode_actscale.append(torch.std(x, dim=0).detach())\n",
      "C:\\Users\\vgiov\\OneDrive\\Documents\\Master Data Science\\Thesis\\pykan\\kan\\MultKAN.py:826: UserWarning: std(): degrees of freedom is <= 0. Correction should be strictly less than the reduction factor (input numel divided by output numel). (Triggered internally at C:\\cb\\pytorch_1000000000000\\work\\aten\\src\\ATen\\native\\ReduceOps.cpp:1823.)\n",
      "  input_range = torch.std(preacts, dim=0) + 0.1\n",
      "C:\\Users\\vgiov\\OneDrive\\Documents\\Master Data Science\\Thesis\\pykan\\kan\\MultKAN.py:827: UserWarning: std(): degrees of freedom is <= 0. Correction should be strictly less than the reduction factor (input numel divided by output numel). (Triggered internally at C:\\cb\\pytorch_1000000000000\\work\\aten\\src\\ATen\\native\\ReduceOps.cpp:1823.)\n",
      "  output_range_spline = torch.std(postacts_numerical, dim=0) # for training, only penalize the spline part\n",
      "C:\\Users\\vgiov\\OneDrive\\Documents\\Master Data Science\\Thesis\\pykan\\kan\\MultKAN.py:828: UserWarning: std(): degrees of freedom is <= 0. Correction should be strictly less than the reduction factor (input numel divided by output numel). (Triggered internally at C:\\cb\\pytorch_1000000000000\\work\\aten\\src\\ATen\\native\\ReduceOps.cpp:1823.)\n",
      "  output_range = torch.std(postacts, dim=0) # for visualization, include the contribution from both spline + symbolic\n",
      "C:\\Users\\vgiov\\OneDrive\\Documents\\Master Data Science\\Thesis\\pykan\\kan\\MultKAN.py:816: UserWarning: std(): degrees of freedom is <= 0. Correction should be strictly less than the reduction factor (input numel divided by output numel). (Triggered internally at C:\\cb\\pytorch_1000000000000\\work\\aten\\src\\ATen\\native\\ReduceOps.cpp:1823.)\n",
      "  self.subnode_actscale.append(torch.std(x, dim=0).detach())\n",
      "C:\\Users\\vgiov\\OneDrive\\Documents\\Master Data Science\\Thesis\\pykan\\kan\\MultKAN.py:826: UserWarning: std(): degrees of freedom is <= 0. Correction should be strictly less than the reduction factor (input numel divided by output numel). (Triggered internally at C:\\cb\\pytorch_1000000000000\\work\\aten\\src\\ATen\\native\\ReduceOps.cpp:1823.)\n",
      "  input_range = torch.std(preacts, dim=0) + 0.1\n",
      "C:\\Users\\vgiov\\OneDrive\\Documents\\Master Data Science\\Thesis\\pykan\\kan\\MultKAN.py:827: UserWarning: std(): degrees of freedom is <= 0. Correction should be strictly less than the reduction factor (input numel divided by output numel). (Triggered internally at C:\\cb\\pytorch_1000000000000\\work\\aten\\src\\ATen\\native\\ReduceOps.cpp:1823.)\n",
      "  output_range_spline = torch.std(postacts_numerical, dim=0) # for training, only penalize the spline part\n",
      "C:\\Users\\vgiov\\OneDrive\\Documents\\Master Data Science\\Thesis\\pykan\\kan\\MultKAN.py:828: UserWarning: std(): degrees of freedom is <= 0. Correction should be strictly less than the reduction factor (input numel divided by output numel). (Triggered internally at C:\\cb\\pytorch_1000000000000\\work\\aten\\src\\ATen\\native\\ReduceOps.cpp:1823.)\n",
      "  output_range = torch.std(postacts, dim=0) # for visualization, include the contribution from both spline + symbolic\n",
      "C:\\Users\\vgiov\\OneDrive\\Documents\\Master Data Science\\Thesis\\pykan\\kan\\MultKAN.py:816: UserWarning: std(): degrees of freedom is <= 0. Correction should be strictly less than the reduction factor (input numel divided by output numel). (Triggered internally at C:\\cb\\pytorch_1000000000000\\work\\aten\\src\\ATen\\native\\ReduceOps.cpp:1823.)\n",
      "  self.subnode_actscale.append(torch.std(x, dim=0).detach())\n",
      "C:\\Users\\vgiov\\OneDrive\\Documents\\Master Data Science\\Thesis\\pykan\\kan\\MultKAN.py:826: UserWarning: std(): degrees of freedom is <= 0. Correction should be strictly less than the reduction factor (input numel divided by output numel). (Triggered internally at C:\\cb\\pytorch_1000000000000\\work\\aten\\src\\ATen\\native\\ReduceOps.cpp:1823.)\n",
      "  input_range = torch.std(preacts, dim=0) + 0.1\n",
      "C:\\Users\\vgiov\\OneDrive\\Documents\\Master Data Science\\Thesis\\pykan\\kan\\MultKAN.py:827: UserWarning: std(): degrees of freedom is <= 0. Correction should be strictly less than the reduction factor (input numel divided by output numel). (Triggered internally at C:\\cb\\pytorch_1000000000000\\work\\aten\\src\\ATen\\native\\ReduceOps.cpp:1823.)\n",
      "  output_range_spline = torch.std(postacts_numerical, dim=0) # for training, only penalize the spline part\n",
      "C:\\Users\\vgiov\\OneDrive\\Documents\\Master Data Science\\Thesis\\pykan\\kan\\MultKAN.py:828: UserWarning: std(): degrees of freedom is <= 0. Correction should be strictly less than the reduction factor (input numel divided by output numel). (Triggered internally at C:\\cb\\pytorch_1000000000000\\work\\aten\\src\\ATen\\native\\ReduceOps.cpp:1823.)\n",
      "  output_range = torch.std(postacts, dim=0) # for visualization, include the contribution from both spline + symbolic\n",
      "C:\\Users\\vgiov\\OneDrive\\Documents\\Master Data Science\\Thesis\\pykan\\kan\\MultKAN.py:816: UserWarning: std(): degrees of freedom is <= 0. Correction should be strictly less than the reduction factor (input numel divided by output numel). (Triggered internally at C:\\cb\\pytorch_1000000000000\\work\\aten\\src\\ATen\\native\\ReduceOps.cpp:1823.)\n",
      "  self.subnode_actscale.append(torch.std(x, dim=0).detach())\n",
      "C:\\Users\\vgiov\\OneDrive\\Documents\\Master Data Science\\Thesis\\pykan\\kan\\MultKAN.py:826: UserWarning: std(): degrees of freedom is <= 0. Correction should be strictly less than the reduction factor (input numel divided by output numel). (Triggered internally at C:\\cb\\pytorch_1000000000000\\work\\aten\\src\\ATen\\native\\ReduceOps.cpp:1823.)\n",
      "  input_range = torch.std(preacts, dim=0) + 0.1\n",
      "C:\\Users\\vgiov\\OneDrive\\Documents\\Master Data Science\\Thesis\\pykan\\kan\\MultKAN.py:827: UserWarning: std(): degrees of freedom is <= 0. Correction should be strictly less than the reduction factor (input numel divided by output numel). (Triggered internally at C:\\cb\\pytorch_1000000000000\\work\\aten\\src\\ATen\\native\\ReduceOps.cpp:1823.)\n",
      "  output_range_spline = torch.std(postacts_numerical, dim=0) # for training, only penalize the spline part\n",
      "C:\\Users\\vgiov\\OneDrive\\Documents\\Master Data Science\\Thesis\\pykan\\kan\\MultKAN.py:828: UserWarning: std(): degrees of freedom is <= 0. Correction should be strictly less than the reduction factor (input numel divided by output numel). (Triggered internally at C:\\cb\\pytorch_1000000000000\\work\\aten\\src\\ATen\\native\\ReduceOps.cpp:1823.)\n",
      "  output_range = torch.std(postacts, dim=0) # for visualization, include the contribution from both spline + symbolic\n",
      "C:\\Users\\vgiov\\OneDrive\\Documents\\Master Data Science\\Thesis\\pykan\\kan\\MultKAN.py:816: UserWarning: std(): degrees of freedom is <= 0. Correction should be strictly less than the reduction factor (input numel divided by output numel). (Triggered internally at C:\\cb\\pytorch_1000000000000\\work\\aten\\src\\ATen\\native\\ReduceOps.cpp:1823.)\n",
      "  self.subnode_actscale.append(torch.std(x, dim=0).detach())\n",
      "C:\\Users\\vgiov\\OneDrive\\Documents\\Master Data Science\\Thesis\\pykan\\kan\\MultKAN.py:826: UserWarning: std(): degrees of freedom is <= 0. Correction should be strictly less than the reduction factor (input numel divided by output numel). (Triggered internally at C:\\cb\\pytorch_1000000000000\\work\\aten\\src\\ATen\\native\\ReduceOps.cpp:1823.)\n",
      "  input_range = torch.std(preacts, dim=0) + 0.1\n",
      "C:\\Users\\vgiov\\OneDrive\\Documents\\Master Data Science\\Thesis\\pykan\\kan\\MultKAN.py:827: UserWarning: std(): degrees of freedom is <= 0. Correction should be strictly less than the reduction factor (input numel divided by output numel). (Triggered internally at C:\\cb\\pytorch_1000000000000\\work\\aten\\src\\ATen\\native\\ReduceOps.cpp:1823.)\n",
      "  output_range_spline = torch.std(postacts_numerical, dim=0) # for training, only penalize the spline part\n",
      "C:\\Users\\vgiov\\OneDrive\\Documents\\Master Data Science\\Thesis\\pykan\\kan\\MultKAN.py:828: UserWarning: std(): degrees of freedom is <= 0. Correction should be strictly less than the reduction factor (input numel divided by output numel). (Triggered internally at C:\\cb\\pytorch_1000000000000\\work\\aten\\src\\ATen\\native\\ReduceOps.cpp:1823.)\n",
      "  output_range = torch.std(postacts, dim=0) # for visualization, include the contribution from both spline + symbolic\n",
      "C:\\Users\\vgiov\\OneDrive\\Documents\\Master Data Science\\Thesis\\pykan\\kan\\MultKAN.py:816: UserWarning: std(): degrees of freedom is <= 0. Correction should be strictly less than the reduction factor (input numel divided by output numel). (Triggered internally at C:\\cb\\pytorch_1000000000000\\work\\aten\\src\\ATen\\native\\ReduceOps.cpp:1823.)\n",
      "  self.subnode_actscale.append(torch.std(x, dim=0).detach())\n",
      "C:\\Users\\vgiov\\OneDrive\\Documents\\Master Data Science\\Thesis\\pykan\\kan\\MultKAN.py:826: UserWarning: std(): degrees of freedom is <= 0. Correction should be strictly less than the reduction factor (input numel divided by output numel). (Triggered internally at C:\\cb\\pytorch_1000000000000\\work\\aten\\src\\ATen\\native\\ReduceOps.cpp:1823.)\n",
      "  input_range = torch.std(preacts, dim=0) + 0.1\n",
      "C:\\Users\\vgiov\\OneDrive\\Documents\\Master Data Science\\Thesis\\pykan\\kan\\MultKAN.py:827: UserWarning: std(): degrees of freedom is <= 0. Correction should be strictly less than the reduction factor (input numel divided by output numel). (Triggered internally at C:\\cb\\pytorch_1000000000000\\work\\aten\\src\\ATen\\native\\ReduceOps.cpp:1823.)\n",
      "  output_range_spline = torch.std(postacts_numerical, dim=0) # for training, only penalize the spline part\n",
      "C:\\Users\\vgiov\\OneDrive\\Documents\\Master Data Science\\Thesis\\pykan\\kan\\MultKAN.py:828: UserWarning: std(): degrees of freedom is <= 0. Correction should be strictly less than the reduction factor (input numel divided by output numel). (Triggered internally at C:\\cb\\pytorch_1000000000000\\work\\aten\\src\\ATen\\native\\ReduceOps.cpp:1823.)\n",
      "  output_range = torch.std(postacts, dim=0) # for visualization, include the contribution from both spline + symbolic\n",
      "C:\\Users\\vgiov\\OneDrive\\Documents\\Master Data Science\\Thesis\\pykan\\kan\\MultKAN.py:816: UserWarning: std(): degrees of freedom is <= 0. Correction should be strictly less than the reduction factor (input numel divided by output numel). (Triggered internally at C:\\cb\\pytorch_1000000000000\\work\\aten\\src\\ATen\\native\\ReduceOps.cpp:1823.)\n",
      "  self.subnode_actscale.append(torch.std(x, dim=0).detach())\n",
      "C:\\Users\\vgiov\\OneDrive\\Documents\\Master Data Science\\Thesis\\pykan\\kan\\MultKAN.py:826: UserWarning: std(): degrees of freedom is <= 0. Correction should be strictly less than the reduction factor (input numel divided by output numel). (Triggered internally at C:\\cb\\pytorch_1000000000000\\work\\aten\\src\\ATen\\native\\ReduceOps.cpp:1823.)\n",
      "  input_range = torch.std(preacts, dim=0) + 0.1\n",
      "C:\\Users\\vgiov\\OneDrive\\Documents\\Master Data Science\\Thesis\\pykan\\kan\\MultKAN.py:827: UserWarning: std(): degrees of freedom is <= 0. Correction should be strictly less than the reduction factor (input numel divided by output numel). (Triggered internally at C:\\cb\\pytorch_1000000000000\\work\\aten\\src\\ATen\\native\\ReduceOps.cpp:1823.)\n",
      "  output_range_spline = torch.std(postacts_numerical, dim=0) # for training, only penalize the spline part\n",
      "C:\\Users\\vgiov\\OneDrive\\Documents\\Master Data Science\\Thesis\\pykan\\kan\\MultKAN.py:828: UserWarning: std(): degrees of freedom is <= 0. Correction should be strictly less than the reduction factor (input numel divided by output numel). (Triggered internally at C:\\cb\\pytorch_1000000000000\\work\\aten\\src\\ATen\\native\\ReduceOps.cpp:1823.)\n",
      "  output_range = torch.std(postacts, dim=0) # for visualization, include the contribution from both spline + symbolic\n",
      "C:\\Users\\vgiov\\OneDrive\\Documents\\Master Data Science\\Thesis\\pykan\\kan\\MultKAN.py:816: UserWarning: std(): degrees of freedom is <= 0. Correction should be strictly less than the reduction factor (input numel divided by output numel). (Triggered internally at C:\\cb\\pytorch_1000000000000\\work\\aten\\src\\ATen\\native\\ReduceOps.cpp:1823.)\n",
      "  self.subnode_actscale.append(torch.std(x, dim=0).detach())\n",
      "C:\\Users\\vgiov\\OneDrive\\Documents\\Master Data Science\\Thesis\\pykan\\kan\\MultKAN.py:826: UserWarning: std(): degrees of freedom is <= 0. Correction should be strictly less than the reduction factor (input numel divided by output numel). (Triggered internally at C:\\cb\\pytorch_1000000000000\\work\\aten\\src\\ATen\\native\\ReduceOps.cpp:1823.)\n",
      "  input_range = torch.std(preacts, dim=0) + 0.1\n",
      "C:\\Users\\vgiov\\OneDrive\\Documents\\Master Data Science\\Thesis\\pykan\\kan\\MultKAN.py:827: UserWarning: std(): degrees of freedom is <= 0. Correction should be strictly less than the reduction factor (input numel divided by output numel). (Triggered internally at C:\\cb\\pytorch_1000000000000\\work\\aten\\src\\ATen\\native\\ReduceOps.cpp:1823.)\n",
      "  output_range_spline = torch.std(postacts_numerical, dim=0) # for training, only penalize the spline part\n",
      "C:\\Users\\vgiov\\OneDrive\\Documents\\Master Data Science\\Thesis\\pykan\\kan\\MultKAN.py:828: UserWarning: std(): degrees of freedom is <= 0. Correction should be strictly less than the reduction factor (input numel divided by output numel). (Triggered internally at C:\\cb\\pytorch_1000000000000\\work\\aten\\src\\ATen\\native\\ReduceOps.cpp:1823.)\n",
      "  output_range = torch.std(postacts, dim=0) # for visualization, include the contribution from both spline + symbolic\n",
      "C:\\Users\\vgiov\\OneDrive\\Documents\\Master Data Science\\Thesis\\pykan\\kan\\MultKAN.py:816: UserWarning: std(): degrees of freedom is <= 0. Correction should be strictly less than the reduction factor (input numel divided by output numel). (Triggered internally at C:\\cb\\pytorch_1000000000000\\work\\aten\\src\\ATen\\native\\ReduceOps.cpp:1823.)\n",
      "  self.subnode_actscale.append(torch.std(x, dim=0).detach())\n",
      "C:\\Users\\vgiov\\OneDrive\\Documents\\Master Data Science\\Thesis\\pykan\\kan\\MultKAN.py:826: UserWarning: std(): degrees of freedom is <= 0. Correction should be strictly less than the reduction factor (input numel divided by output numel). (Triggered internally at C:\\cb\\pytorch_1000000000000\\work\\aten\\src\\ATen\\native\\ReduceOps.cpp:1823.)\n",
      "  input_range = torch.std(preacts, dim=0) + 0.1\n",
      "C:\\Users\\vgiov\\OneDrive\\Documents\\Master Data Science\\Thesis\\pykan\\kan\\MultKAN.py:827: UserWarning: std(): degrees of freedom is <= 0. Correction should be strictly less than the reduction factor (input numel divided by output numel). (Triggered internally at C:\\cb\\pytorch_1000000000000\\work\\aten\\src\\ATen\\native\\ReduceOps.cpp:1823.)\n",
      "  output_range_spline = torch.std(postacts_numerical, dim=0) # for training, only penalize the spline part\n",
      "C:\\Users\\vgiov\\OneDrive\\Documents\\Master Data Science\\Thesis\\pykan\\kan\\MultKAN.py:828: UserWarning: std(): degrees of freedom is <= 0. Correction should be strictly less than the reduction factor (input numel divided by output numel). (Triggered internally at C:\\cb\\pytorch_1000000000000\\work\\aten\\src\\ATen\\native\\ReduceOps.cpp:1823.)\n",
      "  output_range = torch.std(postacts, dim=0) # for visualization, include the contribution from both spline + symbolic\n",
      "C:\\Users\\vgiov\\OneDrive\\Documents\\Master Data Science\\Thesis\\pykan\\kan\\MultKAN.py:816: UserWarning: std(): degrees of freedom is <= 0. Correction should be strictly less than the reduction factor (input numel divided by output numel). (Triggered internally at C:\\cb\\pytorch_1000000000000\\work\\aten\\src\\ATen\\native\\ReduceOps.cpp:1823.)\n",
      "  self.subnode_actscale.append(torch.std(x, dim=0).detach())\n",
      "C:\\Users\\vgiov\\OneDrive\\Documents\\Master Data Science\\Thesis\\pykan\\kan\\MultKAN.py:826: UserWarning: std(): degrees of freedom is <= 0. Correction should be strictly less than the reduction factor (input numel divided by output numel). (Triggered internally at C:\\cb\\pytorch_1000000000000\\work\\aten\\src\\ATen\\native\\ReduceOps.cpp:1823.)\n",
      "  input_range = torch.std(preacts, dim=0) + 0.1\n",
      "C:\\Users\\vgiov\\OneDrive\\Documents\\Master Data Science\\Thesis\\pykan\\kan\\MultKAN.py:827: UserWarning: std(): degrees of freedom is <= 0. Correction should be strictly less than the reduction factor (input numel divided by output numel). (Triggered internally at C:\\cb\\pytorch_1000000000000\\work\\aten\\src\\ATen\\native\\ReduceOps.cpp:1823.)\n",
      "  output_range_spline = torch.std(postacts_numerical, dim=0) # for training, only penalize the spline part\n",
      "C:\\Users\\vgiov\\OneDrive\\Documents\\Master Data Science\\Thesis\\pykan\\kan\\MultKAN.py:828: UserWarning: std(): degrees of freedom is <= 0. Correction should be strictly less than the reduction factor (input numel divided by output numel). (Triggered internally at C:\\cb\\pytorch_1000000000000\\work\\aten\\src\\ATen\\native\\ReduceOps.cpp:1823.)\n",
      "  output_range = torch.std(postacts, dim=0) # for visualization, include the contribution from both spline + symbolic\n",
      "C:\\Users\\vgiov\\OneDrive\\Documents\\Master Data Science\\Thesis\\pykan\\kan\\MultKAN.py:816: UserWarning: std(): degrees of freedom is <= 0. Correction should be strictly less than the reduction factor (input numel divided by output numel). (Triggered internally at C:\\cb\\pytorch_1000000000000\\work\\aten\\src\\ATen\\native\\ReduceOps.cpp:1823.)\n",
      "  self.subnode_actscale.append(torch.std(x, dim=0).detach())\n",
      "C:\\Users\\vgiov\\OneDrive\\Documents\\Master Data Science\\Thesis\\pykan\\kan\\MultKAN.py:826: UserWarning: std(): degrees of freedom is <= 0. Correction should be strictly less than the reduction factor (input numel divided by output numel). (Triggered internally at C:\\cb\\pytorch_1000000000000\\work\\aten\\src\\ATen\\native\\ReduceOps.cpp:1823.)\n",
      "  input_range = torch.std(preacts, dim=0) + 0.1\n",
      "C:\\Users\\vgiov\\OneDrive\\Documents\\Master Data Science\\Thesis\\pykan\\kan\\MultKAN.py:827: UserWarning: std(): degrees of freedom is <= 0. Correction should be strictly less than the reduction factor (input numel divided by output numel). (Triggered internally at C:\\cb\\pytorch_1000000000000\\work\\aten\\src\\ATen\\native\\ReduceOps.cpp:1823.)\n",
      "  output_range_spline = torch.std(postacts_numerical, dim=0) # for training, only penalize the spline part\n",
      "C:\\Users\\vgiov\\OneDrive\\Documents\\Master Data Science\\Thesis\\pykan\\kan\\MultKAN.py:828: UserWarning: std(): degrees of freedom is <= 0. Correction should be strictly less than the reduction factor (input numel divided by output numel). (Triggered internally at C:\\cb\\pytorch_1000000000000\\work\\aten\\src\\ATen\\native\\ReduceOps.cpp:1823.)\n",
      "  output_range = torch.std(postacts, dim=0) # for visualization, include the contribution from both spline + symbolic\n",
      "C:\\Users\\vgiov\\OneDrive\\Documents\\Master Data Science\\Thesis\\pykan\\kan\\MultKAN.py:816: UserWarning: std(): degrees of freedom is <= 0. Correction should be strictly less than the reduction factor (input numel divided by output numel). (Triggered internally at C:\\cb\\pytorch_1000000000000\\work\\aten\\src\\ATen\\native\\ReduceOps.cpp:1823.)\n",
      "  self.subnode_actscale.append(torch.std(x, dim=0).detach())\n",
      "C:\\Users\\vgiov\\OneDrive\\Documents\\Master Data Science\\Thesis\\pykan\\kan\\MultKAN.py:826: UserWarning: std(): degrees of freedom is <= 0. Correction should be strictly less than the reduction factor (input numel divided by output numel). (Triggered internally at C:\\cb\\pytorch_1000000000000\\work\\aten\\src\\ATen\\native\\ReduceOps.cpp:1823.)\n",
      "  input_range = torch.std(preacts, dim=0) + 0.1\n",
      "C:\\Users\\vgiov\\OneDrive\\Documents\\Master Data Science\\Thesis\\pykan\\kan\\MultKAN.py:827: UserWarning: std(): degrees of freedom is <= 0. Correction should be strictly less than the reduction factor (input numel divided by output numel). (Triggered internally at C:\\cb\\pytorch_1000000000000\\work\\aten\\src\\ATen\\native\\ReduceOps.cpp:1823.)\n",
      "  output_range_spline = torch.std(postacts_numerical, dim=0) # for training, only penalize the spline part\n",
      "C:\\Users\\vgiov\\OneDrive\\Documents\\Master Data Science\\Thesis\\pykan\\kan\\MultKAN.py:828: UserWarning: std(): degrees of freedom is <= 0. Correction should be strictly less than the reduction factor (input numel divided by output numel). (Triggered internally at C:\\cb\\pytorch_1000000000000\\work\\aten\\src\\ATen\\native\\ReduceOps.cpp:1823.)\n",
      "  output_range = torch.std(postacts, dim=0) # for visualization, include the contribution from both spline + symbolic\n",
      "C:\\Users\\vgiov\\OneDrive\\Documents\\Master Data Science\\Thesis\\pykan\\kan\\MultKAN.py:816: UserWarning: std(): degrees of freedom is <= 0. Correction should be strictly less than the reduction factor (input numel divided by output numel). (Triggered internally at C:\\cb\\pytorch_1000000000000\\work\\aten\\src\\ATen\\native\\ReduceOps.cpp:1823.)\n",
      "  self.subnode_actscale.append(torch.std(x, dim=0).detach())\n",
      "C:\\Users\\vgiov\\OneDrive\\Documents\\Master Data Science\\Thesis\\pykan\\kan\\MultKAN.py:826: UserWarning: std(): degrees of freedom is <= 0. Correction should be strictly less than the reduction factor (input numel divided by output numel). (Triggered internally at C:\\cb\\pytorch_1000000000000\\work\\aten\\src\\ATen\\native\\ReduceOps.cpp:1823.)\n",
      "  input_range = torch.std(preacts, dim=0) + 0.1\n",
      "C:\\Users\\vgiov\\OneDrive\\Documents\\Master Data Science\\Thesis\\pykan\\kan\\MultKAN.py:827: UserWarning: std(): degrees of freedom is <= 0. Correction should be strictly less than the reduction factor (input numel divided by output numel). (Triggered internally at C:\\cb\\pytorch_1000000000000\\work\\aten\\src\\ATen\\native\\ReduceOps.cpp:1823.)\n",
      "  output_range_spline = torch.std(postacts_numerical, dim=0) # for training, only penalize the spline part\n",
      "C:\\Users\\vgiov\\OneDrive\\Documents\\Master Data Science\\Thesis\\pykan\\kan\\MultKAN.py:828: UserWarning: std(): degrees of freedom is <= 0. Correction should be strictly less than the reduction factor (input numel divided by output numel). (Triggered internally at C:\\cb\\pytorch_1000000000000\\work\\aten\\src\\ATen\\native\\ReduceOps.cpp:1823.)\n",
      "  output_range = torch.std(postacts, dim=0) # for visualization, include the contribution from both spline + symbolic\n",
      "C:\\Users\\vgiov\\OneDrive\\Documents\\Master Data Science\\Thesis\\pykan\\kan\\MultKAN.py:816: UserWarning: std(): degrees of freedom is <= 0. Correction should be strictly less than the reduction factor (input numel divided by output numel). (Triggered internally at C:\\cb\\pytorch_1000000000000\\work\\aten\\src\\ATen\\native\\ReduceOps.cpp:1823.)\n",
      "  self.subnode_actscale.append(torch.std(x, dim=0).detach())\n",
      "C:\\Users\\vgiov\\OneDrive\\Documents\\Master Data Science\\Thesis\\pykan\\kan\\MultKAN.py:826: UserWarning: std(): degrees of freedom is <= 0. Correction should be strictly less than the reduction factor (input numel divided by output numel). (Triggered internally at C:\\cb\\pytorch_1000000000000\\work\\aten\\src\\ATen\\native\\ReduceOps.cpp:1823.)\n",
      "  input_range = torch.std(preacts, dim=0) + 0.1\n",
      "C:\\Users\\vgiov\\OneDrive\\Documents\\Master Data Science\\Thesis\\pykan\\kan\\MultKAN.py:827: UserWarning: std(): degrees of freedom is <= 0. Correction should be strictly less than the reduction factor (input numel divided by output numel). (Triggered internally at C:\\cb\\pytorch_1000000000000\\work\\aten\\src\\ATen\\native\\ReduceOps.cpp:1823.)\n",
      "  output_range_spline = torch.std(postacts_numerical, dim=0) # for training, only penalize the spline part\n",
      "C:\\Users\\vgiov\\OneDrive\\Documents\\Master Data Science\\Thesis\\pykan\\kan\\MultKAN.py:828: UserWarning: std(): degrees of freedom is <= 0. Correction should be strictly less than the reduction factor (input numel divided by output numel). (Triggered internally at C:\\cb\\pytorch_1000000000000\\work\\aten\\src\\ATen\\native\\ReduceOps.cpp:1823.)\n",
      "  output_range = torch.std(postacts, dim=0) # for visualization, include the contribution from both spline + symbolic\n",
      "C:\\Users\\vgiov\\OneDrive\\Documents\\Master Data Science\\Thesis\\pykan\\kan\\MultKAN.py:816: UserWarning: std(): degrees of freedom is <= 0. Correction should be strictly less than the reduction factor (input numel divided by output numel). (Triggered internally at C:\\cb\\pytorch_1000000000000\\work\\aten\\src\\ATen\\native\\ReduceOps.cpp:1823.)\n",
      "  self.subnode_actscale.append(torch.std(x, dim=0).detach())\n",
      "C:\\Users\\vgiov\\OneDrive\\Documents\\Master Data Science\\Thesis\\pykan\\kan\\MultKAN.py:826: UserWarning: std(): degrees of freedom is <= 0. Correction should be strictly less than the reduction factor (input numel divided by output numel). (Triggered internally at C:\\cb\\pytorch_1000000000000\\work\\aten\\src\\ATen\\native\\ReduceOps.cpp:1823.)\n",
      "  input_range = torch.std(preacts, dim=0) + 0.1\n",
      "C:\\Users\\vgiov\\OneDrive\\Documents\\Master Data Science\\Thesis\\pykan\\kan\\MultKAN.py:827: UserWarning: std(): degrees of freedom is <= 0. Correction should be strictly less than the reduction factor (input numel divided by output numel). (Triggered internally at C:\\cb\\pytorch_1000000000000\\work\\aten\\src\\ATen\\native\\ReduceOps.cpp:1823.)\n",
      "  output_range_spline = torch.std(postacts_numerical, dim=0) # for training, only penalize the spline part\n",
      "C:\\Users\\vgiov\\OneDrive\\Documents\\Master Data Science\\Thesis\\pykan\\kan\\MultKAN.py:828: UserWarning: std(): degrees of freedom is <= 0. Correction should be strictly less than the reduction factor (input numel divided by output numel). (Triggered internally at C:\\cb\\pytorch_1000000000000\\work\\aten\\src\\ATen\\native\\ReduceOps.cpp:1823.)\n",
      "  output_range = torch.std(postacts, dim=0) # for visualization, include the contribution from both spline + symbolic\n",
      "C:\\Users\\vgiov\\OneDrive\\Documents\\Master Data Science\\Thesis\\pykan\\kan\\MultKAN.py:816: UserWarning: std(): degrees of freedom is <= 0. Correction should be strictly less than the reduction factor (input numel divided by output numel). (Triggered internally at C:\\cb\\pytorch_1000000000000\\work\\aten\\src\\ATen\\native\\ReduceOps.cpp:1823.)\n",
      "  self.subnode_actscale.append(torch.std(x, dim=0).detach())\n",
      "C:\\Users\\vgiov\\OneDrive\\Documents\\Master Data Science\\Thesis\\pykan\\kan\\MultKAN.py:826: UserWarning: std(): degrees of freedom is <= 0. Correction should be strictly less than the reduction factor (input numel divided by output numel). (Triggered internally at C:\\cb\\pytorch_1000000000000\\work\\aten\\src\\ATen\\native\\ReduceOps.cpp:1823.)\n",
      "  input_range = torch.std(preacts, dim=0) + 0.1\n",
      "C:\\Users\\vgiov\\OneDrive\\Documents\\Master Data Science\\Thesis\\pykan\\kan\\MultKAN.py:827: UserWarning: std(): degrees of freedom is <= 0. Correction should be strictly less than the reduction factor (input numel divided by output numel). (Triggered internally at C:\\cb\\pytorch_1000000000000\\work\\aten\\src\\ATen\\native\\ReduceOps.cpp:1823.)\n",
      "  output_range_spline = torch.std(postacts_numerical, dim=0) # for training, only penalize the spline part\n",
      "C:\\Users\\vgiov\\OneDrive\\Documents\\Master Data Science\\Thesis\\pykan\\kan\\MultKAN.py:828: UserWarning: std(): degrees of freedom is <= 0. Correction should be strictly less than the reduction factor (input numel divided by output numel). (Triggered internally at C:\\cb\\pytorch_1000000000000\\work\\aten\\src\\ATen\\native\\ReduceOps.cpp:1823.)\n",
      "  output_range = torch.std(postacts, dim=0) # for visualization, include the contribution from both spline + symbolic\n",
      "C:\\Users\\vgiov\\OneDrive\\Documents\\Master Data Science\\Thesis\\pykan\\kan\\MultKAN.py:816: UserWarning: std(): degrees of freedom is <= 0. Correction should be strictly less than the reduction factor (input numel divided by output numel). (Triggered internally at C:\\cb\\pytorch_1000000000000\\work\\aten\\src\\ATen\\native\\ReduceOps.cpp:1823.)\n",
      "  self.subnode_actscale.append(torch.std(x, dim=0).detach())\n",
      "C:\\Users\\vgiov\\OneDrive\\Documents\\Master Data Science\\Thesis\\pykan\\kan\\MultKAN.py:826: UserWarning: std(): degrees of freedom is <= 0. Correction should be strictly less than the reduction factor (input numel divided by output numel). (Triggered internally at C:\\cb\\pytorch_1000000000000\\work\\aten\\src\\ATen\\native\\ReduceOps.cpp:1823.)\n",
      "  input_range = torch.std(preacts, dim=0) + 0.1\n",
      "C:\\Users\\vgiov\\OneDrive\\Documents\\Master Data Science\\Thesis\\pykan\\kan\\MultKAN.py:827: UserWarning: std(): degrees of freedom is <= 0. Correction should be strictly less than the reduction factor (input numel divided by output numel). (Triggered internally at C:\\cb\\pytorch_1000000000000\\work\\aten\\src\\ATen\\native\\ReduceOps.cpp:1823.)\n",
      "  output_range_spline = torch.std(postacts_numerical, dim=0) # for training, only penalize the spline part\n",
      "C:\\Users\\vgiov\\OneDrive\\Documents\\Master Data Science\\Thesis\\pykan\\kan\\MultKAN.py:828: UserWarning: std(): degrees of freedom is <= 0. Correction should be strictly less than the reduction factor (input numel divided by output numel). (Triggered internally at C:\\cb\\pytorch_1000000000000\\work\\aten\\src\\ATen\\native\\ReduceOps.cpp:1823.)\n",
      "  output_range = torch.std(postacts, dim=0) # for visualization, include the contribution from both spline + symbolic\n",
      "C:\\Users\\vgiov\\OneDrive\\Documents\\Master Data Science\\Thesis\\pykan\\kan\\MultKAN.py:816: UserWarning: std(): degrees of freedom is <= 0. Correction should be strictly less than the reduction factor (input numel divided by output numel). (Triggered internally at C:\\cb\\pytorch_1000000000000\\work\\aten\\src\\ATen\\native\\ReduceOps.cpp:1823.)\n",
      "  self.subnode_actscale.append(torch.std(x, dim=0).detach())\n",
      "C:\\Users\\vgiov\\OneDrive\\Documents\\Master Data Science\\Thesis\\pykan\\kan\\MultKAN.py:826: UserWarning: std(): degrees of freedom is <= 0. Correction should be strictly less than the reduction factor (input numel divided by output numel). (Triggered internally at C:\\cb\\pytorch_1000000000000\\work\\aten\\src\\ATen\\native\\ReduceOps.cpp:1823.)\n",
      "  input_range = torch.std(preacts, dim=0) + 0.1\n",
      "C:\\Users\\vgiov\\OneDrive\\Documents\\Master Data Science\\Thesis\\pykan\\kan\\MultKAN.py:827: UserWarning: std(): degrees of freedom is <= 0. Correction should be strictly less than the reduction factor (input numel divided by output numel). (Triggered internally at C:\\cb\\pytorch_1000000000000\\work\\aten\\src\\ATen\\native\\ReduceOps.cpp:1823.)\n",
      "  output_range_spline = torch.std(postacts_numerical, dim=0) # for training, only penalize the spline part\n",
      "C:\\Users\\vgiov\\OneDrive\\Documents\\Master Data Science\\Thesis\\pykan\\kan\\MultKAN.py:828: UserWarning: std(): degrees of freedom is <= 0. Correction should be strictly less than the reduction factor (input numel divided by output numel). (Triggered internally at C:\\cb\\pytorch_1000000000000\\work\\aten\\src\\ATen\\native\\ReduceOps.cpp:1823.)\n",
      "  output_range = torch.std(postacts, dim=0) # for visualization, include the contribution from both spline + symbolic\n",
      "C:\\Users\\vgiov\\OneDrive\\Documents\\Master Data Science\\Thesis\\pykan\\kan\\MultKAN.py:816: UserWarning: std(): degrees of freedom is <= 0. Correction should be strictly less than the reduction factor (input numel divided by output numel). (Triggered internally at C:\\cb\\pytorch_1000000000000\\work\\aten\\src\\ATen\\native\\ReduceOps.cpp:1823.)\n",
      "  self.subnode_actscale.append(torch.std(x, dim=0).detach())\n",
      "C:\\Users\\vgiov\\OneDrive\\Documents\\Master Data Science\\Thesis\\pykan\\kan\\MultKAN.py:826: UserWarning: std(): degrees of freedom is <= 0. Correction should be strictly less than the reduction factor (input numel divided by output numel). (Triggered internally at C:\\cb\\pytorch_1000000000000\\work\\aten\\src\\ATen\\native\\ReduceOps.cpp:1823.)\n",
      "  input_range = torch.std(preacts, dim=0) + 0.1\n",
      "C:\\Users\\vgiov\\OneDrive\\Documents\\Master Data Science\\Thesis\\pykan\\kan\\MultKAN.py:827: UserWarning: std(): degrees of freedom is <= 0. Correction should be strictly less than the reduction factor (input numel divided by output numel). (Triggered internally at C:\\cb\\pytorch_1000000000000\\work\\aten\\src\\ATen\\native\\ReduceOps.cpp:1823.)\n",
      "  output_range_spline = torch.std(postacts_numerical, dim=0) # for training, only penalize the spline part\n",
      "C:\\Users\\vgiov\\OneDrive\\Documents\\Master Data Science\\Thesis\\pykan\\kan\\MultKAN.py:828: UserWarning: std(): degrees of freedom is <= 0. Correction should be strictly less than the reduction factor (input numel divided by output numel). (Triggered internally at C:\\cb\\pytorch_1000000000000\\work\\aten\\src\\ATen\\native\\ReduceOps.cpp:1823.)\n",
      "  output_range = torch.std(postacts, dim=0) # for visualization, include the contribution from both spline + symbolic\n"
     ]
    },
    {
     "name": "stdout",
     "output_type": "stream",
     "text": [
      "\n",
      "Training completed in 147.46 seconds\n",
      "Best model found at epoch 20/20\n",
      "Best Train Loss: 3443.3436, Best Val Loss: 5385.0949\n",
      "Best Train MSE: 3421.0996, Best Val MSE: 5391.4058\n",
      "Best Train RMSE: 58.4902, Best Val RMSE: 73.4262\n",
      "Best model saved to models/Regression/diabetes/ViT+MLP/diabetes_Model1/best_model.pth\n"
     ]
    }
   ],
   "source": [
    "dataset_name = 'diabetes'\n",
    "name = f\"TINTO\"\n",
    "\n",
    "metrics = compile_and_fit(model, train_loader, val_loader, test_loader, dataset_name, f\"{dataset_name}_Model1\", batch_size=32, epochs=20, min_lr=1e-4, max_lr=4e-3 , device='cuda', weight_decay=1e-2)"
   ]
  },
  {
   "cell_type": "code",
   "execution_count": 13,
   "id": "af7970d1-0dfe-47e8-a4ff-a7d5d5fc1928",
   "metadata": {},
   "outputs": [
    {
     "data": {
      "text/plain": [
       "{'train_loss': 3489.8146335767665,\n",
       " 'train_mse': 3417.0706,\n",
       " 'train_mae': 49.05868,\n",
       " 'train_rmse': 58.455715,\n",
       " 'train_r2': 0.38317155838012695,\n",
       " 'val_loss': 5385.094889322917,\n",
       " 'val_mse': 5391.406,\n",
       " 'val_mae': 60.12478,\n",
       " 'val_rmse': 73.42619,\n",
       " 'val_r2': 0.31840431690216064,\n",
       " 'test_loss': 4789.875813802083,\n",
       " 'test_mse': 4823.1333,\n",
       " 'test_mae': 57.388412,\n",
       " 'test_rmse': 69.448784,\n",
       " 'test_r2': 0.2108554244041443,\n",
       " 'min_lr': 0.0001,\n",
       " 'max_lr': 0.004,\n",
       " 'total_time': 147.46303033828735,\n",
       " 'average_epoch_time': 7.373151516914367}"
      ]
     },
     "execution_count": 13,
     "metadata": {},
     "output_type": "execute_result"
    }
   ],
   "source": [
    "metrics"
   ]
  },
  {
   "cell_type": "markdown",
   "id": "b388a782-5e5e-4dc9-8b63-f729f4135fda",
   "metadata": {},
   "source": [
    "# 5. Plot Kan internal branch of the model"
   ]
  },
  {
   "cell_type": "code",
   "execution_count": 15,
   "id": "a0a82b00-dd99-4825-a55b-f524882326e3",
   "metadata": {},
   "outputs": [
    {
     "data": {
      "image/png": "[encoded data removed]",
      "text/plain": [
       "<Figure size 500x600 with 92 Axes>"
      ]
     },
     "metadata": {},
     "output_type": "display_data"
    }
   ],
   "source": [
    "model.plot()"
   ]
  },
  {
   "cell_type": "code",
   "execution_count": 16,
   "id": "9b374439-a0f9-440c-bb93-4bc4d6821745",
   "metadata": {},
   "outputs": [
    {
     "data": {
      "text/plain": [
       "tensor([0.1933, 0.2490, 0.4259, 0.2772, 0.1735, 0.1975, 0.0863, 0.1607, 0.3077,\n",
       "        0.2245], device='cuda:0', grad_fn=<MeanBackward1>)"
      ]
     },
     "execution_count": 16,
     "metadata": {},
     "output_type": "execute_result"
    }
   ],
   "source": [
    "model.feature_score"
   ]
  }
 ],
 "metadata": {
  "kernelspec": {
   "display_name": "Python 3 (ipykernel)",
   "language": "python",
   "name": "python3"
  },
  "language_info": {
   "codemirror_mode": {
    "name": "ipython",
    "version": 3
   },
   "file_extension": ".py",
   "mimetype": "text/x-python",
   "name": "python",
   "nbconvert_exporter": "python",
   "pygments_lexer": "ipython3",
   "version": "3.12.7"
  }
 },
 "nbformat": 4,
 "nbformat_minor": 5
}
