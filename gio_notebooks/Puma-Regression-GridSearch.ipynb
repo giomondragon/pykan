{
 "cells": [
  {
   "cell_type": "code",
   "execution_count": 2,
   "id": "8d5668d4-717f-4e0a-a900-f1b70dc8ba0f",
   "metadata": {},
   "outputs": [],
   "source": [
    "import sys\n",
    "import os\n",
    "\n",
    "# Get the root directory\n",
    "root_dir = os.path.abspath(os.path.join(os.getcwd(), '..'))\n",
    "\n",
    "# Add the root directory to the Python path\n",
    "sys.path.append(root_dir)"
   ]
  },
  {
   "cell_type": "code",
   "execution_count": 3,
   "id": "4dace8b6-da36-4ed7-94f9-e7bfde57e588",
   "metadata": {},
   "outputs": [
    {
     "name": "stdout",
     "output_type": "stream",
     "text": [
      "cuda\n"
     ]
    }
   ],
   "source": [
    "from tqdm import tqdm\n",
    "from torch.utils.data import DataLoader, TensorDataset\n",
    "from torch.optim.lr_scheduler import OneCycleLR\n",
    "from sklearn.model_selection import train_test_split\n",
    "from sklearn.preprocessing import MinMaxScaler, StandardScaler\n",
    "from sklearn.datasets import load_diabetes\n",
    "from sklearn.model_selection import train_test_split\n",
    "from sklearn.preprocessing import StandardScaler\n",
    "from sklearn.metrics import mean_squared_error, mean_absolute_error, r2_score\n",
    "from TINTOlib.igtd import IGTD\n",
    "from kan import *\n",
    "from tqdm import tqdm\n",
    "\n",
    "\n",
    "import traceback\n",
    "import time\n",
    "import gc\n",
    "import copy\n",
    "import traceback\n",
    "import torch.nn as nn\n",
    "import cv2\n",
    "import math\n",
    "import matplotlib.pyplot as plt\n",
    "import pandas as pd\n",
    "import numpy as np\n",
    "import random\n",
    "import torch\n",
    "import torch.nn as nn\n",
    "import torch.optim as optim\n",
    "#from torch.optim import LBFGS\n",
    "\n",
    "\n",
    "if torch.cuda.is_available():\n",
    "  device = torch.device(\"cuda\")\n",
    "else:\n",
    "  device = torch.device(\"cpu\")\n",
    "\n",
    "print(device)"
   ]
  },
  {
   "cell_type": "code",
   "execution_count": 4,
   "id": "787a631d-2f1e-4b05-845e-bb878447f357",
   "metadata": {},
   "outputs": [],
   "source": [
    "SEED = 381\n",
    "# SET RANDOM SEED FOR REPRODUCIBILITY\n",
    "torch.manual_seed(SEED)\n",
    "random.seed(SEED)\n",
    "np.random.seed(SEED)"
   ]
  },
  {
   "cell_type": "markdown",
   "id": "7b71d2a5-d2ad-4b72-9869-8fdae3a98141",
   "metadata": {},
   "source": [
    "# BEST 3.23"
   ]
  },
  {
   "cell_type": "code",
   "execution_count": 5,
   "id": "1580c162-4015-4cda-8492-b51350055b36",
   "metadata": {},
   "outputs": [],
   "source": [
    "folder=\"data/puma8NH\"\n",
    "x_col=[\"theta1\", \"theta2\", \"theta3\", \"thetad1\", \"thetad2\", \"thetad3\", \"tau1\",\"tau2\"]\n",
    "target_col=[\"target\"]"
   ]
  },
  {
   "cell_type": "markdown",
   "id": "a95b4aeb",
   "metadata": {},
   "source": [
    "# Functions"
   ]
  },
  {
   "cell_type": "markdown",
   "id": "1e61699b",
   "metadata": {
    "jp-MarkdownHeadingCollapsed": true
   },
   "source": [
    "### Load Dataset and Images"
   ]
  },
  {
   "cell_type": "code",
   "execution_count": 6,
   "id": "fb5e9231",
   "metadata": {},
   "outputs": [],
   "source": [
    "def load_and_clean(npy_filename, y_filename, x_col, target_col):\n",
    "    \"\"\"\n",
    "    Load the feature array (npy_filename) and label array (y_filename),\n",
    "    drop rows in the feature array that contain any NaNs, and apply\n",
    "    the same mask to the label array.\n",
    "    \"\"\"\n",
    "    # Load numpy arrays\n",
    "    X = np.load(os.path.join(folder, npy_filename))\n",
    "    y = np.load(os.path.join(folder, y_filename))\n",
    "    \n",
    "    # Ensure the number of rows matches between X and y\n",
    "    if X.shape[0] != y.shape[0]:\n",
    "        raise ValueError(\"The number of rows in {} and {} do not match.\".format(npy_filename, y_filename))\n",
    "    \n",
    "    # Create a boolean mask for rows that do NOT have any NaN values in X\n",
    "    valid_rows = ~np.isnan(X).any(axis=1)\n",
    "    #print(valid_rows)\n",
    "    # Filter both arrays using the valid_rows mask\n",
    "    X_clean = X[valid_rows]\n",
    "    y_clean = y[valid_rows]\n",
    "    \n",
    "    # Convert arrays to DataFrames\n",
    "    df_X = pd.DataFrame(X_clean)\n",
    "    df_y = pd.DataFrame(y_clean)\n",
    "    df_X.columns = x_col\n",
    "    df_y.columns = target_col\n",
    "\n",
    "    return df_X, df_y"
   ]
  },
  {
   "cell_type": "code",
   "execution_count": 7,
   "id": "b6027ad4",
   "metadata": {},
   "outputs": [],
   "source": [
    "def load_and_preprocess_data(X_train, y_train, X_test, y_test, X_val, y_val, image_model, problem_type, batch_size=32):\n",
    "    # Add target column to input for IGTD\n",
    "    X_train_full = X_train.copy()\n",
    "    X_train_full[\"target\"] = y_train.values\n",
    "\n",
    "    X_val_full = X_val.copy()\n",
    "    X_val_full[\"target\"] = y_val.values\n",
    "\n",
    "    X_test_full = X_test.copy()\n",
    "    X_test_full[\"target\"] = y_test.values\n",
    "\n",
    "    # Generate the images if the folder does not exist\n",
    "    if not os.path.exists(f'{images_folder}/train'):\n",
    "        image_model.fit_transform(X_train_full, f'{images_folder}/train')\n",
    "        image_model.saveHyperparameters(f'{images_folder}/model.pkl')\n",
    "    else:\n",
    "        print(\"The images are already generated\")\n",
    "\n",
    "    # Load image paths\n",
    "    imgs_train = pd.read_csv(os.path.join(f'{images_folder}/train', f'{problem_type}.csv'))\n",
    "    imgs_train[\"images\"] = images_folder + \"/train/\" + imgs_train[\"images\"]\n",
    "\n",
    "    if not os.path.exists(f'{images_folder}/val'):\n",
    "        image_model.transform(X_val_full, f'{images_folder}/val')\n",
    "    else:\n",
    "        print(\"The images are already generated\")\n",
    "\n",
    "    imgs_val = pd.read_csv(os.path.join(f'{images_folder}/val', f'{problem_type}.csv'))\n",
    "    imgs_val[\"images\"] = images_folder + \"/val/\" + imgs_val[\"images\"]\n",
    "\n",
    "    if not os.path.exists(f'{images_folder}/test'):\n",
    "        image_model.transform(X_test_full, f'{images_folder}/test')\n",
    "    else:\n",
    "        print(\"The images are already generated\")\n",
    "\n",
    "    imgs_test = pd.read_csv(os.path.join(f'{images_folder}/test', f'{problem_type}.csv'))\n",
    "    imgs_test[\"images\"] = images_folder + \"/test/\" + imgs_test[\"images\"]\n",
    "\n",
    "    # Image data\n",
    "    X_train_img = np.array([cv2.imread(img) for img in imgs_train[\"images\"]])\n",
    "    X_val_img = np.array([cv2.imread(img) for img in imgs_val[\"images\"]])\n",
    "    X_test_img = np.array([cv2.imread(img) for img in imgs_test[\"images\"]])\n",
    "\n",
    "    # Create a MinMaxScaler object\n",
    "    scaler = MinMaxScaler()\n",
    "\n",
    "    # Scale numerical data\n",
    "    X_train_num = pd.DataFrame(scaler.fit_transform(X_train), columns=X_train.columns)\n",
    "    X_val_num = pd.DataFrame(scaler.transform(X_val), columns=X_val.columns)\n",
    "    X_test_num = pd.DataFrame(scaler.transform(X_test), columns=X_test.columns)\n",
    "\n",
    "    attributes = len(X_train_num.columns)\n",
    "    height, width, channels = X_train_img[0].shape\n",
    "    imgs_shape = (channels, height, width)\n",
    "\n",
    "    print(\"Images shape: \", imgs_shape)\n",
    "    print(\"Attributes: \", attributes)\n",
    "\n",
    "    # Convert data to PyTorch tensors\n",
    "    X_train_num_tensor = torch.as_tensor(X_train_num.values, dtype=torch.float32)\n",
    "    X_val_num_tensor = torch.as_tensor(X_val_num.values, dtype=torch.float32)\n",
    "    X_test_num_tensor = torch.as_tensor(X_test_num.values, dtype=torch.float32)\n",
    "    X_train_img_tensor = torch.as_tensor(X_train_img, dtype=torch.float32).permute(0, 3, 1, 2) / 255.0\n",
    "    X_val_img_tensor = torch.as_tensor(X_val_img, dtype=torch.float32).permute(0, 3, 1, 2) / 255.0\n",
    "    X_test_img_tensor = torch.as_tensor(X_test_img, dtype=torch.float32).permute(0, 3, 1, 2) / 255.0\n",
    "    y_train_tensor = torch.as_tensor(y_train.values, dtype=torch.float32).reshape(-1, 1)\n",
    "    y_val_tensor = torch.as_tensor(y_val.values, dtype=torch.float32).reshape(-1, 1)\n",
    "    y_test_tensor = torch.as_tensor(y_test.values, dtype=torch.float32).reshape(-1, 1)\n",
    "\n",
    "    # Create DataLoaders\n",
    "    train_dataset = TensorDataset(X_train_num_tensor, X_train_img_tensor, y_train_tensor)\n",
    "    val_dataset = TensorDataset(X_val_num_tensor, X_val_img_tensor, y_val_tensor)\n",
    "    test_dataset = TensorDataset(X_test_num_tensor, X_test_img_tensor, y_test_tensor)\n",
    "\n",
    "    train_loader = DataLoader(train_dataset, batch_size=batch_size, shuffle=True, pin_memory=True)\n",
    "    val_loader = DataLoader(val_dataset, batch_size=batch_size, shuffle=False, pin_memory=True)\n",
    "    test_loader = DataLoader(test_dataset, batch_size=batch_size, shuffle=False, pin_memory=True)\n",
    "\n",
    "    return train_loader, val_loader, test_loader, attributes, imgs_shape"
   ]
  },
  {
   "cell_type": "code",
   "execution_count": 8,
   "id": "b2285bf2",
   "metadata": {},
   "outputs": [],
   "source": [
    "def combine_loader(loader):\n",
    "    \"\"\"\n",
    "    Combines all batches from a DataLoader into three tensors.\n",
    "    Assumes each batch is a tuple: (mlp_tensor, img_tensor, target_tensor)\n",
    "    \"\"\"\n",
    "    mlp_list, img_list, target_list = [], [], []\n",
    "    for mlp, img, target in loader:\n",
    "        mlp_list.append(mlp)\n",
    "        img_list.append(img)\n",
    "        target_list.append(target)\n",
    "    return torch.cat(mlp_list, dim=0), torch.cat(img_list, dim=0), torch.cat(target_list, dim=0)"
   ]
  },
  {
   "cell_type": "markdown",
   "id": "2d664849",
   "metadata": {},
   "source": [
    "### Functions for KAN"
   ]
  },
  {
   "cell_type": "code",
   "execution_count": 9,
   "id": "c7e1e764",
   "metadata": {},
   "outputs": [],
   "source": [
    "def average_rmse(output, val_target):\n",
    "    \"\"\"\n",
    "    Computes the root mean squared error (RMSE) between output and val_target.\n",
    "\n",
    "    Args:\n",
    "        output (torch.Tensor): The predicted output tensor.\n",
    "        val_target (torch.Tensor): The ground truth tensor.\n",
    "    \n",
    "    Returns:\n",
    "        float: The RMSE value.\n",
    "    \"\"\"\n",
    "    mse = torch.mean((output - val_target) ** 2)\n",
    "    rmse = torch.sqrt(mse)\n",
    "    return rmse.item()"
   ]
  },
  {
   "cell_type": "code",
   "execution_count": 10,
   "id": "05d09a4c",
   "metadata": {},
   "outputs": [],
   "source": [
    "def custom_fit(model, dataset, opt=\"LBFGS\", steps=100, log=1, lamb=0., lamb_l1=1., lamb_entropy=2., lamb_coef=0., lamb_coefdiff=0., update_grid=True, \n",
    "               grid_update_num=10, loss_fn=None, lr=1.,start_grid_update_step=-1, stop_grid_update_step=50, batch=-1,\n",
    "            metrics=None, save_fig=False, in_vars=None, out_vars=None, beta=3, save_fig_freq=1, img_folder='./video', \n",
    "               singularity_avoiding=False, y_th=1000., reg_metric='edge_forward_spline_n', display_metrics=None):\n",
    "    '''\n",
    "    training\n",
    "\n",
    "    Args:\n",
    "    -----\n",
    "        dataset : dic\n",
    "            contains dataset['train_input'], dataset['train_label'], dataset['val_input'], dataset['val_label']\n",
    "        opt : str\n",
    "            \"LBFGS\" or \"Adam\"\n",
    "        steps : int\n",
    "            training steps\n",
    "        log : int\n",
    "            logging frequency\n",
    "        lamb : float\n",
    "            overall penalty strength\n",
    "        lamb_l1 : float\n",
    "            l1 penalty strength\n",
    "        lamb_entropy : float\n",
    "            entropy penalty strength\n",
    "        lamb_coef : float\n",
    "            coefficient magnitude penalty strength\n",
    "        lamb_coefdiff : float\n",
    "            difference of nearby coefficits (smoothness) penalty strength\n",
    "        update_grid : bool\n",
    "            If True, update grid regularly before stop_grid_update_step\n",
    "        grid_update_num : int\n",
    "            the number of grid updates before stop_grid_update_step\n",
    "        start_grid_update_step : int\n",
    "            no grid updates before this training step\n",
    "        stop_grid_update_step : int\n",
    "            no grid updates after this training step\n",
    "        loss_fn : function\n",
    "            loss function\n",
    "        lr : float\n",
    "            learning rate\n",
    "        batch : int\n",
    "            batch size, if -1 then full.\n",
    "        save_fig_freq : int\n",
    "            save figure every (save_fig_freq) steps\n",
    "        singularity_avoiding : bool\n",
    "            indicate whether to avoid singularity for the symbolic part\n",
    "        y_th : float\n",
    "            singularity threshold (anything above the threshold is considered singular and is softened in some ways)\n",
    "        reg_metric : str\n",
    "            regularization metric. Choose from {'edge_forward_spline_n', 'edge_forward_spline_u', 'edge_forward_sum', 'edge_backward', 'node_backward'}\n",
    "        metrics : a list of metrics (as functions)\n",
    "            the metrics to be computed in training\n",
    "        display_metrics : a list of functions\n",
    "            the metric to be displayed in tqdm progress bar\n",
    "\n",
    "    Returns:\n",
    "    --------\n",
    "        results : dic\n",
    "            results['train_loss'], 1D array of training losses (RMSE)\n",
    "            results['val_loss'], 1D array of val losses (RMSE)\n",
    "            results['reg'], 1D array of regularization\n",
    "            other metrics specified in metrics\n",
    "        best_model:\n",
    "    '''\n",
    "\n",
    "    if lamb > 0. and not model.save_act:\n",
    "        print('setting lamb=0. If you want to set lamb > 0, set model.save_act=True')\n",
    "        \n",
    "    old_save_act, old_symbolic_enabled = model.disable_symbolic_in_fit(lamb)\n",
    "\n",
    "    pbar = tqdm(range(steps), desc='description', ncols=100)\n",
    "\n",
    "    if loss_fn == None:\n",
    "        loss_fn = loss_fn_eval = lambda x, y: torch.mean((x - y) ** 2)\n",
    "    else:\n",
    "        loss_fn = loss_fn_eval = loss_fn\n",
    "\n",
    "    grid_update_freq = int(stop_grid_update_step / grid_update_num)\n",
    "\n",
    "    if opt == \"Adam\":\n",
    "        optimizer = torch.optim.Adam(model.get_params(), lr=lr)\n",
    "    elif opt == \"LBFGS\":\n",
    "        optimizer = LBFGS(model.get_params(), lr=lr, history_size=10, \n",
    "                          line_search_fn=\"strong_wolfe\", \n",
    "                          tolerance_grad=1e-32,\n",
    "                          tolerance_change=1e-32,\n",
    "                          tolerance_ys=1e-32)\n",
    "\n",
    "    results = {}\n",
    "    results['train_loss'] = []\n",
    "    results['val_loss'] = []\n",
    "    results['reg'] = []\n",
    "    if metrics != None:\n",
    "        for i in range(len(metrics)):\n",
    "            results[metrics[i].__name__] = []\n",
    "\n",
    "    if batch == -1 or batch > dataset['train_input'].shape[0]:\n",
    "        batch_size = dataset['train_input'].shape[0]\n",
    "        batch_size_val = dataset['val_input'].shape[0]\n",
    "    else:\n",
    "        batch_size = batch\n",
    "        batch_size_val = batch\n",
    "\n",
    "    global train_loss, reg_\n",
    "\n",
    "    def closure():\n",
    "        global train_loss, reg_\n",
    "        optimizer.zero_grad()\n",
    "        pred = model.forward(dataset['train_input'][train_id], singularity_avoiding=singularity_avoiding, y_th=y_th)\n",
    "        train_loss = loss_fn(pred, dataset['train_label'][train_id])\n",
    "        if model.save_act:\n",
    "            if reg_metric == 'edge_backward':\n",
    "                model.attribute()\n",
    "            if reg_metric == 'node_backward':\n",
    "                model.node_attribute()\n",
    "            reg_ = model.get_reg(reg_metric, lamb_l1, lamb_entropy, lamb_coef, lamb_coefdiff)\n",
    "        else:\n",
    "            reg_ = torch.tensor(0.)\n",
    "        objective = train_loss + lamb * reg_\n",
    "        objective.backward()\n",
    "        return objective\n",
    "\n",
    "    if save_fig:\n",
    "        if not os.path.exists(img_folder):\n",
    "            os.makedirs(img_folder)\n",
    "    \n",
    "    best_model_state = None\n",
    "    best_epoch = -1\n",
    "    best_loss = float('inf')\n",
    "    \n",
    "    for epoch in pbar:\n",
    "        \n",
    "        if epoch == steps-1 and old_save_act:\n",
    "            model.save_act = True\n",
    "            \n",
    "        if save_fig and epoch % save_fig_freq == 0:\n",
    "            save_act = model.save_act\n",
    "            model.save_act = True\n",
    "        \n",
    "        train_id = np.random.choice(dataset['train_input'].shape[0], batch_size, replace=False)\n",
    "        val_id = np.random.choice(dataset['val_input'].shape[0], batch_size_val, replace=False)\n",
    "\n",
    "        if epoch % grid_update_freq == 0 and epoch < stop_grid_update_step and update_grid and epoch >= start_grid_update_step:\n",
    "            model.update_grid(dataset['train_input'][train_id])\n",
    "\n",
    "        if opt == \"LBFGS\":\n",
    "            optimizer.step(closure)\n",
    "\n",
    "        if opt == \"Adam\":\n",
    "            pred = model.forward(dataset['train_input'][train_id], singularity_avoiding=singularity_avoiding, y_th=y_th)\n",
    "            train_loss = loss_fn(pred, dataset['train_label'][train_id])\n",
    "            if model.save_act:\n",
    "                if reg_metric == 'edge_backward':\n",
    "                    model.attribute()\n",
    "                if reg_metric == 'node_backward':\n",
    "                    model.node_attribute()\n",
    "                reg_ = model.get_reg(reg_metric, lamb_l1, lamb_entropy, lamb_coef, lamb_coefdiff)\n",
    "            else:\n",
    "                reg_ = torch.tensor(0.)\n",
    "            loss = train_loss + lamb * reg_\n",
    "            optimizer.zero_grad()\n",
    "            loss.backward()\n",
    "            optimizer.step()\n",
    "\n",
    "        val_loss = loss_fn_eval(model.forward(dataset['val_input'][val_id]), dataset['val_label'][val_id])\n",
    "        \n",
    "        \n",
    "        if metrics != None:\n",
    "            for i in range(len(metrics)):\n",
    "                results[metrics[i].__name__].append(metrics[i]().item())\n",
    "\n",
    "        if val_loss < best_loss:\n",
    "            best_epoch = epoch\n",
    "            best_loss = val_loss\n",
    "            best_model_state = copy.deepcopy(model.state_dict())\n",
    "        \n",
    "        results['train_loss'].append(torch.sqrt(train_loss).cpu().detach().numpy())\n",
    "        results['val_loss'].append(torch.sqrt(val_loss).cpu().detach().numpy())\n",
    "        results['reg'].append(reg_.cpu().detach().numpy())\n",
    "\n",
    "        if epoch % log == 0:\n",
    "            if display_metrics == None:\n",
    "                pbar.set_description(\"| train_loss: %.2e | val_loss: %.2e | reg: %.2e | \" % (torch.sqrt(train_loss).cpu().detach().numpy(), torch.sqrt(val_loss).cpu().detach().numpy(), reg_.cpu().detach().numpy()))\n",
    "            else:\n",
    "                string = ''\n",
    "                data = ()\n",
    "                for metric in display_metrics:\n",
    "                    string += f' {metric}: %.2e |'\n",
    "                    try:\n",
    "                        results[metric]\n",
    "                    except:\n",
    "                        raise Exception(f'{metric} not recognized')\n",
    "                    data += (results[metric][-1],)\n",
    "                pbar.set_description(string % data)\n",
    "                \n",
    "        \n",
    "        if save_fig and epoch % save_fig_freq == 0:\n",
    "            model.plot(folder=img_folder, in_vars=in_vars, out_vars=out_vars, title=\"Step {}\".format(_), beta=beta)\n",
    "            plt.savefig(img_folder + '/' + str(_) + '.jpg', bbox_inches='tight', dpi=200)\n",
    "            plt.close()\n",
    "            model.save_act = save_act\n",
    "\n",
    "    model.log_history('fit')\n",
    "    # revert back to original state\n",
    "    model.symbolic_enabled = old_symbolic_enabled\n",
    "    print(f\"✅ Best validation loss: {best_loss:.4e} at {best_epoch} epoch\")\n",
    "    return best_model_state, results, best_epoch"
   ]
  },
  {
   "cell_type": "code",
   "execution_count": 11,
   "id": "7ae64bdc",
   "metadata": {},
   "outputs": [],
   "source": [
    "def grid_search_kan(dataset, output_dim=1):\n",
    "    hidden_neuron_options = list(range(1, attributes // 2 + 1))\n",
    "    grid_options = list(range(3, 7))\n",
    "    lamb_options = [1., 0.1, 0.01, 0.001, 0.0001, 0.00001]\n",
    "\n",
    "    top_models = []  # list of dicts: each will have 'loss', 'config', 'state_dict'\n",
    "\n",
    "    for hidden in hidden_neuron_options:\n",
    "        for grid in grid_options:\n",
    "            for lamb in lamb_options:\n",
    "                print(f\"Testing width=[{attributes}, {hidden}, {output_dim}], lamb={lamb}, grid={grid}\")\n",
    "                model = KAN(width=[attributes, hidden, output_dim], grid=grid, k=3, seed=381, device=device)\n",
    "                \n",
    "                # Custom training\n",
    "                model_state, _, best_epoch = custom_fit(model, dataset, opt=\"LBFGS\", steps=40, lamb=lamb)\n",
    "                model.load_state_dict(model_state)\n",
    "\n",
    "                # Evaluate\n",
    "                avg_loss = average_rmse(model(dataset['test_input']), dataset['test_label'])\n",
    "\n",
    "                # Save this model info\n",
    "                top_models.append({\n",
    "                    \"loss\": avg_loss,\n",
    "                    \"config\": {\"hidden\": hidden, \"grid\": grid, \"lamb\": lamb},\n",
    "                    #\"state_dict\": copy.deepcopy(model_state),\n",
    "                    \"best_epoch\": best_epoch\n",
    "                })\n",
    "                \n",
    "                del model\n",
    "                torch.cuda.empty_cache()\n",
    "                gc.collect()\n",
    "\n",
    "                # Keep only top 5\n",
    "            top_models = sorted(top_models, key=lambda x: x[\"loss\"])[:5]\n",
    "\n",
    "    print(\"\\n✅ Top 5 Configurations:\")\n",
    "    for i, entry in enumerate(top_models):\n",
    "        cfg = entry[\"config\"]\n",
    "        print(f\"{i+1}. width=[{attributes}, {cfg['hidden']}, {output_dim}], grid={cfg['grid']}, lamb={cfg['lamb']} | best_epoch={entry['best_epoch']} | loss={entry['loss']:.5f}\")\n",
    "\n",
    "    #return top_models"
   ]
  },
  {
   "cell_type": "markdown",
   "id": "bc5d1d3a",
   "metadata": {},
   "source": [
    "### Functions for CNN"
   ]
  },
  {
   "cell_type": "code",
   "execution_count": 12,
   "id": "46156820",
   "metadata": {},
   "outputs": [],
   "source": [
    "def fit_cnn_only_model(model, dataset, steps=100, lr=1.0, loss_fn=None, batch=-1, opt=\"LBFGS\"):\n",
    "    \"\"\"\n",
    "    Trains a CNN-only model using LBFGS.\n",
    "\n",
    "    Args:\n",
    "        model: CNN-only PyTorch model.\n",
    "        dataset: Dictionary with keys: 'train_img', 'train_label', 'val_img', 'val_label'.\n",
    "        steps: Number of training iterations.\n",
    "        lr: Learning rate.\n",
    "        loss_fn: Loss function. Defaults to MSE.\n",
    "\n",
    "    Returns:\n",
    "        results: Dict with lists of train/val losses.\n",
    "        best_model_state: Best weights based on val loss.\n",
    "    \"\"\"\n",
    "    device = model.device\n",
    "    if loss_fn is None:\n",
    "        loss_fn = nn.MSELoss()\n",
    "\n",
    "    # Optimizer selection\n",
    "    if opt == \"LBFGS\":\n",
    "        optimizer = LBFGS(model.parameters(), lr=lr, history_size=10, \n",
    "                          line_search_fn=\"strong_wolfe\", \n",
    "                          tolerance_grad=1e-32, \n",
    "                          tolerance_change=1e-32, \n",
    "                          tolerance_ys=1e-32)\n",
    "    elif opt == \"AdamW\":\n",
    "        optimizer = optim.AdamW(model.parameters(), lr=lr)\n",
    "    else:\n",
    "        raise ValueError(f\"Unsupported optimizer '{opt}'\")\n",
    "\n",
    "    n_train = dataset[\"train_img\"].shape[0]\n",
    "    n_val = dataset[\"val_img\"].shape[0]\n",
    "    batch_size = n_train if batch == -1 or batch > n_train else batch\n",
    "\n",
    "    results = {'train_loss': [], 'val_loss': []}\n",
    "    best_model_state = None\n",
    "    best_loss = float(\"inf\")\n",
    "    best_epoch = -1\n",
    "\n",
    "    pbar = tqdm(range(steps), desc=\"Training CNN Only ({opt})\", ncols=100)\n",
    "\n",
    "    for step in pbar:\n",
    "        train_idx = np.random.choice(n_train, batch_size, replace=False)\n",
    "        #train_idx = torch.randperm(n_train)[:min(32, n_train)]  # small batch\n",
    "        x_train = dataset[\"train_img\"][train_idx].to(device)\n",
    "        y_train = dataset[\"train_label\"][train_idx].to(device)\n",
    "        if opt == \"LBFGS\":\n",
    "            def closure():\n",
    "                optimizer.zero_grad()\n",
    "                output = model(0, x_train)\n",
    "                loss = loss_fn(output, y_train)\n",
    "                loss.backward()\n",
    "                return loss\n",
    "            optimizer.step(closure)\n",
    "            train_loss = closure().item()\n",
    "\n",
    "        else:  # AdamW\n",
    "            optimizer.zero_grad()\n",
    "            output = model(0, x_train)\n",
    "            loss = loss_fn(output, y_train)\n",
    "            loss.backward()\n",
    "            optimizer.step()\n",
    "            train_loss = loss.item()\n",
    "\n",
    "        with torch.no_grad():\n",
    "            val_output = model(0, dataset[\"val_img\"].to(device))\n",
    "            val_loss = loss_fn(val_output, dataset[\"val_label\"].to(device)).item()\n",
    "\n",
    "        results[\"train_loss\"].append(train_loss)\n",
    "        results[\"val_loss\"].append(val_loss)\n",
    "\n",
    "        if val_loss < best_loss:\n",
    "            best_loss = val_loss\n",
    "            best_epoch = step\n",
    "            best_model_state = copy.deepcopy(model.state_dict())\n",
    "\n",
    "        pbar.set_description(f\"| Train: {train_loss:.4e} | Val: {val_loss:.4e} |\")\n",
    "\n",
    "    print(f\"✅ Best validation loss: {best_loss:.4e} at {best_epoch} epoch\")\n",
    "    return best_model_state, results, best_epoch"
   ]
  },
  {
   "cell_type": "code",
   "execution_count": 13,
   "id": "5abb1ba6",
   "metadata": {},
   "outputs": [],
   "source": [
    "def build_custom_cnn_model(cnn_blocks, dense_layers, imgs_shape, device='cuda'):\n",
    "    class CustomCNNModel(nn.Module):\n",
    "        def __init__(self):\n",
    "            super(CustomCNNModel, self).__init__()\n",
    "            self.device = device\n",
    "\n",
    "            cnn_layers = []\n",
    "            in_channels = imgs_shape[0]\n",
    "            out_channels = 16\n",
    "            cnn_blocks_list = [8, 6, 5]\n",
    "            size_layer_norm = cnn_blocks_list[cnn_blocks-1]\n",
    "            \n",
    "            f_layer_size = 10 - cnn_blocks*2\n",
    "            for i in range(cnn_blocks):\n",
    "                cnn_layers.append(nn.Conv2d(in_channels, out_channels, kernel_size=3, padding=2))\n",
    "                \n",
    "                if i < cnn_blocks - 1:\n",
    "                    cnn_layers.append(nn.BatchNorm2d(out_channels))\n",
    "                    cnn_layers.append(nn.ReLU())\n",
    "                    cnn_layers.append(nn.MaxPool2d(2))\n",
    "                else:\n",
    "                    # Last block: LayerNorm + Sigmoid + Flatten\n",
    "                    cnn_layers.append(nn.LayerNorm([out_channels, size_layer_norm, size_layer_norm]))\n",
    "                    cnn_layers.append(nn.Sigmoid())\n",
    "                    cnn_layers.append(nn.Flatten())\n",
    "                in_channels = out_channels\n",
    "                out_channels *= 2\n",
    "\n",
    "            self.cnn_branch = nn.Sequential(*cnn_layers).to(device)\n",
    "            self.flat_size = self._get_flat_size(imgs_shape)\n",
    "\n",
    "            # Dense (FC) layers\n",
    "            fc_layers = []\n",
    "            input_dim = self.flat_size\n",
    "            for i in range(dense_layers - 1):\n",
    "                fc_layers.append(nn.Linear(int(input_dim), int(input_dim // 2)))\n",
    "                fc_layers.append(nn.ReLU())\n",
    "                input_dim = input_dim // 2\n",
    "            fc_layers.append(nn.Linear(int(input_dim), 1))\n",
    "\n",
    "            self.fc = nn.Sequential(*fc_layers).to(device)\n",
    "\n",
    "        def _get_flat_size(self, imgs_shape):\n",
    "            dummy_input = torch.zeros(1, *imgs_shape, device=self.device)\n",
    "            x = self.cnn_branch(dummy_input)\n",
    "            return x.shape[1]\n",
    "\n",
    "        def forward(self, num_input, img_input):\n",
    "            img_input = img_input.to(self.device)\n",
    "            features = self.cnn_branch(img_input)\n",
    "            output = self.fc(features)\n",
    "            return output\n",
    "\n",
    "    return CustomCNNModel()"
   ]
  },
  {
   "cell_type": "code",
   "execution_count": 14,
   "id": "5dc5e2b8",
   "metadata": {},
   "outputs": [],
   "source": [
    "def grid_search_cnn(dataset, steps=110, opt='LBFGS', batch=-1):\n",
    "    cnn_blocks_options = list(range(1, 4))\n",
    "    dense_layers_options = list(range(1, 4))\n",
    "\n",
    "    top_models = []  # list of dicts: each will have 'loss', 'config', 'state_dict'\n",
    "\n",
    "    for cnn_blocks in cnn_blocks_options:\n",
    "        for dense_layers in dense_layers_options:\n",
    "            print(f\"Testing cnn_blocks={cnn_blocks}, dense_layers={dense_layers}\")\n",
    "            model = build_custom_cnn_model(cnn_blocks, dense_layers, imgs_shape)\n",
    "            \n",
    "            # Custom training\n",
    "            model_state, _, best_epoch = fit_cnn_only_model(model, dataset, steps=steps, opt=opt, batch=batch)\n",
    "            model.load_state_dict(model_state)\n",
    "\n",
    "            # Evaluate\n",
    "            avg_loss = average_rmse(model(0, dataset['test_img']), dataset['test_label'])\n",
    "\n",
    "            # Save this model info\n",
    "            top_models.append({\n",
    "                \"loss\": avg_loss,\n",
    "                \"config\": {\"cnn_blocks\": cnn_blocks, \"dense_layers\": dense_layers},\n",
    "                \"state_dict\": copy.deepcopy(model_state),\n",
    "                \"best_epoch\": best_epoch\n",
    "            })\n",
    "            \n",
    "            del model\n",
    "            torch.cuda.empty_cache()\n",
    "            gc.collect()\n",
    "            # Keep only top 5\n",
    "            top_models = sorted(top_models, key=lambda x: x[\"loss\"])[:5]\n",
    "\n",
    "    print(\"\\n✅ Top 5 Configurations:\")\n",
    "    for i, entry in enumerate(top_models):\n",
    "        cfg = entry[\"config\"]\n",
    "        print(f\"{i+1}. cnn_blocks={cfg['cnn_blocks']}, dense_layers={cfg['dense_layers']} | best_epoch={entry['best_epoch']} | loss={entry['loss']:.5f}\")\n",
    "\n",
    "    #return top_models"
   ]
  },
  {
   "cell_type": "markdown",
   "id": "85028d5e",
   "metadata": {},
   "source": [
    "### Hybrid Functions"
   ]
  },
  {
   "cell_type": "code",
   "execution_count": 15,
   "id": "766c41b1",
   "metadata": {},
   "outputs": [],
   "source": [
    "def fit_hybrid_dataloaders(model, \n",
    "                           dataset,\n",
    "                           opt=\"AdamW\", \n",
    "                           steps=100, \n",
    "                           log=1, \n",
    "                           lamb=0., \n",
    "                           lamb_l1=1., \n",
    "                           lamb_entropy=2., \n",
    "                           lamb_coef=0., \n",
    "                           lamb_coefdiff=0., \n",
    "                           update_grid=True, \n",
    "                           grid_update_num=10, \n",
    "                           loss_fn=None, \n",
    "                           lr=1., \n",
    "                           start_grid_update_step=-1, \n",
    "                           stop_grid_update_step=50, \n",
    "                           batch=-1,\n",
    "                           metrics=None, \n",
    "                           save_fig=False, \n",
    "                           in_vars=None, \n",
    "                           out_vars=None, \n",
    "                           beta=3, \n",
    "                           save_fig_freq=1, \n",
    "                           img_folder='./video', \n",
    "                           singularity_avoiding=False, \n",
    "                           y_th=1000., \n",
    "                           reg_metric='edge_forward_spline_n', \n",
    "                           display_metrics=None,\n",
    "                           sum_f_reg=True):\n",
    "    \"\"\"\n",
    "    Trains the hybrid model (with a KAN branch and a CNN branch) using a steps-based loop\n",
    "    adapted from KAN.fit(), with grid updates and regularization.\n",
    "    \n",
    "    Instead of a single dataset dict, this function accepts three DataLoaders:\n",
    "        - train_loader: provides (mlp, img, target) for training\n",
    "        - val_loader: provides (mlp, img, target) for evaluation during training\n",
    "        - test_loader: provides (mlp, img, target) for validation\n",
    "\n",
    "    Internally, the function combines each loader into a dataset dictionary.\n",
    "    \n",
    "    Returns:\n",
    "        results: dictionary containing training loss, evaluation loss, regularization values,\n",
    "                 and any additional metrics recorded during training.\n",
    "    \"\"\"\n",
    "    #device = next(model.parameters()).device\n",
    "\n",
    "    # Warn if regularization is requested but model's internal flag isn't enabled.\n",
    "    if lamb > 0. and not getattr(model.m_kan, \"save_act\", False):\n",
    "        print(\"setting lamb=0. If you want to set lamb > 0, set model.m_kan.save_act=True\")\n",
    "    \n",
    "    # Disable symbolic processing for training if applicable (KAN internal logic)\n",
    "    if hasattr(model.m_kan, \"disable_symbolic_in_fit\"):\n",
    "        old_save_act, old_symbolic_enabled = model.m_kan.disable_symbolic_in_fit(lamb)\n",
    "        f_old_save_act, f_old_symbolic_enabled = model.final_kan.disable_symbolic_in_fit(lamb)\n",
    "    else:\n",
    "        old_save_act, old_symbolic_enabled = None, None\n",
    "\n",
    "    pbar = tqdm(range(steps), desc='Training', ncols=100)\n",
    "\n",
    "    # Default loss function (mean squared error) if not provided\n",
    "    if loss_fn is None:\n",
    "        loss_fn = lambda x, y: torch.mean((x - y) ** 2)\n",
    "\n",
    "    # Determine grid update frequency\n",
    "    grid_update_freq = int(stop_grid_update_step / grid_update_num) if grid_update_num > 0 else 1\n",
    "\n",
    "    # Determine total number of training examples\n",
    "    n_train = dataset[\"train_input\"].shape[0]\n",
    "    n_eval  = dataset[\"val_input\"].shape[0]  # using val set for evaluation during training\n",
    "    batch_size = n_train if batch == -1 or batch > n_train else batch\n",
    "\n",
    "    # Set up optimizer: choose between Adam and LBFGS (removed tolerance_ys)\n",
    "    if opt == \"AdamW\":\n",
    "        optimizer = optim.AdamW(model.parameters(), lr=lr)\n",
    "    elif opt == \"LBFGS\":        \n",
    "        optimizer = LBFGS(model.parameters(), lr=lr, history_size=10, \n",
    "                          line_search_fn=\"strong_wolfe\", \n",
    "                          tolerance_grad=1e-32, \n",
    "                          tolerance_change=1e-32, \n",
    "                          tolerance_ys=1e-32)\n",
    "    else:\n",
    "        raise ValueError(\"Optimizer not recognized. Use 'Adam' or 'LBFGS'.\")\n",
    "\n",
    "    # Prepare results dictionary.\n",
    "    results = {'train_loss': [], 'eval_loss': [], 'reg': []}\n",
    "    \n",
    "    if metrics is not None:\n",
    "        for metric in metrics:\n",
    "            results[metric.__name__] = []\n",
    "\n",
    "    best_model_state = None\n",
    "    best_epoch = -1\n",
    "    best_loss = float('inf')\n",
    "\n",
    "    for step in pbar:\n",
    "        # Randomly sample indices for a mini-batch from the training set.\n",
    "        train_indices = np.random.choice(n_train, batch_size, replace=False)\n",
    "        # Use full evaluation set for evaluation; you can also sample if desired.\n",
    "        eval_indices = np.arange(n_eval)\n",
    "        \n",
    "        cached_loss = {}\n",
    "        # Closure for LBFGS\n",
    "        def closure():\n",
    "            optimizer.zero_grad()\n",
    "            mlp_batch = dataset[\"train_input\"][train_indices]\n",
    "            img_batch = dataset[\"train_img\"][train_indices]\n",
    "            target_batch = dataset[\"train_label\"][train_indices]\n",
    "            outputs = model(mlp_batch, img_batch)\n",
    "            train_loss = loss_fn(outputs, target_batch)\n",
    "            # Compute regularization term if enabled.\n",
    "            if hasattr(model.m_kan, \"save_act\") and model.m_kan.save_act:\n",
    "                if reg_metric == 'edge_backward':\n",
    "                    model.m_kan.attribute()\n",
    "                    model.final_kan.attribute()\n",
    "                if reg_metric == 'node_backward':\n",
    "                    model.m_kan.node_attribute()\n",
    "                    model.final_kan.node_attribute()\n",
    "                reg_val_inner = model.m_kan.get_reg(reg_metric, lamb_l1, lamb_entropy, lamb_coef, lamb_coefdiff)\n",
    "                if sum_f_reg:\n",
    "                    reg_val_inner += model.final_kan.get_reg(reg_metric, lamb_l1, lamb_entropy, lamb_coef, lamb_coefdiff)\n",
    "            else:\n",
    "                reg_val_inner = torch.tensor(0., device=device)\n",
    "            loss_val_inner = train_loss + lamb * reg_val_inner\n",
    "            loss_val_inner.backward()\n",
    "            cached_loss['loss'] = loss_val_inner.detach()\n",
    "            cached_loss['reg'] = reg_val_inner.detach()\n",
    "            return loss_val_inner\n",
    "\n",
    "        # Perform grid update if applicable.\n",
    "        if (step % grid_update_freq == 0 and step < stop_grid_update_step \n",
    "            and update_grid and step >= start_grid_update_step):\n",
    "            \n",
    "            mlp_batch = dataset['train_input'][train_indices]\n",
    "            cnn_batch = dataset['train_img'][train_indices]\n",
    "            \n",
    "            model.m_kan.update_grid(mlp_batch)\n",
    "            #cnn_output = model.cnn_branch(cnn_batch)  # Process image input\n",
    "            concatenated = model.get_concat_output(mlp_batch, cnn_batch)\n",
    "\n",
    "            model.final_kan.update_grid(concatenated)\n",
    "\n",
    "        # Perform an optimizer step.\n",
    "        if opt == \"LBFGS\":\n",
    "            optimizer.step(closure)\n",
    "            loss_val = cached_loss['loss']\n",
    "            reg_val = cached_loss['reg']\n",
    "        else:  # AdamW branch\n",
    "            optimizer.zero_grad()\n",
    "            mlp_batch = dataset[\"train_input\"][train_indices]\n",
    "            img_batch = dataset[\"train_img\"][train_indices]\n",
    "            target_batch = dataset[\"train_label\"][train_indices]\n",
    "            outputs = model(mlp_batch, img_batch)\n",
    "            train_loss = loss_fn(outputs, target_batch)\n",
    "            if hasattr(model.m_kan, \"save_act\") and model.m_kan.save_act:\n",
    "                if reg_metric == 'edge_backward':\n",
    "                    model.m_kan.attribute()\n",
    "                    model.final_kan.attribute()\n",
    "                if reg_metric == 'node_backward':\n",
    "                    model.m_kan.node_attribute()\n",
    "                    model.final_kan.node_attribute()\n",
    "                reg_val = model.m_kan.get_reg(reg_metric, lamb_l1, lamb_entropy, lamb_coef, lamb_coefdiff)\n",
    "                if sum_f_reg:\n",
    "                    reg_val = reg_val + model.final_kan.get_reg(reg_metric, lamb_l1, lamb_entropy, lamb_coef, lamb_coefdiff)\n",
    "            else:\n",
    "                reg_val = torch.tensor(0., device=device)\n",
    "            loss_val = train_loss + lamb * reg_val\n",
    "            loss_val.backward()\n",
    "            optimizer.step()\n",
    "\n",
    "\n",
    "        with torch.no_grad():\n",
    "            mlp_eval = dataset[\"val_input\"][eval_indices]\n",
    "            img_eval = dataset[\"val_img\"][eval_indices]\n",
    "            target_eval = dataset[\"val_label\"][eval_indices]\n",
    "            eval_loss = loss_fn(model(mlp_eval, img_eval), target_eval)\n",
    "\n",
    "        # Record results (using square-root of loss similar to KAN.fit)\n",
    "        results['train_loss'].append(torch.sqrt(loss_val.detach()).item())\n",
    "        results['eval_loss'].append(torch.sqrt(eval_loss.detach()).item())\n",
    "        results['reg'].append(reg_val.detach().item())\n",
    "\n",
    "        if metrics is not None:\n",
    "            for metric in metrics:\n",
    "                # Here, we assume each metric returns a tensor.\n",
    "                results[metric.__name__].append(metric().item())\n",
    "\n",
    "        if eval_loss < best_loss:\n",
    "            best_epoch = step\n",
    "            best_loss = eval_loss\n",
    "            best_model_state = copy.deepcopy(model.state_dict())\n",
    "\n",
    "        # Update progress bar.\n",
    "        if display_metrics is None:\n",
    "            pbar.set_description(\"| train_loss: %.2e | eval_loss: %.2e | reg: %.2e |\" %\n",
    "                                 (torch.sqrt(loss_val.detach()).item(),\n",
    "                                  torch.sqrt(eval_loss.detach()).item(),\n",
    "                                  reg_val.detach().item()))\n",
    "        else:\n",
    "            string = ''\n",
    "            data = ()\n",
    "            for metric in display_metrics:\n",
    "                string += f' {metric}: %.2e |'\n",
    "                try:\n",
    "                    results[metric]\n",
    "                except:\n",
    "                    raise Exception(f'{metric} not recognized')\n",
    "                data += (results[metric][-1],)\n",
    "            pbar.set_description(string % data)\n",
    "        # Optionally save a figure snapshot.\n",
    "        if save_fig and step % save_fig_freq == 0:\n",
    "            save_act_backup = getattr(model.m_kan, \"save_act\", False)\n",
    "            model.m_kan.save_act = True\n",
    "            model.plot(folder=img_folder, in_vars=in_vars, out_vars=out_vars, title=f\"Step {step}\", beta=beta)\n",
    "            plt.savefig(os.path.join(img_folder, f\"{step}.jpg\"), bbox_inches='tight', dpi=200)\n",
    "            plt.close()\n",
    "            model.m_kan.save_act = save_act_backup\n",
    "\n",
    "    # Restore original settings if applicable.\n",
    "    if old_symbolic_enabled is not None:\n",
    "        model.m_kan.symbolic_enabled = old_symbolic_enabled\n",
    "    if hasattr(model.m_kan, \"log_history\"):\n",
    "        model.m_kan.log_history('fit')\n",
    "    print(f\"✅ Best validation loss: {best_loss:.4e} at {best_epoch} epoch\")\n",
    "    return best_model_state, results, best_epoch"
   ]
  },
  {
   "cell_type": "code",
   "execution_count": 16,
   "id": "bd3a6174",
   "metadata": {},
   "outputs": [],
   "source": [
    "def try_create_model(model_class, attributes, imgs_shape, kan_neurons, kan_grid):\n",
    "    try:\n",
    "        model = model_class(attributes, imgs_shape, kan_neurons, kan_grid)\n",
    "        \n",
    "        # Test the model with a sample input\n",
    "        num_input = torch.randn(4, attributes)\n",
    "        img_input = torch.randn(4, *imgs_shape)\n",
    "        output = model(num_input, img_input)\n",
    "        \n",
    "        print(f\"Successfully created and tested {model_class.__name__}\")\n",
    "        \n",
    "        return model\n",
    "    except Exception as e:\n",
    "        print(f\"Error creating or testing {model_class.__name__}:\")\n",
    "        traceback.print_exc()\n",
    "        return None"
   ]
  },
  {
   "cell_type": "code",
   "execution_count": 17,
   "id": "14c1082c",
   "metadata": {},
   "outputs": [],
   "source": [
    "def grid_search_kan_hybrid(dataset, model_class, max_steps=30):\n",
    "    hidden_neuron_options = list(range(1, attributes // 2 + 1))\n",
    "    grid_options = list(range(3, 7))\n",
    "    lamb_options = [1., 0.1, 0.01, 0.001, 0.0001, 0.00001, 0.000001]\n",
    "\n",
    "    top_models = []  # list of dicts: each will have 'loss', 'config', 'state_dict'\n",
    "\n",
    "    for hidden in hidden_neuron_options:\n",
    "        for grid in grid_options:\n",
    "            for lamb in lamb_options:\n",
    "                print(f\"Testing {hidden} hidden neurons, lamb={lamb}, grid={grid}\")\n",
    "                model = try_create_model(model_class, attributes, imgs_shape, kan_neurons=hidden, kan_grid=grid)  # Attempt to create Model3\n",
    "                \n",
    "                # Custom training\n",
    "                #_, model_state, _ = custom_fit(model, dataset, opt=\"LBFGS\", steps=40, lamb=lamb)\n",
    "                model_state, _, best_epoch = fit_hybrid_dataloaders(model, dataset, opt=\"LBFGS\", steps=max_steps, lamb=lamb)\n",
    "                model.load_state_dict(model_state)\n",
    "\n",
    "                # Evaluate\n",
    "                avg_loss = average_rmse(model(dataset['test_input'], dataset['test_img']), dataset['test_label'])\n",
    "\n",
    "                # Save this model info\n",
    "                top_models.append({\n",
    "                    \"loss\": avg_loss,\n",
    "                    \"config\": {\"hidden\": hidden, \"grid\": grid, \"lamb\": lamb},\n",
    "                    #\"state_dict\": copy.deepcopy(model_state),\n",
    "                    \"best_epoch\": best_epoch\n",
    "                })\n",
    "                del model\n",
    "                torch.cuda.empty_cache()\n",
    "                gc.collect()\n",
    "        # Keep only top 5\n",
    "        top_models = sorted(top_models, key=lambda x: x[\"loss\"])[:5]\n",
    "\n",
    "    print(\"\\n✅ Top 5 Configurations:\")\n",
    "    for i, entry in enumerate(top_models):\n",
    "        cfg = entry[\"config\"]\n",
    "        print(f\"{i+1}. width=[{attributes}, {cfg['hidden']}, 1], grid={cfg['grid']}, lamb={cfg['lamb']}| best_epoch={entry['best_epoch']} | loss={entry['loss']:.5f}\")\n"
   ]
  },
  {
   "cell_type": "markdown",
   "id": "e503d65b-47e8-4c00-a84f-cec61e51ba9d",
   "metadata": {},
   "source": [
    "# Load Dataset and Images"
   ]
  },
  {
   "cell_type": "code",
   "execution_count": 18,
   "id": "c0d46e15-1287-4f1e-ba6a-cc05b3c8915f",
   "metadata": {},
   "outputs": [],
   "source": [
    "X_train, y_train = load_and_clean('N_train.npy', 'y_train.npy',x_col, target_col)\n",
    "X_test, y_test   = load_and_clean('N_test.npy',  'y_test.npy', x_col, target_col)\n",
    "X_val, y_val     = load_and_clean('N_val.npy',   'y_val.npy', x_col, target_col)"
   ]
  },
  {
   "cell_type": "code",
   "execution_count": 19,
   "id": "92613d4f-1cd2-49f8-82a9-620fda68b565",
   "metadata": {},
   "outputs": [
    {
     "name": "stdout",
     "output_type": "stream",
     "text": [
      "3\n"
     ]
    }
   ],
   "source": [
    "# Get the shape of the dataframe\n",
    "num_columns = X_train.shape[1]\n",
    "\n",
    "# Calculate number of columns - 1\n",
    "columns_minus_one = num_columns - 1\n",
    "\n",
    "# Calculate the square root for image size\n",
    "image_size = math.ceil(math.sqrt(columns_minus_one))\n",
    "print(image_size)"
   ]
  },
  {
   "cell_type": "code",
   "execution_count": 20,
   "id": "a28853f7-dcee-47de-91eb-8f35177b8913",
   "metadata": {},
   "outputs": [],
   "source": [
    "from TINTOlib.igtd import IGTD\n",
    "dataset_name = 'puma8NH'\n",
    "#Select the model and the parameters\n",
    "problem_type = \"regression\"\n",
    "image_model = IGTD(problem=problem_type, \n",
    "                   scale=[image_size,image_size],\n",
    "                   fea_dist_method='Euclidean',\n",
    "                   image_dist_method='Euclidean',\n",
    "                   error='abs',\n",
    "                   max_step=30000,\n",
    "                   val_step=300,\n",
    "                   zoom=2,\n",
    "                   random_seed=SEED)\n",
    "\n",
    "name = f\"IGTD_{image_size}x{image_size}_fEuclidean_iEuclidean_abs\"\n",
    "\n",
    "#Define the dataset path and the folder where the images will be saved\n",
    "images_folder = f\"HyNNImages/Regression/{dataset_name}/images_{dataset_name}_{name}\""
   ]
  },
  {
   "cell_type": "code",
   "execution_count": 21,
   "id": "a01e98f2-1bea-4364-b0bc-3d0412ebba5c",
   "metadata": {
    "scrolled": true
   },
   "outputs": [
    {
     "name": "stdout",
     "output_type": "stream",
     "text": [
      "Images shape:  (3, 6, 6)\n",
      "Attributes:  8\n"
     ]
    },
    {
     "data": {
      "image/png": "[encoded data removed]",
      "text/plain": [
       "<Figure size 6x6 with 1 Axes>"
      ]
     },
     "metadata": {},
     "output_type": "display_data"
    },
    {
     "data": {
      "image/png": "[encoded data removed]",
      "text/plain": [
       "<Figure size 6x6 with 1 Axes>"
      ]
     },
     "metadata": {},
     "output_type": "display_data"
    },
    {
     "data": {
      "image/png": "[encoded data removed]",
      "text/plain": [
       "<Figure size 6x6 with 1 Axes>"
      ]
     },
     "metadata": {},
     "output_type": "display_data"
    }
   ],
   "source": [
    "train_loader, val_loader, test_loader, attributes, imgs_shape = load_and_preprocess_data(\n",
    "    X_train, y_train, X_test, y_test, X_val, y_val,\n",
    "    image_model=image_model,\n",
    "    problem_type=problem_type,\n",
    "    batch_size=16\n",
    ")"
   ]
  },
  {
   "cell_type": "code",
   "execution_count": 22,
   "id": "af7bc776-0d49-4456-ba5b-861c4005fa73",
   "metadata": {},
   "outputs": [],
   "source": [
    "def combine_loader(loader):\n",
    "    \"\"\"\n",
    "    Combines all batches from a DataLoader into three tensors.\n",
    "    Assumes each batch is a tuple: (mlp_tensor, img_tensor, target_tensor)\n",
    "    \"\"\"\n",
    "    mlp_list, img_list, target_list = [], [], []\n",
    "    for mlp, img, target in loader:\n",
    "        mlp_list.append(mlp)\n",
    "        img_list.append(img)\n",
    "        target_list.append(target)\n",
    "    return torch.cat(mlp_list, dim=0), torch.cat(img_list, dim=0), torch.cat(target_list, dim=0)"
   ]
  },
  {
   "cell_type": "code",
   "execution_count": 23,
   "id": "2c84fd70-94ac-4546-b907-00fe548676ba",
   "metadata": {},
   "outputs": [],
   "source": [
    "# Combine dataloaders into tensors.\n",
    "train_mlp, train_img, train_target = combine_loader(train_loader)\n",
    "val_mlp, val_img, val_target = combine_loader(val_loader)\n",
    "test_mlp, test_img, test_target = combine_loader(test_loader)\n",
    "\n",
    "dataset = {\n",
    "    \"train_input\": train_mlp.to(device),\n",
    "    \"train_img\": train_img.to(device),\n",
    "    \"train_label\": train_target.to(device),\n",
    "    \"val_input\": val_mlp.to(device),\n",
    "    \"val_img\": val_img.to(device),\n",
    "    \"val_label\": val_target.to(device),\n",
    "    \"test_input\": test_mlp.to(device),\n",
    "    \"test_img\": test_img.to(device),\n",
    "    \"test_label\": test_target.to(device),\n",
    "}"
   ]
  },
  {
   "cell_type": "code",
   "execution_count": 24,
   "id": "d8382d81-df3d-4828-90a0-a472f0fb312e",
   "metadata": {},
   "outputs": [
    {
     "name": "stdout",
     "output_type": "stream",
     "text": [
      "Train data shape: torch.Size([5242, 8])\n",
      "Train target shape: torch.Size([5242, 1])\n",
      "Test data shape: torch.Size([1639, 8])\n",
      "Test target shape: torch.Size([1639, 1])\n",
      "Validation data shape: torch.Size([1311, 8])\n",
      "Validation target shape: torch.Size([1311, 1])\n"
     ]
    }
   ],
   "source": [
    "# Print the shapes of the tensors\n",
    "print(\"Train data shape:\", dataset['train_input'].shape)\n",
    "print(\"Train target shape:\", dataset['train_label'].shape)\n",
    "print(\"Test data shape:\", dataset['test_input'].shape)\n",
    "print(\"Test target shape:\", dataset['test_label'].shape)\n",
    "print(\"Validation data shape:\", dataset['val_input'].shape)\n",
    "print(\"Validation target shape:\", dataset['val_label'].shape)"
   ]
  },
  {
   "cell_type": "markdown",
   "id": "a226b922-a823-49b6-ada1-6fae898ef239",
   "metadata": {},
   "source": [
    "# Grid Search for KAN"
   ]
  },
  {
   "cell_type": "code",
   "execution_count": 25,
   "id": "6c7a78d5-a403-422d-b6f1-191d9139220b",
   "metadata": {
    "scrolled": true
   },
   "outputs": [
    {
     "name": "stdout",
     "output_type": "stream",
     "text": [
      "Testing width=[8, 1, 1], lamb=1.0, grid=3\n",
      "checkpoint directory created: ./model\n",
      "saving model version 0.0\n"
     ]
    },
    {
     "name": "stderr",
     "output_type": "stream",
     "text": [
      "| train_loss: 5.69e+00 | val_loss: 5.86e+00 | reg: 1.49e-01 | : 100%|█| 40/40 [00:06<00:00,  6.26it/\n"
     ]
    },
    {
     "name": "stdout",
     "output_type": "stream",
     "text": [
      "saving model version 0.1\n",
      "✅ Best validation loss: 3.4309e+01 at 4 epoch\n",
      "Testing width=[8, 1, 1], lamb=0.1, grid=3\n",
      "checkpoint directory created: ./model\n",
      "saving model version 0.0\n"
     ]
    },
    {
     "name": "stderr",
     "output_type": "stream",
     "text": [
      "| train_loss: 3.33e+00 | val_loss: 3.37e+00 | reg: 1.40e+01 | : 100%|█| 40/40 [00:07<00:00,  5.09it/\n"
     ]
    },
    {
     "name": "stdout",
     "output_type": "stream",
     "text": [
      "saving model version 0.1\n",
      "✅ Best validation loss: 1.1339e+01 at 4 epoch\n",
      "Testing width=[8, 1, 1], lamb=0.01, grid=3\n",
      "checkpoint directory created: ./model\n",
      "saving model version 0.0\n"
     ]
    },
    {
     "name": "stderr",
     "output_type": "stream",
     "text": [
      "| train_loss: 3.32e+00 | val_loss: 3.39e+00 | reg: 1.44e+01 | : 100%|█| 40/40 [00:10<00:00,  3.95it/\n"
     ]
    },
    {
     "name": "stdout",
     "output_type": "stream",
     "text": [
      "saving model version 0.1\n",
      "✅ Best validation loss: 1.1237e+01 at 3 epoch\n",
      "Testing width=[8, 1, 1], lamb=0.001, grid=3\n",
      "checkpoint directory created: ./model\n",
      "saving model version 0.0\n"
     ]
    },
    {
     "name": "stderr",
     "output_type": "stream",
     "text": [
      "| train_loss: 3.32e+00 | val_loss: 3.39e+00 | reg: 1.48e+01 | : 100%|█| 40/40 [00:11<00:00,  3.61it/\n"
     ]
    },
    {
     "name": "stdout",
     "output_type": "stream",
     "text": [
      "saving model version 0.1\n",
      "✅ Best validation loss: 1.1252e+01 at 3 epoch\n",
      "Testing width=[8, 1, 1], lamb=0.0001, grid=3\n",
      "checkpoint directory created: ./model\n",
      "saving model version 0.0\n"
     ]
    },
    {
     "name": "stderr",
     "output_type": "stream",
     "text": [
      "| train_loss: 3.32e+00 | val_loss: 3.39e+00 | reg: 1.50e+01 | : 100%|█| 40/40 [00:09<00:00,  4.19it/\n"
     ]
    },
    {
     "name": "stdout",
     "output_type": "stream",
     "text": [
      "saving model version 0.1\n",
      "✅ Best validation loss: 1.1279e+01 at 3 epoch\n",
      "Testing width=[8, 1, 1], lamb=1e-05, grid=3\n",
      "checkpoint directory created: ./model\n",
      "saving model version 0.0\n"
     ]
    },
    {
     "name": "stderr",
     "output_type": "stream",
     "text": [
      "| train_loss: 3.32e+00 | val_loss: 3.39e+00 | reg: 1.51e+01 | : 100%|█| 40/40 [00:10<00:00,  3.97it/\n"
     ]
    },
    {
     "name": "stdout",
     "output_type": "stream",
     "text": [
      "saving model version 0.1\n",
      "✅ Best validation loss: 1.1266e+01 at 2 epoch\n",
      "Testing width=[8, 1, 1], lamb=1.0, grid=4\n",
      "checkpoint directory created: ./model\n",
      "saving model version 0.0\n"
     ]
    },
    {
     "name": "stderr",
     "output_type": "stream",
     "text": [
      "| train_loss: 5.60e+00 | val_loss: 5.77e+00 | reg: 1.46e-01 | : 100%|█| 40/40 [00:06<00:00,  5.90it/\n"
     ]
    },
    {
     "name": "stdout",
     "output_type": "stream",
     "text": [
      "saving model version 0.1\n",
      "✅ Best validation loss: 3.3280e+01 at 3 epoch\n",
      "Testing width=[8, 1, 1], lamb=0.1, grid=4\n",
      "checkpoint directory created: ./model\n",
      "saving model version 0.0\n"
     ]
    },
    {
     "name": "stderr",
     "output_type": "stream",
     "text": [
      "| train_loss: 3.33e+00 | val_loss: 3.36e+00 | reg: 1.25e+01 | : 100%|█| 40/40 [00:08<00:00,  4.78it/\n"
     ]
    },
    {
     "name": "stdout",
     "output_type": "stream",
     "text": [
      "saving model version 0.1\n",
      "✅ Best validation loss: 1.1278e+01 at 4 epoch\n",
      "Testing width=[8, 1, 1], lamb=0.01, grid=4\n",
      "checkpoint directory created: ./model\n",
      "saving model version 0.0\n"
     ]
    },
    {
     "name": "stderr",
     "output_type": "stream",
     "text": [
      "| train_loss: 3.32e+00 | val_loss: 3.38e+00 | reg: 1.41e+01 | : 100%|█| 40/40 [00:09<00:00,  4.17it/\n"
     ]
    },
    {
     "name": "stdout",
     "output_type": "stream",
     "text": [
      "saving model version 0.1\n",
      "✅ Best validation loss: 1.1278e+01 at 4 epoch\n",
      "Testing width=[8, 1, 1], lamb=0.001, grid=4\n",
      "checkpoint directory created: ./model\n",
      "saving model version 0.0\n"
     ]
    },
    {
     "name": "stderr",
     "output_type": "stream",
     "text": [
      "| train_loss: 3.32e+00 | val_loss: 3.38e+00 | reg: 1.50e+01 | : 100%|█| 40/40 [00:09<00:00,  4.04it/\n"
     ]
    },
    {
     "name": "stdout",
     "output_type": "stream",
     "text": [
      "saving model version 0.1\n",
      "✅ Best validation loss: 1.1257e+01 at 3 epoch\n",
      "Testing width=[8, 1, 1], lamb=0.0001, grid=4\n",
      "checkpoint directory created: ./model\n",
      "saving model version 0.0\n"
     ]
    },
    {
     "name": "stderr",
     "output_type": "stream",
     "text": [
      "| train_loss: 3.32e+00 | val_loss: 3.39e+00 | reg: 1.46e+01 | : 100%|█| 40/40 [00:09<00:00,  4.08it/\n"
     ]
    },
    {
     "name": "stdout",
     "output_type": "stream",
     "text": [
      "saving model version 0.1\n",
      "✅ Best validation loss: 1.1263e+01 at 4 epoch\n",
      "Testing width=[8, 1, 1], lamb=1e-05, grid=4\n",
      "checkpoint directory created: ./model\n",
      "saving model version 0.0\n"
     ]
    },
    {
     "name": "stderr",
     "output_type": "stream",
     "text": [
      "| train_loss: 3.32e+00 | val_loss: 3.38e+00 | reg: 1.46e+01 | : 100%|█| 40/40 [00:09<00:00,  4.14it/\n"
     ]
    },
    {
     "name": "stdout",
     "output_type": "stream",
     "text": [
      "saving model version 0.1\n",
      "✅ Best validation loss: 1.1257e+01 at 3 epoch\n",
      "Testing width=[8, 1, 1], lamb=1.0, grid=5\n",
      "checkpoint directory created: ./model\n",
      "saving model version 0.0\n"
     ]
    },
    {
     "name": "stderr",
     "output_type": "stream",
     "text": [
      "| train_loss: 5.69e+00 | val_loss: 5.86e+00 | reg: 1.75e-01 | : 100%|█| 40/40 [00:04<00:00,  9.09it/\n"
     ]
    },
    {
     "name": "stdout",
     "output_type": "stream",
     "text": [
      "saving model version 0.1\n",
      "✅ Best validation loss: 3.4319e+01 at 6 epoch\n",
      "Testing width=[8, 1, 1], lamb=0.1, grid=5\n",
      "checkpoint directory created: ./model\n",
      "saving model version 0.0\n"
     ]
    },
    {
     "name": "stderr",
     "output_type": "stream",
     "text": [
      "| train_loss: 3.32e+00 | val_loss: 3.36e+00 | reg: 1.28e+01 | : 100%|█| 40/40 [00:08<00:00,  4.68it/\n"
     ]
    },
    {
     "name": "stdout",
     "output_type": "stream",
     "text": [
      "saving model version 0.1\n",
      "✅ Best validation loss: 1.1222e+01 at 22 epoch\n",
      "Testing width=[8, 1, 1], lamb=0.01, grid=5\n",
      "checkpoint directory created: ./model\n",
      "saving model version 0.0\n"
     ]
    },
    {
     "name": "stderr",
     "output_type": "stream",
     "text": [
      "| train_loss: 3.36e+00 | val_loss: 3.45e+00 | reg: 1.16e+01 | : 100%|█| 40/40 [00:10<00:00,  3.98it/\n"
     ]
    },
    {
     "name": "stdout",
     "output_type": "stream",
     "text": [
      "saving model version 0.1\n",
      "✅ Best validation loss: 1.1772e+01 at 20 epoch\n",
      "Testing width=[8, 1, 1], lamb=0.001, grid=5\n",
      "checkpoint directory created: ./model\n",
      "saving model version 0.0\n"
     ]
    },
    {
     "name": "stderr",
     "output_type": "stream",
     "text": [
      "| train_loss: 3.31e+00 | val_loss: 3.38e+00 | reg: 1.32e+01 | : 100%|█| 40/40 [00:09<00:00,  4.06it/\n"
     ]
    },
    {
     "name": "stdout",
     "output_type": "stream",
     "text": [
      "saving model version 0.1\n",
      "✅ Best validation loss: 1.1311e+01 at 14 epoch\n",
      "Testing width=[8, 1, 1], lamb=0.0001, grid=5\n",
      "checkpoint directory created: ./model\n",
      "saving model version 0.0\n"
     ]
    },
    {
     "name": "stderr",
     "output_type": "stream",
     "text": [
      "| train_loss: 3.31e+00 | val_loss: 3.38e+00 | reg: 1.39e+01 | : 100%|█| 40/40 [00:10<00:00,  3.83it/\n"
     ]
    },
    {
     "name": "stdout",
     "output_type": "stream",
     "text": [
      "saving model version 0.1\n",
      "✅ Best validation loss: 1.1277e+01 at 9 epoch\n",
      "Testing width=[8, 1, 1], lamb=1e-05, grid=5\n",
      "checkpoint directory created: ./model\n",
      "saving model version 0.0\n"
     ]
    },
    {
     "name": "stderr",
     "output_type": "stream",
     "text": [
      "| train_loss: 3.31e+00 | val_loss: 3.37e+00 | reg: 1.28e+01 | : 100%|█| 40/40 [00:09<00:00,  4.17it/\n"
     ]
    },
    {
     "name": "stdout",
     "output_type": "stream",
     "text": [
      "saving model version 0.1\n",
      "✅ Best validation loss: 1.1296e+01 at 36 epoch\n",
      "Testing width=[8, 1, 1], lamb=1.0, grid=6\n",
      "checkpoint directory created: ./model\n",
      "saving model version 0.0\n"
     ]
    },
    {
     "name": "stderr",
     "output_type": "stream",
     "text": [
      "| train_loss: 5.67e+00 | val_loss: 5.84e+00 | reg: 4.49e-02 | : 100%|█| 40/40 [00:04<00:00,  9.76it/\n"
     ]
    },
    {
     "name": "stdout",
     "output_type": "stream",
     "text": [
      "saving model version 0.1\n",
      "✅ Best validation loss: 3.4076e+01 at 3 epoch\n",
      "Testing width=[8, 1, 1], lamb=0.1, grid=6\n",
      "checkpoint directory created: ./model\n",
      "saving model version 0.0\n"
     ]
    },
    {
     "name": "stderr",
     "output_type": "stream",
     "text": [
      "| train_loss: 3.33e+00 | val_loss: 3.36e+00 | reg: 1.22e+01 | : 100%|█| 40/40 [00:09<00:00,  4.37it/\n"
     ]
    },
    {
     "name": "stdout",
     "output_type": "stream",
     "text": [
      "saving model version 0.1\n",
      "✅ Best validation loss: 1.1266e+01 at 35 epoch\n",
      "Testing width=[8, 1, 1], lamb=0.01, grid=6\n",
      "checkpoint directory created: ./model\n",
      "saving model version 0.0\n"
     ]
    },
    {
     "name": "stderr",
     "output_type": "stream",
     "text": [
      "| train_loss: 3.31e+00 | val_loss: 3.37e+00 | reg: 1.48e+01 | : 100%|█| 40/40 [00:09<00:00,  4.07it/\n"
     ]
    },
    {
     "name": "stdout",
     "output_type": "stream",
     "text": [
      "saving model version 0.1\n",
      "✅ Best validation loss: 1.1344e+01 at 39 epoch\n",
      "Testing width=[8, 1, 1], lamb=0.001, grid=6\n",
      "checkpoint directory created: ./model\n",
      "saving model version 0.0\n"
     ]
    },
    {
     "name": "stderr",
     "output_type": "stream",
     "text": [
      "| train_loss: 3.30e+00 | val_loss: 3.38e+00 | reg: 1.27e+01 | : 100%|█| 40/40 [00:09<00:00,  4.20it/\n"
     ]
    },
    {
     "name": "stdout",
     "output_type": "stream",
     "text": [
      "saving model version 0.1\n",
      "✅ Best validation loss: 1.1267e+01 at 6 epoch\n",
      "Testing width=[8, 1, 1], lamb=0.0001, grid=6\n",
      "checkpoint directory created: ./model\n",
      "saving model version 0.0\n"
     ]
    },
    {
     "name": "stderr",
     "output_type": "stream",
     "text": [
      "| train_loss: 3.32e+00 | val_loss: 3.41e+00 | reg: 1.18e+01 | : 100%|█| 40/40 [00:09<00:00,  4.22it/\n"
     ]
    },
    {
     "name": "stdout",
     "output_type": "stream",
     "text": [
      "saving model version 0.1\n",
      "✅ Best validation loss: 1.1626e+01 at 37 epoch\n",
      "Testing width=[8, 1, 1], lamb=1e-05, grid=6\n",
      "checkpoint directory created: ./model\n",
      "saving model version 0.0\n"
     ]
    },
    {
     "name": "stderr",
     "output_type": "stream",
     "text": [
      "| train_loss: 3.32e+00 | val_loss: 3.42e+00 | reg: 1.25e+01 | : 100%|█| 40/40 [00:09<00:00,  4.16it/\n"
     ]
    },
    {
     "name": "stdout",
     "output_type": "stream",
     "text": [
      "saving model version 0.1\n",
      "✅ Best validation loss: 1.1494e+01 at 7 epoch\n",
      "Testing width=[8, 2, 1], lamb=1.0, grid=3\n",
      "checkpoint directory created: ./model\n",
      "saving model version 0.0\n"
     ]
    },
    {
     "name": "stderr",
     "output_type": "stream",
     "text": [
      "| train_loss: 5.67e+00 | val_loss: 5.84e+00 | reg: 1.56e-01 | : 100%|█| 40/40 [00:07<00:00,  5.19it/\n"
     ]
    },
    {
     "name": "stdout",
     "output_type": "stream",
     "text": [
      "saving model version 0.1\n",
      "✅ Best validation loss: 3.4134e+01 at 4 epoch\n",
      "Testing width=[8, 2, 1], lamb=0.1, grid=3\n",
      "checkpoint directory created: ./model\n",
      "saving model version 0.0\n"
     ]
    },
    {
     "name": "stderr",
     "output_type": "stream",
     "text": [
      "| train_loss: 3.12e+00 | val_loss: 3.11e+00 | reg: 1.82e+01 | : 100%|█| 40/40 [00:10<00:00,  3.77it/\n"
     ]
    },
    {
     "name": "stdout",
     "output_type": "stream",
     "text": [
      "saving model version 0.1\n",
      "✅ Best validation loss: 9.6585e+00 at 24 epoch\n",
      "Testing width=[8, 2, 1], lamb=0.01, grid=3\n",
      "checkpoint directory created: ./model\n",
      "saving model version 0.0\n"
     ]
    },
    {
     "name": "stderr",
     "output_type": "stream",
     "text": [
      "| train_loss: 3.07e+00 | val_loss: 3.12e+00 | reg: 2.58e+01 | : 100%|█| 40/40 [00:11<00:00,  3.63it/\n"
     ]
    },
    {
     "name": "stdout",
     "output_type": "stream",
     "text": [
      "saving model version 0.1\n",
      "✅ Best validation loss: 9.6125e+00 at 24 epoch\n",
      "Testing width=[8, 2, 1], lamb=0.001, grid=3\n",
      "checkpoint directory created: ./model\n",
      "saving model version 0.0\n"
     ]
    },
    {
     "name": "stderr",
     "output_type": "stream",
     "text": [
      "| train_loss: 3.08e+00 | val_loss: 3.12e+00 | reg: 3.35e+01 | : 100%|█| 40/40 [00:13<00:00,  2.99it/\n"
     ]
    },
    {
     "name": "stdout",
     "output_type": "stream",
     "text": [
      "saving model version 0.1\n",
      "✅ Best validation loss: 9.6415e+00 at 21 epoch\n",
      "Testing width=[8, 2, 1], lamb=0.0001, grid=3\n",
      "checkpoint directory created: ./model\n",
      "saving model version 0.0\n"
     ]
    },
    {
     "name": "stderr",
     "output_type": "stream",
     "text": [
      "| train_loss: 3.08e+00 | val_loss: 3.11e+00 | reg: 4.14e+01 | : 100%|█| 40/40 [00:13<00:00,  3.04it/\n"
     ]
    },
    {
     "name": "stdout",
     "output_type": "stream",
     "text": [
      "saving model version 0.1\n",
      "✅ Best validation loss: 9.6392e+00 at 10 epoch\n",
      "Testing width=[8, 2, 1], lamb=1e-05, grid=3\n",
      "checkpoint directory created: ./model\n",
      "saving model version 0.0\n"
     ]
    },
    {
     "name": "stderr",
     "output_type": "stream",
     "text": [
      "| train_loss: 3.08e+00 | val_loss: 3.11e+00 | reg: 3.51e+01 | : 100%|█| 40/40 [00:11<00:00,  3.43it/\n"
     ]
    },
    {
     "name": "stdout",
     "output_type": "stream",
     "text": [
      "saving model version 0.1\n",
      "✅ Best validation loss: 9.6183e+00 at 13 epoch\n",
      "Testing width=[8, 2, 1], lamb=1.0, grid=4\n",
      "checkpoint directory created: ./model\n",
      "saving model version 0.0\n"
     ]
    },
    {
     "name": "stderr",
     "output_type": "stream",
     "text": [
      "| train_loss: 5.67e+00 | val_loss: 5.83e+00 | reg: 1.49e-01 | : 100%|█| 40/40 [00:09<00:00,  4.31it/\n"
     ]
    },
    {
     "name": "stdout",
     "output_type": "stream",
     "text": [
      "saving model version 0.1\n",
      "✅ Best validation loss: 3.4033e+01 at 14 epoch\n",
      "Testing width=[8, 2, 1], lamb=0.1, grid=4\n",
      "checkpoint directory created: ./model\n",
      "saving model version 0.0\n"
     ]
    },
    {
     "name": "stderr",
     "output_type": "stream",
     "text": [
      "| train_loss: 3.33e+00 | val_loss: 3.37e+00 | reg: 1.22e+01 | : 100%|█| 40/40 [00:11<00:00,  3.57it/\n"
     ]
    },
    {
     "name": "stdout",
     "output_type": "stream",
     "text": [
      "saving model version 0.1\n",
      "✅ Best validation loss: 1.1325e+01 at 38 epoch\n",
      "Testing width=[8, 2, 1], lamb=0.01, grid=4\n",
      "checkpoint directory created: ./model\n",
      "saving model version 0.0\n"
     ]
    },
    {
     "name": "stderr",
     "output_type": "stream",
     "text": [
      "| train_loss: 3.06e+00 | val_loss: 3.13e+00 | reg: 2.22e+01 | : 100%|█| 40/40 [00:12<00:00,  3.27it/\n"
     ]
    },
    {
     "name": "stdout",
     "output_type": "stream",
     "text": [
      "saving model version 0.1\n",
      "✅ Best validation loss: 9.5916e+00 at 4 epoch\n",
      "Testing width=[8, 2, 1], lamb=0.001, grid=4\n",
      "checkpoint directory created: ./model\n",
      "saving model version 0.0\n"
     ]
    },
    {
     "name": "stderr",
     "output_type": "stream",
     "text": [
      "| train_loss: 3.09e+00 | val_loss: 3.11e+00 | reg: 2.97e+01 | : 100%|█| 40/40 [00:12<00:00,  3.27it/\n"
     ]
    },
    {
     "name": "stdout",
     "output_type": "stream",
     "text": [
      "saving model version 0.1\n",
      "✅ Best validation loss: 9.6718e+00 at 29 epoch\n",
      "Testing width=[8, 2, 1], lamb=0.0001, grid=4\n",
      "checkpoint directory created: ./model\n",
      "saving model version 0.0\n"
     ]
    },
    {
     "name": "stderr",
     "output_type": "stream",
     "text": [
      "| train_loss: 3.10e+00 | val_loss: 3.13e+00 | reg: 4.18e+01 | : 100%|█| 40/40 [00:11<00:00,  3.39it/\n"
     ]
    },
    {
     "name": "stdout",
     "output_type": "stream",
     "text": [
      "saving model version 0.1\n",
      "✅ Best validation loss: 9.7791e+00 at 38 epoch\n",
      "Testing width=[8, 2, 1], lamb=1e-05, grid=4\n",
      "checkpoint directory created: ./model\n",
      "saving model version 0.0\n"
     ]
    },
    {
     "name": "stderr",
     "output_type": "stream",
     "text": [
      "| train_loss: 3.09e+00 | val_loss: 3.12e+00 | reg: 3.06e+01 | : 100%|█| 40/40 [00:12<00:00,  3.19it/\n"
     ]
    },
    {
     "name": "stdout",
     "output_type": "stream",
     "text": [
      "saving model version 0.1\n",
      "✅ Best validation loss: 9.6485e+00 at 32 epoch\n",
      "Testing width=[8, 2, 1], lamb=1.0, grid=5\n",
      "checkpoint directory created: ./model\n",
      "saving model version 0.0\n"
     ]
    },
    {
     "name": "stderr",
     "output_type": "stream",
     "text": [
      "| train_loss: 5.68e+00 | val_loss: 5.85e+00 | reg: 2.05e-01 | : 100%|█| 40/40 [00:07<00:00,  5.55it/\n"
     ]
    },
    {
     "name": "stdout",
     "output_type": "stream",
     "text": [
      "saving model version 0.1\n",
      "✅ Best validation loss: 3.4252e+01 at 15 epoch\n",
      "Testing width=[8, 2, 1], lamb=0.1, grid=5\n",
      "checkpoint directory created: ./model\n",
      "saving model version 0.0\n"
     ]
    },
    {
     "name": "stderr",
     "output_type": "stream",
     "text": [
      "| train_loss: 3.13e+00 | val_loss: 3.18e+00 | reg: 2.15e+01 | : 100%|█| 40/40 [00:12<00:00,  3.25it/\n"
     ]
    },
    {
     "name": "stdout",
     "output_type": "stream",
     "text": [
      "saving model version 0.1\n",
      "✅ Best validation loss: 1.0050e+01 at 35 epoch\n",
      "Testing width=[8, 2, 1], lamb=0.01, grid=5\n",
      "checkpoint directory created: ./model\n",
      "saving model version 0.0\n"
     ]
    },
    {
     "name": "stderr",
     "output_type": "stream",
     "text": [
      "| train_loss: 3.10e+00 | val_loss: 3.15e+00 | reg: 2.39e+01 | : 100%|█| 40/40 [00:12<00:00,  3.14it/\n"
     ]
    },
    {
     "name": "stdout",
     "output_type": "stream",
     "text": [
      "saving model version 0.1\n",
      "✅ Best validation loss: 9.9373e+00 at 38 epoch\n",
      "Testing width=[8, 2, 1], lamb=0.001, grid=5\n",
      "checkpoint directory created: ./model\n",
      "saving model version 0.0\n"
     ]
    },
    {
     "name": "stderr",
     "output_type": "stream",
     "text": [
      "| train_loss: 3.10e+00 | val_loss: 3.12e+00 | reg: 3.00e+01 | : 100%|█| 40/40 [00:11<00:00,  3.62it/\n"
     ]
    },
    {
     "name": "stdout",
     "output_type": "stream",
     "text": [
      "saving model version 0.1\n",
      "✅ Best validation loss: 9.7493e+00 at 27 epoch\n",
      "Testing width=[8, 2, 1], lamb=0.0001, grid=5\n",
      "checkpoint directory created: ./model\n",
      "saving model version 0.0\n"
     ]
    },
    {
     "name": "stderr",
     "output_type": "stream",
     "text": [
      "| train_loss: 3.08e+00 | val_loss: 3.13e+00 | reg: 2.71e+01 | : 100%|█| 40/40 [00:11<00:00,  3.57it/\n"
     ]
    },
    {
     "name": "stdout",
     "output_type": "stream",
     "text": [
      "saving model version 0.1\n",
      "✅ Best validation loss: 9.8024e+00 at 17 epoch\n",
      "Testing width=[8, 2, 1], lamb=1e-05, grid=5\n",
      "checkpoint directory created: ./model\n",
      "saving model version 0.0\n"
     ]
    },
    {
     "name": "stderr",
     "output_type": "stream",
     "text": [
      "| train_loss: 3.11e+00 | val_loss: 3.14e+00 | reg: 3.15e+01 | : 100%|█| 40/40 [00:11<00:00,  3.60it/\n"
     ]
    },
    {
     "name": "stdout",
     "output_type": "stream",
     "text": [
      "saving model version 0.1\n",
      "✅ Best validation loss: 9.8359e+00 at 39 epoch\n",
      "Testing width=[8, 2, 1], lamb=1.0, grid=6\n",
      "checkpoint directory created: ./model\n",
      "saving model version 0.0\n"
     ]
    },
    {
     "name": "stderr",
     "output_type": "stream",
     "text": [
      "| train_loss: 5.68e+00 | val_loss: 5.85e+00 | reg: 2.01e-01 | : 100%|█| 40/40 [00:05<00:00,  6.79it/\n"
     ]
    },
    {
     "name": "stdout",
     "output_type": "stream",
     "text": [
      "saving model version 0.1\n",
      "✅ Best validation loss: 3.4231e+01 at 4 epoch\n",
      "Testing width=[8, 2, 1], lamb=0.1, grid=6\n",
      "checkpoint directory created: ./model\n",
      "saving model version 0.0\n"
     ]
    },
    {
     "name": "stderr",
     "output_type": "stream",
     "text": [
      "| train_loss: 3.11e+00 | val_loss: 3.12e+00 | reg: 1.79e+01 | : 100%|█| 40/40 [00:11<00:00,  3.58it/\n"
     ]
    },
    {
     "name": "stdout",
     "output_type": "stream",
     "text": [
      "saving model version 0.1\n",
      "✅ Best validation loss: 9.7360e+00 at 34 epoch\n",
      "Testing width=[8, 2, 1], lamb=0.01, grid=6\n",
      "checkpoint directory created: ./model\n",
      "saving model version 0.0\n"
     ]
    },
    {
     "name": "stderr",
     "output_type": "stream",
     "text": [
      "| train_loss: 3.07e+00 | val_loss: 3.12e+00 | reg: 2.06e+01 | : 100%|█| 40/40 [00:11<00:00,  3.50it/\n"
     ]
    },
    {
     "name": "stdout",
     "output_type": "stream",
     "text": [
      "saving model version 0.1\n",
      "✅ Best validation loss: 9.6989e+00 at 30 epoch\n",
      "Testing width=[8, 2, 1], lamb=0.001, grid=6\n",
      "checkpoint directory created: ./model\n",
      "saving model version 0.0\n"
     ]
    },
    {
     "name": "stderr",
     "output_type": "stream",
     "text": [
      "| train_loss: 3.07e+00 | val_loss: 3.12e+00 | reg: 2.36e+01 | : 100%|█| 40/40 [00:11<00:00,  3.52it/\n"
     ]
    },
    {
     "name": "stdout",
     "output_type": "stream",
     "text": [
      "saving model version 0.1\n",
      "✅ Best validation loss: 9.6699e+00 at 21 epoch\n",
      "Testing width=[8, 2, 1], lamb=0.0001, grid=6\n",
      "checkpoint directory created: ./model\n",
      "saving model version 0.0\n"
     ]
    },
    {
     "name": "stderr",
     "output_type": "stream",
     "text": [
      "| train_loss: 3.07e+00 | val_loss: 3.12e+00 | reg: 2.64e+01 | : 100%|█| 40/40 [00:11<00:00,  3.58it/\n"
     ]
    },
    {
     "name": "stdout",
     "output_type": "stream",
     "text": [
      "saving model version 0.1\n",
      "✅ Best validation loss: 9.6560e+00 at 22 epoch\n",
      "Testing width=[8, 2, 1], lamb=1e-05, grid=6\n",
      "checkpoint directory created: ./model\n",
      "saving model version 0.0\n"
     ]
    },
    {
     "name": "stderr",
     "output_type": "stream",
     "text": [
      "| train_loss: 3.07e+00 | val_loss: 3.11e+00 | reg: 2.95e+01 | : 100%|█| 40/40 [00:11<00:00,  3.59it/\n"
     ]
    },
    {
     "name": "stdout",
     "output_type": "stream",
     "text": [
      "saving model version 0.1\n",
      "✅ Best validation loss: 9.6382e+00 at 24 epoch\n",
      "Testing width=[8, 3, 1], lamb=1.0, grid=3\n",
      "checkpoint directory created: ./model\n",
      "saving model version 0.0\n"
     ]
    },
    {
     "name": "stderr",
     "output_type": "stream",
     "text": [
      "| train_loss: 5.63e+00 | val_loss: 5.80e+00 | reg: 2.05e-01 | : 100%|█| 40/40 [00:06<00:00,  5.76it/\n"
     ]
    },
    {
     "name": "stdout",
     "output_type": "stream",
     "text": [
      "saving model version 0.1\n",
      "✅ Best validation loss: 3.3662e+01 at 4 epoch\n",
      "Testing width=[8, 3, 1], lamb=0.1, grid=3\n",
      "checkpoint directory created: ./model\n",
      "saving model version 0.0\n"
     ]
    },
    {
     "name": "stderr",
     "output_type": "stream",
     "text": [
      "| train_loss: 3.11e+00 | val_loss: 3.11e+00 | reg: 1.67e+01 | : 100%|█| 40/40 [00:08<00:00,  4.90it/\n"
     ]
    },
    {
     "name": "stdout",
     "output_type": "stream",
     "text": [
      "saving model version 0.1\n",
      "✅ Best validation loss: 9.6442e+00 at 13 epoch\n",
      "Testing width=[8, 3, 1], lamb=0.01, grid=3\n",
      "checkpoint directory created: ./model\n",
      "saving model version 0.0\n"
     ]
    },
    {
     "name": "stderr",
     "output_type": "stream",
     "text": [
      "| train_loss: 3.05e+00 | val_loss: 3.14e+00 | reg: 2.66e+01 | : 100%|█| 40/40 [00:11<00:00,  3.48it/\n"
     ]
    },
    {
     "name": "stdout",
     "output_type": "stream",
     "text": [
      "saving model version 0.1\n",
      "✅ Best validation loss: 9.7092e+00 at 12 epoch\n",
      "Testing width=[8, 3, 1], lamb=0.001, grid=3\n",
      "checkpoint directory created: ./model\n",
      "saving model version 0.0\n"
     ]
    },
    {
     "name": "stderr",
     "output_type": "stream",
     "text": [
      "| train_loss: 3.05e+00 | val_loss: 3.14e+00 | reg: 3.39e+01 | : 100%|█| 40/40 [00:11<00:00,  3.59it/\n"
     ]
    },
    {
     "name": "stdout",
     "output_type": "stream",
     "text": [
      "saving model version 0.1\n",
      "✅ Best validation loss: 9.7047e+00 at 11 epoch\n",
      "Testing width=[8, 3, 1], lamb=0.0001, grid=3\n",
      "checkpoint directory created: ./model\n",
      "saving model version 0.0\n"
     ]
    },
    {
     "name": "stderr",
     "output_type": "stream",
     "text": [
      "| train_loss: 3.09e+00 | val_loss: 3.11e+00 | reg: 4.37e+01 | : 100%|█| 40/40 [00:11<00:00,  3.63it/\n"
     ]
    },
    {
     "name": "stdout",
     "output_type": "stream",
     "text": [
      "saving model version 0.1\n",
      "✅ Best validation loss: 9.6842e+00 at 38 epoch\n",
      "Testing width=[8, 3, 1], lamb=1e-05, grid=3\n",
      "checkpoint directory created: ./model\n",
      "saving model version 0.0\n"
     ]
    },
    {
     "name": "stderr",
     "output_type": "stream",
     "text": [
      "| train_loss: 3.08e+00 | val_loss: 3.14e+00 | reg: 5.31e+01 | : 100%|█| 40/40 [00:10<00:00,  3.69it/\n"
     ]
    },
    {
     "name": "stdout",
     "output_type": "stream",
     "text": [
      "saving model version 0.1\n",
      "✅ Best validation loss: 9.7264e+00 at 15 epoch\n",
      "Testing width=[8, 3, 1], lamb=1.0, grid=4\n",
      "checkpoint directory created: ./model\n",
      "saving model version 0.0\n"
     ]
    },
    {
     "name": "stderr",
     "output_type": "stream",
     "text": [
      "| train_loss: 5.61e+00 | val_loss: 5.78e+00 | reg: 2.79e-01 | : 100%|█| 40/40 [00:07<00:00,  5.21it/\n"
     ]
    },
    {
     "name": "stdout",
     "output_type": "stream",
     "text": [
      "saving model version 0.1\n",
      "✅ Best validation loss: 3.3402e+01 at 4 epoch\n",
      "Testing width=[8, 3, 1], lamb=0.1, grid=4\n",
      "checkpoint directory created: ./model\n",
      "saving model version 0.0\n"
     ]
    },
    {
     "name": "stderr",
     "output_type": "stream",
     "text": [
      "| train_loss: 3.33e+00 | val_loss: 3.37e+00 | reg: 1.16e+01 | : 100%|█| 40/40 [00:10<00:00,  3.72it/\n"
     ]
    },
    {
     "name": "stdout",
     "output_type": "stream",
     "text": [
      "saving model version 0.1\n",
      "✅ Best validation loss: 1.1216e+01 at 4 epoch\n",
      "Testing width=[8, 3, 1], lamb=0.01, grid=4\n",
      "checkpoint directory created: ./model\n",
      "saving model version 0.0\n"
     ]
    },
    {
     "name": "stderr",
     "output_type": "stream",
     "text": [
      "| train_loss: 3.07e+00 | val_loss: 3.11e+00 | reg: 2.07e+01 | : 100%|█| 40/40 [00:11<00:00,  3.61it/\n"
     ]
    },
    {
     "name": "stdout",
     "output_type": "stream",
     "text": [
      "saving model version 0.1\n",
      "✅ Best validation loss: 9.6158e+00 at 11 epoch\n",
      "Testing width=[8, 3, 1], lamb=0.001, grid=4\n",
      "checkpoint directory created: ./model\n",
      "saving model version 0.0\n"
     ]
    },
    {
     "name": "stderr",
     "output_type": "stream",
     "text": [
      "| train_loss: 3.02e+00 | val_loss: 3.12e+00 | reg: 2.90e+01 | : 100%|█| 40/40 [00:11<00:00,  3.56it/\n"
     ]
    },
    {
     "name": "stdout",
     "output_type": "stream",
     "text": [
      "saving model version 0.1\n",
      "✅ Best validation loss: 9.6689e+00 at 7 epoch\n",
      "Testing width=[8, 3, 1], lamb=0.0001, grid=4\n",
      "checkpoint directory created: ./model\n",
      "saving model version 0.0\n"
     ]
    },
    {
     "name": "stderr",
     "output_type": "stream",
     "text": [
      "| train_loss: 3.04e+00 | val_loss: 3.15e+00 | reg: 2.82e+01 | : 100%|█| 40/40 [00:11<00:00,  3.58it/\n"
     ]
    },
    {
     "name": "stdout",
     "output_type": "stream",
     "text": [
      "saving model version 0.1\n",
      "✅ Best validation loss: 9.6600e+00 at 6 epoch\n",
      "Testing width=[8, 3, 1], lamb=1e-05, grid=4\n",
      "checkpoint directory created: ./model\n",
      "saving model version 0.0\n"
     ]
    },
    {
     "name": "stderr",
     "output_type": "stream",
     "text": [
      "| train_loss: 3.03e+00 | val_loss: 3.15e+00 | reg: 2.87e+01 | : 100%|█| 40/40 [00:11<00:00,  3.46it/\n"
     ]
    },
    {
     "name": "stdout",
     "output_type": "stream",
     "text": [
      "saving model version 0.1\n",
      "✅ Best validation loss: 9.6565e+00 at 5 epoch\n",
      "Testing width=[8, 3, 1], lamb=1.0, grid=5\n",
      "checkpoint directory created: ./model\n",
      "saving model version 0.0\n"
     ]
    },
    {
     "name": "stderr",
     "output_type": "stream",
     "text": [
      "| train_loss: 5.68e+00 | val_loss: 5.85e+00 | reg: 1.52e-01 | : 100%|█| 40/40 [00:07<00:00,  5.23it/\n"
     ]
    },
    {
     "name": "stdout",
     "output_type": "stream",
     "text": [
      "saving model version 0.1\n",
      "✅ Best validation loss: 3.4184e+01 at 4 epoch\n",
      "Testing width=[8, 3, 1], lamb=0.1, grid=5\n",
      "checkpoint directory created: ./model\n",
      "saving model version 0.0\n"
     ]
    },
    {
     "name": "stderr",
     "output_type": "stream",
     "text": [
      "| train_loss: 3.09e+00 | val_loss: 3.11e+00 | reg: 1.69e+01 | : 100%|█| 40/40 [00:13<00:00,  3.01it/\n"
     ]
    },
    {
     "name": "stdout",
     "output_type": "stream",
     "text": [
      "saving model version 0.1\n",
      "✅ Best validation loss: 9.6355e+00 at 36 epoch\n",
      "Testing width=[8, 3, 1], lamb=0.01, grid=5\n",
      "checkpoint directory created: ./model\n",
      "saving model version 0.0\n"
     ]
    },
    {
     "name": "stderr",
     "output_type": "stream",
     "text": [
      "| train_loss: 3.08e+00 | val_loss: 3.10e+00 | reg: 2.08e+01 | : 100%|█| 40/40 [00:12<00:00,  3.23it/\n"
     ]
    },
    {
     "name": "stdout",
     "output_type": "stream",
     "text": [
      "saving model version 0.1\n",
      "✅ Best validation loss: 9.6095e+00 at 39 epoch\n",
      "Testing width=[8, 3, 1], lamb=0.001, grid=5\n",
      "checkpoint directory created: ./model\n",
      "saving model version 0.0\n"
     ]
    },
    {
     "name": "stderr",
     "output_type": "stream",
     "text": [
      "| train_loss: 3.02e+00 | val_loss: 3.28e+00 | reg: 3.79e+01 | : 100%|█| 40/40 [00:10<00:00,  3.66it/\n"
     ]
    },
    {
     "name": "stdout",
     "output_type": "stream",
     "text": [
      "saving model version 0.1\n",
      "✅ Best validation loss: 9.8333e+00 at 10 epoch\n",
      "Testing width=[8, 3, 1], lamb=0.0001, grid=5\n",
      "checkpoint directory created: ./model\n",
      "saving model version 0.0\n"
     ]
    },
    {
     "name": "stderr",
     "output_type": "stream",
     "text": [
      "| train_loss: 3.07e+00 | val_loss: 3.11e+00 | reg: 4.57e+01 | : 100%|█| 40/40 [00:11<00:00,  3.34it/\n"
     ]
    },
    {
     "name": "stdout",
     "output_type": "stream",
     "text": [
      "saving model version 0.1\n",
      "✅ Best validation loss: 9.5722e+00 at 19 epoch\n",
      "Testing width=[8, 3, 1], lamb=1e-05, grid=5\n",
      "checkpoint directory created: ./model\n",
      "saving model version 0.0\n"
     ]
    },
    {
     "name": "stderr",
     "output_type": "stream",
     "text": [
      "| train_loss: 3.05e+00 | val_loss: 3.15e+00 | reg: 3.46e+01 | : 100%|█| 40/40 [00:11<00:00,  3.49it/\n"
     ]
    },
    {
     "name": "stdout",
     "output_type": "stream",
     "text": [
      "saving model version 0.1\n",
      "✅ Best validation loss: 9.6479e+00 at 16 epoch\n",
      "Testing width=[8, 3, 1], lamb=1.0, grid=6\n",
      "checkpoint directory created: ./model\n",
      "saving model version 0.0\n"
     ]
    },
    {
     "name": "stderr",
     "output_type": "stream",
     "text": [
      "| train_loss: 5.67e+00 | val_loss: 5.84e+00 | reg: 1.72e-01 | : 100%|█| 40/40 [00:08<00:00,  4.70it/\n"
     ]
    },
    {
     "name": "stdout",
     "output_type": "stream",
     "text": [
      "saving model version 0.1\n",
      "✅ Best validation loss: 3.4121e+01 at 11 epoch\n",
      "Testing width=[8, 3, 1], lamb=0.1, grid=6\n",
      "checkpoint directory created: ./model\n",
      "saving model version 0.0\n"
     ]
    },
    {
     "name": "stderr",
     "output_type": "stream",
     "text": [
      "| train_loss: 3.20e+00 | val_loss: 3.28e+00 | reg: 1.92e+01 | : 100%|█| 40/40 [00:11<00:00,  3.50it/\n"
     ]
    },
    {
     "name": "stdout",
     "output_type": "stream",
     "text": [
      "saving model version 0.1\n",
      "✅ Best validation loss: 1.0717e+01 at 13 epoch\n",
      "Testing width=[8, 3, 1], lamb=0.01, grid=6\n",
      "checkpoint directory created: ./model\n",
      "saving model version 0.0\n"
     ]
    },
    {
     "name": "stderr",
     "output_type": "stream",
     "text": [
      "| train_loss: 3.02e+00 | val_loss: 3.18e+00 | reg: 2.81e+01 | : 100%|█| 40/40 [00:11<00:00,  3.45it/\n"
     ]
    },
    {
     "name": "stdout",
     "output_type": "stream",
     "text": [
      "saving model version 0.1\n",
      "✅ Best validation loss: 9.7295e+00 at 8 epoch\n",
      "Testing width=[8, 3, 1], lamb=0.001, grid=6\n",
      "checkpoint directory created: ./model\n",
      "saving model version 0.0\n"
     ]
    },
    {
     "name": "stderr",
     "output_type": "stream",
     "text": [
      "| train_loss: 2.98e+00 | val_loss: 3.22e+00 | reg: 3.42e+01 | : 100%|█| 40/40 [00:11<00:00,  3.47it/\n"
     ]
    },
    {
     "name": "stdout",
     "output_type": "stream",
     "text": [
      "saving model version 0.1\n",
      "✅ Best validation loss: 9.6744e+00 at 6 epoch\n",
      "Testing width=[8, 3, 1], lamb=0.0001, grid=6\n",
      "checkpoint directory created: ./model\n",
      "saving model version 0.0\n"
     ]
    },
    {
     "name": "stderr",
     "output_type": "stream",
     "text": [
      "| train_loss: 3.00e+00 | val_loss: 3.20e+00 | reg: 3.20e+01 | : 100%|█| 40/40 [00:11<00:00,  3.47it/\n"
     ]
    },
    {
     "name": "stdout",
     "output_type": "stream",
     "text": [
      "saving model version 0.1\n",
      "✅ Best validation loss: 9.6254e+00 at 6 epoch\n",
      "Testing width=[8, 3, 1], lamb=1e-05, grid=6\n",
      "checkpoint directory created: ./model\n",
      "saving model version 0.0\n"
     ]
    },
    {
     "name": "stderr",
     "output_type": "stream",
     "text": [
      "| train_loss: 3.00e+00 | val_loss: 3.22e+00 | reg: 4.51e+01 | : 100%|█| 40/40 [00:11<00:00,  3.44it/\n"
     ]
    },
    {
     "name": "stdout",
     "output_type": "stream",
     "text": [
      "saving model version 0.1\n",
      "✅ Best validation loss: 9.7794e+00 at 7 epoch\n",
      "Testing width=[8, 4, 1], lamb=1.0, grid=3\n",
      "checkpoint directory created: ./model\n",
      "saving model version 0.0\n"
     ]
    },
    {
     "name": "stderr",
     "output_type": "stream",
     "text": [
      "| train_loss: 5.61e+00 | val_loss: 5.78e+00 | reg: 2.02e-01 | : 100%|█| 40/40 [00:10<00:00,  3.98it/\n"
     ]
    },
    {
     "name": "stdout",
     "output_type": "stream",
     "text": [
      "saving model version 0.1\n",
      "✅ Best validation loss: 3.3422e+01 at 4 epoch\n",
      "Testing width=[8, 4, 1], lamb=0.1, grid=3\n",
      "checkpoint directory created: ./model\n",
      "saving model version 0.0\n"
     ]
    },
    {
     "name": "stderr",
     "output_type": "stream",
     "text": [
      "| train_loss: 3.10e+00 | val_loss: 3.16e+00 | reg: 1.86e+01 | : 100%|█| 40/40 [00:10<00:00,  3.70it/\n"
     ]
    },
    {
     "name": "stdout",
     "output_type": "stream",
     "text": [
      "saving model version 0.1\n",
      "✅ Best validation loss: 9.9513e+00 at 31 epoch\n",
      "Testing width=[8, 4, 1], lamb=0.01, grid=3\n",
      "checkpoint directory created: ./model\n",
      "saving model version 0.0\n"
     ]
    },
    {
     "name": "stderr",
     "output_type": "stream",
     "text": [
      "| train_loss: 3.03e+00 | val_loss: 3.16e+00 | reg: 3.02e+01 | : 100%|█| 40/40 [00:12<00:00,  3.33it/\n"
     ]
    },
    {
     "name": "stdout",
     "output_type": "stream",
     "text": [
      "saving model version 0.1\n",
      "✅ Best validation loss: 9.7006e+00 at 9 epoch\n",
      "Testing width=[8, 4, 1], lamb=0.001, grid=3\n",
      "checkpoint directory created: ./model\n",
      "saving model version 0.0\n"
     ]
    },
    {
     "name": "stderr",
     "output_type": "stream",
     "text": [
      "| train_loss: 3.04e+00 | val_loss: 3.16e+00 | reg: 4.26e+01 | : 100%|█| 40/40 [00:11<00:00,  3.40it/\n"
     ]
    },
    {
     "name": "stdout",
     "output_type": "stream",
     "text": [
      "saving model version 0.1\n",
      "✅ Best validation loss: 9.6931e+00 at 9 epoch\n",
      "Testing width=[8, 4, 1], lamb=0.0001, grid=3\n",
      "checkpoint directory created: ./model\n",
      "saving model version 0.0\n"
     ]
    },
    {
     "name": "stderr",
     "output_type": "stream",
     "text": [
      "| train_loss: 3.06e+00 | val_loss: 3.14e+00 | reg: 4.30e+01 | : 100%|█| 40/40 [00:12<00:00,  3.22it/\n"
     ]
    },
    {
     "name": "stdout",
     "output_type": "stream",
     "text": [
      "saving model version 0.1\n",
      "✅ Best validation loss: 9.7344e+00 at 13 epoch\n",
      "Testing width=[8, 4, 1], lamb=1e-05, grid=3\n",
      "checkpoint directory created: ./model\n",
      "saving model version 0.0\n"
     ]
    },
    {
     "name": "stderr",
     "output_type": "stream",
     "text": [
      "| train_loss: 3.05e+00 | val_loss: 3.15e+00 | reg: 3.88e+01 | : 100%|█| 40/40 [00:11<00:00,  3.34it/\n"
     ]
    },
    {
     "name": "stdout",
     "output_type": "stream",
     "text": [
      "saving model version 0.1\n",
      "✅ Best validation loss: 9.7634e+00 at 10 epoch\n",
      "Testing width=[8, 4, 1], lamb=1.0, grid=4\n",
      "checkpoint directory created: ./model\n",
      "saving model version 0.0\n"
     ]
    },
    {
     "name": "stderr",
     "output_type": "stream",
     "text": [
      "| train_loss: 5.62e+00 | val_loss: 5.79e+00 | reg: 2.95e-01 | : 100%|█| 40/40 [00:09<00:00,  4.13it/\n"
     ]
    },
    {
     "name": "stdout",
     "output_type": "stream",
     "text": [
      "saving model version 0.1\n",
      "✅ Best validation loss: 3.3468e+01 at 5 epoch\n",
      "Testing width=[8, 4, 1], lamb=0.1, grid=4\n",
      "checkpoint directory created: ./model\n",
      "saving model version 0.0\n"
     ]
    },
    {
     "name": "stderr",
     "output_type": "stream",
     "text": [
      "| train_loss: 3.33e+00 | val_loss: 3.37e+00 | reg: 1.18e+01 | : 100%|█| 40/40 [00:11<00:00,  3.55it/\n"
     ]
    },
    {
     "name": "stdout",
     "output_type": "stream",
     "text": [
      "saving model version 0.1\n",
      "✅ Best validation loss: 1.1258e+01 at 3 epoch\n",
      "Testing width=[8, 4, 1], lamb=0.01, grid=4\n",
      "checkpoint directory created: ./model\n",
      "saving model version 0.0\n"
     ]
    },
    {
     "name": "stderr",
     "output_type": "stream",
     "text": [
      "| train_loss: 3.02e+00 | val_loss: 3.18e+00 | reg: 3.44e+01 | : 100%|█| 40/40 [00:11<00:00,  3.61it/\n"
     ]
    },
    {
     "name": "stdout",
     "output_type": "stream",
     "text": [
      "saving model version 0.1\n",
      "✅ Best validation loss: 9.6314e+00 at 12 epoch\n",
      "Testing width=[8, 4, 1], lamb=0.001, grid=4\n",
      "checkpoint directory created: ./model\n",
      "saving model version 0.0\n"
     ]
    },
    {
     "name": "stderr",
     "output_type": "stream",
     "text": [
      "| train_loss: 3.05e+00 | val_loss: 3.13e+00 | reg: 5.82e+01 | : 100%|█| 40/40 [00:11<00:00,  3.45it/\n"
     ]
    },
    {
     "name": "stdout",
     "output_type": "stream",
     "text": [
      "saving model version 0.1\n",
      "✅ Best validation loss: 9.6258e+00 at 5 epoch\n",
      "Testing width=[8, 4, 1], lamb=0.0001, grid=4\n",
      "checkpoint directory created: ./model\n",
      "saving model version 0.0\n"
     ]
    },
    {
     "name": "stderr",
     "output_type": "stream",
     "text": [
      "| train_loss: 3.05e+00 | val_loss: 3.13e+00 | reg: 6.36e+01 | : 100%|█| 40/40 [00:12<00:00,  3.22it/\n"
     ]
    },
    {
     "name": "stdout",
     "output_type": "stream",
     "text": [
      "saving model version 0.1\n",
      "✅ Best validation loss: 9.6562e+00 at 5 epoch\n",
      "Testing width=[8, 4, 1], lamb=1e-05, grid=4\n",
      "checkpoint directory created: ./model\n",
      "saving model version 0.0\n"
     ]
    },
    {
     "name": "stderr",
     "output_type": "stream",
     "text": [
      "| train_loss: 3.05e+00 | val_loss: 3.12e+00 | reg: 6.19e+01 | : 100%|█| 40/40 [00:11<00:00,  3.56it/\n"
     ]
    },
    {
     "name": "stdout",
     "output_type": "stream",
     "text": [
      "saving model version 0.1\n",
      "✅ Best validation loss: 9.6127e+00 at 5 epoch\n",
      "Testing width=[8, 4, 1], lamb=1.0, grid=5\n",
      "checkpoint directory created: ./model\n",
      "saving model version 0.0\n"
     ]
    },
    {
     "name": "stderr",
     "output_type": "stream",
     "text": [
      "| train_loss: 5.68e+00 | val_loss: 5.85e+00 | reg: 1.55e-01 | : 100%|█| 40/40 [00:09<00:00,  4.08it/\n"
     ]
    },
    {
     "name": "stdout",
     "output_type": "stream",
     "text": [
      "saving model version 0.1\n",
      "✅ Best validation loss: 3.4176e+01 at 39 epoch\n",
      "Testing width=[8, 4, 1], lamb=0.1, grid=5\n",
      "checkpoint directory created: ./model\n",
      "saving model version 0.0\n"
     ]
    },
    {
     "name": "stderr",
     "output_type": "stream",
     "text": [
      "| train_loss: 3.08e+00 | val_loss: 3.12e+00 | reg: 1.68e+01 | : 100%|█| 40/40 [00:11<00:00,  3.60it/\n"
     ]
    },
    {
     "name": "stdout",
     "output_type": "stream",
     "text": [
      "saving model version 0.1\n",
      "✅ Best validation loss: 9.6777e+00 at 16 epoch\n",
      "Testing width=[8, 4, 1], lamb=0.01, grid=5\n",
      "checkpoint directory created: ./model\n",
      "saving model version 0.0\n"
     ]
    },
    {
     "name": "stderr",
     "output_type": "stream",
     "text": [
      "| train_loss: 2.99e+00 | val_loss: 3.21e+00 | reg: 3.48e+01 | : 100%|█| 40/40 [00:11<00:00,  3.60it/\n"
     ]
    },
    {
     "name": "stdout",
     "output_type": "stream",
     "text": [
      "saving model version 0.1\n",
      "✅ Best validation loss: 9.8866e+00 at 9 epoch\n",
      "Testing width=[8, 4, 1], lamb=0.001, grid=5\n",
      "checkpoint directory created: ./model\n",
      "saving model version 0.0\n"
     ]
    },
    {
     "name": "stderr",
     "output_type": "stream",
     "text": [
      "| train_loss: 2.98e+00 | val_loss: 3.18e+00 | reg: 4.53e+01 | : 100%|█| 40/40 [00:10<00:00,  3.74it/\n"
     ]
    },
    {
     "name": "stdout",
     "output_type": "stream",
     "text": [
      "saving model version 0.1\n",
      "✅ Best validation loss: 9.6310e+00 at 7 epoch\n",
      "Testing width=[8, 4, 1], lamb=0.0001, grid=5\n",
      "checkpoint directory created: ./model\n",
      "saving model version 0.0\n"
     ]
    },
    {
     "name": "stderr",
     "output_type": "stream",
     "text": [
      "| train_loss: 2.99e+00 | val_loss: 3.22e+00 | reg: 4.87e+01 | : 100%|█| 40/40 [00:11<00:00,  3.57it/\n"
     ]
    },
    {
     "name": "stdout",
     "output_type": "stream",
     "text": [
      "saving model version 0.1\n",
      "✅ Best validation loss: 9.6675e+00 at 7 epoch\n",
      "Testing width=[8, 4, 1], lamb=1e-05, grid=5\n",
      "checkpoint directory created: ./model\n",
      "saving model version 0.0\n"
     ]
    },
    {
     "name": "stderr",
     "output_type": "stream",
     "text": [
      "| train_loss: 3.00e+00 | val_loss: 3.23e+00 | reg: 4.83e+01 | : 100%|█| 40/40 [00:11<00:00,  3.53it/\n"
     ]
    },
    {
     "name": "stdout",
     "output_type": "stream",
     "text": [
      "saving model version 0.1\n",
      "✅ Best validation loss: 9.7726e+00 at 10 epoch\n",
      "Testing width=[8, 4, 1], lamb=1.0, grid=6\n",
      "checkpoint directory created: ./model\n",
      "saving model version 0.0\n"
     ]
    },
    {
     "name": "stderr",
     "output_type": "stream",
     "text": [
      "| train_loss: 5.68e+00 | val_loss: 5.85e+00 | reg: 1.61e-01 | : 100%|█| 40/40 [00:08<00:00,  4.65it/\n"
     ]
    },
    {
     "name": "stdout",
     "output_type": "stream",
     "text": [
      "saving model version 0.1\n",
      "✅ Best validation loss: 3.4170e+01 at 4 epoch\n",
      "Testing width=[8, 4, 1], lamb=0.1, grid=6\n",
      "checkpoint directory created: ./model\n",
      "saving model version 0.0\n"
     ]
    },
    {
     "name": "stderr",
     "output_type": "stream",
     "text": [
      "| train_loss: 3.10e+00 | val_loss: 3.16e+00 | reg: 1.93e+01 | : 100%|█| 40/40 [00:11<00:00,  3.44it/\n"
     ]
    },
    {
     "name": "stdout",
     "output_type": "stream",
     "text": [
      "saving model version 0.1\n",
      "✅ Best validation loss: 9.9299e+00 at 9 epoch\n",
      "Testing width=[8, 4, 1], lamb=0.01, grid=6\n",
      "checkpoint directory created: ./model\n",
      "saving model version 0.0\n"
     ]
    },
    {
     "name": "stderr",
     "output_type": "stream",
     "text": [
      "| train_loss: 2.98e+00 | val_loss: 3.19e+00 | reg: 3.52e+01 | : 100%|█| 40/40 [00:13<00:00,  3.02it/\n"
     ]
    },
    {
     "name": "stdout",
     "output_type": "stream",
     "text": [
      "saving model version 0.1\n",
      "✅ Best validation loss: 9.7084e+00 at 4 epoch\n",
      "Testing width=[8, 4, 1], lamb=0.001, grid=6\n",
      "checkpoint directory created: ./model\n",
      "saving model version 0.0\n"
     ]
    },
    {
     "name": "stderr",
     "output_type": "stream",
     "text": [
      "| train_loss: 2.98e+00 | val_loss: 3.23e+00 | reg: 4.59e+01 | : 100%|█| 40/40 [00:13<00:00,  2.96it/\n"
     ]
    },
    {
     "name": "stdout",
     "output_type": "stream",
     "text": [
      "saving model version 0.1\n",
      "✅ Best validation loss: 9.7526e+00 at 2 epoch\n",
      "Testing width=[8, 4, 1], lamb=0.0001, grid=6\n",
      "checkpoint directory created: ./model\n",
      "saving model version 0.0\n"
     ]
    },
    {
     "name": "stderr",
     "output_type": "stream",
     "text": [
      "| train_loss: 2.99e+00 | val_loss: 3.30e+00 | reg: 5.33e+01 | : 100%|█| 40/40 [00:12<00:00,  3.25it/\n"
     ]
    },
    {
     "name": "stdout",
     "output_type": "stream",
     "text": [
      "saving model version 0.1\n",
      "✅ Best validation loss: 9.7299e+00 at 3 epoch\n",
      "Testing width=[8, 4, 1], lamb=1e-05, grid=6\n",
      "checkpoint directory created: ./model\n",
      "saving model version 0.0\n"
     ]
    },
    {
     "name": "stderr",
     "output_type": "stream",
     "text": [
      "| train_loss: 3.00e+00 | val_loss: 3.28e+00 | reg: 5.17e+01 | : 100%|█| 40/40 [00:11<00:00,  3.39it/"
     ]
    },
    {
     "name": "stdout",
     "output_type": "stream",
     "text": [
      "saving model version 0.1\n",
      "✅ Best validation loss: 9.7367e+00 at 5 epoch\n",
      "\n",
      "✅ Top 5 Configurations:\n",
      "1. width=[8, 2, 1], grid=4, lamb=1e-05 | best_epoch=32 | loss=3.22794\n",
      "2. width=[8, 3, 1], grid=5, lamb=0.0001 | best_epoch=19 | loss=3.23315\n",
      "3. width=[8, 2, 1], grid=5, lamb=1e-05 | best_epoch=39 | loss=3.23450\n",
      "4. width=[8, 2, 1], grid=5, lamb=0.001 | best_epoch=27 | loss=3.23477\n",
      "5. width=[8, 3, 1], grid=3, lamb=0.001 | best_epoch=11 | loss=3.23616\n"
     ]
    },
    {
     "name": "stderr",
     "output_type": "stream",
     "text": [
      "\n"
     ]
    }
   ],
   "source": [
    "grid_search_kan(dataset)"
   ]
  },
  {
   "cell_type": "markdown",
   "id": "83433c04-9ffe-4417-b568-0d20e9438a66",
   "metadata": {},
   "source": [
    "# ✅ Top 5 Configurations:\n",
    "1. width=[8, 2, 1], grid=4, lamb=1e-05 | best_epoch=32 | loss=3.22794\n",
    "2. width=[8, 3, 1], grid=5, lamb=0.01 | best_epoch=9 | loss=3.22944\n",
    "3. width=[8, 2, 1], grid=5, lamb=1e-05 | best_epoch=39 | loss=3.23450\n",
    "4. width=[8, 2, 1], grid=5, lamb=0.001 | best_epoch=27 | loss=3.23477\n",
    "5. width=[8, 2, 1], grid=4, lamb=0.0001 | best_epoch=24 | loss=3.2354693413"
   ]
  },
  {
   "cell_type": "markdown",
   "id": "16745534-695d-44df-a61b-187a86e86579",
   "metadata": {
    "jp-MarkdownHeadingCollapsed": true
   },
   "source": [
    "# Grid Search for CNN"
   ]
  },
  {
   "cell_type": "code",
   "execution_count": 24,
   "id": "cd8fbd74-7bc9-4cff-b7fb-7e0b11b849ef",
   "metadata": {
    "scrolled": true
   },
   "outputs": [
    {
     "name": "stdout",
     "output_type": "stream",
     "text": [
      "Testing cnn_blocks=1, dense_layers=1\n"
     ]
    },
    {
     "name": "stderr",
     "output_type": "stream",
     "text": [
      "| Train: 9.0795e+00 | Val: 1.0066e+01 |: 100%|████████████████████| 110/110 [00:41<00:00,  2.68it/s]\n"
     ]
    },
    {
     "name": "stdout",
     "output_type": "stream",
     "text": [
      "✅ Best validation loss: 9.5251e+00 at 18 epoch\n",
      "Testing cnn_blocks=1, dense_layers=2\n"
     ]
    },
    {
     "name": "stderr",
     "output_type": "stream",
     "text": [
      "| Train: 9.1101e+00 | Val: 9.9477e+00 |: 100%|████████████████████| 110/110 [00:46<00:00,  2.36it/s]\n"
     ]
    },
    {
     "name": "stdout",
     "output_type": "stream",
     "text": [
      "✅ Best validation loss: 9.6229e+00 at 25 epoch\n",
      "Testing cnn_blocks=1, dense_layers=3\n"
     ]
    },
    {
     "name": "stderr",
     "output_type": "stream",
     "text": [
      "| Train: 9.5968e+00 | Val: 9.7768e+00 |: 100%|████████████████████| 110/110 [00:49<00:00,  2.22it/s]\n"
     ]
    },
    {
     "name": "stdout",
     "output_type": "stream",
     "text": [
      "✅ Best validation loss: 9.7477e+00 at 59 epoch\n",
      "Testing cnn_blocks=2, dense_layers=1\n"
     ]
    },
    {
     "name": "stderr",
     "output_type": "stream",
     "text": [
      "| Train: 5.0665e+00 | Val: 1.5953e+01 |: 100%|████████████████████| 110/110 [00:40<00:00,  2.75it/s]\n"
     ]
    },
    {
     "name": "stdout",
     "output_type": "stream",
     "text": [
      "✅ Best validation loss: 9.8111e+00 at 5 epoch\n",
      "Testing cnn_blocks=2, dense_layers=2\n"
     ]
    },
    {
     "name": "stderr",
     "output_type": "stream",
     "text": [
      "| Train: 4.8415e+00 | Val: 1.4919e+01 |: 100%|████████████████████| 110/110 [00:54<00:00,  2.01it/s]\n"
     ]
    },
    {
     "name": "stdout",
     "output_type": "stream",
     "text": [
      "✅ Best validation loss: 9.7545e+00 at 14 epoch\n",
      "Testing cnn_blocks=2, dense_layers=3\n"
     ]
    },
    {
     "name": "stderr",
     "output_type": "stream",
     "text": [
      "| Train: 9.6259e+00 | Val: 1.0038e+01 |: 100%|████████████████████| 110/110 [00:27<00:00,  4.07it/s]\n"
     ]
    },
    {
     "name": "stdout",
     "output_type": "stream",
     "text": [
      "✅ Best validation loss: 9.9950e+00 at 18 epoch\n",
      "Testing cnn_blocks=3, dense_layers=1\n"
     ]
    },
    {
     "name": "stderr",
     "output_type": "stream",
     "text": [
      "| Train: 3.3681e+00 | Val: 1.5214e+01 |: 100%|████████████████████| 110/110 [00:43<00:00,  2.52it/s]\n"
     ]
    },
    {
     "name": "stdout",
     "output_type": "stream",
     "text": [
      "✅ Best validation loss: 9.6191e+00 at 4 epoch\n",
      "Testing cnn_blocks=3, dense_layers=2\n"
     ]
    },
    {
     "name": "stderr",
     "output_type": "stream",
     "text": [
      "| Train: 2.1833e+00 | Val: 1.8482e+01 |: 100%|████████████████████| 110/110 [01:07<00:00,  1.62it/s]\n"
     ]
    },
    {
     "name": "stdout",
     "output_type": "stream",
     "text": [
      "✅ Best validation loss: 9.7301e+00 at 4 epoch\n",
      "Testing cnn_blocks=3, dense_layers=3\n"
     ]
    },
    {
     "name": "stderr",
     "output_type": "stream",
     "text": [
      "| Train: 1.0448e+01 | Val: 1.0620e+01 |: 100%|████████████████████| 110/110 [00:33<00:00,  3.27it/s]"
     ]
    },
    {
     "name": "stdout",
     "output_type": "stream",
     "text": [
      "✅ Best validation loss: 1.0616e+01 at 10 epoch\n",
      "\n",
      "✅ Top 5 Configurations:\n",
      "1. cnn_blocks=1, dense_layers=1 | best_epoch=18 | loss=3.22069\n",
      "2. cnn_blocks=3, dense_layers=2 | best_epoch=4 | loss=3.24624\n",
      "3. cnn_blocks=2, dense_layers=1 | best_epoch=5 | loss=3.26268\n",
      "4. cnn_blocks=1, dense_layers=2 | best_epoch=25 | loss=3.26525\n",
      "5. cnn_blocks=2, dense_layers=2 | best_epoch=14 | loss=3.27850\n"
     ]
    },
    {
     "name": "stderr",
     "output_type": "stream",
     "text": [
      "\n"
     ]
    }
   ],
   "source": [
    "grid_search_cnn(dataset)"
   ]
  },
  {
   "cell_type": "code",
   "execution_count": 25,
   "id": "6de250fe-da38-4db0-954a-bddb0b43137a",
   "metadata": {
    "scrolled": true
   },
   "outputs": [
    {
     "name": "stdout",
     "output_type": "stream",
     "text": [
      "Testing cnn_blocks=1, dense_layers=1\n"
     ]
    },
    {
     "name": "stderr",
     "output_type": "stream",
     "text": [
      "| Train: 8.9012e+00 | Val: 1.0304e+01 |: 100%|████████████████████| 110/110 [00:41<00:00,  2.63it/s]\n"
     ]
    },
    {
     "name": "stdout",
     "output_type": "stream",
     "text": [
      "✅ Best validation loss: 9.5108e+00 at 18 epoch\n",
      "Testing cnn_blocks=1, dense_layers=2\n"
     ]
    },
    {
     "name": "stderr",
     "output_type": "stream",
     "text": [
      "| Train: 9.0829e+00 | Val: 9.9281e+00 |: 100%|████████████████████| 110/110 [00:46<00:00,  2.35it/s]\n"
     ]
    },
    {
     "name": "stdout",
     "output_type": "stream",
     "text": [
      "✅ Best validation loss: 9.6624e+00 at 26 epoch\n",
      "Testing cnn_blocks=1, dense_layers=3\n"
     ]
    },
    {
     "name": "stderr",
     "output_type": "stream",
     "text": [
      "| Train: 9.8750e+00 | Val: 9.7805e+00 |: 100%|████████████████████| 110/110 [00:38<00:00,  2.88it/s]\n"
     ]
    },
    {
     "name": "stdout",
     "output_type": "stream",
     "text": [
      "✅ Best validation loss: 9.7607e+00 at 78 epoch\n",
      "Testing cnn_blocks=2, dense_layers=1\n"
     ]
    },
    {
     "name": "stderr",
     "output_type": "stream",
     "text": [
      "| Train: 7.7997e+00 | Val: 1.1511e+01 |: 100%|████████████████████| 110/110 [00:26<00:00,  4.18it/s]\n"
     ]
    },
    {
     "name": "stdout",
     "output_type": "stream",
     "text": [
      "✅ Best validation loss: 9.7255e+00 at 7 epoch\n",
      "Testing cnn_blocks=2, dense_layers=2\n"
     ]
    },
    {
     "name": "stderr",
     "output_type": "stream",
     "text": [
      "| Train: 5.2842e+00 | Val: 1.4116e+01 |: 100%|████████████████████| 110/110 [00:52<00:00,  2.10it/s]\n"
     ]
    },
    {
     "name": "stdout",
     "output_type": "stream",
     "text": [
      "✅ Best validation loss: 9.8174e+00 at 8 epoch\n",
      "Testing cnn_blocks=2, dense_layers=3\n"
     ]
    },
    {
     "name": "stderr",
     "output_type": "stream",
     "text": [
      "| Train: 9.4683e+00 | Val: 9.7571e+00 |: 100%|████████████████████| 110/110 [00:40<00:00,  2.69it/s]\n"
     ]
    },
    {
     "name": "stdout",
     "output_type": "stream",
     "text": [
      "✅ Best validation loss: 9.7571e+00 at 81 epoch\n",
      "Testing cnn_blocks=3, dense_layers=1\n"
     ]
    },
    {
     "name": "stderr",
     "output_type": "stream",
     "text": [
      "| Train: 4.1550e+00 | Val: 1.4427e+01 |: 100%|████████████████████| 110/110 [00:36<00:00,  2.99it/s]\n"
     ]
    },
    {
     "name": "stdout",
     "output_type": "stream",
     "text": [
      "✅ Best validation loss: 9.5568e+00 at 4 epoch\n",
      "Testing cnn_blocks=3, dense_layers=2\n"
     ]
    },
    {
     "name": "stderr",
     "output_type": "stream",
     "text": [
      "| Train: 4.5311e+00 | Val: 1.4665e+01 |: 100%|████████████████████| 110/110 [00:45<00:00,  2.43it/s]\n"
     ]
    },
    {
     "name": "stdout",
     "output_type": "stream",
     "text": [
      "✅ Best validation loss: 9.7126e+00 at 3 epoch\n",
      "Testing cnn_blocks=3, dense_layers=3\n"
     ]
    },
    {
     "name": "stderr",
     "output_type": "stream",
     "text": [
      "| Train: 1.0363e+01 | Val: 1.0629e+01 |: 100%|████████████████████| 110/110 [00:36<00:00,  3.01it/s]"
     ]
    },
    {
     "name": "stdout",
     "output_type": "stream",
     "text": [
      "✅ Best validation loss: 1.0629e+01 at 15 epoch\n",
      "\n",
      "✅ Top 5 Configurations:\n",
      "1. cnn_blocks=1, dense_layers=1 | best_epoch=18 | loss=3.23118\n",
      "2. cnn_blocks=2, dense_layers=1 | best_epoch=7 | loss=3.25628\n",
      "3. cnn_blocks=3, dense_layers=2 | best_epoch=3 | loss=3.25922\n",
      "4. cnn_blocks=2, dense_layers=2 | best_epoch=8 | loss=3.26547\n",
      "5. cnn_blocks=1, dense_layers=2 | best_epoch=26 | loss=3.26898\n"
     ]
    },
    {
     "name": "stderr",
     "output_type": "stream",
     "text": [
      "\n"
     ]
    }
   ],
   "source": [
    "grid_search_cnn(dataset)"
   ]
  },
  {
   "cell_type": "code",
   "execution_count": 26,
   "id": "a1a62670-becd-4898-942d-a84c383c9357",
   "metadata": {},
   "outputs": [
    {
     "name": "stderr",
     "output_type": "stream",
     "text": [
      "| Train: 8.9071e+00 | Val: 1.0258e+01 |: 100%|████████████████████| 100/100 [00:37<00:00,  2.69it/s]\n"
     ]
    },
    {
     "name": "stdout",
     "output_type": "stream",
     "text": [
      "✅ Best validation loss: 9.5139e+00 at 11 epoch\n",
      "3.2288973331451416\n"
     ]
    },
    {
     "data": {
      "image/png": "[encoded data removed]",
      "text/plain": [
       "<Figure size 640x480 with 1 Axes>"
      ]
     },
     "metadata": {},
     "output_type": "display_data"
    }
   ],
   "source": [
    "model0 = build_custom_cnn_model(cnn_blocks=1, dense_layers=1, imgs_shape=imgs_shape)\n",
    "model_state, results, _ = fit_cnn_only_model(model0, dataset, steps=100)\n",
    "model0.load_state_dict(model_state)\n",
    "print(average_rmse(model0(0, dataset['test_img']), dataset['test_label']))\n",
    "plt.plot(results['train_loss'])\n",
    "plt.plot(results['val_loss'])\n",
    "plt.legend(['train', 'val'])\n",
    "plt.ylabel('RMSE')\n",
    "plt.xlabel('step')\n",
    "plt.yscale('log')"
   ]
  },
  {
   "cell_type": "code",
   "execution_count": 27,
   "id": "9d503e06-6816-4268-a066-42fc0000d379",
   "metadata": {},
   "outputs": [
    {
     "name": "stderr",
     "output_type": "stream",
     "text": [
      "| Train: 4.1669e+00 | Val: 1.6786e+01 |: 100%|████████████████████| 100/100 [00:45<00:00,  2.22it/s]\n"
     ]
    },
    {
     "name": "stdout",
     "output_type": "stream",
     "text": [
      "✅ Best validation loss: 9.8080e+00 at 6 epoch\n",
      "3.274373769760132\n"
     ]
    },
    {
     "data": {
      "image/png": "[encoded data removed]",
      "text/plain": [
       "<Figure size 640x480 with 1 Axes>"
      ]
     },
     "metadata": {},
     "output_type": "display_data"
    }
   ],
   "source": [
    "model0 = build_custom_cnn_model(cnn_blocks=2, dense_layers=1, imgs_shape=imgs_shape)\n",
    "model_state, results, _ = fit_cnn_only_model(model0, dataset, steps=100)\n",
    "model0.load_state_dict(model_state)\n",
    "print(average_rmse(model0(0, dataset['test_img']), dataset['test_label']))\n",
    "plt.plot(results['train_loss'])\n",
    "plt.plot(results['val_loss'])\n",
    "plt.legend(['train', 'val'])\n",
    "plt.ylabel('RMSE')\n",
    "plt.xlabel('step')\n",
    "plt.yscale('log')"
   ]
  },
  {
   "cell_type": "code",
   "execution_count": 28,
   "id": "9c785e25-7512-4f7c-a783-ab08e3cd25d4",
   "metadata": {
    "scrolled": true
   },
   "outputs": [
    {
     "name": "stdout",
     "output_type": "stream",
     "text": [
      "Testing cnn_blocks=1, dense_layers=1\n"
     ]
    },
    {
     "name": "stderr",
     "output_type": "stream",
     "text": [
      "| Train: 1.4262e+01 | Val: 1.4149e+01 |: 100%|███████████████████| 500/500 [00:04<00:00, 109.19it/s]\n"
     ]
    },
    {
     "name": "stdout",
     "output_type": "stream",
     "text": [
      "✅ Best validation loss: 1.4047e+01 at 497 epoch\n",
      "Testing cnn_blocks=1, dense_layers=2\n"
     ]
    },
    {
     "name": "stderr",
     "output_type": "stream",
     "text": [
      "| Train: 3.1326e+01 | Val: 3.3223e+01 |: 100%|████████████████████| 500/500 [00:05<00:00, 98.82it/s]\n"
     ]
    },
    {
     "name": "stdout",
     "output_type": "stream",
     "text": [
      "✅ Best validation loss: 2.5876e+01 at 250 epoch\n",
      "Testing cnn_blocks=1, dense_layers=3\n"
     ]
    },
    {
     "name": "stderr",
     "output_type": "stream",
     "text": [
      "| Train: 3.1960e+01 | Val: 3.3896e+01 |: 100%|████████████████████| 500/500 [00:05<00:00, 85.17it/s]\n"
     ]
    },
    {
     "name": "stdout",
     "output_type": "stream",
     "text": [
      "✅ Best validation loss: 2.7850e+01 at 268 epoch\n",
      "Testing cnn_blocks=2, dense_layers=1\n"
     ]
    },
    {
     "name": "stderr",
     "output_type": "stream",
     "text": [
      "| Train: 1.5790e+01 | Val: 1.6312e+01 |: 100%|████████████████████| 500/500 [00:06<00:00, 75.99it/s]\n"
     ]
    },
    {
     "name": "stdout",
     "output_type": "stream",
     "text": [
      "✅ Best validation loss: 1.0999e+01 at 411 epoch\n",
      "Testing cnn_blocks=2, dense_layers=2\n"
     ]
    },
    {
     "name": "stderr",
     "output_type": "stream",
     "text": [
      "| Train: 3.1314e+01 | Val: 3.3210e+01 |: 100%|████████████████████| 500/500 [00:07<00:00, 65.75it/s]\n"
     ]
    },
    {
     "name": "stdout",
     "output_type": "stream",
     "text": [
      "✅ Best validation loss: 2.4560e+01 at 233 epoch\n",
      "Testing cnn_blocks=2, dense_layers=3\n"
     ]
    },
    {
     "name": "stderr",
     "output_type": "stream",
     "text": [
      "| Train: 3.1954e+01 | Val: 3.3889e+01 |: 100%|████████████████████| 500/500 [00:08<00:00, 59.01it/s]\n"
     ]
    },
    {
     "name": "stdout",
     "output_type": "stream",
     "text": [
      "✅ Best validation loss: 3.1533e+01 at 315 epoch\n",
      "Testing cnn_blocks=3, dense_layers=1\n"
     ]
    },
    {
     "name": "stderr",
     "output_type": "stream",
     "text": [
      "| Train: 6.2971e+01 | Val: 8.9880e+01 |: 100%|████████████████████| 500/500 [00:09<00:00, 50.10it/s]\n"
     ]
    },
    {
     "name": "stdout",
     "output_type": "stream",
     "text": [
      "✅ Best validation loss: 9.8218e+00 at 172 epoch\n",
      "Testing cnn_blocks=3, dense_layers=2\n"
     ]
    },
    {
     "name": "stderr",
     "output_type": "stream",
     "text": [
      "| Train: 3.1362e+01 | Val: 3.3259e+01 |: 100%|████████████████████| 500/500 [00:13<00:00, 37.04it/s]\n"
     ]
    },
    {
     "name": "stdout",
     "output_type": "stream",
     "text": [
      "✅ Best validation loss: 2.6586e+01 at 148 epoch\n",
      "Testing cnn_blocks=3, dense_layers=3\n"
     ]
    },
    {
     "name": "stderr",
     "output_type": "stream",
     "text": [
      "| Train: 3.2094e+01 | Val: 3.4033e+01 |: 100%|████████████████████| 500/500 [00:15<00:00, 32.65it/s]"
     ]
    },
    {
     "name": "stdout",
     "output_type": "stream",
     "text": [
      "✅ Best validation loss: 3.3259e+01 at 375 epoch\n",
      "\n",
      "✅ Top 5 Configurations:\n",
      "1. cnn_blocks=3, dense_layers=1 | best_epoch=172 | loss=3.29445\n",
      "2. cnn_blocks=2, dense_layers=1 | best_epoch=411 | loss=3.45671\n",
      "3. cnn_blocks=1, dense_layers=1 | best_epoch=497 | loss=3.79079\n",
      "4. cnn_blocks=2, dense_layers=2 | best_epoch=233 | loss=4.84109\n",
      "5. cnn_blocks=1, dense_layers=2 | best_epoch=250 | loss=4.94514\n"
     ]
    },
    {
     "name": "stderr",
     "output_type": "stream",
     "text": [
      "\n"
     ]
    }
   ],
   "source": [
    "grid_search_cnn(dataset, steps=500, opt='AdamW', batch=-1)"
   ]
  },
  {
   "cell_type": "code",
   "execution_count": 29,
   "id": "97d2dbcb-0db8-4192-a9a8-9306e73304cf",
   "metadata": {
    "scrolled": true
   },
   "outputs": [
    {
     "name": "stdout",
     "output_type": "stream",
     "text": [
      "Testing cnn_blocks=1, dense_layers=1\n"
     ]
    },
    {
     "name": "stderr",
     "output_type": "stream",
     "text": [
      "| Train: 2.1836e+01 | Val: 2.4328e+01 |: 100%|███████████████████| 500/500 [00:04<00:00, 108.44it/s]\n"
     ]
    },
    {
     "name": "stdout",
     "output_type": "stream",
     "text": [
      "✅ Best validation loss: 1.7310e+01 at 473 epoch\n",
      "Testing cnn_blocks=1, dense_layers=2\n"
     ]
    },
    {
     "name": "stderr",
     "output_type": "stream",
     "text": [
      "| Train: 2.8457e+01 | Val: 3.3241e+01 |: 100%|████████████████████| 500/500 [00:06<00:00, 82.17it/s]\n"
     ]
    },
    {
     "name": "stdout",
     "output_type": "stream",
     "text": [
      "✅ Best validation loss: 2.1370e+01 at 191 epoch\n",
      "Testing cnn_blocks=1, dense_layers=3\n"
     ]
    },
    {
     "name": "stderr",
     "output_type": "stream",
     "text": [
      "| Train: 4.3748e+01 | Val: 3.4104e+01 |: 100%|████████████████████| 500/500 [00:06<00:00, 74.09it/s]\n"
     ]
    },
    {
     "name": "stdout",
     "output_type": "stream",
     "text": [
      "✅ Best validation loss: 3.2078e+01 at 295 epoch\n",
      "Testing cnn_blocks=2, dense_layers=1\n"
     ]
    },
    {
     "name": "stderr",
     "output_type": "stream",
     "text": [
      "| Train: 2.9499e+01 | Val: 1.5040e+01 |: 100%|████████████████████| 500/500 [00:07<00:00, 70.52it/s]\n"
     ]
    },
    {
     "name": "stdout",
     "output_type": "stream",
     "text": [
      "✅ Best validation loss: 1.2557e+01 at 487 epoch\n",
      "Testing cnn_blocks=2, dense_layers=2\n"
     ]
    },
    {
     "name": "stderr",
     "output_type": "stream",
     "text": [
      "| Train: 2.9233e+01 | Val: 3.3238e+01 |: 100%|████████████████████| 500/500 [00:07<00:00, 64.91it/s]\n"
     ]
    },
    {
     "name": "stdout",
     "output_type": "stream",
     "text": [
      "✅ Best validation loss: 2.9199e+01 at 274 epoch\n",
      "Testing cnn_blocks=2, dense_layers=3\n"
     ]
    },
    {
     "name": "stderr",
     "output_type": "stream",
     "text": [
      "| Train: 3.9302e+01 | Val: 3.4349e+01 |: 100%|████████████████████| 500/500 [00:08<00:00, 61.73it/s]\n"
     ]
    },
    {
     "name": "stdout",
     "output_type": "stream",
     "text": [
      "✅ Best validation loss: 3.2196e+01 at 321 epoch\n",
      "Testing cnn_blocks=3, dense_layers=1\n"
     ]
    },
    {
     "name": "stderr",
     "output_type": "stream",
     "text": [
      "| Train: 2.7719e+01 | Val: 2.4262e+01 |: 100%|████████████████████| 500/500 [00:09<00:00, 54.15it/s]\n"
     ]
    },
    {
     "name": "stdout",
     "output_type": "stream",
     "text": [
      "✅ Best validation loss: 1.3093e+01 at 257 epoch\n",
      "Testing cnn_blocks=3, dense_layers=2\n"
     ]
    },
    {
     "name": "stderr",
     "output_type": "stream",
     "text": [
      "| Train: 2.9925e+01 | Val: 3.4292e+01 |: 100%|████████████████████| 500/500 [00:09<00:00, 52.94it/s]\n"
     ]
    },
    {
     "name": "stdout",
     "output_type": "stream",
     "text": [
      "✅ Best validation loss: 2.7701e+01 at 226 epoch\n",
      "Testing cnn_blocks=3, dense_layers=3\n"
     ]
    },
    {
     "name": "stderr",
     "output_type": "stream",
     "text": [
      "| Train: 3.5976e+01 | Val: 3.3873e+01 |: 100%|████████████████████| 500/500 [00:09<00:00, 50.34it/s]"
     ]
    },
    {
     "name": "stdout",
     "output_type": "stream",
     "text": [
      "✅ Best validation loss: 3.3220e+01 at 345 epoch\n",
      "\n",
      "✅ Top 5 Configurations:\n",
      "1. cnn_blocks=2, dense_layers=1 | best_epoch=487 | loss=3.65056\n",
      "2. cnn_blocks=3, dense_layers=1 | best_epoch=257 | loss=3.71230\n",
      "3. cnn_blocks=1, dense_layers=1 | best_epoch=473 | loss=4.12145\n",
      "4. cnn_blocks=1, dense_layers=2 | best_epoch=191 | loss=4.51389\n",
      "5. cnn_blocks=3, dense_layers=2 | best_epoch=226 | loss=5.11335\n"
     ]
    },
    {
     "name": "stderr",
     "output_type": "stream",
     "text": [
      "\n"
     ]
    }
   ],
   "source": [
    "grid_search_cnn(dataset, steps=500, opt='AdamW', batch=32)"
   ]
  },
  {
   "cell_type": "code",
   "execution_count": 30,
   "id": "bad806bd-bbc0-40e8-aa1c-c7f91e8f3f6a",
   "metadata": {},
   "outputs": [
    {
     "name": "stderr",
     "output_type": "stream",
     "text": [
      "| Train: 2.3417e+01 | Val: 2.2438e+01 |: 100%|████████████████████| 500/500 [00:10<00:00, 49.87it/s]\n"
     ]
    },
    {
     "name": "stdout",
     "output_type": "stream",
     "text": [
      "✅ Best validation loss: 1.0026e+01 at 160 epoch\n",
      "3.3482472896575928\n"
     ]
    },
    {
     "data": {
      "image/png": "[encoded data removed]",
      "text/plain": [
       "<Figure size 640x480 with 1 Axes>"
      ]
     },
     "metadata": {},
     "output_type": "display_data"
    }
   ],
   "source": [
    "model0 = build_custom_cnn_model(cnn_blocks=3, dense_layers=1, imgs_shape=imgs_shape)\n",
    "model_state, results, _ = fit_cnn_only_model(model0, dataset, steps=500, opt='AdamW', batch=-1)\n",
    "model0.load_state_dict(model_state)\n",
    "print(average_rmse(model0(0, dataset['test_img']), dataset['test_label']))\n",
    "plt.plot(results['train_loss'])\n",
    "plt.plot(results['val_loss'])\n",
    "plt.legend(['train', 'val'])\n",
    "plt.ylabel('RMSE')\n",
    "plt.xlabel('step')\n",
    "plt.yscale('log')"
   ]
  },
  {
   "cell_type": "code",
   "execution_count": 31,
   "id": "308dedfb-1404-4027-8b6e-9d243bab2336",
   "metadata": {},
   "outputs": [
    {
     "name": "stderr",
     "output_type": "stream",
     "text": [
      "| Train: 1.3812e+01 | Val: 2.0169e+01 |: 100%|████████████████████| 500/500 [00:08<00:00, 58.59it/s]\n"
     ]
    },
    {
     "name": "stdout",
     "output_type": "stream",
     "text": [
      "✅ Best validation loss: 1.2486e+01 at 301 epoch\n",
      "3.63124942779541\n"
     ]
    },
    {
     "data": {
      "image/png": "[encoded data removed]",
      "text/plain": [
       "<Figure size 640x480 with 1 Axes>"
      ]
     },
     "metadata": {},
     "output_type": "display_data"
    }
   ],
   "source": [
    "model0 = build_custom_cnn_model(cnn_blocks=3, dense_layers=1, imgs_shape=imgs_shape)\n",
    "model_state, results, _ = fit_cnn_only_model(model0, dataset, steps=500, opt='AdamW', batch=32)\n",
    "model0.load_state_dict(model_state)\n",
    "print(average_rmse(model0(0, dataset['test_img']), dataset['test_label']))\n",
    "plt.plot(results['train_loss'])\n",
    "plt.plot(results['val_loss'])\n",
    "plt.legend(['train', 'val'])\n",
    "plt.ylabel('RMSE')\n",
    "plt.xlabel('step')\n",
    "plt.yscale('log')"
   ]
  },
  {
   "cell_type": "markdown",
   "id": "7d9db396-7fe4-4043-97ce-b8f5983224af",
   "metadata": {},
   "source": [
    "# Grid Search for Hibrid Model3"
   ]
  },
  {
   "cell_type": "code",
   "execution_count": 26,
   "id": "24658826-eff0-4b3d-b42b-e3d524d00b17",
   "metadata": {},
   "outputs": [],
   "source": [
    "class Model3(nn.Module):\n",
    "    def __init__(self, attributes, imgs_shape, kan_neurons, kan_grid, device=device):\n",
    "        super(Model3, self).__init__()\n",
    "        # CNN branch\n",
    "        self.cnn_branch = nn.Sequential(\n",
    "            nn.Conv2d(imgs_shape[0], 16, kernel_size=3, padding=2),     # out: 16 x 9 x 9\n",
    "            nn.LayerNorm([16, 8, 8]),\n",
    "            nn.Sigmoid(),\n",
    "            nn.Flatten()\n",
    "        ).to(device)\n",
    "        # Final KAN layers\n",
    "        self.m_kan = KAN(\n",
    "            width=[attributes, kan_neurons],\n",
    "            grid=kan_grid,\n",
    "            k=3,\n",
    "            seed=SEED,\n",
    "            device=device\n",
    "        )\n",
    "\n",
    "        # Calculate the size of the flattened output\n",
    "        self.flat_size = self._get_flat_size(imgs_shape)\n",
    "\n",
    "        # Final MLP layers\n",
    "        self.final_kan = KAN(\n",
    "            width=[self.flat_size + kan_neurons, 1],\n",
    "            grid=kan_grid,\n",
    "            k=3,\n",
    "            seed=SEED,\n",
    "            device=device\n",
    "        )\n",
    "\n",
    "        self.device = device\n",
    "\n",
    "\n",
    "    def _get_flat_size(self, imgs_shape):\n",
    "        # Forward pass with dummy input to calculate flat size\n",
    "        dummy_input = torch.zeros(4, *imgs_shape, device=device)\n",
    "        x = self.cnn_branch(dummy_input)\n",
    "        return x.size(1)\n",
    "\n",
    "    def get_concat_output(self, mlp_input, cnn_input):\n",
    "        # Ensure inputs are moved to the correct device\n",
    "        kan_input = mlp_input.to(self.device)\n",
    "        cnn_input = cnn_input.to(self.device)\n",
    "        \n",
    "        cnn_output = self.cnn_branch(cnn_input)  # Process image input\n",
    "        kan_output = self.m_kan(kan_input)  # Process numerical input\n",
    "        \n",
    "        return torch.cat((kan_output, cnn_output), dim=1)\n",
    "\n",
    "    \n",
    "    def forward(self, mlp_input, cnn_input):\n",
    "        concat_output = self.get_concat_output(mlp_input, cnn_input)\n",
    "        return self.final_kan(concat_output)"
   ]
  },
  {
   "cell_type": "markdown",
   "id": "fcf11c85-29f8-48ad-97fa-3a951592a88a",
   "metadata": {},
   "source": [
    "## Grid Search"
   ]
  },
  {
   "cell_type": "code",
   "execution_count": 27,
   "id": "1cb5d881-c64b-40b2-bce3-f00d50871fc1",
   "metadata": {
    "scrolled": true
   },
   "outputs": [
    {
     "name": "stdout",
     "output_type": "stream",
     "text": [
      "Testing 1 hidden neurons, lamb=1.0, grid=3\n",
      "checkpoint directory created: ./model\n",
      "saving model version 0.0\n",
      "checkpoint directory created: ./model\n",
      "saving model version 0.0\n",
      "Successfully created and tested Model3\n"
     ]
    },
    {
     "name": "stderr",
     "output_type": "stream",
     "text": [
      "| train_loss: 5.64e+00 | eval_loss: 5.77e+00 | reg: 4.01e-01 |: 100%|█| 50/50 [02:48<00:00,  3.37s/i\n"
     ]
    },
    {
     "name": "stdout",
     "output_type": "stream",
     "text": [
      "saving model version 0.1\n",
      "✅ Best validation loss: 3.3283e+01 at 37 epoch\n",
      "Testing 1 hidden neurons, lamb=0.1, grid=3\n",
      "checkpoint directory created: ./model\n",
      "saving model version 0.0\n",
      "checkpoint directory created: ./model\n",
      "saving model version 0.0\n",
      "Successfully created and tested Model3\n"
     ]
    },
    {
     "name": "stderr",
     "output_type": "stream",
     "text": [
      "| train_loss: 3.50e+00 | eval_loss: 3.15e+00 | reg: 2.24e+01 |: 100%|█| 50/50 [02:58<00:00,  3.57s/i\n"
     ]
    },
    {
     "name": "stdout",
     "output_type": "stream",
     "text": [
      "saving model version 0.1\n",
      "✅ Best validation loss: 9.9004e+00 at 34 epoch\n",
      "Testing 1 hidden neurons, lamb=0.01, grid=3\n",
      "checkpoint directory created: ./model\n",
      "saving model version 0.0\n",
      "checkpoint directory created: ./model\n",
      "saving model version 0.0\n",
      "Successfully created and tested Model3\n"
     ]
    },
    {
     "name": "stderr",
     "output_type": "stream",
     "text": [
      "| train_loss: 3.11e+00 | eval_loss: 3.14e+00 | reg: 4.36e+01 |: 100%|█| 50/50 [02:50<00:00,  3.41s/i\n"
     ]
    },
    {
     "name": "stdout",
     "output_type": "stream",
     "text": [
      "saving model version 0.1\n",
      "✅ Best validation loss: 9.6061e+00 at 15 epoch\n",
      "Testing 1 hidden neurons, lamb=0.001, grid=3\n",
      "checkpoint directory created: ./model\n",
      "saving model version 0.0\n",
      "checkpoint directory created: ./model\n",
      "saving model version 0.0\n",
      "Successfully created and tested Model3\n"
     ]
    },
    {
     "name": "stderr",
     "output_type": "stream",
     "text": [
      "| train_loss: 3.02e+00 | eval_loss: 3.19e+00 | reg: 1.93e+02 |: 100%|█| 50/50 [03:08<00:00,  3.77s/i\n"
     ]
    },
    {
     "name": "stdout",
     "output_type": "stream",
     "text": [
      "saving model version 0.1\n",
      "✅ Best validation loss: 9.5796e+00 at 14 epoch\n",
      "Testing 1 hidden neurons, lamb=0.0001, grid=3\n",
      "checkpoint directory created: ./model\n",
      "saving model version 0.0\n",
      "checkpoint directory created: ./model\n",
      "saving model version 0.0\n",
      "Successfully created and tested Model3\n"
     ]
    },
    {
     "name": "stderr",
     "output_type": "stream",
     "text": [
      "| train_loss: 2.97e+00 | eval_loss: 3.24e+00 | reg: 3.58e+02 |: 100%|█| 50/50 [03:03<00:00,  3.67s/i\n"
     ]
    },
    {
     "name": "stdout",
     "output_type": "stream",
     "text": [
      "saving model version 0.1\n",
      "✅ Best validation loss: 9.5369e+00 at 12 epoch\n",
      "Testing 1 hidden neurons, lamb=1e-05, grid=3\n",
      "checkpoint directory created: ./model\n",
      "saving model version 0.0\n",
      "checkpoint directory created: ./model\n",
      "saving model version 0.0\n",
      "Successfully created and tested Model3\n"
     ]
    },
    {
     "name": "stderr",
     "output_type": "stream",
     "text": [
      "| train_loss: 3.04e+00 | eval_loss: 3.13e+00 | reg: 3.32e+02 |: 100%|█| 50/50 [03:07<00:00,  3.75s/i\n"
     ]
    },
    {
     "name": "stdout",
     "output_type": "stream",
     "text": [
      "saving model version 0.1\n",
      "✅ Best validation loss: 9.5958e+00 at 13 epoch\n",
      "Testing 1 hidden neurons, lamb=1e-06, grid=3\n",
      "checkpoint directory created: ./model\n",
      "saving model version 0.0\n",
      "checkpoint directory created: ./model\n",
      "saving model version 0.0\n",
      "Successfully created and tested Model3\n"
     ]
    },
    {
     "name": "stderr",
     "output_type": "stream",
     "text": [
      "| train_loss: 3.01e+00 | eval_loss: 3.19e+00 | reg: 4.94e+02 |: 100%|█| 50/50 [03:08<00:00,  3.76s/i\n"
     ]
    },
    {
     "name": "stdout",
     "output_type": "stream",
     "text": [
      "saving model version 0.1\n",
      "✅ Best validation loss: 9.5867e+00 at 14 epoch\n",
      "Testing 1 hidden neurons, lamb=1.0, grid=4\n",
      "checkpoint directory created: ./model\n",
      "saving model version 0.0\n",
      "checkpoint directory created: ./model\n",
      "saving model version 0.0\n",
      "Successfully created and tested Model3\n"
     ]
    },
    {
     "name": "stderr",
     "output_type": "stream",
     "text": [
      "| train_loss: 5.64e+00 | eval_loss: 5.77e+00 | reg: 3.93e-01 |: 100%|█| 50/50 [03:10<00:00,  3.82s/i\n"
     ]
    },
    {
     "name": "stdout",
     "output_type": "stream",
     "text": [
      "saving model version 0.1\n",
      "✅ Best validation loss: 3.3287e+01 at 49 epoch\n",
      "Testing 1 hidden neurons, lamb=0.1, grid=4\n",
      "checkpoint directory created: ./model\n",
      "saving model version 0.0\n",
      "checkpoint directory created: ./model\n",
      "saving model version 0.0\n",
      "Successfully created and tested Model3\n"
     ]
    },
    {
     "name": "stderr",
     "output_type": "stream",
     "text": [
      "| train_loss: 3.52e+00 | eval_loss: 3.13e+00 | reg: 2.46e+01 |: 100%|█| 50/50 [03:17<00:00,  3.94s/i\n"
     ]
    },
    {
     "name": "stdout",
     "output_type": "stream",
     "text": [
      "saving model version 0.1\n",
      "✅ Best validation loss: 9.7826e+00 at 22 epoch\n",
      "Testing 1 hidden neurons, lamb=0.01, grid=4\n",
      "checkpoint directory created: ./model\n",
      "saving model version 0.0\n",
      "checkpoint directory created: ./model\n",
      "saving model version 0.0\n",
      "Successfully created and tested Model3\n"
     ]
    },
    {
     "name": "stderr",
     "output_type": "stream",
     "text": [
      "| train_loss: 3.06e+00 | eval_loss: 3.22e+00 | reg: 6.16e+01 |: 100%|█| 50/50 [03:14<00:00,  3.89s/i\n"
     ]
    },
    {
     "name": "stdout",
     "output_type": "stream",
     "text": [
      "saving model version 0.1\n",
      "✅ Best validation loss: 9.5865e+00 at 7 epoch\n",
      "Testing 1 hidden neurons, lamb=0.001, grid=4\n",
      "checkpoint directory created: ./model\n",
      "saving model version 0.0\n",
      "checkpoint directory created: ./model\n",
      "saving model version 0.0\n",
      "Successfully created and tested Model3\n"
     ]
    },
    {
     "name": "stderr",
     "output_type": "stream",
     "text": [
      "| train_loss: 2.87e+00 | eval_loss: 3.33e+00 | reg: 2.63e+02 |: 100%|█| 50/50 [03:13<00:00,  3.88s/i\n"
     ]
    },
    {
     "name": "stdout",
     "output_type": "stream",
     "text": [
      "saving model version 0.1\n",
      "✅ Best validation loss: 9.5302e+00 at 9 epoch\n",
      "Testing 1 hidden neurons, lamb=0.0001, grid=4\n",
      "checkpoint directory created: ./model\n",
      "saving model version 0.0\n",
      "checkpoint directory created: ./model\n",
      "saving model version 0.0\n",
      "Successfully created and tested Model3\n"
     ]
    },
    {
     "name": "stderr",
     "output_type": "stream",
     "text": [
      "| train_loss: 2.78e+00 | eval_loss: 3.51e+00 | reg: 5.76e+02 |: 100%|█| 50/50 [03:15<00:00,  3.91s/i\n"
     ]
    },
    {
     "name": "stdout",
     "output_type": "stream",
     "text": [
      "saving model version 0.1\n",
      "✅ Best validation loss: 9.6314e+00 at 4 epoch\n",
      "Testing 1 hidden neurons, lamb=1e-05, grid=4\n",
      "checkpoint directory created: ./model\n",
      "saving model version 0.0\n",
      "checkpoint directory created: ./model\n",
      "saving model version 0.0\n",
      "Successfully created and tested Model3\n"
     ]
    },
    {
     "name": "stderr",
     "output_type": "stream",
     "text": [
      "| train_loss: 2.85e+00 | eval_loss: 3.33e+00 | reg: 4.83e+02 |: 100%|█| 50/50 [03:45<00:00,  4.51s/i\n"
     ]
    },
    {
     "name": "stdout",
     "output_type": "stream",
     "text": [
      "saving model version 0.1\n",
      "✅ Best validation loss: 9.5481e+00 at 7 epoch\n",
      "Testing 1 hidden neurons, lamb=1e-06, grid=4\n",
      "checkpoint directory created: ./model\n",
      "saving model version 0.0\n",
      "checkpoint directory created: ./model\n",
      "saving model version 0.0\n",
      "Successfully created and tested Model3\n"
     ]
    },
    {
     "name": "stderr",
     "output_type": "stream",
     "text": [
      "| train_loss: 2.89e+00 | eval_loss: 3.29e+00 | reg: 4.06e+02 |: 100%|█| 50/50 [03:22<00:00,  4.06s/i\n"
     ]
    },
    {
     "name": "stdout",
     "output_type": "stream",
     "text": [
      "saving model version 0.1\n",
      "✅ Best validation loss: 9.5904e+00 at 9 epoch\n",
      "Testing 1 hidden neurons, lamb=1.0, grid=5\n",
      "checkpoint directory created: ./model\n",
      "saving model version 0.0\n",
      "checkpoint directory created: ./model\n",
      "saving model version 0.0\n",
      "Successfully created and tested Model3\n"
     ]
    },
    {
     "name": "stderr",
     "output_type": "stream",
     "text": [
      "| train_loss: 5.65e+00 | eval_loss: 5.77e+00 | reg: 4.86e-01 |: 100%|█| 50/50 [03:31<00:00,  4.23s/i\n"
     ]
    },
    {
     "name": "stdout",
     "output_type": "stream",
     "text": [
      "saving model version 0.1\n",
      "✅ Best validation loss: 3.3281e+01 at 44 epoch\n",
      "Testing 1 hidden neurons, lamb=0.1, grid=5\n",
      "checkpoint directory created: ./model\n",
      "saving model version 0.0\n",
      "checkpoint directory created: ./model\n",
      "saving model version 0.0\n",
      "Successfully created and tested Model3\n"
     ]
    },
    {
     "name": "stderr",
     "output_type": "stream",
     "text": [
      "| train_loss: 3.52e+00 | eval_loss: 3.14e+00 | reg: 2.34e+01 |: 100%|█| 50/50 [03:40<00:00,  4.41s/i\n"
     ]
    },
    {
     "name": "stdout",
     "output_type": "stream",
     "text": [
      "saving model version 0.1\n",
      "✅ Best validation loss: 9.8772e+00 at 39 epoch\n",
      "Testing 1 hidden neurons, lamb=0.01, grid=5\n",
      "checkpoint directory created: ./model\n",
      "saving model version 0.0\n",
      "checkpoint directory created: ./model\n",
      "saving model version 0.0\n",
      "Successfully created and tested Model3\n"
     ]
    },
    {
     "name": "stderr",
     "output_type": "stream",
     "text": [
      "| train_loss: 3.06e+00 | eval_loss: 3.15e+00 | reg: 7.42e+01 |: 100%|█| 50/50 [03:40<00:00,  4.40s/i\n"
     ]
    },
    {
     "name": "stdout",
     "output_type": "stream",
     "text": [
      "saving model version 0.1\n",
      "✅ Best validation loss: 9.5668e+00 at 8 epoch\n",
      "Testing 1 hidden neurons, lamb=0.001, grid=5\n",
      "checkpoint directory created: ./model\n",
      "saving model version 0.0\n",
      "checkpoint directory created: ./model\n",
      "saving model version 0.0\n",
      "Successfully created and tested Model3\n"
     ]
    },
    {
     "name": "stderr",
     "output_type": "stream",
     "text": [
      "| train_loss: 2.78e+00 | eval_loss: 3.45e+00 | reg: 3.96e+02 |: 100%|█| 50/50 [03:35<00:00,  4.31s/i\n"
     ]
    },
    {
     "name": "stdout",
     "output_type": "stream",
     "text": [
      "saving model version 0.1\n",
      "✅ Best validation loss: 9.5513e+00 at 3 epoch\n",
      "Testing 1 hidden neurons, lamb=0.0001, grid=5\n",
      "checkpoint directory created: ./model\n",
      "saving model version 0.0\n",
      "checkpoint directory created: ./model\n",
      "saving model version 0.0\n",
      "Successfully created and tested Model3\n"
     ]
    },
    {
     "name": "stderr",
     "output_type": "stream",
     "text": [
      "| train_loss: 2.75e+00 | eval_loss: 3.48e+00 | reg: 5.00e+02 |: 100%|█| 50/50 [03:42<00:00,  4.45s/i\n"
     ]
    },
    {
     "name": "stdout",
     "output_type": "stream",
     "text": [
      "saving model version 0.1\n",
      "✅ Best validation loss: 9.5681e+00 at 5 epoch\n",
      "Testing 1 hidden neurons, lamb=1e-05, grid=5\n",
      "checkpoint directory created: ./model\n",
      "saving model version 0.0\n",
      "checkpoint directory created: ./model\n",
      "saving model version 0.0\n",
      "Successfully created and tested Model3\n"
     ]
    },
    {
     "name": "stderr",
     "output_type": "stream",
     "text": [
      "| train_loss: 2.74e+00 | eval_loss: 3.46e+00 | reg: 6.00e+02 |: 100%|█| 50/50 [03:41<00:00,  4.43s/i\n"
     ]
    },
    {
     "name": "stdout",
     "output_type": "stream",
     "text": [
      "saving model version 0.1\n",
      "✅ Best validation loss: 9.5821e+00 at 3 epoch\n",
      "Testing 1 hidden neurons, lamb=1e-06, grid=5\n",
      "checkpoint directory created: ./model\n",
      "saving model version 0.0\n",
      "checkpoint directory created: ./model\n",
      "saving model version 0.0\n",
      "Successfully created and tested Model3\n"
     ]
    },
    {
     "name": "stderr",
     "output_type": "stream",
     "text": [
      "| train_loss: 2.75e+00 | eval_loss: 3.46e+00 | reg: 5.41e+02 |: 100%|█| 50/50 [03:35<00:00,  4.32s/i\n"
     ]
    },
    {
     "name": "stdout",
     "output_type": "stream",
     "text": [
      "saving model version 0.1\n",
      "✅ Best validation loss: 9.5444e+00 at 8 epoch\n",
      "Testing 1 hidden neurons, lamb=1.0, grid=6\n",
      "checkpoint directory created: ./model\n",
      "saving model version 0.0\n",
      "checkpoint directory created: ./model\n",
      "saving model version 0.0\n",
      "Successfully created and tested Model3\n"
     ]
    },
    {
     "name": "stderr",
     "output_type": "stream",
     "text": [
      "| train_loss: 5.63e+00 | eval_loss: 5.77e+00 | reg: 3.27e-01 |: 100%|█| 50/50 [03:52<00:00,  4.64s/i\n"
     ]
    },
    {
     "name": "stdout",
     "output_type": "stream",
     "text": [
      "saving model version 0.1\n",
      "✅ Best validation loss: 3.3280e+01 at 49 epoch\n",
      "Testing 1 hidden neurons, lamb=0.1, grid=6\n",
      "checkpoint directory created: ./model\n",
      "saving model version 0.0\n",
      "checkpoint directory created: ./model\n",
      "saving model version 0.0\n",
      "Successfully created and tested Model3\n"
     ]
    },
    {
     "name": "stderr",
     "output_type": "stream",
     "text": [
      "| train_loss: 3.54e+00 | eval_loss: 3.15e+00 | reg: 2.59e+01 |: 100%|█| 50/50 [03:52<00:00,  4.66s/i\n"
     ]
    },
    {
     "name": "stdout",
     "output_type": "stream",
     "text": [
      "saving model version 0.1\n",
      "✅ Best validation loss: 9.8794e+00 at 34 epoch\n",
      "Testing 1 hidden neurons, lamb=0.01, grid=6\n",
      "checkpoint directory created: ./model\n",
      "saving model version 0.0\n",
      "checkpoint directory created: ./model\n",
      "saving model version 0.0\n",
      "Successfully created and tested Model3\n"
     ]
    },
    {
     "name": "stderr",
     "output_type": "stream",
     "text": [
      "| train_loss: 3.01e+00 | eval_loss: 3.26e+00 | reg: 9.86e+01 |: 100%|█| 50/50 [03:54<00:00,  4.68s/i\n"
     ]
    },
    {
     "name": "stdout",
     "output_type": "stream",
     "text": [
      "saving model version 0.1\n",
      "✅ Best validation loss: 9.5869e+00 at 10 epoch\n",
      "Testing 1 hidden neurons, lamb=0.001, grid=6\n",
      "checkpoint directory created: ./model\n",
      "saving model version 0.0\n",
      "checkpoint directory created: ./model\n",
      "saving model version 0.0\n",
      "Successfully created and tested Model3\n"
     ]
    },
    {
     "name": "stderr",
     "output_type": "stream",
     "text": [
      "| train_loss: 2.58e+00 | eval_loss: 3.71e+00 | reg: 5.05e+02 |: 100%|█| 50/50 [03:51<00:00,  4.63s/i\n"
     ]
    },
    {
     "name": "stdout",
     "output_type": "stream",
     "text": [
      "saving model version 0.1\n",
      "✅ Best validation loss: 9.5052e+00 at 7 epoch\n",
      "Testing 1 hidden neurons, lamb=0.0001, grid=6\n",
      "checkpoint directory created: ./model\n",
      "saving model version 0.0\n",
      "checkpoint directory created: ./model\n",
      "saving model version 0.0\n",
      "Successfully created and tested Model3\n"
     ]
    },
    {
     "name": "stderr",
     "output_type": "stream",
     "text": [
      "| train_loss: 2.69e+00 | eval_loss: 3.51e+00 | reg: 5.08e+02 |: 100%|█| 50/50 [03:53<00:00,  4.67s/i\n"
     ]
    },
    {
     "name": "stdout",
     "output_type": "stream",
     "text": [
      "saving model version 0.1\n",
      "✅ Best validation loss: 9.5274e+00 at 7 epoch\n",
      "Testing 1 hidden neurons, lamb=1e-05, grid=6\n",
      "checkpoint directory created: ./model\n",
      "saving model version 0.0\n",
      "checkpoint directory created: ./model\n",
      "saving model version 0.0\n",
      "Successfully created and tested Model3\n"
     ]
    },
    {
     "name": "stderr",
     "output_type": "stream",
     "text": [
      "| train_loss: 2.61e+00 | eval_loss: 3.65e+00 | reg: 6.15e+02 |: 100%|█| 50/50 [03:55<00:00,  4.70s/i\n"
     ]
    },
    {
     "name": "stdout",
     "output_type": "stream",
     "text": [
      "saving model version 0.1\n",
      "✅ Best validation loss: 9.5376e+00 at 8 epoch\n",
      "Testing 1 hidden neurons, lamb=1e-06, grid=6\n",
      "checkpoint directory created: ./model\n",
      "saving model version 0.0\n",
      "checkpoint directory created: ./model\n",
      "saving model version 0.0\n",
      "Successfully created and tested Model3\n"
     ]
    },
    {
     "name": "stderr",
     "output_type": "stream",
     "text": [
      "| train_loss: 2.65e+00 | eval_loss: 3.59e+00 | reg: 5.98e+02 |: 100%|█| 50/50 [03:52<00:00,  4.66s/i\n"
     ]
    },
    {
     "name": "stdout",
     "output_type": "stream",
     "text": [
      "saving model version 0.1\n",
      "✅ Best validation loss: 9.5071e+00 at 9 epoch\n",
      "Testing 2 hidden neurons, lamb=1.0, grid=3\n",
      "checkpoint directory created: ./model\n",
      "saving model version 0.0\n",
      "checkpoint directory created: ./model\n",
      "saving model version 0.0\n",
      "Successfully created and tested Model3\n"
     ]
    },
    {
     "name": "stderr",
     "output_type": "stream",
     "text": [
      "| train_loss: 5.64e+00 | eval_loss: 5.77e+00 | reg: 3.82e-01 |: 100%|█| 50/50 [02:48<00:00,  3.38s/i\n"
     ]
    },
    {
     "name": "stdout",
     "output_type": "stream",
     "text": [
      "saving model version 0.1\n",
      "✅ Best validation loss: 3.3277e+01 at 39 epoch\n",
      "Testing 2 hidden neurons, lamb=0.1, grid=3\n",
      "checkpoint directory created: ./model\n",
      "saving model version 0.0\n",
      "checkpoint directory created: ./model\n",
      "saving model version 0.0\n",
      "Successfully created and tested Model3\n"
     ]
    },
    {
     "name": "stderr",
     "output_type": "stream",
     "text": [
      "| train_loss: 3.44e+00 | eval_loss: 3.14e+00 | reg: 1.90e+01 |: 100%|█| 50/50 [02:56<00:00,  3.53s/i\n"
     ]
    },
    {
     "name": "stdout",
     "output_type": "stream",
     "text": [
      "saving model version 0.1\n",
      "✅ Best validation loss: 9.7977e+00 at 36 epoch\n",
      "Testing 2 hidden neurons, lamb=0.01, grid=3\n",
      "checkpoint directory created: ./model\n",
      "saving model version 0.0\n",
      "checkpoint directory created: ./model\n",
      "saving model version 0.0\n",
      "Successfully created and tested Model3\n"
     ]
    },
    {
     "name": "stderr",
     "output_type": "stream",
     "text": [
      "| train_loss: 3.08e+00 | eval_loss: 3.16e+00 | reg: 5.07e+01 |: 100%|█| 50/50 [02:58<00:00,  3.58s/i\n"
     ]
    },
    {
     "name": "stdout",
     "output_type": "stream",
     "text": [
      "saving model version 0.1\n",
      "✅ Best validation loss: 9.5155e+00 at 8 epoch\n",
      "Testing 2 hidden neurons, lamb=0.001, grid=3\n",
      "checkpoint directory created: ./model\n",
      "saving model version 0.0\n",
      "checkpoint directory created: ./model\n",
      "saving model version 0.0\n",
      "Successfully created and tested Model3\n"
     ]
    },
    {
     "name": "stderr",
     "output_type": "stream",
     "text": [
      "| train_loss: 2.89e+00 | eval_loss: 3.27e+00 | reg: 2.17e+02 |: 100%|█| 50/50 [03:04<00:00,  3.69s/i\n"
     ]
    },
    {
     "name": "stdout",
     "output_type": "stream",
     "text": [
      "saving model version 0.1\n",
      "✅ Best validation loss: 9.5657e+00 at 6 epoch\n",
      "Testing 2 hidden neurons, lamb=0.0001, grid=3\n",
      "checkpoint directory created: ./model\n",
      "saving model version 0.0\n",
      "checkpoint directory created: ./model\n",
      "saving model version 0.0\n",
      "Successfully created and tested Model3\n"
     ]
    },
    {
     "name": "stderr",
     "output_type": "stream",
     "text": [
      "| train_loss: 2.93e+00 | eval_loss: 3.25e+00 | reg: 3.25e+02 |: 100%|█| 50/50 [03:04<00:00,  3.69s/i\n"
     ]
    },
    {
     "name": "stdout",
     "output_type": "stream",
     "text": [
      "saving model version 0.1\n",
      "✅ Best validation loss: 9.5244e+00 at 8 epoch\n",
      "Testing 2 hidden neurons, lamb=1e-05, grid=3\n",
      "checkpoint directory created: ./model\n",
      "saving model version 0.0\n",
      "checkpoint directory created: ./model\n",
      "saving model version 0.0\n",
      "Successfully created and tested Model3\n"
     ]
    },
    {
     "name": "stderr",
     "output_type": "stream",
     "text": [
      "| train_loss: 2.89e+00 | eval_loss: 3.32e+00 | reg: 3.95e+02 |: 100%|█| 50/50 [03:08<00:00,  3.76s/i\n"
     ]
    },
    {
     "name": "stdout",
     "output_type": "stream",
     "text": [
      "saving model version 0.1\n",
      "✅ Best validation loss: 9.5506e+00 at 9 epoch\n",
      "Testing 2 hidden neurons, lamb=1e-06, grid=3\n",
      "checkpoint directory created: ./model\n",
      "saving model version 0.0\n",
      "checkpoint directory created: ./model\n",
      "saving model version 0.0\n",
      "Successfully created and tested Model3\n"
     ]
    },
    {
     "name": "stderr",
     "output_type": "stream",
     "text": [
      "| train_loss: 2.93e+00 | eval_loss: 3.26e+00 | reg: 5.08e+02 |: 100%|█| 50/50 [03:05<00:00,  3.71s/i\n"
     ]
    },
    {
     "name": "stdout",
     "output_type": "stream",
     "text": [
      "saving model version 0.1\n",
      "✅ Best validation loss: 9.5175e+00 at 7 epoch\n",
      "Testing 2 hidden neurons, lamb=1.0, grid=4\n",
      "checkpoint directory created: ./model\n",
      "saving model version 0.0\n",
      "checkpoint directory created: ./model\n",
      "saving model version 0.0\n",
      "Successfully created and tested Model3\n"
     ]
    },
    {
     "name": "stderr",
     "output_type": "stream",
     "text": [
      "| train_loss: 5.64e+00 | eval_loss: 5.77e+00 | reg: 3.72e-01 |: 100%|█| 50/50 [03:05<00:00,  3.72s/i\n"
     ]
    },
    {
     "name": "stdout",
     "output_type": "stream",
     "text": [
      "saving model version 0.1\n",
      "✅ Best validation loss: 3.3281e+01 at 32 epoch\n",
      "Testing 2 hidden neurons, lamb=0.1, grid=4\n",
      "checkpoint directory created: ./model\n",
      "saving model version 0.0\n",
      "checkpoint directory created: ./model\n",
      "saving model version 0.0\n",
      "Successfully created and tested Model3\n"
     ]
    },
    {
     "name": "stderr",
     "output_type": "stream",
     "text": [
      "| train_loss: 3.50e+00 | eval_loss: 3.14e+00 | reg: 2.26e+01 |: 100%|█| 50/50 [03:09<00:00,  3.80s/i\n"
     ]
    },
    {
     "name": "stdout",
     "output_type": "stream",
     "text": [
      "saving model version 0.1\n",
      "✅ Best validation loss: 9.7823e+00 at 14 epoch\n",
      "Testing 2 hidden neurons, lamb=0.01, grid=4\n",
      "checkpoint directory created: ./model\n",
      "saving model version 0.0\n",
      "checkpoint directory created: ./model\n",
      "saving model version 0.0\n",
      "Successfully created and tested Model3\n"
     ]
    },
    {
     "name": "stderr",
     "output_type": "stream",
     "text": [
      "| train_loss: 3.06e+00 | eval_loss: 3.20e+00 | reg: 6.05e+01 |: 100%|█| 50/50 [03:10<00:00,  3.82s/i\n"
     ]
    },
    {
     "name": "stdout",
     "output_type": "stream",
     "text": [
      "saving model version 0.1\n",
      "✅ Best validation loss: 9.5892e+00 at 6 epoch\n",
      "Testing 2 hidden neurons, lamb=0.001, grid=4\n",
      "checkpoint directory created: ./model\n",
      "saving model version 0.0\n",
      "checkpoint directory created: ./model\n",
      "saving model version 0.0\n",
      "Successfully created and tested Model3\n"
     ]
    },
    {
     "name": "stderr",
     "output_type": "stream",
     "text": [
      "| train_loss: 3.03e+00 | eval_loss: 3.20e+00 | reg: 1.24e+02 |: 100%|█| 50/50 [03:00<00:00,  3.61s/i\n"
     ]
    },
    {
     "name": "stdout",
     "output_type": "stream",
     "text": [
      "saving model version 0.1\n",
      "✅ Best validation loss: 9.5288e+00 at 7 epoch\n",
      "Testing 2 hidden neurons, lamb=0.0001, grid=4\n",
      "checkpoint directory created: ./model\n",
      "saving model version 0.0\n",
      "checkpoint directory created: ./model\n",
      "saving model version 0.0\n",
      "Successfully created and tested Model3\n"
     ]
    },
    {
     "name": "stderr",
     "output_type": "stream",
     "text": [
      "| train_loss: 2.81e+00 | eval_loss: 3.41e+00 | reg: 5.79e+02 |: 100%|█| 50/50 [03:15<00:00,  3.91s/i\n"
     ]
    },
    {
     "name": "stdout",
     "output_type": "stream",
     "text": [
      "saving model version 0.1\n",
      "✅ Best validation loss: 9.6014e+00 at 4 epoch\n",
      "Testing 2 hidden neurons, lamb=1e-05, grid=4\n",
      "checkpoint directory created: ./model\n",
      "saving model version 0.0\n",
      "checkpoint directory created: ./model\n",
      "saving model version 0.0\n",
      "Successfully created and tested Model3\n"
     ]
    },
    {
     "name": "stderr",
     "output_type": "stream",
     "text": [
      "| train_loss: 2.75e+00 | eval_loss: 3.40e+00 | reg: 5.53e+02 |: 100%|█| 50/50 [03:12<00:00,  3.85s/i\n"
     ]
    },
    {
     "name": "stdout",
     "output_type": "stream",
     "text": [
      "saving model version 0.1\n",
      "✅ Best validation loss: 9.5541e+00 at 7 epoch\n",
      "Testing 2 hidden neurons, lamb=1e-06, grid=4\n",
      "checkpoint directory created: ./model\n",
      "saving model version 0.0\n",
      "checkpoint directory created: ./model\n",
      "saving model version 0.0\n",
      "Successfully created and tested Model3\n"
     ]
    },
    {
     "name": "stderr",
     "output_type": "stream",
     "text": [
      "| train_loss: 2.76e+00 | eval_loss: 3.43e+00 | reg: 5.84e+02 |: 100%|█| 50/50 [03:12<00:00,  3.85s/i\n"
     ]
    },
    {
     "name": "stdout",
     "output_type": "stream",
     "text": [
      "saving model version 0.1\n",
      "✅ Best validation loss: 9.5948e+00 at 6 epoch\n",
      "Testing 2 hidden neurons, lamb=1.0, grid=5\n",
      "checkpoint directory created: ./model\n",
      "saving model version 0.0\n",
      "checkpoint directory created: ./model\n",
      "saving model version 0.0\n",
      "Successfully created and tested Model3\n"
     ]
    },
    {
     "name": "stderr",
     "output_type": "stream",
     "text": [
      "| train_loss: 5.63e+00 | eval_loss: 5.77e+00 | reg: 3.64e-01 |: 100%|█| 50/50 [03:20<00:00,  4.00s/i\n"
     ]
    },
    {
     "name": "stdout",
     "output_type": "stream",
     "text": [
      "saving model version 0.1\n",
      "✅ Best validation loss: 3.3278e+01 at 29 epoch\n",
      "Testing 2 hidden neurons, lamb=0.1, grid=5\n",
      "checkpoint directory created: ./model\n",
      "saving model version 0.0\n",
      "checkpoint directory created: ./model\n",
      "saving model version 0.0\n",
      "Successfully created and tested Model3\n"
     ]
    },
    {
     "name": "stderr",
     "output_type": "stream",
     "text": [
      "| train_loss: 3.44e+00 | eval_loss: 3.15e+00 | reg: 1.84e+01 |: 100%|█| 50/50 [03:25<00:00,  4.11s/i\n"
     ]
    },
    {
     "name": "stdout",
     "output_type": "stream",
     "text": [
      "saving model version 0.1\n",
      "✅ Best validation loss: 9.8654e+00 at 38 epoch\n",
      "Testing 2 hidden neurons, lamb=0.01, grid=5\n",
      "checkpoint directory created: ./model\n",
      "saving model version 0.0\n",
      "checkpoint directory created: ./model\n",
      "saving model version 0.0\n",
      "Successfully created and tested Model3\n"
     ]
    },
    {
     "name": "stderr",
     "output_type": "stream",
     "text": [
      "| train_loss: 3.04e+00 | eval_loss: 3.18e+00 | reg: 8.42e+01 |: 100%|█| 50/50 [03:35<00:00,  4.30s/i\n"
     ]
    },
    {
     "name": "stdout",
     "output_type": "stream",
     "text": [
      "saving model version 0.1\n",
      "✅ Best validation loss: 9.5471e+00 at 6 epoch\n",
      "Testing 2 hidden neurons, lamb=0.001, grid=5\n",
      "checkpoint directory created: ./model\n",
      "saving model version 0.0\n",
      "checkpoint directory created: ./model\n",
      "saving model version 0.0\n",
      "Successfully created and tested Model3\n"
     ]
    },
    {
     "name": "stderr",
     "output_type": "stream",
     "text": [
      "| train_loss: 2.73e+00 | eval_loss: 3.52e+00 | reg: 3.49e+02 |: 100%|█| 50/50 [03:33<00:00,  4.27s/i\n"
     ]
    },
    {
     "name": "stdout",
     "output_type": "stream",
     "text": [
      "saving model version 0.1\n",
      "✅ Best validation loss: 9.5433e+00 at 5 epoch\n",
      "Testing 2 hidden neurons, lamb=0.0001, grid=5\n",
      "checkpoint directory created: ./model\n",
      "saving model version 0.0\n",
      "checkpoint directory created: ./model\n",
      "saving model version 0.0\n",
      "Successfully created and tested Model3\n"
     ]
    },
    {
     "name": "stderr",
     "output_type": "stream",
     "text": [
      "| train_loss: 2.69e+00 | eval_loss: 3.54e+00 | reg: 5.39e+02 |: 100%|█| 50/50 [03:32<00:00,  4.25s/i\n"
     ]
    },
    {
     "name": "stdout",
     "output_type": "stream",
     "text": [
      "saving model version 0.1\n",
      "✅ Best validation loss: 9.5151e+00 at 5 epoch\n",
      "Testing 2 hidden neurons, lamb=1e-05, grid=5\n",
      "checkpoint directory created: ./model\n",
      "saving model version 0.0\n",
      "checkpoint directory created: ./model\n",
      "saving model version 0.0\n",
      "Successfully created and tested Model3\n"
     ]
    },
    {
     "name": "stderr",
     "output_type": "stream",
     "text": [
      "| train_loss: 2.70e+00 | eval_loss: 3.54e+00 | reg: 5.21e+02 |: 100%|█| 50/50 [03:35<00:00,  4.31s/i\n"
     ]
    },
    {
     "name": "stdout",
     "output_type": "stream",
     "text": [
      "saving model version 0.1\n",
      "✅ Best validation loss: 9.5582e+00 at 8 epoch\n",
      "Testing 2 hidden neurons, lamb=1e-06, grid=5\n",
      "checkpoint directory created: ./model\n",
      "saving model version 0.0\n",
      "checkpoint directory created: ./model\n",
      "saving model version 0.0\n",
      "Successfully created and tested Model3\n"
     ]
    },
    {
     "name": "stderr",
     "output_type": "stream",
     "text": [
      "| train_loss: 2.69e+00 | eval_loss: 3.57e+00 | reg: 5.35e+02 |: 100%|█| 50/50 [03:31<00:00,  4.23s/i\n"
     ]
    },
    {
     "name": "stdout",
     "output_type": "stream",
     "text": [
      "saving model version 0.1\n",
      "✅ Best validation loss: 9.5489e+00 at 5 epoch\n",
      "Testing 2 hidden neurons, lamb=1.0, grid=6\n",
      "checkpoint directory created: ./model\n",
      "saving model version 0.0\n",
      "checkpoint directory created: ./model\n",
      "saving model version 0.0\n",
      "Successfully created and tested Model3\n"
     ]
    },
    {
     "name": "stderr",
     "output_type": "stream",
     "text": [
      "| train_loss: 5.63e+00 | eval_loss: 5.77e+00 | reg: 3.16e-01 |: 100%|█| 50/50 [03:43<00:00,  4.47s/i\n"
     ]
    },
    {
     "name": "stdout",
     "output_type": "stream",
     "text": [
      "saving model version 0.1\n",
      "✅ Best validation loss: 3.3275e+01 at 45 epoch\n",
      "Testing 2 hidden neurons, lamb=0.1, grid=6\n",
      "checkpoint directory created: ./model\n",
      "saving model version 0.0\n",
      "checkpoint directory created: ./model\n",
      "saving model version 0.0\n",
      "Successfully created and tested Model3\n"
     ]
    },
    {
     "name": "stderr",
     "output_type": "stream",
     "text": [
      "| train_loss: 3.49e+00 | eval_loss: 3.13e+00 | reg: 2.26e+01 |: 100%|█| 50/50 [03:48<00:00,  4.57s/i\n"
     ]
    },
    {
     "name": "stdout",
     "output_type": "stream",
     "text": [
      "saving model version 0.1\n",
      "✅ Best validation loss: 9.7955e+00 at 47 epoch\n",
      "Testing 2 hidden neurons, lamb=0.01, grid=6\n",
      "checkpoint directory created: ./model\n",
      "saving model version 0.0\n",
      "checkpoint directory created: ./model\n",
      "saving model version 0.0\n",
      "Successfully created and tested Model3\n"
     ]
    },
    {
     "name": "stderr",
     "output_type": "stream",
     "text": [
      "| train_loss: 3.00e+00 | eval_loss: 3.28e+00 | reg: 1.14e+02 |: 100%|█| 50/50 [03:53<00:00,  4.66s/i\n"
     ]
    },
    {
     "name": "stdout",
     "output_type": "stream",
     "text": [
      "saving model version 0.1\n",
      "✅ Best validation loss: 9.6010e+00 at 11 epoch\n",
      "Testing 2 hidden neurons, lamb=0.001, grid=6\n",
      "checkpoint directory created: ./model\n",
      "saving model version 0.0\n",
      "checkpoint directory created: ./model\n",
      "saving model version 0.0\n",
      "Successfully created and tested Model3\n"
     ]
    },
    {
     "name": "stderr",
     "output_type": "stream",
     "text": [
      "| train_loss: 2.55e+00 | eval_loss: 3.63e+00 | reg: 4.15e+02 |: 100%|█| 50/50 [03:53<00:00,  4.67s/i\n"
     ]
    },
    {
     "name": "stdout",
     "output_type": "stream",
     "text": [
      "saving model version 0.1\n",
      "✅ Best validation loss: 9.5613e+00 at 8 epoch\n",
      "Testing 2 hidden neurons, lamb=0.0001, grid=6\n",
      "checkpoint directory created: ./model\n",
      "saving model version 0.0\n",
      "checkpoint directory created: ./model\n",
      "saving model version 0.0\n",
      "Successfully created and tested Model3\n"
     ]
    },
    {
     "name": "stderr",
     "output_type": "stream",
     "text": [
      "| train_loss: 2.78e+00 | eval_loss: 3.43e+00 | reg: 3.78e+02 |: 100%|█| 50/50 [04:03<00:00,  4.87s/i\n"
     ]
    },
    {
     "name": "stdout",
     "output_type": "stream",
     "text": [
      "saving model version 0.1\n",
      "✅ Best validation loss: 9.5618e+00 at 10 epoch\n",
      "Testing 2 hidden neurons, lamb=1e-05, grid=6\n",
      "checkpoint directory created: ./model\n",
      "saving model version 0.0\n",
      "checkpoint directory created: ./model\n",
      "saving model version 0.0\n",
      "Successfully created and tested Model3\n"
     ]
    },
    {
     "name": "stderr",
     "output_type": "stream",
     "text": [
      "| train_loss: 2.65e+00 | eval_loss: 3.63e+00 | reg: 5.55e+02 |: 100%|█| 50/50 [03:59<00:00,  4.80s/i\n"
     ]
    },
    {
     "name": "stdout",
     "output_type": "stream",
     "text": [
      "saving model version 0.1\n",
      "✅ Best validation loss: 9.5469e+00 at 4 epoch\n",
      "Testing 2 hidden neurons, lamb=1e-06, grid=6\n",
      "checkpoint directory created: ./model\n",
      "saving model version 0.0\n",
      "checkpoint directory created: ./model\n",
      "saving model version 0.0\n",
      "Successfully created and tested Model3\n"
     ]
    },
    {
     "name": "stderr",
     "output_type": "stream",
     "text": [
      "| train_loss: 2.52e+00 | eval_loss: 3.68e+00 | reg: 6.82e+02 |: 100%|█| 50/50 [03:50<00:00,  4.61s/i\n"
     ]
    },
    {
     "name": "stdout",
     "output_type": "stream",
     "text": [
      "saving model version 0.1\n",
      "✅ Best validation loss: 9.5725e+00 at 7 epoch\n",
      "Testing 3 hidden neurons, lamb=1.0, grid=3\n",
      "checkpoint directory created: ./model\n",
      "saving model version 0.0\n",
      "checkpoint directory created: ./model\n",
      "saving model version 0.0\n",
      "Successfully created and tested Model3\n"
     ]
    },
    {
     "name": "stderr",
     "output_type": "stream",
     "text": [
      "| train_loss: 5.65e+00 | eval_loss: 5.77e+00 | reg: 5.33e-01 |: 100%|█| 50/50 [02:49<00:00,  3.38s/i\n"
     ]
    },
    {
     "name": "stdout",
     "output_type": "stream",
     "text": [
      "saving model version 0.1\n",
      "✅ Best validation loss: 3.3266e+01 at 13 epoch\n",
      "Testing 3 hidden neurons, lamb=0.1, grid=3\n",
      "checkpoint directory created: ./model\n",
      "saving model version 0.0\n",
      "checkpoint directory created: ./model\n",
      "saving model version 0.0\n",
      "Successfully created and tested Model3\n"
     ]
    },
    {
     "name": "stderr",
     "output_type": "stream",
     "text": [
      "| train_loss: 3.47e+00 | eval_loss: 3.13e+00 | reg: 2.15e+01 |: 100%|█| 50/50 [02:51<00:00,  3.43s/i\n"
     ]
    },
    {
     "name": "stdout",
     "output_type": "stream",
     "text": [
      "saving model version 0.1\n",
      "✅ Best validation loss: 9.7423e+00 at 42 epoch\n",
      "Testing 3 hidden neurons, lamb=0.01, grid=3\n",
      "checkpoint directory created: ./model\n",
      "saving model version 0.0\n",
      "checkpoint directory created: ./model\n",
      "saving model version 0.0\n",
      "Successfully created and tested Model3\n"
     ]
    },
    {
     "name": "stderr",
     "output_type": "stream",
     "text": [
      "| train_loss: 3.10e+00 | eval_loss: 3.14e+00 | reg: 4.68e+01 |: 100%|█| 50/50 [02:58<00:00,  3.57s/i\n"
     ]
    },
    {
     "name": "stdout",
     "output_type": "stream",
     "text": [
      "saving model version 0.1\n",
      "✅ Best validation loss: 9.5596e+00 at 6 epoch\n",
      "Testing 3 hidden neurons, lamb=0.001, grid=3\n",
      "checkpoint directory created: ./model\n",
      "saving model version 0.0\n",
      "checkpoint directory created: ./model\n",
      "saving model version 0.0\n",
      "Successfully created and tested Model3\n"
     ]
    },
    {
     "name": "stderr",
     "output_type": "stream",
     "text": [
      "| train_loss: 2.90e+00 | eval_loss: 3.30e+00 | reg: 2.10e+02 |: 100%|█| 50/50 [03:03<00:00,  3.67s/i\n"
     ]
    },
    {
     "name": "stdout",
     "output_type": "stream",
     "text": [
      "saving model version 0.1\n",
      "✅ Best validation loss: 9.5900e+00 at 12 epoch\n",
      "Testing 3 hidden neurons, lamb=0.0001, grid=3\n",
      "checkpoint directory created: ./model\n",
      "saving model version 0.0\n",
      "checkpoint directory created: ./model\n",
      "saving model version 0.0\n",
      "Successfully created and tested Model3\n"
     ]
    },
    {
     "name": "stderr",
     "output_type": "stream",
     "text": [
      "| train_loss: 2.92e+00 | eval_loss: 3.23e+00 | reg: 4.61e+02 |: 100%|█| 50/50 [03:06<00:00,  3.73s/i\n"
     ]
    },
    {
     "name": "stdout",
     "output_type": "stream",
     "text": [
      "saving model version 0.1\n",
      "✅ Best validation loss: 9.5431e+00 at 16 epoch\n",
      "Testing 3 hidden neurons, lamb=1e-05, grid=3\n",
      "checkpoint directory created: ./model\n",
      "saving model version 0.0\n",
      "checkpoint directory created: ./model\n",
      "saving model version 0.0\n",
      "Successfully created and tested Model3\n"
     ]
    },
    {
     "name": "stderr",
     "output_type": "stream",
     "text": [
      "| train_loss: 2.91e+00 | eval_loss: 3.24e+00 | reg: 4.95e+02 |: 100%|█| 50/50 [03:05<00:00,  3.71s/i\n"
     ]
    },
    {
     "name": "stdout",
     "output_type": "stream",
     "text": [
      "saving model version 0.1\n",
      "✅ Best validation loss: 9.5799e+00 at 7 epoch\n",
      "Testing 3 hidden neurons, lamb=1e-06, grid=3\n",
      "checkpoint directory created: ./model\n",
      "saving model version 0.0\n",
      "checkpoint directory created: ./model\n",
      "saving model version 0.0\n",
      "Successfully created and tested Model3\n"
     ]
    },
    {
     "name": "stderr",
     "output_type": "stream",
     "text": [
      "| train_loss: 2.90e+00 | eval_loss: 3.29e+00 | reg: 4.42e+02 |: 100%|█| 50/50 [03:01<00:00,  3.63s/i\n"
     ]
    },
    {
     "name": "stdout",
     "output_type": "stream",
     "text": [
      "saving model version 0.1\n",
      "✅ Best validation loss: 9.5295e+00 at 11 epoch\n",
      "Testing 3 hidden neurons, lamb=1.0, grid=4\n",
      "checkpoint directory created: ./model\n",
      "saving model version 0.0\n",
      "checkpoint directory created: ./model\n",
      "saving model version 0.0\n",
      "Successfully created and tested Model3\n"
     ]
    },
    {
     "name": "stderr",
     "output_type": "stream",
     "text": [
      "| train_loss: 5.64e+00 | eval_loss: 5.77e+00 | reg: 4.32e-01 |: 100%|█| 50/50 [03:02<00:00,  3.65s/i\n"
     ]
    },
    {
     "name": "stdout",
     "output_type": "stream",
     "text": [
      "saving model version 0.1\n",
      "✅ Best validation loss: 3.3276e+01 at 25 epoch\n",
      "Testing 3 hidden neurons, lamb=0.1, grid=4\n",
      "checkpoint directory created: ./model\n",
      "saving model version 0.0\n",
      "checkpoint directory created: ./model\n",
      "saving model version 0.0\n",
      "Successfully created and tested Model3\n"
     ]
    },
    {
     "name": "stderr",
     "output_type": "stream",
     "text": [
      "| train_loss: 3.50e+00 | eval_loss: 3.15e+00 | reg: 2.27e+01 |: 100%|█| 50/50 [03:07<00:00,  3.75s/i\n"
     ]
    },
    {
     "name": "stdout",
     "output_type": "stream",
     "text": [
      "saving model version 0.1\n",
      "✅ Best validation loss: 9.9059e+00 at 25 epoch\n",
      "Testing 3 hidden neurons, lamb=0.01, grid=4\n",
      "checkpoint directory created: ./model\n",
      "saving model version 0.0\n",
      "checkpoint directory created: ./model\n",
      "saving model version 0.0\n",
      "Successfully created and tested Model3\n"
     ]
    },
    {
     "name": "stderr",
     "output_type": "stream",
     "text": [
      "| train_loss: 3.08e+00 | eval_loss: 3.17e+00 | reg: 5.27e+01 |: 100%|█| 50/50 [03:11<00:00,  3.82s/i\n"
     ]
    },
    {
     "name": "stdout",
     "output_type": "stream",
     "text": [
      "saving model version 0.1\n",
      "✅ Best validation loss: 9.5794e+00 at 10 epoch\n",
      "Testing 3 hidden neurons, lamb=0.001, grid=4\n",
      "checkpoint directory created: ./model\n",
      "saving model version 0.0\n",
      "checkpoint directory created: ./model\n",
      "saving model version 0.0\n",
      "Successfully created and tested Model3\n"
     ]
    },
    {
     "name": "stderr",
     "output_type": "stream",
     "text": [
      "| train_loss: 2.97e+00 | eval_loss: 3.23e+00 | reg: 2.02e+02 |: 100%|█| 50/50 [02:29<00:00,  3.00s/i\n"
     ]
    },
    {
     "name": "stdout",
     "output_type": "stream",
     "text": [
      "saving model version 0.1\n",
      "✅ Best validation loss: 9.6118e+00 at 5 epoch\n",
      "Testing 3 hidden neurons, lamb=0.0001, grid=4\n",
      "checkpoint directory created: ./model\n",
      "saving model version 0.0\n",
      "checkpoint directory created: ./model\n",
      "saving model version 0.0\n",
      "Successfully created and tested Model3\n"
     ]
    },
    {
     "name": "stderr",
     "output_type": "stream",
     "text": [
      "| train_loss: 2.85e+00 | eval_loss: 3.32e+00 | reg: 4.79e+02 |: 100%|█| 50/50 [03:15<00:00,  3.91s/i\n"
     ]
    },
    {
     "name": "stdout",
     "output_type": "stream",
     "text": [
      "saving model version 0.1\n",
      "✅ Best validation loss: 9.5829e+00 at 5 epoch\n",
      "Testing 3 hidden neurons, lamb=1e-05, grid=4\n",
      "checkpoint directory created: ./model\n",
      "saving model version 0.0\n",
      "checkpoint directory created: ./model\n",
      "saving model version 0.0\n",
      "Successfully created and tested Model3\n"
     ]
    },
    {
     "name": "stderr",
     "output_type": "stream",
     "text": [
      "| train_loss: 2.81e+00 | eval_loss: 3.36e+00 | reg: 5.14e+02 |: 100%|█| 50/50 [03:15<00:00,  3.91s/i\n"
     ]
    },
    {
     "name": "stdout",
     "output_type": "stream",
     "text": [
      "saving model version 0.1\n",
      "✅ Best validation loss: 9.5406e+00 at 3 epoch\n",
      "Testing 3 hidden neurons, lamb=1e-06, grid=4\n",
      "checkpoint directory created: ./model\n",
      "saving model version 0.0\n",
      "checkpoint directory created: ./model\n",
      "saving model version 0.0\n",
      "Successfully created and tested Model3\n"
     ]
    },
    {
     "name": "stderr",
     "output_type": "stream",
     "text": [
      "| train_loss: 2.85e+00 | eval_loss: 3.32e+00 | reg: 5.81e+02 |: 100%|█| 50/50 [03:15<00:00,  3.91s/i\n"
     ]
    },
    {
     "name": "stdout",
     "output_type": "stream",
     "text": [
      "saving model version 0.1\n",
      "✅ Best validation loss: 9.6015e+00 at 4 epoch\n",
      "Testing 3 hidden neurons, lamb=1.0, grid=5\n",
      "checkpoint directory created: ./model\n",
      "saving model version 0.0\n",
      "checkpoint directory created: ./model\n",
      "saving model version 0.0\n",
      "Successfully created and tested Model3\n"
     ]
    },
    {
     "name": "stderr",
     "output_type": "stream",
     "text": [
      "| train_loss: 5.64e+00 | eval_loss: 5.77e+00 | reg: 3.79e-01 |: 100%|█| 50/50 [03:18<00:00,  3.97s/i\n"
     ]
    },
    {
     "name": "stdout",
     "output_type": "stream",
     "text": [
      "saving model version 0.1\n",
      "✅ Best validation loss: 3.3272e+01 at 14 epoch\n",
      "Testing 3 hidden neurons, lamb=0.1, grid=5\n",
      "checkpoint directory created: ./model\n",
      "saving model version 0.0\n",
      "checkpoint directory created: ./model\n",
      "saving model version 0.0\n",
      "Successfully created and tested Model3\n"
     ]
    },
    {
     "name": "stderr",
     "output_type": "stream",
     "text": [
      "| train_loss: 3.49e+00 | eval_loss: 3.15e+00 | reg: 2.24e+01 |: 100%|█| 50/50 [03:22<00:00,  4.04s/i\n"
     ]
    },
    {
     "name": "stdout",
     "output_type": "stream",
     "text": [
      "saving model version 0.1\n",
      "✅ Best validation loss: 9.8835e+00 at 40 epoch\n",
      "Testing 3 hidden neurons, lamb=0.01, grid=5\n",
      "checkpoint directory created: ./model\n",
      "saving model version 0.0\n",
      "checkpoint directory created: ./model\n",
      "saving model version 0.0\n",
      "Successfully created and tested Model3\n"
     ]
    },
    {
     "name": "stderr",
     "output_type": "stream",
     "text": [
      "| train_loss: 3.14e+00 | eval_loss: 3.12e+00 | reg: 6.51e+01 |: 100%|█| 50/50 [02:31<00:00,  3.02s/i\n"
     ]
    },
    {
     "name": "stdout",
     "output_type": "stream",
     "text": [
      "saving model version 0.1\n",
      "✅ Best validation loss: 9.5725e+00 at 12 epoch\n",
      "Testing 3 hidden neurons, lamb=0.001, grid=5\n",
      "checkpoint directory created: ./model\n",
      "saving model version 0.0\n",
      "checkpoint directory created: ./model\n",
      "saving model version 0.0\n",
      "Successfully created and tested Model3\n"
     ]
    },
    {
     "name": "stderr",
     "output_type": "stream",
     "text": [
      "| train_loss: 2.67e+00 | eval_loss: 3.57e+00 | reg: 3.83e+02 |: 100%|█| 50/50 [03:30<00:00,  4.21s/i\n"
     ]
    },
    {
     "name": "stdout",
     "output_type": "stream",
     "text": [
      "saving model version 0.1\n",
      "✅ Best validation loss: 9.6016e+00 at 6 epoch\n",
      "Testing 3 hidden neurons, lamb=0.0001, grid=5\n",
      "checkpoint directory created: ./model\n",
      "saving model version 0.0\n",
      "checkpoint directory created: ./model\n",
      "saving model version 0.0\n",
      "Successfully created and tested Model3\n"
     ]
    },
    {
     "name": "stderr",
     "output_type": "stream",
     "text": [
      "| train_loss: 2.73e+00 | eval_loss: 3.45e+00 | reg: 4.77e+02 |: 100%|█| 50/50 [03:32<00:00,  4.25s/i\n"
     ]
    },
    {
     "name": "stdout",
     "output_type": "stream",
     "text": [
      "saving model version 0.1\n",
      "✅ Best validation loss: 9.5314e+00 at 4 epoch\n",
      "Testing 3 hidden neurons, lamb=1e-05, grid=5\n",
      "checkpoint directory created: ./model\n",
      "saving model version 0.0\n",
      "checkpoint directory created: ./model\n",
      "saving model version 0.0\n",
      "Successfully created and tested Model3\n"
     ]
    },
    {
     "name": "stderr",
     "output_type": "stream",
     "text": [
      "| train_loss: 2.70e+00 | eval_loss: 3.57e+00 | reg: 5.76e+02 |: 100%|█| 50/50 [03:31<00:00,  4.22s/i\n"
     ]
    },
    {
     "name": "stdout",
     "output_type": "stream",
     "text": [
      "saving model version 0.1\n",
      "✅ Best validation loss: 9.5899e+00 at 5 epoch\n",
      "Testing 3 hidden neurons, lamb=1e-06, grid=5\n",
      "checkpoint directory created: ./model\n",
      "saving model version 0.0\n",
      "checkpoint directory created: ./model\n",
      "saving model version 0.0\n",
      "Successfully created and tested Model3\n"
     ]
    },
    {
     "name": "stderr",
     "output_type": "stream",
     "text": [
      "| train_loss: 2.75e+00 | eval_loss: 3.49e+00 | reg: 4.89e+02 |: 100%|█| 50/50 [03:41<00:00,  4.43s/i\n"
     ]
    },
    {
     "name": "stdout",
     "output_type": "stream",
     "text": [
      "saving model version 0.1\n",
      "✅ Best validation loss: 9.5103e+00 at 5 epoch\n",
      "Testing 3 hidden neurons, lamb=1.0, grid=6\n",
      "checkpoint directory created: ./model\n",
      "saving model version 0.0\n",
      "checkpoint directory created: ./model\n",
      "saving model version 0.0\n",
      "Successfully created and tested Model3\n"
     ]
    },
    {
     "name": "stderr",
     "output_type": "stream",
     "text": [
      "| train_loss: 5.64e+00 | eval_loss: 5.77e+00 | reg: 4.66e-01 |: 100%|█| 50/50 [03:42<00:00,  4.44s/i\n"
     ]
    },
    {
     "name": "stdout",
     "output_type": "stream",
     "text": [
      "saving model version 0.1\n",
      "✅ Best validation loss: 3.3271e+01 at 19 epoch\n",
      "Testing 3 hidden neurons, lamb=0.1, grid=6\n",
      "checkpoint directory created: ./model\n",
      "saving model version 0.0\n",
      "checkpoint directory created: ./model\n",
      "saving model version 0.0\n",
      "Successfully created and tested Model3\n"
     ]
    },
    {
     "name": "stderr",
     "output_type": "stream",
     "text": [
      "| train_loss: 3.41e+00 | eval_loss: 3.14e+00 | reg: 1.69e+01 |: 100%|█| 50/50 [03:46<00:00,  4.53s/i\n"
     ]
    },
    {
     "name": "stdout",
     "output_type": "stream",
     "text": [
      "saving model version 0.1\n",
      "✅ Best validation loss: 9.8094e+00 at 34 epoch\n",
      "Testing 3 hidden neurons, lamb=0.01, grid=6\n",
      "checkpoint directory created: ./model\n",
      "saving model version 0.0\n",
      "checkpoint directory created: ./model\n",
      "saving model version 0.0\n",
      "Successfully created and tested Model3\n"
     ]
    },
    {
     "name": "stderr",
     "output_type": "stream",
     "text": [
      "| train_loss: nan | eval_loss: nan | reg: nan |: 100%|██████████████| 50/50 [04:10<00:00,  5.01s/it]\n"
     ]
    },
    {
     "name": "stdout",
     "output_type": "stream",
     "text": [
      "saving model version 0.1\n",
      "✅ Best validation loss: 9.5311e+00 at 6 epoch\n",
      "Testing 3 hidden neurons, lamb=0.001, grid=6\n",
      "checkpoint directory created: ./model\n",
      "saving model version 0.0\n",
      "checkpoint directory created: ./model\n",
      "saving model version 0.0\n",
      "Successfully created and tested Model3\n"
     ]
    },
    {
     "name": "stderr",
     "output_type": "stream",
     "text": [
      "| train_loss: 2.54e+00 | eval_loss: 3.75e+00 | reg: 4.34e+02 |: 100%|█| 50/50 [03:55<00:00,  4.71s/i\n"
     ]
    },
    {
     "name": "stdout",
     "output_type": "stream",
     "text": [
      "saving model version 0.1\n",
      "✅ Best validation loss: 9.5113e+00 at 6 epoch\n",
      "Testing 3 hidden neurons, lamb=0.0001, grid=6\n",
      "checkpoint directory created: ./model\n",
      "saving model version 0.0\n",
      "checkpoint directory created: ./model\n",
      "saving model version 0.0\n",
      "Successfully created and tested Model3\n"
     ]
    },
    {
     "name": "stderr",
     "output_type": "stream",
     "text": [
      "| train_loss: 2.76e+00 | eval_loss: 3.40e+00 | reg: 3.55e+02 |: 100%|█| 50/50 [04:07<00:00,  4.94s/i\n"
     ]
    },
    {
     "name": "stdout",
     "output_type": "stream",
     "text": [
      "saving model version 0.1\n",
      "✅ Best validation loss: 9.5198e+00 at 4 epoch\n",
      "Testing 3 hidden neurons, lamb=1e-05, grid=6\n",
      "checkpoint directory created: ./model\n",
      "saving model version 0.0\n",
      "checkpoint directory created: ./model\n",
      "saving model version 0.0\n",
      "Successfully created and tested Model3\n"
     ]
    },
    {
     "name": "stderr",
     "output_type": "stream",
     "text": [
      "| train_loss: 2.66e+00 | eval_loss: 3.52e+00 | reg: 4.40e+02 |: 100%|█| 50/50 [04:02<00:00,  4.85s/i\n"
     ]
    },
    {
     "name": "stdout",
     "output_type": "stream",
     "text": [
      "saving model version 0.1\n",
      "✅ Best validation loss: 9.5270e+00 at 7 epoch\n",
      "Testing 3 hidden neurons, lamb=1e-06, grid=6\n",
      "checkpoint directory created: ./model\n",
      "saving model version 0.0\n",
      "checkpoint directory created: ./model\n",
      "saving model version 0.0\n",
      "Successfully created and tested Model3\n"
     ]
    },
    {
     "name": "stderr",
     "output_type": "stream",
     "text": [
      "| train_loss: 2.63e+00 | eval_loss: 3.54e+00 | reg: 4.45e+02 |: 100%|█| 50/50 [03:59<00:00,  4.78s/i\n"
     ]
    },
    {
     "name": "stdout",
     "output_type": "stream",
     "text": [
      "saving model version 0.1\n",
      "✅ Best validation loss: 9.5352e+00 at 6 epoch\n",
      "Testing 4 hidden neurons, lamb=1.0, grid=3\n",
      "checkpoint directory created: ./model\n",
      "saving model version 0.0\n",
      "checkpoint directory created: ./model\n",
      "saving model version 0.0\n",
      "Successfully created and tested Model3\n"
     ]
    },
    {
     "name": "stderr",
     "output_type": "stream",
     "text": [
      "| train_loss: 5.64e+00 | eval_loss: 5.77e+00 | reg: 4.64e-01 |: 100%|█| 50/50 [02:49<00:00,  3.40s/i\n"
     ]
    },
    {
     "name": "stdout",
     "output_type": "stream",
     "text": [
      "saving model version 0.1\n",
      "✅ Best validation loss: 3.3266e+01 at 15 epoch\n",
      "Testing 4 hidden neurons, lamb=0.1, grid=3\n",
      "checkpoint directory created: ./model\n",
      "saving model version 0.0\n",
      "checkpoint directory created: ./model\n",
      "saving model version 0.0\n",
      "Successfully created and tested Model3\n"
     ]
    },
    {
     "name": "stderr",
     "output_type": "stream",
     "text": [
      "| train_loss: 3.50e+00 | eval_loss: 3.14e+00 | reg: 2.22e+01 |: 100%|█| 50/50 [02:53<00:00,  3.47s/i\n"
     ]
    },
    {
     "name": "stdout",
     "output_type": "stream",
     "text": [
      "saving model version 0.1\n",
      "✅ Best validation loss: 9.8685e+00 at 18 epoch\n",
      "Testing 4 hidden neurons, lamb=0.01, grid=3\n",
      "checkpoint directory created: ./model\n",
      "saving model version 0.0\n",
      "checkpoint directory created: ./model\n",
      "saving model version 0.0\n",
      "Successfully created and tested Model3\n"
     ]
    },
    {
     "name": "stderr",
     "output_type": "stream",
     "text": [
      "| train_loss: 3.09e+00 | eval_loss: 3.16e+00 | reg: 5.08e+01 |: 100%|█| 50/50 [03:01<00:00,  3.62s/i\n"
     ]
    },
    {
     "name": "stdout",
     "output_type": "stream",
     "text": [
      "saving model version 0.1\n",
      "✅ Best validation loss: 9.5434e+00 at 10 epoch\n",
      "Testing 4 hidden neurons, lamb=0.001, grid=3\n",
      "checkpoint directory created: ./model\n",
      "saving model version 0.0\n",
      "checkpoint directory created: ./model\n",
      "saving model version 0.0\n",
      "Successfully created and tested Model3\n"
     ]
    },
    {
     "name": "stderr",
     "output_type": "stream",
     "text": [
      "| train_loss: 2.90e+00 | eval_loss: 3.32e+00 | reg: 2.26e+02 |: 100%|█| 50/50 [03:02<00:00,  3.65s/i\n"
     ]
    },
    {
     "name": "stdout",
     "output_type": "stream",
     "text": [
      "saving model version 0.1\n",
      "✅ Best validation loss: 9.5418e+00 at 6 epoch\n",
      "Testing 4 hidden neurons, lamb=0.0001, grid=3\n",
      "checkpoint directory created: ./model\n",
      "saving model version 0.0\n",
      "checkpoint directory created: ./model\n",
      "saving model version 0.0\n",
      "Successfully created and tested Model3\n"
     ]
    },
    {
     "name": "stderr",
     "output_type": "stream",
     "text": [
      "| train_loss: 2.88e+00 | eval_loss: 3.29e+00 | reg: 4.29e+02 |: 100%|█| 50/50 [03:08<00:00,  3.76s/i\n"
     ]
    },
    {
     "name": "stdout",
     "output_type": "stream",
     "text": [
      "saving model version 0.1\n",
      "✅ Best validation loss: 9.5680e+00 at 4 epoch\n",
      "Testing 4 hidden neurons, lamb=1e-05, grid=3\n",
      "checkpoint directory created: ./model\n",
      "saving model version 0.0\n",
      "checkpoint directory created: ./model\n",
      "saving model version 0.0\n",
      "Successfully created and tested Model3\n"
     ]
    },
    {
     "name": "stderr",
     "output_type": "stream",
     "text": [
      "| train_loss: 2.89e+00 | eval_loss: 3.28e+00 | reg: 4.50e+02 |: 100%|█| 50/50 [03:00<00:00,  3.60s/i\n"
     ]
    },
    {
     "name": "stdout",
     "output_type": "stream",
     "text": [
      "saving model version 0.1\n",
      "✅ Best validation loss: 9.5591e+00 at 9 epoch\n",
      "Testing 4 hidden neurons, lamb=1e-06, grid=3\n",
      "checkpoint directory created: ./model\n",
      "saving model version 0.0\n",
      "checkpoint directory created: ./model\n",
      "saving model version 0.0\n",
      "Successfully created and tested Model3\n"
     ]
    },
    {
     "name": "stderr",
     "output_type": "stream",
     "text": [
      "| train_loss: 2.88e+00 | eval_loss: 3.32e+00 | reg: 4.40e+02 |: 100%|█| 50/50 [03:08<00:00,  3.77s/i\n"
     ]
    },
    {
     "name": "stdout",
     "output_type": "stream",
     "text": [
      "saving model version 0.1\n",
      "✅ Best validation loss: 9.5424e+00 at 4 epoch\n",
      "Testing 4 hidden neurons, lamb=1.0, grid=4\n",
      "checkpoint directory created: ./model\n",
      "saving model version 0.0\n",
      "checkpoint directory created: ./model\n",
      "saving model version 0.0\n",
      "Successfully created and tested Model3\n"
     ]
    },
    {
     "name": "stderr",
     "output_type": "stream",
     "text": [
      "| train_loss: 5.65e+00 | eval_loss: 5.77e+00 | reg: 5.98e-01 |: 100%|█| 50/50 [03:02<00:00,  3.65s/i\n"
     ]
    },
    {
     "name": "stdout",
     "output_type": "stream",
     "text": [
      "saving model version 0.1\n",
      "✅ Best validation loss: 3.3269e+01 at 12 epoch\n",
      "Testing 4 hidden neurons, lamb=0.1, grid=4\n",
      "checkpoint directory created: ./model\n",
      "saving model version 0.0\n",
      "checkpoint directory created: ./model\n",
      "saving model version 0.0\n",
      "Successfully created and tested Model3\n"
     ]
    },
    {
     "name": "stderr",
     "output_type": "stream",
     "text": [
      "| train_loss: 3.41e+00 | eval_loss: 3.14e+00 | reg: 1.68e+01 |: 100%|█| 50/50 [03:10<00:00,  3.82s/i\n"
     ]
    },
    {
     "name": "stdout",
     "output_type": "stream",
     "text": [
      "saving model version 0.1\n",
      "✅ Best validation loss: 9.7644e+00 at 12 epoch\n",
      "Testing 4 hidden neurons, lamb=0.01, grid=4\n",
      "checkpoint directory created: ./model\n",
      "saving model version 0.0\n",
      "checkpoint directory created: ./model\n",
      "saving model version 0.0\n",
      "Successfully created and tested Model3\n"
     ]
    },
    {
     "name": "stderr",
     "output_type": "stream",
     "text": [
      "| train_loss: 3.07e+00 | eval_loss: 3.19e+00 | reg: 5.86e+01 |: 100%|█| 50/50 [03:07<00:00,  3.74s/i\n"
     ]
    },
    {
     "name": "stdout",
     "output_type": "stream",
     "text": [
      "saving model version 0.1\n",
      "✅ Best validation loss: 9.5812e+00 at 9 epoch\n",
      "Testing 4 hidden neurons, lamb=0.001, grid=4\n",
      "checkpoint directory created: ./model\n",
      "saving model version 0.0\n",
      "checkpoint directory created: ./model\n",
      "saving model version 0.0\n",
      "Successfully created and tested Model3\n"
     ]
    },
    {
     "name": "stderr",
     "output_type": "stream",
     "text": [
      "| train_loss: 2.90e+00 | eval_loss: 3.32e+00 | reg: 2.29e+02 |: 100%|█| 50/50 [03:15<00:00,  3.91s/i\n"
     ]
    },
    {
     "name": "stdout",
     "output_type": "stream",
     "text": [
      "saving model version 0.1\n",
      "✅ Best validation loss: 9.5274e+00 at 8 epoch\n",
      "Testing 4 hidden neurons, lamb=0.0001, grid=4\n",
      "checkpoint directory created: ./model\n",
      "saving model version 0.0\n",
      "checkpoint directory created: ./model\n",
      "saving model version 0.0\n",
      "Successfully created and tested Model3\n"
     ]
    },
    {
     "name": "stderr",
     "output_type": "stream",
     "text": [
      "| train_loss: 2.79e+00 | eval_loss: 3.39e+00 | reg: 5.21e+02 |: 100%|█| 50/50 [03:13<00:00,  3.88s/i\n"
     ]
    },
    {
     "name": "stdout",
     "output_type": "stream",
     "text": [
      "saving model version 0.1\n",
      "✅ Best validation loss: 9.5412e+00 at 8 epoch\n",
      "Testing 4 hidden neurons, lamb=1e-05, grid=4\n",
      "checkpoint directory created: ./model\n",
      "saving model version 0.0\n",
      "checkpoint directory created: ./model\n",
      "saving model version 0.0\n",
      "Successfully created and tested Model3\n"
     ]
    },
    {
     "name": "stderr",
     "output_type": "stream",
     "text": [
      "| train_loss: 2.81e+00 | eval_loss: 3.42e+00 | reg: 5.82e+02 |: 100%|█| 50/50 [03:21<00:00,  4.04s/i\n"
     ]
    },
    {
     "name": "stdout",
     "output_type": "stream",
     "text": [
      "saving model version 0.1\n",
      "✅ Best validation loss: 9.5874e+00 at 7 epoch\n",
      "Testing 4 hidden neurons, lamb=1e-06, grid=4\n",
      "checkpoint directory created: ./model\n",
      "saving model version 0.0\n",
      "checkpoint directory created: ./model\n",
      "saving model version 0.0\n",
      "Successfully created and tested Model3\n"
     ]
    },
    {
     "name": "stderr",
     "output_type": "stream",
     "text": [
      "| train_loss: 2.86e+00 | eval_loss: 3.31e+00 | reg: 4.65e+02 |: 100%|█| 50/50 [03:20<00:00,  4.01s/i\n"
     ]
    },
    {
     "name": "stdout",
     "output_type": "stream",
     "text": [
      "saving model version 0.1\n",
      "✅ Best validation loss: 9.5770e+00 at 9 epoch\n",
      "Testing 4 hidden neurons, lamb=1.0, grid=5\n",
      "checkpoint directory created: ./model\n",
      "saving model version 0.0\n",
      "checkpoint directory created: ./model\n",
      "saving model version 0.0\n",
      "Successfully created and tested Model3\n"
     ]
    },
    {
     "name": "stderr",
     "output_type": "stream",
     "text": [
      "| train_loss: 5.65e+00 | eval_loss: 5.77e+00 | reg: 5.06e-01 |: 100%|█| 50/50 [03:20<00:00,  4.00s/i\n"
     ]
    },
    {
     "name": "stdout",
     "output_type": "stream",
     "text": [
      "saving model version 0.1\n",
      "✅ Best validation loss: 3.3267e+01 at 15 epoch\n",
      "Testing 4 hidden neurons, lamb=0.1, grid=5\n",
      "checkpoint directory created: ./model\n",
      "saving model version 0.0\n",
      "checkpoint directory created: ./model\n",
      "saving model version 0.0\n",
      "Successfully created and tested Model3\n"
     ]
    },
    {
     "name": "stderr",
     "output_type": "stream",
     "text": [
      "| train_loss: 3.48e+00 | eval_loss: 3.14e+00 | reg: 2.16e+01 |: 100%|█| 50/50 [03:19<00:00,  3.99s/i\n"
     ]
    },
    {
     "name": "stdout",
     "output_type": "stream",
     "text": [
      "saving model version 0.1\n",
      "✅ Best validation loss: 9.8501e+00 at 12 epoch\n",
      "Testing 4 hidden neurons, lamb=0.01, grid=5\n",
      "checkpoint directory created: ./model\n",
      "saving model version 0.0\n",
      "checkpoint directory created: ./model\n",
      "saving model version 0.0\n",
      "Successfully created and tested Model3\n"
     ]
    },
    {
     "name": "stderr",
     "output_type": "stream",
     "text": [
      "| train_loss: 3.02e+00 | eval_loss: 3.28e+00 | reg: 8.95e+01 |: 100%|█| 50/50 [03:33<00:00,  4.27s/i\n"
     ]
    },
    {
     "name": "stdout",
     "output_type": "stream",
     "text": [
      "saving model version 0.1\n",
      "✅ Best validation loss: 9.6165e+00 at 7 epoch\n",
      "Testing 4 hidden neurons, lamb=0.001, grid=5\n",
      "checkpoint directory created: ./model\n",
      "saving model version 0.0\n",
      "checkpoint directory created: ./model\n",
      "saving model version 0.0\n",
      "Successfully created and tested Model3\n"
     ]
    },
    {
     "name": "stderr",
     "output_type": "stream",
     "text": [
      "| train_loss: 2.65e+00 | eval_loss: 3.61e+00 | reg: 2.97e+02 |: 100%|█| 50/50 [03:34<00:00,  4.28s/i\n"
     ]
    },
    {
     "name": "stdout",
     "output_type": "stream",
     "text": [
      "saving model version 0.1\n",
      "✅ Best validation loss: 9.5192e+00 at 4 epoch\n",
      "Testing 4 hidden neurons, lamb=0.0001, grid=5\n",
      "checkpoint directory created: ./model\n",
      "saving model version 0.0\n",
      "checkpoint directory created: ./model\n",
      "saving model version 0.0\n",
      "Successfully created and tested Model3\n"
     ]
    },
    {
     "name": "stderr",
     "output_type": "stream",
     "text": [
      "| train_loss: 2.67e+00 | eval_loss: 3.55e+00 | reg: 4.49e+02 |: 100%|█| 50/50 [03:34<00:00,  4.30s/i\n"
     ]
    },
    {
     "name": "stdout",
     "output_type": "stream",
     "text": [
      "saving model version 0.1\n",
      "✅ Best validation loss: 9.5605e+00 at 6 epoch\n",
      "Testing 4 hidden neurons, lamb=1e-05, grid=5\n",
      "checkpoint directory created: ./model\n",
      "saving model version 0.0\n",
      "checkpoint directory created: ./model\n",
      "saving model version 0.0\n",
      "Successfully created and tested Model3\n"
     ]
    },
    {
     "name": "stderr",
     "output_type": "stream",
     "text": [
      "| train_loss: 2.67e+00 | eval_loss: 3.68e+00 | reg: 5.29e+02 |: 100%|█| 50/50 [03:27<00:00,  4.16s/i\n"
     ]
    },
    {
     "name": "stdout",
     "output_type": "stream",
     "text": [
      "saving model version 0.1\n",
      "✅ Best validation loss: 9.5640e+00 at 9 epoch\n",
      "Testing 4 hidden neurons, lamb=1e-06, grid=5\n",
      "checkpoint directory created: ./model\n",
      "saving model version 0.0\n",
      "checkpoint directory created: ./model\n",
      "saving model version 0.0\n",
      "Successfully created and tested Model3\n"
     ]
    },
    {
     "name": "stderr",
     "output_type": "stream",
     "text": [
      "| train_loss: 2.67e+00 | eval_loss: 3.51e+00 | reg: 5.41e+02 |: 100%|█| 50/50 [03:31<00:00,  4.24s/i\n"
     ]
    },
    {
     "name": "stdout",
     "output_type": "stream",
     "text": [
      "saving model version 0.1\n",
      "✅ Best validation loss: 9.6052e+00 at 8 epoch\n",
      "Testing 4 hidden neurons, lamb=1.0, grid=6\n",
      "checkpoint directory created: ./model\n",
      "saving model version 0.0\n",
      "checkpoint directory created: ./model\n",
      "saving model version 0.0\n",
      "Successfully created and tested Model3\n"
     ]
    },
    {
     "name": "stderr",
     "output_type": "stream",
     "text": [
      "| train_loss: 5.65e+00 | eval_loss: 5.77e+00 | reg: 5.29e-01 |: 100%|█| 50/50 [03:44<00:00,  4.48s/i\n"
     ]
    },
    {
     "name": "stdout",
     "output_type": "stream",
     "text": [
      "saving model version 0.1\n",
      "✅ Best validation loss: 3.3271e+01 at 17 epoch\n",
      "Testing 4 hidden neurons, lamb=0.1, grid=6\n",
      "checkpoint directory created: ./model\n",
      "saving model version 0.0\n",
      "checkpoint directory created: ./model\n",
      "saving model version 0.0\n",
      "Successfully created and tested Model3\n"
     ]
    },
    {
     "name": "stderr",
     "output_type": "stream",
     "text": [
      "| train_loss: 3.49e+00 | eval_loss: 3.14e+00 | reg: 2.24e+01 |: 100%|█| 50/50 [03:46<00:00,  4.52s/i\n"
     ]
    },
    {
     "name": "stdout",
     "output_type": "stream",
     "text": [
      "saving model version 0.1\n",
      "✅ Best validation loss: 9.8610e+00 at 38 epoch\n",
      "Testing 4 hidden neurons, lamb=0.01, grid=6\n",
      "checkpoint directory created: ./model\n",
      "saving model version 0.0\n",
      "checkpoint directory created: ./model\n",
      "saving model version 0.0\n",
      "Successfully created and tested Model3\n"
     ]
    },
    {
     "name": "stderr",
     "output_type": "stream",
     "text": [
      "| train_loss: 3.03e+00 | eval_loss: 3.25e+00 | reg: 8.55e+01 |: 100%|█| 50/50 [03:56<00:00,  4.73s/i\n"
     ]
    },
    {
     "name": "stdout",
     "output_type": "stream",
     "text": [
      "saving model version 0.1\n",
      "✅ Best validation loss: 9.5063e+00 at 11 epoch\n",
      "Testing 4 hidden neurons, lamb=0.001, grid=6\n",
      "checkpoint directory created: ./model\n",
      "saving model version 0.0\n",
      "checkpoint directory created: ./model\n",
      "saving model version 0.0\n",
      "Successfully created and tested Model3\n"
     ]
    },
    {
     "name": "stderr",
     "output_type": "stream",
     "text": [
      "| train_loss: 2.63e+00 | eval_loss: 3.62e+00 | reg: 3.16e+02 |: 100%|█| 50/50 [03:47<00:00,  4.55s/i\n"
     ]
    },
    {
     "name": "stdout",
     "output_type": "stream",
     "text": [
      "saving model version 0.1\n",
      "✅ Best validation loss: 9.5738e+00 at 4 epoch\n",
      "Testing 4 hidden neurons, lamb=0.0001, grid=6\n",
      "checkpoint directory created: ./model\n",
      "saving model version 0.0\n",
      "checkpoint directory created: ./model\n",
      "saving model version 0.0\n",
      "Successfully created and tested Model3\n"
     ]
    },
    {
     "name": "stderr",
     "output_type": "stream",
     "text": [
      "| train_loss: 2.63e+00 | eval_loss: 3.50e+00 | reg: 4.12e+02 |: 100%|█| 50/50 [04:00<00:00,  4.80s/i\n"
     ]
    },
    {
     "name": "stdout",
     "output_type": "stream",
     "text": [
      "saving model version 0.1\n",
      "✅ Best validation loss: 9.5222e+00 at 8 epoch\n",
      "Testing 4 hidden neurons, lamb=1e-05, grid=6\n",
      "checkpoint directory created: ./model\n",
      "saving model version 0.0\n",
      "checkpoint directory created: ./model\n",
      "saving model version 0.0\n",
      "Successfully created and tested Model3\n"
     ]
    },
    {
     "name": "stderr",
     "output_type": "stream",
     "text": [
      "| train_loss: 2.51e+00 | eval_loss: 3.66e+00 | reg: 5.84e+02 |: 100%|█| 50/50 [03:56<00:00,  4.72s/i\n"
     ]
    },
    {
     "name": "stdout",
     "output_type": "stream",
     "text": [
      "saving model version 0.1\n",
      "✅ Best validation loss: 9.6425e+00 at 8 epoch\n",
      "Testing 4 hidden neurons, lamb=1e-06, grid=6\n",
      "checkpoint directory created: ./model\n",
      "saving model version 0.0\n",
      "checkpoint directory created: ./model\n",
      "saving model version 0.0\n",
      "Successfully created and tested Model3\n"
     ]
    },
    {
     "name": "stderr",
     "output_type": "stream",
     "text": [
      "| train_loss: 2.59e+00 | eval_loss: 3.62e+00 | reg: 5.25e+02 |: 100%|█| 50/50 [03:53<00:00,  4.67s/i"
     ]
    },
    {
     "name": "stdout",
     "output_type": "stream",
     "text": [
      "saving model version 0.1\n",
      "✅ Best validation loss: 9.5809e+00 at 6 epoch\n",
      "\n",
      "✅ Top 5 Configurations:\n",
      "1. width=[8, 4, 1], grid=3, lamb=0.01| best_epoch=10 | loss=3.21696\n",
      "2. width=[8, 3, 1], grid=5, lamb=0.01| best_epoch=12 | loss=3.21744\n",
      "3. width=[8, 3, 1], grid=4, lamb=0.01| best_epoch=10 | loss=3.22009\n",
      "4. width=[8, 4, 1], grid=4, lamb=0.01| best_epoch=9 | loss=3.22056\n",
      "5. width=[8, 4, 1], grid=4, lamb=0.001| best_epoch=8 | loss=3.22094\n"
     ]
    },
    {
     "name": "stderr",
     "output_type": "stream",
     "text": [
      "\n"
     ]
    }
   ],
   "source": [
    "grid_search_kan_hybrid(dataset, Model3, max_steps=50)"
   ]
  },
  {
   "cell_type": "markdown",
   "id": "745cd737-0c92-4dcb-a0c0-dadef6665cbd",
   "metadata": {},
   "source": [
    "# ✅ Top 5 Configurations:\r\n",
    "1. width=[8, 4, 1], grid=4, lamb=0.01| best_epoch=8 | loss=3.21745\r\n",
    "2. width=[8, 4, 1], grid=3, lamb=0.01| best_epoch=11 | loss=3.21929\r\n",
    "3. width=[8, 1, 1], grid=5, lamb=0.01| best_epoch=9 | loss=3.22133\r\n",
    "4. width=[8, 4, 1], grid=3, lamb=1e-05| best_epoch=4 | loss=3.22212\r\n",
    "5. width=[8, 3, 1], grid=4, lamb=0.01| best_epoch=9 | loss=3.22233"
   ]
  },
  {
   "cell_type": "code",
   "execution_count": null,
   "id": "1fb22093-b4e2-4077-a394-bd3995d9b611",
   "metadata": {},
   "outputs": [],
   "source": [
    "model3 = try_create_model(Model3, attributes, imgs_shape, kan_neurons=7, kan_grid=4)  # Attempt to create Model3\n",
    "best_model_state, metrics3, best_epoch = fit_hybrid_dataloaders(model3, dataset, opt=\"LBFGS\", steps=10, lamb=1e-05)\n",
    "model3.load_state_dict(best_model_state)\n",
    "print(average_rmse(model3(dataset['test_input'], dataset['test_img']), dataset['test_label']))\n",
    "plt.plot(metrics3['train_loss'])\n",
    "plt.plot(metrics3['eval_loss'])\n",
    "plt.legend(['train', 'val'])\n",
    "plt.ylabel('RMSE')\n",
    "plt.xlabel('step')\n",
    "plt.yscale('log')"
   ]
  },
  {
   "cell_type": "code",
   "execution_count": null,
   "id": "947757b6-88b4-4fe1-b3f4-8c5e56e8a986",
   "metadata": {},
   "outputs": [],
   "source": [
    "model3.m_kan.plot()"
   ]
  },
  {
   "cell_type": "code",
   "execution_count": null,
   "id": "9f30eb7b-f234-4272-9640-e7ff207f6aa1",
   "metadata": {},
   "outputs": [],
   "source": [
    "plot_sorted_feature_importance(x_col, model3.m_kan.feature_score)"
   ]
  },
  {
   "cell_type": "code",
   "execution_count": null,
   "id": "0ae5eb10-27bf-49df-a1fe-efb31ad85ea1",
   "metadata": {},
   "outputs": [],
   "source": [
    "model3.final_kan.plot()"
   ]
  },
  {
   "cell_type": "code",
   "execution_count": null,
   "id": "4bf900f2-d732-49df-80e7-7fdd80304c19",
   "metadata": {},
   "outputs": [],
   "source": [
    "feature_score = model3.final_kan.feature_score"
   ]
  },
  {
   "cell_type": "code",
   "execution_count": null,
   "id": "48f4a527-a693-407e-bf0a-5e6ef1ed76d4",
   "metadata": {},
   "outputs": [],
   "source": [
    "plot_mkan_vs_cnn_relevance(feature_score, mkan_len=kan_neurons)"
   ]
  },
  {
   "cell_type": "code",
   "execution_count": 29,
   "id": "2b7dc18d-5bec-4fe8-9adc-152a4501f2db",
   "metadata": {},
   "outputs": [],
   "source": [
    "class Model4(nn.Module):\n",
    "    def __init__(self, attributes, imgs_shape, kan_neurons, kan_grid, device=device):\n",
    "        super(Model4, self).__init__()\n",
    "\n",
    "        self.cnn_branch = nn.Sequential(\n",
    "            nn.Conv2d(imgs_shape[0], 16, kernel_size=3, padding=2),     # out: 16 x 9 x 9\n",
    "            nn.BatchNorm2d(16),\n",
    "            nn.ReLU(),\n",
    "            nn.MaxPool2d(2),                                            # out: 16 x 4 x 4\n",
    "            \n",
    "            nn.Conv2d(16, 32, kernel_size=3, padding=2),                # out: 32 x 5 x 5\n",
    "            nn.LayerNorm([32, 6, 6]),\n",
    "            nn.Sigmoid(),\n",
    "            nn.Flatten()\n",
    "        ).to(device)\n",
    "\n",
    "        # Middle KAN layers\n",
    "        self.m_kan = KAN(\n",
    "            width=[attributes, kan_neurons],\n",
    "            grid=kan_grid,\n",
    "            k=3,\n",
    "            seed=SEED,\n",
    "            device=device\n",
    "        )\n",
    "        # Calculate the size of the flattened output\n",
    "        self.flat_size = self._get_flat_size(imgs_shape)\n",
    "        # Final MLP layers\n",
    "        self.final_kan = KAN(\n",
    "            width=[self.flat_size + kan_neurons, 1],\n",
    "            grid=kan_grid,\n",
    "            k=3,\n",
    "            device=device\n",
    "        )\n",
    "        \n",
    "        self.device = device\n",
    "\n",
    "    def _get_flat_size(self, imgs_shape):\n",
    "        # Forward pass with dummy input to calculate flat size\n",
    "        dummy_input = torch.zeros(4, *imgs_shape, device=device)\n",
    "        x = self.cnn_branch(dummy_input)\n",
    "        return x.size(1)\n",
    "\n",
    "    def get_concat_output(self, mlp_input, cnn_input):\n",
    "        # Ensure inputs are moved to the correct device\n",
    "        kan_input = mlp_input.to(self.device)\n",
    "        cnn_input = cnn_input.to(self.device)\n",
    "        \n",
    "        cnn_output = self.cnn_branch(cnn_input)  # Process image input\n",
    "        kan_output = self.m_kan(kan_input)  # Process numerical input\n",
    "        \n",
    "        return torch.cat((kan_output, cnn_output), dim=1)\n",
    "\n",
    "    \n",
    "    def forward(self, mlp_input, cnn_input):\n",
    "        concat_output = self.get_concat_output(mlp_input, cnn_input)\n",
    "        return self.final_kan(concat_output)"
   ]
  },
  {
   "cell_type": "code",
   "execution_count": 30,
   "id": "6797fb32-392a-4191-851d-501a47cc3498",
   "metadata": {
    "scrolled": true
   },
   "outputs": [
    {
     "name": "stdout",
     "output_type": "stream",
     "text": [
      "Testing 1 hidden neurons, lamb=1.0, grid=3\n",
      "checkpoint directory created: ./model\n",
      "saving model version 0.0\n",
      "checkpoint directory created: ./model\n",
      "saving model version 0.0\n",
      "Successfully created and tested Model4\n"
     ]
    },
    {
     "name": "stderr",
     "output_type": "stream",
     "text": [
      "| train_loss: 5.63e+00 | eval_loss: 5.77e+00 | reg: 2.72e-01 |: 100%|█| 50/50 [03:11<00:00,  3.83s/i\n"
     ]
    },
    {
     "name": "stdout",
     "output_type": "stream",
     "text": [
      "saving model version 0.1\n",
      "✅ Best validation loss: 3.3267e+01 at 11 epoch\n",
      "Testing 1 hidden neurons, lamb=0.1, grid=3\n",
      "checkpoint directory created: ./model\n",
      "saving model version 0.0\n",
      "checkpoint directory created: ./model\n",
      "saving model version 0.0\n",
      "Successfully created and tested Model4\n"
     ]
    },
    {
     "name": "stderr",
     "output_type": "stream",
     "text": [
      "| train_loss: 3.35e+00 | eval_loss: 3.13e+00 | reg: 2.02e+01 |: 100%|█| 50/50 [03:17<00:00,  3.95s/i\n"
     ]
    },
    {
     "name": "stdout",
     "output_type": "stream",
     "text": [
      "saving model version 0.1\n",
      "✅ Best validation loss: 9.7101e+00 at 8 epoch\n",
      "Testing 1 hidden neurons, lamb=0.01, grid=3\n",
      "checkpoint directory created: ./model\n",
      "saving model version 0.0\n",
      "checkpoint directory created: ./model\n",
      "saving model version 0.0\n",
      "Successfully created and tested Model4\n"
     ]
    },
    {
     "name": "stderr",
     "output_type": "stream",
     "text": [
      "| train_loss: 2.35e+00 | eval_loss: 3.85e+00 | reg: 6.75e+01 |: 100%|█| 50/50 [03:13<00:00,  3.87s/i\n"
     ]
    },
    {
     "name": "stdout",
     "output_type": "stream",
     "text": [
      "saving model version 0.1\n",
      "✅ Best validation loss: 9.5744e+00 at 5 epoch\n",
      "Testing 1 hidden neurons, lamb=0.001, grid=3\n",
      "checkpoint directory created: ./model\n",
      "saving model version 0.0\n",
      "checkpoint directory created: ./model\n",
      "saving model version 0.0\n",
      "Successfully created and tested Model4\n"
     ]
    },
    {
     "name": "stderr",
     "output_type": "stream",
     "text": [
      "| train_loss: 2.16e+00 | eval_loss: 4.10e+00 | reg: 3.96e+02 |: 100%|█| 50/50 [03:13<00:00,  3.88s/i\n"
     ]
    },
    {
     "name": "stdout",
     "output_type": "stream",
     "text": [
      "saving model version 0.1\n",
      "✅ Best validation loss: 9.6269e+00 at 4 epoch\n",
      "Testing 1 hidden neurons, lamb=0.0001, grid=3\n",
      "checkpoint directory created: ./model\n",
      "saving model version 0.0\n",
      "checkpoint directory created: ./model\n",
      "saving model version 0.0\n",
      "Successfully created and tested Model4\n"
     ]
    },
    {
     "name": "stderr",
     "output_type": "stream",
     "text": [
      "| train_loss: 2.09e+00 | eval_loss: 4.02e+00 | reg: 5.02e+02 |: 100%|█| 50/50 [03:16<00:00,  3.93s/i\n"
     ]
    },
    {
     "name": "stdout",
     "output_type": "stream",
     "text": [
      "saving model version 0.1\n",
      "✅ Best validation loss: 9.6780e+00 at 3 epoch\n",
      "Testing 1 hidden neurons, lamb=1e-05, grid=3\n",
      "checkpoint directory created: ./model\n",
      "saving model version 0.0\n",
      "checkpoint directory created: ./model\n",
      "saving model version 0.0\n",
      "Successfully created and tested Model4\n"
     ]
    },
    {
     "name": "stderr",
     "output_type": "stream",
     "text": [
      "| train_loss: 2.20e+00 | eval_loss: 3.92e+00 | reg: 5.81e+02 |: 100%|█| 50/50 [03:18<00:00,  3.97s/i\n"
     ]
    },
    {
     "name": "stdout",
     "output_type": "stream",
     "text": [
      "saving model version 0.1\n",
      "✅ Best validation loss: 9.6478e+00 at 5 epoch\n",
      "Testing 1 hidden neurons, lamb=1e-06, grid=3\n",
      "checkpoint directory created: ./model\n",
      "saving model version 0.0\n",
      "checkpoint directory created: ./model\n",
      "saving model version 0.0\n",
      "Successfully created and tested Model4\n"
     ]
    },
    {
     "name": "stderr",
     "output_type": "stream",
     "text": [
      "| train_loss: 2.07e+00 | eval_loss: 4.20e+00 | reg: 5.85e+02 |: 100%|█| 50/50 [03:18<00:00,  3.97s/i\n"
     ]
    },
    {
     "name": "stdout",
     "output_type": "stream",
     "text": [
      "saving model version 0.1\n",
      "✅ Best validation loss: 9.6681e+00 at 4 epoch\n",
      "Testing 1 hidden neurons, lamb=1.0, grid=4\n",
      "checkpoint directory created: ./model\n",
      "saving model version 0.0\n",
      "checkpoint directory created: ./model\n",
      "saving model version 0.0\n",
      "Successfully created and tested Model4\n"
     ]
    },
    {
     "name": "stderr",
     "output_type": "stream",
     "text": [
      "| train_loss: 5.63e+00 | eval_loss: 5.77e+00 | reg: 2.76e-01 |: 100%|█| 50/50 [03:27<00:00,  4.15s/i\n"
     ]
    },
    {
     "name": "stdout",
     "output_type": "stream",
     "text": [
      "saving model version 0.1\n",
      "✅ Best validation loss: 3.3278e+01 at 30 epoch\n",
      "Testing 1 hidden neurons, lamb=0.1, grid=4\n",
      "checkpoint directory created: ./model\n",
      "saving model version 0.0\n",
      "checkpoint directory created: ./model\n",
      "saving model version 0.0\n",
      "Successfully created and tested Model4\n"
     ]
    },
    {
     "name": "stderr",
     "output_type": "stream",
     "text": [
      "| train_loss: 3.35e+00 | eval_loss: 3.16e+00 | reg: 2.17e+01 |: 100%|█| 50/50 [03:13<00:00,  3.88s/i\n"
     ]
    },
    {
     "name": "stdout",
     "output_type": "stream",
     "text": [
      "saving model version 0.1\n",
      "✅ Best validation loss: 9.8340e+00 at 8 epoch\n",
      "Testing 1 hidden neurons, lamb=0.01, grid=4\n",
      "checkpoint directory created: ./model\n",
      "saving model version 0.0\n",
      "checkpoint directory created: ./model\n",
      "saving model version 0.0\n",
      "Successfully created and tested Model4\n"
     ]
    },
    {
     "name": "stderr",
     "output_type": "stream",
     "text": [
      "| train_loss: 2.25e+00 | eval_loss: 3.84e+00 | reg: 9.14e+01 |: 100%|█| 50/50 [03:31<00:00,  4.23s/i\n"
     ]
    },
    {
     "name": "stdout",
     "output_type": "stream",
     "text": [
      "saving model version 0.1\n",
      "✅ Best validation loss: 9.6101e+00 at 7 epoch\n",
      "Testing 1 hidden neurons, lamb=0.001, grid=4\n",
      "checkpoint directory created: ./model\n",
      "saving model version 0.0\n",
      "checkpoint directory created: ./model\n",
      "saving model version 0.0\n",
      "Successfully created and tested Model4\n"
     ]
    },
    {
     "name": "stderr",
     "output_type": "stream",
     "text": [
      "| train_loss: 1.83e+00 | eval_loss: 4.35e+00 | reg: 4.32e+02 |: 100%|█| 50/50 [03:33<00:00,  4.28s/i\n"
     ]
    },
    {
     "name": "stdout",
     "output_type": "stream",
     "text": [
      "saving model version 0.1\n",
      "✅ Best validation loss: 9.7355e+00 at 5 epoch\n",
      "Testing 1 hidden neurons, lamb=0.0001, grid=4\n",
      "checkpoint directory created: ./model\n",
      "saving model version 0.0\n",
      "checkpoint directory created: ./model\n",
      "saving model version 0.0\n",
      "Successfully created and tested Model4\n"
     ]
    },
    {
     "name": "stderr",
     "output_type": "stream",
     "text": [
      "| train_loss: 2.07e+00 | eval_loss: 4.11e+00 | reg: 6.48e+02 |: 100%|█| 50/50 [03:33<00:00,  4.26s/i\n"
     ]
    },
    {
     "name": "stdout",
     "output_type": "stream",
     "text": [
      "saving model version 0.1\n",
      "✅ Best validation loss: 9.6866e+00 at 4 epoch\n",
      "Testing 1 hidden neurons, lamb=1e-05, grid=4\n",
      "checkpoint directory created: ./model\n",
      "saving model version 0.0\n",
      "checkpoint directory created: ./model\n",
      "saving model version 0.0\n",
      "Successfully created and tested Model4\n"
     ]
    },
    {
     "name": "stderr",
     "output_type": "stream",
     "text": [
      "| train_loss: 1.95e+00 | eval_loss: 4.18e+00 | reg: 7.97e+02 |: 100%|█| 50/50 [03:33<00:00,  4.26s/i\n"
     ]
    },
    {
     "name": "stdout",
     "output_type": "stream",
     "text": [
      "saving model version 0.1\n",
      "✅ Best validation loss: 9.6459e+00 at 4 epoch\n",
      "Testing 1 hidden neurons, lamb=1e-06, grid=4\n",
      "checkpoint directory created: ./model\n",
      "saving model version 0.0\n",
      "checkpoint directory created: ./model\n",
      "saving model version 0.0\n",
      "Successfully created and tested Model4\n"
     ]
    },
    {
     "name": "stderr",
     "output_type": "stream",
     "text": [
      "| train_loss: 2.03e+00 | eval_loss: 4.05e+00 | reg: 7.29e+02 |: 100%|█| 50/50 [03:32<00:00,  4.26s/i\n"
     ]
    },
    {
     "name": "stdout",
     "output_type": "stream",
     "text": [
      "saving model version 0.1\n",
      "✅ Best validation loss: 9.7485e+00 at 4 epoch\n",
      "Testing 1 hidden neurons, lamb=1.0, grid=5\n",
      "checkpoint directory created: ./model\n",
      "saving model version 0.0\n",
      "checkpoint directory created: ./model\n",
      "saving model version 0.0\n",
      "Successfully created and tested Model4\n"
     ]
    },
    {
     "name": "stderr",
     "output_type": "stream",
     "text": [
      "| train_loss: 5.63e+00 | eval_loss: 5.77e+00 | reg: 2.66e-01 |: 100%|█| 50/50 [03:59<00:00,  4.78s/i\n"
     ]
    },
    {
     "name": "stdout",
     "output_type": "stream",
     "text": [
      "saving model version 0.1\n",
      "✅ Best validation loss: 3.3281e+01 at 39 epoch\n",
      "Testing 1 hidden neurons, lamb=0.1, grid=5\n",
      "checkpoint directory created: ./model\n",
      "saving model version 0.0\n",
      "checkpoint directory created: ./model\n",
      "saving model version 0.0\n",
      "Successfully created and tested Model4\n"
     ]
    },
    {
     "name": "stderr",
     "output_type": "stream",
     "text": [
      "| train_loss: 3.29e+00 | eval_loss: 3.21e+00 | reg: 2.17e+01 |: 100%|█| 50/50 [04:05<00:00,  4.91s/i\n"
     ]
    },
    {
     "name": "stdout",
     "output_type": "stream",
     "text": [
      "saving model version 0.1\n",
      "✅ Best validation loss: 9.7336e+00 at 11 epoch\n",
      "Testing 1 hidden neurons, lamb=0.01, grid=5\n",
      "checkpoint directory created: ./model\n",
      "saving model version 0.0\n",
      "checkpoint directory created: ./model\n",
      "saving model version 0.0\n",
      "Successfully created and tested Model4\n"
     ]
    },
    {
     "name": "stderr",
     "output_type": "stream",
     "text": [
      "| train_loss: 1.89e+00 | eval_loss: 4.13e+00 | reg: 1.44e+02 |: 100%|█| 50/50 [03:59<00:00,  4.78s/i\n"
     ]
    },
    {
     "name": "stdout",
     "output_type": "stream",
     "text": [
      "saving model version 0.1\n",
      "✅ Best validation loss: 9.6467e+00 at 6 epoch\n",
      "Testing 1 hidden neurons, lamb=0.001, grid=5\n",
      "checkpoint directory created: ./model\n",
      "saving model version 0.0\n",
      "checkpoint directory created: ./model\n",
      "saving model version 0.0\n",
      "Successfully created and tested Model4\n"
     ]
    },
    {
     "name": "stderr",
     "output_type": "stream",
     "text": [
      "| train_loss: 1.46e+00 | eval_loss: 4.68e+00 | reg: 5.86e+02 |: 100%|█| 50/50 [05:41<00:00,  6.83s/i\n"
     ]
    },
    {
     "name": "stdout",
     "output_type": "stream",
     "text": [
      "saving model version 0.1\n",
      "✅ Best validation loss: 9.6743e+00 at 4 epoch\n",
      "Testing 1 hidden neurons, lamb=0.0001, grid=5\n",
      "checkpoint directory created: ./model\n",
      "saving model version 0.0\n",
      "checkpoint directory created: ./model\n",
      "saving model version 0.0\n",
      "Successfully created and tested Model4\n"
     ]
    },
    {
     "name": "stderr",
     "output_type": "stream",
     "text": [
      "| train_loss: 1.34e+00 | eval_loss: 4.76e+00 | reg: 6.36e+02 |: 100%|█| 50/50 [04:03<00:00,  4.86s/i\n"
     ]
    },
    {
     "name": "stdout",
     "output_type": "stream",
     "text": [
      "saving model version 0.1\n",
      "✅ Best validation loss: 9.6665e+00 at 6 epoch\n",
      "Testing 1 hidden neurons, lamb=1e-05, grid=5\n",
      "checkpoint directory created: ./model\n",
      "saving model version 0.0\n",
      "checkpoint directory created: ./model\n",
      "saving model version 0.0\n",
      "Successfully created and tested Model4\n"
     ]
    },
    {
     "name": "stderr",
     "output_type": "stream",
     "text": [
      "| train_loss: 1.25e+00 | eval_loss: 4.70e+00 | reg: 6.57e+02 |: 100%|█| 50/50 [04:27<00:00,  5.35s/i\n"
     ]
    },
    {
     "name": "stdout",
     "output_type": "stream",
     "text": [
      "saving model version 0.1\n",
      "✅ Best validation loss: 9.6843e+00 at 5 epoch\n",
      "Testing 1 hidden neurons, lamb=1e-06, grid=5\n",
      "checkpoint directory created: ./model\n",
      "saving model version 0.0\n",
      "checkpoint directory created: ./model\n",
      "saving model version 0.0\n",
      "Successfully created and tested Model4\n"
     ]
    },
    {
     "name": "stderr",
     "output_type": "stream",
     "text": [
      "| train_loss: 1.49e+00 | eval_loss: 4.59e+00 | reg: 6.08e+02 |: 100%|█| 50/50 [03:59<00:00,  4.78s/i\n"
     ]
    },
    {
     "name": "stdout",
     "output_type": "stream",
     "text": [
      "saving model version 0.1\n",
      "✅ Best validation loss: 9.6463e+00 at 4 epoch\n",
      "Testing 1 hidden neurons, lamb=1.0, grid=6\n",
      "checkpoint directory created: ./model\n",
      "saving model version 0.0\n",
      "checkpoint directory created: ./model\n",
      "saving model version 0.0\n",
      "Successfully created and tested Model4\n"
     ]
    },
    {
     "name": "stderr",
     "output_type": "stream",
     "text": [
      "| train_loss: 5.62e+00 | eval_loss: 5.77e+00 | reg: 2.45e-01 |: 100%|█| 50/50 [04:21<00:00,  5.23s/i\n"
     ]
    },
    {
     "name": "stdout",
     "output_type": "stream",
     "text": [
      "saving model version 0.1\n",
      "✅ Best validation loss: 3.3276e+01 at 21 epoch\n",
      "Testing 1 hidden neurons, lamb=0.1, grid=6\n",
      "checkpoint directory created: ./model\n",
      "saving model version 0.0\n",
      "checkpoint directory created: ./model\n",
      "saving model version 0.0\n",
      "Successfully created and tested Model4\n"
     ]
    },
    {
     "name": "stderr",
     "output_type": "stream",
     "text": [
      "| train_loss: 3.36e+00 | eval_loss: 3.17e+00 | reg: 2.28e+01 |: 100%|█| 50/50 [04:28<00:00,  5.38s/i\n"
     ]
    },
    {
     "name": "stdout",
     "output_type": "stream",
     "text": [
      "saving model version 0.1\n",
      "✅ Best validation loss: 9.7770e+00 at 6 epoch\n",
      "Testing 1 hidden neurons, lamb=0.01, grid=6\n",
      "checkpoint directory created: ./model\n",
      "saving model version 0.0\n",
      "checkpoint directory created: ./model\n",
      "saving model version 0.0\n",
      "Successfully created and tested Model4\n"
     ]
    },
    {
     "name": "stderr",
     "output_type": "stream",
     "text": [
      "| train_loss: 2.19e+00 | eval_loss: 3.86e+00 | reg: 1.42e+02 |: 100%|█| 50/50 [05:10<00:00,  6.21s/i\n"
     ]
    },
    {
     "name": "stdout",
     "output_type": "stream",
     "text": [
      "saving model version 0.1\n",
      "✅ Best validation loss: 9.6416e+00 at 5 epoch\n",
      "Testing 1 hidden neurons, lamb=0.001, grid=6\n",
      "checkpoint directory created: ./model\n",
      "saving model version 0.0\n",
      "checkpoint directory created: ./model\n",
      "saving model version 0.0\n",
      "Successfully created and tested Model4\n"
     ]
    },
    {
     "name": "stderr",
     "output_type": "stream",
     "text": [
      "| train_loss: 1.72e+00 | eval_loss: 4.31e+00 | reg: 6.17e+02 |: 100%|█| 50/50 [04:22<00:00,  5.24s/i\n"
     ]
    },
    {
     "name": "stdout",
     "output_type": "stream",
     "text": [
      "saving model version 0.1\n",
      "✅ Best validation loss: 9.6683e+00 at 5 epoch\n",
      "Testing 1 hidden neurons, lamb=0.0001, grid=6\n",
      "checkpoint directory created: ./model\n",
      "saving model version 0.0\n",
      "checkpoint directory created: ./model\n",
      "saving model version 0.0\n",
      "Successfully created and tested Model4\n"
     ]
    },
    {
     "name": "stderr",
     "output_type": "stream",
     "text": [
      "| train_loss: 1.70e+00 | eval_loss: 4.40e+00 | reg: 7.84e+02 |: 100%|█| 50/50 [04:23<00:00,  5.28s/i\n"
     ]
    },
    {
     "name": "stdout",
     "output_type": "stream",
     "text": [
      "saving model version 0.1\n",
      "✅ Best validation loss: 9.6369e+00 at 5 epoch\n",
      "Testing 1 hidden neurons, lamb=1e-05, grid=6\n",
      "checkpoint directory created: ./model\n",
      "saving model version 0.0\n",
      "checkpoint directory created: ./model\n",
      "saving model version 0.0\n",
      "Successfully created and tested Model4\n"
     ]
    },
    {
     "name": "stderr",
     "output_type": "stream",
     "text": [
      "| train_loss: 1.57e+00 | eval_loss: 4.37e+00 | reg: 8.56e+02 |: 100%|█| 50/50 [04:21<00:00,  5.22s/i\n"
     ]
    },
    {
     "name": "stdout",
     "output_type": "stream",
     "text": [
      "saving model version 0.1\n",
      "✅ Best validation loss: 9.6301e+00 at 6 epoch\n",
      "Testing 1 hidden neurons, lamb=1e-06, grid=6\n",
      "checkpoint directory created: ./model\n",
      "saving model version 0.0\n",
      "checkpoint directory created: ./model\n",
      "saving model version 0.0\n",
      "Successfully created and tested Model4\n"
     ]
    },
    {
     "name": "stderr",
     "output_type": "stream",
     "text": [
      "| train_loss: 1.64e+00 | eval_loss: 4.55e+00 | reg: 9.18e+02 |: 100%|█| 50/50 [04:20<00:00,  5.21s/i\n"
     ]
    },
    {
     "name": "stdout",
     "output_type": "stream",
     "text": [
      "saving model version 0.1\n",
      "✅ Best validation loss: 9.6231e+00 at 3 epoch\n",
      "Testing 2 hidden neurons, lamb=1.0, grid=3\n",
      "checkpoint directory created: ./model\n",
      "saving model version 0.0\n",
      "checkpoint directory created: ./model\n",
      "saving model version 0.0\n",
      "Successfully created and tested Model4\n"
     ]
    },
    {
     "name": "stderr",
     "output_type": "stream",
     "text": [
      "| train_loss: 5.63e+00 | eval_loss: 5.77e+00 | reg: 3.03e-01 |: 100%|█| 50/50 [03:10<00:00,  3.80s/i\n"
     ]
    },
    {
     "name": "stdout",
     "output_type": "stream",
     "text": [
      "saving model version 0.1\n",
      "✅ Best validation loss: 3.3267e+01 at 19 epoch\n",
      "Testing 2 hidden neurons, lamb=0.1, grid=3\n",
      "checkpoint directory created: ./model\n",
      "saving model version 0.0\n",
      "checkpoint directory created: ./model\n",
      "saving model version 0.0\n",
      "Successfully created and tested Model4\n"
     ]
    },
    {
     "name": "stderr",
     "output_type": "stream",
     "text": [
      "| train_loss: 3.26e+00 | eval_loss: 3.21e+00 | reg: 1.97e+01 |: 100%|█| 50/50 [03:10<00:00,  3.82s/i\n"
     ]
    },
    {
     "name": "stdout",
     "output_type": "stream",
     "text": [
      "saving model version 0.1\n",
      "✅ Best validation loss: 9.7890e+00 at 10 epoch\n",
      "Testing 2 hidden neurons, lamb=0.01, grid=3\n",
      "checkpoint directory created: ./model\n",
      "saving model version 0.0\n",
      "checkpoint directory created: ./model\n",
      "saving model version 0.0\n",
      "Successfully created and tested Model4\n"
     ]
    },
    {
     "name": "stderr",
     "output_type": "stream",
     "text": [
      "| train_loss: 2.47e+00 | eval_loss: 3.65e+00 | reg: 8.05e+01 |: 100%|█| 50/50 [03:11<00:00,  3.83s/i\n"
     ]
    },
    {
     "name": "stdout",
     "output_type": "stream",
     "text": [
      "saving model version 0.1\n",
      "✅ Best validation loss: 9.7830e+00 at 6 epoch\n",
      "Testing 2 hidden neurons, lamb=0.001, grid=3\n",
      "checkpoint directory created: ./model\n",
      "saving model version 0.0\n",
      "checkpoint directory created: ./model\n",
      "saving model version 0.0\n",
      "Successfully created and tested Model4\n"
     ]
    },
    {
     "name": "stderr",
     "output_type": "stream",
     "text": [
      "| train_loss: 1.84e+00 | eval_loss: 4.36e+00 | reg: 3.34e+02 |: 100%|█| 50/50 [03:18<00:00,  3.98s/i\n"
     ]
    },
    {
     "name": "stdout",
     "output_type": "stream",
     "text": [
      "saving model version 0.1\n",
      "✅ Best validation loss: 9.6146e+00 at 7 epoch\n",
      "Testing 2 hidden neurons, lamb=0.0001, grid=3\n",
      "checkpoint directory created: ./model\n",
      "saving model version 0.0\n",
      "checkpoint directory created: ./model\n",
      "saving model version 0.0\n",
      "Successfully created and tested Model4\n"
     ]
    },
    {
     "name": "stderr",
     "output_type": "stream",
     "text": [
      "| train_loss: 2.04e+00 | eval_loss: 4.10e+00 | reg: 5.84e+02 |: 100%|█| 50/50 [03:17<00:00,  3.94s/i\n"
     ]
    },
    {
     "name": "stdout",
     "output_type": "stream",
     "text": [
      "saving model version 0.1\n",
      "✅ Best validation loss: 9.7621e+00 at 5 epoch\n",
      "Testing 2 hidden neurons, lamb=1e-05, grid=3\n",
      "checkpoint directory created: ./model\n",
      "saving model version 0.0\n",
      "checkpoint directory created: ./model\n",
      "saving model version 0.0\n",
      "Successfully created and tested Model4\n"
     ]
    },
    {
     "name": "stderr",
     "output_type": "stream",
     "text": [
      "| train_loss: 2.37e+00 | eval_loss: 3.74e+00 | reg: 6.86e+02 |: 100%|█| 50/50 [03:21<00:00,  4.04s/i\n"
     ]
    },
    {
     "name": "stdout",
     "output_type": "stream",
     "text": [
      "saving model version 0.1\n",
      "✅ Best validation loss: 9.8639e+00 at 5 epoch\n",
      "Testing 2 hidden neurons, lamb=1e-06, grid=3\n",
      "checkpoint directory created: ./model\n",
      "saving model version 0.0\n",
      "checkpoint directory created: ./model\n",
      "saving model version 0.0\n",
      "Successfully created and tested Model4\n"
     ]
    },
    {
     "name": "stderr",
     "output_type": "stream",
     "text": [
      "| train_loss: 2.09e+00 | eval_loss: 4.09e+00 | reg: 7.01e+02 |: 100%|█| 50/50 [03:21<00:00,  4.02s/i\n"
     ]
    },
    {
     "name": "stdout",
     "output_type": "stream",
     "text": [
      "saving model version 0.1\n",
      "✅ Best validation loss: 9.7536e+00 at 5 epoch\n",
      "Testing 2 hidden neurons, lamb=1.0, grid=4\n",
      "checkpoint directory created: ./model\n",
      "saving model version 0.0\n",
      "checkpoint directory created: ./model\n",
      "saving model version 0.0\n",
      "Successfully created and tested Model4\n"
     ]
    },
    {
     "name": "stderr",
     "output_type": "stream",
     "text": [
      "| train_loss: 5.63e+00 | eval_loss: 5.77e+00 | reg: 3.38e-01 |: 100%|█| 50/50 [03:26<00:00,  4.13s/i\n"
     ]
    },
    {
     "name": "stdout",
     "output_type": "stream",
     "text": [
      "saving model version 0.1\n",
      "✅ Best validation loss: 3.3273e+01 at 17 epoch\n",
      "Testing 2 hidden neurons, lamb=0.1, grid=4\n",
      "checkpoint directory created: ./model\n",
      "saving model version 0.0\n",
      "checkpoint directory created: ./model\n",
      "saving model version 0.0\n",
      "Successfully created and tested Model4\n"
     ]
    },
    {
     "name": "stderr",
     "output_type": "stream",
     "text": [
      "| train_loss: 3.23e+00 | eval_loss: 3.24e+00 | reg: 2.22e+01 |: 100%|█| 50/50 [03:25<00:00,  4.12s/i\n"
     ]
    },
    {
     "name": "stdout",
     "output_type": "stream",
     "text": [
      "saving model version 0.1\n",
      "✅ Best validation loss: 9.7482e+00 at 7 epoch\n",
      "Testing 2 hidden neurons, lamb=0.01, grid=4\n",
      "checkpoint directory created: ./model\n",
      "saving model version 0.0\n",
      "checkpoint directory created: ./model\n",
      "saving model version 0.0\n",
      "Successfully created and tested Model4\n"
     ]
    },
    {
     "name": "stderr",
     "output_type": "stream",
     "text": [
      "| train_loss: 1.91e+00 | eval_loss: 4.16e+00 | reg: 8.81e+01 |: 100%|█| 50/50 [03:29<00:00,  4.19s/i\n"
     ]
    },
    {
     "name": "stdout",
     "output_type": "stream",
     "text": [
      "saving model version 0.1\n",
      "✅ Best validation loss: 9.6164e+00 at 4 epoch\n",
      "Testing 2 hidden neurons, lamb=0.001, grid=4\n",
      "checkpoint directory created: ./model\n",
      "saving model version 0.0\n",
      "checkpoint directory created: ./model\n",
      "saving model version 0.0\n",
      "Successfully created and tested Model4\n"
     ]
    },
    {
     "name": "stderr",
     "output_type": "stream",
     "text": [
      "| train_loss: 1.54e+00 | eval_loss: 4.43e+00 | reg: 3.26e+02 |: 100%|█| 50/50 [03:33<00:00,  4.26s/i\n"
     ]
    },
    {
     "name": "stdout",
     "output_type": "stream",
     "text": [
      "saving model version 0.1\n",
      "✅ Best validation loss: 9.7544e+00 at 5 epoch\n",
      "Testing 2 hidden neurons, lamb=0.0001, grid=4\n",
      "checkpoint directory created: ./model\n",
      "saving model version 0.0\n",
      "checkpoint directory created: ./model\n",
      "saving model version 0.0\n",
      "Successfully created and tested Model4\n"
     ]
    },
    {
     "name": "stderr",
     "output_type": "stream",
     "text": [
      "| train_loss: 1.68e+00 | eval_loss: 4.39e+00 | reg: 5.17e+02 |: 100%|█| 50/50 [03:35<00:00,  4.31s/i\n"
     ]
    },
    {
     "name": "stdout",
     "output_type": "stream",
     "text": [
      "saving model version 0.1\n",
      "✅ Best validation loss: 9.7339e+00 at 4 epoch\n",
      "Testing 2 hidden neurons, lamb=1e-05, grid=4\n",
      "checkpoint directory created: ./model\n",
      "saving model version 0.0\n",
      "checkpoint directory created: ./model\n",
      "saving model version 0.0\n",
      "Successfully created and tested Model4\n"
     ]
    },
    {
     "name": "stderr",
     "output_type": "stream",
     "text": [
      "| train_loss: 1.66e+00 | eval_loss: 4.38e+00 | reg: 6.35e+02 |: 100%|█| 50/50 [03:39<00:00,  4.38s/i\n"
     ]
    },
    {
     "name": "stdout",
     "output_type": "stream",
     "text": [
      "saving model version 0.1\n",
      "✅ Best validation loss: 9.6964e+00 at 4 epoch\n",
      "Testing 2 hidden neurons, lamb=1e-06, grid=4\n",
      "checkpoint directory created: ./model\n",
      "saving model version 0.0\n",
      "checkpoint directory created: ./model\n",
      "saving model version 0.0\n",
      "Successfully created and tested Model4\n"
     ]
    },
    {
     "name": "stderr",
     "output_type": "stream",
     "text": [
      "| train_loss: 1.89e+00 | eval_loss: 4.09e+00 | reg: 6.98e+02 |: 100%|█| 50/50 [03:36<00:00,  4.33s/i\n"
     ]
    },
    {
     "name": "stdout",
     "output_type": "stream",
     "text": [
      "saving model version 0.1\n",
      "✅ Best validation loss: 9.7595e+00 at 6 epoch\n",
      "Testing 2 hidden neurons, lamb=1.0, grid=5\n",
      "checkpoint directory created: ./model\n",
      "saving model version 0.0\n",
      "checkpoint directory created: ./model\n",
      "saving model version 0.0\n",
      "Successfully created and tested Model4\n"
     ]
    },
    {
     "name": "stderr",
     "output_type": "stream",
     "text": [
      "| train_loss: 5.63e+00 | eval_loss: 5.77e+00 | reg: 2.85e-01 |: 100%|█| 50/50 [03:58<00:00,  4.78s/i\n"
     ]
    },
    {
     "name": "stdout",
     "output_type": "stream",
     "text": [
      "saving model version 0.1\n",
      "✅ Best validation loss: 3.3270e+01 at 12 epoch\n",
      "Testing 2 hidden neurons, lamb=0.1, grid=5\n",
      "checkpoint directory created: ./model\n",
      "saving model version 0.0\n",
      "checkpoint directory created: ./model\n",
      "saving model version 0.0\n",
      "Successfully created and tested Model4\n"
     ]
    },
    {
     "name": "stderr",
     "output_type": "stream",
     "text": [
      "| train_loss: 3.23e+00 | eval_loss: 3.24e+00 | reg: 2.13e+01 |: 100%|█| 50/50 [04:02<00:00,  4.85s/i\n"
     ]
    },
    {
     "name": "stdout",
     "output_type": "stream",
     "text": [
      "saving model version 0.1\n",
      "✅ Best validation loss: 9.8342e+00 at 21 epoch\n",
      "Testing 2 hidden neurons, lamb=0.01, grid=5\n",
      "checkpoint directory created: ./model\n",
      "saving model version 0.0\n",
      "checkpoint directory created: ./model\n",
      "saving model version 0.0\n",
      "Successfully created and tested Model4\n"
     ]
    },
    {
     "name": "stderr",
     "output_type": "stream",
     "text": [
      "| train_loss: 2.06e+00 | eval_loss: 3.98e+00 | reg: 1.30e+02 |: 100%|█| 50/50 [03:58<00:00,  4.76s/i\n"
     ]
    },
    {
     "name": "stdout",
     "output_type": "stream",
     "text": [
      "saving model version 0.1\n",
      "✅ Best validation loss: 9.6504e+00 at 5 epoch\n",
      "Testing 2 hidden neurons, lamb=0.001, grid=5\n",
      "checkpoint directory created: ./model\n",
      "saving model version 0.0\n",
      "checkpoint directory created: ./model\n",
      "saving model version 0.0\n",
      "Successfully created and tested Model4\n"
     ]
    },
    {
     "name": "stderr",
     "output_type": "stream",
     "text": [
      "| train_loss: 1.66e+00 | eval_loss: 4.36e+00 | reg: 4.49e+02 |: 100%|█| 50/50 [04:02<00:00,  4.84s/i\n"
     ]
    },
    {
     "name": "stdout",
     "output_type": "stream",
     "text": [
      "saving model version 0.1\n",
      "✅ Best validation loss: 9.6208e+00 at 7 epoch\n",
      "Testing 2 hidden neurons, lamb=0.0001, grid=5\n",
      "checkpoint directory created: ./model\n",
      "saving model version 0.0\n",
      "checkpoint directory created: ./model\n",
      "saving model version 0.0\n",
      "Successfully created and tested Model4\n"
     ]
    },
    {
     "name": "stderr",
     "output_type": "stream",
     "text": [
      "| train_loss: 1.49e+00 | eval_loss: 4.50e+00 | reg: 6.33e+02 |: 100%|█| 50/50 [04:02<00:00,  4.86s/i\n"
     ]
    },
    {
     "name": "stdout",
     "output_type": "stream",
     "text": [
      "saving model version 0.1\n",
      "✅ Best validation loss: 9.7010e+00 at 5 epoch\n",
      "Testing 2 hidden neurons, lamb=1e-05, grid=5\n",
      "checkpoint directory created: ./model\n",
      "saving model version 0.0\n",
      "checkpoint directory created: ./model\n",
      "saving model version 0.0\n",
      "Successfully created and tested Model4\n"
     ]
    },
    {
     "name": "stderr",
     "output_type": "stream",
     "text": [
      "| train_loss: 1.67e+00 | eval_loss: 4.42e+00 | reg: 6.44e+02 |: 100%|█| 50/50 [04:03<00:00,  4.88s/i\n"
     ]
    },
    {
     "name": "stdout",
     "output_type": "stream",
     "text": [
      "saving model version 0.1\n",
      "✅ Best validation loss: 9.7098e+00 at 3 epoch\n",
      "Testing 2 hidden neurons, lamb=1e-06, grid=5\n",
      "checkpoint directory created: ./model\n",
      "saving model version 0.0\n",
      "checkpoint directory created: ./model\n",
      "saving model version 0.0\n",
      "Successfully created and tested Model4\n"
     ]
    },
    {
     "name": "stderr",
     "output_type": "stream",
     "text": [
      "| train_loss: 1.75e+00 | eval_loss: 4.37e+00 | reg: 6.57e+02 |: 100%|█| 50/50 [04:03<00:00,  4.87s/i\n"
     ]
    },
    {
     "name": "stdout",
     "output_type": "stream",
     "text": [
      "saving model version 0.1\n",
      "✅ Best validation loss: 9.6796e+00 at 3 epoch\n",
      "Testing 2 hidden neurons, lamb=1.0, grid=6\n",
      "checkpoint directory created: ./model\n",
      "saving model version 0.0\n",
      "checkpoint directory created: ./model\n",
      "saving model version 0.0\n",
      "Successfully created and tested Model4\n"
     ]
    },
    {
     "name": "stderr",
     "output_type": "stream",
     "text": [
      "| train_loss: 5.62e+00 | eval_loss: 5.77e+00 | reg: 2.34e-01 |: 100%|█| 50/50 [04:21<00:00,  5.23s/i\n"
     ]
    },
    {
     "name": "stdout",
     "output_type": "stream",
     "text": [
      "saving model version 0.1\n",
      "✅ Best validation loss: 3.3271e+01 at 17 epoch\n",
      "Testing 2 hidden neurons, lamb=0.1, grid=6\n",
      "checkpoint directory created: ./model\n",
      "saving model version 0.0\n",
      "checkpoint directory created: ./model\n",
      "saving model version 0.0\n",
      "Successfully created and tested Model4\n"
     ]
    },
    {
     "name": "stderr",
     "output_type": "stream",
     "text": [
      "| train_loss: 3.16e+00 | eval_loss: 3.35e+00 | reg: 2.41e+01 |: 100%|█| 50/50 [04:21<00:00,  5.23s/i\n"
     ]
    },
    {
     "name": "stdout",
     "output_type": "stream",
     "text": [
      "saving model version 0.1\n",
      "✅ Best validation loss: 9.8385e+00 at 12 epoch\n",
      "Testing 2 hidden neurons, lamb=0.01, grid=6\n",
      "checkpoint directory created: ./model\n",
      "saving model version 0.0\n",
      "checkpoint directory created: ./model\n",
      "saving model version 0.0\n",
      "Successfully created and tested Model4\n"
     ]
    },
    {
     "name": "stderr",
     "output_type": "stream",
     "text": [
      "| train_loss: 1.99e+00 | eval_loss: 4.03e+00 | reg: 1.34e+02 |: 100%|█| 50/50 [04:25<00:00,  5.31s/i\n"
     ]
    },
    {
     "name": "stdout",
     "output_type": "stream",
     "text": [
      "saving model version 0.1\n",
      "✅ Best validation loss: 9.5532e+00 at 7 epoch\n",
      "Testing 2 hidden neurons, lamb=0.001, grid=6\n",
      "checkpoint directory created: ./model\n",
      "saving model version 0.0\n",
      "checkpoint directory created: ./model\n",
      "saving model version 0.0\n",
      "Successfully created and tested Model4\n"
     ]
    },
    {
     "name": "stderr",
     "output_type": "stream",
     "text": [
      "| train_loss: 1.52e+00 | eval_loss: 4.50e+00 | reg: 4.78e+02 |: 100%|█| 50/50 [04:23<00:00,  5.26s/i\n"
     ]
    },
    {
     "name": "stdout",
     "output_type": "stream",
     "text": [
      "saving model version 0.1\n",
      "✅ Best validation loss: 9.6893e+00 at 4 epoch\n",
      "Testing 2 hidden neurons, lamb=0.0001, grid=6\n",
      "checkpoint directory created: ./model\n",
      "saving model version 0.0\n",
      "checkpoint directory created: ./model\n",
      "saving model version 0.0\n",
      "Successfully created and tested Model4\n"
     ]
    },
    {
     "name": "stderr",
     "output_type": "stream",
     "text": [
      "| train_loss: 1.29e+00 | eval_loss: 4.70e+00 | reg: 6.75e+02 |: 100%|█| 50/50 [04:24<00:00,  5.30s/i\n"
     ]
    },
    {
     "name": "stdout",
     "output_type": "stream",
     "text": [
      "saving model version 0.1\n",
      "✅ Best validation loss: 9.7583e+00 at 2 epoch\n",
      "Testing 2 hidden neurons, lamb=1e-05, grid=6\n",
      "checkpoint directory created: ./model\n",
      "saving model version 0.0\n",
      "checkpoint directory created: ./model\n",
      "saving model version 0.0\n",
      "Successfully created and tested Model4\n"
     ]
    },
    {
     "name": "stderr",
     "output_type": "stream",
     "text": [
      "| train_loss: 1.32e+00 | eval_loss: 4.57e+00 | reg: 7.16e+02 |: 100%|█| 50/50 [04:21<00:00,  5.23s/i\n"
     ]
    },
    {
     "name": "stdout",
     "output_type": "stream",
     "text": [
      "saving model version 0.1\n",
      "✅ Best validation loss: 9.6716e+00 at 3 epoch\n",
      "Testing 2 hidden neurons, lamb=1e-06, grid=6\n",
      "checkpoint directory created: ./model\n",
      "saving model version 0.0\n",
      "checkpoint directory created: ./model\n",
      "saving model version 0.0\n",
      "Successfully created and tested Model4\n"
     ]
    },
    {
     "name": "stderr",
     "output_type": "stream",
     "text": [
      "| train_loss: 1.22e+00 | eval_loss: 4.74e+00 | reg: 6.99e+02 |: 100%|█| 50/50 [04:27<00:00,  5.34s/i\n"
     ]
    },
    {
     "name": "stdout",
     "output_type": "stream",
     "text": [
      "saving model version 0.1\n",
      "✅ Best validation loss: 9.7069e+00 at 4 epoch\n",
      "Testing 3 hidden neurons, lamb=1.0, grid=3\n",
      "checkpoint directory created: ./model\n",
      "saving model version 0.0\n",
      "checkpoint directory created: ./model\n",
      "saving model version 0.0\n",
      "Successfully created and tested Model4\n"
     ]
    },
    {
     "name": "stderr",
     "output_type": "stream",
     "text": [
      "| train_loss: 5.65e+00 | eval_loss: 5.77e+00 | reg: 5.32e-01 |: 100%|█| 50/50 [03:10<00:00,  3.82s/i\n"
     ]
    },
    {
     "name": "stdout",
     "output_type": "stream",
     "text": [
      "saving model version 0.1\n",
      "✅ Best validation loss: 3.3266e+01 at 25 epoch\n",
      "Testing 3 hidden neurons, lamb=0.1, grid=3\n",
      "checkpoint directory created: ./model\n",
      "saving model version 0.0\n",
      "checkpoint directory created: ./model\n",
      "saving model version 0.0\n",
      "Successfully created and tested Model4\n"
     ]
    },
    {
     "name": "stderr",
     "output_type": "stream",
     "text": [
      "| train_loss: 3.28e+00 | eval_loss: 3.15e+00 | reg: 2.04e+01 |: 100%|█| 50/50 [03:09<00:00,  3.78s/i\n"
     ]
    },
    {
     "name": "stdout",
     "output_type": "stream",
     "text": [
      "saving model version 0.1\n",
      "✅ Best validation loss: 9.6637e+00 at 23 epoch\n",
      "Testing 3 hidden neurons, lamb=0.01, grid=3\n",
      "checkpoint directory created: ./model\n",
      "saving model version 0.0\n",
      "checkpoint directory created: ./model\n",
      "saving model version 0.0\n",
      "Successfully created and tested Model4\n"
     ]
    },
    {
     "name": "stderr",
     "output_type": "stream",
     "text": [
      "| train_loss: 2.20e+00 | eval_loss: 3.87e+00 | reg: 8.05e+01 |: 100%|█| 50/50 [03:17<00:00,  3.95s/i\n"
     ]
    },
    {
     "name": "stdout",
     "output_type": "stream",
     "text": [
      "saving model version 0.1\n",
      "✅ Best validation loss: 9.6873e+00 at 5 epoch\n",
      "Testing 3 hidden neurons, lamb=0.001, grid=3\n",
      "checkpoint directory created: ./model\n",
      "saving model version 0.0\n",
      "checkpoint directory created: ./model\n",
      "saving model version 0.0\n",
      "Successfully created and tested Model4\n"
     ]
    },
    {
     "name": "stderr",
     "output_type": "stream",
     "text": [
      "| train_loss: 1.92e+00 | eval_loss: 4.20e+00 | reg: 3.41e+02 |: 100%|█| 50/50 [03:17<00:00,  3.95s/i\n"
     ]
    },
    {
     "name": "stdout",
     "output_type": "stream",
     "text": [
      "saving model version 0.1\n",
      "✅ Best validation loss: 9.7102e+00 at 5 epoch\n",
      "Testing 3 hidden neurons, lamb=0.0001, grid=3\n",
      "checkpoint directory created: ./model\n",
      "saving model version 0.0\n",
      "checkpoint directory created: ./model\n",
      "saving model version 0.0\n",
      "Successfully created and tested Model4\n"
     ]
    },
    {
     "name": "stderr",
     "output_type": "stream",
     "text": [
      "| train_loss: 1.81e+00 | eval_loss: 4.14e+00 | reg: 4.00e+02 |: 100%|█| 50/50 [03:21<00:00,  4.03s/i\n"
     ]
    },
    {
     "name": "stdout",
     "output_type": "stream",
     "text": [
      "saving model version 0.1\n",
      "✅ Best validation loss: 9.7315e+00 at 4 epoch\n",
      "Testing 3 hidden neurons, lamb=1e-05, grid=3\n",
      "checkpoint directory created: ./model\n",
      "saving model version 0.0\n",
      "checkpoint directory created: ./model\n",
      "saving model version 0.0\n",
      "Successfully created and tested Model4\n"
     ]
    },
    {
     "name": "stderr",
     "output_type": "stream",
     "text": [
      "| train_loss: 1.85e+00 | eval_loss: 4.29e+00 | reg: 5.64e+02 |: 100%|█| 50/50 [03:21<00:00,  4.03s/i\n"
     ]
    },
    {
     "name": "stdout",
     "output_type": "stream",
     "text": [
      "saving model version 0.1\n",
      "✅ Best validation loss: 9.8402e+00 at 4 epoch\n",
      "Testing 3 hidden neurons, lamb=1e-06, grid=3\n",
      "checkpoint directory created: ./model\n",
      "saving model version 0.0\n",
      "checkpoint directory created: ./model\n",
      "saving model version 0.0\n",
      "Successfully created and tested Model4\n"
     ]
    },
    {
     "name": "stderr",
     "output_type": "stream",
     "text": [
      "| train_loss: 1.88e+00 | eval_loss: 4.10e+00 | reg: 5.55e+02 |: 100%|█| 50/50 [03:24<00:00,  4.09s/i\n"
     ]
    },
    {
     "name": "stdout",
     "output_type": "stream",
     "text": [
      "saving model version 0.1\n",
      "✅ Best validation loss: 9.7835e+00 at 4 epoch\n",
      "Testing 3 hidden neurons, lamb=1.0, grid=4\n",
      "checkpoint directory created: ./model\n",
      "saving model version 0.0\n",
      "checkpoint directory created: ./model\n",
      "saving model version 0.0\n",
      "Successfully created and tested Model4\n"
     ]
    },
    {
     "name": "stderr",
     "output_type": "stream",
     "text": [
      "| train_loss: 5.64e+00 | eval_loss: 5.77e+00 | reg: 4.05e-01 |: 100%|█| 50/50 [03:28<00:00,  4.18s/i\n"
     ]
    },
    {
     "name": "stdout",
     "output_type": "stream",
     "text": [
      "saving model version 0.1\n",
      "✅ Best validation loss: 3.3270e+01 at 10 epoch\n",
      "Testing 3 hidden neurons, lamb=0.1, grid=4\n",
      "checkpoint directory created: ./model\n",
      "saving model version 0.0\n",
      "checkpoint directory created: ./model\n",
      "saving model version 0.0\n",
      "Successfully created and tested Model4\n"
     ]
    },
    {
     "name": "stderr",
     "output_type": "stream",
     "text": [
      "| train_loss: 3.16e+00 | eval_loss: 3.25e+00 | reg: 2.14e+01 |: 100%|█| 50/50 [03:28<00:00,  4.17s/i\n"
     ]
    },
    {
     "name": "stdout",
     "output_type": "stream",
     "text": [
      "saving model version 0.1\n",
      "✅ Best validation loss: 9.6998e+00 at 8 epoch\n",
      "Testing 3 hidden neurons, lamb=0.01, grid=4\n",
      "checkpoint directory created: ./model\n",
      "saving model version 0.0\n",
      "checkpoint directory created: ./model\n",
      "saving model version 0.0\n",
      "Successfully created and tested Model4\n"
     ]
    },
    {
     "name": "stderr",
     "output_type": "stream",
     "text": [
      "| train_loss: 1.98e+00 | eval_loss: 4.01e+00 | reg: 1.10e+02 |: 100%|█| 50/50 [03:30<00:00,  4.21s/i\n"
     ]
    },
    {
     "name": "stdout",
     "output_type": "stream",
     "text": [
      "saving model version 0.1\n",
      "✅ Best validation loss: 9.7651e+00 at 5 epoch\n",
      "Testing 3 hidden neurons, lamb=0.001, grid=4\n",
      "checkpoint directory created: ./model\n",
      "saving model version 0.0\n",
      "checkpoint directory created: ./model\n",
      "saving model version 0.0\n",
      "Successfully created and tested Model4\n"
     ]
    },
    {
     "name": "stderr",
     "output_type": "stream",
     "text": [
      "| train_loss: 1.87e+00 | eval_loss: 4.15e+00 | reg: 3.88e+02 |: 100%|█| 50/50 [03:31<00:00,  4.23s/i\n"
     ]
    },
    {
     "name": "stdout",
     "output_type": "stream",
     "text": [
      "saving model version 0.1\n",
      "✅ Best validation loss: 9.7344e+00 at 5 epoch\n",
      "Testing 3 hidden neurons, lamb=0.0001, grid=4\n",
      "checkpoint directory created: ./model\n",
      "saving model version 0.0\n",
      "checkpoint directory created: ./model\n",
      "saving model version 0.0\n",
      "Successfully created and tested Model4\n"
     ]
    },
    {
     "name": "stderr",
     "output_type": "stream",
     "text": [
      "| train_loss: 1.82e+00 | eval_loss: 4.22e+00 | reg: 6.88e+02 |: 100%|█| 50/50 [03:37<00:00,  4.35s/i\n"
     ]
    },
    {
     "name": "stdout",
     "output_type": "stream",
     "text": [
      "saving model version 0.1\n",
      "✅ Best validation loss: 9.7362e+00 at 6 epoch\n",
      "Testing 3 hidden neurons, lamb=1e-05, grid=4\n",
      "checkpoint directory created: ./model\n",
      "saving model version 0.0\n",
      "checkpoint directory created: ./model\n",
      "saving model version 0.0\n",
      "Successfully created and tested Model4\n"
     ]
    },
    {
     "name": "stderr",
     "output_type": "stream",
     "text": [
      "| train_loss: 1.88e+00 | eval_loss: 4.35e+00 | reg: 7.68e+02 |: 100%|█| 50/50 [03:37<00:00,  4.35s/i\n"
     ]
    },
    {
     "name": "stdout",
     "output_type": "stream",
     "text": [
      "saving model version 0.1\n",
      "✅ Best validation loss: 9.8614e+00 at 4 epoch\n",
      "Testing 3 hidden neurons, lamb=1e-06, grid=4\n",
      "checkpoint directory created: ./model\n",
      "saving model version 0.0\n",
      "checkpoint directory created: ./model\n",
      "saving model version 0.0\n",
      "Successfully created and tested Model4\n"
     ]
    },
    {
     "name": "stderr",
     "output_type": "stream",
     "text": [
      "| train_loss: 2.07e+00 | eval_loss: 3.94e+00 | reg: 7.29e+02 |: 100%|█| 50/50 [03:33<00:00,  4.27s/i\n"
     ]
    },
    {
     "name": "stdout",
     "output_type": "stream",
     "text": [
      "saving model version 0.1\n",
      "✅ Best validation loss: 9.8371e+00 at 3 epoch\n",
      "Testing 3 hidden neurons, lamb=1.0, grid=5\n",
      "checkpoint directory created: ./model\n",
      "saving model version 0.0\n",
      "checkpoint directory created: ./model\n",
      "saving model version 0.0\n",
      "Successfully created and tested Model4\n"
     ]
    },
    {
     "name": "stderr",
     "output_type": "stream",
     "text": [
      "| train_loss: 5.63e+00 | eval_loss: 5.77e+00 | reg: 3.19e-01 |: 100%|█| 50/50 [03:58<00:00,  4.76s/i\n"
     ]
    },
    {
     "name": "stdout",
     "output_type": "stream",
     "text": [
      "saving model version 0.1\n",
      "✅ Best validation loss: 3.3268e+01 at 10 epoch\n",
      "Testing 3 hidden neurons, lamb=0.1, grid=5\n",
      "checkpoint directory created: ./model\n",
      "saving model version 0.0\n",
      "checkpoint directory created: ./model\n",
      "saving model version 0.0\n",
      "Successfully created and tested Model4\n"
     ]
    },
    {
     "name": "stderr",
     "output_type": "stream",
     "text": [
      "| train_loss: 3.01e+00 | eval_loss: 3.46e+00 | reg: 2.41e+01 |: 100%|█| 50/50 [03:54<00:00,  4.69s/i\n"
     ]
    },
    {
     "name": "stdout",
     "output_type": "stream",
     "text": [
      "saving model version 0.1\n",
      "✅ Best validation loss: 9.7539e+00 at 6 epoch\n",
      "Testing 3 hidden neurons, lamb=0.01, grid=5\n",
      "checkpoint directory created: ./model\n",
      "saving model version 0.0\n",
      "checkpoint directory created: ./model\n",
      "saving model version 0.0\n",
      "Successfully created and tested Model4\n"
     ]
    },
    {
     "name": "stderr",
     "output_type": "stream",
     "text": [
      "| train_loss: 2.08e+00 | eval_loss: 4.17e+00 | reg: 1.16e+02 |: 100%|█| 50/50 [03:53<00:00,  4.67s/i\n"
     ]
    },
    {
     "name": "stdout",
     "output_type": "stream",
     "text": [
      "saving model version 0.1\n",
      "✅ Best validation loss: 9.6332e+00 at 5 epoch\n",
      "Testing 3 hidden neurons, lamb=0.001, grid=5\n",
      "checkpoint directory created: ./model\n",
      "saving model version 0.0\n",
      "checkpoint directory created: ./model\n",
      "saving model version 0.0\n",
      "Successfully created and tested Model4\n"
     ]
    },
    {
     "name": "stderr",
     "output_type": "stream",
     "text": [
      "| train_loss: 1.74e+00 | eval_loss: 4.40e+00 | reg: 4.82e+02 |: 100%|█| 50/50 [04:00<00:00,  4.80s/i\n"
     ]
    },
    {
     "name": "stdout",
     "output_type": "stream",
     "text": [
      "saving model version 0.1\n",
      "✅ Best validation loss: 9.6447e+00 at 4 epoch\n",
      "Testing 3 hidden neurons, lamb=0.0001, grid=5\n",
      "checkpoint directory created: ./model\n",
      "saving model version 0.0\n",
      "checkpoint directory created: ./model\n",
      "saving model version 0.0\n",
      "Successfully created and tested Model4\n"
     ]
    },
    {
     "name": "stderr",
     "output_type": "stream",
     "text": [
      "| train_loss: 1.50e+00 | eval_loss: 4.45e+00 | reg: 8.34e+02 |: 100%|█| 50/50 [04:05<00:00,  4.91s/i\n"
     ]
    },
    {
     "name": "stdout",
     "output_type": "stream",
     "text": [
      "saving model version 0.1\n",
      "✅ Best validation loss: 9.5847e+00 at 4 epoch\n",
      "Testing 3 hidden neurons, lamb=1e-05, grid=5\n",
      "checkpoint directory created: ./model\n",
      "saving model version 0.0\n",
      "checkpoint directory created: ./model\n",
      "saving model version 0.0\n",
      "Successfully created and tested Model4\n"
     ]
    },
    {
     "name": "stderr",
     "output_type": "stream",
     "text": [
      "| train_loss: 1.50e+00 | eval_loss: 4.59e+00 | reg: 8.53e+02 |: 100%|█| 50/50 [03:59<00:00,  4.79s/i\n"
     ]
    },
    {
     "name": "stdout",
     "output_type": "stream",
     "text": [
      "saving model version 0.1\n",
      "✅ Best validation loss: 9.6839e+00 at 5 epoch\n",
      "Testing 3 hidden neurons, lamb=1e-06, grid=5\n",
      "checkpoint directory created: ./model\n",
      "saving model version 0.0\n",
      "checkpoint directory created: ./model\n",
      "saving model version 0.0\n",
      "Successfully created and tested Model4\n"
     ]
    },
    {
     "name": "stderr",
     "output_type": "stream",
     "text": [
      "| train_loss: 1.64e+00 | eval_loss: 4.49e+00 | reg: 8.83e+02 |: 100%|█| 50/50 [04:01<00:00,  4.83s/i\n"
     ]
    },
    {
     "name": "stdout",
     "output_type": "stream",
     "text": [
      "saving model version 0.1\n",
      "✅ Best validation loss: 9.6244e+00 at 4 epoch\n",
      "Testing 3 hidden neurons, lamb=1.0, grid=6\n",
      "checkpoint directory created: ./model\n",
      "saving model version 0.0\n",
      "checkpoint directory created: ./model\n",
      "saving model version 0.0\n",
      "Successfully created and tested Model4\n"
     ]
    },
    {
     "name": "stderr",
     "output_type": "stream",
     "text": [
      "| train_loss: 5.64e+00 | eval_loss: 5.77e+00 | reg: 4.16e-01 |: 100%|█| 50/50 [09:41<00:00, 11.63s/i\n"
     ]
    },
    {
     "name": "stdout",
     "output_type": "stream",
     "text": [
      "saving model version 0.1\n",
      "✅ Best validation loss: 3.3266e+01 at 14 epoch\n",
      "Testing 3 hidden neurons, lamb=0.1, grid=6\n",
      "checkpoint directory created: ./model\n",
      "saving model version 0.0\n",
      "checkpoint directory created: ./model\n",
      "saving model version 0.0\n",
      "Successfully created and tested Model4\n"
     ]
    },
    {
     "name": "stderr",
     "output_type": "stream",
     "text": [
      "| train_loss: 3.18e+00 | eval_loss: 3.30e+00 | reg: 2.36e+01 |: 100%|█| 50/50 [08:02<00:00,  9.64s/i\n"
     ]
    },
    {
     "name": "stdout",
     "output_type": "stream",
     "text": [
      "saving model version 0.1\n",
      "✅ Best validation loss: 9.6894e+00 at 8 epoch\n",
      "Testing 3 hidden neurons, lamb=0.01, grid=6\n",
      "checkpoint directory created: ./model\n",
      "saving model version 0.0\n",
      "checkpoint directory created: ./model\n",
      "saving model version 0.0\n",
      "Successfully created and tested Model4\n"
     ]
    },
    {
     "name": "stderr",
     "output_type": "stream",
     "text": [
      "| train_loss: 1.81e+00 | eval_loss: 4.23e+00 | reg: 1.26e+02 |: 100%|█| 50/50 [09:52<00:00, 11.84s/i\n"
     ]
    },
    {
     "name": "stdout",
     "output_type": "stream",
     "text": [
      "saving model version 0.1\n",
      "✅ Best validation loss: 9.6264e+00 at 6 epoch\n",
      "Testing 3 hidden neurons, lamb=0.001, grid=6\n",
      "checkpoint directory created: ./model\n",
      "saving model version 0.0\n",
      "checkpoint directory created: ./model\n",
      "saving model version 0.0\n",
      "Successfully created and tested Model4\n"
     ]
    },
    {
     "name": "stderr",
     "output_type": "stream",
     "text": [
      "| train_loss: 1.34e+00 | eval_loss: 4.65e+00 | reg: 4.94e+02 |: 100%|█| 50/50 [09:36<00:00, 11.53s/i\n"
     ]
    },
    {
     "name": "stdout",
     "output_type": "stream",
     "text": [
      "saving model version 0.1\n",
      "✅ Best validation loss: 9.7481e+00 at 5 epoch\n",
      "Testing 3 hidden neurons, lamb=0.0001, grid=6\n",
      "checkpoint directory created: ./model\n",
      "saving model version 0.0\n",
      "checkpoint directory created: ./model\n",
      "saving model version 0.0\n",
      "Successfully created and tested Model4\n"
     ]
    },
    {
     "name": "stderr",
     "output_type": "stream",
     "text": [
      "| train_loss: 1.19e+00 | eval_loss: 4.68e+00 | reg: 6.20e+02 |: 100%|█| 50/50 [07:34<00:00,  9.09s/i\n"
     ]
    },
    {
     "name": "stdout",
     "output_type": "stream",
     "text": [
      "saving model version 0.1\n",
      "✅ Best validation loss: 9.7495e+00 at 3 epoch\n",
      "Testing 3 hidden neurons, lamb=1e-05, grid=6\n",
      "checkpoint directory created: ./model\n",
      "saving model version 0.0\n",
      "checkpoint directory created: ./model\n",
      "saving model version 0.0\n",
      "Successfully created and tested Model4\n"
     ]
    },
    {
     "name": "stderr",
     "output_type": "stream",
     "text": [
      "| train_loss: 1.12e+00 | eval_loss: 4.75e+00 | reg: 6.43e+02 |: 100%|█| 50/50 [07:31<00:00,  9.03s/i\n"
     ]
    },
    {
     "name": "stdout",
     "output_type": "stream",
     "text": [
      "saving model version 0.1\n",
      "✅ Best validation loss: 9.7641e+00 at 3 epoch\n",
      "Testing 3 hidden neurons, lamb=1e-06, grid=6\n",
      "checkpoint directory created: ./model\n",
      "saving model version 0.0\n",
      "checkpoint directory created: ./model\n",
      "saving model version 0.0\n",
      "Successfully created and tested Model4\n"
     ]
    },
    {
     "name": "stderr",
     "output_type": "stream",
     "text": [
      "| train_loss: 1.07e+00 | eval_loss: 4.66e+00 | reg: 6.00e+02 |: 100%|█| 50/50 [07:34<00:00,  9.09s/i\n"
     ]
    },
    {
     "name": "stdout",
     "output_type": "stream",
     "text": [
      "saving model version 0.1\n",
      "✅ Best validation loss: 9.6866e+00 at 3 epoch\n",
      "Testing 4 hidden neurons, lamb=1.0, grid=3\n",
      "checkpoint directory created: ./model\n",
      "saving model version 0.0\n",
      "checkpoint directory created: ./model\n",
      "saving model version 0.0\n",
      "Successfully created and tested Model4\n"
     ]
    },
    {
     "name": "stderr",
     "output_type": "stream",
     "text": [
      "| train_loss: 5.64e+00 | eval_loss: 5.77e+00 | reg: 4.64e-01 |: 100%|█| 50/50 [03:09<00:00,  3.78s/i\n"
     ]
    },
    {
     "name": "stdout",
     "output_type": "stream",
     "text": [
      "saving model version 0.1\n",
      "✅ Best validation loss: 3.3266e+01 at 12 epoch\n",
      "Testing 4 hidden neurons, lamb=0.1, grid=3\n",
      "checkpoint directory created: ./model\n",
      "saving model version 0.0\n",
      "checkpoint directory created: ./model\n",
      "saving model version 0.0\n",
      "Successfully created and tested Model4\n"
     ]
    },
    {
     "name": "stderr",
     "output_type": "stream",
     "text": [
      "| train_loss: 3.25e+00 | eval_loss: 3.18e+00 | reg: 1.94e+01 |: 100%|█| 50/50 [03:16<00:00,  3.92s/i\n"
     ]
    },
    {
     "name": "stdout",
     "output_type": "stream",
     "text": [
      "saving model version 0.1\n",
      "✅ Best validation loss: 9.7256e+00 at 6 epoch\n",
      "Testing 4 hidden neurons, lamb=0.01, grid=3\n",
      "checkpoint directory created: ./model\n",
      "saving model version 0.0\n",
      "checkpoint directory created: ./model\n",
      "saving model version 0.0\n",
      "Successfully created and tested Model4\n"
     ]
    },
    {
     "name": "stderr",
     "output_type": "stream",
     "text": [
      "| train_loss: 2.39e+00 | eval_loss: 3.60e+00 | reg: 6.96e+01 |: 100%|█| 50/50 [03:11<00:00,  3.83s/i\n"
     ]
    },
    {
     "name": "stdout",
     "output_type": "stream",
     "text": [
      "saving model version 0.1\n",
      "✅ Best validation loss: 9.6753e+00 at 3 epoch\n",
      "Testing 4 hidden neurons, lamb=0.001, grid=3\n",
      "checkpoint directory created: ./model\n",
      "saving model version 0.0\n",
      "checkpoint directory created: ./model\n",
      "saving model version 0.0\n",
      "Successfully created and tested Model4\n"
     ]
    },
    {
     "name": "stderr",
     "output_type": "stream",
     "text": [
      "| train_loss: 2.47e+00 | eval_loss: 3.75e+00 | reg: 2.66e+02 |: 100%|█| 50/50 [03:32<00:00,  4.24s/i\n"
     ]
    },
    {
     "name": "stdout",
     "output_type": "stream",
     "text": [
      "saving model version 0.1\n",
      "✅ Best validation loss: 9.6373e+00 at 6 epoch\n",
      "Testing 4 hidden neurons, lamb=0.0001, grid=3\n",
      "checkpoint directory created: ./model\n",
      "saving model version 0.0\n",
      "checkpoint directory created: ./model\n",
      "saving model version 0.0\n",
      "Successfully created and tested Model4\n"
     ]
    },
    {
     "name": "stderr",
     "output_type": "stream",
     "text": [
      "| train_loss: 2.08e+00 | eval_loss: 3.96e+00 | reg: 5.39e+02 |: 100%|█| 50/50 [03:13<00:00,  3.87s/i\n"
     ]
    },
    {
     "name": "stdout",
     "output_type": "stream",
     "text": [
      "saving model version 0.1\n",
      "✅ Best validation loss: 9.8055e+00 at 5 epoch\n",
      "Testing 4 hidden neurons, lamb=1e-05, grid=3\n",
      "checkpoint directory created: ./model\n",
      "saving model version 0.0\n",
      "checkpoint directory created: ./model\n",
      "saving model version 0.0\n",
      "Successfully created and tested Model4\n"
     ]
    },
    {
     "name": "stderr",
     "output_type": "stream",
     "text": [
      "| train_loss: 2.35e+00 | eval_loss: 3.74e+00 | reg: 6.80e+02 |: 100%|█| 50/50 [03:15<00:00,  3.91s/i\n"
     ]
    },
    {
     "name": "stdout",
     "output_type": "stream",
     "text": [
      "saving model version 0.1\n",
      "✅ Best validation loss: 9.6467e+00 at 3 epoch\n",
      "Testing 4 hidden neurons, lamb=1e-06, grid=3\n",
      "checkpoint directory created: ./model\n",
      "saving model version 0.0\n",
      "checkpoint directory created: ./model\n",
      "saving model version 0.0\n",
      "Successfully created and tested Model4\n"
     ]
    },
    {
     "name": "stderr",
     "output_type": "stream",
     "text": [
      "| train_loss: 2.05e+00 | eval_loss: 4.06e+00 | reg: 5.41e+02 |: 100%|█| 50/50 [03:18<00:00,  3.96s/i\n"
     ]
    },
    {
     "name": "stdout",
     "output_type": "stream",
     "text": [
      "saving model version 0.1\n",
      "✅ Best validation loss: 9.6114e+00 at 5 epoch\n",
      "Testing 4 hidden neurons, lamb=1.0, grid=4\n",
      "checkpoint directory created: ./model\n",
      "saving model version 0.0\n",
      "checkpoint directory created: ./model\n",
      "saving model version 0.0\n",
      "Successfully created and tested Model4\n"
     ]
    },
    {
     "name": "stderr",
     "output_type": "stream",
     "text": [
      "| train_loss: 5.65e+00 | eval_loss: 5.77e+00 | reg: 4.87e-01 |: 100%|█| 50/50 [03:27<00:00,  4.16s/i\n"
     ]
    },
    {
     "name": "stdout",
     "output_type": "stream",
     "text": [
      "saving model version 0.1\n",
      "✅ Best validation loss: 3.3266e+01 at 9 epoch\n",
      "Testing 4 hidden neurons, lamb=0.1, grid=4\n",
      "checkpoint directory created: ./model\n",
      "saving model version 0.0\n",
      "checkpoint directory created: ./model\n",
      "saving model version 0.0\n",
      "Successfully created and tested Model4\n"
     ]
    },
    {
     "name": "stderr",
     "output_type": "stream",
     "text": [
      "| train_loss: 3.19e+00 | eval_loss: 3.24e+00 | reg: 2.24e+01 |: 100%|█| 50/50 [03:26<00:00,  4.13s/i\n"
     ]
    },
    {
     "name": "stdout",
     "output_type": "stream",
     "text": [
      "saving model version 0.1\n",
      "✅ Best validation loss: 9.8484e+00 at 7 epoch\n",
      "Testing 4 hidden neurons, lamb=0.01, grid=4\n",
      "checkpoint directory created: ./model\n",
      "saving model version 0.0\n",
      "checkpoint directory created: ./model\n",
      "saving model version 0.0\n",
      "Successfully created and tested Model4\n"
     ]
    },
    {
     "name": "stderr",
     "output_type": "stream",
     "text": [
      "| train_loss: 2.15e+00 | eval_loss: 4.00e+00 | reg: 8.43e+01 |: 100%|█| 50/50 [03:30<00:00,  4.21s/i\n"
     ]
    },
    {
     "name": "stdout",
     "output_type": "stream",
     "text": [
      "saving model version 0.1\n",
      "✅ Best validation loss: 9.6116e+00 at 4 epoch\n",
      "Testing 4 hidden neurons, lamb=0.001, grid=4\n",
      "checkpoint directory created: ./model\n",
      "saving model version 0.0\n",
      "checkpoint directory created: ./model\n",
      "saving model version 0.0\n",
      "Successfully created and tested Model4\n"
     ]
    },
    {
     "name": "stderr",
     "output_type": "stream",
     "text": [
      "| train_loss: 1.69e+00 | eval_loss: 4.48e+00 | reg: 4.55e+02 |: 100%|█| 50/50 [03:35<00:00,  4.30s/i\n"
     ]
    },
    {
     "name": "stdout",
     "output_type": "stream",
     "text": [
      "saving model version 0.1\n",
      "✅ Best validation loss: 9.5530e+00 at 4 epoch\n",
      "Testing 4 hidden neurons, lamb=0.0001, grid=4\n",
      "checkpoint directory created: ./model\n",
      "saving model version 0.0\n",
      "checkpoint directory created: ./model\n",
      "saving model version 0.0\n",
      "Successfully created and tested Model4\n"
     ]
    },
    {
     "name": "stderr",
     "output_type": "stream",
     "text": [
      "| train_loss: 1.88e+00 | eval_loss: 4.18e+00 | reg: 7.07e+02 |: 100%|█| 50/50 [03:36<00:00,  4.34s/i\n"
     ]
    },
    {
     "name": "stdout",
     "output_type": "stream",
     "text": [
      "saving model version 0.1\n",
      "✅ Best validation loss: 9.6310e+00 at 4 epoch\n",
      "Testing 4 hidden neurons, lamb=1e-05, grid=4\n",
      "checkpoint directory created: ./model\n",
      "saving model version 0.0\n",
      "checkpoint directory created: ./model\n",
      "saving model version 0.0\n",
      "Successfully created and tested Model4\n"
     ]
    },
    {
     "name": "stderr",
     "output_type": "stream",
     "text": [
      "| train_loss: 1.86e+00 | eval_loss: 4.31e+00 | reg: 7.76e+02 |: 100%|█| 50/50 [03:33<00:00,  4.27s/i\n"
     ]
    },
    {
     "name": "stdout",
     "output_type": "stream",
     "text": [
      "saving model version 0.1\n",
      "✅ Best validation loss: 9.6020e+00 at 5 epoch\n",
      "Testing 4 hidden neurons, lamb=1e-06, grid=4\n",
      "checkpoint directory created: ./model\n",
      "saving model version 0.0\n",
      "checkpoint directory created: ./model\n",
      "saving model version 0.0\n",
      "Successfully created and tested Model4\n"
     ]
    },
    {
     "name": "stderr",
     "output_type": "stream",
     "text": [
      "| train_loss: 1.71e+00 | eval_loss: 4.30e+00 | reg: 7.77e+02 |: 100%|█| 50/50 [03:36<00:00,  4.33s/i\n"
     ]
    },
    {
     "name": "stdout",
     "output_type": "stream",
     "text": [
      "saving model version 0.1\n",
      "✅ Best validation loss: 9.6221e+00 at 5 epoch\n",
      "Testing 4 hidden neurons, lamb=1.0, grid=5\n",
      "checkpoint directory created: ./model\n",
      "saving model version 0.0\n",
      "checkpoint directory created: ./model\n",
      "saving model version 0.0\n",
      "Successfully created and tested Model4\n"
     ]
    },
    {
     "name": "stderr",
     "output_type": "stream",
     "text": [
      "| train_loss: 5.64e+00 | eval_loss: 5.77e+00 | reg: 4.65e-01 |: 100%|█| 50/50 [03:59<00:00,  4.80s/i\n"
     ]
    },
    {
     "name": "stdout",
     "output_type": "stream",
     "text": [
      "saving model version 0.1\n",
      "✅ Best validation loss: 3.3266e+01 at 12 epoch\n",
      "Testing 4 hidden neurons, lamb=0.1, grid=5\n",
      "checkpoint directory created: ./model\n",
      "saving model version 0.0\n",
      "checkpoint directory created: ./model\n",
      "saving model version 0.0\n",
      "Successfully created and tested Model4\n"
     ]
    },
    {
     "name": "stderr",
     "output_type": "stream",
     "text": [
      "| train_loss: 3.31e+00 | eval_loss: 3.18e+00 | reg: 1.99e+01 |: 100%|█| 50/50 [03:50<00:00,  4.60s/i\n"
     ]
    },
    {
     "name": "stdout",
     "output_type": "stream",
     "text": [
      "saving model version 0.1\n",
      "✅ Best validation loss: 9.6731e+00 at 7 epoch\n",
      "Testing 4 hidden neurons, lamb=0.01, grid=5\n",
      "checkpoint directory created: ./model\n",
      "saving model version 0.0\n",
      "checkpoint directory created: ./model\n",
      "saving model version 0.0\n",
      "Successfully created and tested Model4\n"
     ]
    },
    {
     "name": "stderr",
     "output_type": "stream",
     "text": [
      "| train_loss: 1.82e+00 | eval_loss: 4.27e+00 | reg: 1.38e+02 |: 100%|█| 50/50 [04:01<00:00,  4.83s/i\n"
     ]
    },
    {
     "name": "stdout",
     "output_type": "stream",
     "text": [
      "saving model version 0.1\n",
      "✅ Best validation loss: 9.6899e+00 at 7 epoch\n",
      "Testing 4 hidden neurons, lamb=0.001, grid=5\n",
      "checkpoint directory created: ./model\n",
      "saving model version 0.0\n",
      "checkpoint directory created: ./model\n",
      "saving model version 0.0\n",
      "Successfully created and tested Model4\n"
     ]
    },
    {
     "name": "stderr",
     "output_type": "stream",
     "text": [
      "| train_loss: 1.52e+00 | eval_loss: 4.57e+00 | reg: 5.19e+02 |: 100%|█| 50/50 [04:04<00:00,  4.89s/i\n"
     ]
    },
    {
     "name": "stdout",
     "output_type": "stream",
     "text": [
      "saving model version 0.1\n",
      "✅ Best validation loss: 9.7678e+00 at 5 epoch\n",
      "Testing 4 hidden neurons, lamb=0.0001, grid=5\n",
      "checkpoint directory created: ./model\n",
      "saving model version 0.0\n",
      "checkpoint directory created: ./model\n",
      "saving model version 0.0\n",
      "Successfully created and tested Model4\n"
     ]
    },
    {
     "name": "stderr",
     "output_type": "stream",
     "text": [
      "| train_loss: 1.57e+00 | eval_loss: 4.39e+00 | reg: 7.73e+02 |: 100%|█| 50/50 [04:07<00:00,  4.95s/i\n"
     ]
    },
    {
     "name": "stdout",
     "output_type": "stream",
     "text": [
      "saving model version 0.1\n",
      "✅ Best validation loss: 9.7931e+00 at 5 epoch\n",
      "Testing 4 hidden neurons, lamb=1e-05, grid=5\n",
      "checkpoint directory created: ./model\n",
      "saving model version 0.0\n",
      "checkpoint directory created: ./model\n",
      "saving model version 0.0\n",
      "Successfully created and tested Model4\n"
     ]
    },
    {
     "name": "stderr",
     "output_type": "stream",
     "text": [
      "| train_loss: 1.51e+00 | eval_loss: 4.68e+00 | reg: 8.24e+02 |: 100%|█| 50/50 [04:07<00:00,  4.94s/i\n"
     ]
    },
    {
     "name": "stdout",
     "output_type": "stream",
     "text": [
      "saving model version 0.1\n",
      "✅ Best validation loss: 9.8021e+00 at 4 epoch\n",
      "Testing 4 hidden neurons, lamb=1e-06, grid=5\n",
      "checkpoint directory created: ./model\n",
      "saving model version 0.0\n",
      "checkpoint directory created: ./model\n",
      "saving model version 0.0\n",
      "Successfully created and tested Model4\n"
     ]
    },
    {
     "name": "stderr",
     "output_type": "stream",
     "text": [
      "| train_loss: 1.60e+00 | eval_loss: 4.37e+00 | reg: 7.97e+02 |: 100%|█| 50/50 [04:05<00:00,  4.90s/i\n"
     ]
    },
    {
     "name": "stdout",
     "output_type": "stream",
     "text": [
      "saving model version 0.1\n",
      "✅ Best validation loss: 9.8588e+00 at 3 epoch\n",
      "Testing 4 hidden neurons, lamb=1.0, grid=6\n",
      "checkpoint directory created: ./model\n",
      "saving model version 0.0\n",
      "checkpoint directory created: ./model\n",
      "saving model version 0.0\n",
      "Successfully created and tested Model4\n"
     ]
    },
    {
     "name": "stderr",
     "output_type": "stream",
     "text": [
      "| train_loss: 5.64e+00 | eval_loss: 5.77e+00 | reg: 4.19e-01 |: 100%|█| 50/50 [09:49<00:00, 11.80s/i\n"
     ]
    },
    {
     "name": "stdout",
     "output_type": "stream",
     "text": [
      "saving model version 0.1\n",
      "✅ Best validation loss: 3.3266e+01 at 7 epoch\n",
      "Testing 4 hidden neurons, lamb=0.1, grid=6\n",
      "checkpoint directory created: ./model\n",
      "saving model version 0.0\n",
      "checkpoint directory created: ./model\n",
      "saving model version 0.0\n",
      "Successfully created and tested Model4\n"
     ]
    },
    {
     "name": "stderr",
     "output_type": "stream",
     "text": [
      "| train_loss: 3.30e+00 | eval_loss: 3.20e+00 | reg: 1.98e+01 |: 100%|█| 50/50 [09:24<00:00, 11.28s/i\n"
     ]
    },
    {
     "name": "stdout",
     "output_type": "stream",
     "text": [
      "saving model version 0.1\n",
      "✅ Best validation loss: 9.6646e+00 at 5 epoch\n",
      "Testing 4 hidden neurons, lamb=0.01, grid=6\n",
      "checkpoint directory created: ./model\n",
      "saving model version 0.0\n",
      "checkpoint directory created: ./model\n",
      "saving model version 0.0\n",
      "Successfully created and tested Model4\n"
     ]
    },
    {
     "name": "stderr",
     "output_type": "stream",
     "text": [
      "| train_loss: 1.93e+00 | eval_loss: 4.12e+00 | reg: 1.19e+02 |: 100%|█| 50/50 [09:46<00:00, 11.73s/i\n"
     ]
    },
    {
     "name": "stdout",
     "output_type": "stream",
     "text": [
      "saving model version 0.1\n",
      "✅ Best validation loss: 9.6140e+00 at 2 epoch\n",
      "Testing 4 hidden neurons, lamb=0.001, grid=6\n",
      "checkpoint directory created: ./model\n",
      "saving model version 0.0\n",
      "checkpoint directory created: ./model\n",
      "saving model version 0.0\n",
      "Successfully created and tested Model4\n"
     ]
    },
    {
     "name": "stderr",
     "output_type": "stream",
     "text": [
      "| train_loss: 1.56e+00 | eval_loss: 4.22e+00 | reg: 4.44e+02 |: 100%|█| 50/50 [09:11<00:00, 11.03s/i\n"
     ]
    },
    {
     "name": "stdout",
     "output_type": "stream",
     "text": [
      "saving model version 0.1\n",
      "✅ Best validation loss: 9.6622e+00 at 2 epoch\n",
      "Testing 4 hidden neurons, lamb=0.0001, grid=6\n",
      "checkpoint directory created: ./model\n",
      "saving model version 0.0\n",
      "checkpoint directory created: ./model\n",
      "saving model version 0.0\n",
      "Successfully created and tested Model4\n"
     ]
    },
    {
     "name": "stderr",
     "output_type": "stream",
     "text": [
      "| train_loss: 1.11e+00 | eval_loss: 4.63e+00 | reg: 6.69e+02 |: 100%|█| 50/50 [09:04<00:00, 10.90s/i\n"
     ]
    },
    {
     "name": "stdout",
     "output_type": "stream",
     "text": [
      "saving model version 0.1\n",
      "✅ Best validation loss: 9.6631e+00 at 2 epoch\n",
      "Testing 4 hidden neurons, lamb=1e-05, grid=6\n",
      "checkpoint directory created: ./model\n",
      "saving model version 0.0\n",
      "checkpoint directory created: ./model\n",
      "saving model version 0.0\n",
      "Successfully created and tested Model4\n"
     ]
    },
    {
     "name": "stderr",
     "output_type": "stream",
     "text": [
      "| train_loss: 1.25e+00 | eval_loss: 4.65e+00 | reg: 6.74e+02 |: 100%|█| 50/50 [09:38<00:00, 11.58s/i\n"
     ]
    },
    {
     "name": "stdout",
     "output_type": "stream",
     "text": [
      "saving model version 0.1\n",
      "✅ Best validation loss: 9.6453e+00 at 5 epoch\n",
      "Testing 4 hidden neurons, lamb=1e-06, grid=6\n",
      "checkpoint directory created: ./model\n",
      "saving model version 0.0\n",
      "checkpoint directory created: ./model\n",
      "saving model version 0.0\n",
      "Successfully created and tested Model4\n"
     ]
    },
    {
     "name": "stderr",
     "output_type": "stream",
     "text": [
      "| train_loss: 1.20e+00 | eval_loss: 4.74e+00 | reg: 5.81e+02 |: 100%|█| 50/50 [09:48<00:00, 11.77s/i\n"
     ]
    },
    {
     "name": "stdout",
     "output_type": "stream",
     "text": [
      "saving model version 0.1\n",
      "✅ Best validation loss: 9.7050e+00 at 2 epoch\n",
      "\n",
      "✅ Top 5 Configurations:\n",
      "1. width=[8, 1, 1], grid=4, lamb=0.01| best_epoch=7 | loss=3.23119\n",
      "2. width=[8, 2, 1], grid=4, lamb=0.1| best_epoch=7 | loss=3.23543\n",
      "3. width=[8, 4, 1], grid=4, lamb=0.001| best_epoch=4 | loss=3.23555\n",
      "4. width=[8, 4, 1], grid=3, lamb=1e-06| best_epoch=5 | loss=3.23612\n",
      "5. width=[8, 2, 1], grid=5, lamb=0.01| best_epoch=5 | loss=3.23688\n"
     ]
    }
   ],
   "source": [
    "grid_search_kan_hybrid(dataset, Model4, max_steps=50)"
   ]
  },
  {
   "cell_type": "markdown",
   "id": "a4b1e7a0-b8ba-4b90-857f-00bb5e989131",
   "metadata": {},
   "source": [
    "# ✅ Top 5 Configurations:\r\n",
    "1. width=[8, 2, 1], grid=5, lamb=0.01| best_epoch=6 | loss=3.22711\r\n",
    "2. width=[8, 1, 1], grid=5, lamb=0.01| best_epoch=5 | loss=3.22725\r\n",
    "3. width=[8, 1, 1], grid=4, lamb=0.01| best_epoch=4 | loss=3.23356\r\n",
    "4. width=[8, 4, 1], grid=3, lamb=0.1| best_epoch=5 | loss=3.23682\r\n",
    "5. width=[8, 4, 1], grid=4, lamb=0.0001| best_epoch=4 | loss=3.23696"
   ]
  },
  {
   "cell_type": "markdown",
   "id": "4bcb62f9",
   "metadata": {},
   "source": [
    "#"
   ]
  },
  {
   "cell_type": "markdown",
   "id": "9629993c-fa4a-4dc5-bbd9-d58bbfafebcb",
   "metadata": {},
   "source": [
    "# Bonus Hybrid"
   ]
  },
  {
   "cell_type": "code",
   "execution_count": null,
   "id": "5a7c1ae6-65c5-48a1-985b-4ea08cf660c6",
   "metadata": {},
   "outputs": [],
   "source": [
    "class Model5(nn.Module):\n",
    "    def __init__(self, imgs_shape, kan_grid=kan_grid, device=device):\n",
    "        super(Model5, self).__init__()\n",
    "        # CNN branch\n",
    "        self.cnn_branch = nn.Sequential(\n",
    "            nn.Conv2d(imgs_shape[0], 16, kernel_size=2, padding=1),\n",
    "            nn.LayerNorm([16, 9, 9]),\n",
    "            nn.ReLU(),\n",
    "            nn.MaxPool2d(2, 2),\n",
    "            nn.Conv2d(16, 32, kernel_size=2, padding=1),\n",
    "            nn.LayerNorm([32, 5, 5]),\n",
    "            nn.Sigmoid(),\n",
    "            #nn.MaxPool2d(2),\n",
    "            nn.Flatten()\n",
    "        ).to(device)\n",
    "\n",
    "        # Calculate the size of the flattened output\n",
    "        self.flat_size = self._get_flat_size(imgs_shape)\n",
    "\n",
    "        # Final MLP layers\n",
    "        self.final_kan = KAN(\n",
    "            width=[self.flat_size, 1],\n",
    "            grid=kan_grid,\n",
    "            k=3,\n",
    "            seed=SEED,\n",
    "            device=device\n",
    "        )\n",
    "\n",
    "        self.device = device\n",
    "\n",
    "\n",
    "    def _get_flat_size(self, imgs_shape):\n",
    "        # Forward pass with dummy input to calculate flat size\n",
    "        dummy_input = torch.zeros(4, *imgs_shape, device=device)\n",
    "        x = self.cnn_branch(dummy_input)\n",
    "        return x.size(1)\n",
    "\n",
    "    def get_concat_output(self, mlp_input, cnn_input):\n",
    "        # Ensure inputs are moved to the correct device\n",
    "        kan_input = mlp_input.to(self.device)\n",
    "        cnn_input = cnn_input.to(self.device)\n",
    "        \n",
    "        cnn_output = self.cnn_branch(cnn_input)  # Process image input\n",
    "        kan_output = self.m_kan(kan_input)  # Process numerical input\n",
    "        \n",
    "        return torch.cat((kan_output, cnn_output), dim=1)\n",
    "\n",
    "    \n",
    "    def forward(self, cnn_input):\n",
    "        cnn_input = cnn_input.to(self.device)\n",
    "        cnn_output = self.cnn_branch(cnn_input)  # Process image input\n",
    "        \n",
    "        #concat_output = self.get_concat_output(mlp_input, cnn_input)\n",
    "        return self.final_kan(cnn_output)"
   ]
  },
  {
   "cell_type": "code",
   "execution_count": null,
   "id": "49e3415c-614a-4d20-bb45-f3afa4a0e984",
   "metadata": {},
   "outputs": [],
   "source": [
    "def fit_hybrid_dataloaders2(model, \n",
    "                           dataset,\n",
    "                           opt=\"Adam\", \n",
    "                           steps=100, \n",
    "                           log=1, \n",
    "                           lamb=0., \n",
    "                           lamb_l1=1., \n",
    "                           lamb_entropy=2., \n",
    "                           lamb_coef=0., \n",
    "                           lamb_coefdiff=0., \n",
    "                           update_grid=True, \n",
    "                           grid_update_num=10, \n",
    "                           loss_fn=None, \n",
    "                           lr=1., \n",
    "                           start_grid_update_step=-1, \n",
    "                           stop_grid_update_step=50, \n",
    "                           batch=-1,\n",
    "                           metrics=None, \n",
    "                           save_fig=False, \n",
    "                           in_vars=None, \n",
    "                           out_vars=None, \n",
    "                           beta=3, \n",
    "                           save_fig_freq=1, \n",
    "                           img_folder='./video', \n",
    "                           singularity_avoiding=False, \n",
    "                           y_th=1000., \n",
    "                           reg_metric='edge_forward_spline_n', \n",
    "                           display_metrics=None,\n",
    "                           sum_f_reg=True):\n",
    "    \"\"\"\n",
    "    Trains the hybrid model (with a KAN branch and a CNN branch) using a steps-based loop\n",
    "    adapted from KAN.fit(), with grid updates and regularization.\n",
    "    \n",
    "    Instead of a single dataset dict, this function accepts three DataLoaders:\n",
    "        - train_loader: provides (mlp, img, target) for training\n",
    "        - val_loader: provides (mlp, img, target) for evaluation during training\n",
    "        - test_loader: provides (mlp, img, target) for validation\n",
    "\n",
    "    Internally, the function combines each loader into a dataset dictionary.\n",
    "    \n",
    "    Returns:\n",
    "        results: dictionary containing training loss, evaluation loss, regularization values,\n",
    "                 and any additional metrics recorded during training.\n",
    "    \"\"\"\n",
    "    #device = next(model.parameters()).device\n",
    "\n",
    "    # Warn if regularization is requested but model's internal flag isn't enabled.\n",
    "    if lamb > 0. and not getattr(model.final_kan, \"save_act\", False):\n",
    "        print(\"setting lamb=0. If you want to set lamb > 0, set model.final_kan.save_act=True\")\n",
    "    \n",
    "    # Disable symbolic processing for training if applicable (KAN internal logic)\n",
    "    if hasattr(model.final_kan, \"disable_symbolic_in_fit\"):\n",
    "        #old_save_act, old_symbolic_enabled = model.m_kan.disable_symbolic_in_fit(lamb)\n",
    "        old_save_act, old_symbolic_enabled = model.final_kan.disable_symbolic_in_fit(lamb)\n",
    "    else:\n",
    "        old_save_act, old_symbolic_enabled = None, None\n",
    "\n",
    "    pbar = tqdm(range(steps), desc='Training', ncols=100)\n",
    "\n",
    "    # Default loss function (mean squared error) if not provided\n",
    "    if loss_fn is None:\n",
    "        loss_fn = lambda x, y: torch.mean((x - y) ** 2)\n",
    "\n",
    "    # Determine grid update frequency\n",
    "    grid_update_freq = int(stop_grid_update_step / grid_update_num) if grid_update_num > 0 else 1\n",
    "\n",
    "    # Determine total number of training examples\n",
    "    n_train = dataset[\"train_img\"].shape[0]\n",
    "    n_eval  = dataset[\"val_img\"].shape[0]  # using val set for evaluation during training\n",
    "    batch_size = n_train if batch == -1 or batch > n_train else batch\n",
    "\n",
    "    # Set up optimizer: choose between Adam and LBFGS (removed tolerance_ys)\n",
    "    if opt == \"Adam\":\n",
    "        optimizer = optim.Adam(model.parameters(), lr=lr)\n",
    "    elif opt == \"LBFGS\":\n",
    "        optimizer = LBFGS(model.parameters(), lr=lr, history_size=10, \n",
    "                          line_search_fn=\"strong_wolfe\", \n",
    "                          tolerance_grad=1e-32, \n",
    "                          tolerance_change=1e-32)\n",
    "    else:\n",
    "        raise ValueError(\"Optimizer not recognized. Use 'Adam' or 'LBFGS'.\")\n",
    "\n",
    "    # Prepare results dictionary.\n",
    "    results = {\n",
    "        'train_loss': [],\n",
    "        'eval_loss': [],\n",
    "        'reg': []\n",
    "    }\n",
    "\n",
    "    \n",
    "    if metrics is not None:\n",
    "        for metric in metrics:\n",
    "            results[metric.__name__] = []\n",
    "\n",
    "    best_model_state = None\n",
    "    best_epoch = -1\n",
    "    best_loss = float('inf')\n",
    "\n",
    "    for step in pbar:\n",
    "        # Randomly sample indices for a mini-batch from the training set.\n",
    "        train_indices = np.random.choice(n_train, batch_size, replace=False)\n",
    "        # Use full evaluation set for evaluation; you can also sample if desired.\n",
    "        eval_indices = np.arange(n_eval)\n",
    "\n",
    "        # Closure for LBFGS\n",
    "        def closure():\n",
    "            optimizer.zero_grad()\n",
    "            #mlp_batch = dataset[\"train_input\"][train_indices]\n",
    "            img_batch = dataset[\"train_img\"][train_indices]\n",
    "            target_batch = dataset[\"train_label\"][train_indices]\n",
    "            outputs = model(img_batch)\n",
    "            train_loss = loss_fn(outputs, target_batch)\n",
    "            # Compute regularization term if enabled.\n",
    "            if hasattr(model.final_kan, \"save_act\") and model.final_kan.save_act:\n",
    "                if reg_metric == 'edge_backward':\n",
    "                    #model.m_kan.attribute()\n",
    "                    model.final_kan.attribute()\n",
    "                if reg_metric == 'node_backward':\n",
    "                    #model.m_kan.node_attribute()\n",
    "                    model.final_kan.node_attribute()\n",
    "                reg_val_inner = model.final_kan.get_reg(reg_metric, lamb_l1, lamb_entropy, lamb_coef, lamb_coefdiff)\n",
    "                # if sum_f_reg:\n",
    "                #     reg_val_inner = reg_val_inner + model.final_kan.get_reg(reg_metric, lamb_l1, lamb_entropy, lamb_coef, lamb_coefdiff)\n",
    "            else:\n",
    "                reg_val_inner = torch.tensor(0., device=device)\n",
    "            loss_val_inner = train_loss + lamb * reg_val_inner\n",
    "            loss_val_inner.backward()\n",
    "            return loss_val_inner\n",
    "\n",
    "        # Perform grid update if applicable.\n",
    "        if (step % grid_update_freq == 0 and step < stop_grid_update_step \n",
    "            and update_grid and step >= start_grid_update_step):\n",
    "            \n",
    "            #mlp_batch = dataset['train_input'][train_indices]\n",
    "            cnn_batch = dataset['train_img'][train_indices]\n",
    "            \n",
    "            # model.final_kan.update_grid(mlp_batch)\n",
    "            cnn_output = model.cnn_branch(cnn_batch)  # Process image input\n",
    "            # concatenated  = model.get_concat_output(cnn_batch)\n",
    "            #concatenated = torch.cat((mlp_batch, cnn_output), dim=1)\n",
    "            model.final_kan.update_grid(cnn_output)\n",
    "\n",
    "        # Perform an optimizer step.\n",
    "        if opt == \"LBFGS\":\n",
    "            optimizer.step(closure)\n",
    "            loss_val = closure()  # re-evaluate to record loss\n",
    "            # Compute reg_val separately for logging\n",
    "            with torch.no_grad():\n",
    "                #mlp_batch = dataset[\"train_input\"][train_indices]\n",
    "                img_batch = dataset[\"train_img\"][train_indices]\n",
    "                target_batch = dataset[\"train_label\"][train_indices]\n",
    "                outputs = model(img_batch)\n",
    "                train_loss = loss_fn(outputs, target_batch)\n",
    "                if hasattr(model.final_kan, \"save_act\") and model.final_kan.save_act:\n",
    "                    if reg_metric == 'edge_backward':\n",
    "                        #model.m_kan.attribute()\n",
    "                        model.final_kan.attribute()\n",
    "                    if reg_metric == 'node_backward':\n",
    "                        #model.m_kan.node_attribute()\n",
    "                        model.final_kan.node_attribute()\n",
    "                    reg_val = model.final_kan.get_reg(reg_metric, lamb_l1, lamb_entropy, lamb_coef, lamb_coefdiff)\n",
    "                    # if sum_f_reg:\n",
    "                    #     reg_val = reg_val + model.final_kan.get_reg(reg_metric, lamb_l1, lamb_entropy, lamb_coef, lamb_coefdiff)\n",
    "                else:\n",
    "                    reg_val = torch.tensor(0., device=device)\n",
    "        else:  # Adam branch\n",
    "            optimizer.zero_grad()\n",
    "            #mlp_batch = dataset[\"train_input\"][train_indices]\n",
    "            img_batch = dataset[\"train_img\"][train_indices]\n",
    "            target_batch = dataset[\"train_label\"][train_indices]\n",
    "            outputs = model(img_batch)\n",
    "            train_loss = loss_fn(outputs, target_batch)\n",
    "            if hasattr(model.final_kan, \"save_act\") and model.final_kan.save_act:\n",
    "                if reg_metric == 'edge_backward':\n",
    "                    #model.m_kan.attribute()\n",
    "                    model.final_kan.attribute()\n",
    "                if reg_metric == 'node_backward':\n",
    "                    #model.m_kan.node_attribute()\n",
    "                    model.final_kan.node_attribute()\n",
    "                reg_val = model.final_kan.get_reg(reg_metric, lamb_l1, lamb_entropy, lamb_coef, lamb_coefdiff)\n",
    "                # if sum_f_reg:\n",
    "                #     reg_val = reg_val + model.final_kan.get_reg(reg_metric, lamb_l1, lamb_entropy, lamb_coef, lamb_coefdiff)\n",
    "            else:\n",
    "                reg_val = torch.tensor(0., device=device)\n",
    "            loss_val = train_loss + lamb * reg_val\n",
    "            loss_val.backward()\n",
    "            optimizer.step()\n",
    "\n",
    "        # Evaluate on the entire evaluation set (from val_loader)\n",
    "        #mlp_eval = dataset[\"val_input\"][eval_indices]\n",
    "        img_eval = dataset[\"val_img\"][eval_indices]\n",
    "        target_eval = dataset[\"val_label\"][eval_indices]\n",
    "        eval_loss = loss_fn(model(img_eval), target_eval)\n",
    "\n",
    "        # Record results (using square-root of loss similar to KAN.fit)\n",
    "        results['train_loss'].append(torch.sqrt(loss_val.detach()).item())\n",
    "        results['eval_loss'].append(torch.sqrt(eval_loss.detach()).item())\n",
    "        results['reg'].append(reg_val.detach().item())\n",
    "\n",
    "        # New: Compute validation loss if validation data exists in the dataset.\n",
    "        # val_loss = loss_fn(model(dataset['val_input'][eval_indices], dataset['val_img'][eval_indices]), dataset['val_label'][eval_indices])\n",
    "        # results['val_loss'].append(torch.sqrt(val_loss).cpu().detach().numpy())\n",
    "\n",
    "        if metrics is not None:\n",
    "            for metric in metrics:\n",
    "                # Here, we assume each metric returns a tensor.\n",
    "                results[metric.__name__].append(metric().item())\n",
    "\n",
    "        if eval_loss < best_loss:\n",
    "            best_epoch = step\n",
    "            best_loss = eval_loss\n",
    "            best_model_state = copy.deepcopy(model.state_dict())\n",
    "\n",
    "        # Update progress bar.\n",
    "        if display_metrics is None:\n",
    "            pbar.set_description(\"| train_loss: %.2e | eval_loss: %.2e | reg: %.2e |\" %\n",
    "                                 (torch.sqrt(loss_val.detach()).item(),\n",
    "                                  torch.sqrt(eval_loss.detach()).item(),\n",
    "                                  reg_val.detach().item()))\n",
    "        else:\n",
    "            desc = \"\"\n",
    "            data = []\n",
    "            for metric in display_metrics:\n",
    "                desc += f\" {metric}: %.2e |\"\n",
    "                data.append(results[metric.__name__][-1])\n",
    "            pbar.set_description(desc % tuple(data))\n",
    "\n",
    "        # Optionally save a figure snapshot.\n",
    "        if save_fig and step % save_fig_freq == 0:\n",
    "            save_act_backup = getattr(model.final_kan, \"save_act\", False)\n",
    "            model.final_kan.save_act = True\n",
    "            model.plot(folder=img_folder, in_vars=in_vars, out_vars=out_vars, title=f\"Step {step}\", beta=beta)\n",
    "            plt.savefig(os.path.join(img_folder, f\"{step}.jpg\"), bbox_inches='tight', dpi=200)\n",
    "            plt.close()\n",
    "            model.final_kan.save_act = save_act_backup\n",
    "\n",
    "    # Restore original settings if applicable.\n",
    "    if old_symbolic_enabled is not None:\n",
    "        model.final_kan.symbolic_enabled = old_symbolic_enabled\n",
    "    if hasattr(model.final_kan, \"log_history\"):\n",
    "        model.final_kan.log_history('fit')\n",
    "    print(f\"Best epoch {best_epoch}\")\n",
    "    return results, best_model_state"
   ]
  },
  {
   "cell_type": "code",
   "execution_count": null,
   "id": "c3b3b391-14eb-4647-962d-75accd4df9a9",
   "metadata": {},
   "outputs": [],
   "source": [
    "def try_create_model2(model_class, attributes, imgs_shape):\n",
    "    try:\n",
    "        model = model_class(imgs_shape)\n",
    "        \n",
    "        # Test the model with a sample input\n",
    "        num_input = torch.randn(4, attributes)\n",
    "        img_input = torch.randn(4, *imgs_shape)\n",
    "        output = model(img_input)\n",
    "        \n",
    "        print(f\"Successfully created and tested {model_class.__name__}\")\n",
    "        \n",
    "        return model\n",
    "    except Exception as e:\n",
    "        print(f\"Error creating or testing {model_class.__name__}:\")\n",
    "        traceback.print_exc()\n",
    "        return None"
   ]
  },
  {
   "cell_type": "code",
   "execution_count": null,
   "id": "84126752-0c8b-4028-9892-785d5112e71a",
   "metadata": {},
   "outputs": [],
   "source": [
    "model5 = try_create_model2(Model5, attributes, imgs_shape)  # Attempt to create Model4\n",
    "metrics5, best_model_state = fit_hybrid_dataloaders2(model5, dataset, opt=\"LBFGS\", steps=30, lamb=.00000001)\n",
    "model5.load_state_dict(best_model_state)\n",
    "print(average_rmse(model5(dataset['test_img']), dataset['test_label']))\n",
    "plt.plot(metrics5['train_loss'])\n",
    "plt.plot(metrics5['eval_loss'])\n",
    "plt.legend(['train', 'val'])\n",
    "plt.ylabel('RMSE')\n",
    "plt.xlabel('step')\n",
    "plt.yscale('log')"
   ]
  }
 ],
 "metadata": {
  "kernelspec": {
   "display_name": "Python 3 (ipykernel)",
   "language": "python",
   "name": "python3"
  },
  "language_info": {
   "codemirror_mode": {
    "name": "ipython",
    "version": 3
   },
   "file_extension": ".py",
   "mimetype": "text/x-python",
   "name": "python",
   "nbconvert_exporter": "python",
   "pygments_lexer": "ipython3",
   "version": "3.12.7"
  }
 },
 "nbformat": 4,
 "nbformat_minor": 5
}
