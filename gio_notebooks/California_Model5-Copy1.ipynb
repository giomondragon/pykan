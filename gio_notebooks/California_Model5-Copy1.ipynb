{
 "cells": [
  {
   "cell_type": "code",
   "execution_count": 1,
   "id": "50af9ebd-58e4-4364-a210-b9b52eeab3df",
   "metadata": {},
   "outputs": [],
   "source": [
    "import sys\n",
    "import os\n",
    "\n",
    "# Get the root directory\n",
    "root_dir = os.path.abspath(os.path.join(os.getcwd(), '..'))\n",
    "\n",
    "# Add the root directory to the Python path\n",
    "sys.path.append(root_dir)"
   ]
  },
  {
   "cell_type": "code",
   "execution_count": 2,
   "id": "538f7a38-1c85-449e-8f66-d6e370a5cf9f",
   "metadata": {},
   "outputs": [
    {
     "name": "stdout",
     "output_type": "stream",
     "text": [
      "cuda\n"
     ]
    }
   ],
   "source": [
    "import torch\n",
    "from kan import *\n",
    "import matplotlib.pyplot as plt\n",
    "from sklearn.datasets import fetch_california_housing\n",
    "from sklearn.model_selection import train_test_split\n",
    "from tqdm import tqdm\n",
    "from sklearn.preprocessing import StandardScaler\n",
    "\n",
    "if torch.cuda.is_available():\n",
    "  device = torch.device(\"cuda\")\n",
    "else:\n",
    "  device = torch.device(\"cpu\")\n",
    "\n",
    "print(device)"
   ]
  },
  {
   "cell_type": "code",
   "execution_count": 3,
   "id": "3ec43085-e1af-44a1-b518-d46921ccda02",
   "metadata": {},
   "outputs": [],
   "source": [
    "import torch\n",
    "from kan import *\n",
    "import matplotlib.pyplot as plt\n",
    "from sklearn.datasets import fetch_california_housing\n",
    "from sklearn.model_selection import train_test_split\n",
    "from tqdm import tqdm\n",
    "from sklearn.preprocessing import StandardScaler, MinMaxScaler\n",
    "from torch.utils.data import DataLoader, TensorDataset\n",
    "import cv2\n",
    "import gc\n",
    "import torch.optim as optim\n",
    "from torch.optim.lr_scheduler import OneCycleLR\n",
    "import time\n",
    "from sklearn.metrics import mean_squared_error, mean_absolute_error, r2_score\n",
    "from tqdm import tqdm"
   ]
  },
  {
   "cell_type": "code",
   "execution_count": 4,
   "id": "3583ae98-c5eb-48b2-8c6b-6f0cce301ed5",
   "metadata": {},
   "outputs": [
    {
     "name": "stdout",
     "output_type": "stream",
     "text": [
      "cuda\n"
     ]
    }
   ],
   "source": [
    "if torch.cuda.is_available():\n",
    "  device = torch.device(\"cuda\")\n",
    "else:\n",
    "  device = torch.device(\"cpu\")\n",
    "\n",
    "print(device)"
   ]
  },
  {
   "cell_type": "code",
   "execution_count": 5,
   "id": "6594975d-2c2d-40e5-9884-b5a555a074e7",
   "metadata": {},
   "outputs": [],
   "source": [
    "SEED = 381\n",
    "# SET RANDOM SEED FOR REPRODUCIBILITY\n",
    "torch.manual_seed(SEED)\n",
    "random.seed(SEED)\n",
    "np.random.seed(SEED)"
   ]
  },
  {
   "cell_type": "code",
   "execution_count": 6,
   "id": "bf3193ca-06da-4736-a5fb-9f60eb9a999d",
   "metadata": {},
   "outputs": [],
   "source": [
    "df = pd.read_csv(f\"data/california_housing.csv\")"
   ]
  },
  {
   "cell_type": "code",
   "execution_count": 8,
   "id": "ec109e4d-df8c-4ad4-8369-5d848a039070",
   "metadata": {},
   "outputs": [],
   "source": [
    "# Function to load and preprocess data\n",
    "def load_and_preprocess_data(images_folder, image_model, problem_type, batch_size=32):\n",
    "    \n",
    "    X_train, X_val = train_test_split(df, test_size=0.20, random_state=SEED)\n",
    "    X_val, X_test = train_test_split(X_val, test_size=0.50, random_state=SEED)\n",
    "    X_train = X_train.reset_index(drop=True)\n",
    "    X_val = X_val.reset_index(drop=True)\n",
    "    X_test = X_test.reset_index(drop=True)\n",
    "    \n",
    "    ### X_train\n",
    "    # Generate the images if the folder does not exist\n",
    "    if not os.path.exists(f'{images_folder}/train'):\n",
    "        #Generate thet images\n",
    "        image_model.fit_transform(X_train, f'{images_folder}/train')\n",
    "        image_model.saveHyperparameters(f'{images_folder}'+\"/model.pkl\")\n",
    "    else:\n",
    "        print(\"The images are already generated\")\n",
    "\n",
    "    img_paths = os.path.join(f'{images_folder}/train',problem_type+\".csv\")\n",
    "\n",
    "    print(img_paths)\n",
    "    \n",
    "    imgs = pd.read_csv(img_paths)\n",
    "    \n",
    "    # Update image paths\n",
    "    imgs[\"images\"] = images_folder + \"/train/\" + imgs[\"images\"]\n",
    "\n",
    "    # Combine datasets\n",
    "    combined_dataset = pd.concat([imgs, X_train], axis=1)\n",
    "\n",
    "    # Split data\n",
    "    X_train = combined_dataset.drop(df.columns[-1], axis=1).drop(\"values\", axis=1)\n",
    "    y_train = combined_dataset[\"values\"]\n",
    "        \n",
    "    ### X_val\n",
    "    # Generate the images if the folder does not exist\n",
    "    if not os.path.exists(f'{images_folder}/val'):\n",
    "        #Generate thet images\n",
    "        image_model.transform(X_val, f'{images_folder}/val')\n",
    "    else:\n",
    "        print(\"The images are already generated\")\n",
    "\n",
    "    img_paths = os.path.join(f'{images_folder}/val',problem_type+\".csv\")\n",
    "\n",
    "    print(img_paths)\n",
    "    \n",
    "    imgs = pd.read_csv(img_paths)\n",
    "\n",
    "    # Update image paths\n",
    "    imgs[\"images\"] = images_folder + \"/val/\" + imgs[\"images\"]\n",
    "\n",
    "    # Combine datasets\n",
    "    combined_dataset = pd.concat([imgs, X_val], axis=1)\n",
    "\n",
    "    # Split data\n",
    "    X_val = combined_dataset.drop(df.columns[-1], axis=1).drop(\"values\", axis=1)\n",
    "    y_val = combined_dataset[\"values\"]\n",
    "    \n",
    "    ### X_test\n",
    "    # Generate the images if the folder does not exist\n",
    "    if not os.path.exists(f'{images_folder}/test'):\n",
    "        #Generate thet images\n",
    "        image_model.transform(X_test, f'{images_folder}/test')\n",
    "    else:\n",
    "        print(\"The images are already generated\")\n",
    "\n",
    "    img_paths = os.path.join(f'{images_folder}/test',problem_type+\".csv\")\n",
    "\n",
    "    print(img_paths)\n",
    "    \n",
    "    imgs = pd.read_csv(img_paths)\n",
    "\n",
    "    # Update image paths\n",
    "    imgs[\"images\"] = images_folder + \"/test/\" + imgs[\"images\"]\n",
    "\n",
    "    # Combine datasets\n",
    "    combined_dataset = pd.concat([imgs, X_test], axis=1)\n",
    "\n",
    "    # Split data\n",
    "    X_test = combined_dataset.drop(df.columns[-1], axis=1).drop(\"values\", axis=1)\n",
    "    y_test = combined_dataset[\"values\"]\n",
    "    \n",
    "    # Numerical data\n",
    "    X_train_num = X_train.drop(\"images\", axis=1)\n",
    "    X_val_num = X_val.drop(\"images\", axis=1)\n",
    "    X_test_num = X_test.drop(\"images\", axis=1)\n",
    "\n",
    "    # Image data\n",
    "    X_train_img = np.array([cv2.imread(img) for img in X_train[\"images\"]])\n",
    "    X_val_img = np.array([cv2.imread(img) for img in X_val[\"images\"]])\n",
    "    X_test_img = np.array([cv2.imread(img) for img in X_test[\"images\"]])\n",
    "\n",
    "    ## Create a MinMaxScaler object\n",
    "    scaler = MinMaxScaler()\n",
    "\n",
    "    ## Scale numerical data\n",
    "    X_train_num = pd.DataFrame(scaler.fit_transform(X_train_num), columns=X_train_num.columns)\n",
    "    X_val_num = pd.DataFrame(scaler.transform(X_val_num), columns=X_val_num.columns)\n",
    "    X_test_num = pd.DataFrame(scaler.transform(X_test_num), columns=X_test_num.columns)\n",
    "\n",
    "    attributes = len(X_train_num.columns)\n",
    "    height, width, channels = X_train_img[0].shape\n",
    "    imgs_shape = (channels, height, width)\n",
    "\n",
    "    print(\"Images shape: \", imgs_shape)\n",
    "    print(\"Attributes: \", attributes)\n",
    "    # Convert data to PyTorch tensors\n",
    "    X_train_num_tensor = torch.as_tensor(X_train_num.values, dtype=torch.float32)\n",
    "    X_val_num_tensor = torch.as_tensor(X_val_num.values, dtype=torch.float32)\n",
    "    X_test_num_tensor = torch.as_tensor(X_test_num.values, dtype=torch.float32)\n",
    "    X_train_img_tensor = torch.as_tensor(X_train_img, dtype=torch.float32).permute(0, 3, 1, 2)\n",
    "    X_val_img_tensor = torch.as_tensor(X_val_img, dtype=torch.float32).permute(0, 3, 1, 2)\n",
    "    X_test_img_tensor = torch.as_tensor(X_test_img, dtype=torch.float32).permute(0, 3, 1, 2)\n",
    "    y_train_tensor = torch.as_tensor(y_train.values, dtype=torch.float32).reshape(-1, 1)\n",
    "    y_val_tensor = torch.as_tensor(y_val.values, dtype=torch.float32).reshape(-1, 1)\n",
    "    y_test_tensor = torch.as_tensor(y_test.values, dtype=torch.float32).reshape(-1, 1)\n",
    "\n",
    "    # Normalize to [0, 1]\n",
    "    X_train_img_tensor = X_train_img_tensor / 255.0\n",
    "    X_val_img_tensor = X_val_img_tensor / 255.0\n",
    "    X_test_img_tensor = X_test_img_tensor / 255.0\n",
    "\n",
    "    # Create DataLoaders\n",
    "    train_dataset = TensorDataset(X_train_num_tensor, X_train_img_tensor, y_train_tensor)\n",
    "    val_dataset = TensorDataset(X_val_num_tensor, X_val_img_tensor, y_val_tensor)\n",
    "    test_dataset = TensorDataset(X_test_num_tensor, X_test_img_tensor, y_test_tensor)\n",
    "\n",
    "    train_loader = DataLoader(train_dataset, batch_size=batch_size, shuffle=True, pin_memory=True)\n",
    "    val_loader = DataLoader(val_dataset, batch_size=batch_size, shuffle=False, pin_memory=True)\n",
    "    test_loader = DataLoader(test_dataset, batch_size=batch_size, shuffle=False, pin_memory=True)\n",
    "\n",
    "    return train_loader, val_loader, test_loader, attributes, imgs_shape \n"
   ]
  },
  {
   "cell_type": "code",
   "execution_count": 9,
   "id": "c7c7dc17-6918-4f8e-a7c8-264a6b44e158",
   "metadata": {},
   "outputs": [
    {
     "name": "stdout",
     "output_type": "stream",
     "text": [
      "3\n"
     ]
    }
   ],
   "source": [
    "batch_size = 32\n",
    "# Get the shape of the dataframe\n",
    "num_columns = df.shape[1]\n",
    "\n",
    "# Calculate number of columns - 1\n",
    "columns_minus_one = num_columns - 1\n",
    "\n",
    "# Calculate the square root for image size\n",
    "import math\n",
    "image_size = math.ceil(math.sqrt(columns_minus_one))\n",
    "print(image_size)"
   ]
  },
  {
   "cell_type": "code",
   "execution_count": 10,
   "id": "08ff0c69-2146-490c-9c76-488701951845",
   "metadata": {},
   "outputs": [],
   "source": [
    "from TINTOlib.igtd import IGTD\n",
    "dataset_name = 'california_housing'\n",
    "#Select the model and the parameters\n",
    "problem_type = \"regression\"\n",
    "image_model = IGTD(problem= problem_type, scale=[image_size,image_size], fea_dist_method='Euclidean', image_dist_method='Euclidean', error='abs', max_step=30000, val_step=300, random_seed=SEED)\n",
    "\n",
    "name = f\"IGTD_{image_size}x{image_size}_fEuclidean_iEuclidean_abs\"\n",
    "\n",
    "#Define the dataset path and the folder where the images will be saved\n",
    "images_folder = f\"HyNNImages/Regression/{dataset_name}/images_{dataset_name}_{name}\""
   ]
  },
  {
   "cell_type": "code",
   "execution_count": 11,
   "id": "64588af5-817c-45b2-873b-e68ca7eb731c",
   "metadata": {},
   "outputs": [
    {
     "name": "stdout",
     "output_type": "stream",
     "text": [
      "The images are already generated\n",
      "HyNNImages/Regression/california_housing/images_california_housing_IGTD_3x3_fEuclidean_iEuclidean_abs/train\\regression.csv\n",
      "The images are already generated\n",
      "HyNNImages/Regression/california_housing/images_california_housing_IGTD_3x3_fEuclidean_iEuclidean_abs/val\\regression.csv\n",
      "The images are already generated\n",
      "HyNNImages/Regression/california_housing/images_california_housing_IGTD_3x3_fEuclidean_iEuclidean_abs/test\\regression.csv\n",
      "Images shape:  (3, 3, 3)\n",
      "Attributes:  8\n"
     ]
    }
   ],
   "source": [
    "train_loader, val_loader, test_loader, attributes, imgs_shape  = load_and_preprocess_data(images_folder, image_model, problem_type, batch_size=batch_size)"
   ]
  },
  {
   "cell_type": "code",
   "execution_count": 25,
   "id": "9ed9ee49-4805-494c-92de-f0242b430924",
   "metadata": {},
   "outputs": [],
   "source": [
    "import torch.nn.functional as F\n",
    "\n",
    "class Model5(nn.Module):\n",
    "    def __init__(self, attributes, imgs_shape, device):\n",
    "        super(Model5, self).__init__()\n",
    "\n",
    "        # Calculate the size of the flattened CNN output\n",
    "        self.cnn_output_size = 16 * (imgs_shape[1] - 1) * (imgs_shape[2] - 1)\n",
    "        \n",
    "        # CNN branch\n",
    "        self.cnn_branch = nn.Sequential(\n",
    "            nn.Conv2d(imgs_shape[0], 16, kernel_size=2),\n",
    "            nn.BatchNorm2d(16),\n",
    "            #nn.ReLU(),\n",
    "            nn.Sigmoid(),  # This squashes the output to [0, 1]\n",
    "            nn.Flatten()\n",
    "            #nn.LayerNorm(self.cnn_output_size),  # Normalize the flattened features\n",
    "            #nn.Sigmoid()  # This squashes the output to [0, 1]\n",
    "        ).to(device)\n",
    "\n",
    "        # Final MLP layers\n",
    "        self.m_kan = KAN(\n",
    "            width=[self.cnn_output_size + attributes, 12, 1],\n",
    "            grid=8,\n",
    "            k=3,\n",
    "            seed=SEED,\n",
    "            device=device\n",
    "        )\n",
    "\n",
    "        self.device = device\n",
    "\n",
    "    def get_concat_output(self, mlp_input, cnn_input):\n",
    "        kan_input = mlp_input.to(self.device)\n",
    "        cnn_input = cnn_input.to(self.device)\n",
    "        \n",
    "        cnn_output = self.cnn_branch(cnn_input)  # Process image input\n",
    "        #cnn_output = F.normalize(cnn_output, p=2, dim=1)  # L2 normalize along the feature dimension\n",
    "        return torch.cat((kan_input, cnn_output), dim=1)\n",
    "    \n",
    "    def forward(self, mlp_input, cnn_input):\n",
    "        concat_output = self.get_concat_output(mlp_input, cnn_input)\n",
    "        return self.m_kan(concat_output) "
   ]
  },
  {
   "cell_type": "code",
   "execution_count": 13,
   "id": "e8f143cf-d658-4e72-867c-0a3de2466859",
   "metadata": {},
   "outputs": [],
   "source": [
    "import traceback\n",
    "\n",
    "def try_create_model(model_class, attributes, imgs_shape, device):\n",
    "    try:\n",
    "        model = model_class(attributes, imgs_shape, device)\n",
    "        \n",
    "        # Test the model with a sample input\n",
    "        num_input = torch.randn(4, attributes)\n",
    "        img_input = torch.randn(4, *imgs_shape)\n",
    "        output = model(num_input, img_input)\n",
    "        \n",
    "        print(f\"Successfully created and tested {model_class.__name__}\")\n",
    "        \n",
    "        return model\n",
    "    except Exception as e:\n",
    "        print(f\"Error creating or testing {model_class.__name__}:\")\n",
    "        traceback.print_exc()\n",
    "        return None"
   ]
  },
  {
   "cell_type": "code",
   "execution_count": 14,
   "id": "24a1de26-ffbc-4dec-8c8c-1f5dce427081",
   "metadata": {},
   "outputs": [],
   "source": [
    "def combine_loader(loader):\n",
    "    \"\"\"\n",
    "    Combines all batches from a DataLoader into three tensors.\n",
    "    Assumes each batch is a tuple: (mlp_tensor, img_tensor, target_tensor)\n",
    "    \"\"\"\n",
    "    mlp_list, img_list, target_list = [], [], []\n",
    "    for mlp, img, target in loader:\n",
    "        mlp_list.append(mlp)\n",
    "        img_list.append(img)\n",
    "        target_list.append(target)\n",
    "    return torch.cat(mlp_list, dim=0), torch.cat(img_list, dim=0), torch.cat(target_list, dim=0)"
   ]
  },
  {
   "cell_type": "code",
   "execution_count": 15,
   "id": "e7fd4f35-dea2-49c4-8086-49b974f7968e",
   "metadata": {},
   "outputs": [],
   "source": [
    "import os\n",
    "import time\n",
    "import copy\n",
    "import numpy as np\n",
    "import torch\n",
    "import torch.optim as optim\n",
    "from torch.optim import LBFGS\n",
    "from tqdm import tqdm\n",
    "import matplotlib.pyplot as plt\n",
    "\n",
    "def fit_hybrid_dataloaders(model, \n",
    "                           dataset,\n",
    "                           opt=\"Adam\", \n",
    "                           steps=100, \n",
    "                           log=1, \n",
    "                           lamb=0., \n",
    "                           lamb_l1=1., \n",
    "                           lamb_entropy=2., \n",
    "                           lamb_coef=0., \n",
    "                           lamb_coefdiff=0., \n",
    "                           update_grid=True, \n",
    "                           grid_update_num=10, \n",
    "                           loss_fn=None, \n",
    "                           lr=1., \n",
    "                           start_grid_update_step=-1, \n",
    "                           stop_grid_update_step=50, \n",
    "                           batch=-1,\n",
    "                           metrics=None, \n",
    "                           save_fig=False, \n",
    "                           in_vars=None, \n",
    "                           out_vars=None, \n",
    "                           beta=3, \n",
    "                           save_fig_freq=1, \n",
    "                           img_folder='./video', \n",
    "                           singularity_avoiding=False, \n",
    "                           y_th=1000., \n",
    "                           reg_metric='edge_forward_spline_n', \n",
    "                           display_metrics=None):\n",
    "    \"\"\"\n",
    "    Trains the hybrid model (with a KAN branch and a CNN branch) using a steps-based loop\n",
    "    adapted from KAN.fit(), with grid updates and regularization.\n",
    "    \n",
    "    Instead of a single dataset dict, this function accepts three DataLoaders:\n",
    "        - train_loader: provides (mlp, img, target) for training\n",
    "        - val_loader: provides (mlp, img, target) for validation\n",
    "        - test_loader: provides (mlp, img, target) for evaluation during training\n",
    "\n",
    "    Internally, the function combines each loader into a dataset dictionary.\n",
    "    \n",
    "    Returns:\n",
    "        results: dictionary containing training loss, evaluation loss, regularization values,\n",
    "                 and any additional metrics recorded during training.\n",
    "    \"\"\"\n",
    "    #device = next(model.parameters()).device\n",
    "\n",
    "    # Warn if regularization is requested but model's internal flag isn't enabled.\n",
    "    if lamb > 0. and not getattr(model.m_kan, \"save_act\", False):\n",
    "        print(\"setting lamb=0. If you want to set lamb > 0, set model.m_kan.save_act=True\")\n",
    "    \n",
    "    # Disable symbolic processing for training if applicable (KAN internal logic)\n",
    "    if hasattr(model.m_kan, \"disable_symbolic_in_fit\"):\n",
    "        old_save_act, old_symbolic_enabled = model.m_kan.disable_symbolic_in_fit(lamb)\n",
    "    else:\n",
    "        old_save_act, old_symbolic_enabled = None, None\n",
    "\n",
    "    pbar = tqdm(range(steps), desc='Training', ncols=100)\n",
    "\n",
    "    # Default loss function (mean squared error) if not provided\n",
    "    if loss_fn is None:\n",
    "        loss_fn = lambda x, y: torch.mean((x - y) ** 2)\n",
    "\n",
    "    # Determine grid update frequency\n",
    "    grid_update_freq = int(stop_grid_update_step / grid_update_num) if grid_update_num > 0 else 1\n",
    "\n",
    "    # Determine total number of training examples\n",
    "    n_train = dataset[\"train_mlp\"].shape[0]\n",
    "    n_eval  = dataset[\"test_mlp\"].shape[0]  # using test set for evaluation during training\n",
    "    batch_size = n_train if batch == -1 or batch > n_train else batch\n",
    "\n",
    "    # Set up optimizer: choose between Adam and LBFGS (removed tolerance_ys)\n",
    "    if opt == \"Adam\":\n",
    "        optimizer = optim.Adam(model.parameters(), lr=lr)\n",
    "    elif opt == \"LBFGS\":\n",
    "        optimizer = LBFGS(model.parameters(), lr=lr, history_size=10, \n",
    "                          line_search_fn=\"strong_wolfe\", \n",
    "                          tolerance_grad=1e-32, \n",
    "                          tolerance_change=1e-32)\n",
    "    else:\n",
    "        raise ValueError(\"Optimizer not recognized. Use 'Adam' or 'LBFGS'.\")\n",
    "\n",
    "    # Prepare results dictionary.\n",
    "    results = {\n",
    "        'train_loss': [],\n",
    "        'eval_loss': [],\n",
    "        'val_loss': [],\n",
    "        'reg': []\n",
    "    }\n",
    "\n",
    "    \n",
    "    if metrics is not None:\n",
    "        for metric in metrics:\n",
    "            results[metric.__name__] = []\n",
    "\n",
    "    for step in pbar:\n",
    "        # Randomly sample indices for a mini-batch from the training set.\n",
    "        train_indices = np.random.choice(n_train, batch_size, replace=False)\n",
    "        # Use full evaluation set for evaluation; you can also sample if desired.\n",
    "        eval_indices = np.arange(n_eval)\n",
    "\n",
    "        # Closure for LBFGS\n",
    "        def closure():\n",
    "            optimizer.zero_grad()\n",
    "            mlp_batch = dataset[\"train_mlp\"][train_indices]\n",
    "            img_batch = dataset[\"train_img\"][train_indices]\n",
    "            target_batch = dataset[\"train_target\"][train_indices]\n",
    "            outputs = model(mlp_batch, img_batch)\n",
    "            train_loss = loss_fn(outputs, target_batch)\n",
    "            # Compute regularization term if enabled.\n",
    "            if hasattr(model.m_kan, \"save_act\") and model.m_kan.save_act:\n",
    "                if reg_metric == 'edge_backward':\n",
    "                    model.m_kan.attribute()\n",
    "                    #model.final_kan.attribute()\n",
    "                if reg_metric == 'node_backward':\n",
    "                    model.m_kan.node_attribute()\n",
    "                    #model.final_kan.node_attribute()\n",
    "                reg_val_inner = model.m_kan.get_reg(reg_metric, lamb_l1, lamb_entropy, lamb_coef, lamb_coefdiff)\n",
    "            else:\n",
    "                reg_val_inner = torch.tensor(0., device=device)\n",
    "            loss_val_inner = train_loss + lamb * reg_val_inner\n",
    "            loss_val_inner.backward()\n",
    "            return loss_val_inner\n",
    "\n",
    "        # Perform grid update if applicable.\n",
    "        if (step % grid_update_freq == 0 and step < stop_grid_update_step \n",
    "            and update_grid and step >= start_grid_update_step):\n",
    "            mlp_batch = dataset['train_mlp'][train_indices]\n",
    "            cnn_batch = dataset['train_img'][train_indices]\n",
    "            #cnn_output = model.cnn_branch(cnn_batch)  # Process image input\n",
    "            concatenated  = model.get_concat_output(mlp_batch, cnn_batch)\n",
    "            #concatenated = torch.cat((mlp_batch, cnn_output), dim=1)\n",
    "            model.m_kan.update_grid(concatenated)\n",
    "\n",
    "        # Perform an optimizer step.\n",
    "        if opt == \"LBFGS\":\n",
    "            optimizer.step(closure)\n",
    "            loss_val = closure()  # re-evaluate to record loss\n",
    "            # Compute reg_val separately for logging\n",
    "            with torch.no_grad():\n",
    "                mlp_batch = dataset[\"train_mlp\"][train_indices]\n",
    "                img_batch = dataset[\"train_img\"][train_indices]\n",
    "                target_batch = dataset[\"train_target\"][train_indices]\n",
    "                outputs = model(mlp_batch, img_batch)\n",
    "                train_loss = loss_fn(outputs, target_batch)\n",
    "                if hasattr(model.m_kan, \"save_act\") and model.m_kan.save_act:\n",
    "                    if reg_metric == 'edge_backward':\n",
    "                        model.m_kan.attribute()\n",
    "                        #model.final_kan.attribute()\n",
    "                    if reg_metric == 'node_backward':\n",
    "                        model.m_kan.node_attribute()\n",
    "                        #model.final_kan.node_attribute()\n",
    "                    reg_val = model.m_kan.get_reg(reg_metric, lamb_l1, lamb_entropy, lamb_coef, lamb_coefdiff)\n",
    "                    #reg_val = (reg_val + model.final_kan.get_reg(reg_metric, lamb_l1, lamb_entropy, lamb_coef, lamb_coefdiff))/2\n",
    "                else:\n",
    "                    reg_val = torch.tensor(0., device=device)\n",
    "        else:  # Adam branch\n",
    "            optimizer.zero_grad()\n",
    "            mlp_batch = dataset[\"train_mlp\"][train_indices]\n",
    "            img_batch = dataset[\"train_img\"][train_indices]\n",
    "            target_batch = dataset[\"train_target\"][train_indices]\n",
    "            outputs = model(mlp_batch, img_batch)\n",
    "            train_loss = loss_fn(outputs, target_batch)\n",
    "            if hasattr(model.m_kan, \"save_act\") and model.m_kan.save_act:\n",
    "                if reg_metric == 'edge_backward':\n",
    "                    model.m_kan.attribute()\n",
    "                    #model.final_kan.attribute()\n",
    "                if reg_metric == 'node_backward':\n",
    "                    model.m_kan.node_attribute()\n",
    "                    #model.final_kan.node_attribute()\n",
    "                reg_val = model.m_kan.get_reg(reg_metric, lamb_l1, lamb_entropy, lamb_coef, lamb_coefdiff)\n",
    "                #reg_val = (reg_val + model.final_kan.get_reg(reg_metric, lamb_l1, lamb_entropy, lamb_coef, lamb_coefdiff))/2\n",
    "            else:\n",
    "                reg_val = torch.tensor(0., device=device)\n",
    "            loss_val = train_loss + lamb * reg_val\n",
    "            loss_val.backward()\n",
    "            optimizer.step()\n",
    "\n",
    "        # Evaluate on the entire evaluation set (from test_loader)\n",
    "        mlp_eval = dataset[\"test_mlp\"][eval_indices]\n",
    "        img_eval = dataset[\"test_img\"][eval_indices]\n",
    "        target_eval = dataset[\"test_target\"][eval_indices]\n",
    "        eval_loss = loss_fn(model(mlp_eval, img_eval), target_eval)\n",
    "\n",
    "        # Record results (using square-root of loss similar to KAN.fit)\n",
    "        results['train_loss'].append(torch.sqrt(loss_val.detach()).item())\n",
    "        results['eval_loss'].append(torch.sqrt(eval_loss.detach()).item())\n",
    "        results['reg'].append(reg_val.detach().item())\n",
    "\n",
    "        # New: Compute validation loss if validation data exists in the dataset.\n",
    "        # val_loss = loss_fn(model(dataset['val_mlp'][eval_indices], dataset['val_img'][eval_indices]), dataset['val_target'][eval_indices])\n",
    "        # results['val_loss'].append(torch.sqrt(val_loss).cpu().detach().numpy())\n",
    "\n",
    "        if metrics is not None:\n",
    "            for metric in metrics:\n",
    "                # Here, we assume each metric returns a tensor.\n",
    "                results[metric.__name__].append(metric().item())\n",
    "\n",
    "        # Update progress bar.\n",
    "        if display_metrics is None:\n",
    "            pbar.set_description(\"| train_loss: %.2e | eval_loss: %.2e | reg: %.2e |\" %\n",
    "                                 (torch.sqrt(loss_val.detach()).item(),\n",
    "                                  torch.sqrt(eval_loss.detach()).item(),\n",
    "                                  reg_val.detach().item()))\n",
    "        else:\n",
    "            desc = \"\"\n",
    "            data = []\n",
    "            for metric in display_metrics:\n",
    "                desc += f\" {metric}: %.2e |\"\n",
    "                data.append(results[metric.__name__][-1])\n",
    "            pbar.set_description(desc % tuple(data))\n",
    "\n",
    "        # Optionally save a figure snapshot.\n",
    "        if save_fig and step % save_fig_freq == 0:\n",
    "            save_act_backup = getattr(model.m_kan, \"save_act\", False)\n",
    "            model.m_kan.save_act = True\n",
    "            model.plot(folder=img_folder, in_vars=in_vars, out_vars=out_vars, title=f\"Step {step}\", beta=beta)\n",
    "            plt.savefig(os.path.join(img_folder, f\"{step}.jpg\"), bbox_inches='tight', dpi=200)\n",
    "            plt.close()\n",
    "            model.m_kan.save_act = save_act_backup\n",
    "\n",
    "    # Restore original settings if applicable.\n",
    "    if old_symbolic_enabled is not None:\n",
    "        model.m_kan.symbolic_enabled = old_symbolic_enabled\n",
    "    if hasattr(model.m_kan, \"log_history\"):\n",
    "        model.m_kan.log_history('fit')\n",
    "\n",
    "    return results\n"
   ]
  },
  {
   "cell_type": "code",
   "execution_count": 16,
   "id": "5a14d0dd-897d-4186-b152-bf1eceed39c5",
   "metadata": {},
   "outputs": [],
   "source": [
    "# Combine dataloaders into tensors.\n",
    "train_mlp, train_img, train_target = combine_loader(train_loader)\n",
    "val_mlp, val_img, val_target = combine_loader(val_loader)\n",
    "test_mlp, test_img, test_target = combine_loader(test_loader)\n",
    "\n",
    "dataset = {\n",
    "    \"train_mlp\": train_mlp.to(device),\n",
    "    \"train_img\": train_img.to(device),\n",
    "    \"train_target\": train_target.to(device),\n",
    "    \"val_mlp\": val_mlp.to(device),\n",
    "    \"val_img\": val_img.to(device),\n",
    "    \"val_target\": val_target.to(device),\n",
    "    \"test_mlp\": test_mlp.to(device),\n",
    "    \"test_img\": test_img.to(device),\n",
    "    \"test_target\": test_target.to(device),\n",
    "}"
   ]
  },
  {
   "cell_type": "code",
   "execution_count": 26,
   "id": "4a51659b-8dec-43ea-9138-fc796f51f478",
   "metadata": {},
   "outputs": [
    {
     "name": "stdout",
     "output_type": "stream",
     "text": [
      "checkpoint directory created: ./model\n",
      "saving model version 0.0\n",
      "Successfully created and tested Model5\n"
     ]
    },
    {
     "name": "stderr",
     "output_type": "stream",
     "text": [
      "| train_loss: 4.60e+01 | eval_loss: 4.28e+02 | reg: 0.00e+00 |: 100%|█| 2/2 [00:01<00:00,  1.94it/s]\n"
     ]
    },
    {
     "name": "stdout",
     "output_type": "stream",
     "text": [
      "saving model version 0.1\n"
     ]
    }
   ],
   "source": [
    "model5 = try_create_model(Model5, attributes, imgs_shape, device)\n",
    "metrics5 = fit_hybrid_dataloaders(model5, dataset, opt=\"Adam\", steps=2, update_grid=True)"
   ]
  },
  {
   "cell_type": "code",
   "execution_count": 28,
   "id": "315062c8-a24a-4a48-b1c0-e9a3d924627b",
   "metadata": {},
   "outputs": [
    {
     "name": "stdout",
     "output_type": "stream",
     "text": [
      "checkpoint directory created: ./model\n",
      "saving model version 0.0\n",
      "Successfully created and tested Model5\n"
     ]
    },
    {
     "name": "stderr",
     "output_type": "stream",
     "text": [
      "| train_loss: 4.33e-01 | eval_loss: 5.20e-01 | reg: 0.00e+00 |: 100%|█| 60/60 [02:22<00:00,  2.37s/i\n"
     ]
    },
    {
     "name": "stdout",
     "output_type": "stream",
     "text": [
      "saving model version 0.1\n"
     ]
    }
   ],
   "source": [
    "model5 = try_create_model(Model5, attributes, imgs_shape, device)\n",
    "metrics5 = fit_hybrid_dataloaders(model5, dataset, opt=\"LBFGS\", steps=60, update_grid=True)"
   ]
  },
  {
   "cell_type": "code",
   "execution_count": 30,
   "id": "a1f092a9-63ca-4ce5-a2bd-8e0d81ce0f6d",
   "metadata": {},
   "outputs": [
    {
     "data": {
      "image/png": "[encoded data removed]",
      "text/plain": [
       "<Figure size 640x480 with 1 Axes>"
      ]
     },
     "metadata": {},
     "output_type": "display_data"
    }
   ],
   "source": [
    "plt.plot(metrics5['train_loss'])\n",
    "plt.plot(metrics5['eval_loss'])\n",
    "plt.legend(['train', 'test'])\n",
    "plt.ylabel('RMSE')\n",
    "plt.xlabel('step')\n",
    "plt.yscale('log')"
   ]
  },
  {
   "cell_type": "code",
   "execution_count": 59,
   "id": "10571380-2064-4663-9ca8-1f69c5617b39",
   "metadata": {},
   "outputs": [],
   "source": [
    "import os\n",
    "import time\n",
    "import copy\n",
    "import numpy as np\n",
    "import torch\n",
    "import torch.optim as optim\n",
    "from torch.optim import LBFGS\n",
    "from tqdm import tqdm\n",
    "import matplotlib.pyplot as plt\n",
    "\n",
    "def fit_hybrid_dataloaders2(model, \n",
    "                           dataset,\n",
    "                           opt=\"Adam\", \n",
    "                           steps=100, \n",
    "                           log=1, \n",
    "                           lamb=0., \n",
    "                           lamb_l1=1., \n",
    "                           lamb_entropy=2., \n",
    "                           lamb_coef=0., \n",
    "                           lamb_coefdiff=0., \n",
    "                           update_grid=True, \n",
    "                           grid_update_num=10, \n",
    "                           loss_fn=None, \n",
    "                           lr=1., \n",
    "                           start_grid_update_step=-1, \n",
    "                           stop_grid_update_step=50, \n",
    "                           batch=-1,\n",
    "                           metrics=None, \n",
    "                           save_fig=False, \n",
    "                           in_vars=None, \n",
    "                           out_vars=None, \n",
    "                           beta=3, \n",
    "                           save_fig_freq=1, \n",
    "                           img_folder='./video', \n",
    "                           singularity_avoiding=False, \n",
    "                           y_th=1000., \n",
    "                           reg_metric='edge_forward_spline_n', \n",
    "                           display_metrics=None):\n",
    "    \"\"\"\n",
    "    Trains the hybrid model (with a KAN branch and a CNN branch) using a steps-based loop\n",
    "    adapted from KAN.fit(), with grid updates and regularization.\n",
    "    \n",
    "    Instead of a single dataset dict, this function accepts three DataLoaders:\n",
    "        - train_loader: provides (mlp, img, target) for training\n",
    "        - val_loader: provides (mlp, img, target) for validation\n",
    "        - test_loader: provides (mlp, img, target) for evaluation during training\n",
    "\n",
    "    Internally, the function combines each loader into a dataset dictionary.\n",
    "    \n",
    "    Returns:\n",
    "        results: dictionary containing training loss, evaluation loss, regularization values,\n",
    "                 and any additional metrics recorded during training.\n",
    "    \"\"\"\n",
    "    #device = next(model.parameters()).device\n",
    "\n",
    "    # Warn if regularization is requested but model's internal flag isn't enabled.\n",
    "    if lamb > 0. and not getattr(model.m_kan, \"save_act\", False):\n",
    "        print(\"setting lamb=0. If you want to set lamb > 0, set model.m_kan.save_act=True\")\n",
    "    \n",
    "    # Disable symbolic processing for training if applicable (KAN internal logic)\n",
    "    if hasattr(model.m_kan, \"disable_symbolic_in_fit\"):\n",
    "        old_save_act, old_symbolic_enabled = model.m_kan.disable_symbolic_in_fit(lamb)\n",
    "        f_old_save_act, f_old_symbolic_enabled = model.final_kan.disable_symbolic_in_fit(lamb)\n",
    "    else:\n",
    "        old_save_act, old_symbolic_enabled = None, None\n",
    "\n",
    "    pbar = tqdm(range(steps), desc='Training', ncols=100)\n",
    "\n",
    "    # Default loss function (mean squared error) if not provided\n",
    "    if loss_fn is None:\n",
    "        loss_fn = lambda x, y: torch.mean((x - y) ** 2)\n",
    "\n",
    "    # Determine grid update frequency\n",
    "    grid_update_freq = int(stop_grid_update_step / grid_update_num) if grid_update_num > 0 else 1\n",
    "\n",
    "    # Determine total number of training examples\n",
    "    n_train = dataset[\"train_mlp\"].shape[0]\n",
    "    n_eval  = dataset[\"test_mlp\"].shape[0]  # using test set for evaluation during training\n",
    "    batch_size = n_train if batch == -1 or batch > n_train else batch\n",
    "\n",
    "    # Set up optimizer: choose between Adam and LBFGS (removed tolerance_ys)\n",
    "    if opt == \"Adam\":\n",
    "        optimizer = optim.Adam(model.parameters(), lr=lr)\n",
    "    elif opt == \"LBFGS\":\n",
    "        optimizer = LBFGS(model.parameters(), lr=lr, history_size=10, \n",
    "                          line_search_fn=\"strong_wolfe\", \n",
    "                          tolerance_grad=1e-32, \n",
    "                          tolerance_change=1e-32)\n",
    "    else:\n",
    "        raise ValueError(\"Optimizer not recognized. Use 'Adam' or 'LBFGS'.\")\n",
    "\n",
    "    # Prepare results dictionary.\n",
    "    results = {\n",
    "        'train_loss': [],\n",
    "        'eval_loss': [],\n",
    "        'val_loss': [],\n",
    "        'reg': []\n",
    "    }\n",
    "\n",
    "    \n",
    "    if metrics is not None:\n",
    "        for metric in metrics:\n",
    "            results[metric.__name__] = []\n",
    "\n",
    "    for step in pbar:\n",
    "        # Randomly sample indices for a mini-batch from the training set.\n",
    "        train_indices = np.random.choice(n_train, batch_size, replace=False)\n",
    "        # Use full evaluation set for evaluation; you can also sample if desired.\n",
    "        eval_indices = np.arange(n_eval)\n",
    "\n",
    "        # Closure for LBFGS\n",
    "        def closure():\n",
    "            optimizer.zero_grad()\n",
    "            mlp_batch = dataset[\"train_mlp\"][train_indices]\n",
    "            img_batch = dataset[\"train_img\"][train_indices]\n",
    "            target_batch = dataset[\"train_target\"][train_indices]\n",
    "            outputs = model(mlp_batch, img_batch)\n",
    "            train_loss = loss_fn(outputs, target_batch)\n",
    "            # Compute regularization term if enabled.\n",
    "            if hasattr(model.m_kan, \"save_act\") and model.m_kan.save_act:\n",
    "                if reg_metric == 'edge_backward':\n",
    "                    model.m_kan.attribute()\n",
    "                    model.final_kan.attribute()\n",
    "                if reg_metric == 'node_backward':\n",
    "                    model.m_kan.node_attribute()\n",
    "                    model.final_kan.node_attribute()\n",
    "                reg_val_inner = model.m_kan.get_reg(reg_metric, lamb_l1, lamb_entropy, lamb_coef, lamb_coefdiff)\n",
    "                \n",
    "                #reg_val_inner = (reg_val_inner + model.final_kan.get_reg(reg_metric, lamb_l1, lamb_entropy, lamb_coef, lamb_coefdiff))/2\n",
    "            else:\n",
    "                reg_val_inner = torch.tensor(0., device=device)\n",
    "            loss_val_inner = train_loss + lamb * reg_val_inner\n",
    "            loss_val_inner.backward()\n",
    "            return loss_val_inner\n",
    "\n",
    "        # Perform grid update if applicable.\n",
    "        if (step % grid_update_freq == 0 and step < stop_grid_update_step \n",
    "            and update_grid and step >= start_grid_update_step):\n",
    "            \n",
    "            mlp_batch = dataset['train_mlp'][train_indices]\n",
    "            cnn_batch = dataset['train_img'][train_indices]\n",
    "            \n",
    "            model.m_kan.update_grid(mlp_batch)\n",
    "            #cnn_output = model.cnn_branch(cnn_batch)  # Process image input\n",
    "            concatenated  = model.get_concat_output(mlp_batch, cnn_batch)\n",
    "            #concatenated = torch.cat((mlp_batch, cnn_output), dim=1)\n",
    "            model.final_kan.update_grid(concatenated)\n",
    "\n",
    "        # Perform an optimizer step.\n",
    "        if opt == \"LBFGS\":\n",
    "            optimizer.step(closure)\n",
    "            loss_val = closure()  # re-evaluate to record loss\n",
    "            # Compute reg_val separately for logging\n",
    "            with torch.no_grad():\n",
    "                mlp_batch = dataset[\"train_mlp\"][train_indices]\n",
    "                img_batch = dataset[\"train_img\"][train_indices]\n",
    "                target_batch = dataset[\"train_target\"][train_indices]\n",
    "                outputs = model(mlp_batch, img_batch)\n",
    "                train_loss = loss_fn(outputs, target_batch)\n",
    "                if hasattr(model.m_kan, \"save_act\") and model.m_kan.save_act:\n",
    "                    if reg_metric == 'edge_backward':\n",
    "                        model.m_kan.attribute()\n",
    "                        model.final_kan.attribute()\n",
    "                    if reg_metric == 'node_backward':\n",
    "                        model.m_kan.node_attribute()\n",
    "                        model.final_kan.node_attribute()\n",
    "                    reg_val = model.m_kan.get_reg(reg_metric, lamb_l1, lamb_entropy, lamb_coef, lamb_coefdiff)\n",
    "                    #reg_val = (reg_val + model.final_kan.get_reg(reg_metric, lamb_l1, lamb_entropy, lamb_coef, lamb_coefdiff))/2\n",
    "                else:\n",
    "                    reg_val = torch.tensor(0., device=device)\n",
    "        else:  # Adam branch\n",
    "            optimizer.zero_grad()\n",
    "            mlp_batch = dataset[\"train_mlp\"][train_indices]\n",
    "            img_batch = dataset[\"train_img\"][train_indices]\n",
    "            target_batch = dataset[\"train_target\"][train_indices]\n",
    "            outputs = model(mlp_batch, img_batch)\n",
    "            train_loss = loss_fn(outputs, target_batch)\n",
    "            if hasattr(model.m_kan, \"save_act\") and model.m_kan.save_act:\n",
    "                if reg_metric == 'edge_backward':\n",
    "                    model.m_kan.attribute()\n",
    "                    model.final_kan.attribute()\n",
    "                if reg_metric == 'node_backward':\n",
    "                    model.m_kan.node_attribute()\n",
    "                    model.final_kan.node_attribute()\n",
    "                reg_val = model.m_kan.get_reg(reg_metric, lamb_l1, lamb_entropy, lamb_coef, lamb_coefdiff)\n",
    "                #reg_val = (reg_val + model.final_kan.get_reg(reg_metric, lamb_l1, lamb_entropy, lamb_coef, lamb_coefdiff))/2\n",
    "            else:\n",
    "                reg_val = torch.tensor(0., device=device)\n",
    "            loss_val = train_loss + lamb * reg_val\n",
    "            loss_val.backward()\n",
    "            optimizer.step()\n",
    "\n",
    "        # Evaluate on the entire evaluation set (from test_loader)\n",
    "        mlp_eval = dataset[\"test_mlp\"][eval_indices]\n",
    "        img_eval = dataset[\"test_img\"][eval_indices]\n",
    "        target_eval = dataset[\"test_target\"][eval_indices]\n",
    "        eval_loss = loss_fn(model(mlp_eval, img_eval), target_eval)\n",
    "\n",
    "        # Record results (using square-root of loss similar to KAN.fit)\n",
    "        results['train_loss'].append(torch.sqrt(loss_val.detach()).item())\n",
    "        results['eval_loss'].append(torch.sqrt(eval_loss.detach()).item())\n",
    "        results['reg'].append(reg_val.detach().item())\n",
    "\n",
    "        # New: Compute validation loss if validation data exists in the dataset.\n",
    "        # val_loss = loss_fn(model(dataset['val_mlp'][eval_indices], dataset['val_img'][eval_indices]), dataset['val_target'][eval_indices])\n",
    "        # results['val_loss'].append(torch.sqrt(val_loss).cpu().detach().numpy())\n",
    "\n",
    "        if metrics is not None:\n",
    "            for metric in metrics:\n",
    "                # Here, we assume each metric returns a tensor.\n",
    "                results[metric.__name__].append(metric().item())\n",
    "\n",
    "        # Update progress bar.\n",
    "        if display_metrics is None:\n",
    "            pbar.set_description(\"| train_loss: %.2e | eval_loss: %.2e | reg: %.2e |\" %\n",
    "                                 (torch.sqrt(loss_val.detach()).item(),\n",
    "                                  torch.sqrt(eval_loss.detach()).item(),\n",
    "                                  reg_val.detach().item()))\n",
    "        else:\n",
    "            desc = \"\"\n",
    "            data = []\n",
    "            for metric in display_metrics:\n",
    "                desc += f\" {metric}: %.2e |\"\n",
    "                data.append(results[metric.__name__][-1])\n",
    "            pbar.set_description(desc % tuple(data))\n",
    "\n",
    "        # Optionally save a figure snapshot.\n",
    "        if save_fig and step % save_fig_freq == 0:\n",
    "            save_act_backup = getattr(model.m_kan, \"save_act\", False)\n",
    "            model.m_kan.save_act = True\n",
    "            model.plot(folder=img_folder, in_vars=in_vars, out_vars=out_vars, title=f\"Step {step}\", beta=beta)\n",
    "            plt.savefig(os.path.join(img_folder, f\"{step}.jpg\"), bbox_inches='tight', dpi=200)\n",
    "            plt.close()\n",
    "            model.m_kan.save_act = save_act_backup\n",
    "\n",
    "    # Restore original settings if applicable.\n",
    "    if old_symbolic_enabled is not None:\n",
    "        model.m_kan.symbolic_enabled = old_symbolic_enabled\n",
    "    if hasattr(model.m_kan, \"log_history\"):\n",
    "        model.m_kan.log_history('fit')\n",
    "\n",
    "    return results\n"
   ]
  },
  {
   "cell_type": "code",
   "execution_count": 34,
   "id": "0c01ede1-48b5-4316-baa8-5202aec49376",
   "metadata": {},
   "outputs": [],
   "source": [
    "class Model3(nn.Module):\n",
    "    def __init__(self, attributes, imgs_shape, device):\n",
    "        super(Model3, self).__init__()\n",
    "        # CNN branch\n",
    "        self.cnn_branch = nn.Sequential(\n",
    "            nn.Conv2d(imgs_shape[0], 16, kernel_size=2),\n",
    "            nn.BatchNorm2d(16),\n",
    "            nn.Sigmoid(),\n",
    "            nn.Flatten()\n",
    "        ).to(device)\n",
    "\n",
    "        # Final KAN layers\n",
    "        self.m_kan = KAN(\n",
    "            width=[attributes, 12],\n",
    "            grid=8,\n",
    "            k=3,\n",
    "            seed=SEED,\n",
    "            device=device\n",
    "        )\n",
    "\n",
    "        # Calculate the size of the flattened CNN output\n",
    "        self.cnn_output_size = 16 * (imgs_shape[1] - 1) * (imgs_shape[2] - 1)\n",
    "\n",
    "        # Final MLP layers\n",
    "        self.final_kan = KAN(\n",
    "            width=[self.cnn_output_size + 12, 1],\n",
    "            grid=8,\n",
    "            k=3,\n",
    "            seed=SEED,\n",
    "            device=device\n",
    "        )\n",
    "\n",
    "        self.device = device\n",
    "\n",
    "    def get_concat_output(self, mlp_input, cnn_input):\n",
    "        # Ensure inputs are moved to the correct device\n",
    "        kan_input = mlp_input.to(self.device)\n",
    "        cnn_input = cnn_input.to(self.device)\n",
    "        \n",
    "        cnn_output = self.cnn_branch(cnn_input)  # Process image input\n",
    "        kan_output = self.m_kan(kan_input)  # Process numerical input\n",
    "        \n",
    "        return torch.cat((kan_output, cnn_output), dim=1)\n",
    "\n",
    "    \n",
    "    def forward(self, mlp_input, cnn_input):\n",
    "        concat_output = self.get_concat_output(mlp_input, cnn_input)\n",
    "        return self.final_kan(concat_output)"
   ]
  },
  {
   "cell_type": "code",
   "execution_count": 36,
   "id": "6717cb6b-b4c6-4c3d-8206-4846d133d1dd",
   "metadata": {},
   "outputs": [
    {
     "name": "stdout",
     "output_type": "stream",
     "text": [
      "checkpoint directory created: ./model\n",
      "saving model version 0.0\n",
      "checkpoint directory created: ./model\n",
      "saving model version 0.0\n",
      "Successfully created and tested Model3\n"
     ]
    },
    {
     "name": "stderr",
     "output_type": "stream",
     "text": [
      "| train_loss: nan | eval_loss: nan | reg: 0.00e+00 |: 100%|█████████| 20/20 [00:11<00:00,  1.72it/s]"
     ]
    },
    {
     "name": "stdout",
     "output_type": "stream",
     "text": [
      "saving model version 0.1\n"
     ]
    },
    {
     "name": "stderr",
     "output_type": "stream",
     "text": [
      "\n"
     ]
    }
   ],
   "source": [
    "model3 = try_create_model(Model3, attributes, imgs_shape, device)\n",
    "metrics3 = fit_hybrid_dataloaders2(model3, dataset, opt=\"Adam\", steps=20, update_grid=True)"
   ]
  },
  {
   "cell_type": "code",
   "execution_count": 37,
   "id": "df7d4606-9408-4c60-8674-41e84c1ce876",
   "metadata": {},
   "outputs": [
    {
     "name": "stdout",
     "output_type": "stream",
     "text": [
      "checkpoint directory created: ./model\n",
      "saving model version 0.0\n",
      "checkpoint directory created: ./model\n",
      "saving model version 0.0\n",
      "Successfully created and tested Model3\n"
     ]
    },
    {
     "name": "stderr",
     "output_type": "stream",
     "text": [
      "| train_loss: 4.53e-01 | eval_loss: 5.15e-01 | reg: 0.00e+00 |: 100%|█| 20/20 [03:36<00:00, 10.82s/i"
     ]
    },
    {
     "name": "stdout",
     "output_type": "stream",
     "text": [
      "saving model version 0.1\n"
     ]
    },
    {
     "name": "stderr",
     "output_type": "stream",
     "text": [
      "\n"
     ]
    }
   ],
   "source": [
    "model3 = try_create_model(Model3, attributes, imgs_shape, device)\n",
    "metrics3 = fit_hybrid_dataloaders2(model3, dataset, opt=\"LBFGS\", steps=20, update_grid=True)"
   ]
  },
  {
   "cell_type": "code",
   "execution_count": 39,
   "id": "2654d752-c707-4b4f-9a0c-94c2bdc9f708",
   "metadata": {},
   "outputs": [
    {
     "data": {
      "image/png": "[encoded data removed]",
      "text/plain": [
       "<Figure size 640x480 with 1 Axes>"
      ]
     },
     "metadata": {},
     "output_type": "display_data"
    }
   ],
   "source": [
    "plt.plot(metrics3['train_loss'])\n",
    "plt.plot(metrics3['eval_loss'])\n",
    "plt.legend(['train', 'test'])\n",
    "plt.ylabel('RMSE')\n",
    "plt.xlabel('step')\n",
    "plt.yscale('log')"
   ]
  },
  {
   "cell_type": "code",
   "execution_count": 62,
   "id": "8527fb41-52cd-47ad-81a3-5a29cfa4b5b2",
   "metadata": {},
   "outputs": [
    {
     "name": "stdout",
     "output_type": "stream",
     "text": [
      "checkpoint directory created: ./model\n",
      "saving model version 0.0\n",
      "checkpoint directory created: ./model\n",
      "saving model version 0.0\n",
      "Successfully created and tested Model3\n"
     ]
    },
    {
     "name": "stderr",
     "output_type": "stream",
     "text": [
      "| train_loss: 4.53e-01 | eval_loss: 5.07e-01 | reg: 0.00e+00 |: 100%|█| 20/20 [00:41<00:00,  2.05s/i"
     ]
    },
    {
     "name": "stdout",
     "output_type": "stream",
     "text": [
      "saving model version 0.1\n"
     ]
    },
    {
     "name": "stderr",
     "output_type": "stream",
     "text": [
      "\n"
     ]
    }
   ],
   "source": [
    "model3 = try_create_model(Model3, attributes, imgs_shape, device)\n",
    "metrics3 = fit_hybrid_dataloaders2(model3, dataset, opt=\"LBFGS\", steps=20, update_grid=True)"
   ]
  },
  {
   "cell_type": "code",
   "execution_count": 63,
   "id": "29909005-a15e-47fd-b370-d529fc86ea8b",
   "metadata": {},
   "outputs": [
    {
     "data": {
      "image/png": "[encoded data removed]",
      "text/plain": [
       "<Figure size 640x480 with 1 Axes>"
      ]
     },
     "metadata": {},
     "output_type": "display_data"
    }
   ],
   "source": [
    "plt.plot(metrics3['train_loss'])\n",
    "plt.plot(metrics3['eval_loss'])\n",
    "plt.legend(['train', 'test'])\n",
    "plt.ylabel('RMSE')\n",
    "plt.xlabel('step')\n",
    "plt.yscale('log')"
   ]
  },
  {
   "cell_type": "code",
   "execution_count": 64,
   "id": "a465f2fb-0e14-46d0-99c6-6f9291ddc1d4",
   "metadata": {},
   "outputs": [
    {
     "name": "stdout",
     "output_type": "stream",
     "text": [
      "checkpoint directory created: ./model\n",
      "saving model version 0.0\n",
      "checkpoint directory created: ./model\n",
      "saving model version 0.0\n",
      "Successfully created and tested Model3\n"
     ]
    },
    {
     "name": "stderr",
     "output_type": "stream",
     "text": [
      "| train_loss: 4.60e-01 | eval_loss: 5.00e-01 | reg: 7.40e+00 |: 100%|█| 20/20 [00:40<00:00,  2.02s/i"
     ]
    },
    {
     "name": "stdout",
     "output_type": "stream",
     "text": [
      "saving model version 0.1\n"
     ]
    },
    {
     "name": "stderr",
     "output_type": "stream",
     "text": [
      "\n"
     ]
    }
   ],
   "source": [
    "model3 = try_create_model(Model3, attributes, imgs_shape, device)\n",
    "metrics3 = fit_hybrid_dataloaders2(model3, dataset, opt=\"LBFGS\", steps=20, update_grid=True, lamb=0.001, lamb_entropy=.01)"
   ]
  },
  {
   "cell_type": "code",
   "execution_count": 65,
   "id": "8779590d-f937-4a71-a400-ab09e03a84d1",
   "metadata": {},
   "outputs": [
    {
     "data": {
      "image/png": "[encoded data removed]",
      "text/plain": [
       "<Figure size 640x480 with 1 Axes>"
      ]
     },
     "metadata": {},
     "output_type": "display_data"
    }
   ],
   "source": [
    "plt.plot(metrics3['train_loss'])\n",
    "plt.plot(metrics3['eval_loss'])\n",
    "plt.legend(['train', 'test'])\n",
    "plt.ylabel('RMSE')\n",
    "plt.xlabel('step')\n",
    "plt.yscale('log')"
   ]
  },
  {
   "cell_type": "code",
   "execution_count": 75,
   "id": "f07d0d0c-d963-487b-b251-b098f5ce5b14",
   "metadata": {},
   "outputs": [],
   "source": [
    "class Model4(nn.Module):\n",
    "    def __init__(self, attributes, imgs_shape, device):\n",
    "        super(Model4, self).__init__()\n",
    "        # CNN branch\n",
    "        \n",
    "        # Calculate the size of the flattened CNN output\n",
    "        self.cnn_output_size = 16 * (imgs_shape[1] - 1) * (imgs_shape[2] - 1)\n",
    "        \n",
    "        self.cnn_branch = nn.Sequential(\n",
    "            nn.Conv2d(imgs_shape[0], out_channels=16, kernel_size=2),\n",
    "            nn.BatchNorm2d(16),\n",
    "            nn.ReLU(),\n",
    "            nn.MaxPool2d(2, 2),\n",
    "            nn.Conv2d(16, 32, kernel_size=2, padding=1),\n",
    "            nn.BatchNorm2d(32),\n",
    "            nn.ReLU(),\n",
    "            nn.Conv2d(32, 64, kernel_size=2, padding=1),\n",
    "            nn.ReLU(),\n",
    "            nn.MaxPool2d(2, 2),\n",
    "            nn.Conv2d(64, 16, kernel_size=2, padding=1),\n",
    "            nn.Sigmoid(),\n",
    "            nn.Flatten(),\n",
    "            #nn.LayerNorm(self.cnn_output_size)\n",
    "        ).to(device)\n",
    "\n",
    "        # Final KAN layers\n",
    "        self.m_kan = KAN(\n",
    "            width=[attributes, 12],\n",
    "            grid=8,\n",
    "            k=3,\n",
    "            seed=SEED,\n",
    "            device=device\n",
    "        )\n",
    "\n",
    "\n",
    "        # Final MLP layers\n",
    "        self.final_kan = KAN(\n",
    "            width=[self.cnn_output_size + 12, 1],\n",
    "            grid=8,\n",
    "            k=3,\n",
    "            seed=SEED,\n",
    "            device=device\n",
    "        )\n",
    "\n",
    "        self.device = device\n",
    "\n",
    "    def get_concat_output(self, mlp_input, cnn_input):\n",
    "        # Ensure inputs are moved to the correct device\n",
    "        kan_input = mlp_input.to(self.device)\n",
    "        cnn_input = cnn_input.to(self.device)\n",
    "        \n",
    "        cnn_output = self.cnn_branch(cnn_input)  # Process image input\n",
    "        kan_output = self.m_kan(kan_input)  # Process numerical input\n",
    "        \n",
    "        return torch.cat((kan_output, cnn_output), dim=1)\n",
    "\n",
    "    \n",
    "    def forward(self, mlp_input, cnn_input):\n",
    "        concat_output = self.get_concat_output(mlp_input, cnn_input)\n",
    "        return self.final_kan(concat_output)"
   ]
  },
  {
   "cell_type": "code",
   "execution_count": 76,
   "id": "2401ceb9-1264-4f84-80bb-904f6031ccfb",
   "metadata": {},
   "outputs": [
    {
     "name": "stdout",
     "output_type": "stream",
     "text": [
      "checkpoint directory created: ./model\n",
      "saving model version 0.0\n",
      "checkpoint directory created: ./model\n",
      "saving model version 0.0\n",
      "Successfully created and tested Model4\n"
     ]
    },
    {
     "name": "stderr",
     "output_type": "stream",
     "text": [
      "| train_loss: nan | eval_loss: nan | reg: 0.00e+00 |: 100%|█████████| 30/30 [00:04<00:00,  6.66it/s]"
     ]
    },
    {
     "name": "stdout",
     "output_type": "stream",
     "text": [
      "saving model version 0.1\n"
     ]
    },
    {
     "name": "stderr",
     "output_type": "stream",
     "text": [
      "\n"
     ]
    }
   ],
   "source": [
    "model4 = try_create_model(Model4, attributes, imgs_shape, device)\n",
    "metrics4 = fit_hybrid_dataloaders2(model4, dataset, opt=\"Adam\", steps=30)"
   ]
  },
  {
   "cell_type": "code",
   "execution_count": 77,
   "id": "5bed9bb1-d0a0-4b5d-8b17-163d73c8b14b",
   "metadata": {},
   "outputs": [
    {
     "name": "stdout",
     "output_type": "stream",
     "text": [
      "checkpoint directory created: ./model\n",
      "saving model version 0.0\n",
      "checkpoint directory created: ./model\n",
      "saving model version 0.0\n",
      "Successfully created and tested Model4\n"
     ]
    },
    {
     "name": "stderr",
     "output_type": "stream",
     "text": [
      "| train_loss: 4.46e-01 | eval_loss: 5.13e-01 | reg: 0.00e+00 |: 100%|█| 40/40 [01:38<00:00,  2.46s/i"
     ]
    },
    {
     "name": "stdout",
     "output_type": "stream",
     "text": [
      "saving model version 0.1\n"
     ]
    },
    {
     "name": "stderr",
     "output_type": "stream",
     "text": [
      "\n"
     ]
    }
   ],
   "source": [
    "model4 = try_create_model(Model4, attributes, imgs_shape, device)\n",
    "metrics4 = fit_hybrid_dataloaders2(model4, dataset, opt=\"LBFGS\", steps=40)"
   ]
  },
  {
   "cell_type": "code",
   "execution_count": 74,
   "id": "1da14301-6810-45f7-b9d9-bf6a20c08a2e",
   "metadata": {},
   "outputs": [
    {
     "name": "stdout",
     "output_type": "stream",
     "text": [
      "checkpoint directory created: ./model\n",
      "saving model version 0.0\n",
      "checkpoint directory created: ./model\n",
      "saving model version 0.0\n",
      "Successfully created and tested Model4\n"
     ]
    },
    {
     "name": "stderr",
     "output_type": "stream",
     "text": [
      "| train_loss: 5.21e-01 | eval_loss: 5.80e-01 | reg: 4.17e+00 |: 100%|█| 40/40 [01:19<00:00,  1.98s/i"
     ]
    },
    {
     "name": "stdout",
     "output_type": "stream",
     "text": [
      "saving model version 0.1\n"
     ]
    },
    {
     "name": "stderr",
     "output_type": "stream",
     "text": [
      "\n"
     ]
    }
   ],
   "source": [
    "model4 = try_create_model(Model4, attributes, imgs_shape, device)\n",
    "metrics4 = fit_hybrid_dataloaders2(model4, dataset, opt=\"LBFGS\", steps=40, lamb=0.001, lamb_entropy=.01)"
   ]
  },
  {
   "cell_type": "code",
   "execution_count": 66,
   "id": "5259c7d0-e61e-442d-9865-7c24cdf684ad",
   "metadata": {},
   "outputs": [
    {
     "name": "stdout",
     "output_type": "stream",
     "text": [
      "checkpoint directory created: ./model\n",
      "saving model version 0.0\n",
      "checkpoint directory created: ./model\n",
      "saving model version 0.0\n",
      "Successfully created and tested Model4\n"
     ]
    },
    {
     "name": "stderr",
     "output_type": "stream",
     "text": [
      "| train_loss: 4.51e-01 | eval_loss: 5.14e-01 | reg: 7.29e+00 |: 100%|█| 40/40 [01:36<00:00,  2.42s/i"
     ]
    },
    {
     "name": "stdout",
     "output_type": "stream",
     "text": [
      "saving model version 0.1\n"
     ]
    },
    {
     "name": "stderr",
     "output_type": "stream",
     "text": [
      "\n"
     ]
    }
   ],
   "source": [
    "model4 = try_create_model(Model4, attributes, imgs_shape, device)\n",
    "metrics4 = fit_hybrid_dataloaders2(model4, dataset, opt=\"LBFGS\", steps=40, lamb=0.001, lamb_entropy=.01)"
   ]
  },
  {
   "cell_type": "code",
   "execution_count": 67,
   "id": "872fa4ac-e44a-4852-be90-ad8fcf3fb571",
   "metadata": {},
   "outputs": [
    {
     "data": {
      "image/png": "[encoded data removed]",
      "text/plain": [
       "<Figure size 640x480 with 1 Axes>"
      ]
     },
     "metadata": {},
     "output_type": "display_data"
    }
   ],
   "source": [
    "plt.plot(metrics4['train_loss'])\n",
    "plt.plot(metrics4['eval_loss'])\n",
    "plt.legend(['train', 'test'])\n",
    "plt.ylabel('RMSE')\n",
    "plt.xlabel('step')\n",
    "plt.yscale('log')"
   ]
  },
  {
   "cell_type": "code",
   "execution_count": 69,
   "id": "ab010e1d-e357-43c1-bf3f-f541dd3d86d1",
   "metadata": {},
   "outputs": [
    {
     "name": "stdout",
     "output_type": "stream",
     "text": [
      "checkpoint directory created: ./model\n",
      "saving model version 0.0\n",
      "checkpoint directory created: ./model\n",
      "saving model version 0.0\n",
      "Successfully created and tested Model4\n"
     ]
    },
    {
     "name": "stderr",
     "output_type": "stream",
     "text": [
      "| train_loss: 4.62e-01 | eval_loss: 5.29e-01 | reg: 0.00e+00 |: 100%|█| 30/30 [01:12<00:00,  2.41s/i"
     ]
    },
    {
     "name": "stdout",
     "output_type": "stream",
     "text": [
      "saving model version 0.1\n"
     ]
    },
    {
     "name": "stderr",
     "output_type": "stream",
     "text": [
      "\n"
     ]
    }
   ],
   "source": [
    "model4 = try_create_model(Model4, attributes, imgs_shape, device)\n",
    "metrics4 = fit_hybrid_dataloaders2(model4, dataset, opt=\"LBFGS\", steps=30)"
   ]
  },
  {
   "cell_type": "code",
   "execution_count": 17,
   "id": "5e0980e6-33ae-4841-a113-dcd289bc1244",
   "metadata": {},
   "outputs": [
    {
     "name": "stdout",
     "output_type": "stream",
     "text": [
      "checkpoint directory created: ./model\n",
      "saving model version 0.0\n",
      "Successfully created and tested Model5\n"
     ]
    }
   ],
   "source": [
    "model5 = try_create_model(Model5, attributes, imgs_shape, device)"
   ]
  },
  {
   "cell_type": "code",
   "execution_count": 238,
   "id": "4c1c2fec-bd63-4111-bf24-c625b9f5a2bc",
   "metadata": {},
   "outputs": [],
   "source": [
    "steps=100 \n",
    "log=1\n",
    "lamb=0. \n",
    "lamb_l1=1. \n",
    "lamb_entropy=2. \n",
    "lamb_coef=0. \n",
    "lamb_coefdiff=0. \n",
    "update_grid=True \n",
    "grid_update_num=10 \n",
    "loss_fn=None\n",
    "lr=1.\n",
    "start_grid_update_step=-1\n",
    "stop_grid_update_step=50 \n",
    "batch=-1\n",
    "metrics=None \n",
    "save_fig=False \n",
    "in_vars=None\n",
    "out_vars=None \n",
    "beta=3\n",
    "save_fig_freq=1\n",
    "img_folder='./video' \n",
    "singularity_avoiding=False \n",
    "y_th=1000.\n",
    "reg_metric='edge_forward_spline_n' \n",
    "display_metrics=None"
   ]
  },
  {
   "cell_type": "code",
   "execution_count": 239,
   "id": "9dd8716a-32c4-4bbe-839f-95558b42bf1d",
   "metadata": {},
   "outputs": [
    {
     "data": {
      "text/plain": [
       "<bound method MultKAN.disable_symbolic_in_fit of MultKAN(\n",
       "  (act_fun): ModuleList(\n",
       "    (0-1): 2 x KANLayer(\n",
       "      (base_fun): SiLU()\n",
       "    )\n",
       "  )\n",
       "  (base_fun): SiLU()\n",
       "  (symbolic_fun): ModuleList(\n",
       "    (0-1): 2 x Symbolic_KANLayer()\n",
       "  )\n",
       ")>"
      ]
     },
     "execution_count": 239,
     "metadata": {},
     "output_type": "execute_result"
    }
   ],
   "source": [
    "model5.m_kan.disable_symbolic_in_fit"
   ]
  },
  {
   "cell_type": "code",
   "execution_count": 240,
   "id": "ea84eed1-37c5-4701-9639-a1c7c8a4a965",
   "metadata": {},
   "outputs": [],
   "source": [
    "optimizer = optim.Adam(model5.parameters(), lr=lr)"
   ]
  },
  {
   "cell_type": "code",
   "execution_count": 241,
   "id": "fbc57d54-0a67-4727-b0b2-319cf65c6e9c",
   "metadata": {},
   "outputs": [],
   "source": [
    "grid_update_freq = int(stop_grid_update_step / grid_update_num) if grid_update_num > 0 else 1"
   ]
  },
  {
   "cell_type": "code",
   "execution_count": 242,
   "id": "f6a948d3-a0dd-4f97-94ae-30f9c959d1e0",
   "metadata": {},
   "outputs": [],
   "source": [
    "n_train = dataset[\"train_mlp\"].shape[0]\n",
    "n_eval  = dataset[\"test_mlp\"].shape[0]  # using test set for evaluation during training\n",
    "batch_size = n_train if batch == -1 or batch > n_train else batch"
   ]
  },
  {
   "cell_type": "code",
   "execution_count": 243,
   "id": "0c9307f2-a5b0-4639-9c74-f761fc6f465d",
   "metadata": {},
   "outputs": [],
   "source": [
    "results = {\n",
    "        'train_loss': [],\n",
    "        'eval_loss': [],\n",
    "        'val_loss': [],\n",
    "        'reg': []\n",
    "    }"
   ]
  },
  {
   "cell_type": "code",
   "execution_count": 244,
   "id": "72faae72-fb32-45da-9b42-c605bb80b932",
   "metadata": {},
   "outputs": [],
   "source": [
    "if metrics is not None:\n",
    "    for metric in metrics:\n",
    "        results[metric.__name__] = []"
   ]
  },
  {
   "cell_type": "code",
   "execution_count": 245,
   "id": "bcbb799a-a918-40cf-8436-f61bf01df4da",
   "metadata": {},
   "outputs": [],
   "source": [
    "train_indices = np.random.choice(n_train, batch_size, replace=False)"
   ]
  },
  {
   "cell_type": "code",
   "execution_count": 246,
   "id": "016e4648-ced5-4fce-bd73-ececfcd2ffe9",
   "metadata": {},
   "outputs": [
    {
     "data": {
      "text/plain": [
       "array([ 5198, 13219, 15719, ...,  6922,   419, 16203])"
      ]
     },
     "execution_count": 246,
     "metadata": {},
     "output_type": "execute_result"
    }
   ],
   "source": [
    "train_indices"
   ]
  },
  {
   "cell_type": "code",
   "execution_count": 247,
   "id": "247eadcb-4e13-46c5-8b0a-89595cf1d212",
   "metadata": {},
   "outputs": [],
   "source": [
    "eval_indices = np.arange(n_eval)"
   ]
  },
  {
   "cell_type": "code",
   "execution_count": 248,
   "id": "226b2b2e-f3ff-4cd2-8993-c9b523613435",
   "metadata": {},
   "outputs": [
    {
     "data": {
      "text/plain": [
       "array([   0,    1,    2, ..., 2061, 2062, 2063])"
      ]
     },
     "execution_count": 248,
     "metadata": {},
     "output_type": "execute_result"
    }
   ],
   "source": [
    "eval_indices"
   ]
  },
  {
   "cell_type": "code",
   "execution_count": 249,
   "id": "ddd77867-227c-4183-97a1-52993502d094",
   "metadata": {},
   "outputs": [],
   "source": [
    "cnn_batch = dataset['train_img'][train_indices]"
   ]
  },
  {
   "cell_type": "code",
   "execution_count": 250,
   "id": "ad3687a6-8ddf-491b-af77-b292adec9835",
   "metadata": {},
   "outputs": [],
   "source": [
    "cnn_output = model5.cnn_branch(cnn_batch)"
   ]
  },
  {
   "cell_type": "code",
   "execution_count": 251,
   "id": "e3629f0c-7916-47ab-8bdf-0d27f4906ea0",
   "metadata": {},
   "outputs": [
    {
     "data": {
      "text/plain": [
       "tensor([[-0.9097, -0.9097,  0.9629,  ..., -0.9097,  0.0681,  0.4747],\n",
       "        [-0.6763, -0.6763,  0.1877,  ..., -0.6763,  1.1730,  0.1919],\n",
       "        [-0.8989, -0.7575,  0.9014,  ..., -0.8989,  0.1498,  0.2042],\n",
       "        ...,\n",
       "        [-0.9480, -0.9480,  1.1647,  ..., -0.9480,  0.6748,  0.5200],\n",
       "        [-0.8745, -0.8745,  1.5434,  ..., -0.8745,  0.8927,  0.8855],\n",
       "        [-0.2042, -0.8904,  0.9855,  ..., -0.8904,  0.4134,  1.3576]],\n",
       "       device='cuda:0', grad_fn=<NativeLayerNormBackward0>)"
      ]
     },
     "execution_count": 251,
     "metadata": {},
     "output_type": "execute_result"
    }
   ],
   "source": [
    "cnn_output"
   ]
  },
  {
   "cell_type": "code",
   "execution_count": 252,
   "id": "ddf3a494-f476-442d-8491-8a063150a153",
   "metadata": {},
   "outputs": [
    {
     "name": "stdout",
     "output_type": "stream",
     "text": [
      "Mean: -1.8130107415359475e-09\n",
      "Min: -0.9929415583610535\n",
      "Max: 4.7893385887146\n"
     ]
    }
   ],
   "source": [
    "mean_value = cnn_output.mean()\n",
    "min_value = cnn_output.min()\n",
    "max_value = cnn_output.max()\n",
    "\n",
    "print(\"Mean:\", mean_value.item())\n",
    "print(\"Min:\", min_value.item())\n",
    "print(\"Max:\", max_value.item())\n"
   ]
  },
  {
   "cell_type": "code",
   "execution_count": 253,
   "id": "6a5ba343-a9fc-4241-bb80-22652f4f4d89",
   "metadata": {},
   "outputs": [],
   "source": [
    "max_value, max_index = cnn_output.max(dim=0)  # Replace dim=0 with the desired dimension"
   ]
  },
  {
   "cell_type": "code",
   "execution_count": 255,
   "id": "24d78952-14fc-4605-81a5-3d898bcb8c59",
   "metadata": {},
   "outputs": [
    {
     "data": {
      "text/plain": [
       "tensor([ 0.9177,  0.9401,  1.9597,  2.4237,  2.4386,  2.6355,  2.6226,  2.3003,\n",
       "         2.3913,  3.1013,  1.8698,  3.1590,  1.4288, -0.5384,  2.8808,  1.2594,\n",
       "         1.2843,  1.0789,  1.1874,  2.4524,  3.0980,  2.9320,  2.4574,  2.8988,\n",
       "         2.1210,  3.3071,  2.3944,  1.7875,  3.1032,  4.1458,  2.1907,  2.6217,\n",
       "         2.7697,  2.4769,  2.2520,  3.0392,  1.3973,  2.0887,  2.6260,  2.2048,\n",
       "         2.2270,  4.7043,  2.7001,  2.3691,  1.7453,  2.7030,  2.8410,  2.2826,\n",
       "         2.2712,  4.7893,  2.5900,  3.0452,  3.5352,  4.1196,  4.5107, -0.2636,\n",
       "         3.2216,  3.3825,  3.7494,  3.6865,  1.7199, -0.5384,  1.9629,  1.9739],\n",
       "       device='cuda:0', grad_fn=<MaxBackward0>)"
      ]
     },
     "execution_count": 255,
     "metadata": {},
     "output_type": "execute_result"
    }
   ],
   "source": [
    "max_value"
   ]
  },
  {
   "cell_type": "code",
   "execution_count": 256,
   "id": "5e80ff66-9083-4ecb-b4e8-df0d5f4bb2fb",
   "metadata": {},
   "outputs": [],
   "source": [
    "mlp_batch = dataset['train_mlp'][train_indices]"
   ]
  },
  {
   "cell_type": "code",
   "execution_count": 257,
   "id": "ad5d8f19-6f97-414c-a3f5-86eb74586b7a",
   "metadata": {},
   "outputs": [
    {
     "data": {
      "text/plain": [
       "tensor([[0.0969, 0.3333, 0.0215,  ..., 0.0009, 0.6387, 0.2996],\n",
       "        [0.4101, 0.8235, 0.0362,  ..., 0.0013, 0.1371, 0.6235],\n",
       "        [0.1860, 0.2353, 0.0277,  ..., 0.0018, 0.5611, 0.3168],\n",
       "        ...,\n",
       "        [0.1813, 0.3529, 0.0311,  ..., 0.0011, 0.5441, 0.3421],\n",
       "        [0.1843, 0.6078, 0.0380,  ..., 0.0015, 0.4793, 0.3543],\n",
       "        [0.1670, 0.8039, 0.0216,  ..., 0.0013, 0.1562, 0.6002]],\n",
       "       device='cuda:0')"
      ]
     },
     "execution_count": 257,
     "metadata": {},
     "output_type": "execute_result"
    }
   ],
   "source": [
    "mlp_batch"
   ]
  },
  {
   "cell_type": "code",
   "execution_count": 258,
   "id": "7fa87d7d-e5c2-4189-bde1-27c4a3519025",
   "metadata": {},
   "outputs": [],
   "source": [
    "#concatenated = torch.cat((mlp_batch, cnn_output), dim=1)\n",
    "concatenated = model5.get_concat_output(mlp_batch, cnn_batch)"
   ]
  },
  {
   "cell_type": "code",
   "execution_count": 259,
   "id": "653abb49-adf5-4261-9f10-63fda859fe86",
   "metadata": {},
   "outputs": [
    {
     "data": {
      "text/plain": [
       "tensor([[ 0.0969,  0.3333,  0.0215,  ..., -0.9097,  0.0681,  0.4747],\n",
       "        [ 0.4101,  0.8235,  0.0362,  ..., -0.6763,  1.1730,  0.1919],\n",
       "        [ 0.1860,  0.2353,  0.0277,  ..., -0.8989,  0.1498,  0.2042],\n",
       "        ...,\n",
       "        [ 0.1813,  0.3529,  0.0311,  ..., -0.9480,  0.6748,  0.5200],\n",
       "        [ 0.1843,  0.6078,  0.0380,  ..., -0.8745,  0.8927,  0.8855],\n",
       "        [ 0.1670,  0.8039,  0.0216,  ..., -0.8904,  0.4134,  1.3576]],\n",
       "       device='cuda:0', grad_fn=<CatBackward0>)"
      ]
     },
     "execution_count": 259,
     "metadata": {},
     "output_type": "execute_result"
    }
   ],
   "source": [
    "concatenated"
   ]
  },
  {
   "cell_type": "code",
   "execution_count": 260,
   "id": "9188920b-d42e-4e42-af34-7d6b66c5d773",
   "metadata": {},
   "outputs": [
    {
     "name": "stdout",
     "output_type": "stream",
     "text": [
      "Mean: 0.023391490802168846\n",
      "Min: -0.9929415583610535\n",
      "Max: 4.7893385887146\n"
     ]
    }
   ],
   "source": [
    "mean_value = concatenated.mean()\n",
    "min_value = concatenated.min()\n",
    "max_value = concatenated.max()\n",
    "\n",
    "print(\"Mean:\", mean_value.item())\n",
    "print(\"Min:\", min_value.item())\n",
    "print(\"Max:\", max_value.item())\n"
   ]
  },
  {
   "cell_type": "code",
   "execution_count": 261,
   "id": "c06f0ea0-7d67-4a65-a687-a06cf1f847cb",
   "metadata": {},
   "outputs": [
    {
     "name": "stdout",
     "output_type": "stream",
     "text": [
      "Parameter containing:\n",
      "tensor([[-1.7500, -1.5000, -1.2500,  ...,  1.2500,  1.5000,  1.7500],\n",
      "        [-1.7500, -1.5000, -1.2500,  ...,  1.2500,  1.5000,  1.7500],\n",
      "        [-1.7500, -1.5000, -1.2500,  ...,  1.2500,  1.5000,  1.7500],\n",
      "        ...,\n",
      "        [-1.7500, -1.5000, -1.2500,  ...,  1.2500,  1.5000,  1.7500],\n",
      "        [-1.7500, -1.5000, -1.2500,  ...,  1.2500,  1.5000,  1.7500],\n",
      "        [-1.7500, -1.5000, -1.2500,  ...,  1.2500,  1.5000,  1.7500]],\n",
      "       device='cuda:0')\n"
     ]
    }
   ],
   "source": [
    "print(model5.m_kan.act_fun[0].grid)"
   ]
  },
  {
   "cell_type": "code",
   "execution_count": 262,
   "id": "175fc0ee-9b22-4952-ad4e-34ccbab9ba46",
   "metadata": {},
   "outputs": [],
   "source": [
    "model5.m_kan.update_grid(concatenated)"
   ]
  },
  {
   "cell_type": "code",
   "execution_count": 263,
   "id": "62b7e998-b273-4071-9483-2b130b118b2d",
   "metadata": {},
   "outputs": [
    {
     "name": "stdout",
     "output_type": "stream",
     "text": [
      "Parameter containing:\n",
      "tensor([[-0.3750, -0.2500, -0.1250,  ...,  1.1250,  1.2500,  1.3750],\n",
      "        [-0.3750, -0.2500, -0.1250,  ...,  1.1250,  1.2500,  1.3750],\n",
      "        [-0.3750, -0.2500, -0.1250,  ...,  1.1250,  1.2500,  1.3750],\n",
      "        ...,\n",
      "        [-1.1634, -1.1066, -1.0498,  ..., -0.4816, -0.4247, -0.3679],\n",
      "        [-1.9582, -1.6017, -1.2453,  ...,  2.3193,  2.6758,  3.0322],\n",
      "        [-1.9771, -1.6179, -1.2587,  ...,  2.3330,  2.6922,  3.0514]],\n",
      "       device='cuda:0')\n"
     ]
    }
   ],
   "source": [
    "print(model5.m_kan.act_fun[0].grid)"
   ]
  },
  {
   "cell_type": "code",
   "execution_count": 264,
   "id": "3d988628-e7e0-46f3-ac90-8e54aada4f41",
   "metadata": {},
   "outputs": [],
   "source": [
    "grid_update_num=10\n",
    "stop_grid_update_step=50\n",
    "grid_update_freq = int(stop_grid_update_step / grid_update_num) if grid_update_num > 0 else 1"
   ]
  },
  {
   "cell_type": "code",
   "execution_count": 265,
   "id": "7da6cbb7-895e-4fcc-aba1-52b6d485e0d3",
   "metadata": {},
   "outputs": [],
   "source": [
    "optimizer.zero_grad()"
   ]
  },
  {
   "cell_type": "code",
   "execution_count": 266,
   "id": "97ba9373-8b5e-4e6f-a9c5-f3e37d1f9ab2",
   "metadata": {},
   "outputs": [],
   "source": [
    "if loss_fn is None:\n",
    "        loss_fn = lambda x, y: torch.mean((x - y) ** 2)"
   ]
  },
  {
   "cell_type": "code",
   "execution_count": 267,
   "id": "0083e4a6-c688-4435-86bc-15e0dfc9b034",
   "metadata": {},
   "outputs": [],
   "source": [
    "mlp_batch = dataset[\"train_mlp\"][train_indices]\n",
    "img_batch = dataset[\"train_img\"][train_indices]\n",
    "target_batch = dataset[\"train_target\"][train_indices]\n",
    "outputs = model5(mlp_batch, img_batch)\n",
    "train_loss = loss_fn(outputs, target_batch)"
   ]
  },
  {
   "cell_type": "code",
   "execution_count": 268,
   "id": "9db5c5f1-9d48-4a75-8bb1-0dbad5168dd0",
   "metadata": {},
   "outputs": [
    {
     "data": {
      "text/plain": [
       "tensor([[-0.0861],\n",
       "        [ 0.0550],\n",
       "        [-0.0760],\n",
       "        ...,\n",
       "        [-0.0495],\n",
       "        [ 0.0691],\n",
       "        [-0.0089]], device='cuda:0', grad_fn=<AddBackward0>)"
      ]
     },
     "execution_count": 268,
     "metadata": {},
     "output_type": "execute_result"
    }
   ],
   "source": [
    "outputs"
   ]
  },
  {
   "cell_type": "code",
   "execution_count": 79,
   "id": "237b1016-4ec7-459a-9f8d-e8d7ec66a718",
   "metadata": {},
   "outputs": [],
   "source": [
    "reg_val = torch.tensor(0., device=device)"
   ]
  },
  {
   "cell_type": "code",
   "execution_count": 80,
   "id": "bfe9082d-925a-484d-9356-8ae0d994184a",
   "metadata": {},
   "outputs": [],
   "source": [
    "loss_val = train_loss + lamb * reg_val\n",
    "loss_val.backward()\n",
    "optimizer.step()"
   ]
  },
  {
   "cell_type": "code",
   "execution_count": 41,
   "id": "65413e98-4cf4-4a3e-8a73-de0f6726c51b",
   "metadata": {},
   "outputs": [],
   "source": [
    "mlp_eval = dataset[\"test_mlp\"][eval_indices]\n",
    "img_eval = dataset[\"test_img\"][eval_indices]\n",
    "target_eval = dataset[\"test_target\"][eval_indices]\n",
    "eval_loss = loss_fn(model5(mlp_eval, img_eval), target_eval)"
   ]
  },
  {
   "cell_type": "code",
   "execution_count": 42,
   "id": "dc5a3dd6-8a3e-4980-9962-665f45a8bfa0",
   "metadata": {},
   "outputs": [],
   "source": [
    "results['train_loss'].append(torch.sqrt(loss_val.detach()).item())\n",
    "results['eval_loss'].append(torch.sqrt(eval_loss.detach()).item())\n",
    "results['reg'].append(reg_val.detach().item())"
   ]
  },
  {
   "cell_type": "code",
   "execution_count": 43,
   "id": "bda89974-5e8b-45ad-8538-8df003aa57a2",
   "metadata": {},
   "outputs": [
    {
     "data": {
      "text/plain": [
       "{'train_loss': [nan], 'eval_loss': [nan], 'val_loss': [], 'reg': [0.0]}"
      ]
     },
     "execution_count": 43,
     "metadata": {},
     "output_type": "execute_result"
    }
   ],
   "source": [
    "results"
   ]
  },
  {
   "cell_type": "code",
   "execution_count": 19,
   "id": "601aa025-47d6-4ed9-981f-b82a83392641",
   "metadata": {},
   "outputs": [
    {
     "name": "stdout",
     "output_type": "stream",
     "text": [
      "checkpoint directory created: ./model\n",
      "saving model version 0.0\n",
      "Successfully created and tested Model5\n"
     ]
    },
    {
     "name": "stderr",
     "output_type": "stream",
     "text": [
      "| train_loss: 1.15e+00 | eval_loss: 1.18e+00 | reg: 0.00e+00 |: 100%|█| 100/100 [00:04<00:00, 22.02i"
     ]
    },
    {
     "name": "stdout",
     "output_type": "stream",
     "text": [
      "saving model version 0.1\n"
     ]
    },
    {
     "name": "stderr",
     "output_type": "stream",
     "text": [
      "\n"
     ]
    }
   ],
   "source": [
    "model5 = try_create_model(Model5, attributes, imgs_shape, device)\n",
    "metrics5 = fit_hybrid_dataloaders(model5, dataset, opt=\"Adam\", steps=100, update_grid=False)"
   ]
  },
  {
   "cell_type": "code",
   "execution_count": 20,
   "id": "83ed981f-d955-4271-b3e9-82ec9df62d04",
   "metadata": {},
   "outputs": [
    {
     "data": {
      "image/png": "[encoded data removed]",
      "text/plain": [
       "<Figure size 640x480 with 1 Axes>"
      ]
     },
     "metadata": {},
     "output_type": "display_data"
    }
   ],
   "source": [
    "plt.plot(metrics5['train_loss'])\n",
    "plt.plot(metrics5['eval_loss'])\n",
    "plt.legend(['train', 'test'])\n",
    "plt.ylabel('RMSE')\n",
    "plt.xlabel('step')\n",
    "plt.yscale('log')"
   ]
  },
  {
   "cell_type": "code",
   "execution_count": 89,
   "id": "c1e414f4-fff5-418a-87f5-3a085e855926",
   "metadata": {},
   "outputs": [
    {
     "name": "stdout",
     "output_type": "stream",
     "text": [
      "checkpoint directory created: ./model\n",
      "saving model version 0.0\n",
      "Successfully created and tested Model5\n"
     ]
    },
    {
     "name": "stderr",
     "output_type": "stream",
     "text": [
      "| train_loss: 5.30e-01 | eval_loss: 5.78e-01 | reg: 0.00e+00 |: 100%|█| 30/30 [00:37<00:00,  1.24s/i"
     ]
    },
    {
     "name": "stdout",
     "output_type": "stream",
     "text": [
      "saving model version 0.1\n"
     ]
    },
    {
     "name": "stderr",
     "output_type": "stream",
     "text": [
      "\n"
     ]
    }
   ],
   "source": [
    "model5 = try_create_model(Model5, attributes, imgs_shape, device)\n",
    "metrics5 = fit_hybrid_dataloaders(model5, dataset, opt=\"LBFGS\", steps=30, update_grid=True)"
   ]
  },
  {
   "cell_type": "code",
   "execution_count": 90,
   "id": "f8ca326a-e367-4c6a-97f1-fdb330f730ec",
   "metadata": {},
   "outputs": [
    {
     "data": {
      "image/png": "[encoded data removed]",
      "text/plain": [
       "<Figure size 640x480 with 1 Axes>"
      ]
     },
     "metadata": {},
     "output_type": "display_data"
    }
   ],
   "source": [
    "plt.plot(metrics5['train_loss'])\n",
    "plt.plot(metrics5['eval_loss'])\n",
    "plt.legend(['train', 'test'])\n",
    "plt.ylabel('RMSE')\n",
    "plt.xlabel('step')\n",
    "plt.yscale('log')"
   ]
  },
  {
   "cell_type": "code",
   "execution_count": 208,
   "id": "86e973a4-5b1e-4919-a570-76e31b785066",
   "metadata": {},
   "outputs": [
    {
     "name": "stdout",
     "output_type": "stream",
     "text": [
      "checkpoint directory created: ./model\n",
      "saving model version 0.0\n",
      "Successfully created and tested Model5\n"
     ]
    },
    {
     "name": "stderr",
     "output_type": "stream",
     "text": [
      "| train_loss: nan | eval_loss: nan | reg: 0.00e+00 |: 100%|█████████| 10/10 [00:08<00:00,  1.16it/s]\n"
     ]
    },
    {
     "name": "stdout",
     "output_type": "stream",
     "text": [
      "saving model version 0.1\n"
     ]
    }
   ],
   "source": [
    "model5 = try_create_model(Model5, attributes, imgs_shape, device)\n",
    "metrics5 = fit_hybrid_dataloaders(model5, dataset, opt=\"Adam\", steps=10, update_grid=True)"
   ]
  },
  {
   "cell_type": "code",
   "execution_count": 106,
   "id": "89bc5cbf-b737-4af5-884c-00b4ab3e98a5",
   "metadata": {},
   "outputs": [
    {
     "name": "stdout",
     "output_type": "stream",
     "text": [
      "checkpoint directory created: ./model\n",
      "saving model version 0.0\n",
      "Successfully created and tested Model5\n"
     ]
    },
    {
     "name": "stderr",
     "output_type": "stream",
     "text": [
      "| train_loss: 4.63e-01 | eval_loss: 5.22e-01 | reg: 2.91e+01 |: 100%|█| 60/60 [02:27<00:00,  2.47s/i"
     ]
    },
    {
     "name": "stdout",
     "output_type": "stream",
     "text": [
      "saving model version 0.1\n"
     ]
    },
    {
     "name": "stderr",
     "output_type": "stream",
     "text": [
      "\n"
     ]
    },
    {
     "data": {
      "image/png": "[encoded data removed]",
      "text/plain": [
       "<Figure size 640x480 with 1 Axes>"
      ]
     },
     "metadata": {},
     "output_type": "display_data"
    }
   ],
   "source": [
    "model5 = try_create_model(Model5, attributes, imgs_shape, device)\n",
    "metrics5 = fit_hybrid_dataloaders(model5, dataset, opt=\"LBFGS\", steps=60, lamb=0.001, lamb_entropy=.01)\n",
    "plt.plot(metrics5['train_loss'])\n",
    "plt.plot(metrics5['eval_loss'])\n",
    "plt.legend(['train', 'test'])\n",
    "plt.ylabel('RMSE')\n",
    "plt.xlabel('step')\n",
    "plt.yscale('log')"
   ]
  },
  {
   "cell_type": "code",
   "execution_count": 148,
   "id": "fc16788c-c37f-45d4-9147-cfc161108b13",
   "metadata": {},
   "outputs": [
    {
     "name": "stdout",
     "output_type": "stream",
     "text": [
      "checkpoint directory created: ./model\n",
      "saving model version 0.0\n",
      "Successfully created and tested Model5\n"
     ]
    },
    {
     "name": "stderr",
     "output_type": "stream",
     "text": [
      "| train_loss: 5.65e-01 | eval_loss: 5.73e-01 | reg: 2.76e+01 |: 100%|█| 10/10 [04:19<00:00, 26.00s/i"
     ]
    },
    {
     "name": "stdout",
     "output_type": "stream",
     "text": [
      "saving model version 0.1\n"
     ]
    },
    {
     "name": "stderr",
     "output_type": "stream",
     "text": [
      "\n"
     ]
    },
    {
     "data": {
      "image/png": "[encoded data removed]",
      "text/plain": [
       "<Figure size 640x480 with 1 Axes>"
      ]
     },
     "metadata": {},
     "output_type": "display_data"
    }
   ],
   "source": [
    "model5 = try_create_model(Model5, attributes, imgs_shape, device)\n",
    "metrics5 = fit_hybrid_dataloaders(model5, dataset, opt=\"LBFGS\", steps=10, lamb=0.001, lamb_entropy=.01)\n",
    "plt.plot(metrics5['train_loss'])\n",
    "plt.plot(metrics5['eval_loss'])\n",
    "plt.legend(['train', 'test'])\n",
    "plt.ylabel('RMSE')\n",
    "plt.xlabel('step')\n",
    "plt.yscale('log')"
   ]
  },
  {
   "cell_type": "code",
   "execution_count": null,
   "id": "c154ac4b-04bf-46a3-97aa-f3d7b14fe6d9",
   "metadata": {},
   "outputs": [
    {
     "name": "stdout",
     "output_type": "stream",
     "text": [
      "checkpoint directory created: ./model\n",
      "saving model version 0.0\n",
      "Successfully created and tested Model5\n"
     ]
    },
    {
     "name": "stderr",
     "output_type": "stream",
     "text": [
      "| train_loss: 4.40e-01 | eval_loss: 5.37e-01 | reg: 0.00e+00 |:  75%|▊| 45/60 [04:20<01:03,  4.20s/i"
     ]
    }
   ],
   "source": [
    "model5 = try_create_model(Model5, attributes, imgs_shape, device)\n",
    "metrics5 = fit_hybrid_dataloaders(model5, dataset, opt=\"LBFGS\", steps=60)\n",
    "plt.plot(metrics5['train_loss'])\n",
    "plt.plot(metrics5['eval_loss'])\n",
    "plt.legend(['train', 'test'])\n",
    "plt.ylabel('RMSE')\n",
    "plt.xlabel('step')\n",
    "plt.yscale('log')"
   ]
  }
 ],
 "metadata": {
  "kernelspec": {
   "display_name": "Python 3 (ipykernel)",
   "language": "python",
   "name": "python3"
  },
  "language_info": {
   "codemirror_mode": {
    "name": "ipython",
    "version": 3
   },
   "file_extension": ".py",
   "mimetype": "text/x-python",
   "name": "python",
   "nbconvert_exporter": "python",
   "pygments_lexer": "ipython3",
   "version": "3.12.7"
  }
 },
 "nbformat": 4,
 "nbformat_minor": 5
}
